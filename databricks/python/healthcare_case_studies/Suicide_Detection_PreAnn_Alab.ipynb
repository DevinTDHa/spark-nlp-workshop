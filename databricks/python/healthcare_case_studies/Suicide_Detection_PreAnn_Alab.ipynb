{
 "cells": [
  {
   "cell_type": "markdown",
   "metadata": {
    "application/vnd.databricks.v1+cell": {
     "cellMetadata": {},
     "inputWidgets": {},
     "nuid": "b7fe372d-7fae-4db6-8d1f-f6f1e69d76e3",
     "showTitle": false,
     "title": ""
    }
   },
   "source": [
    "# Annotating Data & Training Custom NER model for Suicide Risk Prediction\n",
    "\n",
    "In this tutorial, we'll see how we can easily pre-annotate data using pre-defined vocabulary / key-word matching, and upload them as pre-annotations to NLPLab.\n",
    "\n",
    "We'll be using the AnnotationLab module to create, configure, export and import projects with minimal code.\n",
    "\n",
    "Note: The Annotation Lab module is available in Spark NLP for Healthcare 4.2.2+.\n",
    "\n",
    "## Following are the main steps in this exercise:\n",
    "\n",
    "### 1. Using string matching and existing off-the-shelf vocabularies, create a simple pipeline to get rudimentary results.\n",
    "### 2. Upload the initial results to Annotation Lab, annotate, and download annotations.\n",
    "### 3. Train an NER model on the annotated data to achieve better performance."
   ]
  },
  {
   "cell_type": "markdown",
   "metadata": {
    "application/vnd.databricks.v1+cell": {
     "cellMetadata": {},
     "inputWidgets": {},
     "nuid": "789e7875-16d9-45f5-b27e-903ad3aa9895",
     "showTitle": false,
     "title": ""
    }
   },
   "source": [
    "## 0. Initial Configurations"
   ]
  },
  {
   "cell_type": "code",
   "execution_count": null,
   "metadata": {
    "application/vnd.databricks.v1+cell": {
     "cellMetadata": {},
     "inputWidgets": {},
     "nuid": "ef397e34-aca0-4fc1-a645-8b49a6fce8d0",
     "showTitle": false,
     "title": ""
    }
   },
   "outputs": [
    {
     "data": {
      "text/html": [
       "<style scoped>\n",
       "  .ansiout {\n",
       "    display: block;\n",
       "    unicode-bidi: embed;\n",
       "    white-space: pre-wrap;\n",
       "    word-wrap: break-word;\n",
       "    word-break: break-all;\n",
       "    font-family: \"Source Code Pro\", \"Menlo\", monospace;;\n",
       "    font-size: 13px;\n",
       "    color: #555;\n",
       "    margin-left: 4px;\n",
       "    line-height: 19px;\n",
       "  }\n",
       "</style>\n",
       "<div class=\"ansiout\">/databricks/python/lib/python3.8/site-packages/scipy/__init__.py:138: UserWarning: A NumPy version &gt;=1.16.5 and &lt;1.23.0 is required for this version of SciPy (detected version 1.24.0)\n",
       "  warnings.warn(f&#34;A NumPy version &gt;={np_minversion} and &lt;{np_maxversion} is required for this version of &#34;\n",
       "sparknlp.version :  4.2.4\n",
       "sparknlp_jsl.version :  4.2.3a3\n",
       "Out[1]: </div>"
      ]
     },
     "metadata": {
      "application/vnd.databricks.v1+output": {
       "addedWidgets": {},
       "arguments": {},
       "data": "<div class=\"ansiout\">/databricks/python/lib/python3.8/site-packages/scipy/__init__.py:138: UserWarning: A NumPy version &gt;=1.16.5 and &lt;1.23.0 is required for this version of SciPy (detected version 1.24.0)\n  warnings.warn(f&#34;A NumPy version &gt;={np_minversion} and &lt;{np_maxversion} is required for this version of &#34;\nsparknlp.version :  4.2.4\nsparknlp_jsl.version :  4.2.3a3\nOut[1]: </div>",
       "datasetInfos": [],
       "metadata": {},
       "removedWidgets": [],
       "type": "html"
      }
     },
     "output_type": "display_data"
    },
    {
     "data": {
      "text/html": [
       "\n",
       "            <div>\n",
       "                <p><b>SparkSession - hive</b></p>\n",
       "                \n",
       "        <div>\n",
       "            <p><b>SparkContext</b></p>\n",
       "\n",
       "            <p><a href=\"/?o=7956323724731612#setting/sparkui/1115-083859-4uweyaxm/driver-6397573643556970340\">Spark UI</a></p>\n",
       "\n",
       "            <dl>\n",
       "              <dt>Version</dt>\n",
       "                <dd><code>v3.1.2</code></dd>\n",
       "              <dt>Master</dt>\n",
       "                <dd><code>spark://10.139.64.5:7077</code></dd>\n",
       "              <dt>AppName</dt>\n",
       "                <dd><code>Databricks Shell</code></dd>\n",
       "            </dl>\n",
       "        </div>\n",
       "        \n",
       "            </div>\n",
       "        "
      ]
     },
     "metadata": {
      "application/vnd.databricks.v1+output": {
       "addedWidgets": {},
       "arguments": {},
       "data": "\n            <div>\n                <p><b>SparkSession - hive</b></p>\n                \n        <div>\n            <p><b>SparkContext</b></p>\n\n            <p><a href=\"/?o=7956323724731612#setting/sparkui/1115-083859-4uweyaxm/driver-6397573643556970340\">Spark UI</a></p>\n\n            <dl>\n              <dt>Version</dt>\n                <dd><code>v3.1.2</code></dd>\n              <dt>Master</dt>\n                <dd><code>spark://10.139.64.5:7077</code></dd>\n              <dt>AppName</dt>\n                <dd><code>Databricks Shell</code></dd>\n            </dl>\n        </div>\n        \n            </div>\n        ",
       "datasetInfos": [],
       "metadata": {},
       "removedWidgets": [],
       "textData": null,
       "type": "htmlSandbox"
      }
     },
     "output_type": "display_data"
    }
   ],
   "source": [
    "import pandas as pd\n",
    "import os\n",
    "\n",
    "import sparknlp\n",
    "import sparknlp_jsl\n",
    "from sparknlp.base import *\n",
    "from sparknlp.annotator import *\n",
    "from sparknlp_jsl.base import *\n",
    "from sparknlp_jsl.annotator import *\n",
    "\n",
    "from pyspark.ml import Pipeline, PipelineModel\n",
    "from sparknlp.training import CoNLL\n",
    "\n",
    "print('sparknlp.version : ',sparknlp.version())\n",
    "print('sparknlp_jsl.version : ',sparknlp_jsl.version())\n",
    "\n",
    "spark"
   ]
  },
  {
   "cell_type": "markdown",
   "metadata": {
    "application/vnd.databricks.v1+cell": {
     "cellMetadata": {},
     "inputWidgets": {},
     "nuid": "783554cc-1421-4e5c-b5a1-a942c62a179c",
     "showTitle": false,
     "title": ""
    }
   },
   "source": [
    "For this exercise, we define two different layers of solutions:\n",
    "1. Bronze: Text Matcher based rudimentary results - that will be uploaded in annotation lab and refined.\n",
    "2. Silver: After annotating the documents properly in Annotation Lab, train an NER model, get results"
   ]
  },
  {
   "cell_type": "code",
   "execution_count": null,
   "metadata": {
    "application/vnd.databricks.v1+cell": {
     "cellMetadata": {},
     "inputWidgets": {},
     "nuid": "a1515569-f81d-4a65-acc4-83c2d167237e",
     "showTitle": false,
     "title": ""
    }
   },
   "outputs": [
    {
     "data": {
      "text/html": [
       "<style scoped>\n",
       "  .ansiout {\n",
       "    display: block;\n",
       "    unicode-bidi: embed;\n",
       "    white-space: pre-wrap;\n",
       "    word-wrap: break-word;\n",
       "    word-break: break-all;\n",
       "    font-family: \"Source Code Pro\", \"Menlo\", monospace;;\n",
       "    font-size: 13px;\n",
       "    color: #555;\n",
       "    margin-left: 4px;\n",
       "    line-height: 19px;\n",
       "  }\n",
       "</style>\n",
       "<div class=\"ansiout\"></div>"
      ]
     },
     "metadata": {
      "application/vnd.databricks.v1+output": {
       "addedWidgets": {},
       "arguments": {},
       "data": "<div class=\"ansiout\"></div>",
       "datasetInfos": [],
       "metadata": {},
       "removedWidgets": [],
       "type": "html"
      }
     },
     "output_type": "display_data"
    }
   ],
   "source": [
    "\n",
    "delta_bronze_path='/FileStore/HLS/nlp/delta/bronze/'\n",
    "\n",
    "dbutils.fs.mkdirs(delta_bronze_path)\n",
    "\n",
    "os.environ['delta_bronze_path']=f'/dbfs{delta_bronze_path}'\n",
    "\n",
    "delta_silver_path='/FileStore/HLS/nlp/delta/silver/'\n",
    "\n",
    "dbutils.fs.mkdirs(delta_silver_path)\n",
    "\n",
    "os.environ['delta_silver_path']=f'/dbfs{delta_silver_path}'\n"
   ]
  },
  {
   "cell_type": "markdown",
   "metadata": {
    "application/vnd.databricks.v1+cell": {
     "cellMetadata": {},
     "inputWidgets": {},
     "nuid": "166c6483-f827-4c53-9624-0948f98125f2",
     "showTitle": false,
     "title": ""
    }
   },
   "source": [
    "### 1. Using string matching and existing off-the-shelf vocabularies, create a simple pipeline to get rudimentary results.\n",
    "\n",
    "First, we'll rely on existing vocabularies comprising of key words e.g: \"kill my self\", \"want to die\" etc to get preliminary results.\n",
    "\n",
    "The vocbulary in this exercise is obtained from https://www.ncbi.nlm.nih.gov/pmc/articles/PMC4690390/"
   ]
  },
  {
   "cell_type": "markdown",
   "metadata": {
    "application/vnd.databricks.v1+cell": {
     "cellMetadata": {},
     "inputWidgets": {},
     "nuid": "7730b70d-5a62-41e6-b6b6-619e3d119b8e",
     "showTitle": false,
     "title": ""
    }
   },
   "source": [
    "**About the dataset:** The dataset is a collection of reddit posts, taken from the work done by: \n",
    "- http://users.umiacs.umd.edu/~resnik/umd_reddit_suicidality_dataset.html\n",
    "- https://github.com/hesamuel/goodbye_world"
   ]
  },
  {
   "cell_type": "markdown",
   "metadata": {
    "application/vnd.databricks.v1+cell": {
     "cellMetadata": {},
     "inputWidgets": {},
     "nuid": "3956fa71-6e6f-4542-bcf0-bb5e7e0f0a03",
     "showTitle": false,
     "title": ""
    }
   },
   "source": [
    "#### 1.1. Download resources and explore existing vocabularies"
   ]
  },
  {
   "cell_type": "code",
   "execution_count": null,
   "metadata": {
    "application/vnd.databricks.v1+cell": {
     "cellMetadata": {},
     "inputWidgets": {},
     "nuid": "581208e8-c0ff-4eb6-9825-4be7e5be337a",
     "showTitle": false,
     "title": ""
    }
   },
   "outputs": [
    {
     "data": {
      "text/html": [
       "<style scoped>\n",
       "  .ansiout {\n",
       "    display: block;\n",
       "    unicode-bidi: embed;\n",
       "    white-space: pre-wrap;\n",
       "    word-wrap: break-word;\n",
       "    word-break: break-all;\n",
       "    font-family: \"Source Code Pro\", \"Menlo\", monospace;;\n",
       "    font-size: 13px;\n",
       "    color: #555;\n",
       "    margin-left: 4px;\n",
       "    line-height: 19px;\n",
       "  }\n",
       "</style>\n",
       "<div class=\"ansiout\">--2022-12-20 04:34:19--  https://github.com/JohnSnowLabs/spark-nlp-workshop/raw/master/databricks/python/healthcare_case_studies/data/suicide_pred_vocab_data.zip\n",
       "Resolving github.com (github.com)... 140.82.113.3\n",
       "Connecting to github.com (github.com)|140.82.113.3|:443... connected.\n",
       "HTTP request sent, awaiting response... 302 Found\n",
       "Location: https://raw.githubusercontent.com/JohnSnowLabs/spark-nlp-workshop/master/databricks/python/healthcare_case_studies/data/suicide_pred_vocab_data.zip [following]\n",
       "--2022-12-20 04:34:19--  https://raw.githubusercontent.com/JohnSnowLabs/spark-nlp-workshop/master/databricks/python/healthcare_case_studies/data/suicide_pred_vocab_data.zip\n",
       "Resolving raw.githubusercontent.com (raw.githubusercontent.com)... 185.199.109.133, 185.199.110.133, 185.199.111.133, ...\n",
       "Connecting to raw.githubusercontent.com (raw.githubusercontent.com)|185.199.109.133|:443... connected.\n",
       "HTTP request sent, awaiting response... 200 OK\n",
       "Length: 321433 (314K) [application/zip]\n",
       "Saving to: ‘suicide_pred_vocab_data.zip’\n",
       "\n",
       "     0K .......... .......... .......... .......... .......... 15% 5.12M 0s\n",
       "    50K .......... .......... .......... .......... .......... 31% 16.7M 0s\n",
       "   100K .......... .......... .......... .......... .......... 47% 16.3M 0s\n",
       "   150K .......... .......... .......... .......... .......... 63% 15.1M 0s\n",
       "   200K .......... .......... .......... .......... .......... 79% 16.8M 0s\n",
       "   250K .......... .......... .......... .......... .......... 95% 16.5M 0s\n",
       "   300K .......... ...                                        100% 13.1M=0.03s\n",
       "\n",
       "2022-12-20 04:34:19 (12.0 MB/s) - ‘suicide_pred_vocab_data.zip’ saved [321433/321433]\n",
       "\n",
       "Archive:  suicide_pred_vocab_data.zip\n",
       "  inflating: suicide_pred_vocab_data/suicide_behavior_vocab.txt  \n",
       "  inflating: suicide_pred_vocab_data/.DS_Store  \n",
       "  inflating: suicide_pred_vocab_data/suicide_psychache_vocab.txt  \n",
       "  inflating: suicide_pred_vocab_data/suicide_det_data.csv  \n",
       "  inflating: suicide_pred_vocab_data/.ipynb_checkpoints/suicide_behavior_vocab-checkpoint.txt  \n",
       "  inflating: suicide_pred_vocab_data/.ipynb_checkpoints/suicide_trauma_vocab-checkpoint.txt  \n",
       "  inflating: suicide_pred_vocab_data/suicide_trauma_vocab.txt  \n",
       "</div>"
      ]
     },
     "metadata": {
      "application/vnd.databricks.v1+output": {
       "addedWidgets": {},
       "arguments": {},
       "data": "<div class=\"ansiout\">--2022-12-20 04:34:19--  https://github.com/JohnSnowLabs/spark-nlp-workshop/raw/master/databricks/python/healthcare_case_studies/data/suicide_pred_vocab_data.zip\nResolving github.com (github.com)... 140.82.113.3\nConnecting to github.com (github.com)|140.82.113.3|:443... connected.\nHTTP request sent, awaiting response... 302 Found\nLocation: https://raw.githubusercontent.com/JohnSnowLabs/spark-nlp-workshop/master/databricks/python/healthcare_case_studies/data/suicide_pred_vocab_data.zip [following]\n--2022-12-20 04:34:19--  https://raw.githubusercontent.com/JohnSnowLabs/spark-nlp-workshop/master/databricks/python/healthcare_case_studies/data/suicide_pred_vocab_data.zip\nResolving raw.githubusercontent.com (raw.githubusercontent.com)... 185.199.109.133, 185.199.110.133, 185.199.111.133, ...\nConnecting to raw.githubusercontent.com (raw.githubusercontent.com)|185.199.109.133|:443... connected.\nHTTP request sent, awaiting response... 200 OK\nLength: 321433 (314K) [application/zip]\nSaving to: ‘suicide_pred_vocab_data.zip’\n\n     0K .......... .......... .......... .......... .......... 15% 5.12M 0s\n    50K .......... .......... .......... .......... .......... 31% 16.7M 0s\n   100K .......... .......... .......... .......... .......... 47% 16.3M 0s\n   150K .......... .......... .......... .......... .......... 63% 15.1M 0s\n   200K .......... .......... .......... .......... .......... 79% 16.8M 0s\n   250K .......... .......... .......... .......... .......... 95% 16.5M 0s\n   300K .......... ...                                        100% 13.1M=0.03s\n\n2022-12-20 04:34:19 (12.0 MB/s) - ‘suicide_pred_vocab_data.zip’ saved [321433/321433]\n\nArchive:  suicide_pred_vocab_data.zip\n  inflating: suicide_pred_vocab_data/suicide_behavior_vocab.txt  \n  inflating: suicide_pred_vocab_data/.DS_Store  \n  inflating: suicide_pred_vocab_data/suicide_psychache_vocab.txt  \n  inflating: suicide_pred_vocab_data/suicide_det_data.csv  \n  inflating: suicide_pred_vocab_data/.ipynb_checkpoints/suicide_behavior_vocab-checkpoint.txt  \n  inflating: suicide_pred_vocab_data/.ipynb_checkpoints/suicide_trauma_vocab-checkpoint.txt  \n  inflating: suicide_pred_vocab_data/suicide_trauma_vocab.txt  \n</div>",
       "datasetInfos": [],
       "metadata": {},
       "removedWidgets": [],
       "type": "html"
      }
     },
     "output_type": "display_data"
    }
   ],
   "source": [
    "%sh\n",
    "\n",
    "cd $delta_bronze_path\n",
    "\n",
    "wget -O suicide_pred_vocab_data.zip https://github.com/JohnSnowLabs/spark-nlp-workshop/raw/master/databricks/python/healthcare_case_studies/data/suicide_pred_vocab_data.zip\n",
    "\n",
    "unzip -o suicide_pred_vocab_data.zip\n"
   ]
  },
  {
   "cell_type": "code",
   "execution_count": null,
   "metadata": {
    "application/vnd.databricks.v1+cell": {
     "cellMetadata": {},
     "inputWidgets": {},
     "nuid": "749608aa-aa8c-4c0a-9cd1-e9e51b57fb99",
     "showTitle": false,
     "title": ""
    }
   },
   "outputs": [
    {
     "data": {
      "text/html": [
       "<style scoped>\n",
       "  .ansiout {\n",
       "    display: block;\n",
       "    unicode-bidi: embed;\n",
       "    white-space: pre-wrap;\n",
       "    word-wrap: break-word;\n",
       "    word-break: break-all;\n",
       "    font-family: \"Source Code Pro\", \"Menlo\", monospace;;\n",
       "    font-size: 13px;\n",
       "    color: #555;\n",
       "    margin-left: 4px;\n",
       "    line-height: 19px;\n",
       "  }\n",
       "</style>\n",
       "<div class=\"ansiout\">Out[4]: [FileInfo(path=&#39;dbfs:/FileStore/HLS/nlp/delta/bronze/suicide_pred_vocab_data/.DS_Store&#39;, name=&#39;.DS_Store&#39;, size=6148),\n",
       " FileInfo(path=&#39;dbfs:/FileStore/HLS/nlp/delta/bronze/suicide_pred_vocab_data/.ipynb_checkpoints/&#39;, name=&#39;.ipynb_checkpoints/&#39;, size=0),\n",
       " FileInfo(path=&#39;dbfs:/FileStore/HLS/nlp/delta/bronze/suicide_pred_vocab_data/suicide_behavior_vocab.txt&#39;, name=&#39;suicide_behavior_vocab.txt&#39;, size=7654),\n",
       " FileInfo(path=&#39;dbfs:/FileStore/HLS/nlp/delta/bronze/suicide_pred_vocab_data/suicide_det_data.csv&#39;, name=&#39;suicide_det_data.csv&#39;, size=884544),\n",
       " FileInfo(path=&#39;dbfs:/FileStore/HLS/nlp/delta/bronze/suicide_pred_vocab_data/suicide_psychache_vocab.txt&#39;, name=&#39;suicide_psychache_vocab.txt&#39;, size=5569),\n",
       " FileInfo(path=&#39;dbfs:/FileStore/HLS/nlp/delta/bronze/suicide_pred_vocab_data/suicide_trauma_vocab.txt&#39;, name=&#39;suicide_trauma_vocab.txt&#39;, size=5578)]</div>"
      ]
     },
     "metadata": {
      "application/vnd.databricks.v1+output": {
       "addedWidgets": {},
       "arguments": {},
       "data": "<div class=\"ansiout\">Out[4]: [FileInfo(path=&#39;dbfs:/FileStore/HLS/nlp/delta/bronze/suicide_pred_vocab_data/.DS_Store&#39;, name=&#39;.DS_Store&#39;, size=6148),\n FileInfo(path=&#39;dbfs:/FileStore/HLS/nlp/delta/bronze/suicide_pred_vocab_data/.ipynb_checkpoints/&#39;, name=&#39;.ipynb_checkpoints/&#39;, size=0),\n FileInfo(path=&#39;dbfs:/FileStore/HLS/nlp/delta/bronze/suicide_pred_vocab_data/suicide_behavior_vocab.txt&#39;, name=&#39;suicide_behavior_vocab.txt&#39;, size=7654),\n FileInfo(path=&#39;dbfs:/FileStore/HLS/nlp/delta/bronze/suicide_pred_vocab_data/suicide_det_data.csv&#39;, name=&#39;suicide_det_data.csv&#39;, size=884544),\n FileInfo(path=&#39;dbfs:/FileStore/HLS/nlp/delta/bronze/suicide_pred_vocab_data/suicide_psychache_vocab.txt&#39;, name=&#39;suicide_psychache_vocab.txt&#39;, size=5569),\n FileInfo(path=&#39;dbfs:/FileStore/HLS/nlp/delta/bronze/suicide_pred_vocab_data/suicide_trauma_vocab.txt&#39;, name=&#39;suicide_trauma_vocab.txt&#39;, size=5578)]</div>",
       "datasetInfos": [],
       "metadata": {},
       "removedWidgets": [],
       "type": "html"
      }
     },
     "output_type": "display_data"
    }
   ],
   "source": [
    "# checking for files\n",
    "\n",
    "data_vocab_path = f\"{delta_bronze_path}suicide_pred_vocab_data/\"\n",
    "\n",
    "dbutils.fs.ls(data_vocab_path)"
   ]
  },
  {
   "cell_type": "markdown",
   "metadata": {
    "application/vnd.databricks.v1+cell": {
     "cellMetadata": {},
     "inputWidgets": {},
     "nuid": "c07b4143-8a8d-479e-a51a-54df5d2ef587",
     "showTitle": false,
     "title": ""
    }
   },
   "source": [
    "Taking a look at the vocabulary list"
   ]
  },
  {
   "cell_type": "code",
   "execution_count": null,
   "metadata": {
    "application/vnd.databricks.v1+cell": {
     "cellMetadata": {},
     "inputWidgets": {},
     "nuid": "a071da2e-96dc-4e6c-8f78-0abe574b5ee7",
     "showTitle": false,
     "title": ""
    }
   },
   "outputs": [
    {
     "data": {
      "text/html": [
       "<style scoped>\n",
       "  .ansiout {\n",
       "    display: block;\n",
       "    unicode-bidi: embed;\n",
       "    white-space: pre-wrap;\n",
       "    word-wrap: break-word;\n",
       "    word-break: break-all;\n",
       "    font-family: \"Source Code Pro\", \"Menlo\", monospace;;\n",
       "    font-size: 13px;\n",
       "    color: #555;\n",
       "    margin-left: 4px;\n",
       "    line-height: 19px;\n",
       "  }\n",
       "</style>\n",
       "<div class=\"ansiout\">died\n",
       "kill\n",
       "love you\n",
       "death\n",
       "god\n",
       "quiet\n",
       "destiny\n",
       "quiet\n",
       "take medicine\n",
       "quietly\n",
       "</div>"
      ]
     },
     "metadata": {
      "application/vnd.databricks.v1+output": {
       "addedWidgets": {},
       "arguments": {},
       "data": "<div class=\"ansiout\">died\nkill\nlove you\ndeath\ngod\nquiet\ndestiny\nquiet\ntake medicine\nquietly\n</div>",
       "datasetInfos": [],
       "metadata": {},
       "removedWidgets": [],
       "type": "html"
      }
     },
     "output_type": "display_data"
    }
   ],
   "source": [
    "%sh\n",
    "\n",
    "head /dbfs/FileStore/HLS/nlp/delta/bronze/suicide_pred_vocab_data/suicide_behavior_vocab.txt"
   ]
  },
  {
   "cell_type": "markdown",
   "metadata": {
    "application/vnd.databricks.v1+cell": {
     "cellMetadata": {},
     "inputWidgets": {},
     "nuid": "0bc250ae-a46b-4f99-9596-45c639c0e38c",
     "showTitle": false,
     "title": ""
    }
   },
   "source": [
    "#### 1.2. Creating a Spark NLP pipeline using textmatchers to find entities in the data"
   ]
  },
  {
   "cell_type": "code",
   "execution_count": null,
   "metadata": {
    "application/vnd.databricks.v1+cell": {
     "cellMetadata": {},
     "inputWidgets": {},
     "nuid": "016838d9-b23f-427f-a4ad-a5854522367a",
     "showTitle": false,
     "title": ""
    }
   },
   "outputs": [
    {
     "data": {
      "text/html": [
       "<style scoped>\n",
       "  .ansiout {\n",
       "    display: block;\n",
       "    unicode-bidi: embed;\n",
       "    white-space: pre-wrap;\n",
       "    word-wrap: break-word;\n",
       "    word-break: break-all;\n",
       "    font-family: \"Source Code Pro\", \"Menlo\", monospace;;\n",
       "    font-size: 13px;\n",
       "    color: #555;\n",
       "    margin-left: 4px;\n",
       "    line-height: 19px;\n",
       "  }\n",
       "</style>\n",
       "<div class=\"ansiout\">/databricks/spark/python/pyspark/sql/pandas/conversion.py:499: FutureWarning: iteritems is deprecated and will be removed in a future version. Use .items instead.\n",
       "  arrow_data = [[(c, t) for (_, c), t in zip(pdf_slice.iteritems(), arrow_types)]\n",
       "</div>"
      ]
     },
     "metadata": {
      "application/vnd.databricks.v1+output": {
       "addedWidgets": {},
       "arguments": {},
       "data": "<div class=\"ansiout\">/databricks/spark/python/pyspark/sql/pandas/conversion.py:499: FutureWarning: iteritems is deprecated and will be removed in a future version. Use .items instead.\n  arrow_data = [[(c, t) for (_, c), t in zip(pdf_slice.iteritems(), arrow_types)]\n</div>",
       "datasetInfos": [],
       "metadata": {},
       "removedWidgets": [],
       "type": "html"
      }
     },
     "output_type": "display_data"
    }
   ],
   "source": [
    "documentAssembler = DocumentAssembler()\\\n",
    "  .setInputCol(\"text\")\\\n",
    "  .setOutputCol(\"document\")\n",
    "\n",
    "sentenceDetector = SentenceDetector()\\\n",
    "    .setInputCols([\"document\"]) \\\n",
    "    .setOutputCol(\"sentence\")\n",
    "\n",
    "tokenizer = Tokenizer()\\\n",
    "  .setInputCols(\"sentence\")\\\n",
    "  .setOutputCol(\"token\")\n",
    "\n",
    "text_matcher1 = TextMatcher().setInputCols(\"sentence\",\"token\").setOutputCol(\"textmatch_chunk1\").setEntityValue(\"SUICIDE_BEHAVIOR\")\\\n",
    "    .setEntities(data_vocab_path+\"suicide_behavior_vocab.txt\").setCaseSensitive(False).setMergeOverlapping(True)\\\n",
    "    .setBuildFromTokens(True)\n",
    "\n",
    "text_matcher2 = TextMatcher().setInputCols(\"sentence\",\"token\").setOutputCol(\"textmatch_chunk2\").setEntityValue(\"SUICIDE_PSYCHACHE\")\\\n",
    "    .setEntities(data_vocab_path+\"suicide_psychache_vocab.txt\").setCaseSensitive(False).setMergeOverlapping(True)\\\n",
    "    .setBuildFromTokens(True)\n",
    "\n",
    "text_matcher3 = TextMatcher().setInputCols(\"sentence\",\"token\").setOutputCol(\"textmatch_chunk3\").setEntityValue(\"PAST_TRAUMA\")\\\n",
    "    .setEntities(data_vocab_path+\"suicide_trauma_vocab.txt\").setCaseSensitive(False).setMergeOverlapping(True)\\\n",
    "    .setBuildFromTokens(True)\n",
    "\n",
    "chunk_merger = ChunkMergeApproach()\\\n",
    "    .setInputCols(['textmatch_chunk1', 'textmatch_chunk2', 'textmatch_chunk3'])\\\n",
    "    .setOutputCol(\"all_chunks\")\n",
    "\n",
    "pipeline =  Pipeline(\n",
    "    stages=[\n",
    "        documentAssembler,\n",
    "        sentenceDetector,\n",
    "        tokenizer,\n",
    "        text_matcher1, text_matcher2, text_matcher3,\n",
    "        chunk_merger\n",
    "    ]\n",
    ")\n",
    "\n",
    "p_model = pipeline.fit(spark.createDataFrame(pd.DataFrame({'text': ['']})))\n",
    "\n",
    "l_model = LightPipeline(p_model)"
   ]
  },
  {
   "cell_type": "code",
   "execution_count": null,
   "metadata": {
    "application/vnd.databricks.v1+cell": {
     "cellMetadata": {},
     "inputWidgets": {},
     "nuid": "595817bf-19b2-4977-ba6f-f5f0171c454f",
     "showTitle": false,
     "title": ""
    }
   },
   "outputs": [
    {
     "data": {
      "text/html": [
       "<style scoped>\n",
       "  .ansiout {\n",
       "    display: block;\n",
       "    unicode-bidi: embed;\n",
       "    white-space: pre-wrap;\n",
       "    word-wrap: break-word;\n",
       "    word-break: break-all;\n",
       "    font-family: \"Source Code Pro\", \"Menlo\", monospace;;\n",
       "    font-size: 13px;\n",
       "    color: #555;\n",
       "    margin-left: 4px;\n",
       "    line-height: 19px;\n",
       "  }\n",
       "</style>\n",
       "<div class=\"ansiout\">2667\n",
       "+--------------------+--------------------+--------------------+--------------------+\n",
       "                text|                 _c1|                 _c2|                 _c3|\n",
       "+--------------------+--------------------+--------------------+--------------------+\n",
       "I really don&#39;t wa...| but i really don...| i ruin almost ev...| i cut a lot and ...|\n",
       "the answer is non...| what&#39;s the point...| so i&#39;m not going...| what other expla...|\n",
       "to whoever read t...| (i know this sou...|                null|                null|\n",
       "+--------------------+--------------------+--------------------+--------------------+\n",
       "only showing top 3 rows\n",
       "\n",
       "</div>"
      ]
     },
     "metadata": {
      "application/vnd.databricks.v1+output": {
       "addedWidgets": {},
       "arguments": {},
       "data": "<div class=\"ansiout\">2667\n+--------------------+--------------------+--------------------+--------------------+\n|                text|                 _c1|                 _c2|                 _c3|\n+--------------------+--------------------+--------------------+--------------------+\n|I really don&#39;t wa...| but i really don...| i ruin almost ev...| i cut a lot and ...|\n|the answer is non...| what&#39;s the point...| so i&#39;m not going...| what other expla...|\n|to whoever read t...| (i know this sou...|                null|                null|\n+--------------------+--------------------+--------------------+--------------------+\nonly showing top 3 rows\n\n</div>",
       "datasetInfos": [],
       "metadata": {},
       "removedWidgets": [],
       "type": "html"
      }
     },
     "output_type": "display_data"
    }
   ],
   "source": [
    "# Load the target data.\n",
    "\n",
    "data = spark.read.csv(data_vocab_path+'suicide_det_data.csv').withColumnRenamed('_c0', 'text')\n",
    "print (data.count())\n",
    "data.show(3)\n"
   ]
  },
  {
   "cell_type": "code",
   "execution_count": null,
   "metadata": {
    "application/vnd.databricks.v1+cell": {
     "cellMetadata": {},
     "inputWidgets": {},
     "nuid": "50dd3245-7187-47c6-bcf3-fd1fcf02d361",
     "showTitle": false,
     "title": ""
    }
   },
   "outputs": [
    {
     "data": {
      "text/html": [
       "<style scoped>\n",
       "  .ansiout {\n",
       "    display: block;\n",
       "    unicode-bidi: embed;\n",
       "    white-space: pre-wrap;\n",
       "    word-wrap: break-word;\n",
       "    word-break: break-all;\n",
       "    font-family: \"Source Code Pro\", \"Menlo\", monospace;;\n",
       "    font-size: 13px;\n",
       "    color: #555;\n",
       "    margin-left: 4px;\n",
       "    line-height: 19px;\n",
       "  }\n",
       "</style>\n",
       "<div class=\"ansiout\"></div>"
      ]
     },
     "metadata": {
      "application/vnd.databricks.v1+output": {
       "addedWidgets": {},
       "arguments": {},
       "data": "<div class=\"ansiout\"></div>",
       "datasetInfos": [],
       "metadata": {},
       "removedWidgets": [],
       "type": "html"
      }
     },
     "output_type": "display_data"
    }
   ],
   "source": [
    "results = p_model.transform(data).collect()"
   ]
  },
  {
   "cell_type": "markdown",
   "metadata": {
    "application/vnd.databricks.v1+cell": {
     "cellMetadata": {},
     "inputWidgets": {},
     "nuid": "5b68235f-ffd0-405a-9105-085970836af1",
     "showTitle": false,
     "title": ""
    }
   },
   "source": [
    "#### 1.4. Analyzing Results\n",
    "\n",
    "Even the basic textmatching approach works in general, but has the following challenges:\n",
    "1. Lack of context - leading to too many false positives.\n",
    "2. Less meaningful / incomplete chunks."
   ]
  },
  {
   "cell_type": "code",
   "execution_count": null,
   "metadata": {
    "application/vnd.databricks.v1+cell": {
     "cellMetadata": {},
     "inputWidgets": {},
     "nuid": "7647be61-7216-4ad8-8a10-a69b76e6440c",
     "showTitle": false,
     "title": ""
    }
   },
   "outputs": [
    {
     "data": {
      "text/html": [
       "\n",
       "<style>\n",
       "    @import url('https://fonts.googleapis.com/css2?family=Montserrat:wght@300;400;500;600;700&display=swap');\n",
       "    @import url('https://fonts.googleapis.com/css2?family=Vistol Regular:wght@300;400;500;600;700&display=swap');\n",
       "    \n",
       "    .spark-nlp-display-scroll-entities {\n",
       "        border: 1px solid #E7EDF0;\n",
       "        border-radius: 3px;\n",
       "        text-align: justify;\n",
       "        \n",
       "    }\n",
       "    .spark-nlp-display-scroll-entities span {  \n",
       "        font-size: 14px;\n",
       "        line-height: 24px;\n",
       "        color: #536B76;\n",
       "        font-family: 'Montserrat', sans-serif !important;\n",
       "    }\n",
       "    \n",
       "    .spark-nlp-display-entity-wrapper{\n",
       "    \n",
       "        display: inline-grid;\n",
       "        text-align: center;\n",
       "        border-radius: 4px;\n",
       "        margin: 0 2px 5px 2px;\n",
       "        padding: 1px\n",
       "    }\n",
       "    .spark-nlp-display-entity-name{\n",
       "        font-size: 14px;\n",
       "        line-height: 24px;\n",
       "        font-family: 'Montserrat', sans-serif !important;\n",
       "        \n",
       "        background: #f1f2f3;\n",
       "        border-width: medium;\n",
       "        text-align: center;\n",
       "        \n",
       "        font-weight: 400;\n",
       "        \n",
       "        border-radius: 5px;\n",
       "        padding: 2px 5px;\n",
       "        display: block;\n",
       "        margin: 3px 2px;\n",
       "    \n",
       "    }\n",
       "    .spark-nlp-display-entity-type{\n",
       "        font-size: 14px;\n",
       "        line-height: 24px;\n",
       "        color: #ffffff;\n",
       "        font-family: 'Montserrat', sans-serif !important;\n",
       "        \n",
       "        text-transform: uppercase;\n",
       "        \n",
       "        font-weight: 500;\n",
       "\n",
       "        display: block;\n",
       "        padding: 3px 5px;\n",
       "    }\n",
       "    \n",
       "    .spark-nlp-display-entity-resolution{\n",
       "        font-size: 14px;\n",
       "        line-height: 24px;\n",
       "        color: #ffffff;\n",
       "        font-family: 'Vistol Regular', sans-serif !important;\n",
       "        \n",
       "        text-transform: uppercase;\n",
       "        \n",
       "        font-weight: 500;\n",
       "\n",
       "        display: block;\n",
       "        padding: 3px 5px;\n",
       "    }\n",
       "    \n",
       "    .spark-nlp-display-others{\n",
       "        font-size: 14px;\n",
       "        line-height: 24px;\n",
       "        font-family: 'Montserrat', sans-serif !important;\n",
       "        \n",
       "        font-weight: 400;\n",
       "    }\n",
       "\n",
       "</style>\n",
       " <span class=\"spark-nlp-display-others\" style=\"background-color: white\">How to </span><span class=\"spark-nlp-display-entity-wrapper\" style=\"background-color: #9DA745\"><span class=\"spark-nlp-display-entity-name\">kill myself </span><span class=\"spark-nlp-display-entity-type\">SUICIDE_BEHAVIOR</span></span><span class=\"spark-nlp-display-others\" style=\"background-color: white\"> - i'm looking for an easy </span><span class=\"spark-nlp-display-entity-wrapper\" style=\"background-color: #208278\"><span class=\"spark-nlp-display-entity-name\">way out </span><span class=\"spark-nlp-display-entity-type\">PAST_TRAUMA</span></span><span class=\"spark-nlp-display-others\" style=\"background-color: white\">. i'm a coward</span></div>"
      ]
     },
     "metadata": {
      "application/vnd.databricks.v1+output": {
       "addedWidgets": {},
       "arguments": {},
       "data": "\n<style>\n    @import url('https://fonts.googleapis.com/css2?family=Montserrat:wght@300;400;500;600;700&display=swap');\n    @import url('https://fonts.googleapis.com/css2?family=Vistol Regular:wght@300;400;500;600;700&display=swap');\n    \n    .spark-nlp-display-scroll-entities {\n        border: 1px solid #E7EDF0;\n        border-radius: 3px;\n        text-align: justify;\n        \n    }\n    .spark-nlp-display-scroll-entities span {  \n        font-size: 14px;\n        line-height: 24px;\n        color: #536B76;\n        font-family: 'Montserrat', sans-serif !important;\n    }\n    \n    .spark-nlp-display-entity-wrapper{\n    \n        display: inline-grid;\n        text-align: center;\n        border-radius: 4px;\n        margin: 0 2px 5px 2px;\n        padding: 1px\n    }\n    .spark-nlp-display-entity-name{\n        font-size: 14px;\n        line-height: 24px;\n        font-family: 'Montserrat', sans-serif !important;\n        \n        background: #f1f2f3;\n        border-width: medium;\n        text-align: center;\n        \n        font-weight: 400;\n        \n        border-radius: 5px;\n        padding: 2px 5px;\n        display: block;\n        margin: 3px 2px;\n    \n    }\n    .spark-nlp-display-entity-type{\n        font-size: 14px;\n        line-height: 24px;\n        color: #ffffff;\n        font-family: 'Montserrat', sans-serif !important;\n        \n        text-transform: uppercase;\n        \n        font-weight: 500;\n\n        display: block;\n        padding: 3px 5px;\n    }\n    \n    .spark-nlp-display-entity-resolution{\n        font-size: 14px;\n        line-height: 24px;\n        color: #ffffff;\n        font-family: 'Vistol Regular', sans-serif !important;\n        \n        text-transform: uppercase;\n        \n        font-weight: 500;\n\n        display: block;\n        padding: 3px 5px;\n    }\n    \n    .spark-nlp-display-others{\n        font-size: 14px;\n        line-height: 24px;\n        font-family: 'Montserrat', sans-serif !important;\n        \n        font-weight: 400;\n    }\n\n</style>\n <span class=\"spark-nlp-display-others\" style=\"background-color: white\">How to </span><span class=\"spark-nlp-display-entity-wrapper\" style=\"background-color: #9DA745\"><span class=\"spark-nlp-display-entity-name\">kill myself </span><span class=\"spark-nlp-display-entity-type\">SUICIDE_BEHAVIOR</span></span><span class=\"spark-nlp-display-others\" style=\"background-color: white\"> - i'm looking for an easy </span><span class=\"spark-nlp-display-entity-wrapper\" style=\"background-color: #208278\"><span class=\"spark-nlp-display-entity-name\">way out </span><span class=\"spark-nlp-display-entity-type\">PAST_TRAUMA</span></span><span class=\"spark-nlp-display-others\" style=\"background-color: white\">. i'm a coward</span></div>",
       "datasetInfos": [],
       "metadata": {},
       "removedWidgets": [],
       "textData": null,
       "type": "htmlSandbox"
      }
     },
     "output_type": "display_data"
    }
   ],
   "source": [
    "# random check\n",
    "from sparknlp_display import NerVisualizer\n",
    "\n",
    "displayHTML(NerVisualizer().display(results[500], 'all_chunks', return_html=True))"
   ]
  },
  {
   "cell_type": "code",
   "execution_count": null,
   "metadata": {
    "application/vnd.databricks.v1+cell": {
     "cellMetadata": {},
     "inputWidgets": {},
     "nuid": "bcccd4e7-2c8d-4d98-a85c-ec84d1342092",
     "showTitle": false,
     "title": ""
    }
   },
   "outputs": [
    {
     "data": {
      "text/html": [
       "\n",
       "<style>\n",
       "    @import url('https://fonts.googleapis.com/css2?family=Montserrat:wght@300;400;500;600;700&display=swap');\n",
       "    @import url('https://fonts.googleapis.com/css2?family=Vistol Regular:wght@300;400;500;600;700&display=swap');\n",
       "    \n",
       "    .spark-nlp-display-scroll-entities {\n",
       "        border: 1px solid #E7EDF0;\n",
       "        border-radius: 3px;\n",
       "        text-align: justify;\n",
       "        \n",
       "    }\n",
       "    .spark-nlp-display-scroll-entities span {  \n",
       "        font-size: 14px;\n",
       "        line-height: 24px;\n",
       "        color: #536B76;\n",
       "        font-family: 'Montserrat', sans-serif !important;\n",
       "    }\n",
       "    \n",
       "    .spark-nlp-display-entity-wrapper{\n",
       "    \n",
       "        display: inline-grid;\n",
       "        text-align: center;\n",
       "        border-radius: 4px;\n",
       "        margin: 0 2px 5px 2px;\n",
       "        padding: 1px\n",
       "    }\n",
       "    .spark-nlp-display-entity-name{\n",
       "        font-size: 14px;\n",
       "        line-height: 24px;\n",
       "        font-family: 'Montserrat', sans-serif !important;\n",
       "        \n",
       "        background: #f1f2f3;\n",
       "        border-width: medium;\n",
       "        text-align: center;\n",
       "        \n",
       "        font-weight: 400;\n",
       "        \n",
       "        border-radius: 5px;\n",
       "        padding: 2px 5px;\n",
       "        display: block;\n",
       "        margin: 3px 2px;\n",
       "    \n",
       "    }\n",
       "    .spark-nlp-display-entity-type{\n",
       "        font-size: 14px;\n",
       "        line-height: 24px;\n",
       "        color: #ffffff;\n",
       "        font-family: 'Montserrat', sans-serif !important;\n",
       "        \n",
       "        text-transform: uppercase;\n",
       "        \n",
       "        font-weight: 500;\n",
       "\n",
       "        display: block;\n",
       "        padding: 3px 5px;\n",
       "    }\n",
       "    \n",
       "    .spark-nlp-display-entity-resolution{\n",
       "        font-size: 14px;\n",
       "        line-height: 24px;\n",
       "        color: #ffffff;\n",
       "        font-family: 'Vistol Regular', sans-serif !important;\n",
       "        \n",
       "        text-transform: uppercase;\n",
       "        \n",
       "        font-weight: 500;\n",
       "\n",
       "        display: block;\n",
       "        padding: 3px 5px;\n",
       "    }\n",
       "    \n",
       "    .spark-nlp-display-others{\n",
       "        font-size: 14px;\n",
       "        line-height: 24px;\n",
       "        font-family: 'Montserrat', sans-serif !important;\n",
       "        \n",
       "        font-weight: 400;\n",
       "    }\n",
       "\n",
       "</style>\n",
       " <span class=\"spark-nlp-display-others\" style=\"background-color: white\">My ex </span><span class=\"spark-nlp-display-entity-wrapper\" style=\"background-color: #4C4CB9\"><span class=\"spark-nlp-display-entity-name\">attempted suicide </span><span class=\"spark-nlp-display-entity-type\">SUICIDE_BEHAVIOR</span></span><span class=\"spark-nlp-display-others\" style=\"background-color: white\"> - she got way too attached and when i ghosted her i wanted to </span><span class=\"spark-nlp-display-entity-wrapper\" style=\"background-color: #3724C0\"><span class=\"spark-nlp-display-entity-name\">hate </span><span class=\"spark-nlp-display-entity-type\">PAST_TRAUMA</span></span><span class=\"spark-nlp-display-others\" style=\"background-color: white\"> her , but i couldn’t </span><span class=\"spark-nlp-display-entity-wrapper\" style=\"background-color: #3724C0\"><span class=\"spark-nlp-display-entity-name\">after </span><span class=\"spark-nlp-display-entity-type\">PAST_TRAUMA</span></span><span class=\"spark-nlp-display-others\" style=\"background-color: white\"> her attempt . so i hated myself .</span></div>"
      ]
     },
     "metadata": {
      "application/vnd.databricks.v1+output": {
       "addedWidgets": {},
       "arguments": {},
       "data": "\n<style>\n    @import url('https://fonts.googleapis.com/css2?family=Montserrat:wght@300;400;500;600;700&display=swap');\n    @import url('https://fonts.googleapis.com/css2?family=Vistol Regular:wght@300;400;500;600;700&display=swap');\n    \n    .spark-nlp-display-scroll-entities {\n        border: 1px solid #E7EDF0;\n        border-radius: 3px;\n        text-align: justify;\n        \n    }\n    .spark-nlp-display-scroll-entities span {  \n        font-size: 14px;\n        line-height: 24px;\n        color: #536B76;\n        font-family: 'Montserrat', sans-serif !important;\n    }\n    \n    .spark-nlp-display-entity-wrapper{\n    \n        display: inline-grid;\n        text-align: center;\n        border-radius: 4px;\n        margin: 0 2px 5px 2px;\n        padding: 1px\n    }\n    .spark-nlp-display-entity-name{\n        font-size: 14px;\n        line-height: 24px;\n        font-family: 'Montserrat', sans-serif !important;\n        \n        background: #f1f2f3;\n        border-width: medium;\n        text-align: center;\n        \n        font-weight: 400;\n        \n        border-radius: 5px;\n        padding: 2px 5px;\n        display: block;\n        margin: 3px 2px;\n    \n    }\n    .spark-nlp-display-entity-type{\n        font-size: 14px;\n        line-height: 24px;\n        color: #ffffff;\n        font-family: 'Montserrat', sans-serif !important;\n        \n        text-transform: uppercase;\n        \n        font-weight: 500;\n\n        display: block;\n        padding: 3px 5px;\n    }\n    \n    .spark-nlp-display-entity-resolution{\n        font-size: 14px;\n        line-height: 24px;\n        color: #ffffff;\n        font-family: 'Vistol Regular', sans-serif !important;\n        \n        text-transform: uppercase;\n        \n        font-weight: 500;\n\n        display: block;\n        padding: 3px 5px;\n    }\n    \n    .spark-nlp-display-others{\n        font-size: 14px;\n        line-height: 24px;\n        font-family: 'Montserrat', sans-serif !important;\n        \n        font-weight: 400;\n    }\n\n</style>\n <span class=\"spark-nlp-display-others\" style=\"background-color: white\">My ex </span><span class=\"spark-nlp-display-entity-wrapper\" style=\"background-color: #4C4CB9\"><span class=\"spark-nlp-display-entity-name\">attempted suicide </span><span class=\"spark-nlp-display-entity-type\">SUICIDE_BEHAVIOR</span></span><span class=\"spark-nlp-display-others\" style=\"background-color: white\"> - she got way too attached and when i ghosted her i wanted to </span><span class=\"spark-nlp-display-entity-wrapper\" style=\"background-color: #3724C0\"><span class=\"spark-nlp-display-entity-name\">hate </span><span class=\"spark-nlp-display-entity-type\">PAST_TRAUMA</span></span><span class=\"spark-nlp-display-others\" style=\"background-color: white\"> her , but i couldn’t </span><span class=\"spark-nlp-display-entity-wrapper\" style=\"background-color: #3724C0\"><span class=\"spark-nlp-display-entity-name\">after </span><span class=\"spark-nlp-display-entity-type\">PAST_TRAUMA</span></span><span class=\"spark-nlp-display-others\" style=\"background-color: white\"> her attempt . so i hated myself .</span></div>",
       "datasetInfos": [],
       "metadata": {},
       "removedWidgets": [],
       "textData": null,
       "type": "htmlSandbox"
      }
     },
     "output_type": "display_data"
    }
   ],
   "source": [
    "# Checking on a piece of text\n",
    "text = \"\"\"My ex attempted suicide - she got way too attached and when i ghosted her i wanted to hate her , but i couldn’t after her attempt . so i hated myself .\"\"\"\n",
    "\n",
    "results_single = l_model.fullAnnotate(text)[0]\n",
    "\n",
    "from sparknlp_display import NerVisualizer\n",
    "\n",
    "displayHTML(NerVisualizer().display(results_single, 'all_chunks', return_html=True))"
   ]
  },
  {
   "cell_type": "markdown",
   "metadata": {
    "application/vnd.databricks.v1+cell": {
     "cellMetadata": {},
     "inputWidgets": {},
     "nuid": "0752ceaf-c766-4214-8052-888d123a3f75",
     "showTitle": false,
     "title": ""
    }
   },
   "source": [
    "### 2. Now, we can use these results as pre-annotations and uploade on the Annotation Lab. Pre-annotations help reduce manual annotation time as the annotator does not need to annotate everything, but rather make corrections.\n",
    "\n",
    "\n",
    "\n",
    "For this exercise, we are using John Snow Lab's Annotation Lab tool.\n",
    "\n",
    "The Annotation Lab is a stand-alone web interface designed to be used and installed inside any organization's environment to protect data privacy. It can be easily installed on a single VM.\n",
    "\n",
    "More details and instructions can be found here: https://nlp.johnsnowlabs.com/docs/en/alab/install#aws-marketplace. \n",
    "\n",
    "While the tasks and pre-annotations can be uploaded directly via web interface as well, we are leveraging the API module for convenience."
   ]
  },
  {
   "cell_type": "markdown",
   "metadata": {
    "application/vnd.databricks.v1+cell": {
     "cellMetadata": {},
     "inputWidgets": {},
     "nuid": "5f7922d5-5ad5-4875-8039-6c4eb57b88bb",
     "showTitle": false,
     "title": ""
    }
   },
   "source": [
    "#### 2.1. Generate Pre-annotations using the Alab Module."
   ]
  },
  {
   "cell_type": "markdown",
   "metadata": {
    "application/vnd.databricks.v1+cell": {
     "cellMetadata": {},
     "inputWidgets": {},
     "nuid": "cceb8fa8-49c7-4ff7-a7c7-7a0cf705845a",
     "showTitle": false,
     "title": ""
    }
   },
   "source": [
    "Initialize Alab module"
   ]
  },
  {
   "cell_type": "code",
   "execution_count": null,
   "metadata": {
    "application/vnd.databricks.v1+cell": {
     "cellMetadata": {},
     "inputWidgets": {},
     "nuid": "523783e3-6eae-4b66-bcbb-c4dac62f029b",
     "showTitle": false,
     "title": ""
    }
   },
   "outputs": [
    {
     "data": {
      "text/html": [
       "<style scoped>\n",
       "  .ansiout {\n",
       "    display: block;\n",
       "    unicode-bidi: embed;\n",
       "    white-space: pre-wrap;\n",
       "    word-wrap: break-word;\n",
       "    word-break: break-all;\n",
       "    font-family: \"Source Code Pro\", \"Menlo\", monospace;;\n",
       "    font-size: 13px;\n",
       "    color: #555;\n",
       "    margin-left: 4px;\n",
       "    line-height: 19px;\n",
       "  }\n",
       "</style>\n",
       "<div class=\"ansiout\"></div>"
      ]
     },
     "metadata": {
      "application/vnd.databricks.v1+output": {
       "addedWidgets": {},
       "arguments": {},
       "data": "<div class=\"ansiout\"></div>",
       "datasetInfos": [],
       "metadata": {},
       "removedWidgets": [],
       "type": "html"
      }
     },
     "output_type": "display_data"
    }
   ],
   "source": [
    "# annotation lab module\n",
    "from sparknlp_jsl.alab import AnnotationLab\n",
    "\n",
    "alab = AnnotationLab()"
   ]
  },
  {
   "cell_type": "code",
   "execution_count": null,
   "metadata": {
    "application/vnd.databricks.v1+cell": {
     "cellMetadata": {},
     "inputWidgets": {},
     "nuid": "5cfc5e7f-af63-4052-82b6-19d0a0c16741",
     "showTitle": false,
     "title": ""
    }
   },
   "outputs": [
    {
     "data": {
      "text/html": [
       "<style scoped>\n",
       "  .ansiout {\n",
       "    display: block;\n",
       "    unicode-bidi: embed;\n",
       "    white-space: pre-wrap;\n",
       "    word-wrap: break-word;\n",
       "    word-break: break-all;\n",
       "    font-family: \"Source Code Pro\", \"Menlo\", monospace;;\n",
       "    font-size: 13px;\n",
       "    color: #555;\n",
       "    margin-left: 4px;\n",
       "    line-height: 19px;\n",
       "  }\n",
       "</style>\n",
       "<div class=\"ansiout\">Processing 2667 Annotations.\n",
       "Out[14]: [{&#39;predictions&#39;: [{&#39;created_username&#39;: &#39;model&#39;,\n",
       "    &#39;result&#39;: [{&#39;from_name&#39;: &#39;label&#39;,\n",
       "      &#39;id&#39;: &#39;cE3y2gSYJF&#39;,\n",
       "      &#39;source&#39;: &#39;$text&#39;,\n",
       "      &#39;to_name&#39;: &#39;text&#39;,\n",
       "      &#39;type&#39;: &#39;labels&#39;,\n",
       "      &#39;value&#39;: {&#39;end&#39;: 27,\n",
       "       &#39;labels&#39;: [&#39;SUICIDE_BEHAVIOR&#39;],\n",
       "       &#39;start&#39;: 9,\n",
       "       &#39;text&#39;: &#34;don&#39;t want to live&#34;}},\n",
       "     {&#39;from_name&#39;: &#39;label&#39;,\n",
       "      &#39;id&#39;: &#39;h0i6MEicm7&#39;,\n",
       "      &#39;source&#39;: &#39;$text&#39;,\n",
       "      &#39;to_name&#39;: &#39;text&#39;,\n",
       "      &#39;type&#39;: &#39;labels&#39;,\n",
       "      &#39;value&#39;: {&#39;end&#39;: 111,\n",
       "       &#39;labels&#39;: [&#39;SUICIDE_BEHAVIOR&#39;],\n",
       "       &#39;start&#39;: 93,\n",
       "       &#39;text&#39;: &#34;don&#39;t want to live&#34;}},\n",
       "     {&#39;from_name&#39;: &#39;label&#39;,\n",
       "      &#39;id&#39;: &#39;MPoevO2Ic6&#39;,\n",
       "      &#39;source&#39;: &#39;$text&#39;,\n",
       "      &#39;to_name&#39;: &#39;text&#39;,\n",
       "      &#39;type&#39;: &#39;labels&#39;,\n",
       "      &#39;value&#39;: {&#39;end&#39;: 151,\n",
       "       &#39;labels&#39;: [&#39;PAST_TRAUMA&#39;],\n",
       "       &#39;start&#39;: 148,\n",
       "       &#39;text&#39;: &#39;why&#39;}},\n",
       "     {&#39;from_name&#39;: &#39;label&#39;,\n",
       "      &#39;id&#39;: &#39;rGdXp3NGtU&#39;,\n",
       "      &#39;source&#39;: &#39;$text&#39;,\n",
       "      &#39;to_name&#39;: &#39;text&#39;,\n",
       "      &#39;type&#39;: &#39;labels&#39;,\n",
       "      &#39;value&#39;: {&#39;end&#39;: 170,\n",
       "       &#39;labels&#39;: [&#39;PAST_TRAUMA&#39;],\n",
       "       &#39;start&#39;: 165,\n",
       "       &#39;text&#39;: &#34;can&#39;t&#34;}},\n",
       "     {&#39;from_name&#39;: &#39;label&#39;,\n",
       "      &#39;id&#39;: &#39;sNBIuG9yCB&#39;,\n",
       "      &#39;source&#39;: &#39;$text&#39;,\n",
       "      &#39;to_name&#39;: &#39;text&#39;,\n",
       "      &#39;type&#39;: &#39;labels&#39;,\n",
       "      &#39;value&#39;: {&#39;end&#39;: 200,\n",
       "       &#39;labels&#39;: [&#39;SUICIDE_BEHAVIOR&#39;],\n",
       "       &#39;start&#39;: 196,\n",
       "       &#39;text&#39;: &#39;life&#39;}},\n",
       "     {&#39;from_name&#39;: &#39;label&#39;,\n",
       "      &#39;id&#39;: &#39;a1k1NijDlG&#39;,\n",
       "      &#39;source&#39;: &#39;$text&#39;,\n",
       "      &#39;to_name&#39;: &#39;text&#39;,\n",
       "      &#39;type&#39;: &#39;labels&#39;,\n",
       "      &#39;value&#39;: {&#39;end&#39;: 257,\n",
       "       &#39;labels&#39;: [&#39;SUICIDE_BEHAVIOR&#39;],\n",
       "       &#39;start&#39;: 254,\n",
       "       &#39;text&#39;: &#39;cut&#39;}},\n",
       "     {&#39;from_name&#39;: &#39;label&#39;,\n",
       "      &#39;id&#39;: &#39;HOfqqf4Qz9&#39;,\n",
       "      &#39;source&#39;: &#39;$text&#39;,\n",
       "      &#39;to_name&#39;: &#39;text&#39;,\n",
       "      &#39;type&#39;: &#39;labels&#39;,\n",
       "      &#39;value&#39;: {&#39;end&#39;: 298,\n",
       "       &#39;labels&#39;: [&#39;SUICIDE_BEHAVIOR&#39;],\n",
       "       &#39;start&#39;: 294,\n",
       "       &#39;text&#39;: &#39;will&#39;}},\n",
       "     {&#39;from_name&#39;: &#39;label&#39;,\n",
       "      &#39;id&#39;: &#39;sApljsZO5K&#39;,\n",
       "      &#39;source&#39;: &#39;$text&#39;,\n",
       "      &#39;to_name&#39;: &#39;text&#39;,\n",
       "      &#39;type&#39;: &#39;labels&#39;,\n",
       "      &#39;value&#39;: {&#39;end&#39;: 312,\n",
       "       &#39;labels&#39;: [&#39;PAST_TRAUMA&#39;],\n",
       "       &#39;start&#39;: 307,\n",
       "       &#39;text&#39;: &#39;scars&#39;}},\n",
       "     {&#39;from_name&#39;: &#39;label&#39;,\n",
       "      &#39;id&#39;: &#39;Rbj6yrF5pT&#39;,\n",
       "      &#39;source&#39;: &#39;$text&#39;,\n",
       "      &#39;to_name&#39;: &#39;text&#39;,\n",
       "      &#39;type&#39;: &#39;labels&#39;,\n",
       "      &#39;value&#39;: {&#39;end&#39;: 328,\n",
       "       &#39;labels&#39;: [&#39;SUICIDE_PSYCHACHE&#39;],\n",
       "       &#39;start&#39;: 320,\n",
       "       &#39;text&#39;: &#39;confused&#39;}},\n",
       "     {&#39;from_name&#39;: &#39;label&#39;,\n",
       "      &#39;id&#39;: &#39;LPJgsK4G1y&#39;,\n",
       "      &#39;source&#39;: &#39;$text&#39;,\n",
       "      &#39;to_name&#39;: &#39;text&#39;,\n",
       "      &#39;type&#39;: &#39;labels&#39;,\n",
       "      &#39;value&#39;: {&#39;end&#39;: 409,\n",
       "       &#39;labels&#39;: [&#39;SUICIDE_PSYCHACHE&#39;],\n",
       "       &#39;start&#39;: 405,\n",
       "       &#39;text&#39;: &#39;mind&#39;}},\n",
       "     {&#39;from_name&#39;: &#39;label&#39;,\n",
       "      &#39;id&#39;: &#39;aa90od9Y0D&#39;,\n",
       "      &#39;source&#39;: &#39;$text&#39;,\n",
       "      &#39;to_name&#39;: &#39;text&#39;,\n",
       "      &#39;type&#39;: &#39;labels&#39;,\n",
       "      &#39;value&#39;: {&#39;end&#39;: 453,\n",
       "       &#39;labels&#39;: [&#39;PAST_TRAUMA&#39;],\n",
       "       &#39;start&#39;: 449,\n",
       "       &#39;text&#39;: &#39;love&#39;}},\n",
       "     {&#39;from_name&#39;: &#39;label&#39;,\n",
       "      &#39;id&#39;: &#39;d9arwIBgHJ&#39;,\n",
       "      &#39;source&#39;: &#39;$text&#39;,\n",
       "      &#39;to_name&#39;: &#39;text&#39;,\n",
       "      &#39;type&#39;: &#39;labels&#39;,\n",
       "      &#39;value&#39;: {&#39;end&#39;: 478,\n",
       "       &#39;labels&#39;: [&#39;PAST_TRAUMA&#39;],\n",
       "       &#39;start&#39;: 474,\n",
       "       &#39;text&#39;: &#39;love&#39;}},\n",
       "     {&#39;from_name&#39;: &#39;label&#39;,\n",
       "      &#39;id&#39;: &#39;7cs4MLwCgU&#39;,\n",
       "      &#39;source&#39;: &#39;$text&#39;,\n",
       "      &#39;to_name&#39;: &#39;text&#39;,\n",
       "      &#39;type&#39;: &#39;labels&#39;,\n",
       "      &#39;value&#39;: {&#39;end&#39;: 509,\n",
       "       &#39;labels&#39;: [&#39;PAST_TRAUMA&#39;],\n",
       "       &#39;start&#39;: 498,\n",
       "       &#39;text&#39;: &#39;hate myself&#39;}}]}],\n",
       "  &#39;data&#39;: {&#39;title&#39;: &#39;task_0&#39;,\n",
       "   &#39;text&#39;: &#34;I really don&#39;t want to live anymore - i&#39;ve never talked about this with anyone, but i really don&#39;t want to live anymore. because what is the point? why am i here? i can&#39;t do anything useful in my life until i become an adult, i ruin almost everything, i cut a lot and am always worried someone will see the scars. i get confused when i see people genuinely enjoying themselves and having fun. it blows my mind. how are they so happy? how can anyone love themselves? i don&#39;t love myself. i&#39;m fact i hate myself. because i deserve it. what use am i to anyone? \\n&#34;},\n",
       "  &#39;id&#39;: 0},\n",
       " {&#39;predictions&#39;: [{&#39;created_username&#39;: &#39;model&#39;,\n",
       "    &#39;result&#39;: [{&#39;from_name&#39;: &#39;label&#39;,\n",
       "      &#39;id&#39;: &#39;MEHkf5dD3d&#39;,\n",
       "      &#39;source&#39;: &#39;$text&#39;,\n",
       "      &#39;to_name&#39;: &#39;text&#39;,\n",
       "      &#39;type&#39;: &#39;labels&#39;,\n",
       "      &#39;value&#39;: {&#39;end&#39;: 56,\n",
       "       &#39;labels&#39;: [&#39;PAST_TRAUMA&#39;],\n",
       "       &#39;start&#39;: 53,\n",
       "       &#39;text&#39;: &#39;why&#39;}}]}],\n",
       "  &#39;data&#39;: {&#39;title&#39;: &#39;task_1&#39;,\n",
       "   &#39;text&#39;: &#34;the answer is none. i&#39;m not of any use. and you know why? it&#39;s because whenever i&#39;ve tried to be useful i mess it up. so&#34;},\n",
       "  &#39;id&#39;: 1},\n",
       " {&#39;predictions&#39;: [{&#39;created_username&#39;: &#39;model&#39;, &#39;result&#39;: []}],\n",
       "  &#39;data&#39;: {&#39;title&#39;: &#39;task_2&#39;,\n",
       "   &#39;text&#39;: &#39;to whoever read this all the way through&#39;},\n",
       "  &#39;id&#39;: 2},\n",
       " {&#39;predictions&#39;: [{&#39;created_username&#39;: &#39;model&#39;,\n",
       "    &#39;result&#39;: [{&#39;from_name&#39;: &#39;label&#39;,\n",
       "      &#39;id&#39;: &#39;TLfslpsK4M&#39;,\n",
       "      &#39;source&#39;: &#39;$text&#39;,\n",
       "      &#39;to_name&#39;: &#39;text&#39;,\n",
       "      &#39;type&#39;: &#39;labels&#39;,\n",
       "      &#39;value&#39;: {&#39;end&#39;: 78,\n",
       "       &#39;labels&#39;: [&#39;SUICIDE_BEHAVIOR&#39;],\n",
       "       &#39;start&#39;: 73,\n",
       "       &#39;text&#39;: &#39;quiet&#39;}},\n",
       "     {&#39;from_name&#39;: &#39;label&#39;,\n",
       "      &#39;id&#39;: &#39;IWWfhSphpf&#39;,\n",
       "      &#39;source&#39;: &#39;$text&#39;,\n",
       "      &#39;to_name&#39;: &#39;text&#39;,\n",
       "      &#39;type&#39;: &#39;labels&#39;,\n",
       "      &#39;value&#39;: {&#39;end&#39;: 88,\n",
       "       &#39;labels&#39;: [&#39;PAST_TRAUMA&#39;],\n",
       "       &#39;start&#39;: 85,\n",
       "       &#39;text&#39;: &#39;day&#39;}},\n",
       "     {&#39;from_name&#39;: &#39;label&#39;,\n",
       "      &#39;id&#39;: &#39;QqNMvh0d65&#39;,\n",
       "      &#39;source&#39;: &#39;$text&#39;,\n",
       "      &#39;to_name&#39;: &#39;text&#39;,\n",
       "      &#39;type&#39;: &#39;labels&#39;,\n",
       "      &#39;value&#39;: {&#39;end&#39;: 115,\n",
       "       &#39;labels&#39;: [&#39;SUICIDE_PSYCHACHE&#39;],\n",
       "       &#39;start&#39;: 109,\n",
       "       &#39;text&#39;: &#39;bother&#39;}},\n",
       "     {&#39;from_name&#39;: &#39;label&#39;,\n",
       "      &#39;id&#39;: &#39;zFfEwSXNfQ&#39;,\n",
       "      &#39;source&#39;: &#39;$text&#39;,\n",
       "      &#39;to_name&#39;: &#39;text&#39;,\n",
       "      &#39;type&#39;: &#39;labels&#39;,\n",
       "      &#39;value&#39;: {&#39;end&#39;: 259,\n",
       "       &#39;labels&#39;: [&#39;SUICIDE_PSYCHACHE&#39;],\n",
       "       &#39;start&#39;: 254,\n",
       "       &#39;text&#39;: &#39;panic&#39;}},\n",
       "     {&#39;from_name&#39;: &#39;label&#39;,\n",
       "      &#39;id&#39;: &#39;mu20PRhech&#39;,\n",
       "      &#39;source&#39;: &#39;$text&#39;,\n",
       "      &#39;to_name&#39;: &#39;text&#39;,\n",
       "      &#39;type&#39;: &#39;labels&#39;,\n",
       "      &#39;value&#39;: {&#39;end&#39;: 334,\n",
       "       &#39;labels&#39;: [&#39;SUICIDE_BEHAVIOR&#39;],\n",
       "       &#39;start&#39;: 329,\n",
       "       &#39;text&#39;: &#39;sorry&#39;}}]}],\n",
       "  &#39;data&#39;: {&#39;title&#39;: &#39;task_3&#39;,\n",
       "   &#39;text&#39;: &#34;update: i haven&#39;t been able to talk to my mom as she&#39;s kind of having a &#39;quiet time&#39; day and i don&#39;t want to bother her. i also have a question. would it be unhealthy for her if i talk to her? she has anxiety/panic disorder and although she hasn&#39;t had a panic attack in several months i don&#39;t want to cause her too much stress. (sorry i didn&#39;t mention this before)&#34;},\n",
       "  &#39;id&#39;: 3},\n",
       " {&#39;predictions&#39;: [{&#39;created_username&#39;: &#39;model&#39;, &#39;result&#39;: []}],\n",
       "  &#39;data&#39;: {&#39;title&#39;: &#39;task_4&#39;,\n",
       "   &#39;text&#39;: &#34;I don&#39;t know how to get better - no one’s really gonna read this, but yeah.  \\n&#34;},\n",
       "  &#39;id&#39;: 4},\n",
       " {&#39;predictions&#39;: [{&#39;created_username&#39;: &#39;model&#39;,\n",
       "    &#39;result&#39;: [{&#39;from_name&#39;: &#39;label&#39;,\n",
       "      &#39;id&#39;: &#39;Yk6XEdeFhm&#39;,\n",
       "      &#39;source&#39;: &#39;$text&#39;,\n",
       "      &#39;to_name&#39;: &#39;text&#39;,\n",
       "      &#39;type&#39;: &#39;labels&#39;,\n",
       "      &#39;value&#39;: {&#39;end&#39;: 50,\n",
       "       &#39;labels&#39;: [&#39;SUICIDE_PSYCHACHE&#39;],\n",
       "       &#39;start&#39;: 40,\n",
       "       &#39;text&#39;: &#39;depression&#39;}},\n",
       "     {&#39;from_name&#39;: &#39;label&#39;,\n",
       "      &#39;id&#39;: &#39;4xGzrUp8M2&#39;,\n",
       "      &#39;source&#39;: &#39;$text&#39;,\n",
       "      &#39;to_name&#39;: &#39;text&#39;,\n",
       "      &#39;type&#39;: &#39;labels&#39;,\n",
       "      &#39;value&#39;: {&#39;end&#39;: 84,\n",
       "       &#39;labels&#39;: [&#39;PAST_TRAUMA&#39;],\n",
       "       &#39;start&#39;: 77,\n",
       "       &#39;text&#39;: &#39;dislike&#39;}}]}],\n",
       "  &#39;data&#39;: {&#39;title&#39;: &#39;task_5&#39;,\n",
       "   &#39;text&#39;: &#39;i’m 15 years old and got diagnosed with depression when i was 12. i strongly dislike talking about my ‘negative’ feelings&#39;},\n",
       "  &#39;id&#39;: 5},\n",
       " {&#39;predictions&#39;: [{&#39;created_username&#39;: &#39;model&#39;,\n",
       "    &#39;result&#39;: [{&#39;from_name&#39;: &#39;label&#39;,\n",
       "      &#39;id&#39;: &#39;do1uFX3bbE&#39;,\n",
       "      &#39;source&#39;: &#39;$text&#39;,\n",
       "      &#39;to_name&#39;: &#39;text&#39;,\n",
       "      &#39;type&#39;: &#39;labels&#39;,\n",
       "      &#39;value&#39;: {&#39;end&#39;: 4,\n",
       "       &#39;labels&#39;: [&#39;PAST_TRAUMA&#39;],\n",
       "       &#39;start&#39;: 0,\n",
       "       &#39;text&#39;: &#39;once&#39;}}]}],\n",
       "  &#39;data&#39;: {&#39;title&#39;: &#39;task_6&#39;, &#39;text&#39;: &#39;once i got into therapy&#39;},\n",
       "  &#39;id&#39;: 6},\n",
       " {&#39;predictions&#39;: [{&#39;created_username&#39;: &#39;model&#39;, &#39;result&#39;: []}],\n",
       "  &#39;data&#39;: {&#39;title&#39;: &#39;task_7&#39;,\n",
       "   &#39;text&#39;: &#39;i know bottling up my emotions isn’t healthy&#39;},\n",
       "  &#39;id&#39;: 7},\n",
       " {&#39;predictions&#39;: [{&#39;created_username&#39;: &#39;model&#39;,\n",
       "    &#39;result&#39;: [{&#39;from_name&#39;: &#39;label&#39;,\n",
       "      &#39;id&#39;: &#39;HJFFyJdYqr&#39;,\n",
       "      &#39;source&#39;: &#39;$text&#39;,\n",
       "      &#39;to_name&#39;: &#39;text&#39;,\n",
       "      &#39;type&#39;: &#39;labels&#39;,\n",
       "      &#39;value&#39;: {&#39;end&#39;: 145,\n",
       "       &#39;labels&#39;: [&#39;SUICIDE_BEHAVIOR&#39;],\n",
       "       &#39;start&#39;: 141,\n",
       "       &#39;text&#39;: &#39;hard&#39;}},\n",
       "     {&#39;from_name&#39;: &#39;label&#39;,\n",
       "      &#39;id&#39;: &#39;Z6FDTxG0KZ&#39;,\n",
       "      &#39;source&#39;: &#39;$text&#39;,\n",
       "      &#39;to_name&#39;: &#39;text&#39;,\n",
       "      &#39;type&#39;: &#39;labels&#39;,\n",
       "      &#39;value&#39;: {&#39;end&#39;: 164,\n",
       "       &#39;labels&#39;: [&#39;SUICIDE_BEHAVIOR&#39;],\n",
       "       &#39;start&#39;: 153,\n",
       "       &#39;text&#39;: &#39;kill myself&#39;}},\n",
       "     {&#39;from_name&#39;: &#39;label&#39;,\n",
       "      &#39;id&#39;: &#39;dFmOljPeg6&#39;,\n",
       "      &#39;source&#39;: &#39;$text&#39;,\n",
       "      &#39;to_name&#39;: &#39;text&#39;,\n",
       "      &#39;type&#39;: &#39;labels&#39;,\n",
       "      &#39;value&#39;: {&#39;end&#39;: 189,\n",
       "       &#39;labels&#39;: [&#39;SUICIDE_BEHAVIOR&#39;],\n",
       "       &#39;start&#39;: 182,\n",
       "       &#39;text&#39;: &#39;suicide&#39;}}]}],\n",
       "  &#39;data&#39;: {&#39;title&#39;: &#39;task_8&#39;,\n",
       "   &#39;text&#39;: &#39;i got held back last year because ‘i didn’t feel like going’ (which is what i told everyone) when i couldn’t get out of bed and tried really hard to not kill myself. i had my second suicide attempt that year. i didn’t want to tell anyone&#39;},\n",
       "  &#39;id&#39;: 8},\n",
       " {&#39;predictions&#39;: [{&#39;created_username&#39;: &#39;model&#39;, &#39;result&#39;: []}],\n",
       "  &#39;data&#39;: {&#39;title&#39;: &#39;task_9&#39;,\n",
       "   &#39;text&#39;: &#39;i thought my mindset would change over time&#39;},\n",
       "  &#39;id&#39;: 9}]</div>"
      ]
     },
     "metadata": {
      "application/vnd.databricks.v1+output": {
       "addedWidgets": {},
       "arguments": {},
       "data": "<div class=\"ansiout\">Processing 2667 Annotations.\nOut[14]: [{&#39;predictions&#39;: [{&#39;created_username&#39;: &#39;model&#39;,\n    &#39;result&#39;: [{&#39;from_name&#39;: &#39;label&#39;,\n      &#39;id&#39;: &#39;cE3y2gSYJF&#39;,\n      &#39;source&#39;: &#39;$text&#39;,\n      &#39;to_name&#39;: &#39;text&#39;,\n      &#39;type&#39;: &#39;labels&#39;,\n      &#39;value&#39;: {&#39;end&#39;: 27,\n       &#39;labels&#39;: [&#39;SUICIDE_BEHAVIOR&#39;],\n       &#39;start&#39;: 9,\n       &#39;text&#39;: &#34;don&#39;t want to live&#34;}},\n     {&#39;from_name&#39;: &#39;label&#39;,\n      &#39;id&#39;: &#39;h0i6MEicm7&#39;,\n      &#39;source&#39;: &#39;$text&#39;,\n      &#39;to_name&#39;: &#39;text&#39;,\n      &#39;type&#39;: &#39;labels&#39;,\n      &#39;value&#39;: {&#39;end&#39;: 111,\n       &#39;labels&#39;: [&#39;SUICIDE_BEHAVIOR&#39;],\n       &#39;start&#39;: 93,\n       &#39;text&#39;: &#34;don&#39;t want to live&#34;}},\n     {&#39;from_name&#39;: &#39;label&#39;,\n      &#39;id&#39;: &#39;MPoevO2Ic6&#39;,\n      &#39;source&#39;: &#39;$text&#39;,\n      &#39;to_name&#39;: &#39;text&#39;,\n      &#39;type&#39;: &#39;labels&#39;,\n      &#39;value&#39;: {&#39;end&#39;: 151,\n       &#39;labels&#39;: [&#39;PAST_TRAUMA&#39;],\n       &#39;start&#39;: 148,\n       &#39;text&#39;: &#39;why&#39;}},\n     {&#39;from_name&#39;: &#39;label&#39;,\n      &#39;id&#39;: &#39;rGdXp3NGtU&#39;,\n      &#39;source&#39;: &#39;$text&#39;,\n      &#39;to_name&#39;: &#39;text&#39;,\n      &#39;type&#39;: &#39;labels&#39;,\n      &#39;value&#39;: {&#39;end&#39;: 170,\n       &#39;labels&#39;: [&#39;PAST_TRAUMA&#39;],\n       &#39;start&#39;: 165,\n       &#39;text&#39;: &#34;can&#39;t&#34;}},\n     {&#39;from_name&#39;: &#39;label&#39;,\n      &#39;id&#39;: &#39;sNBIuG9yCB&#39;,\n      &#39;source&#39;: &#39;$text&#39;,\n      &#39;to_name&#39;: &#39;text&#39;,\n      &#39;type&#39;: &#39;labels&#39;,\n      &#39;value&#39;: {&#39;end&#39;: 200,\n       &#39;labels&#39;: [&#39;SUICIDE_BEHAVIOR&#39;],\n       &#39;start&#39;: 196,\n       &#39;text&#39;: &#39;life&#39;}},\n     {&#39;from_name&#39;: &#39;label&#39;,\n      &#39;id&#39;: &#39;a1k1NijDlG&#39;,\n      &#39;source&#39;: &#39;$text&#39;,\n      &#39;to_name&#39;: &#39;text&#39;,\n      &#39;type&#39;: &#39;labels&#39;,\n      &#39;value&#39;: {&#39;end&#39;: 257,\n       &#39;labels&#39;: [&#39;SUICIDE_BEHAVIOR&#39;],\n       &#39;start&#39;: 254,\n       &#39;text&#39;: &#39;cut&#39;}},\n     {&#39;from_name&#39;: &#39;label&#39;,\n      &#39;id&#39;: &#39;HOfqqf4Qz9&#39;,\n      &#39;source&#39;: &#39;$text&#39;,\n      &#39;to_name&#39;: &#39;text&#39;,\n      &#39;type&#39;: &#39;labels&#39;,\n      &#39;value&#39;: {&#39;end&#39;: 298,\n       &#39;labels&#39;: [&#39;SUICIDE_BEHAVIOR&#39;],\n       &#39;start&#39;: 294,\n       &#39;text&#39;: &#39;will&#39;}},\n     {&#39;from_name&#39;: &#39;label&#39;,\n      &#39;id&#39;: &#39;sApljsZO5K&#39;,\n      &#39;source&#39;: &#39;$text&#39;,\n      &#39;to_name&#39;: &#39;text&#39;,\n      &#39;type&#39;: &#39;labels&#39;,\n      &#39;value&#39;: {&#39;end&#39;: 312,\n       &#39;labels&#39;: [&#39;PAST_TRAUMA&#39;],\n       &#39;start&#39;: 307,\n       &#39;text&#39;: &#39;scars&#39;}},\n     {&#39;from_name&#39;: &#39;label&#39;,\n      &#39;id&#39;: &#39;Rbj6yrF5pT&#39;,\n      &#39;source&#39;: &#39;$text&#39;,\n      &#39;to_name&#39;: &#39;text&#39;,\n      &#39;type&#39;: &#39;labels&#39;,\n      &#39;value&#39;: {&#39;end&#39;: 328,\n       &#39;labels&#39;: [&#39;SUICIDE_PSYCHACHE&#39;],\n       &#39;start&#39;: 320,\n       &#39;text&#39;: &#39;confused&#39;}},\n     {&#39;from_name&#39;: &#39;label&#39;,\n      &#39;id&#39;: &#39;LPJgsK4G1y&#39;,\n      &#39;source&#39;: &#39;$text&#39;,\n      &#39;to_name&#39;: &#39;text&#39;,\n      &#39;type&#39;: &#39;labels&#39;,\n      &#39;value&#39;: {&#39;end&#39;: 409,\n       &#39;labels&#39;: [&#39;SUICIDE_PSYCHACHE&#39;],\n       &#39;start&#39;: 405,\n       &#39;text&#39;: &#39;mind&#39;}},\n     {&#39;from_name&#39;: &#39;label&#39;,\n      &#39;id&#39;: &#39;aa90od9Y0D&#39;,\n      &#39;source&#39;: &#39;$text&#39;,\n      &#39;to_name&#39;: &#39;text&#39;,\n      &#39;type&#39;: &#39;labels&#39;,\n      &#39;value&#39;: {&#39;end&#39;: 453,\n       &#39;labels&#39;: [&#39;PAST_TRAUMA&#39;],\n       &#39;start&#39;: 449,\n       &#39;text&#39;: &#39;love&#39;}},\n     {&#39;from_name&#39;: &#39;label&#39;,\n      &#39;id&#39;: &#39;d9arwIBgHJ&#39;,\n      &#39;source&#39;: &#39;$text&#39;,\n      &#39;to_name&#39;: &#39;text&#39;,\n      &#39;type&#39;: &#39;labels&#39;,\n      &#39;value&#39;: {&#39;end&#39;: 478,\n       &#39;labels&#39;: [&#39;PAST_TRAUMA&#39;],\n       &#39;start&#39;: 474,\n       &#39;text&#39;: &#39;love&#39;}},\n     {&#39;from_name&#39;: &#39;label&#39;,\n      &#39;id&#39;: &#39;7cs4MLwCgU&#39;,\n      &#39;source&#39;: &#39;$text&#39;,\n      &#39;to_name&#39;: &#39;text&#39;,\n      &#39;type&#39;: &#39;labels&#39;,\n      &#39;value&#39;: {&#39;end&#39;: 509,\n       &#39;labels&#39;: [&#39;PAST_TRAUMA&#39;],\n       &#39;start&#39;: 498,\n       &#39;text&#39;: &#39;hate myself&#39;}}]}],\n  &#39;data&#39;: {&#39;title&#39;: &#39;task_0&#39;,\n   &#39;text&#39;: &#34;I really don&#39;t want to live anymore - i&#39;ve never talked about this with anyone, but i really don&#39;t want to live anymore. because what is the point? why am i here? i can&#39;t do anything useful in my life until i become an adult, i ruin almost everything, i cut a lot and am always worried someone will see the scars. i get confused when i see people genuinely enjoying themselves and having fun. it blows my mind. how are they so happy? how can anyone love themselves? i don&#39;t love myself. i&#39;m fact i hate myself. because i deserve it. what use am i to anyone? \\n&#34;},\n  &#39;id&#39;: 0},\n {&#39;predictions&#39;: [{&#39;created_username&#39;: &#39;model&#39;,\n    &#39;result&#39;: [{&#39;from_name&#39;: &#39;label&#39;,\n      &#39;id&#39;: &#39;MEHkf5dD3d&#39;,\n      &#39;source&#39;: &#39;$text&#39;,\n      &#39;to_name&#39;: &#39;text&#39;,\n      &#39;type&#39;: &#39;labels&#39;,\n      &#39;value&#39;: {&#39;end&#39;: 56,\n       &#39;labels&#39;: [&#39;PAST_TRAUMA&#39;],\n       &#39;start&#39;: 53,\n       &#39;text&#39;: &#39;why&#39;}}]}],\n  &#39;data&#39;: {&#39;title&#39;: &#39;task_1&#39;,\n   &#39;text&#39;: &#34;the answer is none. i&#39;m not of any use. and you know why? it&#39;s because whenever i&#39;ve tried to be useful i mess it up. so&#34;},\n  &#39;id&#39;: 1},\n {&#39;predictions&#39;: [{&#39;created_username&#39;: &#39;model&#39;, &#39;result&#39;: []}],\n  &#39;data&#39;: {&#39;title&#39;: &#39;task_2&#39;,\n   &#39;text&#39;: &#39;to whoever read this all the way through&#39;},\n  &#39;id&#39;: 2},\n {&#39;predictions&#39;: [{&#39;created_username&#39;: &#39;model&#39;,\n    &#39;result&#39;: [{&#39;from_name&#39;: &#39;label&#39;,\n      &#39;id&#39;: &#39;TLfslpsK4M&#39;,\n      &#39;source&#39;: &#39;$text&#39;,\n      &#39;to_name&#39;: &#39;text&#39;,\n      &#39;type&#39;: &#39;labels&#39;,\n      &#39;value&#39;: {&#39;end&#39;: 78,\n       &#39;labels&#39;: [&#39;SUICIDE_BEHAVIOR&#39;],\n       &#39;start&#39;: 73,\n       &#39;text&#39;: &#39;quiet&#39;}},\n     {&#39;from_name&#39;: &#39;label&#39;,\n      &#39;id&#39;: &#39;IWWfhSphpf&#39;,\n      &#39;source&#39;: &#39;$text&#39;,\n      &#39;to_name&#39;: &#39;text&#39;,\n      &#39;type&#39;: &#39;labels&#39;,\n      &#39;value&#39;: {&#39;end&#39;: 88,\n       &#39;labels&#39;: [&#39;PAST_TRAUMA&#39;],\n       &#39;start&#39;: 85,\n       &#39;text&#39;: &#39;day&#39;}},\n     {&#39;from_name&#39;: &#39;label&#39;,\n      &#39;id&#39;: &#39;QqNMvh0d65&#39;,\n      &#39;source&#39;: &#39;$text&#39;,\n      &#39;to_name&#39;: &#39;text&#39;,\n      &#39;type&#39;: &#39;labels&#39;,\n      &#39;value&#39;: {&#39;end&#39;: 115,\n       &#39;labels&#39;: [&#39;SUICIDE_PSYCHACHE&#39;],\n       &#39;start&#39;: 109,\n       &#39;text&#39;: &#39;bother&#39;}},\n     {&#39;from_name&#39;: &#39;label&#39;,\n      &#39;id&#39;: &#39;zFfEwSXNfQ&#39;,\n      &#39;source&#39;: &#39;$text&#39;,\n      &#39;to_name&#39;: &#39;text&#39;,\n      &#39;type&#39;: &#39;labels&#39;,\n      &#39;value&#39;: {&#39;end&#39;: 259,\n       &#39;labels&#39;: [&#39;SUICIDE_PSYCHACHE&#39;],\n       &#39;start&#39;: 254,\n       &#39;text&#39;: &#39;panic&#39;}},\n     {&#39;from_name&#39;: &#39;label&#39;,\n      &#39;id&#39;: &#39;mu20PRhech&#39;,\n      &#39;source&#39;: &#39;$text&#39;,\n      &#39;to_name&#39;: &#39;text&#39;,\n      &#39;type&#39;: &#39;labels&#39;,\n      &#39;value&#39;: {&#39;end&#39;: 334,\n       &#39;labels&#39;: [&#39;SUICIDE_BEHAVIOR&#39;],\n       &#39;start&#39;: 329,\n       &#39;text&#39;: &#39;sorry&#39;}}]}],\n  &#39;data&#39;: {&#39;title&#39;: &#39;task_3&#39;,\n   &#39;text&#39;: &#34;update: i haven&#39;t been able to talk to my mom as she&#39;s kind of having a &#39;quiet time&#39; day and i don&#39;t want to bother her. i also have a question. would it be unhealthy for her if i talk to her? she has anxiety/panic disorder and although she hasn&#39;t had a panic attack in several months i don&#39;t want to cause her too much stress. (sorry i didn&#39;t mention this before)&#34;},\n  &#39;id&#39;: 3},\n {&#39;predictions&#39;: [{&#39;created_username&#39;: &#39;model&#39;, &#39;result&#39;: []}],\n  &#39;data&#39;: {&#39;title&#39;: &#39;task_4&#39;,\n   &#39;text&#39;: &#34;I don&#39;t know how to get better - no one’s really gonna read this, but yeah.  \\n&#34;},\n  &#39;id&#39;: 4},\n {&#39;predictions&#39;: [{&#39;created_username&#39;: &#39;model&#39;,\n    &#39;result&#39;: [{&#39;from_name&#39;: &#39;label&#39;,\n      &#39;id&#39;: &#39;Yk6XEdeFhm&#39;,\n      &#39;source&#39;: &#39;$text&#39;,\n      &#39;to_name&#39;: &#39;text&#39;,\n      &#39;type&#39;: &#39;labels&#39;,\n      &#39;value&#39;: {&#39;end&#39;: 50,\n       &#39;labels&#39;: [&#39;SUICIDE_PSYCHACHE&#39;],\n       &#39;start&#39;: 40,\n       &#39;text&#39;: &#39;depression&#39;}},\n     {&#39;from_name&#39;: &#39;label&#39;,\n      &#39;id&#39;: &#39;4xGzrUp8M2&#39;,\n      &#39;source&#39;: &#39;$text&#39;,\n      &#39;to_name&#39;: &#39;text&#39;,\n      &#39;type&#39;: &#39;labels&#39;,\n      &#39;value&#39;: {&#39;end&#39;: 84,\n       &#39;labels&#39;: [&#39;PAST_TRAUMA&#39;],\n       &#39;start&#39;: 77,\n       &#39;text&#39;: &#39;dislike&#39;}}]}],\n  &#39;data&#39;: {&#39;title&#39;: &#39;task_5&#39;,\n   &#39;text&#39;: &#39;i’m 15 years old and got diagnosed with depression when i was 12. i strongly dislike talking about my ‘negative’ feelings&#39;},\n  &#39;id&#39;: 5},\n {&#39;predictions&#39;: [{&#39;created_username&#39;: &#39;model&#39;,\n    &#39;result&#39;: [{&#39;from_name&#39;: &#39;label&#39;,\n      &#39;id&#39;: &#39;do1uFX3bbE&#39;,\n      &#39;source&#39;: &#39;$text&#39;,\n      &#39;to_name&#39;: &#39;text&#39;,\n      &#39;type&#39;: &#39;labels&#39;,\n      &#39;value&#39;: {&#39;end&#39;: 4,\n       &#39;labels&#39;: [&#39;PAST_TRAUMA&#39;],\n       &#39;start&#39;: 0,\n       &#39;text&#39;: &#39;once&#39;}}]}],\n  &#39;data&#39;: {&#39;title&#39;: &#39;task_6&#39;, &#39;text&#39;: &#39;once i got into therapy&#39;},\n  &#39;id&#39;: 6},\n {&#39;predictions&#39;: [{&#39;created_username&#39;: &#39;model&#39;, &#39;result&#39;: []}],\n  &#39;data&#39;: {&#39;title&#39;: &#39;task_7&#39;,\n   &#39;text&#39;: &#39;i know bottling up my emotions isn’t healthy&#39;},\n  &#39;id&#39;: 7},\n {&#39;predictions&#39;: [{&#39;created_username&#39;: &#39;model&#39;,\n    &#39;result&#39;: [{&#39;from_name&#39;: &#39;label&#39;,\n      &#39;id&#39;: &#39;HJFFyJdYqr&#39;,\n      &#39;source&#39;: &#39;$text&#39;,\n      &#39;to_name&#39;: &#39;text&#39;,\n      &#39;type&#39;: &#39;labels&#39;,\n      &#39;value&#39;: {&#39;end&#39;: 145,\n       &#39;labels&#39;: [&#39;SUICIDE_BEHAVIOR&#39;],\n       &#39;start&#39;: 141,\n       &#39;text&#39;: &#39;hard&#39;}},\n     {&#39;from_name&#39;: &#39;label&#39;,\n      &#39;id&#39;: &#39;Z6FDTxG0KZ&#39;,\n      &#39;source&#39;: &#39;$text&#39;,\n      &#39;to_name&#39;: &#39;text&#39;,\n      &#39;type&#39;: &#39;labels&#39;,\n      &#39;value&#39;: {&#39;end&#39;: 164,\n       &#39;labels&#39;: [&#39;SUICIDE_BEHAVIOR&#39;],\n       &#39;start&#39;: 153,\n       &#39;text&#39;: &#39;kill myself&#39;}},\n     {&#39;from_name&#39;: &#39;label&#39;,\n      &#39;id&#39;: &#39;dFmOljPeg6&#39;,\n      &#39;source&#39;: &#39;$text&#39;,\n      &#39;to_name&#39;: &#39;text&#39;,\n      &#39;type&#39;: &#39;labels&#39;,\n      &#39;value&#39;: {&#39;end&#39;: 189,\n       &#39;labels&#39;: [&#39;SUICIDE_BEHAVIOR&#39;],\n       &#39;start&#39;: 182,\n       &#39;text&#39;: &#39;suicide&#39;}}]}],\n  &#39;data&#39;: {&#39;title&#39;: &#39;task_8&#39;,\n   &#39;text&#39;: &#39;i got held back last year because ‘i didn’t feel like going’ (which is what i told everyone) when i couldn’t get out of bed and tried really hard to not kill myself. i had my second suicide attempt that year. i didn’t want to tell anyone&#39;},\n  &#39;id&#39;: 8},\n {&#39;predictions&#39;: [{&#39;created_username&#39;: &#39;model&#39;, &#39;result&#39;: []}],\n  &#39;data&#39;: {&#39;title&#39;: &#39;task_9&#39;,\n   &#39;text&#39;: &#39;i thought my mindset would change over time&#39;},\n  &#39;id&#39;: 9}]</div>",
       "datasetInfos": [],
       "metadata": {},
       "removedWidgets": [],
       "type": "html"
      }
     },
     "output_type": "display_data"
    }
   ],
   "source": [
    "# NOTE: \"all_results\" is the result of the pipeline after running on sample docs.\n",
    "pre_annotations, summary = alab.generate_preannotations(all_results = results, document_column = 'document', ner_columns = ['all_chunks'])\n",
    "pre_annotations[:10]"
   ]
  },
  {
   "cell_type": "code",
   "execution_count": null,
   "metadata": {
    "application/vnd.databricks.v1+cell": {
     "cellMetadata": {},
     "inputWidgets": {},
     "nuid": "88189e33-4226-4f8e-8b78-2d3753d43410",
     "showTitle": false,
     "title": ""
    }
   },
   "outputs": [
    {
     "data": {
      "text/html": [
       "<style scoped>\n",
       "  .ansiout {\n",
       "    display: block;\n",
       "    unicode-bidi: embed;\n",
       "    white-space: pre-wrap;\n",
       "    word-wrap: break-word;\n",
       "    word-break: break-all;\n",
       "    font-family: \"Source Code Pro\", \"Menlo\", monospace;;\n",
       "    font-size: 13px;\n",
       "    color: #555;\n",
       "    margin-left: 4px;\n",
       "    line-height: 19px;\n",
       "  }\n",
       "</style>\n",
       "<div class=\"ansiout\">Out[15]: {&#39;ner_labels&#39;: [&#39;SUICIDE_BEHAVIOR&#39;, &#39;PAST_TRAUMA&#39;, &#39;SUICIDE_PSYCHACHE&#39;],\n",
       " &#39;assertion_labels&#39;: [],\n",
       " &#39;re_labels&#39;: []}</div>"
      ]
     },
     "metadata": {
      "application/vnd.databricks.v1+output": {
       "addedWidgets": {},
       "arguments": {},
       "data": "<div class=\"ansiout\">Out[15]: {&#39;ner_labels&#39;: [&#39;SUICIDE_BEHAVIOR&#39;, &#39;PAST_TRAUMA&#39;, &#39;SUICIDE_PSYCHACHE&#39;],\n &#39;assertion_labels&#39;: [],\n &#39;re_labels&#39;: []}</div>",
       "datasetInfos": [],
       "metadata": {},
       "removedWidgets": [],
       "type": "html"
      }
     },
     "output_type": "display_data"
    }
   ],
   "source": [
    "## What is summary? \n",
    "# While a user would know all the entities comming out of the NLP pipeline, listing all of them manually is laborious.\n",
    "# The summary object helps identify how many types of entities, assertions, and relations are present.\n",
    "# This saves the user from listing all labels individually; we'll use this object while setting project configuration.\n",
    "summary"
   ]
  },
  {
   "cell_type": "markdown",
   "metadata": {},
   "source": [
    "## <font color=#FF0000>**Note: If you don't have credentials for the Annotation Lab, we have provided the annotations for ~100 tasks. Jump to section 3.2 to directly download the exported JSON file, and start training**</font>."
   ]
  },
  {
   "cell_type": "markdown",
   "metadata": {
    "application/vnd.databricks.v1+cell": {
     "cellMetadata": {},
     "inputWidgets": {},
     "nuid": "4d569568-4ebb-48be-8efc-d336a8148324",
     "showTitle": false,
     "title": ""
    }
   },
   "source": [
    "#### 2.2. Set Annotation Lab credentials and Create a New Project"
   ]
  },
  {
   "cell_type": "code",
   "execution_count": null,
   "metadata": {
    "application/vnd.databricks.v1+cell": {
     "cellMetadata": {},
     "inputWidgets": {},
     "nuid": "3732d9cb-42b9-4313-baea-084f8504ebd3",
     "showTitle": false,
     "title": ""
    }
   },
   "outputs": [
    {
     "data": {
      "text/html": [
       "<style scoped>\n",
       "  .ansiout {\n",
       "    display: block;\n",
       "    unicode-bidi: embed;\n",
       "    white-space: pre-wrap;\n",
       "    word-wrap: break-word;\n",
       "    word-break: break-all;\n",
       "    font-family: \"Source Code Pro\", \"Menlo\", monospace;;\n",
       "    font-size: 13px;\n",
       "    color: #555;\n",
       "    margin-left: 4px;\n",
       "    line-height: 19px;\n",
       "  }\n",
       "</style>\n",
       "<div class=\"ansiout\"></div>"
      ]
     },
     "metadata": {
      "application/vnd.databricks.v1+output": {
       "addedWidgets": {},
       "arguments": {},
       "data": "<div class=\"ansiout\"></div>",
       "datasetInfos": [],
       "metadata": {},
       "removedWidgets": [],
       "type": "html"
      }
     },
     "output_type": "display_data"
    }
   ],
   "source": [
    "\n",
    "# Set Credentials\n",
    "username=''\n",
    "password=''\n",
    "client_secret=\"\" # see https://nlp.johnsnowlabs.com/docs/en/alab/api#get-client-secret\n",
    "annotationlab_url=\"\" # your alab instance URL (could even be internal URL if deployed on-prem).\n",
    "\n",
    "alab.set_credentials(\n",
    "\n",
    "  # required: username\n",
    "  username=username,\n",
    "\n",
    "  # required: password\n",
    "  password=password,\n",
    "\n",
    "  # required: secret for you alab instance (every alab installation has a different secret)\n",
    "  client_secret=client_secret, \n",
    "\n",
    "  # required: http(s) url for you annotation lab\n",
    "  annotationlab_url=annotationlab_url\n",
    ")"
   ]
  },
  {
   "cell_type": "code",
   "execution_count": null,
   "metadata": {
    "application/vnd.databricks.v1+cell": {
     "cellMetadata": {},
     "inputWidgets": {},
     "nuid": "80470e8d-70e5-4688-8e04-baccef66e248",
     "showTitle": false,
     "title": ""
    }
   },
   "outputs": [
    {
     "data": {
      "text/html": [
       "<style scoped>\n",
       "  .ansiout {\n",
       "    display: block;\n",
       "    unicode-bidi: embed;\n",
       "    white-space: pre-wrap;\n",
       "    word-wrap: break-word;\n",
       "    word-break: break-all;\n",
       "    font-family: \"Source Code Pro\", \"Menlo\", monospace;;\n",
       "    font-size: 13px;\n",
       "    color: #555;\n",
       "    margin-left: 4px;\n",
       "    line-height: 19px;\n",
       "  }\n",
       "</style>\n",
       "<div class=\"ansiout\">Operation completed successfully. Response code: 201\n",
       "Out[49]: {&#39;project_name&#39;: &#39;suicide_detection&#39;}</div>"
      ]
     },
     "metadata": {
      "application/vnd.databricks.v1+output": {
       "addedWidgets": {},
       "arguments": {},
       "data": "<div class=\"ansiout\">Operation completed successfully. Response code: 201\nOut[49]: {&#39;project_name&#39;: &#39;suicide_detection&#39;}</div>",
       "datasetInfos": [],
       "metadata": {},
       "removedWidgets": [],
       "type": "html"
      }
     },
     "output_type": "display_data"
    }
   ],
   "source": [
    "# create new project\n",
    "alab.create_project('suicide_detection')"
   ]
  },
  {
   "cell_type": "markdown",
   "metadata": {
    "application/vnd.databricks.v1+cell": {
     "cellMetadata": {},
     "inputWidgets": {},
     "nuid": "c2efa859-874e-475d-91d8-f4133a562485",
     "showTitle": false,
     "title": ""
    }
   },
   "source": [
    "#### 2.3. Set project configuration (NER label tags, assertion classes, and relation tags)"
   ]
  },
  {
   "cell_type": "code",
   "execution_count": null,
   "metadata": {
    "application/vnd.databricks.v1+cell": {
     "cellMetadata": {},
     "inputWidgets": {},
     "nuid": "7f57aa80-9f57-48f8-9321-88522752dd7e",
     "showTitle": false,
     "title": ""
    }
   },
   "outputs": [
    {
     "data": {
      "text/html": [
       "<style scoped>\n",
       "  .ansiout {\n",
       "    display: block;\n",
       "    unicode-bidi: embed;\n",
       "    white-space: pre-wrap;\n",
       "    word-wrap: break-word;\n",
       "    word-break: break-all;\n",
       "    font-family: \"Source Code Pro\", \"Menlo\", monospace;;\n",
       "    font-size: 13px;\n",
       "    color: #555;\n",
       "    margin-left: 4px;\n",
       "    line-height: 19px;\n",
       "  }\n",
       "</style>\n",
       "<div class=\"ansiout\">Operation completed successfully. Response code: 201\n",
       "Out[18]: {&#39;messages&#39;: [{&#39;message&#39;: &#39;Project config saved.&#39;, &#39;success&#39;: True}]}</div>"
      ]
     },
     "metadata": {
      "application/vnd.databricks.v1+output": {
       "addedWidgets": {},
       "arguments": {},
       "data": "<div class=\"ansiout\">Operation completed successfully. Response code: 201\nOut[18]: {&#39;messages&#39;: [{&#39;message&#39;: &#39;Project config saved.&#39;, &#39;success&#39;: True}]}</div>",
       "datasetInfos": [],
       "metadata": {},
       "removedWidgets": [],
       "type": "html"
      }
     },
     "output_type": "display_data"
    }
   ],
   "source": [
    "# set configuration\n",
    "\n",
    "## either manually define labels:\n",
    "# alab.set_project_config(\n",
    "#   project_name = 'suicide_detection',\n",
    "#   ner_labels = ['SUICIDE_BEHAVIOR', 'SUICIDE_TRAUMA', 'SUICIDE_OTHERS', 'SUICIDE_PSYCHACHE']\n",
    "# )\n",
    "\n",
    "# OR use the summary object which already has all details\n",
    "\n",
    "alab.set_project_config(\n",
    "  project_name = 'suicide_detection',\n",
    "  ner_labels = summary['ner_labels'],\n",
    "  assertion_labels = summary['assertion_labels'],\n",
    "  relations_labels = summary['re_labels']\n",
    ")"
   ]
  },
  {
   "cell_type": "markdown",
   "metadata": {
    "application/vnd.databricks.v1+cell": {
     "cellMetadata": {},
     "inputWidgets": {},
     "nuid": "5f37418e-37bd-4e65-a1db-a37980d4992f",
     "showTitle": false,
     "title": ""
    }
   },
   "source": [
    "#### 2.4. Upload pre-annotations to the newly created project.\n",
    "#### <font color=#FF0000>Note: You can upload all the tasks and annotate. For demo purpose, we are only uploading 5 tasks.</font>"
   ]
  },
  {
   "cell_type": "code",
   "execution_count": null,
   "metadata": {
    "application/vnd.databricks.v1+cell": {
     "cellMetadata": {},
     "inputWidgets": {},
     "nuid": "d3fec6b9-d631-4c0c-8c34-198655588177",
     "showTitle": false,
     "title": ""
    }
   },
   "outputs": [
    {
     "data": {
      "text/html": [
       "<style scoped>\n",
       "  .ansiout {\n",
       "    display: block;\n",
       "    unicode-bidi: embed;\n",
       "    white-space: pre-wrap;\n",
       "    word-wrap: break-word;\n",
       "    word-break: break-all;\n",
       "    font-family: \"Source Code Pro\", \"Menlo\", monospace;;\n",
       "    font-size: 13px;\n",
       "    color: #555;\n",
       "    margin-left: 4px;\n",
       "    line-height: 19px;\n",
       "  }\n",
       "</style>\n",
       "<div class=\"ansiout\">Uploading 5 preannotation(s).\n",
       "Operation completed successfully. Response code: 201\n",
       "Out[19]: {&#39;completion_count&#39;: 0,\n",
       " &#39;duration&#39;: 0.31545352935791016,\n",
       " &#39;failed_count&#39;: 0,\n",
       " &#39;ignored_count&#39;: 0,\n",
       " &#39;prediction_count&#39;: 5,\n",
       " &#39;task_count&#39;: 5,\n",
       " &#39;task_ids&#39;: [1, 2, 3, 4, 5],\n",
       " &#39;task_title_warning&#39;: 0,\n",
       " &#39;updated_count&#39;: 0}</div>"
      ]
     },
     "metadata": {
      "application/vnd.databricks.v1+output": {
       "addedWidgets": {},
       "arguments": {},
       "data": "<div class=\"ansiout\">Uploading 5 preannotation(s).\nOperation completed successfully. Response code: 201\nOut[19]: {&#39;completion_count&#39;: 0,\n &#39;duration&#39;: 0.31545352935791016,\n &#39;failed_count&#39;: 0,\n &#39;ignored_count&#39;: 0,\n &#39;prediction_count&#39;: 5,\n &#39;task_count&#39;: 5,\n &#39;task_ids&#39;: [1, 2, 3, 4, 5],\n &#39;task_title_warning&#39;: 0,\n &#39;updated_count&#39;: 0}</div>",
       "datasetInfos": [],
       "metadata": {},
       "removedWidgets": [],
       "type": "html"
      }
     },
     "output_type": "display_data"
    }
   ],
   "source": [
    "# Upload documents to Alab\n",
    "\n",
    "alab.upload_preannotations(\n",
    "  project_name = 'suicide_detection',\n",
    "  preannotations = pre_annotations[:5]) # testing with 5 annotations"
   ]
  },
  {
   "cell_type": "markdown",
   "metadata": {
    "application/vnd.databricks.v1+cell": {
     "cellMetadata": {},
     "inputWidgets": {},
     "nuid": "1a9e2580-e6d2-42a5-a9e7-4bda4ab1b2ce",
     "showTitle": false,
     "title": ""
    }
   },
   "source": [
    "#### 2.5. Annotate documents on Annotation Lab and make necessary corrections\n",
    "\n",
    "**2.5.1 The first step for annotations is developing, and adhering to some guidelines, which are crucial for controlling the flow of annotations and avoid confusions between entitiy types.**\n",
    "\n",
    "**An example Annotation Guideline (AG) is available [here](https://github.com/JohnSnowLabs/spark-nlp-workshop/blob/master/databricks/python/healthcare_case_studies/data/suicide_pred_AG.docx).**\n",
    "\n",
    "**2.5.2 Once annotation guildelines have been finalized, annotations can be started.**\n",
    "\n",
    "**Since we have already uploaded pre-anntations to the alab, we can get started.**\n",
    "\n",
    "1.       Go to the Projects -> suicide_detection -> tasks\n",
    "\n",
    "2.       Select the first task\n",
    "\n",
    "3.       Click Edit -> select NER type -> select corresponding text, as defined in Annotation Guidelines.\n",
    "\n",
    "4.       Click Save -> Submit.\n",
    "\n",
    "5.       Go to the next task, until all tasks are completed.\n",
    "\n",
    "In the tasks overview, you should see all 5 tasks submitted."
   ]
  },
  {
   "cell_type": "markdown",
   "metadata": {
    "application/vnd.databricks.v1+cell": {
     "cellMetadata": {},
     "inputWidgets": {},
     "nuid": "1df4cf06-f7fc-4fe0-a46c-2754bbaa2e60",
     "showTitle": false,
     "title": ""
    }
   },
   "source": [
    "### 3. Now, we can train an NER model using the annotations performed on the Annotation Lab"
   ]
  },
  {
   "cell_type": "markdown",
   "metadata": {
    "application/vnd.databricks.v1+cell": {
     "cellMetadata": {},
     "inputWidgets": {},
     "nuid": "b39ed746-af57-48ab-ba57-4d0df9ffaa30",
     "showTitle": false,
     "title": ""
    }
   },
   "source": [
    "#### 3.1. Import the annotations from Annotation Lab and save as a JSON file."
   ]
  },
  {
   "cell_type": "code",
   "execution_count": null,
   "metadata": {
    "application/vnd.databricks.v1+cell": {
     "cellMetadata": {},
     "inputWidgets": {},
     "nuid": "aa782fb0-020c-4af0-aedd-263d529c3144",
     "showTitle": false,
     "title": ""
    }
   },
   "outputs": [
    {
     "data": {
      "text/html": [
       "<style scoped>\n",
       "  .ansiout {\n",
       "    display: block;\n",
       "    unicode-bidi: embed;\n",
       "    white-space: pre-wrap;\n",
       "    word-wrap: break-word;\n",
       "    word-break: break-all;\n",
       "    font-family: \"Source Code Pro\", \"Menlo\", monospace;;\n",
       "    font-size: 13px;\n",
       "    color: #555;\n",
       "    margin-left: 4px;\n",
       "    line-height: 19px;\n",
       "  }\n",
       "</style>\n",
       "<div class=\"ansiout\">Operation completed successfully. Response code: 200\n",
       "Exported 132 Tasks\n",
       "Annotations saved as /dbfs//FileStore/HLS/nlp/delta/silver//result.json.\n",
       "</div>"
      ]
     },
     "metadata": {
      "application/vnd.databricks.v1+output": {
       "addedWidgets": {},
       "arguments": {},
       "data": "<div class=\"ansiout\">Operation completed successfully. Response code: 200\nExported 132 Tasks\nAnnotations saved as /dbfs//FileStore/HLS/nlp/delta/silver//result.json.\n</div>",
       "datasetInfos": [],
       "metadata": {},
       "removedWidgets": [],
       "type": "html"
      }
     },
     "output_type": "display_data"
    }
   ],
   "source": [
    "exported_json = alab.get_annotations(\n",
    "  project_name = 'suicide_detection', \n",
    "  output_name='result',\n",
    "  save_dir=f\"/dbfs/{delta_silver_path}\")\n"
   ]
  },
  {
   "cell_type": "code",
   "execution_count": null,
   "metadata": {
    "application/vnd.databricks.v1+cell": {
     "cellMetadata": {},
     "inputWidgets": {},
     "nuid": "1dfd4e9e-70a4-4e2e-8637-dd6d2c6dc6f5",
     "showTitle": false,
     "title": ""
    }
   },
   "outputs": [
    {
     "data": {
      "text/html": [
       "<style scoped>\n",
       "  .ansiout {\n",
       "    display: block;\n",
       "    unicode-bidi: embed;\n",
       "    white-space: pre-wrap;\n",
       "    word-wrap: break-word;\n",
       "    word-break: break-all;\n",
       "    font-family: \"Source Code Pro\", \"Menlo\", monospace;;\n",
       "    font-size: 13px;\n",
       "    color: #555;\n",
       "    margin-left: 4px;\n",
       "    line-height: 19px;\n",
       "  }\n",
       "</style>\n",
       "<div class=\"ansiout\">/FileStore/HLS/nlp/delta/silver/\n",
       "Out[15]: [FileInfo(path=&#39;dbfs:/FileStore/HLS/nlp/delta/silver/conll_demo.conll&#39;, name=&#39;conll_demo.conll&#39;, size=79866),\n",
       " FileInfo(path=&#39;dbfs:/FileStore/HLS/nlp/delta/silver/ner_model/&#39;, name=&#39;ner_model/&#39;, size=0),\n",
       " FileInfo(path=&#39;dbfs:/FileStore/HLS/nlp/delta/silver/result.json&#39;, name=&#39;result.json&#39;, size=366192)]</div>"
      ]
     },
     "metadata": {
      "application/vnd.databricks.v1+output": {
       "addedWidgets": {},
       "arguments": {},
       "data": "<div class=\"ansiout\">/FileStore/HLS/nlp/delta/silver/\nOut[15]: [FileInfo(path=&#39;dbfs:/FileStore/HLS/nlp/delta/silver/conll_demo.conll&#39;, name=&#39;conll_demo.conll&#39;, size=79866),\n FileInfo(path=&#39;dbfs:/FileStore/HLS/nlp/delta/silver/ner_model/&#39;, name=&#39;ner_model/&#39;, size=0),\n FileInfo(path=&#39;dbfs:/FileStore/HLS/nlp/delta/silver/result.json&#39;, name=&#39;result.json&#39;, size=366192)]</div>",
       "datasetInfos": [],
       "metadata": {},
       "removedWidgets": [],
       "type": "html"
      }
     },
     "output_type": "display_data"
    }
   ],
   "source": [
    "print (delta_silver_path)\n",
    "dbutils.fs.ls(delta_silver_path)"
   ]
  },
  {
   "cell_type": "markdown",
   "metadata": {
    "application/vnd.databricks.v1+cell": {
     "cellMetadata": {},
     "inputWidgets": {},
     "nuid": "9b3eb7e6-5b18-44b8-8374-ce19358afc5f",
     "showTitle": false,
     "title": ""
    }
   },
   "source": [
    "#### 3.2. Convert the JSON file to CoNLL format for training an NER model"
   ]
  },
  {
   "cell_type": "markdown",
   "metadata": {},
   "source": [
    "#### <font color=#FF0000>Note: For demo purpose, we are downloading the annotated tasks from a public source (instead of annotation lab).</font>"
   ]
  },
  {
   "cell_type": "code",
   "execution_count": null,
   "metadata": {},
   "outputs": [],
   "source": [
    "%sh\n",
    "\n",
    "cd $delta_silver_path\n",
    "\n",
    "wget -O suicide_pred_annotations.json https://github.com/JohnSnowLabs/spark-nlp-workshop/raw/master/databricks/python/healthcare_case_studies/data/suicide_pred_annotations.json\n"
   ]
  },
  {
   "cell_type": "code",
   "execution_count": null,
   "metadata": {},
   "outputs": [],
   "source": [
    "print (delta_silver_path)\n",
    "dbutils.fs.ls(delta_silver_path)"
   ]
  },
  {
   "cell_type": "code",
   "execution_count": null,
   "metadata": {
    "application/vnd.databricks.v1+cell": {
     "cellMetadata": {},
     "inputWidgets": {},
     "nuid": "00f0e706-afce-4f21-8838-684842c95558",
     "showTitle": false,
     "title": ""
    },
    "tags": []
   },
   "outputs": [
    {
     "data": {
      "text/html": [
       "<style scoped>\n",
       "  .ansiout {\n",
       "    display: block;\n",
       "    unicode-bidi: embed;\n",
       "    white-space: pre-wrap;\n",
       "    word-wrap: break-word;\n",
       "    word-break: break-all;\n",
       "    font-family: \"Source Code Pro\", \"Menlo\", monospace;;\n",
       "    font-size: 13px;\n",
       "    color: #555;\n",
       "    margin-left: 4px;\n",
       "    line-height: 19px;\n",
       "  }\n",
       "</style>\n",
       "<div class=\"ansiout\">sentence_detector_dl_healthcare download started this may take some time.\n",
       "Approximate size to download 367.3 KB\n",
       "\r",
       "[ | ]\r",
       "[ / ]\r",
       "[ — ]\r",
       "[OK!]\n",
       "pos_clinical download started this may take some time.\n",
       "Approximate size to download 1.5 MB\n",
       "\r",
       "[ | ]\r",
       "[ / ]\r",
       "[OK!]\n",
       "Spark NLP LightPipeline is created\n",
       "sentence_detector_dl_healthcare download started this may take some time.\n",
       "Approximate size to download 367.3 KB\n",
       "\r",
       "[ | ]\r",
       "[OK!]\n",
       "Spark NLP LightPipeline is created\n",
       "Attempting to process: Task ID# 1\n",
       "Task ID# 1 is included\n",
       "Attempting to process: Task ID# 2\n",
       "Task ID# 2 is included\n",
       "Attempting to process: Task ID# 3\n",
       "Task ID# 3 is included\n",
       "Attempting to process: Task ID# 4\n",
       "Task ID# 4 is included\n",
       "Attempting to process: Task ID# 5\n",
       "Task ID# 5 is included\n",
       "Attempting to process: Task ID# 6\n",
       "Task ID# 6 is included\n",
       "Attempting to process: Task ID# 7\n",
       "Task ID# 7 is included\n",
       "Attempting to process: Task ID# 8\n",
       "Task ID# 8 is included\n",
       "Attempting to process: Task ID# 9\n",
       "Task ID# 9 is included\n",
       "Attempting to process: Task ID# 10\n",
       "Task ID# 10 is included\n",
       "Attempting to process: Task ID# 11\n",
       "Task ID# 11 is included\n",
       "Attempting to process: Task ID# 12\n",
       "Task ID# 12 is included\n",
       "Attempting to process: Task ID# 13\n",
       "Task ID# 13 is included\n",
       "Attempting to process: Task ID# 14\n",
       "Task ID# 14 is included\n",
       "Attempting to process: Task ID# 15\n",
       "Task ID# 15 is included\n",
       "Attempting to process: Task ID# 16\n",
       "Task ID# 16 is included\n",
       "Attempting to process: Task ID# 17\n",
       "Task ID# 17 is included\n",
       "Attempting to process: Task ID# 18\n",
       "Task ID# 18 is included\n",
       "Attempting to process: Task ID# 19\n",
       "Task ID# 19 is included\n",
       "Attempting to process: Task ID# 20\n",
       "Task ID# 20 is included\n",
       "Attempting to process: Task ID# 21\n",
       "Task ID# 21 is included\n",
       "Attempting to process: Task ID# 22\n",
       "Task ID# 22 is included\n",
       "Attempting to process: Task ID# 23\n",
       "Task ID# 23 is included\n",
       "Attempting to process: Task ID# 24\n",
       "Task ID# 24 is included\n",
       "Attempting to process: Task ID# 25\n",
       "Task ID# 25 is included\n",
       "Attempting to process: Task ID# 26\n",
       "Task ID# 26 is included\n",
       "Attempting to process: Task ID# 27\n",
       "Task ID# 27 is included\n",
       "Attempting to process: Task ID# 28\n",
       "Task ID# 28 is included\n",
       "Attempting to process: Task ID# 29\n",
       "Task ID# 29 is included\n",
       "Attempting to process: Task ID# 30\n",
       "Task ID# 30 is included\n",
       "Attempting to process: Task ID# 31\n",
       "Task ID# 31 is included\n",
       "Attempting to process: Task ID# 32\n",
       "Task ID# 32 is included\n",
       "Attempting to process: Task ID# 33\n",
       "Task ID# 33 is included\n",
       "Attempting to process: Task ID# 34\n",
       "Task ID# 34 is included\n",
       "Attempting to process: Task ID# 35\n",
       "Task ID# 35 is included\n",
       "Attempting to process: Task ID# 36\n",
       "Task ID# 36 is included\n",
       "Attempting to process: Task ID# 37\n",
       "Task ID# 37 is included\n",
       "Attempting to process: Task ID# 38\n",
       "Task ID# 38 is included\n",
       "Attempting to process: Task ID# 39\n",
       "Task ID# 39 is included\n",
       "Attempting to process: Task ID# 40\n",
       "Task ID# 40 is included\n",
       "Attempting to process: Task ID# 41\n",
       "Task ID# 41 is included\n",
       "Attempting to process: Task ID# 42\n",
       "Task ID# 42 is included\n",
       "Attempting to process: Task ID# 43\n",
       "Task ID# 43 is included\n",
       "Attempting to process: Task ID# 44\n",
       "Task ID# 44 is included\n",
       "Attempting to process: Task ID# 45\n",
       "Task ID# 45 is included\n",
       "Attempting to process: Task ID# 46\n",
       "Task ID# 46 is included\n",
       "Attempting to process: Task ID# 47\n",
       "Task ID# 47 is included\n",
       "Attempting to process: Task ID# 48\n",
       "Task ID# 48 is included\n",
       "Attempting to process: Task ID# 49\n",
       "Task ID# 49 is included\n",
       "Attempting to process: Task ID# 50\n",
       "Task ID# 50 is included\n",
       "Attempting to process: Task ID# 51\n",
       "Task ID# 51 is included\n",
       "Attempting to process: Task ID# 52\n",
       "Task ID# 52 is included\n",
       "Attempting to process: Task ID# 53\n",
       "Task ID# 53 is included\n",
       "Attempting to process: Task ID# 54\n",
       "Task ID# 54 is included\n",
       "Attempting to process: Task ID# 55\n",
       "Task ID# 55 is included\n",
       "Attempting to process: Task ID# 56\n",
       "Task ID# 56 is included\n",
       "Attempting to process: Task ID# 57\n",
       "Task ID# 57 is included\n",
       "Attempting to process: Task ID# 58\n",
       "Task ID# 58 is included\n",
       "Attempting to process: Task ID# 59\n",
       "Task ID# 59 is included\n",
       "Attempting to process: Task ID# 60\n",
       "Task ID# 60 is included\n",
       "Attempting to process: Task ID# 61\n",
       "Task ID# 61 is included\n",
       "Attempting to process: Task ID# 62\n",
       "Task ID# 62 is included\n",
       "Attempting to process: Task ID# 63\n",
       "Task ID# 63 is included\n",
       "Attempting to process: Task ID# 64\n",
       "Task ID# 64 is included\n",
       "Attempting to process: Task ID# 65\n",
       "Task ID# 65 is included\n",
       "Attempting to process: Task ID# 66\n",
       "Task ID# 66 is included\n",
       "Attempting to process: Task ID# 67\n",
       "Task ID# 67 is included\n",
       "Attempting to process: Task ID# 68\n",
       "Task ID# 68 is included\n",
       "Attempting to process: Task ID# 69\n",
       "Task ID# 69 is included\n",
       "Attempting to process: Task ID# 70\n",
       "Task ID# 70 is included\n",
       "Attempting to process: Task ID# 71\n",
       "Task ID# 71 is included\n",
       "Attempting to process: Task ID# 72\n",
       "Task ID# 72 is included\n",
       "Attempting to process: Task ID# 73\n",
       "Task ID# 73 is included\n",
       "Attempting to process: Task ID# 74\n",
       "Task ID# 74 is included\n",
       "Attempting to process: Task ID# 75\n",
       "Task ID# 75 is included\n",
       "Attempting to process: Task ID# 76\n",
       "Task ID# 76 is included\n",
       "Attempting to process: Task ID# 77\n",
       "Task ID# 77 is included\n",
       "Attempting to process: Task ID# 78\n",
       "Task ID# 78 is included\n",
       "Attempting to process: Task ID# 79\n",
       "Task ID# 79 is included\n",
       "Attempting to process: Task ID# 80\n",
       "Task ID# 80 is included\n",
       "Attempting to process: Task ID# 81\n",
       "Task ID# 81 is included\n",
       "Attempting to process: Task ID# 82\n",
       "Task ID# 82 is included\n",
       "Attempting to process: Task ID# 83\n",
       "Task ID# 83 is included\n",
       "Attempting to process: Task ID# 84\n",
       "Task ID# 84 is included\n",
       "Attempting to process: Task ID# 85\n",
       "Task ID# 85 is included\n",
       "Attempting to process: Task ID# 86\n",
       "Task ID# 86 is included\n",
       "Attempting to process: Task ID# 87\n",
       "Task ID# 87 is included\n",
       "Attempting to process: Task ID# 88\n",
       "Task ID# 88 is included\n",
       "Attempting to process: Task ID# 89\n",
       "Task ID# 89 is included\n",
       "Attempting to process: Task ID# 90\n",
       "Task ID# 90 is included\n",
       "Attempting to process: Task ID# 91\n",
       "Task ID# 91 is included\n",
       "Attempting to process: Task ID# 92\n",
       "Task ID# 92 is included\n",
       "Attempting to process: Task ID# 93\n",
       "Task ID# 93 is included\n",
       "Attempting to process: Task ID# 94\n",
       "Task ID# 94 is included\n",
       "Attempting to process: Task ID# 95\n",
       "Task ID# 95 is included\n",
       "Attempting to process: Task ID# 96\n",
       "Task ID# 96 is included\n",
       "Attempting to process: Task ID# 97\n",
       "Task ID# 97 is included\n",
       "Attempting to process: Task ID# 98\n",
       "Task ID# 98 is included\n",
       "Attempting to process: Task ID# 99\n",
       "Task ID# 99 is included\n",
       "Attempting to process: Task ID# 100\n",
       "Task ID# 100 is included\n",
       "Attempting to process: Task ID# 101\n",
       "Task ID# 101 is included\n",
       "Attempting to process: Task ID# 102\n",
       "Task ID# 102 is included\n",
       "Attempting to process: Task ID# 103\n",
       "Task ID# 103 is included\n",
       "Attempting to process: Task ID# 104\n",
       "Task ID# 104 is included\n",
       "Attempting to process: Task ID# 105\n",
       "Task ID# 105 is included\n",
       "Attempting to process: Task ID# 106\n",
       "Task ID# 106 is included\n",
       "Attempting to process: Task ID# 107\n",
       "Task ID# 107 is included\n",
       "Attempting to process: Task ID# 108\n",
       "Task ID# 108 is included\n",
       "Attempting to process: Task ID# 109\n",
       "Task ID# 109 is included\n",
       "Attempting to process: Task ID# 110\n",
       "Task ID# 110 is included\n",
       "Attempting to process: Task ID# 111\n",
       "Task ID# 111 is included\n",
       "Attempting to process: Task ID# 112\n",
       "Task ID# 112 is included\n",
       "Attempting to process: Task ID# 113\n",
       "Task ID# 113 is included\n",
       "Attempting to process: Task ID# 114\n",
       "Task ID# 114 is included\n",
       "Attempting to process: Task ID# 115\n",
       "Task ID# 115 is included\n",
       "Attempting to process: Task ID# 116\n",
       "Task ID# 116 is included\n",
       "Attempting to process: Task ID# 117\n",
       "Task ID# 117 is included\n",
       "Attempting to process: Task ID# 118\n",
       "Task ID# 118 is included\n",
       "Attempting to process: Task ID# 119\n",
       "Task ID# 119 is included\n",
       "Attempting to process: Task ID# 120\n",
       "Task ID# 120 is included\n",
       "Attempting to process: Task ID# 121\n",
       "Task ID# 121 is included\n",
       "Attempting to process: Task ID# 122\n",
       "Task ID# 122 is included\n",
       "Attempting to process: Task ID# 123\n",
       "Task ID# 123 is included\n",
       "Attempting to process: Task ID# 124\n",
       "Task ID# 124 is included\n",
       "Attempting to process: Task ID# 125\n",
       "Task ID# 125 is included\n",
       "Attempting to process: Task ID# 126\n",
       "Task ID# 126 is included\n",
       "Attempting to process: Task ID# 127\n",
       "Task ID# 127 is included\n",
       "Attempting to process: Task ID# 128\n",
       "Task ID# 128 is included\n",
       "Attempting to process: Task ID# 129\n",
       "Task ID# 129 is included\n",
       "Attempting to process: Task ID# 130\n",
       "Task ID# 130 is included\n",
       "Attempting to process: Task ID# 131\n",
       "Task ID# 131 is included\n",
       "Attempting to process: Task ID# 132\n",
       "Task ID# 132 is included\n",
       "Saved in location: /dbfs//FileStore/HLS/nlp/delta/silver//conll_demo.conll\n",
       "\n",
       "Printing first 30 lines of CoNLL for inspection:\n",
       "\n",
       "Out[16]: [&#39;-DOCSTART- -X- -1- O\\n\\n&#39;,\n",
       " &#39;I MC MC O\\n&#39;,\n",
       " &#39;know NN NN O\\n&#39;,\n",
       " &#39;suicide NN NN B-SUICIDE_BEHAVIOR\\n&#39;,\n",
       " &#39;is VBZ VBZ O\\n&#39;,\n",
       " &#39;not RR RR O\\n&#39;,\n",
       " &#39;the DD DD O\\n&#39;,\n",
       " &#39;answer NN NN O\\n&#39;,\n",
       " &#39;but CC CC O\\n&#39;,\n",
       " &#39;- SYM SYM O\\n&#39;,\n",
       " &#39;but CC CC O\\n&#39;,\n",
       " &#39;still RR RR O\\n&#39;,\n",
       " &#39;, NN NN O\\n&#39;,\n",
       " &#39;i MC MC O\\n&#39;,\n",
       " &#39;do VDB VDB O\\n&#39;,\n",
       " &#39;not RR RR O\\n&#39;,\n",
       " &#39;want VVB VVB O\\n&#39;,\n",
       " &#39;to II II O\\n&#39;,\n",
       " &#39;keep NN NN O\\n&#39;,\n",
       " &#39;on II II O\\n&#39;,\n",
       " &#39;living VVGJ VVGJ O\\n&#39;,\n",
       " &#39;. NN NN O\\n&#39;,\n",
       " &#39;\\n&#39;,\n",
       " &#39;i NN NN O\\n&#39;,\n",
       " &#39;have VHB VHB O\\n&#39;,\n",
       " &#39;zero MC MC O\\n&#39;,\n",
       " &#39;hope NN NN O\\n&#39;,\n",
       " &#39;for II II O\\n&#39;,\n",
       " &#39;the DD DD O\\n&#39;,\n",
       " &#39;future JJ JJ O\\n&#39;]</div>"
      ]
     },
     "metadata": {
      "application/vnd.databricks.v1+output": {
       "addedWidgets": {},
       "arguments": {},
       "data": "<div class=\"ansiout\">sentence_detector_dl_healthcare download started this may take some time.\nApproximate size to download 367.3 KB\n\r[ | ]\r[ / ]\r[ — ]\r[OK!]\npos_clinical download started this may take some time.\nApproximate size to download 1.5 MB\n\r[ | ]\r[ / ]\r[OK!]\nSpark NLP LightPipeline is created\nsentence_detector_dl_healthcare download started this may take some time.\nApproximate size to download 367.3 KB\n\r[ | ]\r[OK!]\nSpark NLP LightPipeline is created\nAttempting to process: Task ID# 1\nTask ID# 1 is included\nAttempting to process: Task ID# 2\nTask ID# 2 is included\nAttempting to process: Task ID# 3\nTask ID# 3 is included\nAttempting to process: Task ID# 4\nTask ID# 4 is included\nAttempting to process: Task ID# 5\nTask ID# 5 is included\nAttempting to process: Task ID# 6\nTask ID# 6 is included\nAttempting to process: Task ID# 7\nTask ID# 7 is included\nAttempting to process: Task ID# 8\nTask ID# 8 is included\nAttempting to process: Task ID# 9\nTask ID# 9 is included\nAttempting to process: Task ID# 10\nTask ID# 10 is included\nAttempting to process: Task ID# 11\nTask ID# 11 is included\nAttempting to process: Task ID# 12\nTask ID# 12 is included\nAttempting to process: Task ID# 13\nTask ID# 13 is included\nAttempting to process: Task ID# 14\nTask ID# 14 is included\nAttempting to process: Task ID# 15\nTask ID# 15 is included\nAttempting to process: Task ID# 16\nTask ID# 16 is included\nAttempting to process: Task ID# 17\nTask ID# 17 is included\nAttempting to process: Task ID# 18\nTask ID# 18 is included\nAttempting to process: Task ID# 19\nTask ID# 19 is included\nAttempting to process: Task ID# 20\nTask ID# 20 is included\nAttempting to process: Task ID# 21\nTask ID# 21 is included\nAttempting to process: Task ID# 22\nTask ID# 22 is included\nAttempting to process: Task ID# 23\nTask ID# 23 is included\nAttempting to process: Task ID# 24\nTask ID# 24 is included\nAttempting to process: Task ID# 25\nTask ID# 25 is included\nAttempting to process: Task ID# 26\nTask ID# 26 is included\nAttempting to process: Task ID# 27\nTask ID# 27 is included\nAttempting to process: Task ID# 28\nTask ID# 28 is included\nAttempting to process: Task ID# 29\nTask ID# 29 is included\nAttempting to process: Task ID# 30\nTask ID# 30 is included\nAttempting to process: Task ID# 31\nTask ID# 31 is included\nAttempting to process: Task ID# 32\nTask ID# 32 is included\nAttempting to process: Task ID# 33\nTask ID# 33 is included\nAttempting to process: Task ID# 34\nTask ID# 34 is included\nAttempting to process: Task ID# 35\nTask ID# 35 is included\nAttempting to process: Task ID# 36\nTask ID# 36 is included\nAttempting to process: Task ID# 37\nTask ID# 37 is included\nAttempting to process: Task ID# 38\nTask ID# 38 is included\nAttempting to process: Task ID# 39\nTask ID# 39 is included\nAttempting to process: Task ID# 40\nTask ID# 40 is included\nAttempting to process: Task ID# 41\nTask ID# 41 is included\nAttempting to process: Task ID# 42\nTask ID# 42 is included\nAttempting to process: Task ID# 43\nTask ID# 43 is included\nAttempting to process: Task ID# 44\nTask ID# 44 is included\nAttempting to process: Task ID# 45\nTask ID# 45 is included\nAttempting to process: Task ID# 46\nTask ID# 46 is included\nAttempting to process: Task ID# 47\nTask ID# 47 is included\nAttempting to process: Task ID# 48\nTask ID# 48 is included\nAttempting to process: Task ID# 49\nTask ID# 49 is included\nAttempting to process: Task ID# 50\nTask ID# 50 is included\nAttempting to process: Task ID# 51\nTask ID# 51 is included\nAttempting to process: Task ID# 52\nTask ID# 52 is included\nAttempting to process: Task ID# 53\nTask ID# 53 is included\nAttempting to process: Task ID# 54\nTask ID# 54 is included\nAttempting to process: Task ID# 55\nTask ID# 55 is included\nAttempting to process: Task ID# 56\nTask ID# 56 is included\nAttempting to process: Task ID# 57\nTask ID# 57 is included\nAttempting to process: Task ID# 58\nTask ID# 58 is included\nAttempting to process: Task ID# 59\nTask ID# 59 is included\nAttempting to process: Task ID# 60\nTask ID# 60 is included\nAttempting to process: Task ID# 61\nTask ID# 61 is included\nAttempting to process: Task ID# 62\nTask ID# 62 is included\nAttempting to process: Task ID# 63\nTask ID# 63 is included\nAttempting to process: Task ID# 64\nTask ID# 64 is included\nAttempting to process: Task ID# 65\nTask ID# 65 is included\nAttempting to process: Task ID# 66\nTask ID# 66 is included\nAttempting to process: Task ID# 67\nTask ID# 67 is included\nAttempting to process: Task ID# 68\nTask ID# 68 is included\nAttempting to process: Task ID# 69\nTask ID# 69 is included\nAttempting to process: Task ID# 70\nTask ID# 70 is included\nAttempting to process: Task ID# 71\nTask ID# 71 is included\nAttempting to process: Task ID# 72\nTask ID# 72 is included\nAttempting to process: Task ID# 73\nTask ID# 73 is included\nAttempting to process: Task ID# 74\nTask ID# 74 is included\nAttempting to process: Task ID# 75\nTask ID# 75 is included\nAttempting to process: Task ID# 76\nTask ID# 76 is included\nAttempting to process: Task ID# 77\nTask ID# 77 is included\nAttempting to process: Task ID# 78\nTask ID# 78 is included\nAttempting to process: Task ID# 79\nTask ID# 79 is included\nAttempting to process: Task ID# 80\nTask ID# 80 is included\nAttempting to process: Task ID# 81\nTask ID# 81 is included\nAttempting to process: Task ID# 82\nTask ID# 82 is included\nAttempting to process: Task ID# 83\nTask ID# 83 is included\nAttempting to process: Task ID# 84\nTask ID# 84 is included\nAttempting to process: Task ID# 85\nTask ID# 85 is included\nAttempting to process: Task ID# 86\nTask ID# 86 is included\nAttempting to process: Task ID# 87\nTask ID# 87 is included\nAttempting to process: Task ID# 88\nTask ID# 88 is included\nAttempting to process: Task ID# 89\nTask ID# 89 is included\nAttempting to process: Task ID# 90\nTask ID# 90 is included\nAttempting to process: Task ID# 91\nTask ID# 91 is included\nAttempting to process: Task ID# 92\nTask ID# 92 is included\nAttempting to process: Task ID# 93\nTask ID# 93 is included\nAttempting to process: Task ID# 94\nTask ID# 94 is included\nAttempting to process: Task ID# 95\nTask ID# 95 is included\nAttempting to process: Task ID# 96\nTask ID# 96 is included\nAttempting to process: Task ID# 97\nTask ID# 97 is included\nAttempting to process: Task ID# 98\nTask ID# 98 is included\nAttempting to process: Task ID# 99\nTask ID# 99 is included\nAttempting to process: Task ID# 100\nTask ID# 100 is included\nAttempting to process: Task ID# 101\nTask ID# 101 is included\nAttempting to process: Task ID# 102\nTask ID# 102 is included\nAttempting to process: Task ID# 103\nTask ID# 103 is included\nAttempting to process: Task ID# 104\nTask ID# 104 is included\nAttempting to process: Task ID# 105\nTask ID# 105 is included\nAttempting to process: Task ID# 106\nTask ID# 106 is included\nAttempting to process: Task ID# 107\nTask ID# 107 is included\nAttempting to process: Task ID# 108\nTask ID# 108 is included\nAttempting to process: Task ID# 109\nTask ID# 109 is included\nAttempting to process: Task ID# 110\nTask ID# 110 is included\nAttempting to process: Task ID# 111\nTask ID# 111 is included\nAttempting to process: Task ID# 112\nTask ID# 112 is included\nAttempting to process: Task ID# 113\nTask ID# 113 is included\nAttempting to process: Task ID# 114\nTask ID# 114 is included\nAttempting to process: Task ID# 115\nTask ID# 115 is included\nAttempting to process: Task ID# 116\nTask ID# 116 is included\nAttempting to process: Task ID# 117\nTask ID# 117 is included\nAttempting to process: Task ID# 118\nTask ID# 118 is included\nAttempting to process: Task ID# 119\nTask ID# 119 is included\nAttempting to process: Task ID# 120\nTask ID# 120 is included\nAttempting to process: Task ID# 121\nTask ID# 121 is included\nAttempting to process: Task ID# 122\nTask ID# 122 is included\nAttempting to process: Task ID# 123\nTask ID# 123 is included\nAttempting to process: Task ID# 124\nTask ID# 124 is included\nAttempting to process: Task ID# 125\nTask ID# 125 is included\nAttempting to process: Task ID# 126\nTask ID# 126 is included\nAttempting to process: Task ID# 127\nTask ID# 127 is included\nAttempting to process: Task ID# 128\nTask ID# 128 is included\nAttempting to process: Task ID# 129\nTask ID# 129 is included\nAttempting to process: Task ID# 130\nTask ID# 130 is included\nAttempting to process: Task ID# 131\nTask ID# 131 is included\nAttempting to process: Task ID# 132\nTask ID# 132 is included\nSaved in location: /dbfs//FileStore/HLS/nlp/delta/silver//conll_demo.conll\n\nPrinting first 30 lines of CoNLL for inspection:\n\nOut[16]: [&#39;-DOCSTART- -X- -1- O\\n\\n&#39;,\n &#39;I MC MC O\\n&#39;,\n &#39;know NN NN O\\n&#39;,\n &#39;suicide NN NN B-SUICIDE_BEHAVIOR\\n&#39;,\n &#39;is VBZ VBZ O\\n&#39;,\n &#39;not RR RR O\\n&#39;,\n &#39;the DD DD O\\n&#39;,\n &#39;answer NN NN O\\n&#39;,\n &#39;but CC CC O\\n&#39;,\n &#39;- SYM SYM O\\n&#39;,\n &#39;but CC CC O\\n&#39;,\n &#39;still RR RR O\\n&#39;,\n &#39;, NN NN O\\n&#39;,\n &#39;i MC MC O\\n&#39;,\n &#39;do VDB VDB O\\n&#39;,\n &#39;not RR RR O\\n&#39;,\n &#39;want VVB VVB O\\n&#39;,\n &#39;to II II O\\n&#39;,\n &#39;keep NN NN O\\n&#39;,\n &#39;on II II O\\n&#39;,\n &#39;living VVGJ VVGJ O\\n&#39;,\n &#39;. NN NN O\\n&#39;,\n &#39;\\n&#39;,\n &#39;i NN NN O\\n&#39;,\n &#39;have VHB VHB O\\n&#39;,\n &#39;zero MC MC O\\n&#39;,\n &#39;hope NN NN O\\n&#39;,\n &#39;for II II O\\n&#39;,\n &#39;the DD DD O\\n&#39;,\n &#39;future JJ JJ O\\n&#39;]</div>",
       "datasetInfos": [],
       "metadata": {},
       "removedWidgets": [],
       "type": "html"
      }
     },
     "output_type": "display_data"
    }
   ],
   "source": [
    "\n",
    "from sparknlp_jsl.alab import AnnotationLab\n",
    "\n",
    "alab = AnnotationLab()\n",
    "\n",
    "alab.get_conll_data(spark, f\"/dbfs/{delta_silver_path}result.json\", output_name='conll_demo', save_dir=f\"/dbfs/{delta_silver_path}\")\n"
   ]
  },
  {
   "cell_type": "code",
   "execution_count": null,
   "metadata": {
    "application/vnd.databricks.v1+cell": {
     "cellMetadata": {},
     "inputWidgets": {},
     "nuid": "c577d36d-b5c7-4776-af9a-2652b6fa4733",
     "showTitle": false,
     "title": ""
    }
   },
   "outputs": [
    {
     "data": {
      "text/html": [
       "<style scoped>\n",
       "  .ansiout {\n",
       "    display: block;\n",
       "    unicode-bidi: embed;\n",
       "    white-space: pre-wrap;\n",
       "    word-wrap: break-word;\n",
       "    word-break: break-all;\n",
       "    font-family: \"Source Code Pro\", \"Menlo\", monospace;;\n",
       "    font-size: 13px;\n",
       "    color: #555;\n",
       "    margin-left: 4px;\n",
       "    line-height: 19px;\n",
       "  }\n",
       "</style>\n",
       "<div class=\"ansiout\">Out[17]: [FileInfo(path=&#39;dbfs:/FileStore/HLS/nlp/delta/silver/conll_demo.conll&#39;, name=&#39;conll_demo.conll&#39;, size=461135),\n",
       " FileInfo(path=&#39;dbfs:/FileStore/HLS/nlp/delta/silver/ner_model/&#39;, name=&#39;ner_model/&#39;, size=0),\n",
       " FileInfo(path=&#39;dbfs:/FileStore/HLS/nlp/delta/silver/result.json&#39;, name=&#39;result.json&#39;, size=366192)]</div>"
      ]
     },
     "metadata": {
      "application/vnd.databricks.v1+output": {
       "addedWidgets": {},
       "arguments": {},
       "data": "<div class=\"ansiout\">Out[17]: [FileInfo(path=&#39;dbfs:/FileStore/HLS/nlp/delta/silver/conll_demo.conll&#39;, name=&#39;conll_demo.conll&#39;, size=461135),\n FileInfo(path=&#39;dbfs:/FileStore/HLS/nlp/delta/silver/ner_model/&#39;, name=&#39;ner_model/&#39;, size=0),\n FileInfo(path=&#39;dbfs:/FileStore/HLS/nlp/delta/silver/result.json&#39;, name=&#39;result.json&#39;, size=366192)]</div>",
       "datasetInfos": [],
       "metadata": {},
       "removedWidgets": [],
       "type": "html"
      }
     },
     "output_type": "display_data"
    }
   ],
   "source": [
    "dbutils.fs.ls(delta_silver_path)"
   ]
  },
  {
   "cell_type": "markdown",
   "metadata": {
    "application/vnd.databricks.v1+cell": {
     "cellMetadata": {},
     "inputWidgets": {},
     "nuid": "7ffc8fa8-3f9b-441b-8198-3b06415d22b6",
     "showTitle": false,
     "title": ""
    }
   },
   "source": [
    "#### 3.3. Train NER Model"
   ]
  },
  {
   "cell_type": "markdown",
   "metadata": {
    "application/vnd.databricks.v1+cell": {
     "cellMetadata": {},
     "inputWidgets": {},
     "nuid": "bf475498-5740-4ebe-9b4e-7b1d0ef20296",
     "showTitle": false,
     "title": ""
    }
   },
   "source": [
    "Load Data"
   ]
  },
  {
   "cell_type": "code",
   "execution_count": null,
   "metadata": {
    "application/vnd.databricks.v1+cell": {
     "cellMetadata": {},
     "inputWidgets": {},
     "nuid": "55c27210-76fa-421d-a269-231a785541a6",
     "showTitle": false,
     "title": ""
    }
   },
   "outputs": [
    {
     "data": {
      "text/html": [
       "<style scoped>\n",
       "  .ansiout {\n",
       "    display: block;\n",
       "    unicode-bidi: embed;\n",
       "    white-space: pre-wrap;\n",
       "    word-wrap: break-word;\n",
       "    word-break: break-all;\n",
       "    font-family: \"Source Code Pro\", \"Menlo\", monospace;;\n",
       "    font-size: 13px;\n",
       "    color: #555;\n",
       "    margin-left: 4px;\n",
       "    line-height: 19px;\n",
       "  }\n",
       "</style>\n",
       "<div class=\"ansiout\">+--------------------+--------------------+--------------------+--------------------+--------------------+--------------------+\n",
       "                text|            document|            sentence|               token|                 pos|               label|\n",
       "+--------------------+--------------------+--------------------+--------------------+--------------------+--------------------+\n",
       "I know suicide is...|[{document, 0, 83...|[{document, 0, 83...|[{token, 0, 0, I,...|[{pos, 0, 0, MC, ...|[{named_entity, 0...|\n",
       "i have zero hope ...|[{document, 0, 54...|[{document, 0, 54...|[{token, 0, 0, i,...|[{pos, 0, 0, NN, ...|[{named_entity, 0...|\n",
       "the only things t...|[{document, 0, 11...|[{document, 0, 11...|[{token, 0, 2, th...|[{pos, 0, 2, DD, ...|[{named_entity, 0...|\n",
       "+--------------------+--------------------+--------------------+--------------------+--------------------+--------------------+\n",
       "only showing top 3 rows\n",
       "\n",
       "</div>"
      ]
     },
     "metadata": {
      "application/vnd.databricks.v1+output": {
       "addedWidgets": {},
       "arguments": {},
       "data": "<div class=\"ansiout\">+--------------------+--------------------+--------------------+--------------------+--------------------+--------------------+\n|                text|            document|            sentence|               token|                 pos|               label|\n+--------------------+--------------------+--------------------+--------------------+--------------------+--------------------+\n|I know suicide is...|[{document, 0, 83...|[{document, 0, 83...|[{token, 0, 0, I,...|[{pos, 0, 0, MC, ...|[{named_entity, 0...|\n|i have zero hope ...|[{document, 0, 54...|[{document, 0, 54...|[{token, 0, 0, i,...|[{pos, 0, 0, NN, ...|[{named_entity, 0...|\n|the only things t...|[{document, 0, 11...|[{document, 0, 11...|[{token, 0, 2, th...|[{pos, 0, 2, DD, ...|[{named_entity, 0...|\n+--------------------+--------------------+--------------------+--------------------+--------------------+--------------------+\nonly showing top 3 rows\n\n</div>",
       "datasetInfos": [],
       "metadata": {},
       "removedWidgets": [],
       "type": "html"
      }
     },
     "output_type": "display_data"
    }
   ],
   "source": [
    "conll_data = CoNLL().readDataset(spark, f\"{delta_silver_path}conll_demo.conll\")\n",
    "\n",
    "conll_data.show(3)"
   ]
  },
  {
   "cell_type": "markdown",
   "metadata": {
    "application/vnd.databricks.v1+cell": {
     "cellMetadata": {},
     "inputWidgets": {},
     "nuid": "1c395d6a-4758-4dfc-a17a-32894fc3ad84",
     "showTitle": false,
     "title": ""
    }
   },
   "source": [
    "Look at label distribution"
   ]
  },
  {
   "cell_type": "code",
   "execution_count": null,
   "metadata": {
    "application/vnd.databricks.v1+cell": {
     "cellMetadata": {},
     "inputWidgets": {},
     "nuid": "a048991a-c514-478f-a0c4-539e028ffeaa",
     "showTitle": false,
     "title": ""
    }
   },
   "outputs": [
    {
     "data": {
      "text/html": [
       "<style scoped>\n",
       "  .ansiout {\n",
       "    display: block;\n",
       "    unicode-bidi: embed;\n",
       "    white-space: pre-wrap;\n",
       "    word-wrap: break-word;\n",
       "    word-break: break-all;\n",
       "    font-family: \"Source Code Pro\", \"Menlo\", monospace;;\n",
       "    font-size: 13px;\n",
       "    color: #555;\n",
       "    margin-left: 4px;\n",
       "    line-height: 19px;\n",
       "  }\n",
       "</style>\n",
       "<div class=\"ansiout\">+-------------------+-----+\n",
       "ground_truth       |count|\n",
       "+-------------------+-----+\n",
       "O                  |34041|\n",
       "B-SUICIDE_BEHAVIOR |100  |\n",
       "I-SUICIDE_BEHAVIOR |70   |\n",
       "B-SUICIDE_PSYCHACHE|19   |\n",
       "I-SUICIDE_PSYCHACHE|1    |\n",
       "+-------------------+-----+\n",
       "\n",
       "</div>"
      ]
     },
     "metadata": {
      "application/vnd.databricks.v1+output": {
       "addedWidgets": {},
       "arguments": {},
       "data": "<div class=\"ansiout\">+-------------------+-----+\n|ground_truth       |count|\n+-------------------+-----+\n|O                  |34041|\n|B-SUICIDE_BEHAVIOR |100  |\n|I-SUICIDE_BEHAVIOR |70   |\n|B-SUICIDE_PSYCHACHE|19   |\n|I-SUICIDE_PSYCHACHE|1    |\n+-------------------+-----+\n\n</div>",
       "datasetInfos": [],
       "metadata": {},
       "removedWidgets": [],
       "type": "html"
      }
     },
     "output_type": "display_data"
    }
   ],
   "source": [
    "\n",
    "from pyspark.sql import functions as F\n",
    "\n",
    "conll_data.select(F.explode(F.arrays_zip(conll_data.token.result,\n",
    "                                         conll_data.label.result)).alias(\"cols\")) \\\n",
    "          .select(F.expr(\"cols['0']\").alias(\"token\"),\n",
    "                  F.expr(\"cols['1']\").alias(\"ground_truth\"))\\\n",
    "          .groupBy('ground_truth')\\\n",
    "          .count()\\\n",
    "          .orderBy('count', ascending=False)\\\n",
    "          .show(100,truncate=False)\n",
    "\n"
   ]
  },
  {
   "cell_type": "markdown",
   "metadata": {
    "application/vnd.databricks.v1+cell": {
     "cellMetadata": {},
     "inputWidgets": {},
     "nuid": "f1c87bd8-d675-4b3b-ad48-00bd16d12f2d",
     "showTitle": false,
     "title": ""
    }
   },
   "source": [
    "Select Embeddings"
   ]
  },
  {
   "cell_type": "code",
   "execution_count": null,
   "metadata": {
    "application/vnd.databricks.v1+cell": {
     "cellMetadata": {},
     "inputWidgets": {},
     "nuid": "fc0ab4b8-6a4d-4046-b0b9-d9964b58d5f2",
     "showTitle": false,
     "title": ""
    }
   },
   "outputs": [
    {
     "data": {
      "text/html": [
       "<style scoped>\n",
       "  .ansiout {\n",
       "    display: block;\n",
       "    unicode-bidi: embed;\n",
       "    white-space: pre-wrap;\n",
       "    word-wrap: break-word;\n",
       "    word-break: break-all;\n",
       "    font-family: \"Source Code Pro\", \"Menlo\", monospace;;\n",
       "    font-size: 13px;\n",
       "    color: #555;\n",
       "    margin-left: 4px;\n",
       "    line-height: 19px;\n",
       "  }\n",
       "</style>\n",
       "<div class=\"ansiout\">embeddings_clinical download started this may take some time.\n",
       "Approximate size to download 1.6 GB\n",
       "\r",
       "[ | ]\r",
       "[ / ]\r",
       "[ — ]\r",
       "[ \\ ]\r",
       "[ | ]\r",
       "[ / ]\r",
       "[ — ]\r",
       "[ \\ ]\r",
       "[ | ]\r",
       "[ / ]\r",
       "[ — ]\r",
       "[ \\ ]\r",
       "[ | ]\r",
       "[ / ]\r",
       "[ — ]\r",
       "[ \\ ]\r",
       "[ | ]\r",
       "[ / ]\r",
       "[ — ]\r",
       "[ \\ ]\r",
       "[ | ]\r",
       "[ / ]\r",
       "[ — ]\r",
       "[ \\ ]\r",
       "[ | ]\r",
       "[ / ]\r",
       "[ — ]\r",
       "[ \\ ]\r",
       "[ | ]\r",
       "[ / ]\r",
       "[ — ]\r",
       "[ \\ ]\r",
       "[ | ]\r",
       "[ / ]\r",
       "[ — ]\r",
       "[ \\ ]\r",
       "[ | ]\r",
       "[ / ]\r",
       "[ — ]\r",
       "[ \\ ]\r",
       "[ | ]\r",
       "[ / ]\r",
       "[ — ]\r",
       "[ \\ ]\r",
       "[ | ]\r",
       "[ / ]\r",
       "[ — ]\r",
       "[ \\ ]\r",
       "[ | ]\r",
       "[ / ]\r",
       "[ — ]\r",
       "[ \\ ]\r",
       "[ | ]\r",
       "[ / ]\r",
       "[ — ]\r",
       "[ \\ ]\r",
       "[ | ]\r",
       "[ / ]\r",
       "[ — ]\r",
       "[OK!]\n",
       "</div>"
      ]
     },
     "metadata": {
      "application/vnd.databricks.v1+output": {
       "addedWidgets": {},
       "arguments": {},
       "data": "<div class=\"ansiout\">embeddings_clinical download started this may take some time.\nApproximate size to download 1.6 GB\n\r[ | ]\r[ / ]\r[ — ]\r[ \\ ]\r[ | ]\r[ / ]\r[ — ]\r[ \\ ]\r[ | ]\r[ / ]\r[ — ]\r[ \\ ]\r[ | ]\r[ / ]\r[ — ]\r[ \\ ]\r[ | ]\r[ / ]\r[ — ]\r[ \\ ]\r[ | ]\r[ / ]\r[ — ]\r[ \\ ]\r[ | ]\r[ / ]\r[ — ]\r[ \\ ]\r[ | ]\r[ / ]\r[ — ]\r[ \\ ]\r[ | ]\r[ / ]\r[ — ]\r[ \\ ]\r[ | ]\r[ / ]\r[ — ]\r[ \\ ]\r[ | ]\r[ / ]\r[ — ]\r[ \\ ]\r[ | ]\r[ / ]\r[ — ]\r[ \\ ]\r[ | ]\r[ / ]\r[ — ]\r[ \\ ]\r[ | ]\r[ / ]\r[ — ]\r[ \\ ]\r[ | ]\r[ / ]\r[ — ]\r[OK!]\n</div>",
       "datasetInfos": [],
       "metadata": {},
       "removedWidgets": [],
       "type": "html"
      }
     },
     "output_type": "display_data"
    }
   ],
   "source": [
    "clinical_embeddings = WordEmbeddingsModel.pretrained('embeddings_clinical', \"en\", \"clinical/models\")\\\n",
    "    .setInputCols([\"sentence\", \"token\"])\\\n",
    "    .setOutputCol(\"embeddings\")"
   ]
  },
  {
   "cell_type": "markdown",
   "metadata": {
    "application/vnd.databricks.v1+cell": {
     "cellMetadata": {},
     "inputWidgets": {},
     "nuid": "ab8a6789-4c42-48e4-8cda-fb1960705c52",
     "showTitle": false,
     "title": ""
    }
   },
   "source": [
    "Graph Builder to automatically generate a TensorFlow graph for training."
   ]
  },
  {
   "cell_type": "code",
   "execution_count": null,
   "metadata": {
    "application/vnd.databricks.v1+cell": {
     "cellMetadata": {},
     "inputWidgets": {},
     "nuid": "dcaafe09-9de6-478b-b434-f3df3ca82a23",
     "showTitle": false,
     "title": ""
    }
   },
   "outputs": [
    {
     "data": {
      "text/html": [
       "<style scoped>\n",
       "  .ansiout {\n",
       "    display: block;\n",
       "    unicode-bidi: embed;\n",
       "    white-space: pre-wrap;\n",
       "    word-wrap: break-word;\n",
       "    word-break: break-all;\n",
       "    font-family: \"Source Code Pro\", \"Menlo\", monospace;;\n",
       "    font-size: 13px;\n",
       "    color: #555;\n",
       "    margin-left: 4px;\n",
       "    line-height: 19px;\n",
       "  }\n",
       "</style>\n",
       "<div class=\"ansiout\"></div>"
      ]
     },
     "metadata": {
      "application/vnd.databricks.v1+output": {
       "addedWidgets": {},
       "arguments": {},
       "data": "<div class=\"ansiout\"></div>",
       "datasetInfos": [],
       "metadata": {},
       "removedWidgets": [],
       "type": "html"
      }
     },
     "output_type": "display_data"
    }
   ],
   "source": [
    "graph_folder_path = \"/dbfs/ner/medical_ner_graphs\"\n",
    "\n",
    "ner_graph_builder = TFGraphBuilder()\\\n",
    "    .setModelName(\"ner_dl\")\\\n",
    "    .setInputCols([\"sentence\", \"token\", \"embeddings\"]) \\\n",
    "    .setLabelColumn(\"label\")\\\n",
    "    .setGraphFolder(graph_folder_path)\\\n",
    "    .setGraphFile(\"auto\")\\\n",
    "    .setHiddenUnitsNumber(20)\\\n",
    "    .setIsMedical(True) # False -> if you want to use TFGraphBuilder with NerDLApproach"
   ]
  },
  {
   "cell_type": "markdown",
   "metadata": {
    "application/vnd.databricks.v1+cell": {
     "cellMetadata": {},
     "inputWidgets": {},
     "nuid": "52086aea-8108-4892-ab33-03d77bca763d",
     "showTitle": false,
     "title": ""
    }
   },
   "source": [
    "Ner Model with hyper-parameters"
   ]
  },
  {
   "cell_type": "code",
   "execution_count": null,
   "metadata": {
    "application/vnd.databricks.v1+cell": {
     "cellMetadata": {},
     "inputWidgets": {},
     "nuid": "7d4d2957-2ec1-46ba-aec1-5fed12fcecfd",
     "showTitle": false,
     "title": ""
    }
   },
   "outputs": [
    {
     "data": {
      "text/html": [
       "<style scoped>\n",
       "  .ansiout {\n",
       "    display: block;\n",
       "    unicode-bidi: embed;\n",
       "    white-space: pre-wrap;\n",
       "    word-wrap: break-word;\n",
       "    word-break: break-all;\n",
       "    font-family: \"Source Code Pro\", \"Menlo\", monospace;;\n",
       "    font-size: 13px;\n",
       "    color: #555;\n",
       "    margin-left: 4px;\n",
       "    line-height: 19px;\n",
       "  }\n",
       "</style>\n",
       "<div class=\"ansiout\"></div>"
      ]
     },
     "metadata": {
      "application/vnd.databricks.v1+output": {
       "addedWidgets": {},
       "arguments": {},
       "data": "<div class=\"ansiout\"></div>",
       "datasetInfos": [],
       "metadata": {},
       "removedWidgets": [],
       "type": "html"
      }
     },
     "output_type": "display_data"
    }
   ],
   "source": [
    "nerTagger = MedicalNerApproach()\\\n",
    "  .setInputCols([\"sentence\", \"token\", \"embeddings\"])\\\n",
    "  .setLabelColumn(\"label\")\\\n",
    "  .setOutputCol(\"ner\")\\\n",
    "  .setMaxEpochs(35)\\\n",
    "  .setBatchSize(8)\\\n",
    "  .setRandomSeed(0)\\\n",
    "  .setVerbose(1)\\\n",
    "  .setLr(0.001)\\\n",
    "  .setEvaluationLogExtended(True) \\\n",
    "  .setEnableOutputLogs(True)\\\n",
    "  .setOutputLogsPath('dbfs:/ner/ner_logs')\\\n",
    "  .setUseBestModel(True)\\\n",
    "  .setGraphFolder('dbfs:/ner/medical_ner_graphs')\\\n",
    "  .setValidationSplit(0.2)\n",
    "  # .setEnableMemoryOptimizer(True) #>> if you have a limited memory and a large conll file, you can set this True to train batch by batch       \n",
    "\n",
    "ner_pipeline = Pipeline(stages=[\n",
    "          clinical_embeddings,\n",
    "          ner_graph_builder,\n",
    "          nerTagger\n",
    " ])"
   ]
  },
  {
   "cell_type": "markdown",
   "metadata": {
    "application/vnd.databricks.v1+cell": {
     "cellMetadata": {},
     "inputWidgets": {},
     "nuid": "07305f45-639c-4621-a029-d4f571b18f35",
     "showTitle": false,
     "title": ""
    }
   },
   "source": [
    "Train"
   ]
  },
  {
   "cell_type": "code",
   "execution_count": null,
   "metadata": {
    "application/vnd.databricks.v1+cell": {
     "cellMetadata": {},
     "inputWidgets": {},
     "nuid": "954d1501-ae2c-4c52-a14e-c75a7e8a404f",
     "showTitle": false,
     "title": ""
    }
   },
   "outputs": [
    {
     "data": {
      "text/html": [
       "<style scoped>\n",
       "  .ansiout {\n",
       "    display: block;\n",
       "    unicode-bidi: embed;\n",
       "    white-space: pre-wrap;\n",
       "    word-wrap: break-word;\n",
       "    word-break: break-all;\n",
       "    font-family: \"Source Code Pro\", \"Menlo\", monospace;;\n",
       "    font-size: 13px;\n",
       "    color: #555;\n",
       "    margin-left: 4px;\n",
       "    line-height: 19px;\n",
       "  }\n",
       "</style>\n",
       "<div class=\"ansiout\">TF Graph Builder configuration:\n",
       "Model name: ner_dl\n",
       "Graph folder: /dbfs/ner/medical_ner_graphs\n",
       "Graph file name: auto\n",
       "Build params: {&#39;ntags&#39;: 5, &#39;embeddings_dim&#39;: 200, &#39;nchars&#39;: 86, &#39;is_medical&#39;: True, &#39;lstm_size&#39;: 20}\n",
       "ner_dl graph exported to /dbfs/ner/medical_ner_graphs/blstm_5_200_20_86.pb\n",
       "</div>"
      ]
     },
     "metadata": {
      "application/vnd.databricks.v1+output": {
       "addedWidgets": {},
       "arguments": {},
       "data": "<div class=\"ansiout\">TF Graph Builder configuration:\nModel name: ner_dl\nGraph folder: /dbfs/ner/medical_ner_graphs\nGraph file name: auto\nBuild params: {&#39;ntags&#39;: 5, &#39;embeddings_dim&#39;: 200, &#39;nchars&#39;: 86, &#39;is_medical&#39;: True, &#39;lstm_size&#39;: 20}\nner_dl graph exported to /dbfs/ner/medical_ner_graphs/blstm_5_200_20_86.pb\n</div>",
       "datasetInfos": [],
       "metadata": {},
       "removedWidgets": [],
       "type": "html"
      }
     },
     "output_type": "display_data"
    }
   ],
   "source": [
    "model = ner_pipeline.fit(conll_data)"
   ]
  },
  {
   "cell_type": "markdown",
   "metadata": {
    "application/vnd.databricks.v1+cell": {
     "cellMetadata": {},
     "inputWidgets": {},
     "nuid": "c2c621d9-cf05-4458-af9f-7ddcf67651e3",
     "showTitle": false,
     "title": ""
    }
   },
   "source": [
    "Check logs"
   ]
  },
  {
   "cell_type": "code",
   "execution_count": null,
   "metadata": {
    "application/vnd.databricks.v1+cell": {
     "cellMetadata": {},
     "inputWidgets": {},
     "nuid": "1f0e0fb8-3d77-4ea8-ac8e-3c41f6634e20",
     "showTitle": false,
     "title": ""
    }
   },
   "outputs": [
    {
     "data": {
      "text/html": [
       "<style scoped>\n",
       "  .ansiout {\n",
       "    display: block;\n",
       "    unicode-bidi: embed;\n",
       "    white-space: pre-wrap;\n",
       "    word-wrap: break-word;\n",
       "    word-break: break-all;\n",
       "    font-family: \"Source Code Pro\", \"Menlo\", monospace;;\n",
       "    font-size: 13px;\n",
       "    color: #555;\n",
       "    margin-left: 4px;\n",
       "    line-height: 19px;\n",
       "  }\n",
       "</style>\n",
       "<div class=\"ansiout\">total 67\r\n",
       "-rwxrwxrwx 1 root root 20821 Dec 10 20:28 MedicalNerApproach_46d751b42de6.log*\r\n",
       "-rwxrwxrwx 1 root root 12365 Dec  9 06:25 MedicalNerApproach_6a40bb5d421d.log*\r\n",
       "-rwxrwxrwx 1 root root 11402 Dec  8 10:00 MedicalNerApproach_7e4309ae2ec8.log*\r\n",
       "-rwxrwxrwx 1 root root 22189 Dec 10 20:33 MedicalNerApproach_eade548198a2.log*\r\n",
       "</div>"
      ]
     },
     "metadata": {
      "application/vnd.databricks.v1+output": {
       "addedWidgets": {},
       "arguments": {},
       "data": "<div class=\"ansiout\">total 67\r\n-rwxrwxrwx 1 root root 20821 Dec 10 20:28 MedicalNerApproach_46d751b42de6.log*\r\n-rwxrwxrwx 1 root root 12365 Dec  9 06:25 MedicalNerApproach_6a40bb5d421d.log*\r\n-rwxrwxrwx 1 root root 11402 Dec  8 10:00 MedicalNerApproach_7e4309ae2ec8.log*\r\n-rwxrwxrwx 1 root root 22189 Dec 10 20:33 MedicalNerApproach_eade548198a2.log*\r\n</div>",
       "datasetInfos": [],
       "metadata": {},
       "removedWidgets": [],
       "type": "html"
      }
     },
     "output_type": "display_data"
    }
   ],
   "source": [
    "ls -l /dbfs/ner/ner_logs/"
   ]
  },
  {
   "cell_type": "code",
   "execution_count": null,
   "metadata": {
    "application/vnd.databricks.v1+cell": {
     "cellMetadata": {},
     "inputWidgets": {},
     "nuid": "7dd98d83-c75e-4fe4-8f59-f14b7a2491e0",
     "showTitle": false,
     "title": ""
    }
   },
   "outputs": [
    {
     "data": {
      "text/html": [
       "<style scoped>\n",
       "  .ansiout {\n",
       "    display: block;\n",
       "    unicode-bidi: embed;\n",
       "    white-space: pre-wrap;\n",
       "    word-wrap: break-word;\n",
       "    word-break: break-all;\n",
       "    font-family: \"Source Code Pro\", \"Menlo\", monospace;;\n",
       "    font-size: 13px;\n",
       "    color: #555;\n",
       "    margin-left: 4px;\n",
       "    line-height: 19px;\n",
       "  }\n",
       "</style>\n",
       "<div class=\"ansiout\">Name of the selected graph: /local_disk0/tmp/sparknlp_tmp_4480777073595049037/blstm_5_200_20_86.pb\n",
       "Training started - total epochs: 35 - lr: 0.001 - batch size: 8 - labels: 5 - chars: 83 - training examples: 1287\n",
       "\n",
       "\n",
       "Epoch 1/35 started, lr: 0.001, dataset size: 1287\n",
       "\n",
       "\n",
       "Epoch 1/35 - 5.77s - loss: 380.89035 - avg training loss: 2.3367505 - batches: 163\n",
       "Quality on validation dataset (20.0%), validation examples = 257\n",
       "time to finish evaluation: 0.79s\n",
       "Total validation loss: 35.1186\tAvg validation loss: 0.8167\n",
       "label\t tp\t fp\t fn\t prec\t rec\t f1\n",
       "I-SUICIDE_BEHAVIOR\t 0\t 0\t 12\t 0.0\t 0.0\t 0.0\n",
       "B-SUICIDE_PSYCHACHE\t 0\t 0\t 6\t 0.0\t 0.0\t 0.0\n",
       "B-SUICIDE_BEHAVIOR\t 0\t 0\t 17\t 0.0\t 0.0\t 0.0\n",
       "tp: 0 fp: 0 fn: 35 labels: 3\n",
       "Macro-average\t prec: 0.0, rec: 0.0, f1: NaN\n",
       "Micro-average\t prec: 0.0, rec: 0.0, f1: 0.0\n",
       "\n",
       "\n",
       "Epoch 2/35 started, lr: 9.950249E-4, dataset size: 1287\n",
       "\n",
       "\n",
       "Epoch 2/35 - 3.97s - loss: 156.12029 - avg training loss: 0.9577932 - batches: 163\n",
       "Quality on validation dataset (20.0%), validation examples = 257\n",
       "time to finish evaluation: 0.33s\n",
       "Total validation loss: 30.5197\tAvg validation loss: 0.7098\n",
       "label\t tp\t fp\t fn\t prec\t rec\t f1\n",
       "I-SUICIDE_BEHAVIOR\t 0\t 0\t 12\t 0.0\t 0.0\t 0.0\n",
       "B-SUICIDE_PSYCHACHE\t 0\t 0\t 6\t 0.0\t 0.0\t 0.0\n",
       "B-SUICIDE_BEHAVIOR\t 0\t 0\t 17\t 0.0\t 0.0\t 0.0\n",
       "tp: 0 fp: 0 fn: 35 labels: 3\n",
       "Macro-average\t prec: 0.0, rec: 0.0, f1: NaN\n",
       "Micro-average\t prec: 0.0, rec: 0.0, f1: 0.0\n",
       "\n",
       "\n",
       "Epoch 3/35 started, lr: 9.90099E-4, dataset size: 1287\n",
       "\n",
       "\n",
       "Epoch 3/35 - 3.92s - loss: 129.23996 - avg training loss: 0.7928832 - batches: 163\n",
       "Quality on validation dataset (20.0%), validation examples = 257\n",
       "time to finish evaluation: 0.34s\n",
       "Total validation loss: 24.8755\tAvg validation loss: 0.5785\n",
       "label\t tp\t fp\t fn\t prec\t rec\t f1\n",
       "I-SUICIDE_BEHAVIOR\t 0\t 0\t 12\t 0.0\t 0.0\t 0.0\n",
       "B-SUICIDE_PSYCHACHE\t 0\t 0\t 6\t 0.0\t 0.0\t 0.0\n",
       "B-SUICIDE_BEHAVIOR\t 0\t 0\t 17\t 0.0\t 0.0\t 0.0\n",
       "tp: 0 fp: 0 fn: 35 labels: 3\n",
       "Macro-average\t prec: 0.0, rec: 0.0, f1: NaN\n",
       "Micro-average\t prec: 0.0, rec: 0.0, f1: 0.0\n",
       "\n",
       "\n",
       "Epoch 4/35 started, lr: 9.852217E-4, dataset size: 1287\n",
       "\n",
       "\n",
       "Epoch 4/35 - 3.99s - loss: 120.7001 - avg training loss: 0.74049145 - batches: 163\n",
       "Quality on validation dataset (20.0%), validation examples = 257\n",
       "time to finish evaluation: 0.34s\n",
       "Total validation loss: 23.6999\tAvg validation loss: 0.5512\n",
       "label\t tp\t fp\t fn\t prec\t rec\t f1\n",
       "I-SUICIDE_BEHAVIOR\t 0\t 0\t 12\t 0.0\t 0.0\t 0.0\n",
       "B-SUICIDE_PSYCHACHE\t 0\t 0\t 6\t 0.0\t 0.0\t 0.0\n",
       "B-SUICIDE_BEHAVIOR\t 0\t 0\t 17\t 0.0\t 0.0\t 0.0\n",
       "tp: 0 fp: 0 fn: 35 labels: 3\n",
       "Macro-average\t prec: 0.0, rec: 0.0, f1: NaN\n",
       "Micro-average\t prec: 0.0, rec: 0.0, f1: 0.0\n",
       "\n",
       "\n",
       "Epoch 5/35 started, lr: 9.803922E-4, dataset size: 1287\n",
       "\n",
       "\n",
       "Epoch 5/35 - 3.95s - loss: 110.61422 - avg training loss: 0.67861485 - batches: 163\n",
       "Quality on validation dataset (20.0%), validation examples = 257\n",
       "time to finish evaluation: 0.34s\n",
       "Total validation loss: 21.9626\tAvg validation loss: 0.5108\n",
       "label\t tp\t fp\t fn\t prec\t rec\t f1\n",
       "I-SUICIDE_BEHAVIOR\t 0\t 0\t 12\t 0.0\t 0.0\t 0.0\n",
       "B-SUICIDE_PSYCHACHE\t 0\t 0\t 6\t 0.0\t 0.0\t 0.0\n",
       "B-SUICIDE_BEHAVIOR\t 0\t 0\t 17\t 0.0\t 0.0\t 0.0\n",
       "tp: 0 fp: 0 fn: 35 labels: 3\n",
       "Macro-average\t prec: 0.0, rec: 0.0, f1: NaN\n",
       "Micro-average\t prec: 0.0, rec: 0.0, f1: 0.0\n",
       "\n",
       "\n",
       "Epoch 6/35 started, lr: 9.756098E-4, dataset size: 1287\n",
       "\n",
       "\n",
       "Epoch 6/35 - 3.92s - loss: 100.92268 - avg training loss: 0.61915755 - batches: 163\n",
       "Quality on validation dataset (20.0%), validation examples = 257\n",
       "time to finish evaluation: 0.33s\n",
       "Total validation loss: 34.0493\tAvg validation loss: 0.7918\n",
       "label\t tp\t fp\t fn\t prec\t rec\t f1\n",
       "I-SUICIDE_BEHAVIOR\t 0\t 0\t 12\t 0.0\t 0.0\t 0.0\n",
       "B-SUICIDE_PSYCHACHE\t 0\t 0\t 6\t 0.0\t 0.0\t 0.0\n",
       "B-SUICIDE_BEHAVIOR\t 0\t 0\t 17\t 0.0\t 0.0\t 0.0\n",
       "tp: 0 fp: 0 fn: 35 labels: 3\n",
       "Macro-average\t prec: 0.0, rec: 0.0, f1: NaN\n",
       "Micro-average\t prec: 0.0, rec: 0.0, f1: 0.0\n",
       "\n",
       "\n",
       "Epoch 7/35 started, lr: 9.7087387E-4, dataset size: 1287\n",
       "\n",
       "\n",
       "Epoch 7/35 - 3.93s - loss: 97.14512 - avg training loss: 0.5959823 - batches: 163\n",
       "Quality on validation dataset (20.0%), validation examples = 257\n",
       "time to finish evaluation: 0.34s\n",
       "Total validation loss: 20.2453\tAvg validation loss: 0.4708\n",
       "label\t tp\t fp\t fn\t prec\t rec\t f1\n",
       "I-SUICIDE_BEHAVIOR\t 0\t 0\t 12\t 0.0\t 0.0\t 0.0\n",
       "B-SUICIDE_PSYCHACHE\t 0\t 0\t 6\t 0.0\t 0.0\t 0.0\n",
       "B-SUICIDE_BEHAVIOR\t 0\t 0\t 17\t 0.0\t 0.0\t 0.0\n",
       "tp: 0 fp: 0 fn: 35 labels: 3\n",
       "Macro-average\t prec: 0.0, rec: 0.0, f1: NaN\n",
       "Micro-average\t prec: 0.0, rec: 0.0, f1: 0.0\n",
       "\n",
       "\n",
       "Epoch 8/35 started, lr: 9.6618367E-4, dataset size: 1287\n",
       "\n",
       "\n",
       "Epoch 8/35 - 3.88s - loss: 89.35667 - avg training loss: 0.5482004 - batches: 163\n",
       "Quality on validation dataset (20.0%), validation examples = 257\n",
       "time to finish evaluation: 0.33s\n",
       "Total validation loss: 26.1944\tAvg validation loss: 0.6092\n",
       "label\t tp\t fp\t fn\t prec\t rec\t f1\n",
       "I-SUICIDE_BEHAVIOR\t 0\t 0\t 12\t 0.0\t 0.0\t 0.0\n",
       "B-SUICIDE_PSYCHACHE\t 0\t 0\t 6\t 0.0\t 0.0\t 0.0\n",
       "B-SUICIDE_BEHAVIOR\t 0\t 0\t 17\t 0.0\t 0.0\t 0.0\n",
       "tp: 0 fp: 0 fn: 35 labels: 3\n",
       "Macro-average\t prec: 0.0, rec: 0.0, f1: NaN\n",
       "Micro-average\t prec: 0.0, rec: 0.0, f1: 0.0\n",
       "\n",
       "\n",
       "Epoch 9/35 started, lr: 9.615385E-4, dataset size: 1287\n",
       "\n",
       "\n",
       "Epoch 9/35 - 3.91s - loss: 83.33519 - avg training loss: 0.51125884 - batches: 163\n",
       "Quality on validation dataset (20.0%), validation examples = 257\n",
       "time to finish evaluation: 0.34s\n",
       "Total validation loss: 20.4870\tAvg validation loss: 0.4764\n",
       "label\t tp\t fp\t fn\t prec\t rec\t f1\n",
       "I-SUICIDE_BEHAVIOR\t 0\t 0\t 12\t 0.0\t 0.0\t 0.0\n",
       "B-SUICIDE_PSYCHACHE\t 0\t 0\t 6\t 0.0\t 0.0\t 0.0\n",
       "B-SUICIDE_BEHAVIOR\t 0\t 0\t 17\t 0.0\t 0.0\t 0.0\n",
       "tp: 0 fp: 0 fn: 35 labels: 3\n",
       "Macro-average\t prec: 0.0, rec: 0.0, f1: NaN\n",
       "Micro-average\t prec: 0.0, rec: 0.0, f1: 0.0\n",
       "\n",
       "\n",
       "Epoch 10/35 started, lr: 9.569379E-4, dataset size: 1287\n",
       "\n",
       "\n",
       "Epoch 10/35 - 3.97s - loss: 76.76694 - avg training loss: 0.4709628 - batches: 163\n",
       "Quality on validation dataset (20.0%), validation examples = 257\n",
       "time to finish evaluation: 0.34s\n",
       "Total validation loss: 18.3798\tAvg validation loss: 0.4274\n",
       "label\t tp\t fp\t fn\t prec\t rec\t f1\n",
       "I-SUICIDE_BEHAVIOR\t 1\t 0\t 11\t 1.0\t 0.083333336\t 0.15384616\n",
       "B-SUICIDE_PSYCHACHE\t 0\t 0\t 6\t 0.0\t 0.0\t 0.0\n",
       "B-SUICIDE_BEHAVIOR\t 1\t 0\t 16\t 1.0\t 0.05882353\t 0.111111104\n",
       "tp: 2 fp: 0 fn: 33 labels: 3\n",
       "Macro-average\t prec: 0.6666667, rec: 0.04738562, f1: 0.08848208\n",
       "Micro-average\t prec: 1.0, rec: 0.057142857, f1: 0.10810811\n",
       "\n",
       "\n",
       "Epoch 11/35 started, lr: 9.5238106E-4, dataset size: 1287\n",
       "\n",
       "\n",
       "Epoch 11/35 - 3.98s - loss: 69.70468 - avg training loss: 0.4276361 - batches: 163\n",
       "Quality on validation dataset (20.0%), validation examples = 257\n",
       "time to finish evaluation: 0.34s\n",
       "Total validation loss: 16.8274\tAvg validation loss: 0.3913\n",
       "label\t tp\t fp\t fn\t prec\t rec\t f1\n",
       "I-SUICIDE_BEHAVIOR\t 2\t 0\t 10\t 1.0\t 0.16666667\t 0.2857143\n",
       "B-SUICIDE_PSYCHACHE\t 0\t 0\t 6\t 0.0\t 0.0\t 0.0\n",
       "B-SUICIDE_BEHAVIOR\t 2\t 0\t 15\t 1.0\t 0.11764706\t 0.21052632\n",
       "tp: 4 fp: 0 fn: 31 labels: 3\n",
       "Macro-average\t prec: 0.6666667, rec: 0.09477124, f1: 0.16595137\n",
       "Micro-average\t prec: 1.0, rec: 0.114285715, f1: 0.20512821\n",
       "\n",
       "\n",
       "Epoch 12/35 started, lr: 9.478674E-4, dataset size: 1287\n",
       "\n",
       "\n",
       "Epoch 12/35 - 3.98s - loss: 64.3454 - avg training loss: 0.39475703 - batches: 163\n",
       "Quality on validation dataset (20.0%), validation examples = 257\n",
       "time to finish evaluation: 0.34s\n",
       "Total validation loss: 16.3319\tAvg validation loss: 0.3798\n",
       "label\t tp\t fp\t fn\t prec\t rec\t f1\n",
       "I-SUICIDE_BEHAVIOR\t 2\t 0\t 10\t 1.0\t 0.16666667\t 0.2857143\n",
       "B-SUICIDE_PSYCHACHE\t 0\t 0\t 6\t 0.0\t 0.0\t 0.0\n",
       "B-SUICIDE_BEHAVIOR\t 2\t 0\t 15\t 1.0\t 0.11764706\t 0.21052632\n",
       "tp: 4 fp: 0 fn: 31 labels: 3\n",
       "Macro-average\t prec: 0.6666667, rec: 0.09477124, f1: 0.16595137\n",
       "Micro-average\t prec: 1.0, rec: 0.114285715, f1: 0.20512821\n",
       "\n",
       "\n",
       "Epoch 13/35 started, lr: 9.433963E-4, dataset size: 1287\n",
       "\n",
       "\n",
       "Epoch 13/35 - 3.98s - loss: 63.617596 - avg training loss: 0.390292 - batches: 163\n",
       "Quality on validation dataset (20.0%), validation examples = 257\n",
       "time to finish evaluation: 0.34s\n",
       "Total validation loss: 16.5944\tAvg validation loss: 0.3859\n",
       "label\t tp\t fp\t fn\t prec\t rec\t f1\n",
       "I-SUICIDE_BEHAVIOR\t 0\t 0\t 12\t 0.0\t 0.0\t 0.0\n",
       "B-SUICIDE_PSYCHACHE\t 0\t 0\t 6\t 0.0\t 0.0\t 0.0\n",
       "B-SUICIDE_BEHAVIOR\t 0\t 0\t 17\t 0.0\t 0.0\t 0.0\n",
       "tp: 0 fp: 0 fn: 35 labels: 3\n",
       "Macro-average\t prec: 0.0, rec: 0.0, f1: NaN\n",
       "Micro-average\t prec: 0.0, rec: 0.0, f1: 0.0\n",
       "\n",
       "\n",
       "Epoch 14/35 started, lr: 9.389671E-4, dataset size: 1287\n",
       "\n",
       "\n",
       "Epoch 14/35 - 3.98s - loss: 57.53781 - avg training loss: 0.3529927 - batches: 163\n",
       "Quality on validation dataset (20.0%), validation examples = 257\n",
       "time to finish evaluation: 0.34s\n",
       "Total validation loss: 14.8813\tAvg validation loss: 0.3461\n",
       "label\t tp\t fp\t fn\t prec\t rec\t f1\n",
       "I-SUICIDE_BEHAVIOR\t 2\t 0\t 10\t 1.0\t 0.16666667\t 0.2857143\n",
       "B-SUICIDE_PSYCHACHE\t 0\t 0\t 6\t 0.0\t 0.0\t 0.0\n",
       "B-SUICIDE_BEHAVIOR\t 2\t 0\t 15\t 1.0\t 0.11764706\t 0.21052632\n",
       "tp: 4 fp: 0 fn: 31 labels: 3\n",
       "Macro-average\t prec: 0.6666667, rec: 0.09477124, f1: 0.16595137\n",
       "Micro-average\t prec: 1.0, rec: 0.114285715, f1: 0.20512821\n",
       "\n",
       "\n",
       "Epoch 15/35 started, lr: 9.345794E-4, dataset size: 1287\n",
       "\n",
       "\n",
       "Epoch 15/35 - 3.93s - loss: 54.98109 - avg training loss: 0.3373073 - batches: 163\n",
       "Quality on validation dataset (20.0%), validation examples = 257\n",
       "time to finish evaluation: 0.34s\n",
       "Total validation loss: 15.9873\tAvg validation loss: 0.3718\n",
       "label\t tp\t fp\t fn\t prec\t rec\t f1\n",
       "I-SUICIDE_BEHAVIOR\t 0\t 0\t 12\t 0.0\t 0.0\t 0.0\n",
       "B-SUICIDE_PSYCHACHE\t 0\t 0\t 6\t 0.0\t 0.0\t 0.0\n",
       "B-SUICIDE_BEHAVIOR\t 1\t 0\t 16\t 1.0\t 0.05882353\t 0.111111104\n",
       "tp: 1 fp: 0 fn: 34 labels: 3\n",
       "Macro-average\t prec: 0.33333334, rec: 0.019607844, f1: 0.03703704\n",
       "Micro-average\t prec: 1.0, rec: 0.028571429, f1: 0.055555552\n",
       "\n",
       "\n",
       "Epoch 16/35 started, lr: 9.302326E-4, dataset size: 1287\n",
       "\n",
       "\n",
       "Epoch 16/35 - 3.96s - loss: 52.11638 - avg training loss: 0.3197324 - batches: 163\n",
       "Quality on validation dataset (20.0%), validation examples = 257\n",
       "time to finish evaluation: 0.34s\n",
       "Total validation loss: 15.5106\tAvg validation loss: 0.3607\n",
       "label\t tp\t fp\t fn\t prec\t rec\t f1\n",
       "I-SUICIDE_BEHAVIOR\t 2\t 0\t 10\t 1.0\t 0.16666667\t 0.2857143\n",
       "B-SUICIDE_PSYCHACHE\t 0\t 0\t 6\t 0.0\t 0.0\t 0.0\n",
       "B-SUICIDE_BEHAVIOR\t 4\t 0\t 13\t 1.0\t 0.23529412\t 0.3809524\n",
       "tp: 6 fp: 0 fn: 29 labels: 3\n",
       "Macro-average\t prec: 0.6666667, rec: 0.13398694, f1: 0.22312926\n",
       "Micro-average\t prec: 1.0, rec: 0.17142858, f1: 0.29268295\n",
       "\n",
       "\n",
       "Epoch 17/35 started, lr: 9.259259E-4, dataset size: 1287\n",
       "\n",
       "\n",
       "Epoch 17/35 - 3.92s - loss: 48.818344 - avg training loss: 0.29949903 - batches: 163\n",
       "Quality on validation dataset (20.0%), validation examples = 257\n",
       "time to finish evaluation: 0.32s\n",
       "Total validation loss: 34.5379\tAvg validation loss: 0.8032\n",
       "label\t tp\t fp\t fn\t prec\t rec\t f1\n",
       "I-SUICIDE_BEHAVIOR\t 0\t 0\t 12\t 0.0\t 0.0\t 0.0\n",
       "B-SUICIDE_PSYCHACHE\t 0\t 0\t 6\t 0.0\t 0.0\t 0.0\n",
       "B-SUICIDE_BEHAVIOR\t 0\t 0\t 17\t 0.0\t 0.0\t 0.0\n",
       "tp: 0 fp: 0 fn: 35 labels: 3\n",
       "Macro-average\t prec: 0.0, rec: 0.0, f1: NaN\n",
       "Micro-average\t prec: 0.0, rec: 0.0, f1: 0.0\n",
       "\n",
       "\n",
       "Epoch 18/35 started, lr: 9.21659E-4, dataset size: 1287\n",
       "\n",
       "\n",
       "Epoch 18/35 - 4.05s - loss: 47.251976 - avg training loss: 0.28988943 - batches: 163\n",
       "Quality on validation dataset (20.0%), validation examples = 257\n",
       "time to finish evaluation: 0.34s\n",
       "Total validation loss: 13.6611\tAvg validation loss: 0.3177\n",
       "label\t tp\t fp\t fn\t prec\t rec\t f1\n",
       "I-SUICIDE_BEHAVIOR\t 3\t 1\t 9\t 0.75\t 0.25\t 0.375\n",
       "B-SUICIDE_PSYCHACHE\t 0\t 0\t 6\t 0.0\t 0.0\t 0.0\n",
       "B-SUICIDE_BEHAVIOR\t 6\t 0\t 11\t 1.0\t 0.3529412\t 0.5217391\n",
       "tp: 9 fp: 1 fn: 26 labels: 3\n",
       "Macro-average\t prec: 0.5833333, rec: 0.20098038, f1: 0.29895833\n",
       "Micro-average\t prec: 0.9, rec: 0.25714287, f1: 0.4\n",
       "\n",
       "\n",
       "Epoch 19/35 started, lr: 9.174312E-4, dataset size: 1287\n",
       "\n",
       "\n",
       "Epoch 19/35 - 3.91s - loss: 41.656845 - avg training loss: 0.25556347 - batches: 163\n",
       "Quality on validation dataset (20.0%), validation examples = 257\n",
       "time to finish evaluation: 0.33s\n",
       "Total validation loss: 13.3140\tAvg validation loss: 0.3096\n",
       "label\t tp\t fp\t fn\t prec\t rec\t f1\n",
       "I-SUICIDE_BEHAVIOR\t 3\t 1\t 9\t 0.75\t 0.25\t 0.375\n",
       "B-SUICIDE_PSYCHACHE\t 0\t 0\t 6\t 0.0\t 0.0\t 0.0\n",
       "B-SUICIDE_BEHAVIOR\t 8\t 0\t 9\t 1.0\t 0.47058824\t 0.64\n",
       "tp: 11 fp: 1 fn: 24 labels: 3\n",
       "Macro-average\t prec: 0.5833333, rec: 0.24019606, f1: 0.34027776\n",
       "Micro-average\t prec: 0.9166667, rec: 0.31428573, f1: 0.46808514\n",
       "\n",
       "\n",
       "Epoch 20/35 started, lr: 9.1324205E-4, dataset size: 1287\n",
       "\n",
       "\n",
       "Epoch 20/35 - 3.96s - loss: 32.224422 - avg training loss: 0.19769584 - batches: 163\n",
       "Quality on validation dataset (20.0%), validation examples = 257\n",
       "time to finish evaluation: 0.33s\n",
       "Total validation loss: 13.5074\tAvg validation loss: 0.3141\n",
       "label\t tp\t fp\t fn\t prec\t rec\t f1\n",
       "I-SUICIDE_BEHAVIOR\t 3\t 1\t 9\t 0.75\t 0.25\t 0.375\n",
       "B-SUICIDE_PSYCHACHE\t 0\t 0\t 6\t 0.0\t 0.0\t 0.0\n",
       "B-SUICIDE_BEHAVIOR\t 8\t 1\t 9\t 0.8888889\t 0.47058824\t 0.6153846\n",
       "tp: 11 fp: 2 fn: 24 labels: 3\n",
       "Macro-average\t prec: 0.5462963, rec: 0.24019606, f1: 0.3336796\n",
       "Micro-average\t prec: 0.84615386, rec: 0.31428573, f1: 0.45833334\n",
       "\n",
       "\n",
       "Epoch 21/35 started, lr: 9.090909E-4, dataset size: 1287\n",
       "\n",
       "\n",
       "Epoch 21/35 - 3.90s - loss: 31.143713 - avg training loss: 0.19106573 - batches: 163\n",
       "Quality on validation dataset (20.0%), validation examples = 257\n",
       "time to finish evaluation: 0.33s\n",
       "Total validation loss: 11.1475\tAvg validation loss: 0.2592\n",
       "label\t tp\t fp\t fn\t prec\t rec\t f1\n",
       "I-SUICIDE_BEHAVIOR\t 5\t 3\t 7\t 0.625\t 0.41666666\t 0.5\n",
       "B-SUICIDE_PSYCHACHE\t 0\t 0\t 6\t 0.0\t 0.0\t 0.0\n",
       "B-SUICIDE_BEHAVIOR\t 12\t 4\t 5\t 0.75\t 0.7058824\t 0.7272728\n",
       "tp: 17 fp: 7 fn: 18 labels: 3\n",
       "Macro-average\t prec: 0.45833334, rec: 0.37418303, f1: 0.41200528\n",
       "Micro-average\t prec: 0.7083333, rec: 0.4857143, f1: 0.5762712\n",
       "\n",
       "\n",
       "Epoch 22/35 started, lr: 9.049774E-4, dataset size: 1287\n",
       "\n",
       "\n",
       "Epoch 22/35 - 3.99s - loss: 32.50448 - avg training loss: 0.19941399 - batches: 163\n",
       "Quality on validation dataset (20.0%), validation examples = 257\n",
       "time to finish evaluation: 0.32s\n",
       "Total validation loss: 11.0639\tAvg validation loss: 0.2573\n",
       "label\t tp\t fp\t fn\t prec\t rec\t f1\n",
       "I-SUICIDE_BEHAVIOR\t 5\t 6\t 7\t 0.45454547\t 0.41666666\t 0.4347826\n",
       "B-SUICIDE_PSYCHACHE\t 0\t 0\t 6\t 0.0\t 0.0\t 0.0\n",
       "B-SUICIDE_BEHAVIOR\t 12\t 7\t 5\t 0.6315789\t 0.7058824\t 0.6666667\n",
       "tp: 17 fp: 13 fn: 18 labels: 3\n",
       "Macro-average\t prec: 0.36204147, rec: 0.37418303, f1: 0.36801213\n",
       "Micro-average\t prec: 0.56666666, rec: 0.4857143, f1: 0.52307695\n",
       "\n",
       "\n",
       "Epoch 23/35 started, lr: 9.009009E-4, dataset size: 1287\n",
       "\n",
       "\n",
       "Epoch 23/35 - 3.96s - loss: 28.004427 - avg training loss: 0.1718063 - batches: 163\n",
       "Quality on validation dataset (20.0%), validation examples = 257\n",
       "time to finish evaluation: 0.32s\n",
       "Total validation loss: 10.3740\tAvg validation loss: 0.2413\n",
       "label\t tp\t fp\t fn\t prec\t rec\t f1\n",
       "I-SUICIDE_BEHAVIOR\t 5\t 3\t 7\t 0.625\t 0.41666666\t 0.5\n",
       "B-SUICIDE_PSYCHACHE\t 0\t 0\t 6\t 0.0\t 0.0\t 0.0\n",
       "B-SUICIDE_BEHAVIOR\t 13\t 5\t 4\t 0.7222222\t 0.7647059\t 0.74285716\n",
       "tp: 18 fp: 8 fn: 17 labels: 3\n",
       "Macro-average\t prec: 0.44907406, rec: 0.39379084, f1: 0.41961947\n",
       "Micro-average\t prec: 0.6923077, rec: 0.51428574, f1: 0.59016395\n",
       "\n",
       "\n",
       "Epoch 24/35 started, lr: 8.96861E-4, dataset size: 1287\n",
       "\n",
       "\n",
       "Epoch 24/35 - 3.91s - loss: 29.19103 - avg training loss: 0.17908607 - batches: 163\n",
       "Quality on validation dataset (20.0%), validation examples = 257\n",
       "time to finish evaluation: 0.32s\n",
       "Total validation loss: 14.7579\tAvg validation loss: 0.3432\n",
       "label\t tp\t fp\t fn\t prec\t rec\t f1\n",
       "I-SUICIDE_BEHAVIOR\t 4\t 1\t 8\t 0.8\t 0.33333334\t 0.47058827\n",
       "B-SUICIDE_PSYCHACHE\t 0\t 0\t 6\t 0.0\t 0.0\t 0.0\n",
       "B-SUICIDE_BEHAVIOR\t 8\t 0\t 9\t 1.0\t 0.47058824\t 0.64\n",
       "tp: 12 fp: 1 fn: 23 labels: 3\n",
       "Macro-average\t prec: 0.59999996, rec: 0.26797387, f1: 0.37048197\n",
       "Micro-average\t prec: 0.9230769, rec: 0.34285715, f1: 0.5\n",
       "\n",
       "\n",
       "Epoch 25/35 started, lr: 8.928572E-4, dataset size: 1287\n",
       "\n",
       "\n",
       "Epoch 25/35 - 3.94s - loss: 33.622227 - avg training loss: 0.20627134 - batches: 163\n",
       "Quality on validation dataset (20.0%), validation examples = 257\n",
       "time to finish evaluation: 0.34s\n",
       "Total validation loss: 13.9634\tAvg validation loss: 0.3247\n",
       "label\t tp\t fp\t fn\t prec\t rec\t f1\n",
       "I-SUICIDE_BEHAVIOR\t 4\t 1\t 8\t 0.8\t 0.33333334\t 0.47058827\n",
       "B-SUICIDE_PSYCHACHE\t 0\t 0\t 6\t 0.0\t 0.0\t 0.0\n",
       "B-SUICIDE_BEHAVIOR\t 8\t 1\t 9\t 0.8888889\t 0.47058824\t 0.6153846\n",
       "tp: 12 fp: 2 fn: 23 labels: 3\n",
       "Macro-average\t prec: 0.56296295, rec: 0.26797387, f1: 0.3631067\n",
       "Micro-average\t prec: 0.85714287, rec: 0.34285715, f1: 0.48979592\n",
       "\n",
       "\n",
       "Epoch 26/35 started, lr: 8.8888896E-4, dataset size: 1287\n",
       "\n",
       "\n",
       "Epoch 26/35 - 3.92s - loss: 24.185526 - avg training loss: 0.14837746 - batches: 163\n",
       "Quality on validation dataset (20.0%), validation examples = 257\n",
       "time to finish evaluation: 0.33s\n",
       "Total validation loss: 11.0168\tAvg validation loss: 0.2562\n",
       "label\t tp\t fp\t fn\t prec\t rec\t f1\n",
       "I-SUICIDE_BEHAVIOR\t 5\t 3\t 7\t 0.625\t 0.41666666\t 0.5\n",
       "B-SUICIDE_PSYCHACHE\t 0\t 0\t 6\t 0.0\t 0.0\t 0.0\n",
       "B-SUICIDE_BEHAVIOR\t 12\t 3\t 5\t 0.8\t 0.7058824\t 0.75\n",
       "tp: 17 fp: 6 fn: 18 labels: 3\n",
       "Macro-average\t prec: 0.475, rec: 0.37418303, f1: 0.4186069\n",
       "Micro-average\t prec: 0.73913044, rec: 0.4857143, f1: 0.5862069\n",
       "\n",
       "\n",
       "Epoch 27/35 started, lr: 8.849558E-4, dataset size: 1287\n",
       "\n",
       "\n",
       "Epoch 27/35 - 3.97s - loss: 23.169228 - avg training loss: 0.1421425 - batches: 163\n",
       "Quality on validation dataset (20.0%), validation examples = 257\n",
       "time to finish evaluation: 0.33s\n",
       "Total validation loss: 11.7080\tAvg validation loss: 0.2723\n",
       "label\t tp\t fp\t fn\t prec\t rec\t f1\n",
       "I-SUICIDE_BEHAVIOR\t 5\t 1\t 7\t 0.8333333\t 0.41666666\t 0.5555555\n",
       "B-SUICIDE_PSYCHACHE\t 0\t 0\t 6\t 0.0\t 0.0\t 0.0\n",
       "B-SUICIDE_BEHAVIOR\t 11\t 2\t 6\t 0.84615386\t 0.64705884\t 0.73333335\n",
       "tp: 16 fp: 3 fn: 19 labels: 3\n",
       "Macro-average\t prec: 0.55982906, rec: 0.35457516, f1: 0.43416572\n",
       "Micro-average\t prec: 0.84210527, rec: 0.45714286, f1: 0.5925926\n",
       "\n",
       "\n",
       "Epoch 28/35 started, lr: 8.810573E-4, dataset size: 1287\n",
       "\n",
       "\n",
       "Epoch 28/35 - 3.95s - loss: 20.603313 - avg training loss: 0.1264007 - batches: 163\n",
       "Quality on validation dataset (20.0%), validation examples = 257\n",
       "time to finish evaluation: 0.33s\n",
       "Total validation loss: 11.5429\tAvg validation loss: 0.2684\n",
       "label\t tp\t fp\t fn\t prec\t rec\t f1\n",
       "I-SUICIDE_BEHAVIOR\t 6\t 1\t 6\t 0.85714287\t 0.5\t 0.6315789\n",
       "B-SUICIDE_PSYCHACHE\t 0\t 0\t 6\t 0.0\t 0.0\t 0.0\n",
       "B-SUICIDE_BEHAVIOR\t 10\t 2\t 7\t 0.8333333\t 0.5882353\t 0.6896552\n",
       "tp: 16 fp: 3 fn: 19 labels: 3\n",
       "Macro-average\t prec: 0.56349206, rec: 0.36274514, f1: 0.44136426\n",
       "Micro-average\t prec: 0.84210527, rec: 0.45714286, f1: 0.5925926\n",
       "\n",
       "\n",
       "Epoch 29/35 started, lr: 8.7719306E-4, dataset size: 1287\n",
       "\n",
       "\n",
       "Epoch 29/35 - 4.00s - loss: 16.807467 - avg training loss: 0.10311329 - batches: 163\n",
       "Quality on validation dataset (20.0%), validation examples = 257\n",
       "time to finish evaluation: 0.32s\n",
       "Total validation loss: 10.3631\tAvg validation loss: 0.2410\n",
       "label\t tp\t fp\t fn\t prec\t rec\t f1\n",
       "I-SUICIDE_BEHAVIOR\t 5\t 3\t 7\t 0.625\t 0.41666666\t 0.5\n",
       "B-SUICIDE_PSYCHACHE\t 2\t 0\t 4\t 1.0\t 0.33333334\t 0.5\n",
       "B-SUICIDE_BEHAVIOR\t 13\t 3\t 4\t 0.8125\t 0.7647059\t 0.78787875\n",
       "tp: 20 fp: 6 fn: 15 labels: 3\n",
       "Macro-average\t prec: 0.8125, rec: 0.50490195, f1: 0.62279075\n",
       "Micro-average\t prec: 0.7692308, rec: 0.5714286, f1: 0.65573776\n",
       "\n",
       "\n",
       "Epoch 30/35 started, lr: 8.733625E-4, dataset size: 1287\n",
       "\n",
       "\n",
       "Epoch 30/35 - 3.95s - loss: 34.377064 - avg training loss: 0.21090223 - batches: 163\n",
       "Quality on validation dataset (20.0%), validation examples = 257\n",
       "time to finish evaluation: 0.35s\n",
       "Total validation loss: 9.8608\tAvg validation loss: 0.2293\n",
       "label\t tp\t fp\t fn\t prec\t rec\t f1\n",
       "I-SUICIDE_BEHAVIOR\t 7\t 7\t 5\t 0.5\t 0.5833333\t 0.53846157\n",
       "B-SUICIDE_PSYCHACHE\t 0\t 0\t 6\t 0.0\t 0.0\t 0.0\n",
       "B-SUICIDE_BEHAVIOR\t 13\t 6\t 4\t 0.68421054\t 0.7647059\t 0.7222222\n",
       "tp: 20 fp: 13 fn: 15 labels: 3\n",
       "Macro-average\t prec: 0.39473686, rec: 0.4493464, f1: 0.4202751\n",
       "Micro-average\t prec: 0.6060606, rec: 0.5714286, f1: 0.58823526\n",
       "\n",
       "\n",
       "Epoch 31/35 started, lr: 8.695653E-4, dataset size: 1287\n",
       "\n",
       "\n",
       "Epoch 31/35 - 3.93s - loss: 28.792168 - avg training loss: 0.17663907 - batches: 163\n",
       "Quality on validation dataset (20.0%), validation examples = 257\n",
       "time to finish evaluation: 0.32s\n",
       "Total validation loss: 11.6217\tAvg validation loss: 0.2703\n",
       "label\t tp\t fp\t fn\t prec\t rec\t f1\n",
       "I-SUICIDE_BEHAVIOR\t 5\t 2\t 7\t 0.71428573\t 0.41666666\t 0.5263158\n",
       "B-SUICIDE_PSYCHACHE\t 0\t 0\t 6\t 0.0\t 0.0\t 0.0\n",
       "B-SUICIDE_BEHAVIOR\t 13\t 1\t 4\t 0.9285714\t 0.7647059\t 0.83870965\n",
       "tp: 18 fp: 3 fn: 17 labels: 3\n",
       "Macro-average\t prec: 0.54761904, rec: 0.39379084, f1: 0.45813704\n",
       "Micro-average\t prec: 0.85714287, rec: 0.51428574, f1: 0.64285713\n",
       "\n",
       "\n",
       "Epoch 32/35 started, lr: 8.6580095E-4, dataset size: 1287\n",
       "\n",
       "\n",
       "Epoch 32/35 - 3.93s - loss: 18.057732 - avg training loss: 0.11078363 - batches: 163\n",
       "Quality on validation dataset (20.0%), validation examples = 257\n",
       "time to finish evaluation: 0.33s\n",
       "Total validation loss: 12.3799\tAvg validation loss: 0.2879\n",
       "label\t tp\t fp\t fn\t prec\t rec\t f1\n",
       "I-SUICIDE_BEHAVIOR\t 4\t 2\t 8\t 0.6666667\t 0.33333334\t 0.44444448\n",
       "B-SUICIDE_PSYCHACHE\t 0\t 0\t 6\t 0.0\t 0.0\t 0.0\n",
       "B-SUICIDE_BEHAVIOR\t 12\t 1\t 5\t 0.9230769\t 0.7058824\t 0.8\n",
       "tp: 16 fp: 3 fn: 19 labels: 3\n",
       "Macro-average\t prec: 0.52991456, rec: 0.34640524, f1: 0.41894567\n",
       "Micro-average\t prec: 0.84210527, rec: 0.45714286, f1: 0.5925926\n",
       "\n",
       "\n",
       "Epoch 33/35 started, lr: 8.62069E-4, dataset size: 1287\n",
       "\n",
       "\n",
       "Epoch 33/35 - 4.03s - loss: 18.913855 - avg training loss: 0.116035916 - batches: 163\n",
       "Quality on validation dataset (20.0%), validation examples = 257\n",
       "time to finish evaluation: 0.34s\n",
       "Total validation loss: 11.7687\tAvg validation loss: 0.2737\n",
       "label\t tp\t fp\t fn\t prec\t rec\t f1\n",
       "I-SUICIDE_BEHAVIOR\t 5\t 2\t 7\t 0.71428573\t 0.41666666\t 0.5263158\n",
       "B-SUICIDE_PSYCHACHE\t 0\t 0\t 6\t 0.0\t 0.0\t 0.0\n",
       "B-SUICIDE_BEHAVIOR\t 12\t 1\t 5\t 0.9230769\t 0.7058824\t 0.8\n",
       "tp: 17 fp: 3 fn: 18 labels: 3\n",
       "Macro-average\t prec: 0.5457876, rec: 0.37418303, f1: 0.44398037\n",
       "Micro-average\t prec: 0.85, rec: 0.4857143, f1: 0.6181818\n",
       "\n",
       "\n",
       "Epoch 34/35 started, lr: 8.5836917E-4, dataset size: 1287\n",
       "\n",
       "\n",
       "Epoch 34/35 - 3.95s - loss: 18.578516 - avg training loss: 0.113978624 - batches: 163\n",
       "Quality on validation dataset (20.0%), validation examples = 257\n",
       "time to finish evaluation: 0.33s\n",
       "Total validation loss: 12.3650\tAvg validation loss: 0.2876\n",
       "label\t tp\t fp\t fn\t prec\t rec\t f1\n",
       "I-SUICIDE_BEHAVIOR\t 5\t 2\t 7\t 0.71428573\t 0.41666666\t 0.5263158\n",
       "B-SUICIDE_PSYCHACHE\t 0\t 0\t 6\t 0.0\t 0.0\t 0.0\n",
       "B-SUICIDE_BEHAVIOR\t 12\t 1\t 5\t 0.9230769\t 0.7058824\t 0.8\n",
       "tp: 17 fp: 3 fn: 18 labels: 3\n",
       "Macro-average\t prec: 0.5457876, rec: 0.37418303, f1: 0.44398037\n",
       "Micro-average\t prec: 0.85, rec: 0.4857143, f1: 0.6181818\n",
       "\n",
       "\n",
       "Epoch 35/35 started, lr: 8.547009E-4, dataset size: 1287\n",
       "\n",
       "\n",
       "Epoch 35/35 - 3.94s - loss: 16.325304 - avg training loss: 0.10015524 - batches: 163\n",
       "Quality on validation dataset (20.0%), validation examples = 257\n",
       "time to finish evaluation: 0.34s\n",
       "Total validation loss: 14.0046\tAvg validation loss: 0.3257\n",
       "label\t tp\t fp\t fn\t prec\t rec\t f1\n",
       "I-SUICIDE_BEHAVIOR\t 5\t 2\t 7\t 0.71428573\t 0.41666666\t 0.5263158\n",
       "B-SUICIDE_PSYCHACHE\t 0\t 0\t 6\t 0.0\t 0.0\t 0.0\n",
       "B-SUICIDE_BEHAVIOR\t 12\t 1\t 5\t 0.9230769\t 0.7058824\t 0.8\n",
       "tp: 17 fp: 3 fn: 18 labels: 3\n",
       "Macro-average\t prec: 0.5457876, rec: 0.37418303, f1: 0.44398037\n",
       "Micro-average\t prec: 0.85, rec: 0.4857143, f1: 0.6181818\n",
       "\n",
       "</div>"
      ]
     },
     "metadata": {
      "application/vnd.databricks.v1+output": {
       "addedWidgets": {},
       "arguments": {},
       "data": "<div class=\"ansiout\">Name of the selected graph: /local_disk0/tmp/sparknlp_tmp_4480777073595049037/blstm_5_200_20_86.pb\nTraining started - total epochs: 35 - lr: 0.001 - batch size: 8 - labels: 5 - chars: 83 - training examples: 1287\n\n\nEpoch 1/35 started, lr: 0.001, dataset size: 1287\n\n\nEpoch 1/35 - 5.77s - loss: 380.89035 - avg training loss: 2.3367505 - batches: 163\nQuality on validation dataset (20.0%), validation examples = 257\ntime to finish evaluation: 0.79s\nTotal validation loss: 35.1186\tAvg validation loss: 0.8167\nlabel\t tp\t fp\t fn\t prec\t rec\t f1\nI-SUICIDE_BEHAVIOR\t 0\t 0\t 12\t 0.0\t 0.0\t 0.0\nB-SUICIDE_PSYCHACHE\t 0\t 0\t 6\t 0.0\t 0.0\t 0.0\nB-SUICIDE_BEHAVIOR\t 0\t 0\t 17\t 0.0\t 0.0\t 0.0\ntp: 0 fp: 0 fn: 35 labels: 3\nMacro-average\t prec: 0.0, rec: 0.0, f1: NaN\nMicro-average\t prec: 0.0, rec: 0.0, f1: 0.0\n\n\nEpoch 2/35 started, lr: 9.950249E-4, dataset size: 1287\n\n\nEpoch 2/35 - 3.97s - loss: 156.12029 - avg training loss: 0.9577932 - batches: 163\nQuality on validation dataset (20.0%), validation examples = 257\ntime to finish evaluation: 0.33s\nTotal validation loss: 30.5197\tAvg validation loss: 0.7098\nlabel\t tp\t fp\t fn\t prec\t rec\t f1\nI-SUICIDE_BEHAVIOR\t 0\t 0\t 12\t 0.0\t 0.0\t 0.0\nB-SUICIDE_PSYCHACHE\t 0\t 0\t 6\t 0.0\t 0.0\t 0.0\nB-SUICIDE_BEHAVIOR\t 0\t 0\t 17\t 0.0\t 0.0\t 0.0\ntp: 0 fp: 0 fn: 35 labels: 3\nMacro-average\t prec: 0.0, rec: 0.0, f1: NaN\nMicro-average\t prec: 0.0, rec: 0.0, f1: 0.0\n\n\nEpoch 3/35 started, lr: 9.90099E-4, dataset size: 1287\n\n\nEpoch 3/35 - 3.92s - loss: 129.23996 - avg training loss: 0.7928832 - batches: 163\nQuality on validation dataset (20.0%), validation examples = 257\ntime to finish evaluation: 0.34s\nTotal validation loss: 24.8755\tAvg validation loss: 0.5785\nlabel\t tp\t fp\t fn\t prec\t rec\t f1\nI-SUICIDE_BEHAVIOR\t 0\t 0\t 12\t 0.0\t 0.0\t 0.0\nB-SUICIDE_PSYCHACHE\t 0\t 0\t 6\t 0.0\t 0.0\t 0.0\nB-SUICIDE_BEHAVIOR\t 0\t 0\t 17\t 0.0\t 0.0\t 0.0\ntp: 0 fp: 0 fn: 35 labels: 3\nMacro-average\t prec: 0.0, rec: 0.0, f1: NaN\nMicro-average\t prec: 0.0, rec: 0.0, f1: 0.0\n\n\nEpoch 4/35 started, lr: 9.852217E-4, dataset size: 1287\n\n\nEpoch 4/35 - 3.99s - loss: 120.7001 - avg training loss: 0.74049145 - batches: 163\nQuality on validation dataset (20.0%), validation examples = 257\ntime to finish evaluation: 0.34s\nTotal validation loss: 23.6999\tAvg validation loss: 0.5512\nlabel\t tp\t fp\t fn\t prec\t rec\t f1\nI-SUICIDE_BEHAVIOR\t 0\t 0\t 12\t 0.0\t 0.0\t 0.0\nB-SUICIDE_PSYCHACHE\t 0\t 0\t 6\t 0.0\t 0.0\t 0.0\nB-SUICIDE_BEHAVIOR\t 0\t 0\t 17\t 0.0\t 0.0\t 0.0\ntp: 0 fp: 0 fn: 35 labels: 3\nMacro-average\t prec: 0.0, rec: 0.0, f1: NaN\nMicro-average\t prec: 0.0, rec: 0.0, f1: 0.0\n\n\nEpoch 5/35 started, lr: 9.803922E-4, dataset size: 1287\n\n\nEpoch 5/35 - 3.95s - loss: 110.61422 - avg training loss: 0.67861485 - batches: 163\nQuality on validation dataset (20.0%), validation examples = 257\ntime to finish evaluation: 0.34s\nTotal validation loss: 21.9626\tAvg validation loss: 0.5108\nlabel\t tp\t fp\t fn\t prec\t rec\t f1\nI-SUICIDE_BEHAVIOR\t 0\t 0\t 12\t 0.0\t 0.0\t 0.0\nB-SUICIDE_PSYCHACHE\t 0\t 0\t 6\t 0.0\t 0.0\t 0.0\nB-SUICIDE_BEHAVIOR\t 0\t 0\t 17\t 0.0\t 0.0\t 0.0\ntp: 0 fp: 0 fn: 35 labels: 3\nMacro-average\t prec: 0.0, rec: 0.0, f1: NaN\nMicro-average\t prec: 0.0, rec: 0.0, f1: 0.0\n\n\nEpoch 6/35 started, lr: 9.756098E-4, dataset size: 1287\n\n\nEpoch 6/35 - 3.92s - loss: 100.92268 - avg training loss: 0.61915755 - batches: 163\nQuality on validation dataset (20.0%), validation examples = 257\ntime to finish evaluation: 0.33s\nTotal validation loss: 34.0493\tAvg validation loss: 0.7918\nlabel\t tp\t fp\t fn\t prec\t rec\t f1\nI-SUICIDE_BEHAVIOR\t 0\t 0\t 12\t 0.0\t 0.0\t 0.0\nB-SUICIDE_PSYCHACHE\t 0\t 0\t 6\t 0.0\t 0.0\t 0.0\nB-SUICIDE_BEHAVIOR\t 0\t 0\t 17\t 0.0\t 0.0\t 0.0\ntp: 0 fp: 0 fn: 35 labels: 3\nMacro-average\t prec: 0.0, rec: 0.0, f1: NaN\nMicro-average\t prec: 0.0, rec: 0.0, f1: 0.0\n\n\nEpoch 7/35 started, lr: 9.7087387E-4, dataset size: 1287\n\n\nEpoch 7/35 - 3.93s - loss: 97.14512 - avg training loss: 0.5959823 - batches: 163\nQuality on validation dataset (20.0%), validation examples = 257\ntime to finish evaluation: 0.34s\nTotal validation loss: 20.2453\tAvg validation loss: 0.4708\nlabel\t tp\t fp\t fn\t prec\t rec\t f1\nI-SUICIDE_BEHAVIOR\t 0\t 0\t 12\t 0.0\t 0.0\t 0.0\nB-SUICIDE_PSYCHACHE\t 0\t 0\t 6\t 0.0\t 0.0\t 0.0\nB-SUICIDE_BEHAVIOR\t 0\t 0\t 17\t 0.0\t 0.0\t 0.0\ntp: 0 fp: 0 fn: 35 labels: 3\nMacro-average\t prec: 0.0, rec: 0.0, f1: NaN\nMicro-average\t prec: 0.0, rec: 0.0, f1: 0.0\n\n\nEpoch 8/35 started, lr: 9.6618367E-4, dataset size: 1287\n\n\nEpoch 8/35 - 3.88s - loss: 89.35667 - avg training loss: 0.5482004 - batches: 163\nQuality on validation dataset (20.0%), validation examples = 257\ntime to finish evaluation: 0.33s\nTotal validation loss: 26.1944\tAvg validation loss: 0.6092\nlabel\t tp\t fp\t fn\t prec\t rec\t f1\nI-SUICIDE_BEHAVIOR\t 0\t 0\t 12\t 0.0\t 0.0\t 0.0\nB-SUICIDE_PSYCHACHE\t 0\t 0\t 6\t 0.0\t 0.0\t 0.0\nB-SUICIDE_BEHAVIOR\t 0\t 0\t 17\t 0.0\t 0.0\t 0.0\ntp: 0 fp: 0 fn: 35 labels: 3\nMacro-average\t prec: 0.0, rec: 0.0, f1: NaN\nMicro-average\t prec: 0.0, rec: 0.0, f1: 0.0\n\n\nEpoch 9/35 started, lr: 9.615385E-4, dataset size: 1287\n\n\nEpoch 9/35 - 3.91s - loss: 83.33519 - avg training loss: 0.51125884 - batches: 163\nQuality on validation dataset (20.0%), validation examples = 257\ntime to finish evaluation: 0.34s\nTotal validation loss: 20.4870\tAvg validation loss: 0.4764\nlabel\t tp\t fp\t fn\t prec\t rec\t f1\nI-SUICIDE_BEHAVIOR\t 0\t 0\t 12\t 0.0\t 0.0\t 0.0\nB-SUICIDE_PSYCHACHE\t 0\t 0\t 6\t 0.0\t 0.0\t 0.0\nB-SUICIDE_BEHAVIOR\t 0\t 0\t 17\t 0.0\t 0.0\t 0.0\ntp: 0 fp: 0 fn: 35 labels: 3\nMacro-average\t prec: 0.0, rec: 0.0, f1: NaN\nMicro-average\t prec: 0.0, rec: 0.0, f1: 0.0\n\n\nEpoch 10/35 started, lr: 9.569379E-4, dataset size: 1287\n\n\nEpoch 10/35 - 3.97s - loss: 76.76694 - avg training loss: 0.4709628 - batches: 163\nQuality on validation dataset (20.0%), validation examples = 257\ntime to finish evaluation: 0.34s\nTotal validation loss: 18.3798\tAvg validation loss: 0.4274\nlabel\t tp\t fp\t fn\t prec\t rec\t f1\nI-SUICIDE_BEHAVIOR\t 1\t 0\t 11\t 1.0\t 0.083333336\t 0.15384616\nB-SUICIDE_PSYCHACHE\t 0\t 0\t 6\t 0.0\t 0.0\t 0.0\nB-SUICIDE_BEHAVIOR\t 1\t 0\t 16\t 1.0\t 0.05882353\t 0.111111104\ntp: 2 fp: 0 fn: 33 labels: 3\nMacro-average\t prec: 0.6666667, rec: 0.04738562, f1: 0.08848208\nMicro-average\t prec: 1.0, rec: 0.057142857, f1: 0.10810811\n\n\nEpoch 11/35 started, lr: 9.5238106E-4, dataset size: 1287\n\n\nEpoch 11/35 - 3.98s - loss: 69.70468 - avg training loss: 0.4276361 - batches: 163\nQuality on validation dataset (20.0%), validation examples = 257\ntime to finish evaluation: 0.34s\nTotal validation loss: 16.8274\tAvg validation loss: 0.3913\nlabel\t tp\t fp\t fn\t prec\t rec\t f1\nI-SUICIDE_BEHAVIOR\t 2\t 0\t 10\t 1.0\t 0.16666667\t 0.2857143\nB-SUICIDE_PSYCHACHE\t 0\t 0\t 6\t 0.0\t 0.0\t 0.0\nB-SUICIDE_BEHAVIOR\t 2\t 0\t 15\t 1.0\t 0.11764706\t 0.21052632\ntp: 4 fp: 0 fn: 31 labels: 3\nMacro-average\t prec: 0.6666667, rec: 0.09477124, f1: 0.16595137\nMicro-average\t prec: 1.0, rec: 0.114285715, f1: 0.20512821\n\n\nEpoch 12/35 started, lr: 9.478674E-4, dataset size: 1287\n\n\nEpoch 12/35 - 3.98s - loss: 64.3454 - avg training loss: 0.39475703 - batches: 163\nQuality on validation dataset (20.0%), validation examples = 257\ntime to finish evaluation: 0.34s\nTotal validation loss: 16.3319\tAvg validation loss: 0.3798\nlabel\t tp\t fp\t fn\t prec\t rec\t f1\nI-SUICIDE_BEHAVIOR\t 2\t 0\t 10\t 1.0\t 0.16666667\t 0.2857143\nB-SUICIDE_PSYCHACHE\t 0\t 0\t 6\t 0.0\t 0.0\t 0.0\nB-SUICIDE_BEHAVIOR\t 2\t 0\t 15\t 1.0\t 0.11764706\t 0.21052632\ntp: 4 fp: 0 fn: 31 labels: 3\nMacro-average\t prec: 0.6666667, rec: 0.09477124, f1: 0.16595137\nMicro-average\t prec: 1.0, rec: 0.114285715, f1: 0.20512821\n\n\nEpoch 13/35 started, lr: 9.433963E-4, dataset size: 1287\n\n\nEpoch 13/35 - 3.98s - loss: 63.617596 - avg training loss: 0.390292 - batches: 163\nQuality on validation dataset (20.0%), validation examples = 257\ntime to finish evaluation: 0.34s\nTotal validation loss: 16.5944\tAvg validation loss: 0.3859\nlabel\t tp\t fp\t fn\t prec\t rec\t f1\nI-SUICIDE_BEHAVIOR\t 0\t 0\t 12\t 0.0\t 0.0\t 0.0\nB-SUICIDE_PSYCHACHE\t 0\t 0\t 6\t 0.0\t 0.0\t 0.0\nB-SUICIDE_BEHAVIOR\t 0\t 0\t 17\t 0.0\t 0.0\t 0.0\ntp: 0 fp: 0 fn: 35 labels: 3\nMacro-average\t prec: 0.0, rec: 0.0, f1: NaN\nMicro-average\t prec: 0.0, rec: 0.0, f1: 0.0\n\n\nEpoch 14/35 started, lr: 9.389671E-4, dataset size: 1287\n\n\nEpoch 14/35 - 3.98s - loss: 57.53781 - avg training loss: 0.3529927 - batches: 163\nQuality on validation dataset (20.0%), validation examples = 257\ntime to finish evaluation: 0.34s\nTotal validation loss: 14.8813\tAvg validation loss: 0.3461\nlabel\t tp\t fp\t fn\t prec\t rec\t f1\nI-SUICIDE_BEHAVIOR\t 2\t 0\t 10\t 1.0\t 0.16666667\t 0.2857143\nB-SUICIDE_PSYCHACHE\t 0\t 0\t 6\t 0.0\t 0.0\t 0.0\nB-SUICIDE_BEHAVIOR\t 2\t 0\t 15\t 1.0\t 0.11764706\t 0.21052632\ntp: 4 fp: 0 fn: 31 labels: 3\nMacro-average\t prec: 0.6666667, rec: 0.09477124, f1: 0.16595137\nMicro-average\t prec: 1.0, rec: 0.114285715, f1: 0.20512821\n\n\nEpoch 15/35 started, lr: 9.345794E-4, dataset size: 1287\n\n\nEpoch 15/35 - 3.93s - loss: 54.98109 - avg training loss: 0.3373073 - batches: 163\nQuality on validation dataset (20.0%), validation examples = 257\ntime to finish evaluation: 0.34s\nTotal validation loss: 15.9873\tAvg validation loss: 0.3718\nlabel\t tp\t fp\t fn\t prec\t rec\t f1\nI-SUICIDE_BEHAVIOR\t 0\t 0\t 12\t 0.0\t 0.0\t 0.0\nB-SUICIDE_PSYCHACHE\t 0\t 0\t 6\t 0.0\t 0.0\t 0.0\nB-SUICIDE_BEHAVIOR\t 1\t 0\t 16\t 1.0\t 0.05882353\t 0.111111104\ntp: 1 fp: 0 fn: 34 labels: 3\nMacro-average\t prec: 0.33333334, rec: 0.019607844, f1: 0.03703704\nMicro-average\t prec: 1.0, rec: 0.028571429, f1: 0.055555552\n\n\nEpoch 16/35 started, lr: 9.302326E-4, dataset size: 1287\n\n\nEpoch 16/35 - 3.96s - loss: 52.11638 - avg training loss: 0.3197324 - batches: 163\nQuality on validation dataset (20.0%), validation examples = 257\ntime to finish evaluation: 0.34s\nTotal validation loss: 15.5106\tAvg validation loss: 0.3607\nlabel\t tp\t fp\t fn\t prec\t rec\t f1\nI-SUICIDE_BEHAVIOR\t 2\t 0\t 10\t 1.0\t 0.16666667\t 0.2857143\nB-SUICIDE_PSYCHACHE\t 0\t 0\t 6\t 0.0\t 0.0\t 0.0\nB-SUICIDE_BEHAVIOR\t 4\t 0\t 13\t 1.0\t 0.23529412\t 0.3809524\ntp: 6 fp: 0 fn: 29 labels: 3\nMacro-average\t prec: 0.6666667, rec: 0.13398694, f1: 0.22312926\nMicro-average\t prec: 1.0, rec: 0.17142858, f1: 0.29268295\n\n\nEpoch 17/35 started, lr: 9.259259E-4, dataset size: 1287\n\n\nEpoch 17/35 - 3.92s - loss: 48.818344 - avg training loss: 0.29949903 - batches: 163\nQuality on validation dataset (20.0%), validation examples = 257\ntime to finish evaluation: 0.32s\nTotal validation loss: 34.5379\tAvg validation loss: 0.8032\nlabel\t tp\t fp\t fn\t prec\t rec\t f1\nI-SUICIDE_BEHAVIOR\t 0\t 0\t 12\t 0.0\t 0.0\t 0.0\nB-SUICIDE_PSYCHACHE\t 0\t 0\t 6\t 0.0\t 0.0\t 0.0\nB-SUICIDE_BEHAVIOR\t 0\t 0\t 17\t 0.0\t 0.0\t 0.0\ntp: 0 fp: 0 fn: 35 labels: 3\nMacro-average\t prec: 0.0, rec: 0.0, f1: NaN\nMicro-average\t prec: 0.0, rec: 0.0, f1: 0.0\n\n\nEpoch 18/35 started, lr: 9.21659E-4, dataset size: 1287\n\n\nEpoch 18/35 - 4.05s - loss: 47.251976 - avg training loss: 0.28988943 - batches: 163\nQuality on validation dataset (20.0%), validation examples = 257\ntime to finish evaluation: 0.34s\nTotal validation loss: 13.6611\tAvg validation loss: 0.3177\nlabel\t tp\t fp\t fn\t prec\t rec\t f1\nI-SUICIDE_BEHAVIOR\t 3\t 1\t 9\t 0.75\t 0.25\t 0.375\nB-SUICIDE_PSYCHACHE\t 0\t 0\t 6\t 0.0\t 0.0\t 0.0\nB-SUICIDE_BEHAVIOR\t 6\t 0\t 11\t 1.0\t 0.3529412\t 0.5217391\ntp: 9 fp: 1 fn: 26 labels: 3\nMacro-average\t prec: 0.5833333, rec: 0.20098038, f1: 0.29895833\nMicro-average\t prec: 0.9, rec: 0.25714287, f1: 0.4\n\n\nEpoch 19/35 started, lr: 9.174312E-4, dataset size: 1287\n\n\nEpoch 19/35 - 3.91s - loss: 41.656845 - avg training loss: 0.25556347 - batches: 163\nQuality on validation dataset (20.0%), validation examples = 257\ntime to finish evaluation: 0.33s\nTotal validation loss: 13.3140\tAvg validation loss: 0.3096\nlabel\t tp\t fp\t fn\t prec\t rec\t f1\nI-SUICIDE_BEHAVIOR\t 3\t 1\t 9\t 0.75\t 0.25\t 0.375\nB-SUICIDE_PSYCHACHE\t 0\t 0\t 6\t 0.0\t 0.0\t 0.0\nB-SUICIDE_BEHAVIOR\t 8\t 0\t 9\t 1.0\t 0.47058824\t 0.64\ntp: 11 fp: 1 fn: 24 labels: 3\nMacro-average\t prec: 0.5833333, rec: 0.24019606, f1: 0.34027776\nMicro-average\t prec: 0.9166667, rec: 0.31428573, f1: 0.46808514\n\n\nEpoch 20/35 started, lr: 9.1324205E-4, dataset size: 1287\n\n\nEpoch 20/35 - 3.96s - loss: 32.224422 - avg training loss: 0.19769584 - batches: 163\nQuality on validation dataset (20.0%), validation examples = 257\ntime to finish evaluation: 0.33s\nTotal validation loss: 13.5074\tAvg validation loss: 0.3141\nlabel\t tp\t fp\t fn\t prec\t rec\t f1\nI-SUICIDE_BEHAVIOR\t 3\t 1\t 9\t 0.75\t 0.25\t 0.375\nB-SUICIDE_PSYCHACHE\t 0\t 0\t 6\t 0.0\t 0.0\t 0.0\nB-SUICIDE_BEHAVIOR\t 8\t 1\t 9\t 0.8888889\t 0.47058824\t 0.6153846\ntp: 11 fp: 2 fn: 24 labels: 3\nMacro-average\t prec: 0.5462963, rec: 0.24019606, f1: 0.3336796\nMicro-average\t prec: 0.84615386, rec: 0.31428573, f1: 0.45833334\n\n\nEpoch 21/35 started, lr: 9.090909E-4, dataset size: 1287\n\n\nEpoch 21/35 - 3.90s - loss: 31.143713 - avg training loss: 0.19106573 - batches: 163\nQuality on validation dataset (20.0%), validation examples = 257\ntime to finish evaluation: 0.33s\nTotal validation loss: 11.1475\tAvg validation loss: 0.2592\nlabel\t tp\t fp\t fn\t prec\t rec\t f1\nI-SUICIDE_BEHAVIOR\t 5\t 3\t 7\t 0.625\t 0.41666666\t 0.5\nB-SUICIDE_PSYCHACHE\t 0\t 0\t 6\t 0.0\t 0.0\t 0.0\nB-SUICIDE_BEHAVIOR\t 12\t 4\t 5\t 0.75\t 0.7058824\t 0.7272728\ntp: 17 fp: 7 fn: 18 labels: 3\nMacro-average\t prec: 0.45833334, rec: 0.37418303, f1: 0.41200528\nMicro-average\t prec: 0.7083333, rec: 0.4857143, f1: 0.5762712\n\n\nEpoch 22/35 started, lr: 9.049774E-4, dataset size: 1287\n\n\nEpoch 22/35 - 3.99s - loss: 32.50448 - avg training loss: 0.19941399 - batches: 163\nQuality on validation dataset (20.0%), validation examples = 257\ntime to finish evaluation: 0.32s\nTotal validation loss: 11.0639\tAvg validation loss: 0.2573\nlabel\t tp\t fp\t fn\t prec\t rec\t f1\nI-SUICIDE_BEHAVIOR\t 5\t 6\t 7\t 0.45454547\t 0.41666666\t 0.4347826\nB-SUICIDE_PSYCHACHE\t 0\t 0\t 6\t 0.0\t 0.0\t 0.0\nB-SUICIDE_BEHAVIOR\t 12\t 7\t 5\t 0.6315789\t 0.7058824\t 0.6666667\ntp: 17 fp: 13 fn: 18 labels: 3\nMacro-average\t prec: 0.36204147, rec: 0.37418303, f1: 0.36801213\nMicro-average\t prec: 0.56666666, rec: 0.4857143, f1: 0.52307695\n\n\nEpoch 23/35 started, lr: 9.009009E-4, dataset size: 1287\n\n\nEpoch 23/35 - 3.96s - loss: 28.004427 - avg training loss: 0.1718063 - batches: 163\nQuality on validation dataset (20.0%), validation examples = 257\ntime to finish evaluation: 0.32s\nTotal validation loss: 10.3740\tAvg validation loss: 0.2413\nlabel\t tp\t fp\t fn\t prec\t rec\t f1\nI-SUICIDE_BEHAVIOR\t 5\t 3\t 7\t 0.625\t 0.41666666\t 0.5\nB-SUICIDE_PSYCHACHE\t 0\t 0\t 6\t 0.0\t 0.0\t 0.0\nB-SUICIDE_BEHAVIOR\t 13\t 5\t 4\t 0.7222222\t 0.7647059\t 0.74285716\ntp: 18 fp: 8 fn: 17 labels: 3\nMacro-average\t prec: 0.44907406, rec: 0.39379084, f1: 0.41961947\nMicro-average\t prec: 0.6923077, rec: 0.51428574, f1: 0.59016395\n\n\nEpoch 24/35 started, lr: 8.96861E-4, dataset size: 1287\n\n\nEpoch 24/35 - 3.91s - loss: 29.19103 - avg training loss: 0.17908607 - batches: 163\nQuality on validation dataset (20.0%), validation examples = 257\ntime to finish evaluation: 0.32s\nTotal validation loss: 14.7579\tAvg validation loss: 0.3432\nlabel\t tp\t fp\t fn\t prec\t rec\t f1\nI-SUICIDE_BEHAVIOR\t 4\t 1\t 8\t 0.8\t 0.33333334\t 0.47058827\nB-SUICIDE_PSYCHACHE\t 0\t 0\t 6\t 0.0\t 0.0\t 0.0\nB-SUICIDE_BEHAVIOR\t 8\t 0\t 9\t 1.0\t 0.47058824\t 0.64\ntp: 12 fp: 1 fn: 23 labels: 3\nMacro-average\t prec: 0.59999996, rec: 0.26797387, f1: 0.37048197\nMicro-average\t prec: 0.9230769, rec: 0.34285715, f1: 0.5\n\n\nEpoch 25/35 started, lr: 8.928572E-4, dataset size: 1287\n\n\nEpoch 25/35 - 3.94s - loss: 33.622227 - avg training loss: 0.20627134 - batches: 163\nQuality on validation dataset (20.0%), validation examples = 257\ntime to finish evaluation: 0.34s\nTotal validation loss: 13.9634\tAvg validation loss: 0.3247\nlabel\t tp\t fp\t fn\t prec\t rec\t f1\nI-SUICIDE_BEHAVIOR\t 4\t 1\t 8\t 0.8\t 0.33333334\t 0.47058827\nB-SUICIDE_PSYCHACHE\t 0\t 0\t 6\t 0.0\t 0.0\t 0.0\nB-SUICIDE_BEHAVIOR\t 8\t 1\t 9\t 0.8888889\t 0.47058824\t 0.6153846\ntp: 12 fp: 2 fn: 23 labels: 3\nMacro-average\t prec: 0.56296295, rec: 0.26797387, f1: 0.3631067\nMicro-average\t prec: 0.85714287, rec: 0.34285715, f1: 0.48979592\n\n\nEpoch 26/35 started, lr: 8.8888896E-4, dataset size: 1287\n\n\nEpoch 26/35 - 3.92s - loss: 24.185526 - avg training loss: 0.14837746 - batches: 163\nQuality on validation dataset (20.0%), validation examples = 257\ntime to finish evaluation: 0.33s\nTotal validation loss: 11.0168\tAvg validation loss: 0.2562\nlabel\t tp\t fp\t fn\t prec\t rec\t f1\nI-SUICIDE_BEHAVIOR\t 5\t 3\t 7\t 0.625\t 0.41666666\t 0.5\nB-SUICIDE_PSYCHACHE\t 0\t 0\t 6\t 0.0\t 0.0\t 0.0\nB-SUICIDE_BEHAVIOR\t 12\t 3\t 5\t 0.8\t 0.7058824\t 0.75\ntp: 17 fp: 6 fn: 18 labels: 3\nMacro-average\t prec: 0.475, rec: 0.37418303, f1: 0.4186069\nMicro-average\t prec: 0.73913044, rec: 0.4857143, f1: 0.5862069\n\n\nEpoch 27/35 started, lr: 8.849558E-4, dataset size: 1287\n\n\nEpoch 27/35 - 3.97s - loss: 23.169228 - avg training loss: 0.1421425 - batches: 163\nQuality on validation dataset (20.0%), validation examples = 257\ntime to finish evaluation: 0.33s\nTotal validation loss: 11.7080\tAvg validation loss: 0.2723\nlabel\t tp\t fp\t fn\t prec\t rec\t f1\nI-SUICIDE_BEHAVIOR\t 5\t 1\t 7\t 0.8333333\t 0.41666666\t 0.5555555\nB-SUICIDE_PSYCHACHE\t 0\t 0\t 6\t 0.0\t 0.0\t 0.0\nB-SUICIDE_BEHAVIOR\t 11\t 2\t 6\t 0.84615386\t 0.64705884\t 0.73333335\ntp: 16 fp: 3 fn: 19 labels: 3\nMacro-average\t prec: 0.55982906, rec: 0.35457516, f1: 0.43416572\nMicro-average\t prec: 0.84210527, rec: 0.45714286, f1: 0.5925926\n\n\nEpoch 28/35 started, lr: 8.810573E-4, dataset size: 1287\n\n\nEpoch 28/35 - 3.95s - loss: 20.603313 - avg training loss: 0.1264007 - batches: 163\nQuality on validation dataset (20.0%), validation examples = 257\ntime to finish evaluation: 0.33s\nTotal validation loss: 11.5429\tAvg validation loss: 0.2684\nlabel\t tp\t fp\t fn\t prec\t rec\t f1\nI-SUICIDE_BEHAVIOR\t 6\t 1\t 6\t 0.85714287\t 0.5\t 0.6315789\nB-SUICIDE_PSYCHACHE\t 0\t 0\t 6\t 0.0\t 0.0\t 0.0\nB-SUICIDE_BEHAVIOR\t 10\t 2\t 7\t 0.8333333\t 0.5882353\t 0.6896552\ntp: 16 fp: 3 fn: 19 labels: 3\nMacro-average\t prec: 0.56349206, rec: 0.36274514, f1: 0.44136426\nMicro-average\t prec: 0.84210527, rec: 0.45714286, f1: 0.5925926\n\n\nEpoch 29/35 started, lr: 8.7719306E-4, dataset size: 1287\n\n\nEpoch 29/35 - 4.00s - loss: 16.807467 - avg training loss: 0.10311329 - batches: 163\nQuality on validation dataset (20.0%), validation examples = 257\ntime to finish evaluation: 0.32s\nTotal validation loss: 10.3631\tAvg validation loss: 0.2410\nlabel\t tp\t fp\t fn\t prec\t rec\t f1\nI-SUICIDE_BEHAVIOR\t 5\t 3\t 7\t 0.625\t 0.41666666\t 0.5\nB-SUICIDE_PSYCHACHE\t 2\t 0\t 4\t 1.0\t 0.33333334\t 0.5\nB-SUICIDE_BEHAVIOR\t 13\t 3\t 4\t 0.8125\t 0.7647059\t 0.78787875\ntp: 20 fp: 6 fn: 15 labels: 3\nMacro-average\t prec: 0.8125, rec: 0.50490195, f1: 0.62279075\nMicro-average\t prec: 0.7692308, rec: 0.5714286, f1: 0.65573776\n\n\nEpoch 30/35 started, lr: 8.733625E-4, dataset size: 1287\n\n\nEpoch 30/35 - 3.95s - loss: 34.377064 - avg training loss: 0.21090223 - batches: 163\nQuality on validation dataset (20.0%), validation examples = 257\ntime to finish evaluation: 0.35s\nTotal validation loss: 9.8608\tAvg validation loss: 0.2293\nlabel\t tp\t fp\t fn\t prec\t rec\t f1\nI-SUICIDE_BEHAVIOR\t 7\t 7\t 5\t 0.5\t 0.5833333\t 0.53846157\nB-SUICIDE_PSYCHACHE\t 0\t 0\t 6\t 0.0\t 0.0\t 0.0\nB-SUICIDE_BEHAVIOR\t 13\t 6\t 4\t 0.68421054\t 0.7647059\t 0.7222222\ntp: 20 fp: 13 fn: 15 labels: 3\nMacro-average\t prec: 0.39473686, rec: 0.4493464, f1: 0.4202751\nMicro-average\t prec: 0.6060606, rec: 0.5714286, f1: 0.58823526\n\n\nEpoch 31/35 started, lr: 8.695653E-4, dataset size: 1287\n\n\nEpoch 31/35 - 3.93s - loss: 28.792168 - avg training loss: 0.17663907 - batches: 163\nQuality on validation dataset (20.0%), validation examples = 257\ntime to finish evaluation: 0.32s\nTotal validation loss: 11.6217\tAvg validation loss: 0.2703\nlabel\t tp\t fp\t fn\t prec\t rec\t f1\nI-SUICIDE_BEHAVIOR\t 5\t 2\t 7\t 0.71428573\t 0.41666666\t 0.5263158\nB-SUICIDE_PSYCHACHE\t 0\t 0\t 6\t 0.0\t 0.0\t 0.0\nB-SUICIDE_BEHAVIOR\t 13\t 1\t 4\t 0.9285714\t 0.7647059\t 0.83870965\ntp: 18 fp: 3 fn: 17 labels: 3\nMacro-average\t prec: 0.54761904, rec: 0.39379084, f1: 0.45813704\nMicro-average\t prec: 0.85714287, rec: 0.51428574, f1: 0.64285713\n\n\nEpoch 32/35 started, lr: 8.6580095E-4, dataset size: 1287\n\n\nEpoch 32/35 - 3.93s - loss: 18.057732 - avg training loss: 0.11078363 - batches: 163\nQuality on validation dataset (20.0%), validation examples = 257\ntime to finish evaluation: 0.33s\nTotal validation loss: 12.3799\tAvg validation loss: 0.2879\nlabel\t tp\t fp\t fn\t prec\t rec\t f1\nI-SUICIDE_BEHAVIOR\t 4\t 2\t 8\t 0.6666667\t 0.33333334\t 0.44444448\nB-SUICIDE_PSYCHACHE\t 0\t 0\t 6\t 0.0\t 0.0\t 0.0\nB-SUICIDE_BEHAVIOR\t 12\t 1\t 5\t 0.9230769\t 0.7058824\t 0.8\ntp: 16 fp: 3 fn: 19 labels: 3\nMacro-average\t prec: 0.52991456, rec: 0.34640524, f1: 0.41894567\nMicro-average\t prec: 0.84210527, rec: 0.45714286, f1: 0.5925926\n\n\nEpoch 33/35 started, lr: 8.62069E-4, dataset size: 1287\n\n\nEpoch 33/35 - 4.03s - loss: 18.913855 - avg training loss: 0.116035916 - batches: 163\nQuality on validation dataset (20.0%), validation examples = 257\ntime to finish evaluation: 0.34s\nTotal validation loss: 11.7687\tAvg validation loss: 0.2737\nlabel\t tp\t fp\t fn\t prec\t rec\t f1\nI-SUICIDE_BEHAVIOR\t 5\t 2\t 7\t 0.71428573\t 0.41666666\t 0.5263158\nB-SUICIDE_PSYCHACHE\t 0\t 0\t 6\t 0.0\t 0.0\t 0.0\nB-SUICIDE_BEHAVIOR\t 12\t 1\t 5\t 0.9230769\t 0.7058824\t 0.8\ntp: 17 fp: 3 fn: 18 labels: 3\nMacro-average\t prec: 0.5457876, rec: 0.37418303, f1: 0.44398037\nMicro-average\t prec: 0.85, rec: 0.4857143, f1: 0.6181818\n\n\nEpoch 34/35 started, lr: 8.5836917E-4, dataset size: 1287\n\n\nEpoch 34/35 - 3.95s - loss: 18.578516 - avg training loss: 0.113978624 - batches: 163\nQuality on validation dataset (20.0%), validation examples = 257\ntime to finish evaluation: 0.33s\nTotal validation loss: 12.3650\tAvg validation loss: 0.2876\nlabel\t tp\t fp\t fn\t prec\t rec\t f1\nI-SUICIDE_BEHAVIOR\t 5\t 2\t 7\t 0.71428573\t 0.41666666\t 0.5263158\nB-SUICIDE_PSYCHACHE\t 0\t 0\t 6\t 0.0\t 0.0\t 0.0\nB-SUICIDE_BEHAVIOR\t 12\t 1\t 5\t 0.9230769\t 0.7058824\t 0.8\ntp: 17 fp: 3 fn: 18 labels: 3\nMacro-average\t prec: 0.5457876, rec: 0.37418303, f1: 0.44398037\nMicro-average\t prec: 0.85, rec: 0.4857143, f1: 0.6181818\n\n\nEpoch 35/35 started, lr: 8.547009E-4, dataset size: 1287\n\n\nEpoch 35/35 - 3.94s - loss: 16.325304 - avg training loss: 0.10015524 - batches: 163\nQuality on validation dataset (20.0%), validation examples = 257\ntime to finish evaluation: 0.34s\nTotal validation loss: 14.0046\tAvg validation loss: 0.3257\nlabel\t tp\t fp\t fn\t prec\t rec\t f1\nI-SUICIDE_BEHAVIOR\t 5\t 2\t 7\t 0.71428573\t 0.41666666\t 0.5263158\nB-SUICIDE_PSYCHACHE\t 0\t 0\t 6\t 0.0\t 0.0\t 0.0\nB-SUICIDE_BEHAVIOR\t 12\t 1\t 5\t 0.9230769\t 0.7058824\t 0.8\ntp: 17 fp: 3 fn: 18 labels: 3\nMacro-average\t prec: 0.5457876, rec: 0.37418303, f1: 0.44398037\nMicro-average\t prec: 0.85, rec: 0.4857143, f1: 0.6181818\n\n</div>",
       "datasetInfos": [],
       "metadata": {},
       "removedWidgets": [],
       "type": "html"
      }
     },
     "output_type": "display_data"
    }
   ],
   "source": [
    "with open('/dbfs/ner/ner_logs/MedicalNerApproach_eade548198a2.log', 'r') as f_:\n",
    "  lines = ''.join(f_)\n",
    "print (lines)"
   ]
  },
  {
   "cell_type": "markdown",
   "metadata": {
    "application/vnd.databricks.v1+cell": {
     "cellMetadata": {},
     "inputWidgets": {},
     "nuid": "ccc1233a-be6b-4454-9198-9edcf2d7b9d3",
     "showTitle": false,
     "title": ""
    }
   },
   "source": [
    "Save the model to disk, load and test on the new model"
   ]
  },
  {
   "cell_type": "code",
   "execution_count": null,
   "metadata": {
    "application/vnd.databricks.v1+cell": {
     "cellMetadata": {},
     "inputWidgets": {},
     "nuid": "b320b811-6599-4748-8c21-0f0acbd547b2",
     "showTitle": false,
     "title": ""
    }
   },
   "outputs": [
    {
     "data": {
      "text/html": [
       "<style scoped>\n",
       "  .ansiout {\n",
       "    display: block;\n",
       "    unicode-bidi: embed;\n",
       "    white-space: pre-wrap;\n",
       "    word-wrap: break-word;\n",
       "    word-break: break-all;\n",
       "    font-family: \"Source Code Pro\", \"Menlo\", monospace;;\n",
       "    font-size: 13px;\n",
       "    color: #555;\n",
       "    margin-left: 4px;\n",
       "    line-height: 19px;\n",
       "  }\n",
       "</style>\n",
       "<div class=\"ansiout\"></div>"
      ]
     },
     "metadata": {
      "application/vnd.databricks.v1+output": {
       "addedWidgets": {},
       "arguments": {},
       "data": "<div class=\"ansiout\"></div>",
       "datasetInfos": [],
       "metadata": {},
       "removedWidgets": [],
       "type": "html"
      }
     },
     "output_type": "display_data"
    }
   ],
   "source": [
    "#save model\n",
    "model.stages[-1].write().overwrite().save(delta_silver_path+'ner_model')"
   ]
  },
  {
   "cell_type": "code",
   "execution_count": null,
   "metadata": {
    "application/vnd.databricks.v1+cell": {
     "cellMetadata": {},
     "inputWidgets": {},
     "nuid": "51029d92-da5a-45ba-886f-b63a82c42a72",
     "showTitle": false,
     "title": ""
    }
   },
   "outputs": [
    {
     "data": {
      "text/html": [
       "<style scoped>\n",
       "  .ansiout {\n",
       "    display: block;\n",
       "    unicode-bidi: embed;\n",
       "    white-space: pre-wrap;\n",
       "    word-wrap: break-word;\n",
       "    word-break: break-all;\n",
       "    font-family: \"Source Code Pro\", \"Menlo\", monospace;;\n",
       "    font-size: 13px;\n",
       "    color: #555;\n",
       "    margin-left: 4px;\n",
       "    line-height: 19px;\n",
       "  }\n",
       "</style>\n",
       "<div class=\"ansiout\">sentence_detector_dl_healthcare download started this may take some time.\n",
       "Approximate size to download 367.3 KB\n",
       "\r",
       "[ | ]\r",
       "[OK!]\n",
       "embeddings_clinical download started this may take some time.\n",
       "Approximate size to download 1.6 GB\n",
       "\r",
       "[ | ]\r",
       "[OK!]\n",
       "</div>"
      ]
     },
     "metadata": {
      "application/vnd.databricks.v1+output": {
       "addedWidgets": {},
       "arguments": {},
       "data": "<div class=\"ansiout\">sentence_detector_dl_healthcare download started this may take some time.\nApproximate size to download 367.3 KB\n\r[ | ]\r[OK!]\nembeddings_clinical download started this may take some time.\nApproximate size to download 1.6 GB\n\r[ | ]\r[OK!]\n</div>",
       "datasetInfos": [],
       "metadata": {},
       "removedWidgets": [],
       "type": "html"
      }
     },
     "output_type": "display_data"
    }
   ],
   "source": [
    "# use model in a prediction pipeline\n",
    "\n",
    "documentAssembler = DocumentAssembler()\\\n",
    "            .setInputCol(\"text\")\\\n",
    "            .setOutputCol(\"document\")\n",
    "\n",
    "sentenceDetector = SentenceDetectorDLModel().pretrained('sentence_detector_dl_healthcare', 'en', 'clinical/models')\\\n",
    "           .setInputCols([\"document\"])\\\n",
    "           .setOutputCol(\"sentence\")\n",
    "\n",
    "tokenizer = Tokenizer()\\\n",
    "        .setInputCols([\"sentence\"])\\\n",
    "        .setOutputCol(\"token\")\n",
    "embeddings = WordEmbeddingsModel.pretrained('embeddings_clinical', 'en', 'clinical/models') \\\n",
    "      .setInputCols(\"sentence\", \"token\") \\\n",
    "      .setOutputCol(\"embeddings\")\n",
    "\n",
    "#load the trained ner model\n",
    "ner_model =MedicalNerModel().load(delta_silver_path+'ner_model')\\\n",
    "    .setInputCols([\"sentence\", \"token\", \"embeddings\"])\\\n",
    "    .setOutputCol(\"ner_tags\")\n",
    "\n",
    "#ner converter ner jsl enriched\n",
    "ner_chunk = NerConverterInternal()\\\n",
    "    .setInputCols(['sentence', 'token', 'ner_tags']) \\\n",
    "    .setOutputCol('ner_chunk')\n",
    "\n",
    "\n",
    "pipeline=Pipeline(stages=[\n",
    "        documentAssembler,\n",
    "        sentenceDetector,\n",
    "        tokenizer,\n",
    "        embeddings,\n",
    "        ner_model,\n",
    "        ner_chunk,\n",
    "        \n",
    "         ])\n",
    "empty_data = spark.createDataFrame([[\"\"]]).toDF(\"text\")\n",
    "model = pipeline.fit(empty_data)\n",
    "light_model = LightPipeline(model)"
   ]
  },
  {
   "cell_type": "code",
   "execution_count": null,
   "metadata": {
    "application/vnd.databricks.v1+cell": {
     "cellMetadata": {},
     "inputWidgets": {},
     "nuid": "07ade4de-9cf2-4950-bb3b-bde4698b8ce5",
     "showTitle": false,
     "title": ""
    }
   },
   "outputs": [
    {
     "data": {
      "text/html": [
       "\n",
       "<style>\n",
       "    @import url('https://fonts.googleapis.com/css2?family=Montserrat:wght@300;400;500;600;700&display=swap');\n",
       "    @import url('https://fonts.googleapis.com/css2?family=Vistol Regular:wght@300;400;500;600;700&display=swap');\n",
       "    \n",
       "    .spark-nlp-display-scroll-entities {\n",
       "        border: 1px solid #E7EDF0;\n",
       "        border-radius: 3px;\n",
       "        text-align: justify;\n",
       "        \n",
       "    }\n",
       "    .spark-nlp-display-scroll-entities span {  \n",
       "        font-size: 14px;\n",
       "        line-height: 24px;\n",
       "        color: #536B76;\n",
       "        font-family: 'Montserrat', sans-serif !important;\n",
       "    }\n",
       "    \n",
       "    .spark-nlp-display-entity-wrapper{\n",
       "    \n",
       "        display: inline-grid;\n",
       "        text-align: center;\n",
       "        border-radius: 4px;\n",
       "        margin: 0 2px 5px 2px;\n",
       "        padding: 1px\n",
       "    }\n",
       "    .spark-nlp-display-entity-name{\n",
       "        font-size: 14px;\n",
       "        line-height: 24px;\n",
       "        font-family: 'Montserrat', sans-serif !important;\n",
       "        \n",
       "        background: #f1f2f3;\n",
       "        border-width: medium;\n",
       "        text-align: center;\n",
       "        \n",
       "        font-weight: 400;\n",
       "        \n",
       "        border-radius: 5px;\n",
       "        padding: 2px 5px;\n",
       "        display: block;\n",
       "        margin: 3px 2px;\n",
       "    \n",
       "    }\n",
       "    .spark-nlp-display-entity-type{\n",
       "        font-size: 14px;\n",
       "        line-height: 24px;\n",
       "        color: #ffffff;\n",
       "        font-family: 'Montserrat', sans-serif !important;\n",
       "        \n",
       "        text-transform: uppercase;\n",
       "        \n",
       "        font-weight: 500;\n",
       "\n",
       "        display: block;\n",
       "        padding: 3px 5px;\n",
       "    }\n",
       "    \n",
       "    .spark-nlp-display-entity-resolution{\n",
       "        font-size: 14px;\n",
       "        line-height: 24px;\n",
       "        color: #ffffff;\n",
       "        font-family: 'Vistol Regular', sans-serif !important;\n",
       "        \n",
       "        text-transform: uppercase;\n",
       "        \n",
       "        font-weight: 500;\n",
       "\n",
       "        display: block;\n",
       "        padding: 3px 5px;\n",
       "    }\n",
       "    \n",
       "    .spark-nlp-display-others{\n",
       "        font-size: 14px;\n",
       "        line-height: 24px;\n",
       "        font-family: 'Montserrat', sans-serif !important;\n",
       "        \n",
       "        font-weight: 400;\n",
       "    }\n",
       "\n",
       "</style>\n",
       " <span class=\"spark-nlp-display-others\" style=\"background-color: white\">My ex </span><span class=\"spark-nlp-display-entity-wrapper\" style=\"background-color: #52C778\"><span class=\"spark-nlp-display-entity-name\">attempted suicide </span><span class=\"spark-nlp-display-entity-type\">SUICIDE_BEHAVIOR</span></span><span class=\"spark-nlp-display-others\" style=\"background-color: white\"> - she got way too attached and when i ghosted her i wanted to hate her , but i couldn’t after her attempt . so i </span><span class=\"spark-nlp-display-entity-wrapper\" style=\"background-color: #52C778\"><span class=\"spark-nlp-display-entity-name\">hated myself </span><span class=\"spark-nlp-display-entity-type\">SUICIDE_BEHAVIOR</span></span><span class=\"spark-nlp-display-others\" style=\"background-color: white\"> .</span></div>"
      ]
     },
     "metadata": {
      "application/vnd.databricks.v1+output": {
       "addedWidgets": {},
       "arguments": {},
       "data": "\n<style>\n    @import url('https://fonts.googleapis.com/css2?family=Montserrat:wght@300;400;500;600;700&display=swap');\n    @import url('https://fonts.googleapis.com/css2?family=Vistol Regular:wght@300;400;500;600;700&display=swap');\n    \n    .spark-nlp-display-scroll-entities {\n        border: 1px solid #E7EDF0;\n        border-radius: 3px;\n        text-align: justify;\n        \n    }\n    .spark-nlp-display-scroll-entities span {  \n        font-size: 14px;\n        line-height: 24px;\n        color: #536B76;\n        font-family: 'Montserrat', sans-serif !important;\n    }\n    \n    .spark-nlp-display-entity-wrapper{\n    \n        display: inline-grid;\n        text-align: center;\n        border-radius: 4px;\n        margin: 0 2px 5px 2px;\n        padding: 1px\n    }\n    .spark-nlp-display-entity-name{\n        font-size: 14px;\n        line-height: 24px;\n        font-family: 'Montserrat', sans-serif !important;\n        \n        background: #f1f2f3;\n        border-width: medium;\n        text-align: center;\n        \n        font-weight: 400;\n        \n        border-radius: 5px;\n        padding: 2px 5px;\n        display: block;\n        margin: 3px 2px;\n    \n    }\n    .spark-nlp-display-entity-type{\n        font-size: 14px;\n        line-height: 24px;\n        color: #ffffff;\n        font-family: 'Montserrat', sans-serif !important;\n        \n        text-transform: uppercase;\n        \n        font-weight: 500;\n\n        display: block;\n        padding: 3px 5px;\n    }\n    \n    .spark-nlp-display-entity-resolution{\n        font-size: 14px;\n        line-height: 24px;\n        color: #ffffff;\n        font-family: 'Vistol Regular', sans-serif !important;\n        \n        text-transform: uppercase;\n        \n        font-weight: 500;\n\n        display: block;\n        padding: 3px 5px;\n    }\n    \n    .spark-nlp-display-others{\n        font-size: 14px;\n        line-height: 24px;\n        font-family: 'Montserrat', sans-serif !important;\n        \n        font-weight: 400;\n    }\n\n</style>\n <span class=\"spark-nlp-display-others\" style=\"background-color: white\">My ex </span><span class=\"spark-nlp-display-entity-wrapper\" style=\"background-color: #52C778\"><span class=\"spark-nlp-display-entity-name\">attempted suicide </span><span class=\"spark-nlp-display-entity-type\">SUICIDE_BEHAVIOR</span></span><span class=\"spark-nlp-display-others\" style=\"background-color: white\"> - she got way too attached and when i ghosted her i wanted to hate her , but i couldn’t after her attempt . so i </span><span class=\"spark-nlp-display-entity-wrapper\" style=\"background-color: #52C778\"><span class=\"spark-nlp-display-entity-name\">hated myself </span><span class=\"spark-nlp-display-entity-type\">SUICIDE_BEHAVIOR</span></span><span class=\"spark-nlp-display-others\" style=\"background-color: white\"> .</span></div>",
       "datasetInfos": [],
       "metadata": {},
       "removedWidgets": [],
       "textData": null,
       "type": "htmlSandbox"
      }
     },
     "output_type": "display_data"
    }
   ],
   "source": [
    "# Checking on a piece of text\n",
    "text = \"\"\"My ex attempted suicide - she got way too attached and when i ghosted her i wanted to hate her , but i couldn’t after her attempt . so i hated myself .\"\"\"\n",
    "\n",
    "results_single = light_model.fullAnnotate(text)[0]\n",
    "\n",
    "from sparknlp_display import NerVisualizer\n",
    "\n",
    "displayHTML(NerVisualizer().display(results_single, 'ner_chunk', return_html=True))"
   ]
  }
 ],
 "metadata": {
  "application/vnd.databricks.v1+notebook": {
   "dashboards": [],
   "language": "python",
   "notebookMetadata": {
    "mostRecentlyExecutedCommandWithImplicitDF": {
     "commandId": 959441549086806,
     "dataframes": [
      "_sqldf"
     ]
    },
    "pythonIndentUnit": 2
   },
   "notebookName": "Suicide_Detection_PreAnn_Alab",
   "notebookOrigID": 959441549086794,
   "widgets": {}
  },
  "kernelspec": {
   "display_name": "Python 3 (ipykernel)",
   "language": "python",
   "name": "python3"
  },
  "language_info": {
   "codemirror_mode": {
    "name": "ipython",
    "version": 3
   },
   "file_extension": ".py",
   "mimetype": "text/x-python",
   "name": "python",
   "nbconvert_exporter": "python",
   "pygments_lexer": "ipython3",
   "version": "3.8.13"
  }
 },
 "nbformat": 4,
 "nbformat_minor": 4
}
