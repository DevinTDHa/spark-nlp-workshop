{
  "cells": [
    {
      "cell_type": "markdown",
      "source": [
        "# Train Domain-specific Multiclass and Multilabel classifiers"
      ],
      "metadata": {
        "id": "KLqW6FOnEvov"
      },
      "id": "KLqW6FOnEvov"
    },
    {
      "cell_type": "markdown",
      "source": [
        "\n",
        "![JohnSnowLabs](https://nlp.johnsnowlabs.com/assets/images/logo.png)\n",
        "\n",
        "\n",
        "\n"
      ],
      "metadata": {
        "id": "wxZDXLDCXkk_"
      },
      "id": "wxZDXLDCXkk_"
    },
    {
      "cell_type": "markdown",
      "source": [
        "[![Open In Colab](https://colab.research.google.com/assets/colab-badge.svg)](https://colab.research.google.com/github/JohnSnowLabs/spark-nlp-workshop/blob/master/tutorials/Certification_Trainings/Finance/13.Train_Financial_Classifiers.ipynb)"
      ],
      "metadata": {
        "id": "pZ6sKi8ZX1z4"
      },
      "id": "pZ6sKi8ZX1z4"
    },
    {
      "cell_type": "markdown",
      "metadata": {
        "id": "PcsTZJmZu7CQ"
      },
      "source": [
        "# Colab Setup"
      ],
      "id": "PcsTZJmZu7CQ"
    },
    {
      "cell_type": "code",
      "execution_count": null,
      "metadata": {
        "id": "4914b00f-abd2-4449-9a4f-737f317317be"
      },
      "outputs": [],
      "source": [
        "# Install the johnsnowlabs library to access Spark-OCR and Spark-NLP for Healthcare, Finance, and Legal.\n",
        "! pip install johnsnowlabs "
      ],
      "id": "4914b00f-abd2-4449-9a4f-737f317317be"
    },
    {
      "cell_type": "code",
      "execution_count": null,
      "metadata": {
        "id": "fe96e8d6-c2a3-4464-b78e-90e83f743823"
      },
      "outputs": [],
      "source": [
        "from google.colab import files\n",
        "print('Please upload your John Snow Labs License using the button below')\n",
        "license_keys = files.upload()"
      ],
      "id": "fe96e8d6-c2a3-4464-b78e-90e83f743823"
    },
    {
      "cell_type": "code",
      "execution_count": null,
      "metadata": {
        "id": "JOzbTlCRNvVd"
      },
      "outputs": [],
      "source": [
        "from johnsnowlabs import * \n",
        "# After uploading your license run this to install all licensed Python Wheels and pre-download Jars the Spark Session JVM\n",
        "# Make sure to restart your notebook afterwards for changes to take effect\n",
        "jsl.install()"
      ],
      "id": "JOzbTlCRNvVd"
    },
    {
      "cell_type": "code",
      "execution_count": null,
      "metadata": {
        "id": "TZIjuI3zN1Oi"
      },
      "outputs": [],
      "source": [
        "# Automatically load license data and start a session with all jars user has access to\n",
        "spark = jsl.start()"
      ],
      "id": "TZIjuI3zN1Oi"
    },
    {
      "cell_type": "code",
      "execution_count": null,
      "id": "d35ff79d-200f-4581-bb6f-a93222190337",
      "metadata": {
        "id": "d35ff79d-200f-4581-bb6f-a93222190337"
      },
      "outputs": [],
      "source": [
        "from pyspark.ml import Pipeline, PipelineModel\n",
        "from pyspark.sql import SparkSession, DataFrame\n",
        "from pyspark.ml import Pipeline\n",
        "from sparknlp import Doc2Chunk\n",
        "from sparknlp_jsl.annotator import *\n",
        "import sparknlp_jsl\n",
        "from sparknlp.base import LightPipeline"
      ]
    },
    {
      "cell_type": "code",
      "execution_count": null,
      "id": "7c53646d-c1f1-4b3d-a268-fc0675eba3ce",
      "metadata": {
        "id": "7c53646d-c1f1-4b3d-a268-fc0675eba3ce"
      },
      "outputs": [],
      "source": [
        "spark"
      ]
    },
    {
      "cell_type": "markdown",
      "source": [
        "# Multilabel classifier training"
      ],
      "metadata": {
        "id": "MulDEC2j4ly3"
      },
      "id": "MulDEC2j4ly3"
    },
    {
      "cell_type": "markdown",
      "source": [
        "## Loading the data"
      ],
      "metadata": {
        "id": "BhKlxMBWH9-Z"
      },
      "id": "BhKlxMBWH9-Z"
    },
    {
      "cell_type": "code",
      "source": [
        "! wget -q https://raw.githubusercontent.com/JohnSnowLabs/spark-nlp-workshop/master/tutorials/Certification_Trainings/Finance/data/finance_data.csv"
      ],
      "metadata": {
        "id": "chcpskuvMK8Y"
      },
      "id": "chcpskuvMK8Y",
      "execution_count": null,
      "outputs": []
    },
    {
      "cell_type": "code",
      "source": [
        "import pandas as pd\n",
        "df = pd.read_csv('/content/finance_data.csv')\n",
        "df['label'] = df['label'].apply(eval)"
      ],
      "metadata": {
        "id": "gaRulasEKZK3"
      },
      "execution_count": null,
      "outputs": [],
      "id": "gaRulasEKZK3"
    },
    {
      "cell_type": "code",
      "source": [
        "data = spark.createDataFrame(df)\n",
        "\n",
        "# If you have a single dataset, then split it or else you can load the test dataset the same way that you load the train data.\n",
        "train, test = data.randomSplit([0.8, 0.2], seed = 123)"
      ],
      "metadata": {
        "id": "bUFO8usqKt2Z"
      },
      "execution_count": null,
      "outputs": [],
      "id": "bUFO8usqKt2Z"
    },
    {
      "cell_type": "code",
      "source": [
        "train.show(truncate=50)"
      ],
      "metadata": {
        "colab": {
          "base_uri": "https://localhost:8080/"
        },
        "id": "bowhz89ZbN1C",
        "outputId": "5ea51a83-f8a5-4485-d14e-66426953b2b0"
      },
      "execution_count": null,
      "outputs": [
        {
          "output_type": "stream",
          "name": "stdout",
          "text": [
            "+--------------------------------------------------+-----------------------------+\n",
            "|                                         provision|                        label|\n",
            "+--------------------------------------------------+-----------------------------+\n",
            "|(a) Consultant or Company may terminate this Pr...|               [terminations]|\n",
            "|(a) Each of Borrower and Guarantor, as applicab...|[representations, warranties]|\n",
            "|(a) No amendment or waiver of any provision of ...|                 [amendments]|\n",
            "|(a) No failure on the part of any Person to exe...|        [waivers, amendments]|\n",
            "|(a) No failure or delay by any Agent or any Len...|        [waivers, amendments]|\n",
            "|(a) No failure or delay by the Administrative A...|        [waivers, amendments]|\n",
            "|(a) No failure or delay by the Administrative A...|        [waivers, amendments]|\n",
            "|(a) No failure or delay by the Administrative A...|        [waivers, amendments]|\n",
            "|(a) No failure or delay by the Agent or any Len...|        [waivers, amendments]|\n",
            "|(a) No failure or delay of the Administrative A...|        [waivers, amendments]|\n",
            "|(a) The Company waives any right (except as sha...|                    [waivers]|\n",
            "|(a) The Credit Agreement (excluding the Exhibit...|                 [amendments]|\n",
            "|(a) The Credit Agreement is, effective as of th...|                 [amendments]|\n",
            "|(a) The agreements contained in Sections 2.13, ...|                   [survival]|\n",
            "|(a) The provisions of this Agreement shall be b...|        [assigns, successors]|\n",
            "|(a) The provisions of this Agreement shall be b...|        [assigns, successors]|\n",
            "|(a) To induce the other parties hereto to enter...|[representations, warranties]|\n",
            "|(a).The provisions of this Agreement shall be b...|        [assigns, successors]|\n",
            "|(a)  No failure or delay on the part of the Age...|        [waivers, amendments]|\n",
            "|(a)  Successors and Assigns Generally . The pro...|        [assigns, successors]|\n",
            "+--------------------------------------------------+-----------------------------+\n",
            "only showing top 20 rows\n",
            "\n"
          ]
        }
      ],
      "id": "bowhz89ZbN1C"
    },
    {
      "cell_type": "code",
      "source": [
        "from pyspark.sql.functions import col\n",
        "\n",
        "test.groupBy(\"label\") \\\n",
        "    .count() \\\n",
        "    .orderBy(col(\"count\").desc()) \\\n",
        "    .show()"
      ],
      "metadata": {
        "id": "RZ0xy9hpebLe",
        "colab": {
          "base_uri": "https://localhost:8080/"
        },
        "outputId": "aa23bbad-243c-4886-dd24-a66e721502be"
      },
      "execution_count": null,
      "outputs": [
        {
          "output_type": "stream",
          "name": "stdout",
          "text": [
            "+--------------------+-----+\n",
            "|               label|count|\n",
            "+--------------------+-----+\n",
            "|    [governing laws]|  751|\n",
            "|      [counterparts]|  580|\n",
            "|           [notices]|  574|\n",
            "| [entire agreements]|  571|\n",
            "|      [severability]|  504|\n",
            "|          [survival]|  327|\n",
            "|[assigns, success...|  294|\n",
            "|        [amendments]|  265|\n",
            "|[waivers, amendme...|  229|\n",
            "|          [expenses]|  227|\n",
            "|      [terminations]|  227|\n",
            "|           [waivers]|  206|\n",
            "|[representations,...|  203|\n",
            "|       [assignments]|  174|\n",
            "|   [representations]|   88|\n",
            "|[amendments, enti...|   60|\n",
            "|        [successors]|   50|\n",
            "|[amendments, term...|   35|\n",
            "|        [warranties]|   24|\n",
            "|[governing laws, ...|   13|\n",
            "+--------------------+-----+\n",
            "only showing top 20 rows\n",
            "\n"
          ]
        }
      ],
      "id": "RZ0xy9hpebLe"
    },
    {
      "cell_type": "markdown",
      "source": [
        " ## With Universal Encoder"
      ],
      "metadata": {
        "id": "78sjKvMKcHdn"
      },
      "id": "78sjKvMKcHdn"
    },
    {
      "cell_type": "code",
      "source": [
        "document_assembler = DocumentAssembler() \\\n",
        "    .setInputCol(\"provision\") \\\n",
        "    .setOutputCol(\"document\") \\\n",
        "    .setCleanupMode(\"shrink\")\n",
        "\n",
        "embeddings = UniversalSentenceEncoder.pretrained() \\\n",
        "      .setInputCols(\"document\") \\\n",
        "      .setOutputCol(\"sentence_embeddings\")\n",
        "\n",
        "classsifierdl = nlp.MultiClassifierDLApproach()\\\n",
        "      .setInputCols([\"sentence_embeddings\"])\\\n",
        "      .setOutputCol(\"class\")\\\n",
        "      .setLabelColumn(\"label\")\\\n",
        "      .setMaxEpochs(30)\\\n",
        "      .setEnableOutputLogs(True)\n",
        "\n",
        "clf_pipeline = Pipeline(\n",
        "    stages = [\n",
        "        document_assembler,\n",
        "        embeddings,\n",
        "        classsifierdl\n",
        "    ])"
      ],
      "metadata": {
        "id": "oFl9orR5LrUu",
        "colab": {
          "base_uri": "https://localhost:8080/"
        },
        "outputId": "77532c0f-4038-4c3c-b986-d50c28d43464"
      },
      "id": "oFl9orR5LrUu",
      "execution_count": null,
      "outputs": [
        {
          "output_type": "stream",
          "name": "stdout",
          "text": [
            "tfhub_use download started this may take some time.\n",
            "Approximate size to download 923.7 MB\n",
            "[OK!]\n"
          ]
        }
      ]
    },
    {
      "cell_type": "code",
      "source": [
        "clf_pipelineModel = clf_pipeline.fit(train)"
      ],
      "metadata": {
        "id": "8kcgVr07MUss"
      },
      "id": "8kcgVr07MUss",
      "execution_count": null,
      "outputs": []
    },
    {
      "cell_type": "code",
      "source": [
        "import os\n",
        "log_file_name = os.listdir(\"/root/annotator_logs\")[0]\n",
        "\n",
        "with open(\"/root/annotator_logs/\"+log_file_name, \"r\") as log_file :\n",
        "    print(log_file.read())"
      ],
      "metadata": {
        "id": "p88hMraHOac9",
        "colab": {
          "base_uri": "https://localhost:8080/"
        },
        "outputId": "6eab45ba-89b6-42ae-8ab7-f6b19abeb695"
      },
      "id": "p88hMraHOac9",
      "execution_count": null,
      "outputs": [
        {
          "output_type": "stream",
          "name": "stdout",
          "text": [
            "Training started - epochs: 30 - learning_rate: 0.001 - batch_size: 64 - training_examples: 21996 - classes: 15\n",
            "Epoch 0/30 - 13.55s - loss: 0.16655688 - batches: 344\n",
            "Epoch 1/30 - 9.71s - loss: 0.07149226 - batches: 344\n",
            "Epoch 2/30 - 9.87s - loss: 0.060517557 - batches: 344\n",
            "Epoch 3/30 - 11.75s - loss: 0.055443104 - batches: 344\n",
            "Epoch 4/30 - 9.59s - loss: 0.05248539 - batches: 344\n",
            "Epoch 5/30 - 9.64s - loss: 0.05047605 - batches: 344\n",
            "Epoch 6/30 - 9.53s - loss: 0.04897312 - batches: 344\n",
            "Epoch 7/30 - 9.56s - loss: 0.047777086 - batches: 344\n",
            "Epoch 8/30 - 9.57s - loss: 0.046785276 - batches: 344\n",
            "Epoch 9/30 - 10.52s - loss: 0.04593985 - batches: 344\n",
            "Epoch 10/30 - 11.66s - loss: 0.045204718 - batches: 344\n",
            "Epoch 11/30 - 12.08s - loss: 0.044556096 - batches: 344\n",
            "Epoch 12/30 - 12.88s - loss: 0.04397737 - batches: 344\n",
            "Epoch 13/30 - 9.65s - loss: 0.043456018 - batches: 344\n",
            "Epoch 14/30 - 9.61s - loss: 0.04298303 - batches: 344\n",
            "Epoch 15/30 - 9.82s - loss: 0.042551916 - batches: 344\n",
            "Epoch 16/30 - 9.63s - loss: 0.042156685 - batches: 344\n",
            "Epoch 17/30 - 9.55s - loss: 0.04179228 - batches: 344\n",
            "Epoch 18/30 - 9.64s - loss: 0.041455034 - batches: 344\n",
            "Epoch 19/30 - 9.55s - loss: 0.04114166 - batches: 344\n",
            "Epoch 20/30 - 9.47s - loss: 0.040849544 - batches: 344\n",
            "Epoch 21/30 - 9.54s - loss: 0.04057636 - batches: 344\n",
            "Epoch 22/30 - 9.95s - loss: 0.04032005 - batches: 344\n",
            "Epoch 23/30 - 9.57s - loss: 0.04007886 - batches: 344\n",
            "Epoch 24/30 - 9.49s - loss: 0.039851222 - batches: 344\n",
            "Epoch 25/30 - 9.49s - loss: 0.039635774 - batches: 344\n",
            "Epoch 26/30 - 9.58s - loss: 0.03943141 - batches: 344\n",
            "Epoch 27/30 - 9.86s - loss: 0.039237082 - batches: 344\n",
            "Epoch 28/30 - 9.52s - loss: 0.039051767 - batches: 344\n",
            "Epoch 29/30 - 9.59s - loss: 0.03887483 - batches: 344\n",
            "\n"
          ]
        }
      ]
    },
    {
      "cell_type": "code",
      "source": [
        "preds = clf_pipelineModel.transform(test)"
      ],
      "metadata": {
        "id": "cwf0OM2Oy6Hd"
      },
      "id": "cwf0OM2Oy6Hd",
      "execution_count": null,
      "outputs": []
    },
    {
      "cell_type": "code",
      "source": [
        "preds_df = preds.select('label','provision',\"class.result\").toPandas()\n",
        "preds_df.head()"
      ],
      "metadata": {
        "id": "jUKamU-50kZi",
        "colab": {
          "base_uri": "https://localhost:8080/",
          "height": 206
        },
        "outputId": "91fcd360-3d9a-4d8f-b759-dc4abc305302"
      },
      "id": "jUKamU-50kZi",
      "execution_count": null,
      "outputs": [
        {
          "output_type": "execute_result",
          "data": {
            "text/plain": [
              "                     label                                          provision  \\\n",
              "0  [waivers, terminations]  (a) Effective as of the Effective Date, the Ho...   \n",
              "1    [waivers, amendments]  (a) No failure or delay by the Administrative ...   \n",
              "2    [waivers, amendments]  (a) No failure or delay on the part of any par...   \n",
              "3            [assignments]  (a) Seller, the Agent, each Managing Agent, ea...   \n",
              "4    [assigns, successors]  (a) The provisions of this Agreement shall be ...   \n",
              "\n",
              "                      result  \n",
              "0          [representations]  \n",
              "1                  [waivers]  \n",
              "2                  [waivers]  \n",
              "3  [successors, assignments]  \n",
              "4      [successors, assigns]  "
            ],
            "text/html": [
              "\n",
              "  <div id=\"df-ecba814b-317e-4ff0-a138-246d8581cec0\">\n",
              "    <div class=\"colab-df-container\">\n",
              "      <div>\n",
              "<style scoped>\n",
              "    .dataframe tbody tr th:only-of-type {\n",
              "        vertical-align: middle;\n",
              "    }\n",
              "\n",
              "    .dataframe tbody tr th {\n",
              "        vertical-align: top;\n",
              "    }\n",
              "\n",
              "    .dataframe thead th {\n",
              "        text-align: right;\n",
              "    }\n",
              "</style>\n",
              "<table border=\"1\" class=\"dataframe\">\n",
              "  <thead>\n",
              "    <tr style=\"text-align: right;\">\n",
              "      <th></th>\n",
              "      <th>label</th>\n",
              "      <th>provision</th>\n",
              "      <th>result</th>\n",
              "    </tr>\n",
              "  </thead>\n",
              "  <tbody>\n",
              "    <tr>\n",
              "      <th>0</th>\n",
              "      <td>[waivers, terminations]</td>\n",
              "      <td>(a) Effective as of the Effective Date, the Ho...</td>\n",
              "      <td>[representations]</td>\n",
              "    </tr>\n",
              "    <tr>\n",
              "      <th>1</th>\n",
              "      <td>[waivers, amendments]</td>\n",
              "      <td>(a) No failure or delay by the Administrative ...</td>\n",
              "      <td>[waivers]</td>\n",
              "    </tr>\n",
              "    <tr>\n",
              "      <th>2</th>\n",
              "      <td>[waivers, amendments]</td>\n",
              "      <td>(a) No failure or delay on the part of any par...</td>\n",
              "      <td>[waivers]</td>\n",
              "    </tr>\n",
              "    <tr>\n",
              "      <th>3</th>\n",
              "      <td>[assignments]</td>\n",
              "      <td>(a) Seller, the Agent, each Managing Agent, ea...</td>\n",
              "      <td>[successors, assignments]</td>\n",
              "    </tr>\n",
              "    <tr>\n",
              "      <th>4</th>\n",
              "      <td>[assigns, successors]</td>\n",
              "      <td>(a) The provisions of this Agreement shall be ...</td>\n",
              "      <td>[successors, assigns]</td>\n",
              "    </tr>\n",
              "  </tbody>\n",
              "</table>\n",
              "</div>\n",
              "      <button class=\"colab-df-convert\" onclick=\"convertToInteractive('df-ecba814b-317e-4ff0-a138-246d8581cec0')\"\n",
              "              title=\"Convert this dataframe to an interactive table.\"\n",
              "              style=\"display:none;\">\n",
              "        \n",
              "  <svg xmlns=\"http://www.w3.org/2000/svg\" height=\"24px\"viewBox=\"0 0 24 24\"\n",
              "       width=\"24px\">\n",
              "    <path d=\"M0 0h24v24H0V0z\" fill=\"none\"/>\n",
              "    <path d=\"M18.56 5.44l.94 2.06.94-2.06 2.06-.94-2.06-.94-.94-2.06-.94 2.06-2.06.94zm-11 1L8.5 8.5l.94-2.06 2.06-.94-2.06-.94L8.5 2.5l-.94 2.06-2.06.94zm10 10l.94 2.06.94-2.06 2.06-.94-2.06-.94-.94-2.06-.94 2.06-2.06.94z\"/><path d=\"M17.41 7.96l-1.37-1.37c-.4-.4-.92-.59-1.43-.59-.52 0-1.04.2-1.43.59L10.3 9.45l-7.72 7.72c-.78.78-.78 2.05 0 2.83L4 21.41c.39.39.9.59 1.41.59.51 0 1.02-.2 1.41-.59l7.78-7.78 2.81-2.81c.8-.78.8-2.07 0-2.86zM5.41 20L4 18.59l7.72-7.72 1.47 1.35L5.41 20z\"/>\n",
              "  </svg>\n",
              "      </button>\n",
              "      \n",
              "  <style>\n",
              "    .colab-df-container {\n",
              "      display:flex;\n",
              "      flex-wrap:wrap;\n",
              "      gap: 12px;\n",
              "    }\n",
              "\n",
              "    .colab-df-convert {\n",
              "      background-color: #E8F0FE;\n",
              "      border: none;\n",
              "      border-radius: 50%;\n",
              "      cursor: pointer;\n",
              "      display: none;\n",
              "      fill: #1967D2;\n",
              "      height: 32px;\n",
              "      padding: 0 0 0 0;\n",
              "      width: 32px;\n",
              "    }\n",
              "\n",
              "    .colab-df-convert:hover {\n",
              "      background-color: #E2EBFA;\n",
              "      box-shadow: 0px 1px 2px rgba(60, 64, 67, 0.3), 0px 1px 3px 1px rgba(60, 64, 67, 0.15);\n",
              "      fill: #174EA6;\n",
              "    }\n",
              "\n",
              "    [theme=dark] .colab-df-convert {\n",
              "      background-color: #3B4455;\n",
              "      fill: #D2E3FC;\n",
              "    }\n",
              "\n",
              "    [theme=dark] .colab-df-convert:hover {\n",
              "      background-color: #434B5C;\n",
              "      box-shadow: 0px 1px 3px 1px rgba(0, 0, 0, 0.15);\n",
              "      filter: drop-shadow(0px 1px 2px rgba(0, 0, 0, 0.3));\n",
              "      fill: #FFFFFF;\n",
              "    }\n",
              "  </style>\n",
              "\n",
              "      <script>\n",
              "        const buttonEl =\n",
              "          document.querySelector('#df-ecba814b-317e-4ff0-a138-246d8581cec0 button.colab-df-convert');\n",
              "        buttonEl.style.display =\n",
              "          google.colab.kernel.accessAllowed ? 'block' : 'none';\n",
              "\n",
              "        async function convertToInteractive(key) {\n",
              "          const element = document.querySelector('#df-ecba814b-317e-4ff0-a138-246d8581cec0');\n",
              "          const dataTable =\n",
              "            await google.colab.kernel.invokeFunction('convertToInteractive',\n",
              "                                                     [key], {});\n",
              "          if (!dataTable) return;\n",
              "\n",
              "          const docLinkHtml = 'Like what you see? Visit the ' +\n",
              "            '<a target=\"_blank\" href=https://colab.research.google.com/notebooks/data_table.ipynb>data table notebook</a>'\n",
              "            + ' to learn more about interactive tables.';\n",
              "          element.innerHTML = '';\n",
              "          dataTable['output_type'] = 'display_data';\n",
              "          await google.colab.output.renderOutput(dataTable, element);\n",
              "          const docLink = document.createElement('div');\n",
              "          docLink.innerHTML = docLinkHtml;\n",
              "          element.appendChild(docLink);\n",
              "        }\n",
              "      </script>\n",
              "    </div>\n",
              "  </div>\n",
              "  "
            ]
          },
          "metadata": {},
          "execution_count": 66
        }
      ]
    },
    {
      "cell_type": "code",
      "source": [
        "from sklearn.preprocessing import MultiLabelBinarizer\n",
        "from sklearn.metrics import classification_report\n",
        "from sklearn.metrics import f1_score\n",
        "from sklearn.metrics import roc_auc_score\n",
        "\n",
        "mlb = MultiLabelBinarizer()\n",
        "\n",
        "y_true = mlb.fit_transform(preds_df['label'])\n",
        "y_pred = mlb.fit_transform(preds_df['result'])\n",
        "\n",
        "\n",
        "print(\"Classification report: \\n\", (classification_report(y_true, y_pred)))\n",
        "print(\"F1 micro averaging:\",(f1_score(y_true, y_pred, average='micro')))\n",
        "print(\"ROC: \",(roc_auc_score(y_true, y_pred, average=\"micro\")))\n"
      ],
      "metadata": {
        "id": "uWVj5TsSbmRE",
        "colab": {
          "base_uri": "https://localhost:8080/"
        },
        "outputId": "478e1217-0eb7-4853-d57d-536821a5716d"
      },
      "id": "uWVj5TsSbmRE",
      "execution_count": null,
      "outputs": [
        {
          "output_type": "stream",
          "name": "stdout",
          "text": [
            "Classification report: \n",
            "               precision    recall  f1-score   support\n",
            "\n",
            "           0       0.88      0.77      0.82       618\n",
            "           1       0.73      0.52      0.61       198\n",
            "           2       0.79      0.75      0.77       302\n",
            "           3       0.99      0.98      0.99       587\n",
            "           4       0.98      0.94      0.96       675\n",
            "           5       0.98      0.92      0.95       228\n",
            "           6       0.98      0.98      0.98       784\n",
            "           7       0.98      0.96      0.97       574\n",
            "           8       0.92      0.79      0.85       291\n",
            "           9       0.99      0.94      0.96       531\n",
            "          10       0.84      0.85      0.84       361\n",
            "          11       0.96      0.91      0.94       329\n",
            "          12       0.89      0.73      0.80       272\n",
            "          13       0.90      0.75      0.82       460\n",
            "          14       0.83      0.80      0.82       227\n",
            "\n",
            "   micro avg       0.93      0.87      0.90      6437\n",
            "   macro avg       0.91      0.84      0.87      6437\n",
            "weighted avg       0.93      0.87      0.90      6437\n",
            " samples avg       0.89      0.89      0.88      6437\n",
            "\n",
            "F1 micro averaging: 0.9004975124378108\n",
            "ROC:  0.9331101745078121\n"
          ]
        }
      ]
    },
    {
      "cell_type": "markdown",
      "source": [
        "## With Bert Embeddings"
      ],
      "metadata": {
        "id": "jWhU1pMUay0I"
      },
      "id": "jWhU1pMUay0I"
    },
    {
      "cell_type": "markdown",
      "source": [
        "We do not have have any specific Financial Sentence Embeddings, but we can use Financial Bert Embeddings and then average them."
      ],
      "metadata": {
        "id": "bHVFY_i4H5Gh"
      },
      "id": "bHVFY_i4H5Gh"
    },
    {
      "cell_type": "code",
      "source": [
        "embeddings = BertEmbeddings.pretrained(\"bert_embeddings_sec_bert_base\",\"en\") \\\n",
        "          .setInputCols([\"document\", \"token\"]) \\\n",
        "          .setOutputCol(\"embeddings\")"
      ],
      "metadata": {
        "colab": {
          "base_uri": "https://localhost:8080/"
        },
        "outputId": "84697241-f069-4830-d21b-22f1d3dc5a8d",
        "id": "8PG4NNyQdBnG"
      },
      "execution_count": null,
      "outputs": [
        {
          "output_type": "stream",
          "name": "stdout",
          "text": [
            "bert_embeddings_sec_bert_base download started this may take some time.\n",
            "Approximate size to download 390.4 MB\n",
            "[OK!]\n"
          ]
        }
      ],
      "id": "8PG4NNyQdBnG"
    },
    {
      "cell_type": "code",
      "source": [
        "document_assembler = DocumentAssembler() \\\n",
        "    .setInputCol(\"provision\") \\\n",
        "    .setOutputCol(\"document\")\n",
        "\n",
        "tokenizer = Tokenizer() \\\n",
        "    .setInputCols([\"document\"]) \\\n",
        "    .setOutputCol(\"token\")\n",
        "\n",
        "embeddingsSentence = SentenceEmbeddings() \\\n",
        "    .setInputCols([\"document\", \"embeddings\"]) \\\n",
        "    .setOutputCol(\"sentence_embeddings\") \\\n",
        "    .setPoolingStrategy(\"AVERAGE\")\n",
        "\n",
        "classsifierdl = nlp.MultiClassifierDLApproach() \\\n",
        "      .setInputCols([\"sentence_embeddings\"]) \\\n",
        "      .setOutputCol(\"class\") \\\n",
        "      .setLabelColumn(\"label\")\\\n",
        "      .setMaxEpochs(8)\\\n",
        "      .setEnableOutputLogs(True)\n",
        "\n",
        "clf_pipeline = Pipeline(\n",
        "    stages = [\n",
        "        document_assembler,\n",
        "        tokenizer,\n",
        "        embeddings,\n",
        "        embeddingsSentence,\n",
        "        classsifierdl\n",
        "    ])"
      ],
      "metadata": {
        "id": "zdiCyuc3dBnJ"
      },
      "execution_count": null,
      "outputs": [],
      "id": "zdiCyuc3dBnJ"
    },
    {
      "cell_type": "code",
      "source": [
        "clf_pipelineModel = clf_pipeline.fit(train)"
      ],
      "metadata": {
        "id": "7fxOmkTNdBnK"
      },
      "execution_count": null,
      "outputs": [],
      "id": "7fxOmkTNdBnK"
    },
    {
      "cell_type": "code",
      "source": [
        "preds = clf_pipelineModel.transform(test)"
      ],
      "metadata": {
        "id": "Y-YfOWrudBnM"
      },
      "execution_count": null,
      "outputs": [],
      "id": "Y-YfOWrudBnM"
    },
    {
      "cell_type": "code",
      "source": [
        "preds_df = preds.select('provision','label',\"class.result\").toPandas()"
      ],
      "metadata": {
        "id": "9VfIUz3IdBnN"
      },
      "execution_count": null,
      "outputs": [],
      "id": "9VfIUz3IdBnN"
    },
    {
      "cell_type": "code",
      "source": [
        "preds_df.head()"
      ],
      "metadata": {
        "colab": {
          "base_uri": "https://localhost:8080/",
          "height": 206
        },
        "outputId": "8953d4be-20f4-466c-f63f-d76b05b50f0c",
        "id": "vT2kdFLsdBnN"
      },
      "execution_count": null,
      "outputs": [
        {
          "output_type": "execute_result",
          "data": {
            "text/plain": [
              "                                           provision                    label  \\\n",
              "0  (a) Effective as of the Effective Date, the Ho...  [waivers, terminations]   \n",
              "1  (a) No failure or delay by the Administrative ...    [waivers, amendments]   \n",
              "2  (a) No failure or delay on the part of any par...    [waivers, amendments]   \n",
              "3  (a) Seller, the Agent, each Managing Agent, ea...            [assignments]   \n",
              "4  (a) The provisions of this Agreement shall be ...    [assigns, successors]   \n",
              "\n",
              "                  result  \n",
              "0              [waivers]  \n",
              "1  [waivers, amendments]  \n",
              "2              [waivers]  \n",
              "3          [assignments]  \n",
              "4  [successors, assigns]  "
            ],
            "text/html": [
              "\n",
              "  <div id=\"df-b80acf05-e9f1-4144-81a1-9ef82878d361\">\n",
              "    <div class=\"colab-df-container\">\n",
              "      <div>\n",
              "<style scoped>\n",
              "    .dataframe tbody tr th:only-of-type {\n",
              "        vertical-align: middle;\n",
              "    }\n",
              "\n",
              "    .dataframe tbody tr th {\n",
              "        vertical-align: top;\n",
              "    }\n",
              "\n",
              "    .dataframe thead th {\n",
              "        text-align: right;\n",
              "    }\n",
              "</style>\n",
              "<table border=\"1\" class=\"dataframe\">\n",
              "  <thead>\n",
              "    <tr style=\"text-align: right;\">\n",
              "      <th></th>\n",
              "      <th>provision</th>\n",
              "      <th>label</th>\n",
              "      <th>result</th>\n",
              "    </tr>\n",
              "  </thead>\n",
              "  <tbody>\n",
              "    <tr>\n",
              "      <th>0</th>\n",
              "      <td>(a) Effective as of the Effective Date, the Ho...</td>\n",
              "      <td>[waivers, terminations]</td>\n",
              "      <td>[waivers]</td>\n",
              "    </tr>\n",
              "    <tr>\n",
              "      <th>1</th>\n",
              "      <td>(a) No failure or delay by the Administrative ...</td>\n",
              "      <td>[waivers, amendments]</td>\n",
              "      <td>[waivers, amendments]</td>\n",
              "    </tr>\n",
              "    <tr>\n",
              "      <th>2</th>\n",
              "      <td>(a) No failure or delay on the part of any par...</td>\n",
              "      <td>[waivers, amendments]</td>\n",
              "      <td>[waivers]</td>\n",
              "    </tr>\n",
              "    <tr>\n",
              "      <th>3</th>\n",
              "      <td>(a) Seller, the Agent, each Managing Agent, ea...</td>\n",
              "      <td>[assignments]</td>\n",
              "      <td>[assignments]</td>\n",
              "    </tr>\n",
              "    <tr>\n",
              "      <th>4</th>\n",
              "      <td>(a) The provisions of this Agreement shall be ...</td>\n",
              "      <td>[assigns, successors]</td>\n",
              "      <td>[successors, assigns]</td>\n",
              "    </tr>\n",
              "  </tbody>\n",
              "</table>\n",
              "</div>\n",
              "      <button class=\"colab-df-convert\" onclick=\"convertToInteractive('df-b80acf05-e9f1-4144-81a1-9ef82878d361')\"\n",
              "              title=\"Convert this dataframe to an interactive table.\"\n",
              "              style=\"display:none;\">\n",
              "        \n",
              "  <svg xmlns=\"http://www.w3.org/2000/svg\" height=\"24px\"viewBox=\"0 0 24 24\"\n",
              "       width=\"24px\">\n",
              "    <path d=\"M0 0h24v24H0V0z\" fill=\"none\"/>\n",
              "    <path d=\"M18.56 5.44l.94 2.06.94-2.06 2.06-.94-2.06-.94-.94-2.06-.94 2.06-2.06.94zm-11 1L8.5 8.5l.94-2.06 2.06-.94-2.06-.94L8.5 2.5l-.94 2.06-2.06.94zm10 10l.94 2.06.94-2.06 2.06-.94-2.06-.94-.94-2.06-.94 2.06-2.06.94z\"/><path d=\"M17.41 7.96l-1.37-1.37c-.4-.4-.92-.59-1.43-.59-.52 0-1.04.2-1.43.59L10.3 9.45l-7.72 7.72c-.78.78-.78 2.05 0 2.83L4 21.41c.39.39.9.59 1.41.59.51 0 1.02-.2 1.41-.59l7.78-7.78 2.81-2.81c.8-.78.8-2.07 0-2.86zM5.41 20L4 18.59l7.72-7.72 1.47 1.35L5.41 20z\"/>\n",
              "  </svg>\n",
              "      </button>\n",
              "      \n",
              "  <style>\n",
              "    .colab-df-container {\n",
              "      display:flex;\n",
              "      flex-wrap:wrap;\n",
              "      gap: 12px;\n",
              "    }\n",
              "\n",
              "    .colab-df-convert {\n",
              "      background-color: #E8F0FE;\n",
              "      border: none;\n",
              "      border-radius: 50%;\n",
              "      cursor: pointer;\n",
              "      display: none;\n",
              "      fill: #1967D2;\n",
              "      height: 32px;\n",
              "      padding: 0 0 0 0;\n",
              "      width: 32px;\n",
              "    }\n",
              "\n",
              "    .colab-df-convert:hover {\n",
              "      background-color: #E2EBFA;\n",
              "      box-shadow: 0px 1px 2px rgba(60, 64, 67, 0.3), 0px 1px 3px 1px rgba(60, 64, 67, 0.15);\n",
              "      fill: #174EA6;\n",
              "    }\n",
              "\n",
              "    [theme=dark] .colab-df-convert {\n",
              "      background-color: #3B4455;\n",
              "      fill: #D2E3FC;\n",
              "    }\n",
              "\n",
              "    [theme=dark] .colab-df-convert:hover {\n",
              "      background-color: #434B5C;\n",
              "      box-shadow: 0px 1px 3px 1px rgba(0, 0, 0, 0.15);\n",
              "      filter: drop-shadow(0px 1px 2px rgba(0, 0, 0, 0.3));\n",
              "      fill: #FFFFFF;\n",
              "    }\n",
              "  </style>\n",
              "\n",
              "      <script>\n",
              "        const buttonEl =\n",
              "          document.querySelector('#df-b80acf05-e9f1-4144-81a1-9ef82878d361 button.colab-df-convert');\n",
              "        buttonEl.style.display =\n",
              "          google.colab.kernel.accessAllowed ? 'block' : 'none';\n",
              "\n",
              "        async function convertToInteractive(key) {\n",
              "          const element = document.querySelector('#df-b80acf05-e9f1-4144-81a1-9ef82878d361');\n",
              "          const dataTable =\n",
              "            await google.colab.kernel.invokeFunction('convertToInteractive',\n",
              "                                                     [key], {});\n",
              "          if (!dataTable) return;\n",
              "\n",
              "          const docLinkHtml = 'Like what you see? Visit the ' +\n",
              "            '<a target=\"_blank\" href=https://colab.research.google.com/notebooks/data_table.ipynb>data table notebook</a>'\n",
              "            + ' to learn more about interactive tables.';\n",
              "          element.innerHTML = '';\n",
              "          dataTable['output_type'] = 'display_data';\n",
              "          await google.colab.output.renderOutput(dataTable, element);\n",
              "          const docLink = document.createElement('div');\n",
              "          docLink.innerHTML = docLinkHtml;\n",
              "          element.appendChild(docLink);\n",
              "        }\n",
              "      </script>\n",
              "    </div>\n",
              "  </div>\n",
              "  "
            ]
          },
          "metadata": {},
          "execution_count": 54
        }
      ],
      "id": "vT2kdFLsdBnN"
    },
    {
      "cell_type": "code",
      "source": [
        "import os\n",
        "log_file_name = os.listdir(\"/root/annotator_logs\")[0]\n",
        "\n",
        "with open(\"/root/annotator_logs/\"+log_file_name, \"r\") as log_file :\n",
        "    print(log_file.read())"
      ],
      "metadata": {
        "colab": {
          "base_uri": "https://localhost:8080/"
        },
        "id": "No_VwzrNjE7f",
        "outputId": "37b1a910-18a2-4bc4-96f8-b933135787e7"
      },
      "id": "No_VwzrNjE7f",
      "execution_count": null,
      "outputs": [
        {
          "output_type": "stream",
          "name": "stdout",
          "text": [
            "Training started - epochs: 8 - learning_rate: 0.001 - batch_size: 64 - training_examples: 22042 - classes: 15\n",
            "Epoch 0/8 - 8.72s - loss: 0.08101581 - batches: 345\n",
            "Epoch 1/8 - 6.07s - loss: 0.038062517 - batches: 345\n",
            "Epoch 2/8 - 6.32s - loss: 0.033950333 - batches: 345\n",
            "Epoch 3/8 - 6.27s - loss: 0.03147273 - batches: 345\n",
            "Epoch 4/8 - 6.17s - loss: 0.029639142 - batches: 345\n",
            "Epoch 5/8 - 6.13s - loss: 0.028155383 - batches: 345\n",
            "Epoch 6/8 - 6.36s - loss: 0.026899043 - batches: 345\n",
            "Epoch 7/8 - 6.07s - loss: 0.025821527 - batches: 345\n",
            "\n"
          ]
        }
      ]
    },
    {
      "cell_type": "code",
      "source": [
        "from sklearn.preprocessing import MultiLabelBinarizer\n",
        "from sklearn.metrics import classification_report\n",
        "from sklearn.metrics import f1_score\n",
        "from sklearn.metrics import roc_auc_score\n",
        "\n",
        "mlb = MultiLabelBinarizer()\n",
        "\n",
        "y_true = mlb.fit_transform(preds_df['label'])\n",
        "y_pred = mlb.fit_transform(preds_df['result'])\n",
        "\n",
        "\n",
        "print(\"Classification report: \\n\", (classification_report(y_true, y_pred)))\n",
        "print(\"F1 micro averaging:\",(f1_score(y_true, y_pred, average='micro')))\n",
        "print(\"ROC: \",(roc_auc_score(y_true, y_pred, average=\"micro\")))\n"
      ],
      "metadata": {
        "colab": {
          "base_uri": "https://localhost:8080/"
        },
        "id": "GJKWrIpOYLW_",
        "outputId": "a5f84f35-f5a1-420e-b50d-56cb57d35af8"
      },
      "id": "GJKWrIpOYLW_",
      "execution_count": null,
      "outputs": [
        {
          "output_type": "stream",
          "name": "stdout",
          "text": [
            "Classification report: \n",
            "               precision    recall  f1-score   support\n",
            "\n",
            "           0       0.90      0.90      0.90       618\n",
            "           1       0.82      0.66      0.73       198\n",
            "           2       0.88      0.68      0.77       302\n",
            "           3       0.99      0.99      0.99       587\n",
            "           4       0.99      0.96      0.97       675\n",
            "           5       1.00      0.97      0.98       228\n",
            "           6       0.98      0.98      0.98       784\n",
            "           7       1.00      0.97      0.98       574\n",
            "           8       0.95      0.93      0.94       291\n",
            "           9       0.99      0.97      0.98       531\n",
            "          10       0.90      0.85      0.87       361\n",
            "          11       0.96      0.93      0.95       329\n",
            "          12       0.93      0.86      0.89       272\n",
            "          13       0.96      0.75      0.84       460\n",
            "          14       0.88      0.88      0.88       227\n",
            "\n",
            "   micro avg       0.95      0.91      0.93      6437\n",
            "   macro avg       0.94      0.89      0.91      6437\n",
            "weighted avg       0.95      0.91      0.93      6437\n",
            " samples avg       0.93      0.93      0.92      6437\n",
            "\n",
            "F1 micro averaging: 0.930891719745223\n",
            "ROC:  0.9522672605858714\n"
          ]
        }
      ]
    },
    {
      "cell_type": "markdown",
      "source": [
        "### Saving & loading back the trained model"
      ],
      "metadata": {
        "id": "Zsap0xaejFCX"
      },
      "id": "Zsap0xaejFCX"
    },
    {
      "cell_type": "code",
      "source": [
        "clf_pipelineModel.stages"
      ],
      "metadata": {
        "colab": {
          "base_uri": "https://localhost:8080/"
        },
        "outputId": "86e1bda1-4b40-4985-e252-cf3cc3c08f04",
        "id": "BQoJ_DHSjFCX"
      },
      "execution_count": null,
      "outputs": [
        {
          "output_type": "execute_result",
          "data": {
            "text/plain": [
              "[DocumentAssembler_f8b952d9caec,\n",
              " REGEX_TOKENIZER_50c5d2a2686e,\n",
              " BERT_EMBEDDINGS_29ce72cd673e,\n",
              " SentenceEmbeddings_482a3d4ce37f,\n",
              " MultiClassifierDLModel_760c1c21e05a]"
            ]
          },
          "metadata": {},
          "execution_count": 22
        }
      ],
      "id": "BQoJ_DHSjFCX"
    },
    {
      "cell_type": "code",
      "source": [
        "clf_pipelineModel.stages[-1].write().overwrite().save('MultilabelClfBert')"
      ],
      "metadata": {
        "id": "3hKjHocZjFCY"
      },
      "execution_count": null,
      "outputs": [],
      "id": "3hKjHocZjFCY"
    },
    {
      "cell_type": "code",
      "source": [
        "# Load back  saved Multilabel Classifier Model\n",
        "MultilabelClfModel = nlp.MultiClassifierDLModel.load('MultilabelClfBert')"
      ],
      "metadata": {
        "id": "cXtTavvVjFCY"
      },
      "execution_count": null,
      "outputs": [],
      "id": "cXtTavvVjFCY"
    },
    {
      "cell_type": "code",
      "source": [
        "ld_pipeline = Pipeline(stages=[document_assembler, tokenizer, embeddings, embeddingsSentence, MultilabelClfModel])\n",
        "ld_pipeline_model = ld_pipeline.fit(spark.createDataFrame([['']]).toDF(\"provision\"))"
      ],
      "metadata": {
        "id": "sxWzLYSgjFCY"
      },
      "execution_count": null,
      "outputs": [],
      "id": "sxWzLYSgjFCY"
    },
    {
      "cell_type": "code",
      "source": [
        "# Apply Model Transform to testData\n",
        "ld_preds = ld_pipeline_model.transform(test)"
      ],
      "metadata": {
        "id": "FKe7kDccjFCY"
      },
      "execution_count": null,
      "outputs": [],
      "id": "FKe7kDccjFCY"
    },
    {
      "cell_type": "code",
      "source": [
        "ld_preds_df = ld_preds.select('provision','label',\"class.result\").toPandas()"
      ],
      "metadata": {
        "id": "pnZwf9MejFCY"
      },
      "execution_count": null,
      "outputs": [],
      "id": "pnZwf9MejFCY"
    },
    {
      "cell_type": "code",
      "source": [
        "ld_preds_df.head(10)"
      ],
      "metadata": {
        "colab": {
          "base_uri": "https://localhost:8080/",
          "height": 363
        },
        "outputId": "dad8fb9a-b3cc-4830-8d83-90bdcdd90641",
        "id": "rWarQRPBjFCZ"
      },
      "execution_count": null,
      "outputs": [
        {
          "output_type": "execute_result",
          "data": {
            "text/plain": [
              "                                           provision  \\\n",
              "0  (A) Seller’s Adjusted Tangible Net Worth is gr...   \n",
              "1  (a) All notices and other communications provi...   \n",
              "2  (a) Each of the Assignor and the Assignee here...   \n",
              "3  (a) Effective as of the Effective Date, the Ho...   \n",
              "4  (a) No amendment, modification or waiver of an...   \n",
              "5  (a) No failure or delay by the Administrative ...   \n",
              "6  (a) No failure or delay by the Administrative ...   \n",
              "7  (a) No failure or delay by the Administrative ...   \n",
              "8  (a) No failure or delay by the Administrative ...   \n",
              "9  (a) No failure or delay by the Administrative ...   \n",
              "\n",
              "                           label                         result  \n",
              "0                   [warranties]                   [warranties]  \n",
              "1                      [notices]                      [notices]  \n",
              "2  [representations, warranties]  [warranties, representations]  \n",
              "3        [waivers, terminations]                      [waivers]  \n",
              "4                   [amendments]          [waivers, amendments]  \n",
              "5          [waivers, amendments]          [waivers, amendments]  \n",
              "6          [waivers, amendments]          [waivers, amendments]  \n",
              "7          [waivers, amendments]          [waivers, amendments]  \n",
              "8          [waivers, amendments]          [waivers, amendments]  \n",
              "9          [waivers, amendments]          [waivers, amendments]  "
            ],
            "text/html": [
              "\n",
              "  <div id=\"df-e3222bfb-0ab5-42a5-a79f-fb9730b74e2a\">\n",
              "    <div class=\"colab-df-container\">\n",
              "      <div>\n",
              "<style scoped>\n",
              "    .dataframe tbody tr th:only-of-type {\n",
              "        vertical-align: middle;\n",
              "    }\n",
              "\n",
              "    .dataframe tbody tr th {\n",
              "        vertical-align: top;\n",
              "    }\n",
              "\n",
              "    .dataframe thead th {\n",
              "        text-align: right;\n",
              "    }\n",
              "</style>\n",
              "<table border=\"1\" class=\"dataframe\">\n",
              "  <thead>\n",
              "    <tr style=\"text-align: right;\">\n",
              "      <th></th>\n",
              "      <th>provision</th>\n",
              "      <th>label</th>\n",
              "      <th>result</th>\n",
              "    </tr>\n",
              "  </thead>\n",
              "  <tbody>\n",
              "    <tr>\n",
              "      <th>0</th>\n",
              "      <td>(A) Seller’s Adjusted Tangible Net Worth is gr...</td>\n",
              "      <td>[warranties]</td>\n",
              "      <td>[warranties]</td>\n",
              "    </tr>\n",
              "    <tr>\n",
              "      <th>1</th>\n",
              "      <td>(a) All notices and other communications provi...</td>\n",
              "      <td>[notices]</td>\n",
              "      <td>[notices]</td>\n",
              "    </tr>\n",
              "    <tr>\n",
              "      <th>2</th>\n",
              "      <td>(a) Each of the Assignor and the Assignee here...</td>\n",
              "      <td>[representations, warranties]</td>\n",
              "      <td>[warranties, representations]</td>\n",
              "    </tr>\n",
              "    <tr>\n",
              "      <th>3</th>\n",
              "      <td>(a) Effective as of the Effective Date, the Ho...</td>\n",
              "      <td>[waivers, terminations]</td>\n",
              "      <td>[waivers]</td>\n",
              "    </tr>\n",
              "    <tr>\n",
              "      <th>4</th>\n",
              "      <td>(a) No amendment, modification or waiver of an...</td>\n",
              "      <td>[amendments]</td>\n",
              "      <td>[waivers, amendments]</td>\n",
              "    </tr>\n",
              "    <tr>\n",
              "      <th>5</th>\n",
              "      <td>(a) No failure or delay by the Administrative ...</td>\n",
              "      <td>[waivers, amendments]</td>\n",
              "      <td>[waivers, amendments]</td>\n",
              "    </tr>\n",
              "    <tr>\n",
              "      <th>6</th>\n",
              "      <td>(a) No failure or delay by the Administrative ...</td>\n",
              "      <td>[waivers, amendments]</td>\n",
              "      <td>[waivers, amendments]</td>\n",
              "    </tr>\n",
              "    <tr>\n",
              "      <th>7</th>\n",
              "      <td>(a) No failure or delay by the Administrative ...</td>\n",
              "      <td>[waivers, amendments]</td>\n",
              "      <td>[waivers, amendments]</td>\n",
              "    </tr>\n",
              "    <tr>\n",
              "      <th>8</th>\n",
              "      <td>(a) No failure or delay by the Administrative ...</td>\n",
              "      <td>[waivers, amendments]</td>\n",
              "      <td>[waivers, amendments]</td>\n",
              "    </tr>\n",
              "    <tr>\n",
              "      <th>9</th>\n",
              "      <td>(a) No failure or delay by the Administrative ...</td>\n",
              "      <td>[waivers, amendments]</td>\n",
              "      <td>[waivers, amendments]</td>\n",
              "    </tr>\n",
              "  </tbody>\n",
              "</table>\n",
              "</div>\n",
              "      <button class=\"colab-df-convert\" onclick=\"convertToInteractive('df-e3222bfb-0ab5-42a5-a79f-fb9730b74e2a')\"\n",
              "              title=\"Convert this dataframe to an interactive table.\"\n",
              "              style=\"display:none;\">\n",
              "        \n",
              "  <svg xmlns=\"http://www.w3.org/2000/svg\" height=\"24px\"viewBox=\"0 0 24 24\"\n",
              "       width=\"24px\">\n",
              "    <path d=\"M0 0h24v24H0V0z\" fill=\"none\"/>\n",
              "    <path d=\"M18.56 5.44l.94 2.06.94-2.06 2.06-.94-2.06-.94-.94-2.06-.94 2.06-2.06.94zm-11 1L8.5 8.5l.94-2.06 2.06-.94-2.06-.94L8.5 2.5l-.94 2.06-2.06.94zm10 10l.94 2.06.94-2.06 2.06-.94-2.06-.94-.94-2.06-.94 2.06-2.06.94z\"/><path d=\"M17.41 7.96l-1.37-1.37c-.4-.4-.92-.59-1.43-.59-.52 0-1.04.2-1.43.59L10.3 9.45l-7.72 7.72c-.78.78-.78 2.05 0 2.83L4 21.41c.39.39.9.59 1.41.59.51 0 1.02-.2 1.41-.59l7.78-7.78 2.81-2.81c.8-.78.8-2.07 0-2.86zM5.41 20L4 18.59l7.72-7.72 1.47 1.35L5.41 20z\"/>\n",
              "  </svg>\n",
              "      </button>\n",
              "      \n",
              "  <style>\n",
              "    .colab-df-container {\n",
              "      display:flex;\n",
              "      flex-wrap:wrap;\n",
              "      gap: 12px;\n",
              "    }\n",
              "\n",
              "    .colab-df-convert {\n",
              "      background-color: #E8F0FE;\n",
              "      border: none;\n",
              "      border-radius: 50%;\n",
              "      cursor: pointer;\n",
              "      display: none;\n",
              "      fill: #1967D2;\n",
              "      height: 32px;\n",
              "      padding: 0 0 0 0;\n",
              "      width: 32px;\n",
              "    }\n",
              "\n",
              "    .colab-df-convert:hover {\n",
              "      background-color: #E2EBFA;\n",
              "      box-shadow: 0px 1px 2px rgba(60, 64, 67, 0.3), 0px 1px 3px 1px rgba(60, 64, 67, 0.15);\n",
              "      fill: #174EA6;\n",
              "    }\n",
              "\n",
              "    [theme=dark] .colab-df-convert {\n",
              "      background-color: #3B4455;\n",
              "      fill: #D2E3FC;\n",
              "    }\n",
              "\n",
              "    [theme=dark] .colab-df-convert:hover {\n",
              "      background-color: #434B5C;\n",
              "      box-shadow: 0px 1px 3px 1px rgba(0, 0, 0, 0.15);\n",
              "      filter: drop-shadow(0px 1px 2px rgba(0, 0, 0, 0.3));\n",
              "      fill: #FFFFFF;\n",
              "    }\n",
              "  </style>\n",
              "\n",
              "      <script>\n",
              "        const buttonEl =\n",
              "          document.querySelector('#df-e3222bfb-0ab5-42a5-a79f-fb9730b74e2a button.colab-df-convert');\n",
              "        buttonEl.style.display =\n",
              "          google.colab.kernel.accessAllowed ? 'block' : 'none';\n",
              "\n",
              "        async function convertToInteractive(key) {\n",
              "          const element = document.querySelector('#df-e3222bfb-0ab5-42a5-a79f-fb9730b74e2a');\n",
              "          const dataTable =\n",
              "            await google.colab.kernel.invokeFunction('convertToInteractive',\n",
              "                                                     [key], {});\n",
              "          if (!dataTable) return;\n",
              "\n",
              "          const docLinkHtml = 'Like what you see? Visit the ' +\n",
              "            '<a target=\"_blank\" href=https://colab.research.google.com/notebooks/data_table.ipynb>data table notebook</a>'\n",
              "            + ' to learn more about interactive tables.';\n",
              "          element.innerHTML = '';\n",
              "          dataTable['output_type'] = 'display_data';\n",
              "          await google.colab.output.renderOutput(dataTable, element);\n",
              "          const docLink = document.createElement('div');\n",
              "          docLink.innerHTML = docLinkHtml;\n",
              "          element.appendChild(docLink);\n",
              "        }\n",
              "      </script>\n",
              "    </div>\n",
              "  </div>\n",
              "  "
            ]
          },
          "metadata": {},
          "execution_count": 33
        }
      ],
      "id": "rWarQRPBjFCZ"
    },
    {
      "cell_type": "code",
      "source": [],
      "metadata": {
        "id": "sRdM0oqHjFCZ"
      },
      "execution_count": null,
      "outputs": [],
      "id": "sRdM0oqHjFCZ"
    },
    {
      "cell_type": "markdown",
      "source": [
        "# Multiclass classifier training\n"
      ],
      "metadata": {
        "id": "OxcsSYj_wA0p"
      },
      "id": "OxcsSYj_wA0p"
    },
    {
      "cell_type": "markdown",
      "source": [
        "## Loading the data"
      ],
      "metadata": {
        "id": "5qFM3Zueb50G"
      },
      "id": "5qFM3Zueb50G"
    },
    {
      "cell_type": "code",
      "source": [
        "! wget -q https://raw.githubusercontent.com/JohnSnowLabs/spark-nlp-workshop/master/tutorials/Certification_Trainings/Finance/data/finance_clf_data.csv"
      ],
      "metadata": {
        "id": "UKwHNFrCMWMZ"
      },
      "id": "UKwHNFrCMWMZ",
      "execution_count": null,
      "outputs": []
    },
    {
      "cell_type": "code",
      "source": [
        "import pandas as pd\n",
        "df = pd.read_csv('/content/finance_clf_data.csv')"
      ],
      "metadata": {
        "id": "FtXdRXNEb50G"
      },
      "execution_count": null,
      "outputs": [],
      "id": "FtXdRXNEb50G"
    },
    {
      "cell_type": "code",
      "source": [
        "df.head()"
      ],
      "metadata": {
        "colab": {
          "base_uri": "https://localhost:8080/",
          "height": 206
        },
        "id": "SWqOIj_pfEU5",
        "outputId": "97d223b0-e1fc-441e-aea2-f4c186e44e2d"
      },
      "id": "SWqOIj_pfEU5",
      "execution_count": null,
      "outputs": [
        {
          "output_type": "execute_result",
          "data": {
            "text/plain": [
              "                                                text                 label  \\\n",
              "0   \\nOperating\\nLeases\\n \\nOn\\nJanuary 1 2010 th...  financial_statements   \n",
              "1   the Exercise Price and is exercisable for fiv...  financial_statements   \n",
              "2  Income Taxes\\n69\\nTable of Contents\\nWe accoun...  financial_statements   \n",
              "3  Invoice2go\\n has not been required to maintain...          risk_factors   \n",
              "4  A\\nB\\nC\\nPlan Category\\nNumber of Securitiesto...                equity   \n",
              "\n",
              "   len  \n",
              "0  465  \n",
              "1  406  \n",
              "2  843  \n",
              "3  474  \n",
              "4  358  "
            ],
            "text/html": [
              "\n",
              "  <div id=\"df-d22b63cc-0ce4-488f-8b46-c24b3839683a\">\n",
              "    <div class=\"colab-df-container\">\n",
              "      <div>\n",
              "<style scoped>\n",
              "    .dataframe tbody tr th:only-of-type {\n",
              "        vertical-align: middle;\n",
              "    }\n",
              "\n",
              "    .dataframe tbody tr th {\n",
              "        vertical-align: top;\n",
              "    }\n",
              "\n",
              "    .dataframe thead th {\n",
              "        text-align: right;\n",
              "    }\n",
              "</style>\n",
              "<table border=\"1\" class=\"dataframe\">\n",
              "  <thead>\n",
              "    <tr style=\"text-align: right;\">\n",
              "      <th></th>\n",
              "      <th>text</th>\n",
              "      <th>label</th>\n",
              "      <th>len</th>\n",
              "    </tr>\n",
              "  </thead>\n",
              "  <tbody>\n",
              "    <tr>\n",
              "      <th>0</th>\n",
              "      <td>\\nOperating\\nLeases\\n \\nOn\\nJanuary 1 2010 th...</td>\n",
              "      <td>financial_statements</td>\n",
              "      <td>465</td>\n",
              "    </tr>\n",
              "    <tr>\n",
              "      <th>1</th>\n",
              "      <td>the Exercise Price and is exercisable for fiv...</td>\n",
              "      <td>financial_statements</td>\n",
              "      <td>406</td>\n",
              "    </tr>\n",
              "    <tr>\n",
              "      <th>2</th>\n",
              "      <td>Income Taxes\\n69\\nTable of Contents\\nWe accoun...</td>\n",
              "      <td>financial_statements</td>\n",
              "      <td>843</td>\n",
              "    </tr>\n",
              "    <tr>\n",
              "      <th>3</th>\n",
              "      <td>Invoice2go\\n has not been required to maintain...</td>\n",
              "      <td>risk_factors</td>\n",
              "      <td>474</td>\n",
              "    </tr>\n",
              "    <tr>\n",
              "      <th>4</th>\n",
              "      <td>A\\nB\\nC\\nPlan Category\\nNumber of Securitiesto...</td>\n",
              "      <td>equity</td>\n",
              "      <td>358</td>\n",
              "    </tr>\n",
              "  </tbody>\n",
              "</table>\n",
              "</div>\n",
              "      <button class=\"colab-df-convert\" onclick=\"convertToInteractive('df-d22b63cc-0ce4-488f-8b46-c24b3839683a')\"\n",
              "              title=\"Convert this dataframe to an interactive table.\"\n",
              "              style=\"display:none;\">\n",
              "        \n",
              "  <svg xmlns=\"http://www.w3.org/2000/svg\" height=\"24px\"viewBox=\"0 0 24 24\"\n",
              "       width=\"24px\">\n",
              "    <path d=\"M0 0h24v24H0V0z\" fill=\"none\"/>\n",
              "    <path d=\"M18.56 5.44l.94 2.06.94-2.06 2.06-.94-2.06-.94-.94-2.06-.94 2.06-2.06.94zm-11 1L8.5 8.5l.94-2.06 2.06-.94-2.06-.94L8.5 2.5l-.94 2.06-2.06.94zm10 10l.94 2.06.94-2.06 2.06-.94-2.06-.94-.94-2.06-.94 2.06-2.06.94z\"/><path d=\"M17.41 7.96l-1.37-1.37c-.4-.4-.92-.59-1.43-.59-.52 0-1.04.2-1.43.59L10.3 9.45l-7.72 7.72c-.78.78-.78 2.05 0 2.83L4 21.41c.39.39.9.59 1.41.59.51 0 1.02-.2 1.41-.59l7.78-7.78 2.81-2.81c.8-.78.8-2.07 0-2.86zM5.41 20L4 18.59l7.72-7.72 1.47 1.35L5.41 20z\"/>\n",
              "  </svg>\n",
              "      </button>\n",
              "      \n",
              "  <style>\n",
              "    .colab-df-container {\n",
              "      display:flex;\n",
              "      flex-wrap:wrap;\n",
              "      gap: 12px;\n",
              "    }\n",
              "\n",
              "    .colab-df-convert {\n",
              "      background-color: #E8F0FE;\n",
              "      border: none;\n",
              "      border-radius: 50%;\n",
              "      cursor: pointer;\n",
              "      display: none;\n",
              "      fill: #1967D2;\n",
              "      height: 32px;\n",
              "      padding: 0 0 0 0;\n",
              "      width: 32px;\n",
              "    }\n",
              "\n",
              "    .colab-df-convert:hover {\n",
              "      background-color: #E2EBFA;\n",
              "      box-shadow: 0px 1px 2px rgba(60, 64, 67, 0.3), 0px 1px 3px 1px rgba(60, 64, 67, 0.15);\n",
              "      fill: #174EA6;\n",
              "    }\n",
              "\n",
              "    [theme=dark] .colab-df-convert {\n",
              "      background-color: #3B4455;\n",
              "      fill: #D2E3FC;\n",
              "    }\n",
              "\n",
              "    [theme=dark] .colab-df-convert:hover {\n",
              "      background-color: #434B5C;\n",
              "      box-shadow: 0px 1px 3px 1px rgba(0, 0, 0, 0.15);\n",
              "      filter: drop-shadow(0px 1px 2px rgba(0, 0, 0, 0.3));\n",
              "      fill: #FFFFFF;\n",
              "    }\n",
              "  </style>\n",
              "\n",
              "      <script>\n",
              "        const buttonEl =\n",
              "          document.querySelector('#df-d22b63cc-0ce4-488f-8b46-c24b3839683a button.colab-df-convert');\n",
              "        buttonEl.style.display =\n",
              "          google.colab.kernel.accessAllowed ? 'block' : 'none';\n",
              "\n",
              "        async function convertToInteractive(key) {\n",
              "          const element = document.querySelector('#df-d22b63cc-0ce4-488f-8b46-c24b3839683a');\n",
              "          const dataTable =\n",
              "            await google.colab.kernel.invokeFunction('convertToInteractive',\n",
              "                                                     [key], {});\n",
              "          if (!dataTable) return;\n",
              "\n",
              "          const docLinkHtml = 'Like what you see? Visit the ' +\n",
              "            '<a target=\"_blank\" href=https://colab.research.google.com/notebooks/data_table.ipynb>data table notebook</a>'\n",
              "            + ' to learn more about interactive tables.';\n",
              "          element.innerHTML = '';\n",
              "          dataTable['output_type'] = 'display_data';\n",
              "          await google.colab.output.renderOutput(dataTable, element);\n",
              "          const docLink = document.createElement('div');\n",
              "          docLink.innerHTML = docLinkHtml;\n",
              "          element.appendChild(docLink);\n",
              "        }\n",
              "      </script>\n",
              "    </div>\n",
              "  </div>\n",
              "  "
            ]
          },
          "metadata": {},
          "execution_count": 13
        }
      ]
    },
    {
      "cell_type": "code",
      "source": [
        "df['label'].value_counts()"
      ],
      "metadata": {
        "colab": {
          "base_uri": "https://localhost:8080/"
        },
        "id": "Ntfw_obpuf4A",
        "outputId": "ce89878f-9708-46fa-c1df-7908395fbc60"
      },
      "id": "Ntfw_obpuf4A",
      "execution_count": null,
      "outputs": [
        {
          "output_type": "execute_result",
          "data": {
            "text/plain": [
              "risk_factors               3831\n",
              "financial_statements       3726\n",
              "business                   2002\n",
              "financial_conditions        702\n",
              "form_10k_summary            491\n",
              "executives_compensation     304\n",
              "controls_procedures         277\n",
              "equity                      223\n",
              "market_risk                 204\n",
              "executives                  161\n",
              "legal_proceedings            94\n",
              "security_ownership           84\n",
              "properties                   81\n",
              "exhibits                     77\n",
              "Name: label, dtype: int64"
            ]
          },
          "metadata": {},
          "execution_count": 14
        }
      ]
    },
    {
      "cell_type": "code",
      "source": [
        "data = spark.createDataFrame(df)\n",
        "\n",
        "train, test = data.randomSplit([0.8, 0.2], seed = 100)"
      ],
      "metadata": {
        "id": "Cmc91NU8b50H"
      },
      "execution_count": null,
      "outputs": [],
      "id": "Cmc91NU8b50H"
    },
    {
      "cell_type": "code",
      "source": [
        "from pyspark.sql.functions import col\n",
        "\n",
        "train.groupBy(\"label\") \\\n",
        "    .count() \\\n",
        "    .orderBy(col(\"count\").desc()) \\\n",
        "    .show()"
      ],
      "metadata": {
        "colab": {
          "base_uri": "https://localhost:8080/"
        },
        "outputId": "a2b13126-32fb-47a9-f7bb-695e18b05bf3",
        "id": "WEcXKSQTb50H"
      },
      "execution_count": null,
      "outputs": [
        {
          "output_type": "stream",
          "name": "stdout",
          "text": [
            "+--------------------+-----+\n",
            "|               label|count|\n",
            "+--------------------+-----+\n",
            "|        risk_factors| 3071|\n",
            "|financial_statements| 2983|\n",
            "|            business| 1582|\n",
            "|financial_conditions|  597|\n",
            "|    form_10k_summary|  385|\n",
            "| controls_procedures|  226|\n",
            "|executives_compen...|  224|\n",
            "|              equity|  174|\n",
            "|         market_risk|  158|\n",
            "|          executives|  122|\n",
            "|   legal_proceedings|   72|\n",
            "|  security_ownership|   70|\n",
            "|            exhibits|   62|\n",
            "|          properties|   57|\n",
            "+--------------------+-----+\n",
            "\n"
          ]
        }
      ],
      "id": "WEcXKSQTb50H"
    },
    {
      "cell_type": "code",
      "source": [
        "from pyspark.sql.functions import col\n",
        "\n",
        "test.groupBy(\"label\") \\\n",
        "    .count() \\\n",
        "    .orderBy(col(\"count\").desc()) \\\n",
        "    .show()"
      ],
      "metadata": {
        "colab": {
          "base_uri": "https://localhost:8080/"
        },
        "outputId": "a031f4d0-3016-4937-a829-cee377ccd847",
        "id": "lDV9dGbRb50H"
      },
      "execution_count": null,
      "outputs": [
        {
          "output_type": "stream",
          "name": "stdout",
          "text": [
            "+--------------------+-----+\n",
            "|               label|count|\n",
            "+--------------------+-----+\n",
            "|        risk_factors|  760|\n",
            "|financial_statements|  743|\n",
            "|            business|  420|\n",
            "|    form_10k_summary|  106|\n",
            "|financial_conditions|  105|\n",
            "|executives_compen...|   80|\n",
            "| controls_procedures|   51|\n",
            "|              equity|   49|\n",
            "|         market_risk|   46|\n",
            "|          executives|   39|\n",
            "|          properties|   24|\n",
            "|   legal_proceedings|   22|\n",
            "|            exhibits|   15|\n",
            "|  security_ownership|   14|\n",
            "+--------------------+-----+\n",
            "\n"
          ]
        }
      ],
      "id": "lDV9dGbRb50H"
    },
    {
      "cell_type": "markdown",
      "source": [
        " ## With Universal Encoder"
      ],
      "metadata": {
        "id": "hrFio0xccT7J"
      },
      "id": "hrFio0xccT7J"
    },
    {
      "cell_type": "code",
      "source": [
        "document_assembler = DocumentAssembler() \\\n",
        "    .setInputCol(\"text\") \\\n",
        "    .setOutputCol(\"document\") \n",
        "\n",
        "embeddings = UniversalSentenceEncoder.pretrained() \\\n",
        "      .setInputCols(\"document\") \\\n",
        "      .setOutputCol(\"sentence_embeddings\")\n",
        "\n",
        "classsifierdl = finance.ClassifierDLApproach()\\\n",
        "      .setInputCols([\"sentence_embeddings\"])\\\n",
        "      .setOutputCol(\"class\")\\\n",
        "      .setLabelColumn(\"label\")\\\n",
        "      .setMaxEpochs(30)\\\n",
        "      .setEnableOutputLogs(True)\n",
        "\n",
        "clf_pipeline = Pipeline(\n",
        "    stages = [\n",
        "        document_assembler,\n",
        "        embeddings,\n",
        "        classsifierdl\n",
        "    ])"
      ],
      "metadata": {
        "colab": {
          "base_uri": "https://localhost:8080/"
        },
        "outputId": "da7c3520-f2ed-42fc-cd73-d055e3155866",
        "id": "o0muwDJ5cT7K"
      },
      "execution_count": null,
      "outputs": [
        {
          "output_type": "stream",
          "name": "stdout",
          "text": [
            "tfhub_use download started this may take some time.\n",
            "Approximate size to download 923.7 MB\n",
            "[OK!]\n"
          ]
        }
      ],
      "id": "o0muwDJ5cT7K"
    },
    {
      "cell_type": "code",
      "source": [
        "clf_pipelineModel = clf_pipeline.fit(train)"
      ],
      "metadata": {
        "id": "9Vb2VqzucT7M"
      },
      "execution_count": null,
      "outputs": [],
      "id": "9Vb2VqzucT7M"
    },
    {
      "cell_type": "code",
      "source": [
        "import os\n",
        "log_file_name = os.listdir(\"/root/annotator_logs\")[0]\n",
        "\n",
        "with open(\"/root/annotator_logs/\"+log_file_name, \"r\") as log_file :\n",
        "    print(log_file.read())"
      ],
      "metadata": {
        "colab": {
          "base_uri": "https://localhost:8080/"
        },
        "outputId": "7caeb9e7-088d-431e-86e8-83f8bd8e989e",
        "id": "NdAu3IE1cT7N"
      },
      "execution_count": null,
      "outputs": [
        {
          "output_type": "stream",
          "name": "stdout",
          "text": [
            "Training started - epochs: 30 - learning_rate: 0.005 - batch_size: 64 - training_examples: 9783 - classes: 14\n",
            "Epoch 0/30 - 1.87s - loss: 324.2854 - acc: 0.5947312 - batches: 153\n",
            "Epoch 1/30 - 1.54s - loss: 312.90955 - acc: 0.6878645 - batches: 153\n",
            "Epoch 2/30 - 1.46s - loss: 312.57883 - acc: 0.6988636 - batches: 153\n",
            "Epoch 3/30 - 1.45s - loss: 312.13092 - acc: 0.70369506 - batches: 153\n",
            "Epoch 4/30 - 1.47s - loss: 311.65512 - acc: 0.70583695 - batches: 153\n",
            "Epoch 5/30 - 1.46s - loss: 311.6834 - acc: 0.7087657 - batches: 153\n",
            "Epoch 6/30 - 1.46s - loss: 311.56168 - acc: 0.70948523 - batches: 153\n",
            "Epoch 7/30 - 1.44s - loss: 311.68964 - acc: 0.710102 - batches: 153\n",
            "Epoch 8/30 - 1.43s - loss: 311.7599 - acc: 0.7110272 - batches: 153\n",
            "Epoch 9/30 - 1.59s - loss: 311.73105 - acc: 0.71236354 - batches: 153\n",
            "Epoch 10/30 - 1.45s - loss: 311.69553 - acc: 0.7135971 - batches: 153\n",
            "Epoch 11/30 - 1.43s - loss: 311.6356 - acc: 0.7141111 - batches: 153\n",
            "Epoch 12/30 - 1.43s - loss: 311.5436 - acc: 0.71452224 - batches: 153\n",
            "Epoch 13/30 - 1.44s - loss: 311.4096 - acc: 0.71515584 - batches: 153\n",
            "Epoch 14/30 - 1.44s - loss: 311.24777 - acc: 0.71556705 - batches: 153\n",
            "Epoch 15/30 - 1.45s - loss: 311.10208 - acc: 0.7159782 - batches: 153\n",
            "Epoch 16/30 - 1.43s - loss: 310.99722 - acc: 0.7162866 - batches: 153\n",
            "Epoch 17/30 - 1.52s - loss: 310.9298 - acc: 0.7170062 - batches: 153\n",
            "Epoch 18/30 - 1.45s - loss: 310.8852 - acc: 0.71710896 - batches: 153\n",
            "Epoch 19/30 - 1.46s - loss: 310.85538 - acc: 0.71741736 - batches: 153\n",
            "Epoch 20/30 - 1.45s - loss: 310.8331 - acc: 0.71793133 - batches: 153\n",
            "Epoch 21/30 - 1.44s - loss: 310.81302 - acc: 0.7182397 - batches: 153\n",
            "Epoch 22/30 - 1.43s - loss: 310.79395 - acc: 0.7185481 - batches: 153\n",
            "Epoch 23/30 - 1.47s - loss: 310.77206 - acc: 0.7191649 - batches: 153\n",
            "Epoch 24/30 - 1.48s - loss: 310.74347 - acc: 0.7194733 - batches: 153\n",
            "Epoch 25/30 - 1.73s - loss: 310.70828 - acc: 0.7197817 - batches: 153\n",
            "Epoch 26/30 - 1.75s - loss: 310.6659 - acc: 0.71988446 - batches: 153\n",
            "Epoch 27/30 - 1.69s - loss: 310.61337 - acc: 0.71988446 - batches: 153\n",
            "Epoch 28/30 - 1.46s - loss: 310.55566 - acc: 0.7199873 - batches: 153\n",
            "Epoch 29/30 - 1.46s - loss: 310.49057 - acc: 0.72019285 - batches: 153\n",
            "\n"
          ]
        }
      ],
      "id": "NdAu3IE1cT7N"
    },
    {
      "cell_type": "code",
      "source": [
        "preds = clf_pipelineModel.transform(test)"
      ],
      "metadata": {
        "id": "jwlOFwwacT7O"
      },
      "execution_count": null,
      "outputs": [],
      "id": "jwlOFwwacT7O"
    },
    {
      "cell_type": "code",
      "source": [
        "preds_df = preds.select('label','text',\"class.result\").toPandas()\n",
        "preds_df.head()"
      ],
      "metadata": {
        "colab": {
          "base_uri": "https://localhost:8080/",
          "height": 206
        },
        "outputId": "662afb3e-ed17-4e40-8ece-30ebf0e2a35a",
        "id": "ft1vm_0fcT7O"
      },
      "execution_count": null,
      "outputs": [
        {
          "output_type": "execute_result",
          "data": {
            "text/plain": [
              "                  label                                               text  \\\n",
              "0  financial_statements  \\n\\n\\n \\n \\n 7\\n million when the Company meet...   \n",
              "1  financial_statements  \\n\\n \\n\\n\\nLevel 3 Inputs that are generally u...   \n",
              "2          risk_factors  \\n\\n \\n\\n\\nOur products are complex and have a...   \n",
              "3          risk_factors  \\n\\n \\n\\n\\nii Customer Support Revenue\\n\\n\\n \\...   \n",
              "4      form_10k_summary  \\n \\n\\n\\n \\n \\n\\n2020\\n\\n \\n \\n\\n2019\\n\\n \\n\\n...   \n",
              "\n",
              "                   result  \n",
              "0  [financial_statements]  \n",
              "1  [financial_statements]  \n",
              "2          [risk_factors]  \n",
              "3  [financial_statements]  \n",
              "4  [financial_statements]  "
            ],
            "text/html": [
              "\n",
              "  <div id=\"df-d4c3057f-c91d-4889-810f-65bab62bffb6\">\n",
              "    <div class=\"colab-df-container\">\n",
              "      <div>\n",
              "<style scoped>\n",
              "    .dataframe tbody tr th:only-of-type {\n",
              "        vertical-align: middle;\n",
              "    }\n",
              "\n",
              "    .dataframe tbody tr th {\n",
              "        vertical-align: top;\n",
              "    }\n",
              "\n",
              "    .dataframe thead th {\n",
              "        text-align: right;\n",
              "    }\n",
              "</style>\n",
              "<table border=\"1\" class=\"dataframe\">\n",
              "  <thead>\n",
              "    <tr style=\"text-align: right;\">\n",
              "      <th></th>\n",
              "      <th>label</th>\n",
              "      <th>text</th>\n",
              "      <th>result</th>\n",
              "    </tr>\n",
              "  </thead>\n",
              "  <tbody>\n",
              "    <tr>\n",
              "      <th>0</th>\n",
              "      <td>financial_statements</td>\n",
              "      <td>\\n\\n\\n \\n \\n 7\\n million when the Company meet...</td>\n",
              "      <td>[financial_statements]</td>\n",
              "    </tr>\n",
              "    <tr>\n",
              "      <th>1</th>\n",
              "      <td>financial_statements</td>\n",
              "      <td>\\n\\n \\n\\n\\nLevel 3 Inputs that are generally u...</td>\n",
              "      <td>[financial_statements]</td>\n",
              "    </tr>\n",
              "    <tr>\n",
              "      <th>2</th>\n",
              "      <td>risk_factors</td>\n",
              "      <td>\\n\\n \\n\\n\\nOur products are complex and have a...</td>\n",
              "      <td>[risk_factors]</td>\n",
              "    </tr>\n",
              "    <tr>\n",
              "      <th>3</th>\n",
              "      <td>risk_factors</td>\n",
              "      <td>\\n\\n \\n\\n\\nii Customer Support Revenue\\n\\n\\n \\...</td>\n",
              "      <td>[financial_statements]</td>\n",
              "    </tr>\n",
              "    <tr>\n",
              "      <th>4</th>\n",
              "      <td>form_10k_summary</td>\n",
              "      <td>\\n \\n\\n\\n \\n \\n\\n2020\\n\\n \\n \\n\\n2019\\n\\n \\n\\n...</td>\n",
              "      <td>[financial_statements]</td>\n",
              "    </tr>\n",
              "  </tbody>\n",
              "</table>\n",
              "</div>\n",
              "      <button class=\"colab-df-convert\" onclick=\"convertToInteractive('df-d4c3057f-c91d-4889-810f-65bab62bffb6')\"\n",
              "              title=\"Convert this dataframe to an interactive table.\"\n",
              "              style=\"display:none;\">\n",
              "        \n",
              "  <svg xmlns=\"http://www.w3.org/2000/svg\" height=\"24px\"viewBox=\"0 0 24 24\"\n",
              "       width=\"24px\">\n",
              "    <path d=\"M0 0h24v24H0V0z\" fill=\"none\"/>\n",
              "    <path d=\"M18.56 5.44l.94 2.06.94-2.06 2.06-.94-2.06-.94-.94-2.06-.94 2.06-2.06.94zm-11 1L8.5 8.5l.94-2.06 2.06-.94-2.06-.94L8.5 2.5l-.94 2.06-2.06.94zm10 10l.94 2.06.94-2.06 2.06-.94-2.06-.94-.94-2.06-.94 2.06-2.06.94z\"/><path d=\"M17.41 7.96l-1.37-1.37c-.4-.4-.92-.59-1.43-.59-.52 0-1.04.2-1.43.59L10.3 9.45l-7.72 7.72c-.78.78-.78 2.05 0 2.83L4 21.41c.39.39.9.59 1.41.59.51 0 1.02-.2 1.41-.59l7.78-7.78 2.81-2.81c.8-.78.8-2.07 0-2.86zM5.41 20L4 18.59l7.72-7.72 1.47 1.35L5.41 20z\"/>\n",
              "  </svg>\n",
              "      </button>\n",
              "      \n",
              "  <style>\n",
              "    .colab-df-container {\n",
              "      display:flex;\n",
              "      flex-wrap:wrap;\n",
              "      gap: 12px;\n",
              "    }\n",
              "\n",
              "    .colab-df-convert {\n",
              "      background-color: #E8F0FE;\n",
              "      border: none;\n",
              "      border-radius: 50%;\n",
              "      cursor: pointer;\n",
              "      display: none;\n",
              "      fill: #1967D2;\n",
              "      height: 32px;\n",
              "      padding: 0 0 0 0;\n",
              "      width: 32px;\n",
              "    }\n",
              "\n",
              "    .colab-df-convert:hover {\n",
              "      background-color: #E2EBFA;\n",
              "      box-shadow: 0px 1px 2px rgba(60, 64, 67, 0.3), 0px 1px 3px 1px rgba(60, 64, 67, 0.15);\n",
              "      fill: #174EA6;\n",
              "    }\n",
              "\n",
              "    [theme=dark] .colab-df-convert {\n",
              "      background-color: #3B4455;\n",
              "      fill: #D2E3FC;\n",
              "    }\n",
              "\n",
              "    [theme=dark] .colab-df-convert:hover {\n",
              "      background-color: #434B5C;\n",
              "      box-shadow: 0px 1px 3px 1px rgba(0, 0, 0, 0.15);\n",
              "      filter: drop-shadow(0px 1px 2px rgba(0, 0, 0, 0.3));\n",
              "      fill: #FFFFFF;\n",
              "    }\n",
              "  </style>\n",
              "\n",
              "      <script>\n",
              "        const buttonEl =\n",
              "          document.querySelector('#df-d4c3057f-c91d-4889-810f-65bab62bffb6 button.colab-df-convert');\n",
              "        buttonEl.style.display =\n",
              "          google.colab.kernel.accessAllowed ? 'block' : 'none';\n",
              "\n",
              "        async function convertToInteractive(key) {\n",
              "          const element = document.querySelector('#df-d4c3057f-c91d-4889-810f-65bab62bffb6');\n",
              "          const dataTable =\n",
              "            await google.colab.kernel.invokeFunction('convertToInteractive',\n",
              "                                                     [key], {});\n",
              "          if (!dataTable) return;\n",
              "\n",
              "          const docLinkHtml = 'Like what you see? Visit the ' +\n",
              "            '<a target=\"_blank\" href=https://colab.research.google.com/notebooks/data_table.ipynb>data table notebook</a>'\n",
              "            + ' to learn more about interactive tables.';\n",
              "          element.innerHTML = '';\n",
              "          dataTable['output_type'] = 'display_data';\n",
              "          await google.colab.output.renderOutput(dataTable, element);\n",
              "          const docLink = document.createElement('div');\n",
              "          docLink.innerHTML = docLinkHtml;\n",
              "          element.appendChild(docLink);\n",
              "        }\n",
              "      </script>\n",
              "    </div>\n",
              "  </div>\n",
              "  "
            ]
          },
          "metadata": {},
          "execution_count": 23
        }
      ],
      "id": "ft1vm_0fcT7O"
    },
    {
      "cell_type": "code",
      "source": [
        "# The result is an array since in Spark NLP you can have multiple sentences.\n",
        "# Let's explode the array and get the item(s) inside of result column out\n",
        "preds_df['result'] = preds_df['result'].apply(lambda x : x[0])"
      ],
      "metadata": {
        "id": "Oo0X1tyacT7P"
      },
      "execution_count": null,
      "outputs": [],
      "id": "Oo0X1tyacT7P"
    },
    {
      "cell_type": "code",
      "source": [
        "# We are going to use sklearn to evalute the results on test dataset\n",
        "from sklearn.metrics import classification_report\n",
        "\n",
        "print (classification_report(preds_df['label'], preds_df['result']))"
      ],
      "metadata": {
        "colab": {
          "base_uri": "https://localhost:8080/"
        },
        "id": "VOvxSG6Afz5d",
        "outputId": "8a900b74-fbd5-43a9-ae1d-b517cd762adb"
      },
      "id": "VOvxSG6Afz5d",
      "execution_count": null,
      "outputs": [
        {
          "output_type": "stream",
          "name": "stdout",
          "text": [
            "                         precision    recall  f1-score   support\n",
            "\n",
            "               business       0.70      0.82      0.75       420\n",
            "    controls_procedures       0.00      0.00      0.00        51\n",
            "                 equity       0.00      0.00      0.00        49\n",
            "             executives       0.00      0.00      0.00        39\n",
            "executives_compensation       0.00      0.00      0.00        80\n",
            "               exhibits       0.00      0.00      0.00        15\n",
            "   financial_conditions       0.00      0.00      0.00       105\n",
            "   financial_statements       0.62      0.94      0.75       743\n",
            "       form_10k_summary       0.00      0.00      0.00       106\n",
            "      legal_proceedings       0.00      0.00      0.00        22\n",
            "            market_risk       0.00      0.00      0.00        46\n",
            "             properties       0.00      0.00      0.00        24\n",
            "           risk_factors       0.78      0.87      0.82       760\n",
            "     security_ownership       0.00      0.00      0.00        14\n",
            "\n",
            "               accuracy                           0.69      2474\n",
            "              macro avg       0.15      0.19      0.17      2474\n",
            "           weighted avg       0.54      0.69      0.61      2474\n",
            "\n"
          ]
        }
      ]
    },
    {
      "cell_type": "markdown",
      "source": [
        "### Saving & loading back the trained model"
      ],
      "metadata": {
        "id": "IHzIfMSuUgiD"
      },
      "id": "IHzIfMSuUgiD"
    },
    {
      "cell_type": "code",
      "source": [
        "clf_pipelineModel.stages"
      ],
      "metadata": {
        "id": "r5Tec2WwUhP1",
        "colab": {
          "base_uri": "https://localhost:8080/"
        },
        "outputId": "862375c4-404d-4ece-9b46-b24f35bced5f"
      },
      "execution_count": null,
      "outputs": [
        {
          "output_type": "execute_result",
          "data": {
            "text/plain": [
              "[DocumentAssembler_239ab07aa83f,\n",
              " UNIVERSAL_SENTENCE_ENCODER_4de71669b7ec,\n",
              " FinanceClassifierDLModel_84aea46b5365]"
            ]
          },
          "metadata": {},
          "execution_count": 26
        }
      ],
      "id": "r5Tec2WwUhP1"
    },
    {
      "cell_type": "code",
      "source": [
        "clf_pipelineModel.stages[-1].write().overwrite().save('Clf_Use')"
      ],
      "metadata": {
        "id": "4hjFsxVsUps_"
      },
      "execution_count": null,
      "outputs": [],
      "id": "4hjFsxVsUps_"
    },
    {
      "cell_type": "code",
      "source": [
        "# Load back  saved Classifier Model\n",
        "ClfModel = finance.ClassifierDLModel.load('Clf_Use')"
      ],
      "metadata": {
        "id": "UUdl5FoBbE5X"
      },
      "id": "UUdl5FoBbE5X",
      "execution_count": null,
      "outputs": []
    },
    {
      "cell_type": "code",
      "source": [
        "ld_pipeline = Pipeline(stages=[document_assembler, embeddings,ClfModel])\n",
        "ld_pipeline_model = ld_pipeline.fit(spark.createDataFrame([['']]).toDF(\"text\"))"
      ],
      "metadata": {
        "id": "295Ip9xZcjU-"
      },
      "id": "295Ip9xZcjU-",
      "execution_count": null,
      "outputs": []
    },
    {
      "cell_type": "code",
      "source": [
        "# Apply Model Transform to testData\n",
        "ld_preds = ld_pipeline_model.transform(test)"
      ],
      "metadata": {
        "id": "Gdm6mxvadFyj"
      },
      "id": "Gdm6mxvadFyj",
      "execution_count": null,
      "outputs": []
    },
    {
      "cell_type": "code",
      "source": [
        "ld_preds_df = ld_preds.select('text','label',\"class.result\").toPandas()"
      ],
      "metadata": {
        "id": "aQYCSHcIdJbi"
      },
      "id": "aQYCSHcIdJbi",
      "execution_count": null,
      "outputs": []
    },
    {
      "cell_type": "code",
      "source": [
        "ld_preds_df.head()"
      ],
      "metadata": {
        "id": "VZnsGh6YdVUf",
        "colab": {
          "base_uri": "https://localhost:8080/",
          "height": 206
        },
        "outputId": "f7baad8c-6d13-46c0-9b9a-186bcac213c7"
      },
      "id": "VZnsGh6YdVUf",
      "execution_count": null,
      "outputs": [
        {
          "output_type": "execute_result",
          "data": {
            "text/plain": [
              "                                                text                 label  \\\n",
              "0  \\n\\n\\n \\n \\n 7\\n million when the Company meet...  financial_statements   \n",
              "1  \\n\\n \\n\\n\\nLevel 3 Inputs that are generally u...  financial_statements   \n",
              "2  \\n\\n \\n\\n\\nOur products are complex and have a...          risk_factors   \n",
              "3  \\n\\n \\n\\n\\nii Customer Support Revenue\\n\\n\\n \\...          risk_factors   \n",
              "4  \\n \\n\\n\\n \\n \\n\\n2020\\n\\n \\n \\n\\n2019\\n\\n \\n\\n...      form_10k_summary   \n",
              "\n",
              "                   result  \n",
              "0  [financial_statements]  \n",
              "1  [financial_statements]  \n",
              "2          [risk_factors]  \n",
              "3  [financial_statements]  \n",
              "4  [financial_statements]  "
            ],
            "text/html": [
              "\n",
              "  <div id=\"df-71975564-1d19-4347-a4ce-3cecc80aaf99\">\n",
              "    <div class=\"colab-df-container\">\n",
              "      <div>\n",
              "<style scoped>\n",
              "    .dataframe tbody tr th:only-of-type {\n",
              "        vertical-align: middle;\n",
              "    }\n",
              "\n",
              "    .dataframe tbody tr th {\n",
              "        vertical-align: top;\n",
              "    }\n",
              "\n",
              "    .dataframe thead th {\n",
              "        text-align: right;\n",
              "    }\n",
              "</style>\n",
              "<table border=\"1\" class=\"dataframe\">\n",
              "  <thead>\n",
              "    <tr style=\"text-align: right;\">\n",
              "      <th></th>\n",
              "      <th>text</th>\n",
              "      <th>label</th>\n",
              "      <th>result</th>\n",
              "    </tr>\n",
              "  </thead>\n",
              "  <tbody>\n",
              "    <tr>\n",
              "      <th>0</th>\n",
              "      <td>\\n\\n\\n \\n \\n 7\\n million when the Company meet...</td>\n",
              "      <td>financial_statements</td>\n",
              "      <td>[financial_statements]</td>\n",
              "    </tr>\n",
              "    <tr>\n",
              "      <th>1</th>\n",
              "      <td>\\n\\n \\n\\n\\nLevel 3 Inputs that are generally u...</td>\n",
              "      <td>financial_statements</td>\n",
              "      <td>[financial_statements]</td>\n",
              "    </tr>\n",
              "    <tr>\n",
              "      <th>2</th>\n",
              "      <td>\\n\\n \\n\\n\\nOur products are complex and have a...</td>\n",
              "      <td>risk_factors</td>\n",
              "      <td>[risk_factors]</td>\n",
              "    </tr>\n",
              "    <tr>\n",
              "      <th>3</th>\n",
              "      <td>\\n\\n \\n\\n\\nii Customer Support Revenue\\n\\n\\n \\...</td>\n",
              "      <td>risk_factors</td>\n",
              "      <td>[financial_statements]</td>\n",
              "    </tr>\n",
              "    <tr>\n",
              "      <th>4</th>\n",
              "      <td>\\n \\n\\n\\n \\n \\n\\n2020\\n\\n \\n \\n\\n2019\\n\\n \\n\\n...</td>\n",
              "      <td>form_10k_summary</td>\n",
              "      <td>[financial_statements]</td>\n",
              "    </tr>\n",
              "  </tbody>\n",
              "</table>\n",
              "</div>\n",
              "      <button class=\"colab-df-convert\" onclick=\"convertToInteractive('df-71975564-1d19-4347-a4ce-3cecc80aaf99')\"\n",
              "              title=\"Convert this dataframe to an interactive table.\"\n",
              "              style=\"display:none;\">\n",
              "        \n",
              "  <svg xmlns=\"http://www.w3.org/2000/svg\" height=\"24px\"viewBox=\"0 0 24 24\"\n",
              "       width=\"24px\">\n",
              "    <path d=\"M0 0h24v24H0V0z\" fill=\"none\"/>\n",
              "    <path d=\"M18.56 5.44l.94 2.06.94-2.06 2.06-.94-2.06-.94-.94-2.06-.94 2.06-2.06.94zm-11 1L8.5 8.5l.94-2.06 2.06-.94-2.06-.94L8.5 2.5l-.94 2.06-2.06.94zm10 10l.94 2.06.94-2.06 2.06-.94-2.06-.94-.94-2.06-.94 2.06-2.06.94z\"/><path d=\"M17.41 7.96l-1.37-1.37c-.4-.4-.92-.59-1.43-.59-.52 0-1.04.2-1.43.59L10.3 9.45l-7.72 7.72c-.78.78-.78 2.05 0 2.83L4 21.41c.39.39.9.59 1.41.59.51 0 1.02-.2 1.41-.59l7.78-7.78 2.81-2.81c.8-.78.8-2.07 0-2.86zM5.41 20L4 18.59l7.72-7.72 1.47 1.35L5.41 20z\"/>\n",
              "  </svg>\n",
              "      </button>\n",
              "      \n",
              "  <style>\n",
              "    .colab-df-container {\n",
              "      display:flex;\n",
              "      flex-wrap:wrap;\n",
              "      gap: 12px;\n",
              "    }\n",
              "\n",
              "    .colab-df-convert {\n",
              "      background-color: #E8F0FE;\n",
              "      border: none;\n",
              "      border-radius: 50%;\n",
              "      cursor: pointer;\n",
              "      display: none;\n",
              "      fill: #1967D2;\n",
              "      height: 32px;\n",
              "      padding: 0 0 0 0;\n",
              "      width: 32px;\n",
              "    }\n",
              "\n",
              "    .colab-df-convert:hover {\n",
              "      background-color: #E2EBFA;\n",
              "      box-shadow: 0px 1px 2px rgba(60, 64, 67, 0.3), 0px 1px 3px 1px rgba(60, 64, 67, 0.15);\n",
              "      fill: #174EA6;\n",
              "    }\n",
              "\n",
              "    [theme=dark] .colab-df-convert {\n",
              "      background-color: #3B4455;\n",
              "      fill: #D2E3FC;\n",
              "    }\n",
              "\n",
              "    [theme=dark] .colab-df-convert:hover {\n",
              "      background-color: #434B5C;\n",
              "      box-shadow: 0px 1px 3px 1px rgba(0, 0, 0, 0.15);\n",
              "      filter: drop-shadow(0px 1px 2px rgba(0, 0, 0, 0.3));\n",
              "      fill: #FFFFFF;\n",
              "    }\n",
              "  </style>\n",
              "\n",
              "      <script>\n",
              "        const buttonEl =\n",
              "          document.querySelector('#df-71975564-1d19-4347-a4ce-3cecc80aaf99 button.colab-df-convert');\n",
              "        buttonEl.style.display =\n",
              "          google.colab.kernel.accessAllowed ? 'block' : 'none';\n",
              "\n",
              "        async function convertToInteractive(key) {\n",
              "          const element = document.querySelector('#df-71975564-1d19-4347-a4ce-3cecc80aaf99');\n",
              "          const dataTable =\n",
              "            await google.colab.kernel.invokeFunction('convertToInteractive',\n",
              "                                                     [key], {});\n",
              "          if (!dataTable) return;\n",
              "\n",
              "          const docLinkHtml = 'Like what you see? Visit the ' +\n",
              "            '<a target=\"_blank\" href=https://colab.research.google.com/notebooks/data_table.ipynb>data table notebook</a>'\n",
              "            + ' to learn more about interactive tables.';\n",
              "          element.innerHTML = '';\n",
              "          dataTable['output_type'] = 'display_data';\n",
              "          await google.colab.output.renderOutput(dataTable, element);\n",
              "          const docLink = document.createElement('div');\n",
              "          docLink.innerHTML = docLinkHtml;\n",
              "          element.appendChild(docLink);\n",
              "        }\n",
              "      </script>\n",
              "    </div>\n",
              "  </div>\n",
              "  "
            ]
          },
          "metadata": {},
          "execution_count": 37
        }
      ]
    },
    {
      "cell_type": "code",
      "source": [],
      "metadata": {
        "id": "O36HlqI_dYDp"
      },
      "id": "O36HlqI_dYDp",
      "execution_count": null,
      "outputs": []
    },
    {
      "cell_type": "markdown",
      "source": [
        "## With Bert Embeddings"
      ],
      "metadata": {
        "id": "7kKWRZNu0lCL"
      },
      "id": "7kKWRZNu0lCL"
    },
    {
      "cell_type": "markdown",
      "source": [
        "We do not have Financial Sentence Embeddings yet, But we can use the Financial Word Embeddings and then average them."
      ],
      "metadata": {
        "id": "rHw4ikwLISTb"
      },
      "id": "rHw4ikwLISTb"
    },
    {
      "cell_type": "code",
      "source": [
        "embeddings = BertEmbeddings.pretrained(\"bert_embeddings_sec_bert_base\",\"en\") \\\n",
        "          .setInputCols([\"document\", \"token\"]) \\\n",
        "          .setOutputCol(\"embeddings\")"
      ],
      "metadata": {
        "colab": {
          "base_uri": "https://localhost:8080/"
        },
        "outputId": "db4e0421-1763-4afe-ea9c-19a8a290c94e",
        "id": "oaiL-Txz0lCM"
      },
      "execution_count": null,
      "outputs": [
        {
          "output_type": "stream",
          "name": "stdout",
          "text": [
            "bert_embeddings_sec_bert_base download started this may take some time.\n",
            "Approximate size to download 390.4 MB\n",
            "[OK!]\n"
          ]
        }
      ],
      "id": "oaiL-Txz0lCM"
    },
    {
      "cell_type": "code",
      "source": [
        "document_assembler = DocumentAssembler() \\\n",
        "    .setInputCol(\"text\") \\\n",
        "    .setOutputCol(\"document\")\n",
        "\n",
        "tokenizer = Tokenizer() \\\n",
        "    .setInputCols([\"document\"]) \\\n",
        "    .setOutputCol(\"token\")\n",
        "\n",
        "embeddingsSentence = SentenceEmbeddings() \\\n",
        "    .setInputCols([\"document\", \"embeddings\"]) \\\n",
        "    .setOutputCol(\"sentence_embeddings\") \\\n",
        "    .setPoolingStrategy(\"AVERAGE\")\n",
        "\n",
        "classsifierdl = finance.ClassifierDLApproach() \\\n",
        "      .setInputCols([\"sentence_embeddings\"]) \\\n",
        "      .setOutputCol(\"class\") \\\n",
        "      .setLabelColumn(\"label\")\\\n",
        "      .setMaxEpochs(8)\\\n",
        "      .setLr(0.001)\\\n",
        "      .setEnableOutputLogs(True)\n",
        "\n",
        "clf_pipeline = Pipeline(\n",
        "    stages = [\n",
        "        document_assembler,\n",
        "        tokenizer,\n",
        "        embeddings,\n",
        "        embeddingsSentence,\n",
        "        classsifierdl\n",
        "    ])"
      ],
      "metadata": {
        "id": "l3jxCehJ0lCO"
      },
      "execution_count": null,
      "outputs": [],
      "id": "l3jxCehJ0lCO"
    },
    {
      "cell_type": "code",
      "source": [
        "clf_pipelineModel = clf_pipeline.fit(train)"
      ],
      "metadata": {
        "id": "W6qwSLYv0lCP"
      },
      "execution_count": null,
      "outputs": [],
      "id": "W6qwSLYv0lCP"
    },
    {
      "cell_type": "code",
      "source": [
        "preds = clf_pipelineModel.transform(test)"
      ],
      "metadata": {
        "id": "IEK22MWg0lCQ"
      },
      "execution_count": null,
      "outputs": [],
      "id": "IEK22MWg0lCQ"
    },
    {
      "cell_type": "code",
      "source": [
        "preds_df = preds.select('label','text',\"class.result\").toPandas()"
      ],
      "metadata": {
        "id": "0QMopvFG0lCQ"
      },
      "execution_count": null,
      "outputs": [],
      "id": "0QMopvFG0lCQ"
    },
    {
      "cell_type": "code",
      "source": [
        "preds_df.head()"
      ],
      "metadata": {
        "colab": {
          "base_uri": "https://localhost:8080/",
          "height": 206
        },
        "outputId": "7333dbf3-7639-46ef-c121-b48b8ccde253",
        "id": "ADdEhII40lCR"
      },
      "execution_count": null,
      "outputs": [
        {
          "output_type": "execute_result",
          "data": {
            "text/plain": [
              "                  label                                               text  \\\n",
              "0  financial_statements  \\n\\n\\n \\n \\n 7\\n million when the Company meet...   \n",
              "1  financial_statements  \\n\\n \\n\\n\\nLevel 3 Inputs that are generally u...   \n",
              "2          risk_factors  \\n\\n \\n\\n\\nOur products are complex and have a...   \n",
              "3          risk_factors  \\n\\n \\n\\n\\nii Customer Support Revenue\\n\\n\\n \\...   \n",
              "4      form_10k_summary  \\n \\n\\n\\n \\n \\n\\n2020\\n\\n \\n \\n\\n2019\\n\\n \\n\\n...   \n",
              "\n",
              "                   result  \n",
              "0  [financial_statements]  \n",
              "1  [financial_statements]  \n",
              "2          [risk_factors]  \n",
              "3  [financial_statements]  \n",
              "4  [financial_statements]  "
            ],
            "text/html": [
              "\n",
              "  <div id=\"df-a254e934-c967-4c1e-bc80-2b89673843a4\">\n",
              "    <div class=\"colab-df-container\">\n",
              "      <div>\n",
              "<style scoped>\n",
              "    .dataframe tbody tr th:only-of-type {\n",
              "        vertical-align: middle;\n",
              "    }\n",
              "\n",
              "    .dataframe tbody tr th {\n",
              "        vertical-align: top;\n",
              "    }\n",
              "\n",
              "    .dataframe thead th {\n",
              "        text-align: right;\n",
              "    }\n",
              "</style>\n",
              "<table border=\"1\" class=\"dataframe\">\n",
              "  <thead>\n",
              "    <tr style=\"text-align: right;\">\n",
              "      <th></th>\n",
              "      <th>label</th>\n",
              "      <th>text</th>\n",
              "      <th>result</th>\n",
              "    </tr>\n",
              "  </thead>\n",
              "  <tbody>\n",
              "    <tr>\n",
              "      <th>0</th>\n",
              "      <td>financial_statements</td>\n",
              "      <td>\\n\\n\\n \\n \\n 7\\n million when the Company meet...</td>\n",
              "      <td>[financial_statements]</td>\n",
              "    </tr>\n",
              "    <tr>\n",
              "      <th>1</th>\n",
              "      <td>financial_statements</td>\n",
              "      <td>\\n\\n \\n\\n\\nLevel 3 Inputs that are generally u...</td>\n",
              "      <td>[financial_statements]</td>\n",
              "    </tr>\n",
              "    <tr>\n",
              "      <th>2</th>\n",
              "      <td>risk_factors</td>\n",
              "      <td>\\n\\n \\n\\n\\nOur products are complex and have a...</td>\n",
              "      <td>[risk_factors]</td>\n",
              "    </tr>\n",
              "    <tr>\n",
              "      <th>3</th>\n",
              "      <td>risk_factors</td>\n",
              "      <td>\\n\\n \\n\\n\\nii Customer Support Revenue\\n\\n\\n \\...</td>\n",
              "      <td>[financial_statements]</td>\n",
              "    </tr>\n",
              "    <tr>\n",
              "      <th>4</th>\n",
              "      <td>form_10k_summary</td>\n",
              "      <td>\\n \\n\\n\\n \\n \\n\\n2020\\n\\n \\n \\n\\n2019\\n\\n \\n\\n...</td>\n",
              "      <td>[financial_statements]</td>\n",
              "    </tr>\n",
              "  </tbody>\n",
              "</table>\n",
              "</div>\n",
              "      <button class=\"colab-df-convert\" onclick=\"convertToInteractive('df-a254e934-c967-4c1e-bc80-2b89673843a4')\"\n",
              "              title=\"Convert this dataframe to an interactive table.\"\n",
              "              style=\"display:none;\">\n",
              "        \n",
              "  <svg xmlns=\"http://www.w3.org/2000/svg\" height=\"24px\"viewBox=\"0 0 24 24\"\n",
              "       width=\"24px\">\n",
              "    <path d=\"M0 0h24v24H0V0z\" fill=\"none\"/>\n",
              "    <path d=\"M18.56 5.44l.94 2.06.94-2.06 2.06-.94-2.06-.94-.94-2.06-.94 2.06-2.06.94zm-11 1L8.5 8.5l.94-2.06 2.06-.94-2.06-.94L8.5 2.5l-.94 2.06-2.06.94zm10 10l.94 2.06.94-2.06 2.06-.94-2.06-.94-.94-2.06-.94 2.06-2.06.94z\"/><path d=\"M17.41 7.96l-1.37-1.37c-.4-.4-.92-.59-1.43-.59-.52 0-1.04.2-1.43.59L10.3 9.45l-7.72 7.72c-.78.78-.78 2.05 0 2.83L4 21.41c.39.39.9.59 1.41.59.51 0 1.02-.2 1.41-.59l7.78-7.78 2.81-2.81c.8-.78.8-2.07 0-2.86zM5.41 20L4 18.59l7.72-7.72 1.47 1.35L5.41 20z\"/>\n",
              "  </svg>\n",
              "      </button>\n",
              "      \n",
              "  <style>\n",
              "    .colab-df-container {\n",
              "      display:flex;\n",
              "      flex-wrap:wrap;\n",
              "      gap: 12px;\n",
              "    }\n",
              "\n",
              "    .colab-df-convert {\n",
              "      background-color: #E8F0FE;\n",
              "      border: none;\n",
              "      border-radius: 50%;\n",
              "      cursor: pointer;\n",
              "      display: none;\n",
              "      fill: #1967D2;\n",
              "      height: 32px;\n",
              "      padding: 0 0 0 0;\n",
              "      width: 32px;\n",
              "    }\n",
              "\n",
              "    .colab-df-convert:hover {\n",
              "      background-color: #E2EBFA;\n",
              "      box-shadow: 0px 1px 2px rgba(60, 64, 67, 0.3), 0px 1px 3px 1px rgba(60, 64, 67, 0.15);\n",
              "      fill: #174EA6;\n",
              "    }\n",
              "\n",
              "    [theme=dark] .colab-df-convert {\n",
              "      background-color: #3B4455;\n",
              "      fill: #D2E3FC;\n",
              "    }\n",
              "\n",
              "    [theme=dark] .colab-df-convert:hover {\n",
              "      background-color: #434B5C;\n",
              "      box-shadow: 0px 1px 3px 1px rgba(0, 0, 0, 0.15);\n",
              "      filter: drop-shadow(0px 1px 2px rgba(0, 0, 0, 0.3));\n",
              "      fill: #FFFFFF;\n",
              "    }\n",
              "  </style>\n",
              "\n",
              "      <script>\n",
              "        const buttonEl =\n",
              "          document.querySelector('#df-a254e934-c967-4c1e-bc80-2b89673843a4 button.colab-df-convert');\n",
              "        buttonEl.style.display =\n",
              "          google.colab.kernel.accessAllowed ? 'block' : 'none';\n",
              "\n",
              "        async function convertToInteractive(key) {\n",
              "          const element = document.querySelector('#df-a254e934-c967-4c1e-bc80-2b89673843a4');\n",
              "          const dataTable =\n",
              "            await google.colab.kernel.invokeFunction('convertToInteractive',\n",
              "                                                     [key], {});\n",
              "          if (!dataTable) return;\n",
              "\n",
              "          const docLinkHtml = 'Like what you see? Visit the ' +\n",
              "            '<a target=\"_blank\" href=https://colab.research.google.com/notebooks/data_table.ipynb>data table notebook</a>'\n",
              "            + ' to learn more about interactive tables.';\n",
              "          element.innerHTML = '';\n",
              "          dataTable['output_type'] = 'display_data';\n",
              "          await google.colab.output.renderOutput(dataTable, element);\n",
              "          const docLink = document.createElement('div');\n",
              "          docLink.innerHTML = docLinkHtml;\n",
              "          element.appendChild(docLink);\n",
              "        }\n",
              "      </script>\n",
              "    </div>\n",
              "  </div>\n",
              "  "
            ]
          },
          "metadata": {},
          "execution_count": 31
        }
      ],
      "id": "ADdEhII40lCR"
    },
    {
      "cell_type": "code",
      "source": [
        "log_files = os.listdir(\"/root/annotator_logs\")\n",
        "\n",
        "with open(\"/root/annotator_logs/\"+log_files[0], \"r\") as log_file :\n",
        "    print(log_file.read())"
      ],
      "metadata": {
        "colab": {
          "base_uri": "https://localhost:8080/"
        },
        "id": "eVFKUw5cZeXB",
        "outputId": "6ec10212-a8b8-44ba-b213-f55cdaded336"
      },
      "id": "eVFKUw5cZeXB",
      "execution_count": null,
      "outputs": [
        {
          "output_type": "stream",
          "name": "stdout",
          "text": [
            "Training started - epochs: 8 - learning_rate: 0.001 - batch_size: 64 - training_examples: 9783 - classes: 14\n",
            "Epoch 0/8 - 1.95s - loss: 335.0635 - acc: 0.5819883 - batches: 153\n",
            "Epoch 1/8 - 1.62s - loss: 318.56744 - acc: 0.7143335 - batches: 153\n",
            "Epoch 2/8 - 1.62s - loss: 316.6242 - acc: 0.73285365 - batches: 153\n",
            "Epoch 3/8 - 1.64s - loss: 316.10782 - acc: 0.7355263 - batches: 153\n",
            "Epoch 4/8 - 1.63s - loss: 315.67447 - acc: 0.7372739 - batches: 153\n",
            "Epoch 5/8 - 1.62s - loss: 315.42645 - acc: 0.73778784 - batches: 153\n",
            "Epoch 6/8 - 1.59s - loss: 315.31195 - acc: 0.7383018 - batches: 153\n",
            "Epoch 7/8 - 1.61s - loss: 315.2378 - acc: 0.739227 - batches: 153\n",
            "\n"
          ]
        }
      ]
    },
    {
      "cell_type": "code",
      "source": [
        "# Let's explode the array and get the item(s) inside of result column out\n",
        "preds_df['result'] = preds_df['result'].apply(lambda x : x[0])\n",
        "\n",
        "from sklearn.metrics import classification_report\n",
        "\n",
        "print (classification_report(preds_df['label'], preds_df['result']))\n"
      ],
      "metadata": {
        "colab": {
          "base_uri": "https://localhost:8080/"
        },
        "id": "wvc6vZjH0lCS",
        "outputId": "e5b617af-d5b2-40fc-c4da-8810b38668b7"
      },
      "execution_count": null,
      "outputs": [
        {
          "output_type": "stream",
          "name": "stdout",
          "text": [
            "                         precision    recall  f1-score   support\n",
            "\n",
            "               business       0.71      0.86      0.78       420\n",
            "    controls_procedures       0.00      0.00      0.00        51\n",
            "                 equity       0.00      0.00      0.00        49\n",
            "             executives       0.00      0.00      0.00        39\n",
            "executives_compensation       0.00      0.00      0.00        80\n",
            "               exhibits       0.00      0.00      0.00        15\n",
            "   financial_conditions       0.00      0.00      0.00       105\n",
            "   financial_statements       0.65      0.97      0.77       743\n",
            "       form_10k_summary       0.00      0.00      0.00       106\n",
            "      legal_proceedings       0.00      0.00      0.00        22\n",
            "            market_risk       0.00      0.00      0.00        46\n",
            "             properties       0.00      0.00      0.00        24\n",
            "           risk_factors       0.83      0.93      0.87       760\n",
            "     security_ownership       0.00      0.00      0.00        14\n",
            "\n",
            "               accuracy                           0.72      2474\n",
            "              macro avg       0.16      0.20      0.17      2474\n",
            "           weighted avg       0.57      0.72      0.63      2474\n",
            "\n"
          ]
        }
      ],
      "id": "wvc6vZjH0lCS"
    },
    {
      "cell_type": "markdown",
      "source": [
        "# Save model and Zip it for Modelshub Upload/Downloads"
      ],
      "metadata": {
        "id": "rMHZmT9_deAQ"
      },
      "id": "rMHZmT9_deAQ"
    },
    {
      "cell_type": "code",
      "source": [
        "# Save a Spark NLP model\n",
        "clf_pipelineModel.stages[-1].write().overwrite().save('ClfBert')\n",
        "\n",
        "# cd into saved dir and zip\n",
        "! cd /content/ClfBert ; zip -r /content/ClfBert.zip *"
      ],
      "metadata": {
        "id": "QZ79YbdodfFc",
        "colab": {
          "base_uri": "https://localhost:8080/"
        },
        "outputId": "85985657-497f-4761-c988-fc307f22cd1b"
      },
      "id": "QZ79YbdodfFc",
      "execution_count": null,
      "outputs": [
        {
          "output_type": "stream",
          "name": "stdout",
          "text": [
            "  adding: classifierdl_tensorflow (deflated 56%)\n",
            "  adding: fields/ (stored 0%)\n",
            "  adding: fields/datasetParams/ (stored 0%)\n",
            "  adding: fields/datasetParams/part-00002 (deflated 27%)\n",
            "  adding: fields/datasetParams/part-00000 (deflated 26%)\n",
            "  adding: fields/datasetParams/.part-00002.crc (stored 0%)\n",
            "  adding: fields/datasetParams/.part-00003.crc (stored 0%)\n",
            "  adding: fields/datasetParams/_SUCCESS (stored 0%)\n",
            "  adding: fields/datasetParams/.part-00000.crc (stored 0%)\n",
            "  adding: fields/datasetParams/part-00001 (deflated 27%)\n",
            "  adding: fields/datasetParams/._SUCCESS.crc (stored 0%)\n",
            "  adding: fields/datasetParams/part-00003 (deflated 32%)\n",
            "  adding: fields/datasetParams/.part-00001.crc (stored 0%)\n",
            "  adding: metadata/ (stored 0%)\n",
            "  adding: metadata/part-00000 (deflated 39%)\n",
            "  adding: metadata/_SUCCESS (stored 0%)\n",
            "  adding: metadata/.part-00000.crc (stored 0%)\n",
            "  adding: metadata/._SUCCESS.crc (stored 0%)\n"
          ]
        }
      ]
    },
    {
      "cell_type": "code",
      "source": [],
      "metadata": {
        "id": "RdOdo9rFfS8k"
      },
      "id": "RdOdo9rFfS8k",
      "execution_count": null,
      "outputs": []
    }
  ],
  "metadata": {
    "kernelspec": {
      "display_name": "finleg_jar",
      "language": "python",
      "name": "finleg_jar"
    },
    "language_info": {
      "codemirror_mode": {
        "name": "ipython",
        "version": 3
      },
      "file_extension": ".py",
      "mimetype": "text/x-python",
      "name": "python",
      "nbconvert_exporter": "python",
      "pygments_lexer": "ipython3",
      "version": "3.8.13"
    },
    "colab": {
      "provenance": [],
      "collapsed_sections": [],
      "machine_shape": "hm"
    },
    "accelerator": "GPU"
  },
  "nbformat": 4,
  "nbformat_minor": 5
}