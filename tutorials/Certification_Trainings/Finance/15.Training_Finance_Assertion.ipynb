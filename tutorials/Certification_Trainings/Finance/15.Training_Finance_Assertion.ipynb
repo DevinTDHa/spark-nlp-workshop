{
  "cells": [
    {
      "cell_type": "markdown",
      "metadata": {
        "id": "KLqW6FOnEvov"
      },
      "source": [
        "# Train Finance Assertion\n"
      ],
      "id": "KLqW6FOnEvov"
    },
    {
      "cell_type": "markdown",
      "metadata": {
        "id": "wxZDXLDCXkk_"
      },
      "source": [
        "\n",
        "![JohnSnowLabs](https://nlp.johnsnowlabs.com/assets/images/logo.png)\n",
        "\n",
        "\n",
        "\n"
      ],
      "id": "wxZDXLDCXkk_"
    },
    {
      "cell_type": "markdown",
      "metadata": {
        "id": "pZ6sKi8ZX1z4"
      },
      "source": [
        "[![Open In Colab](https://colab.research.google.com/assets/colab-badge.svg)](https://colab.research.google.com/github/JohnSnowLabs/spark-nlp-workshop/blob/master/tutorials/Certification_Trainings/Legal/15.Training_Finance_Assertion.ipynb)"
      ],
      "id": "pZ6sKi8ZX1z4"
    },
    {
      "cell_type": "markdown",
      "metadata": {
        "id": "PcsTZJmZu7CQ"
      },
      "source": [
        "# Colab Setup"
      ],
      "id": "PcsTZJmZu7CQ"
    },
    {
      "cell_type": "code",
      "execution_count": null,
      "metadata": {
        "id": "4914b00f-abd2-4449-9a4f-737f317317be"
      },
      "outputs": [],
      "source": [
        "# Install the johnsnowlabs library to access Spark-OCR and Spark-NLP for Healthcare, Finance, and Legal.\n",
        "! pip install johnsnowlabs "
      ],
      "id": "4914b00f-abd2-4449-9a4f-737f317317be"
    },
    {
      "cell_type": "code",
      "execution_count": null,
      "metadata": {
        "id": "fe96e8d6-c2a3-4464-b78e-90e83f743823"
      },
      "outputs": [],
      "source": [
        "from google.colab import files\n",
        "print('Please upload your John Snow Labs License using the button below')\n",
        "license_keys = files.upload()"
      ],
      "id": "fe96e8d6-c2a3-4464-b78e-90e83f743823"
    },
    {
      "cell_type": "code",
      "execution_count": null,
      "metadata": {
        "colab": {
          "background_save": true
        },
        "id": "JOzbTlCRNvVd"
      },
      "outputs": [],
      "source": [
        "from johnsnowlabs import * \n",
        "# After uploading your license run this to install all licensed Python Wheels and pre-download Jars the Spark Session JVM\n",
        "# Make sure to restart your notebook afterwards for changes to take effect\n",
        "jsl.install()"
      ],
      "id": "JOzbTlCRNvVd"
    },
    {
      "cell_type": "code",
      "execution_count": null,
      "metadata": {
        "colab": {
          "background_save": true
        },
        "id": "TZIjuI3zN1Oi"
      },
      "outputs": [],
      "source": [
        "# Automatically load license data and start a session with all jars user has access to\n",
        "spark = jsl.start()"
      ],
      "id": "TZIjuI3zN1Oi"
    },
    {
      "cell_type": "code",
      "execution_count": null,
      "metadata": {
        "id": "BCtM2FGg0npH"
      },
      "outputs": [],
      "source": [
        "from pyspark.ml import Pipeline, PipelineModel\n",
        "from pyspark.sql import SparkSession, DataFrame\n",
        "from pyspark.ml import Pipeline\n",
        "from sparknlp import Doc2Chunk\n",
        "from sparknlp_jsl.annotator import *\n",
        "import sparknlp_jsl\n",
        "from sparknlp.base import LightPipeline"
      ],
      "id": "BCtM2FGg0npH"
    },
    {
      "cell_type": "code",
      "execution_count": null,
      "metadata": {
        "id": "GlmdmVsK0npI"
      },
      "outputs": [],
      "source": [
        "spark"
      ],
      "id": "GlmdmVsK0npI"
    },
    {
      "cell_type": "code",
      "execution_count": null,
      "metadata": {
        "id": "hBfYC-0p0uAE"
      },
      "outputs": [],
      "source": [],
      "id": "hBfYC-0p0uAE"
    },
    {
      "cell_type": "markdown",
      "metadata": {
        "id": "JYBQyxEd0uR0"
      },
      "source": [
        "# Data Prep "
      ],
      "id": "JYBQyxEd0uR0"
    },
    {
      "cell_type": "code",
      "execution_count": null,
      "metadata": {
        "id": "AVBmGFcQ03La"
      },
      "outputs": [],
      "source": [
        "! wget -q https://raw.githubusercontent.com/JohnSnowLabs/spark-nlp-workshop/master/tutorials/Certification_Trainings/Finance/data/aserrtion_fin.csv"
      ],
      "id": "AVBmGFcQ03La"
    },
    {
      "cell_type": "code",
      "execution_count": null,
      "metadata": {
        "id": "8iJF_HCw1Lgh"
      },
      "outputs": [],
      "source": [
        "import pandas as pd\n",
        "\n",
        "training_df = pd.read_csv('/content/assertion_fin.csv')"
      ],
      "id": "8iJF_HCw1Lgh"
    },
    {
      "cell_type": "code",
      "source": [
        "training_data = spark.createDataFrame(training_df)\n",
        "training_data.show()"
      ],
      "metadata": {
        "colab": {
          "base_uri": "https://localhost:8080/"
        },
        "id": "JREBeTzb8ov-",
        "outputId": "b44ebb29-0413-45e2-de63-678c99a5abc1"
      },
      "id": "JREBeTzb8ov-",
      "execution_count": null,
      "outputs": [
        {
          "output_type": "stream",
          "name": "stdout",
          "text": [
            "+-------+--------------------+---------+-------+--------------------+------+---------------+\n",
            "|task_id|            sentence|tkn_start|tkn_end|               chunk|entity|assertion_label|\n",
            "+-------+--------------------+---------+-------+--------------------+------+---------------+\n",
            "|      1|The Swedish East ...|        1|      4|Swedish East Indi...|   ORG|           PAST|\n",
            "|      1|The Swedish East ...|        6|      8|Svenska Ostindisk...| ALIAS|           PAST|\n",
            "|      1|The Swedish East ...|       10|     10|                SOIC| ALIAS|           PAST|\n",
            "|      1|The Swedish East ...|       14|     14|          Gothenburg|   LOC|           PAST|\n",
            "|      1|The Swedish East ...|       15|     15|              Sweden|   LOC|           PAST|\n",
            "|      1|The Swedish East ...|       17|     17|                1731|  DATE|           PAST|\n",
            "|      1|The Swedish East ...|       25|     25|               China|   LOC|           PAST|\n",
            "|      1|The Swedish East ...|       28|     29|            Far East|   LOC|           PAST|\n",
            "|      1|The venture was i...|        9|     12|Dutch East India ...|   ORG|           PAST|\n",
            "|      1|The venture was i...|       15|     18|British East Indi...|   ORG|           PAST|\n",
            "|      1|This made Gothenb...|        2|      2|          Gothenburg|   LOC|           PAST|\n",
            "|      1|Trade with China ...|        2|      2|               China|   LOC|           PAST|\n",
            "|      1|Trade with China ...|       11|     11|              Sweden|   LOC|           PAST|\n",
            "|      1|The Chinese cultu...|       34|     34|              Sweden|   LOC|           PAST|\n",
            "|      1|The company folde...|        4|      4|                1813|  DATE|           PAST|\n",
            "|      1|nevertheless, it ...|       11|     11|          Gothenburg|   LOC|           PAST|\n",
            "|      1|Background Sweden...|       16|     17|          East India|   LOC|           PAST|\n",
            "|      1|The royal privile...|        5|      8|Swedish East Indi...|   ORG|           PAST|\n",
            "|      1|The royal privile...|        9|      9|                SOIC| ALIAS|           PAST|\n",
            "|      1|The royal privile...|       27|     28|          East India|   LOC|           PAST|\n",
            "+-------+--------------------+---------+-------+--------------------+------+---------------+\n",
            "only showing top 20 rows\n",
            "\n"
          ]
        }
      ]
    },
    {
      "cell_type": "code",
      "execution_count": null,
      "metadata": {
        "colab": {
          "base_uri": "https://localhost:8080/"
        },
        "id": "ET8GD3y3-17e",
        "outputId": "07204692-2c59-4771-f941-de60a2aae2a1"
      },
      "outputs": [
        {
          "output_type": "stream",
          "name": "stdout",
          "text": [
            "root\n",
            " |-- task_id: long (nullable = true)\n",
            " |-- sentence: string (nullable = true)\n",
            " |-- tkn_start: long (nullable = true)\n",
            " |-- tkn_end: long (nullable = true)\n",
            " |-- chunk: string (nullable = true)\n",
            " |-- entity: string (nullable = true)\n",
            " |-- assertion_label: string (nullable = true)\n",
            "\n"
          ]
        }
      ],
      "source": [
        "training_data.printSchema()"
      ],
      "id": "ET8GD3y3-17e"
    },
    {
      "cell_type": "code",
      "execution_count": null,
      "metadata": {
        "colab": {
          "base_uri": "https://localhost:8080/"
        },
        "id": "R6xa4jp8Szs0",
        "outputId": "bfd8210f-31fa-48d2-fb2c-6c674785cab0"
      },
      "outputs": [
        {
          "output_type": "stream",
          "name": "stdout",
          "text": [
            "CPU times: user 11.8 ms, sys: 3 ms, total: 14.8 ms\n",
            "Wall time: 1.01 s\n"
          ]
        },
        {
          "output_type": "execute_result",
          "data": {
            "text/plain": [
              "8050"
            ]
          },
          "metadata": {},
          "execution_count": 11
        }
      ],
      "source": [
        "%time training_data.count()"
      ],
      "id": "R6xa4jp8Szs0"
    },
    {
      "cell_type": "code",
      "execution_count": null,
      "metadata": {
        "colab": {
          "base_uri": "https://localhost:8080/"
        },
        "id": "fxcHD_Q_-_lD",
        "outputId": "a67832e1-6a9d-4348-d746-8b50c8d6d197"
      },
      "outputs": [
        {
          "output_type": "stream",
          "name": "stdout",
          "text": [
            "Training Dataset Count: 8050\n",
            "Test Dataset Count: 802\n"
          ]
        }
      ],
      "source": [
        "(train_data, test_data) = training_data.randomSplit([0.9, 0.1], seed = 100)\n",
        "print(\"Training Dataset Count: \" + str(training_data.count()))\n",
        "print(\"Test Dataset Count: \" + str(test_data.count()))"
      ],
      "id": "fxcHD_Q_-_lD"
    },
    {
      "cell_type": "code",
      "source": [
        "train_data.show()"
      ],
      "metadata": {
        "colab": {
          "base_uri": "https://localhost:8080/"
        },
        "id": "DFN_BuHU84HF",
        "outputId": "9bb131e0-f9ef-4ad1-e1c3-aec40a76d305"
      },
      "id": "DFN_BuHU84HF",
      "execution_count": null,
      "outputs": [
        {
          "output_type": "stream",
          "name": "stdout",
          "text": [
            "+-------+--------------------+---------+-------+--------------------+------+---------------+\n",
            "|task_id|            sentence|tkn_start|tkn_end|               chunk|entity|assertion_label|\n",
            "+-------+--------------------+---------+-------+--------------------+------+---------------+\n",
            "|      1|\"Stockholms-varve...|        6|      6|           Stockholm|   LOC|           PAST|\n",
            "|      1|\"The funny busine...|        5|      8|Swedish East Indi...|   ORG|           PAST|\n",
            "|      1|             (1998).|        0|      0|                1998|  DATE|           PAST|\n",
            "|      1|2.5 tonnes) and t...|       34|     34|              Sweden|   LOC|           PAST|\n",
            "|      1|37. Gothenburg: R...|        2|      7|Royal Society of ...|   ORG|           PAST|\n",
            "|      1|= Decline and fal...|       11|     11|                1806|  DATE|           PAST|\n",
            "|      1|= Early attempts ...|        9|     11|  Swedish East India|   ORG|           PAST|\n",
            "|      1|= Early attempts ...|       19|     19|            merchant|  ROLE|           PAST|\n",
            "|      1|= Early attempts ...|       20|     21|    Willem Usselincx|   PER|           PAST|\n",
            "|      1|= Sweden after th...|        1|      1|              Sweden|   LOC|           PAST|\n",
            "|      1|= The Royal chart...|        9|     12|Henrik König & Co...|   ORG|           PAST|\n",
            "|      1|= The Royal chart...|       39|     42|   Cape of Good Hope|   LOC|           PAST|\n",
            "|      1|= The Royal chart...|       46|     46|               Japan|   LOC|           PAST|\n",
            "|      1|= The Royal chart...|       79|     79|          Gothenburg|   LOC|           PAST|\n",
            "|      1|= The first octro...|        8|      8|           directors|  ROLE|           PAST|\n",
            "|      1|= The first octro...|       11|     11|                SOIC|   ORG|           PAST|\n",
            "|      1|= The first octro...|       13|     14|        Henrik König|   PER|           PAST|\n",
            "|      1|= The first octro...|       15|     16|      Colin Campbell|   PER|           PAST|\n",
            "|      1|= The first octro...|       23|     23|           Stockholm|   LOC|           PAST|\n",
            "|      1|= The fourth octr...|        6|      6|                SOIC|   ORG|           PAST|\n",
            "+-------+--------------------+---------+-------+--------------------+------+---------------+\n",
            "only showing top 20 rows\n",
            "\n"
          ]
        }
      ]
    },
    {
      "cell_type": "code",
      "execution_count": null,
      "metadata": {
        "colab": {
          "background_save": true
        },
        "id": "HaIXrA3M_ZS-"
      },
      "outputs": [],
      "source": [],
      "id": "HaIXrA3M_ZS-"
    },
    {
      "cell_type": "markdown",
      "metadata": {
        "id": "2WZDqlZA_kmb"
      },
      "source": [
        "# Using Bert Embeddings"
      ],
      "id": "2WZDqlZA_kmb"
    },
    {
      "cell_type": "code",
      "execution_count": null,
      "metadata": {
        "colab": {
          "base_uri": "https://localhost:8080/"
        },
        "id": "7qfJh8ap_nI2",
        "outputId": "d09dd624-82df-4fbe-95a0-2604023a3cf2"
      },
      "outputs": [
        {
          "output_type": "stream",
          "name": "stdout",
          "text": [
            "bert_embeddings_sec_bert_base download started this may take some time.\n",
            "Approximate size to download 390.4 MB\n",
            "[OK!]\n"
          ]
        }
      ],
      "source": [
        "bert_embeddings = BertEmbeddings.pretrained(\"bert_embeddings_sec_bert_base\", \"en\") \\\n",
        "  .setInputCols(\"document\", \"token\") \\\n",
        "  .setOutputCol(\"embeddings\")\\\n",
        "  .setMaxSentenceLength(512)"
      ],
      "id": "7qfJh8ap_nI2"
    },
    {
      "cell_type": "code",
      "execution_count": null,
      "metadata": {
        "id": "Fe0957BT_rcy"
      },
      "outputs": [],
      "source": [
        "document = DocumentAssembler()\\\n",
        "    .setInputCol(\"sentence\")\\\n",
        "    .setOutputCol(\"document\")\n",
        "\n",
        "chunk = Doc2Chunk()\\\n",
        "    .setInputCols(\"document\")\\\n",
        "    .setOutputCol(\"doc_chunk\")\\\n",
        "    .setChunkCol(\"chunk\")\\\n",
        "    .setStartCol(\"tkn_start\")\\\n",
        "    .setStartColByTokenIndex(True)\\\n",
        "    .setFailOnMissing(False)\\\n",
        "    .setLowerCase(False)\n",
        "\n",
        "token = Tokenizer()\\\n",
        "    .setInputCols(['document'])\\\n",
        "    .setOutputCol('token')\n"
      ],
      "id": "Fe0957BT_rcy"
    },
    {
      "cell_type": "markdown",
      "source": [
        "We save the test data in parquet format to use in `AssertionDLApproach()`. "
      ],
      "metadata": {
        "id": "LFTO0PlI9-3e"
      },
      "id": "LFTO0PlI9-3e"
    },
    {
      "cell_type": "code",
      "source": [
        "assertion_pipeline = Pipeline(\n",
        "    stages = [\n",
        "    document,\n",
        "    chunk,\n",
        "    token,\n",
        "    bert_embeddings])\n",
        "\n",
        "assertion_test_data = assertion_pipeline.fit(test_data).transform(test_data)"
      ],
      "metadata": {
        "id": "M9u4c65G9VaC"
      },
      "id": "M9u4c65G9VaC",
      "execution_count": null,
      "outputs": []
    },
    {
      "cell_type": "code",
      "source": [
        "assertion_test_data.columns"
      ],
      "metadata": {
        "colab": {
          "base_uri": "https://localhost:8080/"
        },
        "id": "r-UREmtI9Vd3",
        "outputId": "a4a2188d-5a11-4370-eae4-89de290e8900"
      },
      "id": "r-UREmtI9Vd3",
      "execution_count": null,
      "outputs": [
        {
          "output_type": "execute_result",
          "data": {
            "text/plain": [
              "['task_id',\n",
              " 'sentence',\n",
              " 'tkn_start',\n",
              " 'tkn_end',\n",
              " 'chunk',\n",
              " 'entity',\n",
              " 'assertion_label',\n",
              " 'document',\n",
              " 'doc_chunk',\n",
              " 'token',\n",
              " 'embeddings']"
            ]
          },
          "metadata": {},
          "execution_count": 26
        }
      ]
    },
    {
      "cell_type": "code",
      "source": [
        "assertion_test_data.write.mode('overwrite').parquet('test_data.parquet')"
      ],
      "metadata": {
        "id": "kBaiXx78BTLT"
      },
      "id": "kBaiXx78BTLT",
      "execution_count": null,
      "outputs": []
    },
    {
      "cell_type": "code",
      "source": [
        "assertion_train_data = assertion_pipeline.fit(training_data).transform(training_data)\n",
        "assertion_train_data.write.mode('overwrite').parquet('train_data.parquet')"
      ],
      "metadata": {
        "id": "tFhN6evk9ViI"
      },
      "id": "tFhN6evk9ViI",
      "execution_count": null,
      "outputs": []
    },
    {
      "cell_type": "code",
      "source": [
        "assertion_train_data.columns"
      ],
      "metadata": {
        "colab": {
          "base_uri": "https://localhost:8080/"
        },
        "id": "BtxnrvcA9VlN",
        "outputId": "b36c853f-4d45-43b3-ecc4-920527bdacf7"
      },
      "id": "BtxnrvcA9VlN",
      "execution_count": null,
      "outputs": [
        {
          "output_type": "execute_result",
          "data": {
            "text/plain": [
              "['task_id',\n",
              " 'sentence',\n",
              " 'tkn_start',\n",
              " 'tkn_end',\n",
              " 'chunk',\n",
              " 'entity',\n",
              " 'assertion_label',\n",
              " 'document',\n",
              " 'doc_chunk',\n",
              " 'token',\n",
              " 'embeddings']"
            ]
          },
          "metadata": {},
          "execution_count": 28
        }
      ]
    },
    {
      "cell_type": "code",
      "source": [],
      "metadata": {
        "id": "g-faGWWU91d-"
      },
      "id": "g-faGWWU91d-",
      "execution_count": null,
      "outputs": []
    },
    {
      "cell_type": "markdown",
      "metadata": {
        "id": "uTishXbut1MS"
      },
      "source": [
        "## Graph setup"
      ],
      "id": "uTishXbut1MS"
    },
    {
      "cell_type": "code",
      "execution_count": null,
      "metadata": {
        "id": "1hTawAHemzGn",
        "colab": {
          "base_uri": "https://localhost:8080/"
        },
        "outputId": "abbe1fb2-e1bd-4968-8793-3b44e275c7e3"
      },
      "outputs": [
        {
          "output_type": "stream",
          "name": "stdout",
          "text": [
            "\u001b[K     |████████████████████████████████| 665.5 MB 21 kB/s \n",
            "\u001b[K     |████████████████████████████████| 463 kB 2.1 MB/s \n",
            "\u001b[K     |████████████████████████████████| 1.3 MB 53.3 MB/s \n",
            "\u001b[K     |████████████████████████████████| 1.1 MB 2.1 MB/s \n",
            "\u001b[?25h"
          ]
        }
      ],
      "source": [
        "!pip install -q tensorflow==2.7.0\n",
        "!pip install -q tensorflow-addons"
      ],
      "id": "1hTawAHemzGn"
    },
    {
      "cell_type": "markdown",
      "metadata": {
        "id": "0ShZT8BBo4FY"
      },
      "source": [
        "We will use TFGraphBuilder annotator which can be used to create graphs in the model training pipeline. \n",
        "\n",
        "TFGraphBuilder inspects the data and creates the proper graph if a suitable version of TensorFlow (<= 2.7 ) is available. The graph is stored in the defined folder and loaded by the approach."
      ],
      "id": "0ShZT8BBo4FY"
    },
    {
      "cell_type": "code",
      "execution_count": null,
      "metadata": {
        "id": "ojPhRpo6o0xM"
      },
      "outputs": [],
      "source": [
        "from sparknlp_jsl.annotator import TFGraphBuilder"
      ],
      "id": "ojPhRpo6o0xM"
    },
    {
      "cell_type": "code",
      "execution_count": null,
      "metadata": {
        "id": "XhU0L1OXdaLN"
      },
      "outputs": [],
      "source": [
        "graph_folder= \"./tf_graphs\""
      ],
      "id": "XhU0L1OXdaLN"
    },
    {
      "cell_type": "code",
      "execution_count": null,
      "metadata": {
        "id": "miNgoTjio0mL"
      },
      "outputs": [],
      "source": [
        "assertion_graph_builder =  TFGraphBuilder()\\\n",
        "    .setModelName(\"assertion_dl\")\\\n",
        "    .setInputCols([\"sentence\", \"token\", \"embeddings\"]) \\\n",
        "    .setLabelColumn(\"assertion_label\")\\\n",
        "    .setGraphFolder(graph_folder)\\\n",
        "    .setGraphFile(\"assertion_graph.pb\")\\\n",
        "    .setMaxSequenceLength(1200)\\\n",
        "    .setHiddenUnitsNumber(25)"
      ],
      "id": "miNgoTjio0mL"
    },
    {
      "cell_type": "markdown",
      "metadata": {
        "id": "6D0Ng7nMUjJa"
      },
      "source": [
        "**Setting the Scope Window (Target Area) Dynamically in Assertion Status Detection Models**\n",
        "\n",
        "\n",
        "This parameter allows you to train the Assertion Status Models to focus on specific context windows when resolving the status of a NER chunk. The window is in format `[X,Y]` being `X` the number of tokens to consider on the left of the chunk, and `Y` the max number of tokens to consider on the right. Let’s take a look at what different windows mean:\n",
        "\n",
        "\n",
        "*   By default, the window is `[-1,-1]` which means that the Assertion Status will look at all of the tokens in the sentence/document (up to a maximum of tokens set in `setMaxSentLen()` ).\n",
        "*   `[0,0]` means “don’t pay attention to any token except the ner_chunk”, what basically is not considering any context for the Assertion resolution.\n",
        "*   `[9,15]` is what empirically seems to be the best baseline, meaning that we look up to 9 tokens on the left and 15 on the right of the ner chunk to understand the context and resolve the status.\n",
        "\n",
        "\n",
        "Check this [Scope Window Tuning Assertion Status Detection notebook](https://github.com/JohnSnowLabs/spark-nlp-workshop/blob/master/tutorials/Certification_Trainings/Healthcare/2.1.Scope_window_tuning_assertion_status_detection.ipynb)  that illustrates the effect of the different windows and how to properly fine-tune your AssertionDLModels to get the best of them.\n",
        "\n",
        "In our case, the best Scope Window is around [10,10]"
      ],
      "id": "6D0Ng7nMUjJa"
    },
    {
      "cell_type": "code",
      "source": [
        "scope_window = [50, 50]\n",
        "\n",
        "assertionStatus = finance.AssertionDLApproach()\\\n",
        "    .setLabelCol(\"assertion_label\")\\\n",
        "    .setInputCols(\"document\", \"doc_chunk\", \"embeddings\")\\\n",
        "    .setOutputCol(\"assertion\")\\\n",
        "    .setBatchSize(128)\\\n",
        "    .setLearningRate(0.001)\\\n",
        "    .setEpochs(2)\\\n",
        "    .setStartCol(\"tkn_start\")\\\n",
        "    .setEndCol(\"tkn_end\")\\\n",
        "    .setMaxSentLen(1200)\\\n",
        "    .setEnableOutputLogs(True)\\\n",
        "    .setOutputLogsPath('training_logs/')\\\n",
        "    .setGraphFolder(graph_folder)\\\n",
        "    .setGraphFile(f\"{graph_folder}/assertion_graph.pb\")\\\n",
        "    .setTestDataset(path=\"test_data.parquet\", read_as='SPARK', options={'format': 'parquet'})\\\n",
        "    .setScopeWindow(scope_window)\n",
        "    #.setValidationSplit(0.2)\\    \n",
        "    #.setDropout(0.1)\\    "
      ],
      "metadata": {
        "id": "BQxGbYks91go"
      },
      "id": "BQxGbYks91go",
      "execution_count": null,
      "outputs": []
    },
    {
      "cell_type": "code",
      "source": [
        "clinical_assertion_pipeline = Pipeline(\n",
        "    stages = [\n",
        "    #document,\n",
        "    #chunk,\n",
        "    #token,\n",
        "    #embeddings,\n",
        "    assertion_graph_builder,\n",
        "    assertionStatus])"
      ],
      "metadata": {
        "id": "T2MZLeCYATrS"
      },
      "id": "T2MZLeCYATrS",
      "execution_count": null,
      "outputs": []
    },
    {
      "cell_type": "code",
      "source": [
        "training_data.printSchema()"
      ],
      "metadata": {
        "colab": {
          "base_uri": "https://localhost:8080/"
        },
        "id": "yIvnuaQP91j8",
        "outputId": "9a13e802-e9f7-4b92-f0d9-ddf6b7fd8fdf"
      },
      "id": "yIvnuaQP91j8",
      "execution_count": null,
      "outputs": [
        {
          "output_type": "stream",
          "name": "stdout",
          "text": [
            "root\n",
            " |-- task_id: long (nullable = true)\n",
            " |-- sentence: string (nullable = true)\n",
            " |-- tkn_start: long (nullable = true)\n",
            " |-- tkn_end: long (nullable = true)\n",
            " |-- chunk: string (nullable = true)\n",
            " |-- entity: string (nullable = true)\n",
            " |-- assertion_label: string (nullable = true)\n",
            "\n"
          ]
        }
      ]
    },
    {
      "cell_type": "code",
      "source": [
        "assertion_train_data = spark.read.parquet('train_data.parquet')"
      ],
      "metadata": {
        "id": "ueJz0aiJ_7l4"
      },
      "id": "ueJz0aiJ_7l4",
      "execution_count": null,
      "outputs": []
    },
    {
      "cell_type": "code",
      "source": [
        "%%time\n",
        "assertion_model = clinical_assertion_pipeline.fit(assertion_train_data)"
      ],
      "metadata": {
        "colab": {
          "base_uri": "https://localhost:8080/"
        },
        "id": "j1NCZ89T_7ol",
        "outputId": "9f5f3f28-0002-4793-afad-3e90c556392c"
      },
      "id": "j1NCZ89T_7ol",
      "execution_count": null,
      "outputs": [
        {
          "output_type": "stream",
          "name": "stdout",
          "text": [
            "Medical Graph Builder configuration:\n",
            "Model name: assertion_dl\n",
            "Graph folder: ./tf_graphs\n",
            "Graph file name: assertion_graph.pb\n",
            "Build params: {'n_classes': 4, 'feat_size': 768, 'max_seq_len': 1200, 'n_hidden': 25}\n",
            "Device mapping:\n",
            "/job:localhost/replica:0/task:0/device:GPU:0 -> device: 0, name: Tesla P100-PCIE-16GB, pci bus id: 0000:00:04.0, compute capability: 6.0\n",
            "\n",
            "Device mapping:\n",
            "/job:localhost/replica:0/task:0/device:GPU:0 -> device: 0, name: Tesla P100-PCIE-16GB, pci bus id: 0000:00:04.0, compute capability: 6.0\n",
            "\n",
            "assertion_dl graph exported to ./tf_graphs/assertion_graph.pb\n",
            "CPU times: user 14.5 s, sys: 1.46 s, total: 16 s\n",
            "Wall time: 20min 53s\n"
          ]
        }
      ]
    },
    {
      "cell_type": "code",
      "source": [],
      "metadata": {
        "id": "cZf7ooHx_7ro"
      },
      "id": "cZf7ooHx_7ro",
      "execution_count": null,
      "outputs": []
    },
    {
      "cell_type": "markdown",
      "metadata": {
        "id": "30SmcTiSpnWa"
      },
      "source": [
        "Checking the results saved in the log file"
      ],
      "id": "30SmcTiSpnWa"
    },
    {
      "cell_type": "code",
      "execution_count": null,
      "metadata": {
        "colab": {
          "base_uri": "https://localhost:8080/"
        },
        "id": "kOiu1vuspKut",
        "outputId": "7e9ec789-9fbe-4463-f45d-a83729ef990f"
      },
      "outputs": [
        {
          "output_type": "execute_result",
          "data": {
            "text/plain": [
              "['AssertionDLApproach_514877eac66b.log']"
            ]
          },
          "metadata": {},
          "execution_count": 43
        }
      ],
      "source": [
        "import os\n",
        "\n",
        "log_files = os.listdir(\"/content/training_logs\")\n",
        "log_files"
      ],
      "id": "kOiu1vuspKut"
    },
    {
      "cell_type": "code",
      "execution_count": null,
      "metadata": {
        "colab": {
          "base_uri": "https://localhost:8080/"
        },
        "id": "CcQV0-fIrJHz",
        "outputId": "166cdd7c-e456-4fcc-9855-db30126205df"
      },
      "outputs": [
        {
          "output_type": "stream",
          "name": "stdout",
          "text": [
            "Name of the selected graph: ./tf_graphs/assertion_graph.pb\n",
            "Training started, trainExamples: 8050\n",
            "\n",
            "\n",
            "Epoch: 0 started, learning rate: 0.001, dataset size: 8050\n",
            "Done, 571.529018412 total training loss: 53.198044, avg training loss: 0.8444134, batches: 63\n",
            "Quality on test dataset: \n",
            "time to finish evaluation: 46.51s\n",
            "Total test loss: 2.4185\tAvg test loss: 0.3455\n",
            "label\t tp\t fp\t fn\t prec\t rec\t f1\n",
            "PRESENT\t 213\t 37\t 28\t 0.852\t 0.88381743\t 0.86761713\n",
            "POSSIBLE\t 171\t 23\t 17\t 0.8814433\t 0.90957445\t 0.89528793\n",
            "FUTURE\t 94\t 21\t 26\t 0.8173913\t 0.78333336\t 0.79999995\n",
            "PAST\t 213\t 30\t 40\t 0.8765432\t 0.84189725\t 0.8588709\n",
            "tp: 691 fp: 111 fn: 111 labels: 4\n",
            "Macro-average\t prec: 0.8568445, rec: 0.8546556, f1: 0.85574865\n",
            "Micro-average\t prec: 0.861596, rec: 0.861596, f1: 0.861596\n",
            "\n",
            "\n",
            "Epoch: 1 started, learning rate: 9.5E-4, dataset size: 8050\n",
            "Done, 557.165080166 total training loss: 19.904196, avg training loss: 0.3159396, batches: 63\n",
            "Quality on test dataset: \n",
            "time to finish evaluation: 45.00s\n",
            "Total test loss: 1.4038\tAvg test loss: 0.2005\n",
            "label\t tp\t fp\t fn\t prec\t rec\t f1\n",
            "PRESENT\t 227\t 23\t 14\t 0.908\t 0.9419087\t 0.9246436\n",
            "POSSIBLE\t 181\t 16\t 7\t 0.9187817\t 0.96276593\t 0.9402597\n",
            "FUTURE\t 104\t 6\t 16\t 0.94545454\t 0.8666667\t 0.90434784\n",
            "PAST\t 232\t 13\t 21\t 0.94693875\t 0.91699606\t 0.93172693\n",
            "tp: 744 fp: 58 fn: 58 labels: 4\n",
            "Macro-average\t prec: 0.9297938, rec: 0.92208433, f1: 0.925923\n",
            "Micro-average\t prec: 0.9276808, rec: 0.9276808, f1: 0.9276808\n",
            "\n",
            "\n",
            "\n"
          ]
        }
      ],
      "source": [
        "with open(\"/content/training_logs/\"+log_files[0]) as log_file:\n",
        "    print(log_file.read())"
      ],
      "id": "CcQV0-fIrJHz"
    },
    {
      "cell_type": "code",
      "source": [
        "assertion_test_data = spark.read.parquet('test_data.parquet')"
      ],
      "metadata": {
        "id": "bgcG00nT91nn"
      },
      "id": "bgcG00nT91nn",
      "execution_count": null,
      "outputs": []
    },
    {
      "cell_type": "code",
      "execution_count": null,
      "metadata": {
        "colab": {
          "base_uri": "https://localhost:8080/"
        },
        "id": "-k2WrFkRyQyP",
        "outputId": "77acdeb3-4bb7-447c-cb2b-ceaed9a1bb4a"
      },
      "outputs": [
        {
          "output_type": "stream",
          "name": "stdout",
          "text": [
            "+---------------+---------+\n",
            "|assertion_label|   result|\n",
            "+---------------+---------+\n",
            "|           PAST|   [PAST]|\n",
            "|           PAST|   [PAST]|\n",
            "|           PAST|   [PAST]|\n",
            "|        PRESENT|   [PAST]|\n",
            "|           PAST|   [PAST]|\n",
            "|        PRESENT|[PRESENT]|\n",
            "|           PAST|   [PAST]|\n",
            "|           PAST|   [PAST]|\n",
            "|           PAST|   [PAST]|\n",
            "|           PAST|   [PAST]|\n",
            "|           PAST|   [PAST]|\n",
            "|           PAST|   [PAST]|\n",
            "|           PAST|   [PAST]|\n",
            "|           PAST|   [PAST]|\n",
            "|           PAST| [FUTURE]|\n",
            "|        PRESENT|[PRESENT]|\n",
            "|        PRESENT|[PRESENT]|\n",
            "|        PRESENT|[PRESENT]|\n",
            "|           PAST|   [PAST]|\n",
            "|           PAST|   [PAST]|\n",
            "+---------------+---------+\n",
            "only showing top 20 rows\n",
            "\n"
          ]
        }
      ],
      "source": [
        "preds = assertion_model.transform(assertion_test_data).select('assertion_label','assertion.result')\n",
        "\n",
        "preds.show()"
      ],
      "id": "-k2WrFkRyQyP"
    },
    {
      "cell_type": "code",
      "execution_count": null,
      "metadata": {
        "id": "4yI73lwG2xk5"
      },
      "outputs": [],
      "source": [
        "preds_df = preds.toPandas()"
      ],
      "id": "4yI73lwG2xk5"
    },
    {
      "cell_type": "code",
      "execution_count": null,
      "metadata": {
        "colab": {
          "base_uri": "https://localhost:8080/",
          "height": 424
        },
        "id": "yRXZFGlQ3Z2U",
        "outputId": "a6457eaf-ca36-4258-a10b-6f0e07f7bdd5"
      },
      "outputs": [
        {
          "output_type": "execute_result",
          "data": {
            "text/plain": [
              "    assertion_label   result\n",
              "0              PAST     PAST\n",
              "1              PAST     PAST\n",
              "2              PAST     PAST\n",
              "3           PRESENT     PAST\n",
              "4              PAST     PAST\n",
              "..              ...      ...\n",
              "797         PRESENT  PRESENT\n",
              "798         PRESENT  PRESENT\n",
              "799         PRESENT  PRESENT\n",
              "800         PRESENT  PRESENT\n",
              "801         PRESENT  PRESENT\n",
              "\n",
              "[801 rows x 2 columns]"
            ],
            "text/html": [
              "\n",
              "  <div id=\"df-57e6d783-acc6-43be-814f-20ff0c26f62f\">\n",
              "    <div class=\"colab-df-container\">\n",
              "      <div>\n",
              "<style scoped>\n",
              "    .dataframe tbody tr th:only-of-type {\n",
              "        vertical-align: middle;\n",
              "    }\n",
              "\n",
              "    .dataframe tbody tr th {\n",
              "        vertical-align: top;\n",
              "    }\n",
              "\n",
              "    .dataframe thead th {\n",
              "        text-align: right;\n",
              "    }\n",
              "</style>\n",
              "<table border=\"1\" class=\"dataframe\">\n",
              "  <thead>\n",
              "    <tr style=\"text-align: right;\">\n",
              "      <th></th>\n",
              "      <th>assertion_label</th>\n",
              "      <th>result</th>\n",
              "    </tr>\n",
              "  </thead>\n",
              "  <tbody>\n",
              "    <tr>\n",
              "      <th>0</th>\n",
              "      <td>PAST</td>\n",
              "      <td>PAST</td>\n",
              "    </tr>\n",
              "    <tr>\n",
              "      <th>1</th>\n",
              "      <td>PAST</td>\n",
              "      <td>PAST</td>\n",
              "    </tr>\n",
              "    <tr>\n",
              "      <th>2</th>\n",
              "      <td>PAST</td>\n",
              "      <td>PAST</td>\n",
              "    </tr>\n",
              "    <tr>\n",
              "      <th>3</th>\n",
              "      <td>PRESENT</td>\n",
              "      <td>PAST</td>\n",
              "    </tr>\n",
              "    <tr>\n",
              "      <th>4</th>\n",
              "      <td>PAST</td>\n",
              "      <td>PAST</td>\n",
              "    </tr>\n",
              "    <tr>\n",
              "      <th>...</th>\n",
              "      <td>...</td>\n",
              "      <td>...</td>\n",
              "    </tr>\n",
              "    <tr>\n",
              "      <th>797</th>\n",
              "      <td>PRESENT</td>\n",
              "      <td>PRESENT</td>\n",
              "    </tr>\n",
              "    <tr>\n",
              "      <th>798</th>\n",
              "      <td>PRESENT</td>\n",
              "      <td>PRESENT</td>\n",
              "    </tr>\n",
              "    <tr>\n",
              "      <th>799</th>\n",
              "      <td>PRESENT</td>\n",
              "      <td>PRESENT</td>\n",
              "    </tr>\n",
              "    <tr>\n",
              "      <th>800</th>\n",
              "      <td>PRESENT</td>\n",
              "      <td>PRESENT</td>\n",
              "    </tr>\n",
              "    <tr>\n",
              "      <th>801</th>\n",
              "      <td>PRESENT</td>\n",
              "      <td>PRESENT</td>\n",
              "    </tr>\n",
              "  </tbody>\n",
              "</table>\n",
              "<p>801 rows × 2 columns</p>\n",
              "</div>\n",
              "      <button class=\"colab-df-convert\" onclick=\"convertToInteractive('df-57e6d783-acc6-43be-814f-20ff0c26f62f')\"\n",
              "              title=\"Convert this dataframe to an interactive table.\"\n",
              "              style=\"display:none;\">\n",
              "        \n",
              "  <svg xmlns=\"http://www.w3.org/2000/svg\" height=\"24px\"viewBox=\"0 0 24 24\"\n",
              "       width=\"24px\">\n",
              "    <path d=\"M0 0h24v24H0V0z\" fill=\"none\"/>\n",
              "    <path d=\"M18.56 5.44l.94 2.06.94-2.06 2.06-.94-2.06-.94-.94-2.06-.94 2.06-2.06.94zm-11 1L8.5 8.5l.94-2.06 2.06-.94-2.06-.94L8.5 2.5l-.94 2.06-2.06.94zm10 10l.94 2.06.94-2.06 2.06-.94-2.06-.94-.94-2.06-.94 2.06-2.06.94z\"/><path d=\"M17.41 7.96l-1.37-1.37c-.4-.4-.92-.59-1.43-.59-.52 0-1.04.2-1.43.59L10.3 9.45l-7.72 7.72c-.78.78-.78 2.05 0 2.83L4 21.41c.39.39.9.59 1.41.59.51 0 1.02-.2 1.41-.59l7.78-7.78 2.81-2.81c.8-.78.8-2.07 0-2.86zM5.41 20L4 18.59l7.72-7.72 1.47 1.35L5.41 20z\"/>\n",
              "  </svg>\n",
              "      </button>\n",
              "      \n",
              "  <style>\n",
              "    .colab-df-container {\n",
              "      display:flex;\n",
              "      flex-wrap:wrap;\n",
              "      gap: 12px;\n",
              "    }\n",
              "\n",
              "    .colab-df-convert {\n",
              "      background-color: #E8F0FE;\n",
              "      border: none;\n",
              "      border-radius: 50%;\n",
              "      cursor: pointer;\n",
              "      display: none;\n",
              "      fill: #1967D2;\n",
              "      height: 32px;\n",
              "      padding: 0 0 0 0;\n",
              "      width: 32px;\n",
              "    }\n",
              "\n",
              "    .colab-df-convert:hover {\n",
              "      background-color: #E2EBFA;\n",
              "      box-shadow: 0px 1px 2px rgba(60, 64, 67, 0.3), 0px 1px 3px 1px rgba(60, 64, 67, 0.15);\n",
              "      fill: #174EA6;\n",
              "    }\n",
              "\n",
              "    [theme=dark] .colab-df-convert {\n",
              "      background-color: #3B4455;\n",
              "      fill: #D2E3FC;\n",
              "    }\n",
              "\n",
              "    [theme=dark] .colab-df-convert:hover {\n",
              "      background-color: #434B5C;\n",
              "      box-shadow: 0px 1px 3px 1px rgba(0, 0, 0, 0.15);\n",
              "      filter: drop-shadow(0px 1px 2px rgba(0, 0, 0, 0.3));\n",
              "      fill: #FFFFFF;\n",
              "    }\n",
              "  </style>\n",
              "\n",
              "      <script>\n",
              "        const buttonEl =\n",
              "          document.querySelector('#df-57e6d783-acc6-43be-814f-20ff0c26f62f button.colab-df-convert');\n",
              "        buttonEl.style.display =\n",
              "          google.colab.kernel.accessAllowed ? 'block' : 'none';\n",
              "\n",
              "        async function convertToInteractive(key) {\n",
              "          const element = document.querySelector('#df-57e6d783-acc6-43be-814f-20ff0c26f62f');\n",
              "          const dataTable =\n",
              "            await google.colab.kernel.invokeFunction('convertToInteractive',\n",
              "                                                     [key], {});\n",
              "          if (!dataTable) return;\n",
              "\n",
              "          const docLinkHtml = 'Like what you see? Visit the ' +\n",
              "            '<a target=\"_blank\" href=https://colab.research.google.com/notebooks/data_table.ipynb>data table notebook</a>'\n",
              "            + ' to learn more about interactive tables.';\n",
              "          element.innerHTML = '';\n",
              "          dataTable['output_type'] = 'display_data';\n",
              "          await google.colab.output.renderOutput(dataTable, element);\n",
              "          const docLink = document.createElement('div');\n",
              "          docLink.innerHTML = docLinkHtml;\n",
              "          element.appendChild(docLink);\n",
              "        }\n",
              "      </script>\n",
              "    </div>\n",
              "  </div>\n",
              "  "
            ]
          },
          "metadata": {},
          "execution_count": 49
        }
      ],
      "source": [
        "preds_df[\"result\"] = preds_df[\"result\"].apply(lambda x: x[0] if len(x) else pd.NA)\n",
        "preds_df.dropna(inplace=True)\n",
        "\n",
        "preds_df"
      ],
      "id": "yRXZFGlQ3Z2U"
    },
    {
      "cell_type": "code",
      "source": [
        "# We are going to use sklearn to evalute the results on test dataset\n",
        "from sklearn.metrics import classification_report\n",
        "\n",
        "print (classification_report( preds_df['assertion_label'], preds_df['result']))"
      ],
      "metadata": {
        "colab": {
          "base_uri": "https://localhost:8080/"
        },
        "id": "1hb1kyGAE0Gn",
        "outputId": "c7d11a11-fc97-48ed-ea69-8787e319b525"
      },
      "execution_count": null,
      "outputs": [
        {
          "output_type": "stream",
          "name": "stdout",
          "text": [
            "              precision    recall  f1-score   support\n",
            "\n",
            "      FUTURE       0.95      0.87      0.90       120\n",
            "        PAST       0.95      0.91      0.93       252\n",
            "    POSSIBLE       0.92      0.96      0.94       188\n",
            "     PRESENT       0.90      0.95      0.92       241\n",
            "\n",
            "    accuracy                           0.93       801\n",
            "   macro avg       0.93      0.92      0.93       801\n",
            "weighted avg       0.93      0.93      0.93       801\n",
            "\n"
          ]
        }
      ],
      "id": "1hb1kyGAE0Gn"
    },
    {
      "cell_type": "markdown",
      "metadata": {
        "id": "WuJ5YZ9sXU13"
      },
      "source": [
        "### Saving the trained model"
      ],
      "id": "WuJ5YZ9sXU13"
    },
    {
      "cell_type": "code",
      "execution_count": null,
      "metadata": {
        "colab": {
          "base_uri": "https://localhost:8080/"
        },
        "id": "KBcoOwvwXV8p",
        "outputId": "d3e90199-acf9-4238-8152-310115dc9a6e"
      },
      "outputs": [
        {
          "output_type": "execute_result",
          "data": {
            "text/plain": [
              "[MedicalGraphBuilderModel_22f01988d0ec, FINANCE-ASSERTION_DL_fe543f6703d8]"
            ]
          },
          "metadata": {},
          "execution_count": 51
        }
      ],
      "source": [
        "assertion_model.stages"
      ],
      "id": "KBcoOwvwXV8p"
    },
    {
      "cell_type": "code",
      "source": [
        "# Save a Spark NLP model\n",
        "assertion_model.stages[-1].write().overwrite().save('Assertion')\n",
        "\n",
        "# cd into saved dir and zip\n",
        "! cd /content/Assertion ; zip -r /content/Assertion.zip *"
      ],
      "metadata": {
        "colab": {
          "base_uri": "https://localhost:8080/"
        },
        "id": "ioMW1jSrA-wg",
        "outputId": "20d39472-8a82-47c2-9580-45d0ff0bcbe5"
      },
      "id": "ioMW1jSrA-wg",
      "execution_count": null,
      "outputs": [
        {
          "output_type": "stream",
          "name": "stdout",
          "text": [
            "  adding: fields/ (stored 0%)\n",
            "  adding: fields/datasetParams/ (stored 0%)\n",
            "  adding: fields/datasetParams/part-00002 (deflated 27%)\n",
            "  adding: fields/datasetParams/.part-00002.crc (stored 0%)\n",
            "  adding: fields/datasetParams/._SUCCESS.crc (stored 0%)\n",
            "  adding: fields/datasetParams/part-00003 (deflated 95%)\n",
            "  adding: fields/datasetParams/_SUCCESS (stored 0%)\n",
            "  adding: fields/datasetParams/part-00000 (deflated 26%)\n",
            "  adding: fields/datasetParams/.part-00003.crc (deflated 44%)\n",
            "  adding: fields/datasetParams/.part-00001.crc (stored 0%)\n",
            "  adding: fields/datasetParams/.part-00000.crc (stored 0%)\n",
            "  adding: fields/datasetParams/part-00001 (deflated 27%)\n",
            "  adding: metadata/ (stored 0%)\n",
            "  adding: metadata/._SUCCESS.crc (stored 0%)\n",
            "  adding: metadata/_SUCCESS (stored 0%)\n",
            "  adding: metadata/part-00000 (deflated 39%)\n",
            "  adding: metadata/.part-00000.crc (stored 0%)\n",
            "  adding: tensorflow (deflated 40%)\n"
          ]
        }
      ]
    },
    {
      "cell_type": "code",
      "source": [],
      "metadata": {
        "id": "gdvS1768P71J"
      },
      "id": "gdvS1768P71J",
      "execution_count": null,
      "outputs": []
    }
  ],
  "metadata": {
    "accelerator": "GPU",
    "colab": {
      "collapsed_sections": [
        "2d4f1557-6709-4336-a96f-bdd7400ce4a1",
        "PcsTZJmZu7CQ"
      ],
      "provenance": []
    },
    "kernelspec": {
      "display_name": "finleg_jar",
      "language": "python",
      "name": "finleg_jar"
    },
    "language_info": {
      "codemirror_mode": {
        "name": "ipython",
        "version": 3
      },
      "file_extension": ".py",
      "mimetype": "text/x-python",
      "name": "python",
      "nbconvert_exporter": "python",
      "pygments_lexer": "ipython3",
      "version": "3.8.13"
    },
    "gpuClass": "standard"
  },
  "nbformat": 4,
  "nbformat_minor": 5
}