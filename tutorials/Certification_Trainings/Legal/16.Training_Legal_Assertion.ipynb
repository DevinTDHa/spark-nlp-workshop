{
  "cells": [
    {
      "cell_type": "markdown",
      "metadata": {
        "id": "KLqW6FOnEvov"
      },
      "source": [
        "# Train Legal Assertion\n"
      ],
      "id": "KLqW6FOnEvov"
    },
    {
      "cell_type": "markdown",
      "metadata": {
        "id": "wxZDXLDCXkk_"
      },
      "source": [
        "\n",
        "![JohnSnowLabs](https://nlp.johnsnowlabs.com/assets/images/logo.png)\n",
        "\n",
        "\n",
        "\n"
      ],
      "id": "wxZDXLDCXkk_"
    },
    {
      "cell_type": "markdown",
      "metadata": {
        "id": "pZ6sKi8ZX1z4"
      },
      "source": [
        "[![Open In Colab](https://colab.research.google.com/assets/colab-badge.svg)](https://colab.research.google.com/github/JohnSnowLabs/spark-nlp-workshop/blob/master/tutorials/Certification_Trainings/Legal/16.Training_Legal_Assertion.ipynb)"
      ],
      "id": "pZ6sKi8ZX1z4"
    },
    {
      "cell_type": "markdown",
      "metadata": {
        "id": "PcsTZJmZu7CQ"
      },
      "source": [
        "# Colab Setup"
      ],
      "id": "PcsTZJmZu7CQ"
    },
    {
      "cell_type": "code",
      "execution_count": null,
      "metadata": {
        "id": "4914b00f-abd2-4449-9a4f-737f317317be"
      },
      "outputs": [],
      "source": [
        "# Install the johnsnowlabs library to access Spark-OCR and Spark-NLP for Healthcare, Finance, and Legal.\n",
        "! pip install johnsnowlabs "
      ],
      "id": "4914b00f-abd2-4449-9a4f-737f317317be"
    },
    {
      "cell_type": "code",
      "execution_count": null,
      "metadata": {
        "id": "fe96e8d6-c2a3-4464-b78e-90e83f743823"
      },
      "outputs": [],
      "source": [
        "from google.colab import files\n",
        "print('Please upload your John Snow Labs License using the button below')\n",
        "license_keys = files.upload()"
      ],
      "id": "fe96e8d6-c2a3-4464-b78e-90e83f743823"
    },
    {
      "cell_type": "code",
      "execution_count": null,
      "metadata": {
        "colab": {
          "background_save": true
        },
        "id": "JOzbTlCRNvVd",
        "outputId": "4fa2e5fe-ca8f-43b4-dc8a-6faa7e1c88b7"
      },
      "outputs": [
        {
          "name": "stdout",
          "output_type": "stream",
          "text": [
            "👌 License detected in Environment Variables\n",
            "🚨 Outdated Medical Secrets in license file. Version=4.0.0 but should be Version=0.1.14\n",
            "🚨 Outdated OCR Secrets in license file. Version=4.0.0 but should be Version=4.1.0\n",
            "📋 Stored John Snow Labs License in /root/.johnsnowlabs/licenses/license_number_0_for_Spark-Healthcare_Spark-OCR.json\n",
            "👷 Setting up if John Snow Labs home exists in /root/.johnsnowlabs this might take a few minutes.\n",
            "Downloading 🐍+🚀 Python Library spark_nlp-4.1.0-py2.py3-none-any.whl\n",
            "Downloading 🐍+💊 Python Library internal_with_finleg-0.1.14-py3-none-any.whl\n"
          ]
        },
        {
          "name": "stderr",
          "output_type": "stream",
          "text": [
            "ERROR:root:Internal Python error in the inspect module.\n",
            "Below is the traceback from this internal error.\n",
            "\n",
            "ERROR:root:Internal Python error in the inspect module.\n",
            "Below is the traceback from this internal error.\n",
            "\n",
            "ERROR:root:Internal Python error in the inspect module.\n",
            "Below is the traceback from this internal error.\n",
            "\n"
          ]
        },
        {
          "name": "stdout",
          "output_type": "stream",
          "text": [
            "🚨 Cannot install 🕶Spark-OCR because provided license file secret is outdated\n",
            "How to Fix this: \n",
            "Option1: Run \u001b[92mjsl.install(force_browser==True)\u001b[39m to get a Browser Window pop-up where you can refresh your license data.\n",
            "Option2: Run \u001b[92mjsl.install(secrets_file==\"path/to/fresh_credentials.json\")\u001b[39m after downloading a fresh license from https://my.johnsnowlabs.com/subscriptions   \n",
            "Option3: Run \u001b[92mjsl.install(refresh_install=True,force_browser==True)\u001b[39m to refresh everything. \n",
            "Traceback (most recent call last):\n",
            "ValueError: Trying to download Invalid URL! https://pypi.johnsnowlabs.com/4.0.0-49cdb09f66ca01a93f959366f0e4a84d1a09b2df/spark-ocr/spark_ocr-4.1.0-py3-none-any.whl\n",
            "\n",
            "During handling of the above exception, another exception occurred:\n",
            "\n",
            "Traceback (most recent call last):\n",
            "Exception: 🚨 Cannot install 🕶Spark-OCR because provided license file secret is outdated\n",
            "How to Fix this: \n",
            "Option1: Run \u001b[92mjsl.install(force_browser==True)\u001b[39m to get a Browser Window pop-up where you can refresh your license data.\n",
            "Option2: Run \u001b[92mjsl.install(secrets_file==\"path/to/fresh_credentials.json\")\u001b[39m after downloading a fresh license from https://my.johnsnowlabs.com/subscriptions   \n",
            "Option3: Run \u001b[92mjsl.install(refresh_install=True,force_browser==True)\u001b[39m to refresh everything. \n",
            "\n",
            "During handling of the above exception, another exception occurred:\n",
            "\n",
            "Traceback (most recent call last):\n",
            "AttributeError: 'Exception' object has no attribute '_render_traceback_'\n",
            "\n",
            "During handling of the above exception, another exception occurred:\n",
            "\n",
            "Traceback (most recent call last):\n",
            "AssertionError\n",
            "Traceback (most recent call last):\n",
            "ValueError: Trying to download Invalid URL! https://pypi.johnsnowlabs.com/4.0.0-49cdb09f66ca01a93f959366f0e4a84d1a09b2df/spark-ocr/spark_ocr-4.1.0-py3-none-any.whl\n",
            "\n",
            "During handling of the above exception, another exception occurred:\n",
            "\n",
            "Traceback (most recent call last):\n",
            "Exception: 🚨 Cannot install 🕶Spark-OCR because provided license file secret is outdated\n",
            "How to Fix this: \n",
            "Option1: Run \u001b[92mjsl.install(force_browser==True)\u001b[39m to get a Browser Window pop-up where you can refresh your license data.\n",
            "Option2: Run \u001b[92mjsl.install(secrets_file==\"path/to/fresh_credentials.json\")\u001b[39m after downloading a fresh license from https://my.johnsnowlabs.com/subscriptions   \n",
            "Option3: Run \u001b[92mjsl.install(refresh_install=True,force_browser==True)\u001b[39m to refresh everything. \n",
            "\n",
            "During handling of the above exception, another exception occurred:\n",
            "\n",
            "Traceback (most recent call last):\n",
            "AttributeError: 'Exception' object has no attribute '_render_traceback_'\n",
            "\n",
            "During handling of the above exception, another exception occurred:\n",
            "\n",
            "Traceback (most recent call last):\n",
            "TypeError: can only concatenate str (not \"list\") to str\n",
            "\n",
            "During handling of the above exception, another exception occurred:\n",
            "\n",
            "Traceback (most recent call last):\n",
            "AttributeError: 'TypeError' object has no attribute '_render_traceback_'\n",
            "\n",
            "During handling of the above exception, another exception occurred:\n",
            "\n",
            "Traceback (most recent call last):\n",
            "AssertionError\n",
            "Traceback (most recent call last):\n",
            "ValueError: Trying to download Invalid URL! https://pypi.johnsnowlabs.com/4.0.0-49cdb09f66ca01a93f959366f0e4a84d1a09b2df/spark-ocr/spark_ocr-4.1.0-py3-none-any.whl\n",
            "\n",
            "During handling of the above exception, another exception occurred:\n",
            "\n",
            "Traceback (most recent call last):\n",
            "Exception: 🚨 Cannot install 🕶Spark-OCR because provided license file secret is outdated\n",
            "How to Fix this: \n",
            "Option1: Run \u001b[92mjsl.install(force_browser==True)\u001b[39m to get a Browser Window pop-up where you can refresh your license data.\n",
            "Option2: Run \u001b[92mjsl.install(secrets_file==\"path/to/fresh_credentials.json\")\u001b[39m after downloading a fresh license from https://my.johnsnowlabs.com/subscriptions   \n",
            "Option3: Run \u001b[92mjsl.install(refresh_install=True,force_browser==True)\u001b[39m to refresh everything. \n",
            "\n",
            "During handling of the above exception, another exception occurred:\n",
            "\n",
            "Traceback (most recent call last):\n",
            "AttributeError: 'Exception' object has no attribute '_render_traceback_'\n",
            "\n",
            "During handling of the above exception, another exception occurred:\n",
            "\n",
            "Traceback (most recent call last):\n",
            "TypeError: can only concatenate str (not \"list\") to str\n",
            "\n",
            "During handling of the above exception, another exception occurred:\n",
            "\n",
            "Traceback (most recent call last):\n",
            "AttributeError: 'TypeError' object has no attribute '_render_traceback_'\n",
            "\n",
            "During handling of the above exception, another exception occurred:\n",
            "\n",
            "Traceback (most recent call last):\n",
            "TypeError: can only concatenate str (not \"list\") to str\n",
            "\n",
            "During handling of the above exception, another exception occurred:\n",
            "\n",
            "Traceback (most recent call last):\n",
            "AttributeError: 'TypeError' object has no attribute '_render_traceback_'\n",
            "\n",
            "During handling of the above exception, another exception occurred:\n",
            "\n",
            "Traceback (most recent call last):\n",
            "AssertionError\n"
          ]
        }
      ],
      "source": [
        "from johnsnowlabs import * \n",
        "# After uploading your license run this to install all licensed Python Wheels and pre-download Jars the Spark Session JVM\n",
        "# Make sure to restart your notebook afterwards for changes to take effect\n",
        "jsl.install()"
      ],
      "id": "JOzbTlCRNvVd"
    },
    {
      "cell_type": "code",
      "execution_count": null,
      "metadata": {
        "colab": {
          "background_save": true
        },
        "id": "TZIjuI3zN1Oi",
        "outputId": "7f21ebfb-06b9-4251-a241-bc8f8f784366"
      },
      "outputs": [
        {
          "name": "stdout",
          "output_type": "stream",
          "text": [
            "Warning::Spark Session already created, some configs may not take.\n",
            "DEBUG START!\n",
            "📋 Loading license number 0 from /root/.johnsnowlabs/licenses/license_number_0_for_Spark-Healthcare_Spark-OCR.json\n",
            "🤓 Looks like /root/.johnsnowlabs is missing, creating it\n",
            "👷 Setting up if John Snow Labs home exists in /root/.johnsnowlabs this might take a few minutes.\n",
            "Downloading 🫘+🚀 Java Library spark-nlp-assembly-4.1.0.jar\n",
            "🙆 JSL Home setup in /root/.johnsnowlabs\n",
            "🤓 Looks like you are missing some jars, trying fetching them ...\n",
            "Downloading 🫘+💊 Java Library spark-nlp-jsl-assembly-4.1.0.jar\n"
          ]
        },
        {
          "name": "stderr",
          "output_type": "stream",
          "text": [
            "ERROR:root:Internal Python error in the inspect module.\n",
            "Below is the traceback from this internal error.\n",
            "\n",
            "ERROR:root:Internal Python error in the inspect module.\n",
            "Below is the traceback from this internal error.\n",
            "\n",
            "ERROR:root:Internal Python error in the inspect module.\n",
            "Below is the traceback from this internal error.\n",
            "\n"
          ]
        },
        {
          "name": "stdout",
          "output_type": "stream",
          "text": [
            "🚨 Cannot install 🕶Spark-OCR because provided license file secret is outdated\n",
            "How to Fix this: \n",
            "Option1: Run \u001b[92mjsl.install(force_browser==True)\u001b[39m to get a Browser Window pop-up where you can refresh your license data.\n",
            "Option2: Run \u001b[92mjsl.install(secrets_file==\"path/to/fresh_credentials.json\")\u001b[39m after downloading a fresh license from https://my.johnsnowlabs.com/subscriptions   \n",
            "Option3: Run \u001b[92mjsl.install(refresh_install=True,force_browser==True)\u001b[39m to refresh everything. \n",
            "Traceback (most recent call last):\n",
            "ValueError: Trying to download Invalid URL! https://pypi.johnsnowlabs.com/4.0.0-49cdb09f66ca01a93f959366f0e4a84d1a09b2df/jars/spark-ocr-assembly-4.1.0.jar\n",
            "\n",
            "During handling of the above exception, another exception occurred:\n",
            "\n",
            "Traceback (most recent call last):\n",
            "Exception: 🚨 Cannot install 🕶Spark-OCR because provided license file secret is outdated\n",
            "How to Fix this: \n",
            "Option1: Run \u001b[92mjsl.install(force_browser==True)\u001b[39m to get a Browser Window pop-up where you can refresh your license data.\n",
            "Option2: Run \u001b[92mjsl.install(secrets_file==\"path/to/fresh_credentials.json\")\u001b[39m after downloading a fresh license from https://my.johnsnowlabs.com/subscriptions   \n",
            "Option3: Run \u001b[92mjsl.install(refresh_install=True,force_browser==True)\u001b[39m to refresh everything. \n",
            "\n",
            "During handling of the above exception, another exception occurred:\n",
            "\n",
            "Traceback (most recent call last):\n",
            "AttributeError: 'Exception' object has no attribute '_render_traceback_'\n",
            "\n",
            "During handling of the above exception, another exception occurred:\n",
            "\n",
            "Traceback (most recent call last):\n",
            "AssertionError\n",
            "Traceback (most recent call last):\n",
            "ValueError: Trying to download Invalid URL! https://pypi.johnsnowlabs.com/4.0.0-49cdb09f66ca01a93f959366f0e4a84d1a09b2df/jars/spark-ocr-assembly-4.1.0.jar\n",
            "\n",
            "During handling of the above exception, another exception occurred:\n",
            "\n",
            "Traceback (most recent call last):\n",
            "Exception: 🚨 Cannot install 🕶Spark-OCR because provided license file secret is outdated\n",
            "How to Fix this: \n",
            "Option1: Run \u001b[92mjsl.install(force_browser==True)\u001b[39m to get a Browser Window pop-up where you can refresh your license data.\n",
            "Option2: Run \u001b[92mjsl.install(secrets_file==\"path/to/fresh_credentials.json\")\u001b[39m after downloading a fresh license from https://my.johnsnowlabs.com/subscriptions   \n",
            "Option3: Run \u001b[92mjsl.install(refresh_install=True,force_browser==True)\u001b[39m to refresh everything. \n",
            "\n",
            "During handling of the above exception, another exception occurred:\n",
            "\n",
            "Traceback (most recent call last):\n",
            "AttributeError: 'Exception' object has no attribute '_render_traceback_'\n",
            "\n",
            "During handling of the above exception, another exception occurred:\n",
            "\n",
            "Traceback (most recent call last):\n",
            "TypeError: can only concatenate str (not \"list\") to str\n",
            "\n",
            "During handling of the above exception, another exception occurred:\n",
            "\n",
            "Traceback (most recent call last):\n",
            "AttributeError: 'TypeError' object has no attribute '_render_traceback_'\n",
            "\n",
            "During handling of the above exception, another exception occurred:\n",
            "\n",
            "Traceback (most recent call last):\n",
            "AssertionError\n",
            "Traceback (most recent call last):\n",
            "ValueError: Trying to download Invalid URL! https://pypi.johnsnowlabs.com/4.0.0-49cdb09f66ca01a93f959366f0e4a84d1a09b2df/jars/spark-ocr-assembly-4.1.0.jar\n",
            "\n",
            "During handling of the above exception, another exception occurred:\n",
            "\n",
            "Traceback (most recent call last):\n",
            "Exception: 🚨 Cannot install 🕶Spark-OCR because provided license file secret is outdated\n",
            "How to Fix this: \n",
            "Option1: Run \u001b[92mjsl.install(force_browser==True)\u001b[39m to get a Browser Window pop-up where you can refresh your license data.\n",
            "Option2: Run \u001b[92mjsl.install(secrets_file==\"path/to/fresh_credentials.json\")\u001b[39m after downloading a fresh license from https://my.johnsnowlabs.com/subscriptions   \n",
            "Option3: Run \u001b[92mjsl.install(refresh_install=True,force_browser==True)\u001b[39m to refresh everything. \n",
            "\n",
            "During handling of the above exception, another exception occurred:\n",
            "\n",
            "Traceback (most recent call last):\n",
            "AttributeError: 'Exception' object has no attribute '_render_traceback_'\n",
            "\n",
            "During handling of the above exception, another exception occurred:\n",
            "\n",
            "Traceback (most recent call last):\n",
            "TypeError: can only concatenate str (not \"list\") to str\n",
            "\n",
            "During handling of the above exception, another exception occurred:\n",
            "\n",
            "Traceback (most recent call last):\n",
            "AttributeError: 'TypeError' object has no attribute '_render_traceback_'\n",
            "\n",
            "During handling of the above exception, another exception occurred:\n",
            "\n",
            "Traceback (most recent call last):\n",
            "TypeError: can only concatenate str (not \"list\") to str\n",
            "\n",
            "During handling of the above exception, another exception occurred:\n",
            "\n",
            "Traceback (most recent call last):\n",
            "AttributeError: 'TypeError' object has no attribute '_render_traceback_'\n",
            "\n",
            "During handling of the above exception, another exception occurred:\n",
            "\n",
            "Traceback (most recent call last):\n",
            "AssertionError\n"
          ]
        }
      ],
      "source": [
        "# Automatically load license data and start a session with all jars user has access to\n",
        "spark = jsl.start()"
      ],
      "id": "TZIjuI3zN1Oi"
    },
    {
      "cell_type": "code",
      "execution_count": null,
      "metadata": {
        "id": "BCtM2FGg0npH"
      },
      "outputs": [],
      "source": [
        "from pyspark.ml import Pipeline, PipelineModel\n",
        "from pyspark.sql import SparkSession, DataFrame\n",
        "from pyspark.ml import Pipeline\n",
        "from sparknlp import Doc2Chunk\n",
        "from sparknlp_jsl.annotator import *\n",
        "import sparknlp_jsl\n",
        "from sparknlp.base import LightPipeline"
      ],
      "id": "BCtM2FGg0npH"
    },
    {
      "cell_type": "code",
      "execution_count": null,
      "metadata": {
        "id": "GlmdmVsK0npI"
      },
      "outputs": [],
      "source": [
        "spark"
      ],
      "id": "GlmdmVsK0npI"
    },
    {
      "cell_type": "code",
      "execution_count": null,
      "metadata": {
        "id": "hBfYC-0p0uAE"
      },
      "outputs": [],
      "source": [],
      "id": "hBfYC-0p0uAE"
    },
    {
      "cell_type": "markdown",
      "metadata": {
        "id": "JYBQyxEd0uR0"
      },
      "source": [
        "# Data Prep "
      ],
      "id": "JYBQyxEd0uR0"
    },
    {
      "cell_type": "code",
      "execution_count": null,
      "metadata": {
        "id": "AVBmGFcQ03La"
      },
      "outputs": [],
      "source": [
        "! wget -q https://raw.githubusercontent.com/JohnSnowLabs/spark-nlp-workshop/master/tutorials/Certification_Trainings/Legal/data/aserrtion_fin.csv"
      ],
      "id": "AVBmGFcQ03La"
    },
    {
      "cell_type": "code",
      "execution_count": null,
      "metadata": {
        "id": "8iJF_HCw1Lgh"
      },
      "outputs": [],
      "source": [
        "import pandas as pd\n",
        "\n",
        "training_df = pd.read_csv('/content/assertion_fin.csv')"
      ],
      "id": "8iJF_HCw1Lgh"
    },
    {
      "cell_type": "code",
      "source": [
        "training_data = spark.createDataFrame(training_df)\n",
        "training_data.show()"
      ],
      "metadata": {
        "colab": {
          "base_uri": "https://localhost:8080/"
        },
        "id": "JREBeTzb8ov-",
        "outputId": "25e1d36a-6169-4900-91e1-ef9eb711188e"
      },
      "id": "JREBeTzb8ov-",
      "execution_count": null,
      "outputs": [
        {
          "output_type": "stream",
          "name": "stdout",
          "text": [
            "+-------+--------------------+---------+-------+--------------------+------+---------------+\n",
            "|task_id|            sentence|tkn_start|tkn_end|               chunk|entity|assertion_label|\n",
            "+-------+--------------------+---------+-------+--------------------+------+---------------+\n",
            "|      1|The Swedish East ...|        1|      4|Swedish East Indi...|   ORG|           PAST|\n",
            "|      1|The Swedish East ...|        6|      8|Svenska Ostindisk...| ALIAS|           PAST|\n",
            "|      1|The Swedish East ...|       10|     10|                SOIC| ALIAS|           PAST|\n",
            "|      1|The Swedish East ...|       14|     14|          Gothenburg|   LOC|           PAST|\n",
            "|      1|The Swedish East ...|       15|     15|              Sweden|   LOC|           PAST|\n",
            "|      1|The Swedish East ...|       17|     17|                1731|  DATE|           PAST|\n",
            "|      1|The Swedish East ...|       25|     25|               China|   LOC|           PAST|\n",
            "|      1|The Swedish East ...|       28|     29|            Far East|   LOC|           PAST|\n",
            "|      1|The venture was i...|        9|     12|Dutch East India ...|   ORG|           PAST|\n",
            "|      1|The venture was i...|       15|     18|British East Indi...|   ORG|           PAST|\n",
            "|      1|This made Gothenb...|        2|      2|          Gothenburg|   LOC|           PAST|\n",
            "|      1|Trade with China ...|        2|      2|               China|   LOC|           PAST|\n",
            "|      1|Trade with China ...|       11|     11|              Sweden|   LOC|           PAST|\n",
            "|      1|The Chinese cultu...|       34|     34|              Sweden|   LOC|           PAST|\n",
            "|      1|The company folde...|        4|      4|                1813|  DATE|           PAST|\n",
            "|      1|nevertheless, it ...|       11|     11|          Gothenburg|   LOC|           PAST|\n",
            "|      1|Background Sweden...|       16|     17|          East India|   LOC|           PAST|\n",
            "|      1|The royal privile...|        5|      8|Swedish East Indi...|   ORG|           PAST|\n",
            "|      1|The royal privile...|        9|      9|                SOIC| ALIAS|           PAST|\n",
            "|      1|The royal privile...|       27|     28|          East India|   LOC|           PAST|\n",
            "+-------+--------------------+---------+-------+--------------------+------+---------------+\n",
            "only showing top 20 rows\n",
            "\n"
          ]
        }
      ]
    },
    {
      "cell_type": "code",
      "execution_count": null,
      "metadata": {
        "colab": {
          "base_uri": "https://localhost:8080/"
        },
        "id": "ET8GD3y3-17e",
        "outputId": "9706524f-6651-4310-ba7a-eeb1e5855944"
      },
      "outputs": [
        {
          "output_type": "stream",
          "name": "stdout",
          "text": [
            "root\n",
            " |-- task_id: long (nullable = true)\n",
            " |-- sentence: string (nullable = true)\n",
            " |-- tkn_start: long (nullable = true)\n",
            " |-- tkn_end: long (nullable = true)\n",
            " |-- chunk: string (nullable = true)\n",
            " |-- entity: string (nullable = true)\n",
            " |-- assertion_label: string (nullable = true)\n",
            "\n"
          ]
        }
      ],
      "source": [
        "training_data.printSchema()"
      ],
      "id": "ET8GD3y3-17e"
    },
    {
      "cell_type": "code",
      "execution_count": null,
      "metadata": {
        "colab": {
          "base_uri": "https://localhost:8080/"
        },
        "id": "R6xa4jp8Szs0",
        "outputId": "b3583e05-6621-4ce7-8d86-c705ef4df68b"
      },
      "outputs": [
        {
          "output_type": "stream",
          "name": "stdout",
          "text": [
            "CPU times: user 11.9 ms, sys: 0 ns, total: 11.9 ms\n",
            "Wall time: 878 ms\n"
          ]
        },
        {
          "output_type": "execute_result",
          "data": {
            "text/plain": [
              "8050"
            ]
          },
          "metadata": {},
          "execution_count": 11
        }
      ],
      "source": [
        "%time training_data.count()"
      ],
      "id": "R6xa4jp8Szs0"
    },
    {
      "cell_type": "code",
      "execution_count": null,
      "metadata": {
        "colab": {
          "base_uri": "https://localhost:8080/"
        },
        "id": "fxcHD_Q_-_lD",
        "outputId": "095a6589-9cff-4d06-f888-826c6d88eeb9"
      },
      "outputs": [
        {
          "output_type": "stream",
          "name": "stdout",
          "text": [
            "Training Dataset Count: 8050\n",
            "Test Dataset Count: 802\n"
          ]
        }
      ],
      "source": [
        "(train_data, test_data) = training_data.randomSplit([0.9, 0.1], seed = 100)\n",
        "print(\"Training Dataset Count: \" + str(training_data.count()))\n",
        "print(\"Test Dataset Count: \" + str(test_data.count()))"
      ],
      "id": "fxcHD_Q_-_lD"
    },
    {
      "cell_type": "code",
      "source": [
        "train_data.show()"
      ],
      "metadata": {
        "colab": {
          "base_uri": "https://localhost:8080/"
        },
        "id": "DFN_BuHU84HF",
        "outputId": "1cdc2f08-ba12-40b5-c464-7230a65b9e65"
      },
      "id": "DFN_BuHU84HF",
      "execution_count": null,
      "outputs": [
        {
          "output_type": "stream",
          "name": "stdout",
          "text": [
            "+-------+--------------------+---------+-------+--------------------+------+---------------+\n",
            "|task_id|            sentence|tkn_start|tkn_end|               chunk|entity|assertion_label|\n",
            "+-------+--------------------+---------+-------+--------------------+------+---------------+\n",
            "|      1|\"Stockholms-varve...|        6|      6|           Stockholm|   LOC|           PAST|\n",
            "|      1|\"The funny busine...|        5|      8|Swedish East Indi...|   ORG|           PAST|\n",
            "|      1|             (1998).|        0|      0|                1998|  DATE|           PAST|\n",
            "|      1|2.5 tonnes) and t...|       34|     34|              Sweden|   LOC|           PAST|\n",
            "|      1|37. Gothenburg: R...|        2|      7|Royal Society of ...|   ORG|           PAST|\n",
            "|      1|= Decline and fal...|       11|     11|                1806|  DATE|           PAST|\n",
            "|      1|= Early attempts ...|        9|     11|  Swedish East India|   ORG|           PAST|\n",
            "|      1|= Early attempts ...|       19|     19|            merchant|  ROLE|           PAST|\n",
            "|      1|= Early attempts ...|       20|     21|    Willem Usselincx|   PER|           PAST|\n",
            "|      1|= Sweden after th...|        1|      1|              Sweden|   LOC|           PAST|\n",
            "|      1|= The Royal chart...|        9|     12|Henrik König & Co...|   ORG|           PAST|\n",
            "|      1|= The Royal chart...|       39|     42|   Cape of Good Hope|   LOC|           PAST|\n",
            "|      1|= The Royal chart...|       46|     46|               Japan|   LOC|           PAST|\n",
            "|      1|= The Royal chart...|       79|     79|          Gothenburg|   LOC|           PAST|\n",
            "|      1|= The first octro...|        8|      8|           directors|  ROLE|           PAST|\n",
            "|      1|= The first octro...|       11|     11|                SOIC|   ORG|           PAST|\n",
            "|      1|= The first octro...|       13|     14|        Henrik König|   PER|           PAST|\n",
            "|      1|= The first octro...|       15|     16|      Colin Campbell|   PER|           PAST|\n",
            "|      1|= The first octro...|       23|     23|           Stockholm|   LOC|           PAST|\n",
            "|      1|= The fourth octr...|        6|      6|                SOIC|   ORG|           PAST|\n",
            "+-------+--------------------+---------+-------+--------------------+------+---------------+\n",
            "only showing top 20 rows\n",
            "\n"
          ]
        }
      ]
    },
    {
      "cell_type": "code",
      "execution_count": null,
      "metadata": {
        "id": "HaIXrA3M_ZS-"
      },
      "outputs": [],
      "source": [],
      "id": "HaIXrA3M_ZS-"
    },
    {
      "cell_type": "markdown",
      "metadata": {
        "id": "2WZDqlZA_kmb"
      },
      "source": [
        "# Using RoBerta Embeddings"
      ],
      "id": "2WZDqlZA_kmb"
    },
    {
      "cell_type": "code",
      "execution_count": null,
      "metadata": {
        "colab": {
          "base_uri": "https://localhost:8080/"
        },
        "id": "7qfJh8ap_nI2",
        "outputId": "75867ae0-c939-4e6e-d06b-4fa1afecec31"
      },
      "outputs": [
        {
          "output_type": "stream",
          "name": "stdout",
          "text": [
            "roberta_embeddings_legal_roberta_base download started this may take some time.\n",
            "Approximate size to download 447.2 MB\n",
            "[OK!]\n"
          ]
        }
      ],
      "source": [
        "roberta_embeddings = RoBertaEmbeddings.pretrained(\"roberta_embeddings_legal_roberta_base\",\"en\") \\\n",
        "    .setInputCols([\"document\", \"token\"]) \\\n",
        "    .setOutputCol(\"embeddings\") \\\n",
        "    .setMaxSentenceLength(512)"
      ],
      "id": "7qfJh8ap_nI2"
    },
    {
      "cell_type": "code",
      "execution_count": null,
      "metadata": {
        "id": "Fe0957BT_rcy"
      },
      "outputs": [],
      "source": [
        "document = DocumentAssembler()\\\n",
        "    .setInputCol(\"sentence\")\\\n",
        "    .setOutputCol(\"document\")\n",
        "\n",
        "chunk = Doc2Chunk()\\\n",
        "    .setInputCols(\"document\")\\\n",
        "    .setOutputCol(\"doc_chunk\")\\\n",
        "    .setChunkCol(\"chunk\")\\\n",
        "    .setStartCol(\"tkn_start\")\\\n",
        "    .setStartColByTokenIndex(True)\\\n",
        "    .setFailOnMissing(False)\\\n",
        "    .setLowerCase(False)\n",
        "\n",
        "token = Tokenizer()\\\n",
        "    .setInputCols(['document'])\\\n",
        "    .setOutputCol('token')\n"
      ],
      "id": "Fe0957BT_rcy"
    },
    {
      "cell_type": "markdown",
      "source": [
        "We save the test data in parquet format to use in `AssertionDLApproach()`. "
      ],
      "metadata": {
        "id": "LFTO0PlI9-3e"
      },
      "id": "LFTO0PlI9-3e"
    },
    {
      "cell_type": "code",
      "source": [
        "assertion_pipeline = Pipeline(\n",
        "    stages = [\n",
        "    document,\n",
        "    chunk,\n",
        "    token,\n",
        "    roberta_embeddings])\n",
        "\n",
        "assertion_test_data = assertion_pipeline.fit(test_data).transform(test_data)"
      ],
      "metadata": {
        "id": "M9u4c65G9VaC"
      },
      "id": "M9u4c65G9VaC",
      "execution_count": null,
      "outputs": []
    },
    {
      "cell_type": "code",
      "source": [
        "assertion_test_data.columns"
      ],
      "metadata": {
        "colab": {
          "base_uri": "https://localhost:8080/"
        },
        "id": "r-UREmtI9Vd3",
        "outputId": "5e6f4656-08dd-4b79-c982-76a357965cd8"
      },
      "id": "r-UREmtI9Vd3",
      "execution_count": null,
      "outputs": [
        {
          "output_type": "execute_result",
          "data": {
            "text/plain": [
              "['task_id',\n",
              " 'sentence',\n",
              " 'tkn_start',\n",
              " 'tkn_end',\n",
              " 'chunk',\n",
              " 'entity',\n",
              " 'assertion_label',\n",
              " 'document',\n",
              " 'doc_chunk',\n",
              " 'token',\n",
              " 'embeddings']"
            ]
          },
          "metadata": {},
          "execution_count": 19
        }
      ]
    },
    {
      "cell_type": "code",
      "source": [
        "assertion_test_data.write.mode('overwrite').parquet('test_data.parquet')"
      ],
      "metadata": {
        "id": "kBaiXx78BTLT"
      },
      "id": "kBaiXx78BTLT",
      "execution_count": null,
      "outputs": []
    },
    {
      "cell_type": "code",
      "source": [
        "assertion_train_data = assertion_pipeline.fit(training_data).transform(training_data)\n",
        "assertion_train_data.write.mode('overwrite').parquet('train_data.parquet')"
      ],
      "metadata": {
        "id": "tFhN6evk9ViI"
      },
      "id": "tFhN6evk9ViI",
      "execution_count": null,
      "outputs": []
    },
    {
      "cell_type": "code",
      "source": [
        "assertion_train_data.columns"
      ],
      "metadata": {
        "colab": {
          "base_uri": "https://localhost:8080/"
        },
        "id": "BtxnrvcA9VlN",
        "outputId": "93998a37-a9d2-4eb8-f9b2-36d1c95f9759"
      },
      "id": "BtxnrvcA9VlN",
      "execution_count": null,
      "outputs": [
        {
          "output_type": "execute_result",
          "data": {
            "text/plain": [
              "['task_id',\n",
              " 'sentence',\n",
              " 'tkn_start',\n",
              " 'tkn_end',\n",
              " 'chunk',\n",
              " 'entity',\n",
              " 'assertion_label',\n",
              " 'document',\n",
              " 'doc_chunk',\n",
              " 'token',\n",
              " 'embeddings']"
            ]
          },
          "metadata": {},
          "execution_count": 22
        }
      ]
    },
    {
      "cell_type": "code",
      "source": [],
      "metadata": {
        "id": "g-faGWWU91d-"
      },
      "id": "g-faGWWU91d-",
      "execution_count": null,
      "outputs": []
    },
    {
      "cell_type": "markdown",
      "metadata": {
        "id": "uTishXbut1MS"
      },
      "source": [
        "## Graph setup"
      ],
      "id": "uTishXbut1MS"
    },
    {
      "cell_type": "code",
      "execution_count": null,
      "metadata": {
        "id": "1hTawAHemzGn",
        "colab": {
          "base_uri": "https://localhost:8080/"
        },
        "outputId": "3ee2f110-02be-4b0d-9e9a-115feb52cf45"
      },
      "outputs": [
        {
          "output_type": "stream",
          "name": "stdout",
          "text": [
            "\u001b[K     |████████████████████████████████| 665.5 MB 23 kB/s \n",
            "\u001b[K     |████████████████████████████████| 1.3 MB 14.2 MB/s \n",
            "\u001b[K     |████████████████████████████████| 463 kB 77.1 MB/s \n",
            "\u001b[K     |████████████████████████████████| 1.1 MB 14.9 MB/s \n",
            "\u001b[?25h"
          ]
        }
      ],
      "source": [
        "!pip install -q tensorflow==2.7.0\n",
        "!pip install -q tensorflow-addons"
      ],
      "id": "1hTawAHemzGn"
    },
    {
      "cell_type": "markdown",
      "metadata": {
        "id": "0ShZT8BBo4FY"
      },
      "source": [
        "We will use TFGraphBuilder annotator which can be used to create graphs in the model training pipeline. \n",
        "\n",
        "TFGraphBuilder inspects the data and creates the proper graph if a suitable version of TensorFlow (<= 2.7 ) is available. The graph is stored in the defined folder and loaded by the approach."
      ],
      "id": "0ShZT8BBo4FY"
    },
    {
      "cell_type": "code",
      "execution_count": null,
      "metadata": {
        "id": "ojPhRpo6o0xM"
      },
      "outputs": [],
      "source": [
        "from sparknlp_jsl.annotator import TFGraphBuilder"
      ],
      "id": "ojPhRpo6o0xM"
    },
    {
      "cell_type": "code",
      "execution_count": null,
      "metadata": {
        "id": "XhU0L1OXdaLN"
      },
      "outputs": [],
      "source": [
        "graph_folder= \"./tf_graphs\""
      ],
      "id": "XhU0L1OXdaLN"
    },
    {
      "cell_type": "code",
      "execution_count": null,
      "metadata": {
        "id": "miNgoTjio0mL"
      },
      "outputs": [],
      "source": [
        "assertion_graph_builder =  TFGraphBuilder()\\\n",
        "    .setModelName(\"assertion_dl\")\\\n",
        "    .setInputCols([\"sentence\", \"token\", \"embeddings\"]) \\\n",
        "    .setLabelColumn(\"assertion_label\")\\\n",
        "    .setGraphFolder(graph_folder)\\\n",
        "    .setGraphFile(\"assertion_graph.pb\")\\\n",
        "    .setMaxSequenceLength(1200)\\\n",
        "    .setHiddenUnitsNumber(25)"
      ],
      "id": "miNgoTjio0mL"
    },
    {
      "cell_type": "markdown",
      "metadata": {
        "id": "6D0Ng7nMUjJa"
      },
      "source": [
        "**Setting the Scope Window (Target Area) Dynamically in Assertion Status Detection Models**\n",
        "\n",
        "\n",
        "This parameter allows you to train the Assertion Status Models to focus on specific context windows when resolving the status of a NER chunk. The window is in format `[X,Y]` being `X` the number of tokens to consider on the left of the chunk, and `Y` the max number of tokens to consider on the right. Let’s take a look at what different windows mean:\n",
        "\n",
        "\n",
        "*   By default, the window is `[-1,-1]` which means that the Assertion Status will look at all of the tokens in the sentence/document (up to a maximum of tokens set in `setMaxSentLen()` ).\n",
        "*   `[0,0]` means “don’t pay attention to any token except the ner_chunk”, what basically is not considering any context for the Assertion resolution.\n",
        "*   `[9,15]` is what empirically seems to be the best baseline, meaning that we look up to 9 tokens on the left and 15 on the right of the ner chunk to understand the context and resolve the status.\n",
        "\n",
        "\n",
        "Check this [Scope Window Tuning Assertion Status Detection notebook](https://github.com/JohnSnowLabs/spark-nlp-workshop/blob/master/tutorials/Certification_Trainings/Healthcare/2.1.Scope_window_tuning_assertion_status_detection.ipynb)  that illustrates the effect of the different windows and how to properly fine-tune your AssertionDLModels to get the best of them.\n",
        "\n",
        "In our case, the best Scope Window is around [10,10]"
      ],
      "id": "6D0Ng7nMUjJa"
    },
    {
      "cell_type": "code",
      "source": [
        "scope_window = [50, 50]\n",
        "\n",
        "assertionStatus = legal.AssertionDLApproach()\\\n",
        "    .setLabelCol(\"assertion_label\")\\\n",
        "    .setInputCols(\"document\", \"doc_chunk\", \"embeddings\")\\\n",
        "    .setOutputCol(\"assertion\")\\\n",
        "    .setBatchSize(128)\\\n",
        "    .setLearningRate(0.001)\\\n",
        "    .setEpochs(2)\\\n",
        "    .setStartCol(\"tkn_start\")\\\n",
        "    .setEndCol(\"tkn_end\")\\\n",
        "    .setMaxSentLen(1200)\\\n",
        "    .setEnableOutputLogs(True)\\\n",
        "    .setOutputLogsPath('training_logs/')\\\n",
        "    .setGraphFolder(graph_folder)\\\n",
        "    .setGraphFile(f\"{graph_folder}/assertion_graph.pb\")\\\n",
        "    .setTestDataset(path=\"test_data.parquet\", read_as='SPARK', options={'format': 'parquet'})\\\n",
        "    .setScopeWindow(scope_window)\n",
        "    #.setValidationSplit(0.2)\\    \n",
        "    #.setDropout(0.1)\\    "
      ],
      "metadata": {
        "id": "BQxGbYks91go"
      },
      "id": "BQxGbYks91go",
      "execution_count": null,
      "outputs": []
    },
    {
      "cell_type": "code",
      "source": [
        "clinical_assertion_pipeline = Pipeline(\n",
        "    stages = [\n",
        "    #document,\n",
        "    #chunk,\n",
        "    #token,\n",
        "    #embeddings,\n",
        "    assertion_graph_builder,\n",
        "    assertionStatus])"
      ],
      "metadata": {
        "id": "T2MZLeCYATrS"
      },
      "id": "T2MZLeCYATrS",
      "execution_count": null,
      "outputs": []
    },
    {
      "cell_type": "code",
      "source": [
        "training_data.printSchema()"
      ],
      "metadata": {
        "colab": {
          "base_uri": "https://localhost:8080/"
        },
        "id": "yIvnuaQP91j8",
        "outputId": "04ef8dce-5892-437a-f060-a81b16e834bd"
      },
      "id": "yIvnuaQP91j8",
      "execution_count": null,
      "outputs": [
        {
          "output_type": "stream",
          "name": "stdout",
          "text": [
            "root\n",
            " |-- task_id: long (nullable = true)\n",
            " |-- sentence: string (nullable = true)\n",
            " |-- tkn_start: long (nullable = true)\n",
            " |-- tkn_end: long (nullable = true)\n",
            " |-- chunk: string (nullable = true)\n",
            " |-- entity: string (nullable = true)\n",
            " |-- assertion_label: string (nullable = true)\n",
            "\n"
          ]
        }
      ]
    },
    {
      "cell_type": "code",
      "source": [
        "assertion_train_data = spark.read.parquet('train_data.parquet')"
      ],
      "metadata": {
        "id": "ueJz0aiJ_7l4"
      },
      "id": "ueJz0aiJ_7l4",
      "execution_count": null,
      "outputs": []
    },
    {
      "cell_type": "code",
      "source": [
        "%%time\n",
        "assertion_model = clinical_assertion_pipeline.fit(assertion_train_data)"
      ],
      "metadata": {
        "colab": {
          "base_uri": "https://localhost:8080/"
        },
        "id": "j1NCZ89T_7ol",
        "outputId": "92e693e4-0059-4442-82c7-3cbbb9511224"
      },
      "id": "j1NCZ89T_7ol",
      "execution_count": null,
      "outputs": [
        {
          "output_type": "stream",
          "name": "stdout",
          "text": [
            "Medical Graph Builder configuration:\n",
            "Model name: assertion_dl\n",
            "Graph folder: ./tf_graphs\n",
            "Graph file name: assertion_graph.pb\n",
            "Build params: {'n_classes': 4, 'feat_size': 768, 'max_seq_len': 1200, 'n_hidden': 25}\n"
          ]
        },
        {
          "output_type": "stream",
          "name": "stderr",
          "text": [
            "WARNING:tensorflow:From /usr/local/lib/python3.7/dist-packages/tensorflow/python/compat/v2_compat.py:111: disable_resource_variables (from tensorflow.python.ops.variable_scope) is deprecated and will be removed in a future version.\n",
            "Instructions for updating:\n",
            "non-resource variables are not supported in the long term\n"
          ]
        },
        {
          "output_type": "stream",
          "name": "stdout",
          "text": [
            "Device mapping:\n",
            "/job:localhost/replica:0/task:0/device:GPU:0 -> device: 0, name: Tesla T4, pci bus id: 0000:00:04.0, compute capability: 7.5\n",
            "\n"
          ]
        },
        {
          "output_type": "stream",
          "name": "stderr",
          "text": [
            "WARNING:tensorflow:From /usr/local/lib/python3.7/dist-packages/sparknlp_jsl/_tf_graph_builders/tf2contrib/rnn.py:239: bidirectional_dynamic_rnn (from tensorflow.python.ops.rnn) is deprecated and will be removed in a future version.\n",
            "Instructions for updating:\n",
            "Please use `keras.layers.Bidirectional(keras.layers.RNN(cell))`, which is equivalent to this API\n",
            "WARNING:tensorflow:From /usr/local/lib/python3.7/dist-packages/tensorflow/python/ops/rnn.py:450: dynamic_rnn (from tensorflow.python.ops.rnn) is deprecated and will be removed in a future version.\n",
            "Instructions for updating:\n",
            "Please use `keras.layers.RNN(cell)`, which is equivalent to this API\n",
            "WARNING:tensorflow:From /usr/local/lib/python3.7/dist-packages/tensorflow/python/keras/layers/legacy_rnn/rnn_cell_impl.py:766: calling Zeros.__init__ (from tensorflow.python.ops.init_ops) with dtype is deprecated and will be removed in a future version.\n",
            "Instructions for updating:\n",
            "Call initializer instance with the dtype argument instead of passing it to the constructor\n"
          ]
        },
        {
          "output_type": "stream",
          "name": "stdout",
          "text": [
            "Device mapping:\n",
            "/job:localhost/replica:0/task:0/device:GPU:0 -> device: 0, name: Tesla T4, pci bus id: 0000:00:04.0, compute capability: 7.5\n",
            "\n",
            "assertion_dl graph exported to ./tf_graphs/assertion_graph.pb\n",
            "CPU times: user 13.5 s, sys: 1.57 s, total: 15 s\n",
            "Wall time: 18min 26s\n"
          ]
        }
      ]
    },
    {
      "cell_type": "code",
      "source": [],
      "metadata": {
        "id": "cZf7ooHx_7ro"
      },
      "id": "cZf7ooHx_7ro",
      "execution_count": null,
      "outputs": []
    },
    {
      "cell_type": "markdown",
      "metadata": {
        "id": "30SmcTiSpnWa"
      },
      "source": [
        "Checking the results saved in the log file"
      ],
      "id": "30SmcTiSpnWa"
    },
    {
      "cell_type": "code",
      "execution_count": null,
      "metadata": {
        "colab": {
          "base_uri": "https://localhost:8080/"
        },
        "id": "kOiu1vuspKut",
        "outputId": "b70db166-c6e6-46b7-c377-f9979e29b97b"
      },
      "outputs": [
        {
          "output_type": "execute_result",
          "data": {
            "text/plain": [
              "['AssertionDLApproach_e8cd7fb0378e.log']"
            ]
          },
          "metadata": {},
          "execution_count": 32
        }
      ],
      "source": [
        "import os\n",
        "\n",
        "log_files = os.listdir(\"/content/training_logs\")\n",
        "log_files"
      ],
      "id": "kOiu1vuspKut"
    },
    {
      "cell_type": "code",
      "execution_count": null,
      "metadata": {
        "colab": {
          "base_uri": "https://localhost:8080/"
        },
        "id": "CcQV0-fIrJHz",
        "outputId": "c907f9bf-7a04-4635-b8f0-6b15de48afef"
      },
      "outputs": [
        {
          "output_type": "stream",
          "name": "stdout",
          "text": [
            "Name of the selected graph: ./tf_graphs/assertion_graph.pb\n",
            "Training started, trainExamples: 8050\n",
            "\n",
            "\n",
            "Epoch: 0 started, learning rate: 0.001, dataset size: 8050\n",
            "Done, 494.821643681 total training loss: 49.79505, avg training loss: 0.79039764, batches: 63\n",
            "Quality on test dataset: \n",
            "time to finish evaluation: 41.38s\n",
            "Total test loss: 1.7628\tAvg test loss: 0.2518\n",
            "label\t tp\t fp\t fn\t prec\t rec\t f1\n",
            "PRESENT\t 226\t 39\t 15\t 0.8528302\t 0.93775934\t 0.89328057\n",
            "POSSIBLE\t 173\t 18\t 15\t 0.90575916\t 0.92021275\t 0.9129288\n",
            "FUTURE\t 105\t 5\t 15\t 0.95454544\t 0.875\t 0.91304344\n",
            "PAST\t 218\t 18\t 35\t 0.9237288\t 0.86166006\t 0.8916155\n",
            "tp: 722 fp: 80 fn: 80 labels: 4\n",
            "Macro-average\t prec: 0.9092159, rec: 0.89865804, f1: 0.9039061\n",
            "Micro-average\t prec: 0.90024936, rec: 0.90024936, f1: 0.9002493\n",
            "\n",
            "\n",
            "Epoch: 1 started, learning rate: 9.5E-4, dataset size: 8050\n",
            "Done, 486.142873849 total training loss: 15.336851, avg training loss: 0.24344209, batches: 63\n",
            "Quality on test dataset: \n",
            "time to finish evaluation: 42.45s\n",
            "Total test loss: 1.1019\tAvg test loss: 0.1574\n",
            "label\t tp\t fp\t fn\t prec\t rec\t f1\n",
            "PRESENT\t 225\t 9\t 16\t 0.96153843\t 0.93360996\t 0.9473684\n",
            "POSSIBLE\t 177\t 5\t 11\t 0.97252744\t 0.94148934\t 0.9567568\n",
            "FUTURE\t 114\t 4\t 6\t 0.9661017\t 0.95\t 0.9579832\n",
            "PAST\t 248\t 20\t 5\t 0.92537314\t 0.9802371\t 0.95201534\n",
            "tp: 764 fp: 38 fn: 38 labels: 4\n",
            "Macro-average\t prec: 0.95638514, rec: 0.9513341, f1: 0.95385295\n",
            "Micro-average\t prec: 0.9526185, rec: 0.9526185, f1: 0.9526185\n",
            "\n",
            "\n",
            "\n"
          ]
        }
      ],
      "source": [
        "with open(\"/content/training_logs/\"+log_files[0]) as log_file:\n",
        "    print(log_file.read())"
      ],
      "id": "CcQV0-fIrJHz"
    },
    {
      "cell_type": "code",
      "source": [
        "assertion_test_data = spark.read.parquet('test_data.parquet')"
      ],
      "metadata": {
        "id": "bgcG00nT91nn"
      },
      "id": "bgcG00nT91nn",
      "execution_count": null,
      "outputs": []
    },
    {
      "cell_type": "code",
      "execution_count": null,
      "metadata": {
        "colab": {
          "base_uri": "https://localhost:8080/"
        },
        "id": "-k2WrFkRyQyP",
        "outputId": "17615b3b-4d6f-43ab-eedb-02614b2bd553"
      },
      "outputs": [
        {
          "output_type": "stream",
          "name": "stdout",
          "text": [
            "+---------------+---------+\n",
            "|assertion_label|   result|\n",
            "+---------------+---------+\n",
            "|           PAST|   [PAST]|\n",
            "|           PAST|   [PAST]|\n",
            "|           PAST|   [PAST]|\n",
            "|        PRESENT|[PRESENT]|\n",
            "|           PAST|   [PAST]|\n",
            "|        PRESENT|[PRESENT]|\n",
            "|           PAST|   [PAST]|\n",
            "|           PAST|   [PAST]|\n",
            "|           PAST|   [PAST]|\n",
            "|           PAST|   [PAST]|\n",
            "|           PAST|   [PAST]|\n",
            "|           PAST|   [PAST]|\n",
            "|           PAST|   [PAST]|\n",
            "|           PAST|   [PAST]|\n",
            "|           PAST|   [PAST]|\n",
            "|        PRESENT|[PRESENT]|\n",
            "|        PRESENT|[PRESENT]|\n",
            "|        PRESENT|   [PAST]|\n",
            "|           PAST|   [PAST]|\n",
            "|           PAST|   [PAST]|\n",
            "+---------------+---------+\n",
            "only showing top 20 rows\n",
            "\n"
          ]
        }
      ],
      "source": [
        "preds = assertion_model.transform(assertion_test_data).select('assertion_label','assertion.result')\n",
        "\n",
        "preds.show()"
      ],
      "id": "-k2WrFkRyQyP"
    },
    {
      "cell_type": "code",
      "execution_count": null,
      "metadata": {
        "id": "4yI73lwG2xk5"
      },
      "outputs": [],
      "source": [
        "preds_df = preds.toPandas()"
      ],
      "id": "4yI73lwG2xk5"
    },
    {
      "cell_type": "code",
      "execution_count": null,
      "metadata": {
        "colab": {
          "base_uri": "https://localhost:8080/",
          "height": 424
        },
        "id": "yRXZFGlQ3Z2U",
        "outputId": "8baba4a3-bb0b-4372-86e6-54949585c44f"
      },
      "outputs": [
        {
          "output_type": "execute_result",
          "data": {
            "text/plain": [
              "    assertion_label   result\n",
              "0              PAST     PAST\n",
              "1              PAST     PAST\n",
              "2              PAST     PAST\n",
              "3           PRESENT  PRESENT\n",
              "4              PAST     PAST\n",
              "..              ...      ...\n",
              "797         PRESENT  PRESENT\n",
              "798         PRESENT  PRESENT\n",
              "799         PRESENT  PRESENT\n",
              "800         PRESENT  PRESENT\n",
              "801         PRESENT  PRESENT\n",
              "\n",
              "[799 rows x 2 columns]"
            ],
            "text/html": [
              "\n",
              "  <div id=\"df-300ea4a9-3136-425e-bde9-271a781b87ad\">\n",
              "    <div class=\"colab-df-container\">\n",
              "      <div>\n",
              "<style scoped>\n",
              "    .dataframe tbody tr th:only-of-type {\n",
              "        vertical-align: middle;\n",
              "    }\n",
              "\n",
              "    .dataframe tbody tr th {\n",
              "        vertical-align: top;\n",
              "    }\n",
              "\n",
              "    .dataframe thead th {\n",
              "        text-align: right;\n",
              "    }\n",
              "</style>\n",
              "<table border=\"1\" class=\"dataframe\">\n",
              "  <thead>\n",
              "    <tr style=\"text-align: right;\">\n",
              "      <th></th>\n",
              "      <th>assertion_label</th>\n",
              "      <th>result</th>\n",
              "    </tr>\n",
              "  </thead>\n",
              "  <tbody>\n",
              "    <tr>\n",
              "      <th>0</th>\n",
              "      <td>PAST</td>\n",
              "      <td>PAST</td>\n",
              "    </tr>\n",
              "    <tr>\n",
              "      <th>1</th>\n",
              "      <td>PAST</td>\n",
              "      <td>PAST</td>\n",
              "    </tr>\n",
              "    <tr>\n",
              "      <th>2</th>\n",
              "      <td>PAST</td>\n",
              "      <td>PAST</td>\n",
              "    </tr>\n",
              "    <tr>\n",
              "      <th>3</th>\n",
              "      <td>PRESENT</td>\n",
              "      <td>PRESENT</td>\n",
              "    </tr>\n",
              "    <tr>\n",
              "      <th>4</th>\n",
              "      <td>PAST</td>\n",
              "      <td>PAST</td>\n",
              "    </tr>\n",
              "    <tr>\n",
              "      <th>...</th>\n",
              "      <td>...</td>\n",
              "      <td>...</td>\n",
              "    </tr>\n",
              "    <tr>\n",
              "      <th>797</th>\n",
              "      <td>PRESENT</td>\n",
              "      <td>PRESENT</td>\n",
              "    </tr>\n",
              "    <tr>\n",
              "      <th>798</th>\n",
              "      <td>PRESENT</td>\n",
              "      <td>PRESENT</td>\n",
              "    </tr>\n",
              "    <tr>\n",
              "      <th>799</th>\n",
              "      <td>PRESENT</td>\n",
              "      <td>PRESENT</td>\n",
              "    </tr>\n",
              "    <tr>\n",
              "      <th>800</th>\n",
              "      <td>PRESENT</td>\n",
              "      <td>PRESENT</td>\n",
              "    </tr>\n",
              "    <tr>\n",
              "      <th>801</th>\n",
              "      <td>PRESENT</td>\n",
              "      <td>PRESENT</td>\n",
              "    </tr>\n",
              "  </tbody>\n",
              "</table>\n",
              "<p>799 rows × 2 columns</p>\n",
              "</div>\n",
              "      <button class=\"colab-df-convert\" onclick=\"convertToInteractive('df-300ea4a9-3136-425e-bde9-271a781b87ad')\"\n",
              "              title=\"Convert this dataframe to an interactive table.\"\n",
              "              style=\"display:none;\">\n",
              "        \n",
              "  <svg xmlns=\"http://www.w3.org/2000/svg\" height=\"24px\"viewBox=\"0 0 24 24\"\n",
              "       width=\"24px\">\n",
              "    <path d=\"M0 0h24v24H0V0z\" fill=\"none\"/>\n",
              "    <path d=\"M18.56 5.44l.94 2.06.94-2.06 2.06-.94-2.06-.94-.94-2.06-.94 2.06-2.06.94zm-11 1L8.5 8.5l.94-2.06 2.06-.94-2.06-.94L8.5 2.5l-.94 2.06-2.06.94zm10 10l.94 2.06.94-2.06 2.06-.94-2.06-.94-.94-2.06-.94 2.06-2.06.94z\"/><path d=\"M17.41 7.96l-1.37-1.37c-.4-.4-.92-.59-1.43-.59-.52 0-1.04.2-1.43.59L10.3 9.45l-7.72 7.72c-.78.78-.78 2.05 0 2.83L4 21.41c.39.39.9.59 1.41.59.51 0 1.02-.2 1.41-.59l7.78-7.78 2.81-2.81c.8-.78.8-2.07 0-2.86zM5.41 20L4 18.59l7.72-7.72 1.47 1.35L5.41 20z\"/>\n",
              "  </svg>\n",
              "      </button>\n",
              "      \n",
              "  <style>\n",
              "    .colab-df-container {\n",
              "      display:flex;\n",
              "      flex-wrap:wrap;\n",
              "      gap: 12px;\n",
              "    }\n",
              "\n",
              "    .colab-df-convert {\n",
              "      background-color: #E8F0FE;\n",
              "      border: none;\n",
              "      border-radius: 50%;\n",
              "      cursor: pointer;\n",
              "      display: none;\n",
              "      fill: #1967D2;\n",
              "      height: 32px;\n",
              "      padding: 0 0 0 0;\n",
              "      width: 32px;\n",
              "    }\n",
              "\n",
              "    .colab-df-convert:hover {\n",
              "      background-color: #E2EBFA;\n",
              "      box-shadow: 0px 1px 2px rgba(60, 64, 67, 0.3), 0px 1px 3px 1px rgba(60, 64, 67, 0.15);\n",
              "      fill: #174EA6;\n",
              "    }\n",
              "\n",
              "    [theme=dark] .colab-df-convert {\n",
              "      background-color: #3B4455;\n",
              "      fill: #D2E3FC;\n",
              "    }\n",
              "\n",
              "    [theme=dark] .colab-df-convert:hover {\n",
              "      background-color: #434B5C;\n",
              "      box-shadow: 0px 1px 3px 1px rgba(0, 0, 0, 0.15);\n",
              "      filter: drop-shadow(0px 1px 2px rgba(0, 0, 0, 0.3));\n",
              "      fill: #FFFFFF;\n",
              "    }\n",
              "  </style>\n",
              "\n",
              "      <script>\n",
              "        const buttonEl =\n",
              "          document.querySelector('#df-300ea4a9-3136-425e-bde9-271a781b87ad button.colab-df-convert');\n",
              "        buttonEl.style.display =\n",
              "          google.colab.kernel.accessAllowed ? 'block' : 'none';\n",
              "\n",
              "        async function convertToInteractive(key) {\n",
              "          const element = document.querySelector('#df-300ea4a9-3136-425e-bde9-271a781b87ad');\n",
              "          const dataTable =\n",
              "            await google.colab.kernel.invokeFunction('convertToInteractive',\n",
              "                                                     [key], {});\n",
              "          if (!dataTable) return;\n",
              "\n",
              "          const docLinkHtml = 'Like what you see? Visit the ' +\n",
              "            '<a target=\"_blank\" href=https://colab.research.google.com/notebooks/data_table.ipynb>data table notebook</a>'\n",
              "            + ' to learn more about interactive tables.';\n",
              "          element.innerHTML = '';\n",
              "          dataTable['output_type'] = 'display_data';\n",
              "          await google.colab.output.renderOutput(dataTable, element);\n",
              "          const docLink = document.createElement('div');\n",
              "          docLink.innerHTML = docLinkHtml;\n",
              "          element.appendChild(docLink);\n",
              "        }\n",
              "      </script>\n",
              "    </div>\n",
              "  </div>\n",
              "  "
            ]
          },
          "metadata": {},
          "execution_count": 37
        }
      ],
      "source": [
        "preds_df[\"result\"] = preds_df[\"result\"].apply(lambda x: x[0] if len(x) else pd.NA)\n",
        "preds_df.dropna(inplace=True)\n",
        "\n",
        "preds_df"
      ],
      "id": "yRXZFGlQ3Z2U"
    },
    {
      "cell_type": "code",
      "source": [
        "# We are going to use sklearn to evalute the results on test dataset\n",
        "from sklearn.metrics import classification_report\n",
        "\n",
        "print (classification_report( preds_df['assertion_label'], preds_df['result']))"
      ],
      "metadata": {
        "colab": {
          "base_uri": "https://localhost:8080/"
        },
        "id": "1hb1kyGAE0Gn",
        "outputId": "ac92ca2e-65c1-4b67-ffd6-3b03b60b0ba2"
      },
      "execution_count": null,
      "outputs": [
        {
          "output_type": "stream",
          "name": "stdout",
          "text": [
            "              precision    recall  f1-score   support\n",
            "\n",
            "      FUTURE       0.97      0.95      0.96       120\n",
            "        PAST       0.92      0.98      0.95       250\n",
            "    POSSIBLE       0.97      0.94      0.96       188\n",
            "     PRESENT       0.96      0.93      0.95       241\n",
            "\n",
            "    accuracy                           0.95       799\n",
            "   macro avg       0.96      0.95      0.95       799\n",
            "weighted avg       0.95      0.95      0.95       799\n",
            "\n"
          ]
        }
      ],
      "id": "1hb1kyGAE0Gn"
    },
    {
      "cell_type": "markdown",
      "metadata": {
        "id": "WuJ5YZ9sXU13"
      },
      "source": [
        "### Saving the trained model"
      ],
      "id": "WuJ5YZ9sXU13"
    },
    {
      "cell_type": "code",
      "execution_count": null,
      "metadata": {
        "id": "KBcoOwvwXV8p"
      },
      "outputs": [],
      "source": [
        "assertion_model.stages"
      ],
      "id": "KBcoOwvwXV8p"
    },
    {
      "cell_type": "code",
      "source": [
        "# Save a Spark NLP model\n",
        "assertion_model.stages[-1].write().overwrite().save('Assertion')\n",
        "\n",
        "# cd into saved dir and zip\n",
        "! cd /content/Assertion ; zip -r /content/Assertion.zip *"
      ],
      "metadata": {
        "colab": {
          "base_uri": "https://localhost:8080/"
        },
        "id": "ioMW1jSrA-wg",
        "outputId": "4b1420bc-d131-4717-b72a-9b733eefb46c"
      },
      "id": "ioMW1jSrA-wg",
      "execution_count": null,
      "outputs": [
        {
          "output_type": "stream",
          "name": "stdout",
          "text": [
            "  adding: fields/ (stored 0%)\n",
            "  adding: fields/datasetParams/ (stored 0%)\n",
            "  adding: fields/datasetParams/.part-00003.crc (deflated 45%)\n",
            "  adding: fields/datasetParams/.part-00002.crc (stored 0%)\n",
            "  adding: fields/datasetParams/part-00000 (deflated 26%)\n",
            "  adding: fields/datasetParams/.part-00000.crc (stored 0%)\n",
            "  adding: fields/datasetParams/part-00002 (deflated 27%)\n",
            "  adding: fields/datasetParams/._SUCCESS.crc (stored 0%)\n",
            "  adding: fields/datasetParams/part-00003 (deflated 95%)\n",
            "  adding: fields/datasetParams/part-00001 (deflated 27%)\n",
            "  adding: fields/datasetParams/.part-00001.crc (stored 0%)\n",
            "  adding: fields/datasetParams/_SUCCESS (stored 0%)\n",
            "  adding: metadata/ (stored 0%)\n",
            "  adding: metadata/part-00000 (deflated 40%)\n",
            "  adding: metadata/.part-00000.crc (stored 0%)\n",
            "  adding: metadata/._SUCCESS.crc (stored 0%)\n",
            "  adding: metadata/_SUCCESS (stored 0%)\n",
            "  adding: tensorflow (deflated 40%)\n"
          ]
        }
      ]
    },
    {
      "cell_type": "code",
      "source": [],
      "metadata": {
        "id": "gdvS1768P71J"
      },
      "id": "gdvS1768P71J",
      "execution_count": null,
      "outputs": []
    }
  ],
  "metadata": {
    "accelerator": "GPU",
    "colab": {
      "collapsed_sections": [
        "PcsTZJmZu7CQ"
      ],
      "machine_shape": "hm",
      "provenance": []
    },
    "kernelspec": {
      "display_name": "finleg_jar",
      "language": "python",
      "name": "finleg_jar"
    },
    "language_info": {
      "codemirror_mode": {
        "name": "ipython",
        "version": 3
      },
      "file_extension": ".py",
      "mimetype": "text/x-python",
      "name": "python",
      "nbconvert_exporter": "python",
      "pygments_lexer": "ipython3",
      "version": "3.8.13"
    },
    "gpuClass": "standard"
  },
  "nbformat": 4,
  "nbformat_minor": 5
}