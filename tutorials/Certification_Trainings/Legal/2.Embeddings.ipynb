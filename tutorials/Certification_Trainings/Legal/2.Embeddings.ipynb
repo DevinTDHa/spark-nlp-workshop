{
  "cells": [
    {
      "cell_type": "markdown",
      "id": "18e18220",
      "metadata": {},
      "source": [
        "# Legal Word and Sentence Embeddings"
      ]
    },
    {
      "cell_type": "markdown",
      "id": "KyBA2DOGetGo",
      "metadata": {
        "id": "KyBA2DOGetGo"
      },
      "source": [
        "![JohnSnowLabs](https://nlp.johnsnowlabs.com/assets/images/logo.png)"
      ]
    },
    {
      "cell_type": "markdown",
      "id": "fGThHEbPetzq",
      "metadata": {
        "id": "fGThHEbPetzq"
      },
      "source": [
        "[![Open In Colab](https://colab.research.google.com/assets/colab-badge.svg)](https://colab.research.google.com/github/JohnSnowLabs/spark-nlp-workshop/blob/master/tutorials/Certification_Trainings/Legal/2.Embeddings.ipynb)"
      ]
    },
    {
      "cell_type": "markdown",
      "id": "69a14890-bc41-4765-9557-89a969c04d8f",
      "metadata": {
        "id": "69a14890-bc41-4765-9557-89a969c04d8f"
      },
      "source": [
        "# Legal Word and Sentence Embeddings visualization using PCA (Principal Component Analysis)"
      ]
    },
    {
      "cell_type": "markdown",
      "id": "5f982ae9-0570-4f90-bd30-c9d55d219e5b",
      "metadata": {
        "id": "5f982ae9-0570-4f90-bd30-c9d55d219e5b"
      },
      "source": [
        "Modern NLP models work with a numerical representation of texts and their menaning. For token classification problems (inferring a class for a token, for example Name Entity Recognition) Word Embeddings are required. For sentences, paragraph, document classification - we use Sentence Embeddings.\n",
        "\n",
        "In this notebook, we use Spark NLP Legal Word (**roberta_embeddings_legal_roberta_base**) and Sentence (**sent_bert_base_uncased_legal**) Embeddings to get those numerical representations of the semantics of the texts. The result is a 768 embeddings matrix, impossible to process by the human eye.\n",
        "\n",
        "There are many techniques we can use to visualize those embeddings. We are using one of them - Principal Component Analysis, a dimensionality reduction process, carried out by Spark MLLib. Both embeddings have 768 dimensions, so we will reduced this dimensions from **768** to **3** (X, Y, Z) and will use a color for the word / sentence legend."
      ]
    },
    {
      "cell_type": "markdown",
      "id": "d07e14ba-b319-4d4a-b38d-5ed93debc5e6",
      "metadata": {
        "id": "d07e14ba-b319-4d4a-b38d-5ed93debc5e6"
      },
      "source": [
        "## Import Required Library"
      ]
    },
    {
      "cell_type": "code",
      "execution_count": null,
      "id": "80fb4682-4f77-40aa-98de-cf407b19e351",
      "metadata": {
        "id": "80fb4682-4f77-40aa-98de-cf407b19e351"
      },
      "outputs": [],
      "source": [
        "# Installing plotly\n",
        "! pip install plotly\n",
        "\n",
        "# Installing pyspark and spark-nlp\n",
        "! pip install --upgrade -q pyspark==3.1.2 spark-nlp==4.0.0\n"
      ]
    },
    {
      "cell_type": "markdown",
      "id": "30e98304-98ef-4de6-9a54-58c255ea0458",
      "metadata": {
        "id": "30e98304-98ef-4de6-9a54-58c255ea0458"
      },
      "source": [
        "## Start Spark Session"
      ]
    },
    {
      "cell_type": "code",
      "execution_count": null,
      "id": "1d5baade-3c39-49e5-a47c-0a2a9d3eae54",
      "metadata": {
        "colab": {
          "base_uri": "https://localhost:8080/",
          "height": 240
        },
        "id": "1d5baade-3c39-49e5-a47c-0a2a9d3eae54",
        "outputId": "5669e2bc-fdee-41e0-dee9-c373783eb881",
        "tags": []
      },
      "outputs": [
        {
          "name": "stdout",
          "output_type": "stream",
          "text": [
            "Spark NLP Version : 4.0.0\n"
          ]
        },
        {
          "data": {
            "text/html": [
              "\n",
              "            <div>\n",
              "                <p><b>SparkSession - in-memory</b></p>\n",
              "                \n",
              "        <div>\n",
              "            <p><b>SparkContext</b></p>\n",
              "\n",
              "            <p><a href=\"http://ee54ebf519bd:4040\">Spark UI</a></p>\n",
              "\n",
              "            <dl>\n",
              "              <dt>Version</dt>\n",
              "                <dd><code>v3.1.2</code></dd>\n",
              "              <dt>Master</dt>\n",
              "                <dd><code>local[*]</code></dd>\n",
              "              <dt>AppName</dt>\n",
              "                <dd><code>Spark NLP</code></dd>\n",
              "            </dl>\n",
              "        </div>\n",
              "        \n",
              "            </div>\n",
              "        "
            ],
            "text/plain": [
              "<pyspark.sql.session.SparkSession at 0x7ff81f943610>"
            ]
          },
          "execution_count": 2,
          "metadata": {},
          "output_type": "execute_result"
        }
      ],
      "source": [
        "import json\n",
        "from sparknlp.annotator import *\n",
        "from sparknlp.base import *\n",
        "import sparknlp\n",
        "\n",
        "import pyspark\n",
        "from pyspark.sql import SparkSession\n",
        "from pyspark.ml import PipelineModel\n",
        "from pyspark.sql import functions as F\n",
        "\n",
        "from pyspark import keyword_only\n",
        "from pyspark.ml import Pipeline\n",
        "from pyspark.ml import Transformer\n",
        "from pyspark.ml.feature import PCA\n",
        "from pyspark.ml.functions import vector_to_array\n",
        "from pyspark.ml.linalg import Vectors, VectorUDT\n",
        "from pyspark.ml.param.shared import HasInputCol, HasOutputCol\n",
        "from pyspark.ml.util import DefaultParamsReadable, DefaultParamsWritable\n",
        "from pyspark.sql import DataFrame\n",
        "from pyspark.sql import Window\n",
        "from pyspark.sql import types as T\n",
        "\n",
        "import pandas as pd\n",
        "import warnings\n",
        "warnings.filterwarnings('ignore')\n",
        "\n",
        "print (\"Spark NLP Version :\", sparknlp.version())\n",
        "\n",
        "spark = sparknlp.start()\n",
        "\n",
        "spark"
      ]
    },
    {
      "cell_type": "markdown",
      "id": "4b7c011d-eac8-4eda-b272-027bab6a8895",
      "metadata": {
        "id": "4b7c011d-eac8-4eda-b272-027bab6a8895"
      },
      "source": [
        "# Get sample text"
      ]
    },
    {
      "cell_type": "code",
      "execution_count": null,
      "id": "_flo8uccfKfh",
      "metadata": {
        "id": "_flo8uccfKfh"
      },
      "outputs": [],
      "source": [
        "# Downloading sample datasets.\n",
        "! wget -q https://raw.githubusercontent.com/JohnSnowLabs/spark-nlp-workshop/master/tutorials/Certification_Trainings/Legal/data/legal_pca_samples.csv"
      ]
    },
    {
      "cell_type": "code",
      "execution_count": null,
      "id": "1b29ed0e-a708-441f-91b4-ab2905304581",
      "metadata": {
        "colab": {
          "base_uri": "https://localhost:8080/",
          "height": 206
        },
        "id": "1b29ed0e-a708-441f-91b4-ab2905304581",
        "outputId": "ff631ac0-5750-4af5-c867-5b764b544492",
        "tags": []
      },
      "outputs": [
        {
          "data": {
            "text/html": [
              "\n",
              "  <div id=\"df-beba6bc3-53b3-44bf-84a4-8ef127ee98af\">\n",
              "    <div class=\"colab-df-container\">\n",
              "      <div>\n",
              "<style scoped>\n",
              "    .dataframe tbody tr th:only-of-type {\n",
              "        vertical-align: middle;\n",
              "    }\n",
              "\n",
              "    .dataframe tbody tr th {\n",
              "        vertical-align: top;\n",
              "    }\n",
              "\n",
              "    .dataframe thead th {\n",
              "        text-align: right;\n",
              "    }\n",
              "</style>\n",
              "<table border=\"1\" class=\"dataframe\">\n",
              "  <thead>\n",
              "    <tr style=\"text-align: right;\">\n",
              "      <th></th>\n",
              "      <th>text</th>\n",
              "      <th>label</th>\n",
              "    </tr>\n",
              "  </thead>\n",
              "  <tbody>\n",
              "    <tr>\n",
              "      <th>0</th>\n",
              "      <td>The fiscal year of the Company (herein called ...</td>\n",
              "      <td>fiscal-year</td>\n",
              "    </tr>\n",
              "    <tr>\n",
              "      <th>1</th>\n",
              "      <td>Each of the Borrower and each other member of ...</td>\n",
              "      <td>fiscal-year</td>\n",
              "    </tr>\n",
              "    <tr>\n",
              "      <th>2</th>\n",
              "      <td>Purchaser shall pay as the total Purchase Pric...</td>\n",
              "      <td>purchase-price</td>\n",
              "    </tr>\n",
              "    <tr>\n",
              "      <th>3</th>\n",
              "      <td>The purchase price to be paid by Purchaser to ...</td>\n",
              "      <td>purchase-price</td>\n",
              "    </tr>\n",
              "    <tr>\n",
              "      <th>4</th>\n",
              "      <td>The Guarantor hereby unconditionally and irrev...</td>\n",
              "      <td>guarantee</td>\n",
              "    </tr>\n",
              "  </tbody>\n",
              "</table>\n",
              "</div>\n",
              "      <button class=\"colab-df-convert\" onclick=\"convertToInteractive('df-beba6bc3-53b3-44bf-84a4-8ef127ee98af')\"\n",
              "              title=\"Convert this dataframe to an interactive table.\"\n",
              "              style=\"display:none;\">\n",
              "        \n",
              "  <svg xmlns=\"http://www.w3.org/2000/svg\" height=\"24px\"viewBox=\"0 0 24 24\"\n",
              "       width=\"24px\">\n",
              "    <path d=\"M0 0h24v24H0V0z\" fill=\"none\"/>\n",
              "    <path d=\"M18.56 5.44l.94 2.06.94-2.06 2.06-.94-2.06-.94-.94-2.06-.94 2.06-2.06.94zm-11 1L8.5 8.5l.94-2.06 2.06-.94-2.06-.94L8.5 2.5l-.94 2.06-2.06.94zm10 10l.94 2.06.94-2.06 2.06-.94-2.06-.94-.94-2.06-.94 2.06-2.06.94z\"/><path d=\"M17.41 7.96l-1.37-1.37c-.4-.4-.92-.59-1.43-.59-.52 0-1.04.2-1.43.59L10.3 9.45l-7.72 7.72c-.78.78-.78 2.05 0 2.83L4 21.41c.39.39.9.59 1.41.59.51 0 1.02-.2 1.41-.59l7.78-7.78 2.81-2.81c.8-.78.8-2.07 0-2.86zM5.41 20L4 18.59l7.72-7.72 1.47 1.35L5.41 20z\"/>\n",
              "  </svg>\n",
              "      </button>\n",
              "      \n",
              "  <style>\n",
              "    .colab-df-container {\n",
              "      display:flex;\n",
              "      flex-wrap:wrap;\n",
              "      gap: 12px;\n",
              "    }\n",
              "\n",
              "    .colab-df-convert {\n",
              "      background-color: #E8F0FE;\n",
              "      border: none;\n",
              "      border-radius: 50%;\n",
              "      cursor: pointer;\n",
              "      display: none;\n",
              "      fill: #1967D2;\n",
              "      height: 32px;\n",
              "      padding: 0 0 0 0;\n",
              "      width: 32px;\n",
              "    }\n",
              "\n",
              "    .colab-df-convert:hover {\n",
              "      background-color: #E2EBFA;\n",
              "      box-shadow: 0px 1px 2px rgba(60, 64, 67, 0.3), 0px 1px 3px 1px rgba(60, 64, 67, 0.15);\n",
              "      fill: #174EA6;\n",
              "    }\n",
              "\n",
              "    [theme=dark] .colab-df-convert {\n",
              "      background-color: #3B4455;\n",
              "      fill: #D2E3FC;\n",
              "    }\n",
              "\n",
              "    [theme=dark] .colab-df-convert:hover {\n",
              "      background-color: #434B5C;\n",
              "      box-shadow: 0px 1px 3px 1px rgba(0, 0, 0, 0.15);\n",
              "      filter: drop-shadow(0px 1px 2px rgba(0, 0, 0, 0.3));\n",
              "      fill: #FFFFFF;\n",
              "    }\n",
              "  </style>\n",
              "\n",
              "      <script>\n",
              "        const buttonEl =\n",
              "          document.querySelector('#df-beba6bc3-53b3-44bf-84a4-8ef127ee98af button.colab-df-convert');\n",
              "        buttonEl.style.display =\n",
              "          google.colab.kernel.accessAllowed ? 'block' : 'none';\n",
              "\n",
              "        async function convertToInteractive(key) {\n",
              "          const element = document.querySelector('#df-beba6bc3-53b3-44bf-84a4-8ef127ee98af');\n",
              "          const dataTable =\n",
              "            await google.colab.kernel.invokeFunction('convertToInteractive',\n",
              "                                                     [key], {});\n",
              "          if (!dataTable) return;\n",
              "\n",
              "          const docLinkHtml = 'Like what you see? Visit the ' +\n",
              "            '<a target=\"_blank\" href=https://colab.research.google.com/notebooks/data_table.ipynb>data table notebook</a>'\n",
              "            + ' to learn more about interactive tables.';\n",
              "          element.innerHTML = '';\n",
              "          dataTable['output_type'] = 'display_data';\n",
              "          await google.colab.output.renderOutput(dataTable, element);\n",
              "          const docLink = document.createElement('div');\n",
              "          docLink.innerHTML = docLinkHtml;\n",
              "          element.appendChild(docLink);\n",
              "        }\n",
              "      </script>\n",
              "    </div>\n",
              "  </div>\n",
              "  "
            ],
            "text/plain": [
              "                                                text           label\n",
              "0  The fiscal year of the Company (herein called ...     fiscal-year\n",
              "1  Each of the Borrower and each other member of ...     fiscal-year\n",
              "2  Purchaser shall pay as the total Purchase Pric...  purchase-price\n",
              "3  The purchase price to be paid by Purchaser to ...  purchase-price\n",
              "4  The Guarantor hereby unconditionally and irrev...       guarantee"
            ]
          },
          "execution_count": 3,
          "metadata": {},
          "output_type": "execute_result"
        }
      ],
      "source": [
        "df = pd.read_csv('pca_samples.csv')\n",
        "\n",
        "df.head()"
      ]
    },
    {
      "cell_type": "code",
      "execution_count": null,
      "id": "3977898f-24e8-43d6-a338-80f3bf8ad2a1",
      "metadata": {
        "colab": {
          "base_uri": "https://localhost:8080/"
        },
        "id": "3977898f-24e8-43d6-a338-80f3bf8ad2a1",
        "outputId": "942d6ad6-9b8a-475c-800a-b6b26aa99737",
        "tags": []
      },
      "outputs": [
        {
          "name": "stdout",
          "output_type": "stream",
          "text": [
            "+--------------------+--------------+\n",
            "|                text|         label|\n",
            "+--------------------+--------------+\n",
            "|The fiscal year o...|   fiscal-year|\n",
            "|Each of the Borro...|   fiscal-year|\n",
            "|Purchaser shall p...|purchase-price|\n",
            "|The purchase pric...|purchase-price|\n",
            "|The Guarantor her...|     guarantee|\n",
            "|The Holding Compa...|     guarantee|\n",
            "|GFS will bear its...|      expenses|\n",
            "|Each party shall ...|      expenses|\n",
            "|Failure by either...|        waiver|\n",
            "|Failure of any pa...|        waiver|\n",
            "+--------------------+--------------+\n",
            "\n"
          ]
        }
      ],
      "source": [
        "# Create spark dataframe\n",
        "sdf = spark.createDataFrame(df)\n",
        "sdf.show()"
      ]
    },
    {
      "cell_type": "markdown",
      "id": "d751fd45-9810-4b43-b893-0d373e8d4870",
      "metadata": {
        "id": "d751fd45-9810-4b43-b893-0d373e8d4870"
      },
      "source": [
        "# Sentence Embeddings"
      ]
    },
    {
      "cell_type": "code",
      "execution_count": null,
      "id": "b990cfd8-576f-4057-a548-0434d39897bd",
      "metadata": {
        "colab": {
          "base_uri": "https://localhost:8080/"
        },
        "id": "b990cfd8-576f-4057-a548-0434d39897bd",
        "outputId": "92c8edb6-0941-4e56-ebe7-77c08851a88e",
        "tags": []
      },
      "outputs": [
        {
          "name": "stdout",
          "output_type": "stream",
          "text": [
            "sent_bert_base_uncased_legal download started this may take some time.\n",
            "Approximate size to download 390.8 MB\n",
            "[OK!]\n"
          ]
        }
      ],
      "source": [
        "document_assembler = DocumentAssembler()\\\n",
        "    .setInputCol(\"text\")\\\n",
        "    .setOutputCol(\"document\")\n",
        "\n",
        "embeddings = BertSentenceEmbeddings.pretrained(\"sent_bert_base_uncased_legal\", \"en\") \\\n",
        "    .setInputCols(\"document\") \\\n",
        "    .setOutputCol(\"document_embeddings\")"
      ]
    },
    {
      "cell_type": "markdown",
      "id": "fde3b08f-6187-43fd-8d7b-3fe6da054c18",
      "metadata": {
        "id": "fde3b08f-6187-43fd-8d7b-3fe6da054c18"
      },
      "source": [
        "# Custom transform to retrieve the numerical embeddings from Spark NLP and pass it to Spark MLLib"
      ]
    },
    {
      "cell_type": "code",
      "execution_count": null,
      "id": "30cfff3f-487b-4808-8b32-f54fc443777b",
      "metadata": {
        "id": "30cfff3f-487b-4808-8b32-f54fc443777b"
      },
      "outputs": [],
      "source": [
        "# This class extracts the embeddings from the Spark NLP Annotation object\n",
        "class EmbeddingsUDF(\n",
        "    Transformer, HasInputCol, HasOutputCol,\n",
        "    DefaultParamsReadable, DefaultParamsWritable\n",
        "):\n",
        "    @keyword_only\n",
        "    def __init__(self):\n",
        "        super(EmbeddingsUDF, self).__init__()\n",
        "\n",
        "        def _sum(r):\n",
        "            result = 0.0\n",
        "            for e in r:\n",
        "                result += e\n",
        "            return result\n",
        "\n",
        "        self.udfs = {\n",
        "            'convertToVectorUDF': F.udf(lambda vs: Vectors.dense(vs), VectorUDT()),\n",
        "            'sumUDF': F.udf(lambda r: _sum(r), T.FloatType())\n",
        "        }\n",
        "\n",
        "    def _transform(self, dataset):\n",
        "\n",
        "        results = dataset.select(\n",
        "            \"*\", F.explode(\"document_embeddings.embeddings\").alias(\"embeddings\")\n",
        "        )\n",
        "        results = results.withColumn(\n",
        "            \"features\",\n",
        "            self.udfs['convertToVectorUDF'](F.col(\"embeddings\"))\n",
        "        )\n",
        "        results = results.withColumn(\n",
        "            \"emb_sum\",\n",
        "            self.udfs['sumUDF'](F.col(\"embeddings\"))\n",
        "        )\n",
        "        # Remove those with embeddings all zeroes (so we can calculate cosine distance)\n",
        "        results = results.where(F.col(\"emb_sum\")!=0.0)\n",
        "\n",
        "        return results"
      ]
    },
    {
      "cell_type": "code",
      "execution_count": null,
      "id": "5f82e139-1cc3-423d-9d53-c0ccfec835c2",
      "metadata": {
        "id": "5f82e139-1cc3-423d-9d53-c0ccfec835c2"
      },
      "outputs": [],
      "source": [
        "embeddings_for_pca = EmbeddingsUDF()"
      ]
    },
    {
      "cell_type": "code",
      "execution_count": null,
      "id": "5213dfcf-61bc-4db2-a8c7-797a318a13f4",
      "metadata": {
        "id": "5213dfcf-61bc-4db2-a8c7-797a318a13f4"
      },
      "outputs": [],
      "source": [
        "DIMENSIONS  = 3"
      ]
    },
    {
      "cell_type": "code",
      "execution_count": null,
      "id": "285ba04a-dbe2-4f53-9aa0-fc66ba783e14",
      "metadata": {
        "id": "285ba04a-dbe2-4f53-9aa0-fc66ba783e14"
      },
      "outputs": [],
      "source": [
        "import pyspark\n",
        "pca = pyspark.ml.feature.PCA(k=DIMENSIONS, inputCol=\"features\", outputCol=\"pca_features\")"
      ]
    },
    {
      "cell_type": "markdown",
      "id": "82f95669-0f8e-491b-b6d8-33f590aa06cf",
      "metadata": {
        "id": "82f95669-0f8e-491b-b6d8-33f590aa06cf"
      },
      "source": [
        "### Full Spark NLP + Spark MLLib pipeline"
      ]
    },
    {
      "cell_type": "code",
      "execution_count": null,
      "id": "c279de78-563f-474c-8d3e-3c72243bb04b",
      "metadata": {
        "id": "c279de78-563f-474c-8d3e-3c72243bb04b"
      },
      "outputs": [],
      "source": [
        "# We did all process in one pipeline\n",
        "\n",
        "pipeline = Pipeline().setStages([document_assembler, embeddings, embeddings_for_pca, pca])"
      ]
    },
    {
      "cell_type": "code",
      "execution_count": null,
      "id": "13c3691b-ba62-446c-ac2d-7f7e869781ef",
      "metadata": {
        "colab": {
          "base_uri": "https://localhost:8080/"
        },
        "id": "13c3691b-ba62-446c-ac2d-7f7e869781ef",
        "outputId": "14f8309d-8b83-4546-c5ab-e118503e55c4"
      },
      "outputs": [
        {
          "data": {
            "text/plain": [
              "[DocumentAssembler_c3f4f011c634,\n",
              " BERT_SENTENCE_EMBEDDINGS_dae49a767331,\n",
              " EmbeddingsUDF_383d506f9bab,\n",
              " PCA_7027dead6607]"
            ]
          },
          "execution_count": 11,
          "metadata": {},
          "output_type": "execute_result"
        }
      ],
      "source": [
        "pipeline.getStages()"
      ]
    },
    {
      "cell_type": "code",
      "execution_count": null,
      "id": "0d46c615-d2b6-408a-99c3-bac0f824dcf4",
      "metadata": {
        "id": "0d46c615-d2b6-408a-99c3-bac0f824dcf4"
      },
      "outputs": [],
      "source": [
        "model = pipeline.fit(sdf)"
      ]
    },
    {
      "cell_type": "code",
      "execution_count": null,
      "id": "4d52ebe0-4257-4354-817f-5b8f2a363b8e",
      "metadata": {
        "id": "4d52ebe0-4257-4354-817f-5b8f2a363b8e"
      },
      "outputs": [],
      "source": [
        "result = model.transform(sdf)"
      ]
    },
    {
      "cell_type": "code",
      "execution_count": null,
      "id": "7b852cad-e1e7-48bc-94b0-9da7188a9727",
      "metadata": {
        "colab": {
          "base_uri": "https://localhost:8080/"
        },
        "id": "7b852cad-e1e7-48bc-94b0-9da7188a9727",
        "outputId": "8bf90ceb-3256-4ae0-aaf6-947345e33308"
      },
      "outputs": [
        {
          "name": "stdout",
          "output_type": "stream",
          "text": [
            "+------------------------------------------------------------+--------------+\n",
            "|pca_features                                                |label         |\n",
            "+------------------------------------------------------------+--------------+\n",
            "|[-11.77244716366699,-3.189947356388765,4.4911623229315785]  |fiscal-year   |\n",
            "|[-11.401110660624248,-3.7697414158197438,3.240553405264415] |fiscal-year   |\n",
            "|[-4.7833146129210355,-0.4942508065537561,2.8697833776569577]|purchase-price|\n",
            "|[-5.455980892626395,-1.3412495828462316,3.3317290563506945] |purchase-price|\n",
            "|[-8.84166062140954,-1.8203561928036376,0.13392067779165123] |guarantee     |\n",
            "|[-11.532893021254765,-2.4995736938288324,0.8141664251810958]|guarantee     |\n",
            "|[-5.731707629428153,-3.815863951248384,3.513596288588748]   |expenses      |\n",
            "|[-3.8010514486947096,-4.345370568255292,1.677434102133743]  |expenses      |\n",
            "|[-6.783526937000946,-5.815459791835026,3.2361589693958557]  |waiver        |\n",
            "|[-7.139201238503951,-6.340440847367817,1.2347492798270938]  |waiver        |\n",
            "+------------------------------------------------------------+--------------+\n",
            "\n"
          ]
        }
      ],
      "source": [
        "result.select('pca_features', 'label').show(truncate=False)"
      ]
    },
    {
      "cell_type": "code",
      "execution_count": null,
      "id": "adbf7811-b04c-4f63-88e4-10e51341ce0f",
      "metadata": {
        "colab": {
          "base_uri": "https://localhost:8080/",
          "height": 363
        },
        "id": "adbf7811-b04c-4f63-88e4-10e51341ce0f",
        "outputId": "e2721f58-d54e-4262-c916-e8e74a7a067d"
      },
      "outputs": [
        {
          "data": {
            "text/html": [
              "\n",
              "  <div id=\"df-00fbb9fe-33bb-4d26-b70d-73d23ce375de\">\n",
              "    <div class=\"colab-df-container\">\n",
              "      <div>\n",
              "<style scoped>\n",
              "    .dataframe tbody tr th:only-of-type {\n",
              "        vertical-align: middle;\n",
              "    }\n",
              "\n",
              "    .dataframe tbody tr th {\n",
              "        vertical-align: top;\n",
              "    }\n",
              "\n",
              "    .dataframe thead th {\n",
              "        text-align: right;\n",
              "    }\n",
              "</style>\n",
              "<table border=\"1\" class=\"dataframe\">\n",
              "  <thead>\n",
              "    <tr style=\"text-align: right;\">\n",
              "      <th></th>\n",
              "      <th>pca_features</th>\n",
              "      <th>label</th>\n",
              "    </tr>\n",
              "  </thead>\n",
              "  <tbody>\n",
              "    <tr>\n",
              "      <th>0</th>\n",
              "      <td>[-11.77244716366699, -3.189947356388765, 4.491...</td>\n",
              "      <td>fiscal-year</td>\n",
              "    </tr>\n",
              "    <tr>\n",
              "      <th>1</th>\n",
              "      <td>[-11.401110660624248, -3.7697414158197438, 3.2...</td>\n",
              "      <td>fiscal-year</td>\n",
              "    </tr>\n",
              "    <tr>\n",
              "      <th>2</th>\n",
              "      <td>[-4.7833146129210355, -0.4942508065537561, 2.8...</td>\n",
              "      <td>purchase-price</td>\n",
              "    </tr>\n",
              "    <tr>\n",
              "      <th>3</th>\n",
              "      <td>[-5.455980892626395, -1.3412495828462316, 3.33...</td>\n",
              "      <td>purchase-price</td>\n",
              "    </tr>\n",
              "    <tr>\n",
              "      <th>4</th>\n",
              "      <td>[-8.84166062140954, -1.8203561928036376, 0.133...</td>\n",
              "      <td>guarantee</td>\n",
              "    </tr>\n",
              "    <tr>\n",
              "      <th>5</th>\n",
              "      <td>[-11.532893021254765, -2.4995736938288324, 0.8...</td>\n",
              "      <td>guarantee</td>\n",
              "    </tr>\n",
              "    <tr>\n",
              "      <th>6</th>\n",
              "      <td>[-5.731707629428153, -3.815863951248384, 3.513...</td>\n",
              "      <td>expenses</td>\n",
              "    </tr>\n",
              "    <tr>\n",
              "      <th>7</th>\n",
              "      <td>[-3.8010514486947096, -4.345370568255292, 1.67...</td>\n",
              "      <td>expenses</td>\n",
              "    </tr>\n",
              "    <tr>\n",
              "      <th>8</th>\n",
              "      <td>[-6.783526937000946, -5.815459791835026, 3.236...</td>\n",
              "      <td>waiver</td>\n",
              "    </tr>\n",
              "    <tr>\n",
              "      <th>9</th>\n",
              "      <td>[-7.139201238503951, -6.340440847367817, 1.234...</td>\n",
              "      <td>waiver</td>\n",
              "    </tr>\n",
              "  </tbody>\n",
              "</table>\n",
              "</div>\n",
              "      <button class=\"colab-df-convert\" onclick=\"convertToInteractive('df-00fbb9fe-33bb-4d26-b70d-73d23ce375de')\"\n",
              "              title=\"Convert this dataframe to an interactive table.\"\n",
              "              style=\"display:none;\">\n",
              "        \n",
              "  <svg xmlns=\"http://www.w3.org/2000/svg\" height=\"24px\"viewBox=\"0 0 24 24\"\n",
              "       width=\"24px\">\n",
              "    <path d=\"M0 0h24v24H0V0z\" fill=\"none\"/>\n",
              "    <path d=\"M18.56 5.44l.94 2.06.94-2.06 2.06-.94-2.06-.94-.94-2.06-.94 2.06-2.06.94zm-11 1L8.5 8.5l.94-2.06 2.06-.94-2.06-.94L8.5 2.5l-.94 2.06-2.06.94zm10 10l.94 2.06.94-2.06 2.06-.94-2.06-.94-.94-2.06-.94 2.06-2.06.94z\"/><path d=\"M17.41 7.96l-1.37-1.37c-.4-.4-.92-.59-1.43-.59-.52 0-1.04.2-1.43.59L10.3 9.45l-7.72 7.72c-.78.78-.78 2.05 0 2.83L4 21.41c.39.39.9.59 1.41.59.51 0 1.02-.2 1.41-.59l7.78-7.78 2.81-2.81c.8-.78.8-2.07 0-2.86zM5.41 20L4 18.59l7.72-7.72 1.47 1.35L5.41 20z\"/>\n",
              "  </svg>\n",
              "      </button>\n",
              "      \n",
              "  <style>\n",
              "    .colab-df-container {\n",
              "      display:flex;\n",
              "      flex-wrap:wrap;\n",
              "      gap: 12px;\n",
              "    }\n",
              "\n",
              "    .colab-df-convert {\n",
              "      background-color: #E8F0FE;\n",
              "      border: none;\n",
              "      border-radius: 50%;\n",
              "      cursor: pointer;\n",
              "      display: none;\n",
              "      fill: #1967D2;\n",
              "      height: 32px;\n",
              "      padding: 0 0 0 0;\n",
              "      width: 32px;\n",
              "    }\n",
              "\n",
              "    .colab-df-convert:hover {\n",
              "      background-color: #E2EBFA;\n",
              "      box-shadow: 0px 1px 2px rgba(60, 64, 67, 0.3), 0px 1px 3px 1px rgba(60, 64, 67, 0.15);\n",
              "      fill: #174EA6;\n",
              "    }\n",
              "\n",
              "    [theme=dark] .colab-df-convert {\n",
              "      background-color: #3B4455;\n",
              "      fill: #D2E3FC;\n",
              "    }\n",
              "\n",
              "    [theme=dark] .colab-df-convert:hover {\n",
              "      background-color: #434B5C;\n",
              "      box-shadow: 0px 1px 3px 1px rgba(0, 0, 0, 0.15);\n",
              "      filter: drop-shadow(0px 1px 2px rgba(0, 0, 0, 0.3));\n",
              "      fill: #FFFFFF;\n",
              "    }\n",
              "  </style>\n",
              "\n",
              "      <script>\n",
              "        const buttonEl =\n",
              "          document.querySelector('#df-00fbb9fe-33bb-4d26-b70d-73d23ce375de button.colab-df-convert');\n",
              "        buttonEl.style.display =\n",
              "          google.colab.kernel.accessAllowed ? 'block' : 'none';\n",
              "\n",
              "        async function convertToInteractive(key) {\n",
              "          const element = document.querySelector('#df-00fbb9fe-33bb-4d26-b70d-73d23ce375de');\n",
              "          const dataTable =\n",
              "            await google.colab.kernel.invokeFunction('convertToInteractive',\n",
              "                                                     [key], {});\n",
              "          if (!dataTable) return;\n",
              "\n",
              "          const docLinkHtml = 'Like what you see? Visit the ' +\n",
              "            '<a target=\"_blank\" href=https://colab.research.google.com/notebooks/data_table.ipynb>data table notebook</a>'\n",
              "            + ' to learn more about interactive tables.';\n",
              "          element.innerHTML = '';\n",
              "          dataTable['output_type'] = 'display_data';\n",
              "          await google.colab.output.renderOutput(dataTable, element);\n",
              "          const docLink = document.createElement('div');\n",
              "          docLink.innerHTML = docLinkHtml;\n",
              "          element.appendChild(docLink);\n",
              "        }\n",
              "      </script>\n",
              "    </div>\n",
              "  </div>\n",
              "  "
            ],
            "text/plain": [
              "                                        pca_features           label\n",
              "0  [-11.77244716366699, -3.189947356388765, 4.491...     fiscal-year\n",
              "1  [-11.401110660624248, -3.7697414158197438, 3.2...     fiscal-year\n",
              "2  [-4.7833146129210355, -0.4942508065537561, 2.8...  purchase-price\n",
              "3  [-5.455980892626395, -1.3412495828462316, 3.33...  purchase-price\n",
              "4  [-8.84166062140954, -1.8203561928036376, 0.133...       guarantee\n",
              "5  [-11.532893021254765, -2.4995736938288324, 0.8...       guarantee\n",
              "6  [-5.731707629428153, -3.815863951248384, 3.513...        expenses\n",
              "7  [-3.8010514486947096, -4.345370568255292, 1.67...        expenses\n",
              "8  [-6.783526937000946, -5.815459791835026, 3.236...          waiver\n",
              "9  [-7.139201238503951, -6.340440847367817, 1.234...          waiver"
            ]
          },
          "execution_count": 15,
          "metadata": {},
          "output_type": "execute_result"
        }
      ],
      "source": [
        "df = result.select('pca_features', 'label').toPandas()\n",
        "\n",
        "df\n",
        "# As you see, dimension values are inside a list"
      ]
    },
    {
      "cell_type": "code",
      "execution_count": null,
      "id": "5c3707de-8ff4-49b7-89c2-85e9616bc337",
      "metadata": {
        "colab": {
          "base_uri": "https://localhost:8080/",
          "height": 363
        },
        "id": "5c3707de-8ff4-49b7-89c2-85e9616bc337",
        "outputId": "12daf37d-7201-4367-dce0-2f3a322fc5e2"
      },
      "outputs": [
        {
          "data": {
            "text/html": [
              "\n",
              "  <div id=\"df-430ab6c4-189a-463a-afb4-47101068a9e7\">\n",
              "    <div class=\"colab-df-container\">\n",
              "      <div>\n",
              "<style scoped>\n",
              "    .dataframe tbody tr th:only-of-type {\n",
              "        vertical-align: middle;\n",
              "    }\n",
              "\n",
              "    .dataframe tbody tr th {\n",
              "        vertical-align: top;\n",
              "    }\n",
              "\n",
              "    .dataframe thead th {\n",
              "        text-align: right;\n",
              "    }\n",
              "</style>\n",
              "<table border=\"1\" class=\"dataframe\">\n",
              "  <thead>\n",
              "    <tr style=\"text-align: right;\">\n",
              "      <th></th>\n",
              "      <th>x</th>\n",
              "      <th>y</th>\n",
              "      <th>z</th>\n",
              "      <th>label</th>\n",
              "    </tr>\n",
              "  </thead>\n",
              "  <tbody>\n",
              "    <tr>\n",
              "      <th>0</th>\n",
              "      <td>-11.772447</td>\n",
              "      <td>-3.189947</td>\n",
              "      <td>4.491162</td>\n",
              "      <td>fiscal-year</td>\n",
              "    </tr>\n",
              "    <tr>\n",
              "      <th>1</th>\n",
              "      <td>-11.401111</td>\n",
              "      <td>-3.769741</td>\n",
              "      <td>3.240553</td>\n",
              "      <td>fiscal-year</td>\n",
              "    </tr>\n",
              "    <tr>\n",
              "      <th>2</th>\n",
              "      <td>-4.783315</td>\n",
              "      <td>-0.494251</td>\n",
              "      <td>2.869783</td>\n",
              "      <td>purchase-price</td>\n",
              "    </tr>\n",
              "    <tr>\n",
              "      <th>3</th>\n",
              "      <td>-5.455981</td>\n",
              "      <td>-1.341250</td>\n",
              "      <td>3.331729</td>\n",
              "      <td>purchase-price</td>\n",
              "    </tr>\n",
              "    <tr>\n",
              "      <th>4</th>\n",
              "      <td>-8.841661</td>\n",
              "      <td>-1.820356</td>\n",
              "      <td>0.133921</td>\n",
              "      <td>guarantee</td>\n",
              "    </tr>\n",
              "    <tr>\n",
              "      <th>5</th>\n",
              "      <td>-11.532893</td>\n",
              "      <td>-2.499574</td>\n",
              "      <td>0.814166</td>\n",
              "      <td>guarantee</td>\n",
              "    </tr>\n",
              "    <tr>\n",
              "      <th>6</th>\n",
              "      <td>-5.731708</td>\n",
              "      <td>-3.815864</td>\n",
              "      <td>3.513596</td>\n",
              "      <td>expenses</td>\n",
              "    </tr>\n",
              "    <tr>\n",
              "      <th>7</th>\n",
              "      <td>-3.801051</td>\n",
              "      <td>-4.345371</td>\n",
              "      <td>1.677434</td>\n",
              "      <td>expenses</td>\n",
              "    </tr>\n",
              "    <tr>\n",
              "      <th>8</th>\n",
              "      <td>-6.783527</td>\n",
              "      <td>-5.815460</td>\n",
              "      <td>3.236159</td>\n",
              "      <td>waiver</td>\n",
              "    </tr>\n",
              "    <tr>\n",
              "      <th>9</th>\n",
              "      <td>-7.139201</td>\n",
              "      <td>-6.340441</td>\n",
              "      <td>1.234749</td>\n",
              "      <td>waiver</td>\n",
              "    </tr>\n",
              "  </tbody>\n",
              "</table>\n",
              "</div>\n",
              "      <button class=\"colab-df-convert\" onclick=\"convertToInteractive('df-430ab6c4-189a-463a-afb4-47101068a9e7')\"\n",
              "              title=\"Convert this dataframe to an interactive table.\"\n",
              "              style=\"display:none;\">\n",
              "        \n",
              "  <svg xmlns=\"http://www.w3.org/2000/svg\" height=\"24px\"viewBox=\"0 0 24 24\"\n",
              "       width=\"24px\">\n",
              "    <path d=\"M0 0h24v24H0V0z\" fill=\"none\"/>\n",
              "    <path d=\"M18.56 5.44l.94 2.06.94-2.06 2.06-.94-2.06-.94-.94-2.06-.94 2.06-2.06.94zm-11 1L8.5 8.5l.94-2.06 2.06-.94-2.06-.94L8.5 2.5l-.94 2.06-2.06.94zm10 10l.94 2.06.94-2.06 2.06-.94-2.06-.94-.94-2.06-.94 2.06-2.06.94z\"/><path d=\"M17.41 7.96l-1.37-1.37c-.4-.4-.92-.59-1.43-.59-.52 0-1.04.2-1.43.59L10.3 9.45l-7.72 7.72c-.78.78-.78 2.05 0 2.83L4 21.41c.39.39.9.59 1.41.59.51 0 1.02-.2 1.41-.59l7.78-7.78 2.81-2.81c.8-.78.8-2.07 0-2.86zM5.41 20L4 18.59l7.72-7.72 1.47 1.35L5.41 20z\"/>\n",
              "  </svg>\n",
              "      </button>\n",
              "      \n",
              "  <style>\n",
              "    .colab-df-container {\n",
              "      display:flex;\n",
              "      flex-wrap:wrap;\n",
              "      gap: 12px;\n",
              "    }\n",
              "\n",
              "    .colab-df-convert {\n",
              "      background-color: #E8F0FE;\n",
              "      border: none;\n",
              "      border-radius: 50%;\n",
              "      cursor: pointer;\n",
              "      display: none;\n",
              "      fill: #1967D2;\n",
              "      height: 32px;\n",
              "      padding: 0 0 0 0;\n",
              "      width: 32px;\n",
              "    }\n",
              "\n",
              "    .colab-df-convert:hover {\n",
              "      background-color: #E2EBFA;\n",
              "      box-shadow: 0px 1px 2px rgba(60, 64, 67, 0.3), 0px 1px 3px 1px rgba(60, 64, 67, 0.15);\n",
              "      fill: #174EA6;\n",
              "    }\n",
              "\n",
              "    [theme=dark] .colab-df-convert {\n",
              "      background-color: #3B4455;\n",
              "      fill: #D2E3FC;\n",
              "    }\n",
              "\n",
              "    [theme=dark] .colab-df-convert:hover {\n",
              "      background-color: #434B5C;\n",
              "      box-shadow: 0px 1px 3px 1px rgba(0, 0, 0, 0.15);\n",
              "      filter: drop-shadow(0px 1px 2px rgba(0, 0, 0, 0.3));\n",
              "      fill: #FFFFFF;\n",
              "    }\n",
              "  </style>\n",
              "\n",
              "      <script>\n",
              "        const buttonEl =\n",
              "          document.querySelector('#df-430ab6c4-189a-463a-afb4-47101068a9e7 button.colab-df-convert');\n",
              "        buttonEl.style.display =\n",
              "          google.colab.kernel.accessAllowed ? 'block' : 'none';\n",
              "\n",
              "        async function convertToInteractive(key) {\n",
              "          const element = document.querySelector('#df-430ab6c4-189a-463a-afb4-47101068a9e7');\n",
              "          const dataTable =\n",
              "            await google.colab.kernel.invokeFunction('convertToInteractive',\n",
              "                                                     [key], {});\n",
              "          if (!dataTable) return;\n",
              "\n",
              "          const docLinkHtml = 'Like what you see? Visit the ' +\n",
              "            '<a target=\"_blank\" href=https://colab.research.google.com/notebooks/data_table.ipynb>data table notebook</a>'\n",
              "            + ' to learn more about interactive tables.';\n",
              "          element.innerHTML = '';\n",
              "          dataTable['output_type'] = 'display_data';\n",
              "          await google.colab.output.renderOutput(dataTable, element);\n",
              "          const docLink = document.createElement('div');\n",
              "          docLink.innerHTML = docLinkHtml;\n",
              "          element.appendChild(docLink);\n",
              "        }\n",
              "      </script>\n",
              "    </div>\n",
              "  </div>\n",
              "  "
            ],
            "text/plain": [
              "           x         y         z           label\n",
              "0 -11.772447 -3.189947  4.491162     fiscal-year\n",
              "1 -11.401111 -3.769741  3.240553     fiscal-year\n",
              "2  -4.783315 -0.494251  2.869783  purchase-price\n",
              "3  -5.455981 -1.341250  3.331729  purchase-price\n",
              "4  -8.841661 -1.820356  0.133921       guarantee\n",
              "5 -11.532893 -2.499574  0.814166       guarantee\n",
              "6  -5.731708 -3.815864  3.513596        expenses\n",
              "7  -3.801051 -4.345371  1.677434        expenses\n",
              "8  -6.783527 -5.815460  3.236159          waiver\n",
              "9  -7.139201 -6.340441  1.234749          waiver"
            ]
          },
          "execution_count": 16,
          "metadata": {},
          "output_type": "execute_result"
        }
      ],
      "source": [
        "# We extract the dimension values out off the list\n",
        "\n",
        "df[\"x\"] = df[\"pca_features\"].apply(lambda x: x[0])\n",
        "\n",
        "df[\"y\"] = df[\"pca_features\"].apply(lambda x: x[1])\n",
        "\n",
        "df[\"z\"] = df[\"pca_features\"].apply(lambda x: x[2])\n",
        "\n",
        "df = df[[\"x\", \"y\", \"z\", \"label\"]]\n",
        "\n",
        "df"
      ]
    },
    {
      "cell_type": "code",
      "execution_count": null,
      "id": "7281d091-9356-41a7-83e7-6b5ee541a09c",
      "metadata": {
        "colab": {
          "base_uri": "https://localhost:8080/",
          "height": 617
        },
        "id": "7281d091-9356-41a7-83e7-6b5ee541a09c",
        "outputId": "00dd21c0-4eab-479b-a39c-28954ab030bc",
        "tags": []
      },
      "outputs": [
        {
          "data": {
            "text/html": [
              "<html>\n",
              "<head><meta charset=\"utf-8\" /></head>\n",
              "<body>\n",
              "    <div>            <script src=\"https://cdnjs.cloudflare.com/ajax/libs/mathjax/2.7.5/MathJax.js?config=TeX-AMS-MML_SVG\"></script><script type=\"text/javascript\">if (window.MathJax) {MathJax.Hub.Config({SVG: {font: \"STIX-Web\"}});}</script>                <script type=\"text/javascript\">window.PlotlyConfig = {MathJaxConfig: 'local'};</script>\n",
              "        <script src=\"https://cdn.plot.ly/plotly-2.8.3.min.js\"></script>                <div id=\"2f16a671-7386-4f60-8a4c-c243fc883824\" class=\"plotly-graph-div\" style=\"height:600px; width:800px;\"></div>            <script type=\"text/javascript\">                                    window.PLOTLYENV=window.PLOTLYENV || {};                                    if (document.getElementById(\"2f16a671-7386-4f60-8a4c-c243fc883824\")) {                    Plotly.newPlot(                        \"2f16a671-7386-4f60-8a4c-c243fc883824\",                        [{\"hovertemplate\":\"label=fiscal-year<br>x=%{x}<br>y=%{y}<br>z=%{z}<extra></extra>\",\"legendgroup\":\"fiscal-year\",\"marker\":{\"color\":\"#636efa\",\"symbol\":\"circle\"},\"mode\":\"markers\",\"name\":\"fiscal-year\",\"scene\":\"scene\",\"showlegend\":true,\"x\":[-11.77244716366699,-11.401110660624248],\"y\":[-3.189947356388765,-3.7697414158197438],\"z\":[4.4911623229315785,3.240553405264415],\"type\":\"scatter3d\"},{\"hovertemplate\":\"label=purchase-price<br>x=%{x}<br>y=%{y}<br>z=%{z}<extra></extra>\",\"legendgroup\":\"purchase-price\",\"marker\":{\"color\":\"#EF553B\",\"symbol\":\"circle\"},\"mode\":\"markers\",\"name\":\"purchase-price\",\"scene\":\"scene\",\"showlegend\":true,\"x\":[-4.7833146129210355,-5.455980892626395],\"y\":[-0.4942508065537561,-1.3412495828462316],\"z\":[2.8697833776569577,3.3317290563506945],\"type\":\"scatter3d\"},{\"hovertemplate\":\"label=guarantee<br>x=%{x}<br>y=%{y}<br>z=%{z}<extra></extra>\",\"legendgroup\":\"guarantee\",\"marker\":{\"color\":\"#00cc96\",\"symbol\":\"circle\"},\"mode\":\"markers\",\"name\":\"guarantee\",\"scene\":\"scene\",\"showlegend\":true,\"x\":[-8.84166062140954,-11.532893021254765],\"y\":[-1.8203561928036376,-2.4995736938288324],\"z\":[0.13392067779165123,0.8141664251810958],\"type\":\"scatter3d\"},{\"hovertemplate\":\"label=expenses<br>x=%{x}<br>y=%{y}<br>z=%{z}<extra></extra>\",\"legendgroup\":\"expenses\",\"marker\":{\"color\":\"#ab63fa\",\"symbol\":\"circle\"},\"mode\":\"markers\",\"name\":\"expenses\",\"scene\":\"scene\",\"showlegend\":true,\"x\":[-5.731707629428153,-3.8010514486947096],\"y\":[-3.815863951248384,-4.345370568255292],\"z\":[3.513596288588748,1.677434102133743],\"type\":\"scatter3d\"},{\"hovertemplate\":\"label=waiver<br>x=%{x}<br>y=%{y}<br>z=%{z}<extra></extra>\",\"legendgroup\":\"waiver\",\"marker\":{\"color\":\"#FFA15A\",\"symbol\":\"circle\"},\"mode\":\"markers\",\"name\":\"waiver\",\"scene\":\"scene\",\"showlegend\":true,\"x\":[-6.783526937000946,-7.139201238503951],\"y\":[-5.815459791835026,-6.340440847367817],\"z\":[3.2361589693958557,1.2347492798270938],\"type\":\"scatter3d\"}],                        {\"template\":{\"data\":{\"bar\":[{\"error_x\":{\"color\":\"#2a3f5f\"},\"error_y\":{\"color\":\"#2a3f5f\"},\"marker\":{\"line\":{\"color\":\"#E5ECF6\",\"width\":0.5},\"pattern\":{\"fillmode\":\"overlay\",\"size\":10,\"solidity\":0.2}},\"type\":\"bar\"}],\"barpolar\":[{\"marker\":{\"line\":{\"color\":\"#E5ECF6\",\"width\":0.5},\"pattern\":{\"fillmode\":\"overlay\",\"size\":10,\"solidity\":0.2}},\"type\":\"barpolar\"}],\"carpet\":[{\"aaxis\":{\"endlinecolor\":\"#2a3f5f\",\"gridcolor\":\"white\",\"linecolor\":\"white\",\"minorgridcolor\":\"white\",\"startlinecolor\":\"#2a3f5f\"},\"baxis\":{\"endlinecolor\":\"#2a3f5f\",\"gridcolor\":\"white\",\"linecolor\":\"white\",\"minorgridcolor\":\"white\",\"startlinecolor\":\"#2a3f5f\"},\"type\":\"carpet\"}],\"choropleth\":[{\"colorbar\":{\"outlinewidth\":0,\"ticks\":\"\"},\"type\":\"choropleth\"}],\"contour\":[{\"colorbar\":{\"outlinewidth\":0,\"ticks\":\"\"},\"colorscale\":[[0.0,\"#0d0887\"],[0.1111111111111111,\"#46039f\"],[0.2222222222222222,\"#7201a8\"],[0.3333333333333333,\"#9c179e\"],[0.4444444444444444,\"#bd3786\"],[0.5555555555555556,\"#d8576b\"],[0.6666666666666666,\"#ed7953\"],[0.7777777777777778,\"#fb9f3a\"],[0.8888888888888888,\"#fdca26\"],[1.0,\"#f0f921\"]],\"type\":\"contour\"}],\"contourcarpet\":[{\"colorbar\":{\"outlinewidth\":0,\"ticks\":\"\"},\"type\":\"contourcarpet\"}],\"heatmap\":[{\"colorbar\":{\"outlinewidth\":0,\"ticks\":\"\"},\"colorscale\":[[0.0,\"#0d0887\"],[0.1111111111111111,\"#46039f\"],[0.2222222222222222,\"#7201a8\"],[0.3333333333333333,\"#9c179e\"],[0.4444444444444444,\"#bd3786\"],[0.5555555555555556,\"#d8576b\"],[0.6666666666666666,\"#ed7953\"],[0.7777777777777778,\"#fb9f3a\"],[0.8888888888888888,\"#fdca26\"],[1.0,\"#f0f921\"]],\"type\":\"heatmap\"}],\"heatmapgl\":[{\"colorbar\":{\"outlinewidth\":0,\"ticks\":\"\"},\"colorscale\":[[0.0,\"#0d0887\"],[0.1111111111111111,\"#46039f\"],[0.2222222222222222,\"#7201a8\"],[0.3333333333333333,\"#9c179e\"],[0.4444444444444444,\"#bd3786\"],[0.5555555555555556,\"#d8576b\"],[0.6666666666666666,\"#ed7953\"],[0.7777777777777778,\"#fb9f3a\"],[0.8888888888888888,\"#fdca26\"],[1.0,\"#f0f921\"]],\"type\":\"heatmapgl\"}],\"histogram\":[{\"marker\":{\"pattern\":{\"fillmode\":\"overlay\",\"size\":10,\"solidity\":0.2}},\"type\":\"histogram\"}],\"histogram2d\":[{\"colorbar\":{\"outlinewidth\":0,\"ticks\":\"\"},\"colorscale\":[[0.0,\"#0d0887\"],[0.1111111111111111,\"#46039f\"],[0.2222222222222222,\"#7201a8\"],[0.3333333333333333,\"#9c179e\"],[0.4444444444444444,\"#bd3786\"],[0.5555555555555556,\"#d8576b\"],[0.6666666666666666,\"#ed7953\"],[0.7777777777777778,\"#fb9f3a\"],[0.8888888888888888,\"#fdca26\"],[1.0,\"#f0f921\"]],\"type\":\"histogram2d\"}],\"histogram2dcontour\":[{\"colorbar\":{\"outlinewidth\":0,\"ticks\":\"\"},\"colorscale\":[[0.0,\"#0d0887\"],[0.1111111111111111,\"#46039f\"],[0.2222222222222222,\"#7201a8\"],[0.3333333333333333,\"#9c179e\"],[0.4444444444444444,\"#bd3786\"],[0.5555555555555556,\"#d8576b\"],[0.6666666666666666,\"#ed7953\"],[0.7777777777777778,\"#fb9f3a\"],[0.8888888888888888,\"#fdca26\"],[1.0,\"#f0f921\"]],\"type\":\"histogram2dcontour\"}],\"mesh3d\":[{\"colorbar\":{\"outlinewidth\":0,\"ticks\":\"\"},\"type\":\"mesh3d\"}],\"parcoords\":[{\"line\":{\"colorbar\":{\"outlinewidth\":0,\"ticks\":\"\"}},\"type\":\"parcoords\"}],\"pie\":[{\"automargin\":true,\"type\":\"pie\"}],\"scatter\":[{\"marker\":{\"colorbar\":{\"outlinewidth\":0,\"ticks\":\"\"}},\"type\":\"scatter\"}],\"scatter3d\":[{\"line\":{\"colorbar\":{\"outlinewidth\":0,\"ticks\":\"\"}},\"marker\":{\"colorbar\":{\"outlinewidth\":0,\"ticks\":\"\"}},\"type\":\"scatter3d\"}],\"scattercarpet\":[{\"marker\":{\"colorbar\":{\"outlinewidth\":0,\"ticks\":\"\"}},\"type\":\"scattercarpet\"}],\"scattergeo\":[{\"marker\":{\"colorbar\":{\"outlinewidth\":0,\"ticks\":\"\"}},\"type\":\"scattergeo\"}],\"scattergl\":[{\"marker\":{\"colorbar\":{\"outlinewidth\":0,\"ticks\":\"\"}},\"type\":\"scattergl\"}],\"scattermapbox\":[{\"marker\":{\"colorbar\":{\"outlinewidth\":0,\"ticks\":\"\"}},\"type\":\"scattermapbox\"}],\"scatterpolar\":[{\"marker\":{\"colorbar\":{\"outlinewidth\":0,\"ticks\":\"\"}},\"type\":\"scatterpolar\"}],\"scatterpolargl\":[{\"marker\":{\"colorbar\":{\"outlinewidth\":0,\"ticks\":\"\"}},\"type\":\"scatterpolargl\"}],\"scatterternary\":[{\"marker\":{\"colorbar\":{\"outlinewidth\":0,\"ticks\":\"\"}},\"type\":\"scatterternary\"}],\"surface\":[{\"colorbar\":{\"outlinewidth\":0,\"ticks\":\"\"},\"colorscale\":[[0.0,\"#0d0887\"],[0.1111111111111111,\"#46039f\"],[0.2222222222222222,\"#7201a8\"],[0.3333333333333333,\"#9c179e\"],[0.4444444444444444,\"#bd3786\"],[0.5555555555555556,\"#d8576b\"],[0.6666666666666666,\"#ed7953\"],[0.7777777777777778,\"#fb9f3a\"],[0.8888888888888888,\"#fdca26\"],[1.0,\"#f0f921\"]],\"type\":\"surface\"}],\"table\":[{\"cells\":{\"fill\":{\"color\":\"#EBF0F8\"},\"line\":{\"color\":\"white\"}},\"header\":{\"fill\":{\"color\":\"#C8D4E3\"},\"line\":{\"color\":\"white\"}},\"type\":\"table\"}]},\"layout\":{\"annotationdefaults\":{\"arrowcolor\":\"#2a3f5f\",\"arrowhead\":0,\"arrowwidth\":1},\"autotypenumbers\":\"strict\",\"coloraxis\":{\"colorbar\":{\"outlinewidth\":0,\"ticks\":\"\"}},\"colorscale\":{\"diverging\":[[0,\"#8e0152\"],[0.1,\"#c51b7d\"],[0.2,\"#de77ae\"],[0.3,\"#f1b6da\"],[0.4,\"#fde0ef\"],[0.5,\"#f7f7f7\"],[0.6,\"#e6f5d0\"],[0.7,\"#b8e186\"],[0.8,\"#7fbc41\"],[0.9,\"#4d9221\"],[1,\"#276419\"]],\"sequential\":[[0.0,\"#0d0887\"],[0.1111111111111111,\"#46039f\"],[0.2222222222222222,\"#7201a8\"],[0.3333333333333333,\"#9c179e\"],[0.4444444444444444,\"#bd3786\"],[0.5555555555555556,\"#d8576b\"],[0.6666666666666666,\"#ed7953\"],[0.7777777777777778,\"#fb9f3a\"],[0.8888888888888888,\"#fdca26\"],[1.0,\"#f0f921\"]],\"sequentialminus\":[[0.0,\"#0d0887\"],[0.1111111111111111,\"#46039f\"],[0.2222222222222222,\"#7201a8\"],[0.3333333333333333,\"#9c179e\"],[0.4444444444444444,\"#bd3786\"],[0.5555555555555556,\"#d8576b\"],[0.6666666666666666,\"#ed7953\"],[0.7777777777777778,\"#fb9f3a\"],[0.8888888888888888,\"#fdca26\"],[1.0,\"#f0f921\"]]},\"colorway\":[\"#636efa\",\"#EF553B\",\"#00cc96\",\"#ab63fa\",\"#FFA15A\",\"#19d3f3\",\"#FF6692\",\"#B6E880\",\"#FF97FF\",\"#FECB52\"],\"font\":{\"color\":\"#2a3f5f\"},\"geo\":{\"bgcolor\":\"white\",\"lakecolor\":\"white\",\"landcolor\":\"#E5ECF6\",\"showlakes\":true,\"showland\":true,\"subunitcolor\":\"white\"},\"hoverlabel\":{\"align\":\"left\"},\"hovermode\":\"closest\",\"mapbox\":{\"style\":\"light\"},\"paper_bgcolor\":\"white\",\"plot_bgcolor\":\"#E5ECF6\",\"polar\":{\"angularaxis\":{\"gridcolor\":\"white\",\"linecolor\":\"white\",\"ticks\":\"\"},\"bgcolor\":\"#E5ECF6\",\"radialaxis\":{\"gridcolor\":\"white\",\"linecolor\":\"white\",\"ticks\":\"\"}},\"scene\":{\"xaxis\":{\"backgroundcolor\":\"#E5ECF6\",\"gridcolor\":\"white\",\"gridwidth\":2,\"linecolor\":\"white\",\"showbackground\":true,\"ticks\":\"\",\"zerolinecolor\":\"white\"},\"yaxis\":{\"backgroundcolor\":\"#E5ECF6\",\"gridcolor\":\"white\",\"gridwidth\":2,\"linecolor\":\"white\",\"showbackground\":true,\"ticks\":\"\",\"zerolinecolor\":\"white\"},\"zaxis\":{\"backgroundcolor\":\"#E5ECF6\",\"gridcolor\":\"white\",\"gridwidth\":2,\"linecolor\":\"white\",\"showbackground\":true,\"ticks\":\"\",\"zerolinecolor\":\"white\"}},\"shapedefaults\":{\"line\":{\"color\":\"#2a3f5f\"}},\"ternary\":{\"aaxis\":{\"gridcolor\":\"white\",\"linecolor\":\"white\",\"ticks\":\"\"},\"baxis\":{\"gridcolor\":\"white\",\"linecolor\":\"white\",\"ticks\":\"\"},\"bgcolor\":\"#E5ECF6\",\"caxis\":{\"gridcolor\":\"white\",\"linecolor\":\"white\",\"ticks\":\"\"}},\"title\":{\"x\":0.05},\"xaxis\":{\"automargin\":true,\"gridcolor\":\"white\",\"linecolor\":\"white\",\"ticks\":\"\",\"title\":{\"standoff\":15},\"zerolinecolor\":\"white\",\"zerolinewidth\":2},\"yaxis\":{\"automargin\":true,\"gridcolor\":\"white\",\"linecolor\":\"white\",\"ticks\":\"\",\"title\":{\"standoff\":15},\"zerolinecolor\":\"white\",\"zerolinewidth\":2}}},\"scene\":{\"domain\":{\"x\":[0.0,1.0],\"y\":[0.0,1.0]},\"xaxis\":{\"title\":{\"text\":\"x\"}},\"yaxis\":{\"title\":{\"text\":\"y\"}},\"zaxis\":{\"title\":{\"text\":\"z\"}}},\"legend\":{\"title\":{\"text\":\"label\"},\"tracegroupgap\":0},\"margin\":{\"t\":60},\"height\":600,\"width\":800},                        {\"responsive\": true}                    ).then(function(){\n",
              "                            \n",
              "var gd = document.getElementById('2f16a671-7386-4f60-8a4c-c243fc883824');\n",
              "var x = new MutationObserver(function (mutations, observer) {{\n",
              "        var display = window.getComputedStyle(gd).display;\n",
              "        if (!display || display === 'none') {{\n",
              "            console.log([gd, 'removed!']);\n",
              "            Plotly.purge(gd);\n",
              "            observer.disconnect();\n",
              "        }}\n",
              "}});\n",
              "\n",
              "// Listen for the removal of the full notebook cells\n",
              "var notebookContainer = gd.closest('#notebook-container');\n",
              "if (notebookContainer) {{\n",
              "    x.observe(notebookContainer, {childList: true});\n",
              "}}\n",
              "\n",
              "// Listen for the clearing of the current output cell\n",
              "var outputEl = gd.closest('.output');\n",
              "if (outputEl) {{\n",
              "    x.observe(outputEl, {childList: true});\n",
              "}}\n",
              "\n",
              "                        })                };                            </script>        </div>\n",
              "</body>\n",
              "</html>"
            ]
          },
          "metadata": {},
          "output_type": "display_data"
        }
      ],
      "source": [
        "import plotly.express as px\n",
        "\n",
        "fig = px.scatter_3d(df, x='x', y='y', z='z', color='label', width=800, height=600)\n",
        "\n",
        "fig.show()"
      ]
    },
    {
      "cell_type": "markdown",
      "id": "602bc911-284b-4e0e-8882-99ac444fbb51",
      "metadata": {
        "id": "602bc911-284b-4e0e-8882-99ac444fbb51"
      },
      "source": [
        "# Word Embeddings"
      ]
    },
    {
      "cell_type": "markdown",
      "id": "11bfbc63-cb97-4189-8d6c-6629bbc898e8",
      "metadata": {
        "id": "11bfbc63-cb97-4189-8d6c-6629bbc898e8"
      },
      "source": [
        "We can also visualize the semantics of words, instead of full texts, by using Word Embeddings. We will add a Tokenizer and a WordEmbeddings model to get those embeddings, and them apply PCA as before."
      ]
    },
    {
      "cell_type": "code",
      "execution_count": null,
      "id": "0cebc272-4b73-4a66-89ed-64278a46bab8",
      "metadata": {
        "colab": {
          "base_uri": "https://localhost:8080/"
        },
        "id": "0cebc272-4b73-4a66-89ed-64278a46bab8",
        "outputId": "e6c4dfe3-3e1e-42f2-dccc-8cdcb1d5343a"
      },
      "outputs": [
        {
          "name": "stdout",
          "output_type": "stream",
          "text": [
            "roberta_embeddings_legal_roberta_base download started this may take some time.\n",
            "Approximate size to download 447.2 MB\n",
            "[OK!]\n"
          ]
        }
      ],
      "source": [
        "document_assembler = DocumentAssembler()\\\n",
        "    .setInputCol(\"text\")\\\n",
        "    .setOutputCol(\"document\")\n",
        "\n",
        "tokenizer = Tokenizer() \\\n",
        "    .setInputCols(\"document\")\\\n",
        "    .setOutputCol(\"token\")\n",
        "\n",
        "embeddings = RoBertaEmbeddings.pretrained(\"roberta_embeddings_legal_roberta_base\",\"en\") \\\n",
        "    .setInputCols([\"document\", \"token\"])\\\n",
        "    .setOutputCol(\"document_embeddings\")"
      ]
    },
    {
      "cell_type": "code",
      "execution_count": null,
      "id": "5b2a3d86-cac7-40b7-a769-69d3b0a1dea1",
      "metadata": {
        "id": "5b2a3d86-cac7-40b7-a769-69d3b0a1dea1"
      },
      "outputs": [],
      "source": [
        "# Firstly we splitted the pipeline in two to get all token embeddings\n",
        "\n",
        "pipeline = Pipeline().setStages([document_assembler, tokenizer, embeddings])"
      ]
    },
    {
      "cell_type": "code",
      "execution_count": null,
      "id": "28f0cced-e804-4415-aa57-6ae05587adf2",
      "metadata": {
        "id": "28f0cced-e804-4415-aa57-6ae05587adf2"
      },
      "outputs": [],
      "source": [
        "model = pipeline.fit(sdf)"
      ]
    },
    {
      "cell_type": "code",
      "execution_count": null,
      "id": "31090faa-0bbe-4e94-8384-e38a338e1989",
      "metadata": {
        "id": "31090faa-0bbe-4e94-8384-e38a338e1989"
      },
      "outputs": [],
      "source": [
        "result = model.transform(sdf)"
      ]
    },
    {
      "cell_type": "code",
      "execution_count": null,
      "id": "1815b79d-81c5-45ec-ac80-418e31f9df8e",
      "metadata": {
        "colab": {
          "base_uri": "https://localhost:8080/"
        },
        "id": "1815b79d-81c5-45ec-ac80-418e31f9df8e",
        "outputId": "dca8fc60-407a-430d-864e-06e6cf8089ea",
        "tags": []
      },
      "outputs": [
        {
          "name": "stdout",
          "output_type": "stream",
          "text": [
            "+--------+--------------------------------------------------------------------------------+-----------+\n",
            "|   token|                                                                      embeddings|      label|\n",
            "+--------+--------------------------------------------------------------------------------+-----------+\n",
            "|     The|[0.04391094, -0.028177992, 0.11459787, -0.022955947, 0.7428129, 0.4352008, -0...|fiscal-year|\n",
            "|  fiscal|[-0.19364583, 0.14353976, 0.22895497, -0.48883635, -0.41577122, -0.18882717, ...|fiscal-year|\n",
            "|    year|[0.08520961, 0.21057254, 0.22785076, -0.43965444, 0.62087715, -0.23067635, 0....|fiscal-year|\n",
            "|      of|[-0.14763746, 0.1524232, 0.24129547, -0.24562353, 0.8748058, 0.50721204, 0.10...|fiscal-year|\n",
            "|     the|[-0.047555808, -0.07707906, 0.3023237, 0.13319425, -0.015342899, 0.9450758, -...|fiscal-year|\n",
            "| Company|[-0.04946076, 0.26861066, 0.06913849, -0.39064062, 0.7189984, 0.7938846, 0.05...|fiscal-year|\n",
            "|       (|[0.10544683, -0.21629706, 0.114817925, 0.07629284, 0.8661428, -0.11542408, -0...|fiscal-year|\n",
            "|  herein|[-0.08787088, -0.05388208, -0.014523187, -0.021635998, 0.25820008, -0.2504117...|fiscal-year|\n",
            "|  called|[0.037253093, 0.16272442, 0.0453641, 0.42392337, 1.1979802, 0.23739678, 0.221...|fiscal-year|\n",
            "|     the|[-0.0803281, 0.07061828, 0.14910042, 0.049328253, -0.09421585, 0.2974979, -0....|fiscal-year|\n",
            "|       \"|[0.042536046, 0.19036238, 0.0061820205, -0.0042913556, 1.0300051, 0.20854145,...|fiscal-year|\n",
            "|  fiscal|[-0.14920703, 0.02404645, 0.2691832, -0.48642975, -0.48172, -0.25438714, -0.0...|fiscal-year|\n",
            "|    year|[0.09965399, -0.020526765, 0.24207152, -0.5245615, 0.24295351, -0.17506306, 0...|fiscal-year|\n",
            "|      \")|[0.08299819, -0.06094861, -0.09316474, 0.22255556, 0.47206795, -0.19555151, 0...|fiscal-year|\n",
            "|   shall|[-0.14169791, -0.057651334, 0.23761864, -0.117256336, -0.18122424, -0.3410223...|fiscal-year|\n",
            "|     end|[0.16161829, -0.1724634, 0.24967873, 0.046466857, -2.1046371, -0.21744433, 0....|fiscal-year|\n",
            "|      on|[0.38286966, 0.44629535, 0.37218675, 0.47606257, 0.70457935, -0.005733423, 0....|fiscal-year|\n",
            "|December|[0.46721137, 0.030408973, -0.016959827, 0.14638235, 1.0892901, 0.25728053, 0....|fiscal-year|\n",
            "|      31|[0.20623098, 0.15622893, 0.1844644, 0.0745773, 0.7394656, -0.01670821, -0.050...|fiscal-year|\n",
            "|      of|[0.04096028, -0.11554672, 0.09859506, -0.10493837, 1.0908785, 0.43646955, 0.0...|fiscal-year|\n",
            "+--------+--------------------------------------------------------------------------------+-----------+\n",
            "only showing top 20 rows\n",
            "\n"
          ]
        }
      ],
      "source": [
        "result_df = result.select(\"label\", F.explode(F.arrays_zip(\"token.result\", \"document_embeddings.embeddings\")).alias(\"cols\"))\\\n",
        "                   .select(F.expr(\"cols['0']\").alias(\"token\"),\n",
        "                           F.expr(\"cols['1']\").alias(\"embeddings\"),\n",
        "                           \"label\")\n",
        "\n",
        "result_df.show(truncate = 80)\n"
      ]
    },
    {
      "cell_type": "code",
      "execution_count": null,
      "id": "6186b5d6-fa75-42db-b5f6-febbe0f6c957",
      "metadata": {
        "id": "6186b5d6-fa75-42db-b5f6-febbe0f6c957"
      },
      "outputs": [],
      "source": [
        "# Here we defined inheritance class from that defined previously EmbeddingsUDF class\n",
        "class WordEmbeddingsUDF(EmbeddingsUDF):    \n",
        "    def _transform(self, dataset):\n",
        "        \n",
        "        results = dataset.select('token', 'label', 'embeddings') # We changed this line because our embedding cloumn is already exploded\n",
        "\n",
        "        results = results.withColumn(\n",
        "            \"features\",\n",
        "            self.udfs['convertToVectorUDF'](F.col(\"embeddings\"))\n",
        "        )\n",
        "        results = results.withColumn(\n",
        "            \"emb_sum\",\n",
        "            self.udfs['sumUDF'](F.col(\"embeddings\"))\n",
        "        )\n",
        "        # Remove those with embeddings all zeroes (so we can calculate cosine distance)\n",
        "        results = results.where(F.col(\"emb_sum\")!=0.0)\n",
        "\n",
        "        return results"
      ]
    },
    {
      "cell_type": "code",
      "execution_count": null,
      "id": "e416012e-ba80-4ca8-98de-aa675660ecb1",
      "metadata": {
        "id": "e416012e-ba80-4ca8-98de-aa675660ecb1"
      },
      "outputs": [],
      "source": [
        "embeddings_for_pca = WordEmbeddingsUDF()"
      ]
    },
    {
      "cell_type": "code",
      "execution_count": null,
      "id": "0cca3d1f-0261-42de-96f8-f68f7fe6210a",
      "metadata": {
        "id": "0cca3d1f-0261-42de-96f8-f68f7fe6210a"
      },
      "outputs": [],
      "source": [
        "DIMENSIONS  = 3"
      ]
    },
    {
      "cell_type": "code",
      "execution_count": null,
      "id": "2f9e30a2-cc23-463f-87d1-4846c7a321e7",
      "metadata": {
        "id": "2f9e30a2-cc23-463f-87d1-4846c7a321e7"
      },
      "outputs": [],
      "source": [
        "import pyspark\n",
        "pca = pyspark.ml.feature.PCA(k=DIMENSIONS, inputCol=\"features\", outputCol=\"pca_features\")"
      ]
    },
    {
      "cell_type": "markdown",
      "id": "4ec00af2-8e16-4473-8b43-4f7cff630a3d",
      "metadata": {
        "id": "4ec00af2-8e16-4473-8b43-4f7cff630a3d"
      },
      "source": [
        "## Full Spark NLP + Spark MLLib pipeline"
      ]
    },
    {
      "cell_type": "code",
      "execution_count": null,
      "id": "69b8590b-2bf4-45b9-924d-d7438b87f08a",
      "metadata": {
        "id": "69b8590b-2bf4-45b9-924d-d7438b87f08a"
      },
      "outputs": [],
      "source": [
        "# We run the second part of the pipeline\n",
        "\n",
        "pipeline = Pipeline().setStages([embeddings_for_pca, pca])\n"
      ]
    },
    {
      "cell_type": "code",
      "execution_count": null,
      "id": "8207c543-9fb0-4187-a359-61abad891934",
      "metadata": {
        "id": "8207c543-9fb0-4187-a359-61abad891934",
        "tags": []
      },
      "outputs": [],
      "source": [
        "model = pipeline.fit(result_df)"
      ]
    },
    {
      "cell_type": "code",
      "execution_count": null,
      "id": "cf674445-20d2-4ee9-8409-6a3782794aae",
      "metadata": {
        "id": "cf674445-20d2-4ee9-8409-6a3782794aae"
      },
      "outputs": [],
      "source": [
        "result = model.transform(result_df)"
      ]
    },
    {
      "cell_type": "code",
      "execution_count": null,
      "id": "9093ca0e-e46e-40e8-8958-c47702fc4a43",
      "metadata": {
        "colab": {
          "base_uri": "https://localhost:8080/"
        },
        "id": "9093ca0e-e46e-40e8-8958-c47702fc4a43",
        "outputId": "52a10d8d-1014-46f0-df81-9f677eba2937",
        "tags": []
      },
      "outputs": [
        {
          "name": "stdout",
          "output_type": "stream",
          "text": [
            "+--------+------------------------------------------------------------+------------------------------------------------------------+-----------+\n",
            "|   token|                                                  embeddings|                                                pca_features|      label|\n",
            "+--------+------------------------------------------------------------+------------------------------------------------------------+-----------+\n",
            "|     The|[0.04391094, -0.028177992, 0.11459787, -0.022955947, 0.74...|   [4.228120509444965,7.827736003364483,-1.3588865878154572]|fiscal-year|\n",
            "|  fiscal|[-0.19364583, 0.14353976, 0.22895497, -0.48883635, -0.415...| [5.170710489800116,0.25310763654270096,-1.4800026405586908]|fiscal-year|\n",
            "|    year|[0.08520961, 0.21057254, 0.22785076, -0.43965444, 0.62087...|   [9.016012554607927,1.6321133397405232,0.6355111816631596]|fiscal-year|\n",
            "|      of|[-0.14763746, 0.1524232, 0.24129547, -0.24562353, 0.87480...|   [6.321855231350654,3.628017709379505,-1.1226350294441834]|fiscal-year|\n",
            "|     the|[-0.047555808, -0.07707906, 0.3023237, 0.13319425, -0.015...|   [7.346548330521915,8.460093687284157,-2.2529629274735394]|fiscal-year|\n",
            "| Company|[-0.04946076, 0.26861066, 0.06913849, -0.39064062, 0.7189...|    [3.011532770812917,4.29208839904594,-2.5928129715891557]|fiscal-year|\n",
            "|       (|[0.10544683, -0.21629706, 0.114817925, 0.07629284, 0.8661...|   [3.221726306181023,1.7274023383152781,1.9554701905857308]|fiscal-year|\n",
            "|  herein|[-0.08787088, -0.05388208, -0.014523187, -0.021635998, 0....|  [5.362324821532664,0.8585891505350867,-0.7491445425849582]|fiscal-year|\n",
            "|  called|[0.037253093, 0.16272442, 0.0453641, 0.42392337, 1.197980...|  [4.827285635038957,1.8007550439443902,0.36724709089692154]|fiscal-year|\n",
            "|     the|[-0.0803281, 0.07061828, 0.14910042, 0.049328253, -0.0942...|    [6.015620398410935,5.853595445567383,-0.702812974710129]|fiscal-year|\n",
            "|       \"|[0.042536046, 0.19036238, 0.0061820205, -0.0042913556, 1....|[2.3257929438409692,1.8094464894618496,-0.26503762170472417]|fiscal-year|\n",
            "|  fiscal|[-0.14920703, 0.02404645, 0.2691832, -0.48642975, -0.4817...|  [5.255597867937918,0.19889358716645128,-1.511329154102113]|fiscal-year|\n",
            "|    year|[0.09965399, -0.020526765, 0.24207152, -0.5245615, 0.2429...|    [9.169213822905867,1.886821943375304,1.0191043030177795]|fiscal-year|\n",
            "|      \")|[0.08299819, -0.06094861, -0.09316474, 0.22255556, 0.4720...|  [1.9019284447555442,1.5938155325023655,1.8834227671041424]|fiscal-year|\n",
            "|   shall|[-0.14169791, -0.057651334, 0.23761864, -0.117256336, -0....|      [4.860028428319209,6.62572865070071,0.880629833180051]|fiscal-year|\n",
            "|     end|[0.16161829, -0.1724634, 0.24967873, 0.046466857, -2.1046...| [6.897489352570062,1.7224658470984586,-0.46902417274884534]|fiscal-year|\n",
            "|      on|[0.38286966, 0.44629535, 0.37218675, 0.47606257, 0.704579...|   [7.489829468625489,3.8271471498502363,1.1795784988165567]|fiscal-year|\n",
            "|December|[0.46721137, 0.030408973, -0.016959827, 0.14638235, 1.089...|    [6.455042192502689,3.145410033548806,-3.192482679712611]|fiscal-year|\n",
            "|      31|[0.20623098, 0.15622893, 0.1844644, 0.0745773, 0.7394656,...|   [4.3994109611257075,2.129639996867889,0.4281284674585717]|fiscal-year|\n",
            "|      of|[0.04096028, -0.11554672, 0.09859506, -0.10493837, 1.0908...|  [5.958733372453086,3.4811925216533877,0.01111316412299031]|fiscal-year|\n",
            "+--------+------------------------------------------------------------+------------------------------------------------------------+-----------+\n",
            "only showing top 20 rows\n",
            "\n"
          ]
        }
      ],
      "source": [
        "result.select(\"token\", \"embeddings\", \"pca_features\", \"label\").show(truncate = 60)"
      ]
    },
    {
      "cell_type": "code",
      "execution_count": null,
      "id": "2299c9bc-8e8e-4c49-ad29-133df31da543",
      "metadata": {
        "colab": {
          "base_uri": "https://localhost:8080/",
          "height": 424
        },
        "id": "2299c9bc-8e8e-4c49-ad29-133df31da543",
        "outputId": "5857a646-7c1a-4ee0-e81e-4d21f51be0cf"
      },
      "outputs": [
        {
          "data": {
            "text/html": [
              "\n",
              "  <div id=\"df-46b34a72-93c1-4443-88d4-1ddaaca96317\">\n",
              "    <div class=\"colab-df-container\">\n",
              "      <div>\n",
              "<style scoped>\n",
              "    .dataframe tbody tr th:only-of-type {\n",
              "        vertical-align: middle;\n",
              "    }\n",
              "\n",
              "    .dataframe tbody tr th {\n",
              "        vertical-align: top;\n",
              "    }\n",
              "\n",
              "    .dataframe thead th {\n",
              "        text-align: right;\n",
              "    }\n",
              "</style>\n",
              "<table border=\"1\" class=\"dataframe\">\n",
              "  <thead>\n",
              "    <tr style=\"text-align: right;\">\n",
              "      <th></th>\n",
              "      <th>token</th>\n",
              "      <th>pca_features</th>\n",
              "      <th>label</th>\n",
              "    </tr>\n",
              "  </thead>\n",
              "  <tbody>\n",
              "    <tr>\n",
              "      <th>0</th>\n",
              "      <td>The</td>\n",
              "      <td>[4.228120509444965, 7.827736003364483, -1.3588...</td>\n",
              "      <td>fiscal-year</td>\n",
              "    </tr>\n",
              "    <tr>\n",
              "      <th>1</th>\n",
              "      <td>fiscal</td>\n",
              "      <td>[5.170710489800116, 0.25310763654270096, -1.48...</td>\n",
              "      <td>fiscal-year</td>\n",
              "    </tr>\n",
              "    <tr>\n",
              "      <th>2</th>\n",
              "      <td>year</td>\n",
              "      <td>[9.016012554607927, 1.6321133397405232, 0.6355...</td>\n",
              "      <td>fiscal-year</td>\n",
              "    </tr>\n",
              "    <tr>\n",
              "      <th>3</th>\n",
              "      <td>of</td>\n",
              "      <td>[6.321855231350654, 3.628017709379505, -1.1226...</td>\n",
              "      <td>fiscal-year</td>\n",
              "    </tr>\n",
              "    <tr>\n",
              "      <th>4</th>\n",
              "      <td>the</td>\n",
              "      <td>[7.346548330521915, 8.460093687284157, -2.2529...</td>\n",
              "      <td>fiscal-year</td>\n",
              "    </tr>\n",
              "    <tr>\n",
              "      <th>...</th>\n",
              "      <td>...</td>\n",
              "      <td>...</td>\n",
              "      <td>...</td>\n",
              "    </tr>\n",
              "    <tr>\n",
              "      <th>672</th>\n",
              "      <td>constitute</td>\n",
              "      <td>[6.169835369763037, -1.2662338826600077, -0.77...</td>\n",
              "      <td>waiver</td>\n",
              "    </tr>\n",
              "    <tr>\n",
              "      <th>673</th>\n",
              "      <td>a</td>\n",
              "      <td>[8.734050499114321, 1.4806559743451906, 0.2484...</td>\n",
              "      <td>waiver</td>\n",
              "    </tr>\n",
              "    <tr>\n",
              "      <th>674</th>\n",
              "      <td>continuing</td>\n",
              "      <td>[4.1603599395059865, -0.5176250624644265, -1.2...</td>\n",
              "      <td>waiver</td>\n",
              "    </tr>\n",
              "    <tr>\n",
              "      <th>675</th>\n",
              "      <td>waiver</td>\n",
              "      <td>[7.907894854126703, -0.919223431094611, -3.686...</td>\n",
              "      <td>waiver</td>\n",
              "    </tr>\n",
              "    <tr>\n",
              "      <th>676</th>\n",
              "      <td>.</td>\n",
              "      <td>[2.238049895074094, 3.8820749577399125, 3.8006...</td>\n",
              "      <td>waiver</td>\n",
              "    </tr>\n",
              "  </tbody>\n",
              "</table>\n",
              "<p>677 rows × 3 columns</p>\n",
              "</div>\n",
              "      <button class=\"colab-df-convert\" onclick=\"convertToInteractive('df-46b34a72-93c1-4443-88d4-1ddaaca96317')\"\n",
              "              title=\"Convert this dataframe to an interactive table.\"\n",
              "              style=\"display:none;\">\n",
              "        \n",
              "  <svg xmlns=\"http://www.w3.org/2000/svg\" height=\"24px\"viewBox=\"0 0 24 24\"\n",
              "       width=\"24px\">\n",
              "    <path d=\"M0 0h24v24H0V0z\" fill=\"none\"/>\n",
              "    <path d=\"M18.56 5.44l.94 2.06.94-2.06 2.06-.94-2.06-.94-.94-2.06-.94 2.06-2.06.94zm-11 1L8.5 8.5l.94-2.06 2.06-.94-2.06-.94L8.5 2.5l-.94 2.06-2.06.94zm10 10l.94 2.06.94-2.06 2.06-.94-2.06-.94-.94-2.06-.94 2.06-2.06.94z\"/><path d=\"M17.41 7.96l-1.37-1.37c-.4-.4-.92-.59-1.43-.59-.52 0-1.04.2-1.43.59L10.3 9.45l-7.72 7.72c-.78.78-.78 2.05 0 2.83L4 21.41c.39.39.9.59 1.41.59.51 0 1.02-.2 1.41-.59l7.78-7.78 2.81-2.81c.8-.78.8-2.07 0-2.86zM5.41 20L4 18.59l7.72-7.72 1.47 1.35L5.41 20z\"/>\n",
              "  </svg>\n",
              "      </button>\n",
              "      \n",
              "  <style>\n",
              "    .colab-df-container {\n",
              "      display:flex;\n",
              "      flex-wrap:wrap;\n",
              "      gap: 12px;\n",
              "    }\n",
              "\n",
              "    .colab-df-convert {\n",
              "      background-color: #E8F0FE;\n",
              "      border: none;\n",
              "      border-radius: 50%;\n",
              "      cursor: pointer;\n",
              "      display: none;\n",
              "      fill: #1967D2;\n",
              "      height: 32px;\n",
              "      padding: 0 0 0 0;\n",
              "      width: 32px;\n",
              "    }\n",
              "\n",
              "    .colab-df-convert:hover {\n",
              "      background-color: #E2EBFA;\n",
              "      box-shadow: 0px 1px 2px rgba(60, 64, 67, 0.3), 0px 1px 3px 1px rgba(60, 64, 67, 0.15);\n",
              "      fill: #174EA6;\n",
              "    }\n",
              "\n",
              "    [theme=dark] .colab-df-convert {\n",
              "      background-color: #3B4455;\n",
              "      fill: #D2E3FC;\n",
              "    }\n",
              "\n",
              "    [theme=dark] .colab-df-convert:hover {\n",
              "      background-color: #434B5C;\n",
              "      box-shadow: 0px 1px 3px 1px rgba(0, 0, 0, 0.15);\n",
              "      filter: drop-shadow(0px 1px 2px rgba(0, 0, 0, 0.3));\n",
              "      fill: #FFFFFF;\n",
              "    }\n",
              "  </style>\n",
              "\n",
              "      <script>\n",
              "        const buttonEl =\n",
              "          document.querySelector('#df-46b34a72-93c1-4443-88d4-1ddaaca96317 button.colab-df-convert');\n",
              "        buttonEl.style.display =\n",
              "          google.colab.kernel.accessAllowed ? 'block' : 'none';\n",
              "\n",
              "        async function convertToInteractive(key) {\n",
              "          const element = document.querySelector('#df-46b34a72-93c1-4443-88d4-1ddaaca96317');\n",
              "          const dataTable =\n",
              "            await google.colab.kernel.invokeFunction('convertToInteractive',\n",
              "                                                     [key], {});\n",
              "          if (!dataTable) return;\n",
              "\n",
              "          const docLinkHtml = 'Like what you see? Visit the ' +\n",
              "            '<a target=\"_blank\" href=https://colab.research.google.com/notebooks/data_table.ipynb>data table notebook</a>'\n",
              "            + ' to learn more about interactive tables.';\n",
              "          element.innerHTML = '';\n",
              "          dataTable['output_type'] = 'display_data';\n",
              "          await google.colab.output.renderOutput(dataTable, element);\n",
              "          const docLink = document.createElement('div');\n",
              "          docLink.innerHTML = docLinkHtml;\n",
              "          element.appendChild(docLink);\n",
              "        }\n",
              "      </script>\n",
              "    </div>\n",
              "  </div>\n",
              "  "
            ],
            "text/plain": [
              "          token                                       pca_features  \\\n",
              "0           The  [4.228120509444965, 7.827736003364483, -1.3588...   \n",
              "1        fiscal  [5.170710489800116, 0.25310763654270096, -1.48...   \n",
              "2          year  [9.016012554607927, 1.6321133397405232, 0.6355...   \n",
              "3            of  [6.321855231350654, 3.628017709379505, -1.1226...   \n",
              "4           the  [7.346548330521915, 8.460093687284157, -2.2529...   \n",
              "..          ...                                                ...   \n",
              "672  constitute  [6.169835369763037, -1.2662338826600077, -0.77...   \n",
              "673           a  [8.734050499114321, 1.4806559743451906, 0.2484...   \n",
              "674  continuing  [4.1603599395059865, -0.5176250624644265, -1.2...   \n",
              "675      waiver  [7.907894854126703, -0.919223431094611, -3.686...   \n",
              "676           .  [2.238049895074094, 3.8820749577399125, 3.8006...   \n",
              "\n",
              "           label  \n",
              "0    fiscal-year  \n",
              "1    fiscal-year  \n",
              "2    fiscal-year  \n",
              "3    fiscal-year  \n",
              "4    fiscal-year  \n",
              "..           ...  \n",
              "672       waiver  \n",
              "673       waiver  \n",
              "674       waiver  \n",
              "675       waiver  \n",
              "676       waiver  \n",
              "\n",
              "[677 rows x 3 columns]"
            ]
          },
          "execution_count": 31,
          "metadata": {},
          "output_type": "execute_result"
        }
      ],
      "source": [
        "df = result.select('token', 'pca_features',  'label').toPandas()\n",
        "\n",
        "df"
      ]
    },
    {
      "cell_type": "code",
      "execution_count": null,
      "id": "20443a2f-9e6e-4cd2-885e-b42720bcb840",
      "metadata": {
        "colab": {
          "base_uri": "https://localhost:8080/",
          "height": 424
        },
        "id": "20443a2f-9e6e-4cd2-885e-b42720bcb840",
        "outputId": "82bdb21d-9712-4de2-a9cf-133ff049e595"
      },
      "outputs": [
        {
          "data": {
            "text/html": [
              "\n",
              "  <div id=\"df-74b8239c-e42e-4028-928d-37fbcef2f778\">\n",
              "    <div class=\"colab-df-container\">\n",
              "      <div>\n",
              "<style scoped>\n",
              "    .dataframe tbody tr th:only-of-type {\n",
              "        vertical-align: middle;\n",
              "    }\n",
              "\n",
              "    .dataframe tbody tr th {\n",
              "        vertical-align: top;\n",
              "    }\n",
              "\n",
              "    .dataframe thead th {\n",
              "        text-align: right;\n",
              "    }\n",
              "</style>\n",
              "<table border=\"1\" class=\"dataframe\">\n",
              "  <thead>\n",
              "    <tr style=\"text-align: right;\">\n",
              "      <th></th>\n",
              "      <th>token</th>\n",
              "      <th>x</th>\n",
              "      <th>y</th>\n",
              "      <th>z</th>\n",
              "      <th>label</th>\n",
              "    </tr>\n",
              "  </thead>\n",
              "  <tbody>\n",
              "    <tr>\n",
              "      <th>0</th>\n",
              "      <td>The</td>\n",
              "      <td>4.228121</td>\n",
              "      <td>7.827736</td>\n",
              "      <td>-1.358887</td>\n",
              "      <td>fiscal-year</td>\n",
              "    </tr>\n",
              "    <tr>\n",
              "      <th>1</th>\n",
              "      <td>fiscal</td>\n",
              "      <td>5.170710</td>\n",
              "      <td>0.253108</td>\n",
              "      <td>-1.480003</td>\n",
              "      <td>fiscal-year</td>\n",
              "    </tr>\n",
              "    <tr>\n",
              "      <th>2</th>\n",
              "      <td>year</td>\n",
              "      <td>9.016013</td>\n",
              "      <td>1.632113</td>\n",
              "      <td>0.635511</td>\n",
              "      <td>fiscal-year</td>\n",
              "    </tr>\n",
              "    <tr>\n",
              "      <th>3</th>\n",
              "      <td>of</td>\n",
              "      <td>6.321855</td>\n",
              "      <td>3.628018</td>\n",
              "      <td>-1.122635</td>\n",
              "      <td>fiscal-year</td>\n",
              "    </tr>\n",
              "    <tr>\n",
              "      <th>4</th>\n",
              "      <td>the</td>\n",
              "      <td>7.346548</td>\n",
              "      <td>8.460094</td>\n",
              "      <td>-2.252963</td>\n",
              "      <td>fiscal-year</td>\n",
              "    </tr>\n",
              "    <tr>\n",
              "      <th>...</th>\n",
              "      <td>...</td>\n",
              "      <td>...</td>\n",
              "      <td>...</td>\n",
              "      <td>...</td>\n",
              "      <td>...</td>\n",
              "    </tr>\n",
              "    <tr>\n",
              "      <th>672</th>\n",
              "      <td>constitute</td>\n",
              "      <td>6.169835</td>\n",
              "      <td>-1.266234</td>\n",
              "      <td>-0.777761</td>\n",
              "      <td>waiver</td>\n",
              "    </tr>\n",
              "    <tr>\n",
              "      <th>673</th>\n",
              "      <td>a</td>\n",
              "      <td>8.734050</td>\n",
              "      <td>1.480656</td>\n",
              "      <td>0.248475</td>\n",
              "      <td>waiver</td>\n",
              "    </tr>\n",
              "    <tr>\n",
              "      <th>674</th>\n",
              "      <td>continuing</td>\n",
              "      <td>4.160360</td>\n",
              "      <td>-0.517625</td>\n",
              "      <td>-1.257246</td>\n",
              "      <td>waiver</td>\n",
              "    </tr>\n",
              "    <tr>\n",
              "      <th>675</th>\n",
              "      <td>waiver</td>\n",
              "      <td>7.907895</td>\n",
              "      <td>-0.919223</td>\n",
              "      <td>-3.686117</td>\n",
              "      <td>waiver</td>\n",
              "    </tr>\n",
              "    <tr>\n",
              "      <th>676</th>\n",
              "      <td>.</td>\n",
              "      <td>2.238050</td>\n",
              "      <td>3.882075</td>\n",
              "      <td>3.800622</td>\n",
              "      <td>waiver</td>\n",
              "    </tr>\n",
              "  </tbody>\n",
              "</table>\n",
              "<p>677 rows × 5 columns</p>\n",
              "</div>\n",
              "      <button class=\"colab-df-convert\" onclick=\"convertToInteractive('df-74b8239c-e42e-4028-928d-37fbcef2f778')\"\n",
              "              title=\"Convert this dataframe to an interactive table.\"\n",
              "              style=\"display:none;\">\n",
              "        \n",
              "  <svg xmlns=\"http://www.w3.org/2000/svg\" height=\"24px\"viewBox=\"0 0 24 24\"\n",
              "       width=\"24px\">\n",
              "    <path d=\"M0 0h24v24H0V0z\" fill=\"none\"/>\n",
              "    <path d=\"M18.56 5.44l.94 2.06.94-2.06 2.06-.94-2.06-.94-.94-2.06-.94 2.06-2.06.94zm-11 1L8.5 8.5l.94-2.06 2.06-.94-2.06-.94L8.5 2.5l-.94 2.06-2.06.94zm10 10l.94 2.06.94-2.06 2.06-.94-2.06-.94-.94-2.06-.94 2.06-2.06.94z\"/><path d=\"M17.41 7.96l-1.37-1.37c-.4-.4-.92-.59-1.43-.59-.52 0-1.04.2-1.43.59L10.3 9.45l-7.72 7.72c-.78.78-.78 2.05 0 2.83L4 21.41c.39.39.9.59 1.41.59.51 0 1.02-.2 1.41-.59l7.78-7.78 2.81-2.81c.8-.78.8-2.07 0-2.86zM5.41 20L4 18.59l7.72-7.72 1.47 1.35L5.41 20z\"/>\n",
              "  </svg>\n",
              "      </button>\n",
              "      \n",
              "  <style>\n",
              "    .colab-df-container {\n",
              "      display:flex;\n",
              "      flex-wrap:wrap;\n",
              "      gap: 12px;\n",
              "    }\n",
              "\n",
              "    .colab-df-convert {\n",
              "      background-color: #E8F0FE;\n",
              "      border: none;\n",
              "      border-radius: 50%;\n",
              "      cursor: pointer;\n",
              "      display: none;\n",
              "      fill: #1967D2;\n",
              "      height: 32px;\n",
              "      padding: 0 0 0 0;\n",
              "      width: 32px;\n",
              "    }\n",
              "\n",
              "    .colab-df-convert:hover {\n",
              "      background-color: #E2EBFA;\n",
              "      box-shadow: 0px 1px 2px rgba(60, 64, 67, 0.3), 0px 1px 3px 1px rgba(60, 64, 67, 0.15);\n",
              "      fill: #174EA6;\n",
              "    }\n",
              "\n",
              "    [theme=dark] .colab-df-convert {\n",
              "      background-color: #3B4455;\n",
              "      fill: #D2E3FC;\n",
              "    }\n",
              "\n",
              "    [theme=dark] .colab-df-convert:hover {\n",
              "      background-color: #434B5C;\n",
              "      box-shadow: 0px 1px 3px 1px rgba(0, 0, 0, 0.15);\n",
              "      filter: drop-shadow(0px 1px 2px rgba(0, 0, 0, 0.3));\n",
              "      fill: #FFFFFF;\n",
              "    }\n",
              "  </style>\n",
              "\n",
              "      <script>\n",
              "        const buttonEl =\n",
              "          document.querySelector('#df-74b8239c-e42e-4028-928d-37fbcef2f778 button.colab-df-convert');\n",
              "        buttonEl.style.display =\n",
              "          google.colab.kernel.accessAllowed ? 'block' : 'none';\n",
              "\n",
              "        async function convertToInteractive(key) {\n",
              "          const element = document.querySelector('#df-74b8239c-e42e-4028-928d-37fbcef2f778');\n",
              "          const dataTable =\n",
              "            await google.colab.kernel.invokeFunction('convertToInteractive',\n",
              "                                                     [key], {});\n",
              "          if (!dataTable) return;\n",
              "\n",
              "          const docLinkHtml = 'Like what you see? Visit the ' +\n",
              "            '<a target=\"_blank\" href=https://colab.research.google.com/notebooks/data_table.ipynb>data table notebook</a>'\n",
              "            + ' to learn more about interactive tables.';\n",
              "          element.innerHTML = '';\n",
              "          dataTable['output_type'] = 'display_data';\n",
              "          await google.colab.output.renderOutput(dataTable, element);\n",
              "          const docLink = document.createElement('div');\n",
              "          docLink.innerHTML = docLinkHtml;\n",
              "          element.appendChild(docLink);\n",
              "        }\n",
              "      </script>\n",
              "    </div>\n",
              "  </div>\n",
              "  "
            ],
            "text/plain": [
              "          token         x         y         z        label\n",
              "0           The  4.228121  7.827736 -1.358887  fiscal-year\n",
              "1        fiscal  5.170710  0.253108 -1.480003  fiscal-year\n",
              "2          year  9.016013  1.632113  0.635511  fiscal-year\n",
              "3            of  6.321855  3.628018 -1.122635  fiscal-year\n",
              "4           the  7.346548  8.460094 -2.252963  fiscal-year\n",
              "..          ...       ...       ...       ...          ...\n",
              "672  constitute  6.169835 -1.266234 -0.777761       waiver\n",
              "673           a  8.734050  1.480656  0.248475       waiver\n",
              "674  continuing  4.160360 -0.517625 -1.257246       waiver\n",
              "675      waiver  7.907895 -0.919223 -3.686117       waiver\n",
              "676           .  2.238050  3.882075  3.800622       waiver\n",
              "\n",
              "[677 rows x 5 columns]"
            ]
          },
          "execution_count": 32,
          "metadata": {},
          "output_type": "execute_result"
        }
      ],
      "source": [
        "df[\"x\"] = df[\"pca_features\"].apply(lambda x: x[0])\n",
        "\n",
        "df[\"y\"] = df[\"pca_features\"].apply(lambda x: x[1])\n",
        "\n",
        "df[\"z\"] = df[\"pca_features\"].apply(lambda x: x[2])\n",
        "\n",
        "df = df[[\"token\", \"x\", \"y\", \"z\", \"label\"]]\n",
        "\n",
        "df"
      ]
    },
    {
      "cell_type": "code",
      "execution_count": null,
      "id": "e96d9799-e838-4cdc-903e-dbd5cdc37aa9",
      "metadata": {
        "colab": {
          "base_uri": "https://localhost:8080/",
          "height": 817
        },
        "id": "e96d9799-e838-4cdc-903e-dbd5cdc37aa9",
        "outputId": "5e4d08a7-8223-4d25-c779-804494bb58be",
        "tags": []
      },
      "outputs": [
        {
          "data": {
            "text/html": [
              "<html>\n",
              "<head><meta charset=\"utf-8\" /></head>\n",
              "<body>\n",
              "    <div>            <script src=\"https://cdnjs.cloudflare.com/ajax/libs/mathjax/2.7.5/MathJax.js?config=TeX-AMS-MML_SVG\"></script><script type=\"text/javascript\">if (window.MathJax) {MathJax.Hub.Config({SVG: {font: \"STIX-Web\"}});}</script>                <script type=\"text/javascript\">window.PlotlyConfig = {MathJaxConfig: 'local'};</script>\n",
              "        <script src=\"https://cdn.plot.ly/plotly-2.8.3.min.js\"></script>                <div id=\"6d5c6dd4-e4c7-42c0-8e34-b395015a03e5\" class=\"plotly-graph-div\" style=\"height:800px; width:1000px;\"></div>            <script type=\"text/javascript\">                                    window.PLOTLYENV=window.PLOTLYENV || {};                                    if (document.getElementById(\"6d5c6dd4-e4c7-42c0-8e34-b395015a03e5\")) {                    Plotly.newPlot(                        \"6d5c6dd4-e4c7-42c0-8e34-b395015a03e5\",                        [{\"customdata\":[[\"The\",\"fiscal-year\"],[\"fiscal\",\"fiscal-year\"],[\"year\",\"fiscal-year\"],[\"of\",\"fiscal-year\"],[\"the\",\"fiscal-year\"],[\"Company\",\"fiscal-year\"],[\"(\",\"fiscal-year\"],[\"herein\",\"fiscal-year\"],[\"called\",\"fiscal-year\"],[\"the\",\"fiscal-year\"],[\"\\\"\",\"fiscal-year\"],[\"fiscal\",\"fiscal-year\"],[\"year\",\"fiscal-year\"],[\"\\\")\",\"fiscal-year\"],[\"shall\",\"fiscal-year\"],[\"end\",\"fiscal-year\"],[\"on\",\"fiscal-year\"],[\"December\",\"fiscal-year\"],[\"31\",\"fiscal-year\"],[\"of\",\"fiscal-year\"],[\"each\",\"fiscal-year\"],[\"calendar\",\"fiscal-year\"],[\"year\",\"fiscal-year\"],[\";\",\"fiscal-year\"],[\"provided\",\"fiscal-year\"],[\",\",\"fiscal-year\"],[\"however\",\"fiscal-year\"],[\",\",\"fiscal-year\"],[\"that\",\"fiscal-year\"],[\"the\",\"fiscal-year\"],[\"Managing\",\"fiscal-year\"],[\"Member\",\"fiscal-year\"],[\"may\",\"fiscal-year\"],[\"change\",\"fiscal-year\"],[\"the\",\"fiscal-year\"],[\"Company's\",\"fiscal-year\"],[\"fiscal\",\"fiscal-year\"],[\"year-end\",\"fiscal-year\"],[\",\",\"fiscal-year\"],[\"without\",\"fiscal-year\"],[\"the\",\"fiscal-year\"],[\"consent\",\"fiscal-year\"],[\"of\",\"fiscal-year\"],[\"the\",\"fiscal-year\"],[\"Non-Managing\",\"fiscal-year\"],[\"Members\",\"fiscal-year\"],[\",\",\"fiscal-year\"],[\"as\",\"fiscal-year\"],[\"deemed\",\"fiscal-year\"],[\"appropriate\",\"fiscal-year\"],[\"by\",\"fiscal-year\"],[\"the\",\"fiscal-year\"],[\"Managing\",\"fiscal-year\"],[\"Member\",\"fiscal-year\"],[\",\",\"fiscal-year\"],[\"in\",\"fiscal-year\"],[\"its\",\"fiscal-year\"],[\"sole\",\"fiscal-year\"],[\"discretion\",\"fiscal-year\"],[\".\",\"fiscal-year\"],[\"Each\",\"fiscal-year\"],[\"of\",\"fiscal-year\"],[\"the\",\"fiscal-year\"],[\"Borrower\",\"fiscal-year\"],[\"and\",\"fiscal-year\"],[\"each\",\"fiscal-year\"],[\"other\",\"fiscal-year\"],[\"member\",\"fiscal-year\"],[\"of\",\"fiscal-year\"],[\"the\",\"fiscal-year\"],[\"Borrower\",\"fiscal-year\"],[\"Affiliated\",\"fiscal-year\"],[\"Group\",\"fiscal-year\"],[\"shall\",\"fiscal-year\"],[\"have\",\"fiscal-year\"],[\"a\",\"fiscal-year\"],[\"fiscal\",\"fiscal-year\"],[\"year\",\"fiscal-year\"],[\"ending\",\"fiscal-year\"],[\"on\",\"fiscal-year\"],[\"the\",\"fiscal-year\"],[\"Saturday\",\"fiscal-year\"],[\"closest\",\"fiscal-year\"],[\"to\",\"fiscal-year\"],[\"January\",\"fiscal-year\"],[\"31\",\"fiscal-year\"],[\"of\",\"fiscal-year\"],[\"each\",\"fiscal-year\"],[\"year\",\"fiscal-year\"],[\"and\",\"fiscal-year\"],[\"shall\",\"fiscal-year\"],[\"notify\",\"fiscal-year\"],[\"the\",\"fiscal-year\"],[\"Administrative\",\"fiscal-year\"],[\"Agent\",\"fiscal-year\"],[\"of\",\"fiscal-year\"],[\"any\",\"fiscal-year\"],[\"change\",\"fiscal-year\"],[\"in\",\"fiscal-year\"],[\"such\",\"fiscal-year\"],[\"fiscal\",\"fiscal-year\"],[\"year\",\"fiscal-year\"],[\"(\",\"fiscal-year\"],[\"whereupon\",\"fiscal-year\"],[\",\",\"fiscal-year\"],[\"notwithstanding\",\"fiscal-year\"],[\"the\",\"fiscal-year\"],[\"provisions\",\"fiscal-year\"],[\"of\",\"fiscal-year\"],[\"Section\",\"fiscal-year\"],[\"9.8\",\"fiscal-year\"],[\",\",\"fiscal-year\"],[\"the\",\"fiscal-year\"],[\"Administrative\",\"fiscal-year\"],[\"Agent\",\"fiscal-year\"],[\"and\",\"fiscal-year\"],[\"the\",\"fiscal-year\"],[\"Banks\",\"fiscal-year\"],[\"shall\",\"fiscal-year\"],[\"have\",\"fiscal-year\"],[\"the\",\"fiscal-year\"],[\"right\",\"fiscal-year\"],[\"to\",\"fiscal-year\"],[\"modify\",\"fiscal-year\"],[\"the\",\"fiscal-year\"],[\"timing\",\"fiscal-year\"],[\"of\",\"fiscal-year\"],[\"the\",\"fiscal-year\"],[\"financial\",\"fiscal-year\"],[\"covenants\",\"fiscal-year\"],[\"hereunder\",\"fiscal-year\"],[\"accordingly\",\"fiscal-year\"],[\"in\",\"fiscal-year\"],[\"order\",\"fiscal-year\"],[\"to\",\"fiscal-year\"],[\"correspond\",\"fiscal-year\"],[\"to\",\"fiscal-year\"],[\"any\",\"fiscal-year\"],[\"such\",\"fiscal-year\"],[\"change\",\"fiscal-year\"],[\"in\",\"fiscal-year\"],[\"fiscal\",\"fiscal-year\"],[\"year\",\"fiscal-year\"],[\").\",\"fiscal-year\"]],\"hovertemplate\":\"label=%{customdata[1]}<br>x=%{x}<br>y=%{y}<br>z=%{z}<br>token=%{customdata[0]}<extra></extra>\",\"legendgroup\":\"fiscal-year\",\"marker\":{\"color\":\"#636efa\",\"symbol\":\"circle\"},\"mode\":\"markers\",\"name\":\"fiscal-year\",\"scene\":\"scene\",\"showlegend\":true,\"x\":[4.228120509444965,5.170710489800116,9.016012554607927,6.321855231350654,7.346548330521915,3.011532770812917,3.221726306181023,5.362324821532664,4.827285635038957,6.015620398410935,2.3257929438409692,5.255597867937918,9.169213822905867,1.9019284447555442,4.860028428319209,6.897489352570062,7.489829468625489,6.455042192502689,4.3994109611257075,5.958733372453086,5.760333196922269,4.777368765151839,8.629772166305473,1.1243055211758441,4.994814623408073,1.249141847765524,3.3638591141133958,1.4151274015694473,5.12946097441491,7.115923179588803,2.7162634110028634,1.3103716358684527,5.912292223111985,6.280825594428821,7.820130727478018,3.404725052712355,5.7683387743290115,9.574778128718803,2.0064997384759686,5.920390836104732,9.630419741789206,6.411902970421988,5.983074200617307,5.672014231472758,2.0023329109188324,1.3152093065806203,1.3696439404497138,7.09044374029996,3.907779621235934,7.091908513117431,6.497954893320936,7.990788687692082,3.24057514085957,1.6244095453485374,1.5083022873631624,6.717845198463651,6.64753902079149,5.386083040663962,4.577607009990469,1.9964869693250782,1.9908190127778336,5.877986410707883,6.407209514988369,2.930752529601387,5.666236513249629,6.417587130648898,8.058218127612534,4.971114083684031,7.2011405058145455,6.689537285902731,3.477708683976315,4.185753428312914,2.4281468169630678,4.544186123235306,6.174177059843953,7.162326796748262,4.5615579378320925,6.7832379832038,4.759755396169014,5.270754536959332,6.056616475715909,3.317319216824639,3.8167047028140626,4.547968695996627,5.127969249143321,4.1613799002955085,5.071998761921929,5.818806825176999,8.44922782865163,4.949418641096622,4.440190961583991,5.323833742375343,7.685648739907439,3.0855464219765527,2.7783630013376435,6.144997593904167,10.653478785883104,7.391142939248044,8.083875508623217,5.917131695340371,5.345762690403288,8.839783846471573,3.686135809376712,4.6333031774761615,1.8514070503158455,5.181740780644793,8.126365975877544,5.255642548066216,6.641393707182452,2.6898191754794154,3.311095139891457,1.0329471719911203,7.125628100728811,3.347542997984485,2.8680520930754825,5.099410431901757,7.394474953323087,2.8335390847119055,4.791573044612949,8.0986134099897,8.399970832661374,6.925653282507003,7.235391025153436,6.07389098402456,8.016285834198989,5.043537157752427,5.9025102418547695,9.12311079559593,6.238617970160083,9.177549176838578,7.6494506413277925,3.590462412375823,7.671261355019266,7.909557677381988,6.503416586213188,4.371400573158132,6.405447078693975,10.315232987019842,7.240972658529308,7.984115352017142,9.076434036653723,5.530453975145788,7.820017476203419,2.2969537296344935],\"y\":[7.827736003364483,0.25310763654270096,1.6321133397405232,3.628017709379505,8.460093687284157,4.29208839904594,1.7274023383152781,0.8585891505350867,1.8007550439443902,5.853595445567383,1.8094464894618496,0.19889358716645128,1.886821943375304,1.5938155325023655,6.62572865070071,1.7224658470984586,3.8271471498502363,3.145410033548806,2.129639996867889,3.4811925216533877,4.907923999238319,0.002044626488142619,3.069518502917723,4.558825912384408,4.5758889767194715,3.5938170659863276,1.2160233954187778,3.5446268098835683,4.6202823029360545,10.077309609814595,3.4828840560597785,5.364534749231614,6.858091739188488,2.081322445776163,7.096977773855435,3.3174687406864147,0.11272910146433664,1.9313046418983706,3.3990718468718755,3.102999850695957,6.983800636573409,1.422887022824519,3.2154239809709835,6.311900972338841,3.8741742548536773,4.491626099735276,3.5959893904049935,3.6210437131161113,0.2873783444199734,1.785523691029845,3.62918078776156,9.49710775045018,3.577350830076773,5.4404379559558045,3.717144739189249,2.679144193596972,4.333429792753324,3.2908085583715865,0.8742755614725373,3.7850255903483725,4.886476524629692,3.5507374187614293,8.901600401932903,5.44172601595701,4.8176389869453375,4.737837136876776,3.9694895233531127,3.2524324287067867,4.4117279600396,8.234299225522008,5.935111356293563,2.8056727453753196,3.8772195193976895,8.22086434486706,1.8308503727726753,2.0903816702326035,-0.04629871744025079,1.1993492716862706,1.5892114593924374,2.3058419395766987,5.254073436569849,2.2323433687219576,1.1843926300343455,3.1204336283245606,3.559616367243383,1.9551742343132963,2.6738298921717973,4.878309283819173,3.003148864757911,6.232730652761184,7.119028733051583,0.7390459307254311,8.546274487520504,5.008299906307965,4.849261959712787,3.146589402991149,4.66228218738202,1.4149323332339874,2.0628112706798363,4.67407885369211,-0.03806132755640773,1.3083513439393633,2.132190172067596,2.333554085587889,3.1388493350336573,1.8625331542243075,5.709821545221383,0.8105448928398074,3.557439040226968,4.5807717170697355,2.516725222995691,3.8218392010455684,7.770018210147866,4.5658933715211685,4.522990924587693,3.9409941510950475,8.606650661541526,4.111354076592435,6.700290230317869,2.23019213392278,4.812780125485586,1.0958400134634392,4.08932443814231,0.39448665112892367,3.8200455323603015,0.16548044734929737,2.43949561002366,5.471152231555487,1.4821541706374266,-0.16087943325385767,0.5389228632244575,0.8472661993070939,2.186842992677716,2.2936713684003642,2.9728324771993577,-0.543313963882856,2.7691051394348705,3.4000143972444317,3.3476487506070396,0.7786487913285727,1.5675382125834196,0.1066359521795593,0.8564442275155593,2.6031889567345967],\"z\":[-1.3588865878154572,-1.4800026405586908,0.6355111816631596,-1.1226350294441834,-2.2529629274735394,-2.5928129715891557,1.9554701905857308,-0.7491445425849582,0.36724709089692154,-0.702812974710129,-0.26503762170472417,-1.511329154102113,1.0191043030177795,1.8834227671041424,0.880629833180051,-0.46902417274884534,1.1795784988165567,-3.192482679712611,0.4281284674585717,0.01111316412299031,-2.2594979961696717,-1.5751671438914008,1.7649762332244594,3.1375078697793137,-0.3068864157990514,3.9812080454339287,0.20233784231332735,3.662578446427123,2.6129297946405092,-1.4003876733356082,-2.707315265870943,-0.7975238635310027,1.9758997889165175,0.4219925527892641,-1.1731913125989017,-1.697316646262989,-1.4945969272208486,1.2996072117284323,3.526206594945773,0.4752130159277383,-0.1956346301746028,0.14600024800887362,0.6118200768906419,-1.0629935781447473,-0.9257794164432971,-0.6327447597153882,3.882209495778081,2.5157945562452118,-0.14405353036502022,0.922499008009196,2.180674103270497,-1.2459892649616184,-3.2030541458127897,-0.7455359733710427,3.934288245855902,2.42031570187857,0.19371652934889363,-0.21624808951328223,0.48758376387095426,3.2285824787478408,-1.706598462739108,-0.5851259908290974,-2.029837544789616,-2.6995051522756155,0.0730905431536204,-4.107879448710967,-0.004969248017719444,-0.22580138226105553,-1.5624135332359648,-2.512480067409656,-3.124249791622621,-3.5695772180201777,-1.9168700260805012,1.2310227938886478,-0.06623147516040712,-1.1776577910004824,-1.2646383918988446,0.4922716884967361,-0.5754710390426899,0.6175428074262016,-0.7083607229469394,-0.7286523696516672,-1.0522686852776877,0.9889771587830727,-1.9333007518235001,0.35328925831753966,-0.05000495898380747,-3.0884857760562823,0.964429198842447,1.832297174469739,1.19095915711777,1.5286815973529033,-1.3365570366541935,-4.952439300397289,-2.601763891952692,0.6132640781823077,-0.14880500827871365,-0.13469461957354548,-0.2580599465345846,-0.9014044655986337,-1.2818688893040335,0.9444724732470212,2.938809283959061,0.7950046630584272,3.4740774536225567,2.169019914659575,0.17758418009365107,-0.8328022053032106,0.39158967231660796,-2.585858526398193,-0.564960748323927,3.2953269943425108,-0.7757479434285091,-4.508123414198493,-1.747967890352986,0.9015043747513686,-1.6912184527941097,-1.8516354763401506,1.5665869519741455,1.1136039066314498,0.15611217592477683,0.4296382230185223,1.693480369950243,-1.4302904049163283,-0.41833788749551387,-0.339860770770014,0.12109801290197708,-1.458722734996571,-1.6049132590968165,-2.2386143790219255,-2.069822218704758,0.3355614360224201,0.8492441221036697,1.5966766947198838,1.1082580227911485,-0.10539471298499352,1.54095082591875,0.16611836353452544,-0.9109015301768391,-0.01128716186330321,-0.1066675642938022,-1.217942837253693,1.0578276033715164,2.8995167285838748],\"type\":\"scatter3d\"},{\"customdata\":[[\"Purchaser\",\"purchase-price\"],[\"shall\",\"purchase-price\"],[\"pay\",\"purchase-price\"],[\"as\",\"purchase-price\"],[\"the\",\"purchase-price\"],[\"total\",\"purchase-price\"],[\"Purchase\",\"purchase-price\"],[\"Price\",\"purchase-price\"],[\"for\",\"purchase-price\"],[\"the\",\"purchase-price\"],[\"Property\",\"purchase-price\"],[\"(\",\"purchase-price\"],[\"\\u201cPurchase\",\"purchase-price\"],[\"Price\\u201d\",\"purchase-price\"],[\")\",\"purchase-price\"],[\"the\",\"purchase-price\"],[\"amount\",\"purchase-price\"],[\"of\",\"purchase-price\"],[\"Five\",\"purchase-price\"],[\"Million\",\"purchase-price\"],[\"Three\",\"purchase-price\"],[\"Hundred\",\"purchase-price\"],[\"Thousand\",\"purchase-price\"],[\"and\",\"purchase-price\"],[\"No/100ths\",\"purchase-price\"],[\"U.S\",\"purchase-price\"],[\".\",\"purchase-price\"],[\"Dollars\",\"purchase-price\"],[\"(\",\"purchase-price\"],[\"$5,300,000.00\",\"purchase-price\"],[\"),\",\"purchase-price\"],[\"which\",\"purchase-price\"],[\"shall\",\"purchase-price\"],[\"be\",\"purchase-price\"],[\"payable\",\"purchase-price\"],[\"as\",\"purchase-price\"],[\"follows\",\"purchase-price\"],[\":\",\"purchase-price\"],[\"The\",\"purchase-price\"],[\"purchase\",\"purchase-price\"],[\"price\",\"purchase-price\"],[\"to\",\"purchase-price\"],[\"be\",\"purchase-price\"],[\"paid\",\"purchase-price\"],[\"by\",\"purchase-price\"],[\"Purchaser\",\"purchase-price\"],[\"to\",\"purchase-price\"],[\"Seller\",\"purchase-price\"],[\"for\",\"purchase-price\"],[\"the\",\"purchase-price\"],[\"Subject\",\"purchase-price\"],[\"Property\",\"purchase-price\"],[\"shall\",\"purchase-price\"],[\"be\",\"purchase-price\"],[\"the\",\"purchase-price\"],[\"sum\",\"purchase-price\"],[\"of\",\"purchase-price\"],[\"Three\",\"purchase-price\"],[\"Million\",\"purchase-price\"],[\"Five\",\"purchase-price\"],[\"Hundred\",\"purchase-price\"],[\"Twenty-Five\",\"purchase-price\"],[\"Thousand\",\"purchase-price\"],[\"and\",\"purchase-price\"],[\"No/100\",\"purchase-price\"],[\"Dollars\",\"purchase-price\"],[\"(\",\"purchase-price\"],[\"$3,525,000.00\",\"purchase-price\"],[\").\",\"purchase-price\"],[\"The\",\"purchase-price\"],[\"purchase\",\"purchase-price\"],[\"price\",\"purchase-price\"],[\"shall\",\"purchase-price\"],[\"be\",\"purchase-price\"],[\"payable\",\"purchase-price\"],[\"all\",\"purchase-price\"],[\"in\",\"purchase-price\"],[\"cash\",\"purchase-price\"],[\"at\",\"purchase-price\"],[\"the\",\"purchase-price\"],[\"closing\",\"purchase-price\"],[\".\",\"purchase-price\"]],\"hovertemplate\":\"label=%{customdata[1]}<br>x=%{x}<br>y=%{y}<br>z=%{z}<br>token=%{customdata[0]}<extra></extra>\",\"legendgroup\":\"purchase-price\",\"marker\":{\"color\":\"#EF553B\",\"symbol\":\"circle\"},\"mode\":\"markers\",\"name\":\"purchase-price\",\"scene\":\"scene\",\"showlegend\":true,\"x\":[3.675995721847944,5.029918527326379,6.270330369046002,4.700241926480535,6.883129582042776,4.444630394994302,2.739573549661992,5.037438655436763,5.933750708459228,5.400923446957524,3.1836507239389937,4.2896996857199925,1.7868748768716431,2.5154455022315276,3.195641174907711,8.118816189593804,8.978801504210429,6.268951366378242,1.3333348896180317,1.3102113337738575,1.7352707140100971,1.5965145639399565,-0.10559236780491024,3.1266503726597628,1.1031705985876836,-0.11510060597463372,0.3988424507265008,2.205783511701292,3.655662872255586,2.0706709102378107,0.4638176968284669,6.555086412554065,4.340156545108481,8.791921825576836,5.627163635286109,5.667411164863636,3.473535673233822,0.7609433284416999,4.20623065505087,6.381878988607129,7.662919048231872,5.877441778408072,9.131262271753473,5.626038276180378,7.4995220198036705,3.9264355986980375,6.971006763266278,3.1585686385477483,7.377867230621553,7.141212489089339,2.0958019623480006,3.6415222545355856,3.5288508123247273,8.167519986298712,8.845704103127549,4.542122382811471,6.73478452194558,2.007336871176988,1.3550250736567515,1.8395214355300233,1.6782838063624013,1.8470705782389811,-0.23460951594986915,2.9914917260272453,0.3757543806066587,1.9555432167677933,2.092968119641947,1.7263701931081743,0.5661780854485561,4.16045756263051,6.959590515481316,8.904157966438952,3.785017374241954,7.8536174766585445,5.566818247422856,4.462413464524028,6.594026382412866,6.16110770321411,5.0364727551777175,6.17884356231151,3.6685332131810306,2.495802164601508],\"y\":[4.322351367296826,7.85607503364595,1.9028074385478513,3.2114993312625537,7.071885707249623,3.033444443098866,3.9003911931611897,4.219198765209696,3.0902826811094966,7.7234660160967055,5.124659930973967,3.356645892524786,3.5984094848300097,3.5810852002179425,2.7631065388337785,8.239476013597455,2.1035917461062823,4.055006012114484,4.956361669076731,5.398911129683263,3.799339854541088,5.433791520987957,5.107252623578662,7.300362879627116,4.9009801822257915,3.678711991163031,3.351654562157911,3.7132473887941226,2.7802455462199513,2.6756866088498885,1.989831616242726,6.598164887588471,6.72354662043428,4.229631323990273,0.8770519862083404,3.0720212582513975,1.6094905579234977,3.2366790613856025,7.99469179259997,0.7019539526219504,2.818161599957137,4.299370565152991,4.460995477100045,1.7351708535896695,4.924667375671204,5.0202412730647294,5.200713197038885,3.6044970753359733,2.452663302388453,9.490144972649041,4.213749152548727,6.111304421665165,6.864784784037582,3.9035932088637404,8.24694324149213,3.15595136277056,4.468782777170381,3.7647554012022693,4.804831020907433,4.165717611630908,4.405120404963729,4.196970088209223,4.28725070202184,6.128048558616788,4.060162825067165,3.0816954625858437,2.5292868666150894,2.8012752455335344,2.6762884962429867,8.626193357065867,0.9257743397794503,3.3305242441934766,6.623564625657778,2.902650634370052,0.3795619205007737,1.0833358599168346,2.267764733481743,2.3985227872434653,3.066085828652341,5.372253857935032,1.0410296228599925,3.4895772649426346],\"z\":[-1.3212168322156819,1.0144825805948041,-0.2348523696032467,1.1599894755805642,-1.260951234650768,-1.1870544795576532,-2.766686800666616,-0.9703586143010543,-0.5922876078299836,-2.392431890858865,-2.5491319649808393,0.8480848054477681,-0.6370640304079308,-0.5724085354142592,1.7272138197379168,-1.2299873336485052,0.16389888771863925,-0.8773215473299328,-2.4260275743544613,-2.439465279212255,-2.9855799806209338,-5.161592968281731,-5.114161882249453,-0.9164287386478978,-2.4610929641366655,-1.883164326780846,0.7744622363721887,-1.3096265441625716,2.6187907398096693,0.3458909074959179,0.5231911279750279,-0.8036014906169788,1.0472772475381773,1.0052826541070097,-0.17328181809611998,0.46098531773904805,-0.9342430807676413,1.7522585341487413,-1.05036365135035,-0.7294616667707061,1.4449481973109295,1.1825801520742345,0.14896274199992363,-0.887388632496499,0.38888289822105127,-2.6142190229469184,0.18219187417966592,-2.4886999228369144,-0.2247208365169339,-2.7089072772146188,-3.999222852443936,-2.1495673236794457,1.147061451540555,1.0306340505250473,-1.1996919295099624,0.6860150923097376,-0.5415700093379161,-3.8727023175662967,-2.5472214324338327,-1.7634424817797099,-4.667582417845875,-3.320052546946167,-4.6422979432895914,-0.3487487463153926,-1.2613628409100732,-2.1240017924684094,1.4055594461175054,0.9519227489732657,1.635968759000133,-1.2500927728045323,-0.8893251038842872,1.7649581789825348,1.678106462470633,1.2391647239144354,-0.121625072521544,1.2120221785934673,0.3236211432978283,0.20114960464158238,1.3954749054791449,-0.5524098016959715,-0.7487628186599873,1.9265231354680825],\"type\":\"scatter3d\"},{\"customdata\":[[\"The\",\"guarantee\"],[\"Guarantor\",\"guarantee\"],[\"hereby\",\"guarantee\"],[\"unconditionally\",\"guarantee\"],[\"and\",\"guarantee\"],[\"irrevocably\",\"guarantee\"],[\"guarantees\",\"guarantee\"],[\"to\",\"guarantee\"],[\"the\",\"guarantee\"],[\"Union\",\"guarantee\"],[\"the\",\"guarantee\"],[\"due\",\"guarantee\"],[\"and\",\"guarantee\"],[\"punctual\",\"guarantee\"],[\"payment\",\"guarantee\"],[\"on\",\"guarantee\"],[\"demand\",\"guarantee\"],[\"of\",\"guarantee\"],[\"up\",\"guarantee\"],[\"to\",\"guarantee\"],[\"100\",\"guarantee\"],[\"per\",\"guarantee\"],[\"cent\",\"guarantee\"],[\"of\",\"guarantee\"],[\"its\",\"guarantee\"],[\"contribution\",\"guarantee\"],[\"(\",\"guarantee\"],[\"the\",\"guarantee\"],[\"\\\"\",\"guarantee\"],[\"Guaranteed\",\"guarantee\"],[\"Contribution\",\"guarantee\"],[\"\\\")\",\"guarantee\"],[\"and\",\"guarantee\"],[\"accordingly\",\"guarantee\"],[\"undertakes\",\"guarantee\"],[\"to\",\"guarantee\"],[\"pay\",\"guarantee\"],[\"to\",\"guarantee\"],[\"the\",\"guarantee\"],[\"Union\",\"guarantee\"],[\",\",\"guarantee\"],[\"within\",\"guarantee\"],[\"ten\",\"guarantee\"],[\"(\",\"guarantee\"],[\"10\",\"guarantee\"],[\")\",\"guarantee\"],[\"Business\",\"guarantee\"],[\"Days\",\"guarantee\"],[\"(\",\"guarantee\"],[\"or\",\"guarantee\"],[\"such\",\"guarantee\"],[\"shorter\",\"guarantee\"],[\"period\",\"guarantee\"],[\"as\",\"guarantee\"],[\"is\",\"guarantee\"],[\"specified\",\"guarantee\"],[\"in\",\"guarantee\"],[\"this\",\"guarantee\"],[\"Guarantee\",\"guarantee\"],[\"Agreement\",\"guarantee\"],[\")\",\"guarantee\"],[\"of\",\"guarantee\"],[\"receiving\",\"guarantee\"],[\"a\",\"guarantee\"],[\"written\",\"guarantee\"],[\"demand\",\"guarantee\"],[\"from\",\"guarantee\"],[\"the\",\"guarantee\"],[\"Commission\",\"guarantee\"],[\"in\",\"guarantee\"],[\"accordance\",\"guarantee\"],[\"with\",\"guarantee\"],[\"this\",\"guarantee\"],[\"Guarantee\",\"guarantee\"],[\"Agreement\",\"guarantee\"],[\"(\",\"guarantee\"],[\"a\",\"guarantee\"],[\"\\\"\",\"guarantee\"],[\"Demand\",\"guarantee\"],[\"\\\")\",\"guarantee\"],[\"up\",\"guarantee\"],[\"to\",\"guarantee\"],[\"100\",\"guarantee\"],[\"per\",\"guarantee\"],[\"cent\",\"guarantee\"],[\"of\",\"guarantee\"],[\"its\",\"guarantee\"],[\"Guaranteed\",\"guarantee\"],[\"Contribution\",\"guarantee\"],[\".\",\"guarantee\"],[\"The\",\"guarantee\"],[\"Holding\",\"guarantee\"],[\"Company\",\"guarantee\"],[\"hereby\",\"guarantee\"],[\"agrees\",\"guarantee\"],[\"to\",\"guarantee\"],[\"guarantee\",\"guarantee\"],[\"the\",\"guarantee\"],[\"payment\",\"guarantee\"],[\"by\",\"guarantee\"],[\"the\",\"guarantee\"],[\"Association\",\"guarantee\"],[\"of\",\"guarantee\"],[\"any\",\"guarantee\"],[\"benefits\",\"guarantee\"],[\"and\",\"guarantee\"],[\"compensation\",\"guarantee\"],[\"to\",\"guarantee\"],[\"which\",\"guarantee\"],[\"Executive\",\"guarantee\"],[\"is\",\"guarantee\"],[\"or\",\"guarantee\"],[\"may\",\"guarantee\"],[\"be\",\"guarantee\"],[\"entitled\",\"guarantee\"],[\"to\",\"guarantee\"],[\"under\",\"guarantee\"],[\"the\",\"guarantee\"],[\"terms\",\"guarantee\"],[\"and\",\"guarantee\"],[\"conditions\",\"guarantee\"],[\"of\",\"guarantee\"],[\"the\",\"guarantee\"],[\"employment\",\"guarantee\"],[\"agreement\",\"guarantee\"],[\"dated\",\"guarantee\"],[\"as\",\"guarantee\"],[\"of\",\"guarantee\"],[\"September\",\"guarantee\"],[\"26\",\"guarantee\"],[\",\",\"guarantee\"],[\"1996\",\"guarantee\"],[\"between\",\"guarantee\"],[\"the\",\"guarantee\"],[\"Association\",\"guarantee\"],[\"and\",\"guarantee\"],[\"the\",\"guarantee\"],[\"Executive\",\"guarantee\"],[\",\",\"guarantee\"],[\"a\",\"guarantee\"],[\"copy\",\"guarantee\"],[\"of\",\"guarantee\"],[\"which\",\"guarantee\"],[\"is\",\"guarantee\"],[\"attached\",\"guarantee\"],[\"hereto\",\"guarantee\"],[\"as\",\"guarantee\"],[\"Exhibit\",\"guarantee\"],[\"A\",\"guarantee\"],[\"(\\\"\",\"guarantee\"],[\"Association\",\"guarantee\"],[\"Agreement\",\"guarantee\"],[\"\\\").\",\"guarantee\"]],\"hovertemplate\":\"label=%{customdata[1]}<br>x=%{x}<br>y=%{y}<br>z=%{z}<br>token=%{customdata[0]}<extra></extra>\",\"legendgroup\":\"guarantee\",\"marker\":{\"color\":\"#00cc96\",\"symbol\":\"circle\"},\"mode\":\"markers\",\"name\":\"guarantee\",\"scene\":\"scene\",\"showlegend\":true,\"x\":[2.685308738510869,1.417227112674933,5.017804441018571,5.648690225125603,6.179830804859628,5.320072117147535,3.6838723345007045,7.040685516247209,7.7586301043721555,2.0085008010982586,6.869368799530738,4.680172319753381,6.243956218414202,4.306983543466402,6.28870353381773,4.602630159982054,7.086557581681406,4.849844767681574,6.583367439654437,7.683153765850407,8.412591532339638,10.317960113771461,6.960635446831243,8.64828426021834,7.497517356616318,3.747442834057886,3.9570574862515704,5.360680704990269,2.3153619678703685,3.5668835494842943,4.956288800444849,1.104519303468234,3.340466642705282,2.6914977956670247,3.91009408389358,5.898953857112554,6.320184837449664,6.741915537938341,7.525310811117039,2.0476411847292915,1.7344250448204308,5.195037543145312,6.15800382413527,3.6386561830767348,5.020910691318934,2.272544815564715,1.8693404667081759,1.785849435189345,5.094393033856588,6.622861296136026,7.400424881343983,3.78379772506175,7.999294388127233,7.149751636369558,7.359208674477928,4.015461353606222,6.720363627214719,5.809123712691892,2.647622534566431,2.9827487388987644,2.9789001807099735,4.900900391583249,5.892197149776748,9.446236359722397,5.8952137145905406,5.837644321016477,6.907909309590163,7.478578020278151,2.3524403307102713,8.809975785835313,6.638469161507886,7.5563349476594075,5.80024978845656,3.0437310202007675,3.8927722575432187,4.284767842078592,4.6528525479683,2.6203269824386766,3.238144653714022,3.1175822460243148,6.6318542373417175,7.143431690534089,7.875407402216807,10.509556290408756,7.414505740493678,8.50331994850888,5.833356160789221,4.50542966001495,5.2484156834617135,1.4914096887027728,2.8256637074395776,0.9874206701371432,2.293657014885163,6.067818935575918,4.024835484106092,7.683414538173391,3.79115328851107,9.403640567737723,6.23921505143111,5.257020757879382,7.865947490876258,2.456931523782794,7.303448727934307,9.393454186528102,4.666858067878377,7.257584984647164,5.769324929077075,5.696407859533054,6.263526740527251,2.8426574153307316,8.197532683199347,5.8429015531916395,6.280659451587003,8.463724884467192,5.709626081454116,7.044290332171314,7.795301593335677,10.477117607727916,8.345130459615673,6.96616824455076,5.38232791412422,7.893167196724471,8.460503832720862,5.325825750773995,5.270819200763947,4.954815549765112,5.4429751364609364,6.517957976689217,4.480368031650237,4.702127290161775,0.6686230884280765,4.12681337970607,6.718403980702458,7.506100772458081,2.1505563978543605,6.832752748107127,6.944908121678215,2.5086749600617857,1.0020012900804534,8.992708674290196,7.192145112332865,8.266575412238272,6.916133989298187,6.696440966236919,5.454804935654053,4.840322678314219,5.426948192830821,3.3133692067873373,3.977436477050111,1.6716115064437458,2.9198084371767545,4.4398737846686505,2.1818888422980685],\"y\":[8.920454900039218,4.818951022737971,-0.16275760015524754,1.617992255276895,3.917547070764149,1.89168194273303,0.8359534667176585,4.350797245050633,9.309438555666787,4.236350787456359,5.450611981790749,0.3621834133269616,3.522716706627036,0.6535498619956608,1.5899922919708467,1.0396644102403034,2.1193230692466773,1.417941272179623,1.5650439853346083,3.9594141334509674,1.4391861268585324,1.0351595691148858,1.2704926701641825,2.8383200813653766,4.182389043199363,0.39655096119310435,1.6447505347659204,5.478166103525597,1.1319622214071994,3.7989899650426397,2.7530850732695824,2.027116091841743,4.450891457484796,1.1282673148675864,1.1433633318670413,4.289353789770844,1.6533701624001738,4.07073391334888,8.762891839215689,4.506697907120186,2.963577840063902,2.7509726784732664,2.4122309984850867,1.3398635040290618,2.7399618931115333,2.3317202336207465,3.2150557024603077,3.5064947644180675,1.6771100956923286,2.9842175840208878,3.3858756691149394,0.526684848297027,2.4572204806381794,2.809133352903248,3.53129964572437,1.2413343702361967,1.96932509279161,2.788891975599005,3.7176994881994485,2.8149322202977984,1.7410857943406406,2.271645667515594,0.4921330080277732,1.8299154459915286,1.5690094070793785,0.885060926930917,1.8698181432904715,7.995502125314631,2.6326664812019187,1.2320429922506873,-0.7479989244970434,2.8909777653955566,2.522636614701701,3.54754284784211,2.4542929894181538,1.0014958169370893,2.3620378020330035,0.7304612928846206,2.761644912093055,0.8924923192627747,1.364700976419426,3.272957929738337,0.9327523220639096,0.5884868837060944,0.50356655218363,2.3842883658596565,3.7357477249823283,2.466956093586677,1.7798663336402023,3.2071399513534353,8.341631220824233,2.437626560138581,4.5823171117602115,0.5071494050101123,0.4887702905594792,5.181678456920848,0.9133435713523215,7.236339475117079,1.5457149525289395,3.4254140664385253,10.499854854517055,2.961626914480492,3.3617151932709057,3.7969264997760064,-0.009118042718935024,4.082959626222375,-0.5512553114279831,3.0540652832219077,5.240025560126522,3.1646421452760607,3.6970400312423433,2.6174304914204383,4.014617882701148,2.418459659457109,-0.702042982262063,3.033220478185794,2.9006617582944694,7.407755670198563,1.54139233085318,4.4337359693523615,0.06250244479245447,3.7644634782732465,6.716112673588704,3.027110194854774,-0.38870459562546494,3.18276866204025,2.146684771910135,2.969982152694781,2.3137893663903877,0.8872995207245399,3.898982648973355,1.5634234728769494,2.018115935762376,10.409201333956547,3.047237619895553,4.630510900429271,9.19428309756563,3.185332324656025,3.9771851869983257,2.674376588769191,2.119690439835887,4.650702197008253,6.516700691692832,4.008950079531026,1.9509012721883112,2.24617093311145,3.0397711437343617,2.796739853521644,3.2357333280914355,2.715272796021898,2.7653179392368736,2.155350032453832,2.2421003523432637],\"z\":[-1.1933379178535395,-6.990446481980681,-0.9065794980039057,0.7183038001505859,1.4637636036493036,0.4534074257029296,-2.4674511010930416,0.5000292952603453,-2.7894255621209254,-1.9069854239364967,-0.46904817576083185,-1.9983408190727616,0.4265399111793606,-0.5789698650857585,-0.7850305150592194,0.7486150918761801,-2.84622112462575,-0.32246861462134574,-1.294563533817857,0.9503528095091691,-3.7469964180409483,-1.2572078938706512,-0.6808582215928763,-1.594361442189656,-1.764996096354819,-2.7571869895193206,2.1713548112042087,0.03594402907821754,-0.5076705767974022,-7.122328213389217,-6.229959946702037,1.8479575160936512,1.2949160323204032,0.4112196399017866,0.7484581516404736,0.9339637610727417,0.08146748421373248,0.8356417249839491,-2.1948322534614926,-2.2335601089325974,3.3140461804317924,0.3293259638190784,-0.5305149559735732,1.8552645304838042,0.1570346470044341,1.7987622704791768,-0.9030956415226833,-1.796403409298929,3.385712441160535,1.7640454461979578,-0.09990987101065406,0.7847511148015459,1.480446273072869,2.146174534568049,1.3938422915469437,-0.9028287204620402,0.4783967084310146,-1.3416342708040003,-6.447615583628205,-4.716514115045323,2.683139697261912,0.4429362004274033,0.3654985986026491,-0.6693205674872684,0.07326571029621201,-1.9080028679042318,0.10368553512569305,-2.375103158954904,-1.3899053940657502,-0.09642323921571572,-1.1280123660583607,0.8097985897579779,-1.3916286550735346,-6.261927048332679,-4.983557483488667,2.0937090126890383,0.3765329842816667,-0.3916437741121618,-2.6612051205717666,0.1784078958306009,-0.7703207219831987,0.876064600510876,-3.5406877443076317,-0.9444199967846698,-0.777757159623518,-1.3439538641574513,-0.8656306308407136,-7.507953367559509,-6.639922911859006,2.41035284296216,-1.265359669861676,-2.8538603391828157,-0.5222885350652011,-1.472903121736545,-2.0467199365184108,1.044872476640033,-1.5616453427587074,-0.6904551553855978,-0.39271269039720264,0.7743387461365077,-2.7208208778031935,-4.4531191817110845,-0.15129415292675502,-0.20817769406491862,-2.6024200351110727,0.3778224702868268,-2.445271759477722,1.2104486639675598,-0.46386996533234925,-2.172783349172526,0.9138938969524311,0.5896176830713082,-0.9260870449833923,0.8298851370117801,-2.497510713738448,1.0085351601942552,-0.07988342833888247,-1.4907789665294768,-0.10039376071895982,0.572612290037994,-1.8408031481137621,-0.9807371527738367,-1.4817899504779504,-1.1760958709257332,-2.6284697325397186,-0.42790779037559956,0.8074111834886735,-0.5411633081787597,-1.9367990322903637,-0.6984591964692095,2.6234554558403413,-0.5582204135371365,0.10586010330289666,-2.6601494907982994,-4.945645286201932,0.4583937326977181,-1.9287795769732532,-3.5944347620158696,3.113964373361412,-0.39176916058081723,0.27874470617722047,-1.0768422889177034,-0.3582915198252791,1.9301661645966193,-0.6067229830885077,0.5529075741240702,2.645016147992731,-2.2021998159103537,-1.414516846724179,0.6542272865008327,-3.3699310476113977,-5.007561695976394,0.993156865601359],\"type\":\"scatter3d\"},{\"customdata\":[[\"GFS\",\"expenses\"],[\"will\",\"expenses\"],[\"bear\",\"expenses\"],[\"its\",\"expenses\"],[\"own\",\"expenses\"],[\"expenses\",\"expenses\"],[\",\",\"expenses\"],[\"in\",\"expenses\"],[\"connection\",\"expenses\"],[\"with\",\"expenses\"],[\"the\",\"expenses\"],[\"performance\",\"expenses\"],[\"of\",\"expenses\"],[\"the\",\"expenses\"],[\"services\",\"expenses\"],[\"under\",\"expenses\"],[\"this\",\"expenses\"],[\"Agreement\",\"expenses\"],[\",\",\"expenses\"],[\"except\",\"expenses\"],[\"as\",\"expenses\"],[\"provided\",\"expenses\"],[\"herein\",\"expenses\"],[\"or\",\"expenses\"],[\"as\",\"expenses\"],[\"agreed\",\"expenses\"],[\"to\",\"expenses\"],[\"by\",\"expenses\"],[\"the\",\"expenses\"],[\"parties\",\"expenses\"],[\".\",\"expenses\"],[\"In\",\"expenses\"],[\"addition\",\"expenses\"],[\"to\",\"expenses\"],[\"the\",\"expenses\"],[\"fees\",\"expenses\"],[\"paid\",\"expenses\"],[\"under\",\"expenses\"],[\"subsection\",\"expenses\"],[\"(\",\"expenses\"],[\"a\",\"expenses\"],[\"),\",\"expenses\"],[\"the\",\"expenses\"],[\"Trust\",\"expenses\"],[\"agrees\",\"expenses\"],[\"to\",\"expenses\"],[\"reimburse\",\"expenses\"],[\"GFS\",\"expenses\"],[\"for\",\"expenses\"],[\"out-of-pocket\",\"expenses\"],[\"expenses\",\"expenses\"],[\"or\",\"expenses\"],[\"advances\",\"expenses\"],[\"incurred\",\"expenses\"],[\"by\",\"expenses\"],[\"GFS\",\"expenses\"],[\"for\",\"expenses\"],[\"the\",\"expenses\"],[\"items\",\"expenses\"],[\"set\",\"expenses\"],[\"out\",\"expenses\"],[\"in\",\"expenses\"],[\"Schedule\",\"expenses\"],[\"B\",\"expenses\"],[\"and\",\"expenses\"],[\"any\",\"expenses\"],[\"other\",\"expenses\"],[\"expenses\",\"expenses\"],[\"incurred\",\"expenses\"],[\"by\",\"expenses\"],[\"GFS\",\"expenses\"],[\"at\",\"expenses\"],[\"the\",\"expenses\"],[\"request\",\"expenses\"],[\"or\",\"expenses\"],[\"with\",\"expenses\"],[\"the\",\"expenses\"],[\"consent\",\"expenses\"],[\"of\",\"expenses\"],[\"the\",\"expenses\"],[\"Trust\",\"expenses\"],[\".\",\"expenses\"],[\"Each\",\"expenses\"],[\"party\",\"expenses\"],[\"shall\",\"expenses\"],[\"bear\",\"expenses\"],[\"its\",\"expenses\"],[\"own\",\"expenses\"],[\"expenses\",\"expenses\"],[\"in\",\"expenses\"],[\"connection\",\"expenses\"],[\"with\",\"expenses\"],[\"presenting\",\"expenses\"],[\"its\",\"expenses\"],[\"case\",\"expenses\"],[\"in\",\"expenses\"],[\"arbitration\",\"expenses\"],[\".\",\"expenses\"],[\"A\",\"expenses\"],[\"transcript\",\"expenses\"],[\"or\",\"expenses\"],[\"recording\",\"expenses\"],[\"shall\",\"expenses\"],[\"be\",\"expenses\"],[\"made\",\"expenses\"],[\"of\",\"expenses\"],[\"the\",\"expenses\"],[\"hearing\",\"expenses\"],[\"at\",\"expenses\"],[\"the\",\"expenses\"],[\"request\",\"expenses\"],[\"of\",\"expenses\"],[\"either\",\"expenses\"],[\"party\",\"expenses\"],[\".\",\"expenses\"],[\"The\",\"expenses\"],[\"parties\",\"expenses\"],[\"shall\",\"expenses\"],[\"share\",\"expenses\"],[\"equally\",\"expenses\"],[\"the\",\"expenses\"],[\"fees\",\"expenses\"],[\"and\",\"expenses\"],[\"expenses\",\"expenses\"],[\"of\",\"expenses\"],[\"the\",\"expenses\"],[\"arbitrator\",\"expenses\"],[\",\",\"expenses\"],[\"the\",\"expenses\"],[\"cost\",\"expenses\"],[\"of\",\"expenses\"],[\"the\",\"expenses\"],[\"transcript\",\"expenses\"],[\"or\",\"expenses\"],[\"recording\",\"expenses\"],[\"if\",\"expenses\"],[\"requested\",\"expenses\"],[\"by\",\"expenses\"],[\"either\",\"expenses\"],[\"or\",\"expenses\"],[\"both\",\"expenses\"],[\"parties\",\"expenses\"],[\",\",\"expenses\"],[\"and\",\"expenses\"],[\"other\",\"expenses\"],[\"expenses\",\"expenses\"],[\",\",\"expenses\"],[\"which\",\"expenses\"],[\"the\",\"expenses\"],[\"parties\",\"expenses\"],[\"mutually\",\"expenses\"],[\"agree\",\"expenses\"],[\"are\",\"expenses\"],[\"necessary\",\"expenses\"],[\"for\",\"expenses\"],[\"the\",\"expenses\"],[\"conduct\",\"expenses\"],[\"of\",\"expenses\"],[\"the\",\"expenses\"],[\"arbitration\",\"expenses\"],[\".\",\"expenses\"],[\"However\",\"expenses\"],[\",\",\"expenses\"],[\"the\",\"expenses\"],[\"party\",\"expenses\"],[\"ordering\",\"expenses\"],[\"the\",\"expenses\"],[\"copy\",\"expenses\"],[\"of\",\"expenses\"],[\"the\",\"expenses\"],[\"transcript\",\"expenses\"],[\"shall\",\"expenses\"],[\"pay\",\"expenses\"],[\"for\",\"expenses\"],[\"such\",\"expenses\"],[\"copy\",\"expenses\"],[\".\",\"expenses\"]],\"hovertemplate\":\"label=%{customdata[1]}<br>x=%{x}<br>y=%{y}<br>z=%{z}<br>token=%{customdata[0]}<extra></extra>\",\"legendgroup\":\"expenses\",\"marker\":{\"color\":\"#ab63fa\",\"symbol\":\"circle\"},\"mode\":\"markers\",\"name\":\"expenses\",\"scene\":\"scene\",\"showlegend\":true,\"x\":[3.233812151855086,6.670116183818153,5.921564956818413,6.723367568281531,7.444878547892022,6.831980644581202,2.5119820220772366,8.256223546887828,6.3026984798302275,7.471805768493107,10.674049164561383,7.2089772780212416,8.7929136032899,9.197785207047286,6.065860632487986,7.4501232387369365,6.348368463407605,2.4178120727378265,1.545656510753996,4.823331636933189,7.554404686420289,5.19502009615012,5.938461033809271,6.563152347514365,6.859317102762846,3.773825972648222,5.992872197197708,6.5956653175803375,9.114112145864517,6.368701029103521,1.1822657306689308,3.1931123817194464,5.604801147826474,7.309699160990007,9.123425045770526,5.623486116344295,4.839566908220866,6.813875877522748,5.391025837591048,4.0705063364273455,4.5217941798886505,0.5928440333534456,6.011273513810211,0.9730754456061554,3.611699333844197,6.642242582525201,5.542881880200541,3.9711694979395853,6.395881530448741,5.6746355400596915,7.192525574616806,7.685445885856515,4.019219778390514,5.902434788753278,6.135407704752137,3.818752782579235,5.738673881068657,8.02165414955935,5.424030720503636,7.369817970104717,8.599023047169037,9.09809595460462,2.2553260253195453,3.616520942098017,7.09648266908091,9.681370665098907,9.0703241877304,8.188823812504134,5.914020992566426,7.14303433526727,4.045887007307099,7.4582005465885475,9.802754346665065,6.379516877899804,6.316044184553121,7.505887316545267,10.961984669279014,6.821469877143567,6.625027618660446,6.761078408043264,1.2874804614093718,1.767843811902545,2.0915270655483216,8.253972177283119,4.750880914632914,6.321072118766287,8.463613058500092,7.823613780503083,6.546253758381791,8.69093283318653,6.34089479956358,7.610768046834889,6.538565468892263,9.02922492061239,6.259606490276086,6.295703363387072,5.270771029304038,1.7076942152468593,2.644575069026309,4.38238976565728,8.922862542027202,6.52475243270266,4.342570866196836,7.489697694015997,5.165067227696001,5.1099069137718525,7.758953332898445,5.414875181150533,7.203112574683373,9.486615651278013,7.568946586343212,7.712103349716104,7.564886389272898,8.855563076446575,1.5946221567689711,3.2293133015490185,8.208766171590227,4.6857789955779126,5.056736883347764,4.460158536703876,8.887227767624495,6.30769572815477,7.532783077481805,8.070046684555239,6.287698321888507,8.135706652578548,5.300295300610333,1.6009375045992513,7.532441925561965,6.158465004887184,7.5763761434067955,9.202444104515498,4.566682744481748,9.583320468120915,5.944491023572493,6.552176737838686,4.538945820601802,6.657640513115835,8.766010396686129,8.057647926053502,6.429107553855268,8.869990675278132,1.7727961226755966,7.750269673620417,9.613656335012804,7.28901020960022,2.74399410328144,6.5040432569150965,8.462633828297077,8.854087184348234,2.95045778351605,5.519677910930466,8.068909681835969,7.2559344033439634,8.469469619415278,10.357831349912328,6.609090487887764,7.38613233291823,9.298243049562291,5.59210509508957,1.9143782067020885,0.7885584638701236,1.7370856526040566,8.272496884718821,7.68632190168171,4.977493201191329,9.078661680054955,6.972816492213242,8.826861457839444,10.33133168066551,5.019012802500296,4.451608873277023,6.070510029123989,6.739904915723117,7.0282037333404865,7.550771743464899,2.2684951055988396],\"y\":[3.570800270875704,2.944904273846219,0.6863367659870031,2.86322868748369,0.46090283062457815,-0.7939293251925114,2.5679420095067598,2.118065223603514,1.8139635422672864,2.3072147453918403,6.716835505778928,1.5944487997002372,3.234702825867615,6.177275660616196,1.543876600688545,2.5875163835192545,2.9472446855033594,3.135409165536035,4.101260587780015,1.657495022490292,3.7360085661165154,3.24584563699538,0.10750713601307221,3.632284340117816,3.319094109958408,-0.11269365762764122,2.9498694481329553,3.719060200240242,7.292726598986103,0.4884717858964565,4.165829451511365,4.5543893381495515,0.12640380777178095,3.678996517324426,6.900216857757318,-0.38106764780520724,1.143428101189999,3.126502505279225,1.119443902635782,2.003609506391875,1.51342598742115,2.273396323336414,8.340805919865353,3.5620294263831505,-0.0646922892386633,4.551506144339492,0.8397110308780246,3.656070808131836,1.8049432884094916,2.0885663901185936,-0.8698740845512389,2.7892354063251426,-0.8783288522399159,-0.462429326839357,2.96657436369092,3.5280705161792714,1.0724408570598325,4.462579940172299,0.9373083407980003,0.041223327447218086,0.9487137783555344,2.1250418913011035,0.8557520011065491,3.6275314247861314,3.370981855164978,3.27652066720216,2.3129359292013527,-1.3415687603938007,-0.7790605577982717,3.3398260674362326,3.4753004747285514,2.7406914914469667,7.380647867577196,1.6562310194523486,2.706632702843551,2.0413658621611197,6.768233474299953,-0.3887160480231187,3.0064659191427614,8.245444606234138,3.172839602960355,3.8548823255452245,5.5039969527095,0.8967913794429695,6.206105357580685,0.4908253887566983,2.1710051398370984,0.21457933188561415,-1.2309398191466543,2.284530776168548,1.8004473744643512,2.2121344832405105,-0.3261007654079798,3.1551081900268154,-0.6657853067546011,1.426494289733251,0.3188294814380085,4.096598367862244,5.004302267773289,-0.16758638887032293,3.568088041737539,-1.0544843510452968,6.8748823274719255,2.883632361356234,1.2433537071676033,2.3270763939631602,5.596196837580821,0.1048176101322827,3.2861654184088267,7.304262556380277,2.341769847088231,3.1517275962071785,3.5555395066146076,1.304562954885707,4.136939981600374,8.36849517695801,-0.3960670781693901,6.738143549141558,1.2940341902875168,0.4256595085078344,5.346560378550686,-0.6293782375324078,3.4326159969448042,-1.57351733110802,2.151062957180108,5.587671591902554,0.3497783998229793,2.9795004807911685,5.319346645067385,-0.8682680576914975,1.8851769190062582,5.378658655050152,-0.17334302526776602,3.7481325450321408,-1.1200597962903776,1.8143260992765944,1.4777169235679395,2.77654257891867,2.8167024470422946,1.9094073093742783,2.189858981151222,-0.5151283523392134,3.3168631798332497,3.7071438655402855,2.5937883340260663,-1.4783787652461196,2.832783285049016,4.438948598174841,5.63914917410104,-0.7809913603021476,0.32197959391156145,-0.024780902939719233,2.763190530965962,1.6078656274982883,0.4066958443747355,4.9732422608408005,-0.7580073587600038,2.867713673259122,5.958037901727235,0.16833548485557379,4.567505707428489,4.756232867333462,2.6092582727371023,5.768771548458873,-0.18716871308442368,1.0210815251491823,4.664795593448838,0.008586139048420538,2.0051668981219244,5.503550186297372,-0.6329514030168559,5.125150757921036,-0.17923805175194193,0.45325659214549846,3.9519284138647808,0.3328722314431404,3.538914796142729],\"z\":[-1.218758894581357,1.3043140494030587,0.7906579803372598,-0.9272475239839044,1.5179949746759245,-0.9019233187249591,2.925215564228554,-0.22521380817359127,-1.0753182884459591,-0.11581729816778472,-1.6682863111560797,-3.1911147849993626,-0.8795734503084138,-1.6251330750224409,-0.7743698268429298,-0.7163664100167513,-2.261925509835576,-5.014365713190195,3.5735517728864474,0.007871273826527678,1.3788135469863363,-1.9954142073940428,-2.0772225578349377,1.6475112737286408,1.4273110759982737,-1.9020694125892559,1.5201695314403885,0.7188141266256769,-1.3638817825585678,-0.5958611287276573,3.89116652692497,-0.223373306398288,-0.09996888849293371,1.772854353635551,-0.21222701177300676,-0.7233305450617988,-0.07560297042937159,0.4879147690256956,-0.8416882405959054,2.3204479200389336,1.3627675812607913,1.6274655527349837,-0.6611324398163313,-2.06454208008002,-1.764953112506497,1.9288943376502978,0.629446582523943,-1.52680840714925,1.1181252773301078,0.6320038525690475,-0.45119579498475654,1.8164439432993114,-0.6268440563558556,-1.379036903574734,1.7711017299339362,-1.9188600096285204,0.6763435492294297,-0.4615310329517149,0.45130300029842296,-0.02134020924177248,1.8841447039497687,0.5513246087923843,-1.0423363834993495,0.2136917211087821,1.7094854053305126,0.053826198617848965,0.9499527493556538,-1.350251407293186,-1.707274135743646,1.6221756290480345,-1.8943405756286829,1.5612914566379628,-0.6524939667935825,-0.8532852772090742,1.9960297315471072,0.6285778952657197,-0.7389054285394658,-0.0051424995864212935,0.39369418325085004,-1.7880979807180717,-2.477084416143764,3.4170524895005,-3.0922294136998687,-0.3438745449178696,1.6007078858008528,1.1434008579352983,-0.7157117634025741,1.7759227051620912,-0.32570820017777197,0.4953326802808535,-0.3565149957780363,0.38066372826889977,-2.064937029224929,-1.3193505135008845,-0.7379079801798972,0.4595029789442991,0.037962505731108535,4.085637057827181,-0.9575476491837658,-1.7806153784515915,1.5691120471308795,-3.534369538883947,1.6255481414000372,1.1665802063718975,0.6428100757311199,-0.32345457683823037,-1.2494023185391419,-1.1738340615568068,1.2737493939537363,-0.7176733066406576,-1.7090673346284706,0.33010865570560816,-1.8486438096278044,-0.6614563513722418,4.317506525593119,-0.7129238207433272,0.5647491802065617,2.396795592493621,1.897076516983297,-0.002817071523765092,0.797521988557971,-0.49133330585170876,1.4920866389380443,-0.79907952540694,0.9722317037444363,-0.15559090365335812,0.401798754171203,4.004353635024399,0.40206738023879757,-0.018143181629256763,0.41108129915080854,-0.24958809591919814,-1.2253207118040226,2.6119679354648384,-2.831465478989286,2.192926806845735,-0.34829325783400394,1.9750531168125185,-1.032326580464543,1.8966537836087867,-0.08567079905802863,0.15370614607069058,4.1167223482107795,1.3995690705714638,1.5476473920108293,-0.2353253700014116,4.393644767969479,1.6095751660490605,0.062527778545513,0.12176698442500787,-0.043289296636818166,-0.7888803578272146,1.6535215407435322,-0.022552054562039982,0.2470399037063219,-1.2552963750813468,-1.7938222432106132,0.05769359289093449,-0.9646521771996555,0.3239409613641927,5.129611362259631,0.13897881649206947,3.383142858023874,-0.1644471500750686,-0.545698019657329,0.34195084152843047,-0.18863809669369166,0.20445883694499037,0.31676384116781914,-1.0274035515156181,-1.6207785900105538,1.5110707161544426,0.8987248079608963,0.6936656481989419,-0.8338662408066522,0.18093139240990644,3.7004946635023517],\"type\":\"scatter3d\"},{\"customdata\":[[\"Failure\",\"waiver\"],[\"by\",\"waiver\"],[\"either\",\"waiver\"],[\"party\",\"waiver\"],[\"to\",\"waiver\"],[\"enforce\",\"waiver\"],[\"any\",\"waiver\"],[\"term\",\"waiver\"],[\"of\",\"waiver\"],[\"this\",\"waiver\"],[\"Agreement\",\"waiver\"],[\"will\",\"waiver\"],[\"not\",\"waiver\"],[\"be\",\"waiver\"],[\"deemed\",\"waiver\"],[\"a\",\"waiver\"],[\"waiver\",\"waiver\"],[\"of\",\"waiver\"],[\"future\",\"waiver\"],[\"enforcement\",\"waiver\"],[\"of\",\"waiver\"],[\"that\",\"waiver\"],[\"or\",\"waiver\"],[\"any\",\"waiver\"],[\"other\",\"waiver\"],[\"term\",\"waiver\"],[\"in\",\"waiver\"],[\"this\",\"waiver\"],[\"Agreement\",\"waiver\"],[\"or\",\"waiver\"],[\"any\",\"waiver\"],[\"other\",\"waiver\"],[\"agreement\",\"waiver\"],[\"that\",\"waiver\"],[\"may\",\"waiver\"],[\"be\",\"waiver\"],[\"in\",\"waiver\"],[\"place\",\"waiver\"],[\"between\",\"waiver\"],[\"the\",\"waiver\"],[\"parties\",\"waiver\"],[\".\",\"waiver\"],[\"Failure\",\"waiver\"],[\"of\",\"waiver\"],[\"any\",\"waiver\"],[\"party\",\"waiver\"],[\"to\",\"waiver\"],[\"insist\",\"waiver\"],[\"upon\",\"waiver\"],[\"strict\",\"waiver\"],[\"compliance\",\"waiver\"],[\"with\",\"waiver\"],[\"any\",\"waiver\"],[\"of\",\"waiver\"],[\"the\",\"waiver\"],[\"conditions\",\"waiver\"],[\"of\",\"waiver\"],[\"this\",\"waiver\"],[\"Agreement\",\"waiver\"],[\"shall\",\"waiver\"],[\"not\",\"waiver\"],[\"be\",\"waiver\"],[\"construed\",\"waiver\"],[\"as\",\"waiver\"],[\"a\",\"waiver\"],[\"waiver\",\"waiver\"],[\"of\",\"waiver\"],[\"any\",\"waiver\"],[\"of\",\"waiver\"],[\"the\",\"waiver\"],[\"conditions\",\"waiver\"],[\",\",\"waiver\"],[\"but\",\"waiver\"],[\"the\",\"waiver\"],[\"same\",\"waiver\"],[\"shall\",\"waiver\"],[\"remain\",\"waiver\"],[\"in\",\"waiver\"],[\"full\",\"waiver\"],[\"force\",\"waiver\"],[\"and\",\"waiver\"],[\"effect\",\"waiver\"],[\".\",\"waiver\"],[\"No\",\"waiver\"],[\"waiver\",\"waiver\"],[\"of\",\"waiver\"],[\"any\",\"waiver\"],[\"of\",\"waiver\"],[\"the\",\"waiver\"],[\"provisions\",\"waiver\"],[\"of\",\"waiver\"],[\"this\",\"waiver\"],[\"Agreement\",\"waiver\"],[\"shall\",\"waiver\"],[\"be\",\"waiver\"],[\"deemed\",\"waiver\"],[\",\",\"waiver\"],[\"or\",\"waiver\"],[\"shall\",\"waiver\"],[\"constitute\",\"waiver\"],[\"a\",\"waiver\"],[\"waiver\",\"waiver\"],[\"of\",\"waiver\"],[\"any\",\"waiver\"],[\"other\",\"waiver\"],[\"provisions\",\"waiver\"],[\",\",\"waiver\"],[\"whether\",\"waiver\"],[\"or\",\"waiver\"],[\"not\",\"waiver\"],[\"similar\",\"waiver\"],[\",\",\"waiver\"],[\"nor\",\"waiver\"],[\"shall\",\"waiver\"],[\"any\",\"waiver\"],[\"waiver\",\"waiver\"],[\"constitute\",\"waiver\"],[\"a\",\"waiver\"],[\"continuing\",\"waiver\"],[\"waiver\",\"waiver\"],[\".\",\"waiver\"]],\"hovertemplate\":\"label=%{customdata[1]}<br>x=%{x}<br>y=%{y}<br>z=%{z}<br>token=%{customdata[0]}<extra></extra>\",\"legendgroup\":\"waiver\",\"marker\":{\"color\":\"#FFA15A\",\"symbol\":\"circle\"},\"mode\":\"markers\",\"name\":\"waiver\",\"scene\":\"scene\",\"showlegend\":true,\"x\":[3.5380358804233443,7.259782534828914,8.541337928351213,8.170799507646771,7.7661616224102135,5.653045935000591,10.414436372509382,8.966537791622965,8.00011542238549,7.978693292090125,3.606196486929347,7.528112530387691,6.419301490292454,9.246108555017596,4.3097534409624565,8.247118911274553,5.968369443086155,7.3846044297039,6.451274363989161,7.499827472299449,8.465379825579573,6.794582402068908,8.008185971558566,10.451355850926891,8.925686192040887,8.152194883482515,6.011672741038909,6.817473226985563,3.264570733414932,7.932273606125626,10.943106762136527,10.158712738002745,5.320762695674107,6.3012023296708755,6.0706189287398065,8.551484377488984,8.65694249357535,8.946697803997893,6.718933338509983,8.310871126372655,6.758399415621269,2.333930713503288,2.568271766005155,6.391445316002902,9.1287183897649,6.989174372557659,6.6664065840887,4.371657530907241,5.538408897319485,4.491536981583784,6.349340293933707,9.22620474659394,11.036387327983588,7.57572088875516,10.640523962138115,7.619257403304022,7.714921273563349,6.6582481947621375,3.2894115320587827,4.0182147894394875,6.961750216627117,9.89745825264214,7.80954384840147,7.929199502831072,10.765022567633412,6.575259134653129,7.778725707635236,10.39554574954677,7.621734261207824,9.087349381440056,8.022311857912518,0.7013028220734415,4.404040781328874,9.61980238505016,9.009281193219968,3.8557640483364852,3.5901671423408565,7.95780391982653,8.371971943812344,10.699559590195292,7.041277835220529,11.04465337284495,1.8112059353223953,3.114675010531345,7.108144361196986,6.987216318144951,11.195917616677471,7.996594655779052,10.939855022558072,8.782666853296808,8.174656211410825,6.654935657719903,3.2753992226758912,4.307445546071531,8.34445064210333,4.813940323221562,1.547376140410702,7.153704177080757,5.017943101382556,6.102187588941682,9.937008266373216,6.9722284961735115,6.998362331709693,10.639477823368821,8.7999425784955,10.141963588210054,2.3846830948565194,7.516852140185074,8.786594664948753,7.945528710891655,4.6010376246435305,0.8073330756152067,5.074617030904421,4.705248319456097,10.21963964810315,6.867879218918847,6.169835369763037,8.734050499114321,4.1603599395059865,7.907894854126703,2.238049895074094],\"y\":[3.6885777455692192,4.074455462443446,3.853107602687964,1.3907064437584635,4.114023869372966,-0.7921410388830926,3.834375365112312,1.4444878988642706,3.3693018459252664,3.325426504138112,3.2666140697934223,5.566737820680258,4.071364489142464,4.595175321579592,-0.3995009298740343,2.932594596389981,0.05134878827411722,2.820101610792321,2.3902613022653125,2.1023836834524086,3.5658404763297256,3.1678467911689148,3.1208089097897056,4.656256369589438,3.6267674886316112,1.914295509792092,2.5037010771632326,3.3634648559372295,3.7523016720921953,4.47038446615897,5.2663833790087216,4.081153199649456,0.020404307950329888,2.7692340930626584,5.128480651557887,2.5386664726096844,1.2154608955422959,1.838383770332715,2.2172275765710787,6.478929041231879,0.6245618804564925,3.7232544443923388,3.618128252317063,3.0945477577007647,4.023989138749049,0.9144203131828447,3.9368497711517705,-0.37567844273647133,2.473352360462985,0.258561325852904,1.4095117902822294,2.6033188291339684,3.3913703020307193,2.883178726200869,7.556555264875534,-0.37738866271713084,3.4923029015678297,3.178296030368707,3.9756031163185566,7.976378838043503,4.123238428950441,4.509403299996165,-0.4997404255576896,2.8330760584726775,3.169384526354809,-0.14315607391597668,2.3440200110348983,3.2043907234344626,2.762785223404479,6.974472160569443,-0.6623570610227857,4.02630833714585,4.196500055051832,6.78496815047655,3.3943754506233397,6.975033209450359,1.0039702295997763,2.7306915442560524,3.3808202527929643,3.6894199036983166,4.450949429443,2.541199089691197,4.206777238972221,6.066293374459187,-0.23471022121581553,2.0039378962897203,3.0150700178772434,2.8428565284174288,7.860105011772409,0.7000342115961015,3.7644274893118186,3.0202934525914107,3.7044959620969333,7.485590755984749,3.2357799189129604,-1.0813030574028994,2.786166057107628,3.7872760907984104,5.42831791146164,-1.198815147131202,1.9752307068350257,-0.6553962548416978,1.6154105356603317,3.305838384284237,2.4089684962941065,0.5827167116836998,3.1165972797044437,3.5336178801465916,2.6882498986255268,1.2295266210681035,1.389790702251626,3.3934152432324978,6.838454129161372,6.071296183617363,3.6524820595469087,-1.222504629337665,-1.2662338826600077,1.4806559743451906,-0.5176250624644265,-0.919223431094611,3.8820749577399125],\"z\":[-4.03645508190924,0.9766114811991332,-1.9444609449983223,-0.3084334128415792,0.1076296089427431,-1.2864688449846429,-1.4004430343726506,-0.4941116150699346,-1.133333793167707,-2.388680070927796,-4.982701696508525,1.9697410405282727,2.1347220673651504,2.534118685802281,-0.3554450448824156,-0.29009204946246203,-3.0279946746638773,-0.5983463685356948,-0.7060972116782294,-1.5412888774452236,-1.0926156470689616,-0.5821568357237085,1.014455683793268,-1.0300135826618027,-0.012100758987002353,-0.48025294236854443,-0.39715089673401416,-2.1042345653862724,-5.265668015948055,1.307760672124997,-0.5017754126084083,0.07284895867934776,-2.422165063344213,0.8352173522342848,-0.12348960562177001,0.8425284183284386,-1.1327194385081372,-0.7209499179542673,-0.44525087558757226,-1.3148425099561096,-0.15086825804595855,2.5514966672674797,-3.087526109727043,-0.11563476213574804,-1.0184987646091648,-0.295890700742162,0.6506693172376115,-0.8037857689672007,-0.687379290775768,-0.7730896803935434,-1.5868114093817496,-0.44211800944691304,-1.3742697904825547,-1.3065681980775385,-2.2050971735869953,-3.089152535275217,-1.1186794104009314,-2.491486116033829,-5.508221785586831,1.2590399329853408,1.7801493350818884,1.7019574127828818,-2.123891994194338,0.7449721262241371,-1.366084371171326,-3.750645278117074,-0.719453843253506,-1.2941058991499683,-1.020581911030626,-1.8536486895264996,-3.4877106291727795,4.213420862892025,2.0825922556383376,-0.9078367365079116,1.3532094808010176,1.2998860559467202,-0.5975617020510287,0.6424875148955205,-1.1167484029850168,0.0006078200623353192,0.9504476075521757,-0.7350197698341967,4.055740320788898,-0.34229052707395136,-3.862504325452234,-0.2745434373826534,-1.066813167528044,-0.5986580590239261,-1.5593092160276716,-2.8693932220232057,-0.45633462440222045,-1.9828049917478892,-4.992399247152677,2.2377275580570783,1.909268887335515,-1.2807609267262137,3.7321492105474547,3.2897342081398393,1.9416057358774956,-1.1401113831201577,0.09935083607900608,-3.912499788389558,-0.09020085788168802,0.09939722921913023,0.7708358930785557,-2.9437130580392337,4.346680886563289,0.5659050505873775,1.708093239672951,2.6220226615649347,0.3156496893714485,4.403660638294368,2.5295553191759086,0.9342678007489533,-0.05292056561802763,-4.266722507196628,-0.777760773620773,0.24847500931911928,-1.25724592586632,-3.6861169532656928,3.8006221367428323],\"type\":\"scatter3d\"}],                        {\"template\":{\"data\":{\"bar\":[{\"error_x\":{\"color\":\"#2a3f5f\"},\"error_y\":{\"color\":\"#2a3f5f\"},\"marker\":{\"line\":{\"color\":\"#E5ECF6\",\"width\":0.5},\"pattern\":{\"fillmode\":\"overlay\",\"size\":10,\"solidity\":0.2}},\"type\":\"bar\"}],\"barpolar\":[{\"marker\":{\"line\":{\"color\":\"#E5ECF6\",\"width\":0.5},\"pattern\":{\"fillmode\":\"overlay\",\"size\":10,\"solidity\":0.2}},\"type\":\"barpolar\"}],\"carpet\":[{\"aaxis\":{\"endlinecolor\":\"#2a3f5f\",\"gridcolor\":\"white\",\"linecolor\":\"white\",\"minorgridcolor\":\"white\",\"startlinecolor\":\"#2a3f5f\"},\"baxis\":{\"endlinecolor\":\"#2a3f5f\",\"gridcolor\":\"white\",\"linecolor\":\"white\",\"minorgridcolor\":\"white\",\"startlinecolor\":\"#2a3f5f\"},\"type\":\"carpet\"}],\"choropleth\":[{\"colorbar\":{\"outlinewidth\":0,\"ticks\":\"\"},\"type\":\"choropleth\"}],\"contour\":[{\"colorbar\":{\"outlinewidth\":0,\"ticks\":\"\"},\"colorscale\":[[0.0,\"#0d0887\"],[0.1111111111111111,\"#46039f\"],[0.2222222222222222,\"#7201a8\"],[0.3333333333333333,\"#9c179e\"],[0.4444444444444444,\"#bd3786\"],[0.5555555555555556,\"#d8576b\"],[0.6666666666666666,\"#ed7953\"],[0.7777777777777778,\"#fb9f3a\"],[0.8888888888888888,\"#fdca26\"],[1.0,\"#f0f921\"]],\"type\":\"contour\"}],\"contourcarpet\":[{\"colorbar\":{\"outlinewidth\":0,\"ticks\":\"\"},\"type\":\"contourcarpet\"}],\"heatmap\":[{\"colorbar\":{\"outlinewidth\":0,\"ticks\":\"\"},\"colorscale\":[[0.0,\"#0d0887\"],[0.1111111111111111,\"#46039f\"],[0.2222222222222222,\"#7201a8\"],[0.3333333333333333,\"#9c179e\"],[0.4444444444444444,\"#bd3786\"],[0.5555555555555556,\"#d8576b\"],[0.6666666666666666,\"#ed7953\"],[0.7777777777777778,\"#fb9f3a\"],[0.8888888888888888,\"#fdca26\"],[1.0,\"#f0f921\"]],\"type\":\"heatmap\"}],\"heatmapgl\":[{\"colorbar\":{\"outlinewidth\":0,\"ticks\":\"\"},\"colorscale\":[[0.0,\"#0d0887\"],[0.1111111111111111,\"#46039f\"],[0.2222222222222222,\"#7201a8\"],[0.3333333333333333,\"#9c179e\"],[0.4444444444444444,\"#bd3786\"],[0.5555555555555556,\"#d8576b\"],[0.6666666666666666,\"#ed7953\"],[0.7777777777777778,\"#fb9f3a\"],[0.8888888888888888,\"#fdca26\"],[1.0,\"#f0f921\"]],\"type\":\"heatmapgl\"}],\"histogram\":[{\"marker\":{\"pattern\":{\"fillmode\":\"overlay\",\"size\":10,\"solidity\":0.2}},\"type\":\"histogram\"}],\"histogram2d\":[{\"colorbar\":{\"outlinewidth\":0,\"ticks\":\"\"},\"colorscale\":[[0.0,\"#0d0887\"],[0.1111111111111111,\"#46039f\"],[0.2222222222222222,\"#7201a8\"],[0.3333333333333333,\"#9c179e\"],[0.4444444444444444,\"#bd3786\"],[0.5555555555555556,\"#d8576b\"],[0.6666666666666666,\"#ed7953\"],[0.7777777777777778,\"#fb9f3a\"],[0.8888888888888888,\"#fdca26\"],[1.0,\"#f0f921\"]],\"type\":\"histogram2d\"}],\"histogram2dcontour\":[{\"colorbar\":{\"outlinewidth\":0,\"ticks\":\"\"},\"colorscale\":[[0.0,\"#0d0887\"],[0.1111111111111111,\"#46039f\"],[0.2222222222222222,\"#7201a8\"],[0.3333333333333333,\"#9c179e\"],[0.4444444444444444,\"#bd3786\"],[0.5555555555555556,\"#d8576b\"],[0.6666666666666666,\"#ed7953\"],[0.7777777777777778,\"#fb9f3a\"],[0.8888888888888888,\"#fdca26\"],[1.0,\"#f0f921\"]],\"type\":\"histogram2dcontour\"}],\"mesh3d\":[{\"colorbar\":{\"outlinewidth\":0,\"ticks\":\"\"},\"type\":\"mesh3d\"}],\"parcoords\":[{\"line\":{\"colorbar\":{\"outlinewidth\":0,\"ticks\":\"\"}},\"type\":\"parcoords\"}],\"pie\":[{\"automargin\":true,\"type\":\"pie\"}],\"scatter\":[{\"marker\":{\"colorbar\":{\"outlinewidth\":0,\"ticks\":\"\"}},\"type\":\"scatter\"}],\"scatter3d\":[{\"line\":{\"colorbar\":{\"outlinewidth\":0,\"ticks\":\"\"}},\"marker\":{\"colorbar\":{\"outlinewidth\":0,\"ticks\":\"\"}},\"type\":\"scatter3d\"}],\"scattercarpet\":[{\"marker\":{\"colorbar\":{\"outlinewidth\":0,\"ticks\":\"\"}},\"type\":\"scattercarpet\"}],\"scattergeo\":[{\"marker\":{\"colorbar\":{\"outlinewidth\":0,\"ticks\":\"\"}},\"type\":\"scattergeo\"}],\"scattergl\":[{\"marker\":{\"colorbar\":{\"outlinewidth\":0,\"ticks\":\"\"}},\"type\":\"scattergl\"}],\"scattermapbox\":[{\"marker\":{\"colorbar\":{\"outlinewidth\":0,\"ticks\":\"\"}},\"type\":\"scattermapbox\"}],\"scatterpolar\":[{\"marker\":{\"colorbar\":{\"outlinewidth\":0,\"ticks\":\"\"}},\"type\":\"scatterpolar\"}],\"scatterpolargl\":[{\"marker\":{\"colorbar\":{\"outlinewidth\":0,\"ticks\":\"\"}},\"type\":\"scatterpolargl\"}],\"scatterternary\":[{\"marker\":{\"colorbar\":{\"outlinewidth\":0,\"ticks\":\"\"}},\"type\":\"scatterternary\"}],\"surface\":[{\"colorbar\":{\"outlinewidth\":0,\"ticks\":\"\"},\"colorscale\":[[0.0,\"#0d0887\"],[0.1111111111111111,\"#46039f\"],[0.2222222222222222,\"#7201a8\"],[0.3333333333333333,\"#9c179e\"],[0.4444444444444444,\"#bd3786\"],[0.5555555555555556,\"#d8576b\"],[0.6666666666666666,\"#ed7953\"],[0.7777777777777778,\"#fb9f3a\"],[0.8888888888888888,\"#fdca26\"],[1.0,\"#f0f921\"]],\"type\":\"surface\"}],\"table\":[{\"cells\":{\"fill\":{\"color\":\"#EBF0F8\"},\"line\":{\"color\":\"white\"}},\"header\":{\"fill\":{\"color\":\"#C8D4E3\"},\"line\":{\"color\":\"white\"}},\"type\":\"table\"}]},\"layout\":{\"annotationdefaults\":{\"arrowcolor\":\"#2a3f5f\",\"arrowhead\":0,\"arrowwidth\":1},\"autotypenumbers\":\"strict\",\"coloraxis\":{\"colorbar\":{\"outlinewidth\":0,\"ticks\":\"\"}},\"colorscale\":{\"diverging\":[[0,\"#8e0152\"],[0.1,\"#c51b7d\"],[0.2,\"#de77ae\"],[0.3,\"#f1b6da\"],[0.4,\"#fde0ef\"],[0.5,\"#f7f7f7\"],[0.6,\"#e6f5d0\"],[0.7,\"#b8e186\"],[0.8,\"#7fbc41\"],[0.9,\"#4d9221\"],[1,\"#276419\"]],\"sequential\":[[0.0,\"#0d0887\"],[0.1111111111111111,\"#46039f\"],[0.2222222222222222,\"#7201a8\"],[0.3333333333333333,\"#9c179e\"],[0.4444444444444444,\"#bd3786\"],[0.5555555555555556,\"#d8576b\"],[0.6666666666666666,\"#ed7953\"],[0.7777777777777778,\"#fb9f3a\"],[0.8888888888888888,\"#fdca26\"],[1.0,\"#f0f921\"]],\"sequentialminus\":[[0.0,\"#0d0887\"],[0.1111111111111111,\"#46039f\"],[0.2222222222222222,\"#7201a8\"],[0.3333333333333333,\"#9c179e\"],[0.4444444444444444,\"#bd3786\"],[0.5555555555555556,\"#d8576b\"],[0.6666666666666666,\"#ed7953\"],[0.7777777777777778,\"#fb9f3a\"],[0.8888888888888888,\"#fdca26\"],[1.0,\"#f0f921\"]]},\"colorway\":[\"#636efa\",\"#EF553B\",\"#00cc96\",\"#ab63fa\",\"#FFA15A\",\"#19d3f3\",\"#FF6692\",\"#B6E880\",\"#FF97FF\",\"#FECB52\"],\"font\":{\"color\":\"#2a3f5f\"},\"geo\":{\"bgcolor\":\"white\",\"lakecolor\":\"white\",\"landcolor\":\"#E5ECF6\",\"showlakes\":true,\"showland\":true,\"subunitcolor\":\"white\"},\"hoverlabel\":{\"align\":\"left\"},\"hovermode\":\"closest\",\"mapbox\":{\"style\":\"light\"},\"paper_bgcolor\":\"white\",\"plot_bgcolor\":\"#E5ECF6\",\"polar\":{\"angularaxis\":{\"gridcolor\":\"white\",\"linecolor\":\"white\",\"ticks\":\"\"},\"bgcolor\":\"#E5ECF6\",\"radialaxis\":{\"gridcolor\":\"white\",\"linecolor\":\"white\",\"ticks\":\"\"}},\"scene\":{\"xaxis\":{\"backgroundcolor\":\"#E5ECF6\",\"gridcolor\":\"white\",\"gridwidth\":2,\"linecolor\":\"white\",\"showbackground\":true,\"ticks\":\"\",\"zerolinecolor\":\"white\"},\"yaxis\":{\"backgroundcolor\":\"#E5ECF6\",\"gridcolor\":\"white\",\"gridwidth\":2,\"linecolor\":\"white\",\"showbackground\":true,\"ticks\":\"\",\"zerolinecolor\":\"white\"},\"zaxis\":{\"backgroundcolor\":\"#E5ECF6\",\"gridcolor\":\"white\",\"gridwidth\":2,\"linecolor\":\"white\",\"showbackground\":true,\"ticks\":\"\",\"zerolinecolor\":\"white\"}},\"shapedefaults\":{\"line\":{\"color\":\"#2a3f5f\"}},\"ternary\":{\"aaxis\":{\"gridcolor\":\"white\",\"linecolor\":\"white\",\"ticks\":\"\"},\"baxis\":{\"gridcolor\":\"white\",\"linecolor\":\"white\",\"ticks\":\"\"},\"bgcolor\":\"#E5ECF6\",\"caxis\":{\"gridcolor\":\"white\",\"linecolor\":\"white\",\"ticks\":\"\"}},\"title\":{\"x\":0.05},\"xaxis\":{\"automargin\":true,\"gridcolor\":\"white\",\"linecolor\":\"white\",\"ticks\":\"\",\"title\":{\"standoff\":15},\"zerolinecolor\":\"white\",\"zerolinewidth\":2},\"yaxis\":{\"automargin\":true,\"gridcolor\":\"white\",\"linecolor\":\"white\",\"ticks\":\"\",\"title\":{\"standoff\":15},\"zerolinecolor\":\"white\",\"zerolinewidth\":2}}},\"scene\":{\"domain\":{\"x\":[0.0,1.0],\"y\":[0.0,1.0]},\"xaxis\":{\"title\":{\"text\":\"x\"}},\"yaxis\":{\"title\":{\"text\":\"y\"}},\"zaxis\":{\"title\":{\"text\":\"z\"}}},\"legend\":{\"title\":{\"text\":\"label\"},\"tracegroupgap\":0},\"margin\":{\"t\":60},\"height\":800,\"width\":1000},                        {\"responsive\": true}                    ).then(function(){\n",
              "                            \n",
              "var gd = document.getElementById('6d5c6dd4-e4c7-42c0-8e34-b395015a03e5');\n",
              "var x = new MutationObserver(function (mutations, observer) {{\n",
              "        var display = window.getComputedStyle(gd).display;\n",
              "        if (!display || display === 'none') {{\n",
              "            console.log([gd, 'removed!']);\n",
              "            Plotly.purge(gd);\n",
              "            observer.disconnect();\n",
              "        }}\n",
              "}});\n",
              "\n",
              "// Listen for the removal of the full notebook cells\n",
              "var notebookContainer = gd.closest('#notebook-container');\n",
              "if (notebookContainer) {{\n",
              "    x.observe(notebookContainer, {childList: true});\n",
              "}}\n",
              "\n",
              "// Listen for the clearing of the current output cell\n",
              "var outputEl = gd.closest('.output');\n",
              "if (outputEl) {{\n",
              "    x.observe(outputEl, {childList: true});\n",
              "}}\n",
              "\n",
              "                        })                };                            </script>        </div>\n",
              "</body>\n",
              "</html>"
            ]
          },
          "metadata": {},
          "output_type": "display_data"
        }
      ],
      "source": [
        "import plotly.express as px\n",
        "\n",
        "fig = px.scatter_3d(df, x = 'x', y = 'y', z = 'z', color = \"label\", width=1000, height = 800, hover_data = [\"token\", \"label\"])\n",
        "\n",
        "fig.show()"
      ]
    },
    {
      "cell_type": "markdown",
      "id": "i8Vd4v12AYZs",
      "metadata": {
        "id": "i8Vd4v12AYZs"
      },
      "source": [
        "That chart is super cool because you can see how the same token gets different embeddings depending on the context."
      ]
    }
  ],
  "metadata": {
    "colab": {
      "collapsed_sections": [],
      "name": "2.Embeddings.ipynb",
      "provenance": []
    },
    "kernelspec": {
      "display_name": "Python 3.9.5 64-bit",
      "language": "python",
      "name": "python3"
    },
    "language_info": {
      "codemirror_mode": {
        "name": "ipython",
        "version": 3
      },
      "file_extension": ".py",
      "mimetype": "text/x-python",
      "name": "python",
      "nbconvert_exporter": "python",
      "pygments_lexer": "ipython3",
      "version": "3.9.5"
    },
    "vscode": {
      "interpreter": {
        "hash": "ca1c4b8877e01dec1d65bc94ac0771fb7b4e7d433b24c0ced0afdc05f796f65d"
      }
    }
  },
  "nbformat": 4,
  "nbformat_minor": 5
}
