{
  "cells": [
    {
      "cell_type": "markdown",
      "id": "f3cd8533",
      "metadata": {},
      "source": [
        "# Legal Text classification"
      ]
    },
    {
      "cell_type": "markdown",
      "id": "LWoEwxGWo1iI",
      "metadata": {
        "id": "LWoEwxGWo1iI"
      },
      "source": [
        "![JohnSnowLabs](https://nlp.johnsnowlabs.com/assets/images/logo.png)"
      ]
    },
    {
      "cell_type": "markdown",
      "id": "13aa72de",
      "metadata": {},
      "source": [
        "[![Open In Colab](https://colab.research.google.com/assets/colab-badge.svg)](https://colab.research.google.com/github/JohnSnowLabs/spark-nlp-workshop/blob/master/tutorials/Certification_Trainings/Legal/3.Text_Classification.ipynb)"
      ]
    },
    {
      "cell_type": "markdown",
      "id": "V6usonKOpBUp",
      "metadata": {
        "id": "V6usonKOpBUp"
      },
      "source": [
        "## Colab Setup"
      ]
    },
    {
      "cell_type": "code",
      "execution_count": null,
      "id": "34a62f9d-5242-49de-bea2-dc51b22bae21",
      "metadata": {
        "id": "34a62f9d-5242-49de-bea2-dc51b22bae21"
      },
      "outputs": [],
      "source": [
        "import json\n",
        "import os\n",
        "from google.colab import files\n",
        "\n",
        "license_keys = files.upload()\n",
        "\n",
        "with open(list(license_keys.keys())[0]) as f:\n",
        "    license_keys = json.load(f)\n",
        "\n",
        "# Defining license key-value pairs as local variables\n",
        "locals().update(license_keys)\n",
        "\n",
        "# Adding license key-value pairs to environment variables\n",
        "\n",
        "os.environ.update(license_keys)"
      ]
    },
    {
      "cell_type": "code",
      "execution_count": null,
      "id": "6cbcc0f1-eb39-479a-a88a-792cf5b538f6",
      "metadata": {
        "id": "6cbcc0f1-eb39-479a-a88a-792cf5b538f6"
      },
      "outputs": [],
      "source": [
        "# Installing pyspark and spark-nlp\n",
        "! pip install --upgrade -q pyspark==3.1.2 spark-nlp==$PUBLIC_VERSION\n",
        "\n",
        "# Installing Spark NLP Healthcare\n",
        "! pip install --upgrade -q spark-nlp-jsl==$JSL_VERSION  --extra-index-url https://pypi.johnsnowlabs.com/$SECRET\n",
        "\n",
        "# Installing Spark NLP Display Library for visualization\n",
        "! pip install -q spark-nlp-display"
      ]
    },
    {
      "cell_type": "markdown",
      "id": "3873397f-3b6e-47d6-b7d6-ef186a98c78f",
      "metadata": {
        "id": "3873397f-3b6e-47d6-b7d6-ef186a98c78f"
      },
      "source": [
        "## Start Spark Session"
      ]
    },
    {
      "cell_type": "code",
      "execution_count": null,
      "id": "dccd50cb-7a5e-4618-9c93-147647364ab5",
      "metadata": {
        "id": "dccd50cb-7a5e-4618-9c93-147647364ab5",
        "tags": []
      },
      "outputs": [],
      "source": [
        "from pyspark.ml import Pipeline,PipelineModel\n",
        "from pyspark.sql import SparkSession\n",
        "from pyspark.sql import functions as F\n",
        "\n",
        "from sparknlp.annotator import *\n",
        "from sparknlp_jsl.annotator import *\n",
        "from sparknlp.base import *\n",
        "import sparknlp_jsl\n",
        "import sparknlp\n",
        "\n",
        "import pandas as pd\n",
        "\n",
        "import warnings\n",
        "warnings.filterwarnings('ignore')\n",
        "\n",
        "print (\"Spark NLP Version :\", sparknlp.version())\n",
        "print (\"Spark NLP_JSL Version :\", sparknlp_jsl.version())\n",
        "\n",
        "spark = sparknlp_jsl.start(license_keys['SECRET'])\n",
        "\n",
        "spark"
      ]
    },
    {
      "cell_type": "markdown",
      "id": "74b31459-0f72-47f1-90f1-1e4941c0e269",
      "metadata": {
        "id": "74b31459-0f72-47f1-90f1-1e4941c0e269"
      },
      "source": [
        "## Get Binary Prediction from Legal Caluses"
      ]
    },
    {
      "cell_type": "markdown",
      "id": "4ea584cc-a9d2-4016-99fe-b2f1014da878",
      "metadata": {
        "id": "4ea584cc-a9d2-4016-99fe-b2f1014da878"
      },
      "source": [
        "The classification models were trained on legal texts, where different paragraphs were mapped to different legal clauses types, some of them belonging to several topics at the same time.\n",
        "\n",
        "Since the number of classes is very high (as mentioned, over 250) and the texts could belong to some topics at the same time (multilabel problem), the models are binary (yes / no) and used independently. You can select the topics you are interested in (for example, looking for **loans** and **fiscal-year** clauses) and create a pipeline with both of them to detect for those types of clauses in your paragraphs. As a reminder, since the models are independent and the task is multilabel, you may get some times positive results for more than one class (i.e, a paragraph talks about **loans** and **fiscal year** at the same time)."
      ]
    },
    {
      "cell_type": "markdown",
      "id": "549ec248-324a-4825-87db-ccff98c236f1",
      "metadata": {
        "id": "549ec248-324a-4825-87db-ccff98c236f1"
      },
      "source": [
        "### Sample Texts for Binary Classification"
      ]
    },
    {
      "cell_type": "code",
      "execution_count": null,
      "id": "d22b9786-939d-4e06-9b10-b9f13577d8bc",
      "metadata": {
        "id": "d22b9786-939d-4e06-9b10-b9f13577d8bc"
      },
      "outputs": [],
      "source": [
        "models = [\"legclf_amendments_clause\", \"legclf_loans_clause\", \"legclf_currency_clause\", \"legclf_fiscal_year_clause\", \"legclf_guarantee_clause\"]"
      ]
    },
    {
      "cell_type": "code",
      "execution_count": null,
      "id": "6d8ef50d-a149-43c2-ab5a-6448c1871e21",
      "metadata": {
        "id": "6d8ef50d-a149-43c2-ab5a-6448c1871e21"
      },
      "outputs": [],
      "source": [
        "sample_texts = [(\"\"\"This agreement, or any term thereof, may be changed or waived only by written amendment, signed by the party against whom enforcement of such change or waiver is sought.\"\"\", \"amendments\"),\n",
        "                (\"\"\"The sponsor has made loans or advances to the company in the aggregate amount of approximately $140,000 (the “Insider Advances”). The Insider Advances do not bear any interest, are unsecured and are repayable by the company on the earlier of June 30, 2017 or the consummation of the offering.\"\"\", \"loans\"),\n",
        "                (\"\"\"Unless otherwise specified in this agreement, all references to currency, monetary values and dollars set forth herein shall mean United States (U.S.) dollars and all payments hereunder shall be made in United States dollars.\"\"\", \"currency\"),\n",
        "                (\"\"\"The fiscal year for the School shall begin on July 1 and end on June 30 of the subsequent calendar year.\"\"\", \"fiscal-year\"),\n",
        "                (\"\"\"The Engineer warrants that engineering design work performed by the Engineer hereunder shall be in accordance with sound engineering design practices and in conformance with applicable code and standards established for such work.\"\"\",\"guarantee\")]"
      ]
    },
    {
      "cell_type": "markdown",
      "id": "395c0e8c-4f4a-42ab-876e-705f5761d0c3",
      "metadata": {
        "id": "395c0e8c-4f4a-42ab-876e-705f5761d0c3"
      },
      "source": [
        "### Prediction Pipeline"
      ]
    },
    {
      "cell_type": "code",
      "execution_count": null,
      "id": "81559ab5-8c9c-414b-9536-53f02126f4ac",
      "metadata": {
        "id": "81559ab5-8c9c-414b-9536-53f02126f4ac",
        "tags": []
      },
      "outputs": [],
      "source": [
        "document_assembler = DocumentAssembler()\\\n",
        "    .setInputCol(\"text\")\\\n",
        "    .setOutputCol(\"document\")\n",
        "\n",
        "embeddings = BertSentenceEmbeddings.pretrained(\"sent_bert_base_cased\", \"en\")\\\n",
        "    .setInputCols(\"document\")\\\n",
        "    .setOutputCol(\"sentence_embeddings\")"
      ]
    },
    {
      "cell_type": "code",
      "execution_count": null,
      "id": "6a27e7d3-cee5-4182-bf48-7c0faa8d6650",
      "metadata": {
        "id": "6a27e7d3-cee5-4182-bf48-7c0faa8d6650",
        "outputId": "c774ddfb-59c7-4beb-cd0d-86f993963c2d",
        "tags": []
      },
      "outputs": [
        {
          "name": "stdout",
          "output_type": "stream",
          "text": [
            "<---amendments result--->\n"
          ]
        },
        {
          "name": "stderr",
          "output_type": "stream",
          "text": [
            "                                                                                \r"
          ]
        },
        {
          "name": "stdout",
          "output_type": "stream",
          "text": [
            "+--------------------------------------------------------------------------------+-----------+----------+\n",
            "|                                                                        document|      label|     class|\n",
            "+--------------------------------------------------------------------------------+-----------+----------+\n",
            "|This agreement, or any term thereof, may be changed or waived only by written...| amendments|amendments|\n",
            "|The sponsor has made loans or advances to the company in the aggregate amount...|      loans|     other|\n",
            "|Unless otherwise specified in this agreement, all references to currency, mon...|   currency|     other|\n",
            "|The fiscal year for the School shall begin on July 1 and end on June 30 of th...|fiscal-year|     other|\n",
            "|The Engineer warrants that engineering design work performed by the Engineer ...|  guarantee|     other|\n",
            "+--------------------------------------------------------------------------------+-----------+----------+\n",
            "\n",
            "\n",
            "\n",
            "<---loans result--->\n"
          ]
        },
        {
          "name": "stderr",
          "output_type": "stream",
          "text": [
            "                                                                                \r"
          ]
        },
        {
          "name": "stdout",
          "output_type": "stream",
          "text": [
            "+--------------------------------------------------------------------------------+-----------+-----+\n",
            "|                                                                        document|      label|class|\n",
            "+--------------------------------------------------------------------------------+-----------+-----+\n",
            "|This agreement, or any term thereof, may be changed or waived only by written...| amendments|other|\n",
            "|The sponsor has made loans or advances to the company in the aggregate amount...|      loans|loans|\n",
            "|Unless otherwise specified in this agreement, all references to currency, mon...|   currency|other|\n",
            "|The fiscal year for the School shall begin on July 1 and end on June 30 of th...|fiscal-year|other|\n",
            "|The Engineer warrants that engineering design work performed by the Engineer ...|  guarantee|other|\n",
            "+--------------------------------------------------------------------------------+-----------+-----+\n",
            "\n",
            "\n",
            "\n",
            "<---currency result--->\n"
          ]
        },
        {
          "name": "stderr",
          "output_type": "stream",
          "text": [
            "                                                                                \r"
          ]
        },
        {
          "name": "stdout",
          "output_type": "stream",
          "text": [
            "+--------------------------------------------------------------------------------+-----------+--------+\n",
            "|                                                                        document|      label|   class|\n",
            "+--------------------------------------------------------------------------------+-----------+--------+\n",
            "|This agreement, or any term thereof, may be changed or waived only by written...| amendments|   other|\n",
            "|The sponsor has made loans or advances to the company in the aggregate amount...|      loans|   other|\n",
            "|Unless otherwise specified in this agreement, all references to currency, mon...|   currency|currency|\n",
            "|The fiscal year for the School shall begin on July 1 and end on June 30 of th...|fiscal-year|   other|\n",
            "|The Engineer warrants that engineering design work performed by the Engineer ...|  guarantee|   other|\n",
            "+--------------------------------------------------------------------------------+-----------+--------+\n",
            "\n",
            "\n",
            "\n",
            "<---fiscal-year result--->\n"
          ]
        },
        {
          "name": "stderr",
          "output_type": "stream",
          "text": [
            "                                                                                \r"
          ]
        },
        {
          "name": "stdout",
          "output_type": "stream",
          "text": [
            "+--------------------------------------------------------------------------------+-----------+-----------+\n",
            "|                                                                        document|      label|      class|\n",
            "+--------------------------------------------------------------------------------+-----------+-----------+\n",
            "|This agreement, or any term thereof, may be changed or waived only by written...| amendments|      other|\n",
            "|The sponsor has made loans or advances to the company in the aggregate amount...|      loans|      other|\n",
            "|Unless otherwise specified in this agreement, all references to currency, mon...|   currency|      other|\n",
            "|The fiscal year for the School shall begin on July 1 and end on June 30 of th...|fiscal-year|fiscal-year|\n",
            "|The Engineer warrants that engineering design work performed by the Engineer ...|  guarantee|      other|\n",
            "+--------------------------------------------------------------------------------+-----------+-----------+\n",
            "\n",
            "\n",
            "\n",
            "<---guarantee result--->\n"
          ]
        },
        {
          "name": "stderr",
          "output_type": "stream",
          "text": [
            "[Stage 26:>                                                         (0 + 3) / 3]\r"
          ]
        },
        {
          "name": "stdout",
          "output_type": "stream",
          "text": [
            "+--------------------------------------------------------------------------------+-----------+---------+\n",
            "|                                                                        document|      label|    class|\n",
            "+--------------------------------------------------------------------------------+-----------+---------+\n",
            "|This agreement, or any term thereof, may be changed or waived only by written...| amendments|    other|\n",
            "|The sponsor has made loans or advances to the company in the aggregate amount...|      loans|    other|\n",
            "|Unless otherwise specified in this agreement, all references to currency, mon...|   currency|    other|\n",
            "|The fiscal year for the School shall begin on July 1 and end on June 30 of th...|fiscal-year|    other|\n",
            "|The Engineer warrants that engineering design work performed by the Engineer ...|  guarantee|guarantee|\n",
            "+--------------------------------------------------------------------------------+-----------+---------+\n",
            "\n",
            "\n",
            "\n"
          ]
        },
        {
          "name": "stderr",
          "output_type": "stream",
          "text": [
            "                                                                                \r"
          ]
        }
      ],
      "source": [
        "for model_name in models:   \n",
        "    document_classifier = ClassifierDLModel.pretrained(model_name, \"en\", \"legal/models\")\\\n",
        "        .setInputCols(['document', 'sentence_embeddings'])\\\n",
        "        .setOutputCol(\"class\")\n",
        "\n",
        "    clf_ipeline = Pipeline(stages=[\n",
        "         document_assembler, \n",
        "         embeddings,\n",
        "         document_classifier\n",
        "         ])\n",
        "\n",
        "    empty_df = spark.createDataFrame([['']]).toDF(\"text\")\n",
        "\n",
        "    model = clf_ipeline.fit(empty_df)\n",
        "\n",
        "    df = spark.createDataFrame(sample_texts, [\"text\", \"label\"])\n",
        "\n",
        "    result = model.transform(df)\n",
        "    \n",
        "    print(f\"<---{model_name} result--->\")\n",
        "    \n",
        "    result.select(\"label\", F.explode(F.arrays_zip('document.result', 'class.result')).alias(\"cols\"))\\\n",
        "          .select(F.expr(\"cols['0']\").alias(\"document\"),\n",
        "                  \"label\",\n",
        "                  F.expr(\"cols['1']\").alias(\"class\")).show(truncate=80)     \n",
        "    print(\"\\n\")"
      ]
    },
    {
      "cell_type": "markdown",
      "id": "86424365-b3b6-43c5-bfcf-72a73741e856",
      "metadata": {
        "id": "86424365-b3b6-43c5-bfcf-72a73741e856"
      },
      "source": [
        "## Get Multilabel Prediction from Legal Clauses"
      ]
    },
    {
      "cell_type": "markdown",
      "id": "77203c62-08b9-4810-9b09-27b62ce9b8f9",
      "metadata": {
        "id": "77203c62-08b9-4810-9b09-27b62ce9b8f9"
      },
      "source": [
        "This model analyses and provides the best class or classes given an input text. The model can be used to detect relevant clauses in a legal text."
      ]
    },
    {
      "cell_type": "markdown",
      "id": "4969a422-4f32-47cc-866e-a6e31844b778",
      "metadata": {
        "id": "4969a422-4f32-47cc-866e-a6e31844b778"
      },
      "source": [
        "### Prediction Pipeline"
      ]
    },
    {
      "cell_type": "code",
      "execution_count": null,
      "id": "7753e14b-8195-4421-a6aa-741c226e40bf",
      "metadata": {
        "id": "7753e14b-8195-4421-a6aa-741c226e40bf",
        "outputId": "29b16caf-d7dc-4a2c-d602-8a026a6585d0"
      },
      "outputs": [
        {
          "name": "stdout",
          "output_type": "stream",
          "text": [
            "sent_bert_base_uncased_legal download started this may take some time.\n",
            "Approximate size to download 390.8 MB\n",
            "[ | ]sent_bert_base_uncased_legal download started this may take some time.\n",
            "Approximate size to download 390.8 MB\n",
            "[ \\ ]Download done! Loading the resource.\n",
            "[OK!]\n"
          ]
        },
        {
          "name": "stderr",
          "output_type": "stream",
          "text": [
            "                                                                                \r"
          ]
        }
      ],
      "source": [
        "document_assembeler = DocumentAssembler()\\\n",
        "  .setInputCol(\"text\")\\\n",
        "  .setOutputCol(\"document\")\\\n",
        "\n",
        "embeddings = BertSentenceEmbeddings.pretrained(\"sent_bert_base_uncased_legal\", \"en\")\\\n",
        "  .setInputCols(\"document\") \\\n",
        "  .setOutputCol(\"sentence_embeddings\")\n",
        "\n",
        "multiClassifier = MultiClassifierDLModel.pretrained(\"legmulticlf_edgar\", \"en\", \"legal/models\")\\\n",
        "  .setInputCols([\"document\", \"sentence_embeddings\"])\\\n",
        "  .setOutputCol(\"class\")\n",
        "\n",
        "clf_pipeline = Pipeline(stages=[\n",
        "            document_assembeler, \n",
        "            embeddings,\n",
        "            multiClassifier\n",
        "            ])\n",
        "\n",
        "\n",
        "light_pipeline = LightPipeline(clf_pipeline.fit(spark.createDataFrame([['']]).toDF(\"text\")))"
      ]
    },
    {
      "cell_type": "markdown",
      "id": "5d86d5f7-4e96-46d4-ab9d-f60d51a83a8a",
      "metadata": {
        "id": "5d86d5f7-4e96-46d4-ab9d-f60d51a83a8a"
      },
      "source": [
        "### Get Prediction with LightPipeline"
      ]
    },
    {
      "cell_type": "markdown",
      "id": "bd87d7b5-769f-4f32-8b4b-c08e7b434de4",
      "metadata": {
        "id": "bd87d7b5-769f-4f32-8b4b-c08e7b434de4"
      },
      "source": [
        "In Multilabel Classification, we used uncased embeddings. So, we converted all tokens to lowercase"
      ]
    },
    {
      "cell_type": "code",
      "execution_count": null,
      "id": "a0158c53-6654-42cb-b300-5e23d9fef973",
      "metadata": {
        "id": "a0158c53-6654-42cb-b300-5e23d9fef973",
        "outputId": "996b628d-3741-4e35-bb80-c79cb79394fe"
      },
      "outputs": [
        {
          "data": {
            "text/plain": [
              "['waivers', 'amendments']"
            ]
          },
          "execution_count": 21,
          "metadata": {},
          "output_type": "execute_result"
        }
      ],
      "source": [
        "result = light_pipeline.annotate(\"\"\"No failure or delay by the Administrative Agent or any Lender in exercising any right or power hereunder shall operate as a waiver thereof, nor shall any single or partial exercise of any such right or power, or any abandonment or discontinuance of steps to enforce such a right or power, preclude any other or further exercise thereof or the exercise of any other right or power. The rights and remedies of the Administrative Agent and the Lenders hereunder are cumulative and are not exclusive of any rights or remedies that they would otherwise have. No waiver of any provision of this Agreement or consent to any departure by the Borrower therefrom shall in any event be effective unless the same shall be permitted by paragraph (b) of this Section, and then such waiver or consent shall be effective only in the specific instance and for the purpose for which given. Without limiting the generality of the foregoing, the making of a Loan shall not be construed as a waiver of any Default, regardless of whether the Administrative Agent or any Lender may have had notice or knowledge of such Default at the time.\"\"\")\n",
        "\n",
        "result[\"class\"]"
      ]
    },
    {
      "cell_type": "code",
      "execution_count": null,
      "id": "190200a4-885e-4d11-8826-fe8267d203d1",
      "metadata": {
        "id": "190200a4-885e-4d11-8826-fe8267d203d1",
        "outputId": "201ae07a-1247-4834-c50c-d3a4a8e6cc10"
      },
      "outputs": [
        {
          "data": {
            "text/plain": [
              "['successors', 'assigns']"
            ]
          },
          "execution_count": 22,
          "metadata": {},
          "output_type": "execute_result"
        }
      ],
      "source": [
        "result = light_pipeline.annotate(\"\"\"The provisions of this Agreement shall be binding upon and inure to the benefit of the parties hereto and their respective successors and assigns permitted hereby (including any Affiliate of the Issuing Bank that issues any Letter of Credit), except that (i) the Borrower may not assign or otherwise transfer any of its rights or obligations hereunder without the prior written consent of each Lender (and any attempted assignment or transfer by the Borrower without such consent shall be null and void) and (ii) no Lender may assign or otherwise transfer its rights or obligations hereunder except in accordance with this Section. Nothing in this Agreement, expressed or implied, shall be construed to confer upon any Person (other than the parties hereto, their respective successors and assigns permitted hereby (including any Affiliate of the Issuing Bank that issues any Letter of Credit), Participants (to the extent provided in paragraph (c) of this Section) and, to the extent expressly contemplated hereby, the Related Parties of each of the Administrative Agent, the Issuing Bank and the Lenders) any legal or equitable right, remedy or claim under or by reason of this Agreement.\"\"\")\n",
        "\n",
        "result[\"class\"]"
      ]
    },
    {
      "cell_type": "code",
      "execution_count": null,
      "id": "7e83c8f8-85a9-46f2-a36e-f19a5c88f3ea",
      "metadata": {
        "id": "7e83c8f8-85a9-46f2-a36e-f19a5c88f3ea",
        "outputId": "2144e020-fa89-45e0-addc-511bf2222672"
      },
      "outputs": [
        {
          "data": {
            "text/plain": [
              "['warranties', 'representations']"
            ]
          },
          "execution_count": 12,
          "metadata": {},
          "output_type": "execute_result"
        }
      ],
      "source": [
        "result = light_pipeline.annotate(\"\"\"After the effectiveness of this Amendment, the representations and warranties of the Borrower set forth in the Credit Agreement and in the other Loan Documents are true and correct in all material respects on and as of the date hereof, with the same force and effect as if made on and as of such date, except to the extent that such representations and warranties (i) specifically refer to an earlier date, in which case they shall be true and correct in all material respects as of such earlier date (except to the extent of changes in facts or circumstances that have been disclosed to the Lenders and do not constitute an Event of Default or a Potential Default under the Credit Agreement or any other Loan Document), and (ii) are already qualified by materiality, in which case they shall be true and correct in all respects, and except that for purposes of this Section 4.1 , the representations and warranties contained in Section 7.6 of the Credit Agreement shall be deemed to refer to the most recent financial statements furnished pursuant to Section 8.1(a) of the Credit Agreement.\"\"\".lower())\n",
        "\n",
        "result[\"class\"]"
      ]
    },
    {
      "cell_type": "code",
      "execution_count": null,
      "id": "8d54a3ba-f4d6-455f-aaba-4b31eab6a8a4",
      "metadata": {
        "id": "8d54a3ba-f4d6-455f-aaba-4b31eab6a8a4",
        "outputId": "95279244-f7a8-4057-da21-fd22ff9862a8"
      },
      "outputs": [
        {
          "data": {
            "text/plain": [
              "['notices']"
            ]
          },
          "execution_count": 13,
          "metadata": {},
          "output_type": "execute_result"
        }
      ],
      "source": [
        "result = light_pipeline.annotate(\"\"\"All notices and other communications provided for in this Agreement and the other Loan Documents shall be in writing and may (subject to paragraph (b) below) be telecopied (faxed), mailed by certified mail return receipt requested, or delivered by hand or overnight courier service to the intended recipient at the addresses specified below or at such other address as shall be designated by any party listed below in a notice to the other parties listed below given in accordance with this Section.\"\"\".lower())\n",
        "\n",
        "result[\"class\"]"
      ]
    },
    {
      "cell_type": "code",
      "execution_count": null,
      "id": "4df6a8b8-2247-42bd-9f07-2dc8041868f8",
      "metadata": {
        "id": "4df6a8b8-2247-42bd-9f07-2dc8041868f8"
      },
      "outputs": [],
      "source": []
    }
  ],
  "metadata": {
    "colab": {
      "collapsed_sections": [],
      "name": "3.TextClassification.ipynb",
      "provenance": []
    },
    "kernelspec": {
      "display_name": "Python 3.9.5 64-bit",
      "language": "python",
      "name": "python3"
    },
    "language_info": {
      "codemirror_mode": {
        "name": "ipython",
        "version": 3
      },
      "file_extension": ".py",
      "mimetype": "text/x-python",
      "name": "python",
      "nbconvert_exporter": "python",
      "pygments_lexer": "ipython3",
      "version": "3.9.5"
    },
    "vscode": {
      "interpreter": {
        "hash": "ca1c4b8877e01dec1d65bc94ac0771fb7b4e7d433b24c0ced0afdc05f796f65d"
      }
    }
  },
  "nbformat": 4,
  "nbformat_minor": 5
}
