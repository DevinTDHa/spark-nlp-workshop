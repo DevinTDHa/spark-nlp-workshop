{
  "cells": [
    {
      "cell_type": "markdown",
      "id": "6964d2b7",
      "metadata": {},
      "source": [
        "# Legal Named Entity Recognition (NER) and Zero-shot NER"
      ]
    },
    {
      "cell_type": "markdown",
      "id": "db5f4f9a-7776-42b3-8758-85624d4c15ea",
      "metadata": {
        "id": "db5f4f9a-7776-42b3-8758-85624d4c15ea"
      },
      "source": [
        "![JohnSnowLabs](https://nlp.johnsnowlabs.com/assets/images/logo.png)"
      ]
    },
    {
      "cell_type": "markdown",
      "id": "982c5188",
      "metadata": {},
      "source": [
        "[![Open In Colab](https://colab.research.google.com/assets/colab-badge.svg)](https://colab.research.google.com/github/JohnSnowLabs/spark-nlp-workshop/blob/master/tutorials/Certification_Trainings/Legal/4.Legal_NER_ZeroShotNER.ipynb)"
      ]
    },
    {
      "cell_type": "markdown",
      "id": "212325cc-182f-4565-abed-9b46864d6d69",
      "metadata": {
        "id": "212325cc-182f-4565-abed-9b46864d6d69"
      },
      "source": [
        "## Colab Setup"
      ]
    },
    {
      "cell_type": "code",
      "execution_count": null,
      "id": "4914b00f-abd2-4449-9a4f-737f317317be",
      "metadata": {
        "id": "4914b00f-abd2-4449-9a4f-737f317317be"
      },
      "outputs": [],
      "source": [
        "import json\n",
        "import os\n",
        "from google.colab import files\n",
        "\n",
        "license_keys = files.upload()\n",
        "\n",
        "with open(list(license_keys.keys())[0]) as f:\n",
        "    license_keys = json.load(f)\n",
        "\n",
        "# Defining license key-value pairs as local variables\n",
        "locals().update(license_keys)\n",
        "\n",
        "# Adding license key-value pairs to environment variables\n",
        "\n",
        "os.environ.update(license_keys)"
      ]
    },
    {
      "cell_type": "code",
      "execution_count": null,
      "id": "fe96e8d6-c2a3-4464-b78e-90e83f743823",
      "metadata": {
        "id": "fe96e8d6-c2a3-4464-b78e-90e83f743823"
      },
      "outputs": [],
      "source": [
        "# Installing pyspark and spark-nlp\n",
        "! pip install --upgrade -q pyspark==3.1.2 spark-nlp==$PUBLIC_VERSION\n",
        "\n",
        "# Installing Spark NLP Healthcare\n",
        "! pip install --upgrade -q spark-nlp-jsl==$JSL_VERSION  --extra-index-url https://pypi.johnsnowlabs.com/$SECRET\n",
        "\n",
        "# Installing Spark NLP Display Library for visualization\n",
        "! pip install -q spark-nlp-display"
      ]
    },
    {
      "cell_type": "markdown",
      "id": "09fafa4b-cf69-4556-ae50-adb9fc6f4368",
      "metadata": {
        "id": "09fafa4b-cf69-4556-ae50-adb9fc6f4368"
      },
      "source": [
        "## Start Spark Session"
      ]
    },
    {
      "cell_type": "code",
      "execution_count": null,
      "id": "6bf81ce1-911d-499c-a67d-e3ec3deb26dd",
      "metadata": {
        "id": "6bf81ce1-911d-499c-a67d-e3ec3deb26dd",
        "tags": []
      },
      "outputs": [],
      "source": [
        "from pyspark.ml import Pipeline,PipelineModel\n",
        "from pyspark.sql import SparkSession\n",
        "from pyspark.sql import functions as F\n",
        "\n",
        "from sparknlp.annotator import *\n",
        "from sparknlp_jsl.annotator import *\n",
        "from sparknlp.base import *\n",
        "import sparknlp_jsl\n",
        "import sparknlp\n",
        "\n",
        "import pandas as pd\n",
        "\n",
        "import warnings\n",
        "warnings.filterwarnings('ignore')\n",
        "\n",
        "print (\"Spark NLP Version :\", sparknlp.version())\n",
        "print (\"Spark NLP_JSL Version :\", sparknlp_jsl.version())\n",
        "\n",
        "spark = sparknlp_jsl.start(license_keys['SECRET'])\n",
        "\n",
        "spark"
      ]
    },
    {
      "cell_type": "markdown",
      "id": "766fe57a-fcd5-4072-99d0-7626c7888493",
      "metadata": {
        "id": "766fe57a-fcd5-4072-99d0-7626c7888493",
        "tags": []
      },
      "source": [
        "## NER Model Implementation in Spark NLP\n",
        "\n",
        "  The deep neural network architecture for NER model in Spark NLP is BiLSTM-CNN-Char framework. a slightly modified version of the architecture proposed by Jason PC Chiu and Eric Nichols ([Named Entity Recognition with Bidirectional LSTM-CNNs](https://arxiv.org/abs/1511.08308)). It is a neural network architecture that automatically detects word and character-level features using a hybrid bidirectional LSTM and CNN architecture, eliminating the need for most feature engineering steps.\n",
        "  \n",
        "  In the original framework, the CNN extracts a fixed length feature vector from character-level features. For each word, these vectors are concatenated and fed to the BLSTM network and then to the output layers. They employed a stacked bi-directional recurrent neural network with long short-term memory units to transform word features into named entity tag scores. The extracted features of each word are fed into a forward LSTM network and a backward LSTM network. The output of each network at each time step is decoded by a linear layer and a log-softmax layer into log-probabilities for each tag category. These two vectors are then simply added together to produce the final output. In the architecture of the proposed framework in the original paper, 50-dimensional pretrained word embeddings is used for word features, 25-dimension character embeddings is used for char features, and capitalization features (allCaps, upperInitial, lowercase, mixedCaps, noinfo) are used for case features."
      ]
    },
    {
      "cell_type": "markdown",
      "id": "bee4b28c-dda1-4708-9240-edb6fe105013",
      "metadata": {
        "id": "bee4b28c-dda1-4708-9240-edb6fe105013"
      },
      "source": [
        "### Legal CuadNER Model\n",
        "\n",
        "This model uses Name Entity Recognition to extract DOC (Document Type), PARTY (An Entity signing a contract), ALIAS (the way a company is named later on in the document) and EFFDATE (Effective Date of the contract)."
      ]
    },
    {
      "cell_type": "code",
      "execution_count": null,
      "id": "889067cf-a64c-4f3a-b27a-51fdca438599",
      "metadata": {
        "id": "889067cf-a64c-4f3a-b27a-51fdca438599",
        "scrolled": true,
        "tags": []
      },
      "outputs": [],
      "source": [
        "documentAssembler = DocumentAssembler()\\\n",
        "        .setInputCol(\"text\")\\\n",
        "        .setOutputCol(\"document\")\n",
        "\n",
        "sentenceDetector = SentenceDetectorDLModel.pretrained(\"sentence_detector_dl\",\"xx\")\\\n",
        "        .setInputCols([\"document\"])\\\n",
        "        .setOutputCol(\"sentence\")\n",
        "\n",
        "tokenizer = Tokenizer()\\\n",
        "        .setInputCols([\"sentence\"])\\\n",
        "        .setOutputCol(\"token\")\n",
        "\n",
        "embeddings = RoBertaEmbeddings.pretrained(\"roberta_embeddings_legal_roberta_base\", \"en\") \\\n",
        "        .setInputCols(\"sentence\", \"token\") \\\n",
        "        .setOutputCol(\"embeddings\")\\\n",
        "\n",
        "ner_model = LegalNerModel.pretrained(\"legner_contract_doc_parties\", \"en\", \"legal/models\")\\\n",
        "        .setInputCols([\"sentence\", \"token\", \"embeddings\"])\\\n",
        "        .setOutputCol(\"ner\")\n",
        "\n",
        "ner_converter = NerConverter()\\\n",
        "        .setInputCols([\"sentence\",\"token\",\"ner\"])\\\n",
        "        .setOutputCol(\"ner_chunk\")\n",
        "\n",
        "nlpPipeline = Pipeline(stages=[\n",
        "        documentAssembler,\n",
        "        sentenceDetector,\n",
        "        tokenizer,\n",
        "        embeddings,\n",
        "        ner_model,\n",
        "        ner_converter])\n",
        "\n",
        "empty_data = spark.createDataFrame([[\"\"]]).toDF(\"text\")\n",
        "\n",
        "model = nlpPipeline.fit(empty_data)"
      ]
    },
    {
      "cell_type": "code",
      "execution_count": null,
      "id": "46fa5d8a-a5f0-4173-a21e-1df147d1b2e8",
      "metadata": {
        "id": "46fa5d8a-a5f0-4173-a21e-1df147d1b2e8",
        "outputId": "0a6774ad-2a4d-4155-b1bf-f752f9cf1bb7"
      },
      "outputs": [
        {
          "data": {
            "text/plain": [
              "[DocumentAssembler_ce6a31c38ca0,\n",
              " SentenceDetectorDLModel_8aaebf7e098e,\n",
              " REGEX_TOKENIZER_533509102f37,\n",
              " ROBERTA_EMBEDDINGS_b915dff90901,\n",
              " MedicalNerModel_f714c7246b46,\n",
              " NerConverter_fd1dddb2657a]"
            ]
          },
          "execution_count": 5,
          "metadata": {},
          "output_type": "execute_result"
        }
      ],
      "source": [
        "# you can see pipeline stages with this code\n",
        "\n",
        "model.stages"
      ]
    },
    {
      "cell_type": "code",
      "execution_count": null,
      "id": "af5baafe-793a-4022-ac3c-95c5345ef606",
      "metadata": {
        "id": "af5baafe-793a-4022-ac3c-95c5345ef606",
        "outputId": "782d7f62-f621-4436-9a2a-71b89a421771"
      },
      "outputs": [
        {
          "data": {
            "text/plain": [
              "['O',\n",
              " 'I-DOC',\n",
              " 'B-EFFDATE',\n",
              " 'B-ALIAS',\n",
              " 'I-ALIAS',\n",
              " 'B-PARTY',\n",
              " 'I-EFFDATE',\n",
              " 'B-DOC',\n",
              " 'I-PARTY']"
            ]
          },
          "execution_count": 6,
          "metadata": {},
          "output_type": "execute_result"
        }
      ],
      "source": [
        "# With this code, you can see which labels your NER model has.\n",
        "\n",
        "ner_model.getClasses()"
      ]
    },
    {
      "cell_type": "code",
      "execution_count": null,
      "id": "5954047c-ec79-47ec-98fa-44c74b492140",
      "metadata": {
        "id": "5954047c-ec79-47ec-98fa-44c74b492140",
        "outputId": "0b8ac25e-b8b4-47ba-98c2-83d819619ca5"
      },
      "outputs": [
        {
          "data": {
            "text/plain": [
              "{Param(parent='MedicalNerModel_f714c7246b46', name='batchSize', doc='Size of every batch'): 256,\n",
              " Param(parent='MedicalNerModel_f714c7246b46', name='includeAllConfidenceScores', doc='whether to include all confidence scores in annotation metadata or just the score of the predicted tag'): False,\n",
              " Param(parent='MedicalNerModel_f714c7246b46', name='includeConfidence', doc='whether to include confidence scores in annotation metadata'): True,\n",
              " Param(parent='MedicalNerModel_f714c7246b46', name='inferenceBatchSize', doc='number of sentences to process in a single batch during inference'): 1,\n",
              " Param(parent='MedicalNerModel_f714c7246b46', name='lazyAnnotator', doc='Whether this AnnotatorModel acts as lazy in RecursivePipelines'): False,\n",
              " Param(parent='MedicalNerModel_f714c7246b46', name='labelCasing', doc='Setting all labels of the NER models upper/lower case. values upper|lower'): '',\n",
              " Param(parent='MedicalNerModel_f714c7246b46', name='classes', doc='get the tags used to trained this MedicalNerModel'): ['O',\n",
              "  'I-DOC',\n",
              "  'B-EFFDATE',\n",
              "  'B-ALIAS',\n",
              "  'I-ALIAS',\n",
              "  'B-PARTY',\n",
              "  'I-EFFDATE',\n",
              "  'B-DOC',\n",
              "  'I-PARTY'],\n",
              " Param(parent='MedicalNerModel_f714c7246b46', name='inputCols', doc='previous annotations columns, if renamed'): ['sentence',\n",
              "  'token',\n",
              "  'embeddings'],\n",
              " Param(parent='MedicalNerModel_f714c7246b46', name='outputCol', doc='output annotation column. can be left default.'): 'ner',\n",
              " Param(parent='MedicalNerModel_f714c7246b46', name='storageRef', doc='unique reference name for identification'): 'roberta_embeddings_legal_roberta_base_en'}"
            ]
          },
          "execution_count": 7,
          "metadata": {},
          "output_type": "execute_result"
        }
      ],
      "source": [
        "ner_model.extractParamMap()\n",
        "\n",
        "# With extractParamMap() function, you can see the parameters of any annotators you are using."
      ]
    },
    {
      "cell_type": "markdown",
      "id": "9e7d801c-fcc0-458c-9835-b6cbb0149f38",
      "metadata": {
        "id": "9e7d801c-fcc0-458c-9835-b6cbb0149f38"
      },
      "source": [
        "#### **Sample Text**"
      ]
    },
    {
      "cell_type": "code",
      "execution_count": null,
      "id": "00d74636-3490-4a24-9dc2-4f3f023c8909",
      "metadata": {
        "id": "00d74636-3490-4a24-9dc2-4f3f023c8909"
      },
      "outputs": [],
      "source": [
        "text = \"\"\"EXCLUSIVE DISTRIBUTOR AGREEMENT (\" Agreement \") dated as April 15, 1994 by and between IMRS OPERATIONS INC., a Delaware corporation with its principal place of business at 777 Long Ridge Road, Stamford, Connecticut 06902, U.S.A. (hereinafter referred to as \" Developer \") and Delteq Pte Ltd, a Singapore company (and a subsidiary of Wuthelam Industries (S) Pte LTD ) with its principal place of business at 215 Henderson Road , #101-03 Henderson Industrial Park , Singapore 0315 ( hereinafter referred to as \" Distributor \").\"\"\"\n",
        "\n",
        "df = spark.createDataFrame([[text]]).toDF(\"text\")\n",
        "\n",
        "result = model.transform(df)"
      ]
    },
    {
      "cell_type": "markdown",
      "id": "4c7c211c-448e-494f-9f83-3274b9ca0aba",
      "metadata": {
        "id": "4c7c211c-448e-494f-9f83-3274b9ca0aba"
      },
      "source": [
        "#### **Getting Result**"
      ]
    },
    {
      "cell_type": "code",
      "execution_count": null,
      "id": "ec9a99c6-4d22-4837-aed9-425b8f9efed6",
      "metadata": {
        "id": "ec9a99c6-4d22-4837-aed9-425b8f9efed6",
        "outputId": "9002b102-3590-4a0a-b2a0-a00890484a82",
        "tags": []
      },
      "outputs": [
        {
          "name": "stderr",
          "output_type": "stream",
          "text": [
            "[Stage 10:======================================>                   (2 + 1) / 3]\r"
          ]
        },
        {
          "name": "stdout",
          "output_type": "stream",
          "text": [
            "+-----------+---------+----------+\n",
            "|      token|ner_label|confidence|\n",
            "+-----------+---------+----------+\n",
            "|  EXCLUSIVE|    B-DOC|    0.8227|\n",
            "|DISTRIBUTOR|    I-DOC|    0.5863|\n",
            "|  AGREEMENT|    I-DOC|    0.9924|\n",
            "|         (\"|        O|    0.9979|\n",
            "|  Agreement|        O|    0.9665|\n",
            "|         \")|        O|    0.9999|\n",
            "|      dated|        O|    0.9998|\n",
            "|         as|        O|    0.9979|\n",
            "|      April|B-EFFDATE|    0.9708|\n",
            "|         15|I-EFFDATE|    0.9666|\n",
            "|          ,|I-EFFDATE|    0.9758|\n",
            "|       1994|I-EFFDATE|    0.9795|\n",
            "|         by|        O|    0.9987|\n",
            "|        and|        O|    0.9989|\n",
            "|    between|        O|     0.999|\n",
            "|       IMRS|  B-PARTY|    0.9812|\n",
            "| OPERATIONS|  I-PARTY|     0.991|\n",
            "|        INC|  I-PARTY|    0.9978|\n",
            "|          .|        O|    0.9541|\n",
            "|          ,|        O|    0.9945|\n",
            "|          a|        O|    0.9997|\n",
            "|   Delaware|        O|    0.9976|\n",
            "|corporation|        O|    0.9995|\n",
            "|       with|        O|    0.9999|\n",
            "|        its|        O|    0.9999|\n",
            "|  principal|        O|    0.9998|\n",
            "|      place|        O|    0.9999|\n",
            "|         of|        O|    0.9997|\n",
            "|   business|        O|    0.9999|\n",
            "|         at|        O|       1.0|\n",
            "|        777|        O|    0.9994|\n",
            "|       Long|        O|    0.9975|\n",
            "|      Ridge|        O|    0.9984|\n",
            "|       Road|        O|    0.9992|\n",
            "|          ,|        O|    0.9997|\n",
            "|   Stamford|        O|    0.9928|\n",
            "|          ,|        O|     0.998|\n",
            "|Connecticut|        O|    0.9974|\n",
            "|      06902|        O|    0.9979|\n",
            "|          ,|        O|    0.9969|\n",
            "|      U.S.A|        O|    0.8526|\n",
            "|          .|        O|    0.9821|\n",
            "|          (|        O|     0.999|\n",
            "|hereinafter|        O|    0.9998|\n",
            "|   referred|        O|    0.9998|\n",
            "|         to|        O|    0.9991|\n",
            "|         as|        O|    0.9958|\n",
            "|          \"|        O|    0.9832|\n",
            "|  Developer|  B-ALIAS|    0.9796|\n",
            "|         \")|        O|    0.9477|\n",
            "|        and|        O|    0.9414|\n",
            "|     Delteq|  B-PARTY|    0.7827|\n",
            "|        Pte|  I-PARTY|    0.9496|\n",
            "|        Ltd|  I-PARTY|     0.978|\n",
            "|          ,|        O|    0.9517|\n",
            "|          a|        O|    0.9986|\n",
            "|  Singapore|        O|    0.9778|\n",
            "|    company|        O|    0.9746|\n",
            "|          (|        O|    0.9985|\n",
            "|        and|        O|    0.9972|\n",
            "|          a|        O|    0.9992|\n",
            "| subsidiary|        O|    0.9955|\n",
            "|         of|        O|    0.9899|\n",
            "|   Wuthelam|        O|    0.6155|\n",
            "| Industries|        O|    0.4886|\n",
            "|          (|        O|    0.5715|\n",
            "|          S|        O|    0.5694|\n",
            "|          )|        O|    0.9582|\n",
            "|        Pte|        O|     0.779|\n",
            "|        LTD|        O|    0.7473|\n",
            "|          )|        O|    0.9998|\n",
            "|       with|        O|    0.9999|\n",
            "|        its|        O|    0.9999|\n",
            "|  principal|        O|    0.9998|\n",
            "|      place|        O|       1.0|\n",
            "|         of|        O|    0.9999|\n",
            "|   business|        O|       1.0|\n",
            "|         at|        O|       1.0|\n",
            "|        215|        O|    0.9996|\n",
            "|  Henderson|        O|    0.9993|\n",
            "|       Road|        O|    0.9997|\n",
            "|          ,|        O|       1.0|\n",
            "|    #101-03|        O|    0.9997|\n",
            "|  Henderson|        O|    0.9953|\n",
            "| Industrial|        O|    0.9787|\n",
            "|       Park|        O|    0.9876|\n",
            "|          ,|        O|    0.9991|\n",
            "|  Singapore|        O|    0.9981|\n",
            "|       0315|        O|    0.9939|\n",
            "|          (|        O|    0.9998|\n",
            "|hereinafter|        O|       1.0|\n",
            "|   referred|        O|       1.0|\n",
            "|         to|        O|    0.9997|\n",
            "|         as|        O|    0.9994|\n",
            "|          \"|        O|    0.9967|\n",
            "|Distributor|  B-ALIAS|    0.9856|\n",
            "|        \").|        O|    0.9623|\n",
            "+-----------+---------+----------+\n",
            "\n"
          ]
        },
        {
          "name": "stderr",
          "output_type": "stream",
          "text": [
            "                                                                                \r"
          ]
        }
      ],
      "source": [
        "result.select(F.explode(F.arrays_zip(result.token.result, result.ner.result, result.ner.metadata)).alias(\"cols\"))\\\n",
        "                  .select(F.expr(\"cols['0']\").alias(\"token\"),\n",
        "                          F.expr(\"cols['1']\").alias(\"ner_label\"),\n",
        "                          F.expr(\"cols['2']['confidence']\").alias(\"confidence\")).show(200, truncate=100)"
      ]
    },
    {
      "cell_type": "code",
      "execution_count": null,
      "id": "865dce29-ece0-45f6-8f5b-9028292523f0",
      "metadata": {
        "id": "865dce29-ece0-45f6-8f5b-9028292523f0",
        "outputId": "3e077e63-973b-416a-e104-47e933dcea2b"
      },
      "outputs": [
        {
          "name": "stderr",
          "output_type": "stream",
          "text": [
            "[Stage 12:======================================>                   (2 + 1) / 3]\r"
          ]
        },
        {
          "name": "stdout",
          "output_type": "stream",
          "text": [
            "+-------------------------------+---------+----------+\n",
            "|chunk                          |ner_label|confidence|\n",
            "+-------------------------------+---------+----------+\n",
            "|EXCLUSIVE DISTRIBUTOR AGREEMENT|DOC      |0.8004667 |\n",
            "|April 15, 1994                 |EFFDATE  |0.973175  |\n",
            "|IMRS OPERATIONS INC            |PARTY    |0.98999995|\n",
            "|Developer                      |ALIAS    |0.9796    |\n",
            "|Delteq Pte Ltd                 |PARTY    |0.9034333 |\n",
            "|Distributor                    |ALIAS    |0.9856    |\n",
            "+-------------------------------+---------+----------+\n",
            "\n"
          ]
        },
        {
          "name": "stderr",
          "output_type": "stream",
          "text": [
            "                                                                                \r"
          ]
        }
      ],
      "source": [
        "result.select(F.explode(F.arrays_zip(result.ner_chunk.result, result.ner_chunk.metadata)).alias(\"cols\")) \\\n",
        "      .select(F.expr(\"cols['0']\").alias(\"chunk\"),\n",
        "              F.expr(\"cols['1']['entity']\").alias(\"ner_label\"),\n",
        "              F.expr(\"cols['1']['confidence']\").alias(\"confidence\")).show(truncate=False)"
      ]
    },
    {
      "cell_type": "markdown",
      "id": "b47e34e0-3633-4202-afdf-63a0f2475520",
      "metadata": {
        "id": "b47e34e0-3633-4202-afdf-63a0f2475520"
      },
      "source": [
        "#### **Getting Result with LightPipeline**\n",
        "\n",
        "LightPipelines are Spark NLP specific Pipelines, equivalent to Spark ML Pipeline, but meant to deal with smaller amounts of data. They’re useful working with small datasets, debugging results, or when running either training or prediction from an API that serves one-off requests.\n",
        "\n",
        "Spark NLP LightPipelines are Spark ML pipelines converted into a single machine but the multi-threaded task, becoming more than 10x times faster for smaller amounts of data (small is relative, but 50k sentences are roughly a good maximum). To use them, we simply plug in a trained (fitted) pipeline and then annotate a plain text. We don't even need to convert the input text to DataFrame in order to feed it into a pipeline that's accepting DataFrame as an input in the first place. This feature would be quite useful when it comes to getting a prediction for a few lines of text from a trained ML model.\n",
        "\n",
        " **It is nearly 10x faster than using Spark ML Pipeline**\n",
        "\n",
        "For more details:\n",
        "[https://medium.com/spark-nlp/spark-nlp-101-lightpipeline-a544e93f20f1](https://medium.com/spark-nlp/spark-nlp-101-lightpipeline-a544e93f20f1)"
      ]
    },
    {
      "cell_type": "code",
      "execution_count": null,
      "id": "f22dd0c2-c63d-43c8-bc96-2f7cead3553b",
      "metadata": {
        "id": "f22dd0c2-c63d-43c8-bc96-2f7cead3553b",
        "outputId": "1735ff23-4263-4322-dc46-8a941633d5a2"
      },
      "outputs": [
        {
          "data": {
            "text/html": [
              "<div>\n",
              "<style scoped>\n",
              "    .dataframe tbody tr th:only-of-type {\n",
              "        vertical-align: middle;\n",
              "    }\n",
              "\n",
              "    .dataframe tbody tr th {\n",
              "        vertical-align: top;\n",
              "    }\n",
              "\n",
              "    .dataframe thead th {\n",
              "        text-align: right;\n",
              "    }\n",
              "</style>\n",
              "<table border=\"1\" class=\"dataframe\">\n",
              "  <thead>\n",
              "    <tr style=\"text-align: right;\">\n",
              "      <th></th>\n",
              "      <th>chunks</th>\n",
              "      <th>begin</th>\n",
              "      <th>end</th>\n",
              "      <th>sentence_id</th>\n",
              "      <th>entities</th>\n",
              "    </tr>\n",
              "  </thead>\n",
              "  <tbody>\n",
              "    <tr>\n",
              "      <th>0</th>\n",
              "      <td>EXCLUSIVE DISTRIBUTOR AGREEMENT</td>\n",
              "      <td>0</td>\n",
              "      <td>30</td>\n",
              "      <td>0</td>\n",
              "      <td>DOC</td>\n",
              "    </tr>\n",
              "    <tr>\n",
              "      <th>1</th>\n",
              "      <td>April 15, 1994</td>\n",
              "      <td>57</td>\n",
              "      <td>70</td>\n",
              "      <td>0</td>\n",
              "      <td>EFFDATE</td>\n",
              "    </tr>\n",
              "    <tr>\n",
              "      <th>2</th>\n",
              "      <td>IMRS OPERATIONS INC</td>\n",
              "      <td>87</td>\n",
              "      <td>105</td>\n",
              "      <td>0</td>\n",
              "      <td>PARTY</td>\n",
              "    </tr>\n",
              "    <tr>\n",
              "      <th>3</th>\n",
              "      <td>Developer</td>\n",
              "      <td>259</td>\n",
              "      <td>267</td>\n",
              "      <td>1</td>\n",
              "      <td>ALIAS</td>\n",
              "    </tr>\n",
              "    <tr>\n",
              "      <th>4</th>\n",
              "      <td>Delteq Pte Ltd</td>\n",
              "      <td>276</td>\n",
              "      <td>289</td>\n",
              "      <td>1</td>\n",
              "      <td>PARTY</td>\n",
              "    </tr>\n",
              "    <tr>\n",
              "      <th>5</th>\n",
              "      <td>Distributor</td>\n",
              "      <td>510</td>\n",
              "      <td>520</td>\n",
              "      <td>1</td>\n",
              "      <td>ALIAS</td>\n",
              "    </tr>\n",
              "  </tbody>\n",
              "</table>\n",
              "</div>"
            ],
            "text/plain": [
              "                            chunks  begin  end sentence_id entities\n",
              "0  EXCLUSIVE DISTRIBUTOR AGREEMENT      0   30           0      DOC\n",
              "1                   April 15, 1994     57   70           0  EFFDATE\n",
              "2              IMRS OPERATIONS INC     87  105           0    PARTY\n",
              "3                        Developer    259  267           1    ALIAS\n",
              "4                   Delteq Pte Ltd    276  289           1    PARTY\n",
              "5                      Distributor    510  520           1    ALIAS"
            ]
          },
          "execution_count": 11,
          "metadata": {},
          "output_type": "execute_result"
        }
      ],
      "source": [
        "light_model = LightPipeline(model)\n",
        "\n",
        "light_result = light_model.fullAnnotate(text)\n",
        "\n",
        "\n",
        "chunks = []\n",
        "entities = []\n",
        "sentence= []\n",
        "begin = []\n",
        "end = []\n",
        "\n",
        "for n in light_result[0]['ner_chunk']:\n",
        "        \n",
        "    begin.append(n.begin)\n",
        "    end.append(n.end)\n",
        "    chunks.append(n.result)\n",
        "    entities.append(n.metadata['entity']) \n",
        "    sentence.append(n.metadata['sentence'])\n",
        "    \n",
        "    \n",
        "\n",
        "df = pd.DataFrame({'chunks':chunks, 'begin': begin, 'end':end, \n",
        "                   'sentence_id':sentence, 'entities':entities})\n",
        "\n",
        "df.head(20)"
      ]
    },
    {
      "cell_type": "markdown",
      "id": "0e91726a-2fd2-4432-a3ff-fe5238b00e9d",
      "metadata": {
        "id": "0e91726a-2fd2-4432-a3ff-fe5238b00e9d"
      },
      "source": [
        "#### NER Visualizer\n",
        "\n",
        "For saving the visualization result as html, provide `save_path` parameter in the display function."
      ]
    },
    {
      "cell_type": "code",
      "execution_count": null,
      "id": "1f9e05ec-1724-4d53-b4e2-68e454c4e3bb",
      "metadata": {
        "id": "1f9e05ec-1724-4d53-b4e2-68e454c4e3bb",
        "outputId": "319b1cca-a19d-47c5-bd9a-edaa53fecd31"
      },
      "outputs": [
        {
          "data": {
            "text/html": [
              "\n",
              "<style>\n",
              "    @import url('https://fonts.googleapis.com/css2?family=Montserrat:wght@300;400;500;600;700&display=swap');\n",
              "    @import url('https://fonts.googleapis.com/css2?family=Vistol Regular:wght@300;400;500;600;700&display=swap');\n",
              "    \n",
              "    .spark-nlp-display-scroll-entities {\n",
              "        border: 1px solid #E7EDF0;\n",
              "        border-radius: 3px;\n",
              "        text-align: justify;\n",
              "        \n",
              "    }\n",
              "    .spark-nlp-display-scroll-entities span {  \n",
              "        font-size: 14px;\n",
              "        line-height: 24px;\n",
              "        color: #536B76;\n",
              "        font-family: 'Montserrat', sans-serif !important;\n",
              "    }\n",
              "    \n",
              "    .spark-nlp-display-entity-wrapper{\n",
              "    \n",
              "        display: inline-grid;\n",
              "        text-align: center;\n",
              "        border-radius: 4px;\n",
              "        margin: 0 2px 5px 2px;\n",
              "        padding: 1px\n",
              "    }\n",
              "    .spark-nlp-display-entity-name{\n",
              "        font-size: 14px;\n",
              "        line-height: 24px;\n",
              "        font-family: 'Montserrat', sans-serif !important;\n",
              "        \n",
              "        background: #f1f2f3;\n",
              "        border-width: medium;\n",
              "        text-align: center;\n",
              "        \n",
              "        font-weight: 400;\n",
              "        \n",
              "        border-radius: 5px;\n",
              "        padding: 2px 5px;\n",
              "        display: block;\n",
              "        margin: 3px 2px;\n",
              "    \n",
              "    }\n",
              "    .spark-nlp-display-entity-type{\n",
              "        font-size: 14px;\n",
              "        line-height: 24px;\n",
              "        color: #ffffff;\n",
              "        font-family: 'Montserrat', sans-serif !important;\n",
              "        \n",
              "        text-transform: uppercase;\n",
              "        \n",
              "        font-weight: 500;\n",
              "\n",
              "        display: block;\n",
              "        padding: 3px 5px;\n",
              "    }\n",
              "    \n",
              "    .spark-nlp-display-entity-resolution{\n",
              "        font-size: 14px;\n",
              "        line-height: 24px;\n",
              "        color: #ffffff;\n",
              "        font-family: 'Vistol Regular', sans-serif !important;\n",
              "        \n",
              "        text-transform: uppercase;\n",
              "        \n",
              "        font-weight: 500;\n",
              "\n",
              "        display: block;\n",
              "        padding: 3px 5px;\n",
              "    }\n",
              "    \n",
              "    .spark-nlp-display-others{\n",
              "        font-size: 14px;\n",
              "        line-height: 24px;\n",
              "        font-family: 'Montserrat', sans-serif !important;\n",
              "        \n",
              "        font-weight: 400;\n",
              "    }\n",
              "\n",
              "</style>\n",
              " <span class=\"spark-nlp-display-entity-wrapper\" style=\"background-color: #A88121\"><span class=\"spark-nlp-display-entity-name\">EXCLUSIVE DISTRIBUTOR AGREEMENT </span><span class=\"spark-nlp-display-entity-type\">DOC</span></span><span class=\"spark-nlp-display-others\" style=\"background-color: white\"> (\" Agreement \") dated as </span><span class=\"spark-nlp-display-entity-wrapper\" style=\"background-color: #B99DA0\"><span class=\"spark-nlp-display-entity-name\">April 15, 1994 </span><span class=\"spark-nlp-display-entity-type\">EFFDATE</span></span><span class=\"spark-nlp-display-others\" style=\"background-color: white\"> by and between </span><span class=\"spark-nlp-display-entity-wrapper\" style=\"background-color: #751048\"><span class=\"spark-nlp-display-entity-name\">IMRS OPERATIONS INC </span><span class=\"spark-nlp-display-entity-type\">PARTY</span></span><span class=\"spark-nlp-display-others\" style=\"background-color: white\">., a Delaware corporation with its principal place of business at 777 Long Ridge Road, Stamford, Connecticut 06902, U.S.A. (hereinafter referred to as \" </span><span class=\"spark-nlp-display-entity-wrapper\" style=\"background-color: #7F630E\"><span class=\"spark-nlp-display-entity-name\">Developer </span><span class=\"spark-nlp-display-entity-type\">ALIAS</span></span><span class=\"spark-nlp-display-others\" style=\"background-color: white\"> \") and </span><span class=\"spark-nlp-display-entity-wrapper\" style=\"background-color: #751048\"><span class=\"spark-nlp-display-entity-name\">Delteq Pte Ltd </span><span class=\"spark-nlp-display-entity-type\">PARTY</span></span><span class=\"spark-nlp-display-others\" style=\"background-color: white\">, a Singapore company (and a subsidiary of Wuthelam Industries (S) Pte LTD ) with its principal place of business at 215 Henderson Road , #101-03 Henderson Industrial Park , Singapore 0315 ( hereinafter referred to as \" </span><span class=\"spark-nlp-display-entity-wrapper\" style=\"background-color: #7F630E\"><span class=\"spark-nlp-display-entity-name\">Distributor </span><span class=\"spark-nlp-display-entity-type\">ALIAS</span></span><span class=\"spark-nlp-display-others\" style=\"background-color: white\"> \").</span></div>"
            ],
            "text/plain": [
              "<IPython.core.display.HTML object>"
            ]
          },
          "metadata": {},
          "output_type": "display_data"
        }
      ],
      "source": [
        "from sparknlp_display import NerVisualizer\n",
        "\n",
        "visualiser = NerVisualizer()\n",
        "\n",
        "visualiser.display(light_result[0], label_col='ner_chunk', document_col='document')"
      ]
    },
    {
      "cell_type": "markdown",
      "id": "95645147-7f43-4fc1-b668-3bb2317bb74f",
      "metadata": {
        "id": "95645147-7f43-4fc1-b668-3bb2317bb74f"
      },
      "source": [
        "## Create Generic Pipeline for NerDL Models"
      ]
    },
    {
      "cell_type": "code",
      "execution_count": null,
      "id": "da501a7a-aabd-477d-b19b-1e18b4ee7042",
      "metadata": {
        "id": "da501a7a-aabd-477d-b19b-1e18b4ee7042"
      },
      "outputs": [],
      "source": [
        "def base_pipeline():\n",
        "    \n",
        "    documentAssembler = DocumentAssembler()\\\n",
        "        .setInputCol(\"text\")\\\n",
        "        .setOutputCol(\"document\")\n",
        "\n",
        "    sentenceDetector = SentenceDetector()\\\n",
        "        .setInputCols([\"document\"])\\\n",
        "        .setOutputCol(\"sentence\")\n",
        "\n",
        "    tokenizer = Tokenizer()\\\n",
        "        .setInputCols([\"sentence\"])\\\n",
        "        .setOutputCol(\"token\")\n",
        "    \n",
        "    pipeline = Pipeline(stages=[\n",
        "            documentAssembler,\n",
        "            sentenceDetector,\n",
        "            tokenizer])\n",
        "    \n",
        "    return pipeline"
      ]
    },
    {
      "cell_type": "code",
      "execution_count": null,
      "id": "6b050243-1a9d-4b9e-a7a8-3fc084e69d08",
      "metadata": {
        "id": "6b050243-1a9d-4b9e-a7a8-3fc084e69d08"
      },
      "outputs": [],
      "source": [
        "def generic_ner_pipeline(model_name):\n",
        "    \n",
        "    embeddings = RoBertaEmbeddings.pretrained(\"roberta_embeddings_legal_roberta_base\", \"en\") \\\n",
        "            .setInputCols(\"sentence\", \"token\") \\\n",
        "            .setOutputCol(\"embeddings\")\\\n",
        "\n",
        "    ner_model = LegalNerModel.pretrained(model_name, \"en\", \"legal/models\")\\\n",
        "            .setInputCols([\"sentence\", \"token\", \"embeddings\"])\\\n",
        "            .setOutputCol(\"ner\")\n",
        "\n",
        "    ner_converter = NerConverter()\\\n",
        "            .setInputCols([\"sentence\",\"token\",\"ner\"])\\\n",
        "            .setOutputCol(\"ner_chunk\")\n",
        "\n",
        "    nlpPipeline = Pipeline(stages=[\n",
        "            base_pipeline(),\n",
        "            embeddings,\n",
        "            ner_model,\n",
        "            ner_converter])\n",
        "\n",
        "    empty_data = spark.createDataFrame([[\"\"]]).toDF(\"text\")\n",
        "\n",
        "    model = nlpPipeline.fit(empty_data)\n",
        "    \n",
        "    return model"
      ]
    },
    {
      "cell_type": "markdown",
      "id": "479103f2-1256-4b78-971a-55d81140d030",
      "metadata": {
        "id": "479103f2-1256-4b78-971a-55d81140d030"
      },
      "source": [
        "## Create Generic Result Function"
      ]
    },
    {
      "cell_type": "code",
      "execution_count": null,
      "id": "19fac60f-f99a-4bf6-8668-0d40aa50a24d",
      "metadata": {
        "id": "19fac60f-f99a-4bf6-8668-0d40aa50a24d"
      },
      "outputs": [],
      "source": [
        "def get_result(result):\n",
        "    result.select(F.explode(F.arrays_zip(result.ner_chunk.result, result.ner_chunk.metadata)).alias(\"cols\")) \\\n",
        "          .select(F.expr(\"cols['0']\").alias(\"chunk\"),\n",
        "                  F.expr(\"cols['1']['entity']\").alias(\"ner_label\")).show(50, truncate=False)"
      ]
    },
    {
      "cell_type": "markdown",
      "id": "817a44c1-52a3-40b3-9bd2-bc7b67c4c7fe",
      "metadata": {
        "id": "817a44c1-52a3-40b3-9bd2-bc7b67c4c7fe"
      },
      "source": [
        "### Legal Cuad_NER_Header Model\n",
        "\n",
        "This model uses Name Entity Recognition to detect **HEADER** and **SUBHEADER** with aims to detect the different sections of a legal document."
      ]
    },
    {
      "cell_type": "code",
      "execution_count": null,
      "id": "3fa0104c-bdb7-4e4a-b3bb-f7e21f912964",
      "metadata": {
        "id": "3fa0104c-bdb7-4e4a-b3bb-f7e21f912964",
        "jupyter": {
          "outputs_hidden": true
        },
        "tags": []
      },
      "outputs": [],
      "source": [
        "text = \"\"\"5. GRANT OF PATENT LICENSE\n",
        "5.1 Arizona Patent Grant. Subject to the terms and conditions of this Agreement, Arizona hereby grants to the Company a perpetual, non-exclusive, royalty-free license in, to and under the Arizona Licensed Patents for use in the Company Field throughout the world.\"\"\"\n",
        "\n",
        "model_name = \"model/cuad_ner_header\"\n",
        "\n",
        "df = spark.createDataFrame([[text]]).toDF(\"text\")\n",
        "\n",
        "result = generic_ner_pipeline(model_name).transform(df)"
      ]
    },
    {
      "cell_type": "code",
      "execution_count": null,
      "id": "0c143057-ddfc-4823-947f-9e51506e50ce",
      "metadata": {
        "id": "0c143057-ddfc-4823-947f-9e51506e50ce",
        "outputId": "39cfc1e8-332d-4bc5-8141-3b5905ec487d"
      },
      "outputs": [
        {
          "name": "stderr",
          "output_type": "stream",
          "text": [
            "[Stage 22:======================================>                   (2 + 1) / 3]\r"
          ]
        },
        {
          "name": "stdout",
          "output_type": "stream",
          "text": [
            "+--------------------------+---------+\n",
            "|chunk                     |ner_label|\n",
            "+--------------------------+---------+\n",
            "|5. GRANT OF PATENT LICENSE|HEADER   |\n",
            "|5.1 Arizona Patent Grant  |SUBHEADER|\n",
            "+--------------------------+---------+\n",
            "\n"
          ]
        },
        {
          "name": "stderr",
          "output_type": "stream",
          "text": [
            "                                                                                \r"
          ]
        }
      ],
      "source": [
        "get_result(result)"
      ]
    },
    {
      "cell_type": "markdown",
      "id": "aab56faa-0646-4c84-ac4e-e9710c0ba891",
      "metadata": {
        "id": "aab56faa-0646-4c84-ac4e-e9710c0ba891"
      },
      "source": [
        "### Legal Cuad_NER_Obligations Model\n",
        "\n",
        "Entities:\n",
        " - OBLIGATION_SUBJECT\n",
        " - OBLIGATION_ACTION\n",
        " - OBLIGATION\n",
        " - OBLIGATION_INDIRECT_OBJECT"
      ]
    },
    {
      "cell_type": "code",
      "execution_count": null,
      "id": "6e48a792-b252-42bd-8d0f-0e543240b289",
      "metadata": {
        "id": "6e48a792-b252-42bd-8d0f-0e543240b289",
        "jupyter": {
          "outputs_hidden": true
        },
        "tags": []
      },
      "outputs": [],
      "source": [
        "text = \"\"\"PPD may engage VS to perform imaging services\"\"\"\n",
        "\n",
        "model_name = \"legner_obligations\"\n",
        "\n",
        "df = spark.createDataFrame([[text]]).toDF(\"text\")\n",
        "\n",
        "result = generic_ner_pipeline(model_name).transform(df)\n"
      ]
    },
    {
      "cell_type": "code",
      "execution_count": null,
      "id": "56f94eaf-e394-4052-b33b-518ae5876ca1",
      "metadata": {
        "id": "56f94eaf-e394-4052-b33b-518ae5876ca1",
        "outputId": "8e3d41a3-c680-4578-f9b8-08ff6b3f4daf"
      },
      "outputs": [
        {
          "name": "stderr",
          "output_type": "stream",
          "text": [
            "[Stage 29:======================================>                   (2 + 1) / 3]\r"
          ]
        },
        {
          "name": "stdout",
          "output_type": "stream",
          "text": [
            "+---------------------------+--------------------------+\n",
            "|chunk                      |ner_label                 |\n",
            "+---------------------------+--------------------------+\n",
            "|PPD                        |OBLIGATION_SUBJECT        |\n",
            "|may engage                 |OBLIGATION_ACTION         |\n",
            "|VS                         |OBLIGATION_INDIRECT_OBJECT|\n",
            "|to perform imaging services|OBLIGATION                |\n",
            "+---------------------------+--------------------------+\n",
            "\n"
          ]
        },
        {
          "name": "stderr",
          "output_type": "stream",
          "text": [
            "                                                                                \r"
          ]
        }
      ],
      "source": [
        "get_result(result)"
      ]
    },
    {
      "cell_type": "markdown",
      "id": "bd3aab70-a7e4-477c-9415-9ed845afb9c1",
      "metadata": {
        "id": "bd3aab70-a7e4-477c-9415-9ed845afb9c1"
      },
      "source": [
        "### Legal NER_Law_Money Spanish Model with RoBertaForTokenClassification\n",
        "\n",
        "Enities\n",
        " - LAW\n",
        " - MONEY"
      ]
    },
    {
      "cell_type": "code",
      "execution_count": null,
      "id": "e350660c-4e30-42d9-8086-7f835036fa19",
      "metadata": {
        "id": "e350660c-4e30-42d9-8086-7f835036fa19"
      },
      "outputs": [],
      "source": [
        "tokenClassifier = RoBertaForTokenClassification.pretrained(\"legner_law_money\", \"es\", \"legal/models\") \\\n",
        "    .setInputCols([\"sentence\", \"token\"])\\\n",
        "    .setOutputCol(\"ner\")\n",
        "\n",
        "ner_converter = NerConverter()\\\n",
        "    .setInputCols([\"sentence\",\"token\",\"ner\"])\\\n",
        "    .setOutputCol(\"ner_chunk\")\n",
        "\n",
        "pipeline = Pipeline(stages=[\n",
        "    base_pipeline(), \n",
        "    tokenClassifier,\n",
        "    ner_converter])\n",
        "\n",
        "empty_data = spark.createDataFrame([[\"\"]]).toDF(\"text\")\n",
        "\n",
        "model = pipeline.fit(empty_data)"
      ]
    },
    {
      "cell_type": "code",
      "execution_count": null,
      "id": "ad62ed1d-7972-45dc-adf0-46318bfcdc4f",
      "metadata": {
        "id": "ad62ed1d-7972-45dc-adf0-46318bfcdc4f"
      },
      "outputs": [],
      "source": [
        "text = \"\"\"La recaudación del ministerio del interior fue de 20,000,000 euros así constatado por el artículo 24 de la Constitución Española.\"\"\"\n",
        "\n",
        "df = spark.createDataFrame([[text]]).toDF(\"text\")\n",
        "\n",
        "result = model.transform(df)"
      ]
    },
    {
      "cell_type": "code",
      "execution_count": null,
      "id": "0cd698ee-0302-427b-bdf8-a43d878468cc",
      "metadata": {
        "id": "0cd698ee-0302-427b-bdf8-a43d878468cc",
        "outputId": "65dff946-1ae4-44f7-d42b-8e817e01276a"
      },
      "outputs": [
        {
          "name": "stderr",
          "output_type": "stream",
          "text": [
            "[Stage 36:======================================>                   (2 + 1) / 3]\r"
          ]
        },
        {
          "name": "stdout",
          "output_type": "stream",
          "text": [
            "+---------------------------------------+---------+\n",
            "|chunk                                  |ner_label|\n",
            "+---------------------------------------+---------+\n",
            "|20,000,000 euros                       |MONEY    |\n",
            "|artículo 24 de la Constitución Española|LAW      |\n",
            "+---------------------------------------+---------+\n",
            "\n"
          ]
        },
        {
          "name": "stderr",
          "output_type": "stream",
          "text": [
            "                                                                                \r"
          ]
        }
      ],
      "source": [
        "get_result(result)"
      ]
    },
    {
      "cell_type": "markdown",
      "id": "bf944e21-f7e3-4282-b3c5-2bbeb04fe8a8",
      "metadata": {},
      "source": [
        "# Zero-shot Legal Example"
      ]
    },
    {
      "cell_type": "markdown",
      "id": "dd10f5c5",
      "metadata": {},
      "source": [
        "`Zero-shot` is a new inference paradigm which allows us to use a model for prediction without any previous training step.\n",
        "\n",
        "For doing that, several examples (_hypotheses_) are provided and sent to the Language model, which will use `NLI (Natural Language Inference)` to check if the any information found in the text matches the examples (confirm the hypotheses).\n",
        "\n",
        "NLI usually works by trying to _confirm or reject an hypotheses_. The _hypotheses_ are the `prompts` or examples we are going to provide. If any piece of information confirm the constructed hypotheses (answer the examples we are given), then the hypotheses is confirmed and the Zero-shot is triggered.\n",
        "\n",
        "Let's see it  in action."
      ]
    },
    {
      "cell_type": "code",
      "execution_count": null,
      "id": "6610e9d9-0cd6-45ad-9fe4-e0d9ac3314e3",
      "metadata": {},
      "outputs": [
        {
          "name": "stdout",
          "output_type": "stream",
          "text": [
            "zero_shot_ner_roberta download started this may take some time.\n",
            "[OK!]\n"
          ]
        }
      ],
      "source": [
        "from sparknlp.base import *\n",
        "from sparknlp.annotator import *\n",
        "from pyspark.ml import Pipeline\n",
        "from sparknlp_jsl.annotator import *\n",
        "\n",
        "documentAssembler = DocumentAssembler()\\\n",
        "  .setInputCol(\"text\")\\\n",
        "  .setOutputCol(\"document\")\n",
        "\n",
        "sen = SentenceDetector()\\\n",
        "  .setInputCols([\"document\"])\\\n",
        "  .setOutputCol(\"sentence\")\n",
        "\n",
        "sparktokenizer = Tokenizer()\\\n",
        "  .setInputCols(\"sentence\")\\\n",
        "  .setOutputCol(\"token\")\n",
        "\n",
        "zero_shot_ner = ZeroShotNerModel.pretrained(\"legner_roberta_zeroshot\", \"en\", \"legal/models\")\\\n",
        "    .setInputCols([\"sentence\", \"token\"])\\\n",
        "    .setOutputCol(\"zero_shot_ner\")\\\n",
        "    .setEntityDefinitions(\n",
        "        {\n",
        "            \"DATE\": ['When was the company acquisition?', 'When was the company purchase agreement?', \"When was the agreement?\"],\n",
        "            \"ORG\": [\"Which company?\"],\n",
        "            \"STATE\": [\"Which state?\"],\n",
        "            \"AGREEMENT\": [\"What kind of agreement?\"],\n",
        "            \"LICENSE\": [\"What kind of license?\"],\n",
        "            \"LICENSE_RECIPIENT\": [\"To whom the license is granted?\"]\n",
        "        })\n",
        "\n",
        "nerconverter = NerConverter()\\\n",
        "  .setInputCols([\"sentence\", \"token\", \"zero_shot_ner\"])\\\n",
        "  .setOutputCol(\"ner_chunk\")\n",
        "\n",
        "pipeline =  Pipeline(stages=[\n",
        "  documentAssembler,\n",
        "  sen,\n",
        "  sparktokenizer,\n",
        "  zero_shot_ner,\n",
        "  nerconverter,\n",
        "    ]\n",
        ")"
      ]
    },
    {
      "cell_type": "code",
      "execution_count": null,
      "id": "9f49d722-71aa-488e-af32-6de899aa5b2a",
      "metadata": {},
      "outputs": [],
      "source": [
        "from pyspark.sql.types import StructType,StructField, StringType\n",
        "sample_text = [\"In March 2012, as part of a longer-term strategy, the Company acquired Vertro, Inc., which owned and operated the ALOT product portfolio.\",\n",
        "              \"In February 2017, the Company entered into an asset purchase agreement with NetSeer, Inc.\",\n",
        "              \"This INTELLECTUAL PROPERTY AGREEMENT, dated as of December 31, 2018 (the 'Effective Date') is entered into by and between Armstrong Flooring, Inc., a Delaware corporation ('Seller') and AFI Licensing LLC, a Delaware company (the 'Licensee')\",\n",
        "              \"The Company hereby grants to Seller a perpetual, non- exclusive, royalty-free license\"]\n",
        "\n",
        "p_model = pipeline.fit(spark.createDataFrame([[\"\"]]).toDF(\"text\"))\n",
        "\n",
        "res = p_model.transform(spark.createDataFrame(sample_text, StringType()).toDF(\"text\"))"
      ]
    },
    {
      "cell_type": "code",
      "execution_count": null,
      "id": "233fd7d6-c84d-4240-9b57-9912f6256b71",
      "metadata": {},
      "outputs": [
        {
          "name": "stderr",
          "output_type": "stream",
          "text": [
            "[Stage 71:======================================>                   (2 + 1) / 3]\r"
          ]
        },
        {
          "name": "stdout",
          "output_type": "stream",
          "text": [
            "+-------------------------------------+-----------------+\n",
            "|chunk                                |ner_label        |\n",
            "+-------------------------------------+-----------------+\n",
            "|March 2012                           |DATE             |\n",
            "|Vertro, Inc                          |ORG              |\n",
            "|February 2017                        |DATE             |\n",
            "|asset purchase agreement             |AGREEMENT        |\n",
            "|NetSeer                              |ORG              |\n",
            "|INTELLECTUAL PROPERTY                |AGREEMENT        |\n",
            "|December 31, 2018                    |DATE             |\n",
            "|Armstrong Flooring                   |LICENSE_RECIPIENT|\n",
            "|Delaware                             |STATE            |\n",
            "|AFI Licensing LLC, a Delaware company|LICENSE_RECIPIENT|\n",
            "|Seller                               |LICENSE_RECIPIENT|\n",
            "|perpetual                            |LICENSE          |\n",
            "|non- exclusive                       |LICENSE          |\n",
            "|royalty-free                         |LICENSE          |\n",
            "+-------------------------------------+-----------------+\n",
            "\n"
          ]
        },
        {
          "name": "stderr",
          "output_type": "stream",
          "text": [
            "                                                                                \r"
          ]
        }
      ],
      "source": [
        "from pyspark.sql import functions as F\n",
        "\n",
        "res.select(F.explode(F.arrays_zip(res.ner_chunk.result, res.ner_chunk.begin, res.ner_chunk.end, res.ner_chunk.metadata)).alias(\"cols\")) \\\n",
        "   .select(F.expr(\"cols['0']\").alias(\"chunk\"),\n",
        "           F.expr(\"cols['3']['entity']\").alias(\"ner_label\"))\\\n",
        "   .filter(\"ner_label!='O'\")\\\n",
        "   .show(truncate=False)"
      ]
    },
    {
      "cell_type": "code",
      "execution_count": null,
      "id": "06a23e24-2872-4bb2-8dd3-32f62bdb9423",
      "metadata": {},
      "outputs": [],
      "source": [
        "lp = LightPipeline(p_model)\n",
        "lp_res_1 = lp.fullAnnotate(sample_text[2])\n",
        "lp_res_2 = lp.fullAnnotate(sample_text[3])"
      ]
    },
    {
      "cell_type": "code",
      "execution_count": null,
      "id": "99fc9030-2dc5-4621-b25a-ea2467aa0ccb",
      "metadata": {},
      "outputs": [
        {
          "data": {
            "text/html": [
              "\n",
              "<style>\n",
              "    @import url('https://fonts.googleapis.com/css2?family=Montserrat:wght@300;400;500;600;700&display=swap');\n",
              "    @import url('https://fonts.googleapis.com/css2?family=Vistol Regular:wght@300;400;500;600;700&display=swap');\n",
              "    \n",
              "    .spark-nlp-display-scroll-entities {\n",
              "        border: 1px solid #E7EDF0;\n",
              "        border-radius: 3px;\n",
              "        text-align: justify;\n",
              "        \n",
              "    }\n",
              "    .spark-nlp-display-scroll-entities span {  \n",
              "        font-size: 14px;\n",
              "        line-height: 24px;\n",
              "        color: #536B76;\n",
              "        font-family: 'Montserrat', sans-serif !important;\n",
              "    }\n",
              "    \n",
              "    .spark-nlp-display-entity-wrapper{\n",
              "    \n",
              "        display: inline-grid;\n",
              "        text-align: center;\n",
              "        border-radius: 4px;\n",
              "        margin: 0 2px 5px 2px;\n",
              "        padding: 1px\n",
              "    }\n",
              "    .spark-nlp-display-entity-name{\n",
              "        font-size: 14px;\n",
              "        line-height: 24px;\n",
              "        font-family: 'Montserrat', sans-serif !important;\n",
              "        \n",
              "        background: #f1f2f3;\n",
              "        border-width: medium;\n",
              "        text-align: center;\n",
              "        \n",
              "        font-weight: 400;\n",
              "        \n",
              "        border-radius: 5px;\n",
              "        padding: 2px 5px;\n",
              "        display: block;\n",
              "        margin: 3px 2px;\n",
              "    \n",
              "    }\n",
              "    .spark-nlp-display-entity-type{\n",
              "        font-size: 14px;\n",
              "        line-height: 24px;\n",
              "        color: #ffffff;\n",
              "        font-family: 'Montserrat', sans-serif !important;\n",
              "        \n",
              "        text-transform: uppercase;\n",
              "        \n",
              "        font-weight: 500;\n",
              "\n",
              "        display: block;\n",
              "        padding: 3px 5px;\n",
              "    }\n",
              "    \n",
              "    .spark-nlp-display-entity-resolution{\n",
              "        font-size: 14px;\n",
              "        line-height: 24px;\n",
              "        color: #ffffff;\n",
              "        font-family: 'Vistol Regular', sans-serif !important;\n",
              "        \n",
              "        text-transform: uppercase;\n",
              "        \n",
              "        font-weight: 500;\n",
              "\n",
              "        display: block;\n",
              "        padding: 3px 5px;\n",
              "    }\n",
              "    \n",
              "    .spark-nlp-display-others{\n",
              "        font-size: 14px;\n",
              "        line-height: 24px;\n",
              "        font-family: 'Montserrat', sans-serif !important;\n",
              "        \n",
              "        font-weight: 400;\n",
              "    }\n",
              "\n",
              "</style>\n",
              " <span class=\"spark-nlp-display-others\" style=\"background-color: white\">This </span><span class=\"spark-nlp-display-entity-wrapper\" style=\"background-color: #A58086\"><span class=\"spark-nlp-display-entity-name\">INTELLECTUAL PROPERTY </span><span class=\"spark-nlp-display-entity-type\">AGREEMENT</span></span><span class=\"spark-nlp-display-others\" style=\"background-color: white\"> AGREEMENT, dated as of </span><span class=\"spark-nlp-display-entity-wrapper\" style=\"background-color: #a6b1e1\"><span class=\"spark-nlp-display-entity-name\">December 31, 2018 </span><span class=\"spark-nlp-display-entity-type\">DATE</span></span><span class=\"spark-nlp-display-others\" style=\"background-color: white\"> (the 'Effective Date') is entered into by and between </span><span class=\"spark-nlp-display-entity-wrapper\" style=\"background-color: #1E4E7D\"><span class=\"spark-nlp-display-entity-name\">Armstrong Flooring </span><span class=\"spark-nlp-display-entity-type\">LICENSE_RECIPIENT</span></span><span class=\"spark-nlp-display-others\" style=\"background-color: white\">, Inc., a </span><span class=\"spark-nlp-display-entity-wrapper\" style=\"background-color: #B48788\"><span class=\"spark-nlp-display-entity-name\">Delaware </span><span class=\"spark-nlp-display-entity-type\">STATE</span></span><span class=\"spark-nlp-display-others\" style=\"background-color: white\"> corporation ('Seller') and </span><span class=\"spark-nlp-display-entity-wrapper\" style=\"background-color: #1E4E7D\"><span class=\"spark-nlp-display-entity-name\">AFI Licensing LLC, a Delaware company </span><span class=\"spark-nlp-display-entity-type\">LICENSE_RECIPIENT</span></span><span class=\"spark-nlp-display-others\" style=\"background-color: white\"> (the 'Licensee')</span></div>"
            ],
            "text/plain": [
              "<IPython.core.display.HTML object>"
            ]
          },
          "metadata": {},
          "output_type": "display_data"
        }
      ],
      "source": [
        "from sparknlp_display import NerVisualizer\n",
        "\n",
        "visualiser = NerVisualizer()\n",
        "\n",
        "visualiser.display(lp_res_1[0], label_col='ner_chunk', document_col='document')"
      ]
    },
    {
      "cell_type": "code",
      "execution_count": null,
      "id": "aed220b8-8aba-42bb-8e5a-b2ee3438834e",
      "metadata": {},
      "outputs": [
        {
          "data": {
            "text/html": [
              "\n",
              "<style>\n",
              "    @import url('https://fonts.googleapis.com/css2?family=Montserrat:wght@300;400;500;600;700&display=swap');\n",
              "    @import url('https://fonts.googleapis.com/css2?family=Vistol Regular:wght@300;400;500;600;700&display=swap');\n",
              "    \n",
              "    .spark-nlp-display-scroll-entities {\n",
              "        border: 1px solid #E7EDF0;\n",
              "        border-radius: 3px;\n",
              "        text-align: justify;\n",
              "        \n",
              "    }\n",
              "    .spark-nlp-display-scroll-entities span {  \n",
              "        font-size: 14px;\n",
              "        line-height: 24px;\n",
              "        color: #536B76;\n",
              "        font-family: 'Montserrat', sans-serif !important;\n",
              "    }\n",
              "    \n",
              "    .spark-nlp-display-entity-wrapper{\n",
              "    \n",
              "        display: inline-grid;\n",
              "        text-align: center;\n",
              "        border-radius: 4px;\n",
              "        margin: 0 2px 5px 2px;\n",
              "        padding: 1px\n",
              "    }\n",
              "    .spark-nlp-display-entity-name{\n",
              "        font-size: 14px;\n",
              "        line-height: 24px;\n",
              "        font-family: 'Montserrat', sans-serif !important;\n",
              "        \n",
              "        background: #f1f2f3;\n",
              "        border-width: medium;\n",
              "        text-align: center;\n",
              "        \n",
              "        font-weight: 400;\n",
              "        \n",
              "        border-radius: 5px;\n",
              "        padding: 2px 5px;\n",
              "        display: block;\n",
              "        margin: 3px 2px;\n",
              "    \n",
              "    }\n",
              "    .spark-nlp-display-entity-type{\n",
              "        font-size: 14px;\n",
              "        line-height: 24px;\n",
              "        color: #ffffff;\n",
              "        font-family: 'Montserrat', sans-serif !important;\n",
              "        \n",
              "        text-transform: uppercase;\n",
              "        \n",
              "        font-weight: 500;\n",
              "\n",
              "        display: block;\n",
              "        padding: 3px 5px;\n",
              "    }\n",
              "    \n",
              "    .spark-nlp-display-entity-resolution{\n",
              "        font-size: 14px;\n",
              "        line-height: 24px;\n",
              "        color: #ffffff;\n",
              "        font-family: 'Vistol Regular', sans-serif !important;\n",
              "        \n",
              "        text-transform: uppercase;\n",
              "        \n",
              "        font-weight: 500;\n",
              "\n",
              "        display: block;\n",
              "        padding: 3px 5px;\n",
              "    }\n",
              "    \n",
              "    .spark-nlp-display-others{\n",
              "        font-size: 14px;\n",
              "        line-height: 24px;\n",
              "        font-family: 'Montserrat', sans-serif !important;\n",
              "        \n",
              "        font-weight: 400;\n",
              "    }\n",
              "\n",
              "</style>\n",
              " <span class=\"spark-nlp-display-others\" style=\"background-color: white\">The Company hereby grants to </span><span class=\"spark-nlp-display-entity-wrapper\" style=\"background-color: #7F0D72\"><span class=\"spark-nlp-display-entity-name\">Seller </span><span class=\"spark-nlp-display-entity-type\">LICENSE_RECIPIENT</span></span><span class=\"spark-nlp-display-others\" style=\"background-color: white\"> a </span><span class=\"spark-nlp-display-entity-wrapper\" style=\"background-color: #0A9080\"><span class=\"spark-nlp-display-entity-name\">perpetual </span><span class=\"spark-nlp-display-entity-type\">LICENSE</span></span><span class=\"spark-nlp-display-others\" style=\"background-color: white\">, </span><span class=\"spark-nlp-display-entity-wrapper\" style=\"background-color: #0A9080\"><span class=\"spark-nlp-display-entity-name\">non- exclusive </span><span class=\"spark-nlp-display-entity-type\">LICENSE</span></span><span class=\"spark-nlp-display-others\" style=\"background-color: white\">, </span><span class=\"spark-nlp-display-entity-wrapper\" style=\"background-color: #0A9080\"><span class=\"spark-nlp-display-entity-name\">royalty-free </span><span class=\"spark-nlp-display-entity-type\">LICENSE</span></span><span class=\"spark-nlp-display-others\" style=\"background-color: white\"> license</span></div>"
            ],
            "text/plain": [
              "<IPython.core.display.HTML object>"
            ]
          },
          "metadata": {},
          "output_type": "display_data"
        }
      ],
      "source": [
        "visualiser.display(lp_res_2[0], label_col='ner_chunk', document_col='document')"
      ]
    },
    {
      "cell_type": "markdown",
      "id": "875b2826",
      "metadata": {},
      "source": []
    }
  ],
  "metadata": {
    "colab": {
      "collapsed_sections": [],
      "name": "4.LegalNER.ipynb",
      "provenance": [],
      "toc_visible": true
    },
    "kernelspec": {
      "display_name": "Python 3.9.5 64-bit",
      "language": "python",
      "name": "python3"
    },
    "language_info": {
      "codemirror_mode": {
        "name": "ipython",
        "version": 3
      },
      "file_extension": ".py",
      "mimetype": "text/x-python",
      "name": "python",
      "nbconvert_exporter": "python",
      "pygments_lexer": "ipython3",
      "version": "3.9.5"
    },
    "vscode": {
      "interpreter": {
        "hash": "ca1c4b8877e01dec1d65bc94ac0771fb7b4e7d433b24c0ced0afdc05f796f65d"
      }
    }
  },
  "nbformat": 4,
  "nbformat_minor": 5
}
