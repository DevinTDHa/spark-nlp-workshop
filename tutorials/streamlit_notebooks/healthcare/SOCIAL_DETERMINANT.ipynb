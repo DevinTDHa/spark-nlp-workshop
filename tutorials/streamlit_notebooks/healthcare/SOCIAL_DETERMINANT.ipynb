{
  "cells": [
    {
      "cell_type": "markdown",
      "metadata": {
        "id": "lokVHWdvaz-W"
      },
      "source": [
        "![JohnSnowLabs](https://nlp.johnsnowlabs.com/assets/images/logo.png)\n",
        "\n",
        "[![Open In Colab](https://colab.research.google.com/assets/colab-badge.svg)](https://colab.research.google.com/github/JohnSnowLabs/spark-nlp-workshop/blob/master/tutorials/streamlit_notebooks/healthcare/SOCIAL_DETERMINANT.ipynb)"
      ]
    },
    {
      "cell_type": "markdown",
      "metadata": {
        "id": "Oex6UyiHHpJS"
      },
      "source": [
        "# **Social Determinants of Health**"
      ]
    },
    {
      "cell_type": "markdown",
      "metadata": {
        "id": "dmJXAqSxHWxX"
      },
      "source": [
        "📌To run this yourself, you will need to upload your license keys to the notebook. Just Run The Cell Below in order to do that. Also You can open the file explorer on the left side of the screen and upload `license_keys.json` to the folder that opens.\n",
        "Otherwise, you can look at the example outputs at the bottom of the notebook."
      ]
    },
    {
      "cell_type": "markdown",
      "metadata": {
        "id": "U-UAcTkUbjzm"
      },
      "source": [
        "# **Colab Setup**"
      ]
    },
    {
      "cell_type": "code",
      "execution_count": null,
      "metadata": {
        "id": "dnJ9X-mbEOMr"
      },
      "outputs": [],
      "source": [
        "import json, os\n",
        "from google.colab import files\n",
        "\n",
        "if 'spark_jsl.json' not in os.listdir():\n",
        "  license_keys = files.upload()\n",
        "  os.rename(list(license_keys.keys())[0], 'spark_jsl.json')\n",
        "\n",
        "with open('spark_jsl.json') as f:\n",
        "    license_keys = json.load(f)\n",
        "\n",
        "# Defining license key-value pairs as local variables\n",
        "locals().update(license_keys)\n",
        "os.environ.update(license_keys)"
      ]
    },
    {
      "cell_type": "code",
      "execution_count": null,
      "metadata": {
        "id": "qeg3QosiFf5u"
      },
      "outputs": [],
      "source": [
        "# Installing pyspark and spark-nlp\n",
        "! pip install --upgrade -q pyspark==3.1.2 spark-nlp==$PUBLIC_VERSION\n",
        "\n",
        "# Installing Spark NLP Healthcare\n",
        "! pip install --upgrade -q spark-nlp-jsl==$JSL_VERSION  --extra-index-url https://pypi.johnsnowlabs.com/$SECRET\n",
        "\n",
        "# Installing Spark NLP Display Library for visualization\n",
        "! pip install -q spark-nlp-display"
      ]
    },
    {
      "cell_type": "code",
      "execution_count": 3,
      "metadata": {
        "id": "JK4D8yjTPlgJ",
        "colab": {
          "base_uri": "https://localhost:8080/",
          "height": 244
        },
        "outputId": "7c0d9729-caeb-4a82-eb88-88c6d5e982ee"
      },
      "outputs": [
        {
          "output_type": "stream",
          "name": "stdout",
          "text": [
            "Spark NLP Version : 4.2.4\n",
            "Spark NLP_JSL Version : 4.2.4\n"
          ]
        },
        {
          "output_type": "execute_result",
          "data": {
            "text/plain": [
              "<pyspark.sql.session.SparkSession at 0x7fa389873a90>"
            ],
            "text/html": [
              "\n",
              "            <div>\n",
              "                <p><b>SparkSession - in-memory</b></p>\n",
              "                \n",
              "        <div>\n",
              "            <p><b>SparkContext</b></p>\n",
              "\n",
              "            <p><a href=\"http://a0f65ddec006:4040\">Spark UI</a></p>\n",
              "\n",
              "            <dl>\n",
              "              <dt>Version</dt>\n",
              "                <dd><code>v3.1.2</code></dd>\n",
              "              <dt>Master</dt>\n",
              "                <dd><code>local[*]</code></dd>\n",
              "              <dt>AppName</dt>\n",
              "                <dd><code>Spark NLP Licensed</code></dd>\n",
              "            </dl>\n",
              "        </div>\n",
              "        \n",
              "            </div>\n",
              "        "
            ]
          },
          "metadata": {},
          "execution_count": 3
        }
      ],
      "source": [
        "import sparknlp\n",
        "import sparknlp_jsl\n",
        "\n",
        "from sparknlp.base import *\n",
        "from sparknlp.annotator import *\n",
        "from sparknlp_jsl.annotator import *\n",
        "\n",
        "from pyspark.sql import SparkSession\n",
        "from pyspark.sql import functions as F\n",
        "from pyspark.ml import Pipeline,PipelineModel\n",
        "from pyspark.sql.types import StringType, IntegerType\n",
        "\n",
        "import pandas as pd\n",
        "pd.set_option('display.max_colwidth', 200)\n",
        "\n",
        "import warnings\n",
        "warnings.filterwarnings('ignore')\n",
        "\n",
        "params = {\"spark.driver.memory\":\"16G\", \n",
        "          \"spark.kryoserializer.buffer.max\":\"2000M\", \n",
        "          \"spark.driver.maxResultSize\":\"2000M\"} \n",
        "\n",
        "spark = sparknlp_jsl.start(license_keys['SECRET'],params=params)\n",
        "\n",
        "print(\"Spark NLP Version :\", sparknlp.version())\n",
        "print(\"Spark NLP_JSL Version :\", sparknlp_jsl.version())\n",
        "\n",
        "spark"
      ]
    },
    {
      "cell_type": "markdown",
      "metadata": {
        "id": "Zzp_f1FcHhr8"
      },
      "source": [
        "# 🔎 MODELS "
      ]
    },
    {
      "cell_type": "markdown",
      "metadata": {
        "id": "6WTJFHBsK_KP"
      },
      "source": [
        "### Named Entity Recognition : \n",
        "> * ### *`ner_sdoh_mentions`*\n",
        "> * ### *`ner_sdoh_slim_wip`*\n",
        "\n",
        "### Sequence Classifier : \n",
        "> * ### *`bert_sequence_classifier_sdoh_community_present_status`*\n",
        "> * ### *`bert_sequence_classifier_sdoh_community_absent_status`*\n",
        "\n",
        "\n",
        "**🔎You can find all these models and more [NLP Models Hub](https://nlp.johnsnowlabs.com/models?task=Named+Entity+Recognition&edition=Spark+NLP+for+Healthcare)**"
      ]
    },
    {
      "cell_type": "markdown",
      "source": [
        "# 📌 Named Entity Recognition"
      ],
      "metadata": {
        "id": "BEU0b0fMBu-r"
      }
    },
    {
      "cell_type": "markdown",
      "metadata": {
        "id": "FK5kdMi3JMPk"
      },
      "source": [
        "### **`ner_sdoh_mentions`**"
      ]
    },
    {
      "cell_type": "code",
      "execution_count": 58,
      "metadata": {
        "colab": {
          "base_uri": "https://localhost:8080/"
        },
        "id": "jIe9YHAzJnNI",
        "outputId": "789e6ce8-b535-4759-eaeb-092d18ae7828"
      },
      "outputs": [
        {
          "output_type": "stream",
          "name": "stdout",
          "text": [
            "embeddings_clinical download started this may take some time.\n",
            "Approximate size to download 1.6 GB\n",
            "[OK!]\n",
            "ner_sdoh_mentions download started this may take some time.\n",
            "[OK!]\n"
          ]
        }
      ],
      "source": [
        "documentAssembler = DocumentAssembler()\\\n",
        "    .setInputCol(\"text\")\\\n",
        "    .setOutputCol(\"document\")\n",
        "\n",
        "sentenceDetector = SentenceDetector()\\\n",
        "    .setInputCols([\"document\"])\\\n",
        "    .setOutputCol(\"sentence\")\n",
        "\n",
        "tokenizer = Tokenizer()\\\n",
        "    .setInputCols([\"sentence\"])\\\n",
        "    .setOutputCol(\"token\")\n",
        "    \n",
        "word_embeddings = WordEmbeddingsModel.pretrained(\"embeddings_clinical\", \"en\", \"clinical/models\")\\\n",
        "    .setInputCols([\"sentence\", \"token\"])\\\n",
        "    .setOutputCol(\"embeddings\")\n",
        "\n",
        "ner = MedicalNerModel.pretrained(\"ner_sdoh_mentions\", \"en\", \"clinical/models\") \\\n",
        "    .setInputCols([\"sentence\", \"token\", \"embeddings\"]) \\\n",
        "    .setOutputCol(\"ner\")\n",
        "\n",
        "ner_converter = NerConverterInternal() \\\n",
        "    .setInputCols([\"sentence\", \"token\", \"ner\"]) \\\n",
        "    .setOutputCol(\"ner_chunk\")\n",
        "\n",
        "ner_pipeline = Pipeline(stages=[\n",
        "                                documentAssembler, \n",
        "                                sentenceDetector,\n",
        "                                tokenizer,\n",
        "                                word_embeddings,\n",
        "                                ner,\n",
        "                                ner_converter])\n",
        "\n"
      ]
    },
    {
      "cell_type": "code",
      "execution_count": 59,
      "metadata": {
        "id": "GKIowbVVJLmw"
      },
      "outputs": [],
      "source": [
        "text_list = [\n",
        "    \"\"\"Cooperative gentleman with a long standing history (20 years) diverticulitis. Over the past year he has been having flares of diverticulitis which were well controlled, intermittently. This controlled his pain until today, when he went to his PCP who ordered Initial (PRE) CT abdomen/pelvis w/PO contrast, which showed inflammation of the sigmoid colon with diverticuli and thickened bowel wall. He states his pain is sharp, 4-24, intermittent over the last 2 weeks. The pain is nonradiating, has no provoking factors but is alleviated with narcotics. Over the last 2 weeks, he has had two bouts of emesis, roughly 10 days ago. He reports a 20 lb weight loss over the last 3-4 weeks. Past Medical History: sarcoidosis w/cardiac involvement 2185 pacemaker staph infection psoriatic arthritis Social History: He is history teacher. He is divorced and lives at home with his girlfriend. He does not currently and never has used tobacco or illicit drugs. Until 3 weeks ago, he was having 1-19 drinks per day. Currently he uses no alcohol at all. Family History: noncontributory, no history of colon cancers or IBD.\"\"\",\n",
        "    \"\"\"This is an 80 year old Caucasian female with known congestive heart failure, who presents as an elective admission for worsened shortness of breath and administration of Natrecor. The patient states that over the past two weeks she has had felt fatigued and short of breath. The patient can no longer climb stairs, and consistently gets short of breath after walking about forty yards, and some times gets short of breath just sitting at rest.The patient also states she has poor appetite. The patient does not adhere to a strict low salt diet and drinks a lot of water, good constant urine output. In cardiac review of systems, the patient had a resolving dry cough times two weeks, no fever or chills. The patient gets intermittent left sided chest pain times two to three seconds, about one time a day, relieved spontaneously, occurring only at rest. Currently, the patient is pain free.  SOCIAL HISTORY: The patient denies any current or past history of tobacco or alcohol use. The patient is police and widowed. FAMILY HISTORY: The patient's father passed away of a myocardial infarction at age 62. The patient's brother died of a myocardial infarction at age 45. low as 70 to 75 over palpable. \"\"\"]"
      ]
    },
    {
      "cell_type": "code",
      "source": [
        "from pyspark.sql.types import StringType, IntegerType\n",
        "df = spark.createDataFrame(text_list, StringType()).toDF(\"text\")"
      ],
      "metadata": {
        "id": "9GlyMwmsCS-I"
      },
      "execution_count": 60,
      "outputs": []
    },
    {
      "cell_type": "code",
      "source": [
        "result = ner_pipeline.fit(df).transform(df)"
      ],
      "metadata": {
        "id": "0zy_-82_CahY"
      },
      "execution_count": 61,
      "outputs": []
    },
    {
      "cell_type": "code",
      "execution_count": 62,
      "metadata": {
        "colab": {
          "base_uri": "https://localhost:8080/"
        },
        "id": "sGA-5-XKKDkQ",
        "outputId": "5ba22511-7f4d-4d1d-b068-7e8f258ea0f1"
      },
      "outputs": [
        {
          "output_type": "stream",
          "name": "stdout",
          "text": [
            "+-------------+----------------+\n",
            "|chunk        |ner_label       |\n",
            "+-------------+----------------+\n",
            "|narcotics    |behavior_drug   |\n",
            "|teacher      |sdoh_economics  |\n",
            "|divorced     |sdoh_community  |\n",
            "|home         |sdoh_environment|\n",
            "|girlfriend   |sdoh_community  |\n",
            "|tobacco      |behavior_tobacco|\n",
            "|illicit drugs|behavior_drug   |\n",
            "|drinks       |behavior_alcohol|\n",
            "|alcohol      |behavior_alcohol|\n",
            "|tobacco      |behavior_tobacco|\n",
            "|alcohol      |behavior_alcohol|\n",
            "|police       |sdoh_economics  |\n",
            "|widowed      |sdoh_community  |\n",
            "|father       |sdoh_community  |\n",
            "|brother      |sdoh_community  |\n",
            "+-------------+----------------+\n",
            "\n"
          ]
        }
      ],
      "source": [
        "result.select(F.explode(F.arrays_zip(result.ner_chunk.result, \n",
        "                                     result.ner_chunk.metadata)).alias(\"cols\"))\\\n",
        "      .select(F.expr(\"cols['0']\").alias(\"chunk\"),\n",
        "              F.expr(\"cols['1']['entity']\").alias(\"ner_label\")).show(30, truncate=False)"
      ]
    },
    {
      "cell_type": "code",
      "source": [
        "from sparknlp_display import NerVisualizer\n",
        "\n",
        "for i in range(len(text_list)):\n",
        "    NerVisualizer().display(\n",
        "        result = result.collect()[i],\n",
        "        label_col = 'ner_chunk',\n",
        "        document_col = 'document')\n",
        "    print(\"\\n\"*2)\n",
        "\n"
      ],
      "metadata": {
        "colab": {
          "base_uri": "https://localhost:8080/",
          "height": 680
        },
        "id": "GS3ZgiTCD4ZH",
        "outputId": "d15cf4d0-2519-4521-df9d-defa0a8b4ae8"
      },
      "execution_count": 63,
      "outputs": [
        {
          "output_type": "display_data",
          "data": {
            "text/plain": [
              "<IPython.core.display.HTML object>"
            ],
            "text/html": [
              "\n",
              "<style>\n",
              "    @import url('https://fonts.googleapis.com/css2?family=Montserrat:wght@300;400;500;600;700&display=swap');\n",
              "    @import url('https://fonts.googleapis.com/css2?family=Vistol Regular:wght@300;400;500;600;700&display=swap');\n",
              "    \n",
              "    .spark-nlp-display-scroll-entities {\n",
              "        border: 1px solid #E7EDF0;\n",
              "        border-radius: 3px;\n",
              "        text-align: justify;\n",
              "        \n",
              "    }\n",
              "    .spark-nlp-display-scroll-entities span {  \n",
              "        font-size: 14px;\n",
              "        line-height: 24px;\n",
              "        color: #536B76;\n",
              "        font-family: 'Montserrat', sans-serif !important;\n",
              "    }\n",
              "    \n",
              "    .spark-nlp-display-entity-wrapper{\n",
              "    \n",
              "        display: inline-grid;\n",
              "        text-align: center;\n",
              "        border-radius: 4px;\n",
              "        margin: 0 2px 5px 2px;\n",
              "        padding: 1px\n",
              "    }\n",
              "    .spark-nlp-display-entity-name{\n",
              "        font-size: 14px;\n",
              "        line-height: 24px;\n",
              "        font-family: 'Montserrat', sans-serif !important;\n",
              "        \n",
              "        background: #f1f2f3;\n",
              "        border-width: medium;\n",
              "        text-align: center;\n",
              "        \n",
              "        font-weight: 400;\n",
              "        \n",
              "        border-radius: 5px;\n",
              "        padding: 2px 5px;\n",
              "        display: block;\n",
              "        margin: 3px 2px;\n",
              "    \n",
              "    }\n",
              "    .spark-nlp-display-entity-type{\n",
              "        font-size: 14px;\n",
              "        line-height: 24px;\n",
              "        color: #ffffff;\n",
              "        font-family: 'Montserrat', sans-serif !important;\n",
              "        \n",
              "        text-transform: uppercase;\n",
              "        \n",
              "        font-weight: 500;\n",
              "\n",
              "        display: block;\n",
              "        padding: 3px 5px;\n",
              "    }\n",
              "    \n",
              "    .spark-nlp-display-entity-resolution{\n",
              "        font-size: 14px;\n",
              "        line-height: 24px;\n",
              "        color: #ffffff;\n",
              "        font-family: 'Vistol Regular', sans-serif !important;\n",
              "        \n",
              "        text-transform: uppercase;\n",
              "        \n",
              "        font-weight: 500;\n",
              "\n",
              "        display: block;\n",
              "        padding: 3px 5px;\n",
              "    }\n",
              "    \n",
              "    .spark-nlp-display-others{\n",
              "        font-size: 14px;\n",
              "        line-height: 24px;\n",
              "        font-family: 'Montserrat', sans-serif !important;\n",
              "        \n",
              "        font-weight: 400;\n",
              "    }\n",
              "\n",
              "</style>\n",
              " <span class=\"spark-nlp-display-others\" style=\"background-color: white\">Cooperative gentleman with a long standing history (20 years) diverticulitis. Over the past year he has been having flares of diverticulitis which were well controlled, intermittently. This controlled his pain until today, when he went to his PCP who ordered Initial (PRE) CT abdomen/pelvis w/PO contrast, which showed inflammation of the sigmoid colon with diverticuli and thickened bowel wall. He states his pain is sharp, 4-24, intermittent over the last 2 weeks. The pain is nonradiating, has no provoking factors but is alleviated with </span><span class=\"spark-nlp-display-entity-wrapper\" style=\"background-color: #B3339E\"><span class=\"spark-nlp-display-entity-name\">narcotics </span><span class=\"spark-nlp-display-entity-type\">behavior_drug</span></span><span class=\"spark-nlp-display-others\" style=\"background-color: white\">. Over the last 2 weeks, he has had two bouts of emesis, roughly 10 days ago. He reports a 20 lb weight loss over the last 3-4 weeks. Past Medical History: sarcoidosis w/cardiac involvement 2185 pacemaker staph infection psoriatic arthritis Social History: He is history </span><span class=\"spark-nlp-display-entity-wrapper\" style=\"background-color: #3F7315\"><span class=\"spark-nlp-display-entity-name\">teacher </span><span class=\"spark-nlp-display-entity-type\">sdoh_economics</span></span><span class=\"spark-nlp-display-others\" style=\"background-color: white\">. He is </span><span class=\"spark-nlp-display-entity-wrapper\" style=\"background-color: #02273D\"><span class=\"spark-nlp-display-entity-name\">divorced </span><span class=\"spark-nlp-display-entity-type\">sdoh_community</span></span><span class=\"spark-nlp-display-others\" style=\"background-color: white\"> and lives at </span><span class=\"spark-nlp-display-entity-wrapper\" style=\"background-color: #575509\"><span class=\"spark-nlp-display-entity-name\">home </span><span class=\"spark-nlp-display-entity-type\">sdoh_environment</span></span><span class=\"spark-nlp-display-others\" style=\"background-color: white\"> with his </span><span class=\"spark-nlp-display-entity-wrapper\" style=\"background-color: #02273D\"><span class=\"spark-nlp-display-entity-name\">girlfriend </span><span class=\"spark-nlp-display-entity-type\">sdoh_community</span></span><span class=\"spark-nlp-display-others\" style=\"background-color: white\">. He does not currently and never has used </span><span class=\"spark-nlp-display-entity-wrapper\" style=\"background-color: #50C657\"><span class=\"spark-nlp-display-entity-name\">tobacco </span><span class=\"spark-nlp-display-entity-type\">behavior_tobacco</span></span><span class=\"spark-nlp-display-others\" style=\"background-color: white\"> or </span><span class=\"spark-nlp-display-entity-wrapper\" style=\"background-color: #B3339E\"><span class=\"spark-nlp-display-entity-name\">illicit drugs </span><span class=\"spark-nlp-display-entity-type\">behavior_drug</span></span><span class=\"spark-nlp-display-others\" style=\"background-color: white\">. Until 3 weeks ago, he was having 1-19 </span><span class=\"spark-nlp-display-entity-wrapper\" style=\"background-color: #46688D\"><span class=\"spark-nlp-display-entity-name\">drinks </span><span class=\"spark-nlp-display-entity-type\">behavior_alcohol</span></span><span class=\"spark-nlp-display-others\" style=\"background-color: white\"> per day. Currently he uses no </span><span class=\"spark-nlp-display-entity-wrapper\" style=\"background-color: #46688D\"><span class=\"spark-nlp-display-entity-name\">alcohol </span><span class=\"spark-nlp-display-entity-type\">behavior_alcohol</span></span><span class=\"spark-nlp-display-others\" style=\"background-color: white\"> at all. Family History: noncontributory, no history of colon cancers or IBD.</span></div>"
            ]
          },
          "metadata": {}
        },
        {
          "output_type": "stream",
          "name": "stdout",
          "text": [
            "\n",
            "\n",
            "\n"
          ]
        },
        {
          "output_type": "display_data",
          "data": {
            "text/plain": [
              "<IPython.core.display.HTML object>"
            ],
            "text/html": [
              "\n",
              "<style>\n",
              "    @import url('https://fonts.googleapis.com/css2?family=Montserrat:wght@300;400;500;600;700&display=swap');\n",
              "    @import url('https://fonts.googleapis.com/css2?family=Vistol Regular:wght@300;400;500;600;700&display=swap');\n",
              "    \n",
              "    .spark-nlp-display-scroll-entities {\n",
              "        border: 1px solid #E7EDF0;\n",
              "        border-radius: 3px;\n",
              "        text-align: justify;\n",
              "        \n",
              "    }\n",
              "    .spark-nlp-display-scroll-entities span {  \n",
              "        font-size: 14px;\n",
              "        line-height: 24px;\n",
              "        color: #536B76;\n",
              "        font-family: 'Montserrat', sans-serif !important;\n",
              "    }\n",
              "    \n",
              "    .spark-nlp-display-entity-wrapper{\n",
              "    \n",
              "        display: inline-grid;\n",
              "        text-align: center;\n",
              "        border-radius: 4px;\n",
              "        margin: 0 2px 5px 2px;\n",
              "        padding: 1px\n",
              "    }\n",
              "    .spark-nlp-display-entity-name{\n",
              "        font-size: 14px;\n",
              "        line-height: 24px;\n",
              "        font-family: 'Montserrat', sans-serif !important;\n",
              "        \n",
              "        background: #f1f2f3;\n",
              "        border-width: medium;\n",
              "        text-align: center;\n",
              "        \n",
              "        font-weight: 400;\n",
              "        \n",
              "        border-radius: 5px;\n",
              "        padding: 2px 5px;\n",
              "        display: block;\n",
              "        margin: 3px 2px;\n",
              "    \n",
              "    }\n",
              "    .spark-nlp-display-entity-type{\n",
              "        font-size: 14px;\n",
              "        line-height: 24px;\n",
              "        color: #ffffff;\n",
              "        font-family: 'Montserrat', sans-serif !important;\n",
              "        \n",
              "        text-transform: uppercase;\n",
              "        \n",
              "        font-weight: 500;\n",
              "\n",
              "        display: block;\n",
              "        padding: 3px 5px;\n",
              "    }\n",
              "    \n",
              "    .spark-nlp-display-entity-resolution{\n",
              "        font-size: 14px;\n",
              "        line-height: 24px;\n",
              "        color: #ffffff;\n",
              "        font-family: 'Vistol Regular', sans-serif !important;\n",
              "        \n",
              "        text-transform: uppercase;\n",
              "        \n",
              "        font-weight: 500;\n",
              "\n",
              "        display: block;\n",
              "        padding: 3px 5px;\n",
              "    }\n",
              "    \n",
              "    .spark-nlp-display-others{\n",
              "        font-size: 14px;\n",
              "        line-height: 24px;\n",
              "        font-family: 'Montserrat', sans-serif !important;\n",
              "        \n",
              "        font-weight: 400;\n",
              "    }\n",
              "\n",
              "</style>\n",
              " <span class=\"spark-nlp-display-others\" style=\"background-color: white\">This is an 80 year old Caucasian female with known congestive heart failure, who presents as an elective admission for worsened shortness of breath and administration of Natrecor. The patient states that over the past two weeks she has had felt fatigued and short of breath. The patient can no longer climb stairs, and consistently gets short of breath after walking about forty yards, and some times gets short of breath just sitting at rest.The patient also states she has poor appetite. The patient does not adhere to a strict low salt diet and drinks a lot of water, good constant urine output. In cardiac review of systems, the patient had a resolving dry cough times two weeks, no fever or chills. The patient gets intermittent left sided chest pain times two to three seconds, about one time a day, relieved spontaneously, occurring only at rest. Currently, the patient is pain free.  SOCIAL HISTORY: The patient denies any current or past history of </span><span class=\"spark-nlp-display-entity-wrapper\" style=\"background-color: #54465A\"><span class=\"spark-nlp-display-entity-name\">tobacco </span><span class=\"spark-nlp-display-entity-type\">behavior_tobacco</span></span><span class=\"spark-nlp-display-others\" style=\"background-color: white\"> or </span><span class=\"spark-nlp-display-entity-wrapper\" style=\"background-color: #0C6AA5\"><span class=\"spark-nlp-display-entity-name\">alcohol </span><span class=\"spark-nlp-display-entity-type\">behavior_alcohol</span></span><span class=\"spark-nlp-display-others\" style=\"background-color: white\"> use. The patient is </span><span class=\"spark-nlp-display-entity-wrapper\" style=\"background-color: #0A5E4A\"><span class=\"spark-nlp-display-entity-name\">police </span><span class=\"spark-nlp-display-entity-type\">sdoh_economics</span></span><span class=\"spark-nlp-display-others\" style=\"background-color: white\"> and </span><span class=\"spark-nlp-display-entity-wrapper\" style=\"background-color: #6B959F\"><span class=\"spark-nlp-display-entity-name\">widowed </span><span class=\"spark-nlp-display-entity-type\">sdoh_community</span></span><span class=\"spark-nlp-display-others\" style=\"background-color: white\">. FAMILY HISTORY: The patient's </span><span class=\"spark-nlp-display-entity-wrapper\" style=\"background-color: #6B959F\"><span class=\"spark-nlp-display-entity-name\">father </span><span class=\"spark-nlp-display-entity-type\">sdoh_community</span></span><span class=\"spark-nlp-display-others\" style=\"background-color: white\"> passed away of a myocardial infarction at age 62. The patient's </span><span class=\"spark-nlp-display-entity-wrapper\" style=\"background-color: #6B959F\"><span class=\"spark-nlp-display-entity-name\">brother </span><span class=\"spark-nlp-display-entity-type\">sdoh_community</span></span><span class=\"spark-nlp-display-others\" style=\"background-color: white\"> died of a myocardial infarction at age 45. low as 70 to 75 over palpable. </span></div>"
            ]
          },
          "metadata": {}
        },
        {
          "output_type": "stream",
          "name": "stdout",
          "text": [
            "\n",
            "\n",
            "\n"
          ]
        }
      ]
    },
    {
      "cell_type": "markdown",
      "metadata": {
        "id": "KptA2tsxHkcx"
      },
      "source": [
        "### **`ner_sdoh_slim_wip`**"
      ]
    },
    {
      "cell_type": "code",
      "execution_count": 64,
      "metadata": {
        "id": "dc-xP34lJ-fr"
      },
      "outputs": [],
      "source": [
        "text_list = [\n",
        "\"\"\" Mother states that he does smoke, there is a family hx of alcohol on both maternal and paternal sides of the family, maternal grandfather who died of alcohol related complications and paternal grandmother with alcoholism. Pts own drinking began at age 16, living in LA, had a DUI at 17yo after totaling a new car that his mother bought for him, he was married. \"\"\",\n",
        "\"\"\" Husband presented as anxious , while friend took notes about pt s condition and names of providers, etc.  Husb reports both he and pt had been drinking on Saturday night, and he left her sitting up in a chair.  In the morning he found her bleeding from the mouth, and it became apparent she had overdosed, and left a suicide note.  Husband and friend report pt has hx of suicide attempts, most recently in of this year.  She also has hx of EtOH abuse, has been to detox and treatment programs several times over recent years, and resided in sober homes until recently.  Husband reports pt was a pedestrian struck by motor vehicle at 12yo , sustained head injury. He reports pt had been diagnosed bipolar disorder. \"\"\"\n",
        "]"
      ]
    },
    {
      "cell_type": "code",
      "source": [
        "from pyspark.sql.types import StringType, IntegerType\n",
        "df = spark.createDataFrame(text_list, StringType()).toDF(\"text\")"
      ],
      "metadata": {
        "id": "aXF0KPfLHBch"
      },
      "execution_count": 65,
      "outputs": []
    },
    {
      "cell_type": "code",
      "execution_count": 66,
      "metadata": {
        "colab": {
          "base_uri": "https://localhost:8080/"
        },
        "id": "W8IAYp8oHru5",
        "outputId": "8a704420-fe3f-4ec2-8117-82cdfba590d4"
      },
      "outputs": [
        {
          "output_type": "stream",
          "name": "stdout",
          "text": [
            "ner_sdoh_slim_wip download started this may take some time.\n",
            "[OK!]\n"
          ]
        }
      ],
      "source": [
        "ner = MedicalNerModel.pretrained(\"ner_sdoh_slim_wip\", \"en\", \"clinical/models\") \\\n",
        "    .setInputCols([\"sentence\", \"token\", \"embeddings\"]) \\\n",
        "    .setOutputCol(\"ner\")\n",
        "\n",
        "ner_pipeline = Pipeline(stages=[\n",
        "                                documentAssembler, \n",
        "                                sentenceDetector,\n",
        "                                tokenizer,\n",
        "                                word_embeddings,\n",
        "                                ner,\n",
        "                                ner_converter])\n",
        "\n"
      ]
    },
    {
      "cell_type": "code",
      "execution_count": 67,
      "metadata": {
        "colab": {
          "base_uri": "https://localhost:8080/"
        },
        "id": "w8VGExw5yLit",
        "outputId": "5c2a9950-17b1-44aa-fbba-b803e75f1632"
      },
      "outputs": [
        {
          "output_type": "stream",
          "name": "stdout",
          "text": [
            "+-------------+----------------+\n",
            "|chunk        |ner_label       |\n",
            "+-------------+----------------+\n",
            "|narcotics    |behavior_drug   |\n",
            "|teacher      |sdoh_economics  |\n",
            "|divorced     |sdoh_community  |\n",
            "|home         |sdoh_environment|\n",
            "|girlfriend   |sdoh_community  |\n",
            "|tobacco      |behavior_tobacco|\n",
            "|illicit drugs|behavior_drug   |\n",
            "|drinks       |behavior_alcohol|\n",
            "|alcohol      |behavior_alcohol|\n",
            "|tobacco      |behavior_tobacco|\n",
            "|alcohol      |behavior_alcohol|\n",
            "|police       |sdoh_economics  |\n",
            "|widowed      |sdoh_community  |\n",
            "|father       |sdoh_community  |\n",
            "|brother      |sdoh_community  |\n",
            "+-------------+----------------+\n",
            "\n"
          ]
        }
      ],
      "source": [
        "result.select(F.explode(F.arrays_zip(result.ner_chunk.result, \n",
        "                                     result.ner_chunk.metadata)).alias(\"cols\"))\\\n",
        "      .select(F.expr(\"cols['0']\").alias(\"chunk\"),\n",
        "              F.expr(\"cols['1']['entity']\").alias(\"ner_label\")).show(30, truncate=False)"
      ]
    },
    {
      "cell_type": "code",
      "source": [
        "from sparknlp_display import NerVisualizer\n",
        "\n",
        "for i in range(len(text_list)):\n",
        "    NerVisualizer().display(\n",
        "        result = result.collect()[i],\n",
        "        label_col = 'ner_chunk',\n",
        "        document_col = 'document')\n",
        "    print(\"\\n\"*2)\n",
        "\n"
      ],
      "metadata": {
        "colab": {
          "base_uri": "https://localhost:8080/",
          "height": 680
        },
        "id": "JSGiyCO6Qkzh",
        "outputId": "8c986caa-48ad-4611-a9ba-80fb7bdf75c9"
      },
      "execution_count": 68,
      "outputs": [
        {
          "output_type": "display_data",
          "data": {
            "text/plain": [
              "<IPython.core.display.HTML object>"
            ],
            "text/html": [
              "\n",
              "<style>\n",
              "    @import url('https://fonts.googleapis.com/css2?family=Montserrat:wght@300;400;500;600;700&display=swap');\n",
              "    @import url('https://fonts.googleapis.com/css2?family=Vistol Regular:wght@300;400;500;600;700&display=swap');\n",
              "    \n",
              "    .spark-nlp-display-scroll-entities {\n",
              "        border: 1px solid #E7EDF0;\n",
              "        border-radius: 3px;\n",
              "        text-align: justify;\n",
              "        \n",
              "    }\n",
              "    .spark-nlp-display-scroll-entities span {  \n",
              "        font-size: 14px;\n",
              "        line-height: 24px;\n",
              "        color: #536B76;\n",
              "        font-family: 'Montserrat', sans-serif !important;\n",
              "    }\n",
              "    \n",
              "    .spark-nlp-display-entity-wrapper{\n",
              "    \n",
              "        display: inline-grid;\n",
              "        text-align: center;\n",
              "        border-radius: 4px;\n",
              "        margin: 0 2px 5px 2px;\n",
              "        padding: 1px\n",
              "    }\n",
              "    .spark-nlp-display-entity-name{\n",
              "        font-size: 14px;\n",
              "        line-height: 24px;\n",
              "        font-family: 'Montserrat', sans-serif !important;\n",
              "        \n",
              "        background: #f1f2f3;\n",
              "        border-width: medium;\n",
              "        text-align: center;\n",
              "        \n",
              "        font-weight: 400;\n",
              "        \n",
              "        border-radius: 5px;\n",
              "        padding: 2px 5px;\n",
              "        display: block;\n",
              "        margin: 3px 2px;\n",
              "    \n",
              "    }\n",
              "    .spark-nlp-display-entity-type{\n",
              "        font-size: 14px;\n",
              "        line-height: 24px;\n",
              "        color: #ffffff;\n",
              "        font-family: 'Montserrat', sans-serif !important;\n",
              "        \n",
              "        text-transform: uppercase;\n",
              "        \n",
              "        font-weight: 500;\n",
              "\n",
              "        display: block;\n",
              "        padding: 3px 5px;\n",
              "    }\n",
              "    \n",
              "    .spark-nlp-display-entity-resolution{\n",
              "        font-size: 14px;\n",
              "        line-height: 24px;\n",
              "        color: #ffffff;\n",
              "        font-family: 'Vistol Regular', sans-serif !important;\n",
              "        \n",
              "        text-transform: uppercase;\n",
              "        \n",
              "        font-weight: 500;\n",
              "\n",
              "        display: block;\n",
              "        padding: 3px 5px;\n",
              "    }\n",
              "    \n",
              "    .spark-nlp-display-others{\n",
              "        font-size: 14px;\n",
              "        line-height: 24px;\n",
              "        font-family: 'Montserrat', sans-serif !important;\n",
              "        \n",
              "        font-weight: 400;\n",
              "    }\n",
              "\n",
              "</style>\n",
              " <span class=\"spark-nlp-display-others\" style=\"background-color: white\">Cooperative gentleman with a long standing history (20 years) diverticulitis. Over the past year he has been having flares of diverticulitis which were well controlled, intermittently. This controlled his pain until today, when he went to his PCP who ordered Initial (PRE) CT abdomen/pelvis w/PO contrast, which showed inflammation of the sigmoid colon with diverticuli and thickened bowel wall. He states his pain is sharp, 4-24, intermittent over the last 2 weeks. The pain is nonradiating, has no provoking factors but is alleviated with </span><span class=\"spark-nlp-display-entity-wrapper\" style=\"background-color: #C41736\"><span class=\"spark-nlp-display-entity-name\">narcotics </span><span class=\"spark-nlp-display-entity-type\">behavior_drug</span></span><span class=\"spark-nlp-display-others\" style=\"background-color: white\">. Over the last 2 weeks, he has had two bouts of emesis, roughly 10 days ago. He reports a 20 lb weight loss over the last 3-4 weeks. Past Medical History: sarcoidosis w/cardiac involvement 2185 pacemaker staph infection psoriatic arthritis Social History: He is history </span><span class=\"spark-nlp-display-entity-wrapper\" style=\"background-color: #18666F\"><span class=\"spark-nlp-display-entity-name\">teacher </span><span class=\"spark-nlp-display-entity-type\">sdoh_economics</span></span><span class=\"spark-nlp-display-others\" style=\"background-color: white\">. He is </span><span class=\"spark-nlp-display-entity-wrapper\" style=\"background-color: #8F9909\"><span class=\"spark-nlp-display-entity-name\">divorced </span><span class=\"spark-nlp-display-entity-type\">sdoh_community</span></span><span class=\"spark-nlp-display-others\" style=\"background-color: white\"> and lives at </span><span class=\"spark-nlp-display-entity-wrapper\" style=\"background-color: #49969B\"><span class=\"spark-nlp-display-entity-name\">home </span><span class=\"spark-nlp-display-entity-type\">sdoh_environment</span></span><span class=\"spark-nlp-display-others\" style=\"background-color: white\"> with his </span><span class=\"spark-nlp-display-entity-wrapper\" style=\"background-color: #8F9909\"><span class=\"spark-nlp-display-entity-name\">girlfriend </span><span class=\"spark-nlp-display-entity-type\">sdoh_community</span></span><span class=\"spark-nlp-display-others\" style=\"background-color: white\">. He does not currently and never has used </span><span class=\"spark-nlp-display-entity-wrapper\" style=\"background-color: #0B5F4D\"><span class=\"spark-nlp-display-entity-name\">tobacco </span><span class=\"spark-nlp-display-entity-type\">behavior_tobacco</span></span><span class=\"spark-nlp-display-others\" style=\"background-color: white\"> or </span><span class=\"spark-nlp-display-entity-wrapper\" style=\"background-color: #C41736\"><span class=\"spark-nlp-display-entity-name\">illicit drugs </span><span class=\"spark-nlp-display-entity-type\">behavior_drug</span></span><span class=\"spark-nlp-display-others\" style=\"background-color: white\">. Until 3 weeks ago, he was having 1-19 </span><span class=\"spark-nlp-display-entity-wrapper\" style=\"background-color: #86BF65\"><span class=\"spark-nlp-display-entity-name\">drinks </span><span class=\"spark-nlp-display-entity-type\">behavior_alcohol</span></span><span class=\"spark-nlp-display-others\" style=\"background-color: white\"> per day. Currently he uses no </span><span class=\"spark-nlp-display-entity-wrapper\" style=\"background-color: #86BF65\"><span class=\"spark-nlp-display-entity-name\">alcohol </span><span class=\"spark-nlp-display-entity-type\">behavior_alcohol</span></span><span class=\"spark-nlp-display-others\" style=\"background-color: white\"> at all. Family History: noncontributory, no history of colon cancers or IBD.</span></div>"
            ]
          },
          "metadata": {}
        },
        {
          "output_type": "stream",
          "name": "stdout",
          "text": [
            "\n",
            "\n",
            "\n"
          ]
        },
        {
          "output_type": "display_data",
          "data": {
            "text/plain": [
              "<IPython.core.display.HTML object>"
            ],
            "text/html": [
              "\n",
              "<style>\n",
              "    @import url('https://fonts.googleapis.com/css2?family=Montserrat:wght@300;400;500;600;700&display=swap');\n",
              "    @import url('https://fonts.googleapis.com/css2?family=Vistol Regular:wght@300;400;500;600;700&display=swap');\n",
              "    \n",
              "    .spark-nlp-display-scroll-entities {\n",
              "        border: 1px solid #E7EDF0;\n",
              "        border-radius: 3px;\n",
              "        text-align: justify;\n",
              "        \n",
              "    }\n",
              "    .spark-nlp-display-scroll-entities span {  \n",
              "        font-size: 14px;\n",
              "        line-height: 24px;\n",
              "        color: #536B76;\n",
              "        font-family: 'Montserrat', sans-serif !important;\n",
              "    }\n",
              "    \n",
              "    .spark-nlp-display-entity-wrapper{\n",
              "    \n",
              "        display: inline-grid;\n",
              "        text-align: center;\n",
              "        border-radius: 4px;\n",
              "        margin: 0 2px 5px 2px;\n",
              "        padding: 1px\n",
              "    }\n",
              "    .spark-nlp-display-entity-name{\n",
              "        font-size: 14px;\n",
              "        line-height: 24px;\n",
              "        font-family: 'Montserrat', sans-serif !important;\n",
              "        \n",
              "        background: #f1f2f3;\n",
              "        border-width: medium;\n",
              "        text-align: center;\n",
              "        \n",
              "        font-weight: 400;\n",
              "        \n",
              "        border-radius: 5px;\n",
              "        padding: 2px 5px;\n",
              "        display: block;\n",
              "        margin: 3px 2px;\n",
              "    \n",
              "    }\n",
              "    .spark-nlp-display-entity-type{\n",
              "        font-size: 14px;\n",
              "        line-height: 24px;\n",
              "        color: #ffffff;\n",
              "        font-family: 'Montserrat', sans-serif !important;\n",
              "        \n",
              "        text-transform: uppercase;\n",
              "        \n",
              "        font-weight: 500;\n",
              "\n",
              "        display: block;\n",
              "        padding: 3px 5px;\n",
              "    }\n",
              "    \n",
              "    .spark-nlp-display-entity-resolution{\n",
              "        font-size: 14px;\n",
              "        line-height: 24px;\n",
              "        color: #ffffff;\n",
              "        font-family: 'Vistol Regular', sans-serif !important;\n",
              "        \n",
              "        text-transform: uppercase;\n",
              "        \n",
              "        font-weight: 500;\n",
              "\n",
              "        display: block;\n",
              "        padding: 3px 5px;\n",
              "    }\n",
              "    \n",
              "    .spark-nlp-display-others{\n",
              "        font-size: 14px;\n",
              "        line-height: 24px;\n",
              "        font-family: 'Montserrat', sans-serif !important;\n",
              "        \n",
              "        font-weight: 400;\n",
              "    }\n",
              "\n",
              "</style>\n",
              " <span class=\"spark-nlp-display-others\" style=\"background-color: white\">This is an 80 year old Caucasian female with known congestive heart failure, who presents as an elective admission for worsened shortness of breath and administration of Natrecor. The patient states that over the past two weeks she has had felt fatigued and short of breath. The patient can no longer climb stairs, and consistently gets short of breath after walking about forty yards, and some times gets short of breath just sitting at rest.The patient also states she has poor appetite. The patient does not adhere to a strict low salt diet and drinks a lot of water, good constant urine output. In cardiac review of systems, the patient had a resolving dry cough times two weeks, no fever or chills. The patient gets intermittent left sided chest pain times two to three seconds, about one time a day, relieved spontaneously, occurring only at rest. Currently, the patient is pain free.  SOCIAL HISTORY: The patient denies any current or past history of </span><span class=\"spark-nlp-display-entity-wrapper\" style=\"background-color: #1C4543\"><span class=\"spark-nlp-display-entity-name\">tobacco </span><span class=\"spark-nlp-display-entity-type\">behavior_tobacco</span></span><span class=\"spark-nlp-display-others\" style=\"background-color: white\"> or </span><span class=\"spark-nlp-display-entity-wrapper\" style=\"background-color: #2E759C\"><span class=\"spark-nlp-display-entity-name\">alcohol </span><span class=\"spark-nlp-display-entity-type\">behavior_alcohol</span></span><span class=\"spark-nlp-display-others\" style=\"background-color: white\"> use. The patient is </span><span class=\"spark-nlp-display-entity-wrapper\" style=\"background-color: #AB63A4\"><span class=\"spark-nlp-display-entity-name\">police </span><span class=\"spark-nlp-display-entity-type\">sdoh_economics</span></span><span class=\"spark-nlp-display-others\" style=\"background-color: white\"> and </span><span class=\"spark-nlp-display-entity-wrapper\" style=\"background-color: #4E1C37\"><span class=\"spark-nlp-display-entity-name\">widowed </span><span class=\"spark-nlp-display-entity-type\">sdoh_community</span></span><span class=\"spark-nlp-display-others\" style=\"background-color: white\">. FAMILY HISTORY: The patient's </span><span class=\"spark-nlp-display-entity-wrapper\" style=\"background-color: #4E1C37\"><span class=\"spark-nlp-display-entity-name\">father </span><span class=\"spark-nlp-display-entity-type\">sdoh_community</span></span><span class=\"spark-nlp-display-others\" style=\"background-color: white\"> passed away of a myocardial infarction at age 62. The patient's </span><span class=\"spark-nlp-display-entity-wrapper\" style=\"background-color: #4E1C37\"><span class=\"spark-nlp-display-entity-name\">brother </span><span class=\"spark-nlp-display-entity-type\">sdoh_community</span></span><span class=\"spark-nlp-display-others\" style=\"background-color: white\"> died of a myocardial infarction at age 45. low as 70 to 75 over palpable. </span></div>"
            ]
          },
          "metadata": {}
        },
        {
          "output_type": "stream",
          "name": "stdout",
          "text": [
            "\n",
            "\n",
            "\n"
          ]
        }
      ]
    },
    {
      "cell_type": "markdown",
      "metadata": {
        "id": "taaK6AJ6myFW"
      },
      "source": [
        "# 📌 Sequence Classifier"
      ]
    },
    {
      "cell_type": "markdown",
      "source": [
        "### **`bert_sequence_classifier_sdoh_community_present_status`**"
      ],
      "metadata": {
        "id": "uqj4r25AQy9h"
      }
    },
    {
      "cell_type": "code",
      "execution_count": 69,
      "metadata": {
        "id": "uodENcIfKvSU"
      },
      "outputs": [],
      "source": [
        "text_list = [\n",
        "\" Patient with history of lupus, lupus nephritis with ESRD on peritoneal dialysis on transplant list, hx of PE/Antiphopholipid antibody on coumadin, mitral regurg, presents with 4-6 month history of cough, worse in the morning, one week of trace blood, now producing bright red blood over last couple days. Patient states that the amount of blood she has been coughing has been increasing and is now almost hourly, aprroximately 1 teaspoon bright red blood. Patient states that the cough produced primarily yellow sputum until it turned to blood. Patient denies any other symptoms such as dizziness or lightheadedness.  Married with three children,Worked as an accountant until health declined in early 2002. No tobacco, ethanol or drug use. Centrilobular nodules and ground glass opacities throughout both lungs, with a basilar predominance, with associated mild bronchiectasis, compatible with chronic collagen vascular disease, progressed since 2002. There is no advanced fibrosis. Superimposed infection cannot be excluded by imaging alone. Ground glass opacities could also represent hemorrhage. 3. Chronic left lower segmental pulmonary arterial PE, unchanged since 2191. No new acute PE detected to the subsegmental levels.\",\n",
        "\" This is an 87 year old man status post motor vehicle accident in Month (only) 956 who was recently discharged from Hospital1 18 status post left radical nephrectomy for renal oncocytoma, who returned to Hospital1 18 on 3-22 for outpatient followup CT scan of the head. Patient was found to have a left subdural hematoma and was transported to the emergency department for workup. Currently patient does not complain of fever, chills, nausea, vomiting, chest pain, shortness of breath. No known drug allergies.The patient is a retired priest. Denies history of tobacco or alcohol use. Patient currently lives at Hospital3 2558.\",\n",
        "]"
      ]
    },
    {
      "cell_type": "code",
      "execution_count": 70,
      "metadata": {
        "colab": {
          "base_uri": "https://localhost:8080/"
        },
        "id": "Cr2eBf1Rm9RM",
        "outputId": "33514304-ffaa-4c48-ae10-6c5aa7024c50"
      },
      "outputs": [
        {
          "output_type": "stream",
          "name": "stdout",
          "text": [
            "bert_sequence_classifier_sdoh_community_present_status download started this may take some time.\n",
            "[OK!]\n"
          ]
        }
      ],
      "source": [
        "documentAssembler = DocumentAssembler()\\\n",
        "        .setInputCol(\"text\")\\\n",
        "        .setOutputCol(\"document\")\n",
        "\n",
        "tokenizer = Tokenizer()\\\n",
        "    .setInputCols([\"document\"])\\\n",
        "    .setOutputCol(\"token\")\n",
        "    \n",
        "sequenceClassifier = MedicalBertForSequenceClassification.pretrained(\"bert_sequence_classifier_sdoh_community_present_status\", \"en\", \"clinical/models\")\\\n",
        "    .setInputCols([\"document\",\"token\"])\\\n",
        "    .setOutputCol(\"class_\")\n",
        "        \n",
        "\n",
        "pipeline = Pipeline(stages=[\n",
        "                        documentAssembler, \n",
        "                        tokenizer,\n",
        "                        sequenceClassifier])\n",
        "    \n",
        "\n",
        "df = spark.createDataFrame(text_list, StringType()).toDF(\"text\")\n",
        "results = pipeline.fit(df).transform(df)"
      ]
    },
    {
      "cell_type": "code",
      "execution_count": 71,
      "metadata": {
        "colab": {
          "base_uri": "https://localhost:8080/"
        },
        "id": "mdiSHcL1m9Mr",
        "outputId": "d5505ed5-13ab-4fff-9fc0-b99731b9c0b4"
      },
      "outputs": [
        {
          "output_type": "stream",
          "name": "stdout",
          "text": [
            "+----------+----------+------------------------------------------------------------------------------------------------------------------------------------------------------+\n",
            "|prediction|confidence|                                                                                                                                              sentence|\n",
            "+----------+----------+------------------------------------------------------------------------------------------------------------------------------------------------------+\n",
            "|      True| 0.9982032| Patient with history of lupus, lupus nephritis with ESRD on peritoneal dialysis on transplant list, hx of PE/Antiphopholipid antibody on coumadin,...|\n",
            "|     False|0.78874034| This is an 87 year old man status post motor vehicle accident in Month (only) 956 who was recently discharged from Hospital1 18 status post left r...|\n",
            "+----------+----------+------------------------------------------------------------------------------------------------------------------------------------------------------+\n",
            "\n"
          ]
        }
      ],
      "source": [
        "res = results.select(F.explode(F.arrays_zip(results.document.result, \n",
        "                                             results.class_.result,\n",
        "                                             results.class_.metadata)).alias(\"col\"))\\\n",
        "               .select(F.expr(\"col['1']\").alias(\"prediction\"),\n",
        "                       F.expr(\"col['2']\").alias(\"confidence\"),\n",
        "                       F.expr(\"col['0']\").alias(\"sentence\"))\n",
        "                  \n",
        "if res.count()>1:\n",
        "  udf_func = F.udf(lambda x,y:  x[\"Some(\"+str(y)+\")\"])\n",
        "  res.withColumn('confidence', udf_func(res.confidence, res.prediction)).show(truncate=150)"
      ]
    },
    {
      "cell_type": "markdown",
      "metadata": {
        "id": "Z7DY6UBZm2ph"
      },
      "source": [
        "### **`bert_sequence_classifier_sdoh_community_absent_status`**"
      ]
    },
    {
      "cell_type": "code",
      "execution_count": 72,
      "metadata": {
        "id": "HD9N1NVIKwEU"
      },
      "outputs": [],
      "source": [
        "text_list = [\n",
        "\"She has two adult sons. She is a widow. She was employed with housework. She quit smoking 20 to 30 years ago, but smoked two packs per day for 20 to 30 years. She drinks one glass of wine occasionally. She avoids salt in her diet. \",\n",
        "\"65 year old male presented with several days of vice like chest pain. He states that he felt like his chest was being crushed from back to the front. Lives with spouse and two sons moved to US 1 month ago.\",\n",
        "]"
      ]
    },
    {
      "cell_type": "code",
      "execution_count": 73,
      "metadata": {
        "colab": {
          "base_uri": "https://localhost:8080/"
        },
        "id": "kTJM1PxCm-Qp",
        "outputId": "23565a64-aae6-482f-f9a1-e4d90f3929bc"
      },
      "outputs": [
        {
          "output_type": "stream",
          "name": "stdout",
          "text": [
            "bert_sequence_classifier_sdoh_community_absent_status download started this may take some time.\n",
            "[OK!]\n"
          ]
        }
      ],
      "source": [
        "sequenceClassifier = MedicalBertForSequenceClassification.pretrained(\"bert_sequence_classifier_sdoh_community_absent_status\", \"en\", \"clinical/models\")\\\n",
        "    .setInputCols([\"document\",\"token\"])\\\n",
        "    .setOutputCol(\"class_\")\n",
        "        \n",
        "\n",
        "pipeline = Pipeline(stages=[\n",
        "                      documentAssembler, \n",
        "                      tokenizer,\n",
        "                      sequenceClassifier])\n",
        "    \n",
        "\n",
        "df = spark.createDataFrame(text_list, StringType()).toDF(\"text\")\n",
        "results = pipeline.fit(df).transform(df)"
      ]
    },
    {
      "cell_type": "code",
      "execution_count": 74,
      "metadata": {
        "colab": {
          "base_uri": "https://localhost:8080/"
        },
        "id": "XhLCxp3w2Hhs",
        "outputId": "bfaa72d9-ad77-4bb1-a3a8-05c172ff938a"
      },
      "outputs": [
        {
          "output_type": "stream",
          "name": "stdout",
          "text": [
            "+----------+----------+------------------------------------------------------------------------------------------------------------------------------------------------------+\n",
            "|prediction|confidence|                                                                                                                                              sentence|\n",
            "+----------+----------+------------------------------------------------------------------------------------------------------------------------------------------------------+\n",
            "|      True| 0.9894813|She has two adult sons. She is a widow. She was employed with housework. She quit smoking 20 to 30 years ago, but smoked two packs per day for 20 t...|\n",
            "|     False|0.72528476|65 year old male presented with several days of vice like chest pain. He states that he felt like his chest was being crushed from back to the fron...|\n",
            "+----------+----------+------------------------------------------------------------------------------------------------------------------------------------------------------+\n",
            "\n"
          ]
        }
      ],
      "source": [
        "res = results.select(F.explode(F.arrays_zip(results.document.result, \n",
        "                                             results.class_.result,\n",
        "                                             results.class_.metadata)).alias(\"col\"))\\\n",
        "               .select(F.expr(\"col['1']\").alias(\"prediction\"),\n",
        "                       F.expr(\"col['2']\").alias(\"confidence\"),\n",
        "                       F.expr(\"col['0']\").alias(\"sentence\"))\n",
        "                  \n",
        "if res.count()>1:\n",
        "  udf_func = F.udf(lambda x,y:  x[\"Some(\"+str(y)+\")\"])\n",
        "  res.withColumn('confidence', udf_func(res.confidence, res.prediction)).show(truncate=150)"
      ]
    },
    {
      "cell_type": "code",
      "source": [],
      "metadata": {
        "id": "KYY_CRgkTqJE"
      },
      "execution_count": null,
      "outputs": []
    }
  ],
  "metadata": {
    "colab": {
      "provenance": [],
      "toc_visible": true
    },
    "kernelspec": {
      "display_name": "Python 3.9.2 64-bit ('3.9.2')",
      "language": "python",
      "name": "python3"
    },
    "language_info": {
      "codemirror_mode": {
        "name": "ipython",
        "version": 3
      },
      "file_extension": ".py",
      "mimetype": "text/x-python",
      "name": "python",
      "nbconvert_exporter": "python",
      "pygments_lexer": "ipython3",
      "version": "3.9.2"
    },
    "vscode": {
      "interpreter": {
        "hash": "a6cfde16737151ae49a327430a5fbb48432a976136d1f3391213c81bbed9fca8"
      }
    }
  },
  "nbformat": 4,
  "nbformat_minor": 0
}