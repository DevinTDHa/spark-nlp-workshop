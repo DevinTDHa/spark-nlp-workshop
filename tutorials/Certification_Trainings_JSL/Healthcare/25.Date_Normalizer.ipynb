{
  "nbformat": 4,
  "nbformat_minor": 0,
  "metadata": {
    "colab": {
      "provenance": [],
      "collapsed_sections": [],
      "toc_visible": true
    },
    "kernelspec": {
      "display_name": "Python 3",
      "language": "python",
      "name": "python3"
    },
    "language_info": {
      "codemirror_mode": {
        "name": "ipython",
        "version": 3
      },
      "file_extension": ".py",
      "mimetype": "text/x-python",
      "name": "python",
      "nbconvert_exporter": "python",
      "pygments_lexer": "ipython3",
      "version": "3.7.6"
    }
  },
  "cells": [
    {
      "cell_type": "markdown",
      "metadata": {
        "id": "I08sFJYCxR0Z"
      },
      "source": [
        "![JohnSnowLabs](https://nlp.johnsnowlabs.com/assets/images/logo.png)"
      ]
    },
    {
      "cell_type": "markdown",
      "metadata": {
        "id": "LKI5K1wQrSe9"
      },
      "source": [
        "[![Open In Colab](https://colab.research.google.com/assets/colab-badge.svg)](https://colab.research.google.com/github/JohnSnowLabs/spark-nlp-workshop/blob/master/tutorials/Certification_Trainings_JSL/Healthcare/25.Date_Normalizer.ipynb)"
      ]
    },
    {
      "cell_type": "markdown",
      "source": [
        "# 25. Date Normalizer"
      ],
      "metadata": {
        "id": "YiRjfE_SHmQI"
      }
    },
    {
      "cell_type": "markdown",
      "metadata": {
        "id": "okhT7AcXxben"
      },
      "source": [
        "## Colab Setup"
      ]
    },
    {
      "cell_type": "code",
      "execution_count": null,
      "metadata": {
        "id": "ELqzaf32MT6E"
      },
      "outputs": [],
      "source": [
        "# Install the johnsnowlabs library to access Spark-OCR and Spark-NLP for Healthcare, Finance, and Legal.\n",
        "! pip install -q johnsnowlabs "
      ]
    },
    {
      "cell_type": "code",
      "source": [
        "from google.colab import files\n",
        "print('Please Upload your John Snow Labs License using the button below')\n",
        "license_keys = files.upload()"
      ],
      "metadata": {
        "id": "RO2dIA414yL_"
      },
      "execution_count": null,
      "outputs": []
    },
    {
      "cell_type": "code",
      "source": [
        "from johnsnowlabs import *\n",
        "\n",
        "# After uploading your license run this to install all licensed Python Wheels and pre-download Jars the Spark Session JVM\n",
        "jsl.install()"
      ],
      "metadata": {
        "id": "dmcB5zVBHZO8"
      },
      "execution_count": null,
      "outputs": []
    },
    {
      "cell_type": "code",
      "source": [
        "from johnsnowlabs import *\n",
        "\n",
        "# Automatically load license data and start a session with all jars user has access to\n",
        "spark = jsl.start(exclude_ocr = True)"
      ],
      "metadata": {
        "id": "lQ8-BI-_5QjG"
      },
      "execution_count": null,
      "outputs": []
    },
    {
      "cell_type": "markdown",
      "metadata": {
        "id": "slJiG9CU-VFc"
      },
      "source": [
        "## **Date Normalizer**\n",
        "\n",
        "New Annotator that transforms chunks Dates to a normalized Date with format YYYY/MM/DD. This annotator identifies dates in chunk annotations and transforms those dates to the format YYYY/MM/DD. \n",
        "\n"
      ]
    },
    {
      "cell_type": "markdown",
      "metadata": {
        "id": "4OBFnIOT-VFd"
      },
      "source": [
        "We will create texts containing dates in different formats:"
      ]
    },
    {
      "cell_type": "code",
      "metadata": {
        "colab": {
          "base_uri": "https://localhost:8080/"
        },
        "id": "EADXi0Rz-VFd",
        "outputId": "0a6477b2-288b-489f-ef9b-7f4cfe2aaa61"
      },
      "source": [
        "dates = [\n",
        "'She has a history of pericarditis and pericardectomy on 08/02/2018 and developed a cough with right-sided chest pain.' ,\n",
        "'She has been receiving gemcitabine and she receives three cycles of this with the last one being given on 11/2018. ',\n",
        "'She was last seen in the clinic on 11/01/2018by Dr. Y.',\n",
        "'Chris Brown was discharged on 12Mar2021',\n",
        "'Last INR was on Tuesday, Jan 30, 2018, and her INR was 2.3. 2. Amiodarone 100 mg p.o. daily. ',\n",
        "'We reviewed the pathology obtained from the pericardectomy on 13.04.1999, which was diagnostic of mesothelioma', \n",
        "'A review of her CT scan on 3 April2020 prior to her pericardectomy, already shows bilateral plural effusions. ',\n",
        "]\n",
        "\n",
        "df_dates = spark.createDataFrame(dates,StringType()).toDF('text')\n",
        "\n",
        "df_dates.show(truncate=100)"
      ],
      "execution_count": 2,
      "outputs": [
        {
          "output_type": "stream",
          "name": "stdout",
          "text": [
            "+----------------------------------------------------------------------------------------------------+\n",
            "|                                                                                                text|\n",
            "+----------------------------------------------------------------------------------------------------+\n",
            "|She has a history of pericarditis and pericardectomy on 08/02/2018 and developed a cough with rig...|\n",
            "|She has been receiving gemcitabine and she receives three cycles of this with the last one being ...|\n",
            "|                                              She was last seen in the clinic on 11/01/2018by Dr. Y.|\n",
            "|                                                             Chris Brown was discharged on 12Mar2021|\n",
            "|       Last INR was on Tuesday, Jan 30, 2018, and her INR was 2.3. 2. Amiodarone 100 mg p.o. daily. |\n",
            "|We reviewed the pathology obtained from the pericardectomy on 13.04.1999, which was diagnostic of...|\n",
            "|A review of her CT scan on 3 April2020 prior to her pericardectomy, already shows bilateral plura...|\n",
            "+----------------------------------------------------------------------------------------------------+\n",
            "\n"
          ]
        }
      ]
    },
    {
      "cell_type": "code",
      "source": [
        "documentAssembler = nlp.DocumentAssembler()\\\n",
        "    .setInputCol(\"text\")\\\n",
        "    .setOutputCol(\"document\")\n",
        "\n",
        "# Sentence Detector annotator, processes various sentences per line\n",
        "sentenceDetector = nlp.SentenceDetector()\\\n",
        "    .setInputCols([\"document\"])\\\n",
        "    .setOutputCol(\"sentence\")\n",
        "\n",
        "# Tokenizer splits words in a relevant format for NLP\n",
        "tokenizer = nlp.Tokenizer()\\\n",
        "    .setInputCols([\"sentence\"])\\\n",
        "    .setOutputCol(\"token\")\n",
        "\n",
        "# Clinical word embeddings trained on PubMED dataset\n",
        "word_embeddings = nlp.WordEmbeddingsModel.pretrained(\"embeddings_clinical\", \"en\", \"clinical/models\")\\\n",
        "    .setInputCols([\"sentence\", \"token\"])\\\n",
        "    .setOutputCol(\"embeddings\")\n",
        "\n",
        "# NER model trained on n2c2 (de-identification and Heart Disease Risk Factors Challenge) datasets)\n",
        "clinical_ner = medical.NerModel.pretrained(\"ner_deid_generic_augmented\", \"en\", \"clinical/models\") \\\n",
        "    .setInputCols([\"sentence\", \"token\", \"embeddings\"]) \\\n",
        "    .setOutputCol(\"ner\")\n",
        "\n",
        "ner_converter = medical.NerConverterInternal()\\\n",
        "    .setInputCols([\"sentence\", \"token\", \"ner\"])\\\n",
        "    .setOutputCol(\"date_chunk\")\\\n",
        "    .setWhiteList([\"DATE\"])\n",
        "\n",
        "date_normalizer = medical.DateNormalizer()\\\n",
        "    .setInputCols('date_chunk')\\\n",
        "    .setOutputCol('normalized_date')\n",
        "\n",
        "nlpPipeline = Pipeline(stages=[\n",
        "      documentAssembler, \n",
        "      sentenceDetector,\n",
        "      tokenizer,\n",
        "      word_embeddings,\n",
        "      clinical_ner,\n",
        "      ner_converter,\n",
        "      date_normalizer])\n",
        "\n",
        "empty_data = spark.createDataFrame([[\"\"]]).toDF(\"text\")\n",
        "\n",
        "model = nlpPipeline.fit(empty_data)"
      ],
      "metadata": {
        "colab": {
          "base_uri": "https://localhost:8080/"
        },
        "id": "YjvjuoC1J09P",
        "outputId": "0523a636-145c-4d92-ba87-23607625ecb8"
      },
      "execution_count": 3,
      "outputs": [
        {
          "output_type": "stream",
          "name": "stdout",
          "text": [
            "embeddings_clinical download started this may take some time.\n",
            "Approximate size to download 1.6 GB\n",
            "[OK!]\n",
            "ner_deid_generic_augmented download started this may take some time.\n",
            "[OK!]\n"
          ]
        }
      ]
    },
    {
      "cell_type": "code",
      "source": [
        "result = model.transform(df_dates)"
      ],
      "metadata": {
        "id": "xBPUjxUeK1kx"
      },
      "execution_count": 4,
      "outputs": []
    },
    {
      "cell_type": "markdown",
      "metadata": {
        "id": "SdTV7Mwm-VFf"
      },
      "source": [
        "We are going to show how the date is normalized."
      ]
    },
    {
      "cell_type": "code",
      "source": [
        "result_df = result.select(\"text\",F.explode(F.arrays_zip(result.date_chunk.result, \n",
        "                                                        result.normalized_date.result)).alias(\"cols\")) \\\n",
        "                  .select(\"text\",F.expr(\"cols['0']\").alias(\"date_chunk\"),\n",
        "                                 F.expr(\"cols['1']\").alias(\"normalized_date\"))\n",
        "                  \n",
        "result_df.show(truncate=False)"
      ],
      "metadata": {
        "colab": {
          "base_uri": "https://localhost:8080/"
        },
        "id": "OpuSgqPSK1fq",
        "outputId": "de11d8cb-660b-49ce-b6b7-8085f8a32a65"
      },
      "execution_count": 5,
      "outputs": [
        {
          "output_type": "stream",
          "name": "stdout",
          "text": [
            "+---------------------------------------------------------------------------------------------------------------------+---------------------+---------------+\n",
            "|text                                                                                                                 |date_chunk           |normalized_date|\n",
            "+---------------------------------------------------------------------------------------------------------------------+---------------------+---------------+\n",
            "|She has a history of pericarditis and pericardectomy on 08/02/2018 and developed a cough with right-sided chest pain.|08/02/2018           |2018/08/02     |\n",
            "|She has been receiving gemcitabine and she receives three cycles of this with the last one being given on 11/2018.   |11/2018              |2018/11/DD     |\n",
            "|She was last seen in the clinic on 11/01/2018by Dr. Y.                                                               |11/01/2018by         |2018/11/01     |\n",
            "|Chris Brown was discharged on 12Mar2021                                                                              |12Mar2021            |2021/03/12     |\n",
            "|Last INR was on Tuesday, Jan 30, 2018, and her INR was 2.3. 2. Amiodarone 100 mg p.o. daily.                         |Tuesday, Jan 30, 2018|2018/01/30     |\n",
            "|We reviewed the pathology obtained from the pericardectomy on 13.04.1999, which was diagnostic of mesothelioma       |13.04.1999           |1999/04/13     |\n",
            "|A review of her CT scan on 3 April2020 prior to her pericardectomy, already shows bilateral plural effusions.        |3 April2020          |2020/04/03     |\n",
            "+---------------------------------------------------------------------------------------------------------------------+---------------------+---------------+\n",
            "\n"
          ]
        }
      ]
    },
    {
      "cell_type": "markdown",
      "metadata": {
        "id": "kqlcNe7FJr31"
      },
      "source": [
        "### Only date chunk\n"
      ]
    },
    {
      "cell_type": "markdown",
      "metadata": {
        "id": "YPvA603jL3TV"
      },
      "source": [
        "We are going to create a chunks dates with different formats:"
      ]
    },
    {
      "cell_type": "code",
      "metadata": {
        "id": "Cnf_s2yFLpXC"
      },
      "source": [
        "dates = [\n",
        "'08/02/2018',\n",
        "'11/2018',\n",
        "'11/01/2018',\n",
        "'12Mar2021',\n",
        "'Jan 30, 2018',\n",
        "'13.04.1999', \n",
        "'3April 2020',\n",
        "]\n",
        "\n"
      ],
      "execution_count": 6,
      "outputs": []
    },
    {
      "cell_type": "code",
      "metadata": {
        "id": "SW-ND2BjONF_"
      },
      "source": [
        "df_dates = spark.createDataFrame(dates,StringType()).toDF('ner_chunk')"
      ],
      "execution_count": 7,
      "outputs": []
    },
    {
      "cell_type": "markdown",
      "metadata": {
        "id": "JiIqDdHDPkQV"
      },
      "source": [
        "We are going to transform that text to documents in spark-nlp."
      ]
    },
    {
      "cell_type": "code",
      "metadata": {
        "id": "13wTh48FPcG-"
      },
      "source": [
        "document_assembler = nlp.DocumentAssembler().setInputCol('ner_chunk').setOutputCol('document')\n",
        "documents_DF = document_assembler.transform(df_dates)"
      ],
      "execution_count": 8,
      "outputs": []
    },
    {
      "cell_type": "markdown",
      "metadata": {
        "id": "VelhLulcPxbx"
      },
      "source": [
        "After that we are going to transform that documents to chunks."
      ]
    },
    {
      "cell_type": "code",
      "metadata": {
        "id": "lR6bSlXTPvqK"
      },
      "source": [
        "chunks_df = nlp.map_annotations_col(documents_DF.select(\"document\",\"ner_chunk\"),\n",
        "                    lambda x: [Annotation('chunk', a.begin, a.end, a.result, a.metadata, a.embeddings) for a in x], \"document\",\n",
        "                    \"chunk_date\", \"chunk\")"
      ],
      "execution_count": 9,
      "outputs": []
    },
    {
      "cell_type": "code",
      "metadata": {
        "colab": {
          "base_uri": "https://localhost:8080/"
        },
        "id": "3NqyhuNCQWC2",
        "outputId": "140804ae-2a83-421e-dd24-0bc209cbf62a"
      },
      "source": [
        "chunks_df.select('chunk_date').show(truncate=False)"
      ],
      "execution_count": 10,
      "outputs": [
        {
          "output_type": "stream",
          "name": "stdout",
          "text": [
            "+---------------------------------------------------+\n",
            "|chunk_date                                         |\n",
            "+---------------------------------------------------+\n",
            "|[{chunk, 0, 9, 08/02/2018, {sentence -> 0}, []}]   |\n",
            "|[{chunk, 0, 6, 11/2018, {sentence -> 0}, []}]      |\n",
            "|[{chunk, 0, 9, 11/01/2018, {sentence -> 0}, []}]   |\n",
            "|[{chunk, 0, 8, 12Mar2021, {sentence -> 0}, []}]    |\n",
            "|[{chunk, 0, 11, Jan 30, 2018, {sentence -> 0}, []}]|\n",
            "|[{chunk, 0, 9, 13.04.1999, {sentence -> 0}, []}]   |\n",
            "|[{chunk, 0, 10, 3April 2020, {sentence -> 0}, []}] |\n",
            "+---------------------------------------------------+\n",
            "\n"
          ]
        }
      ]
    },
    {
      "cell_type": "markdown",
      "metadata": {
        "id": "iE1wA-Y1QyeI"
      },
      "source": [
        "Now we are going to normalize those chunks using the DateNormalizer."
      ]
    },
    {
      "cell_type": "code",
      "metadata": {
        "id": "k9E0T8mjQo0Y"
      },
      "source": [
        "date_normalizer = medical.DateNormalizer().setInputCols('chunk_date').setOutputCol('date')"
      ],
      "execution_count": 11,
      "outputs": []
    },
    {
      "cell_type": "code",
      "metadata": {
        "id": "JVX_QlglR9yR"
      },
      "source": [
        "date_normalized_df = date_normalizer.transform(chunks_df)"
      ],
      "execution_count": 12,
      "outputs": []
    },
    {
      "cell_type": "markdown",
      "metadata": {
        "id": "L8IxAZxXRihE"
      },
      "source": [
        "We are going to show how the date is normalized."
      ]
    },
    {
      "cell_type": "code",
      "metadata": {
        "id": "LB2yoHDqRVy-",
        "colab": {
          "base_uri": "https://localhost:8080/"
        },
        "outputId": "605be10c-14b4-4cad-93db-87a8423485b6"
      },
      "source": [
        "dateNormalizedClean = date_normalized_df.selectExpr(\"ner_chunk\",\"date.result as dateresult\")\n",
        "\n",
        "dateNormalizedClean.withColumn(\"dateresult\", dateNormalizedClean[\"dateresult\"].getItem(0)).show(truncate=False)"
      ],
      "execution_count": 13,
      "outputs": [
        {
          "output_type": "stream",
          "name": "stdout",
          "text": [
            "+------------+----------+\n",
            "|ner_chunk   |dateresult|\n",
            "+------------+----------+\n",
            "|08/02/2018  |2018/08/02|\n",
            "|11/2018     |2018/11/DD|\n",
            "|11/01/2018  |2018/11/01|\n",
            "|12Mar2021   |2021/03/12|\n",
            "|Jan 30, 2018|2018/01/30|\n",
            "|13.04.1999  |1999/04/13|\n",
            "|3April 2020 |2020/04/03|\n",
            "+------------+----------+\n",
            "\n"
          ]
        }
      ]
    },
    {
      "cell_type": "markdown",
      "metadata": {
        "id": "dwgt4QtgSf6g"
      },
      "source": [
        "## Relative Date\n",
        "\n",
        "We can configure the `anchorDateYear`,`anchorDateMonth` and `anchorDateDay` for the relatives dates."
      ]
    },
    {
      "cell_type": "code",
      "metadata": {
        "id": "gxHErp-K7ssl"
      },
      "source": [
        "rel_dates = [\n",
        "'next monday',\n",
        "'today',\n",
        "'next week'\n",
        "]\n",
        "\n",
        "rel_dates_df = spark.createDataFrame(rel_dates,StringType()).toDF('ner_chunk')"
      ],
      "execution_count": 14,
      "outputs": []
    },
    {
      "cell_type": "code",
      "metadata": {
        "id": "JN4QVnrD7ssu"
      },
      "source": [
        "rel_documents_DF = document_assembler.transform(rel_dates_df)\n",
        "\n",
        "rel_chunks_df = nlp.map_annotations_col(rel_documents_DF.select(\"document\",\"ner_chunk\"),\n",
        "                    lambda x: [Annotation('chunk', a.begin, a.end, a.result, a.metadata, a.embeddings) for a in x], \"document\",\n",
        "                    \"chunk_date\", \"chunk\")"
      ],
      "execution_count": 15,
      "outputs": []
    },
    {
      "cell_type": "code",
      "metadata": {
        "id": "QYnWQMSj7ssw",
        "colab": {
          "base_uri": "https://localhost:8080/"
        },
        "outputId": "fc45b753-b44e-420b-b2ac-957a85cb963d"
      },
      "source": [
        "rel_chunks_df.select('chunk_date').show(truncate=False)"
      ],
      "execution_count": 16,
      "outputs": [
        {
          "output_type": "stream",
          "name": "stdout",
          "text": [
            "+--------------------------------------------------+\n",
            "|chunk_date                                        |\n",
            "+--------------------------------------------------+\n",
            "|[{chunk, 0, 10, next monday, {sentence -> 0}, []}]|\n",
            "|[{chunk, 0, 4, today, {sentence -> 0}, []}]       |\n",
            "|[{chunk, 0, 8, next week, {sentence -> 0}, []}]   |\n",
            "+--------------------------------------------------+\n",
            "\n"
          ]
        }
      ]
    },
    {
      "cell_type": "markdown",
      "metadata": {
        "id": "-WrTv3SLTIe7"
      },
      "source": [
        "In the following example we will use as a relative date 2021/02/16, to make that possible we need to set up the `anchorDateYear` to 2021, the `anchorDateMonth` to 2 and the `anchorDateDay` to 16. We will show you the configuration with the following example."
      ]
    },
    {
      "cell_type": "code",
      "metadata": {
        "id": "zttFZDgJSdZi"
      },
      "source": [
        "rel_date_normalizer = medical.DateNormalizer()\\\n",
        "                        .setInputCols('chunk_date')\\\n",
        "                        .setOutputCol('date')\\\n",
        "                        .setAnchorDateDay(16)\\\n",
        "                        .setAnchorDateMonth(2)\\\n",
        "                        .setAnchorDateYear(2021)"
      ],
      "execution_count": 17,
      "outputs": []
    },
    {
      "cell_type": "code",
      "metadata": {
        "id": "HvBFcvVnUge3",
        "colab": {
          "base_uri": "https://localhost:8080/"
        },
        "outputId": "1ba4fdf4-4899-406b-f56a-1919748bc1d9"
      },
      "source": [
        "rel_date_normalized_df = rel_date_normalizer.transform(rel_chunks_df)\n",
        "relDateNormalizedClean = rel_date_normalized_df.selectExpr(\"ner_chunk\",\"date.result as dateresult\",\"date.metadata as metadata\")\n",
        "relDateNormalizedClean.withColumn(\"dateresult\", relDateNormalizedClean[\"dateresult\"].getItem(0))\\\n",
        "                      .withColumn(\"metadata\", relDateNormalizedClean[\"metadata\"].getItem(0)['normalized']).show(truncate=False)"
      ],
      "execution_count": 18,
      "outputs": [
        {
          "output_type": "stream",
          "name": "stdout",
          "text": [
            "+-----------+----------+--------+\n",
            "|ner_chunk  |dateresult|metadata|\n",
            "+-----------+----------+--------+\n",
            "|next monday|2021/02/22|true    |\n",
            "|today      |2021/02/16|true    |\n",
            "|next week  |2021/02/23|true    |\n",
            "+-----------+----------+--------+\n",
            "\n"
          ]
        }
      ]
    },
    {
      "cell_type": "markdown",
      "metadata": {
        "id": "HiQke1C2VGuH"
      },
      "source": [
        "As you see the relatives dates like `next monday` , `today` and `next week` takes the `2021/02/16` as reference date.\n"
      ]
    }
  ]
}