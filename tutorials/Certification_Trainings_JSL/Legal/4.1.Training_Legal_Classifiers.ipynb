{
 "cells": [
  {
   "cell_type": "markdown",
   "id": "KLqW6FOnEvov",
   "metadata": {
    "id": "KLqW6FOnEvov"
   },
   "source": [
    "# Train Legal Classifiers"
   ]
  },
  {
   "cell_type": "markdown",
   "id": "wxZDXLDCXkk_",
   "metadata": {
    "id": "wxZDXLDCXkk_"
   },
   "source": [
    "\n",
    "![JohnSnowLabs](https://nlp.johnsnowlabs.com/assets/images/logo.png)\n",
    "\n",
    "\n",
    "\n"
   ]
  },
  {
   "cell_type": "markdown",
   "id": "pZ6sKi8ZX1z4",
   "metadata": {
    "id": "pZ6sKi8ZX1z4"
   },
   "source": [
    "[![Open In Colab](https://colab.research.google.com/assets/colab-badge.svg)](https://colab.research.google.com/github/JohnSnowLabs/spark-nlp-workshop/blob/master/tutorials/Certification_Trainings_JSL/Legal/14.Training_Legal_Classifiers.ipynb)"
   ]
  },
  {
   "cell_type": "markdown",
   "id": "RPprYrOB-O7L",
   "metadata": {
    "id": "RPprYrOB-O7L"
   },
   "source": [
    "# Colab Setup"
   ]
  },
  {
   "cell_type": "code",
   "execution_count": null,
   "id": "4914b00f-abd2-4449-9a4f-737f317317be",
   "metadata": {
    "id": "4914b00f-abd2-4449-9a4f-737f317317be"
   },
   "outputs": [],
   "source": [
    "# Install the johnsnowlabs library to access Spark-OCR and Spark-NLP for Healthcare, Finance, and Legal.\n",
    "! pip install johnsnowlabs"
   ]
  },
  {
   "cell_type": "code",
   "execution_count": null,
   "id": "JOzbTlCRNvVd",
   "metadata": {
    "id": "JOzbTlCRNvVd"
   },
   "outputs": [],
   "source": [
    "from johnsnowlabs import nlp, legal\n",
    "# After uploading your license run this to install all licensed Python Wheels and pre-download Jars the Spark Session JVM\n",
    "# Make sure to restart your notebook afterwards for changes to take effect\n",
    "nlp.install(force_browser=True)"
   ]
  },
  {
   "cell_type": "markdown",
   "id": "09fafa4b-cf69-4556-ae50-adb9fc6f4368",
   "metadata": {
    "id": "09fafa4b-cf69-4556-ae50-adb9fc6f4368"
   },
   "source": [
    "## Start Spark Session"
   ]
  },
  {
   "cell_type": "code",
   "execution_count": null,
   "id": "lQ8-BI-_5QjG",
   "metadata": {
    "id": "lQ8-BI-_5QjG"
   },
   "outputs": [],
   "source": [
    "from johnsnowlabs import nlp, legal \n",
    "# Automatically load license data and start a session with all jars user has access to\n",
    "spark = nlp.start()"
   ]
  },
  {
   "cell_type": "markdown",
   "id": "MulDEC2j4ly3",
   "metadata": {
    "id": "MulDEC2j4ly3"
   },
   "source": [
    "# Multilabel classifier training"
   ]
  },
  {
   "cell_type": "markdown",
   "id": "BhKlxMBWH9-Z",
   "metadata": {
    "id": "BhKlxMBWH9-Z"
   },
   "source": [
    "## Loading the data"
   ]
  },
  {
   "cell_type": "code",
   "execution_count": null,
   "id": "2Ab4pyK6MyCZ",
   "metadata": {
    "id": "2Ab4pyK6MyCZ"
   },
   "outputs": [],
   "source": [
    "! wget -q https://raw.githubusercontent.com/JohnSnowLabs/spark-nlp-workshop/master/tutorials/Certification_Trainings_JSL/Legal/data/finance_data.csv"
   ]
  },
  {
   "cell_type": "code",
   "execution_count": null,
   "id": "gaRulasEKZK3",
   "metadata": {
    "id": "gaRulasEKZK3"
   },
   "outputs": [],
   "source": [
    "import pandas as pd\n",
    "df = pd.read_csv('./finance_data.csv')\n",
    "df['label'] = df['label'].apply(eval)"
   ]
  },
  {
   "cell_type": "code",
   "execution_count": null,
   "id": "bUFO8usqKt2Z",
   "metadata": {
    "id": "bUFO8usqKt2Z"
   },
   "outputs": [],
   "source": [
    "data = spark.createDataFrame(df)\n",
    "\n",
    "# If you have a single dataset, then split it or else you can load the test dataset the same way that you load the train data.\n",
    "train, test = data.randomSplit([0.8, 0.2], seed = 123)"
   ]
  },
  {
   "cell_type": "code",
   "execution_count": null,
   "id": "bowhz89ZbN1C",
   "metadata": {
    "colab": {
     "base_uri": "https://localhost:8080/"
    },
    "id": "bowhz89ZbN1C",
    "outputId": "f9d492a8-af10-4d09-d9f3-9b9ed72f662c",
    "executionInfo": {
     "status": "ok",
     "timestamp": 1669746119880,
     "user_tz": 300,
     "elapsed": 3150,
     "user": {
      "displayName": "Vildan Sarıkaya",
      "userId": "07789644790967768983"
     }
    }
   },
   "outputs": [
    {
     "output_type": "stream",
     "name": "stdout",
     "text": [
      "+--------------------------------------------------+-----------------------------+\n",
      "|                                         provision|                        label|\n",
      "+--------------------------------------------------+-----------------------------+\n",
      "|(a) Consultant or Company may terminate this Pr...|               [terminations]|\n",
      "|(a) Each of Borrower and Guarantor, as applicab...|[representations, warranties]|\n",
      "|(a) No amendment or waiver of any provision of ...|                 [amendments]|\n",
      "|(a) No failure on the part of any Person to exe...|        [waivers, amendments]|\n",
      "|(a) No failure or delay by any Agent or any Len...|        [waivers, amendments]|\n",
      "|(a) No failure or delay by the Administrative A...|        [waivers, amendments]|\n",
      "|(a) No failure or delay by the Administrative A...|        [waivers, amendments]|\n",
      "|(a) No failure or delay by the Administrative A...|        [waivers, amendments]|\n",
      "|(a) No failure or delay by the Agent or any Len...|        [waivers, amendments]|\n",
      "|(a) No failure or delay of the Administrative A...|        [waivers, amendments]|\n",
      "|(a) The Company waives any right (except as sha...|                    [waivers]|\n",
      "|(a) The Credit Agreement (excluding the Exhibit...|                 [amendments]|\n",
      "|(a) The Credit Agreement is, effective as of th...|                 [amendments]|\n",
      "|(a) The agreements contained in Sections 2.13, ...|                   [survival]|\n",
      "|(a) The provisions of this Agreement shall be b...|        [assigns, successors]|\n",
      "|(a) The provisions of this Agreement shall be b...|        [assigns, successors]|\n",
      "|(a) To induce the other parties hereto to enter...|[representations, warranties]|\n",
      "|(a).The provisions of this Agreement shall be b...|        [assigns, successors]|\n",
      "|(a)  No failure or delay on the part of the Age...|        [waivers, amendments]|\n",
      "|(a)  Successors and Assigns Generally . The pro...|        [assigns, successors]|\n",
      "+--------------------------------------------------+-----------------------------+\n",
      "only showing top 20 rows\n",
      "\n"
     ]
    }
   ],
   "source": [
    "train.show(truncate=50)"
   ]
  },
  {
   "cell_type": "code",
   "execution_count": null,
   "id": "RZ0xy9hpebLe",
   "metadata": {
    "colab": {
     "base_uri": "https://localhost:8080/"
    },
    "id": "RZ0xy9hpebLe",
    "outputId": "825b3c43-eb0c-40c4-b753-170e0656b517",
    "executionInfo": {
     "status": "ok",
     "timestamp": 1669746123574,
     "user_tz": 300,
     "elapsed": 3720,
     "user": {
      "displayName": "Vildan Sarıkaya",
      "userId": "07789644790967768983"
     }
    }
   },
   "outputs": [
    {
     "output_type": "stream",
     "name": "stdout",
     "text": [
      "+--------------------+-----+\n",
      "|               label|count|\n",
      "+--------------------+-----+\n",
      "|    [governing laws]|  751|\n",
      "|      [counterparts]|  580|\n",
      "|           [notices]|  574|\n",
      "| [entire agreements]|  571|\n",
      "|      [severability]|  504|\n",
      "|          [survival]|  327|\n",
      "|[assigns, success...|  294|\n",
      "|        [amendments]|  265|\n",
      "|[waivers, amendme...|  229|\n",
      "|          [expenses]|  227|\n",
      "|      [terminations]|  227|\n",
      "|           [waivers]|  206|\n",
      "|[representations,...|  203|\n",
      "|       [assignments]|  174|\n",
      "|   [representations]|   88|\n",
      "|[amendments, enti...|   60|\n",
      "|        [successors]|   50|\n",
      "|[amendments, term...|   35|\n",
      "|        [warranties]|   24|\n",
      "|[governing laws, ...|   13|\n",
      "+--------------------+-----+\n",
      "only showing top 20 rows\n",
      "\n"
     ]
    }
   ],
   "source": [
    "from pyspark.sql.functions import col\n",
    "\n",
    "test.groupBy(\"label\") \\\n",
    "    .count() \\\n",
    "    .orderBy(col(\"count\").desc()) \\\n",
    "    .show()"
   ]
  },
  {
   "cell_type": "markdown",
   "id": "78sjKvMKcHdn",
   "metadata": {
    "id": "78sjKvMKcHdn"
   },
   "source": [
    " ## With Universal Encoder"
   ]
  },
  {
   "cell_type": "code",
   "execution_count": null,
   "id": "oFl9orR5LrUu",
   "metadata": {
    "id": "oFl9orR5LrUu"
   },
   "outputs": [],
   "source": [
    "document_assembler = nlp.DocumentAssembler() \\\n",
    "      .setInputCol(\"provision\") \\\n",
    "      .setOutputCol(\"document\") \\\n",
    "      .setCleanupMode(\"shrink\")\n",
    "\n",
    "embeddings = nlp.UniversalSentenceEncoder.pretrained() \\\n",
    "      .setInputCols(\"document\") \\\n",
    "      .setOutputCol(\"sentence_embeddings\")\n",
    "\n",
    "classsifierdl = nlp.MultiClassifierDLApproach()\\\n",
    "      .setInputCols([\"sentence_embeddings\"])\\\n",
    "      .setOutputCol(\"class\")\\\n",
    "      .setLabelColumn(\"label\")\\\n",
    "      .setMaxEpochs(30)\\\n",
    "      .setEnableOutputLogs(True)\n",
    "\n",
    "clf_pipeline = nlp.Pipeline(\n",
    "    stages = [\n",
    "        document_assembler,\n",
    "        embeddings,\n",
    "        classsifierdl\n",
    "    ])"
   ]
  },
  {
   "cell_type": "code",
   "execution_count": null,
   "id": "8kcgVr07MUss",
   "metadata": {
    "colab": {
     "base_uri": "https://localhost:8080/"
    },
    "id": "8kcgVr07MUss",
    "outputId": "a3fdf552-5252-4b54-b3f3-a9f12aee1e68"
   },
   "outputs": [
    {
     "name": "stdout",
     "output_type": "stream",
     "text": [
      "CPU times: user 1.58 s, sys: 188 ms, total: 1.77 s\n",
      "Wall time: 4min 54s\n"
     ]
    }
   ],
   "source": [
    "%%time\n",
    "clf_pipelineModel = clf_pipeline.fit(train)"
   ]
  },
  {
   "cell_type": "code",
   "execution_count": null,
   "id": "p88hMraHOac9",
   "metadata": {
    "colab": {
     "base_uri": "https://localhost:8080/"
    },
    "id": "p88hMraHOac9",
    "outputId": "4784e4ae-28e7-412a-cd5e-e2f8eae8ca3f"
   },
   "outputs": [
    {
     "name": "stdout",
     "output_type": "stream",
     "text": [
      "Training started - epochs: 30 - learning_rate: 0.001 - batch_size: 64 - training_examples: 21996 - classes: 15\n",
      "Epoch 0/30 - 10.42s - loss: 0.1665569 - acc: 0.95030993 - batches: 344\n",
      "Epoch 1/30 - 7.63s - loss: 0.07149224 - acc: 0.9779483 - batches: 344\n",
      "Epoch 2/30 - 7.72s - loss: 0.060517453 - acc: 0.9815101 - batches: 344\n",
      "Epoch 3/30 - 7.53s - loss: 0.05544292 - acc: 0.9832641 - batches: 344\n",
      "Epoch 4/30 - 7.86s - loss: 0.052485254 - acc: 0.98431796 - batches: 344\n",
      "Epoch 5/30 - 7.43s - loss: 0.050475795 - acc: 0.98490715 - batches: 344\n",
      "Epoch 6/30 - 7.42s - loss: 0.048972927 - acc: 0.985461 - batches: 344\n",
      "Epoch 7/30 - 7.57s - loss: 0.047776755 - acc: 0.98585576 - batches: 344\n",
      "Epoch 8/30 - 7.37s - loss: 0.04678503 - acc: 0.98615783 - batches: 344\n",
      "Epoch 9/30 - 7.50s - loss: 0.045939386 - acc: 0.98650706 - batches: 344\n",
      "Epoch 10/30 - 7.58s - loss: 0.045204334 - acc: 0.9867913 - batches: 344\n",
      "Epoch 11/30 - 7.43s - loss: 0.04455569 - acc: 0.98704356 - batches: 344\n",
      "Epoch 12/30 - 7.65s - loss: 0.043976765 - acc: 0.9872621 - batches: 344\n",
      "Epoch 13/30 - 7.39s - loss: 0.043454666 - acc: 0.98737335 - batches: 344\n",
      "Epoch 14/30 - 7.39s - loss: 0.042981744 - acc: 0.9876222 - batches: 344\n",
      "Epoch 15/30 - 7.38s - loss: 0.042550623 - acc: 0.98778164 - batches: 344\n",
      "Epoch 16/30 - 7.43s - loss: 0.042155296 - acc: 0.9879152 - batches: 344\n",
      "Epoch 17/30 - 7.50s - loss: 0.041790824 - acc: 0.9880244 - batches: 344\n",
      "Epoch 18/30 - 7.53s - loss: 0.04145358 - acc: 0.9881428 - batches: 344\n",
      "Epoch 19/30 - 7.48s - loss: 0.041140236 - acc: 0.9882702 - batches: 344\n",
      "Epoch 20/30 - 7.42s - loss: 0.040848255 - acc: 0.9883432 - batches: 344\n",
      "Epoch 21/30 - 7.42s - loss: 0.040575113 - acc: 0.9884584 - batches: 344\n",
      "Epoch 22/30 - 7.35s - loss: 0.04031884 - acc: 0.98853314 - batches: 344\n",
      "Epoch 23/30 - 7.32s - loss: 0.040077608 - acc: 0.98858774 - batches: 344\n",
      "Epoch 24/30 - 7.24s - loss: 0.039850023 - acc: 0.9887 - batches: 344\n",
      "Epoch 25/30 - 7.32s - loss: 0.039634578 - acc: 0.98876685 - batches: 344\n",
      "Epoch 26/30 - 7.32s - loss: 0.03943023 - acc: 0.9888338 - batches: 344\n",
      "Epoch 27/30 - 7.24s - loss: 0.03923595 - acc: 0.9889068 - batches: 344\n",
      "Epoch 28/30 - 7.26s - loss: 0.0390507 - acc: 0.9889537 - batches: 344\n",
      "Epoch 29/30 - 7.40s - loss: 0.03887371 - acc: 0.98900557 - batches: 344\n",
      "\n"
     ]
    }
   ],
   "source": [
    "import os\n",
    "log_file_name = os.listdir(\"/root/annotator_logs\")[0]\n",
    "\n",
    "with open(\"/root/annotator_logs/\"+log_file_name, \"r\") as log_file :\n",
    "    print(log_file.read())"
   ]
  },
  {
   "cell_type": "code",
   "execution_count": null,
   "id": "cwf0OM2Oy6Hd",
   "metadata": {
    "id": "cwf0OM2Oy6Hd"
   },
   "outputs": [],
   "source": [
    "preds = clf_pipelineModel.transform(test)"
   ]
  },
  {
   "cell_type": "code",
   "execution_count": null,
   "id": "jUKamU-50kZi",
   "metadata": {
    "colab": {
     "base_uri": "https://localhost:8080/",
     "height": 206
    },
    "id": "jUKamU-50kZi",
    "outputId": "b2244ed7-fc19-45a5-d410-495de2f29928"
   },
   "outputs": [
    {
     "data": {
      "text/html": [
       "\n",
       "  <div id=\"df-d2e8a01d-1972-4816-927c-f68e4b16e56f\">\n",
       "    <div class=\"colab-df-container\">\n",
       "      <div>\n",
       "<style scoped>\n",
       "    .dataframe tbody tr th:only-of-type {\n",
       "        vertical-align: middle;\n",
       "    }\n",
       "\n",
       "    .dataframe tbody tr th {\n",
       "        vertical-align: top;\n",
       "    }\n",
       "\n",
       "    .dataframe thead th {\n",
       "        text-align: right;\n",
       "    }\n",
       "</style>\n",
       "<table border=\"1\" class=\"dataframe\">\n",
       "  <thead>\n",
       "    <tr style=\"text-align: right;\">\n",
       "      <th></th>\n",
       "      <th>label</th>\n",
       "      <th>provision</th>\n",
       "      <th>result</th>\n",
       "    </tr>\n",
       "  </thead>\n",
       "  <tbody>\n",
       "    <tr>\n",
       "      <th>0</th>\n",
       "      <td>[warranties]</td>\n",
       "      <td>(A) Seller’s Adjusted Tangible Net Worth is gr...</td>\n",
       "      <td>[]</td>\n",
       "    </tr>\n",
       "    <tr>\n",
       "      <th>1</th>\n",
       "      <td>[notices]</td>\n",
       "      <td>(a) All notices and other communications provi...</td>\n",
       "      <td>[notices]</td>\n",
       "    </tr>\n",
       "    <tr>\n",
       "      <th>2</th>\n",
       "      <td>[representations, warranties]</td>\n",
       "      <td>(a) Each of the Assignor and the Assignee here...</td>\n",
       "      <td>[representations]</td>\n",
       "    </tr>\n",
       "    <tr>\n",
       "      <th>3</th>\n",
       "      <td>[waivers, terminations]</td>\n",
       "      <td>(a) Effective as of the Effective Date, the Ho...</td>\n",
       "      <td>[representations]</td>\n",
       "    </tr>\n",
       "    <tr>\n",
       "      <th>4</th>\n",
       "      <td>[amendments]</td>\n",
       "      <td>(a) No amendment, modification or waiver of an...</td>\n",
       "      <td>[amendments]</td>\n",
       "    </tr>\n",
       "  </tbody>\n",
       "</table>\n",
       "</div>\n",
       "      <button class=\"colab-df-convert\" onclick=\"convertToInteractive('df-d2e8a01d-1972-4816-927c-f68e4b16e56f')\"\n",
       "              title=\"Convert this dataframe to an interactive table.\"\n",
       "              style=\"display:none;\">\n",
       "        \n",
       "  <svg xmlns=\"http://www.w3.org/2000/svg\" height=\"24px\"viewBox=\"0 0 24 24\"\n",
       "       width=\"24px\">\n",
       "    <path d=\"M0 0h24v24H0V0z\" fill=\"none\"/>\n",
       "    <path d=\"M18.56 5.44l.94 2.06.94-2.06 2.06-.94-2.06-.94-.94-2.06-.94 2.06-2.06.94zm-11 1L8.5 8.5l.94-2.06 2.06-.94-2.06-.94L8.5 2.5l-.94 2.06-2.06.94zm10 10l.94 2.06.94-2.06 2.06-.94-2.06-.94-.94-2.06-.94 2.06-2.06.94z\"/><path d=\"M17.41 7.96l-1.37-1.37c-.4-.4-.92-.59-1.43-.59-.52 0-1.04.2-1.43.59L10.3 9.45l-7.72 7.72c-.78.78-.78 2.05 0 2.83L4 21.41c.39.39.9.59 1.41.59.51 0 1.02-.2 1.41-.59l7.78-7.78 2.81-2.81c.8-.78.8-2.07 0-2.86zM5.41 20L4 18.59l7.72-7.72 1.47 1.35L5.41 20z\"/>\n",
       "  </svg>\n",
       "      </button>\n",
       "      \n",
       "  <style>\n",
       "    .colab-df-container {\n",
       "      display:flex;\n",
       "      flex-wrap:wrap;\n",
       "      gap: 12px;\n",
       "    }\n",
       "\n",
       "    .colab-df-convert {\n",
       "      background-color: #E8F0FE;\n",
       "      border: none;\n",
       "      border-radius: 50%;\n",
       "      cursor: pointer;\n",
       "      display: none;\n",
       "      fill: #1967D2;\n",
       "      height: 32px;\n",
       "      padding: 0 0 0 0;\n",
       "      width: 32px;\n",
       "    }\n",
       "\n",
       "    .colab-df-convert:hover {\n",
       "      background-color: #E2EBFA;\n",
       "      box-shadow: 0px 1px 2px rgba(60, 64, 67, 0.3), 0px 1px 3px 1px rgba(60, 64, 67, 0.15);\n",
       "      fill: #174EA6;\n",
       "    }\n",
       "\n",
       "    [theme=dark] .colab-df-convert {\n",
       "      background-color: #3B4455;\n",
       "      fill: #D2E3FC;\n",
       "    }\n",
       "\n",
       "    [theme=dark] .colab-df-convert:hover {\n",
       "      background-color: #434B5C;\n",
       "      box-shadow: 0px 1px 3px 1px rgba(0, 0, 0, 0.15);\n",
       "      filter: drop-shadow(0px 1px 2px rgba(0, 0, 0, 0.3));\n",
       "      fill: #FFFFFF;\n",
       "    }\n",
       "  </style>\n",
       "\n",
       "      <script>\n",
       "        const buttonEl =\n",
       "          document.querySelector('#df-d2e8a01d-1972-4816-927c-f68e4b16e56f button.colab-df-convert');\n",
       "        buttonEl.style.display =\n",
       "          google.colab.kernel.accessAllowed ? 'block' : 'none';\n",
       "\n",
       "        async function convertToInteractive(key) {\n",
       "          const element = document.querySelector('#df-d2e8a01d-1972-4816-927c-f68e4b16e56f');\n",
       "          const dataTable =\n",
       "            await google.colab.kernel.invokeFunction('convertToInteractive',\n",
       "                                                     [key], {});\n",
       "          if (!dataTable) return;\n",
       "\n",
       "          const docLinkHtml = 'Like what you see? Visit the ' +\n",
       "            '<a target=\"_blank\" href=https://colab.research.google.com/notebooks/data_table.ipynb>data table notebook</a>'\n",
       "            + ' to learn more about interactive tables.';\n",
       "          element.innerHTML = '';\n",
       "          dataTable['output_type'] = 'display_data';\n",
       "          await google.colab.output.renderOutput(dataTable, element);\n",
       "          const docLink = document.createElement('div');\n",
       "          docLink.innerHTML = docLinkHtml;\n",
       "          element.appendChild(docLink);\n",
       "        }\n",
       "      </script>\n",
       "    </div>\n",
       "  </div>\n",
       "  "
      ],
      "text/plain": [
       "                           label  \\\n",
       "0                   [warranties]   \n",
       "1                      [notices]   \n",
       "2  [representations, warranties]   \n",
       "3        [waivers, terminations]   \n",
       "4                   [amendments]   \n",
       "\n",
       "                                           provision             result  \n",
       "0  (A) Seller’s Adjusted Tangible Net Worth is gr...                 []  \n",
       "1  (a) All notices and other communications provi...          [notices]  \n",
       "2  (a) Each of the Assignor and the Assignee here...  [representations]  \n",
       "3  (a) Effective as of the Effective Date, the Ho...  [representations]  \n",
       "4  (a) No amendment, modification or waiver of an...       [amendments]  "
      ]
     },
     "execution_count": 11,
     "metadata": {},
     "output_type": "execute_result"
    }
   ],
   "source": [
    "preds_df = preds.select('label','provision',\"class.result\").toPandas()\n",
    "preds_df.head()"
   ]
  },
  {
   "cell_type": "code",
   "execution_count": null,
   "outputs": [],
   "source": [
    "!pip install scikit-learn"
   ],
   "metadata": {
    "collapsed": false
   }
  },
  {
   "cell_type": "code",
   "execution_count": null,
   "id": "GGIRz-xtaY82",
   "metadata": {
    "colab": {
     "base_uri": "https://localhost:8080/"
    },
    "id": "GGIRz-xtaY82",
    "outputId": "fb6665eb-c758-437b-96cc-06972f5b6265"
   },
   "outputs": [
    {
     "name": "stdout",
     "output_type": "stream",
     "text": [
      "Classification report: \n",
      "               precision    recall  f1-score   support\n",
      "\n",
      "           0       0.89      0.80      0.84       667\n",
      "           1       0.87      0.44      0.58       238\n",
      "           2       0.78      0.75      0.77       347\n",
      "           3       0.99      0.98      0.99       558\n",
      "           4       0.96      0.92      0.94       613\n",
      "           5       0.98      0.95      0.97       240\n",
      "           6       0.99      0.98      0.99       757\n",
      "           7       0.98      0.94      0.96       604\n",
      "           8       0.88      0.76      0.81       284\n",
      "           9       0.98      0.95      0.96       514\n",
      "          10       0.84      0.87      0.86       418\n",
      "          11       0.93      0.89      0.91       319\n",
      "          12       0.93      0.73      0.81       275\n",
      "          13       0.88      0.75      0.81       445\n",
      "          14       0.82      0.67      0.74       237\n",
      "\n",
      "   micro avg       0.93      0.86      0.89      6516\n",
      "   macro avg       0.91      0.83      0.86      6516\n",
      "weighted avg       0.93      0.86      0.89      6516\n",
      " samples avg       0.88      0.87      0.87      6516\n",
      "\n",
      "F1 micro averaging: 0.8926833160456394\n",
      "ROC:  0.926484524029513\n"
     ]
    }
   ],
   "source": [
    "from sklearn.preprocessing import MultiLabelBinarizer\n",
    "from sklearn.metrics import classification_report\n",
    "from sklearn.metrics import f1_score\n",
    "from sklearn.metrics import roc_auc_score\n",
    "\n",
    "mlb = MultiLabelBinarizer()\n",
    "\n",
    "y_true = mlb.fit_transform(preds_df['label'])\n",
    "y_pred = mlb.fit_transform(preds_df['result'])\n",
    "\n",
    "\n",
    "print(\"Classification report: \\n\", (classification_report(y_true, y_pred)))\n",
    "print(\"F1 micro averaging:\",(f1_score(y_true, y_pred, average='micro')))\n",
    "print(\"ROC: \",(roc_auc_score(y_true, y_pred, average=\"micro\")))\n"
   ]
  },
  {
   "cell_type": "markdown",
   "id": "jWhU1pMUay0I",
   "metadata": {
    "id": "jWhU1pMUay0I"
   },
   "source": [
    "## With RoBerta Embeddings"
   ]
  },
  {
   "cell_type": "markdown",
   "id": "bHVFY_i4H5Gh",
   "metadata": {
    "id": "bHVFY_i4H5Gh"
   },
   "source": [
    "We do not have have any specific Legal Sentence Embeddings, but we can use Legal RoBerta Embeddings and then average them."
   ]
  },
  {
   "cell_type": "code",
   "execution_count": null,
   "id": "8PG4NNyQdBnG",
   "metadata": {
    "colab": {
     "base_uri": "https://localhost:8080/"
    },
    "id": "8PG4NNyQdBnG",
    "outputId": "ab7a2401-5336-4be4-ddd5-82279776db65"
   },
   "outputs": [
    {
     "name": "stdout",
     "output_type": "stream",
     "text": [
      "roberta_embeddings_legal_roberta_base download started this may take some time.\n",
      "Approximate size to download 447.2 MB\n",
      "[OK!]\n"
     ]
    }
   ],
   "source": [
    "embeddings = nlp.RoBertaEmbeddings.pretrained(\"roberta_embeddings_legal_roberta_base\",\"en\") \\\n",
    "    .setInputCols([\"document\", \"token\"]) \\\n",
    "    .setOutputCol(\"embeddings\") \\\n",
    "    .setMaxSentenceLength(512)"
   ]
  },
  {
   "cell_type": "code",
   "execution_count": null,
   "id": "zdiCyuc3dBnJ",
   "metadata": {
    "id": "zdiCyuc3dBnJ"
   },
   "outputs": [],
   "source": [
    "document_assembler = nlp.DocumentAssembler() \\\n",
    "    .setInputCol(\"provision\") \\\n",
    "    .setOutputCol(\"document\")\n",
    "\n",
    "tokenizer = nlp.Tokenizer() \\\n",
    "    .setInputCols([\"document\"]) \\\n",
    "    .setOutputCol(\"token\")\n",
    "\n",
    "embeddingsSentence = nlp.SentenceEmbeddings() \\\n",
    "    .setInputCols([\"document\", \"embeddings\"]) \\\n",
    "    .setOutputCol(\"sentence_embeddings\") \\\n",
    "    .setPoolingStrategy(\"AVERAGE\")\n",
    "\n",
    "classsifierdl = nlp.MultiClassifierDLApproach() \\\n",
    "    .setInputCols([\"sentence_embeddings\"]) \\\n",
    "    .setOutputCol(\"class\") \\\n",
    "    .setLabelColumn(\"label\")\\\n",
    "    .setMaxEpochs(6)\\\n",
    "    .setEnableOutputLogs(True)\n",
    "\n",
    "clf_pipeline = nlp.Pipeline(\n",
    "    stages = [\n",
    "        document_assembler,\n",
    "        tokenizer,\n",
    "        embeddings,\n",
    "        embeddingsSentence,\n",
    "        classsifierdl\n",
    "    ])"
   ]
  },
  {
   "cell_type": "code",
   "execution_count": null,
   "id": "7fxOmkTNdBnK",
   "metadata": {
    "colab": {
     "base_uri": "https://localhost:8080/"
    },
    "id": "7fxOmkTNdBnK",
    "outputId": "b0a9148b-5b4c-4569-a2a8-c6e723d6c9b8"
   },
   "outputs": [
    {
     "name": "stdout",
     "output_type": "stream",
     "text": [
      "CPU times: user 43.5 s, sys: 3.36 s, total: 46.9 s\n",
      "Wall time: 4h 32min 14s\n"
     ]
    }
   ],
   "source": [
    "%%time\n",
    "clf_pipelineModel = clf_pipeline.fit(train)"
   ]
  },
  {
   "cell_type": "code",
   "execution_count": null,
   "id": "Y-YfOWrudBnM",
   "metadata": {
    "id": "Y-YfOWrudBnM"
   },
   "outputs": [],
   "source": [
    "preds = clf_pipelineModel.transform(test)"
   ]
  },
  {
   "cell_type": "code",
   "execution_count": null,
   "id": "9VfIUz3IdBnN",
   "metadata": {
    "id": "9VfIUz3IdBnN"
   },
   "outputs": [],
   "source": [
    "preds_df = preds.select('provision','label',\"class.result\").toPandas()"
   ]
  },
  {
   "cell_type": "code",
   "execution_count": null,
   "id": "6KE4YTX9SYAs",
   "metadata": {
    "colab": {
     "base_uri": "https://localhost:8080/",
     "height": 206
    },
    "id": "6KE4YTX9SYAs",
    "outputId": "92d0c44d-9c4e-4c9f-e016-20b94cb03aca"
   },
   "outputs": [
    {
     "data": {
      "text/html": [
       "\n",
       "  <div id=\"df-ba403417-af58-46c5-837e-d941e35e8dde\">\n",
       "    <div class=\"colab-df-container\">\n",
       "      <div>\n",
       "<style scoped>\n",
       "    .dataframe tbody tr th:only-of-type {\n",
       "        vertical-align: middle;\n",
       "    }\n",
       "\n",
       "    .dataframe tbody tr th {\n",
       "        vertical-align: top;\n",
       "    }\n",
       "\n",
       "    .dataframe thead th {\n",
       "        text-align: right;\n",
       "    }\n",
       "</style>\n",
       "<table border=\"1\" class=\"dataframe\">\n",
       "  <thead>\n",
       "    <tr style=\"text-align: right;\">\n",
       "      <th></th>\n",
       "      <th>provision</th>\n",
       "      <th>label</th>\n",
       "      <th>result</th>\n",
       "    </tr>\n",
       "  </thead>\n",
       "  <tbody>\n",
       "    <tr>\n",
       "      <th>0</th>\n",
       "      <td>(a) Effective as of the Effective Date, the Ho...</td>\n",
       "      <td>[waivers, terminations]</td>\n",
       "      <td>[terminations]</td>\n",
       "    </tr>\n",
       "    <tr>\n",
       "      <th>1</th>\n",
       "      <td>(a) No failure or delay by the Administrative ...</td>\n",
       "      <td>[waivers, amendments]</td>\n",
       "      <td>[waivers, amendments]</td>\n",
       "    </tr>\n",
       "    <tr>\n",
       "      <th>2</th>\n",
       "      <td>(a) No failure or delay on the part of any par...</td>\n",
       "      <td>[waivers, amendments]</td>\n",
       "      <td>[waivers]</td>\n",
       "    </tr>\n",
       "    <tr>\n",
       "      <th>3</th>\n",
       "      <td>(a) Seller, the Agent, each Managing Agent, ea...</td>\n",
       "      <td>[assignments]</td>\n",
       "      <td>[assignments]</td>\n",
       "    </tr>\n",
       "    <tr>\n",
       "      <th>4</th>\n",
       "      <td>(a) The provisions of this Agreement shall be ...</td>\n",
       "      <td>[assigns, successors]</td>\n",
       "      <td>[successors, assigns]</td>\n",
       "    </tr>\n",
       "  </tbody>\n",
       "</table>\n",
       "</div>\n",
       "      <button class=\"colab-df-convert\" onclick=\"convertToInteractive('df-ba403417-af58-46c5-837e-d941e35e8dde')\"\n",
       "              title=\"Convert this dataframe to an interactive table.\"\n",
       "              style=\"display:none;\">\n",
       "        \n",
       "  <svg xmlns=\"http://www.w3.org/2000/svg\" height=\"24px\"viewBox=\"0 0 24 24\"\n",
       "       width=\"24px\">\n",
       "    <path d=\"M0 0h24v24H0V0z\" fill=\"none\"/>\n",
       "    <path d=\"M18.56 5.44l.94 2.06.94-2.06 2.06-.94-2.06-.94-.94-2.06-.94 2.06-2.06.94zm-11 1L8.5 8.5l.94-2.06 2.06-.94-2.06-.94L8.5 2.5l-.94 2.06-2.06.94zm10 10l.94 2.06.94-2.06 2.06-.94-2.06-.94-.94-2.06-.94 2.06-2.06.94z\"/><path d=\"M17.41 7.96l-1.37-1.37c-.4-.4-.92-.59-1.43-.59-.52 0-1.04.2-1.43.59L10.3 9.45l-7.72 7.72c-.78.78-.78 2.05 0 2.83L4 21.41c.39.39.9.59 1.41.59.51 0 1.02-.2 1.41-.59l7.78-7.78 2.81-2.81c.8-.78.8-2.07 0-2.86zM5.41 20L4 18.59l7.72-7.72 1.47 1.35L5.41 20z\"/>\n",
       "  </svg>\n",
       "      </button>\n",
       "      \n",
       "  <style>\n",
       "    .colab-df-container {\n",
       "      display:flex;\n",
       "      flex-wrap:wrap;\n",
       "      gap: 12px;\n",
       "    }\n",
       "\n",
       "    .colab-df-convert {\n",
       "      background-color: #E8F0FE;\n",
       "      border: none;\n",
       "      border-radius: 50%;\n",
       "      cursor: pointer;\n",
       "      display: none;\n",
       "      fill: #1967D2;\n",
       "      height: 32px;\n",
       "      padding: 0 0 0 0;\n",
       "      width: 32px;\n",
       "    }\n",
       "\n",
       "    .colab-df-convert:hover {\n",
       "      background-color: #E2EBFA;\n",
       "      box-shadow: 0px 1px 2px rgba(60, 64, 67, 0.3), 0px 1px 3px 1px rgba(60, 64, 67, 0.15);\n",
       "      fill: #174EA6;\n",
       "    }\n",
       "\n",
       "    [theme=dark] .colab-df-convert {\n",
       "      background-color: #3B4455;\n",
       "      fill: #D2E3FC;\n",
       "    }\n",
       "\n",
       "    [theme=dark] .colab-df-convert:hover {\n",
       "      background-color: #434B5C;\n",
       "      box-shadow: 0px 1px 3px 1px rgba(0, 0, 0, 0.15);\n",
       "      filter: drop-shadow(0px 1px 2px rgba(0, 0, 0, 0.3));\n",
       "      fill: #FFFFFF;\n",
       "    }\n",
       "  </style>\n",
       "\n",
       "      <script>\n",
       "        const buttonEl =\n",
       "          document.querySelector('#df-ba403417-af58-46c5-837e-d941e35e8dde button.colab-df-convert');\n",
       "        buttonEl.style.display =\n",
       "          google.colab.kernel.accessAllowed ? 'block' : 'none';\n",
       "\n",
       "        async function convertToInteractive(key) {\n",
       "          const element = document.querySelector('#df-ba403417-af58-46c5-837e-d941e35e8dde');\n",
       "          const dataTable =\n",
       "            await google.colab.kernel.invokeFunction('convertToInteractive',\n",
       "                                                     [key], {});\n",
       "          if (!dataTable) return;\n",
       "\n",
       "          const docLinkHtml = 'Like what you see? Visit the ' +\n",
       "            '<a target=\"_blank\" href=https://colab.research.google.com/notebooks/data_table.ipynb>data table notebook</a>'\n",
       "            + ' to learn more about interactive tables.';\n",
       "          element.innerHTML = '';\n",
       "          dataTable['output_type'] = 'display_data';\n",
       "          await google.colab.output.renderOutput(dataTable, element);\n",
       "          const docLink = document.createElement('div');\n",
       "          docLink.innerHTML = docLinkHtml;\n",
       "          element.appendChild(docLink);\n",
       "        }\n",
       "      </script>\n",
       "    </div>\n",
       "  </div>\n",
       "  "
      ],
      "text/plain": [
       "                                           provision                    label  \\\n",
       "0  (a) Effective as of the Effective Date, the Ho...  [waivers, terminations]   \n",
       "1  (a) No failure or delay by the Administrative ...    [waivers, amendments]   \n",
       "2  (a) No failure or delay on the part of any par...    [waivers, amendments]   \n",
       "3  (a) Seller, the Agent, each Managing Agent, ea...            [assignments]   \n",
       "4  (a) The provisions of this Agreement shall be ...    [assigns, successors]   \n",
       "\n",
       "                  result  \n",
       "0         [terminations]  \n",
       "1  [waivers, amendments]  \n",
       "2              [waivers]  \n",
       "3          [assignments]  \n",
       "4  [successors, assigns]  "
      ]
     },
     "execution_count": 20,
     "metadata": {},
     "output_type": "execute_result"
    }
   ],
   "source": [
    "preds_df.head()"
   ]
  },
  {
   "cell_type": "code",
   "execution_count": null,
   "id": "HkzBERAHSP5j",
   "metadata": {
    "colab": {
     "base_uri": "https://localhost:8080/"
    },
    "id": "HkzBERAHSP5j",
    "outputId": "38cef73d-cc46-4ca8-bfdc-01cadf7547e2"
   },
   "outputs": [
    {
     "name": "stdout",
     "output_type": "stream",
     "text": [
      "Training started - epochs: 6 - learning_rate: 0.001 - batch_size: 64 - training_examples: 22042 - classes: 15\n",
      "Epoch 0/6 - 6.60s - loss: 0.096051626 - acc: 0.9705064 - batches: 345\n",
      "Epoch 1/6 - 4.51s - loss: 0.039551556 - acc: 0.98879695 - batches: 345\n",
      "Epoch 2/6 - 4.74s - loss: 0.03486474 - acc: 0.9903383 - batches: 345\n",
      "Epoch 3/6 - 4.52s - loss: 0.0321748 - acc: 0.99127585 - batches: 345\n",
      "Epoch 4/6 - 4.64s - loss: 0.030249653 - acc: 0.99202967 - batches: 345\n",
      "Epoch 5/6 - 4.48s - loss: 0.028734822 - acc: 0.9925955 - batches: 345\n",
      "\n"
     ]
    }
   ],
   "source": [
    "import os\n",
    "log_file_name = os.listdir(\"/root/annotator_logs\")[0]\n",
    "\n",
    "with open(\"/root/annotator_logs/\"+log_file_name, \"r\") as log_file :\n",
    "    print(log_file.read())"
   ]
  },
  {
   "cell_type": "code",
   "execution_count": null,
   "id": "GJKWrIpOYLW_",
   "metadata": {
    "colab": {
     "base_uri": "https://localhost:8080/"
    },
    "id": "GJKWrIpOYLW_",
    "outputId": "42e1aa50-6fb9-45aa-fcf9-95bc8da4bb2d"
   },
   "outputs": [
    {
     "name": "stdout",
     "output_type": "stream",
     "text": [
      "Classification report: \n",
      "               precision    recall  f1-score   support\n",
      "\n",
      "           0       0.89      0.88      0.89       618\n",
      "           1       0.84      0.55      0.66       198\n",
      "           2       0.88      0.70      0.78       302\n",
      "           3       0.99      0.99      0.99       587\n",
      "           4       0.99      0.96      0.98       675\n",
      "           5       0.98      0.94      0.96       228\n",
      "           6       0.99      0.99      0.99       784\n",
      "           7       0.99      0.97      0.98       574\n",
      "           8       0.92      0.91      0.92       291\n",
      "           9       0.98      0.97      0.98       531\n",
      "          10       0.89      0.84      0.86       361\n",
      "          11       0.93      0.95      0.94       329\n",
      "          12       0.93      0.83      0.88       272\n",
      "          13       0.95      0.76      0.84       460\n",
      "          14       0.86      0.85      0.86       227\n",
      "\n",
      "   micro avg       0.95      0.90      0.93      6437\n",
      "   macro avg       0.94      0.87      0.90      6437\n",
      "weighted avg       0.95      0.90      0.92      6437\n",
      " samples avg       0.93      0.92      0.92      6437\n",
      "\n",
      "F1 micro averaging: 0.9264014033968583\n",
      "ROC:  0.9492745769383905\n"
     ]
    }
   ],
   "source": [
    "from sklearn.preprocessing import MultiLabelBinarizer\n",
    "from sklearn.metrics import classification_report\n",
    "from sklearn.metrics import f1_score\n",
    "from sklearn.metrics import roc_auc_score\n",
    "\n",
    "mlb = MultiLabelBinarizer()\n",
    "\n",
    "y_true = mlb.fit_transform(preds_df['label'])\n",
    "y_pred = mlb.fit_transform(preds_df['result'])\n",
    "\n",
    "\n",
    "print(\"Classification report: \\n\", (classification_report(y_true, y_pred)))\n",
    "print(\"F1 micro averaging:\",(f1_score(y_true, y_pred, average='micro')))\n",
    "print(\"ROC: \",(roc_auc_score(y_true, y_pred, average=\"micro\")))\n"
   ]
  },
  {
   "cell_type": "markdown",
   "id": "Zsap0xaejFCX",
   "metadata": {
    "id": "Zsap0xaejFCX"
   },
   "source": [
    "### Saving & loading back the trained model"
   ]
  },
  {
   "cell_type": "code",
   "execution_count": null,
   "id": "BQoJ_DHSjFCX",
   "metadata": {
    "colab": {
     "base_uri": "https://localhost:8080/"
    },
    "id": "BQoJ_DHSjFCX",
    "outputId": "96086e70-bc58-487a-8bfa-cf85146dd375"
   },
   "outputs": [
    {
     "data": {
      "text/plain": [
       "[DocumentAssembler_780bc9de15fd,\n",
       " REGEX_TOKENIZER_bfe4fc10a34e,\n",
       " ROBERTA_EMBEDDINGS_b915dff90901,\n",
       " SentenceEmbeddings_eeb0599d4c1e,\n",
       " MultiClassifierDLModel_dead500df5dd]"
      ]
     },
     "execution_count": 23,
     "metadata": {},
     "output_type": "execute_result"
    }
   ],
   "source": [
    "clf_pipelineModel.stages"
   ]
  },
  {
   "cell_type": "code",
   "execution_count": null,
   "id": "3hKjHocZjFCY",
   "metadata": {
    "id": "3hKjHocZjFCY"
   },
   "outputs": [],
   "source": [
    "clf_pipelineModel.stages[-1].write().overwrite().save('MultilabelClfRoBerta')"
   ]
  },
  {
   "cell_type": "code",
   "execution_count": null,
   "id": "cXtTavvVjFCY",
   "metadata": {
    "id": "cXtTavvVjFCY"
   },
   "outputs": [],
   "source": [
    "# Load back  saved Multilabel Classifier Model\n",
    "MultilabelClfModel = nlp.MultiClassifierDLModel.load('MultilabelClfRoBerta')"
   ]
  },
  {
   "cell_type": "code",
   "execution_count": null,
   "id": "sxWzLYSgjFCY",
   "metadata": {
    "id": "sxWzLYSgjFCY"
   },
   "outputs": [],
   "source": [
    "ld_pipeline = nlp.Pipeline(stages=[document_assembler, tokenizer, embeddings, embeddingsSentence, MultilabelClfModel])\n",
    "ld_pipeline_model = ld_pipeline.fit(spark.createDataFrame([['']]).toDF(\"provision\"))"
   ]
  },
  {
   "cell_type": "code",
   "execution_count": null,
   "id": "FKe7kDccjFCY",
   "metadata": {
    "id": "FKe7kDccjFCY"
   },
   "outputs": [],
   "source": [
    "# Apply Model Transform to testData\n",
    "ld_preds = ld_pipeline_model.transform(test)"
   ]
  },
  {
   "cell_type": "code",
   "execution_count": null,
   "id": "pnZwf9MejFCY",
   "metadata": {
    "id": "pnZwf9MejFCY"
   },
   "outputs": [],
   "source": [
    "ld_preds_df = ld_preds.select('provision','label',\"class.result\").toPandas()"
   ]
  },
  {
   "cell_type": "code",
   "execution_count": null,
   "id": "rWarQRPBjFCZ",
   "metadata": {
    "colab": {
     "base_uri": "https://localhost:8080/",
     "height": 363
    },
    "id": "rWarQRPBjFCZ",
    "outputId": "367de4f1-2733-4355-8cda-2f8d9b1eaf0b"
   },
   "outputs": [
    {
     "data": {
      "text/html": [
       "\n",
       "  <div id=\"df-b5e4e2b5-21a8-4cf1-b97a-c14e3c1d5089\">\n",
       "    <div class=\"colab-df-container\">\n",
       "      <div>\n",
       "<style scoped>\n",
       "    .dataframe tbody tr th:only-of-type {\n",
       "        vertical-align: middle;\n",
       "    }\n",
       "\n",
       "    .dataframe tbody tr th {\n",
       "        vertical-align: top;\n",
       "    }\n",
       "\n",
       "    .dataframe thead th {\n",
       "        text-align: right;\n",
       "    }\n",
       "</style>\n",
       "<table border=\"1\" class=\"dataframe\">\n",
       "  <thead>\n",
       "    <tr style=\"text-align: right;\">\n",
       "      <th></th>\n",
       "      <th>provision</th>\n",
       "      <th>label</th>\n",
       "      <th>result</th>\n",
       "    </tr>\n",
       "  </thead>\n",
       "  <tbody>\n",
       "    <tr>\n",
       "      <th>0</th>\n",
       "      <td>(a) Effective as of the Effective Date, the Ho...</td>\n",
       "      <td>[waivers, terminations]</td>\n",
       "      <td>[terminations]</td>\n",
       "    </tr>\n",
       "    <tr>\n",
       "      <th>1</th>\n",
       "      <td>(a) No failure or delay by the Administrative ...</td>\n",
       "      <td>[waivers, amendments]</td>\n",
       "      <td>[waivers, amendments]</td>\n",
       "    </tr>\n",
       "    <tr>\n",
       "      <th>2</th>\n",
       "      <td>(a) No failure or delay on the part of any par...</td>\n",
       "      <td>[waivers, amendments]</td>\n",
       "      <td>[waivers]</td>\n",
       "    </tr>\n",
       "    <tr>\n",
       "      <th>3</th>\n",
       "      <td>(a) Seller, the Agent, each Managing Agent, ea...</td>\n",
       "      <td>[assignments]</td>\n",
       "      <td>[assignments]</td>\n",
       "    </tr>\n",
       "    <tr>\n",
       "      <th>4</th>\n",
       "      <td>(a) The provisions of this Agreement shall be ...</td>\n",
       "      <td>[assigns, successors]</td>\n",
       "      <td>[successors, assigns]</td>\n",
       "    </tr>\n",
       "    <tr>\n",
       "      <th>5</th>\n",
       "      <td>(a)  No failure or delay of the Administrative...</td>\n",
       "      <td>[waivers, amendments]</td>\n",
       "      <td>[waivers, amendments]</td>\n",
       "    </tr>\n",
       "    <tr>\n",
       "      <th>6</th>\n",
       "      <td>(a) All of the representations and warranties ...</td>\n",
       "      <td>[representations, warranties]</td>\n",
       "      <td>[warranties, representations]</td>\n",
       "    </tr>\n",
       "    <tr>\n",
       "      <th>7</th>\n",
       "      <td>(a) Any Lender may at any time assign to one o...</td>\n",
       "      <td>[assignments]</td>\n",
       "      <td>[]</td>\n",
       "    </tr>\n",
       "    <tr>\n",
       "      <th>8</th>\n",
       "      <td>(a) Each of the Borrower and the Parent hereby...</td>\n",
       "      <td>[representations, warranties]</td>\n",
       "      <td>[warranties, representations]</td>\n",
       "    </tr>\n",
       "    <tr>\n",
       "      <th>9</th>\n",
       "      <td>(a) Except as otherwise expressly provided her...</td>\n",
       "      <td>[notices]</td>\n",
       "      <td>[notices]</td>\n",
       "    </tr>\n",
       "  </tbody>\n",
       "</table>\n",
       "</div>\n",
       "      <button class=\"colab-df-convert\" onclick=\"convertToInteractive('df-b5e4e2b5-21a8-4cf1-b97a-c14e3c1d5089')\"\n",
       "              title=\"Convert this dataframe to an interactive table.\"\n",
       "              style=\"display:none;\">\n",
       "        \n",
       "  <svg xmlns=\"http://www.w3.org/2000/svg\" height=\"24px\"viewBox=\"0 0 24 24\"\n",
       "       width=\"24px\">\n",
       "    <path d=\"M0 0h24v24H0V0z\" fill=\"none\"/>\n",
       "    <path d=\"M18.56 5.44l.94 2.06.94-2.06 2.06-.94-2.06-.94-.94-2.06-.94 2.06-2.06.94zm-11 1L8.5 8.5l.94-2.06 2.06-.94-2.06-.94L8.5 2.5l-.94 2.06-2.06.94zm10 10l.94 2.06.94-2.06 2.06-.94-2.06-.94-.94-2.06-.94 2.06-2.06.94z\"/><path d=\"M17.41 7.96l-1.37-1.37c-.4-.4-.92-.59-1.43-.59-.52 0-1.04.2-1.43.59L10.3 9.45l-7.72 7.72c-.78.78-.78 2.05 0 2.83L4 21.41c.39.39.9.59 1.41.59.51 0 1.02-.2 1.41-.59l7.78-7.78 2.81-2.81c.8-.78.8-2.07 0-2.86zM5.41 20L4 18.59l7.72-7.72 1.47 1.35L5.41 20z\"/>\n",
       "  </svg>\n",
       "      </button>\n",
       "      \n",
       "  <style>\n",
       "    .colab-df-container {\n",
       "      display:flex;\n",
       "      flex-wrap:wrap;\n",
       "      gap: 12px;\n",
       "    }\n",
       "\n",
       "    .colab-df-convert {\n",
       "      background-color: #E8F0FE;\n",
       "      border: none;\n",
       "      border-radius: 50%;\n",
       "      cursor: pointer;\n",
       "      display: none;\n",
       "      fill: #1967D2;\n",
       "      height: 32px;\n",
       "      padding: 0 0 0 0;\n",
       "      width: 32px;\n",
       "    }\n",
       "\n",
       "    .colab-df-convert:hover {\n",
       "      background-color: #E2EBFA;\n",
       "      box-shadow: 0px 1px 2px rgba(60, 64, 67, 0.3), 0px 1px 3px 1px rgba(60, 64, 67, 0.15);\n",
       "      fill: #174EA6;\n",
       "    }\n",
       "\n",
       "    [theme=dark] .colab-df-convert {\n",
       "      background-color: #3B4455;\n",
       "      fill: #D2E3FC;\n",
       "    }\n",
       "\n",
       "    [theme=dark] .colab-df-convert:hover {\n",
       "      background-color: #434B5C;\n",
       "      box-shadow: 0px 1px 3px 1px rgba(0, 0, 0, 0.15);\n",
       "      filter: drop-shadow(0px 1px 2px rgba(0, 0, 0, 0.3));\n",
       "      fill: #FFFFFF;\n",
       "    }\n",
       "  </style>\n",
       "\n",
       "      <script>\n",
       "        const buttonEl =\n",
       "          document.querySelector('#df-b5e4e2b5-21a8-4cf1-b97a-c14e3c1d5089 button.colab-df-convert');\n",
       "        buttonEl.style.display =\n",
       "          google.colab.kernel.accessAllowed ? 'block' : 'none';\n",
       "\n",
       "        async function convertToInteractive(key) {\n",
       "          const element = document.querySelector('#df-b5e4e2b5-21a8-4cf1-b97a-c14e3c1d5089');\n",
       "          const dataTable =\n",
       "            await google.colab.kernel.invokeFunction('convertToInteractive',\n",
       "                                                     [key], {});\n",
       "          if (!dataTable) return;\n",
       "\n",
       "          const docLinkHtml = 'Like what you see? Visit the ' +\n",
       "            '<a target=\"_blank\" href=https://colab.research.google.com/notebooks/data_table.ipynb>data table notebook</a>'\n",
       "            + ' to learn more about interactive tables.';\n",
       "          element.innerHTML = '';\n",
       "          dataTable['output_type'] = 'display_data';\n",
       "          await google.colab.output.renderOutput(dataTable, element);\n",
       "          const docLink = document.createElement('div');\n",
       "          docLink.innerHTML = docLinkHtml;\n",
       "          element.appendChild(docLink);\n",
       "        }\n",
       "      </script>\n",
       "    </div>\n",
       "  </div>\n",
       "  "
      ],
      "text/plain": [
       "                                           provision  \\\n",
       "0  (a) Effective as of the Effective Date, the Ho...   \n",
       "1  (a) No failure or delay by the Administrative ...   \n",
       "2  (a) No failure or delay on the part of any par...   \n",
       "3  (a) Seller, the Agent, each Managing Agent, ea...   \n",
       "4  (a) The provisions of this Agreement shall be ...   \n",
       "5  (a)  No failure or delay of the Administrative...   \n",
       "6  (a) All of the representations and warranties ...   \n",
       "7  (a) Any Lender may at any time assign to one o...   \n",
       "8  (a) Each of the Borrower and the Parent hereby...   \n",
       "9  (a) Except as otherwise expressly provided her...   \n",
       "\n",
       "                           label                         result  \n",
       "0        [waivers, terminations]                 [terminations]  \n",
       "1          [waivers, amendments]          [waivers, amendments]  \n",
       "2          [waivers, amendments]                      [waivers]  \n",
       "3                  [assignments]                  [assignments]  \n",
       "4          [assigns, successors]          [successors, assigns]  \n",
       "5          [waivers, amendments]          [waivers, amendments]  \n",
       "6  [representations, warranties]  [warranties, representations]  \n",
       "7                  [assignments]                             []  \n",
       "8  [representations, warranties]  [warranties, representations]  \n",
       "9                      [notices]                      [notices]  "
      ]
     },
     "execution_count": 29,
     "metadata": {},
     "output_type": "execute_result"
    }
   ],
   "source": [
    "ld_preds_df.head(10)"
   ]
  },
  {
   "cell_type": "markdown",
   "id": "OxcsSYj_wA0p",
   "metadata": {
    "id": "OxcsSYj_wA0p"
   },
   "source": [
    "# Multiclass classifier training"
   ]
  },
  {
   "cell_type": "markdown",
   "id": "5qFM3Zueb50G",
   "metadata": {
    "id": "5qFM3Zueb50G"
   },
   "source": [
    "## Loading the data"
   ]
  },
  {
   "cell_type": "code",
   "execution_count": null,
   "id": "NcP97dzbM7yn",
   "metadata": {
    "id": "NcP97dzbM7yn"
   },
   "outputs": [],
   "source": [
    "! wget -q https://raw.githubusercontent.com/JohnSnowLabs/spark-nlp-workshop/master/tutorials/Certification_Trainings/Legal/data/finance_clf_data.csv"
   ]
  },
  {
   "cell_type": "code",
   "execution_count": null,
   "id": "FtXdRXNEb50G",
   "metadata": {
    "id": "FtXdRXNEb50G"
   },
   "outputs": [],
   "source": [
    "import pandas as pd\n",
    "df = pd.read_csv('/content/finance_clf_data.csv')"
   ]
  },
  {
   "cell_type": "code",
   "execution_count": null,
   "id": "SWqOIj_pfEU5",
   "metadata": {
    "colab": {
     "base_uri": "https://localhost:8080/",
     "height": 206
    },
    "id": "SWqOIj_pfEU5",
    "outputId": "2af839ae-f563-41d1-e072-87acce5fa6eb"
   },
   "outputs": [
    {
     "data": {
      "text/html": [
       "\n",
       "  <div id=\"df-a0653863-63d8-43e6-829a-96992606e73c\">\n",
       "    <div class=\"colab-df-container\">\n",
       "      <div>\n",
       "<style scoped>\n",
       "    .dataframe tbody tr th:only-of-type {\n",
       "        vertical-align: middle;\n",
       "    }\n",
       "\n",
       "    .dataframe tbody tr th {\n",
       "        vertical-align: top;\n",
       "    }\n",
       "\n",
       "    .dataframe thead th {\n",
       "        text-align: right;\n",
       "    }\n",
       "</style>\n",
       "<table border=\"1\" class=\"dataframe\">\n",
       "  <thead>\n",
       "    <tr style=\"text-align: right;\">\n",
       "      <th></th>\n",
       "      <th>text</th>\n",
       "      <th>label</th>\n",
       "      <th>len</th>\n",
       "    </tr>\n",
       "  </thead>\n",
       "  <tbody>\n",
       "    <tr>\n",
       "      <th>0</th>\n",
       "      <td>\\nOperating\\nLeases\\n \\nOn\\nJanuary 1 2010 th...</td>\n",
       "      <td>financial_statements</td>\n",
       "      <td>465</td>\n",
       "    </tr>\n",
       "    <tr>\n",
       "      <th>1</th>\n",
       "      <td>the Exercise Price and is exercisable for fiv...</td>\n",
       "      <td>financial_statements</td>\n",
       "      <td>406</td>\n",
       "    </tr>\n",
       "    <tr>\n",
       "      <th>2</th>\n",
       "      <td>Income Taxes\\n69\\nTable of Contents\\nWe accoun...</td>\n",
       "      <td>financial_statements</td>\n",
       "      <td>843</td>\n",
       "    </tr>\n",
       "    <tr>\n",
       "      <th>3</th>\n",
       "      <td>Invoice2go\\n has not been required to maintain...</td>\n",
       "      <td>risk_factors</td>\n",
       "      <td>474</td>\n",
       "    </tr>\n",
       "    <tr>\n",
       "      <th>4</th>\n",
       "      <td>A\\nB\\nC\\nPlan Category\\nNumber of Securitiesto...</td>\n",
       "      <td>equity</td>\n",
       "      <td>358</td>\n",
       "    </tr>\n",
       "  </tbody>\n",
       "</table>\n",
       "</div>\n",
       "      <button class=\"colab-df-convert\" onclick=\"convertToInteractive('df-a0653863-63d8-43e6-829a-96992606e73c')\"\n",
       "              title=\"Convert this dataframe to an interactive table.\"\n",
       "              style=\"display:none;\">\n",
       "        \n",
       "  <svg xmlns=\"http://www.w3.org/2000/svg\" height=\"24px\"viewBox=\"0 0 24 24\"\n",
       "       width=\"24px\">\n",
       "    <path d=\"M0 0h24v24H0V0z\" fill=\"none\"/>\n",
       "    <path d=\"M18.56 5.44l.94 2.06.94-2.06 2.06-.94-2.06-.94-.94-2.06-.94 2.06-2.06.94zm-11 1L8.5 8.5l.94-2.06 2.06-.94-2.06-.94L8.5 2.5l-.94 2.06-2.06.94zm10 10l.94 2.06.94-2.06 2.06-.94-2.06-.94-.94-2.06-.94 2.06-2.06.94z\"/><path d=\"M17.41 7.96l-1.37-1.37c-.4-.4-.92-.59-1.43-.59-.52 0-1.04.2-1.43.59L10.3 9.45l-7.72 7.72c-.78.78-.78 2.05 0 2.83L4 21.41c.39.39.9.59 1.41.59.51 0 1.02-.2 1.41-.59l7.78-7.78 2.81-2.81c.8-.78.8-2.07 0-2.86zM5.41 20L4 18.59l7.72-7.72 1.47 1.35L5.41 20z\"/>\n",
       "  </svg>\n",
       "      </button>\n",
       "      \n",
       "  <style>\n",
       "    .colab-df-container {\n",
       "      display:flex;\n",
       "      flex-wrap:wrap;\n",
       "      gap: 12px;\n",
       "    }\n",
       "\n",
       "    .colab-df-convert {\n",
       "      background-color: #E8F0FE;\n",
       "      border: none;\n",
       "      border-radius: 50%;\n",
       "      cursor: pointer;\n",
       "      display: none;\n",
       "      fill: #1967D2;\n",
       "      height: 32px;\n",
       "      padding: 0 0 0 0;\n",
       "      width: 32px;\n",
       "    }\n",
       "\n",
       "    .colab-df-convert:hover {\n",
       "      background-color: #E2EBFA;\n",
       "      box-shadow: 0px 1px 2px rgba(60, 64, 67, 0.3), 0px 1px 3px 1px rgba(60, 64, 67, 0.15);\n",
       "      fill: #174EA6;\n",
       "    }\n",
       "\n",
       "    [theme=dark] .colab-df-convert {\n",
       "      background-color: #3B4455;\n",
       "      fill: #D2E3FC;\n",
       "    }\n",
       "\n",
       "    [theme=dark] .colab-df-convert:hover {\n",
       "      background-color: #434B5C;\n",
       "      box-shadow: 0px 1px 3px 1px rgba(0, 0, 0, 0.15);\n",
       "      filter: drop-shadow(0px 1px 2px rgba(0, 0, 0, 0.3));\n",
       "      fill: #FFFFFF;\n",
       "    }\n",
       "  </style>\n",
       "\n",
       "      <script>\n",
       "        const buttonEl =\n",
       "          document.querySelector('#df-a0653863-63d8-43e6-829a-96992606e73c button.colab-df-convert');\n",
       "        buttonEl.style.display =\n",
       "          google.colab.kernel.accessAllowed ? 'block' : 'none';\n",
       "\n",
       "        async function convertToInteractive(key) {\n",
       "          const element = document.querySelector('#df-a0653863-63d8-43e6-829a-96992606e73c');\n",
       "          const dataTable =\n",
       "            await google.colab.kernel.invokeFunction('convertToInteractive',\n",
       "                                                     [key], {});\n",
       "          if (!dataTable) return;\n",
       "\n",
       "          const docLinkHtml = 'Like what you see? Visit the ' +\n",
       "            '<a target=\"_blank\" href=https://colab.research.google.com/notebooks/data_table.ipynb>data table notebook</a>'\n",
       "            + ' to learn more about interactive tables.';\n",
       "          element.innerHTML = '';\n",
       "          dataTable['output_type'] = 'display_data';\n",
       "          await google.colab.output.renderOutput(dataTable, element);\n",
       "          const docLink = document.createElement('div');\n",
       "          docLink.innerHTML = docLinkHtml;\n",
       "          element.appendChild(docLink);\n",
       "        }\n",
       "      </script>\n",
       "    </div>\n",
       "  </div>\n",
       "  "
      ],
      "text/plain": [
       "                                                text                 label  \\\n",
       "0   \\nOperating\\nLeases\\n \\nOn\\nJanuary 1 2010 th...  financial_statements   \n",
       "1   the Exercise Price and is exercisable for fiv...  financial_statements   \n",
       "2  Income Taxes\\n69\\nTable of Contents\\nWe accoun...  financial_statements   \n",
       "3  Invoice2go\\n has not been required to maintain...          risk_factors   \n",
       "4  A\\nB\\nC\\nPlan Category\\nNumber of Securitiesto...                equity   \n",
       "\n",
       "   len  \n",
       "0  465  \n",
       "1  406  \n",
       "2  843  \n",
       "3  474  \n",
       "4  358  "
      ]
     },
     "execution_count": 32,
     "metadata": {},
     "output_type": "execute_result"
    }
   ],
   "source": [
    "df.head()"
   ]
  },
  {
   "cell_type": "code",
   "execution_count": null,
   "id": "Ntfw_obpuf4A",
   "metadata": {
    "colab": {
     "base_uri": "https://localhost:8080/"
    },
    "id": "Ntfw_obpuf4A",
    "outputId": "02fec47d-eed5-4fbf-bb81-9517ff9641e1"
   },
   "outputs": [
    {
     "data": {
      "text/plain": [
       "risk_factors               3831\n",
       "financial_statements       3726\n",
       "business                   2002\n",
       "financial_conditions        702\n",
       "form_10k_summary            491\n",
       "executives_compensation     304\n",
       "controls_procedures         277\n",
       "equity                      223\n",
       "market_risk                 204\n",
       "executives                  161\n",
       "legal_proceedings            94\n",
       "security_ownership           84\n",
       "properties                   81\n",
       "exhibits                     77\n",
       "Name: label, dtype: int64"
      ]
     },
     "execution_count": 33,
     "metadata": {},
     "output_type": "execute_result"
    }
   ],
   "source": [
    "df['label'].value_counts()"
   ]
  },
  {
   "cell_type": "code",
   "execution_count": null,
   "id": "Cmc91NU8b50H",
   "metadata": {
    "id": "Cmc91NU8b50H"
   },
   "outputs": [],
   "source": [
    "data = spark.createDataFrame(df)\n",
    "\n",
    "train, test = data.randomSplit([0.8, 0.2], seed = 100)"
   ]
  },
  {
   "cell_type": "code",
   "execution_count": null,
   "id": "WEcXKSQTb50H",
   "metadata": {
    "colab": {
     "base_uri": "https://localhost:8080/"
    },
    "id": "WEcXKSQTb50H",
    "outputId": "ca299095-25ef-470b-b511-69ec223003fc"
   },
   "outputs": [
    {
     "name": "stdout",
     "output_type": "stream",
     "text": [
      "+--------------------+-----+\n",
      "|               label|count|\n",
      "+--------------------+-----+\n",
      "|        risk_factors| 3071|\n",
      "|financial_statements| 2983|\n",
      "|            business| 1582|\n",
      "|financial_conditions|  597|\n",
      "|    form_10k_summary|  385|\n",
      "| controls_procedures|  226|\n",
      "|executives_compen...|  224|\n",
      "|              equity|  174|\n",
      "|         market_risk|  158|\n",
      "|          executives|  122|\n",
      "|   legal_proceedings|   72|\n",
      "|  security_ownership|   70|\n",
      "|            exhibits|   62|\n",
      "|          properties|   57|\n",
      "+--------------------+-----+\n",
      "\n"
     ]
    }
   ],
   "source": [
    "from pyspark.sql.functions import col\n",
    "\n",
    "train.groupBy(\"label\") \\\n",
    "    .count() \\\n",
    "    .orderBy(col(\"count\").desc()) \\\n",
    "    .show()"
   ]
  },
  {
   "cell_type": "code",
   "execution_count": null,
   "id": "lDV9dGbRb50H",
   "metadata": {
    "colab": {
     "base_uri": "https://localhost:8080/"
    },
    "id": "lDV9dGbRb50H",
    "outputId": "b5ec5700-deda-439c-e9b6-87cd2a7ecf8d"
   },
   "outputs": [
    {
     "name": "stdout",
     "output_type": "stream",
     "text": [
      "+--------------------+-----+\n",
      "|               label|count|\n",
      "+--------------------+-----+\n",
      "|        risk_factors|  760|\n",
      "|financial_statements|  743|\n",
      "|            business|  420|\n",
      "|    form_10k_summary|  106|\n",
      "|financial_conditions|  105|\n",
      "|executives_compen...|   80|\n",
      "| controls_procedures|   51|\n",
      "|              equity|   49|\n",
      "|         market_risk|   46|\n",
      "|          executives|   39|\n",
      "|          properties|   24|\n",
      "|   legal_proceedings|   22|\n",
      "|            exhibits|   15|\n",
      "|  security_ownership|   14|\n",
      "+--------------------+-----+\n",
      "\n"
     ]
    }
   ],
   "source": [
    "from pyspark.sql.functions import col\n",
    "\n",
    "test.groupBy(\"label\") \\\n",
    "    .count() \\\n",
    "    .orderBy(col(\"count\").desc()) \\\n",
    "    .show()"
   ]
  },
  {
   "cell_type": "markdown",
   "id": "hrFio0xccT7J",
   "metadata": {
    "id": "hrFio0xccT7J"
   },
   "source": [
    " ## With Universal Encoder"
   ]
  },
  {
   "cell_type": "code",
   "execution_count": null,
   "id": "o0muwDJ5cT7K",
   "metadata": {
    "colab": {
     "base_uri": "https://localhost:8080/"
    },
    "id": "o0muwDJ5cT7K",
    "outputId": "1ca4e859-b817-4ef8-dff0-dc7a1466e9a7"
   },
   "outputs": [
    {
     "name": "stdout",
     "output_type": "stream",
     "text": [
      "tfhub_use download started this may take some time.\n",
      "Approximate size to download 923.7 MB\n",
      "[OK!]\n"
     ]
    }
   ],
   "source": [
    "document_assembler = nlp.DocumentAssembler() \\\n",
    "      .setInputCol(\"text\") \\\n",
    "      .setOutputCol(\"document\") \n",
    "\n",
    "embeddings = nlp.UniversalSentenceEncoder.pretrained() \\\n",
    "      .setInputCols(\"document\") \\\n",
    "      .setOutputCol(\"sentence_embeddings\")\n",
    "\n",
    "classsifierdl = legal.ClassifierDLApproach()\\\n",
    "      .setInputCols([\"sentence_embeddings\"])\\\n",
    "      .setOutputCol(\"class\")\\\n",
    "      .setLabelColumn(\"label\")\\\n",
    "      .setMaxEpochs(30)\\\n",
    "      .setEnableOutputLogs(True)\n",
    "\n",
    "clf_pipeline = nlp.Pipeline(\n",
    "    stages = [\n",
    "        document_assembler,\n",
    "        embeddings,\n",
    "        classsifierdl\n",
    "    ])"
   ]
  },
  {
   "cell_type": "code",
   "execution_count": null,
   "id": "9Vb2VqzucT7M",
   "metadata": {
    "id": "9Vb2VqzucT7M"
   },
   "outputs": [],
   "source": [
    "clf_pipelineModel = clf_pipeline.fit(train)"
   ]
  },
  {
   "cell_type": "code",
   "execution_count": null,
   "id": "NdAu3IE1cT7N",
   "metadata": {
    "colab": {
     "base_uri": "https://localhost:8080/"
    },
    "id": "NdAu3IE1cT7N",
    "outputId": "87a64825-215a-4840-b08c-55f2d4cd138f"
   },
   "outputs": [
    {
     "name": "stdout",
     "output_type": "stream",
     "text": [
      "Training started - epochs: 30 - learning_rate: 0.005 - batch_size: 64 - training_examples: 9783 - classes: 14\n",
      "Epoch 0/30 - 1.91s - loss: 378.72934 - acc: 0.31341958 - batches: 153\n",
      "Epoch 1/30 - 1.60s - loss: 377.48782 - acc: 0.31598946 - batches: 153\n",
      "Epoch 2/30 - 1.48s - loss: 377.48782 - acc: 0.31598946 - batches: 153\n",
      "Epoch 3/30 - 1.49s - loss: 377.48782 - acc: 0.31598946 - batches: 153\n",
      "Epoch 4/30 - 1.52s - loss: 377.48782 - acc: 0.31598946 - batches: 153\n",
      "Epoch 5/30 - 1.50s - loss: 377.48782 - acc: 0.31598946 - batches: 153\n",
      "Epoch 6/30 - 1.49s - loss: 377.48782 - acc: 0.31598946 - batches: 153\n",
      "Epoch 7/30 - 1.47s - loss: 377.48782 - acc: 0.31598946 - batches: 153\n",
      "Epoch 8/30 - 1.49s - loss: 377.48782 - acc: 0.31598946 - batches: 153\n",
      "Epoch 9/30 - 1.81s - loss: 377.48782 - acc: 0.31598946 - batches: 153\n",
      "Epoch 10/30 - 1.66s - loss: 377.48782 - acc: 0.31598946 - batches: 153\n",
      "Epoch 11/30 - 1.51s - loss: 377.48782 - acc: 0.31598946 - batches: 153\n",
      "Epoch 12/30 - 1.50s - loss: 377.48782 - acc: 0.31598946 - batches: 153\n",
      "Epoch 13/30 - 1.50s - loss: 377.48782 - acc: 0.31598946 - batches: 153\n",
      "Epoch 14/30 - 1.52s - loss: 377.48782 - acc: 0.31598946 - batches: 153\n",
      "Epoch 15/30 - 1.52s - loss: 377.48782 - acc: 0.31598946 - batches: 153\n",
      "Epoch 16/30 - 1.52s - loss: 377.48782 - acc: 0.31598946 - batches: 153\n",
      "Epoch 17/30 - 1.57s - loss: 377.48782 - acc: 0.31598946 - batches: 153\n",
      "Epoch 18/30 - 1.49s - loss: 377.48782 - acc: 0.31598946 - batches: 153\n",
      "Epoch 19/30 - 1.50s - loss: 377.48782 - acc: 0.31598946 - batches: 153\n",
      "Epoch 20/30 - 1.50s - loss: 377.48782 - acc: 0.31598946 - batches: 153\n",
      "Epoch 21/30 - 1.47s - loss: 377.48782 - acc: 0.31598946 - batches: 153\n",
      "Epoch 22/30 - 1.50s - loss: 377.48782 - acc: 0.31598946 - batches: 153\n",
      "Epoch 23/30 - 1.49s - loss: 377.48782 - acc: 0.31598946 - batches: 153\n",
      "Epoch 24/30 - 1.49s - loss: 377.48782 - acc: 0.31598946 - batches: 153\n",
      "Epoch 25/30 - 1.50s - loss: 377.48782 - acc: 0.31598946 - batches: 153\n",
      "Epoch 26/30 - 1.57s - loss: 377.48782 - acc: 0.31598946 - batches: 153\n",
      "Epoch 27/30 - 1.49s - loss: 377.48782 - acc: 0.31598946 - batches: 153\n",
      "Epoch 28/30 - 1.50s - loss: 377.48782 - acc: 0.31598946 - batches: 153\n",
      "Epoch 29/30 - 1.50s - loss: 377.48782 - acc: 0.31598946 - batches: 153\n",
      "\n"
     ]
    }
   ],
   "source": [
    "import os\n",
    "log_file_name = os.listdir(\"/root/annotator_logs\")[0]\n",
    "\n",
    "with open(\"/root/annotator_logs/\"+log_file_name, \"r\") as log_file :\n",
    "    print(log_file.read())"
   ]
  },
  {
   "cell_type": "code",
   "execution_count": null,
   "id": "jwlOFwwacT7O",
   "metadata": {
    "id": "jwlOFwwacT7O"
   },
   "outputs": [],
   "source": [
    "preds = clf_pipelineModel.transform(test)"
   ]
  },
  {
   "cell_type": "code",
   "execution_count": null,
   "id": "ft1vm_0fcT7O",
   "metadata": {
    "colab": {
     "base_uri": "https://localhost:8080/",
     "height": 206
    },
    "id": "ft1vm_0fcT7O",
    "outputId": "c635ce3f-3b9f-443c-8c22-8dc440a43927"
   },
   "outputs": [
    {
     "data": {
      "text/html": [
       "\n",
       "  <div id=\"df-11ce9e7d-ba87-44dc-951c-47d5ddf6e814\">\n",
       "    <div class=\"colab-df-container\">\n",
       "      <div>\n",
       "<style scoped>\n",
       "    .dataframe tbody tr th:only-of-type {\n",
       "        vertical-align: middle;\n",
       "    }\n",
       "\n",
       "    .dataframe tbody tr th {\n",
       "        vertical-align: top;\n",
       "    }\n",
       "\n",
       "    .dataframe thead th {\n",
       "        text-align: right;\n",
       "    }\n",
       "</style>\n",
       "<table border=\"1\" class=\"dataframe\">\n",
       "  <thead>\n",
       "    <tr style=\"text-align: right;\">\n",
       "      <th></th>\n",
       "      <th>label</th>\n",
       "      <th>text</th>\n",
       "      <th>result</th>\n",
       "    </tr>\n",
       "  </thead>\n",
       "  <tbody>\n",
       "    <tr>\n",
       "      <th>0</th>\n",
       "      <td>financial_statements</td>\n",
       "      <td>\\n\\n\\n \\n \\n 7\\n million when the Company meet...</td>\n",
       "      <td>[risk_factors]</td>\n",
       "    </tr>\n",
       "    <tr>\n",
       "      <th>1</th>\n",
       "      <td>financial_statements</td>\n",
       "      <td>\\n\\n \\n\\n\\nLevel 3 Inputs that are generally u...</td>\n",
       "      <td>[risk_factors]</td>\n",
       "    </tr>\n",
       "    <tr>\n",
       "      <th>2</th>\n",
       "      <td>risk_factors</td>\n",
       "      <td>\\n\\n \\n\\n\\nOur products are complex and have a...</td>\n",
       "      <td>[risk_factors]</td>\n",
       "    </tr>\n",
       "    <tr>\n",
       "      <th>3</th>\n",
       "      <td>risk_factors</td>\n",
       "      <td>\\n\\n \\n\\n\\nii Customer Support Revenue\\n\\n\\n \\...</td>\n",
       "      <td>[risk_factors]</td>\n",
       "    </tr>\n",
       "    <tr>\n",
       "      <th>4</th>\n",
       "      <td>form_10k_summary</td>\n",
       "      <td>\\n \\n\\n\\n \\n \\n\\n2020\\n\\n \\n \\n\\n2019\\n\\n \\n\\n...</td>\n",
       "      <td>[risk_factors]</td>\n",
       "    </tr>\n",
       "  </tbody>\n",
       "</table>\n",
       "</div>\n",
       "      <button class=\"colab-df-convert\" onclick=\"convertToInteractive('df-11ce9e7d-ba87-44dc-951c-47d5ddf6e814')\"\n",
       "              title=\"Convert this dataframe to an interactive table.\"\n",
       "              style=\"display:none;\">\n",
       "        \n",
       "  <svg xmlns=\"http://www.w3.org/2000/svg\" height=\"24px\"viewBox=\"0 0 24 24\"\n",
       "       width=\"24px\">\n",
       "    <path d=\"M0 0h24v24H0V0z\" fill=\"none\"/>\n",
       "    <path d=\"M18.56 5.44l.94 2.06.94-2.06 2.06-.94-2.06-.94-.94-2.06-.94 2.06-2.06.94zm-11 1L8.5 8.5l.94-2.06 2.06-.94-2.06-.94L8.5 2.5l-.94 2.06-2.06.94zm10 10l.94 2.06.94-2.06 2.06-.94-2.06-.94-.94-2.06-.94 2.06-2.06.94z\"/><path d=\"M17.41 7.96l-1.37-1.37c-.4-.4-.92-.59-1.43-.59-.52 0-1.04.2-1.43.59L10.3 9.45l-7.72 7.72c-.78.78-.78 2.05 0 2.83L4 21.41c.39.39.9.59 1.41.59.51 0 1.02-.2 1.41-.59l7.78-7.78 2.81-2.81c.8-.78.8-2.07 0-2.86zM5.41 20L4 18.59l7.72-7.72 1.47 1.35L5.41 20z\"/>\n",
       "  </svg>\n",
       "      </button>\n",
       "      \n",
       "  <style>\n",
       "    .colab-df-container {\n",
       "      display:flex;\n",
       "      flex-wrap:wrap;\n",
       "      gap: 12px;\n",
       "    }\n",
       "\n",
       "    .colab-df-convert {\n",
       "      background-color: #E8F0FE;\n",
       "      border: none;\n",
       "      border-radius: 50%;\n",
       "      cursor: pointer;\n",
       "      display: none;\n",
       "      fill: #1967D2;\n",
       "      height: 32px;\n",
       "      padding: 0 0 0 0;\n",
       "      width: 32px;\n",
       "    }\n",
       "\n",
       "    .colab-df-convert:hover {\n",
       "      background-color: #E2EBFA;\n",
       "      box-shadow: 0px 1px 2px rgba(60, 64, 67, 0.3), 0px 1px 3px 1px rgba(60, 64, 67, 0.15);\n",
       "      fill: #174EA6;\n",
       "    }\n",
       "\n",
       "    [theme=dark] .colab-df-convert {\n",
       "      background-color: #3B4455;\n",
       "      fill: #D2E3FC;\n",
       "    }\n",
       "\n",
       "    [theme=dark] .colab-df-convert:hover {\n",
       "      background-color: #434B5C;\n",
       "      box-shadow: 0px 1px 3px 1px rgba(0, 0, 0, 0.15);\n",
       "      filter: drop-shadow(0px 1px 2px rgba(0, 0, 0, 0.3));\n",
       "      fill: #FFFFFF;\n",
       "    }\n",
       "  </style>\n",
       "\n",
       "      <script>\n",
       "        const buttonEl =\n",
       "          document.querySelector('#df-11ce9e7d-ba87-44dc-951c-47d5ddf6e814 button.colab-df-convert');\n",
       "        buttonEl.style.display =\n",
       "          google.colab.kernel.accessAllowed ? 'block' : 'none';\n",
       "\n",
       "        async function convertToInteractive(key) {\n",
       "          const element = document.querySelector('#df-11ce9e7d-ba87-44dc-951c-47d5ddf6e814');\n",
       "          const dataTable =\n",
       "            await google.colab.kernel.invokeFunction('convertToInteractive',\n",
       "                                                     [key], {});\n",
       "          if (!dataTable) return;\n",
       "\n",
       "          const docLinkHtml = 'Like what you see? Visit the ' +\n",
       "            '<a target=\"_blank\" href=https://colab.research.google.com/notebooks/data_table.ipynb>data table notebook</a>'\n",
       "            + ' to learn more about interactive tables.';\n",
       "          element.innerHTML = '';\n",
       "          dataTable['output_type'] = 'display_data';\n",
       "          await google.colab.output.renderOutput(dataTable, element);\n",
       "          const docLink = document.createElement('div');\n",
       "          docLink.innerHTML = docLinkHtml;\n",
       "          element.appendChild(docLink);\n",
       "        }\n",
       "      </script>\n",
       "    </div>\n",
       "  </div>\n",
       "  "
      ],
      "text/plain": [
       "                  label                                               text  \\\n",
       "0  financial_statements  \\n\\n\\n \\n \\n 7\\n million when the Company meet...   \n",
       "1  financial_statements  \\n\\n \\n\\n\\nLevel 3 Inputs that are generally u...   \n",
       "2          risk_factors  \\n\\n \\n\\n\\nOur products are complex and have a...   \n",
       "3          risk_factors  \\n\\n \\n\\n\\nii Customer Support Revenue\\n\\n\\n \\...   \n",
       "4      form_10k_summary  \\n \\n\\n\\n \\n \\n\\n2020\\n\\n \\n \\n\\n2019\\n\\n \\n\\n...   \n",
       "\n",
       "           result  \n",
       "0  [risk_factors]  \n",
       "1  [risk_factors]  \n",
       "2  [risk_factors]  \n",
       "3  [risk_factors]  \n",
       "4  [risk_factors]  "
      ]
     },
     "execution_count": 14,
     "metadata": {},
     "output_type": "execute_result"
    }
   ],
   "source": [
    "preds_df = preds.select('label','text',\"class.result\").toPandas()\n",
    "preds_df.head()"
   ]
  },
  {
   "cell_type": "code",
   "execution_count": null,
   "id": "Oo0X1tyacT7P",
   "metadata": {
    "id": "Oo0X1tyacT7P"
   },
   "outputs": [],
   "source": [
    "# The result is an array since in Spark NLP you can have multiple sentences.\n",
    "# Let's explode the array and get the item(s) inside of result column out\n",
    "preds_df['result'] = preds_df['result'].apply(lambda x : x[0])"
   ]
  },
  {
   "cell_type": "code",
   "execution_count": null,
   "id": "VOvxSG6Afz5d",
   "metadata": {
    "colab": {
     "base_uri": "https://localhost:8080/"
    },
    "id": "VOvxSG6Afz5d",
    "outputId": "01f501b0-6d5e-474e-faa7-5435cb45dfea"
   },
   "outputs": [
    {
     "name": "stdout",
     "output_type": "stream",
     "text": [
      "                         precision    recall  f1-score   support\n",
      "\n",
      "               business       0.00      0.00      0.00       420\n",
      "    controls_procedures       0.00      0.00      0.00        51\n",
      "                 equity       0.00      0.00      0.00        49\n",
      "             executives       0.00      0.00      0.00        39\n",
      "executives_compensation       0.00      0.00      0.00        80\n",
      "               exhibits       0.00      0.00      0.00        15\n",
      "   financial_conditions       0.00      0.00      0.00       105\n",
      "   financial_statements       0.00      0.00      0.00       743\n",
      "       form_10k_summary       0.00      0.00      0.00       106\n",
      "      legal_proceedings       0.00      0.00      0.00        22\n",
      "            market_risk       0.00      0.00      0.00        46\n",
      "             properties       0.00      0.00      0.00        24\n",
      "           risk_factors       0.31      1.00      0.47       760\n",
      "     security_ownership       0.00      0.00      0.00        14\n",
      "\n",
      "               accuracy                           0.31      2474\n",
      "              macro avg       0.02      0.07      0.03      2474\n",
      "           weighted avg       0.09      0.31      0.14      2474\n",
      "\n"
     ]
    }
   ],
   "source": [
    "# We are going to use sklearn to evalute the results on test dataset\n",
    "from sklearn.metrics import classification_report\n",
    "\n",
    "print (classification_report(preds_df['label'], preds_df['result']))"
   ]
  },
  {
   "cell_type": "markdown",
   "id": "IHzIfMSuUgiD",
   "metadata": {
    "id": "IHzIfMSuUgiD"
   },
   "source": [
    "### Saving & loading back the trained model"
   ]
  },
  {
   "cell_type": "code",
   "execution_count": null,
   "id": "r5Tec2WwUhP1",
   "metadata": {
    "colab": {
     "base_uri": "https://localhost:8080/"
    },
    "id": "r5Tec2WwUhP1",
    "outputId": "e322e3ba-b01e-4ece-a070-91bc35704f19"
   },
   "outputs": [
    {
     "data": {
      "text/plain": [
       "[DocumentAssembler_4d93c6bd7374,\n",
       " UNIVERSAL_SENTENCE_ENCODER_4de71669b7ec,\n",
       " LegalClassifierDLModel_de667b6f6094]"
      ]
     },
     "execution_count": 17,
     "metadata": {},
     "output_type": "execute_result"
    }
   ],
   "source": [
    "clf_pipelineModel.stages"
   ]
  },
  {
   "cell_type": "code",
   "execution_count": null,
   "id": "4hjFsxVsUps_",
   "metadata": {
    "id": "4hjFsxVsUps_"
   },
   "outputs": [],
   "source": [
    "clf_pipelineModel.stages[-1].write().overwrite().save('Clf_Use')"
   ]
  },
  {
   "cell_type": "code",
   "execution_count": null,
   "id": "UUdl5FoBbE5X",
   "metadata": {
    "id": "UUdl5FoBbE5X"
   },
   "outputs": [],
   "source": [
    "# Load back  saved Classifier Model\n",
    "ClfModel = legal.ClassifierDLModel.load('Clf_Use')"
   ]
  },
  {
   "cell_type": "code",
   "execution_count": null,
   "id": "295Ip9xZcjU-",
   "metadata": {
    "id": "295Ip9xZcjU-"
   },
   "outputs": [],
   "source": [
    "ld_pipeline = nlp.Pipeline(stages=[document_assembler, embeddings,ClfModel])\n",
    "ld_pipeline_model = ld_pipeline.fit(spark.createDataFrame([['']]).toDF(\"text\"))"
   ]
  },
  {
   "cell_type": "code",
   "execution_count": null,
   "id": "Gdm6mxvadFyj",
   "metadata": {
    "id": "Gdm6mxvadFyj"
   },
   "outputs": [],
   "source": [
    "# Apply Model Transform to testData\n",
    "ld_preds = ld_pipeline_model.transform(test)"
   ]
  },
  {
   "cell_type": "code",
   "execution_count": null,
   "id": "aQYCSHcIdJbi",
   "metadata": {
    "id": "aQYCSHcIdJbi"
   },
   "outputs": [],
   "source": [
    "ld_preds_df = ld_preds.select('text','label',\"class.result\").toPandas()"
   ]
  },
  {
   "cell_type": "code",
   "execution_count": null,
   "id": "VZnsGh6YdVUf",
   "metadata": {
    "colab": {
     "base_uri": "https://localhost:8080/",
     "height": 206
    },
    "id": "VZnsGh6YdVUf",
    "outputId": "1b36b207-468a-44ec-a63a-bca7aecbba2a"
   },
   "outputs": [
    {
     "data": {
      "text/html": [
       "\n",
       "  <div id=\"df-7037308b-f97f-4651-8443-6d304679118a\">\n",
       "    <div class=\"colab-df-container\">\n",
       "      <div>\n",
       "<style scoped>\n",
       "    .dataframe tbody tr th:only-of-type {\n",
       "        vertical-align: middle;\n",
       "    }\n",
       "\n",
       "    .dataframe tbody tr th {\n",
       "        vertical-align: top;\n",
       "    }\n",
       "\n",
       "    .dataframe thead th {\n",
       "        text-align: right;\n",
       "    }\n",
       "</style>\n",
       "<table border=\"1\" class=\"dataframe\">\n",
       "  <thead>\n",
       "    <tr style=\"text-align: right;\">\n",
       "      <th></th>\n",
       "      <th>text</th>\n",
       "      <th>label</th>\n",
       "      <th>result</th>\n",
       "    </tr>\n",
       "  </thead>\n",
       "  <tbody>\n",
       "    <tr>\n",
       "      <th>0</th>\n",
       "      <td>\\n\\n\\n \\n \\n 7\\n million when the Company meet...</td>\n",
       "      <td>financial_statements</td>\n",
       "      <td>[risk_factors]</td>\n",
       "    </tr>\n",
       "    <tr>\n",
       "      <th>1</th>\n",
       "      <td>\\n\\n \\n\\n\\nLevel 3 Inputs that are generally u...</td>\n",
       "      <td>financial_statements</td>\n",
       "      <td>[risk_factors]</td>\n",
       "    </tr>\n",
       "    <tr>\n",
       "      <th>2</th>\n",
       "      <td>\\n\\n \\n\\n\\nOur products are complex and have a...</td>\n",
       "      <td>risk_factors</td>\n",
       "      <td>[risk_factors]</td>\n",
       "    </tr>\n",
       "    <tr>\n",
       "      <th>3</th>\n",
       "      <td>\\n\\n \\n\\n\\nii Customer Support Revenue\\n\\n\\n \\...</td>\n",
       "      <td>risk_factors</td>\n",
       "      <td>[risk_factors]</td>\n",
       "    </tr>\n",
       "    <tr>\n",
       "      <th>4</th>\n",
       "      <td>\\n \\n\\n\\n \\n \\n\\n2020\\n\\n \\n \\n\\n2019\\n\\n \\n\\n...</td>\n",
       "      <td>form_10k_summary</td>\n",
       "      <td>[risk_factors]</td>\n",
       "    </tr>\n",
       "  </tbody>\n",
       "</table>\n",
       "</div>\n",
       "      <button class=\"colab-df-convert\" onclick=\"convertToInteractive('df-7037308b-f97f-4651-8443-6d304679118a')\"\n",
       "              title=\"Convert this dataframe to an interactive table.\"\n",
       "              style=\"display:none;\">\n",
       "        \n",
       "  <svg xmlns=\"http://www.w3.org/2000/svg\" height=\"24px\"viewBox=\"0 0 24 24\"\n",
       "       width=\"24px\">\n",
       "    <path d=\"M0 0h24v24H0V0z\" fill=\"none\"/>\n",
       "    <path d=\"M18.56 5.44l.94 2.06.94-2.06 2.06-.94-2.06-.94-.94-2.06-.94 2.06-2.06.94zm-11 1L8.5 8.5l.94-2.06 2.06-.94-2.06-.94L8.5 2.5l-.94 2.06-2.06.94zm10 10l.94 2.06.94-2.06 2.06-.94-2.06-.94-.94-2.06-.94 2.06-2.06.94z\"/><path d=\"M17.41 7.96l-1.37-1.37c-.4-.4-.92-.59-1.43-.59-.52 0-1.04.2-1.43.59L10.3 9.45l-7.72 7.72c-.78.78-.78 2.05 0 2.83L4 21.41c.39.39.9.59 1.41.59.51 0 1.02-.2 1.41-.59l7.78-7.78 2.81-2.81c.8-.78.8-2.07 0-2.86zM5.41 20L4 18.59l7.72-7.72 1.47 1.35L5.41 20z\"/>\n",
       "  </svg>\n",
       "      </button>\n",
       "      \n",
       "  <style>\n",
       "    .colab-df-container {\n",
       "      display:flex;\n",
       "      flex-wrap:wrap;\n",
       "      gap: 12px;\n",
       "    }\n",
       "\n",
       "    .colab-df-convert {\n",
       "      background-color: #E8F0FE;\n",
       "      border: none;\n",
       "      border-radius: 50%;\n",
       "      cursor: pointer;\n",
       "      display: none;\n",
       "      fill: #1967D2;\n",
       "      height: 32px;\n",
       "      padding: 0 0 0 0;\n",
       "      width: 32px;\n",
       "    }\n",
       "\n",
       "    .colab-df-convert:hover {\n",
       "      background-color: #E2EBFA;\n",
       "      box-shadow: 0px 1px 2px rgba(60, 64, 67, 0.3), 0px 1px 3px 1px rgba(60, 64, 67, 0.15);\n",
       "      fill: #174EA6;\n",
       "    }\n",
       "\n",
       "    [theme=dark] .colab-df-convert {\n",
       "      background-color: #3B4455;\n",
       "      fill: #D2E3FC;\n",
       "    }\n",
       "\n",
       "    [theme=dark] .colab-df-convert:hover {\n",
       "      background-color: #434B5C;\n",
       "      box-shadow: 0px 1px 3px 1px rgba(0, 0, 0, 0.15);\n",
       "      filter: drop-shadow(0px 1px 2px rgba(0, 0, 0, 0.3));\n",
       "      fill: #FFFFFF;\n",
       "    }\n",
       "  </style>\n",
       "\n",
       "      <script>\n",
       "        const buttonEl =\n",
       "          document.querySelector('#df-7037308b-f97f-4651-8443-6d304679118a button.colab-df-convert');\n",
       "        buttonEl.style.display =\n",
       "          google.colab.kernel.accessAllowed ? 'block' : 'none';\n",
       "\n",
       "        async function convertToInteractive(key) {\n",
       "          const element = document.querySelector('#df-7037308b-f97f-4651-8443-6d304679118a');\n",
       "          const dataTable =\n",
       "            await google.colab.kernel.invokeFunction('convertToInteractive',\n",
       "                                                     [key], {});\n",
       "          if (!dataTable) return;\n",
       "\n",
       "          const docLinkHtml = 'Like what you see? Visit the ' +\n",
       "            '<a target=\"_blank\" href=https://colab.research.google.com/notebooks/data_table.ipynb>data table notebook</a>'\n",
       "            + ' to learn more about interactive tables.';\n",
       "          element.innerHTML = '';\n",
       "          dataTable['output_type'] = 'display_data';\n",
       "          await google.colab.output.renderOutput(dataTable, element);\n",
       "          const docLink = document.createElement('div');\n",
       "          docLink.innerHTML = docLinkHtml;\n",
       "          element.appendChild(docLink);\n",
       "        }\n",
       "      </script>\n",
       "    </div>\n",
       "  </div>\n",
       "  "
      ],
      "text/plain": [
       "                                                text                 label  \\\n",
       "0  \\n\\n\\n \\n \\n 7\\n million when the Company meet...  financial_statements   \n",
       "1  \\n\\n \\n\\n\\nLevel 3 Inputs that are generally u...  financial_statements   \n",
       "2  \\n\\n \\n\\n\\nOur products are complex and have a...          risk_factors   \n",
       "3  \\n\\n \\n\\n\\nii Customer Support Revenue\\n\\n\\n \\...          risk_factors   \n",
       "4  \\n \\n\\n\\n \\n \\n\\n2020\\n\\n \\n \\n\\n2019\\n\\n \\n\\n...      form_10k_summary   \n",
       "\n",
       "           result  \n",
       "0  [risk_factors]  \n",
       "1  [risk_factors]  \n",
       "2  [risk_factors]  \n",
       "3  [risk_factors]  \n",
       "4  [risk_factors]  "
      ]
     },
     "execution_count": 23,
     "metadata": {},
     "output_type": "execute_result"
    }
   ],
   "source": [
    "ld_preds_df.head()"
   ]
  },
  {
   "cell_type": "markdown",
   "id": "7kKWRZNu0lCL",
   "metadata": {
    "id": "7kKWRZNu0lCL"
   },
   "source": [
    "## With RoBerta Embeddings"
   ]
  },
  {
   "cell_type": "markdown",
   "id": "rHw4ikwLISTb",
   "metadata": {
    "id": "rHw4ikwLISTb"
   },
   "source": [
    "We do not have Legal Sentence Embeddings yet, But we can use the Legal RoBerta Embeddings and then average them."
   ]
  },
  {
   "cell_type": "code",
   "execution_count": null,
   "id": "oaiL-Txz0lCM",
   "metadata": {
    "colab": {
     "base_uri": "https://localhost:8080/"
    },
    "id": "oaiL-Txz0lCM",
    "outputId": "33660365-4b09-4b22-8847-a285dee4d5a6"
   },
   "outputs": [
    {
     "name": "stdout",
     "output_type": "stream",
     "text": [
      "roberta_embeddings_legal_roberta_base download started this may take some time.\n",
      "Approximate size to download 447.2 MB\n",
      "[OK!]\n"
     ]
    }
   ],
   "source": [
    "embeddings = nlp.RoBertaEmbeddings.pretrained(\"roberta_embeddings_legal_roberta_base\",\"en\") \\\n",
    "    .setInputCols([\"document\", \"token\"]) \\\n",
    "    .setOutputCol(\"embeddings\") \\\n",
    "    .setMaxSentenceLength(512)"
   ]
  },
  {
   "cell_type": "code",
   "execution_count": null,
   "id": "l3jxCehJ0lCO",
   "metadata": {
    "id": "l3jxCehJ0lCO"
   },
   "outputs": [],
   "source": [
    "document_assembler = nlp.DocumentAssembler() \\\n",
    "    .setInputCol(\"text\") \\\n",
    "    .setOutputCol(\"document\")\n",
    "\n",
    "tokenizer = nlp.Tokenizer() \\\n",
    "    .setInputCols([\"document\"]) \\\n",
    "    .setOutputCol(\"token\")\n",
    "\n",
    "embeddingsSentence = nlp.SentenceEmbeddings() \\\n",
    "    .setInputCols([\"document\", \"embeddings\"]) \\\n",
    "    .setOutputCol(\"sentence_embeddings\") \\\n",
    "    .setPoolingStrategy(\"AVERAGE\")\n",
    "\n",
    "classsifierdl = legal.ClassifierDLApproach() \\\n",
    "    .setInputCols([\"sentence_embeddings\"]) \\\n",
    "    .setOutputCol(\"class\") \\\n",
    "    .setLabelColumn(\"label\")\\\n",
    "    .setMaxEpochs(8)\\\n",
    "    .setLr(0.001)\\\n",
    "    .setEnableOutputLogs(True)\n",
    "\n",
    "clf_pipeline = nlp.Pipeline(\n",
    "    stages = [\n",
    "        document_assembler,\n",
    "        tokenizer,\n",
    "        embeddings,\n",
    "        embeddingsSentence,\n",
    "        classsifierdl\n",
    "    ])"
   ]
  },
  {
   "cell_type": "code",
   "execution_count": null,
   "id": "W6qwSLYv0lCP",
   "metadata": {
    "id": "W6qwSLYv0lCP"
   },
   "outputs": [],
   "source": [
    "clf_pipelineModel = clf_pipeline.fit(train)"
   ]
  },
  {
   "cell_type": "code",
   "execution_count": null,
   "id": "IEK22MWg0lCQ",
   "metadata": {
    "id": "IEK22MWg0lCQ"
   },
   "outputs": [],
   "source": [
    "preds = clf_pipelineModel.transform(test)"
   ]
  },
  {
   "cell_type": "code",
   "execution_count": null,
   "id": "0QMopvFG0lCQ",
   "metadata": {
    "id": "0QMopvFG0lCQ"
   },
   "outputs": [],
   "source": [
    "preds_df = preds.select('label','text',\"class.result\").toPandas()"
   ]
  },
  {
   "cell_type": "code",
   "execution_count": null,
   "id": "ADdEhII40lCR",
   "metadata": {
    "colab": {
     "base_uri": "https://localhost:8080/",
     "height": 206
    },
    "id": "ADdEhII40lCR",
    "outputId": "10348fad-6dd5-445b-a977-a23b265e0708"
   },
   "outputs": [
    {
     "data": {
      "text/html": [
       "\n",
       "  <div id=\"df-5d647b5f-98a6-4a03-86a1-72d4f8f2445f\">\n",
       "    <div class=\"colab-df-container\">\n",
       "      <div>\n",
       "<style scoped>\n",
       "    .dataframe tbody tr th:only-of-type {\n",
       "        vertical-align: middle;\n",
       "    }\n",
       "\n",
       "    .dataframe tbody tr th {\n",
       "        vertical-align: top;\n",
       "    }\n",
       "\n",
       "    .dataframe thead th {\n",
       "        text-align: right;\n",
       "    }\n",
       "</style>\n",
       "<table border=\"1\" class=\"dataframe\">\n",
       "  <thead>\n",
       "    <tr style=\"text-align: right;\">\n",
       "      <th></th>\n",
       "      <th>label</th>\n",
       "      <th>text</th>\n",
       "      <th>result</th>\n",
       "    </tr>\n",
       "  </thead>\n",
       "  <tbody>\n",
       "    <tr>\n",
       "      <th>0</th>\n",
       "      <td>financial_statements</td>\n",
       "      <td>\\n\\n\\n \\n \\n 7\\n million when the Company meet...</td>\n",
       "      <td>[financial_statements]</td>\n",
       "    </tr>\n",
       "    <tr>\n",
       "      <th>1</th>\n",
       "      <td>financial_statements</td>\n",
       "      <td>\\n\\n \\n\\n\\nLevel 3 Inputs that are generally u...</td>\n",
       "      <td>[financial_statements]</td>\n",
       "    </tr>\n",
       "    <tr>\n",
       "      <th>2</th>\n",
       "      <td>risk_factors</td>\n",
       "      <td>\\n\\n \\n\\n\\nOur products are complex and have a...</td>\n",
       "      <td>[risk_factors]</td>\n",
       "    </tr>\n",
       "    <tr>\n",
       "      <th>3</th>\n",
       "      <td>risk_factors</td>\n",
       "      <td>\\n\\n \\n\\n\\nii Customer Support Revenue\\n\\n\\n \\...</td>\n",
       "      <td>[financial_statements]</td>\n",
       "    </tr>\n",
       "    <tr>\n",
       "      <th>4</th>\n",
       "      <td>form_10k_summary</td>\n",
       "      <td>\\n \\n\\n\\n \\n \\n\\n2020\\n\\n \\n \\n\\n2019\\n\\n \\n\\n...</td>\n",
       "      <td>[financial_statements]</td>\n",
       "    </tr>\n",
       "  </tbody>\n",
       "</table>\n",
       "</div>\n",
       "      <button class=\"colab-df-convert\" onclick=\"convertToInteractive('df-5d647b5f-98a6-4a03-86a1-72d4f8f2445f')\"\n",
       "              title=\"Convert this dataframe to an interactive table.\"\n",
       "              style=\"display:none;\">\n",
       "        \n",
       "  <svg xmlns=\"http://www.w3.org/2000/svg\" height=\"24px\"viewBox=\"0 0 24 24\"\n",
       "       width=\"24px\">\n",
       "    <path d=\"M0 0h24v24H0V0z\" fill=\"none\"/>\n",
       "    <path d=\"M18.56 5.44l.94 2.06.94-2.06 2.06-.94-2.06-.94-.94-2.06-.94 2.06-2.06.94zm-11 1L8.5 8.5l.94-2.06 2.06-.94-2.06-.94L8.5 2.5l-.94 2.06-2.06.94zm10 10l.94 2.06.94-2.06 2.06-.94-2.06-.94-.94-2.06-.94 2.06-2.06.94z\"/><path d=\"M17.41 7.96l-1.37-1.37c-.4-.4-.92-.59-1.43-.59-.52 0-1.04.2-1.43.59L10.3 9.45l-7.72 7.72c-.78.78-.78 2.05 0 2.83L4 21.41c.39.39.9.59 1.41.59.51 0 1.02-.2 1.41-.59l7.78-7.78 2.81-2.81c.8-.78.8-2.07 0-2.86zM5.41 20L4 18.59l7.72-7.72 1.47 1.35L5.41 20z\"/>\n",
       "  </svg>\n",
       "      </button>\n",
       "      \n",
       "  <style>\n",
       "    .colab-df-container {\n",
       "      display:flex;\n",
       "      flex-wrap:wrap;\n",
       "      gap: 12px;\n",
       "    }\n",
       "\n",
       "    .colab-df-convert {\n",
       "      background-color: #E8F0FE;\n",
       "      border: none;\n",
       "      border-radius: 50%;\n",
       "      cursor: pointer;\n",
       "      display: none;\n",
       "      fill: #1967D2;\n",
       "      height: 32px;\n",
       "      padding: 0 0 0 0;\n",
       "      width: 32px;\n",
       "    }\n",
       "\n",
       "    .colab-df-convert:hover {\n",
       "      background-color: #E2EBFA;\n",
       "      box-shadow: 0px 1px 2px rgba(60, 64, 67, 0.3), 0px 1px 3px 1px rgba(60, 64, 67, 0.15);\n",
       "      fill: #174EA6;\n",
       "    }\n",
       "\n",
       "    [theme=dark] .colab-df-convert {\n",
       "      background-color: #3B4455;\n",
       "      fill: #D2E3FC;\n",
       "    }\n",
       "\n",
       "    [theme=dark] .colab-df-convert:hover {\n",
       "      background-color: #434B5C;\n",
       "      box-shadow: 0px 1px 3px 1px rgba(0, 0, 0, 0.15);\n",
       "      filter: drop-shadow(0px 1px 2px rgba(0, 0, 0, 0.3));\n",
       "      fill: #FFFFFF;\n",
       "    }\n",
       "  </style>\n",
       "\n",
       "      <script>\n",
       "        const buttonEl =\n",
       "          document.querySelector('#df-5d647b5f-98a6-4a03-86a1-72d4f8f2445f button.colab-df-convert');\n",
       "        buttonEl.style.display =\n",
       "          google.colab.kernel.accessAllowed ? 'block' : 'none';\n",
       "\n",
       "        async function convertToInteractive(key) {\n",
       "          const element = document.querySelector('#df-5d647b5f-98a6-4a03-86a1-72d4f8f2445f');\n",
       "          const dataTable =\n",
       "            await google.colab.kernel.invokeFunction('convertToInteractive',\n",
       "                                                     [key], {});\n",
       "          if (!dataTable) return;\n",
       "\n",
       "          const docLinkHtml = 'Like what you see? Visit the ' +\n",
       "            '<a target=\"_blank\" href=https://colab.research.google.com/notebooks/data_table.ipynb>data table notebook</a>'\n",
       "            + ' to learn more about interactive tables.';\n",
       "          element.innerHTML = '';\n",
       "          dataTable['output_type'] = 'display_data';\n",
       "          await google.colab.output.renderOutput(dataTable, element);\n",
       "          const docLink = document.createElement('div');\n",
       "          docLink.innerHTML = docLinkHtml;\n",
       "          element.appendChild(docLink);\n",
       "        }\n",
       "      </script>\n",
       "    </div>\n",
       "  </div>\n",
       "  "
      ],
      "text/plain": [
       "                  label                                               text  \\\n",
       "0  financial_statements  \\n\\n\\n \\n \\n 7\\n million when the Company meet...   \n",
       "1  financial_statements  \\n\\n \\n\\n\\nLevel 3 Inputs that are generally u...   \n",
       "2          risk_factors  \\n\\n \\n\\n\\nOur products are complex and have a...   \n",
       "3          risk_factors  \\n\\n \\n\\n\\nii Customer Support Revenue\\n\\n\\n \\...   \n",
       "4      form_10k_summary  \\n \\n\\n\\n \\n \\n\\n2020\\n\\n \\n \\n\\n2019\\n\\n \\n\\n...   \n",
       "\n",
       "                   result  \n",
       "0  [financial_statements]  \n",
       "1  [financial_statements]  \n",
       "2          [risk_factors]  \n",
       "3  [financial_statements]  \n",
       "4  [financial_statements]  "
      ]
     },
     "execution_count": 42,
     "metadata": {},
     "output_type": "execute_result"
    }
   ],
   "source": [
    "preds_df.head()"
   ]
  },
  {
   "cell_type": "code",
   "execution_count": null,
   "id": "eVFKUw5cZeXB",
   "metadata": {
    "colab": {
     "base_uri": "https://localhost:8080/"
    },
    "id": "eVFKUw5cZeXB",
    "outputId": "00cfbecc-dac0-4e1b-a0e1-74fdff4397d8"
   },
   "outputs": [
    {
     "name": "stdout",
     "output_type": "stream",
     "text": [
      "Training started - epochs: 8 - learning_rate: 0.001 - batch_size: 64 - training_examples: 9783 - classes: 14\n",
      "Epoch 0/8 - 1.31s - loss: 352.6541 - acc: 0.57318145 - batches: 153\n",
      "Epoch 1/8 - 1.09s - loss: 348.1564 - acc: 0.5952826 - batches: 153\n",
      "Epoch 2/8 - 1.09s - loss: 347.85394 - acc: 0.596105 - batches: 153\n",
      "Epoch 3/8 - 1.08s - loss: 347.59656 - acc: 0.5982637 - batches: 153\n",
      "Epoch 4/8 - 1.06s - loss: 347.57974 - acc: 0.59982246 - batches: 153\n",
      "Epoch 5/8 - 1.11s - loss: 347.59897 - acc: 0.600542 - batches: 153\n",
      "Epoch 6/8 - 1.10s - loss: 347.61884 - acc: 0.6012784 - batches: 153\n",
      "Epoch 7/8 - 1.07s - loss: 347.6311 - acc: 0.601998 - batches: 153\n",
      "\n"
     ]
    }
   ],
   "source": [
    "log_files = os.listdir(\"/root/annotator_logs\")\n",
    "\n",
    "with open(\"/root/annotator_logs/\"+log_files[0], \"r\") as log_file :\n",
    "    print(log_file.read())"
   ]
  },
  {
   "cell_type": "code",
   "execution_count": null,
   "id": "wvc6vZjH0lCS",
   "metadata": {
    "colab": {
     "base_uri": "https://localhost:8080/"
    },
    "id": "wvc6vZjH0lCS",
    "outputId": "75a19349-6dda-464b-dc3a-a749e62ee791"
   },
   "outputs": [
    {
     "name": "stdout",
     "output_type": "stream",
     "text": [
      "                         precision    recall  f1-score   support\n",
      "\n",
      "               business       0.00      0.00      0.00       420\n",
      "    controls_procedures       0.00      0.00      0.00        51\n",
      "                 equity       0.00      0.00      0.00        49\n",
      "             executives       0.00      0.00      0.00        39\n",
      "executives_compensation       0.00      0.00      0.00        80\n",
      "               exhibits       0.00      0.00      0.00        15\n",
      "   financial_conditions       0.00      0.00      0.00       105\n",
      "   financial_statements       0.58      0.96      0.72       743\n",
      "       form_10k_summary       0.00      0.00      0.00       106\n",
      "      legal_proceedings       0.00      0.00      0.00        22\n",
      "            market_risk       0.00      0.00      0.00        46\n",
      "             properties       0.00      0.00      0.00        24\n",
      "           risk_factors       0.59      0.97      0.73       760\n",
      "     security_ownership       0.00      0.00      0.00        14\n",
      "\n",
      "               accuracy                           0.58      2474\n",
      "              macro avg       0.08      0.14      0.10      2474\n",
      "           weighted avg       0.35      0.58      0.44      2474\n",
      "\n"
     ]
    }
   ],
   "source": [
    "# Let's explode the array and get the item(s) inside of result column out\n",
    "preds_df['result'] = preds_df['result'].apply(lambda x : x[0])\n",
    "\n",
    "from sklearn.metrics import classification_report\n",
    "\n",
    "print (classification_report(preds_df['label'], preds_df['result']))\n"
   ]
  },
  {
   "cell_type": "markdown",
   "id": "rMHZmT9_deAQ",
   "metadata": {
    "id": "rMHZmT9_deAQ"
   },
   "source": [
    "# Save model and Zip it for Modelshub Upload/Downloads"
   ]
  },
  {
   "cell_type": "code",
   "execution_count": null,
   "id": "QZ79YbdodfFc",
   "metadata": {
    "colab": {
     "base_uri": "https://localhost:8080/"
    },
    "id": "QZ79YbdodfFc",
    "outputId": "82615b46-9c26-430e-9d87-3bf06439ca19"
   },
   "outputs": [
    {
     "name": "stdout",
     "output_type": "stream",
     "text": [
      "  adding: classifierdl_tensorflow (deflated 58%)\n",
      "  adding: fields/ (stored 0%)\n",
      "  adding: fields/datasetParams/ (stored 0%)\n",
      "  adding: fields/datasetParams/.part-00003.crc (stored 0%)\n",
      "  adding: fields/datasetParams/.part-00002.crc (stored 0%)\n",
      "  adding: fields/datasetParams/part-00000 (deflated 27%)\n",
      "  adding: fields/datasetParams/.part-00000.crc (stored 0%)\n",
      "  adding: fields/datasetParams/part-00002 (deflated 27%)\n",
      "  adding: fields/datasetParams/._SUCCESS.crc (stored 0%)\n",
      "  adding: fields/datasetParams/part-00003 (deflated 32%)\n",
      "  adding: fields/datasetParams/part-00001 (deflated 26%)\n",
      "  adding: fields/datasetParams/.part-00001.crc (stored 0%)\n",
      "  adding: fields/datasetParams/_SUCCESS (stored 0%)\n",
      "  adding: metadata/ (stored 0%)\n",
      "  adding: metadata/part-00000 (deflated 39%)\n",
      "  adding: metadata/.part-00000.crc (stored 0%)\n",
      "  adding: metadata/._SUCCESS.crc (stored 0%)\n",
      "  adding: metadata/_SUCCESS (stored 0%)\n"
     ]
    }
   ],
   "source": [
    "# Save a Spark NLP model\n",
    "clf_pipelineModel.stages[-1].write().overwrite().save('ClfBert')\n",
    "\n",
    "# cd into saved dir and zip\n",
    "! cd /content/ClfBert ; zip -r /content/ClfBert.zip *"
   ]
  },
  {
   "cell_type": "code",
   "execution_count": null,
   "id": "tfinWtXTRynE",
   "metadata": {
    "id": "tfinWtXTRynE"
   },
   "outputs": [],
   "source": []
  }
 ],
 "metadata": {
  "accelerator": "GPU",
  "colab": {
   "machine_shape": "hm",
   "provenance": []
  },
  "gpuClass": "standard",
  "kernelspec": {
   "display_name": "Python 3",
   "name": "python3"
  },
  "language_info": {
   "name": "python"
  }
 },
 "nbformat": 4,
 "nbformat_minor": 5
}
