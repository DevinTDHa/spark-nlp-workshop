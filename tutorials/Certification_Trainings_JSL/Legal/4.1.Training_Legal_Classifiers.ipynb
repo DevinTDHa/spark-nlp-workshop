{
  "cells": [
    {
      "cell_type": "markdown",
      "id": "KLqW6FOnEvov",
      "metadata": {
        "id": "KLqW6FOnEvov"
      },
      "source": [
        "# Training Classification Models with Legal NLP"
      ]
    },
    {
      "cell_type": "markdown",
      "id": "wxZDXLDCXkk_",
      "metadata": {
        "id": "wxZDXLDCXkk_"
      },
      "source": [
        "\n",
        "![JohnSnowLabs](https://nlp.johnsnowlabs.com/assets/images/logo.png)\n"
      ]
    },
    {
      "cell_type": "markdown",
      "id": "pZ6sKi8ZX1z4",
      "metadata": {
        "id": "pZ6sKi8ZX1z4"
      },
      "source": [
        "[![Open In Colab](https://colab.research.google.com/assets/colab-badge.svg)](https://colab.research.google.com/github/JohnSnowLabs/spark-nlp-workshop/blob/master/tutorials/Certification_Trainings_JSL/Legal/4.1.Training_Legal_Classifiers.ipynb)"
      ]
    },
    {
      "cell_type": "markdown",
      "id": "245d53bb",
      "metadata": {
        "id": "245d53bb"
      },
      "source": [
        "In this notebook, you will learn how to use Spark NLP and Legal NLP to train custom classification models.\n",
        "\n",
        "Let`s dive in!"
      ]
    },
    {
      "cell_type": "markdown",
      "id": "RPprYrOB-O7L",
      "metadata": {
        "id": "RPprYrOB-O7L"
      },
      "source": [
        "# Colab Setup"
      ]
    },
    {
      "cell_type": "code",
      "execution_count": 1,
      "id": "4914b00f-abd2-4449-9a4f-737f317317be",
      "metadata": {
        "id": "4914b00f-abd2-4449-9a4f-737f317317be",
        "colab": {
          "base_uri": "https://localhost:8080/"
        },
        "outputId": "5a1f6dac-b02b-4362-b114-10751e2e6232"
      },
      "outputs": [
        {
          "output_type": "stream",
          "name": "stdout",
          "text": [
            "\u001b[2K     \u001b[90m━━━━━━━━━━━━━━━━━━━━━━━━━━━━━━━━━━━━━━━━\u001b[0m \u001b[32m74.2/74.2 KB\u001b[0m \u001b[31m3.4 MB/s\u001b[0m eta \u001b[36m0:00:00\u001b[0m\n",
            "\u001b[2K     \u001b[90m━━━━━━━━━━━━━━━━━━━━━━━━━━━━━━━━━━━━━━━\u001b[0m \u001b[32m212.4/212.4 MB\u001b[0m \u001b[31m4.3 MB/s\u001b[0m eta \u001b[36m0:00:00\u001b[0m\n",
            "\u001b[?25h  Preparing metadata (setup.py) ... \u001b[?25l\u001b[?25hdone\n",
            "\u001b[2K     \u001b[90m━━━━━━━━━━━━━━━━━━━━━━━━━━━━━━━━━━━━━━\u001b[0m \u001b[32m570.6/570.6 KB\u001b[0m \u001b[31m38.8 MB/s\u001b[0m eta \u001b[36m0:00:00\u001b[0m\n",
            "\u001b[2K     \u001b[90m━━━━━━━━━━━━━━━━━━━━━━━━━━━━━━━━━━━━━━━━\u001b[0m \u001b[32m95.4/95.4 KB\u001b[0m \u001b[31m11.5 MB/s\u001b[0m eta \u001b[36m0:00:00\u001b[0m\n",
            "\u001b[2K     \u001b[90m━━━━━━━━━━━━━━━━━━━━━━━━━━━━━━━━━━━━━━\u001b[0m \u001b[32m448.4/448.4 KB\u001b[0m \u001b[31m33.2 MB/s\u001b[0m eta \u001b[36m0:00:00\u001b[0m\n",
            "\u001b[2K     \u001b[90m━━━━━━━━━━━━━━━━━━━━━━━━━━━━━━━━━━━━━━\u001b[0m \u001b[32m198.6/198.6 KB\u001b[0m \u001b[31m23.2 MB/s\u001b[0m eta \u001b[36m0:00:00\u001b[0m\n",
            "\u001b[2K     \u001b[90m━━━━━━━━━━━━━━━━━━━━━━━━━━━━━━━━━━━━━━━━\u001b[0m \u001b[32m66.9/66.9 KB\u001b[0m \u001b[31m7.7 MB/s\u001b[0m eta \u001b[36m0:00:00\u001b[0m\n",
            "\u001b[2K     \u001b[90m━━━━━━━━━━━━━━━━━━━━━━━━━━━━━━━━━━━━━━━━\u001b[0m \u001b[32m82.3/82.3 KB\u001b[0m \u001b[31m10.2 MB/s\u001b[0m eta \u001b[36m0:00:00\u001b[0m\n",
            "\u001b[?25h  Preparing metadata (setup.py) ... \u001b[?25l\u001b[?25hdone\n",
            "\u001b[2K     \u001b[90m━━━━━━━━━━━━━━━━━━━━━━━━━━━━━━━━━━━━━━━━\u001b[0m \u001b[32m1.6/1.6 MB\u001b[0m \u001b[31m66.6 MB/s\u001b[0m eta \u001b[36m0:00:00\u001b[0m\n",
            "\u001b[?25h  Building wheel for pyspark (setup.py) ... \u001b[?25l\u001b[?25hdone\n",
            "  Building wheel for databricks-cli (setup.py) ... \u001b[?25l\u001b[?25hdone\n"
          ]
        }
      ],
      "source": [
        "# Install the johnsnowlabs library to access Spark-OCR and Spark-NLP for Healthcare, Finance, and Legal.\n",
        "! pip install -q johnsnowlabs"
      ]
    },
    {
      "cell_type": "code",
      "execution_count": 2,
      "id": "JOzbTlCRNvVd",
      "metadata": {
        "id": "JOzbTlCRNvVd",
        "colab": {
          "base_uri": "https://localhost:8080/",
          "height": 295
        },
        "outputId": "a6a300f3-638a-4c92-f2ed-6b310c7e6a2a"
      },
      "outputs": [
        {
          "output_type": "display_data",
          "data": {
            "text/plain": [
              "<IPython.core.display.Javascript object>"
            ],
            "application/javascript": [
              "\n",
              "        var a = document.createElement(\"a\");\n",
              "        a.id=\"auth-btn\"\n",
              "        a.setAttribute(\"target\", \"_blank\");\n",
              "        a.href=\"https://my.johnsnowlabs.com/oauth/authorize/?client_id=sI4MKSmLHOX2Pg7XhM3McJS2oyKG5PHcp0BlANEW&response_type=code&code_challenge_method=S256&code_challenge=77whwtHnbWbjo6mzS7ZhcpBDd9P5KuKLt1unThX9xik&redirect_uri=https%3A%2F%2F66e4u6rbcgl-496ff2e9c6d22116-8000-colab.googleusercontent.com%2Flogin\";\n",
              "        a.style=\"padding:15px 20px;background-color:#0298d9;border-radius:7px;color:white;text-decoration:none;\"\n",
              "        a.innerText=\"Click here to Authorize on My.Johnsnowlabs.com\"\n",
              "        document.body.appendChild(a);\n",
              "        document.body.style = \"text-align:center;padding-top:15px;\"\n",
              "        a.click()\n",
              "      "
            ]
          },
          "metadata": {}
        },
        {
          "output_type": "stream",
          "name": "stderr",
          "text": [
            "127.0.0.1 - - [09/Jan/2023 13:43:41] \"GET /login?code=gpINstDr4UFM2NNQlHf2M206lsgA3k HTTP/1.1\" 200 -\n"
          ]
        },
        {
          "output_type": "display_data",
          "data": {
            "text/plain": [
              "<IPython.core.display.Javascript object>"
            ],
            "application/javascript": [
              "document.body.removeChild(a);"
            ]
          },
          "metadata": {}
        },
        {
          "output_type": "stream",
          "name": "stdout",
          "text": [
            "Downloading license...\n",
            "Licenses extracted successfully\n",
            "📋 Stored John Snow Labs License in /root/.johnsnowlabs/licenses/license_number_0_for_Spark-Healthcare_Spark-OCR.json\n",
            "👷 Setting up  John Snow Labs home in /root/.johnsnowlabs, this might take a few minutes.\n",
            "Downloading 🐍+🚀 Python Library spark_nlp-4.2.4-py2.py3-none-any.whl\n",
            "Downloading 🐍+💊 Python Library spark_nlp_jsl-4.2.4-py3-none-any.whl\n",
            "Downloading 🫘+🚀 Java Library spark-nlp-assembly-4.2.4.jar\n",
            "Downloading 🫘+💊 Java Library spark-nlp-jsl-4.2.4.jar\n",
            "🙆 JSL Home setup in /root/.johnsnowlabs\n",
            "Installing /root/.johnsnowlabs/py_installs/spark_nlp_jsl-4.2.4-py3-none-any.whl to /usr/bin/python3\n",
            "Running: /usr/bin/python3 -m pip install /root/.johnsnowlabs/py_installs/spark_nlp_jsl-4.2.4-py3-none-any.whl\n",
            "Installed 1 products:\n",
            "💊 Spark-Healthcare==4.2.4 installed! ✅ Heal the planet with NLP! \n"
          ]
        }
      ],
      "source": [
        "from johnsnowlabs import nlp, legal\n",
        "# After uploading your license run this to install all licensed Python Wheels and pre-download Jars the Spark Session JVM\n",
        "# Make sure to restart your notebook afterwards for changes to take effect\n",
        "nlp.install(force_browser=True)"
      ]
    },
    {
      "cell_type": "markdown",
      "id": "09fafa4b-cf69-4556-ae50-adb9fc6f4368",
      "metadata": {
        "id": "09fafa4b-cf69-4556-ae50-adb9fc6f4368"
      },
      "source": [
        "## Start Spark Session"
      ]
    },
    {
      "cell_type": "code",
      "execution_count": 3,
      "id": "lQ8-BI-_5QjG",
      "metadata": {
        "id": "lQ8-BI-_5QjG",
        "colab": {
          "base_uri": "https://localhost:8080/"
        },
        "outputId": "5029668c-51ff-43d5-bad1-590c7f3e5a69"
      },
      "outputs": [
        {
          "output_type": "stream",
          "name": "stdout",
          "text": [
            "👌 Launched \u001b[92mcpu optimized\u001b[39m session with with: 🚀Spark-NLP==4.2.4, 💊Spark-Healthcare==4.2.4, running on ⚡ PySpark==3.1.2\n"
          ]
        }
      ],
      "source": [
        "from johnsnowlabs import nlp, legal \n",
        "# Automatically load license data and start a session with all jars user has access to\n",
        "spark = nlp.start()"
      ]
    },
    {
      "cell_type": "markdown",
      "id": "e9d3bac3",
      "metadata": {
        "id": "e9d3bac3"
      },
      "source": [
        "## Introduction"
      ]
    },
    {
      "cell_type": "markdown",
      "id": "fd9e23a6",
      "metadata": {
        "id": "fd9e23a6"
      },
      "source": [
        "For the text classification tasks, we will use two annotators:\n",
        "\n",
        "- `MultiClassifierDL`: `Multilabel Classification` (can predict more than one class for each text) using a Bidirectional GRU with Convolution architecture built with TensorFlow that supports up to 100 classes. The inputs are Sentence Embeddings such as state-of-the-art UniversalSentenceEncoder, BertSentenceEmbeddings or SentenceEmbeddings.\n",
        "- `ClassifierDL`: uses the state-of-the-art Universal Sentence Encoder as an input for text classifications. Then, a deep learning model (DNNs) built with TensorFlow that supports `Binary Classification` and `Multiclass Classification` (up to 100 classes)."
      ]
    },
    {
      "cell_type": "markdown",
      "id": "MulDEC2j4ly3",
      "metadata": {
        "id": "MulDEC2j4ly3"
      },
      "source": [
        "# Multilabel classifier training"
      ]
    },
    {
      "cell_type": "markdown",
      "id": "BhKlxMBWH9-Z",
      "metadata": {
        "id": "BhKlxMBWH9-Z"
      },
      "source": [
        "## Loading the data"
      ]
    },
    {
      "cell_type": "code",
      "execution_count": 4,
      "id": "2Ab4pyK6MyCZ",
      "metadata": {
        "id": "2Ab4pyK6MyCZ"
      },
      "outputs": [],
      "source": [
        "! wget -q https://raw.githubusercontent.com/JohnSnowLabs/spark-nlp-workshop/master/tutorials/Certification_Trainings_JSL/Legal/data/finance_data.csv"
      ]
    },
    {
      "cell_type": "code",
      "execution_count": 5,
      "id": "gaRulasEKZK3",
      "metadata": {
        "id": "gaRulasEKZK3",
        "colab": {
          "base_uri": "https://localhost:8080/"
        },
        "outputId": "68dbe020-2fb9-4a80-a9d6-a971add2fd30"
      },
      "outputs": [
        {
          "output_type": "stream",
          "name": "stdout",
          "text": [
            "Shape of the full dataset: (27527, 2)\n"
          ]
        }
      ],
      "source": [
        "import pandas as pd\n",
        "df = pd.read_csv('./finance_data.csv')\n",
        "df['label'] = df['label'].apply(eval)\n",
        "print(f\"Shape of the full dataset: {df.shape}\")"
      ]
    },
    {
      "cell_type": "markdown",
      "source": [
        "> We will use a sample from this dataset to avoid making the training process faster (to illustrate how to perform them). Use the full dataset if you want to experiment with it and achieve more realistic results. \n",
        ">\n",
        "> The sample has size of 500 observations only, please keep in mind that this will impact the accuracy and generalization capabilities of the model. Since the dataset is smaller now, we use 90% of it to train the model and the other 10% for testing."
      ],
      "metadata": {
        "id": "jMRVLpGDq3zV"
      },
      "id": "jMRVLpGDq3zV"
    },
    {
      "cell_type": "code",
      "execution_count": 6,
      "id": "bUFO8usqKt2Z",
      "metadata": {
        "id": "bUFO8usqKt2Z"
      },
      "outputs": [],
      "source": [
        "data = spark.createDataFrame(df)\n",
        "\n",
        "# If you have a single dataset, then split it or else you can load the test dataset the same way that you load the train data.\n",
        "train, test = data.limit(500).randomSplit([0.9, 0.2], seed=42)"
      ]
    },
    {
      "cell_type": "code",
      "execution_count": 7,
      "id": "bowhz89ZbN1C",
      "metadata": {
        "colab": {
          "base_uri": "https://localhost:8080/"
        },
        "id": "bowhz89ZbN1C",
        "outputId": "c96cbc74-3b55-4fa7-b1d0-666397e9c977"
      },
      "outputs": [
        {
          "output_type": "stream",
          "name": "stdout",
          "text": [
            "+--------------------------------------------------+---------------------+\n",
            "|                                         provision|                label|\n",
            "+--------------------------------------------------+---------------------+\n",
            "|(a) Seller, the Agent, each Managing Agent, eac...|        [assignments]|\n",
            "|(a)  The provisions of this Agreement shall be ...|[assigns, successors]|\n",
            "|(a) This Agreement may be executed by one or mo...|       [counterparts]|\n",
            "|All Bank Expenses (including reasonable attorne...|           [expenses]|\n",
            "|All agreements, representations and warranties ...|           [survival]|\n",
            "|All communications hereunder will be in writing...|            [notices]|\n",
            "|All covenants, agreements, representations and ...|           [survival]|\n",
            "|All covenants, agreements, representations and ...|           [survival]|\n",
            "|All demands, notices and communications hereund...|            [notices]|\n",
            "|All headings and subdivisions of this Agreement...|       [severability]|\n",
            "|All issues and questions concerning the constru...|     [governing laws]|\n",
            "|All notices and communications that are require...|            [notices]|\n",
            "|All notices and other communications given or m...|            [notices]|\n",
            "|All notices and other communications given or m...|            [notices]|\n",
            "|All notices and other communications hereunder ...|            [notices]|\n",
            "|All notices and other communications hereunder ...|            [notices]|\n",
            "|All notices and other communications provided f...|            [notices]|\n",
            "|All notices and other communications provided f...|            [notices]|\n",
            "|All notices and other communications required o...|            [notices]|\n",
            "|All notices and other communications required o...|            [notices]|\n",
            "+--------------------------------------------------+---------------------+\n",
            "only showing top 20 rows\n",
            "\n"
          ]
        }
      ],
      "source": [
        "train.show(truncate=50)"
      ]
    },
    {
      "cell_type": "code",
      "execution_count": 8,
      "id": "RZ0xy9hpebLe",
      "metadata": {
        "colab": {
          "base_uri": "https://localhost:8080/"
        },
        "id": "RZ0xy9hpebLe",
        "outputId": "6763dd69-694a-4ba2-926e-6cdd81de2b51"
      },
      "outputs": [
        {
          "output_type": "stream",
          "name": "stdout",
          "text": [
            "+--------------------+-----+\n",
            "|               label|count|\n",
            "+--------------------+-----+\n",
            "|      [counterparts]|    9|\n",
            "| [entire agreements]|    8|\n",
            "|        [amendments]|    7|\n",
            "|           [notices]|    7|\n",
            "|      [severability]|    5|\n",
            "|          [survival]|    4|\n",
            "|           [waivers]|    4|\n",
            "|[assigns, success...|    4|\n",
            "|[representations,...|    3|\n",
            "|      [terminations]|    3|\n",
            "|       [assignments]|    3|\n",
            "|          [expenses]|    2|\n",
            "|    [governing laws]|    2|\n",
            "|[governing laws, ...|    2|\n",
            "|        [successors]|    2|\n",
            "|   [representations]|    1|\n",
            "|        [warranties]|    1|\n",
            "|[amendments, enti...|    1|\n",
            "+--------------------+-----+\n",
            "\n"
          ]
        }
      ],
      "source": [
        "from pyspark.sql.functions import col\n",
        "\n",
        "test.groupBy(\"label\").count().orderBy(col(\"count\").desc()).show()\n"
      ]
    },
    {
      "cell_type": "markdown",
      "id": "78sjKvMKcHdn",
      "metadata": {
        "id": "78sjKvMKcHdn"
      },
      "source": [
        " ## With Universal Encoder"
      ]
    },
    {
      "cell_type": "code",
      "execution_count": 10,
      "id": "oFl9orR5LrUu",
      "metadata": {
        "id": "oFl9orR5LrUu",
        "colab": {
          "base_uri": "https://localhost:8080/"
        },
        "outputId": "525d99d0-e790-4c7f-9c17-240e820b9eae"
      },
      "outputs": [
        {
          "output_type": "stream",
          "name": "stdout",
          "text": [
            "tfhub_use download started this may take some time.\n",
            "Approximate size to download 923.7 MB\n",
            "[OK!]\n"
          ]
        }
      ],
      "source": [
        "document_assembler = (\n",
        "    nlp.DocumentAssembler()\n",
        "    .setInputCol(\"provision\")\n",
        "    .setOutputCol(\"document\")\n",
        "    .setCleanupMode(\"shrink\")\n",
        ")\n",
        "\n",
        "embeddings = (\n",
        "    nlp.UniversalSentenceEncoder.pretrained()\n",
        "    .setInputCols(\"document\")\n",
        "    .setOutputCol(\"sentence_embeddings\")\n",
        ")\n",
        "\n",
        "classifierdl = (\n",
        "    nlp.MultiClassifierDLApproach()\n",
        "    .setInputCols([\"sentence_embeddings\"])\n",
        "    .setOutputCol(\"class\")\n",
        "    .setLabelColumn(\"label\")\n",
        "    .setMaxEpochs(30)\n",
        "    .setLr(0.001)\n",
        "    .setRandomSeed(42)\n",
        "    .setEnableOutputLogs(True)\n",
        "    .setOutputLogsPath(\"multilabel_use_logs\")\n",
        "    .setBatchSize(8)\n",
        ")\n",
        "\n",
        "clf_pipeline = nlp.Pipeline(stages=[document_assembler, embeddings, classifierdl])"
      ]
    },
    {
      "cell_type": "markdown",
      "id": "19d62bec",
      "metadata": {
        "id": "19d62bec"
      },
      "source": [
        "Since this model can takes longer time to train, we will limit (reduce) the size of the training data to avoid having it training for hours. \n",
        "\n",
        "> Please note that this reduction can greatly impact the performance of the model"
      ]
    },
    {
      "cell_type": "code",
      "execution_count": 11,
      "id": "8kcgVr07MUss",
      "metadata": {
        "colab": {
          "base_uri": "https://localhost:8080/"
        },
        "id": "8kcgVr07MUss",
        "outputId": "e85b86b4-ab3e-4214-8cb0-d7ac61f91fbe"
      },
      "outputs": [
        {
          "output_type": "stream",
          "name": "stdout",
          "text": [
            "CPU times: user 337 ms, sys: 42.6 ms, total: 380 ms\n",
            "Wall time: 1min 1s\n"
          ]
        }
      ],
      "source": [
        "%%time\n",
        "clf_pipelineModel = clf_pipeline.fit(train)"
      ]
    },
    {
      "cell_type": "code",
      "execution_count": 12,
      "id": "p88hMraHOac9",
      "metadata": {
        "colab": {
          "base_uri": "https://localhost:8080/"
        },
        "id": "p88hMraHOac9",
        "outputId": "7be525a1-853c-43aa-c029-6ada4c1b5c8f"
      },
      "outputs": [
        {
          "output_type": "stream",
          "name": "stdout",
          "text": [
            "Training started - epochs: 30 - learning_rate: 0.001 - batch_size: 8 - training_examples: 432 - classes: 15\n",
            "Epoch 0/30 - 3.28s - loss: 0.34755498 - acc: 0.91280854 - batches: 54\n",
            "Epoch 1/30 - 0.73s - loss: 0.24667196 - acc: 0.9234566 - batches: 54\n",
            "Epoch 2/30 - 0.72s - loss: 0.2096713 - acc: 0.93163574 - batches: 54\n",
            "Epoch 3/30 - 0.70s - loss: 0.17545508 - acc: 0.94074094 - batches: 54\n",
            "Epoch 4/30 - 0.70s - loss: 0.15081559 - acc: 0.9478394 - batches: 54\n",
            "Epoch 5/30 - 0.69s - loss: 0.13488992 - acc: 0.9533951 - batches: 54\n",
            "Epoch 6/30 - 0.68s - loss: 0.12369589 - acc: 0.9557098 - batches: 54\n",
            "Epoch 7/30 - 0.68s - loss: 0.114798985 - acc: 0.9583333 - batches: 54\n",
            "Epoch 8/30 - 0.67s - loss: 0.10730778 - acc: 0.9598766 - batches: 54\n",
            "Epoch 9/30 - 0.68s - loss: 0.10088395 - acc: 0.96311724 - batches: 54\n",
            "Epoch 10/30 - 0.68s - loss: 0.09533796 - acc: 0.96543205 - batches: 54\n",
            "Epoch 11/30 - 0.68s - loss: 0.09051009 - acc: 0.9674382 - batches: 54\n",
            "Epoch 12/30 - 0.71s - loss: 0.0862858 - acc: 0.9688271 - batches: 54\n",
            "Epoch 13/30 - 0.70s - loss: 0.08256914 - acc: 0.9700616 - batches: 54\n",
            "Epoch 14/30 - 0.68s - loss: 0.07927738 - acc: 0.97083324 - batches: 54\n",
            "Epoch 15/30 - 0.68s - loss: 0.07634688 - acc: 0.9725307 - batches: 54\n",
            "Epoch 16/30 - 0.69s - loss: 0.07372202 - acc: 0.9740739 - batches: 54\n",
            "Epoch 17/30 - 0.70s - loss: 0.07135321 - acc: 0.97530854 - batches: 54\n",
            "Epoch 18/30 - 0.68s - loss: 0.06920306 - acc: 0.9760802 - batches: 54\n",
            "Epoch 19/30 - 0.68s - loss: 0.06723816 - acc: 0.97669744 - batches: 54\n",
            "Epoch 20/30 - 0.68s - loss: 0.065434106 - acc: 0.9776234 - batches: 54\n",
            "Epoch 21/30 - 0.68s - loss: 0.06376954 - acc: 0.9777778 - batches: 54\n",
            "Epoch 22/30 - 0.68s - loss: 0.062225524 - acc: 0.9777778 - batches: 54\n",
            "Epoch 23/30 - 0.73s - loss: 0.060787242 - acc: 0.9783951 - batches: 54\n",
            "Epoch 24/30 - 0.78s - loss: 0.059443284 - acc: 0.9787037 - batches: 54\n",
            "Epoch 25/30 - 0.69s - loss: 0.058182772 - acc: 0.97885805 - batches: 54\n",
            "Epoch 26/30 - 0.66s - loss: 0.05699759 - acc: 0.979321 - batches: 54\n",
            "Epoch 27/30 - 0.67s - loss: 0.055879857 - acc: 0.97962964 - batches: 54\n",
            "Epoch 28/30 - 0.71s - loss: 0.054823227 - acc: 0.98024696 - batches: 54\n",
            "Epoch 29/30 - 0.67s - loss: 0.05382225 - acc: 0.9808641 - batches: 54\n",
            "\n"
          ]
        }
      ],
      "source": [
        "import os\n",
        "log_file_name = os.listdir(\"multilabel_use_logs\")[0]\n",
        "\n",
        "with open(\"multilabel_use_logs/\"+log_file_name, \"r\") as log_file :\n",
        "    print(log_file.read())"
      ]
    },
    {
      "cell_type": "code",
      "execution_count": 13,
      "id": "cwf0OM2Oy6Hd",
      "metadata": {
        "id": "cwf0OM2Oy6Hd"
      },
      "outputs": [],
      "source": [
        "preds = clf_pipelineModel.transform(test)"
      ]
    },
    {
      "cell_type": "code",
      "execution_count": 14,
      "id": "jUKamU-50kZi",
      "metadata": {
        "colab": {
          "base_uri": "https://localhost:8080/",
          "height": 268
        },
        "id": "jUKamU-50kZi",
        "outputId": "f8bed372-fbc4-4346-fbb8-a8414517001b"
      },
      "outputs": [
        {
          "output_type": "execute_result",
          "data": {
            "text/plain": [
              "                                 label  \\\n",
              "0  [governing laws, entire agreements]   \n",
              "1                           [survival]   \n",
              "2                           [survival]   \n",
              "3                           [survival]   \n",
              "4                            [notices]   \n",
              "\n",
              "                                           provision  \\\n",
              "0  (a) THIS AGREEMENT AND ANY CLAIM, CONTROVERSY,...   \n",
              "1  All agreements, statements, representations an...   \n",
              "2  All covenants of the Company contained in this...   \n",
              "3  All indemnities set forth herein including, wi...   \n",
              "4  All notices and other communications hereunder...   \n",
              "\n",
              "                                result  \n",
              "0  [governing laws, entire agreements]  \n",
              "1                         [warranties]  \n",
              "2                                   []  \n",
              "3                           [survival]  \n",
              "4                            [notices]  "
            ],
            "text/html": [
              "\n",
              "  <div id=\"df-63f44b09-8c99-4623-94b6-2e47940057c1\">\n",
              "    <div class=\"colab-df-container\">\n",
              "      <div>\n",
              "<style scoped>\n",
              "    .dataframe tbody tr th:only-of-type {\n",
              "        vertical-align: middle;\n",
              "    }\n",
              "\n",
              "    .dataframe tbody tr th {\n",
              "        vertical-align: top;\n",
              "    }\n",
              "\n",
              "    .dataframe thead th {\n",
              "        text-align: right;\n",
              "    }\n",
              "</style>\n",
              "<table border=\"1\" class=\"dataframe\">\n",
              "  <thead>\n",
              "    <tr style=\"text-align: right;\">\n",
              "      <th></th>\n",
              "      <th>label</th>\n",
              "      <th>provision</th>\n",
              "      <th>result</th>\n",
              "    </tr>\n",
              "  </thead>\n",
              "  <tbody>\n",
              "    <tr>\n",
              "      <th>0</th>\n",
              "      <td>[governing laws, entire agreements]</td>\n",
              "      <td>(a) THIS AGREEMENT AND ANY CLAIM, CONTROVERSY,...</td>\n",
              "      <td>[governing laws, entire agreements]</td>\n",
              "    </tr>\n",
              "    <tr>\n",
              "      <th>1</th>\n",
              "      <td>[survival]</td>\n",
              "      <td>All agreements, statements, representations an...</td>\n",
              "      <td>[warranties]</td>\n",
              "    </tr>\n",
              "    <tr>\n",
              "      <th>2</th>\n",
              "      <td>[survival]</td>\n",
              "      <td>All covenants of the Company contained in this...</td>\n",
              "      <td>[]</td>\n",
              "    </tr>\n",
              "    <tr>\n",
              "      <th>3</th>\n",
              "      <td>[survival]</td>\n",
              "      <td>All indemnities set forth herein including, wi...</td>\n",
              "      <td>[survival]</td>\n",
              "    </tr>\n",
              "    <tr>\n",
              "      <th>4</th>\n",
              "      <td>[notices]</td>\n",
              "      <td>All notices and other communications hereunder...</td>\n",
              "      <td>[notices]</td>\n",
              "    </tr>\n",
              "  </tbody>\n",
              "</table>\n",
              "</div>\n",
              "      <button class=\"colab-df-convert\" onclick=\"convertToInteractive('df-63f44b09-8c99-4623-94b6-2e47940057c1')\"\n",
              "              title=\"Convert this dataframe to an interactive table.\"\n",
              "              style=\"display:none;\">\n",
              "        \n",
              "  <svg xmlns=\"http://www.w3.org/2000/svg\" height=\"24px\"viewBox=\"0 0 24 24\"\n",
              "       width=\"24px\">\n",
              "    <path d=\"M0 0h24v24H0V0z\" fill=\"none\"/>\n",
              "    <path d=\"M18.56 5.44l.94 2.06.94-2.06 2.06-.94-2.06-.94-.94-2.06-.94 2.06-2.06.94zm-11 1L8.5 8.5l.94-2.06 2.06-.94-2.06-.94L8.5 2.5l-.94 2.06-2.06.94zm10 10l.94 2.06.94-2.06 2.06-.94-2.06-.94-.94-2.06-.94 2.06-2.06.94z\"/><path d=\"M17.41 7.96l-1.37-1.37c-.4-.4-.92-.59-1.43-.59-.52 0-1.04.2-1.43.59L10.3 9.45l-7.72 7.72c-.78.78-.78 2.05 0 2.83L4 21.41c.39.39.9.59 1.41.59.51 0 1.02-.2 1.41-.59l7.78-7.78 2.81-2.81c.8-.78.8-2.07 0-2.86zM5.41 20L4 18.59l7.72-7.72 1.47 1.35L5.41 20z\"/>\n",
              "  </svg>\n",
              "      </button>\n",
              "      \n",
              "  <style>\n",
              "    .colab-df-container {\n",
              "      display:flex;\n",
              "      flex-wrap:wrap;\n",
              "      gap: 12px;\n",
              "    }\n",
              "\n",
              "    .colab-df-convert {\n",
              "      background-color: #E8F0FE;\n",
              "      border: none;\n",
              "      border-radius: 50%;\n",
              "      cursor: pointer;\n",
              "      display: none;\n",
              "      fill: #1967D2;\n",
              "      height: 32px;\n",
              "      padding: 0 0 0 0;\n",
              "      width: 32px;\n",
              "    }\n",
              "\n",
              "    .colab-df-convert:hover {\n",
              "      background-color: #E2EBFA;\n",
              "      box-shadow: 0px 1px 2px rgba(60, 64, 67, 0.3), 0px 1px 3px 1px rgba(60, 64, 67, 0.15);\n",
              "      fill: #174EA6;\n",
              "    }\n",
              "\n",
              "    [theme=dark] .colab-df-convert {\n",
              "      background-color: #3B4455;\n",
              "      fill: #D2E3FC;\n",
              "    }\n",
              "\n",
              "    [theme=dark] .colab-df-convert:hover {\n",
              "      background-color: #434B5C;\n",
              "      box-shadow: 0px 1px 3px 1px rgba(0, 0, 0, 0.15);\n",
              "      filter: drop-shadow(0px 1px 2px rgba(0, 0, 0, 0.3));\n",
              "      fill: #FFFFFF;\n",
              "    }\n",
              "  </style>\n",
              "\n",
              "      <script>\n",
              "        const buttonEl =\n",
              "          document.querySelector('#df-63f44b09-8c99-4623-94b6-2e47940057c1 button.colab-df-convert');\n",
              "        buttonEl.style.display =\n",
              "          google.colab.kernel.accessAllowed ? 'block' : 'none';\n",
              "\n",
              "        async function convertToInteractive(key) {\n",
              "          const element = document.querySelector('#df-63f44b09-8c99-4623-94b6-2e47940057c1');\n",
              "          const dataTable =\n",
              "            await google.colab.kernel.invokeFunction('convertToInteractive',\n",
              "                                                     [key], {});\n",
              "          if (!dataTable) return;\n",
              "\n",
              "          const docLinkHtml = 'Like what you see? Visit the ' +\n",
              "            '<a target=\"_blank\" href=https://colab.research.google.com/notebooks/data_table.ipynb>data table notebook</a>'\n",
              "            + ' to learn more about interactive tables.';\n",
              "          element.innerHTML = '';\n",
              "          dataTable['output_type'] = 'display_data';\n",
              "          await google.colab.output.renderOutput(dataTable, element);\n",
              "          const docLink = document.createElement('div');\n",
              "          docLink.innerHTML = docLinkHtml;\n",
              "          element.appendChild(docLink);\n",
              "        }\n",
              "      </script>\n",
              "    </div>\n",
              "  </div>\n",
              "  "
            ]
          },
          "metadata": {},
          "execution_count": 14
        }
      ],
      "source": [
        "preds_df = preds.select('label','provision',\"class.result\").toPandas()\n",
        "preds_df.head()"
      ]
    },
    {
      "cell_type": "code",
      "execution_count": 15,
      "id": "GGIRz-xtaY82",
      "metadata": {
        "colab": {
          "base_uri": "https://localhost:8080/"
        },
        "id": "GGIRz-xtaY82",
        "outputId": "444a25a9-52ed-4afa-a529-450ea5552fa1"
      },
      "outputs": [
        {
          "output_type": "stream",
          "name": "stdout",
          "text": [
            "Classification report: \n",
            "               precision    recall  f1-score   support\n",
            "\n",
            "           0       0.80      0.50      0.62         8\n",
            "           1       0.00      0.00      0.00         3\n",
            "           2       0.67      1.00      0.80         4\n",
            "           3       0.89      0.89      0.89         9\n",
            "           4       0.91      0.91      0.91        11\n",
            "           5       1.00      0.50      0.67         2\n",
            "           6       0.80      1.00      0.89         4\n",
            "           7       1.00      0.86      0.92         7\n",
            "           8       1.00      1.00      1.00         4\n",
            "           9       1.00      1.00      1.00         5\n",
            "          10       0.75      1.00      0.86         6\n",
            "          11       0.67      0.50      0.57         4\n",
            "          12       0.50      0.33      0.40         3\n",
            "          13       0.67      0.50      0.57         4\n",
            "          14       0.50      0.75      0.60         4\n",
            "\n",
            "   micro avg       0.80      0.77      0.78        78\n",
            "   macro avg       0.74      0.72      0.71        78\n",
            "weighted avg       0.79      0.77      0.77        78\n",
            " samples avg       0.68      0.74      0.70        78\n",
            "\n",
            "F1 micro averaging: 0.7843137254901961\n",
            "ROC:  0.8766536011758942\n"
          ]
        }
      ],
      "source": [
        "from sklearn.preprocessing import MultiLabelBinarizer\n",
        "from sklearn.metrics import classification_report\n",
        "from sklearn.metrics import f1_score\n",
        "from sklearn.metrics import roc_auc_score\n",
        "\n",
        "mlb = MultiLabelBinarizer()\n",
        "\n",
        "y_true = mlb.fit_transform(preds_df['label'])\n",
        "y_pred = mlb.transform(preds_df['result'])\n",
        "\n",
        "\n",
        "print(\"Classification report: \\n\", (classification_report(y_true, y_pred)))\n",
        "print(\"F1 micro averaging:\",(f1_score(y_true, y_pred, average='micro')))\n",
        "print(\"ROC: \",(roc_auc_score(y_true, y_pred, average=\"micro\")))\n"
      ]
    },
    {
      "cell_type": "markdown",
      "id": "jWhU1pMUay0I",
      "metadata": {
        "id": "jWhU1pMUay0I"
      },
      "source": [
        "## With RoBerta Embeddings"
      ]
    },
    {
      "cell_type": "markdown",
      "id": "bHVFY_i4H5Gh",
      "metadata": {
        "id": "bHVFY_i4H5Gh"
      },
      "source": [
        "We do not have have any specific Legal Sentence Embeddings, but we can use Legal RoBerta Embeddings and then average them."
      ]
    },
    {
      "cell_type": "code",
      "execution_count": 16,
      "id": "8PG4NNyQdBnG",
      "metadata": {
        "colab": {
          "base_uri": "https://localhost:8080/"
        },
        "id": "8PG4NNyQdBnG",
        "outputId": "9374175f-0b26-4c59-a5f8-88a1bf60b1b6"
      },
      "outputs": [
        {
          "output_type": "stream",
          "name": "stdout",
          "text": [
            "roberta_embeddings_legal_roberta_base download started this may take some time.\n",
            "Approximate size to download 447.2 MB\n",
            "[OK!]\n"
          ]
        }
      ],
      "source": [
        "embeddings = (\n",
        "    nlp.RoBertaEmbeddings.pretrained(\"roberta_embeddings_legal_roberta_base\", \"en\")\n",
        "    .setInputCols([\"document\", \"token\"])\n",
        "    .setOutputCol(\"embeddings\")\n",
        "    .setMaxSentenceLength(512)\n",
        ")"
      ]
    },
    {
      "cell_type": "markdown",
      "source": [
        "This model takes longer to train, so we limit the number of epochs to `5`."
      ],
      "metadata": {
        "id": "j0qb4B5VweW1"
      },
      "id": "j0qb4B5VweW1"
    },
    {
      "cell_type": "code",
      "execution_count": 17,
      "id": "zdiCyuc3dBnJ",
      "metadata": {
        "id": "zdiCyuc3dBnJ"
      },
      "outputs": [],
      "source": [
        "document_assembler = (\n",
        "    nlp.DocumentAssembler().setInputCol(\"provision\").setOutputCol(\"document\")\n",
        ")\n",
        "\n",
        "tokenizer = nlp.Tokenizer().setInputCols([\"document\"]).setOutputCol(\"token\")\n",
        "\n",
        "embeddingsSentence = (\n",
        "    nlp.SentenceEmbeddings()\n",
        "    .setInputCols([\"document\", \"embeddings\"])\n",
        "    .setOutputCol(\"sentence_embeddings\")\n",
        "    .setPoolingStrategy(\"AVERAGE\")\n",
        ")\n",
        "\n",
        "classsifierdl = (\n",
        "    nlp.MultiClassifierDLApproach()\n",
        "    .setInputCols([\"sentence_embeddings\"])\n",
        "    .setOutputCol(\"class\")\n",
        "    .setLabelColumn(\"label\")\n",
        "    .setMaxEpochs(5)\n",
        "    .setLr(0.001)\n",
        "    .setRandomSeed(42)\n",
        "    .setEnableOutputLogs(True)\n",
        "    .setOutputLogsPath(\"multilabel_roberta_logs\")\n",
        "    .setBatchSize(8)\n",
        ")\n",
        "\n",
        "\n",
        "clf_pipeline = nlp.Pipeline(\n",
        "    stages=[\n",
        "        document_assembler,\n",
        "        tokenizer,\n",
        "        embeddings,\n",
        "        embeddingsSentence,\n",
        "        classsifierdl,\n",
        "    ]\n",
        ")"
      ]
    },
    {
      "cell_type": "code",
      "execution_count": 18,
      "id": "7fxOmkTNdBnK",
      "metadata": {
        "colab": {
          "base_uri": "https://localhost:8080/"
        },
        "id": "7fxOmkTNdBnK",
        "outputId": "e6e67a12-8eef-4272-c815-32bb8464655a"
      },
      "outputs": [
        {
          "output_type": "stream",
          "name": "stdout",
          "text": [
            "CPU times: user 3.65 s, sys: 461 ms, total: 4.11 s\n",
            "Wall time: 10min 3s\n"
          ]
        }
      ],
      "source": [
        "%%time\n",
        "clf_pipelineModel = clf_pipeline.fit(train)"
      ]
    },
    {
      "cell_type": "code",
      "execution_count": 19,
      "id": "Y-YfOWrudBnM",
      "metadata": {
        "id": "Y-YfOWrudBnM"
      },
      "outputs": [],
      "source": [
        "preds = clf_pipelineModel.transform(test)"
      ]
    },
    {
      "cell_type": "code",
      "execution_count": 20,
      "id": "9VfIUz3IdBnN",
      "metadata": {
        "id": "9VfIUz3IdBnN"
      },
      "outputs": [],
      "source": [
        "preds_df = preds.select('provision','label',\"class.result\").toPandas()"
      ]
    },
    {
      "cell_type": "code",
      "execution_count": 21,
      "id": "6KE4YTX9SYAs",
      "metadata": {
        "colab": {
          "base_uri": "https://localhost:8080/",
          "height": 268
        },
        "id": "6KE4YTX9SYAs",
        "outputId": "3e5df9e4-d19b-4bc3-96f7-a5dc8250463c"
      },
      "outputs": [
        {
          "output_type": "execute_result",
          "data": {
            "text/plain": [
              "                                           provision  \\\n",
              "0  (a) THIS AGREEMENT AND ANY CLAIM, CONTROVERSY,...   \n",
              "1  All agreements, statements, representations an...   \n",
              "2  All covenants of the Company contained in this...   \n",
              "3  All indemnities set forth herein including, wi...   \n",
              "4  All notices and other communications hereunder...   \n",
              "\n",
              "                                 label                               result  \n",
              "0  [governing laws, entire agreements]  [governing laws, entire agreements]  \n",
              "1                           [survival]                                   []  \n",
              "2                           [survival]                                   []  \n",
              "3                           [survival]                           [survival]  \n",
              "4                            [notices]                            [notices]  "
            ],
            "text/html": [
              "\n",
              "  <div id=\"df-a99efbdb-d92c-401c-befe-69ae127a6e09\">\n",
              "    <div class=\"colab-df-container\">\n",
              "      <div>\n",
              "<style scoped>\n",
              "    .dataframe tbody tr th:only-of-type {\n",
              "        vertical-align: middle;\n",
              "    }\n",
              "\n",
              "    .dataframe tbody tr th {\n",
              "        vertical-align: top;\n",
              "    }\n",
              "\n",
              "    .dataframe thead th {\n",
              "        text-align: right;\n",
              "    }\n",
              "</style>\n",
              "<table border=\"1\" class=\"dataframe\">\n",
              "  <thead>\n",
              "    <tr style=\"text-align: right;\">\n",
              "      <th></th>\n",
              "      <th>provision</th>\n",
              "      <th>label</th>\n",
              "      <th>result</th>\n",
              "    </tr>\n",
              "  </thead>\n",
              "  <tbody>\n",
              "    <tr>\n",
              "      <th>0</th>\n",
              "      <td>(a) THIS AGREEMENT AND ANY CLAIM, CONTROVERSY,...</td>\n",
              "      <td>[governing laws, entire agreements]</td>\n",
              "      <td>[governing laws, entire agreements]</td>\n",
              "    </tr>\n",
              "    <tr>\n",
              "      <th>1</th>\n",
              "      <td>All agreements, statements, representations an...</td>\n",
              "      <td>[survival]</td>\n",
              "      <td>[]</td>\n",
              "    </tr>\n",
              "    <tr>\n",
              "      <th>2</th>\n",
              "      <td>All covenants of the Company contained in this...</td>\n",
              "      <td>[survival]</td>\n",
              "      <td>[]</td>\n",
              "    </tr>\n",
              "    <tr>\n",
              "      <th>3</th>\n",
              "      <td>All indemnities set forth herein including, wi...</td>\n",
              "      <td>[survival]</td>\n",
              "      <td>[survival]</td>\n",
              "    </tr>\n",
              "    <tr>\n",
              "      <th>4</th>\n",
              "      <td>All notices and other communications hereunder...</td>\n",
              "      <td>[notices]</td>\n",
              "      <td>[notices]</td>\n",
              "    </tr>\n",
              "  </tbody>\n",
              "</table>\n",
              "</div>\n",
              "      <button class=\"colab-df-convert\" onclick=\"convertToInteractive('df-a99efbdb-d92c-401c-befe-69ae127a6e09')\"\n",
              "              title=\"Convert this dataframe to an interactive table.\"\n",
              "              style=\"display:none;\">\n",
              "        \n",
              "  <svg xmlns=\"http://www.w3.org/2000/svg\" height=\"24px\"viewBox=\"0 0 24 24\"\n",
              "       width=\"24px\">\n",
              "    <path d=\"M0 0h24v24H0V0z\" fill=\"none\"/>\n",
              "    <path d=\"M18.56 5.44l.94 2.06.94-2.06 2.06-.94-2.06-.94-.94-2.06-.94 2.06-2.06.94zm-11 1L8.5 8.5l.94-2.06 2.06-.94-2.06-.94L8.5 2.5l-.94 2.06-2.06.94zm10 10l.94 2.06.94-2.06 2.06-.94-2.06-.94-.94-2.06-.94 2.06-2.06.94z\"/><path d=\"M17.41 7.96l-1.37-1.37c-.4-.4-.92-.59-1.43-.59-.52 0-1.04.2-1.43.59L10.3 9.45l-7.72 7.72c-.78.78-.78 2.05 0 2.83L4 21.41c.39.39.9.59 1.41.59.51 0 1.02-.2 1.41-.59l7.78-7.78 2.81-2.81c.8-.78.8-2.07 0-2.86zM5.41 20L4 18.59l7.72-7.72 1.47 1.35L5.41 20z\"/>\n",
              "  </svg>\n",
              "      </button>\n",
              "      \n",
              "  <style>\n",
              "    .colab-df-container {\n",
              "      display:flex;\n",
              "      flex-wrap:wrap;\n",
              "      gap: 12px;\n",
              "    }\n",
              "\n",
              "    .colab-df-convert {\n",
              "      background-color: #E8F0FE;\n",
              "      border: none;\n",
              "      border-radius: 50%;\n",
              "      cursor: pointer;\n",
              "      display: none;\n",
              "      fill: #1967D2;\n",
              "      height: 32px;\n",
              "      padding: 0 0 0 0;\n",
              "      width: 32px;\n",
              "    }\n",
              "\n",
              "    .colab-df-convert:hover {\n",
              "      background-color: #E2EBFA;\n",
              "      box-shadow: 0px 1px 2px rgba(60, 64, 67, 0.3), 0px 1px 3px 1px rgba(60, 64, 67, 0.15);\n",
              "      fill: #174EA6;\n",
              "    }\n",
              "\n",
              "    [theme=dark] .colab-df-convert {\n",
              "      background-color: #3B4455;\n",
              "      fill: #D2E3FC;\n",
              "    }\n",
              "\n",
              "    [theme=dark] .colab-df-convert:hover {\n",
              "      background-color: #434B5C;\n",
              "      box-shadow: 0px 1px 3px 1px rgba(0, 0, 0, 0.15);\n",
              "      filter: drop-shadow(0px 1px 2px rgba(0, 0, 0, 0.3));\n",
              "      fill: #FFFFFF;\n",
              "    }\n",
              "  </style>\n",
              "\n",
              "      <script>\n",
              "        const buttonEl =\n",
              "          document.querySelector('#df-a99efbdb-d92c-401c-befe-69ae127a6e09 button.colab-df-convert');\n",
              "        buttonEl.style.display =\n",
              "          google.colab.kernel.accessAllowed ? 'block' : 'none';\n",
              "\n",
              "        async function convertToInteractive(key) {\n",
              "          const element = document.querySelector('#df-a99efbdb-d92c-401c-befe-69ae127a6e09');\n",
              "          const dataTable =\n",
              "            await google.colab.kernel.invokeFunction('convertToInteractive',\n",
              "                                                     [key], {});\n",
              "          if (!dataTable) return;\n",
              "\n",
              "          const docLinkHtml = 'Like what you see? Visit the ' +\n",
              "            '<a target=\"_blank\" href=https://colab.research.google.com/notebooks/data_table.ipynb>data table notebook</a>'\n",
              "            + ' to learn more about interactive tables.';\n",
              "          element.innerHTML = '';\n",
              "          dataTable['output_type'] = 'display_data';\n",
              "          await google.colab.output.renderOutput(dataTable, element);\n",
              "          const docLink = document.createElement('div');\n",
              "          docLink.innerHTML = docLinkHtml;\n",
              "          element.appendChild(docLink);\n",
              "        }\n",
              "      </script>\n",
              "    </div>\n",
              "  </div>\n",
              "  "
            ]
          },
          "metadata": {},
          "execution_count": 21
        }
      ],
      "source": [
        "preds_df.head()"
      ]
    },
    {
      "cell_type": "code",
      "execution_count": 22,
      "id": "HkzBERAHSP5j",
      "metadata": {
        "colab": {
          "base_uri": "https://localhost:8080/"
        },
        "id": "HkzBERAHSP5j",
        "outputId": "fb428bf2-e1a5-45ac-ccab-1033f72ce9fd"
      },
      "outputs": [
        {
          "output_type": "stream",
          "name": "stdout",
          "text": [
            "Training started - epochs: 5 - learning_rate: 0.001 - batch_size: 8 - training_examples: 432 - classes: 15\n",
            "Epoch 0/5 - 3.25s - loss: 0.28196928 - acc: 0.91358006 - batches: 54\n",
            "Epoch 1/5 - 0.71s - loss: 0.16264302 - acc: 0.9490741 - batches: 54\n",
            "Epoch 2/5 - 0.71s - loss: 0.1064876 - acc: 0.9643518 - batches: 54\n",
            "Epoch 3/5 - 0.68s - loss: 0.0797876 - acc: 0.97268516 - batches: 54\n",
            "Epoch 4/5 - 0.69s - loss: 0.06431785 - acc: 0.9768517 - batches: 54\n",
            "\n"
          ]
        }
      ],
      "source": [
        "import os\n",
        "log_file_name = os.listdir(\"multilabel_roberta_logs\")[0]\n",
        "\n",
        "with open(\"multilabel_roberta_logs/\"+log_file_name, \"r\") as log_file :\n",
        "    print(log_file.read())"
      ]
    },
    {
      "cell_type": "code",
      "execution_count": 23,
      "id": "GJKWrIpOYLW_",
      "metadata": {
        "colab": {
          "base_uri": "https://localhost:8080/"
        },
        "id": "GJKWrIpOYLW_",
        "outputId": "de0d2e65-301b-4c59-bed1-70beee8744c6"
      },
      "outputs": [
        {
          "output_type": "stream",
          "name": "stdout",
          "text": [
            "Classification report: \n",
            "               precision    recall  f1-score   support\n",
            "\n",
            "           0       1.00      0.62      0.77         8\n",
            "           1       0.00      0.00      0.00         3\n",
            "           2       0.75      0.75      0.75         4\n",
            "           3       1.00      0.89      0.94         9\n",
            "           4       1.00      0.91      0.95        11\n",
            "           5       1.00      0.50      0.67         2\n",
            "           6       1.00      1.00      1.00         4\n",
            "           7       0.88      1.00      0.93         7\n",
            "           8       1.00      0.50      0.67         4\n",
            "           9       1.00      1.00      1.00         5\n",
            "          10       1.00      0.67      0.80         6\n",
            "          11       0.33      0.25      0.29         4\n",
            "          12       0.00      0.00      0.00         3\n",
            "          13       1.00      0.50      0.67         4\n",
            "          14       0.50      0.25      0.33         4\n",
            "\n",
            "   micro avg       0.91      0.68      0.78        78\n",
            "   macro avg       0.76      0.59      0.65        78\n",
            "weighted avg       0.84      0.68      0.74        78\n",
            " samples avg       0.68      0.68      0.68        78\n",
            "\n",
            "F1 micro averaging: 0.7794117647058824\n",
            "ROC:  0.8370896619304262\n"
          ]
        }
      ],
      "source": [
        "from sklearn.preprocessing import MultiLabelBinarizer\n",
        "from sklearn.metrics import classification_report\n",
        "from sklearn.metrics import f1_score\n",
        "from sklearn.metrics import roc_auc_score\n",
        "\n",
        "mlb = MultiLabelBinarizer()\n",
        "\n",
        "y_true = mlb.fit_transform(preds_df['label'])\n",
        "y_pred = mlb.transform(preds_df['result'])\n",
        "\n",
        "\n",
        "print(\"Classification report: \\n\", (classification_report(y_true, y_pred)))\n",
        "print(\"F1 micro averaging:\",(f1_score(y_true, y_pred, average='micro')))\n",
        "print(\"ROC: \",(roc_auc_score(y_true, y_pred, average=\"micro\")))\n"
      ]
    },
    {
      "cell_type": "markdown",
      "id": "Zsap0xaejFCX",
      "metadata": {
        "id": "Zsap0xaejFCX"
      },
      "source": [
        "### Saving & loading back the trained model"
      ]
    },
    {
      "cell_type": "code",
      "execution_count": 24,
      "id": "BQoJ_DHSjFCX",
      "metadata": {
        "colab": {
          "base_uri": "https://localhost:8080/"
        },
        "id": "BQoJ_DHSjFCX",
        "outputId": "b0bf6d23-1245-44ba-a269-0622b2aee230"
      },
      "outputs": [
        {
          "output_type": "execute_result",
          "data": {
            "text/plain": [
              "[DocumentAssembler_1ec143588b9d,\n",
              " REGEX_TOKENIZER_b78a842f9d91,\n",
              " ROBERTA_EMBEDDINGS_b915dff90901,\n",
              " SentenceEmbeddings_6ffc2b49f70a,\n",
              " MultiClassifierDLModel_4bfad35629ae]"
            ]
          },
          "metadata": {},
          "execution_count": 24
        }
      ],
      "source": [
        "clf_pipelineModel.stages"
      ]
    },
    {
      "cell_type": "code",
      "execution_count": 25,
      "id": "3hKjHocZjFCY",
      "metadata": {
        "id": "3hKjHocZjFCY"
      },
      "outputs": [],
      "source": [
        "clf_pipelineModel.stages[-1].write().overwrite().save('MultilabelClfRoBerta')"
      ]
    },
    {
      "cell_type": "code",
      "execution_count": 26,
      "id": "cXtTavvVjFCY",
      "metadata": {
        "id": "cXtTavvVjFCY"
      },
      "outputs": [],
      "source": [
        "# Load back  saved Multilabel Classifier Model\n",
        "MultilabelClfModel = nlp.MultiClassifierDLModel.load('MultilabelClfRoBerta')"
      ]
    },
    {
      "cell_type": "code",
      "execution_count": 27,
      "id": "sxWzLYSgjFCY",
      "metadata": {
        "id": "sxWzLYSgjFCY"
      },
      "outputs": [],
      "source": [
        "ld_pipeline = nlp.Pipeline(\n",
        "    stages=[\n",
        "        document_assembler,\n",
        "        tokenizer,\n",
        "        embeddings,\n",
        "        embeddingsSentence,\n",
        "        MultilabelClfModel,\n",
        "    ]\n",
        ")\n",
        "ld_pipeline_model = ld_pipeline.fit(spark.createDataFrame([[\"\"]]).toDF(\"provision\"))"
      ]
    },
    {
      "cell_type": "code",
      "execution_count": 28,
      "id": "FKe7kDccjFCY",
      "metadata": {
        "id": "FKe7kDccjFCY"
      },
      "outputs": [],
      "source": [
        "# Apply Model Transform to testData\n",
        "ld_preds = ld_pipeline_model.transform(test)"
      ]
    },
    {
      "cell_type": "code",
      "execution_count": 29,
      "id": "pnZwf9MejFCY",
      "metadata": {
        "id": "pnZwf9MejFCY"
      },
      "outputs": [],
      "source": [
        "ld_preds_df = ld_preds.select('provision','label',\"class.result\").toPandas()"
      ]
    },
    {
      "cell_type": "code",
      "execution_count": 30,
      "id": "rWarQRPBjFCZ",
      "metadata": {
        "colab": {
          "base_uri": "https://localhost:8080/",
          "height": 424
        },
        "id": "rWarQRPBjFCZ",
        "outputId": "0e86bf0c-8f9d-4bac-a6c4-70058cd39a73"
      },
      "outputs": [
        {
          "output_type": "execute_result",
          "data": {
            "text/plain": [
              "                                           provision  \\\n",
              "0  (a) THIS AGREEMENT AND ANY CLAIM, CONTROVERSY,...   \n",
              "1  All agreements, statements, representations an...   \n",
              "2  All covenants of the Company contained in this...   \n",
              "3  All indemnities set forth herein including, wi...   \n",
              "4  All notices and other communications hereunder...   \n",
              "5  All notices and other communications required ...   \n",
              "6  All notices, requests and other communications...   \n",
              "7  All representations and warranties made by the...   \n",
              "8  All representations, warranties, covenants and...   \n",
              "9  Any amendment to the Plan shall be deemed to b...   \n",
              "\n",
              "                                 label                               result  \n",
              "0  [governing laws, entire agreements]  [governing laws, entire agreements]  \n",
              "1                           [survival]                                   []  \n",
              "2                           [survival]                                   []  \n",
              "3                           [survival]                           [survival]  \n",
              "4                            [notices]                            [notices]  \n",
              "5                            [notices]                            [notices]  \n",
              "6                            [notices]                            [notices]  \n",
              "7                    [representations]        [representations, warranties]  \n",
              "8                           [survival]                                   []  \n",
              "9                         [amendments]                                   []  "
            ],
            "text/html": [
              "\n",
              "  <div id=\"df-676ebe9f-0cb7-4849-a6ab-31370ca9b367\">\n",
              "    <div class=\"colab-df-container\">\n",
              "      <div>\n",
              "<style scoped>\n",
              "    .dataframe tbody tr th:only-of-type {\n",
              "        vertical-align: middle;\n",
              "    }\n",
              "\n",
              "    .dataframe tbody tr th {\n",
              "        vertical-align: top;\n",
              "    }\n",
              "\n",
              "    .dataframe thead th {\n",
              "        text-align: right;\n",
              "    }\n",
              "</style>\n",
              "<table border=\"1\" class=\"dataframe\">\n",
              "  <thead>\n",
              "    <tr style=\"text-align: right;\">\n",
              "      <th></th>\n",
              "      <th>provision</th>\n",
              "      <th>label</th>\n",
              "      <th>result</th>\n",
              "    </tr>\n",
              "  </thead>\n",
              "  <tbody>\n",
              "    <tr>\n",
              "      <th>0</th>\n",
              "      <td>(a) THIS AGREEMENT AND ANY CLAIM, CONTROVERSY,...</td>\n",
              "      <td>[governing laws, entire agreements]</td>\n",
              "      <td>[governing laws, entire agreements]</td>\n",
              "    </tr>\n",
              "    <tr>\n",
              "      <th>1</th>\n",
              "      <td>All agreements, statements, representations an...</td>\n",
              "      <td>[survival]</td>\n",
              "      <td>[]</td>\n",
              "    </tr>\n",
              "    <tr>\n",
              "      <th>2</th>\n",
              "      <td>All covenants of the Company contained in this...</td>\n",
              "      <td>[survival]</td>\n",
              "      <td>[]</td>\n",
              "    </tr>\n",
              "    <tr>\n",
              "      <th>3</th>\n",
              "      <td>All indemnities set forth herein including, wi...</td>\n",
              "      <td>[survival]</td>\n",
              "      <td>[survival]</td>\n",
              "    </tr>\n",
              "    <tr>\n",
              "      <th>4</th>\n",
              "      <td>All notices and other communications hereunder...</td>\n",
              "      <td>[notices]</td>\n",
              "      <td>[notices]</td>\n",
              "    </tr>\n",
              "    <tr>\n",
              "      <th>5</th>\n",
              "      <td>All notices and other communications required ...</td>\n",
              "      <td>[notices]</td>\n",
              "      <td>[notices]</td>\n",
              "    </tr>\n",
              "    <tr>\n",
              "      <th>6</th>\n",
              "      <td>All notices, requests and other communications...</td>\n",
              "      <td>[notices]</td>\n",
              "      <td>[notices]</td>\n",
              "    </tr>\n",
              "    <tr>\n",
              "      <th>7</th>\n",
              "      <td>All representations and warranties made by the...</td>\n",
              "      <td>[representations]</td>\n",
              "      <td>[representations, warranties]</td>\n",
              "    </tr>\n",
              "    <tr>\n",
              "      <th>8</th>\n",
              "      <td>All representations, warranties, covenants and...</td>\n",
              "      <td>[survival]</td>\n",
              "      <td>[]</td>\n",
              "    </tr>\n",
              "    <tr>\n",
              "      <th>9</th>\n",
              "      <td>Any amendment to the Plan shall be deemed to b...</td>\n",
              "      <td>[amendments]</td>\n",
              "      <td>[]</td>\n",
              "    </tr>\n",
              "  </tbody>\n",
              "</table>\n",
              "</div>\n",
              "      <button class=\"colab-df-convert\" onclick=\"convertToInteractive('df-676ebe9f-0cb7-4849-a6ab-31370ca9b367')\"\n",
              "              title=\"Convert this dataframe to an interactive table.\"\n",
              "              style=\"display:none;\">\n",
              "        \n",
              "  <svg xmlns=\"http://www.w3.org/2000/svg\" height=\"24px\"viewBox=\"0 0 24 24\"\n",
              "       width=\"24px\">\n",
              "    <path d=\"M0 0h24v24H0V0z\" fill=\"none\"/>\n",
              "    <path d=\"M18.56 5.44l.94 2.06.94-2.06 2.06-.94-2.06-.94-.94-2.06-.94 2.06-2.06.94zm-11 1L8.5 8.5l.94-2.06 2.06-.94-2.06-.94L8.5 2.5l-.94 2.06-2.06.94zm10 10l.94 2.06.94-2.06 2.06-.94-2.06-.94-.94-2.06-.94 2.06-2.06.94z\"/><path d=\"M17.41 7.96l-1.37-1.37c-.4-.4-.92-.59-1.43-.59-.52 0-1.04.2-1.43.59L10.3 9.45l-7.72 7.72c-.78.78-.78 2.05 0 2.83L4 21.41c.39.39.9.59 1.41.59.51 0 1.02-.2 1.41-.59l7.78-7.78 2.81-2.81c.8-.78.8-2.07 0-2.86zM5.41 20L4 18.59l7.72-7.72 1.47 1.35L5.41 20z\"/>\n",
              "  </svg>\n",
              "      </button>\n",
              "      \n",
              "  <style>\n",
              "    .colab-df-container {\n",
              "      display:flex;\n",
              "      flex-wrap:wrap;\n",
              "      gap: 12px;\n",
              "    }\n",
              "\n",
              "    .colab-df-convert {\n",
              "      background-color: #E8F0FE;\n",
              "      border: none;\n",
              "      border-radius: 50%;\n",
              "      cursor: pointer;\n",
              "      display: none;\n",
              "      fill: #1967D2;\n",
              "      height: 32px;\n",
              "      padding: 0 0 0 0;\n",
              "      width: 32px;\n",
              "    }\n",
              "\n",
              "    .colab-df-convert:hover {\n",
              "      background-color: #E2EBFA;\n",
              "      box-shadow: 0px 1px 2px rgba(60, 64, 67, 0.3), 0px 1px 3px 1px rgba(60, 64, 67, 0.15);\n",
              "      fill: #174EA6;\n",
              "    }\n",
              "\n",
              "    [theme=dark] .colab-df-convert {\n",
              "      background-color: #3B4455;\n",
              "      fill: #D2E3FC;\n",
              "    }\n",
              "\n",
              "    [theme=dark] .colab-df-convert:hover {\n",
              "      background-color: #434B5C;\n",
              "      box-shadow: 0px 1px 3px 1px rgba(0, 0, 0, 0.15);\n",
              "      filter: drop-shadow(0px 1px 2px rgba(0, 0, 0, 0.3));\n",
              "      fill: #FFFFFF;\n",
              "    }\n",
              "  </style>\n",
              "\n",
              "      <script>\n",
              "        const buttonEl =\n",
              "          document.querySelector('#df-676ebe9f-0cb7-4849-a6ab-31370ca9b367 button.colab-df-convert');\n",
              "        buttonEl.style.display =\n",
              "          google.colab.kernel.accessAllowed ? 'block' : 'none';\n",
              "\n",
              "        async function convertToInteractive(key) {\n",
              "          const element = document.querySelector('#df-676ebe9f-0cb7-4849-a6ab-31370ca9b367');\n",
              "          const dataTable =\n",
              "            await google.colab.kernel.invokeFunction('convertToInteractive',\n",
              "                                                     [key], {});\n",
              "          if (!dataTable) return;\n",
              "\n",
              "          const docLinkHtml = 'Like what you see? Visit the ' +\n",
              "            '<a target=\"_blank\" href=https://colab.research.google.com/notebooks/data_table.ipynb>data table notebook</a>'\n",
              "            + ' to learn more about interactive tables.';\n",
              "          element.innerHTML = '';\n",
              "          dataTable['output_type'] = 'display_data';\n",
              "          await google.colab.output.renderOutput(dataTable, element);\n",
              "          const docLink = document.createElement('div');\n",
              "          docLink.innerHTML = docLinkHtml;\n",
              "          element.appendChild(docLink);\n",
              "        }\n",
              "      </script>\n",
              "    </div>\n",
              "  </div>\n",
              "  "
            ]
          },
          "metadata": {},
          "execution_count": 30
        }
      ],
      "source": [
        "ld_preds_df.head(10)"
      ]
    },
    {
      "cell_type": "markdown",
      "id": "OxcsSYj_wA0p",
      "metadata": {
        "id": "OxcsSYj_wA0p"
      },
      "source": [
        "# Multiclass classifier training"
      ]
    },
    {
      "cell_type": "markdown",
      "id": "9288f2d6",
      "metadata": {
        "id": "9288f2d6"
      },
      "source": [
        "The `ClassifierDLApproach` annotator trains a multiclass model, where the predictions is one category out of a predifined set of categories that are present in the training data."
      ]
    },
    {
      "cell_type": "markdown",
      "id": "5qFM3Zueb50G",
      "metadata": {
        "id": "5qFM3Zueb50G"
      },
      "source": [
        "## Loading the data"
      ]
    },
    {
      "cell_type": "code",
      "execution_count": 38,
      "id": "NcP97dzbM7yn",
      "metadata": {
        "id": "NcP97dzbM7yn"
      },
      "outputs": [],
      "source": [
        "! wget -q https://raw.githubusercontent.com/JohnSnowLabs/spark-nlp-workshop/master/tutorials/Certification_Trainings_JSL/Finance/data/finance_clf_data.csv"
      ]
    },
    {
      "cell_type": "code",
      "execution_count": 39,
      "id": "FtXdRXNEb50G",
      "metadata": {
        "id": "FtXdRXNEb50G",
        "colab": {
          "base_uri": "https://localhost:8080/"
        },
        "outputId": "36fb9987-f797-4116-d3bd-6a905ab5ebfc"
      },
      "outputs": [
        {
          "output_type": "stream",
          "name": "stdout",
          "text": [
            "Shape of the full dataset: (6128, 3)\n"
          ]
        }
      ],
      "source": [
        "import pandas as pd\n",
        "df = pd.read_csv('finance_clf_data.csv', encoding=\"utf8\")\n",
        "print(f\"Shape of the full dataset: {df.shape}\")"
      ]
    },
    {
      "cell_type": "code",
      "execution_count": 40,
      "id": "SWqOIj_pfEU5",
      "metadata": {
        "colab": {
          "base_uri": "https://localhost:8080/",
          "height": 206
        },
        "id": "SWqOIj_pfEU5",
        "outputId": "57b829ad-d995-47b6-e09d-c04389ac7577"
      },
      "outputs": [
        {
          "output_type": "execute_result",
          "data": {
            "text/plain": [
              "                                                text                 label  \\\n",
              "0  Presently we do not believe any U S or State r...              business   \n",
              "1   \\nnetwork outages or performance degradation ...          risk_factors   \n",
              "2  Available Information\\nOur reports filed with ...              business   \n",
              "3   \\n 42 530\\n \\n \\n \\n \\n \\n 42 530\\nTotal liab...  financial_statements   \n",
              "4  8\\nTable of Contents\\ndevelopment employee eng...              business   \n",
              "\n",
              "   len  \n",
              "0  402  \n",
              "1  496  \n",
              "2  356  \n",
              "3  359  \n",
              "4  582  "
            ],
            "text/html": [
              "\n",
              "  <div id=\"df-15de906e-16e5-4438-9588-d4d1a7fcdb89\">\n",
              "    <div class=\"colab-df-container\">\n",
              "      <div>\n",
              "<style scoped>\n",
              "    .dataframe tbody tr th:only-of-type {\n",
              "        vertical-align: middle;\n",
              "    }\n",
              "\n",
              "    .dataframe tbody tr th {\n",
              "        vertical-align: top;\n",
              "    }\n",
              "\n",
              "    .dataframe thead th {\n",
              "        text-align: right;\n",
              "    }\n",
              "</style>\n",
              "<table border=\"1\" class=\"dataframe\">\n",
              "  <thead>\n",
              "    <tr style=\"text-align: right;\">\n",
              "      <th></th>\n",
              "      <th>text</th>\n",
              "      <th>label</th>\n",
              "      <th>len</th>\n",
              "    </tr>\n",
              "  </thead>\n",
              "  <tbody>\n",
              "    <tr>\n",
              "      <th>0</th>\n",
              "      <td>Presently we do not believe any U S or State r...</td>\n",
              "      <td>business</td>\n",
              "      <td>402</td>\n",
              "    </tr>\n",
              "    <tr>\n",
              "      <th>1</th>\n",
              "      <td>\\nnetwork outages or performance degradation ...</td>\n",
              "      <td>risk_factors</td>\n",
              "      <td>496</td>\n",
              "    </tr>\n",
              "    <tr>\n",
              "      <th>2</th>\n",
              "      <td>Available Information\\nOur reports filed with ...</td>\n",
              "      <td>business</td>\n",
              "      <td>356</td>\n",
              "    </tr>\n",
              "    <tr>\n",
              "      <th>3</th>\n",
              "      <td>\\n 42 530\\n \\n \\n \\n \\n \\n 42 530\\nTotal liab...</td>\n",
              "      <td>financial_statements</td>\n",
              "      <td>359</td>\n",
              "    </tr>\n",
              "    <tr>\n",
              "      <th>4</th>\n",
              "      <td>8\\nTable of Contents\\ndevelopment employee eng...</td>\n",
              "      <td>business</td>\n",
              "      <td>582</td>\n",
              "    </tr>\n",
              "  </tbody>\n",
              "</table>\n",
              "</div>\n",
              "      <button class=\"colab-df-convert\" onclick=\"convertToInteractive('df-15de906e-16e5-4438-9588-d4d1a7fcdb89')\"\n",
              "              title=\"Convert this dataframe to an interactive table.\"\n",
              "              style=\"display:none;\">\n",
              "        \n",
              "  <svg xmlns=\"http://www.w3.org/2000/svg\" height=\"24px\"viewBox=\"0 0 24 24\"\n",
              "       width=\"24px\">\n",
              "    <path d=\"M0 0h24v24H0V0z\" fill=\"none\"/>\n",
              "    <path d=\"M18.56 5.44l.94 2.06.94-2.06 2.06-.94-2.06-.94-.94-2.06-.94 2.06-2.06.94zm-11 1L8.5 8.5l.94-2.06 2.06-.94-2.06-.94L8.5 2.5l-.94 2.06-2.06.94zm10 10l.94 2.06.94-2.06 2.06-.94-2.06-.94-.94-2.06-.94 2.06-2.06.94z\"/><path d=\"M17.41 7.96l-1.37-1.37c-.4-.4-.92-.59-1.43-.59-.52 0-1.04.2-1.43.59L10.3 9.45l-7.72 7.72c-.78.78-.78 2.05 0 2.83L4 21.41c.39.39.9.59 1.41.59.51 0 1.02-.2 1.41-.59l7.78-7.78 2.81-2.81c.8-.78.8-2.07 0-2.86zM5.41 20L4 18.59l7.72-7.72 1.47 1.35L5.41 20z\"/>\n",
              "  </svg>\n",
              "      </button>\n",
              "      \n",
              "  <style>\n",
              "    .colab-df-container {\n",
              "      display:flex;\n",
              "      flex-wrap:wrap;\n",
              "      gap: 12px;\n",
              "    }\n",
              "\n",
              "    .colab-df-convert {\n",
              "      background-color: #E8F0FE;\n",
              "      border: none;\n",
              "      border-radius: 50%;\n",
              "      cursor: pointer;\n",
              "      display: none;\n",
              "      fill: #1967D2;\n",
              "      height: 32px;\n",
              "      padding: 0 0 0 0;\n",
              "      width: 32px;\n",
              "    }\n",
              "\n",
              "    .colab-df-convert:hover {\n",
              "      background-color: #E2EBFA;\n",
              "      box-shadow: 0px 1px 2px rgba(60, 64, 67, 0.3), 0px 1px 3px 1px rgba(60, 64, 67, 0.15);\n",
              "      fill: #174EA6;\n",
              "    }\n",
              "\n",
              "    [theme=dark] .colab-df-convert {\n",
              "      background-color: #3B4455;\n",
              "      fill: #D2E3FC;\n",
              "    }\n",
              "\n",
              "    [theme=dark] .colab-df-convert:hover {\n",
              "      background-color: #434B5C;\n",
              "      box-shadow: 0px 1px 3px 1px rgba(0, 0, 0, 0.15);\n",
              "      filter: drop-shadow(0px 1px 2px rgba(0, 0, 0, 0.3));\n",
              "      fill: #FFFFFF;\n",
              "    }\n",
              "  </style>\n",
              "\n",
              "      <script>\n",
              "        const buttonEl =\n",
              "          document.querySelector('#df-15de906e-16e5-4438-9588-d4d1a7fcdb89 button.colab-df-convert');\n",
              "        buttonEl.style.display =\n",
              "          google.colab.kernel.accessAllowed ? 'block' : 'none';\n",
              "\n",
              "        async function convertToInteractive(key) {\n",
              "          const element = document.querySelector('#df-15de906e-16e5-4438-9588-d4d1a7fcdb89');\n",
              "          const dataTable =\n",
              "            await google.colab.kernel.invokeFunction('convertToInteractive',\n",
              "                                                     [key], {});\n",
              "          if (!dataTable) return;\n",
              "\n",
              "          const docLinkHtml = 'Like what you see? Visit the ' +\n",
              "            '<a target=\"_blank\" href=https://colab.research.google.com/notebooks/data_table.ipynb>data table notebook</a>'\n",
              "            + ' to learn more about interactive tables.';\n",
              "          element.innerHTML = '';\n",
              "          dataTable['output_type'] = 'display_data';\n",
              "          await google.colab.output.renderOutput(dataTable, element);\n",
              "          const docLink = document.createElement('div');\n",
              "          docLink.innerHTML = docLinkHtml;\n",
              "          element.appendChild(docLink);\n",
              "        }\n",
              "      </script>\n",
              "    </div>\n",
              "  </div>\n",
              "  "
            ]
          },
          "metadata": {},
          "execution_count": 40
        }
      ],
      "source": [
        "df.head()"
      ]
    },
    {
      "cell_type": "code",
      "execution_count": 41,
      "id": "Ntfw_obpuf4A",
      "metadata": {
        "colab": {
          "base_uri": "https://localhost:8080/"
        },
        "id": "Ntfw_obpuf4A",
        "outputId": "cfcfd1fb-35ca-4d69-d559-2a75db10f258"
      },
      "outputs": [
        {
          "output_type": "execute_result",
          "data": {
            "text/plain": [
              "risk_factors               1926\n",
              "financial_statements       1888\n",
              "business                    970\n",
              "financial_conditions        346\n",
              "form_10k_summary            240\n",
              "executives_compensation     155\n",
              "controls_procedures         138\n",
              "equity                      111\n",
              "market_risk                 100\n",
              "executives                   73\n",
              "legal_proceedings            51\n",
              "properties                   48\n",
              "security_ownership           46\n",
              "exhibits                     36\n",
              "Name: label, dtype: int64"
            ]
          },
          "metadata": {},
          "execution_count": 41
        }
      ],
      "source": [
        "df['label'].value_counts()"
      ]
    },
    {
      "cell_type": "markdown",
      "id": "0db04dd2",
      "metadata": {
        "id": "0db04dd2"
      },
      "source": [
        "Since the deep learning models can take some time to train, we will limit our dataset to a smaller number of observations in order to illustrate how to use Spark NLP and Finance NLP annotators and pipelines to train the model, but without having to wait too much.\n",
        "\n",
        "Please note that the quality and the quantity of training data is very relevant to the obtained trianed model, and the results we obtain here are for illustration purposes only. To obtain a more realistic model, pelase consider using the full dataset or addin extra observations from different sources. "
      ]
    },
    {
      "cell_type": "code",
      "execution_count": 42,
      "id": "Cmc91NU8b50H",
      "metadata": {
        "id": "Cmc91NU8b50H"
      },
      "outputs": [],
      "source": [
        "from sklearn.model_selection import train_test_split\n",
        "\n",
        "# The top 3 categories (number of observations)\n",
        "filter_classes = [\"risk_factors\", \"financial_statements\", \"business\"]\n",
        "\n",
        "# We make a random sample with 1000 observations\n",
        "df = df.loc[df.label.isin(filter_classes)].sample(1000)\n",
        "\n",
        "# Stratify split for train and test datasets\n",
        "train_data, test_data = train_test_split(\n",
        "    df, train_size=0.9, stratify=df.label, random_state=42\n",
        ")\n",
        "\n",
        "# Send to spark\n",
        "train = spark.createDataFrame(train_data)\n",
        "test = spark.createDataFrame(test_data)"
      ]
    },
    {
      "cell_type": "code",
      "execution_count": 43,
      "id": "WEcXKSQTb50H",
      "metadata": {
        "colab": {
          "base_uri": "https://localhost:8080/"
        },
        "id": "WEcXKSQTb50H",
        "outputId": "e53be9ab-55e4-47a8-9e62-64f67059ed20"
      },
      "outputs": [
        {
          "output_type": "stream",
          "name": "stdout",
          "text": [
            "+--------------------+-----+\n",
            "|               label|count|\n",
            "+--------------------+-----+\n",
            "|financial_statements|  366|\n",
            "|        risk_factors|  356|\n",
            "|            business|  178|\n",
            "+--------------------+-----+\n",
            "\n"
          ]
        }
      ],
      "source": [
        "from pyspark.sql.functions import col\n",
        "\n",
        "train.groupBy(\"label\").count().orderBy(col(\"count\").desc()).show()"
      ]
    },
    {
      "cell_type": "code",
      "execution_count": 44,
      "id": "lDV9dGbRb50H",
      "metadata": {
        "colab": {
          "base_uri": "https://localhost:8080/"
        },
        "id": "lDV9dGbRb50H",
        "outputId": "ab1aafb3-3b75-4070-bafe-86da66cfdae0"
      },
      "outputs": [
        {
          "output_type": "stream",
          "name": "stdout",
          "text": [
            "+--------------------+-----+\n",
            "|               label|count|\n",
            "+--------------------+-----+\n",
            "|financial_statements|   41|\n",
            "|        risk_factors|   39|\n",
            "|            business|   20|\n",
            "+--------------------+-----+\n",
            "\n"
          ]
        }
      ],
      "source": [
        "from pyspark.sql.functions import col\n",
        "\n",
        "test.groupBy(\"label\").count().orderBy(col(\"count\").desc()).show()"
      ]
    },
    {
      "cell_type": "markdown",
      "id": "hrFio0xccT7J",
      "metadata": {
        "id": "hrFio0xccT7J"
      },
      "source": [
        " ## With Universal Encoder"
      ]
    },
    {
      "cell_type": "code",
      "execution_count": 45,
      "id": "o0muwDJ5cT7K",
      "metadata": {
        "colab": {
          "base_uri": "https://localhost:8080/"
        },
        "id": "o0muwDJ5cT7K",
        "outputId": "085faac4-042e-4fb6-fad5-1b1691bfa33d"
      },
      "outputs": [
        {
          "output_type": "stream",
          "name": "stdout",
          "text": [
            "tfhub_use download started this may take some time.\n",
            "Approximate size to download 923.7 MB\n",
            "[OK!]\n"
          ]
        }
      ],
      "source": [
        "document_assembler = (\n",
        "    nlp.DocumentAssembler().setInputCol(\"text\").setOutputCol(\"document\")\n",
        ")\n",
        "\n",
        "embeddings = (\n",
        "    nlp.UniversalSentenceEncoder.pretrained()\n",
        "    .setInputCols(\"document\")\n",
        "    .setOutputCol(\"sentence_embeddings\")\n",
        ")\n",
        "\n",
        "classsifierdl = (\n",
        "    legal.ClassifierDLApproach()\n",
        "    .setInputCols([\"sentence_embeddings\"])\n",
        "    .setOutputCol(\"class\")\n",
        "    .setLabelColumn(\"label\")\n",
        "    .setMaxEpochs(30)\n",
        "    .setEnableOutputLogs(True)\n",
        "    .setOutputLogsPath(\"multiclass_use_logs\")\n",
        "    .setLr(0.001)\n",
        "    .setBatchSize(4)\n",
        "    .setDropout(0.15)\n",
        ")\n",
        "\n",
        "clf_pipeline = nlp.Pipeline(stages=[document_assembler, embeddings, classsifierdl])"
      ]
    },
    {
      "cell_type": "code",
      "execution_count": 46,
      "id": "9Vb2VqzucT7M",
      "metadata": {
        "id": "9Vb2VqzucT7M",
        "colab": {
          "base_uri": "https://localhost:8080/"
        },
        "outputId": "f3d6e894-e44f-400e-9da8-d983feec2362"
      },
      "outputs": [
        {
          "output_type": "stream",
          "name": "stdout",
          "text": [
            "CPU times: user 365 ms, sys: 43 ms, total: 408 ms\n",
            "Wall time: 50.9 s\n"
          ]
        }
      ],
      "source": [
        "%%time\n",
        "clf_pipelineModel = clf_pipeline.fit(train)"
      ]
    },
    {
      "cell_type": "code",
      "execution_count": 47,
      "id": "NdAu3IE1cT7N",
      "metadata": {
        "colab": {
          "base_uri": "https://localhost:8080/"
        },
        "id": "NdAu3IE1cT7N",
        "outputId": "8d4eb13a-e90a-4849-d753-090933819bee"
      },
      "outputs": [
        {
          "output_type": "stream",
          "name": "stdout",
          "text": [
            "Training started - epochs: 30 - learning_rate: 0.001 - batch_size: 4 - training_examples: 900 - classes: 3\n",
            "Epoch 0/30 - 1.66s - loss: 189.3935 - acc: 0.70111114 - batches: 225\n",
            "Epoch 1/30 - 1.27s - loss: 157.496 - acc: 0.84555554 - batches: 225\n",
            "Epoch 2/30 - 1.24s - loss: 151.73296 - acc: 0.8711111 - batches: 225\n",
            "Epoch 3/30 - 1.31s - loss: 149.28844 - acc: 0.8811111 - batches: 225\n",
            "Epoch 4/30 - 1.30s - loss: 147.5462 - acc: 0.8933333 - batches: 225\n",
            "Epoch 5/30 - 1.27s - loss: 146.10075 - acc: 0.9011111 - batches: 225\n",
            "Epoch 6/30 - 1.25s - loss: 144.94044 - acc: 0.9088889 - batches: 225\n",
            "Epoch 7/30 - 1.19s - loss: 144.06827 - acc: 0.91333336 - batches: 225\n",
            "Epoch 8/30 - 1.27s - loss: 143.42535 - acc: 0.91333336 - batches: 225\n",
            "Epoch 9/30 - 1.28s - loss: 142.91154 - acc: 0.9166667 - batches: 225\n",
            "Epoch 10/30 - 1.24s - loss: 142.4443 - acc: 0.92333335 - batches: 225\n",
            "Epoch 11/30 - 1.18s - loss: 141.97804 - acc: 0.9266667 - batches: 225\n",
            "Epoch 12/30 - 1.19s - loss: 141.51053 - acc: 0.9288889 - batches: 225\n",
            "Epoch 13/30 - 1.15s - loss: 141.05695 - acc: 0.93 - batches: 225\n",
            "Epoch 14/30 - 1.12s - loss: 140.6545 - acc: 0.9311111 - batches: 225\n",
            "Epoch 15/30 - 1.18s - loss: 140.32451 - acc: 0.93222225 - batches: 225\n",
            "Epoch 16/30 - 1.12s - loss: 140.04356 - acc: 0.9344444 - batches: 225\n",
            "Epoch 17/30 - 1.15s - loss: 139.80733 - acc: 0.9344444 - batches: 225\n",
            "Epoch 18/30 - 1.13s - loss: 139.59961 - acc: 0.9344444 - batches: 225\n",
            "Epoch 19/30 - 1.14s - loss: 139.42282 - acc: 0.9388889 - batches: 225\n",
            "Epoch 20/30 - 1.16s - loss: 139.26723 - acc: 0.94222224 - batches: 225\n",
            "Epoch 21/30 - 1.24s - loss: 139.12128 - acc: 0.9433333 - batches: 225\n",
            "Epoch 22/30 - 1.21s - loss: 138.98346 - acc: 0.9433333 - batches: 225\n",
            "Epoch 23/30 - 1.22s - loss: 138.84822 - acc: 0.9433333 - batches: 225\n",
            "Epoch 24/30 - 1.18s - loss: 138.71564 - acc: 0.9444444 - batches: 225\n",
            "Epoch 25/30 - 1.23s - loss: 138.59416 - acc: 0.9444444 - batches: 225\n",
            "Epoch 26/30 - 1.24s - loss: 138.47968 - acc: 0.9444444 - batches: 225\n",
            "Epoch 27/30 - 1.21s - loss: 138.37517 - acc: 0.94555557 - batches: 225\n",
            "Epoch 28/30 - 1.21s - loss: 138.27472 - acc: 0.94555557 - batches: 225\n",
            "Epoch 29/30 - 1.21s - loss: 138.18147 - acc: 0.94555557 - batches: 225\n",
            "\n"
          ]
        }
      ],
      "source": [
        "import os\n",
        "log_file_name = os.listdir(\"multiclass_use_logs\")[0]\n",
        "\n",
        "with open(\"multiclass_use_logs/\"+log_file_name, \"r\") as log_file :\n",
        "    print(log_file.read())"
      ]
    },
    {
      "cell_type": "code",
      "execution_count": 48,
      "id": "jwlOFwwacT7O",
      "metadata": {
        "id": "jwlOFwwacT7O"
      },
      "outputs": [],
      "source": [
        "preds = clf_pipelineModel.transform(test)"
      ]
    },
    {
      "cell_type": "code",
      "execution_count": 49,
      "id": "ft1vm_0fcT7O",
      "metadata": {
        "colab": {
          "base_uri": "https://localhost:8080/",
          "height": 206
        },
        "id": "ft1vm_0fcT7O",
        "outputId": "262abceb-ef8f-4ecd-d070-a4bc38154cce"
      },
      "outputs": [
        {
          "output_type": "execute_result",
          "data": {
            "text/plain": [
              "                  label                                               text  \\\n",
              "0  financial_statements  559 \\n211 \\n697 \\nNet loss\\n \\n 190 890 \\n \\n ...   \n",
              "1  financial_statements   \\nTotal operating lease liabilities\\n \\n \\n5 ...   \n",
              "2              business   \\nVeeva Vault Study Startup\\n helps life scie...   \n",
              "3              business   \\n Simulation Platform provides large scale v...   \n",
              "4  financial_statements   \\n5 796 \\nThereafter\\n15 794 \\n \\n15 794 \\nTo...   \n",
              "\n",
              "                   result  \n",
              "0  [financial_statements]  \n",
              "1  [financial_statements]  \n",
              "2              [business]  \n",
              "3              [business]  \n",
              "4  [financial_statements]  "
            ],
            "text/html": [
              "\n",
              "  <div id=\"df-48a47150-759a-4493-9466-dce52e7385db\">\n",
              "    <div class=\"colab-df-container\">\n",
              "      <div>\n",
              "<style scoped>\n",
              "    .dataframe tbody tr th:only-of-type {\n",
              "        vertical-align: middle;\n",
              "    }\n",
              "\n",
              "    .dataframe tbody tr th {\n",
              "        vertical-align: top;\n",
              "    }\n",
              "\n",
              "    .dataframe thead th {\n",
              "        text-align: right;\n",
              "    }\n",
              "</style>\n",
              "<table border=\"1\" class=\"dataframe\">\n",
              "  <thead>\n",
              "    <tr style=\"text-align: right;\">\n",
              "      <th></th>\n",
              "      <th>label</th>\n",
              "      <th>text</th>\n",
              "      <th>result</th>\n",
              "    </tr>\n",
              "  </thead>\n",
              "  <tbody>\n",
              "    <tr>\n",
              "      <th>0</th>\n",
              "      <td>financial_statements</td>\n",
              "      <td>559 \\n211 \\n697 \\nNet loss\\n \\n 190 890 \\n \\n ...</td>\n",
              "      <td>[financial_statements]</td>\n",
              "    </tr>\n",
              "    <tr>\n",
              "      <th>1</th>\n",
              "      <td>financial_statements</td>\n",
              "      <td>\\nTotal operating lease liabilities\\n \\n \\n5 ...</td>\n",
              "      <td>[financial_statements]</td>\n",
              "    </tr>\n",
              "    <tr>\n",
              "      <th>2</th>\n",
              "      <td>business</td>\n",
              "      <td>\\nVeeva Vault Study Startup\\n helps life scie...</td>\n",
              "      <td>[business]</td>\n",
              "    </tr>\n",
              "    <tr>\n",
              "      <th>3</th>\n",
              "      <td>business</td>\n",
              "      <td>\\n Simulation Platform provides large scale v...</td>\n",
              "      <td>[business]</td>\n",
              "    </tr>\n",
              "    <tr>\n",
              "      <th>4</th>\n",
              "      <td>financial_statements</td>\n",
              "      <td>\\n5 796 \\nThereafter\\n15 794 \\n \\n15 794 \\nTo...</td>\n",
              "      <td>[financial_statements]</td>\n",
              "    </tr>\n",
              "  </tbody>\n",
              "</table>\n",
              "</div>\n",
              "      <button class=\"colab-df-convert\" onclick=\"convertToInteractive('df-48a47150-759a-4493-9466-dce52e7385db')\"\n",
              "              title=\"Convert this dataframe to an interactive table.\"\n",
              "              style=\"display:none;\">\n",
              "        \n",
              "  <svg xmlns=\"http://www.w3.org/2000/svg\" height=\"24px\"viewBox=\"0 0 24 24\"\n",
              "       width=\"24px\">\n",
              "    <path d=\"M0 0h24v24H0V0z\" fill=\"none\"/>\n",
              "    <path d=\"M18.56 5.44l.94 2.06.94-2.06 2.06-.94-2.06-.94-.94-2.06-.94 2.06-2.06.94zm-11 1L8.5 8.5l.94-2.06 2.06-.94-2.06-.94L8.5 2.5l-.94 2.06-2.06.94zm10 10l.94 2.06.94-2.06 2.06-.94-2.06-.94-.94-2.06-.94 2.06-2.06.94z\"/><path d=\"M17.41 7.96l-1.37-1.37c-.4-.4-.92-.59-1.43-.59-.52 0-1.04.2-1.43.59L10.3 9.45l-7.72 7.72c-.78.78-.78 2.05 0 2.83L4 21.41c.39.39.9.59 1.41.59.51 0 1.02-.2 1.41-.59l7.78-7.78 2.81-2.81c.8-.78.8-2.07 0-2.86zM5.41 20L4 18.59l7.72-7.72 1.47 1.35L5.41 20z\"/>\n",
              "  </svg>\n",
              "      </button>\n",
              "      \n",
              "  <style>\n",
              "    .colab-df-container {\n",
              "      display:flex;\n",
              "      flex-wrap:wrap;\n",
              "      gap: 12px;\n",
              "    }\n",
              "\n",
              "    .colab-df-convert {\n",
              "      background-color: #E8F0FE;\n",
              "      border: none;\n",
              "      border-radius: 50%;\n",
              "      cursor: pointer;\n",
              "      display: none;\n",
              "      fill: #1967D2;\n",
              "      height: 32px;\n",
              "      padding: 0 0 0 0;\n",
              "      width: 32px;\n",
              "    }\n",
              "\n",
              "    .colab-df-convert:hover {\n",
              "      background-color: #E2EBFA;\n",
              "      box-shadow: 0px 1px 2px rgba(60, 64, 67, 0.3), 0px 1px 3px 1px rgba(60, 64, 67, 0.15);\n",
              "      fill: #174EA6;\n",
              "    }\n",
              "\n",
              "    [theme=dark] .colab-df-convert {\n",
              "      background-color: #3B4455;\n",
              "      fill: #D2E3FC;\n",
              "    }\n",
              "\n",
              "    [theme=dark] .colab-df-convert:hover {\n",
              "      background-color: #434B5C;\n",
              "      box-shadow: 0px 1px 3px 1px rgba(0, 0, 0, 0.15);\n",
              "      filter: drop-shadow(0px 1px 2px rgba(0, 0, 0, 0.3));\n",
              "      fill: #FFFFFF;\n",
              "    }\n",
              "  </style>\n",
              "\n",
              "      <script>\n",
              "        const buttonEl =\n",
              "          document.querySelector('#df-48a47150-759a-4493-9466-dce52e7385db button.colab-df-convert');\n",
              "        buttonEl.style.display =\n",
              "          google.colab.kernel.accessAllowed ? 'block' : 'none';\n",
              "\n",
              "        async function convertToInteractive(key) {\n",
              "          const element = document.querySelector('#df-48a47150-759a-4493-9466-dce52e7385db');\n",
              "          const dataTable =\n",
              "            await google.colab.kernel.invokeFunction('convertToInteractive',\n",
              "                                                     [key], {});\n",
              "          if (!dataTable) return;\n",
              "\n",
              "          const docLinkHtml = 'Like what you see? Visit the ' +\n",
              "            '<a target=\"_blank\" href=https://colab.research.google.com/notebooks/data_table.ipynb>data table notebook</a>'\n",
              "            + ' to learn more about interactive tables.';\n",
              "          element.innerHTML = '';\n",
              "          dataTable['output_type'] = 'display_data';\n",
              "          await google.colab.output.renderOutput(dataTable, element);\n",
              "          const docLink = document.createElement('div');\n",
              "          docLink.innerHTML = docLinkHtml;\n",
              "          element.appendChild(docLink);\n",
              "        }\n",
              "      </script>\n",
              "    </div>\n",
              "  </div>\n",
              "  "
            ]
          },
          "metadata": {},
          "execution_count": 49
        }
      ],
      "source": [
        "preds_df = preds.select(\"label\", \"text\", \"class.result\").toPandas()\n",
        "preds_df.head()"
      ]
    },
    {
      "cell_type": "code",
      "execution_count": 50,
      "id": "Oo0X1tyacT7P",
      "metadata": {
        "id": "Oo0X1tyacT7P"
      },
      "outputs": [],
      "source": [
        "# The result is an array since in Spark NLP you can have multiple sentences.\n",
        "# Let's explode the array and get the item(s) inside of result column out\n",
        "preds_df['result'] = preds_df['result'].apply(lambda x : x[0])"
      ]
    },
    {
      "cell_type": "code",
      "execution_count": 51,
      "id": "VOvxSG6Afz5d",
      "metadata": {
        "colab": {
          "base_uri": "https://localhost:8080/"
        },
        "id": "VOvxSG6Afz5d",
        "outputId": "5cabba75-fa2d-4760-804a-902f2ed130cd"
      },
      "outputs": [
        {
          "output_type": "stream",
          "name": "stdout",
          "text": [
            "                      precision    recall  f1-score   support\n",
            "\n",
            "            business       0.64      0.70      0.67        20\n",
            "financial_statements       0.93      0.93      0.93        41\n",
            "        risk_factors       0.84      0.79      0.82        39\n",
            "\n",
            "            accuracy                           0.83       100\n",
            "           macro avg       0.80      0.81      0.80       100\n",
            "        weighted avg       0.83      0.83      0.83       100\n",
            "\n"
          ]
        }
      ],
      "source": [
        "# We are going to use sklearn to evalute the results on test dataset\n",
        "from sklearn.metrics import classification_report\n",
        "\n",
        "print(classification_report(preds_df[\"label\"], preds_df[\"result\"]))"
      ]
    },
    {
      "cell_type": "markdown",
      "id": "IHzIfMSuUgiD",
      "metadata": {
        "id": "IHzIfMSuUgiD"
      },
      "source": [
        "### Saving & loading back the trained model"
      ]
    },
    {
      "cell_type": "code",
      "execution_count": 52,
      "id": "r5Tec2WwUhP1",
      "metadata": {
        "colab": {
          "base_uri": "https://localhost:8080/"
        },
        "id": "r5Tec2WwUhP1",
        "outputId": "ca9ab0ca-f34a-447c-c7cf-77abdbaadf34"
      },
      "outputs": [
        {
          "output_type": "execute_result",
          "data": {
            "text/plain": [
              "[DocumentAssembler_9a17ea1645b8,\n",
              " UNIVERSAL_SENTENCE_ENCODER_4de71669b7ec,\n",
              " LegalClassifierDLModel_68cf14f784dd]"
            ]
          },
          "metadata": {},
          "execution_count": 52
        }
      ],
      "source": [
        "clf_pipelineModel.stages"
      ]
    },
    {
      "cell_type": "code",
      "execution_count": 53,
      "id": "4hjFsxVsUps_",
      "metadata": {
        "id": "4hjFsxVsUps_"
      },
      "outputs": [],
      "source": [
        "clf_pipelineModel.stages[-1].write().overwrite().save('Clf_Use')"
      ]
    },
    {
      "cell_type": "code",
      "execution_count": 54,
      "id": "UUdl5FoBbE5X",
      "metadata": {
        "id": "UUdl5FoBbE5X"
      },
      "outputs": [],
      "source": [
        "# Load back  saved Classifier Model\n",
        "ClfModel = legal.ClassifierDLModel.load('Clf_Use')"
      ]
    },
    {
      "cell_type": "code",
      "execution_count": 55,
      "id": "295Ip9xZcjU-",
      "metadata": {
        "id": "295Ip9xZcjU-"
      },
      "outputs": [],
      "source": [
        "ld_pipeline = nlp.Pipeline(stages=[document_assembler, embeddings,ClfModel])\n",
        "ld_pipeline_model = ld_pipeline.fit(spark.createDataFrame([['']]).toDF(\"text\"))"
      ]
    },
    {
      "cell_type": "code",
      "execution_count": 56,
      "id": "Gdm6mxvadFyj",
      "metadata": {
        "id": "Gdm6mxvadFyj"
      },
      "outputs": [],
      "source": [
        "# Apply Model Transform to testData\n",
        "ld_preds = ld_pipeline_model.transform(test)"
      ]
    },
    {
      "cell_type": "code",
      "execution_count": 57,
      "id": "aQYCSHcIdJbi",
      "metadata": {
        "id": "aQYCSHcIdJbi"
      },
      "outputs": [],
      "source": [
        "ld_preds_df = ld_preds.select('text','label',\"class.result\").toPandas()"
      ]
    },
    {
      "cell_type": "code",
      "execution_count": 58,
      "id": "VZnsGh6YdVUf",
      "metadata": {
        "colab": {
          "base_uri": "https://localhost:8080/",
          "height": 0
        },
        "id": "VZnsGh6YdVUf",
        "outputId": "6ff16d4f-8c32-42c3-d7b5-e6dc6dd98682"
      },
      "outputs": [
        {
          "output_type": "execute_result",
          "data": {
            "text/plain": [
              "                                                text                 label  \\\n",
              "0  559 \\n211 \\n697 \\nNet loss\\n \\n 190 890 \\n \\n ...  financial_statements   \n",
              "1   \\nTotal operating lease liabilities\\n \\n \\n5 ...  financial_statements   \n",
              "2   \\nVeeva Vault Study Startup\\n helps life scie...              business   \n",
              "3   \\n Simulation Platform provides large scale v...              business   \n",
              "4   \\n5 796 \\nThereafter\\n15 794 \\n \\n15 794 \\nTo...  financial_statements   \n",
              "\n",
              "                   result  \n",
              "0  [financial_statements]  \n",
              "1  [financial_statements]  \n",
              "2              [business]  \n",
              "3              [business]  \n",
              "4  [financial_statements]  "
            ],
            "text/html": [
              "\n",
              "  <div id=\"df-8a008aef-3b13-4aa6-88b1-0c2617da4f32\">\n",
              "    <div class=\"colab-df-container\">\n",
              "      <div>\n",
              "<style scoped>\n",
              "    .dataframe tbody tr th:only-of-type {\n",
              "        vertical-align: middle;\n",
              "    }\n",
              "\n",
              "    .dataframe tbody tr th {\n",
              "        vertical-align: top;\n",
              "    }\n",
              "\n",
              "    .dataframe thead th {\n",
              "        text-align: right;\n",
              "    }\n",
              "</style>\n",
              "<table border=\"1\" class=\"dataframe\">\n",
              "  <thead>\n",
              "    <tr style=\"text-align: right;\">\n",
              "      <th></th>\n",
              "      <th>text</th>\n",
              "      <th>label</th>\n",
              "      <th>result</th>\n",
              "    </tr>\n",
              "  </thead>\n",
              "  <tbody>\n",
              "    <tr>\n",
              "      <th>0</th>\n",
              "      <td>559 \\n211 \\n697 \\nNet loss\\n \\n 190 890 \\n \\n ...</td>\n",
              "      <td>financial_statements</td>\n",
              "      <td>[financial_statements]</td>\n",
              "    </tr>\n",
              "    <tr>\n",
              "      <th>1</th>\n",
              "      <td>\\nTotal operating lease liabilities\\n \\n \\n5 ...</td>\n",
              "      <td>financial_statements</td>\n",
              "      <td>[financial_statements]</td>\n",
              "    </tr>\n",
              "    <tr>\n",
              "      <th>2</th>\n",
              "      <td>\\nVeeva Vault Study Startup\\n helps life scie...</td>\n",
              "      <td>business</td>\n",
              "      <td>[business]</td>\n",
              "    </tr>\n",
              "    <tr>\n",
              "      <th>3</th>\n",
              "      <td>\\n Simulation Platform provides large scale v...</td>\n",
              "      <td>business</td>\n",
              "      <td>[business]</td>\n",
              "    </tr>\n",
              "    <tr>\n",
              "      <th>4</th>\n",
              "      <td>\\n5 796 \\nThereafter\\n15 794 \\n \\n15 794 \\nTo...</td>\n",
              "      <td>financial_statements</td>\n",
              "      <td>[financial_statements]</td>\n",
              "    </tr>\n",
              "  </tbody>\n",
              "</table>\n",
              "</div>\n",
              "      <button class=\"colab-df-convert\" onclick=\"convertToInteractive('df-8a008aef-3b13-4aa6-88b1-0c2617da4f32')\"\n",
              "              title=\"Convert this dataframe to an interactive table.\"\n",
              "              style=\"display:none;\">\n",
              "        \n",
              "  <svg xmlns=\"http://www.w3.org/2000/svg\" height=\"24px\"viewBox=\"0 0 24 24\"\n",
              "       width=\"24px\">\n",
              "    <path d=\"M0 0h24v24H0V0z\" fill=\"none\"/>\n",
              "    <path d=\"M18.56 5.44l.94 2.06.94-2.06 2.06-.94-2.06-.94-.94-2.06-.94 2.06-2.06.94zm-11 1L8.5 8.5l.94-2.06 2.06-.94-2.06-.94L8.5 2.5l-.94 2.06-2.06.94zm10 10l.94 2.06.94-2.06 2.06-.94-2.06-.94-.94-2.06-.94 2.06-2.06.94z\"/><path d=\"M17.41 7.96l-1.37-1.37c-.4-.4-.92-.59-1.43-.59-.52 0-1.04.2-1.43.59L10.3 9.45l-7.72 7.72c-.78.78-.78 2.05 0 2.83L4 21.41c.39.39.9.59 1.41.59.51 0 1.02-.2 1.41-.59l7.78-7.78 2.81-2.81c.8-.78.8-2.07 0-2.86zM5.41 20L4 18.59l7.72-7.72 1.47 1.35L5.41 20z\"/>\n",
              "  </svg>\n",
              "      </button>\n",
              "      \n",
              "  <style>\n",
              "    .colab-df-container {\n",
              "      display:flex;\n",
              "      flex-wrap:wrap;\n",
              "      gap: 12px;\n",
              "    }\n",
              "\n",
              "    .colab-df-convert {\n",
              "      background-color: #E8F0FE;\n",
              "      border: none;\n",
              "      border-radius: 50%;\n",
              "      cursor: pointer;\n",
              "      display: none;\n",
              "      fill: #1967D2;\n",
              "      height: 32px;\n",
              "      padding: 0 0 0 0;\n",
              "      width: 32px;\n",
              "    }\n",
              "\n",
              "    .colab-df-convert:hover {\n",
              "      background-color: #E2EBFA;\n",
              "      box-shadow: 0px 1px 2px rgba(60, 64, 67, 0.3), 0px 1px 3px 1px rgba(60, 64, 67, 0.15);\n",
              "      fill: #174EA6;\n",
              "    }\n",
              "\n",
              "    [theme=dark] .colab-df-convert {\n",
              "      background-color: #3B4455;\n",
              "      fill: #D2E3FC;\n",
              "    }\n",
              "\n",
              "    [theme=dark] .colab-df-convert:hover {\n",
              "      background-color: #434B5C;\n",
              "      box-shadow: 0px 1px 3px 1px rgba(0, 0, 0, 0.15);\n",
              "      filter: drop-shadow(0px 1px 2px rgba(0, 0, 0, 0.3));\n",
              "      fill: #FFFFFF;\n",
              "    }\n",
              "  </style>\n",
              "\n",
              "      <script>\n",
              "        const buttonEl =\n",
              "          document.querySelector('#df-8a008aef-3b13-4aa6-88b1-0c2617da4f32 button.colab-df-convert');\n",
              "        buttonEl.style.display =\n",
              "          google.colab.kernel.accessAllowed ? 'block' : 'none';\n",
              "\n",
              "        async function convertToInteractive(key) {\n",
              "          const element = document.querySelector('#df-8a008aef-3b13-4aa6-88b1-0c2617da4f32');\n",
              "          const dataTable =\n",
              "            await google.colab.kernel.invokeFunction('convertToInteractive',\n",
              "                                                     [key], {});\n",
              "          if (!dataTable) return;\n",
              "\n",
              "          const docLinkHtml = 'Like what you see? Visit the ' +\n",
              "            '<a target=\"_blank\" href=https://colab.research.google.com/notebooks/data_table.ipynb>data table notebook</a>'\n",
              "            + ' to learn more about interactive tables.';\n",
              "          element.innerHTML = '';\n",
              "          dataTable['output_type'] = 'display_data';\n",
              "          await google.colab.output.renderOutput(dataTable, element);\n",
              "          const docLink = document.createElement('div');\n",
              "          docLink.innerHTML = docLinkHtml;\n",
              "          element.appendChild(docLink);\n",
              "        }\n",
              "      </script>\n",
              "    </div>\n",
              "  </div>\n",
              "  "
            ]
          },
          "metadata": {},
          "execution_count": 58
        }
      ],
      "source": [
        "ld_preds_df.head()"
      ]
    },
    {
      "cell_type": "markdown",
      "id": "7kKWRZNu0lCL",
      "metadata": {
        "id": "7kKWRZNu0lCL"
      },
      "source": [
        "## With RoBerta Embeddings"
      ]
    },
    {
      "cell_type": "markdown",
      "id": "rHw4ikwLISTb",
      "metadata": {
        "id": "rHw4ikwLISTb"
      },
      "source": [
        "We do not have Legal Sentence Embeddings yet, But we can use the Legal RoBerta Embeddings and then average them."
      ]
    },
    {
      "cell_type": "code",
      "execution_count": 59,
      "id": "oaiL-Txz0lCM",
      "metadata": {
        "colab": {
          "base_uri": "https://localhost:8080/"
        },
        "id": "oaiL-Txz0lCM",
        "outputId": "92e88800-5c1b-44df-b448-d952a261e0a9"
      },
      "outputs": [
        {
          "output_type": "stream",
          "name": "stdout",
          "text": [
            "roberta_embeddings_legal_roberta_base download started this may take some time.\n",
            "Approximate size to download 447.2 MB\n",
            "[OK!]\n"
          ]
        }
      ],
      "source": [
        "embeddings = (\n",
        "    nlp.RoBertaEmbeddings.pretrained(\"roberta_embeddings_legal_roberta_base\", \"en\")\n",
        "    .setInputCols([\"document\", \"token\"])\n",
        "    .setOutputCol(\"embeddings\")\n",
        "    .setMaxSentenceLength(512)\n",
        ")"
      ]
    },
    {
      "cell_type": "code",
      "execution_count": 60,
      "id": "l3jxCehJ0lCO",
      "metadata": {
        "id": "l3jxCehJ0lCO"
      },
      "outputs": [],
      "source": [
        "document_assembler = (\n",
        "    nlp.DocumentAssembler().setInputCol(\"text\").setOutputCol(\"document\")\n",
        ")\n",
        "\n",
        "tokenizer = nlp.Tokenizer().setInputCols([\"document\"]).setOutputCol(\"token\")\n",
        "\n",
        "embeddingsSentence = (\n",
        "    nlp.SentenceEmbeddings()\n",
        "    .setInputCols([\"document\", \"embeddings\"])\n",
        "    .setOutputCol(\"sentence_embeddings\")\n",
        "    .setPoolingStrategy(\"AVERAGE\")\n",
        ")\n",
        "\n",
        "classifierdl = (\n",
        "    legal.ClassifierDLApproach()\n",
        "    .setInputCols([\"sentence_embeddings\"])\n",
        "    .setOutputCol(\"class\")\n",
        "    .setLabelColumn(\"label\")\n",
        "    .setMaxEpochs(5)\n",
        "    .setLr(0.001)\n",
        "    .setEnableOutputLogs(True)\n",
        "    .setOutputLogsPath(\"multiclass_roberta_logs\")\n",
        "    .setBatchSize(4)\n",
        "    .setDropout(0.15)\n",
        ")\n",
        "\n",
        "clf_pipeline = nlp.Pipeline(\n",
        "    stages=[document_assembler, tokenizer, embeddings, embeddingsSentence, classifierdl]\n",
        ")"
      ]
    },
    {
      "cell_type": "code",
      "execution_count": 62,
      "id": "W6qwSLYv0lCP",
      "metadata": {
        "id": "W6qwSLYv0lCP",
        "colab": {
          "base_uri": "https://localhost:8080/"
        },
        "outputId": "3a03616b-90be-403d-952c-cad31741b2e2"
      },
      "outputs": [
        {
          "output_type": "stream",
          "name": "stdout",
          "text": [
            "CPU times: user 8.45 s, sys: 980 ms, total: 9.43 s\n",
            "Wall time: 24min 3s\n"
          ]
        }
      ],
      "source": [
        "%%time\n",
        "clf_pipelineModel = clf_pipeline.fit(train)"
      ]
    },
    {
      "cell_type": "code",
      "execution_count": 63,
      "id": "IEK22MWg0lCQ",
      "metadata": {
        "id": "IEK22MWg0lCQ"
      },
      "outputs": [],
      "source": [
        "preds = clf_pipelineModel.transform(test)"
      ]
    },
    {
      "cell_type": "code",
      "execution_count": 64,
      "id": "0QMopvFG0lCQ",
      "metadata": {
        "id": "0QMopvFG0lCQ"
      },
      "outputs": [],
      "source": [
        "preds_df = preds.select(\"label\", \"text\", \"class.result\").toPandas()"
      ]
    },
    {
      "cell_type": "code",
      "execution_count": 65,
      "id": "ADdEhII40lCR",
      "metadata": {
        "colab": {
          "base_uri": "https://localhost:8080/",
          "height": 206
        },
        "id": "ADdEhII40lCR",
        "outputId": "45732127-bf09-4660-fdaf-bbf69944a235"
      },
      "outputs": [
        {
          "output_type": "execute_result",
          "data": {
            "text/plain": [
              "                  label                                               text  \\\n",
              "0  financial_statements  559 \\n211 \\n697 \\nNet loss\\n \\n 190 890 \\n \\n ...   \n",
              "1  financial_statements   \\nTotal operating lease liabilities\\n \\n \\n5 ...   \n",
              "2              business   \\nVeeva Vault Study Startup\\n helps life scie...   \n",
              "3              business   \\n Simulation Platform provides large scale v...   \n",
              "4  financial_statements   \\n5 796 \\nThereafter\\n15 794 \\n \\n15 794 \\nTo...   \n",
              "\n",
              "                   result  \n",
              "0  [financial_statements]  \n",
              "1  [financial_statements]  \n",
              "2              [business]  \n",
              "3              [business]  \n",
              "4  [financial_statements]  "
            ],
            "text/html": [
              "\n",
              "  <div id=\"df-846a6c01-d136-4b15-8265-d4467b8142e9\">\n",
              "    <div class=\"colab-df-container\">\n",
              "      <div>\n",
              "<style scoped>\n",
              "    .dataframe tbody tr th:only-of-type {\n",
              "        vertical-align: middle;\n",
              "    }\n",
              "\n",
              "    .dataframe tbody tr th {\n",
              "        vertical-align: top;\n",
              "    }\n",
              "\n",
              "    .dataframe thead th {\n",
              "        text-align: right;\n",
              "    }\n",
              "</style>\n",
              "<table border=\"1\" class=\"dataframe\">\n",
              "  <thead>\n",
              "    <tr style=\"text-align: right;\">\n",
              "      <th></th>\n",
              "      <th>label</th>\n",
              "      <th>text</th>\n",
              "      <th>result</th>\n",
              "    </tr>\n",
              "  </thead>\n",
              "  <tbody>\n",
              "    <tr>\n",
              "      <th>0</th>\n",
              "      <td>financial_statements</td>\n",
              "      <td>559 \\n211 \\n697 \\nNet loss\\n \\n 190 890 \\n \\n ...</td>\n",
              "      <td>[financial_statements]</td>\n",
              "    </tr>\n",
              "    <tr>\n",
              "      <th>1</th>\n",
              "      <td>financial_statements</td>\n",
              "      <td>\\nTotal operating lease liabilities\\n \\n \\n5 ...</td>\n",
              "      <td>[financial_statements]</td>\n",
              "    </tr>\n",
              "    <tr>\n",
              "      <th>2</th>\n",
              "      <td>business</td>\n",
              "      <td>\\nVeeva Vault Study Startup\\n helps life scie...</td>\n",
              "      <td>[business]</td>\n",
              "    </tr>\n",
              "    <tr>\n",
              "      <th>3</th>\n",
              "      <td>business</td>\n",
              "      <td>\\n Simulation Platform provides large scale v...</td>\n",
              "      <td>[business]</td>\n",
              "    </tr>\n",
              "    <tr>\n",
              "      <th>4</th>\n",
              "      <td>financial_statements</td>\n",
              "      <td>\\n5 796 \\nThereafter\\n15 794 \\n \\n15 794 \\nTo...</td>\n",
              "      <td>[financial_statements]</td>\n",
              "    </tr>\n",
              "  </tbody>\n",
              "</table>\n",
              "</div>\n",
              "      <button class=\"colab-df-convert\" onclick=\"convertToInteractive('df-846a6c01-d136-4b15-8265-d4467b8142e9')\"\n",
              "              title=\"Convert this dataframe to an interactive table.\"\n",
              "              style=\"display:none;\">\n",
              "        \n",
              "  <svg xmlns=\"http://www.w3.org/2000/svg\" height=\"24px\"viewBox=\"0 0 24 24\"\n",
              "       width=\"24px\">\n",
              "    <path d=\"M0 0h24v24H0V0z\" fill=\"none\"/>\n",
              "    <path d=\"M18.56 5.44l.94 2.06.94-2.06 2.06-.94-2.06-.94-.94-2.06-.94 2.06-2.06.94zm-11 1L8.5 8.5l.94-2.06 2.06-.94-2.06-.94L8.5 2.5l-.94 2.06-2.06.94zm10 10l.94 2.06.94-2.06 2.06-.94-2.06-.94-.94-2.06-.94 2.06-2.06.94z\"/><path d=\"M17.41 7.96l-1.37-1.37c-.4-.4-.92-.59-1.43-.59-.52 0-1.04.2-1.43.59L10.3 9.45l-7.72 7.72c-.78.78-.78 2.05 0 2.83L4 21.41c.39.39.9.59 1.41.59.51 0 1.02-.2 1.41-.59l7.78-7.78 2.81-2.81c.8-.78.8-2.07 0-2.86zM5.41 20L4 18.59l7.72-7.72 1.47 1.35L5.41 20z\"/>\n",
              "  </svg>\n",
              "      </button>\n",
              "      \n",
              "  <style>\n",
              "    .colab-df-container {\n",
              "      display:flex;\n",
              "      flex-wrap:wrap;\n",
              "      gap: 12px;\n",
              "    }\n",
              "\n",
              "    .colab-df-convert {\n",
              "      background-color: #E8F0FE;\n",
              "      border: none;\n",
              "      border-radius: 50%;\n",
              "      cursor: pointer;\n",
              "      display: none;\n",
              "      fill: #1967D2;\n",
              "      height: 32px;\n",
              "      padding: 0 0 0 0;\n",
              "      width: 32px;\n",
              "    }\n",
              "\n",
              "    .colab-df-convert:hover {\n",
              "      background-color: #E2EBFA;\n",
              "      box-shadow: 0px 1px 2px rgba(60, 64, 67, 0.3), 0px 1px 3px 1px rgba(60, 64, 67, 0.15);\n",
              "      fill: #174EA6;\n",
              "    }\n",
              "\n",
              "    [theme=dark] .colab-df-convert {\n",
              "      background-color: #3B4455;\n",
              "      fill: #D2E3FC;\n",
              "    }\n",
              "\n",
              "    [theme=dark] .colab-df-convert:hover {\n",
              "      background-color: #434B5C;\n",
              "      box-shadow: 0px 1px 3px 1px rgba(0, 0, 0, 0.15);\n",
              "      filter: drop-shadow(0px 1px 2px rgba(0, 0, 0, 0.3));\n",
              "      fill: #FFFFFF;\n",
              "    }\n",
              "  </style>\n",
              "\n",
              "      <script>\n",
              "        const buttonEl =\n",
              "          document.querySelector('#df-846a6c01-d136-4b15-8265-d4467b8142e9 button.colab-df-convert');\n",
              "        buttonEl.style.display =\n",
              "          google.colab.kernel.accessAllowed ? 'block' : 'none';\n",
              "\n",
              "        async function convertToInteractive(key) {\n",
              "          const element = document.querySelector('#df-846a6c01-d136-4b15-8265-d4467b8142e9');\n",
              "          const dataTable =\n",
              "            await google.colab.kernel.invokeFunction('convertToInteractive',\n",
              "                                                     [key], {});\n",
              "          if (!dataTable) return;\n",
              "\n",
              "          const docLinkHtml = 'Like what you see? Visit the ' +\n",
              "            '<a target=\"_blank\" href=https://colab.research.google.com/notebooks/data_table.ipynb>data table notebook</a>'\n",
              "            + ' to learn more about interactive tables.';\n",
              "          element.innerHTML = '';\n",
              "          dataTable['output_type'] = 'display_data';\n",
              "          await google.colab.output.renderOutput(dataTable, element);\n",
              "          const docLink = document.createElement('div');\n",
              "          docLink.innerHTML = docLinkHtml;\n",
              "          element.appendChild(docLink);\n",
              "        }\n",
              "      </script>\n",
              "    </div>\n",
              "  </div>\n",
              "  "
            ]
          },
          "metadata": {},
          "execution_count": 65
        }
      ],
      "source": [
        "preds_df.head()"
      ]
    },
    {
      "cell_type": "code",
      "execution_count": 66,
      "id": "eVFKUw5cZeXB",
      "metadata": {
        "colab": {
          "base_uri": "https://localhost:8080/"
        },
        "id": "eVFKUw5cZeXB",
        "outputId": "8a052e86-41c5-435a-dfb5-9664e88bc89d"
      },
      "outputs": [
        {
          "output_type": "stream",
          "name": "stdout",
          "text": [
            "Training started - epochs: 5 - learning_rate: 0.001 - batch_size: 4 - training_examples: 900 - classes: 3\n",
            "Epoch 0/5 - 83.26s - loss: 182.05006 - acc: 0.7188889 - batches: 225\n",
            "Epoch 1/5 - 89.49s - loss: 146.9867 - acc: 0.89111114 - batches: 225\n",
            "Epoch 2/5 - 79.53s - loss: 142.58612 - acc: 0.9077778 - batches: 225\n",
            "Epoch 3/5 - 80.60s - loss: 140.33891 - acc: 0.91888887 - batches: 225\n",
            "Epoch 4/5 - 67.85s - loss: 139.06071 - acc: 0.92444444 - batches: 225\n",
            "Training started - epochs: 5 - learning_rate: 0.001 - batch_size: 4 - training_examples: 900 - classes: 3\n",
            "Epoch 0/5 - 1.62s - loss: 196.78406 - acc: 0.6666667 - batches: 225\n",
            "Epoch 1/5 - 1.24s - loss: 149.72516 - acc: 0.88555557 - batches: 225\n",
            "Epoch 2/5 - 1.22s - loss: 142.92361 - acc: 0.9022222 - batches: 225\n",
            "Epoch 3/5 - 1.25s - loss: 140.43 - acc: 0.91333336 - batches: 225\n",
            "Epoch 4/5 - 1.23s - loss: 139.03525 - acc: 0.9177778 - batches: 225\n",
            "\n"
          ]
        }
      ],
      "source": [
        "log_files = os.listdir(\"multiclass_roberta_logs\")\n",
        "\n",
        "with open(\"multiclass_roberta_logs/\"+log_files[0], \"r\") as log_file :\n",
        "    print(log_file.read())"
      ]
    },
    {
      "cell_type": "code",
      "execution_count": 67,
      "id": "wvc6vZjH0lCS",
      "metadata": {
        "colab": {
          "base_uri": "https://localhost:8080/"
        },
        "id": "wvc6vZjH0lCS",
        "outputId": "aa803260-8abf-4c8b-93c2-34ce535604aa"
      },
      "outputs": [
        {
          "output_type": "stream",
          "name": "stdout",
          "text": [
            "                      precision    recall  f1-score   support\n",
            "\n",
            "            business       0.81      0.85      0.83        20\n",
            "financial_statements       0.90      0.93      0.92        41\n",
            "        risk_factors       0.89      0.85      0.87        39\n",
            "\n",
            "            accuracy                           0.88       100\n",
            "           macro avg       0.87      0.87      0.87       100\n",
            "        weighted avg       0.88      0.88      0.88       100\n",
            "\n"
          ]
        }
      ],
      "source": [
        "# Let's explode the array and get the item(s) inside of result column out\n",
        "preds_df['result'] = preds_df['result'].apply(lambda x : x[0])\n",
        "\n",
        "from sklearn.metrics import classification_report\n",
        "\n",
        "print (classification_report(preds_df['label'], preds_df['result']))\n"
      ]
    },
    {
      "cell_type": "markdown",
      "id": "rMHZmT9_deAQ",
      "metadata": {
        "id": "rMHZmT9_deAQ"
      },
      "source": [
        "# Save model and Zip it for Modelshub Upload/Downloads"
      ]
    },
    {
      "cell_type": "code",
      "execution_count": 68,
      "id": "QZ79YbdodfFc",
      "metadata": {
        "colab": {
          "base_uri": "https://localhost:8080/"
        },
        "id": "QZ79YbdodfFc",
        "outputId": "c11bff30-63ae-4775-d0d6-c2ef9d0971ab"
      },
      "outputs": [
        {
          "output_type": "stream",
          "name": "stdout",
          "text": [
            "  adding: classifierdl_tensorflow (deflated 58%)\n",
            "  adding: fields/ (stored 0%)\n",
            "  adding: fields/datasetParams/ (stored 0%)\n",
            "  adding: fields/datasetParams/.part-00002.crc (stored 0%)\n",
            "  adding: fields/datasetParams/part-00003 (deflated 30%)\n",
            "  adding: fields/datasetParams/.part-00000.crc (stored 0%)\n",
            "  adding: fields/datasetParams/_SUCCESS (stored 0%)\n",
            "  adding: fields/datasetParams/.part-00003.crc (stored 0%)\n",
            "  adding: fields/datasetParams/part-00002 (deflated 27%)\n",
            "  adding: fields/datasetParams/._SUCCESS.crc (stored 0%)\n",
            "  adding: fields/datasetParams/part-00001 (deflated 27%)\n",
            "  adding: fields/datasetParams/.part-00001.crc (stored 0%)\n",
            "  adding: fields/datasetParams/part-00000 (deflated 26%)\n",
            "  adding: metadata/ (stored 0%)\n",
            "  adding: metadata/.part-00000.crc (stored 0%)\n",
            "  adding: metadata/_SUCCESS (stored 0%)\n",
            "  adding: metadata/._SUCCESS.crc (stored 0%)\n",
            "  adding: metadata/part-00000 (deflated 40%)\n"
          ]
        }
      ],
      "source": [
        "# Save a Spark NLP model\n",
        "clf_pipelineModel.stages[-1].write().overwrite().save('ClfBert')\n",
        "\n",
        "# cd into saved dir and zip\n",
        "! cd /content/ClfBert ; zip -r /content/ClfBert.zip *"
      ]
    },
    {
      "cell_type": "code",
      "execution_count": 68,
      "id": "tfinWtXTRynE",
      "metadata": {
        "id": "tfinWtXTRynE"
      },
      "outputs": [],
      "source": []
    }
  ],
  "metadata": {
    "colab": {
      "machine_shape": "hm",
      "provenance": [],
      "collapsed_sections": [
        "IHzIfMSuUgiD"
      ]
    },
    "gpuClass": "standard",
    "kernelspec": {
      "display_name": "Python 3",
      "language": "python",
      "name": "python3"
    },
    "language_info": {
      "name": "python",
      "version": "3.10.9 (tags/v3.10.9:1dd9be6, Dec  6 2022, 20:01:21) [MSC v.1934 64 bit (AMD64)]"
    },
    "vscode": {
      "interpreter": {
        "hash": "eaaf1efa59a88a5a39769af8d2cb09ad2646375b6f26a94367c2f840c23a5e60"
      }
    }
  },
  "nbformat": 4,
  "nbformat_minor": 5
}