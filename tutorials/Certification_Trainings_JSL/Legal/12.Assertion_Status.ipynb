{
 "cells": [
  {
   "cell_type": "markdown",
   "id": "VNRiKOH_u_jP",
   "metadata": {
    "id": "VNRiKOH_u_jP"
   },
   "source": [
    "![JohnSnowLabs](https://nlp.johnsnowlabs.com/assets/images/logo.png)"
   ]
  },
  {
   "cell_type": "markdown",
   "id": "LF8cIN3OvA2Q",
   "metadata": {
    "id": "LF8cIN3OvA2Q"
   },
   "source": [
    "[![Open In Colab](https://colab.research.google.com/assets/colab-badge.svg)](https://colab.research.google.com/github/JohnSnowLabs/spark-nlp-workshop/blob/master/tutorials/Certification_Trainings_JSL/Legal/12.Assertion_Status.ipynb)"
   ]
  },
  {
   "cell_type": "markdown",
   "id": "0dpAf1n3e3Kg",
   "metadata": {
    "id": "0dpAf1n3e3Kg"
   },
   "source": [
    "# Legal Assertion Status Model "
   ]
  },
  {
   "cell_type": "markdown",
   "id": "PcsTZJmZu7CQ",
   "metadata": {
    "id": "PcsTZJmZu7CQ"
   },
   "source": [
    "## Colab Setup"
   ]
  },
  {
   "cell_type": "code",
   "execution_count": null,
   "id": "ELqzaf32MT6E",
   "metadata": {
    "id": "ELqzaf32MT6E"
   },
   "outputs": [],
   "source": [
    "# Install the johnsnowlabs library to access Spark-OCR and Spark-NLP for Healthcare, Finance, and Legal.\n",
    "! pip install johnsnowlabs "
   ]
  },
  {
   "cell_type": "code",
   "execution_count": null,
   "id": "RO2dIA414yL_",
   "metadata": {
    "id": "RO2dIA414yL_"
   },
   "outputs": [],
   "source": [
    "from google.colab import files\n",
    "print('Please Upload your John Snow Labs License using the button below')\n",
    "license_keys = files.upload()"
   ]
  },
  {
   "cell_type": "code",
   "execution_count": null,
   "id": "dmcB5zVBHZO8",
   "metadata": {
    "id": "dmcB5zVBHZO8"
   },
   "outputs": [],
   "source": [
    "from johnsnowlabs import nlp, legal\n",
    "# After uploading your license run this to install all licensed Python Wheels and pre-download Jars the Spark Session JVM\n",
    "# Make sure to restart your notebook afterwards for changes to take effect\n",
    "nlp.install()"
   ]
  },
  {
   "cell_type": "markdown",
   "id": "KRjEN9yXPOxx",
   "metadata": {
    "id": "KRjEN9yXPOxx"
   },
   "source": [
    "## Start Spark Session"
   ]
  },
  {
   "cell_type": "code",
   "execution_count": null,
   "id": "lQ8-BI-_5QjG",
   "metadata": {
    "id": "lQ8-BI-_5QjG"
   },
   "outputs": [],
   "source": [
    "from johnsnowlabs import nlp, legal\n",
    "# Automatically load license data and start a session with all jars user has access to\n",
    "spark = nlp.start()"
   ]
  },
  {
   "cell_type": "code",
   "execution_count": null,
   "id": "saeJ8JFqt3Dg",
   "metadata": {
    "id": "saeJ8JFqt3Dg"
   },
   "outputs": [],
   "source": [
    "import pandas as pd\n",
    "import warnings\n",
    "warnings.filterwarnings('ignore')\n",
    "# if you want to start the session with custom params as in start function above\n",
    "def start(SECRET):\n",
    "    builder = SparkSession.builder \\\n",
    "        .appName(\"Spark NLP Licensed\") \\\n",
    "        .master(\"local[*]\") \\\n",
    "        .config(\"spark.driver.memory\", \"16G\") \\\n",
    "        .config(\"spark.serializer\", \"org.apache.spark.serializer.KryoSerializer\") \\\n",
    "        .config(\"spark.kryoserializer.buffer.max\", \"2000M\") \\\n",
    "        .config(\"spark.jars.packages\", \"com.johnsnowlabs.nlp:spark-nlp_2.12:\"+PUBLIC_VERSION) \\\n",
    "        .config(\"spark.jars\", \"https://pypi.johnsnowlabs.com/\"+SECRET+\"/spark-nlp-jsl-\"+JSL_VERSION+\".jar\")\n",
    "      \n",
    "    return builder.getOrCreate()\n",
    "\n",
    "#spark = start(SECRET)\n"
   ]
  },
  {
   "cell_type": "code",
   "source": [
    "from pyspark.sql import DataFrame\n",
    "import pyspark.sql.functions as F\n",
    "import pyspark.sql.types as T\n",
    "import pyspark.sql as SQL\n",
    "from pyspark import keyword_only"
   ],
   "metadata": {
    "id": "DZ6fabAMmbb8"
   },
   "id": "DZ6fabAMmbb8",
   "execution_count": null,
   "outputs": []
  },
  {
   "cell_type": "markdown",
   "id": "fa8fbe50-f928-45ff-b539-0ab62a7c40b2",
   "metadata": {
    "id": "fa8fbe50-f928-45ff-b539-0ab62a7c40b2"
   },
   "source": [
    "## Legal Assertion Status Model "
   ]
  },
  {
   "cell_type": "markdown",
   "id": "94fe87f8-6282-4f41-82a3-34d2a2744d0b",
   "metadata": {
    "id": "94fe87f8-6282-4f41-82a3-34d2a2744d0b"
   },
   "source": [
    "The model has been implemented within Spark NLP as an annotator called **AssertionDLModel**. It is an Assertion Status Model aimed to detect **temporality (PRESENT, PAST, FUTURE)** or **certainty (POSSIBLE)** in your legal texts."
   ]
  },
  {
   "cell_type": "markdown",
   "id": "a7957086-ce04-4259-987d-6832547e9a73",
   "metadata": {
    "id": "a7957086-ce04-4259-987d-6832547e9a73"
   },
   "source": [
    "## Prediction Pipeline"
   ]
  },
  {
   "cell_type": "code",
   "execution_count": null,
   "id": "fb516d3a-9bb3-4c5e-b773-e9e7ee1049e5",
   "metadata": {
    "colab": {
     "base_uri": "https://localhost:8080/"
    },
    "executionInfo": {
     "elapsed": 133615,
     "status": "ok",
     "timestamp": 1669745782867,
     "user": {
      "displayName": "Vildan Sarıkaya",
      "userId": "07789644790967768983"
     },
     "user_tz": 300
    },
    "id": "fb516d3a-9bb3-4c5e-b773-e9e7ee1049e5",
    "jupyter": {
     "outputs_hidden": true
    },
    "outputId": "1df22187-3921-4852-9cbb-e091a3f580d1",
    "tags": []
   },
   "outputs": [
    {
     "output_type": "stream",
     "name": "stdout",
     "text": [
      "sentence_detector_dl download started this may take some time.\n",
      "Approximate size to download 514.9 KB\n",
      "[OK!]\n",
      "roberta_embeddings_legal_roberta_base download started this may take some time.\n",
      "Approximate size to download 447.2 MB\n",
      "[OK!]\n",
      "legner_contract_doc_parties download started this may take some time.\n",
      "[OK!]\n",
      "bert_embeddings_sec_bert_base download started this may take some time.\n",
      "Approximate size to download 390.4 MB\n",
      "[OK!]\n",
      "legassertion_time download started this may take some time.\n",
      "[OK!]\n"
     ]
    }
   ],
   "source": [
    "document_assembler = nlp.DocumentAssembler()\\\n",
    "    .setInputCol(\"text\")\\\n",
    "    .setOutputCol(\"document\")\n",
    "\n",
    "sentence_detector = nlp.SentenceDetectorDLModel.pretrained(\"sentence_detector_dl\",\"xx\")\\\n",
    "    .setInputCols([\"document\"])\\\n",
    "    .setOutputCol(\"sentence\")\n",
    "\n",
    "tokenizer = nlp.Tokenizer()\\\n",
    "    .setInputCols([\"sentence\"])\\\n",
    "    .setOutputCol(\"token\")\n",
    "\n",
    "embeddings_ner = nlp.RoBertaEmbeddings.pretrained(\"roberta_embeddings_legal_roberta_base\", \"en\") \\\n",
    "    .setInputCols(\"sentence\", \"token\") \\\n",
    "    .setOutputCol(\"embeddings_ner\")\\\n",
    "\n",
    "ner_model = legal.NerModel.pretrained('legner_contract_doc_parties', 'en', 'legal/models')\\\n",
    "    .setInputCols([\"sentence\", \"token\", \"embeddings_ner\"])\\\n",
    "    .setOutputCol(\"ner\")\n",
    "\n",
    "ner_converter = nlp.NerConverter()\\\n",
    "    .setInputCols([\"sentence\", \"token\", \"ner\"])\\\n",
    "    .setOutputCol(\"ner_chunk\")\\\n",
    "    .setWhiteList([\"DOC\", \"EFFDATE\", \"PARTY\"])\n",
    "\n",
    "embeddings_ass = nlp.BertEmbeddings.pretrained(\"bert_embeddings_sec_bert_base\",\"en\") \\\n",
    "    .setInputCols([\"sentence\", \"token\"]) \\\n",
    "    .setOutputCol(\"embeddings_ass\")\n",
    "\n",
    "assertion = legal.AssertionDLModel.pretrained(\"legassertion_time\", \"en\", \"legal/models\")\\\n",
    "    .setInputCols([\"sentence\", \"ner_chunk\", \"embeddings_ass\"]) \\\n",
    "    .setOutputCol(\"assertion\")\n",
    "\n",
    "\n",
    "nlpPipeline = nlp.Pipeline(stages=[\n",
    "            document_assembler, \n",
    "            sentence_detector,\n",
    "            tokenizer,\n",
    "            embeddings_ner,\n",
    "            ner_model,\n",
    "            ner_converter,\n",
    "            embeddings_ass,\n",
    "            assertion\n",
    "            ])\n",
    "\n",
    "empty_data = spark.createDataFrame([[\"\"]]).toDF(\"text\")\n",
    "\n",
    "model = nlpPipeline.fit(empty_data)\n",
    "\n",
    "light_model = nlp.LightPipeline(model)"
   ]
  },
  {
   "cell_type": "markdown",
   "id": "936ed953-a926-4e76-af5d-c8290a86a556",
   "metadata": {
    "id": "936ed953-a926-4e76-af5d-c8290a86a556"
   },
   "source": [
    "### Getting Result "
   ]
  },
  {
   "cell_type": "code",
   "execution_count": null,
   "id": "5a3cb7ee-3198-42d2-b0f9-9476a5052d2f",
   "metadata": {
    "id": "5a3cb7ee-3198-42d2-b0f9-9476a5052d2f"
   },
   "outputs": [],
   "source": [
    "sample_text = \"This is an Intellectual Property Agreement between Amazon Inc. and Atlantic Inc.\"\n"
   ]
  },
  {
   "cell_type": "code",
   "execution_count": null,
   "id": "0619023c-a6c3-4b61-837c-06af6ea02804",
   "metadata": {
    "colab": {
     "base_uri": "https://localhost:8080/"
    },
    "executionInfo": {
     "elapsed": 4634,
     "status": "ok",
     "timestamp": 1669745787494,
     "user": {
      "displayName": "Vildan Sarıkaya",
      "userId": "07789644790967768983"
     },
     "user_tz": 300
    },
    "id": "0619023c-a6c3-4b61-837c-06af6ea02804",
    "outputId": "b3e78847-4ced-450f-ee04-6b25ca5a09fc"
   },
   "outputs": [
    {
     "output_type": "stream",
     "name": "stdout",
     "text": [
      "+--------------------------------------------------------------------------------+\n",
      "|                                                                            text|\n",
      "+--------------------------------------------------------------------------------+\n",
      "|This is an Intellectual Property Agreement between Amazon Inc. and Atlantic Inc.|\n",
      "+--------------------------------------------------------------------------------+\n",
      "\n"
     ]
    }
   ],
   "source": [
    "data = spark.createDataFrame([[sample_text]]).toDF(\"text\")\n",
    "\n",
    "data.show(truncate = 80)"
   ]
  },
  {
   "cell_type": "code",
   "execution_count": null,
   "id": "3e7299b0-24d3-4bf7-bf95-833b950132f8",
   "metadata": {
    "id": "3e7299b0-24d3-4bf7-bf95-833b950132f8"
   },
   "outputs": [],
   "source": [
    "result = model.transform(data)"
   ]
  },
  {
   "cell_type": "code",
   "execution_count": null,
   "id": "76bd5600-1705-482e-b728-e0459212ea53",
   "metadata": {
    "colab": {
     "base_uri": "https://localhost:8080/"
    },
    "executionInfo": {
     "elapsed": 17659,
     "status": "ok",
     "timestamp": 1669745816765,
     "user": {
      "displayName": "Vildan Sarıkaya",
      "userId": "07789644790967768983"
     },
     "user_tz": 300
    },
    "id": "76bd5600-1705-482e-b728-e0459212ea53",
    "outputId": "07e482c5-08fa-4ff4-aff1-6d3522ce7271"
   },
   "outputs": [
    {
     "output_type": "stream",
     "name": "stdout",
     "text": [
      "+-------------------------------+-----+---+---------+---------+\n",
      "|chunk                          |begin|end|ner_label|assertion|\n",
      "+-------------------------------+-----+---+---------+---------+\n",
      "|Intellectual Property Agreement|11   |41 |DOC      |PRESENT  |\n",
      "|Amazon Inc                     |51   |60 |PARTY    |PRESENT  |\n",
      "|Atlantic Inc                   |67   |78 |PARTY    |PRESENT  |\n",
      "+-------------------------------+-----+---+---------+---------+\n",
      "\n"
     ]
    }
   ],
   "source": [
    "result.select(F.explode(F.arrays_zip(result.ner_chunk.result,  \n",
    "                                     result.ner_chunk.begin, \n",
    "                                     result.ner_chunk.end, \n",
    "                                     result.ner_chunk.metadata, \n",
    "                                     result.assertion.result)).alias(\"cols\"))\\\n",
    "      .select(F.expr(\"cols['0']\").alias(\"chunk\"),\n",
    "              F.expr(\"cols['1']\").alias(\"begin\"),\n",
    "              F.expr(\"cols['2']\").alias(\"end\"),\n",
    "              F.expr(\"cols['3']['entity']\").alias(\"ner_label\"),\n",
    "              F.expr(\"cols['4']\").alias(\"assertion\")).show(truncate=False)"
   ]
  },
  {
   "cell_type": "code",
   "execution_count": null,
   "id": "b1e1092e-7562-4660-b441-ee8ae7cf8a46",
   "metadata": {
    "colab": {
     "base_uri": "https://localhost:8080/",
     "height": 118
    },
    "executionInfo": {
     "elapsed": 3882,
     "status": "ok",
     "timestamp": 1669745820632,
     "user": {
      "displayName": "Vildan Sarıkaya",
      "userId": "07789644790967768983"
     },
     "user_tz": 300
    },
    "id": "b1e1092e-7562-4660-b441-ee8ae7cf8a46",
    "outputId": "ca6c17b4-39b9-4cfe-f62e-6d6c88f499db"
   },
   "outputs": [
    {
     "output_type": "display_data",
     "data": {
      "text/plain": [
       "<IPython.core.display.HTML object>"
      ],
      "text/html": [
       "\n",
       "<style>\n",
       "    @import url('https://fonts.googleapis.com/css2?family=Montserrat:wght@300;400;500;600;700&display=swap');\n",
       "    @import url('https://fonts.googleapis.com/css2?family=Vistol Regular:wght@300;400;500;600;700&display=swap');\n",
       "    \n",
       "    .spark-nlp-display-scroll-entities {\n",
       "        border: 1px solid #E7EDF0;\n",
       "        border-radius: 3px;\n",
       "        text-align: justify;\n",
       "        \n",
       "    }\n",
       "    .spark-nlp-display-scroll-entities span {  \n",
       "        font-size: 14px;\n",
       "        line-height: 24px;\n",
       "        color: #536B76;\n",
       "        font-family: 'Montserrat', sans-serif !important;\n",
       "    }\n",
       "    \n",
       "    .spark-nlp-display-entity-wrapper{\n",
       "    \n",
       "        display: inline-grid;\n",
       "        text-align: center;\n",
       "        border-radius: 4px;\n",
       "        margin: 0 2px 5px 2px;\n",
       "        padding: 1px\n",
       "    }\n",
       "    .spark-nlp-display-entity-name{\n",
       "        font-size: 14px;\n",
       "        line-height: 24px;\n",
       "        font-family: 'Montserrat', sans-serif !important;\n",
       "        \n",
       "        background: #f1f2f3;\n",
       "        border-width: medium;\n",
       "        text-align: center;\n",
       "        \n",
       "        font-weight: 400;\n",
       "        \n",
       "        border-radius: 5px;\n",
       "        padding: 2px 5px;\n",
       "        display: block;\n",
       "        margin: 3px 2px;\n",
       "    \n",
       "    }\n",
       "    .spark-nlp-display-entity-type{\n",
       "        font-size: 14px;\n",
       "        line-height: 24px;\n",
       "        color: #ffffff;\n",
       "        font-family: 'Montserrat', sans-serif !important;\n",
       "        \n",
       "        text-transform: uppercase;\n",
       "        \n",
       "        font-weight: 500;\n",
       "\n",
       "        display: block;\n",
       "        padding: 3px 5px;\n",
       "    }\n",
       "    \n",
       "    .spark-nlp-display-entity-resolution{\n",
       "        font-size: 14px;\n",
       "        line-height: 24px;\n",
       "        color: #ffffff;\n",
       "        font-family: 'Vistol Regular', sans-serif !important;\n",
       "        \n",
       "        text-transform: uppercase;\n",
       "        \n",
       "        font-weight: 500;\n",
       "\n",
       "        display: block;\n",
       "        padding: 3px 5px;\n",
       "    }\n",
       "    \n",
       "    .spark-nlp-display-others{\n",
       "        font-size: 14px;\n",
       "        line-height: 24px;\n",
       "        font-family: 'Montserrat', sans-serif !important;\n",
       "        \n",
       "        font-weight: 400;\n",
       "    }\n",
       "\n",
       "</style>\n",
       " <span class=\"spark-nlp-display-others\" style=\"background-color: white\">This is an </span><span class=\"spark-nlp-display-entity-wrapper\" style=\"background-color: #355C1CB3\"><span class=\"spark-nlp-display-entity-name\">Intellectual Property Agreement </span><span class=\"spark-nlp-display-entity-type\">DOC</span><span class=\"spark-nlp-display-entity-resolution\" style=\"background-color: #355C1CFF\">PRESENT </span></span><span class=\"spark-nlp-display-others\" style=\"background-color: white\"> between </span><span class=\"spark-nlp-display-entity-wrapper\" style=\"background-color: #32405BB3\"><span class=\"spark-nlp-display-entity-name\">Amazon Inc </span><span class=\"spark-nlp-display-entity-type\">PARTY</span><span class=\"spark-nlp-display-entity-resolution\" style=\"background-color: #32405BFF\">PRESENT </span></span><span class=\"spark-nlp-display-others\" style=\"background-color: white\">. and </span><span class=\"spark-nlp-display-entity-wrapper\" style=\"background-color: #32405BB3\"><span class=\"spark-nlp-display-entity-name\">Atlantic Inc </span><span class=\"spark-nlp-display-entity-type\">PARTY</span><span class=\"spark-nlp-display-entity-resolution\" style=\"background-color: #32405BFF\">PRESENT </span></span><span class=\"spark-nlp-display-others\" style=\"background-color: white\">.</span></div>"
      ]
     },
     "metadata": {}
    }
   ],
   "source": [
    "# from sparknlp_display import AssertionVisualizer\n",
    "\n",
    "vis = nlp.viz.AssertionVisualizer()\n",
    "\n",
    "vis.display(result.collect()[0], 'ner_chunk', 'assertion')"
   ]
  },
  {
   "cell_type": "markdown",
   "id": "45de1301-4cba-432e-9d62-9e3a92b484a1",
   "metadata": {
    "id": "45de1301-4cba-432e-9d62-9e3a92b484a1"
   },
   "source": [
    "### Getting Result with LightPipeline"
   ]
  },
  {
   "cell_type": "code",
   "execution_count": null,
   "id": "f40586e5-3776-45da-b898-ab325624fc78",
   "metadata": {
    "id": "f40586e5-3776-45da-b898-ab325624fc78"
   },
   "outputs": [],
   "source": [
    "sample_text = [\"\"\"This TRADEMARK LICENSE AGREEMENT (this \"Agreement\") is made and effective as of 31 Aug, 2020 (\"Effective Date\"), by and between Palmer Square Capital Management LLC, a Delaware limited liability company (the \"Licensor\"), and Palmer Square Capital BDC Inc., a corporation organized under the laws of the State of Maryland (the \"Licensee\")\"\"\",\n",
    "               \"\"\"The Intellectual Property Agreement would potentially be in short signed by the two Parties\"\"\",\n",
    "               \"\"\"The Sponsorship Agreement (\"Agreement\") will be signed on October 10, 2015\"\"\",\n",
    "               \"\"\"This is an Intellectual Property Agreement between Amazon.com Inc and Atlantic Inc.\"\"\",\n",
    "               \"\"\"This Sponsorship Agreement (\"Agreement\") was entered into as of December 18, 1998, by and between Ford Motor Media, a division of J. Walter Thompson with offices at 300 Renaissance Center, Detroit, Michigan 48243 and iVillage Inc., with offices at 170 Fifth Avenue, New York, New York 10010.\"\"\"]"
   ]
  },
  {
   "cell_type": "code",
   "execution_count": null,
   "id": "cc030bfe-fc6d-4e47-8daf-a527744c9e73",
   "metadata": {
    "id": "cc030bfe-fc6d-4e47-8daf-a527744c9e73"
   },
   "outputs": [],
   "source": [
    "chunks=[]\n",
    "entities=[]\n",
    "status=[]\n",
    "begin = []\n",
    "end = []\n",
    "\n",
    "for i in range(len(sample_text)):\n",
    "\n",
    "    light_result = light_model.fullAnnotate(sample_text[i])[0]\n",
    "\n",
    "    for n,m in zip(light_result['ner_chunk'],light_result['assertion']):\n",
    "        begin.append(n.begin)\n",
    "        end.append(n.end)\n",
    "        chunks.append(n.result)\n",
    "        entities.append(n.metadata['entity']) \n",
    "        status.append(m.result)\n",
    "        \n",
    "df = pd.DataFrame({'chunks':chunks, 'begin':begin, 'end':end, 'ner_label':entities, 'assertion':status})"
   ]
  },
  {
   "cell_type": "code",
   "execution_count": null,
   "id": "GxKbKU1Ya2kH",
   "metadata": {
    "colab": {
     "base_uri": "https://localhost:8080/",
     "height": 488
    },
    "executionInfo": {
     "elapsed": 19,
     "status": "ok",
     "timestamp": 1669745827705,
     "user": {
      "displayName": "Vildan Sarıkaya",
      "userId": "07789644790967768983"
     },
     "user_tz": 300
    },
    "id": "GxKbKU1Ya2kH",
    "outputId": "f94bc7db-4e3d-43f5-a704-5431c0ce87f6"
   },
   "outputs": [
    {
     "output_type": "execute_result",
     "data": {
      "text/plain": [
       "                                  chunks  begin  end ner_label assertion\n",
       "0            TRADEMARK LICENSE AGREEMENT      5   31       DOC   PRESENT\n",
       "1                           31 Aug, 2020     80   91   EFFDATE   PRESENT\n",
       "2   Palmer Square Capital Management LLC    128  163     PARTY   PRESENT\n",
       "3          Palmer Square Capital BDC Inc    225  253     PARTY   PRESENT\n",
       "4        Intellectual Property Agreement      4   34       DOC  POSSIBLE\n",
       "5                  Sponsorship Agreement      4   24       DOC    FUTURE\n",
       "6                       October 10, 2015     58   73   EFFDATE    FUTURE\n",
       "7        Intellectual Property Agreement     11   41       DOC   PRESENT\n",
       "8                         Amazon.com Inc     51   64     PARTY   PRESENT\n",
       "9                           Atlantic Inc     70   81     PARTY   PRESENT\n",
       "10                 Sponsorship Agreement      5   25       DOC      PAST\n",
       "11                     December 18, 1998     64   80   EFFDATE      PAST\n",
       "12                      Ford Motor Media     98  113     PARTY      PAST\n",
       "13                              iVillage    217  224     PARTY      PAST"
      ],
      "text/html": [
       "\n",
       "  <div id=\"df-746e563a-16f4-4654-8604-b51a7c53a9c9\">\n",
       "    <div class=\"colab-df-container\">\n",
       "      <div>\n",
       "<style scoped>\n",
       "    .dataframe tbody tr th:only-of-type {\n",
       "        vertical-align: middle;\n",
       "    }\n",
       "\n",
       "    .dataframe tbody tr th {\n",
       "        vertical-align: top;\n",
       "    }\n",
       "\n",
       "    .dataframe thead th {\n",
       "        text-align: right;\n",
       "    }\n",
       "</style>\n",
       "<table border=\"1\" class=\"dataframe\">\n",
       "  <thead>\n",
       "    <tr style=\"text-align: right;\">\n",
       "      <th></th>\n",
       "      <th>chunks</th>\n",
       "      <th>begin</th>\n",
       "      <th>end</th>\n",
       "      <th>ner_label</th>\n",
       "      <th>assertion</th>\n",
       "    </tr>\n",
       "  </thead>\n",
       "  <tbody>\n",
       "    <tr>\n",
       "      <th>0</th>\n",
       "      <td>TRADEMARK LICENSE AGREEMENT</td>\n",
       "      <td>5</td>\n",
       "      <td>31</td>\n",
       "      <td>DOC</td>\n",
       "      <td>PRESENT</td>\n",
       "    </tr>\n",
       "    <tr>\n",
       "      <th>1</th>\n",
       "      <td>31 Aug, 2020</td>\n",
       "      <td>80</td>\n",
       "      <td>91</td>\n",
       "      <td>EFFDATE</td>\n",
       "      <td>PRESENT</td>\n",
       "    </tr>\n",
       "    <tr>\n",
       "      <th>2</th>\n",
       "      <td>Palmer Square Capital Management LLC</td>\n",
       "      <td>128</td>\n",
       "      <td>163</td>\n",
       "      <td>PARTY</td>\n",
       "      <td>PRESENT</td>\n",
       "    </tr>\n",
       "    <tr>\n",
       "      <th>3</th>\n",
       "      <td>Palmer Square Capital BDC Inc</td>\n",
       "      <td>225</td>\n",
       "      <td>253</td>\n",
       "      <td>PARTY</td>\n",
       "      <td>PRESENT</td>\n",
       "    </tr>\n",
       "    <tr>\n",
       "      <th>4</th>\n",
       "      <td>Intellectual Property Agreement</td>\n",
       "      <td>4</td>\n",
       "      <td>34</td>\n",
       "      <td>DOC</td>\n",
       "      <td>POSSIBLE</td>\n",
       "    </tr>\n",
       "    <tr>\n",
       "      <th>5</th>\n",
       "      <td>Sponsorship Agreement</td>\n",
       "      <td>4</td>\n",
       "      <td>24</td>\n",
       "      <td>DOC</td>\n",
       "      <td>FUTURE</td>\n",
       "    </tr>\n",
       "    <tr>\n",
       "      <th>6</th>\n",
       "      <td>October 10, 2015</td>\n",
       "      <td>58</td>\n",
       "      <td>73</td>\n",
       "      <td>EFFDATE</td>\n",
       "      <td>FUTURE</td>\n",
       "    </tr>\n",
       "    <tr>\n",
       "      <th>7</th>\n",
       "      <td>Intellectual Property Agreement</td>\n",
       "      <td>11</td>\n",
       "      <td>41</td>\n",
       "      <td>DOC</td>\n",
       "      <td>PRESENT</td>\n",
       "    </tr>\n",
       "    <tr>\n",
       "      <th>8</th>\n",
       "      <td>Amazon.com Inc</td>\n",
       "      <td>51</td>\n",
       "      <td>64</td>\n",
       "      <td>PARTY</td>\n",
       "      <td>PRESENT</td>\n",
       "    </tr>\n",
       "    <tr>\n",
       "      <th>9</th>\n",
       "      <td>Atlantic Inc</td>\n",
       "      <td>70</td>\n",
       "      <td>81</td>\n",
       "      <td>PARTY</td>\n",
       "      <td>PRESENT</td>\n",
       "    </tr>\n",
       "    <tr>\n",
       "      <th>10</th>\n",
       "      <td>Sponsorship Agreement</td>\n",
       "      <td>5</td>\n",
       "      <td>25</td>\n",
       "      <td>DOC</td>\n",
       "      <td>PAST</td>\n",
       "    </tr>\n",
       "    <tr>\n",
       "      <th>11</th>\n",
       "      <td>December 18, 1998</td>\n",
       "      <td>64</td>\n",
       "      <td>80</td>\n",
       "      <td>EFFDATE</td>\n",
       "      <td>PAST</td>\n",
       "    </tr>\n",
       "    <tr>\n",
       "      <th>12</th>\n",
       "      <td>Ford Motor Media</td>\n",
       "      <td>98</td>\n",
       "      <td>113</td>\n",
       "      <td>PARTY</td>\n",
       "      <td>PAST</td>\n",
       "    </tr>\n",
       "    <tr>\n",
       "      <th>13</th>\n",
       "      <td>iVillage</td>\n",
       "      <td>217</td>\n",
       "      <td>224</td>\n",
       "      <td>PARTY</td>\n",
       "      <td>PAST</td>\n",
       "    </tr>\n",
       "  </tbody>\n",
       "</table>\n",
       "</div>\n",
       "      <button class=\"colab-df-convert\" onclick=\"convertToInteractive('df-746e563a-16f4-4654-8604-b51a7c53a9c9')\"\n",
       "              title=\"Convert this dataframe to an interactive table.\"\n",
       "              style=\"display:none;\">\n",
       "        \n",
       "  <svg xmlns=\"http://www.w3.org/2000/svg\" height=\"24px\"viewBox=\"0 0 24 24\"\n",
       "       width=\"24px\">\n",
       "    <path d=\"M0 0h24v24H0V0z\" fill=\"none\"/>\n",
       "    <path d=\"M18.56 5.44l.94 2.06.94-2.06 2.06-.94-2.06-.94-.94-2.06-.94 2.06-2.06.94zm-11 1L8.5 8.5l.94-2.06 2.06-.94-2.06-.94L8.5 2.5l-.94 2.06-2.06.94zm10 10l.94 2.06.94-2.06 2.06-.94-2.06-.94-.94-2.06-.94 2.06-2.06.94z\"/><path d=\"M17.41 7.96l-1.37-1.37c-.4-.4-.92-.59-1.43-.59-.52 0-1.04.2-1.43.59L10.3 9.45l-7.72 7.72c-.78.78-.78 2.05 0 2.83L4 21.41c.39.39.9.59 1.41.59.51 0 1.02-.2 1.41-.59l7.78-7.78 2.81-2.81c.8-.78.8-2.07 0-2.86zM5.41 20L4 18.59l7.72-7.72 1.47 1.35L5.41 20z\"/>\n",
       "  </svg>\n",
       "      </button>\n",
       "      \n",
       "  <style>\n",
       "    .colab-df-container {\n",
       "      display:flex;\n",
       "      flex-wrap:wrap;\n",
       "      gap: 12px;\n",
       "    }\n",
       "\n",
       "    .colab-df-convert {\n",
       "      background-color: #E8F0FE;\n",
       "      border: none;\n",
       "      border-radius: 50%;\n",
       "      cursor: pointer;\n",
       "      display: none;\n",
       "      fill: #1967D2;\n",
       "      height: 32px;\n",
       "      padding: 0 0 0 0;\n",
       "      width: 32px;\n",
       "    }\n",
       "\n",
       "    .colab-df-convert:hover {\n",
       "      background-color: #E2EBFA;\n",
       "      box-shadow: 0px 1px 2px rgba(60, 64, 67, 0.3), 0px 1px 3px 1px rgba(60, 64, 67, 0.15);\n",
       "      fill: #174EA6;\n",
       "    }\n",
       "\n",
       "    [theme=dark] .colab-df-convert {\n",
       "      background-color: #3B4455;\n",
       "      fill: #D2E3FC;\n",
       "    }\n",
       "\n",
       "    [theme=dark] .colab-df-convert:hover {\n",
       "      background-color: #434B5C;\n",
       "      box-shadow: 0px 1px 3px 1px rgba(0, 0, 0, 0.15);\n",
       "      filter: drop-shadow(0px 1px 2px rgba(0, 0, 0, 0.3));\n",
       "      fill: #FFFFFF;\n",
       "    }\n",
       "  </style>\n",
       "\n",
       "      <script>\n",
       "        const buttonEl =\n",
       "          document.querySelector('#df-746e563a-16f4-4654-8604-b51a7c53a9c9 button.colab-df-convert');\n",
       "        buttonEl.style.display =\n",
       "          google.colab.kernel.accessAllowed ? 'block' : 'none';\n",
       "\n",
       "        async function convertToInteractive(key) {\n",
       "          const element = document.querySelector('#df-746e563a-16f4-4654-8604-b51a7c53a9c9');\n",
       "          const dataTable =\n",
       "            await google.colab.kernel.invokeFunction('convertToInteractive',\n",
       "                                                     [key], {});\n",
       "          if (!dataTable) return;\n",
       "\n",
       "          const docLinkHtml = 'Like what you see? Visit the ' +\n",
       "            '<a target=\"_blank\" href=https://colab.research.google.com/notebooks/data_table.ipynb>data table notebook</a>'\n",
       "            + ' to learn more about interactive tables.';\n",
       "          element.innerHTML = '';\n",
       "          dataTable['output_type'] = 'display_data';\n",
       "          await google.colab.output.renderOutput(dataTable, element);\n",
       "          const docLink = document.createElement('div');\n",
       "          docLink.innerHTML = docLinkHtml;\n",
       "          element.appendChild(docLink);\n",
       "        }\n",
       "      </script>\n",
       "    </div>\n",
       "  </div>\n",
       "  "
      ]
     },
     "metadata": {},
     "execution_count": 15
    }
   ],
   "source": [
    "df"
   ]
  },
  {
   "cell_type": "markdown",
   "id": "c9aaa35d-28db-46f7-b687-eb17b3352424",
   "metadata": {
    "id": "c9aaa35d-28db-46f7-b687-eb17b3352424"
   },
   "source": [
    "### Visualization of Assertion Status"
   ]
  },
  {
   "cell_type": "code",
   "execution_count": null,
   "id": "f619b1a3-6937-4914-88d3-13b4ad086491",
   "metadata": {
    "colab": {
     "base_uri": "https://localhost:8080/",
     "height": 984
    },
    "executionInfo": {
     "elapsed": 6228,
     "status": "ok",
     "timestamp": 1669745833921,
     "user": {
      "displayName": "Vildan Sarıkaya",
      "userId": "07789644790967768983"
     },
     "user_tz": 300
    },
    "id": "f619b1a3-6937-4914-88d3-13b4ad086491",
    "outputId": "23affb2b-49ad-48ec-8ad2-7872382a76c5"
   },
   "outputs": [
    {
     "output_type": "display_data",
     "data": {
      "text/plain": [
       "<IPython.core.display.HTML object>"
      ],
      "text/html": [
       "\n",
       "<style>\n",
       "    @import url('https://fonts.googleapis.com/css2?family=Montserrat:wght@300;400;500;600;700&display=swap');\n",
       "    @import url('https://fonts.googleapis.com/css2?family=Vistol Regular:wght@300;400;500;600;700&display=swap');\n",
       "    \n",
       "    .spark-nlp-display-scroll-entities {\n",
       "        border: 1px solid #E7EDF0;\n",
       "        border-radius: 3px;\n",
       "        text-align: justify;\n",
       "        \n",
       "    }\n",
       "    .spark-nlp-display-scroll-entities span {  \n",
       "        font-size: 14px;\n",
       "        line-height: 24px;\n",
       "        color: #536B76;\n",
       "        font-family: 'Montserrat', sans-serif !important;\n",
       "    }\n",
       "    \n",
       "    .spark-nlp-display-entity-wrapper{\n",
       "    \n",
       "        display: inline-grid;\n",
       "        text-align: center;\n",
       "        border-radius: 4px;\n",
       "        margin: 0 2px 5px 2px;\n",
       "        padding: 1px\n",
       "    }\n",
       "    .spark-nlp-display-entity-name{\n",
       "        font-size: 14px;\n",
       "        line-height: 24px;\n",
       "        font-family: 'Montserrat', sans-serif !important;\n",
       "        \n",
       "        background: #f1f2f3;\n",
       "        border-width: medium;\n",
       "        text-align: center;\n",
       "        \n",
       "        font-weight: 400;\n",
       "        \n",
       "        border-radius: 5px;\n",
       "        padding: 2px 5px;\n",
       "        display: block;\n",
       "        margin: 3px 2px;\n",
       "    \n",
       "    }\n",
       "    .spark-nlp-display-entity-type{\n",
       "        font-size: 14px;\n",
       "        line-height: 24px;\n",
       "        color: #ffffff;\n",
       "        font-family: 'Montserrat', sans-serif !important;\n",
       "        \n",
       "        text-transform: uppercase;\n",
       "        \n",
       "        font-weight: 500;\n",
       "\n",
       "        display: block;\n",
       "        padding: 3px 5px;\n",
       "    }\n",
       "    \n",
       "    .spark-nlp-display-entity-resolution{\n",
       "        font-size: 14px;\n",
       "        line-height: 24px;\n",
       "        color: #ffffff;\n",
       "        font-family: 'Vistol Regular', sans-serif !important;\n",
       "        \n",
       "        text-transform: uppercase;\n",
       "        \n",
       "        font-weight: 500;\n",
       "\n",
       "        display: block;\n",
       "        padding: 3px 5px;\n",
       "    }\n",
       "    \n",
       "    .spark-nlp-display-others{\n",
       "        font-size: 14px;\n",
       "        line-height: 24px;\n",
       "        font-family: 'Montserrat', sans-serif !important;\n",
       "        \n",
       "        font-weight: 400;\n",
       "    }\n",
       "\n",
       "</style>\n",
       " <span class=\"spark-nlp-display-others\" style=\"background-color: white\">This </span><span class=\"spark-nlp-display-entity-wrapper\" style=\"background-color: #6D709EB3\"><span class=\"spark-nlp-display-entity-name\">TRADEMARK LICENSE AGREEMENT </span><span class=\"spark-nlp-display-entity-type\">DOC</span><span class=\"spark-nlp-display-entity-resolution\" style=\"background-color: #6D709EFF\">PRESENT </span></span><span class=\"spark-nlp-display-others\" style=\"background-color: white\"> (this \"Agreement\") is made and effective as of </span><span class=\"spark-nlp-display-entity-wrapper\" style=\"background-color: #21A889B3\"><span class=\"spark-nlp-display-entity-name\">31 Aug, 2020 </span><span class=\"spark-nlp-display-entity-type\">EFFDATE</span><span class=\"spark-nlp-display-entity-resolution\" style=\"background-color: #21A889FF\">PRESENT </span></span><span class=\"spark-nlp-display-others\" style=\"background-color: white\"> (\"Effective Date\"), by and between </span><span class=\"spark-nlp-display-entity-wrapper\" style=\"background-color: #7088A7B3\"><span class=\"spark-nlp-display-entity-name\">Palmer Square Capital Management LLC </span><span class=\"spark-nlp-display-entity-type\">PARTY</span><span class=\"spark-nlp-display-entity-resolution\" style=\"background-color: #7088A7FF\">PRESENT </span></span><span class=\"spark-nlp-display-others\" style=\"background-color: white\">, a Delaware limited liability company (the \"Licensor\"), and </span><span class=\"spark-nlp-display-entity-wrapper\" style=\"background-color: #7088A7B3\"><span class=\"spark-nlp-display-entity-name\">Palmer Square Capital BDC Inc </span><span class=\"spark-nlp-display-entity-type\">PARTY</span><span class=\"spark-nlp-display-entity-resolution\" style=\"background-color: #7088A7FF\">PRESENT </span></span><span class=\"spark-nlp-display-others\" style=\"background-color: white\">., a corporation organized under the laws of the State of Maryland (the \"Licensee\")</span></div>"
      ]
     },
     "metadata": {}
    },
    {
     "output_type": "stream",
     "name": "stdout",
     "text": [
      "\n",
      "\n",
      "\n"
     ]
    },
    {
     "output_type": "display_data",
     "data": {
      "text/plain": [
       "<IPython.core.display.HTML object>"
      ],
      "text/html": [
       "\n",
       "<style>\n",
       "    @import url('https://fonts.googleapis.com/css2?family=Montserrat:wght@300;400;500;600;700&display=swap');\n",
       "    @import url('https://fonts.googleapis.com/css2?family=Vistol Regular:wght@300;400;500;600;700&display=swap');\n",
       "    \n",
       "    .spark-nlp-display-scroll-entities {\n",
       "        border: 1px solid #E7EDF0;\n",
       "        border-radius: 3px;\n",
       "        text-align: justify;\n",
       "        \n",
       "    }\n",
       "    .spark-nlp-display-scroll-entities span {  \n",
       "        font-size: 14px;\n",
       "        line-height: 24px;\n",
       "        color: #536B76;\n",
       "        font-family: 'Montserrat', sans-serif !important;\n",
       "    }\n",
       "    \n",
       "    .spark-nlp-display-entity-wrapper{\n",
       "    \n",
       "        display: inline-grid;\n",
       "        text-align: center;\n",
       "        border-radius: 4px;\n",
       "        margin: 0 2px 5px 2px;\n",
       "        padding: 1px\n",
       "    }\n",
       "    .spark-nlp-display-entity-name{\n",
       "        font-size: 14px;\n",
       "        line-height: 24px;\n",
       "        font-family: 'Montserrat', sans-serif !important;\n",
       "        \n",
       "        background: #f1f2f3;\n",
       "        border-width: medium;\n",
       "        text-align: center;\n",
       "        \n",
       "        font-weight: 400;\n",
       "        \n",
       "        border-radius: 5px;\n",
       "        padding: 2px 5px;\n",
       "        display: block;\n",
       "        margin: 3px 2px;\n",
       "    \n",
       "    }\n",
       "    .spark-nlp-display-entity-type{\n",
       "        font-size: 14px;\n",
       "        line-height: 24px;\n",
       "        color: #ffffff;\n",
       "        font-family: 'Montserrat', sans-serif !important;\n",
       "        \n",
       "        text-transform: uppercase;\n",
       "        \n",
       "        font-weight: 500;\n",
       "\n",
       "        display: block;\n",
       "        padding: 3px 5px;\n",
       "    }\n",
       "    \n",
       "    .spark-nlp-display-entity-resolution{\n",
       "        font-size: 14px;\n",
       "        line-height: 24px;\n",
       "        color: #ffffff;\n",
       "        font-family: 'Vistol Regular', sans-serif !important;\n",
       "        \n",
       "        text-transform: uppercase;\n",
       "        \n",
       "        font-weight: 500;\n",
       "\n",
       "        display: block;\n",
       "        padding: 3px 5px;\n",
       "    }\n",
       "    \n",
       "    .spark-nlp-display-others{\n",
       "        font-size: 14px;\n",
       "        line-height: 24px;\n",
       "        font-family: 'Montserrat', sans-serif !important;\n",
       "        \n",
       "        font-weight: 400;\n",
       "    }\n",
       "\n",
       "</style>\n",
       " <span class=\"spark-nlp-display-others\" style=\"background-color: white\">The </span><span class=\"spark-nlp-display-entity-wrapper\" style=\"background-color: #06999CB3\"><span class=\"spark-nlp-display-entity-name\">Intellectual Property Agreement </span><span class=\"spark-nlp-display-entity-type\">DOC</span><span class=\"spark-nlp-display-entity-resolution\" style=\"background-color: #06999CFF\">POSSIBLE </span></span><span class=\"spark-nlp-display-others\" style=\"background-color: white\"> would potentially be in short signed by the two Parties</span></div>"
      ]
     },
     "metadata": {}
    },
    {
     "output_type": "stream",
     "name": "stdout",
     "text": [
      "\n",
      "\n",
      "\n"
     ]
    },
    {
     "output_type": "display_data",
     "data": {
      "text/plain": [
       "<IPython.core.display.HTML object>"
      ],
      "text/html": [
       "\n",
       "<style>\n",
       "    @import url('https://fonts.googleapis.com/css2?family=Montserrat:wght@300;400;500;600;700&display=swap');\n",
       "    @import url('https://fonts.googleapis.com/css2?family=Vistol Regular:wght@300;400;500;600;700&display=swap');\n",
       "    \n",
       "    .spark-nlp-display-scroll-entities {\n",
       "        border: 1px solid #E7EDF0;\n",
       "        border-radius: 3px;\n",
       "        text-align: justify;\n",
       "        \n",
       "    }\n",
       "    .spark-nlp-display-scroll-entities span {  \n",
       "        font-size: 14px;\n",
       "        line-height: 24px;\n",
       "        color: #536B76;\n",
       "        font-family: 'Montserrat', sans-serif !important;\n",
       "    }\n",
       "    \n",
       "    .spark-nlp-display-entity-wrapper{\n",
       "    \n",
       "        display: inline-grid;\n",
       "        text-align: center;\n",
       "        border-radius: 4px;\n",
       "        margin: 0 2px 5px 2px;\n",
       "        padding: 1px\n",
       "    }\n",
       "    .spark-nlp-display-entity-name{\n",
       "        font-size: 14px;\n",
       "        line-height: 24px;\n",
       "        font-family: 'Montserrat', sans-serif !important;\n",
       "        \n",
       "        background: #f1f2f3;\n",
       "        border-width: medium;\n",
       "        text-align: center;\n",
       "        \n",
       "        font-weight: 400;\n",
       "        \n",
       "        border-radius: 5px;\n",
       "        padding: 2px 5px;\n",
       "        display: block;\n",
       "        margin: 3px 2px;\n",
       "    \n",
       "    }\n",
       "    .spark-nlp-display-entity-type{\n",
       "        font-size: 14px;\n",
       "        line-height: 24px;\n",
       "        color: #ffffff;\n",
       "        font-family: 'Montserrat', sans-serif !important;\n",
       "        \n",
       "        text-transform: uppercase;\n",
       "        \n",
       "        font-weight: 500;\n",
       "\n",
       "        display: block;\n",
       "        padding: 3px 5px;\n",
       "    }\n",
       "    \n",
       "    .spark-nlp-display-entity-resolution{\n",
       "        font-size: 14px;\n",
       "        line-height: 24px;\n",
       "        color: #ffffff;\n",
       "        font-family: 'Vistol Regular', sans-serif !important;\n",
       "        \n",
       "        text-transform: uppercase;\n",
       "        \n",
       "        font-weight: 500;\n",
       "\n",
       "        display: block;\n",
       "        padding: 3px 5px;\n",
       "    }\n",
       "    \n",
       "    .spark-nlp-display-others{\n",
       "        font-size: 14px;\n",
       "        line-height: 24px;\n",
       "        font-family: 'Montserrat', sans-serif !important;\n",
       "        \n",
       "        font-weight: 400;\n",
       "    }\n",
       "\n",
       "</style>\n",
       " <span class=\"spark-nlp-display-others\" style=\"background-color: white\">The </span><span class=\"spark-nlp-display-entity-wrapper\" style=\"background-color: #484346B3\"><span class=\"spark-nlp-display-entity-name\">Sponsorship Agreement </span><span class=\"spark-nlp-display-entity-type\">DOC</span><span class=\"spark-nlp-display-entity-resolution\" style=\"background-color: #484346FF\">FUTURE </span></span><span class=\"spark-nlp-display-others\" style=\"background-color: white\"> (\"Agreement\") will be signed on </span><span class=\"spark-nlp-display-entity-wrapper\" style=\"background-color: #4D526EB3\"><span class=\"spark-nlp-display-entity-name\">October 10, 2015 </span><span class=\"spark-nlp-display-entity-type\">EFFDATE</span><span class=\"spark-nlp-display-entity-resolution\" style=\"background-color: #4D526EFF\">FUTURE </span></span></div>"
      ]
     },
     "metadata": {}
    },
    {
     "output_type": "stream",
     "name": "stdout",
     "text": [
      "\n",
      "\n",
      "\n"
     ]
    },
    {
     "output_type": "display_data",
     "data": {
      "text/plain": [
       "<IPython.core.display.HTML object>"
      ],
      "text/html": [
       "\n",
       "<style>\n",
       "    @import url('https://fonts.googleapis.com/css2?family=Montserrat:wght@300;400;500;600;700&display=swap');\n",
       "    @import url('https://fonts.googleapis.com/css2?family=Vistol Regular:wght@300;400;500;600;700&display=swap');\n",
       "    \n",
       "    .spark-nlp-display-scroll-entities {\n",
       "        border: 1px solid #E7EDF0;\n",
       "        border-radius: 3px;\n",
       "        text-align: justify;\n",
       "        \n",
       "    }\n",
       "    .spark-nlp-display-scroll-entities span {  \n",
       "        font-size: 14px;\n",
       "        line-height: 24px;\n",
       "        color: #536B76;\n",
       "        font-family: 'Montserrat', sans-serif !important;\n",
       "    }\n",
       "    \n",
       "    .spark-nlp-display-entity-wrapper{\n",
       "    \n",
       "        display: inline-grid;\n",
       "        text-align: center;\n",
       "        border-radius: 4px;\n",
       "        margin: 0 2px 5px 2px;\n",
       "        padding: 1px\n",
       "    }\n",
       "    .spark-nlp-display-entity-name{\n",
       "        font-size: 14px;\n",
       "        line-height: 24px;\n",
       "        font-family: 'Montserrat', sans-serif !important;\n",
       "        \n",
       "        background: #f1f2f3;\n",
       "        border-width: medium;\n",
       "        text-align: center;\n",
       "        \n",
       "        font-weight: 400;\n",
       "        \n",
       "        border-radius: 5px;\n",
       "        padding: 2px 5px;\n",
       "        display: block;\n",
       "        margin: 3px 2px;\n",
       "    \n",
       "    }\n",
       "    .spark-nlp-display-entity-type{\n",
       "        font-size: 14px;\n",
       "        line-height: 24px;\n",
       "        color: #ffffff;\n",
       "        font-family: 'Montserrat', sans-serif !important;\n",
       "        \n",
       "        text-transform: uppercase;\n",
       "        \n",
       "        font-weight: 500;\n",
       "\n",
       "        display: block;\n",
       "        padding: 3px 5px;\n",
       "    }\n",
       "    \n",
       "    .spark-nlp-display-entity-resolution{\n",
       "        font-size: 14px;\n",
       "        line-height: 24px;\n",
       "        color: #ffffff;\n",
       "        font-family: 'Vistol Regular', sans-serif !important;\n",
       "        \n",
       "        text-transform: uppercase;\n",
       "        \n",
       "        font-weight: 500;\n",
       "\n",
       "        display: block;\n",
       "        padding: 3px 5px;\n",
       "    }\n",
       "    \n",
       "    .spark-nlp-display-others{\n",
       "        font-size: 14px;\n",
       "        line-height: 24px;\n",
       "        font-family: 'Montserrat', sans-serif !important;\n",
       "        \n",
       "        font-weight: 400;\n",
       "    }\n",
       "\n",
       "</style>\n",
       " <span class=\"spark-nlp-display-others\" style=\"background-color: white\">This is an </span><span class=\"spark-nlp-display-entity-wrapper\" style=\"background-color: #055D95B3\"><span class=\"spark-nlp-display-entity-name\">Intellectual Property Agreement </span><span class=\"spark-nlp-display-entity-type\">DOC</span><span class=\"spark-nlp-display-entity-resolution\" style=\"background-color: #055D95FF\">PRESENT </span></span><span class=\"spark-nlp-display-others\" style=\"background-color: white\"> between </span><span class=\"spark-nlp-display-entity-wrapper\" style=\"background-color: #7D9BBAB3\"><span class=\"spark-nlp-display-entity-name\">Amazon.com Inc </span><span class=\"spark-nlp-display-entity-type\">PARTY</span><span class=\"spark-nlp-display-entity-resolution\" style=\"background-color: #7D9BBAFF\">PRESENT </span></span><span class=\"spark-nlp-display-others\" style=\"background-color: white\"> and </span><span class=\"spark-nlp-display-entity-wrapper\" style=\"background-color: #7D9BBAB3\"><span class=\"spark-nlp-display-entity-name\">Atlantic Inc </span><span class=\"spark-nlp-display-entity-type\">PARTY</span><span class=\"spark-nlp-display-entity-resolution\" style=\"background-color: #7D9BBAFF\">PRESENT </span></span><span class=\"spark-nlp-display-others\" style=\"background-color: white\">.</span></div>"
      ]
     },
     "metadata": {}
    },
    {
     "output_type": "stream",
     "name": "stdout",
     "text": [
      "\n",
      "\n",
      "\n"
     ]
    },
    {
     "output_type": "display_data",
     "data": {
      "text/plain": [
       "<IPython.core.display.HTML object>"
      ],
      "text/html": [
       "\n",
       "<style>\n",
       "    @import url('https://fonts.googleapis.com/css2?family=Montserrat:wght@300;400;500;600;700&display=swap');\n",
       "    @import url('https://fonts.googleapis.com/css2?family=Vistol Regular:wght@300;400;500;600;700&display=swap');\n",
       "    \n",
       "    .spark-nlp-display-scroll-entities {\n",
       "        border: 1px solid #E7EDF0;\n",
       "        border-radius: 3px;\n",
       "        text-align: justify;\n",
       "        \n",
       "    }\n",
       "    .spark-nlp-display-scroll-entities span {  \n",
       "        font-size: 14px;\n",
       "        line-height: 24px;\n",
       "        color: #536B76;\n",
       "        font-family: 'Montserrat', sans-serif !important;\n",
       "    }\n",
       "    \n",
       "    .spark-nlp-display-entity-wrapper{\n",
       "    \n",
       "        display: inline-grid;\n",
       "        text-align: center;\n",
       "        border-radius: 4px;\n",
       "        margin: 0 2px 5px 2px;\n",
       "        padding: 1px\n",
       "    }\n",
       "    .spark-nlp-display-entity-name{\n",
       "        font-size: 14px;\n",
       "        line-height: 24px;\n",
       "        font-family: 'Montserrat', sans-serif !important;\n",
       "        \n",
       "        background: #f1f2f3;\n",
       "        border-width: medium;\n",
       "        text-align: center;\n",
       "        \n",
       "        font-weight: 400;\n",
       "        \n",
       "        border-radius: 5px;\n",
       "        padding: 2px 5px;\n",
       "        display: block;\n",
       "        margin: 3px 2px;\n",
       "    \n",
       "    }\n",
       "    .spark-nlp-display-entity-type{\n",
       "        font-size: 14px;\n",
       "        line-height: 24px;\n",
       "        color: #ffffff;\n",
       "        font-family: 'Montserrat', sans-serif !important;\n",
       "        \n",
       "        text-transform: uppercase;\n",
       "        \n",
       "        font-weight: 500;\n",
       "\n",
       "        display: block;\n",
       "        padding: 3px 5px;\n",
       "    }\n",
       "    \n",
       "    .spark-nlp-display-entity-resolution{\n",
       "        font-size: 14px;\n",
       "        line-height: 24px;\n",
       "        color: #ffffff;\n",
       "        font-family: 'Vistol Regular', sans-serif !important;\n",
       "        \n",
       "        text-transform: uppercase;\n",
       "        \n",
       "        font-weight: 500;\n",
       "\n",
       "        display: block;\n",
       "        padding: 3px 5px;\n",
       "    }\n",
       "    \n",
       "    .spark-nlp-display-others{\n",
       "        font-size: 14px;\n",
       "        line-height: 24px;\n",
       "        font-family: 'Montserrat', sans-serif !important;\n",
       "        \n",
       "        font-weight: 400;\n",
       "    }\n",
       "\n",
       "</style>\n",
       " <span class=\"spark-nlp-display-others\" style=\"background-color: white\">This </span><span class=\"spark-nlp-display-entity-wrapper\" style=\"background-color: #3B9730B3\"><span class=\"spark-nlp-display-entity-name\">Sponsorship Agreement </span><span class=\"spark-nlp-display-entity-type\">DOC</span><span class=\"spark-nlp-display-entity-resolution\" style=\"background-color: #3B9730FF\">PAST </span></span><span class=\"spark-nlp-display-others\" style=\"background-color: white\"> (\"Agreement\") was entered into as of </span><span class=\"spark-nlp-display-entity-wrapper\" style=\"background-color: #A771AEB3\"><span class=\"spark-nlp-display-entity-name\">December 18, 1998 </span><span class=\"spark-nlp-display-entity-type\">EFFDATE</span><span class=\"spark-nlp-display-entity-resolution\" style=\"background-color: #A771AEFF\">PAST </span></span><span class=\"spark-nlp-display-others\" style=\"background-color: white\">, by and between </span><span class=\"spark-nlp-display-entity-wrapper\" style=\"background-color: #B71029B3\"><span class=\"spark-nlp-display-entity-name\">Ford Motor Media </span><span class=\"spark-nlp-display-entity-type\">PARTY</span><span class=\"spark-nlp-display-entity-resolution\" style=\"background-color: #B71029FF\">PAST </span></span><span class=\"spark-nlp-display-others\" style=\"background-color: white\">, a division of J. Walter Thompson with offices at 300 Renaissance Center, Detroit, Michigan 48243 and </span><span class=\"spark-nlp-display-entity-wrapper\" style=\"background-color: #B71029B3\"><span class=\"spark-nlp-display-entity-name\">iVillage </span><span class=\"spark-nlp-display-entity-type\">PARTY</span><span class=\"spark-nlp-display-entity-resolution\" style=\"background-color: #B71029FF\">PAST </span></span><span class=\"spark-nlp-display-others\" style=\"background-color: white\"> Inc., with offices at 170 Fifth Avenue, New York, New York 10010.</span></div>"
      ]
     },
     "metadata": {}
    },
    {
     "output_type": "stream",
     "name": "stdout",
     "text": [
      "\n",
      "\n",
      "\n"
     ]
    }
   ],
   "source": [
    "# from sparknlp_display import AssertionVisualizer\n",
    "\n",
    "vis = nlp.viz.AssertionVisualizer()\n",
    "\n",
    "for i in range(len(sample_text)):\n",
    "    \n",
    "    light_result = light_model.fullAnnotate(sample_text[i])[0]    \n",
    "\n",
    "    vis.display(light_result, 'ner_chunk', 'assertion')    \n",
    "    print(\"\\n\\n\")"
   ]
  }
 ],
 "metadata": {
  "colab": {
   "provenance": []
  },
  "kernelspec": {
   "display_name": "Python 3",
   "name": "python3"
  },
  "language_info": {
   "name": "python"
  }
 },
 "nbformat": 4,
 "nbformat_minor": 5
}