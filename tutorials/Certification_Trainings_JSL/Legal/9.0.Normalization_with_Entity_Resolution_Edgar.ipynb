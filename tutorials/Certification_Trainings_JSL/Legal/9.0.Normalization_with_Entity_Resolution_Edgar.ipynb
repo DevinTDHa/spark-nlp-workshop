{
 "cells": [
  {
   "cell_type": "markdown",
   "id": "04afee44-529b-4c72-b7a7-f72f5cefa5ce",
   "metadata": {
    "id": "04afee44-529b-4c72-b7a7-f72f5cefa5ce"
   },
   "source": [
    "![JohnSnowLabs](https://nlp.johnsnowlabs.com/assets/images/logo.png)"
   ]
  },
  {
   "cell_type": "markdown",
   "id": "58ad3f2c",
   "metadata": {
    "id": "58ad3f2c"
   },
   "source": [
    "[![Open In Colab](https://colab.research.google.com/assets/colab-badge.svg)](https://colab.research.google.com/github/JohnSnowLabs/spark-nlp-workshop/blob/master/tutorials/Certification_Trainings_JSL/Legal/6.Entity_Resolution_EDGAR.ipynb)"
   ]
  },
  {
   "cell_type": "markdown",
   "metadata": {
    "id": "paZetCNnlubq"
   },
   "source": [
    "# Installation"
   ],
   "id": "paZetCNnlubq"
  },
  {
   "cell_type": "code",
   "execution_count": null,
   "metadata": {
    "id": "9fwHzoNydfmd"
   },
   "outputs": [],
   "source": [
    "# Install the johnsnowlabs library to access Spark-OCR and Spark-NLP for Healthcare, Finance, and Legal.\n",
    "! pip install -q johnsnowlabs "
   ],
   "id": "9fwHzoNydfmd"
  },
  {
   "cell_type": "code",
   "source": [
    "from johnsnowlabs import nlp, legal, viz\n",
    "nlp.install(force_browser=True)"
   ],
   "metadata": {
    "id": "jjj6dqPhI6T6"
   },
   "execution_count": null,
   "outputs": [],
   "id": "jjj6dqPhI6T6"
  },
  {
   "cell_type": "markdown",
   "id": "OtabBHEuLnsA",
   "metadata": {
    "id": "OtabBHEuLnsA"
   },
   "source": [
    "## Start Spark Session"
   ]
  },
  {
   "cell_type": "code",
   "execution_count": 3,
   "id": "lQ8-BI-_5QjG",
   "metadata": {
    "id": "lQ8-BI-_5QjG",
    "colab": {
     "base_uri": "https://localhost:8080/"
    },
    "executionInfo": {
     "status": "ok",
     "timestamp": 1673047085042,
     "user_tz": -180,
     "elapsed": 10538,
     "user": {
      "displayName": "Bünyamin Polat",
      "userId": "03982086590103784785"
     }
    },
    "outputId": "7ad169af-804b-45cf-93a8-97d20fc2e5c6"
   },
   "outputs": [
    {
     "output_type": "stream",
     "name": "stdout",
     "text": [
      "👌 Launched \u001B[92mcpu optimized\u001B[39m session with with: 🚀Spark-NLP==4.2.4, 💊Spark-Healthcare==4.2.4, running on ⚡ PySpark==3.1.2\n"
     ]
    }
   ],
   "source": [
    "# Automatically load license data and start a session with all jars user has access to\n",
    "spark = nlp.start()"
   ]
  },
  {
   "cell_type": "markdown",
   "id": "d03798d1",
   "metadata": {
    "id": "d03798d1"
   },
   "source": [
    "# Legal Entity Resolution"
   ]
  },
  {
   "cell_type": "markdown",
   "id": "ba2c133c-9c4d-4531-a3ae-b12a41d4d3aa",
   "metadata": {
    "id": "ba2c133c-9c4d-4531-a3ae-b12a41d4d3aa"
   },
   "source": [
    "\n",
    "Entity resolution is an important task in natural language processing and information extraction, as it allows for more accurate analysis and understanding of legal texts. For example, in a news article discussing the performance of a company's stock, accurately identifying and disambiguating the company's name is crucial for accurately tracking the stock's performance.\n",
    "\n",
    "An NLP use case in financial or legal applications is identifying legal entities' presence in a given text. One of those entities could be `Company Name`. We can carry out NER to extract different chunks of information, but in real financial and legal use cases, the company name is usually not useful as it is mentioned in the text. Sometimes we need the **_official_** name of the company (instead of `Amazon`, `Amazon.com INC`, as registered in Edgar, Crunchbase and Nasdaq). We have pre-trained sentence entity resolver models for these purposes shown below with the examples."
   ]
  },
  {
   "cell_type": "markdown",
   "source": [
    "## Pretrained Entity Resolution Models for Legal\n",
    "\n",
    "Here are the list of pretrained Entity Resolution models:\n",
    "\n",
    "|index|model|\n",
    "|-----:|:-----|\n",
    "| 1| [Company Name Normalization Using Edgar Database](https://nlp.johnsnowlabs.com/2022/08/30/legel_edgar_company_name_en.html)  |\n",
    "| 2| [Company Names Normalization Using Crunchbase](https://nlp.johnsnowlabs.com/2022/08/09/legel_crunchbase_companynames_en_3_2.html)  | \n",
    "| 3| [Company Name to IRS (Edgar database)](https://nlp.johnsnowlabs.com/2022/08/30/finel_edgar_company_name_en.html)  |\n"
   ],
   "metadata": {
    "id": "ossta3lKkGbP"
   },
   "id": "ossta3lKkGbP"
  },
  {
   "cell_type": "markdown",
   "source": [
    "## Common Componennts\n"
   ],
   "metadata": {
    "id": "XVuxdiKgi_qd"
   },
   "id": "XVuxdiKgi_qd"
  },
  {
   "cell_type": "markdown",
   "metadata": {
    "id": "KEsF6wiQltXl"
   },
   "source": [
    "Other than providing the code in the \"result\" field it provides more metadata about the matching process:\n",
    "\n",
    "- target_text -> Text to resolve\n",
    "- resolved_text -> Best match text\n",
    "- confidence -> Relative confidence for the top match (distance to probability)\n",
    "- confidence_ratio -> Relative confidence for the top match. TopMatchConfidence / SecondMatchConfidence\n",
    "- alternative_codes -> List of other plausible codes (in the KNN neighborhood)\n",
    "- all_k_resolutions -> All codes descriptions\n",
    "- all_k_results -> All resolved codes for metrics calculation purposes\n",
    "- sentence -> SentenceId\n",
    "\n",
    "We will use following Generic Function For Getting the Codes and Relation Pairs"
   ],
   "id": "KEsF6wiQltXl"
  },
  {
   "cell_type": "code",
   "execution_count": 5,
   "id": "7bb59495-6397-4aed-99fa-691678a6ff6e",
   "metadata": {
    "id": "7bb59495-6397-4aed-99fa-691678a6ff6e",
    "executionInfo": {
     "status": "ok",
     "timestamp": 1673047092472,
     "user_tz": -180,
     "elapsed": 715,
     "user": {
      "displayName": "Bünyamin Polat",
      "userId": "03982086590103784785"
     }
    }
   },
   "outputs": [],
   "source": [
    "import pandas as pd\n",
    "pd.set_option('display.max_colwidth', 0)\n",
    "\n",
    "def get_codes (lp, text, vocab='company_name', hcc=False):\n",
    "\n",
    "    \"\"\"Returns LightPipeline resolution results\"\"\"\n",
    "    \n",
    "    full_light_result = lp.fullAnnotate(text)\n",
    "\n",
    "    chunks = []\n",
    "    codes = []\n",
    "    begin = []\n",
    "    end = []\n",
    "    resolutions=[]\n",
    "    all_distances =[]\n",
    "    all_codes=[]\n",
    "    all_cosines = []\n",
    "    all_k_aux_labels=[]\n",
    "\n",
    "    for i in range(len(full_light_result)):\n",
    "\n",
    "      for chunk, code in zip(full_light_result[i]['ner_chunk'], full_light_result[i][vocab]):   \n",
    "          begin.append(chunk.begin)\n",
    "          end.append(chunk.end)\n",
    "          chunks.append(chunk.result)\n",
    "          codes.append(code.result) \n",
    "          all_codes.append(code.metadata['all_k_results'].split(':::'))\n",
    "          resolutions.append(code.metadata['all_k_resolutions'].split(':::'))\n",
    "          all_distances.append(code.metadata['all_k_distances'].split(':::'))\n",
    "          all_cosines.append(code.metadata['all_k_cosine_distances'].split(':::'))\n",
    "          if hcc:\n",
    "              try:\n",
    "                  all_k_aux_labels.append(code.metadata['all_k_aux_labels'].split(':::'))\n",
    "              except:\n",
    "                  all_k_aux_labels.append([])\n",
    "          else:\n",
    "              all_k_aux_labels.append([])\n",
    "\n",
    "    df = pd.DataFrame({'chunks':chunks, 'begin': begin, 'end':end, 'code':codes, 'all_codes':all_codes, \n",
    "                       'resolutions':resolutions, 'all_k_aux_labels':all_k_aux_labels,'all_distances':all_cosines})\n",
    "    \n",
    "    return df"
   ]
  },
  {
   "cell_type": "markdown",
   "source": [
    "## Company Name Normalization using Edgar\n",
    "\n",
    "**Normalizing the company name to query John Snow Labs datasources for more information about Cadence.**\n",
    "\n",
    "Sometimes, companies in texts use a non-official, abbreviated name. For example, we can find `Cadence`, `Cadence Inc`, `Cadence, Inc`, or many other variations, where the official name of the company os `CADENCE DESIGN SYSTEMS INC`, as per registered in SEC Edgar.\n",
    "\n",
    "[Edgar's Public Database](https://www.sec.gov/edgar/searchedgar/companysearch)\n",
    "- EDGAR, the Electronic Data Gathering, Analysis, and Retrieval system, is the primary system for companies and others submitting documents under the Securities Act of 1933, the Securities Exchange Act of 1934, the Trust Indenture Act of 1939, and the Investment Company Act of 1940. \n",
    "\n",
    "- Access to EDGAR’s public database is free—allowing you to research, for example, a public company’s financial information and operations by reviewing the filings the company makes with the SEC.(U.S. Securities and Exchange Commission)\n",
    "\n",
    "Normalizing a company name is super important for data quality purposes. It will help us:\n",
    "- Standardize the data, improving the quality;\n",
    "- Carry out additional verifications;\n",
    "- Join different databases or extract for external sources;"
   ],
   "metadata": {
    "id": "RFNyaXv2jT79"
   },
   "id": "RFNyaXv2jT79"
  },
  {
   "cell_type": "markdown",
   "id": "c557d108-7b3d-41f3-96e3-242a77201d69",
   "metadata": {
    "id": "c557d108-7b3d-41f3-96e3-242a77201d69"
   },
   "source": [
    "`Company Name Normalization` is the process of obtaining the name of the company used by data providers, usually the \"official\" name of the company.\n",
    "\n",
    "Sometimes, some data providers may have different versions of the name with different punctuation. For example, for Meta:\n",
    "- Meta Platforms, Inc.\n",
    "- Meta Platforms Inc.\n",
    "- Meta Platforms, Inc\n",
    "- etc\n",
    "\n",
    "So, it's mandatory we do `Company Normalization` taking into account the database / datasource provider we want to extract data from. The data providers we have are:\n",
    "- SEC Edgar\n",
    "- Crunchbase until 2015\n",
    "- Wikidata (in progress)"
   ]
  },
  {
   "cell_type": "markdown",
   "id": "12a72fbf-52b9-4627-83c0-46d1a5dbf21c",
   "metadata": {
    "id": "12a72fbf-52b9-4627-83c0-46d1a5dbf21c"
   },
   "source": [
    "Here we will normalize company names and find IRS code of each company with the Edgar's Database"
   ]
  },
  {
   "cell_type": "markdown",
   "source": [
    "### Sample Text\n",
    "\n"
   ],
   "metadata": {
    "id": "LBXOqmsRsmdm"
   },
   "id": "LBXOqmsRsmdm"
  },
  {
   "cell_type": "code",
   "source": [
    "sample_text = \"\"\"Contact Gold is a gold exploration company focused on leveraging its properties, people, technology and capital to make district scale gold discoveries in Nevada.\"\"\"\n"
   ],
   "metadata": {
    "id": "I9P8xmbHdaxo",
    "executionInfo": {
     "status": "ok",
     "timestamp": 1673047103028,
     "user_tz": -180,
     "elapsed": 452,
     "user": {
      "displayName": "Bünyamin Polat",
      "userId": "03982086590103784785"
     }
    }
   },
   "id": "I9P8xmbHdaxo",
   "execution_count": 6,
   "outputs": []
  },
  {
   "cell_type": "markdown",
   "source": [
    "### Using NER model to Find Company Names\n",
    "\n",
    "Main component to carry out information extraction and extract entities from texts. \n",
    "\n",
    "This time we will use a model trained to extract many entities from legal texts."
   ],
   "metadata": {
    "id": "fOgTjtUFWZ15"
   },
   "id": "fOgTjtUFWZ15"
  },
  {
   "cell_type": "code",
   "source": [
    "documentAssembler = nlp.DocumentAssembler()\\\n",
    "        .setInputCol(\"text\")\\\n",
    "        .setOutputCol(\"document\")\n",
    "        \n",
    "sentenceDetector = nlp.SentenceDetectorDLModel.pretrained(\"sentence_detector_dl\",\"xx\")\\\n",
    "        .setInputCols([\"document\"])\\\n",
    "        .setOutputCol(\"sentence\")\n",
    "\n",
    "tokenizer = nlp.Tokenizer()\\\n",
    "        .setInputCols([\"sentence\"])\\\n",
    "        .setOutputCol(\"token\")\n",
    "\n",
    "embeddings = nlp.BertEmbeddings.pretrained(\"bert_embeddings_sec_bert_base\",\"en\") \\\n",
    "        .setInputCols([\"sentence\", \"token\"]) \\\n",
    "        .setOutputCol(\"embeddings\")\n",
    "\n",
    "ner_model = legal.NerModel.pretrained(\"legner_orgs_prods_alias\",\"en\",\"legal/models\")\\\n",
    "        .setInputCols([\"sentence\", \"token\", \"embeddings\"])\\\n",
    "        .setOutputCol(\"ner\")\n",
    "\n",
    "ner_converter = nlp.NerConverter()\\\n",
    "        .setInputCols([\"sentence\",\"token\",\"ner\"])\\\n",
    "        .setOutputCol(\"ner_chunk\")\\\n",
    "        .setWhiteList([\"ORG\"])\n",
    "\n",
    "nlp_pipeline = nlp.Pipeline(stages=[\n",
    "        documentAssembler,\n",
    "        sentenceDetector,\n",
    "        tokenizer,\n",
    "        embeddings,\n",
    "        ner_model,\n",
    "        ner_converter])\n",
    "\n",
    "empty_df = spark.createDataFrame([[\"\"]]).toDF(\"text\")\n",
    "\n",
    "model = nlp_pipeline.fit(empty_df)\n",
    "\n"
   ],
   "metadata": {
    "colab": {
     "base_uri": "https://localhost:8080/"
    },
    "id": "tbFHf0kFWisF",
    "executionInfo": {
     "status": "ok",
     "timestamp": 1673047183917,
     "user_tz": -180,
     "elapsed": 73739,
     "user": {
      "displayName": "Bünyamin Polat",
      "userId": "03982086590103784785"
     }
    },
    "outputId": "b99bbe8e-458e-4230-970c-ba8bc9ebe030"
   },
   "id": "tbFHf0kFWisF",
   "execution_count": 7,
   "outputs": [
    {
     "output_type": "stream",
     "name": "stdout",
     "text": [
      "sentence_detector_dl download started this may take some time.\n",
      "Approximate size to download 514.9 KB\n",
      "[OK!]\n",
      "bert_embeddings_sec_bert_base download started this may take some time.\n",
      "Approximate size to download 390.4 MB\n",
      "[OK!]\n",
      "legner_orgs_prods_alias download started this may take some time.\n",
      "[OK!]\n"
     ]
    }
   ]
  },
  {
   "cell_type": "code",
   "source": [
    "df = spark.createDataFrame([[sample_text]]).toDF(\"text\")\n",
    "\n",
    "result = model.transform(df).cache()"
   ],
   "metadata": {
    "id": "xdztbk6zXHRo",
    "executionInfo": {
     "status": "ok",
     "timestamp": 1673047210485,
     "user_tz": -180,
     "elapsed": 1490,
     "user": {
      "displayName": "Bünyamin Polat",
      "userId": "03982086590103784785"
     }
    }
   },
   "id": "xdztbk6zXHRo",
   "execution_count": 9,
   "outputs": []
  },
  {
   "cell_type": "code",
   "source": [
    "import pyspark.sql.functions as F\n",
    "\n",
    "result = result.select(F.explode(F.arrays_zip(result.ner_chunk.result, result.ner_chunk.metadata)).alias(\"cols\")) \\\n",
    "      .select(F.expr(\"cols['0']\").alias(\"chunk\"),\n",
    "              F.expr(\"cols['1']['entity']\").alias(\"ner_label\"),\n",
    "              F.expr(\"cols['1']['confidence']\").alias(\"confidence\"))\n",
    "      \n",
    "result.show()"
   ],
   "metadata": {
    "colab": {
     "base_uri": "https://localhost:8080/"
    },
    "id": "S70lkORpXSQ-",
    "executionInfo": {
     "status": "ok",
     "timestamp": 1673047221695,
     "user_tz": -180,
     "elapsed": 9274,
     "user": {
      "displayName": "Bünyamin Polat",
      "userId": "03982086590103784785"
     }
    },
    "outputId": "00444ebd-963a-43b5-e596-ece7b74323a9"
   },
   "id": "S70lkORpXSQ-",
   "execution_count": 10,
   "outputs": [
    {
     "output_type": "stream",
     "name": "stdout",
     "text": [
      "+------------+---------+----------+\n",
      "|       chunk|ner_label|confidence|\n",
      "+------------+---------+----------+\n",
      "|Contact Gold|      ORG|0.91964996|\n",
      "+------------+---------+----------+\n",
      "\n"
     ]
    }
   ]
  },
  {
   "cell_type": "code",
   "source": [
    "res = result.toPandas()\n",
    "\n",
    "res"
   ],
   "metadata": {
    "colab": {
     "base_uri": "https://localhost:8080/",
     "height": 81
    },
    "id": "vFYCKOBCYaYm",
    "executionInfo": {
     "status": "ok",
     "timestamp": 1673047226033,
     "user_tz": -180,
     "elapsed": 1203,
     "user": {
      "displayName": "Bünyamin Polat",
      "userId": "03982086590103784785"
     }
    },
    "outputId": "5fe11bee-5211-4658-9f95-20bfdfcf6191"
   },
   "id": "vFYCKOBCYaYm",
   "execution_count": 11,
   "outputs": [
    {
     "output_type": "execute_result",
     "data": {
      "text/plain": [
       "          chunk ner_label  confidence\n",
       "0  Contact Gold  ORG       0.91964996"
      ],
      "text/html": [
       "\n",
       "  <div id=\"df-3aa88679-cdfa-43a7-a00f-cdf4f7cb6b94\">\n",
       "    <div class=\"colab-df-container\">\n",
       "      <div>\n",
       "<style scoped>\n",
       "    .dataframe tbody tr th:only-of-type {\n",
       "        vertical-align: middle;\n",
       "    }\n",
       "\n",
       "    .dataframe tbody tr th {\n",
       "        vertical-align: top;\n",
       "    }\n",
       "\n",
       "    .dataframe thead th {\n",
       "        text-align: right;\n",
       "    }\n",
       "</style>\n",
       "<table border=\"1\" class=\"dataframe\">\n",
       "  <thead>\n",
       "    <tr style=\"text-align: right;\">\n",
       "      <th></th>\n",
       "      <th>chunk</th>\n",
       "      <th>ner_label</th>\n",
       "      <th>confidence</th>\n",
       "    </tr>\n",
       "  </thead>\n",
       "  <tbody>\n",
       "    <tr>\n",
       "      <th>0</th>\n",
       "      <td>Contact Gold</td>\n",
       "      <td>ORG</td>\n",
       "      <td>0.91964996</td>\n",
       "    </tr>\n",
       "  </tbody>\n",
       "</table>\n",
       "</div>\n",
       "      <button class=\"colab-df-convert\" onclick=\"convertToInteractive('df-3aa88679-cdfa-43a7-a00f-cdf4f7cb6b94')\"\n",
       "              title=\"Convert this dataframe to an interactive table.\"\n",
       "              style=\"display:none;\">\n",
       "        \n",
       "  <svg xmlns=\"http://www.w3.org/2000/svg\" height=\"24px\"viewBox=\"0 0 24 24\"\n",
       "       width=\"24px\">\n",
       "    <path d=\"M0 0h24v24H0V0z\" fill=\"none\"/>\n",
       "    <path d=\"M18.56 5.44l.94 2.06.94-2.06 2.06-.94-2.06-.94-.94-2.06-.94 2.06-2.06.94zm-11 1L8.5 8.5l.94-2.06 2.06-.94-2.06-.94L8.5 2.5l-.94 2.06-2.06.94zm10 10l.94 2.06.94-2.06 2.06-.94-2.06-.94-.94-2.06-.94 2.06-2.06.94z\"/><path d=\"M17.41 7.96l-1.37-1.37c-.4-.4-.92-.59-1.43-.59-.52 0-1.04.2-1.43.59L10.3 9.45l-7.72 7.72c-.78.78-.78 2.05 0 2.83L4 21.41c.39.39.9.59 1.41.59.51 0 1.02-.2 1.41-.59l7.78-7.78 2.81-2.81c.8-.78.8-2.07 0-2.86zM5.41 20L4 18.59l7.72-7.72 1.47 1.35L5.41 20z\"/>\n",
       "  </svg>\n",
       "      </button>\n",
       "      \n",
       "  <style>\n",
       "    .colab-df-container {\n",
       "      display:flex;\n",
       "      flex-wrap:wrap;\n",
       "      gap: 12px;\n",
       "    }\n",
       "\n",
       "    .colab-df-convert {\n",
       "      background-color: #E8F0FE;\n",
       "      border: none;\n",
       "      border-radius: 50%;\n",
       "      cursor: pointer;\n",
       "      display: none;\n",
       "      fill: #1967D2;\n",
       "      height: 32px;\n",
       "      padding: 0 0 0 0;\n",
       "      width: 32px;\n",
       "    }\n",
       "\n",
       "    .colab-df-convert:hover {\n",
       "      background-color: #E2EBFA;\n",
       "      box-shadow: 0px 1px 2px rgba(60, 64, 67, 0.3), 0px 1px 3px 1px rgba(60, 64, 67, 0.15);\n",
       "      fill: #174EA6;\n",
       "    }\n",
       "\n",
       "    [theme=dark] .colab-df-convert {\n",
       "      background-color: #3B4455;\n",
       "      fill: #D2E3FC;\n",
       "    }\n",
       "\n",
       "    [theme=dark] .colab-df-convert:hover {\n",
       "      background-color: #434B5C;\n",
       "      box-shadow: 0px 1px 3px 1px rgba(0, 0, 0, 0.15);\n",
       "      filter: drop-shadow(0px 1px 2px rgba(0, 0, 0, 0.3));\n",
       "      fill: #FFFFFF;\n",
       "    }\n",
       "  </style>\n",
       "\n",
       "      <script>\n",
       "        const buttonEl =\n",
       "          document.querySelector('#df-3aa88679-cdfa-43a7-a00f-cdf4f7cb6b94 button.colab-df-convert');\n",
       "        buttonEl.style.display =\n",
       "          google.colab.kernel.accessAllowed ? 'block' : 'none';\n",
       "\n",
       "        async function convertToInteractive(key) {\n",
       "          const element = document.querySelector('#df-3aa88679-cdfa-43a7-a00f-cdf4f7cb6b94');\n",
       "          const dataTable =\n",
       "            await google.colab.kernel.invokeFunction('convertToInteractive',\n",
       "                                                     [key], {});\n",
       "          if (!dataTable) return;\n",
       "\n",
       "          const docLinkHtml = 'Like what you see? Visit the ' +\n",
       "            '<a target=\"_blank\" href=https://colab.research.google.com/notebooks/data_table.ipynb>data table notebook</a>'\n",
       "            + ' to learn more about interactive tables.';\n",
       "          element.innerHTML = '';\n",
       "          dataTable['output_type'] = 'display_data';\n",
       "          await google.colab.output.renderOutput(dataTable, element);\n",
       "          const docLink = document.createElement('div');\n",
       "          docLink.innerHTML = docLinkHtml;\n",
       "          element.appendChild(docLink);\n",
       "        }\n",
       "      </script>\n",
       "    </div>\n",
       "  </div>\n",
       "  "
      ]
     },
     "metadata": {},
     "execution_count": 11
    }
   ]
  },
  {
   "cell_type": "code",
   "source": [
    "ORG = list(res[\"chunk\"])\n",
    "ORG"
   ],
   "metadata": {
    "colab": {
     "base_uri": "https://localhost:8080/"
    },
    "id": "xQulxs5eY-wU",
    "executionInfo": {
     "status": "ok",
     "timestamp": 1673047228075,
     "user_tz": -180,
     "elapsed": 2,
     "user": {
      "displayName": "Bünyamin Polat",
      "userId": "03982086590103784785"
     }
    },
    "outputId": "38bb83f8-ba80-4b0b-e519-e80c3211087a"
   },
   "id": "xQulxs5eY-wU",
   "execution_count": 12,
   "outputs": [
    {
     "output_type": "execute_result",
     "data": {
      "text/plain": [
       "['Contact Gold']"
      ]
     },
     "metadata": {},
     "execution_count": 12
    }
   ]
  },
  {
   "cell_type": "markdown",
   "source": [
    "### Get Normalized Company Name"
   ],
   "metadata": {
    "id": "Yv7plIE4YuVm"
   },
   "id": "Yv7plIE4YuVm"
  },
  {
   "cell_type": "code",
   "execution_count": 13,
   "id": "d4c159ff-e5d5-4ba7-b040-4ceca5275409",
   "metadata": {
    "colab": {
     "base_uri": "https://localhost:8080/"
    },
    "executionInfo": {
     "elapsed": 124421,
     "status": "ok",
     "timestamp": 1673047399911,
     "user": {
      "displayName": "Bünyamin Polat",
      "userId": "03982086590103784785"
     },
     "user_tz": -180
    },
    "id": "d4c159ff-e5d5-4ba7-b040-4ceca5275409",
    "outputId": "ff2e257a-5bab-4a63-bc42-bade474d1fd1"
   },
   "outputs": [
    {
     "output_type": "stream",
     "name": "stdout",
     "text": [
      "tfhub_use download started this may take some time.\n",
      "Approximate size to download 923.7 MB\n",
      "[OK!]\n",
      "legel_edgar_company_name download started this may take some time.\n",
      "[OK!]\n"
     ]
    }
   ],
   "source": [
    "documentAssembler = nlp.DocumentAssembler()\\\n",
    "      .setInputCol(\"text\")\\\n",
    "      .setOutputCol(\"ner_chunk\")\n",
    "\n",
    "embeddings = nlp.UniversalSentenceEncoder.pretrained(\"tfhub_use\", \"en\") \\\n",
    "      .setInputCols(\"ner_chunk\") \\\n",
    "      .setOutputCol(\"sentence_embeddings\")\n",
    "    \n",
    "resolver = legal.SentenceEntityResolverModel.pretrained(\"legel_edgar_company_name\", \"en\", \"legal/models\") \\\n",
    "      .setInputCols([\"sentence_embeddings\"]) \\\n",
    "      .setOutputCol(\"normalization\")\\\n",
    "      .setDistanceFunction(\"EUCLIDEAN\")\n",
    "\n",
    "pipelineModel = nlp.PipelineModel(\n",
    "      stages = [\n",
    "          documentAssembler,\n",
    "          embeddings,\n",
    "          resolver])\n",
    "\n",
    "lp = nlp.LightPipeline(pipelineModel)"
   ]
  },
  {
   "cell_type": "code",
   "source": [
    "normalized_org = lp.fullAnnotate(ORG)\n",
    "\n",
    "normalized_org"
   ],
   "metadata": {
    "colab": {
     "base_uri": "https://localhost:8080/"
    },
    "id": "vBUncfgpZMRb",
    "executionInfo": {
     "status": "ok",
     "timestamp": 1673047403815,
     "user_tz": -180,
     "elapsed": 1836,
     "user": {
      "displayName": "Bünyamin Polat",
      "userId": "03982086590103784785"
     }
    },
    "outputId": "9c57efaa-a2be-4533-d693-89482a24c8d6"
   },
   "id": "vBUncfgpZMRb",
   "execution_count": 14,
   "outputs": [
    {
     "output_type": "execute_result",
     "data": {
      "text/plain": [
       "[{'ner_chunk': [Annotation(document, 0, 11, Contact Gold, {})],\n",
       "  'sentence_embeddings': [Annotation(sentence_embeddings, 0, 11, Contact Gold, {'sentence': '0', 'token': 'Contact Gold', 'pieceId': '-1', 'isWordStart': 'true'})],\n",
       "  'normalization': [Annotation(entity, 0, 11, Contact Gold Corp., {'all_k_results': 'Contact Gold Corp.:::ISHARES GOLD TRUST:::Minatura Gold:::Mexus Gold US:::BESRA GOLD INC.:::ALAMOS GOLD INC:::JOSHUA GOLD RESOURCES INC:::MIDEX GOLD CORP.:::Gold Mark Stephen:::Guskin Gold Corp.:::CMX GOLD & SILVER CORP.:::Permal Gold Ltd.', 'all_k_distances': '0.0000:::0.7118:::0.7182:::0.7397:::0.7641:::0.7658:::0.7695:::0.7705:::0.7709:::0.7732:::0.7759:::0.7773', 'confidence': '0.1624', 'all_k_cosine_distances': '0.0000:::0.2533:::0.2579:::0.2736:::0.2919:::0.2933:::0.2961:::0.2968:::0.2971:::0.2989:::0.3010:::0.3021', 'all_k_resolutions': 'Contact Gold Corp.:::ISHARES GOLD TRUST:::Minatura Gold:::Mexus Gold US:::BESRA GOLD INC.:::ALAMOS GOLD INC:::JOSHUA GOLD RESOURCES INC:::MIDEX GOLD CORP.:::Gold Mark Stephen:::Guskin Gold Corp.:::CMX GOLD & SILVER CORP.:::Permal Gold Ltd.', 'target_text': 'Contact Gold', 'all_k_aux_labels': '981369960:::0:::208273426:::204092640:::0:::0:::270531073:::261918920:::0:::271989147:::0:::0', 'token': 'Contact Gold', 'resolved_text': 'Contact Gold Corp.', 'all_k_confidences': '0.1624:::0.0797:::0.0792:::0.0775:::0.0757:::0.0755:::0.0752:::0.0752:::0.0751:::0.0750:::0.0748:::0.0747', 'distance': '0.0000', 'sentence': '0'})]}]"
      ]
     },
     "metadata": {},
     "execution_count": 14
    }
   ]
  },
  {
   "cell_type": "code",
   "source": [
    "NORM_ORG = normalized_org[0]['normalization'][0].result\n",
    "NORM_ORG"
   ],
   "metadata": {
    "colab": {
     "base_uri": "https://localhost:8080/",
     "height": 35
    },
    "id": "jCZf19ESZRR2",
    "executionInfo": {
     "status": "ok",
     "timestamp": 1673047405956,
     "user_tz": -180,
     "elapsed": 345,
     "user": {
      "displayName": "Bünyamin Polat",
      "userId": "03982086590103784785"
     }
    },
    "outputId": "ec1c7d4b-8239-46f4-9279-91aba9102a3f"
   },
   "id": "jCZf19ESZRR2",
   "execution_count": 15,
   "outputs": [
    {
     "output_type": "execute_result",
     "data": {
      "text/plain": [
       "'Contact Gold Corp.'"
      ],
      "application/vnd.google.colaboratory.intrinsic+json": {
       "type": "string"
      }
     },
     "metadata": {},
     "execution_count": 15
    }
   ]
  },
  {
   "cell_type": "code",
   "source": [
    "get_codes(lp, ORG, vocab = \"normalization\")"
   ],
   "metadata": {
    "colab": {
     "base_uri": "https://localhost:8080/",
     "height": 212
    },
    "id": "TAtbY9oxZRX3",
    "executionInfo": {
     "status": "ok",
     "timestamp": 1673047409446,
     "user_tz": -180,
     "elapsed": 1258,
     "user": {
      "displayName": "Bünyamin Polat",
      "userId": "03982086590103784785"
     }
    },
    "outputId": "501537d6-fdc9-4b01-d7b2-8759ce348678"
   },
   "id": "TAtbY9oxZRX3",
   "execution_count": 16,
   "outputs": [
    {
     "output_type": "execute_result",
     "data": {
      "text/plain": [
       "         chunks  begin  end                code  \\\n",
       "0  Contact Gold  0      11   Contact Gold Corp.   \n",
       "\n",
       "                                                                                                                                                                                                                                all_codes  \\\n",
       "0  [Contact Gold Corp., ISHARES GOLD TRUST, Minatura Gold, Mexus Gold US, BESRA GOLD INC., ALAMOS GOLD INC, JOSHUA GOLD RESOURCES INC, MIDEX GOLD CORP., Gold Mark Stephen, Guskin Gold Corp., CMX GOLD & SILVER CORP., Permal Gold Ltd.]   \n",
       "\n",
       "                                                                                                                                                                                                                              resolutions  \\\n",
       "0  [Contact Gold Corp., ISHARES GOLD TRUST, Minatura Gold, Mexus Gold US, BESRA GOLD INC., ALAMOS GOLD INC, JOSHUA GOLD RESOURCES INC, MIDEX GOLD CORP., Gold Mark Stephen, Guskin Gold Corp., CMX GOLD & SILVER CORP., Permal Gold Ltd.]   \n",
       "\n",
       "  all_k_aux_labels  \\\n",
       "0  []                \n",
       "\n",
       "                                                                                      all_distances  \n",
       "0  [0.0000, 0.2533, 0.2579, 0.2736, 0.2919, 0.2933, 0.2961, 0.2968, 0.2971, 0.2989, 0.3010, 0.3021]  "
      ],
      "text/html": [
       "\n",
       "  <div id=\"df-aa0bf5a1-9b3f-434a-9694-11cb8fe1a512\">\n",
       "    <div class=\"colab-df-container\">\n",
       "      <div>\n",
       "<style scoped>\n",
       "    .dataframe tbody tr th:only-of-type {\n",
       "        vertical-align: middle;\n",
       "    }\n",
       "\n",
       "    .dataframe tbody tr th {\n",
       "        vertical-align: top;\n",
       "    }\n",
       "\n",
       "    .dataframe thead th {\n",
       "        text-align: right;\n",
       "    }\n",
       "</style>\n",
       "<table border=\"1\" class=\"dataframe\">\n",
       "  <thead>\n",
       "    <tr style=\"text-align: right;\">\n",
       "      <th></th>\n",
       "      <th>chunks</th>\n",
       "      <th>begin</th>\n",
       "      <th>end</th>\n",
       "      <th>code</th>\n",
       "      <th>all_codes</th>\n",
       "      <th>resolutions</th>\n",
       "      <th>all_k_aux_labels</th>\n",
       "      <th>all_distances</th>\n",
       "    </tr>\n",
       "  </thead>\n",
       "  <tbody>\n",
       "    <tr>\n",
       "      <th>0</th>\n",
       "      <td>Contact Gold</td>\n",
       "      <td>0</td>\n",
       "      <td>11</td>\n",
       "      <td>Contact Gold Corp.</td>\n",
       "      <td>[Contact Gold Corp., ISHARES GOLD TRUST, Minatura Gold, Mexus Gold US, BESRA GOLD INC., ALAMOS GOLD INC, JOSHUA GOLD RESOURCES INC, MIDEX GOLD CORP., Gold Mark Stephen, Guskin Gold Corp., CMX GOLD &amp; SILVER CORP., Permal Gold Ltd.]</td>\n",
       "      <td>[Contact Gold Corp., ISHARES GOLD TRUST, Minatura Gold, Mexus Gold US, BESRA GOLD INC., ALAMOS GOLD INC, JOSHUA GOLD RESOURCES INC, MIDEX GOLD CORP., Gold Mark Stephen, Guskin Gold Corp., CMX GOLD &amp; SILVER CORP., Permal Gold Ltd.]</td>\n",
       "      <td>[]</td>\n",
       "      <td>[0.0000, 0.2533, 0.2579, 0.2736, 0.2919, 0.2933, 0.2961, 0.2968, 0.2971, 0.2989, 0.3010, 0.3021]</td>\n",
       "    </tr>\n",
       "  </tbody>\n",
       "</table>\n",
       "</div>\n",
       "      <button class=\"colab-df-convert\" onclick=\"convertToInteractive('df-aa0bf5a1-9b3f-434a-9694-11cb8fe1a512')\"\n",
       "              title=\"Convert this dataframe to an interactive table.\"\n",
       "              style=\"display:none;\">\n",
       "        \n",
       "  <svg xmlns=\"http://www.w3.org/2000/svg\" height=\"24px\"viewBox=\"0 0 24 24\"\n",
       "       width=\"24px\">\n",
       "    <path d=\"M0 0h24v24H0V0z\" fill=\"none\"/>\n",
       "    <path d=\"M18.56 5.44l.94 2.06.94-2.06 2.06-.94-2.06-.94-.94-2.06-.94 2.06-2.06.94zm-11 1L8.5 8.5l.94-2.06 2.06-.94-2.06-.94L8.5 2.5l-.94 2.06-2.06.94zm10 10l.94 2.06.94-2.06 2.06-.94-2.06-.94-.94-2.06-.94 2.06-2.06.94z\"/><path d=\"M17.41 7.96l-1.37-1.37c-.4-.4-.92-.59-1.43-.59-.52 0-1.04.2-1.43.59L10.3 9.45l-7.72 7.72c-.78.78-.78 2.05 0 2.83L4 21.41c.39.39.9.59 1.41.59.51 0 1.02-.2 1.41-.59l7.78-7.78 2.81-2.81c.8-.78.8-2.07 0-2.86zM5.41 20L4 18.59l7.72-7.72 1.47 1.35L5.41 20z\"/>\n",
       "  </svg>\n",
       "      </button>\n",
       "      \n",
       "  <style>\n",
       "    .colab-df-container {\n",
       "      display:flex;\n",
       "      flex-wrap:wrap;\n",
       "      gap: 12px;\n",
       "    }\n",
       "\n",
       "    .colab-df-convert {\n",
       "      background-color: #E8F0FE;\n",
       "      border: none;\n",
       "      border-radius: 50%;\n",
       "      cursor: pointer;\n",
       "      display: none;\n",
       "      fill: #1967D2;\n",
       "      height: 32px;\n",
       "      padding: 0 0 0 0;\n",
       "      width: 32px;\n",
       "    }\n",
       "\n",
       "    .colab-df-convert:hover {\n",
       "      background-color: #E2EBFA;\n",
       "      box-shadow: 0px 1px 2px rgba(60, 64, 67, 0.3), 0px 1px 3px 1px rgba(60, 64, 67, 0.15);\n",
       "      fill: #174EA6;\n",
       "    }\n",
       "\n",
       "    [theme=dark] .colab-df-convert {\n",
       "      background-color: #3B4455;\n",
       "      fill: #D2E3FC;\n",
       "    }\n",
       "\n",
       "    [theme=dark] .colab-df-convert:hover {\n",
       "      background-color: #434B5C;\n",
       "      box-shadow: 0px 1px 3px 1px rgba(0, 0, 0, 0.15);\n",
       "      filter: drop-shadow(0px 1px 2px rgba(0, 0, 0, 0.3));\n",
       "      fill: #FFFFFF;\n",
       "    }\n",
       "  </style>\n",
       "\n",
       "      <script>\n",
       "        const buttonEl =\n",
       "          document.querySelector('#df-aa0bf5a1-9b3f-434a-9694-11cb8fe1a512 button.colab-df-convert');\n",
       "        buttonEl.style.display =\n",
       "          google.colab.kernel.accessAllowed ? 'block' : 'none';\n",
       "\n",
       "        async function convertToInteractive(key) {\n",
       "          const element = document.querySelector('#df-aa0bf5a1-9b3f-434a-9694-11cb8fe1a512');\n",
       "          const dataTable =\n",
       "            await google.colab.kernel.invokeFunction('convertToInteractive',\n",
       "                                                     [key], {});\n",
       "          if (!dataTable) return;\n",
       "\n",
       "          const docLinkHtml = 'Like what you see? Visit the ' +\n",
       "            '<a target=\"_blank\" href=https://colab.research.google.com/notebooks/data_table.ipynb>data table notebook</a>'\n",
       "            + ' to learn more about interactive tables.';\n",
       "          element.innerHTML = '';\n",
       "          dataTable['output_type'] = 'display_data';\n",
       "          await google.colab.output.renderOutput(dataTable, element);\n",
       "          const docLink = document.createElement('div');\n",
       "          docLink.innerHTML = docLinkHtml;\n",
       "          element.appendChild(docLink);\n",
       "        }\n",
       "      </script>\n",
       "    </div>\n",
       "  </div>\n",
       "  "
      ]
     },
     "metadata": {},
     "execution_count": 16
    }
   ]
  },
  {
   "cell_type": "markdown",
   "source": [
    "### Normalized Name\n",
    "In Edgar, the company official is different! We need to take it before being able to augment with external information in EDGAR.\n",
    "\n",
    "- Incorrect: `Contact Gold`\n",
    "- Correct (Official): `Contact Gold Corp`"
   ],
   "metadata": {
    "id": "5MDk7OgUjoII"
   },
   "id": "5MDk7OgUjoII"
  }
 ],
 "metadata": {
  "colab": {
   "provenance": [],
   "toc_visible": true
  },
  "kernelspec": {
   "display_name": "Python 3.9.5 64-bit",
   "language": "python",
   "name": "python3"
  },
  "language_info": {
   "codemirror_mode": {
    "name": "ipython",
    "version": 3
   },
   "file_extension": ".py",
   "mimetype": "text/x-python",
   "name": "python",
   "nbconvert_exporter": "python",
   "pygments_lexer": "ipython3",
   "version": "3.9.5"
  },
  "vscode": {
   "interpreter": {
    "hash": "ca1c4b8877e01dec1d65bc94ac0771fb7b4e7d433b24c0ced0afdc05f796f65d"
   }
  },
  "gpuClass": "standard"
 },
 "nbformat": 4,
 "nbformat_minor": 5
}
