{
  "cells": [
    {
      "cell_type": "markdown",
      "source": [
        "![JohnSnowLabs](https://nlp.johnsnowlabs.com/assets/images/logo.png)"
      ],
      "metadata": {
        "id": "S6jlakvDCElY"
      }
    },
    {
      "cell_type": "markdown",
      "metadata": {
        "id": "CUdOMUOQYJNe"
      },
      "source": [
        "# Legal NLP"
      ]
    },
    {
      "cell_type": "markdown",
      "metadata": {
        "id": "focTiQUhYJNg"
      },
      "source": [
        "In this notebook, you will learn how to use Spark NLP and Legal NLP to identify relevant entities in legal texts using our state-of-the-art Named-Entity Recognition (NER) models and the recent Zero-Shot models.\n",
        "\n",
        "We will cover the full analysis cycle, from reading a document in PDF formar, extracting its text contents, classifying its sections and applying NER models on specific sections.\n",
        "\n",
        "Let`s dive in!"
      ]
    },
    {
      "cell_type": "markdown",
      "source": [
        "## Introduction"
      ],
      "metadata": {
        "id": "zRtbHsClVSuO"
      }
    },
    {
      "cell_type": "markdown",
      "source": [
        "### Classification models"
      ],
      "metadata": {
        "id": "f7iaSrydcTtG"
      }
    },
    {
      "cell_type": "markdown",
      "source": [
        "For the text classification tasks, we will use two annotators:\n",
        "\n",
        "- `ClassifierDL`: uses the state-of-the-art Universal Senten- `ClassifierDL`: uses the state-of-the-art Universal Sentence Encoder as an input for text classifications. Then, a deep learning model (DNNs) built with TensorFlow that supports `Binary Classification` and `Multiclass Classification` (up to 100 classes).\n",
        "- `MultiClassifierDL`: `Multilabel Classification` (can predict more than one class for each text) using a Bidirectional GRU with Convolution architecture built with TensorFlow that supports up to 100 classes. The inputs are Sentence Embeddings such as state-of-the-art UniversalSentenceEncoder, BertSentenceEmbeddings or SentenceEmbeddings.\n",
        "\n",
        "In Legal NLP, since the number of classes can be very high (over 250) and the texts could belong to more than one topic at the same time (multilabel problem), we pretrained several binary classifiers (yes / no) for many clause types in legal documents that can be used independently.\n",
        "\n",
        "You can select the topics you are interested in (for example, looking for loans and fiscal-year clauses) and create a pipeline with both of them to detect for those types of clauses in your paragraphs. \n",
        "\n",
        "As a reminder, since the models are independent and the task is multilabel, you may get some times positive results for more than one class (i.e, a paragraph talks about loans and fiscal year at the same time).\n",
        "\n",
        "As an alternative, we also have `MultiClassifierDL` that predicts many clause types in one model. The choice between using binary classifiers or the multilabel model will depend on the document types, and experimentations should be made to verify the accuracy of the models in texts that are too different from the trianed data (CUAD dataset, SEC sample documents, etc.)."
      ],
      "metadata": {
        "id": "tm_7Km89WsoY"
      }
    },
    {
      "cell_type": "markdown",
      "source": [
        "Example Classification models:\n",
        "\n",
        "| title                                                     | language   | predicted_entities                                                                                                                                                                                                                                                                                                                                                                                                                                                                                                                                                                                                                                                                                                                                                                                                                                                                                                                                                                                                                                                                                                                                                                                                                                                                                                                                                                             | compatible_editions            |\n",
        "|:----------------------------------------------------------|:-----------|:-----------------------------------------------------------------------------------------------------------------------------------------------------------------------------------------------------------------------------------------------------------------------------------------------------------------------------------------------------------------------------------------------------------------------------------------------------------------------------------------------------------------------------------------------------------------------------------------------------------------------------------------------------------------------------------------------------------------------------------------------------------------------------------------------------------------------------------------------------------------------------------------------------------------------------------------------------------------------------------------------------------------------------------------------------------------------------------------------------------------------------------------------------------------------------------------------------------------------------------------------------------------------------------------------------------------------------------------------------------------------------------------------|:-------------------------------|\n",
        "| Human Rights Articles Classification                      | en         | ['Artículo 1. Obligación de Respetar los Derechos', 'Artículo 2. Deber de Adoptar Disposiciones de Derecho Interno', 'Artículo 3. Derecho al Reconocimiento de la Personalidad Jurídica', 'Artículo 4. Derecho a la Vida', 'Artículo 5. Derecho a la Integridad Personal', 'Artículo 6. Prohibición de la Esclavitud y Servidumbre', 'Artículo 7. Derecho a la Libertad Personal', 'Artículo 8. Garantías Judiciales', 'Artículo 9. Principio de Legalidad y de Retroactividad', 'Artículo 11. Protección de la Honra y de la Dignidad', 'Artículo 12. Libertad de Conciencia y de Religión', 'Artículo 13. Libertad de Pensamiento y de Expresión', 'Artículo 14. Derecho de Rectificación o Respuesta', 'Artículo 15. Derecho de Reunión', 'Artículo 16. Libertad de Asociación', 'Artículo 17. Protección a la Familia', 'Artículo 18. Derecho al Nombre', 'Artículo 19. Derechos del Niño', 'Artículo 20. Derecho a la Nacionalidad', 'Artículo 22. Derecho de Circulación y de Residencia', 'Artículo 23. Derechos Políticos', 'Artículo 24. Igualdad ante la Ley', 'Artículo 25. Protección Judicial', 'Artículo 26. Desarrollo Progresivo', 'Artículo 27. Suspensión de Garantías', 'Artículo 28. Cláusula Federal', 'Artículo 21. Derecho a la Propiedad Privada', 'Artículo 29. Normas de Interpretación', 'Artículo 30. Alcance de las Restricciones', 'Artículo 63.1 Reparaciones'] | ['Legal NLP 1.0', 'Legal NLP'] |\n",
        "| Legal Absence of certain changes Clause Binary Classifier | en         | ['other', 'absence-of-certain-changes']                                                                                                                                                                                                                                                                                                                                                                                                                                                                                                                                                                                                                                                                                                                                                                                                                                                                                                                                                                                                                                                                                                                                                                                                                                                                                                                                                        | ['Legal NLP 1.0', 'Legal NLP'] |\n",
        "| Legal Acceleration Clause Binary Classifier               | en         | ['other', 'acceleration']                                                                                                                                                                                                                                                                                                                                                                                                                                                                                                                                                                                                                                                                                                                                                                                                                                                                                                                                                                                                                                                                                                                                                                                                                                                                                                                                                                      | ['Legal NLP 1.0', 'Legal NLP'] |\n",
        "| Legal Access Clause Binary Classifier                     | en         | ['other', 'access']                                                                                                                                                                                                                                                                                                                                                                                                                                                                                                                                                                                                                                                                                                                                                                                                                                                                                                                                                                                                                                                                                                                                                                                                                                                                                                                                                                            | ['Legal NLP 1.0', 'Legal NLP'] |\n",
        "| Legal Accounting terms Clause Binary Classifier           | en         | ['other', 'accounting-terms']                                                                                                                                                                                                                                                                                                                                                                                                                                                                                                                                                                                                                                                                                                                                                                                                                                                                                                                                                                                                                                                                                                                                                                                                                                                                                                                                                                  | ['Legal NLP 1.0', 'Legal NLP'] |\n",
        "| Legal Adjustments Clause Binary Classifier                | en         | ['other', 'adjustments']                                                                                                                                                                                                                                                                                                                                                                                                                                                                                                                                                                                                                                                                                                                                                                                                                                                                                                                                                                                                                                                                                                                                                                                                                                                                                                                                                                       | ['Legal NLP 1.0', 'Legal NLP'] |\n",
        "| Legal Agreements Clause Binary Classifier                 | en         | ['other', 'agreements']                                                                                                                                                                                                                                                                                                                                                                                                                                                                                                                                                                                                                                                                                                                                                                                                                                                                                                                                                                                                                                                                                                                                                                                                                                                                                                                                                                        | ['Legal NLP 1.0', 'Legal NLP'] |\n",
        "| Legal Amendments Clause Binary Classifier                 | en         | ['other', 'amendments']                                                                                                                                                                                                                                                                                                                                                                                                                                                                                                                                                                                                                                                                                                                                                                                                                                                                                                                                                                                                                                                                                                                                                                                                                                                                                                                                                                        | ['Legal NLP 1.0', 'Legal NLP'] |\n",
        "| Legal Application of proceeds Clause Binary Classifier    | en         | ['other', 'application-of-proceeds']                                                                                                                                                                                                                                                                                                                                                                                                                                                                                                                                                                                                                                                                                                                                                                                                                                                                                                                                                                                                                                                                                                                                                                                                                                                                                                                                                           | ['Legal NLP 1.0', 'Legal NLP'] |\n",
        "| Conventions Classification                                | es         | ['Convención sobre la Eliminación de todas las formas de Discriminación contra la Mujer', 'Convención sobre los Derechos de las Personas con Discapacidad', 'Convención Internacional Sobre la Eliminación de Todas las Formas de Discriminación Racial', 'Convención Internacional sobre la Protección de los Derechos de todos los Trabajadores Migratorios y de sus Familias', 'Convención de los Derechos del Niño', 'Pacto Internacional de Derechos Civiles y Políticos']                                                                                                                                                                                                                                                                                                                                                                                                                                                                                                                                                                                                                                                                                                                                                                                                                                                                                                                | ['Legal NLP 1.0', 'Legal NLP'] |\n",
        "\n",
        "\n",
        "For a complete list, check [NLP Models Hub](https://nlp.johnsnowlabs.com/models?edition=Legal+NLP&type=model&task=Text+Classification)"
      ],
      "metadata": {
        "id": "rOX_Seu9cVk6"
      }
    },
    {
      "cell_type": "markdown",
      "source": [
        "### NER models"
      ],
      "metadata": {
        "id": "X-N8mjwywzPn"
      }
    },
    {
      "cell_type": "markdown",
      "metadata": {
        "id": "wzDnEztPYJNh"
      },
      "source": [
        "Named-Entity Recognition (NER) is the capability to automatically identify relevant entities in the text. For example, person names, company names, public companies trading code, quantities, etc. There are many ways to implement NER, but nowadays the most efficient one is to use models based on deep learning.\n",
        "\n",
        "The deep neural network architecture for NER model in Spark NLP is BiLSTM-CNN-Char framework. a slightly modified version of the architecture proposed by Jason PC Chiu and Eric Nichols ([Named Entity Recognition with Bidirectional LSTM-CNNs](https://arxiv.org/abs/1511.08308)). It is a neural network architecture that automatically detects word and character-level features using a hybrid bidirectional LSTM and CNN architecture, eliminating the need for most feature engineering steps. This model is implemented in our `NerDL`/`NerModel` annotators that we will experiment with in this section.\n",
        "\n",
        "At John Snow Labs, we are proud to have a library of state-of-the-art pretrained, out-of-the-box, NLP models. With our newer package Legal NLP it is no different, and we currently support more than 580 models fine tuned for the legal domain. Specifically to NER, we currently have more than 40 models that can identify entities for different business needs.\n",
        "\n",
        "Example NER models:\n",
        "\n",
        "| title                                               | language   | predicted_entities                                                                                                                            | compatible_editions            |\n",
        "|:----------------------------------------------------|:-----------|:----------------------------------------------------------------------------------------------------------------------------------------------|:-------------------------------|\n",
        "| NER on Legal Texts (CUAD, Silver corpus)            | en         | ['PERSON', 'LAW', 'PARTY', 'EFFDATE', 'LOC', 'DATE', 'DOC', 'ORDINAL', 'ROLE', 'PERCENT', 'ORG']                                              | ['Legal NLP 1.0', 'Legal NLP'] |\n",
        "| Generic Deidentification NER                        | en         | ['AGE', 'CITY', 'COUNTRY', 'DATE', 'EMAIL', 'FAX', 'LOCATION-OTHER', 'ORG', 'PERSON', 'PHONE', 'PROFESSION', 'STATE', 'STREET', 'URL', 'ZIP'] | ['Legal NLP 1.0', 'Legal NLP'] |\n",
        "| Legal NER - License / Permission Clauses (Bert, sm) | en         | ['PERMISSION', 'PERMISSION_SUBJECT', 'PERMISSION_OBJECT', 'PERMISSION_INDIRECT_OBJECT']                                                       | ['Legal NLP 1.0', 'Legal NLP'] |\n",
        "| Legal NER (Headers / Subheaders)                    | en         | ['HEADER', 'SUBHEADER']                                                                                                                       | ['Legal NLP 1.0', 'Legal NLP'] |\n",
        "| Legal NER - Whereas Clauses (sm)                    | en         | ['WHEREAS_SUBJECT', 'WHEREAS_OBJECT', 'WHEREAS_ACTION']                                                                                       | ['Legal NLP 1.0', 'Legal NLP'] |\n",
        "| Legal NER (Parties, Dates, Document Type - sm)      | en         | ['PARTY', 'EFFDATE', 'DOC', 'ALIAS']                                                                                                          | ['Legal NLP 1.0', 'Legal NLP'] |\n",
        "| Legal NER (Headers / Subheaders)                    | en         | ['SIGNING_TITLE', 'SIGNING_PERSON', 'PARTY']                                                                                                  | ['Legal NLP 1.0', 'Legal NLP'] |\n",
        "| Legal ORG, PRODUCT and ALIAS NER (small)            | en         | ['ORG', 'PROD', 'ALIAS']                                                                                                                      | ['Legal NLP 1.0', 'Legal NLP'] |\n",
        "| Legal NER Obligations on Agreements                 | en         | ['OBLIGATION_SUBJECT', 'OBLIGATION_ACTION', 'OBLIGATION', 'OBLIGATION_INDIRECT_OBJECT']                                                       | ['Legal NLP 1.0', 'Legal NLP'] |\n",
        "| Legal Zero-shot NER                                 | en         | []                                                                                                                                            | ['Legal NLP 1.0', 'Legal NLP'] |\n",
        "\n",
        "\n",
        "For the complete list, check the [NLP Models Hub](https://nlp.johnsnowlabs.com/models?edition=Legal+NLP&type=model&task=Named+Entity+Recognition)."
      ]
    },
    {
      "cell_type": "markdown",
      "metadata": {
        "id": "mNS9C_-2YJNi"
      },
      "source": [
        "## Environment Setup"
      ]
    },
    {
      "cell_type": "markdown",
      "metadata": {
        "id": "X3dj43KRYJNi"
      },
      "source": [
        "First, you need to setup the environment to be able to use the licensed package. If you are not running in Google Colab, please check the documentation [here](https://nlp.johnsnowlabs.com/docs/en/licensed_install)."
      ]
    },
    {
      "cell_type": "code",
      "execution_count": 1,
      "metadata": {
        "id": "IsqHKhxrYJNj",
        "colab": {
          "base_uri": "https://localhost:8080/"
        },
        "outputId": "380022c0-cea2-47ea-856b-ae25dbe797ab"
      },
      "outputs": [
        {
          "output_type": "stream",
          "name": "stdout",
          "text": [
            "\u001b[2K     \u001b[90m━━━━━━━━━━━━━━━━━━━━━━━━━━━━━━━━━━━━━━━━\u001b[0m \u001b[32m74.2/74.2 KB\u001b[0m \u001b[31m3.3 MB/s\u001b[0m eta \u001b[36m0:00:00\u001b[0m\n",
            "\u001b[2K     \u001b[90m━━━━━━━━━━━━━━━━━━━━━━━━━━━━━━━━━━━━━━━\u001b[0m \u001b[32m212.4/212.4 MB\u001b[0m \u001b[31m5.7 MB/s\u001b[0m eta \u001b[36m0:00:00\u001b[0m\n",
            "\u001b[?25h  Preparing metadata (setup.py) ... \u001b[?25l\u001b[?25hdone\n",
            "\u001b[2K     \u001b[90m━━━━━━━━━━━━━━━━━━━━━━━━━━━━━━━━━━━━━━\u001b[0m \u001b[32m448.4/448.4 KB\u001b[0m \u001b[31m26.0 MB/s\u001b[0m eta \u001b[36m0:00:00\u001b[0m\n",
            "\u001b[2K     \u001b[90m━━━━━━━━━━━━━━━━━━━━━━━━━━━━━━━━━━━━━━━━\u001b[0m \u001b[32m95.4/95.4 KB\u001b[0m \u001b[31m10.2 MB/s\u001b[0m eta \u001b[36m0:00:00\u001b[0m\n",
            "\u001b[2K     \u001b[90m━━━━━━━━━━━━━━━━━━━━━━━━━━━━━━━━━━━━━━\u001b[0m \u001b[32m570.6/570.6 KB\u001b[0m \u001b[31m40.7 MB/s\u001b[0m eta \u001b[36m0:00:00\u001b[0m\n",
            "\u001b[2K     \u001b[90m━━━━━━━━━━━━━━━━━━━━━━━━━━━━━━━━━━━━━━\u001b[0m \u001b[32m198.6/198.6 KB\u001b[0m \u001b[31m21.4 MB/s\u001b[0m eta \u001b[36m0:00:00\u001b[0m\n",
            "\u001b[2K     \u001b[90m━━━━━━━━━━━━━━━━━━━━━━━━━━━━━━━━━━━━━━━━\u001b[0m \u001b[32m66.9/66.9 KB\u001b[0m \u001b[31m8.1 MB/s\u001b[0m eta \u001b[36m0:00:00\u001b[0m\n",
            "\u001b[2K     \u001b[90m━━━━━━━━━━━━━━━━━━━━━━━━━━━━━━━━━━━━━━━━\u001b[0m \u001b[32m82.3/82.3 KB\u001b[0m \u001b[31m8.9 MB/s\u001b[0m eta \u001b[36m0:00:00\u001b[0m\n",
            "\u001b[?25h  Preparing metadata (setup.py) ... \u001b[?25l\u001b[?25hdone\n",
            "\u001b[2K     \u001b[90m━━━━━━━━━━━━━━━━━━━━━━━━━━━━━━━━━━━━━━━━\u001b[0m \u001b[32m1.6/1.6 MB\u001b[0m \u001b[31m64.7 MB/s\u001b[0m eta \u001b[36m0:00:00\u001b[0m\n",
            "\u001b[?25h  Building wheel for pyspark (setup.py) ... \u001b[?25l\u001b[?25hdone\n",
            "  Building wheel for databricks-cli (setup.py) ... \u001b[?25l\u001b[?25hdone\n"
          ]
        }
      ],
      "source": [
        "# Install the johnsnowlabs library to access Spark-OCR and Spark-NLP for Healthcare, Finance, and Legal.\n",
        "! pip install -qU johnsnowlabs"
      ]
    },
    {
      "cell_type": "code",
      "execution_count": 2,
      "metadata": {
        "colab": {
          "base_uri": "https://localhost:8080/",
          "height": 0
        },
        "id": "a41DyL61YJNk",
        "outputId": "16b3df62-1b67-4fe3-cf79-e0ab88df8cff"
      },
      "outputs": [
        {
          "output_type": "display_data",
          "data": {
            "text/plain": [
              "<IPython.core.display.Javascript object>"
            ],
            "application/javascript": [
              "\n",
              "        var a = document.createElement(\"a\");\n",
              "        a.id=\"auth-btn\"\n",
              "        a.setAttribute(\"target\", \"_blank\");\n",
              "        a.href=\"https://my.johnsnowlabs.com/oauth/authorize/?client_id=sI4MKSmLHOX2Pg7XhM3McJS2oyKG5PHcp0BlANEW&response_type=code&code_challenge_method=S256&code_challenge=GlD-5ZdR7-sN7sJi1WTjB5zYFGKvTPia0BYf7dnAkf4&redirect_uri=https%3A%2F%2Fyp42py9syac-496ff2e9c6d22116-8000-colab.googleusercontent.com%2Flogin\";\n",
              "        a.style=\"padding:15px 20px;background-color:#0298d9;border-radius:7px;color:white;text-decoration:none;\"\n",
              "        a.innerText=\"Click here to Authorize on My.Johnsnowlabs.com\"\n",
              "        document.body.appendChild(a);\n",
              "        document.body.style = \"text-align:center;padding-top:15px;\"\n",
              "        a.click()\n",
              "      "
            ]
          },
          "metadata": {}
        },
        {
          "output_type": "stream",
          "name": "stderr",
          "text": [
            "127.0.0.1 - - [07/Jan/2023 21:36:25] \"GET /login?code=Vdg8nDtfuNFM5mrdBP0gbFHrS99zaT HTTP/1.1\" 200 -\n"
          ]
        },
        {
          "output_type": "display_data",
          "data": {
            "text/plain": [
              "<IPython.core.display.Javascript object>"
            ],
            "application/javascript": [
              "document.body.removeChild(a);"
            ]
          },
          "metadata": {}
        },
        {
          "output_type": "stream",
          "name": "stdout",
          "text": [
            "Downloading license...\n",
            "Licenses extracted successfully\n",
            "📋 Stored John Snow Labs License in /root/.johnsnowlabs/licenses/license_number_0_for_Spark-Healthcare_Spark-OCR.json\n",
            "👷 Setting up  John Snow Labs home in /root/.johnsnowlabs, this might take a few minutes.\n",
            "Downloading 🐍+🚀 Python Library spark_nlp-4.2.4-py2.py3-none-any.whl\n",
            "Downloading 🐍+💊 Python Library spark_nlp_jsl-4.2.4-py3-none-any.whl\n",
            "Downloading 🫘+🚀 Java Library spark-nlp-assembly-4.2.4.jar\n",
            "Downloading 🫘+💊 Java Library spark-nlp-jsl-4.2.4.jar\n",
            "🙆 JSL Home setup in /root/.johnsnowlabs\n",
            "Installing /root/.johnsnowlabs/py_installs/spark_nlp_jsl-4.2.4-py3-none-any.whl to /usr/bin/python3\n",
            "Running: /usr/bin/python3 -m pip install /root/.johnsnowlabs/py_installs/spark_nlp_jsl-4.2.4-py3-none-any.whl\n",
            "Installed 1 products:\n",
            "💊 Spark-Healthcare==4.2.4 installed! ✅ Heal the planet with NLP! \n"
          ]
        }
      ],
      "source": [
        "from johnsnowlabs import nlp\n",
        "# Log in to your John Snow Labs account to login and get your license keys\n",
        "nlp.install(force_browser=True)"
      ]
    },
    {
      "cell_type": "markdown",
      "metadata": {
        "id": "lS6Z-_E1YJNk"
      },
      "source": [
        "> Please restart the runtime and follow to the next cells"
      ]
    },
    {
      "cell_type": "markdown",
      "source": [
        "## Application: Identify Entities in a Credit Agreement Document"
      ],
      "metadata": {
        "id": "2vTlIcIKiNKs"
      }
    },
    {
      "cell_type": "code",
      "source": [
        "import pyspark.sql.functions as F\n",
        "from johnsnowlabs import nlp, legal, viz\n",
        "\n",
        "help(nlp.start)"
      ],
      "metadata": {
        "colab": {
          "base_uri": "https://localhost:8080/"
        },
        "id": "xZKo5sFqJgu3",
        "outputId": "accd8219-f71d-44ad-97e9-08c6fc1a9f28"
      },
      "execution_count": 3,
      "outputs": [
        {
          "output_type": "stream",
          "name": "stdout",
          "text": [
            "Help on function start in module johnsnowlabs.utils.sparksession_utils:\n",
            "\n",
            "start(browser_login: bool = False, access_token: Union[str, NoneType] = None, json_license_path: Union[str, NoneType] = None, aws_access_key: Union[str, NoneType] = None, aws_key_id: Union[str, NoneType] = None, enterprise_nlp_secret: Union[str, NoneType] = None, visual_secret: Union[str, NoneType] = None, hc_license: Union[str, NoneType] = None, ocr_license: Union[str, NoneType] = None, fin_license: Union[str, NoneType] = None, leg_license: Union[str, NoneType] = None, remote_license_number: int = 0, local_license_number: int = 0, store_in_jsl_home: bool = True, spark_conf: Union[Dict[str, str], NoneType] = None, master_url: str = 'local[*]', jar_paths: List[str] = None, spark_nlp: bool = True, nlp: bool = True, visual: bool = False, hardware_target: str = 'cpu', model_cache_folder: str = None) -> 'pyspark.sql.SparkSession'\n",
            "\n"
          ]
        }
      ]
    },
    {
      "cell_type": "code",
      "source": [
        "import pyspark.sql.functions as F\n",
        "from johnsnowlabs import nlp, legal, viz\n",
        "\n",
        "\n",
        "spark_conf = {\n",
        "    \"spark.driver.memory\": \"16G\",\n",
        "    \"spark.serializer\": \"org.apache.spark.serializer.KryoSerializer\",\n",
        "    \"spark.kryoserializer.buffer.max\": \"2000M\",\n",
        "}\n",
        "\n",
        "spark = nlp.start(spark_conf=spark_conf)\n",
        "spark"
      ],
      "metadata": {
        "colab": {
          "base_uri": "https://localhost:8080/",
          "height": 277
        },
        "id": "mzBt88WteEIK",
        "outputId": "7828ccba-7d9a-49e3-fd62-3756534a3284"
      },
      "execution_count": 4,
      "outputs": [
        {
          "output_type": "stream",
          "name": "stdout",
          "text": [
            "👌 Launched \u001b[92mcpu optimized\u001b[39m session with with: 🚀Spark-NLP==4.2.4, 💊Spark-Healthcare==4.2.4, running on ⚡ PySpark==3.1.2\n"
          ]
        },
        {
          "output_type": "execute_result",
          "data": {
            "text/plain": [
              "<pyspark.sql.session.SparkSession at 0x7f2a5baeb070>"
            ],
            "text/html": [
              "\n",
              "            <div>\n",
              "                <p><b>SparkSession - in-memory</b></p>\n",
              "                \n",
              "        <div>\n",
              "            <p><b>SparkContext</b></p>\n",
              "\n",
              "            <p><a href=\"http://cc2d399668dd:4040\">Spark UI</a></p>\n",
              "\n",
              "            <dl>\n",
              "              <dt>Version</dt>\n",
              "                <dd><code>v3.1.2</code></dd>\n",
              "              <dt>Master</dt>\n",
              "                <dd><code>local[*]</code></dd>\n",
              "              <dt>AppName</dt>\n",
              "                <dd><code>John-Snow-Labs-Spark-Session 🚀 with Jars for: 🚀Spark-NLP==4.2.4, 💊Spark-Healthcare==4.2.4, running on ⚡ PySpark==3.1.2</code></dd>\n",
              "            </dl>\n",
              "        </div>\n",
              "        \n",
              "            </div>\n",
              "        "
            ]
          },
          "metadata": {},
          "execution_count": 4
        }
      ]
    },
    {
      "cell_type": "markdown",
      "source": [
        "Getting an example agreement document, which we will use throughout this notebook to exemplify the real-world usage of our models."
      ],
      "metadata": {
        "id": "qdhHHo8vb9Jc"
      }
    },
    {
      "cell_type": "code",
      "source": [
        "! wget https://raw.githubusercontent.com/JohnSnowLabs/spark-nlp-workshop/master/tutorials/Certification_Trainings_JSL/Legal/data/credit_agreement.txt"
      ],
      "metadata": {
        "colab": {
          "base_uri": "https://localhost:8080/"
        },
        "id": "na1JVtCQ6pN5",
        "outputId": "30ad55e5-4e9b-4e82-a018-8f0f064a024a"
      },
      "execution_count": 5,
      "outputs": [
        {
          "output_type": "stream",
          "name": "stdout",
          "text": [
            "--2023-01-07 21:37:32--  https://raw.githubusercontent.com/JohnSnowLabs/spark-nlp-workshop/master/tutorials/Certification_Trainings_JSL/Legal/data/credit_agreement.txt\n",
            "Resolving raw.githubusercontent.com (raw.githubusercontent.com)... 185.199.110.133, 185.199.109.133, 185.199.111.133, ...\n",
            "Connecting to raw.githubusercontent.com (raw.githubusercontent.com)|185.199.110.133|:443... connected.\n",
            "HTTP request sent, awaiting response... 200 OK\n",
            "Length: 405174 (396K) [text/plain]\n",
            "Saving to: ‘credit_agreement.txt’\n",
            "\n",
            "credit_agreement.tx 100%[===================>] 395.68K  --.-KB/s    in 0.03s   \n",
            "\n",
            "2023-01-07 21:37:33 (11.2 MB/s) - ‘credit_agreement.txt’ saved [405174/405174]\n",
            "\n"
          ]
        }
      ]
    },
    {
      "cell_type": "code",
      "source": [
        "credit_agreement = open(\"credit_agreement.txt\", \"r\", encoding=\"utf8\").read()\n",
        "\n",
        "# First page - note the  \"-i-\" at the end\n",
        "print(credit_agreement[:4650])"
      ],
      "metadata": {
        "colab": {
          "base_uri": "https://localhost:8080/"
        },
        "id": "yIfRPXss6wfk",
        "outputId": "1397b77e-4bd1-4913-b83a-2e776a704a9e"
      },
      "execution_count": 6,
      "outputs": [
        {
          "output_type": "stream",
          "name": "stdout",
          "text": [
            "\n",
            "\n",
            "                                                                    Exhibit 10.1\n",
            "\n",
            "                                                                  EXECUTION COPY\n",
            "\n",
            "                    $225,000,000.00 REVOLVING CREDIT FACILITY\n",
            "\n",
            "                                CREDIT AGREEMENT\n",
            "\n",
            "                                  by and among\n",
            "\n",
            "                             P.H. GLATFELTER COMPANY\n",
            "\n",
            "                                       and\n",
            "\n",
            "                    Certain of its Subsidiaries, as Borrowers\n",
            "\n",
            "                                       and\n",
            "\n",
            "                       THE BANKS PARTY HERETO, as Lenders\n",
            "\n",
            "                                       and\n",
            "\n",
            "             PNC BANK, NATIONAL ASSOCIATION, as Administrative Agent\n",
            "\n",
            "                                      with\n",
            "\n",
            "           PNC CAPITAL MARKETS LLC and CITIZENS BANK OF PENNSYLVANIA,\n",
            "\n",
            "                  as Joint Lead Arrangers and Joint Bookrunners\n",
            "\n",
            "                                       and\n",
            "\n",
            "               CITIZENS BANK OF PENNSYLVANIA, as Syndication Agent\n",
            "\n",
            "                           Dated as of April 29, 2010\n",
            "\n",
            "\n",
            "\n",
            "                                TABLE OF CONTENTS\n",
            "\n",
            "\n",
            "\n",
            "Section                                                                     Page\n",
            "-------                                                                     ----\n",
            "                                                                         \n",
            "1.  CERTAIN DEFINITIONS..................................................      1\n",
            "    1.1   Certain Definitions............................................      1\n",
            "    1.2   Construction...................................................     28\n",
            "          1.2.1   Number; Inclusion......................................     28\n",
            "          1.2.2   Determination..........................................     28\n",
            "          1.2.3   Administrative Agent's Discretion and Consent..........     28\n",
            "          1.2.4   Documents Taken as a Whole.............................     28\n",
            "          1.2.5   Headings...............................................     29\n",
            "          1.2.6   Implied References to this Agreement...................     29\n",
            "          1.2.7   Persons................................................     29\n",
            "          1.2.8   Modifications to Documents.............................     29\n",
            "          1.2.9   From, To and Through...................................     29\n",
            "          1.2.10  Shall; Will............................................     29\n",
            "          1.2.11  Quebec Matters.........................................     29\n",
            "    1.3   Accounting Principles..........................................     30\n",
            "2.  REVOLVING CREDIT AND SWING LOAN FACILITIES...........................     31\n",
            "    2.1   Revolving Credit Commitments...................................     31\n",
            "          2.1.1   Revolving Credit Loans.................................     31\n",
            "          2.1.2   Swing Loan Commitment..................................     33\n",
            "    2.2   Nature of Lenders' Obligations with Respect to Revolving Credit\n",
            "          Loans..........................................................     33\n",
            "    2.3   Commitment Fees................................................     33\n",
            "    2.4   Revolving Credit Loan Requests.................................     34\n",
            "          2.4.1   Revolving Credit Loan Requests.........................     34\n",
            "          2.4.2   Swing Loan Requests....................................     34\n",
            "    2.5   Making Revolving Credit Loans and Swing Loans; Revolving Credit\n",
            "          Notes and Swing Notes..........................................     35\n",
            "          2.5.1   Making Revolving Credit Loans..........................     35\n",
            "          2.5.2   Making Swing Loans.....................................     35\n",
            "    2.6   Revolving Credit Notes.........................................     35\n",
            "    2.7   Swing Loan Note................................................     35\n",
            "    2.8   Borrowings to Repay Swing Loans................................     36\n",
            "    2.9   Utilization of Commitments in Optional Currencies..............     36\n",
            "          2.9.1   Periodic Computations of Dollar Equivalent Amounts of\n",
            "                  Revolving Credit Loans and Letters of Credit\n",
            "                  Outstanding............................................     36\n",
            "          2.9.2   Notices From Lenders That Optional Currencies Are\n",
            "                  Unavailable to Fund New Loans..........................     36\n",
            "          2.9.3   Notices From Lenders That Optional Currencies Are\n",
            "                  Unavailable to Fund Renewals of the Euro-Rate Option...     37\n",
            "          2.9.4   European Monetary Union................................     37\n",
            "\n",
            "\n",
            "\n",
            "                                       -i-\n",
            "\n",
            "\n",
            "\n",
            "    \n"
          ]
        }
      ]
    },
    {
      "cell_type": "markdown",
      "source": [
        "### Splitting the document by pages"
      ],
      "metadata": {
        "id": "1yHY_akQCaLY"
      }
    },
    {
      "cell_type": "markdown",
      "source": [
        "Sometimes, pages have patterns which tell you how to split them. In our case, `the page number` was present in the bottom of our documents.\n",
        "\n",
        "Feel free to always analyze for signals when trying to detect pages boundaries. Patterns you can usually find in the bottom of a page:\n",
        "- Bottom placeholders\n",
        "- Name of people\n",
        "- Name of the document\n",
        "- other footer information\n",
        "- etc."
      ],
      "metadata": {
        "id": "EwqF4QWJCcvN"
      }
    },
    {
      "cell_type": "code",
      "source": [
        "document_assembler = (\n",
        "    nlp.DocumentAssembler().setInputCol(\"text\").setOutputCol(\"document\")\n",
        ")\n",
        "\n",
        "sentence_detector = (\n",
        "    nlp.SentenceDetector()\n",
        "    .setInputCols([\"document\"])\n",
        "    .setOutputCol(\"pages\")\n",
        "    .setCustomBounds([\"\\n+\\s*[0-9]+\\s*\\n+\", \"[-][iv]+[-]\"])\n",
        "    .setUseCustomBoundsOnly(True)\n",
        "    .setExplodeSentences(True)\n",
        ")\n",
        "\n",
        "page_splitting_pipeline = nlp.Pipeline(stages=[document_assembler, sentence_detector])"
      ],
      "metadata": {
        "id": "5GY8C6p97JOy"
      },
      "execution_count": 7,
      "outputs": []
    },
    {
      "cell_type": "markdown",
      "source": [
        "**Explanation:**\n",
        "\n",
        "- `.setCustomBounds([\"\\n+\\s*[0-9]+\\s*\\n+\", \"[-][iv]+[-]\"])` sets an array of regular expression(s) to tell the annotator how to split the document. The first regular expression identifies the page numbers of the document, and the second regular expression identifies the initial numbers in roman numerals enclosed by dash (-i-, -ii-, etc.) - only up to `-viii-`, which was manually checked, we could add more roman numerals identifiers if needed.\n",
        "- `.setUseCustomBoundsOnly(True)` the default behaviour of SentenceDetector is Sentence Splitting, so we set to ignore the default regex ('\\n', ...).\n",
        "- `.setExplodeSentences(True)` creates one new row in the dataframe per split, instead of an array containing the splits.\n",
        "\n",
        "For more details, check the documentation of the [SentenceDetector](https://nlp.johnsnowlabs.com/docs/en/annotators#sentencedetector) annotator."
      ],
      "metadata": {
        "id": "YjgcOcLcCjq5"
      }
    },
    {
      "cell_type": "code",
      "source": [
        "sdf = spark.createDataFrame([[ credit_agreement ]]).toDF(\"text\")\n",
        "\n",
        "page_splitter_model = page_splitting_pipeline.fit(sdf)"
      ],
      "metadata": {
        "id": "bDQjXSMHCh7T"
      },
      "execution_count": 8,
      "outputs": []
    },
    {
      "cell_type": "code",
      "source": [
        "%%time\n",
        "\n",
        "#transforms: executes inference on a fit pipeline\n",
        "res = page_splitter_model.transform(sdf)\n",
        "\n",
        "# by selecting/showing/collecting the operations are performed\n",
        "res.select('pages').show()"
      ],
      "metadata": {
        "colab": {
          "base_uri": "https://localhost:8080/"
        },
        "id": "SFGPz96QCh5b",
        "outputId": "27e3d8a6-cf3a-494c-ba12-5a8b1344c67d"
      },
      "execution_count": 9,
      "outputs": [
        {
          "output_type": "stream",
          "name": "stdout",
          "text": [
            "+--------------------+\n",
            "|               pages|\n",
            "+--------------------+\n",
            "|[{document, 70, 4...|\n",
            "|[{document, 4678,...|\n",
            "|[{document, 8160,...|\n",
            "|[{document, 11801...|\n",
            "|[{document, 15298...|\n",
            "|[{document, 18938...|\n",
            "|[{document, 22461...|\n",
            "|[{document, 25295...|\n",
            "|[{document, 26399...|\n",
            "|[{document, 31821...|\n",
            "|[{document, 34560...|\n",
            "|[{document, 37458...|\n",
            "|[{document, 40734...|\n",
            "|[{document, 43945...|\n",
            "|[{document, 46511...|\n",
            "|[{document, 49420...|\n",
            "|[{document, 53065...|\n",
            "|[{document, 56539...|\n",
            "|[{document, 59694...|\n",
            "|[{document, 62708...|\n",
            "+--------------------+\n",
            "only showing top 20 rows\n",
            "\n",
            "CPU times: user 112 ms, sys: 13 ms, total: 125 ms\n",
            "Wall time: 17 s\n"
          ]
        }
      ]
    },
    {
      "cell_type": "code",
      "source": [
        "# Checking the first page\n",
        "print(res.select('pages.result').take(1)[0].result[0])"
      ],
      "metadata": {
        "colab": {
          "base_uri": "https://localhost:8080/"
        },
        "id": "JD5fnr7o7I88",
        "outputId": "4dc22915-ac33-46f7-e9c2-4015c7e9ccd8"
      },
      "execution_count": 10,
      "outputs": [
        {
          "output_type": "stream",
          "name": "stdout",
          "text": [
            "Exhibit 10.1\n",
            "\n",
            "                                                                  EXECUTION COPY\n",
            "\n",
            "                    $225,000,000.00 REVOLVING CREDIT FACILITY\n",
            "\n",
            "                                CREDIT AGREEMENT\n",
            "\n",
            "                                  by and among\n",
            "\n",
            "                             P.H. GLATFELTER COMPANY\n",
            "\n",
            "                                       and\n",
            "\n",
            "                    Certain of its Subsidiaries, as Borrowers\n",
            "\n",
            "                                       and\n",
            "\n",
            "                       THE BANKS PARTY HERETO, as Lenders\n",
            "\n",
            "                                       and\n",
            "\n",
            "             PNC BANK, NATIONAL ASSOCIATION, as Administrative Agent\n",
            "\n",
            "                                      with\n",
            "\n",
            "           PNC CAPITAL MARKETS LLC and CITIZENS BANK OF PENNSYLVANIA,\n",
            "\n",
            "                  as Joint Lead Arrangers and Joint Bookrunners\n",
            "\n",
            "                                       and\n",
            "\n",
            "               CITIZENS BANK OF PENNSYLVANIA, as Syndication Agent\n",
            "\n",
            "                           Dated as of April 29, 2010\n",
            "\n",
            "\n",
            "\n",
            "                                TABLE OF CONTENTS\n",
            "\n",
            "\n",
            "\n",
            "Section                                                                     Page\n",
            "-------                                                                     ----\n",
            "                                                                         \n",
            "1.  CERTAIN DEFINITIONS..................................................      1\n",
            "    1.1   Certain Definitions............................................      1\n",
            "    1.2   Construction...................................................     28\n",
            "          1.2.1   Number; Inclusion......................................     28\n",
            "          1.2.2   Determination..........................................     28\n",
            "          1.2.3   Administrative Agent's Discretion and Consent..........     28\n",
            "          1.2.4   Documents Taken as a Whole.............................     28\n",
            "          1.2.5   Headings...............................................     29\n",
            "          1.2.6   Implied References to this Agreement...................     29\n",
            "          1.2.7   Persons................................................     29\n",
            "          1.2.8   Modifications to Documents.............................     29\n",
            "          1.2.9   From, To and Through...................................     29\n",
            "          1.2.10  Shall; Will............................................     29\n",
            "          1.2.11  Quebec Matters.........................................     29\n",
            "    1.3   Accounting Principles..........................................     30\n",
            "2.  REVOLVING CREDIT AND SWING LOAN FACILITIES...........................     31\n",
            "    2.1   Revolving Credit Commitments...................................     31\n",
            "          2.1.1   Revolving Credit Loans.................................     31\n",
            "          2.1.2   Swing Loan Commitment..................................     33\n",
            "    2.2   Nature of Lenders' Obligations with Respect to Revolving Credit\n",
            "          Loans..........................................................     33\n",
            "    2.3   Commitment Fees................................................     33\n",
            "    2.4   Revolving Credit Loan Requests.................................     34\n",
            "          2.4.1   Revolving Credit Loan Requests.........................     34\n",
            "          2.4.2   Swing Loan Requests....................................     34\n",
            "    2.5   Making Revolving Credit Loans and Swing Loans; Revolving Credit\n",
            "          Notes and Swing Notes..........................................     35\n",
            "          2.5.1   Making Revolving Credit Loans..........................     35\n",
            "          2.5.2   Making Swing Loans.....................................     35\n",
            "    2.6   Revolving Credit Notes.........................................     35\n",
            "    2.7   Swing Loan Note................................................     35\n",
            "    2.8   Borrowings to Repay Swing Loans................................     36\n",
            "    2.9   Utilization of Commitments in Optional Currencies..............     36\n",
            "          2.9.1   Periodic Computations of Dollar Equivalent Amounts of\n",
            "                  Revolving Credit Loans and Letters of Credit\n",
            "                  Outstanding............................................     36\n",
            "          2.9.2   Notices From Lenders That Optional Currencies Are\n",
            "                  Unavailable to Fund New Loans..........................     36\n",
            "          2.9.3   Notices From Lenders That Optional Currencies Are\n",
            "                  Unavailable to Fund Renewals of the Euro-Rate Option...     37\n",
            "          2.9.4   European Monetary Union................................     37\n"
          ]
        }
      ]
    },
    {
      "cell_type": "markdown",
      "source": [
        "Let's keep the pages in a new data frame."
      ],
      "metadata": {
        "id": "NUe1ybTz9FMX"
      }
    },
    {
      "cell_type": "code",
      "source": [
        "pages = res.select(F.expr(\"pages.result[0] as page\"))\n",
        "pages.show()"
      ],
      "metadata": {
        "colab": {
          "base_uri": "https://localhost:8080/"
        },
        "id": "jgqSVtRe9Jv1",
        "outputId": "49e08b15-52ed-4d64-ad63-5eb5551a3fd4"
      },
      "execution_count": 11,
      "outputs": [
        {
          "output_type": "stream",
          "name": "stdout",
          "text": [
            "+--------------------+\n",
            "|                page|\n",
            "+--------------------+\n",
            "|Exhibit 10.1\n",
            "\n",
            "   ...|\n",
            "|TABLE OF CONTENTS...|\n",
            "|TABLE OF CONTENTS...|\n",
            "|TABLE OF CONTENTS...|\n",
            "|TABLE OF CONTENTS...|\n",
            "|TABLE OF CONTENTS...|\n",
            "|TABLE OF CONTENTS...|\n",
            "|LIST OF SCHEDULES...|\n",
            "|CREDIT AGREEMENT\n",
            "...|\n",
            "|AUGMENTING LENDER...|\n",
            "|BUSINESS DAY shal...|\n",
            "|COMPLIANCE CERTIF...|\n",
            "|immediately prece...|\n",
            "|DECLINED SHARE sh...|\n",
            "|or directives iss...|\n",
            "|EURO-RATE shall m...|\n",
            "|Administrative Ag...|\n",
            "|EURO-RATE OPTION ...|\n",
            "|rate as quoted by...|\n",
            "|XXXXXXX NOTE shal...|\n",
            "+--------------------+\n",
            "only showing top 20 rows\n",
            "\n"
          ]
        }
      ]
    },
    {
      "cell_type": "code",
      "source": [
        "pages.limit(1).show(truncate=False)"
      ],
      "metadata": {
        "colab": {
          "base_uri": "https://localhost:8080/"
        },
        "id": "zhRdfxhj9mR6",
        "outputId": "397e6e13-a679-450f-9b80-d661e3c0982e"
      },
      "execution_count": 12,
      "outputs": [
        {
          "output_type": "stream",
          "name": "stdout",
          "text": [
            "+--------------------------------------------------------------------------------------------------------------------------------------------------------------------------------------------------------------------------------------------------------------------------------------------------------------------------------------------------------------------------------------------------------------------------------------------------------------------------------------------------------------------------------------------------------------------------------------------------------------------------------------------------------------------------------------------------------------------------------------------------------------------------------------------------------------------------------------------------------------------------------------------------------------------------------------------------------------------------------------------------------------------------------------------------------------------------------------------------------------------------------------------------------------------------------------------------------------------------------------------------------------------------------------------------------------------------------------------------------------------------------------------------------------------------------------------------------------------------------------------------------------------------------------------------------------------------------------------------------------------------------------------------------------------------------------------------------------------------------------------------------------------------------------------------------------------------------------------------------------------------------------------------------------------------------------------------------------------------------------------------------------------------------------------------------------------------------------------------------------------------------------------------------------------------------------------------------------------------------------------------------------------------------------------------------------------------------------------------------------------------------------------------------------------------------------------------------------------------------------------------------------------------------------------------------------------------------------------------------------------------------------------------------------------------------------------------------------------------------------------------------------------------------------------------------------------------------------------------------------------------------------------------------------------------------------------------------------------------------------------------------------------------------------------------------------------------------------------------------------------------------------------------------------------------------------------------------------------------------------------------------------------------------------------------------------------------------------------------------------------------------------------------------------------------------------------------------------------------------------------------------------------------------------------------------------------------------------------------------------------------------------------------------------------------------------------------------------------------------------------------------------------------------------------------------------------------------------------------------------------------------------------------------------------------------------------------------------------------------------------------------------------------------------------------------------------------------------------------------------------------------------------------------------------------------------------------------------------------------------------------------------------------------------------------------------------------------------------------------------------------------------------------------------------------------------------------------------------------------------------------------------------------------------------------------------------------------------------------------------------------------------------------------------------------------------------------------------+\n",
            "|page                                                                                                                                                                                                                                                                                                                                                                                                                                                                                                                                                                                                                                                                                                                                                                                                                                                                                                                                                                                                                                                                                                                                                                                                                                                                                                                                                                                                                                                                                                                                                                                                                                                                                                                                                                                                                                                                                                                                                                                                                                                                                                                                                                                                                                                                                                                                                                                                                                                                                                                                                                                                                                                                                                                                                                                                                                                                                                                                                                                                                                                                                                                                                                                                                                                                                                                                                                                                                                                                                                                                                                                                                                                                                                                                                                                                                                                                                                                                                                                                                                                                                                                                                                                                                                                                                                                                                                                                                                                                                                                                                                                                                                                                                                          |\n",
            "+--------------------------------------------------------------------------------------------------------------------------------------------------------------------------------------------------------------------------------------------------------------------------------------------------------------------------------------------------------------------------------------------------------------------------------------------------------------------------------------------------------------------------------------------------------------------------------------------------------------------------------------------------------------------------------------------------------------------------------------------------------------------------------------------------------------------------------------------------------------------------------------------------------------------------------------------------------------------------------------------------------------------------------------------------------------------------------------------------------------------------------------------------------------------------------------------------------------------------------------------------------------------------------------------------------------------------------------------------------------------------------------------------------------------------------------------------------------------------------------------------------------------------------------------------------------------------------------------------------------------------------------------------------------------------------------------------------------------------------------------------------------------------------------------------------------------------------------------------------------------------------------------------------------------------------------------------------------------------------------------------------------------------------------------------------------------------------------------------------------------------------------------------------------------------------------------------------------------------------------------------------------------------------------------------------------------------------------------------------------------------------------------------------------------------------------------------------------------------------------------------------------------------------------------------------------------------------------------------------------------------------------------------------------------------------------------------------------------------------------------------------------------------------------------------------------------------------------------------------------------------------------------------------------------------------------------------------------------------------------------------------------------------------------------------------------------------------------------------------------------------------------------------------------------------------------------------------------------------------------------------------------------------------------------------------------------------------------------------------------------------------------------------------------------------------------------------------------------------------------------------------------------------------------------------------------------------------------------------------------------------------------------------------------------------------------------------------------------------------------------------------------------------------------------------------------------------------------------------------------------------------------------------------------------------------------------------------------------------------------------------------------------------------------------------------------------------------------------------------------------------------------------------------------------------------------------------------------------------------------------------------------------------------------------------------------------------------------------------------------------------------------------------------------------------------------------------------------------------------------------------------------------------------------------------------------------------------------------------------------------------------------------------------------------------------------------------------------+\n",
            "|Exhibit 10.1\n",
            "\n",
            "                                                                  EXECUTION COPY\n",
            "\n",
            "                    $225,000,000.00 REVOLVING CREDIT FACILITY\n",
            "\n",
            "                                CREDIT AGREEMENT\n",
            "\n",
            "                                  by and among\n",
            "\n",
            "                             P.H. GLATFELTER COMPANY\n",
            "\n",
            "                                       and\n",
            "\n",
            "                    Certain of its Subsidiaries, as Borrowers\n",
            "\n",
            "                                       and\n",
            "\n",
            "                       THE BANKS PARTY HERETO, as Lenders\n",
            "\n",
            "                                       and\n",
            "\n",
            "             PNC BANK, NATIONAL ASSOCIATION, as Administrative Agent\n",
            "\n",
            "                                      with\n",
            "\n",
            "           PNC CAPITAL MARKETS LLC and CITIZENS BANK OF PENNSYLVANIA,\n",
            "\n",
            "                  as Joint Lead Arrangers and Joint Bookrunners\n",
            "\n",
            "                                       and\n",
            "\n",
            "               CITIZENS BANK OF PENNSYLVANIA, as Syndication Agent\n",
            "\n",
            "                           Dated as of April 29, 2010\n",
            "\n",
            "\n",
            "\n",
            "                                TABLE OF CONTENTS\n",
            "\n",
            "\n",
            "\n",
            "Section                                                                     Page\n",
            "-------                                                                     ----\n",
            "                                                                         \n",
            "1.  CERTAIN DEFINITIONS..................................................      1\n",
            "    1.1   Certain Definitions............................................      1\n",
            "    1.2   Construction...................................................     28\n",
            "          1.2.1   Number; Inclusion......................................     28\n",
            "          1.2.2   Determination..........................................     28\n",
            "          1.2.3   Administrative Agent's Discretion and Consent..........     28\n",
            "          1.2.4   Documents Taken as a Whole.............................     28\n",
            "          1.2.5   Headings...............................................     29\n",
            "          1.2.6   Implied References to this Agreement...................     29\n",
            "          1.2.7   Persons................................................     29\n",
            "          1.2.8   Modifications to Documents.............................     29\n",
            "          1.2.9   From, To and Through...................................     29\n",
            "          1.2.10  Shall; Will............................................     29\n",
            "          1.2.11  Quebec Matters.........................................     29\n",
            "    1.3   Accounting Principles..........................................     30\n",
            "2.  REVOLVING CREDIT AND SWING LOAN FACILITIES...........................     31\n",
            "    2.1   Revolving Credit Commitments...................................     31\n",
            "          2.1.1   Revolving Credit Loans.................................     31\n",
            "          2.1.2   Swing Loan Commitment..................................     33\n",
            "    2.2   Nature of Lenders' Obligations with Respect to Revolving Credit\n",
            "          Loans..........................................................     33\n",
            "    2.3   Commitment Fees................................................     33\n",
            "    2.4   Revolving Credit Loan Requests.................................     34\n",
            "          2.4.1   Revolving Credit Loan Requests.........................     34\n",
            "          2.4.2   Swing Loan Requests....................................     34\n",
            "    2.5   Making Revolving Credit Loans and Swing Loans; Revolving Credit\n",
            "          Notes and Swing Notes..........................................     35\n",
            "          2.5.1   Making Revolving Credit Loans..........................     35\n",
            "          2.5.2   Making Swing Loans.....................................     35\n",
            "    2.6   Revolving Credit Notes.........................................     35\n",
            "    2.7   Swing Loan Note................................................     35\n",
            "    2.8   Borrowings to Repay Swing Loans................................     36\n",
            "    2.9   Utilization of Commitments in Optional Currencies..............     36\n",
            "          2.9.1   Periodic Computations of Dollar Equivalent Amounts of\n",
            "                  Revolving Credit Loans and Letters of Credit\n",
            "                  Outstanding............................................     36\n",
            "          2.9.2   Notices From Lenders That Optional Currencies Are\n",
            "                  Unavailable to Fund New Loans..........................     36\n",
            "          2.9.3   Notices From Lenders That Optional Currencies Are\n",
            "                  Unavailable to Fund Renewals of the Euro-Rate Option...     37\n",
            "          2.9.4   European Monetary Union................................     37|\n",
            "+--------------------------------------------------------------------------------------------------------------------------------------------------------------------------------------------------------------------------------------------------------------------------------------------------------------------------------------------------------------------------------------------------------------------------------------------------------------------------------------------------------------------------------------------------------------------------------------------------------------------------------------------------------------------------------------------------------------------------------------------------------------------------------------------------------------------------------------------------------------------------------------------------------------------------------------------------------------------------------------------------------------------------------------------------------------------------------------------------------------------------------------------------------------------------------------------------------------------------------------------------------------------------------------------------------------------------------------------------------------------------------------------------------------------------------------------------------------------------------------------------------------------------------------------------------------------------------------------------------------------------------------------------------------------------------------------------------------------------------------------------------------------------------------------------------------------------------------------------------------------------------------------------------------------------------------------------------------------------------------------------------------------------------------------------------------------------------------------------------------------------------------------------------------------------------------------------------------------------------------------------------------------------------------------------------------------------------------------------------------------------------------------------------------------------------------------------------------------------------------------------------------------------------------------------------------------------------------------------------------------------------------------------------------------------------------------------------------------------------------------------------------------------------------------------------------------------------------------------------------------------------------------------------------------------------------------------------------------------------------------------------------------------------------------------------------------------------------------------------------------------------------------------------------------------------------------------------------------------------------------------------------------------------------------------------------------------------------------------------------------------------------------------------------------------------------------------------------------------------------------------------------------------------------------------------------------------------------------------------------------------------------------------------------------------------------------------------------------------------------------------------------------------------------------------------------------------------------------------------------------------------------------------------------------------------------------------------------------------------------------------------------------------------------------------------------------------------------------------------------------------------------------------------------------------------------------------------------------------------------------------------------------------------------------------------------------------------------------------------------------------------------------------------------------------------------------------------------------------------------------------------------------------------------------------------------------------------------------------------------------------------------------------------------------------------------------------------------+\n",
            "\n"
          ]
        }
      ]
    },
    {
      "cell_type": "markdown",
      "source": [
        "### Classifying each page"
      ],
      "metadata": {
        "id": "34ewxc2QSVih"
      }
    },
    {
      "cell_type": "markdown",
      "source": [
        "We will use a few pretrained binary classifier models to try to identify clause types in each page. We will also replace all `\\n` (linebreak) from the pages' text to avoid extra tokenization (we keep the cleaned text in the column `page_clean`)."
      ],
      "metadata": {
        "id": "3vlcan-ASV09"
      }
    },
    {
      "cell_type": "code",
      "source": [
        "pages = pages.withColumn(\"page_clean\", F.regexp_replace(\"page\", \"\\s+\", \" \"))\n",
        "pages.limit(1).select(\"page_clean\").show(truncate=150)"
      ],
      "metadata": {
        "colab": {
          "base_uri": "https://localhost:8080/"
        },
        "id": "-7qvMVqh9Pme",
        "outputId": "0601140f-0699-4941-8f0e-ac1f08cccbcf"
      },
      "execution_count": 13,
      "outputs": [
        {
          "output_type": "stream",
          "name": "stdout",
          "text": [
            "+------------------------------------------------------------------------------------------------------------------------------------------------------+\n",
            "|                                                                                                                                            page_clean|\n",
            "+------------------------------------------------------------------------------------------------------------------------------------------------------+\n",
            "|Exhibit 10.1 EXECUTION COPY $225,000,000.00 REVOLVING CREDIT FACILITY CREDIT AGREEMENT by and among P.H. GLATFELTER COMPANY and Certain of its Subs...|\n",
            "+------------------------------------------------------------------------------------------------------------------------------------------------------+\n",
            "\n"
          ]
        }
      ]
    },
    {
      "cell_type": "code",
      "source": [
        "document_assembler = (\n",
        "    nlp.DocumentAssembler().setInputCol(\"page_clean\").setOutputCol(\"document\")\n",
        ")\n",
        "\n",
        "embeddings = (\n",
        "    nlp.BertSentenceEmbeddings.pretrained(\"sent_bert_base_cased\", \"en\")\n",
        "    .setInputCols(\"document\")\n",
        "    .setOutputCol(\"sentence_embeddings\")\n",
        ")\n",
        "\n",
        "whereas_classifier = (\n",
        "    legal.ClassifierDLModel.pretrained(\n",
        "        \"legclf_cuad_whereas_clause\", \"en\", \"legal/models\"\n",
        "    )\n",
        "    .setInputCols([\"sentence_embeddings\"])\n",
        "    .setOutputCol(\"is_whereas\")\n",
        ")\n",
        "\n",
        "warranty_classifier = (\n",
        "    legal.ClassifierDLModel.pretrained(\n",
        "        \"legclf_cuad_warranty_clause\", \"en\", \"legal/models\"\n",
        "    )\n",
        "    .setInputCols([\"sentence_embeddings\"])\n",
        "    .setOutputCol(\"is_warranty\")\n",
        ")\n",
        "\n",
        "termination_classifier = (\n",
        "    legal.ClassifierDLModel.pretrained(\"legclf_termination_md\", \"en\", \"legal/models\")\n",
        "    .setInputCols([\"sentence_embeddings\"])\n",
        "    .setOutputCol(\"is_termination\")\n",
        ")\n",
        "\n",
        "\n",
        "pipeline = nlp.Pipeline(\n",
        "    stages=[\n",
        "        document_assembler,\n",
        "        embeddings,\n",
        "        whereas_classifier,\n",
        "        warranty_classifier,\n",
        "        termination_classifier,\n",
        "    ]\n",
        ")\n",
        "\n",
        "model = pipeline.fit(spark.createDataFrame([[\"\"]]).toDF(\"text\"))"
      ],
      "metadata": {
        "colab": {
          "base_uri": "https://localhost:8080/"
        },
        "id": "0f57LpGxShVj",
        "outputId": "0eae097a-0fe5-4802-8179-6ab4fea616b9"
      },
      "execution_count": 14,
      "outputs": [
        {
          "output_type": "stream",
          "name": "stdout",
          "text": [
            "sent_bert_base_cased download started this may take some time.\n",
            "Approximate size to download 389.1 MB\n",
            "[OK!]\n",
            "legclf_cuad_whereas_clause download started this may take some time.\n",
            "[OK!]\n",
            "legclf_cuad_warranty_clause download started this may take some time.\n",
            "[OK!]\n",
            "legclf_termination_md download started this may take some time.\n",
            "[OK!]\n"
          ]
        }
      ]
    },
    {
      "cell_type": "code",
      "source": [
        "result = model.transform(pages)\n",
        "result.select(\n",
        "    F.expr(\"is_whereas.result as whereas\"),\n",
        "    F.expr(\"is_warranty.result as survival\"),\n",
        "    F.expr(\"is_termination.result as termination\"),\n",
        ").show()"
      ],
      "metadata": {
        "colab": {
          "base_uri": "https://localhost:8080/"
        },
        "id": "LHRhEHslShOx",
        "outputId": "78768afd-8820-472c-8a86-638ce7136d5e"
      },
      "execution_count": 15,
      "outputs": [
        {
          "output_type": "stream",
          "name": "stdout",
          "text": [
            "+---------+----------+-----------+\n",
            "|  whereas|  survival|termination|\n",
            "+---------+----------+-----------+\n",
            "|[whereas]|   [other]|    [other]|\n",
            "|  [other]|   [other]|    [other]|\n",
            "|  [other]|   [other]|    [other]|\n",
            "|  [other]|[warranty]|    [other]|\n",
            "|  [other]|   [other]|    [other]|\n",
            "|  [other]|   [other]|    [other]|\n",
            "|  [other]|   [other]|    [other]|\n",
            "|  [other]|   [other]|    [other]|\n",
            "|[whereas]|   [other]|    [other]|\n",
            "|  [other]|   [other]|    [other]|\n",
            "|  [other]|   [other]|    [other]|\n",
            "|  [other]|   [other]|    [other]|\n",
            "|  [other]|   [other]|    [other]|\n",
            "|  [other]|   [other]|    [other]|\n",
            "|  [other]|   [other]|    [other]|\n",
            "|  [other]|   [other]|    [other]|\n",
            "|  [other]|   [other]|    [other]|\n",
            "|  [other]|   [other]|    [other]|\n",
            "|  [other]|   [other]|    [other]|\n",
            "|  [other]|   [other]|    [other]|\n",
            "+---------+----------+-----------+\n",
            "only showing top 20 rows\n",
            "\n"
          ]
        }
      ]
    },
    {
      "cell_type": "markdown",
      "source": [
        "How many survival clauses on pages?"
      ],
      "metadata": {
        "id": "ec1SGDQCCDZQ"
      }
    },
    {
      "cell_type": "code",
      "source": [
        "result.select(F.expr(\"is_whereas.result[0] as whereas\")).filter(\n",
        "    \"whereas != 'other'\"\n",
        ").count()"
      ],
      "metadata": {
        "colab": {
          "base_uri": "https://localhost:8080/"
        },
        "id": "GPEboBpQCGtn",
        "outputId": "32603153-414f-49ba-ea2f-bee25709dc4c"
      },
      "execution_count": 16,
      "outputs": [
        {
          "output_type": "execute_result",
          "data": {
            "text/plain": [
              "3"
            ]
          },
          "metadata": {},
          "execution_count": 16
        }
      ]
    },
    {
      "cell_type": "code",
      "source": [
        "result.filter(\"is_whereas.result[0] == 'whereas'\").select(\n",
        "    \"page_clean\", F.expr(\"is_whereas.result[0] as whereas\")\n",
        ").show(3, truncate=80)"
      ],
      "metadata": {
        "colab": {
          "base_uri": "https://localhost:8080/"
        },
        "id": "tqiI_0HjShMV",
        "outputId": "658d03a9-c11e-4598-8982-e310496b8d5e"
      },
      "execution_count": 17,
      "outputs": [
        {
          "output_type": "stream",
          "name": "stdout",
          "text": [
            "+--------------------------------------------------------------------------------+-------+\n",
            "|                                                                      page_clean|whereas|\n",
            "+--------------------------------------------------------------------------------+-------+\n",
            "|Exhibit 10.1 EXECUTION COPY $225,000,000.00 REVOLVING CREDIT FACILITY CREDIT ...|whereas|\n",
            "|CREDIT AGREEMENT THIS CREDIT AGREEMENT is dated as of April 29, 2010, and is ...|whereas|\n",
            "|ANY KIND ARISING OUT OF OR RELATED TO THIS AGREEMENT OR ANY OTHER LOAN DOCUME...|whereas|\n",
            "+--------------------------------------------------------------------------------+-------+\n",
            "\n"
          ]
        }
      ]
    },
    {
      "cell_type": "markdown",
      "source": [
        "How many warranty clauses on pages?"
      ],
      "metadata": {
        "id": "MS4CGxtVucxC"
      }
    },
    {
      "cell_type": "code",
      "source": [
        "result.select(F.expr(\"is_warranty.result[0] as warranty\")).filter(\n",
        "    \"warranty != 'other'\"\n",
        ").count()"
      ],
      "metadata": {
        "colab": {
          "base_uri": "https://localhost:8080/"
        },
        "id": "aGzU7GMnuhqd",
        "outputId": "fdf6712f-72b1-436c-bd4f-b24721cc3ef0"
      },
      "execution_count": 18,
      "outputs": [
        {
          "output_type": "execute_result",
          "data": {
            "text/plain": [
              "9"
            ]
          },
          "metadata": {},
          "execution_count": 18
        }
      ]
    },
    {
      "cell_type": "code",
      "source": [
        "result.filter(\"is_warranty.result[0] == 'warranty'\").select(\n",
        "    \"page_clean\", F.expr(\"is_warranty.result[0] as warranty\")\n",
        ").show(9, truncate=80)"
      ],
      "metadata": {
        "colab": {
          "base_uri": "https://localhost:8080/"
        },
        "id": "eMXvU51DxHTE",
        "outputId": "f0b494e9-26c1-4351-ea1a-07ae062a41bb"
      },
      "execution_count": 19,
      "outputs": [
        {
          "output_type": "stream",
          "name": "stdout",
          "text": [
            "+--------------------------------------------------------------------------------+--------+\n",
            "|                                                                      page_clean|warranty|\n",
            "+--------------------------------------------------------------------------------+--------+\n",
            "|TABLE OF CONTENTS Section Page ------- ---- 5.1.14 Patents, Trademarks, Copyr...|warranty|\n",
            "|Document as a whole and not to any particular provision of this Agreement or ...|warranty|\n",
            "|(v) the lack of power or authority of any signer of (or any defect in or forg...|warranty|\n",
            "|such taxes, fees, assessments and other charges are being contested in good f...|warranty|\n",
            "|5.1.16 COMPLIANCE WITH LAWS. The Loan Parties and their Subsidiaries are in c...|warranty|\n",
            "|(ii) To the best of the Loan Parties' knowledge, each Multiemployer Plan and ...|warranty|\n",
            "|9.18 NO RELIANCE ON ADMINISTRATIVE AGENT'S CUSTOMER IDENTIFICATION PROGRAM. E...|warranty|\n",
            "|ANY KIND ARISING OUT OF OR RELATED TO THIS AGREEMENT OR ANY OTHER LOAN DOCUME...|warranty|\n",
            "|COBANK, ACB, as a Lender By: /s/ Xxxxxxx X. Norte ---------------------------...|warranty|\n",
            "+--------------------------------------------------------------------------------+--------+\n",
            "\n"
          ]
        }
      ]
    },
    {
      "cell_type": "markdown",
      "source": [
        "How many termination clauses on pages?"
      ],
      "metadata": {
        "id": "adSRWNWouh8P"
      }
    },
    {
      "cell_type": "code",
      "source": [
        "result.select(F.expr(\"is_termination.result[0] as termination\")).filter(\n",
        "    \"termination != 'other'\"\n",
        ").count()"
      ],
      "metadata": {
        "colab": {
          "base_uri": "https://localhost:8080/"
        },
        "id": "7yaQUQGSuiQR",
        "outputId": "184e8fa3-c253-4796-e776-0481fd53dbfb"
      },
      "execution_count": 20,
      "outputs": [
        {
          "output_type": "execute_result",
          "data": {
            "text/plain": [
              "7"
            ]
          },
          "metadata": {},
          "execution_count": 20
        }
      ]
    },
    {
      "cell_type": "code",
      "source": [
        "result.filter(\"is_termination.result[0] == 'termination'\").select(\n",
        "    \"page_clean\", F.expr(\"is_termination.result[0] as termination\")\n",
        ").show(7, truncate=80)"
      ],
      "metadata": {
        "colab": {
          "base_uri": "https://localhost:8080/"
        },
        "id": "QZDZC3QXxQD-",
        "outputId": "bd7c285f-04c9-419a-db88-b41dfecf8150"
      },
      "execution_count": 21,
      "outputs": [
        {
          "output_type": "stream",
          "name": "stdout",
          "text": [
            "+--------------------------------------------------------------------------------+-----------+\n",
            "|                                                                      page_clean|termination|\n",
            "+--------------------------------------------------------------------------------+-----------+\n",
            "|Fees shall be payable quarterly in arrears on the first day of each July, Oct...|termination|\n",
            "|the calculation of Equivalent Amounts which thereafter are actually in effect...|termination|\n",
            "|certificate to the other Lenders and the Borrowers. Upon such date as shall b...|termination|\n",
            "|normal banking procedures each Lender could purchase the Original Currency wi...|termination|\n",
            "|7.1.12 GERMAN AND ENGLISH BORROWERS. On or before the Closing Date, and such ...|termination|\n",
            "|(H) the Loan Parties shall deliver to the Administrative Agent at least five ...|termination|\n",
            "|8.1.4 BREACH OF OTHER COVENANTS. Any of the Loan Parties shall default in the...|termination|\n",
            "+--------------------------------------------------------------------------------+-----------+\n",
            "\n"
          ]
        }
      ]
    },
    {
      "cell_type": "markdown",
      "metadata": {
        "id": "vvvv93e2YJNl"
      },
      "source": [
        "### Identifying Entities in Whereas Clauses"
      ]
    },
    {
      "cell_type": "markdown",
      "source": [
        "Now that we found the clauses in each page, we select one NER model to identify the entities present in the `whereas` clauses. Our pretrained model can identify the following entities:\n",
        "\n",
        "- `WHEREAS_SUBJECT`\n",
        "- `WHEREAS_OBJECT`\n",
        "- `WHEREAS_ACTION`\n",
        "\n",
        "We will filter the whereas clauses and extract them as raw text, so we can build a new pipeline from scratch. \n",
        "\n",
        "> Note: The model was trained with `Roberta Embeddings` instead of `Bert`.\n",
        "\n",
        "In addition to these entities, we will also use other models to identify person, organization, location, and dates. We can use the `ChunkMergeApproach` to merge two NER chunks in an unified field, containing all the entities."
      ],
      "metadata": {
        "id": "rt-7A1iPj2XS"
      }
    },
    {
      "cell_type": "code",
      "execution_count": 22,
      "metadata": {
        "id": "VCZa88JZYJNm",
        "colab": {
          "base_uri": "https://localhost:8080/"
        },
        "outputId": "fc5e7883-e670-4881-9ad7-d7d7511bdf2b"
      },
      "outputs": [
        {
          "output_type": "stream",
          "name": "stdout",
          "text": [
            "w2v_cc_300d download started this may take some time.\n",
            "Approximate size to download 1.2 GB\n",
            "[OK!]\n",
            "roberta_embeddings_legal_roberta_base download started this may take some time.\n",
            "Approximate size to download 447.2 MB\n",
            "[OK!]\n",
            "legner_whereas_md download started this may take some time.\n",
            "[OK!]\n",
            "legner_cuad_silver download started this may take some time.\n",
            "[OK!]\n"
          ]
        }
      ],
      "source": [
        "document_assembler = (\n",
        "    nlp.DocumentAssembler().setInputCol(\"page_clean\").setOutputCol(\"document\")\n",
        ")\n",
        "\n",
        "page_sentence_detector = (\n",
        "    nlp.SentenceDetector().setInputCols([\"document\"]).setOutputCol(\"page_sentence\")\n",
        ")\n",
        "\n",
        "tokenizer = nlp.Tokenizer().setInputCols([\"page_sentence\"]).setOutputCol(\"token\")\n",
        "\n",
        "embeddings = (\n",
        "    nlp.WordEmbeddingsModel.pretrained(\"w2v_cc_300d\", \"en\")\n",
        "    .setInputCols([\"page_sentence\", \"token\"])\n",
        "    .setOutputCol(\"embeddings\")\n",
        ")\n",
        "\n",
        "roberta_embeddings = (\n",
        "    nlp.RoBertaEmbeddings.pretrained(\"roberta_embeddings_legal_roberta_base\", \"en\")\n",
        "    .setInputCols([\"page_sentence\", \"token\"])\n",
        "    .setOutputCol(\"roberta\")\n",
        "    .setMaxSentenceLength(512)\n",
        ")\n",
        "\n",
        "ner_whereas = (\n",
        "    legal.NerModel.pretrained(\"legner_whereas_md\", \"en\", \"legal/models\")\n",
        "    .setInputCols([\"page_sentence\", \"token\", \"roberta\"])\n",
        "    .setOutputCol(\"ner_whereas\")\n",
        ")\n",
        "\n",
        "ner_converter_whereas = (\n",
        "    legal.NerConverterInternal()\n",
        "    .setInputCols([\"page_sentence\", \"token\", \"ner_whereas\"])\n",
        "    .setOutputCol(\"ner_chunk_whereas\")\n",
        ")\n",
        "\n",
        "ner_generic = (\n",
        "    legal.NerModel.pretrained(\"legner_cuad_silver\", \"en\", \"legal/models\")\n",
        "\t\t.setInputCols([\"page_sentence\", \"token\", \"embeddings\"])\n",
        "\t\t.setOutputCol(\"ner_generic\")\n",
        ")\n",
        "\n",
        "ner_converter_generic = (\n",
        "    legal.NerConverterInternal()\n",
        "    .setInputCols([\"page_sentence\", \"token\", \"ner_generic\"])\n",
        "    .setOutputCol(\"ner_chunk_generic\")\n",
        ")\n",
        "\n",
        "chunk_merge = (\n",
        "    legal.ChunkMergeApproach()\n",
        "    .setInputCols(\"ner_chunk_whereas\", \"ner_chunk_generic\")\n",
        "    .setOutputCol(\"merged_chunk\")\n",
        ")\n",
        "\n",
        "ner_pipeline = nlp.Pipeline(\n",
        "    stages=[\n",
        "        document_assembler,\n",
        "        page_sentence_detector,\n",
        "        tokenizer,\n",
        "        embeddings,\n",
        "        roberta_embeddings,\n",
        "        ner_whereas,\n",
        "        ner_converter_whereas,\n",
        "        ner_generic,\n",
        "        ner_converter_generic,\n",
        "        chunk_merge\n",
        "    ]\n",
        ")\n",
        "ner_model = ner_pipeline.fit(spark.createDataFrame([[\"\"]]).toDF(\"page_clean\"))"
      ]
    },
    {
      "cell_type": "code",
      "source": [
        "example_clauses = result.filter(\"is_whereas.result[0] == 'whereas'\").select(\n",
        "    \"page_clean\"\n",
        ")\n",
        "print(example_clauses.columns)\n",
        "example_clauses.show(1)"
      ],
      "metadata": {
        "colab": {
          "base_uri": "https://localhost:8080/"
        },
        "id": "BtLzjRGMcoa8",
        "outputId": "5b5e691f-0a11-4b89-e0e5-e41410a33e61"
      },
      "execution_count": 23,
      "outputs": [
        {
          "output_type": "stream",
          "name": "stdout",
          "text": [
            "['page_clean']\n",
            "+--------------------+\n",
            "|          page_clean|\n",
            "+--------------------+\n",
            "|Exhibit 10.1 EXEC...|\n",
            "+--------------------+\n",
            "only showing top 1 row\n",
            "\n"
          ]
        }
      ]
    },
    {
      "cell_type": "code",
      "source": [
        "ner_results = ner_model.transform(example_clauses)"
      ],
      "metadata": {
        "id": "jwCHOza-dVvo"
      },
      "execution_count": 24,
      "outputs": []
    },
    {
      "cell_type": "code",
      "source": [
        "ner_results.select(\n",
        "    F.explode(F.arrays_zip(ner_results.merged_chunk.result, ner_results.merged_chunk.metadata)).alias(\n",
        "        \"cols\"\n",
        "    )\n",
        ").select(\n",
        "    F.expr(\"cols['0']\").alias(\"chunk\"),\n",
        "    F.expr(\"cols['1']['entity']\").alias(\"ner_label\"),\n",
        "    F.expr(\"cols['1']['confidence']\").alias(\"confidence\"),\n",
        ").show(truncate=False)\n"
      ],
      "metadata": {
        "colab": {
          "base_uri": "https://localhost:8080/"
        },
        "id": "Ye8WHIzOfNJT",
        "outputId": "1826a75a-42d1-40cd-88ff-f02390c54f18"
      },
      "execution_count": 25,
      "outputs": [
        {
          "output_type": "stream",
          "name": "stdout",
          "text": [
            "+------------------------------------------+---------+----------+\n",
            "|chunk                                     |ner_label|confidence|\n",
            "+------------------------------------------+---------+----------+\n",
            "|EXECUTION COPY                            |DOC      |0.99565   |\n",
            "|REVOLVING CREDIT FACILITY CREDIT AGREEMENT|DOC      |0.8406199 |\n",
            "|GLATFELTER COMPANY                        |PARTY    |0.52175   |\n",
            "|PNC                                       |ORG      |0.9786    |\n",
            "|BANK                                      |ORG      |0.8284    |\n",
            "|,                                         |ORG      |0.8295    |\n",
            "|NATIONAL                                  |ORG      |0.8566    |\n",
            "|ASSOCIATION                               |ORG      |0.8572    |\n",
            "|,                                         |ORG      |0.7155    |\n",
            "|as                                        |ORG      |0.9828    |\n",
            "|Administrative                            |ORG      |0.9195    |\n",
            "|Agent                                     |ORG      |0.9157    |\n",
            "|PNC                                       |ORG      |0.9801    |\n",
            "|CAPITAL                                   |ORG      |0.4683    |\n",
            "|MARKETS                                   |ORG      |0.5409    |\n",
            "|LLC                                       |ORG      |0.5364    |\n",
            "|CITIZENS                                  |ORG      |0.8168    |\n",
            "|BANK                                      |ORG      |0.5665    |\n",
            "|OF                                        |ORG      |0.4811    |\n",
            "|PENNSYLVANIA                              |ORG      |0.6       |\n",
            "+------------------------------------------+---------+----------+\n",
            "only showing top 20 rows\n",
            "\n"
          ]
        }
      ]
    },
    {
      "cell_type": "markdown",
      "source": [
        "Using the visualization package:"
      ],
      "metadata": {
        "id": "k0agyCCJemtN"
      }
    },
    {
      "cell_type": "code",
      "source": [
        "ner_visualizer = viz.NerVisualizer()"
      ],
      "metadata": {
        "id": "sqR76cqCb9bF"
      },
      "execution_count": 26,
      "outputs": []
    },
    {
      "cell_type": "code",
      "source": [
        "results_collected = ner_results.collect()"
      ],
      "metadata": {
        "id": "ejJSVcYG2KCx"
      },
      "execution_count": 27,
      "outputs": []
    },
    {
      "cell_type": "code",
      "source": [
        "ner_visualizer.display(\n",
        "    results_collected[1], label_col=\"merged_chunk\", document_col=\"document\"\n",
        ")"
      ],
      "metadata": {
        "colab": {
          "base_uri": "https://localhost:8080/",
          "height": 1000
        },
        "id": "ypRwcazjc2Rs",
        "outputId": "f442f2f4-6536-472c-eb2b-b4bb06a1be50"
      },
      "execution_count": 28,
      "outputs": [
        {
          "output_type": "display_data",
          "data": {
            "text/plain": [
              "<IPython.core.display.HTML object>"
            ],
            "text/html": [
              "\n",
              "<style>\n",
              "    @import url('https://fonts.googleapis.com/css2?family=Montserrat:wght@300;400;500;600;700&display=swap');\n",
              "    @import url('https://fonts.googleapis.com/css2?family=Vistol Regular:wght@300;400;500;600;700&display=swap');\n",
              "    \n",
              "    .spark-nlp-display-scroll-entities {\n",
              "        border: 1px solid #E7EDF0;\n",
              "        border-radius: 3px;\n",
              "        text-align: justify;\n",
              "        \n",
              "    }\n",
              "    .spark-nlp-display-scroll-entities span {  \n",
              "        font-size: 14px;\n",
              "        line-height: 24px;\n",
              "        color: #536B76;\n",
              "        font-family: 'Montserrat', sans-serif !important;\n",
              "    }\n",
              "    \n",
              "    .spark-nlp-display-entity-wrapper{\n",
              "    \n",
              "        display: inline-grid;\n",
              "        text-align: center;\n",
              "        border-radius: 4px;\n",
              "        margin: 0 2px 5px 2px;\n",
              "        padding: 1px\n",
              "    }\n",
              "    .spark-nlp-display-entity-name{\n",
              "        font-size: 14px;\n",
              "        line-height: 24px;\n",
              "        font-family: 'Montserrat', sans-serif !important;\n",
              "        \n",
              "        background: #f1f2f3;\n",
              "        border-width: medium;\n",
              "        text-align: center;\n",
              "        \n",
              "        font-weight: 400;\n",
              "        \n",
              "        border-radius: 5px;\n",
              "        padding: 2px 5px;\n",
              "        display: block;\n",
              "        margin: 3px 2px;\n",
              "    \n",
              "    }\n",
              "    .spark-nlp-display-entity-type{\n",
              "        font-size: 14px;\n",
              "        line-height: 24px;\n",
              "        color: #ffffff;\n",
              "        font-family: 'Montserrat', sans-serif !important;\n",
              "        \n",
              "        text-transform: uppercase;\n",
              "        \n",
              "        font-weight: 500;\n",
              "\n",
              "        display: block;\n",
              "        padding: 3px 5px;\n",
              "    }\n",
              "    \n",
              "    .spark-nlp-display-entity-resolution{\n",
              "        font-size: 14px;\n",
              "        line-height: 24px;\n",
              "        color: #ffffff;\n",
              "        font-family: 'Vistol Regular', sans-serif !important;\n",
              "        \n",
              "        text-transform: uppercase;\n",
              "        \n",
              "        font-weight: 500;\n",
              "\n",
              "        display: block;\n",
              "        padding: 3px 5px;\n",
              "    }\n",
              "    \n",
              "    .spark-nlp-display-others{\n",
              "        font-size: 14px;\n",
              "        line-height: 24px;\n",
              "        font-family: 'Montserrat', sans-serif !important;\n",
              "        \n",
              "        font-weight: 400;\n",
              "    }\n",
              "\n",
              "</style>\n",
              " <span class=\"spark-nlp-display-entity-wrapper\" style=\"background-color: #26076B\"><span class=\"spark-nlp-display-entity-name\">CREDIT AGREEMENT </span><span class=\"spark-nlp-display-entity-type\">DOC</span></span><span class=\"spark-nlp-display-others\" style=\"background-color: white\"> THIS </span><span class=\"spark-nlp-display-entity-wrapper\" style=\"background-color: #26076B\"><span class=\"spark-nlp-display-entity-name\">CREDIT AGREEMENT </span><span class=\"spark-nlp-display-entity-type\">DOC</span></span><span class=\"spark-nlp-display-others\" style=\"background-color: white\"> is dated as of </span><span class=\"spark-nlp-display-entity-wrapper\" style=\"background-color: #a6b1e1\"><span class=\"spark-nlp-display-entity-name\">April </span><span class=\"spark-nlp-display-entity-type\">DATE</span></span><span class=\"spark-nlp-display-others\" style=\"background-color: white\"> </span><span class=\"spark-nlp-display-entity-wrapper\" style=\"background-color: #a6b1e1\"><span class=\"spark-nlp-display-entity-name\">29 </span><span class=\"spark-nlp-display-entity-type\">DATE</span></span><span class=\"spark-nlp-display-entity-wrapper\" style=\"background-color: #a6b1e1\"><span class=\"spark-nlp-display-entity-name\">, </span><span class=\"spark-nlp-display-entity-type\">DATE</span></span><span class=\"spark-nlp-display-others\" style=\"background-color: white\"> </span><span class=\"spark-nlp-display-entity-wrapper\" style=\"background-color: #a6b1e1\"><span class=\"spark-nlp-display-entity-name\">2010 </span><span class=\"spark-nlp-display-entity-type\">DATE</span></span><span class=\"spark-nlp-display-others\" style=\"background-color: white\">, and is made by and among P.H. </span><span class=\"spark-nlp-display-entity-wrapper\" style=\"background-color: #583361\"><span class=\"spark-nlp-display-entity-name\">GLATFELTER </span><span class=\"spark-nlp-display-entity-type\">ORG</span></span><span class=\"spark-nlp-display-others\" style=\"background-color: white\"> </span><span class=\"spark-nlp-display-entity-wrapper\" style=\"background-color: #583361\"><span class=\"spark-nlp-display-entity-name\">COMPANY </span><span class=\"spark-nlp-display-entity-type\">ORG</span></span><span class=\"spark-nlp-display-others\" style=\"background-color: white\">, a </span><span class=\"spark-nlp-display-entity-wrapper\" style=\"background-color: #C42F75\"><span class=\"spark-nlp-display-entity-name\">Pennsylvania </span><span class=\"spark-nlp-display-entity-type\">LOC</span></span><span class=\"spark-nlp-display-others\" style=\"background-color: white\"> corporation ( </span><span class=\"spark-nlp-display-entity-wrapper\" style=\"background-color: #583361\"><span class=\"spark-nlp-display-entity-name\">the </span><span class=\"spark-nlp-display-entity-type\">ORG</span></span><span class=\"spark-nlp-display-others\" style=\"background-color: white\"> </span><span class=\"spark-nlp-display-entity-wrapper\" style=\"background-color: #583361\"><span class=\"spark-nlp-display-entity-name\">\" </span><span class=\"spark-nlp-display-entity-type\">ORG</span></span><span class=\"spark-nlp-display-entity-wrapper\" style=\"background-color: #583361\"><span class=\"spark-nlp-display-entity-name\">COMPANY </span><span class=\"spark-nlp-display-entity-type\">ORG</span></span><span class=\"spark-nlp-display-entity-wrapper\" style=\"background-color: #583361\"><span class=\"spark-nlp-display-entity-name\">\") </span><span class=\"spark-nlp-display-entity-type\">ORG</span></span><span class=\"spark-nlp-display-others\" style=\"background-color: white\"> and certain of its subsidiaries identified on the signature pages hereto (each a \"</span><span class=\"spark-nlp-display-entity-wrapper\" style=\"background-color: #C69843\"><span class=\"spark-nlp-display-entity-name\">BORROWER </span><span class=\"spark-nlp-display-entity-type\">ROLE</span></span><span class=\"spark-nlp-display-others\" style=\"background-color: white\">\" and collectively, the \"BORROWERS\"), each of the GUARANTORS (as hereinafter defined), the LENDERS (as hereinafter defined), </span><span class=\"spark-nlp-display-entity-wrapper\" style=\"background-color: #583361\"><span class=\"spark-nlp-display-entity-name\">PNC </span><span class=\"spark-nlp-display-entity-type\">ORG</span></span><span class=\"spark-nlp-display-others\" style=\"background-color: white\"> </span><span class=\"spark-nlp-display-entity-wrapper\" style=\"background-color: #583361\"><span class=\"spark-nlp-display-entity-name\">BANK </span><span class=\"spark-nlp-display-entity-type\">ORG</span></span><span class=\"spark-nlp-display-entity-wrapper\" style=\"background-color: #583361\"><span class=\"spark-nlp-display-entity-name\">, </span><span class=\"spark-nlp-display-entity-type\">ORG</span></span><span class=\"spark-nlp-display-others\" style=\"background-color: white\"> </span><span class=\"spark-nlp-display-entity-wrapper\" style=\"background-color: #583361\"><span class=\"spark-nlp-display-entity-name\">NATIONAL </span><span class=\"spark-nlp-display-entity-type\">ORG</span></span><span class=\"spark-nlp-display-others\" style=\"background-color: white\"> </span><span class=\"spark-nlp-display-entity-wrapper\" style=\"background-color: #583361\"><span class=\"spark-nlp-display-entity-name\">ASSOCIATION </span><span class=\"spark-nlp-display-entity-type\">ORG</span></span><span class=\"spark-nlp-display-entity-wrapper\" style=\"background-color: #583361\"><span class=\"spark-nlp-display-entity-name\">, </span><span class=\"spark-nlp-display-entity-type\">ORG</span></span><span class=\"spark-nlp-display-others\" style=\"background-color: white\"> in its capacity as agent for the Lenders under this </span><span class=\"spark-nlp-display-entity-wrapper\" style=\"background-color: #26076B\"><span class=\"spark-nlp-display-entity-name\">Agreement </span><span class=\"spark-nlp-display-entity-type\">DOC</span></span><span class=\"spark-nlp-display-others\" style=\"background-color: white\"> (hereinafter referred to in such capacity as the \"ADMINISTRATIVE AGENT\"), and, for the limited purpose of public identification in trade tables, </span><span class=\"spark-nlp-display-entity-wrapper\" style=\"background-color: #190BB1\"><span class=\"spark-nlp-display-entity-name\">PNC CAPITAL MARKETS LLC </span><span class=\"spark-nlp-display-entity-type\">PARTY</span></span><span class=\"spark-nlp-display-others\" style=\"background-color: white\"> and </span><span class=\"spark-nlp-display-entity-wrapper\" style=\"background-color: #583361\"><span class=\"spark-nlp-display-entity-name\">CITIZENS </span><span class=\"spark-nlp-display-entity-type\">ORG</span></span><span class=\"spark-nlp-display-others\" style=\"background-color: white\"> </span><span class=\"spark-nlp-display-entity-wrapper\" style=\"background-color: #583361\"><span class=\"spark-nlp-display-entity-name\">BANK </span><span class=\"spark-nlp-display-entity-type\">ORG</span></span><span class=\"spark-nlp-display-others\" style=\"background-color: white\"> </span><span class=\"spark-nlp-display-entity-wrapper\" style=\"background-color: #583361\"><span class=\"spark-nlp-display-entity-name\">OF </span><span class=\"spark-nlp-display-entity-type\">ORG</span></span><span class=\"spark-nlp-display-others\" style=\"background-color: white\"> </span><span class=\"spark-nlp-display-entity-wrapper\" style=\"background-color: #583361\"><span class=\"spark-nlp-display-entity-name\">PENNSYLVANIA </span><span class=\"spark-nlp-display-entity-type\">ORG</span></span><span class=\"spark-nlp-display-others\" style=\"background-color: white\">, as joint arrangers and joint bookrunners, and </span><span class=\"spark-nlp-display-entity-wrapper\" style=\"background-color: #583361\"><span class=\"spark-nlp-display-entity-name\">CITIZENS </span><span class=\"spark-nlp-display-entity-type\">ORG</span></span><span class=\"spark-nlp-display-others\" style=\"background-color: white\"> </span><span class=\"spark-nlp-display-entity-wrapper\" style=\"background-color: #583361\"><span class=\"spark-nlp-display-entity-name\">BANK </span><span class=\"spark-nlp-display-entity-type\">ORG</span></span><span class=\"spark-nlp-display-others\" style=\"background-color: white\"> </span><span class=\"spark-nlp-display-entity-wrapper\" style=\"background-color: #583361\"><span class=\"spark-nlp-display-entity-name\">OF </span><span class=\"spark-nlp-display-entity-type\">ORG</span></span><span class=\"spark-nlp-display-others\" style=\"background-color: white\"> </span><span class=\"spark-nlp-display-entity-wrapper\" style=\"background-color: #583361\"><span class=\"spark-nlp-display-entity-name\">PENNSYLVANIA </span><span class=\"spark-nlp-display-entity-type\">ORG</span></span><span class=\"spark-nlp-display-others\" style=\"background-color: white\">, as syndication agent. WITNESSETH: WHEREAS, </span><span class=\"spark-nlp-display-entity-wrapper\" style=\"background-color: #2DA150\"><span class=\"spark-nlp-display-entity-name\">the Borrowers </span><span class=\"spark-nlp-display-entity-type\">WHEREAS_SUBJECT</span></span><span class=\"spark-nlp-display-others\" style=\"background-color: white\"> </span><span class=\"spark-nlp-display-entity-wrapper\" style=\"background-color: #394091\"><span class=\"spark-nlp-display-entity-name\">have requested </span><span class=\"spark-nlp-display-entity-type\">WHEREAS_ACTION</span></span><span class=\"spark-nlp-display-others\" style=\"background-color: white\"> </span><span class=\"spark-nlp-display-entity-wrapper\" style=\"background-color: #70B83D\"><span class=\"spark-nlp-display-entity-name\">the Lenders to provide a revolving credit facility </span><span class=\"spark-nlp-display-entity-type\">WHEREAS_OBJECT</span></span><span class=\"spark-nlp-display-others\" style=\"background-color: white\"> to the Borrowers in an aggregate principal amount not to exceed $225,000,000; and WHEREAS, </span><span class=\"spark-nlp-display-entity-wrapper\" style=\"background-color: #2DA150\"><span class=\"spark-nlp-display-entity-name\">proceeds of the </span><span class=\"spark-nlp-display-entity-type\">WHEREAS_SUBJECT</span></span><span class=\"spark-nlp-display-others\" style=\"background-color: white\"> revolving </span><span class=\"spark-nlp-display-entity-wrapper\" style=\"background-color: #26076B\"><span class=\"spark-nlp-display-entity-name\">credit facility </span><span class=\"spark-nlp-display-entity-type\">DOC</span></span><span class=\"spark-nlp-display-others\" style=\"background-color: white\"> shall be used for (1) refinancing existing Indebtedness, and (2) general corporate purposes; and </span><span class=\"spark-nlp-display-entity-wrapper\" style=\"background-color: #583361\"><span class=\"spark-nlp-display-entity-name\">WHEREAS </span><span class=\"spark-nlp-display-entity-type\">ORG</span></span><span class=\"spark-nlp-display-others\" style=\"background-color: white\">, </span><span class=\"spark-nlp-display-entity-wrapper\" style=\"background-color: #2DA150\"><span class=\"spark-nlp-display-entity-name\">the Lenders </span><span class=\"spark-nlp-display-entity-type\">WHEREAS_SUBJECT</span></span><span class=\"spark-nlp-display-others\" style=\"background-color: white\"> </span><span class=\"spark-nlp-display-entity-wrapper\" style=\"background-color: #394091\"><span class=\"spark-nlp-display-entity-name\">are willing to provide </span><span class=\"spark-nlp-display-entity-type\">WHEREAS_ACTION</span></span><span class=\"spark-nlp-display-others\" style=\"background-color: white\"> </span><span class=\"spark-nlp-display-entity-wrapper\" style=\"background-color: #70B83D\"><span class=\"spark-nlp-display-entity-name\">such credit </span><span class=\"spark-nlp-display-entity-type\">WHEREAS_OBJECT</span></span><span class=\"spark-nlp-display-others\" style=\"background-color: white\"> upon the terms and conditions hereinafter set forth; NOW, THEREFORE, </span><span class=\"spark-nlp-display-entity-wrapper\" style=\"background-color: #2DA150\"><span class=\"spark-nlp-display-entity-name\">the parties </span><span class=\"spark-nlp-display-entity-type\">WHEREAS_SUBJECT</span></span><span class=\"spark-nlp-display-others\" style=\"background-color: white\"> hereto, in consideration of their mutual covenants and agreements hereinafter set forth and intending to be legally bound hereby, covenant and agree as follows: 1. CERTAIN </span><span class=\"spark-nlp-display-entity-wrapper\" style=\"background-color: #8F8BB8\"><span class=\"spark-nlp-display-entity-name\">DEFINITIONS </span><span class=\"spark-nlp-display-entity-type\">LAW</span></span><span class=\"spark-nlp-display-others\" style=\"background-color: white\"> </span><span class=\"spark-nlp-display-entity-wrapper\" style=\"background-color: #8F8BB8\"><span class=\"spark-nlp-display-entity-name\">1.1 </span><span class=\"spark-nlp-display-entity-type\">LAW</span></span><span class=\"spark-nlp-display-others\" style=\"background-color: white\"> </span><span class=\"spark-nlp-display-entity-wrapper\" style=\"background-color: #8F8BB8\"><span class=\"spark-nlp-display-entity-name\">CERTAIN </span><span class=\"spark-nlp-display-entity-type\">LAW</span></span><span class=\"spark-nlp-display-others\" style=\"background-color: white\"> </span><span class=\"spark-nlp-display-entity-wrapper\" style=\"background-color: #8F8BB8\"><span class=\"spark-nlp-display-entity-name\">DEFINITIONS </span><span class=\"spark-nlp-display-entity-type\">LAW</span></span><span class=\"spark-nlp-display-others\" style=\"background-color: white\">. In addition to words and terms defined elsewhere in this </span><span class=\"spark-nlp-display-entity-wrapper\" style=\"background-color: #26076B\"><span class=\"spark-nlp-display-entity-name\">Agreement </span><span class=\"spark-nlp-display-entity-type\">DOC</span></span><span class=\"spark-nlp-display-others\" style=\"background-color: white\">, the following words and terms shall have the following meanings, respectively, unless the context hereof clearly requires otherwise: </span><span class=\"spark-nlp-display-entity-wrapper\" style=\"background-color: #a6b1e1\"><span class=\"spark-nlp-display-entity-name\">2006 </span><span class=\"spark-nlp-display-entity-type\">DATE</span></span><span class=\"spark-nlp-display-others\" style=\"background-color: white\"> SENIOR NOTES shall mean the Company's 7 ?% senior notes, issued in </span><span class=\"spark-nlp-display-entity-wrapper\" style=\"background-color: #a6b1e1\"><span class=\"spark-nlp-display-entity-name\">2006 </span><span class=\"spark-nlp-display-entity-type\">DATE</span></span><span class=\"spark-nlp-display-others\" style=\"background-color: white\"> and due </span><span class=\"spark-nlp-display-entity-wrapper\" style=\"background-color: #a6b1e1\"><span class=\"spark-nlp-display-entity-name\">May </span><span class=\"spark-nlp-display-entity-type\">DATE</span></span><span class=\"spark-nlp-display-others\" style=\"background-color: white\"> </span><span class=\"spark-nlp-display-entity-wrapper\" style=\"background-color: #a6b1e1\"><span class=\"spark-nlp-display-entity-name\">1 </span><span class=\"spark-nlp-display-entity-type\">DATE</span></span><span class=\"spark-nlp-display-entity-wrapper\" style=\"background-color: #a6b1e1\"><span class=\"spark-nlp-display-entity-name\">, </span><span class=\"spark-nlp-display-entity-type\">DATE</span></span><span class=\"spark-nlp-display-others\" style=\"background-color: white\"> </span><span class=\"spark-nlp-display-entity-wrapper\" style=\"background-color: #a6b1e1\"><span class=\"spark-nlp-display-entity-name\">2016 </span><span class=\"spark-nlp-display-entity-type\">DATE</span></span><span class=\"spark-nlp-display-others\" style=\"background-color: white\">, in the aggregate principal amount of $200,000,000, guarantied by certain of </span><span class=\"spark-nlp-display-entity-wrapper\" style=\"background-color: #583361\"><span class=\"spark-nlp-display-entity-name\">the </span><span class=\"spark-nlp-display-entity-type\">ORG</span></span><span class=\"spark-nlp-display-others\" style=\"background-color: white\"> </span><span class=\"spark-nlp-display-entity-wrapper\" style=\"background-color: #583361\"><span class=\"spark-nlp-display-entity-name\">Loan </span><span class=\"spark-nlp-display-entity-type\">ORG</span></span><span class=\"spark-nlp-display-others\" style=\"background-color: white\"> </span><span class=\"spark-nlp-display-entity-wrapper\" style=\"background-color: #583361\"><span class=\"spark-nlp-display-entity-name\">Parties </span><span class=\"spark-nlp-display-entity-type\">ORG</span></span><span class=\"spark-nlp-display-others\" style=\"background-color: white\">. </span><span class=\"spark-nlp-display-entity-wrapper\" style=\"background-color: #a6b1e1\"><span class=\"spark-nlp-display-entity-name\">2010 </span><span class=\"spark-nlp-display-entity-type\">DATE</span></span><span class=\"spark-nlp-display-others\" style=\"background-color: white\"> SENIOR NOTES shall mean the Company's 7 ?% senior notes, issued in </span><span class=\"spark-nlp-display-entity-wrapper\" style=\"background-color: #a6b1e1\"><span class=\"spark-nlp-display-entity-name\">2010 </span><span class=\"spark-nlp-display-entity-type\">DATE</span></span><span class=\"spark-nlp-display-others\" style=\"background-color: white\"> and due </span><span class=\"spark-nlp-display-entity-wrapper\" style=\"background-color: #a6b1e1\"><span class=\"spark-nlp-display-entity-name\">May </span><span class=\"spark-nlp-display-entity-type\">DATE</span></span><span class=\"spark-nlp-display-others\" style=\"background-color: white\"> </span><span class=\"spark-nlp-display-entity-wrapper\" style=\"background-color: #a6b1e1\"><span class=\"spark-nlp-display-entity-name\">1 </span><span class=\"spark-nlp-display-entity-type\">DATE</span></span><span class=\"spark-nlp-display-entity-wrapper\" style=\"background-color: #a6b1e1\"><span class=\"spark-nlp-display-entity-name\">, </span><span class=\"spark-nlp-display-entity-type\">DATE</span></span><span class=\"spark-nlp-display-others\" style=\"background-color: white\"> </span><span class=\"spark-nlp-display-entity-wrapper\" style=\"background-color: #a6b1e1\"><span class=\"spark-nlp-display-entity-name\">2016 </span><span class=\"spark-nlp-display-entity-type\">DATE</span></span><span class=\"spark-nlp-display-others\" style=\"background-color: white\">, in the aggregate principal amount of $100,000,000, guarantied by certain of </span><span class=\"spark-nlp-display-entity-wrapper\" style=\"background-color: #583361\"><span class=\"spark-nlp-display-entity-name\">the </span><span class=\"spark-nlp-display-entity-type\">ORG</span></span><span class=\"spark-nlp-display-others\" style=\"background-color: white\"> </span><span class=\"spark-nlp-display-entity-wrapper\" style=\"background-color: #583361\"><span class=\"spark-nlp-display-entity-name\">Loan </span><span class=\"spark-nlp-display-entity-type\">ORG</span></span><span class=\"spark-nlp-display-others\" style=\"background-color: white\"> </span><span class=\"spark-nlp-display-entity-wrapper\" style=\"background-color: #583361\"><span class=\"spark-nlp-display-entity-name\">Parties </span><span class=\"spark-nlp-display-entity-type\">ORG</span></span><span class=\"spark-nlp-display-others\" style=\"background-color: white\">. ACCOUNTS </span><span class=\"spark-nlp-display-entity-wrapper\" style=\"background-color: #26076B\"><span class=\"spark-nlp-display-entity-name\">RECEIVABLE FACILITY </span><span class=\"spark-nlp-display-entity-type\">DOC</span></span><span class=\"spark-nlp-display-others\" style=\"background-color: white\"> DOCUMENTS means all documentation entered into by the </span><span class=\"spark-nlp-display-entity-wrapper\" style=\"background-color: #583361\"><span class=\"spark-nlp-display-entity-name\">Company </span><span class=\"spark-nlp-display-entity-type\">ORG</span></span><span class=\"spark-nlp-display-others\" style=\"background-color: white\"> and its Subsidiaries, including, without limitation, </span><span class=\"spark-nlp-display-entity-wrapper\" style=\"background-color: #583361\"><span class=\"spark-nlp-display-entity-name\">the </span><span class=\"spark-nlp-display-entity-type\">ORG</span></span><span class=\"spark-nlp-display-others\" style=\"background-color: white\"> </span><span class=\"spark-nlp-display-entity-wrapper\" style=\"background-color: #583361\"><span class=\"spark-nlp-display-entity-name\">Receivables </span><span class=\"spark-nlp-display-entity-type\">ORG</span></span><span class=\"spark-nlp-display-others\" style=\"background-color: white\"> </span><span class=\"spark-nlp-display-entity-wrapper\" style=\"background-color: #583361\"><span class=\"spark-nlp-display-entity-name\">Entity </span><span class=\"spark-nlp-display-entity-type\">ORG</span></span><span class=\"spark-nlp-display-others\" style=\"background-color: white\">, in connection with the sale or other transfer of accounts receivable and other related assets pursuant to </span><span class=\"spark-nlp-display-entity-wrapper\" style=\"background-color: #583361\"><span class=\"spark-nlp-display-entity-name\">a </span><span class=\"spark-nlp-display-entity-type\">ORG</span></span><span class=\"spark-nlp-display-others\" style=\"background-color: white\"> </span><span class=\"spark-nlp-display-entity-wrapper\" style=\"background-color: #583361\"><span class=\"spark-nlp-display-entity-name\">Permitted </span><span class=\"spark-nlp-display-entity-type\">ORG</span></span><span class=\"spark-nlp-display-others\" style=\"background-color: white\"> </span><span class=\"spark-nlp-display-entity-wrapper\" style=\"background-color: #583361\"><span class=\"spark-nlp-display-entity-name\">Accounts </span><span class=\"spark-nlp-display-entity-type\">ORG</span></span><span class=\"spark-nlp-display-others\" style=\"background-color: white\"> </span><span class=\"spark-nlp-display-entity-wrapper\" style=\"background-color: #583361\"><span class=\"spark-nlp-display-entity-name\">Receivable </span><span class=\"spark-nlp-display-entity-type\">ORG</span></span><span class=\"spark-nlp-display-others\" style=\"background-color: white\"> </span><span class=\"spark-nlp-display-entity-wrapper\" style=\"background-color: #583361\"><span class=\"spark-nlp-display-entity-name\">Program </span><span class=\"spark-nlp-display-entity-type\">ORG</span></span><span class=\"spark-nlp-display-others\" style=\"background-color: white\">, as such documentation may be amended, restated, supplemented or otherwise modified from time to time in accordance with the terms hereof and thereof. </span><span class=\"spark-nlp-display-entity-wrapper\" style=\"background-color: #190BB1\"><span class=\"spark-nlp-display-entity-name\">ADMINISTRATIVE AGENT </span><span class=\"spark-nlp-display-entity-type\">PARTY</span></span><span class=\"spark-nlp-display-others\" style=\"background-color: white\"> shall have the meaning given to such term in the introductory paragraph hereof. ADMINISTRATIVE AGENT'S FEE shall have the meaning assigned to that term in </span><span class=\"spark-nlp-display-entity-wrapper\" style=\"background-color: #8F8BB8\"><span class=\"spark-nlp-display-entity-name\">Section </span><span class=\"spark-nlp-display-entity-type\">LAW</span></span><span class=\"spark-nlp-display-others\" style=\"background-color: white\"> </span><span class=\"spark-nlp-display-entity-wrapper\" style=\"background-color: #8F8BB8\"><span class=\"spark-nlp-display-entity-name\">9.15 </span><span class=\"spark-nlp-display-entity-type\">LAW</span></span><span class=\"spark-nlp-display-others\" style=\"background-color: white\">. ADMINISTRATIVE </span><span class=\"spark-nlp-display-entity-wrapper\" style=\"background-color: #26076B\"><span class=\"spark-nlp-display-entity-name\">AGENT'S LETTER </span><span class=\"spark-nlp-display-entity-type\">DOC</span></span><span class=\"spark-nlp-display-others\" style=\"background-color: white\"> shall have the meaning assigned to that term in </span><span class=\"spark-nlp-display-entity-wrapper\" style=\"background-color: #8F8BB8\"><span class=\"spark-nlp-display-entity-name\">Section </span><span class=\"spark-nlp-display-entity-type\">LAW</span></span><span class=\"spark-nlp-display-others\" style=\"background-color: white\"> </span><span class=\"spark-nlp-display-entity-wrapper\" style=\"background-color: #8F8BB8\"><span class=\"spark-nlp-display-entity-name\">9.15 </span><span class=\"spark-nlp-display-entity-type\">LAW</span></span><span class=\"spark-nlp-display-others\" style=\"background-color: white\">. </span><span class=\"spark-nlp-display-entity-wrapper\" style=\"background-color: #C69843\"><span class=\"spark-nlp-display-entity-name\">AFFILIATE </span><span class=\"spark-nlp-display-entity-type\">ROLE</span></span><span class=\"spark-nlp-display-others\" style=\"background-color: white\"> as to any Person shall mean any other Person (i) which, directly or indirectly controls, is controlled by, or is under common control with such </span><span class=\"spark-nlp-display-entity-wrapper\" style=\"background-color: #583361\"><span class=\"spark-nlp-display-entity-name\">Person </span><span class=\"spark-nlp-display-entity-type\">ORG</span></span><span class=\"spark-nlp-display-others\" style=\"background-color: white\">. For purposes of this definition, \"control\" (including, with correlative meanings, the term \"controlled by\" and \"under common control with\") shall mean the power, directly or indirectly, either to (a) vote 10% or more of the securities having ordinary voting power for the election of directors of such </span><span class=\"spark-nlp-display-entity-wrapper\" style=\"background-color: #583361\"><span class=\"spark-nlp-display-entity-name\">Person </span><span class=\"spark-nlp-display-entity-type\">ORG</span></span><span class=\"spark-nlp-display-others\" style=\"background-color: white\"> or (b) direct or cause the direction of the management and policies of such Person whether through the ownership of voting securities or by </span><span class=\"spark-nlp-display-entity-wrapper\" style=\"background-color: #26076B\"><span class=\"spark-nlp-display-entity-name\">contract </span><span class=\"spark-nlp-display-entity-type\">DOC</span></span><span class=\"spark-nlp-display-others\" style=\"background-color: white\"> or otherwise, including the power to elect a majority of the directors of a corporation. </span><span class=\"spark-nlp-display-entity-wrapper\" style=\"background-color: #26076B\"><span class=\"spark-nlp-display-entity-name\">AGREEMENT </span><span class=\"spark-nlp-display-entity-type\">DOC</span></span><span class=\"spark-nlp-display-others\" style=\"background-color: white\"> shall mean this </span><span class=\"spark-nlp-display-entity-wrapper\" style=\"background-color: #26076B\"><span class=\"spark-nlp-display-entity-name\">Credit Agreement </span><span class=\"spark-nlp-display-entity-type\">DOC</span></span><span class=\"spark-nlp-display-others\" style=\"background-color: white\">, as the same may be extended, renewed, amended, supplemented or restated from time to time, including all schedules and exhibits. ANTI-TERRORISM LAWS shall mean any Laws relating to terrorism or money laundering, including </span><span class=\"spark-nlp-display-entity-wrapper\" style=\"background-color: #8F8BB8\"><span class=\"spark-nlp-display-entity-name\">Executive </span><span class=\"spark-nlp-display-entity-type\">LAW</span></span><span class=\"spark-nlp-display-others\" style=\"background-color: white\"> </span><span class=\"spark-nlp-display-entity-wrapper\" style=\"background-color: #8F8BB8\"><span class=\"spark-nlp-display-entity-name\">Order </span><span class=\"spark-nlp-display-entity-type\">LAW</span></span><span class=\"spark-nlp-display-others\" style=\"background-color: white\"> </span><span class=\"spark-nlp-display-entity-wrapper\" style=\"background-color: #8F8BB8\"><span class=\"spark-nlp-display-entity-name\">No </span><span class=\"spark-nlp-display-entity-type\">LAW</span></span><span class=\"spark-nlp-display-entity-wrapper\" style=\"background-color: #8F8BB8\"><span class=\"spark-nlp-display-entity-name\">. </span><span class=\"spark-nlp-display-entity-type\">LAW</span></span><span class=\"spark-nlp-display-others\" style=\"background-color: white\"> </span><span class=\"spark-nlp-display-entity-wrapper\" style=\"background-color: #8F8BB8\"><span class=\"spark-nlp-display-entity-name\">13224 </span><span class=\"spark-nlp-display-entity-type\">LAW</span></span><span class=\"spark-nlp-display-others\" style=\"background-color: white\">, </span><span class=\"spark-nlp-display-entity-wrapper\" style=\"background-color: #8F8BB8\"><span class=\"spark-nlp-display-entity-name\">the </span><span class=\"spark-nlp-display-entity-type\">LAW</span></span><span class=\"spark-nlp-display-others\" style=\"background-color: white\"> </span><span class=\"spark-nlp-display-entity-wrapper\" style=\"background-color: #8F8BB8\"><span class=\"spark-nlp-display-entity-name\">USA </span><span class=\"spark-nlp-display-entity-type\">LAW</span></span><span class=\"spark-nlp-display-others\" style=\"background-color: white\"> </span><span class=\"spark-nlp-display-entity-wrapper\" style=\"background-color: #8F8BB8\"><span class=\"spark-nlp-display-entity-name\">Patriot </span><span class=\"spark-nlp-display-entity-type\">LAW</span></span><span class=\"spark-nlp-display-others\" style=\"background-color: white\"> </span><span class=\"spark-nlp-display-entity-wrapper\" style=\"background-color: #26076B\"><span class=\"spark-nlp-display-entity-name\">Act </span><span class=\"spark-nlp-display-entity-type\">DOC</span></span><span class=\"spark-nlp-display-others\" style=\"background-color: white\">, the Laws comprising or implementing the Bank Secrecy </span><span class=\"spark-nlp-display-entity-wrapper\" style=\"background-color: #26076B\"><span class=\"spark-nlp-display-entity-name\">Act </span><span class=\"spark-nlp-display-entity-type\">DOC</span></span><span class=\"spark-nlp-display-others\" style=\"background-color: white\">, and the Laws administered by </span><span class=\"spark-nlp-display-entity-wrapper\" style=\"background-color: #583361\"><span class=\"spark-nlp-display-entity-name\">the </span><span class=\"spark-nlp-display-entity-type\">ORG</span></span><span class=\"spark-nlp-display-others\" style=\"background-color: white\"> </span><span class=\"spark-nlp-display-entity-wrapper\" style=\"background-color: #583361\"><span class=\"spark-nlp-display-entity-name\">United </span><span class=\"spark-nlp-display-entity-type\">ORG</span></span><span class=\"spark-nlp-display-others\" style=\"background-color: white\"> </span><span class=\"spark-nlp-display-entity-wrapper\" style=\"background-color: #583361\"><span class=\"spark-nlp-display-entity-name\">States </span><span class=\"spark-nlp-display-entity-type\">ORG</span></span><span class=\"spark-nlp-display-others\" style=\"background-color: white\"> </span><span class=\"spark-nlp-display-entity-wrapper\" style=\"background-color: #583361\"><span class=\"spark-nlp-display-entity-name\">Treasury </span><span class=\"spark-nlp-display-entity-type\">ORG</span></span><span class=\"spark-nlp-display-others\" style=\"background-color: white\"> </span><span class=\"spark-nlp-display-entity-wrapper\" style=\"background-color: #583361\"><span class=\"spark-nlp-display-entity-name\">Department's </span><span class=\"spark-nlp-display-entity-type\">ORG</span></span><span class=\"spark-nlp-display-others\" style=\"background-color: white\"> </span><span class=\"spark-nlp-display-entity-wrapper\" style=\"background-color: #583361\"><span class=\"spark-nlp-display-entity-name\">Office </span><span class=\"spark-nlp-display-entity-type\">ORG</span></span><span class=\"spark-nlp-display-others\" style=\"background-color: white\"> </span><span class=\"spark-nlp-display-entity-wrapper\" style=\"background-color: #583361\"><span class=\"spark-nlp-display-entity-name\">of </span><span class=\"spark-nlp-display-entity-type\">ORG</span></span><span class=\"spark-nlp-display-others\" style=\"background-color: white\"> </span><span class=\"spark-nlp-display-entity-wrapper\" style=\"background-color: #583361\"><span class=\"spark-nlp-display-entity-name\">Foreign </span><span class=\"spark-nlp-display-entity-type\">ORG</span></span><span class=\"spark-nlp-display-others\" style=\"background-color: white\"> </span><span class=\"spark-nlp-display-entity-wrapper\" style=\"background-color: #583361\"><span class=\"spark-nlp-display-entity-name\">Asset </span><span class=\"spark-nlp-display-entity-type\">ORG</span></span><span class=\"spark-nlp-display-others\" style=\"background-color: white\"> </span><span class=\"spark-nlp-display-entity-wrapper\" style=\"background-color: #583361\"><span class=\"spark-nlp-display-entity-name\">Control </span><span class=\"spark-nlp-display-entity-type\">ORG</span></span><span class=\"spark-nlp-display-others\" style=\"background-color: white\"> (as any of the foregoing </span><span class=\"spark-nlp-display-entity-wrapper\" style=\"background-color: #8F8BB8\"><span class=\"spark-nlp-display-entity-name\">Laws </span><span class=\"spark-nlp-display-entity-type\">LAW</span></span><span class=\"spark-nlp-display-others\" style=\"background-color: white\"> may from time to time be amended, renewed, extended, or replaced). APPLICABLE COMMITMENT FEE RATE shall mean the percentage rate per annum at the indicated level of Debt Rating in the pricing grid on </span><span class=\"spark-nlp-display-entity-wrapper\" style=\"background-color: #8F8BB8\"><span class=\"spark-nlp-display-entity-name\">SCHEDULE </span><span class=\"spark-nlp-display-entity-type\">LAW</span></span><span class=\"spark-nlp-display-others\" style=\"background-color: white\"> </span><span class=\"spark-nlp-display-entity-wrapper\" style=\"background-color: #8F8BB8\"><span class=\"spark-nlp-display-entity-name\">1.1(A </span><span class=\"spark-nlp-display-entity-type\">LAW</span></span><span class=\"spark-nlp-display-others\" style=\"background-color: white\">) next to the line titled \"Commitment Fee.\" The Applicable Commitment Fee Rate shall be computed in accordance with the parameters set forth on </span><span class=\"spark-nlp-display-entity-wrapper\" style=\"background-color: #8F8BB8\"><span class=\"spark-nlp-display-entity-name\">SCHEDULE </span><span class=\"spark-nlp-display-entity-type\">LAW</span></span><span class=\"spark-nlp-display-others\" style=\"background-color: white\"> </span><span class=\"spark-nlp-display-entity-wrapper\" style=\"background-color: #8F8BB8\"><span class=\"spark-nlp-display-entity-name\">1.1(A </span><span class=\"spark-nlp-display-entity-type\">LAW</span></span><span class=\"spark-nlp-display-others\" style=\"background-color: white\">). APPLICABLE MARGIN shall mean the percentage spread to be added to </span><span class=\"spark-nlp-display-entity-wrapper\" style=\"background-color: #583361\"><span class=\"spark-nlp-display-entity-name\">Euro-Rate </span><span class=\"spark-nlp-display-entity-type\">ORG</span></span><span class=\"spark-nlp-display-others\" style=\"background-color: white\"> under the Euro-Rate Option or to the Base Rate under the Base Rate Option at the indicated level of Debt Rating in the pricing grid on </span><span class=\"spark-nlp-display-entity-wrapper\" style=\"background-color: #8F8BB8\"><span class=\"spark-nlp-display-entity-name\">SCHEDULE </span><span class=\"spark-nlp-display-entity-type\">LAW</span></span><span class=\"spark-nlp-display-others\" style=\"background-color: white\"> </span><span class=\"spark-nlp-display-entity-wrapper\" style=\"background-color: #8F8BB8\"><span class=\"spark-nlp-display-entity-name\">1.1(A </span><span class=\"spark-nlp-display-entity-type\">LAW</span></span><span class=\"spark-nlp-display-others\" style=\"background-color: white\">) next to the line titled \"Euro-Rate Spread\" or \"Base Rate Spread.\" The Applicable Margin shall be computed in accordance with the parameters set forth on </span><span class=\"spark-nlp-display-entity-wrapper\" style=\"background-color: #8F8BB8\"><span class=\"spark-nlp-display-entity-name\">SCHEDULE </span><span class=\"spark-nlp-display-entity-type\">LAW</span></span><span class=\"spark-nlp-display-others\" style=\"background-color: white\"> </span><span class=\"spark-nlp-display-entity-wrapper\" style=\"background-color: #8F8BB8\"><span class=\"spark-nlp-display-entity-name\">1.1(A </span><span class=\"spark-nlp-display-entity-type\">LAW</span></span><span class=\"spark-nlp-display-others\" style=\"background-color: white\">). </span><span class=\"spark-nlp-display-entity-wrapper\" style=\"background-color: #26076B\"><span class=\"spark-nlp-display-entity-name\">ASSIGNMENT AND ASSUMPTION AGREEMENT </span><span class=\"spark-nlp-display-entity-type\">DOC</span></span><span class=\"spark-nlp-display-others\" style=\"background-color: white\"> shall mean an Assignment and </span><span class=\"spark-nlp-display-entity-wrapper\" style=\"background-color: #26076B\"><span class=\"spark-nlp-display-entity-name\">Assumption Agreement </span><span class=\"spark-nlp-display-entity-type\">DOC</span></span><span class=\"spark-nlp-display-others\" style=\"background-color: white\"> by and among a Purchasing Lender, a Transferor Lender and the Administrative Agent, as Administrative Agent and on behalf of the remaining Lenders, substantially in the form of </span><span class=\"spark-nlp-display-entity-wrapper\" style=\"background-color: #8F8BB8\"><span class=\"spark-nlp-display-entity-name\">EXHIBIT </span><span class=\"spark-nlp-display-entity-type\">LAW</span></span><span class=\"spark-nlp-display-others\" style=\"background-color: white\"> </span><span class=\"spark-nlp-display-entity-wrapper\" style=\"background-color: #8F8BB8\"><span class=\"spark-nlp-display-entity-name\">1.1(A </span><span class=\"spark-nlp-display-entity-type\">LAW</span></span><span class=\"spark-nlp-display-others\" style=\"background-color: white\">).</span></div>"
            ]
          },
          "metadata": {}
        }
      ]
    },
    {
      "cell_type": "markdown",
      "source": [
        "### Using LightPipeline"
      ],
      "metadata": {
        "id": "CPSxpGYCj8cF"
      }
    },
    {
      "cell_type": "markdown",
      "source": [
        "[LightPipelines](https://nlp.johnsnowlabs.com/docs/en/concepts#using-spark-nlps-lightpipeline) are Spark NLP specific Pipelines, equivalent to Spark ML Pipeline, but meant to deal with smaller amounts of data. They’re useful working with small datasets, debugging results, or when running either training or prediction from an API that serves one-off requests.\n",
        "\n",
        "Spark NLP LightPipelines are Spark ML pipelines converted into a single machine but the multi-threaded task, **becoming more than 10x times faster** for smaller amounts of data (small is relative, but 50k sentences are roughly a good maximum). To use them, we simply plug in a trained (fitted) pipeline and then annotate a plain text. We don't even need to convert the input text to DataFrame in order to feed it into a pipeline that's accepting DataFrame as an input in the first place. This feature would be quite useful when it comes to getting a prediction for a few lines of text from a trained ML model.\n",
        "\n",
        "For more details:\n",
        "[https://medium.com/spark-nlp/spark-nlp-101-lightpipeline-a544e93f20f1](https://medium.com/spark-nlp/spark-nlp-101-lightpipeline-a544e93f20f1)"
      ],
      "metadata": {
        "id": "2v2CYCq6j-i0"
      }
    },
    {
      "cell_type": "code",
      "source": [
        "light_model = nlp.LightPipeline(ner_model)"
      ],
      "metadata": {
        "id": "juiznw0cdgOb"
      },
      "execution_count": 29,
      "outputs": []
    },
    {
      "cell_type": "markdown",
      "source": [
        "You can use strings or list of strings with the method [.annotate()](https://nlp.johnsnowlabs.com/api/python/reference/autosummary/sparknlp/base/light_pipeline/index.html#sparknlp.base.light_pipeline.LightPipeline.annotate) to get the results. To get more metadata in the result, use the method [.fullAnnotate()](https://nlp.johnsnowlabs.com/api/python/reference/autosummary/sparknlp/base/light_pipeline/index.html#sparknlp.base.light_pipeline.LightPipeline.fullAnnotate) instead. The result is a `list` if a `list` is given, or a `dict` if a string was given.\n",
        "\n",
        "To extract the results from the object, you just need to parse the dictionary."
      ],
      "metadata": {
        "id": "kltKN3XEpOHp"
      }
    },
    {
      "cell_type": "code",
      "source": [
        "text = results_collected[1].page_clean"
      ],
      "metadata": {
        "id": "1iwFYyAUnCVX"
      },
      "execution_count": 30,
      "outputs": []
    },
    {
      "cell_type": "code",
      "source": [
        "lp_results = light_model.annotate(text)\n",
        "lp_results.keys()"
      ],
      "metadata": {
        "id": "a9zQvgZftS18",
        "colab": {
          "base_uri": "https://localhost:8080/"
        },
        "outputId": "4f569a4f-1393-4f5e-84aa-aedce5aa65b6"
      },
      "execution_count": 31,
      "outputs": [
        {
          "output_type": "execute_result",
          "data": {
            "text/plain": [
              "dict_keys(['ner_whereas', 'document', 'merged_chunk', 'ner_chunk_generic', 'token', 'page_sentence', 'embeddings', 'ner_chunk_whereas', 'roberta', 'ner_generic'])"
            ]
          },
          "metadata": {},
          "execution_count": 31
        }
      ]
    },
    {
      "cell_type": "code",
      "source": [
        "# List with all the chunks\n",
        "lp_results[\"merged_chunk\"]"
      ],
      "metadata": {
        "id": "CCCX2g_ctS0D",
        "colab": {
          "base_uri": "https://localhost:8080/"
        },
        "outputId": "1499d6d9-7d78-4b2f-dc00-a8bb19ebf78c"
      },
      "execution_count": 32,
      "outputs": [
        {
          "output_type": "execute_result",
          "data": {
            "text/plain": [
              "['CREDIT AGREEMENT',\n",
              " 'CREDIT AGREEMENT',\n",
              " 'April',\n",
              " '29',\n",
              " ',',\n",
              " '2010',\n",
              " 'GLATFELTER',\n",
              " 'COMPANY',\n",
              " 'Pennsylvania',\n",
              " 'the',\n",
              " '\"',\n",
              " 'COMPANY',\n",
              " '\")',\n",
              " 'BORROWER',\n",
              " 'PNC',\n",
              " 'BANK',\n",
              " ',',\n",
              " 'NATIONAL',\n",
              " 'ASSOCIATION',\n",
              " ',',\n",
              " 'Agreement',\n",
              " 'PNC CAPITAL MARKETS LLC',\n",
              " 'CITIZENS',\n",
              " 'BANK',\n",
              " 'OF',\n",
              " 'PENNSYLVANIA',\n",
              " 'CITIZENS',\n",
              " 'BANK',\n",
              " 'OF',\n",
              " 'PENNSYLVANIA',\n",
              " 'the Borrowers',\n",
              " 'have requested',\n",
              " 'the Lenders to provide a revolving credit facility',\n",
              " 'proceeds of the',\n",
              " 'credit facility',\n",
              " 'WHEREAS',\n",
              " 'the Lenders',\n",
              " 'are willing to provide',\n",
              " 'such credit',\n",
              " 'the parties',\n",
              " 'DEFINITIONS',\n",
              " '1.1',\n",
              " 'CERTAIN',\n",
              " 'DEFINITIONS',\n",
              " 'Agreement',\n",
              " '2006',\n",
              " '2006',\n",
              " 'May',\n",
              " '1',\n",
              " ',',\n",
              " '2016',\n",
              " 'the',\n",
              " 'Loan',\n",
              " 'Parties',\n",
              " '2010',\n",
              " '2010',\n",
              " 'May',\n",
              " '1',\n",
              " ',',\n",
              " '2016',\n",
              " 'the',\n",
              " 'Loan',\n",
              " 'Parties',\n",
              " 'RECEIVABLE FACILITY',\n",
              " 'Company',\n",
              " 'the',\n",
              " 'Receivables',\n",
              " 'Entity',\n",
              " 'a',\n",
              " 'Permitted',\n",
              " 'Accounts',\n",
              " 'Receivable',\n",
              " 'Program',\n",
              " 'ADMINISTRATIVE AGENT',\n",
              " 'Section',\n",
              " '9.15',\n",
              " \"AGENT'S LETTER\",\n",
              " 'Section',\n",
              " '9.15',\n",
              " 'AFFILIATE',\n",
              " 'Person',\n",
              " 'Person',\n",
              " 'contract',\n",
              " 'AGREEMENT',\n",
              " 'Credit Agreement',\n",
              " 'Executive',\n",
              " 'Order',\n",
              " 'No',\n",
              " '.',\n",
              " '13224',\n",
              " 'the',\n",
              " 'USA',\n",
              " 'Patriot',\n",
              " 'Act',\n",
              " 'Act',\n",
              " 'the',\n",
              " 'United',\n",
              " 'States',\n",
              " 'Treasury',\n",
              " \"Department's\",\n",
              " 'Office',\n",
              " 'of',\n",
              " 'Foreign',\n",
              " 'Asset',\n",
              " 'Control',\n",
              " 'Laws',\n",
              " 'SCHEDULE',\n",
              " '1.1(A',\n",
              " 'SCHEDULE',\n",
              " '1.1(A',\n",
              " 'Euro-Rate',\n",
              " 'SCHEDULE',\n",
              " '1.1(A',\n",
              " 'SCHEDULE',\n",
              " '1.1(A',\n",
              " 'ASSIGNMENT AND ASSUMPTION AGREEMENT',\n",
              " 'Assumption Agreement',\n",
              " 'EXHIBIT',\n",
              " '1.1(A']"
            ]
          },
          "metadata": {},
          "execution_count": 32
        }
      ]
    },
    {
      "cell_type": "markdown",
      "source": [
        "We can see that the `.annotate()` did't return the labels in the `ner_chunk` item. How can we obtain them? Using the `.fullAnnotate()` instead. This method always returns a list."
      ],
      "metadata": {
        "id": "geH7M8XkrBnk"
      }
    },
    {
      "cell_type": "code",
      "source": [
        "lp_results_full = light_model.fullAnnotate(text)\n",
        "lp_results_full[0].keys()"
      ],
      "metadata": {
        "id": "PLIGPnJntSx8",
        "colab": {
          "base_uri": "https://localhost:8080/"
        },
        "outputId": "c1c4e2ee-0141-4a25-ad32-7c5bd45e4863"
      },
      "execution_count": 33,
      "outputs": [
        {
          "output_type": "execute_result",
          "data": {
            "text/plain": [
              "dict_keys(['ner_whereas', 'document', 'merged_chunk', 'ner_chunk_generic', 'token', 'page_sentence', 'embeddings', 'ner_chunk_whereas', 'roberta', 'ner_generic'])"
            ]
          },
          "metadata": {},
          "execution_count": 33
        }
      ]
    },
    {
      "cell_type": "code",
      "source": [
        "lp_results_full[0][\"merged_chunk\"]"
      ],
      "metadata": {
        "id": "HDBT6Cb-tSvu",
        "colab": {
          "base_uri": "https://localhost:8080/"
        },
        "outputId": "f04e5a0d-0352-4aee-ba17-785c97ac1b8d"
      },
      "execution_count": 34,
      "outputs": [
        {
          "output_type": "execute_result",
          "data": {
            "text/plain": [
              "[Annotation(chunk, 0, 15, CREDIT AGREEMENT, {'entity': 'DOC', 'confidence': '0.99310005', 'ner_source': 'ner_chunk_generic', 'chunk': '0', 'sentence': '0'}),\n",
              " Annotation(chunk, 22, 37, CREDIT AGREEMENT, {'entity': 'DOC', 'confidence': '0.9901', 'ner_source': 'ner_chunk_generic', 'chunk': '1', 'sentence': '0'}),\n",
              " Annotation(chunk, 54, 58, April, {'entity': 'DATE', 'confidence': '0.98', 'ner_source': 'ner_chunk_generic', 'chunk': '2', 'sentence': '0'}),\n",
              " Annotation(chunk, 60, 61, 29, {'entity': 'DATE', 'confidence': '0.9177', 'ner_source': 'ner_chunk_generic', 'chunk': '3', 'sentence': '0'}),\n",
              " Annotation(chunk, 62, 62, ,, {'entity': 'DATE', 'confidence': '0.6625', 'ner_source': 'ner_chunk_generic', 'chunk': '4', 'sentence': '0'}),\n",
              " Annotation(chunk, 64, 67, 2010, {'entity': 'DATE', 'confidence': '0.979', 'ner_source': 'ner_chunk_generic', 'chunk': '5', 'sentence': '0'}),\n",
              " Annotation(chunk, 100, 109, GLATFELTER, {'entity': 'ORG', 'confidence': '0.4564', 'ner_source': 'ner_chunk_generic', 'chunk': '6', 'sentence': '1'}),\n",
              " Annotation(chunk, 111, 117, COMPANY, {'entity': 'ORG', 'confidence': '0.7706', 'ner_source': 'ner_chunk_generic', 'chunk': '7', 'sentence': '1'}),\n",
              " Annotation(chunk, 122, 133, Pennsylvania, {'entity': 'LOC', 'confidence': '0.7951', 'ner_source': 'ner_chunk_generic', 'chunk': '8', 'sentence': '1'}),\n",
              " Annotation(chunk, 149, 151, the, {'entity': 'ORG', 'confidence': '0.8823', 'ner_source': 'ner_chunk_generic', 'chunk': '9', 'sentence': '1'}),\n",
              " Annotation(chunk, 153, 153, \", {'entity': 'ORG', 'confidence': '0.7991', 'ner_source': 'ner_chunk_generic', 'chunk': '10', 'sentence': '1'}),\n",
              " Annotation(chunk, 154, 160, COMPANY, {'entity': 'ORG', 'confidence': '0.8914', 'ner_source': 'ner_chunk_generic', 'chunk': '11', 'sentence': '1'}),\n",
              " Annotation(chunk, 161, 162, \"), {'entity': 'ORG', 'confidence': '0.5781', 'ner_source': 'ner_chunk_generic', 'chunk': '12', 'sentence': '1'}),\n",
              " Annotation(chunk, 246, 253, BORROWER, {'entity': 'ROLE', 'confidence': '0.9892', 'ner_source': 'ner_chunk_generic', 'chunk': '13', 'sentence': '1'}),\n",
              " Annotation(chunk, 379, 381, PNC, {'entity': 'ORG', 'confidence': '0.979', 'ner_source': 'ner_chunk_generic', 'chunk': '14', 'sentence': '1'}),\n",
              " Annotation(chunk, 383, 386, BANK, {'entity': 'ORG', 'confidence': '0.7567', 'ner_source': 'ner_chunk_generic', 'chunk': '15', 'sentence': '1'}),\n",
              " Annotation(chunk, 387, 387, ,, {'entity': 'ORG', 'confidence': '0.7036', 'ner_source': 'ner_chunk_generic', 'chunk': '16', 'sentence': '1'}),\n",
              " Annotation(chunk, 389, 396, NATIONAL, {'entity': 'ORG', 'confidence': '0.7994', 'ner_source': 'ner_chunk_generic', 'chunk': '17', 'sentence': '1'}),\n",
              " Annotation(chunk, 398, 408, ASSOCIATION, {'entity': 'ORG', 'confidence': '0.8614', 'ner_source': 'ner_chunk_generic', 'chunk': '18', 'sentence': '1'}),\n",
              " Annotation(chunk, 409, 409, ,, {'entity': 'ORG', 'confidence': '0.6038', 'ner_source': 'ner_chunk_generic', 'chunk': '19', 'sentence': '1'}),\n",
              " Annotation(chunk, 463, 471, Agreement, {'entity': 'DOC', 'confidence': '0.9553', 'ner_source': 'ner_chunk_generic', 'chunk': '20', 'sentence': '1'}),\n",
              " Annotation(chunk, 618, 640, PNC CAPITAL MARKETS LLC, {'entity': 'PARTY', 'confidence': '0.8001', 'ner_source': 'ner_chunk_generic', 'chunk': '21', 'sentence': '1'}),\n",
              " Annotation(chunk, 646, 653, CITIZENS, {'entity': 'ORG', 'confidence': '0.7283', 'ner_source': 'ner_chunk_generic', 'chunk': '22', 'sentence': '1'}),\n",
              " Annotation(chunk, 655, 658, BANK, {'entity': 'ORG', 'confidence': '0.4384', 'ner_source': 'ner_chunk_generic', 'chunk': '23', 'sentence': '1'}),\n",
              " Annotation(chunk, 660, 661, OF, {'entity': 'ORG', 'confidence': '0.4313', 'ner_source': 'ner_chunk_generic', 'chunk': '24', 'sentence': '1'}),\n",
              " Annotation(chunk, 663, 674, PENNSYLVANIA, {'entity': 'ORG', 'confidence': '0.5993', 'ner_source': 'ner_chunk_generic', 'chunk': '25', 'sentence': '1'}),\n",
              " Annotation(chunk, 723, 730, CITIZENS, {'entity': 'ORG', 'confidence': '0.7005', 'ner_source': 'ner_chunk_generic', 'chunk': '26', 'sentence': '1'}),\n",
              " Annotation(chunk, 732, 735, BANK, {'entity': 'ORG', 'confidence': '0.6639', 'ner_source': 'ner_chunk_generic', 'chunk': '27', 'sentence': '1'}),\n",
              " Annotation(chunk, 737, 738, OF, {'entity': 'ORG', 'confidence': '0.5861', 'ner_source': 'ner_chunk_generic', 'chunk': '28', 'sentence': '1'}),\n",
              " Annotation(chunk, 740, 751, PENNSYLVANIA, {'entity': 'ORG', 'confidence': '0.5758', 'ner_source': 'ner_chunk_generic', 'chunk': '29', 'sentence': '1'}),\n",
              " Annotation(chunk, 797, 809, the Borrowers, {'entity': 'WHEREAS_SUBJECT', 'confidence': '0.9951', 'ner_source': 'ner_chunk_whereas', 'chunk': '30', 'sentence': '2'}),\n",
              " Annotation(chunk, 811, 824, have requested, {'entity': 'WHEREAS_ACTION', 'confidence': '0.97775', 'ner_source': 'ner_chunk_whereas', 'chunk': '31', 'sentence': '2'}),\n",
              " Annotation(chunk, 826, 875, the Lenders to provide a revolving credit facility, {'entity': 'WHEREAS_OBJECT', 'confidence': '0.80509996', 'ner_source': 'ner_chunk_whereas', 'chunk': '32', 'sentence': '2'}),\n",
              " Annotation(chunk, 968, 982, proceeds of the, {'entity': 'WHEREAS_SUBJECT', 'confidence': '0.84663326', 'ner_source': 'ner_chunk_whereas', 'chunk': '33', 'sentence': '3'}),\n",
              " Annotation(chunk, 994, 1008, credit facility, {'entity': 'DOC', 'confidence': '0.82975', 'ner_source': 'ner_chunk_generic', 'chunk': '34', 'sentence': '3'}),\n",
              " Annotation(chunk, 1107, 1113, WHEREAS, {'entity': 'ORG', 'confidence': '0.9781', 'ner_source': 'ner_chunk_generic', 'chunk': '35', 'sentence': '4'}),\n",
              " Annotation(chunk, 1116, 1126, the Lenders, {'entity': 'WHEREAS_SUBJECT', 'confidence': '0.9569', 'ner_source': 'ner_chunk_whereas', 'chunk': '36', 'sentence': '4'}),\n",
              " Annotation(chunk, 1128, 1149, are willing to provide, {'entity': 'WHEREAS_ACTION', 'confidence': '0.836', 'ner_source': 'ner_chunk_whereas', 'chunk': '37', 'sentence': '4'}),\n",
              " Annotation(chunk, 1151, 1161, such credit, {'entity': 'WHEREAS_OBJECT', 'confidence': '0.85765004', 'ner_source': 'ner_chunk_whereas', 'chunk': '38', 'sentence': '4'}),\n",
              " Annotation(chunk, 1232, 1242, the parties, {'entity': 'WHEREAS_SUBJECT', 'confidence': '0.96730006', 'ner_source': 'ner_chunk_whereas', 'chunk': '39', 'sentence': '5'}),\n",
              " Annotation(chunk, 1416, 1426, DEFINITIONS, {'entity': 'LAW', 'confidence': '0.78', 'ner_source': 'ner_chunk_generic', 'chunk': '40', 'sentence': '6'}),\n",
              " Annotation(chunk, 1428, 1430, 1.1, {'entity': 'LAW', 'confidence': '0.6175', 'ner_source': 'ner_chunk_generic', 'chunk': '41', 'sentence': '6'}),\n",
              " Annotation(chunk, 1432, 1438, CERTAIN, {'entity': 'LAW', 'confidence': '0.8818', 'ner_source': 'ner_chunk_generic', 'chunk': '42', 'sentence': '6'}),\n",
              " Annotation(chunk, 1440, 1450, DEFINITIONS, {'entity': 'LAW', 'confidence': '0.5481', 'ner_source': 'ner_chunk_generic', 'chunk': '43', 'sentence': '6'}),\n",
              " Annotation(chunk, 1510, 1518, Agreement, {'entity': 'DOC', 'confidence': '0.9834', 'ner_source': 'ner_chunk_generic', 'chunk': '44', 'sentence': '7'}),\n",
              " Annotation(chunk, 1654, 1657, 2006, {'entity': 'DATE', 'confidence': '0.9707', 'ner_source': 'ner_chunk_generic', 'chunk': '45', 'sentence': '7'}),\n",
              " Annotation(chunk, 1726, 1729, 2006, {'entity': 'DATE', 'confidence': '0.9988', 'ner_source': 'ner_chunk_generic', 'chunk': '46', 'sentence': '7'}),\n",
              " Annotation(chunk, 1739, 1741, May, {'entity': 'DATE', 'confidence': '0.9988', 'ner_source': 'ner_chunk_generic', 'chunk': '47', 'sentence': '7'}),\n",
              " Annotation(chunk, 1743, 1743, 1, {'entity': 'DATE', 'confidence': '0.9872', 'ner_source': 'ner_chunk_generic', 'chunk': '48', 'sentence': '7'}),\n",
              " Annotation(chunk, 1744, 1744, ,, {'entity': 'DATE', 'confidence': '0.9068', 'ner_source': 'ner_chunk_generic', 'chunk': '49', 'sentence': '7'}),\n",
              " Annotation(chunk, 1746, 1749, 2016, {'entity': 'DATE', 'confidence': '0.9985', 'ner_source': 'ner_chunk_generic', 'chunk': '50', 'sentence': '7'}),\n",
              " Annotation(chunk, 1828, 1830, the, {'entity': 'ORG', 'confidence': '0.8249', 'ner_source': 'ner_chunk_generic', 'chunk': '51', 'sentence': '7'}),\n",
              " Annotation(chunk, 1832, 1835, Loan, {'entity': 'ORG', 'confidence': '0.4914', 'ner_source': 'ner_chunk_generic', 'chunk': '52', 'sentence': '7'}),\n",
              " Annotation(chunk, 1837, 1843, Parties, {'entity': 'ORG', 'confidence': '0.9738', 'ner_source': 'ner_chunk_generic', 'chunk': '53', 'sentence': '7'}),\n",
              " Annotation(chunk, 1846, 1849, 2010, {'entity': 'DATE', 'confidence': '0.9851', 'ner_source': 'ner_chunk_generic', 'chunk': '54', 'sentence': '8'}),\n",
              " Annotation(chunk, 1918, 1921, 2010, {'entity': 'DATE', 'confidence': '0.9993', 'ner_source': 'ner_chunk_generic', 'chunk': '55', 'sentence': '8'}),\n",
              " Annotation(chunk, 1931, 1933, May, {'entity': 'DATE', 'confidence': '0.9987', 'ner_source': 'ner_chunk_generic', 'chunk': '56', 'sentence': '8'}),\n",
              " Annotation(chunk, 1935, 1935, 1, {'entity': 'DATE', 'confidence': '0.9863', 'ner_source': 'ner_chunk_generic', 'chunk': '57', 'sentence': '8'}),\n",
              " Annotation(chunk, 1936, 1936, ,, {'entity': 'DATE', 'confidence': '0.9063', 'ner_source': 'ner_chunk_generic', 'chunk': '58', 'sentence': '8'}),\n",
              " Annotation(chunk, 1938, 1941, 2016, {'entity': 'DATE', 'confidence': '0.9985', 'ner_source': 'ner_chunk_generic', 'chunk': '59', 'sentence': '8'}),\n",
              " Annotation(chunk, 2020, 2022, the, {'entity': 'ORG', 'confidence': '0.8316', 'ner_source': 'ner_chunk_generic', 'chunk': '60', 'sentence': '8'}),\n",
              " Annotation(chunk, 2024, 2027, Loan, {'entity': 'ORG', 'confidence': '0.5213', 'ner_source': 'ner_chunk_generic', 'chunk': '61', 'sentence': '8'}),\n",
              " Annotation(chunk, 2029, 2035, Parties, {'entity': 'ORG', 'confidence': '0.9742', 'ner_source': 'ner_chunk_generic', 'chunk': '62', 'sentence': '8'}),\n",
              " Annotation(chunk, 2047, 2065, RECEIVABLE FACILITY, {'entity': 'DOC', 'confidence': '0.7375', 'ner_source': 'ner_chunk_generic', 'chunk': '63', 'sentence': '9'}),\n",
              " Annotation(chunk, 2121, 2127, Company, {'entity': 'ORG', 'confidence': '0.9981', 'ner_source': 'ner_chunk_generic', 'chunk': '64', 'sentence': '9'}),\n",
              " Annotation(chunk, 2182, 2184, the, {'entity': 'ORG', 'confidence': '0.5707', 'ner_source': 'ner_chunk_generic', 'chunk': '65', 'sentence': '9'}),\n",
              " Annotation(chunk, 2186, 2196, Receivables, {'entity': 'ORG', 'confidence': '0.4833', 'ner_source': 'ner_chunk_generic', 'chunk': '66', 'sentence': '9'}),\n",
              " Annotation(chunk, 2198, 2203, Entity, {'entity': 'ORG', 'confidence': '0.7691', 'ner_source': 'ner_chunk_generic', 'chunk': '67', 'sentence': '9'}),\n",
              " Annotation(chunk, 2312, 2312, a, {'entity': 'ORG', 'confidence': '0.5306', 'ner_source': 'ner_chunk_generic', 'chunk': '68', 'sentence': '9'}),\n",
              " Annotation(chunk, 2314, 2322, Permitted, {'entity': 'ORG', 'confidence': '0.4189', 'ner_source': 'ner_chunk_generic', 'chunk': '69', 'sentence': '9'}),\n",
              " Annotation(chunk, 2324, 2331, Accounts, {'entity': 'ORG', 'confidence': '0.5356', 'ner_source': 'ner_chunk_generic', 'chunk': '70', 'sentence': '9'}),\n",
              " Annotation(chunk, 2333, 2342, Receivable, {'entity': 'ORG', 'confidence': '0.4542', 'ner_source': 'ner_chunk_generic', 'chunk': '71', 'sentence': '9'}),\n",
              " Annotation(chunk, 2344, 2350, Program, {'entity': 'ORG', 'confidence': '0.8094', 'ner_source': 'ner_chunk_generic', 'chunk': '72', 'sentence': '9'}),\n",
              " Annotation(chunk, 2503, 2522, ADMINISTRATIVE AGENT, {'entity': 'PARTY', 'confidence': '0.67195', 'ner_source': 'ner_chunk_generic', 'chunk': '73', 'sentence': '10'}),\n",
              " Annotation(chunk, 2679, 2685, Section, {'entity': 'LAW', 'confidence': '0.9948', 'ner_source': 'ner_chunk_generic', 'chunk': '74', 'sentence': '11'}),\n",
              " Annotation(chunk, 2687, 2690, 9.15, {'entity': 'LAW', 'confidence': '0.9945', 'ner_source': 'ner_chunk_generic', 'chunk': '75', 'sentence': '11'}),\n",
              " Annotation(chunk, 2708, 2721, AGENT'S LETTER, {'entity': 'DOC', 'confidence': '0.55605', 'ner_source': 'ner_chunk_generic', 'chunk': '76', 'sentence': '12'}),\n",
              " Annotation(chunk, 2771, 2777, Section, {'entity': 'LAW', 'confidence': '0.9944', 'ner_source': 'ner_chunk_generic', 'chunk': '77', 'sentence': '12'}),\n",
              " Annotation(chunk, 2779, 2782, 9.15, {'entity': 'LAW', 'confidence': '0.9942', 'ner_source': 'ner_chunk_generic', 'chunk': '78', 'sentence': '12'}),\n",
              " Annotation(chunk, 2785, 2793, AFFILIATE, {'entity': 'ROLE', 'confidence': '0.4648', 'ner_source': 'ner_chunk_generic', 'chunk': '79', 'sentence': '13'}),\n",
              " Annotation(chunk, 2939, 2944, Person, {'entity': 'ORG', 'confidence': '0.8968', 'ner_source': 'ner_chunk_generic', 'chunk': '80', 'sentence': '14'}),\n",
              " Annotation(chunk, 3249, 3254, Person, {'entity': 'ORG', 'confidence': '0.9664', 'ner_source': 'ner_chunk_generic', 'chunk': '81', 'sentence': '16'}),\n",
              " Annotation(chunk, 3396, 3403, contract, {'entity': 'DOC', 'confidence': '0.9829', 'ner_source': 'ner_chunk_generic', 'chunk': '82', 'sentence': '17'}),\n",
              " Annotation(chunk, 3494, 3502, AGREEMENT, {'entity': 'DOC', 'confidence': '0.8701', 'ner_source': 'ner_chunk_generic', 'chunk': '83', 'sentence': '18'}),\n",
              " Annotation(chunk, 3520, 3535, Credit Agreement, {'entity': 'DOC', 'confidence': '0.99915', 'ner_source': 'ner_chunk_generic', 'chunk': '84', 'sentence': '18'}),\n",
              " Annotation(chunk, 3760, 3768, Executive, {'entity': 'LAW', 'confidence': '0.5473', 'ner_source': 'ner_chunk_generic', 'chunk': '85', 'sentence': '19'}),\n",
              " Annotation(chunk, 3770, 3774, Order, {'entity': 'LAW', 'confidence': '0.4019', 'ner_source': 'ner_chunk_generic', 'chunk': '86', 'sentence': '19'}),\n",
              " Annotation(chunk, 3776, 3777, No, {'entity': 'LAW', 'confidence': '0.7038', 'ner_source': 'ner_chunk_generic', 'chunk': '87', 'sentence': '19'}),\n",
              " Annotation(chunk, 3778, 3778, ., {'entity': 'LAW', 'confidence': '0.9463', 'ner_source': 'ner_chunk_generic', 'chunk': '88', 'sentence': '19'}),\n",
              " Annotation(chunk, 3780, 3784, 13224, {'entity': 'LAW', 'confidence': '0.9229', 'ner_source': 'ner_chunk_generic', 'chunk': '89', 'sentence': '19'}),\n",
              " Annotation(chunk, 3787, 3789, the, {'entity': 'LAW', 'confidence': '0.6163', 'ner_source': 'ner_chunk_generic', 'chunk': '90', 'sentence': '19'}),\n",
              " Annotation(chunk, 3791, 3793, USA, {'entity': 'LAW', 'confidence': '0.3916', 'ner_source': 'ner_chunk_generic', 'chunk': '91', 'sentence': '19'}),\n",
              " Annotation(chunk, 3795, 3801, Patriot, {'entity': 'LAW', 'confidence': '0.3754', 'ner_source': 'ner_chunk_generic', 'chunk': '92', 'sentence': '19'}),\n",
              " Annotation(chunk, 3803, 3805, Act, {'entity': 'DOC', 'confidence': '0.9427', 'ner_source': 'ner_chunk_generic', 'chunk': '93', 'sentence': '19'}),\n",
              " Annotation(chunk, 3861, 3863, Act, {'entity': 'DOC', 'confidence': '0.9735', 'ner_source': 'ner_chunk_generic', 'chunk': '94', 'sentence': '19'}),\n",
              " Annotation(chunk, 3895, 3897, the, {'entity': 'ORG', 'confidence': '0.505', 'ner_source': 'ner_chunk_generic', 'chunk': '95', 'sentence': '19'}),\n",
              " Annotation(chunk, 3899, 3904, United, {'entity': 'ORG', 'confidence': '0.4334', 'ner_source': 'ner_chunk_generic', 'chunk': '96', 'sentence': '19'}),\n",
              " Annotation(chunk, 3906, 3911, States, {'entity': 'ORG', 'confidence': '0.4846', 'ner_source': 'ner_chunk_generic', 'chunk': '97', 'sentence': '19'}),\n",
              " Annotation(chunk, 3913, 3920, Treasury, {'entity': 'ORG', 'confidence': '0.4408', 'ner_source': 'ner_chunk_generic', 'chunk': '98', 'sentence': '19'}),\n",
              " Annotation(chunk, 3922, 3933, Department's, {'entity': 'ORG', 'confidence': '0.5182', 'ner_source': 'ner_chunk_generic', 'chunk': '99', 'sentence': '19'}),\n",
              " Annotation(chunk, 3935, 3940, Office, {'entity': 'ORG', 'confidence': '0.5562', 'ner_source': 'ner_chunk_generic', 'chunk': '100', 'sentence': '19'}),\n",
              " Annotation(chunk, 3942, 3943, of, {'entity': 'ORG', 'confidence': '0.6564', 'ner_source': 'ner_chunk_generic', 'chunk': '101', 'sentence': '19'}),\n",
              " Annotation(chunk, 3945, 3951, Foreign, {'entity': 'ORG', 'confidence': '0.563', 'ner_source': 'ner_chunk_generic', 'chunk': '102', 'sentence': '19'}),\n",
              " Annotation(chunk, 3953, 3957, Asset, {'entity': 'ORG', 'confidence': '0.4485', 'ner_source': 'ner_chunk_generic', 'chunk': '103', 'sentence': '19'}),\n",
              " Annotation(chunk, 3959, 3965, Control, {'entity': 'ORG', 'confidence': '0.6432', 'ner_source': 'ner_chunk_generic', 'chunk': '104', 'sentence': '19'}),\n",
              " Annotation(chunk, 3992, 3995, Laws, {'entity': 'LAW', 'confidence': '0.9754', 'ner_source': 'ner_chunk_generic', 'chunk': '105', 'sentence': '19'}),\n",
              " Annotation(chunk, 4197, 4204, SCHEDULE, {'entity': 'LAW', 'confidence': '0.8937', 'ner_source': 'ner_chunk_generic', 'chunk': '106', 'sentence': '20'}),\n",
              " Annotation(chunk, 4206, 4210, 1.1(A, {'entity': 'LAW', 'confidence': '0.7224', 'ner_source': 'ner_chunk_generic', 'chunk': '107', 'sentence': '20'}),\n",
              " Annotation(chunk, 4355, 4362, SCHEDULE, {'entity': 'LAW', 'confidence': '0.9864', 'ner_source': 'ner_chunk_generic', 'chunk': '108', 'sentence': '20'}),\n",
              " Annotation(chunk, 4364, 4368, 1.1(A, {'entity': 'LAW', 'confidence': '0.9889', 'ner_source': 'ner_chunk_generic', 'chunk': '109', 'sentence': '20'}),\n",
              " Annotation(chunk, 4438, 4446, Euro-Rate, {'entity': 'ORG', 'confidence': '0.9422', 'ner_source': 'ner_chunk_generic', 'chunk': '110', 'sentence': '21'}),\n",
              " Annotation(chunk, 4583, 4590, SCHEDULE, {'entity': 'LAW', 'confidence': '0.8841', 'ner_source': 'ner_chunk_generic', 'chunk': '111', 'sentence': '21'}),\n",
              " Annotation(chunk, 4592, 4596, 1.1(A, {'entity': 'LAW', 'confidence': '0.6951', 'ner_source': 'ner_chunk_generic', 'chunk': '112', 'sentence': '21'}),\n",
              " Annotation(chunk, 4752, 4759, SCHEDULE, {'entity': 'LAW', 'confidence': '0.9876', 'ner_source': 'ner_chunk_generic', 'chunk': '113', 'sentence': '22'}),\n",
              " Annotation(chunk, 4761, 4765, 1.1(A, {'entity': 'LAW', 'confidence': '0.9922', 'ner_source': 'ner_chunk_generic', 'chunk': '114', 'sentence': '22'}),\n",
              " Annotation(chunk, 4769, 4803, ASSIGNMENT AND ASSUMPTION AGREEMENT, {'entity': 'DOC', 'confidence': '0.74009997', 'ner_source': 'ner_chunk_generic', 'chunk': '115', 'sentence': '23'}),\n",
              " Annotation(chunk, 4834, 4853, Assumption Agreement, {'entity': 'DOC', 'confidence': '0.8543', 'ner_source': 'ner_chunk_generic', 'chunk': '116', 'sentence': '23'}),\n",
              " Annotation(chunk, 5032, 5038, EXHIBIT, {'entity': 'LAW', 'confidence': '0.4745', 'ner_source': 'ner_chunk_generic', 'chunk': '117', 'sentence': '23'}),\n",
              " Annotation(chunk, 5040, 5044, 1.1(A, {'entity': 'LAW', 'confidence': '0.9475', 'ner_source': 'ner_chunk_generic', 'chunk': '118', 'sentence': '23'})]"
            ]
          },
          "metadata": {},
          "execution_count": 34
        }
      ]
    },
    {
      "cell_type": "markdown",
      "source": [
        "Now we can see all the metadata in the annotation objects. Let's get the results in a tabular form."
      ],
      "metadata": {
        "id": "lROIxxO_r0zR"
      }
    },
    {
      "cell_type": "code",
      "source": [
        "results_tabular = []\n",
        "for res in lp_results_full[0][\"merged_chunk\"]:\n",
        "    results_tabular.append(\n",
        "        (\n",
        "            res.begin,\n",
        "            res.end,\n",
        "            res.result,\n",
        "            res.metadata[\"entity\"],\n",
        "            res.metadata[\"confidence\"],\n",
        "        )\n",
        "    )\n",
        "\n",
        "import pandas as pd\n",
        "\n",
        "pd.DataFrame(results_tabular, columns=[\"begin\", \"end\", \"chunk\", \"entity\", \"confidence\"])\n"
      ],
      "metadata": {
        "id": "Q0l4JNsPtStH",
        "colab": {
          "base_uri": "https://localhost:8080/",
          "height": 424
        },
        "outputId": "aa4d14ff-5d67-4400-d0ce-6c4cf4cd6599"
      },
      "execution_count": 35,
      "outputs": [
        {
          "output_type": "execute_result",
          "data": {
            "text/plain": [
              "     begin   end                                chunk entity  confidence\n",
              "0        0    15                     CREDIT AGREEMENT    DOC  0.99310005\n",
              "1       22    37                     CREDIT AGREEMENT    DOC      0.9901\n",
              "2       54    58                                April   DATE        0.98\n",
              "3       60    61                                   29   DATE      0.9177\n",
              "4       62    62                                    ,   DATE      0.6625\n",
              "..     ...   ...                                  ...    ...         ...\n",
              "114   4761  4765                                1.1(A    LAW      0.9922\n",
              "115   4769  4803  ASSIGNMENT AND ASSUMPTION AGREEMENT    DOC  0.74009997\n",
              "116   4834  4853                 Assumption Agreement    DOC      0.8543\n",
              "117   5032  5038                              EXHIBIT    LAW      0.4745\n",
              "118   5040  5044                                1.1(A    LAW      0.9475\n",
              "\n",
              "[119 rows x 5 columns]"
            ],
            "text/html": [
              "\n",
              "  <div id=\"df-b1f13655-fde2-450b-b8c6-2a6dae2e9c7c\">\n",
              "    <div class=\"colab-df-container\">\n",
              "      <div>\n",
              "<style scoped>\n",
              "    .dataframe tbody tr th:only-of-type {\n",
              "        vertical-align: middle;\n",
              "    }\n",
              "\n",
              "    .dataframe tbody tr th {\n",
              "        vertical-align: top;\n",
              "    }\n",
              "\n",
              "    .dataframe thead th {\n",
              "        text-align: right;\n",
              "    }\n",
              "</style>\n",
              "<table border=\"1\" class=\"dataframe\">\n",
              "  <thead>\n",
              "    <tr style=\"text-align: right;\">\n",
              "      <th></th>\n",
              "      <th>begin</th>\n",
              "      <th>end</th>\n",
              "      <th>chunk</th>\n",
              "      <th>entity</th>\n",
              "      <th>confidence</th>\n",
              "    </tr>\n",
              "  </thead>\n",
              "  <tbody>\n",
              "    <tr>\n",
              "      <th>0</th>\n",
              "      <td>0</td>\n",
              "      <td>15</td>\n",
              "      <td>CREDIT AGREEMENT</td>\n",
              "      <td>DOC</td>\n",
              "      <td>0.99310005</td>\n",
              "    </tr>\n",
              "    <tr>\n",
              "      <th>1</th>\n",
              "      <td>22</td>\n",
              "      <td>37</td>\n",
              "      <td>CREDIT AGREEMENT</td>\n",
              "      <td>DOC</td>\n",
              "      <td>0.9901</td>\n",
              "    </tr>\n",
              "    <tr>\n",
              "      <th>2</th>\n",
              "      <td>54</td>\n",
              "      <td>58</td>\n",
              "      <td>April</td>\n",
              "      <td>DATE</td>\n",
              "      <td>0.98</td>\n",
              "    </tr>\n",
              "    <tr>\n",
              "      <th>3</th>\n",
              "      <td>60</td>\n",
              "      <td>61</td>\n",
              "      <td>29</td>\n",
              "      <td>DATE</td>\n",
              "      <td>0.9177</td>\n",
              "    </tr>\n",
              "    <tr>\n",
              "      <th>4</th>\n",
              "      <td>62</td>\n",
              "      <td>62</td>\n",
              "      <td>,</td>\n",
              "      <td>DATE</td>\n",
              "      <td>0.6625</td>\n",
              "    </tr>\n",
              "    <tr>\n",
              "      <th>...</th>\n",
              "      <td>...</td>\n",
              "      <td>...</td>\n",
              "      <td>...</td>\n",
              "      <td>...</td>\n",
              "      <td>...</td>\n",
              "    </tr>\n",
              "    <tr>\n",
              "      <th>114</th>\n",
              "      <td>4761</td>\n",
              "      <td>4765</td>\n",
              "      <td>1.1(A</td>\n",
              "      <td>LAW</td>\n",
              "      <td>0.9922</td>\n",
              "    </tr>\n",
              "    <tr>\n",
              "      <th>115</th>\n",
              "      <td>4769</td>\n",
              "      <td>4803</td>\n",
              "      <td>ASSIGNMENT AND ASSUMPTION AGREEMENT</td>\n",
              "      <td>DOC</td>\n",
              "      <td>0.74009997</td>\n",
              "    </tr>\n",
              "    <tr>\n",
              "      <th>116</th>\n",
              "      <td>4834</td>\n",
              "      <td>4853</td>\n",
              "      <td>Assumption Agreement</td>\n",
              "      <td>DOC</td>\n",
              "      <td>0.8543</td>\n",
              "    </tr>\n",
              "    <tr>\n",
              "      <th>117</th>\n",
              "      <td>5032</td>\n",
              "      <td>5038</td>\n",
              "      <td>EXHIBIT</td>\n",
              "      <td>LAW</td>\n",
              "      <td>0.4745</td>\n",
              "    </tr>\n",
              "    <tr>\n",
              "      <th>118</th>\n",
              "      <td>5040</td>\n",
              "      <td>5044</td>\n",
              "      <td>1.1(A</td>\n",
              "      <td>LAW</td>\n",
              "      <td>0.9475</td>\n",
              "    </tr>\n",
              "  </tbody>\n",
              "</table>\n",
              "<p>119 rows × 5 columns</p>\n",
              "</div>\n",
              "      <button class=\"colab-df-convert\" onclick=\"convertToInteractive('df-b1f13655-fde2-450b-b8c6-2a6dae2e9c7c')\"\n",
              "              title=\"Convert this dataframe to an interactive table.\"\n",
              "              style=\"display:none;\">\n",
              "        \n",
              "  <svg xmlns=\"http://www.w3.org/2000/svg\" height=\"24px\"viewBox=\"0 0 24 24\"\n",
              "       width=\"24px\">\n",
              "    <path d=\"M0 0h24v24H0V0z\" fill=\"none\"/>\n",
              "    <path d=\"M18.56 5.44l.94 2.06.94-2.06 2.06-.94-2.06-.94-.94-2.06-.94 2.06-2.06.94zm-11 1L8.5 8.5l.94-2.06 2.06-.94-2.06-.94L8.5 2.5l-.94 2.06-2.06.94zm10 10l.94 2.06.94-2.06 2.06-.94-2.06-.94-.94-2.06-.94 2.06-2.06.94z\"/><path d=\"M17.41 7.96l-1.37-1.37c-.4-.4-.92-.59-1.43-.59-.52 0-1.04.2-1.43.59L10.3 9.45l-7.72 7.72c-.78.78-.78 2.05 0 2.83L4 21.41c.39.39.9.59 1.41.59.51 0 1.02-.2 1.41-.59l7.78-7.78 2.81-2.81c.8-.78.8-2.07 0-2.86zM5.41 20L4 18.59l7.72-7.72 1.47 1.35L5.41 20z\"/>\n",
              "  </svg>\n",
              "      </button>\n",
              "      \n",
              "  <style>\n",
              "    .colab-df-container {\n",
              "      display:flex;\n",
              "      flex-wrap:wrap;\n",
              "      gap: 12px;\n",
              "    }\n",
              "\n",
              "    .colab-df-convert {\n",
              "      background-color: #E8F0FE;\n",
              "      border: none;\n",
              "      border-radius: 50%;\n",
              "      cursor: pointer;\n",
              "      display: none;\n",
              "      fill: #1967D2;\n",
              "      height: 32px;\n",
              "      padding: 0 0 0 0;\n",
              "      width: 32px;\n",
              "    }\n",
              "\n",
              "    .colab-df-convert:hover {\n",
              "      background-color: #E2EBFA;\n",
              "      box-shadow: 0px 1px 2px rgba(60, 64, 67, 0.3), 0px 1px 3px 1px rgba(60, 64, 67, 0.15);\n",
              "      fill: #174EA6;\n",
              "    }\n",
              "\n",
              "    [theme=dark] .colab-df-convert {\n",
              "      background-color: #3B4455;\n",
              "      fill: #D2E3FC;\n",
              "    }\n",
              "\n",
              "    [theme=dark] .colab-df-convert:hover {\n",
              "      background-color: #434B5C;\n",
              "      box-shadow: 0px 1px 3px 1px rgba(0, 0, 0, 0.15);\n",
              "      filter: drop-shadow(0px 1px 2px rgba(0, 0, 0, 0.3));\n",
              "      fill: #FFFFFF;\n",
              "    }\n",
              "  </style>\n",
              "\n",
              "      <script>\n",
              "        const buttonEl =\n",
              "          document.querySelector('#df-b1f13655-fde2-450b-b8c6-2a6dae2e9c7c button.colab-df-convert');\n",
              "        buttonEl.style.display =\n",
              "          google.colab.kernel.accessAllowed ? 'block' : 'none';\n",
              "\n",
              "        async function convertToInteractive(key) {\n",
              "          const element = document.querySelector('#df-b1f13655-fde2-450b-b8c6-2a6dae2e9c7c');\n",
              "          const dataTable =\n",
              "            await google.colab.kernel.invokeFunction('convertToInteractive',\n",
              "                                                     [key], {});\n",
              "          if (!dataTable) return;\n",
              "\n",
              "          const docLinkHtml = 'Like what you see? Visit the ' +\n",
              "            '<a target=\"_blank\" href=https://colab.research.google.com/notebooks/data_table.ipynb>data table notebook</a>'\n",
              "            + ' to learn more about interactive tables.';\n",
              "          element.innerHTML = '';\n",
              "          dataTable['output_type'] = 'display_data';\n",
              "          await google.colab.output.renderOutput(dataTable, element);\n",
              "          const docLink = document.createElement('div');\n",
              "          docLink.innerHTML = docLinkHtml;\n",
              "          element.appendChild(docLink);\n",
              "        }\n",
              "      </script>\n",
              "    </div>\n",
              "  </div>\n",
              "  "
            ]
          },
          "metadata": {},
          "execution_count": 35
        }
      ]
    },
    {
      "cell_type": "markdown",
      "source": [
        "## Multilabel classification"
      ],
      "metadata": {
        "id": "Ye7wGXTO5KI4"
      }
    },
    {
      "cell_type": "markdown",
      "source": [
        "In this section we will use the `MultiClassifierDL` annotator to idenfity more than one classes in texts. "
      ],
      "metadata": {
        "id": "QS6Tz8iJ5NQI"
      }
    },
    {
      "cell_type": "code",
      "source": [
        "document_assembler = (\n",
        "    nlp.DocumentAssembler().setInputCol(\"text\").setOutputCol(\"document\")\n",
        ")\n",
        "embeddings = (\n",
        "    nlp.BertSentenceEmbeddings.pretrained(\"sent_bert_base_uncased_legal\", \"en\")\n",
        "    .setInputCols(\"document\")\n",
        "    .setOutputCol(\"sentence_embeddings\")\n",
        ")\n",
        "\n",
        "multiClassifier = (\n",
        "    nlp.MultiClassifierDLModel.pretrained(\"legmulticlf_edgar\", \"en\", \"legal/models\")\n",
        "    .setInputCols([\"sentence_embeddings\"])\n",
        "    .setOutputCol(\"class\")\n",
        ")\n",
        "\n",
        "clf_pipeline = nlp.Pipeline(stages=[document_assembler, embeddings, multiClassifier])\n",
        "\n",
        "\n",
        "light_pipeline = nlp.LightPipeline(\n",
        "    clf_pipeline.fit(spark.createDataFrame([[\"\"]]).toDF(\"text\"))\n",
        ")"
      ],
      "metadata": {
        "colab": {
          "base_uri": "https://localhost:8080/"
        },
        "id": "nzOhYhp35TD7",
        "outputId": "fba00628-4e5f-461f-8c53-307701615135"
      },
      "execution_count": 36,
      "outputs": [
        {
          "output_type": "stream",
          "name": "stdout",
          "text": [
            "sent_bert_base_uncased_legal download started this may take some time.\n",
            "Approximate size to download 390.8 MB\n",
            "[OK!]\n",
            "legmulticlf_edgar download started this may take some time.\n",
            "Approximate size to download 13.3 MB\n",
            "[OK!]\n"
          ]
        }
      ]
    },
    {
      "cell_type": "markdown",
      "source": [
        "We will experiment in simpler sentences to showcase it's capabilities."
      ],
      "metadata": {
        "id": "his5tnju96Rz"
      }
    },
    {
      "cell_type": "code",
      "source": [
        "result = light_pipeline.annotate(\n",
        "    \"\"\"No failure or delay by the Administrative Agent or any Lender in exercising any right or power hereunder shall operate as a waiver thereof, nor shall any single or partial exercise of any such right or power, or any abandonment or discontinuance of steps to enforce such a right or power, preclude any other or further exercise thereof or the exercise of any other right or power. The rights and remedies of the Administrative Agent and the Lenders hereunder are cumulative and are not exclusive of any rights or remedies that they would otherwise have. No waiver of any provision of this Agreement or consent to any departure by the Borrower therefrom shall in any event be effective unless the same shall be permitted by paragraph (b) of this Section, and then such waiver or consent shall be effective only in the specific instance and for the purpose for which given. Without limiting the generality of the foregoing, the making of a Loan shall not be construed as a waiver of any Default, regardless of whether the Administrative Agent or any Lender may have had notice or knowledge of such Default at the time.\n",
        "    \"\"\".lower()\n",
        ")\n",
        "\n",
        "result[\"class\"]"
      ],
      "metadata": {
        "colab": {
          "base_uri": "https://localhost:8080/"
        },
        "id": "1QdIS2EF5n1Q",
        "outputId": "84ee0cc9-16c3-4cb4-c5e4-3c48aa568570"
      },
      "execution_count": 37,
      "outputs": [
        {
          "output_type": "execute_result",
          "data": {
            "text/plain": [
              "['waivers', 'amendments']"
            ]
          },
          "metadata": {},
          "execution_count": 37
        }
      ]
    },
    {
      "cell_type": "code",
      "source": [
        "result = light_pipeline.annotate(\n",
        "    \"\"\"The provisions of this Agreement shall be binding upon and inure to the benefit of the parties hereto and their respective successors and assigns permitted hereby (including any Affiliate of the Issuing Bank that issues any Letter of Credit), except that (i) the Borrower may not assign or otherwise transfer any of its rights or obligations hereunder without the prior written consent of each Lender (and any attempted assignment or transfer by the Borrower without such consent shall be null and void) and (ii) no Lender may assign or otherwise transfer its rights or obligations hereunder except in accordance with this Section. Nothing in this Agreement, expressed or implied, shall be construed to confer upon any Person (other than the parties hereto, their respective successors and assigns permitted hereby (including any Affiliate of the Issuing Bank that issues any Letter of Credit), Participants (to the extent provided in paragraph (c) of this Section) and, to the extent expressly contemplated hereby, the Related Parties of each of the Administrative Agent, the Issuing Bank and the Lenders) any legal or equitable right, remedy or claim under or by reason of this Agreement.\n",
        "    \"\"\".lower()\n",
        ")\n",
        "\n",
        "result[\"class\"]"
      ],
      "metadata": {
        "colab": {
          "base_uri": "https://localhost:8080/"
        },
        "id": "VnapppMv5oL2",
        "outputId": "45a8080e-c817-4749-b9ce-db78fa2432a5"
      },
      "execution_count": 38,
      "outputs": [
        {
          "output_type": "execute_result",
          "data": {
            "text/plain": [
              "['successors', 'assigns']"
            ]
          },
          "metadata": {},
          "execution_count": 38
        }
      ]
    },
    {
      "cell_type": "code",
      "source": [
        "result = light_pipeline.annotate(\n",
        "    \"\"\"After the effectiveness of this Amendment, the representations and warranties of the Borrower set forth in the Credit Agreement and in the other Loan Documents are true and correct in all material respects on and as of the date hereof, with the same force and effect as if made on and as of such date, except to the extent that such representations and warranties (i) specifically refer to an earlier date, in which case they shall be true and correct in all material respects as of such earlier date (except to the extent of changes in facts or circumstances that have been disclosed to the Lenders and do not constitute an Event of Default or a Potential Default under the Credit Agreement or any other Loan Document), and (ii) are already qualified by materiality, in which case they shall be true and correct in all respects, and except that for purposes of this Section 4.1 , the representations and warranties contained in Section 7.6 of the Credit Agreement shall be deemed to refer to the most recent financial statements furnished pursuant to Section 8.1(a) of the Credit Agreement.\n",
        "    \"\"\".lower()\n",
        ")\n",
        "\n",
        "result[\"class\"] "
      ],
      "metadata": {
        "colab": {
          "base_uri": "https://localhost:8080/"
        },
        "id": "VNIEIer25pX2",
        "outputId": "f430ec23-a186-46fc-f79e-f66493197ec7"
      },
      "execution_count": 39,
      "outputs": [
        {
          "output_type": "execute_result",
          "data": {
            "text/plain": [
              "['warranties', 'representations']"
            ]
          },
          "metadata": {},
          "execution_count": 39
        }
      ]
    },
    {
      "cell_type": "code",
      "source": [
        "result = light_pipeline.annotate(\"\"\"All notices and other communications provided for in this Agreement and the other Loan Documents shall be in writing and may (subject to paragraph (b) below) be telecopied (faxed), mailed by certified mail return receipt requested, or delivered by hand or overnight courier service to the intended recipient at the addresses specified below or at such other address as shall be designated by any party listed below in a notice to the other parties listed below given in accordance with this Section.\"\"\".lower())\n",
        "\n",
        "result[\"class\"]"
      ],
      "metadata": {
        "colab": {
          "base_uri": "https://localhost:8080/"
        },
        "id": "6Jhv3ttw5slM",
        "outputId": "29eacac0-4aa0-4c2e-9936-2670e7737ccb"
      },
      "execution_count": 40,
      "outputs": [
        {
          "output_type": "execute_result",
          "data": {
            "text/plain": [
              "['notices']"
            ]
          },
          "metadata": {},
          "execution_count": 40
        }
      ]
    },
    {
      "cell_type": "markdown",
      "source": [
        "## Identify obligations using Transformers (Bert) models"
      ],
      "metadata": {
        "id": "8W0XGe8ytTQz"
      }
    },
    {
      "cell_type": "markdown",
      "source": [
        "In this section, we will illustrate how to use a different NER annotator that is based on Transformer architecture."
      ],
      "metadata": {
        "id": "j-tu8IoKThug"
      }
    },
    {
      "cell_type": "markdown",
      "source": [
        "`BertForTokenClassification` annotator can load Bert Models with a token classification head on top (a linear layer on top of the hidden-states output) e.g. for Named-Entity-Recognition (NER) tasks.\n",
        "\n",
        "Models from the HuggingFace 🤗 Transformers library are also compatible with Spark NLP 🚀. To see which models are compatible and how to import them see [Import Transformers into Spark NLP 🚀](https://github.com/JohnSnowLabs/spark-nlp/discussions/5669).\n",
        "\n",
        "Using these models is very similar to the `NerModel` we used before. We adjust the pipeline by adding the `BertFotTokenClassification` step instead of `NerModel`, and don't need to add the `Embeddings` step as it is already part of the new annotator. \n",
        "\n",
        "Then, the pipeline is just:"
      ],
      "metadata": {
        "id": "ERgcjSNhtV4M"
      }
    },
    {
      "cell_type": "code",
      "source": [
        "def bert_pipeline(model_name=\"legner_obligations\", language=\"en\"):\n",
        "    documentAssembler = (\n",
        "        nlp.DocumentAssembler().setInputCol(\"text\").setOutputCol(\"document\")\n",
        "    )\n",
        "\n",
        "    tokenizer = nlp.Tokenizer().setInputCols(\"document\").setOutputCol(\"token\")\n",
        "\n",
        "    tokenClassifier = (\n",
        "        legal.BertForTokenClassification.pretrained(\n",
        "            model_name, language, \"legal/models\"\n",
        "        )\n",
        "        .setInputCols([\"token\", \"document\"])\n",
        "        .setOutputCol(\"label\")\n",
        "        .setCaseSensitive(True)\n",
        "    )\n",
        "\n",
        "    ner_converter = (\n",
        "        nlp.NerConverter()\n",
        "        .setInputCols([\"document\", \"token\", \"label\"])\n",
        "        .setOutputCol(\"ner_chunk\")\n",
        "    )\n",
        "\n",
        "    pipeline = nlp.Pipeline(\n",
        "        stages=[documentAssembler, tokenizer, tokenClassifier, ner_converter]\n",
        "    )\n",
        "\n",
        "    empty_data = spark.createDataFrame([[\"\"]]).toDF(\"text\")\n",
        "\n",
        "    model = pipeline.fit(empty_data)\n",
        "    return model"
      ],
      "metadata": {
        "id": "uskAoYzMtVdP"
      },
      "execution_count": 41,
      "outputs": []
    },
    {
      "cell_type": "markdown",
      "source": [
        "For Legal NLP we currently have Bert models for English, German, Arabic, and (Brazilian) Portuguese available, but we are constantly adding new models with every release. The model we will use here is the `legner_obligations`, which identifies obligations (what the different parties commit to do) in agreement documents.\n",
        "\n",
        "This model extracts the subject (who commits to doing what), the action (the verb - will provide, shall sign…) and the object (what subject will provide, what subject shall sign, etc). Also, if the recipient of the obligation is a third party (a subject will provide to the Company X …), then that third party (Company X) will be extracted as an indirect object.\n",
        "\n",
        "The model was trained with in-house annotated documents on CUAD dataset.\n",
        "\n"
      ],
      "metadata": {
        "id": "M9Y6Kx73u4qD"
      }
    },
    {
      "cell_type": "code",
      "source": [
        "bert_model = bert_pipeline(\"legner_obligations\", \"en\")\n",
        "bert_model.stages"
      ],
      "metadata": {
        "id": "1XIaZ26gzXzj",
        "colab": {
          "base_uri": "https://localhost:8080/"
        },
        "outputId": "720f7757-7626-44cc-bb2f-becb5b4c44b2"
      },
      "execution_count": 42,
      "outputs": [
        {
          "output_type": "stream",
          "name": "stdout",
          "text": [
            "legner_obligations download started this may take some time.\n",
            "[OK!]\n"
          ]
        },
        {
          "output_type": "execute_result",
          "data": {
            "text/plain": [
              "[DocumentAssembler_3b166582f77a,\n",
              " REGEX_TOKENIZER_bdf7eca46ef0,\n",
              " BERT_FOR_TOKEN_CLASSIFICATION_d6615a22d5c2,\n",
              " NerConverter_46bbfe13a907]"
            ]
          },
          "metadata": {},
          "execution_count": 42
        }
      ]
    },
    {
      "cell_type": "code",
      "source": [
        "bert_model.stages[-2].getClasses()"
      ],
      "metadata": {
        "id": "qcP_edOLzXw0",
        "colab": {
          "base_uri": "https://localhost:8080/"
        },
        "outputId": "a7ed5060-d96f-4572-e047-2cc5c96df67c"
      },
      "execution_count": 43,
      "outputs": [
        {
          "output_type": "execute_result",
          "data": {
            "text/plain": [
              "['B-OBLIGATION_ACTION',\n",
              " 'I-OBLIGATION_INDIRECT_OBJECT',\n",
              " 'I-OBLIGATION',\n",
              " 'B-OBLIGATION_INDIRECT_OBJECT',\n",
              " 'PAD',\n",
              " 'I-OBLIGATION_SUBJECT',\n",
              " 'I-OBLIGATION_ACTION',\n",
              " 'O',\n",
              " 'B-OBLIGATION_SUBJECT',\n",
              " 'B-OBLIGATION']"
            ]
          },
          "metadata": {},
          "execution_count": 43
        }
      ]
    },
    {
      "cell_type": "code",
      "source": [
        "import pyspark.sql.functions as F\n",
        "\n",
        "text = \"\"\"The Buyer shall use such materials and supplies only in accordance with the present agreement\"\"\"\n",
        "\n",
        "res = bert_model.transform(spark.createDataFrame([[text]]).toDF(\"text\"))\n",
        "\n",
        "result_df = res.select(\n",
        "    F.explode(\n",
        "        F.arrays_zip(res.token.result, res.label.result, res.label.metadata)\n",
        "    ).alias(\"cols\")\n",
        ").select(\n",
        "    F.expr(\"cols['0']\").alias(\"token\"),\n",
        "    F.expr(\"cols['1']\").alias(\"label\"),\n",
        "    F.expr(\"cols['2']['confidence']\").alias(\"confidence\"),\n",
        ")\n",
        "\n",
        "result_df.show(truncate=100)"
      ],
      "metadata": {
        "id": "hHV-y73izXub",
        "colab": {
          "base_uri": "https://localhost:8080/"
        },
        "outputId": "5290dde0-f4d2-4130-85c8-11acba532985"
      },
      "execution_count": 44,
      "outputs": [
        {
          "output_type": "stream",
          "name": "stdout",
          "text": [
            "+----------+--------------------+----------+\n",
            "|     token|               label|confidence|\n",
            "+----------+--------------------+----------+\n",
            "|       The|                   O|0.71809256|\n",
            "|     Buyer|B-OBLIGATION_SUBJECT|0.86514723|\n",
            "|     shall| B-OBLIGATION_ACTION|0.99315745|\n",
            "|       use| I-OBLIGATION_ACTION| 0.9729679|\n",
            "|      such|        B-OBLIGATION| 0.7499739|\n",
            "| materials|        I-OBLIGATION| 0.9127689|\n",
            "|       and|        I-OBLIGATION|0.88955635|\n",
            "|  supplies|        I-OBLIGATION| 0.9182221|\n",
            "|      only|        I-OBLIGATION|0.82361615|\n",
            "|        in|        I-OBLIGATION| 0.8662357|\n",
            "|accordance|        I-OBLIGATION| 0.9251934|\n",
            "|      with|        I-OBLIGATION| 0.8835488|\n",
            "|       the|        I-OBLIGATION|0.53246284|\n",
            "|   present|        I-OBLIGATION| 0.8670555|\n",
            "| agreement|        I-OBLIGATION| 0.8018013|\n",
            "+----------+--------------------+----------+\n",
            "\n"
          ]
        }
      ]
    },
    {
      "cell_type": "markdown",
      "source": [
        "## Training a custom NerModel"
      ],
      "metadata": {
        "id": "TyHZxXE91GXD"
      }
    },
    {
      "cell_type": "markdown",
      "source": [
        "> -----------------------------------------------------\n",
        ">**Please restart the runtime (if you are in Colab) to release memory that will be needed in training.**\n",
        ">\n",
        "> -----------------------------------------------------"
      ],
      "metadata": {
        "id": "3gkO_K_tQ8F7"
      }
    },
    {
      "cell_type": "code",
      "source": [
        "from johnsnowlabs import nlp, legal\n",
        "import pyspark.sql.functions as F"
      ],
      "metadata": {
        "id": "0VxiUv_ERXUP"
      },
      "execution_count": 9,
      "outputs": []
    },
    {
      "cell_type": "code",
      "source": [
        "spark = nlp.start()"
      ],
      "metadata": {
        "colab": {
          "base_uri": "https://localhost:8080/"
        },
        "id": "-6OtC1vNRar_",
        "outputId": "982f36e3-e6b0-43e0-ff01-30c079663af5"
      },
      "execution_count": 3,
      "outputs": [
        {
          "output_type": "stream",
          "name": "stdout",
          "text": [
            "📋 Loading license number 0 from /root/.johnsnowlabs/licenses/license_number_0_for_Spark-Healthcare_Spark-OCR.json\n",
            "👌 Launched \u001b[92mcpu optimized\u001b[39m session with with: 🚀Spark-NLP==4.2.4, 💊Spark-Healthcare==4.2.4, running on ⚡ PySpark==3.1.2\n"
          ]
        }
      ]
    },
    {
      "cell_type": "markdown",
      "source": [
        "If your appliation needs different entities than the provided pretrained models can identify, what you can do is to train a new model that fits your requirements. To do that you first need to collect and label enough data and put them in the CoNLL 2003 format. If you are not sure how to annotate (label) text data and prepare it in the CoNLL 2003 format, try our free tool [Annotation Lab](https://nlp.johnsnowlabs.com/docs/en/alab/quickstart), where you can easily label text data and export in the correct format for training.\n",
        "\n",
        "For our purposes here, we will use a sample file annotated by our team."
      ],
      "metadata": {
        "id": "i90SLv-P1JS6"
      }
    },
    {
      "cell_type": "code",
      "source": [
        "! wget https://raw.githubusercontent.com/JohnSnowLabs/spark-nlp-workshop/master/tutorials/Certification_Trainings_JSL/Legal/data/conll_noO.conll -O sample.conll"
      ],
      "metadata": {
        "colab": {
          "base_uri": "https://localhost:8080/"
        },
        "id": "ZxWh5M8J1Ivc",
        "outputId": "56271523-9142-48da-dbd6-bc70a30ab14f"
      },
      "execution_count": 4,
      "outputs": [
        {
          "output_type": "stream",
          "name": "stdout",
          "text": [
            "--2023-01-07 22:09:26--  https://raw.githubusercontent.com/JohnSnowLabs/spark-nlp-workshop/master/tutorials/Certification_Trainings_JSL/Legal/data/conll_noO.conll\n",
            "Resolving raw.githubusercontent.com (raw.githubusercontent.com)... 185.199.109.133, 185.199.110.133, 185.199.108.133, ...\n",
            "Connecting to raw.githubusercontent.com (raw.githubusercontent.com)|185.199.109.133|:443... connected.\n",
            "HTTP request sent, awaiting response... 200 OK\n",
            "Length: 1530734 (1.5M) [text/plain]\n",
            "Saving to: ‘sample.conll’\n",
            "\n",
            "\rsample.conll          0%[                    ]       0  --.-KB/s               \rsample.conll        100%[===================>]   1.46M  --.-KB/s    in 0.06s   \n",
            "\n",
            "2023-01-07 22:09:26 (26.2 MB/s) - ‘sample.conll’ saved [1530734/1530734]\n",
            "\n"
          ]
        }
      ]
    },
    {
      "cell_type": "code",
      "source": [
        "!head -10 sample.conll"
      ],
      "metadata": {
        "colab": {
          "base_uri": "https://localhost:8080/"
        },
        "id": "Ma5zy2zaIKsM",
        "outputId": "bece41c4-851a-41e9-e2e5-11a03e6d240a"
      },
      "execution_count": 5,
      "outputs": [
        {
          "output_type": "stream",
          "name": "stdout",
          "text": [
            "Exhibit NN NN O\n",
            "10.6 NN NN O\n",
            "memorandum NN NN B-DOC\n",
            "Between NN NN O\n",
            "(hereinafter NN NN B-PARTY\n",
            "collectively NN NN I-PARTY\n",
            "called NN NN I-PARTY\n",
            "\"Parties\" NN NN I-PARTY\n",
            "and NN NN I-PARTY\n",
            "individually NN NN I-PARTY\n"
          ]
        }
      ]
    },
    {
      "cell_type": "markdown",
      "source": [
        "The pipeline is similar to the `NerModel` one, but instead of a `AnnotatorModel`, we use an `AnnotatorApproach` object to train the model. If these concepts of annotator and model is not familiar to you, please review the documentation [here](https://nlp.johnsnowlabs.com/docs/en/concepts)."
      ],
      "metadata": {
        "id": "3Hxv64T9IhL0"
      }
    },
    {
      "cell_type": "markdown",
      "source": [
        "To load the data into spark dataframe, you can use the [CoNLL](https://nlp.johnsnowlabs.com/docs/en/training#conll-dataset) helper."
      ],
      "metadata": {
        "id": "9srsuymzI7xF"
      }
    },
    {
      "cell_type": "code",
      "source": [
        "sample_data = nlp.CoNLL().readDataset(spark, \"sample.conll\")\n",
        "sample_data.selectExpr(\n",
        "    \"text\", \"token.result as tokens\", \"pos.result as pos\", \"label.result as label\"\n",
        ").show(3, False)"
      ],
      "metadata": {
        "colab": {
          "base_uri": "https://localhost:8080/"
        },
        "id": "DSEC5CTIIPjK",
        "outputId": "6f8536c4-e61c-40f0-cfc7-626e46c139cc"
      },
      "execution_count": 6,
      "outputs": [
        {
          "output_type": "stream",
          "name": "stdout",
          "text": [
            "+--------------------------------------------------------------------------------------------------------------------+-----------------------------------------------------------------------------------------------------------------------------------+--------------------------------------------------------+----------------------------------------------------------------------------------------------------+\n",
            "|text                                                                                                                |tokens                                                                                                                             |pos                                                     |label                                                                                               |\n",
            "+--------------------------------------------------------------------------------------------------------------------+-----------------------------------------------------------------------------------------------------------------------------------+--------------------------------------------------------+----------------------------------------------------------------------------------------------------+\n",
            "|Exhibit 10.6 memorandum Between (hereinafter collectively called \"Parties\" and individually called \"Party\"), And MBE|[Exhibit, 10.6, memorandum, Between, (hereinafter, collectively, called, \"Parties\", and, individually, called, \"Party\"),, And, MBE]|[NN, NN, NN, NN, NN, NN, NN, NN, NN, NN, NN, NN, NN, NN]|[O, O, B-DOC, O, B-PARTY, I-PARTY, I-PARTY, I-PARTY, I-PARTY, I-PARTY, I-PARTY, I-PARTY, O, B-PARTY]|\n",
            "|ARTICLE II ENGAGEMENT OF ZEBRA BRAZIL 6                                                                             |[ARTICLE, II, ENGAGEMENT, OF, ZEBRA, BRAZIL, 6]                                                                                    |[NN, NN, NN, NN, NN, NN, NN]                            |[O, O, O, O, B-PARTY, I-PARTY, O]                                                                   |\n",
            "|ARTICLE II ENGAGEMENT OF ZEBRA BRAZIL 6                                                                             |[ARTICLE, II, ENGAGEMENT, OF, ZEBRA, BRAZIL, 6]                                                                                    |[NN, NN, NN, NN, NN, NN, NN]                            |[O, O, O, O, B-PARTY, I-PARTY, O]                                                                   |\n",
            "+--------------------------------------------------------------------------------------------------------------------+-----------------------------------------------------------------------------------------------------------------------------------+--------------------------------------------------------+----------------------------------------------------------------------------------------------------+\n",
            "only showing top 3 rows\n",
            "\n"
          ]
        }
      ]
    },
    {
      "cell_type": "code",
      "source": [
        "sample_data.columns"
      ],
      "metadata": {
        "colab": {
          "base_uri": "https://localhost:8080/"
        },
        "id": "UE5jiEP-KJsh",
        "outputId": "a757a05f-4255-4409-f5c2-00505d539f2d"
      },
      "execution_count": 7,
      "outputs": [
        {
          "output_type": "execute_result",
          "data": {
            "text/plain": [
              "['text', 'document', 'sentence', 'token', 'pos', 'label']"
            ]
          },
          "metadata": {},
          "execution_count": 7
        }
      ]
    },
    {
      "cell_type": "markdown",
      "source": [
        "Checking the labels we have:"
      ],
      "metadata": {
        "id": "LqVe225XJfLG"
      }
    },
    {
      "cell_type": "code",
      "source": [
        "sample_data.select(F.explode(\"label.result\")).distinct().show(50, False)"
      ],
      "metadata": {
        "colab": {
          "base_uri": "https://localhost:8080/"
        },
        "id": "yKmO5faJJXRJ",
        "outputId": "0455cd1e-2b9f-4bf5-cc81-65b543d07632"
      },
      "execution_count": 10,
      "outputs": [
        {
          "output_type": "stream",
          "name": "stdout",
          "text": [
            "+---------+\n",
            "|col      |\n",
            "+---------+\n",
            "|B-PERSON |\n",
            "|B-DOC    |\n",
            "|B-PERCENT|\n",
            "|I-EFFDATE|\n",
            "|O        |\n",
            "|B-LAW    |\n",
            "|B-ROLE   |\n",
            "|B-PARTY  |\n",
            "|B-DATE   |\n",
            "|B-LOC    |\n",
            "|B-EFFDATE|\n",
            "|I-DOC    |\n",
            "|I-PARTY  |\n",
            "|B-ORDINAL|\n",
            "+---------+\n",
            "\n"
          ]
        }
      ]
    },
    {
      "cell_type": "code",
      "source": [
        "sample_data.select(\n",
        "    F.explode(F.arrays_zip(\"token.result\", \"label.result\")).alias(\n",
        "        \"cols\"\n",
        "    )\n",
        ").select(\n",
        "    F.expr(\"cols['0']\").alias(\"token\"), F.expr(\"cols['1']\").alias(\"ground_truth\")\n",
        ").groupBy(\n",
        "    \"ground_truth\"\n",
        ").count().orderBy(\n",
        "    \"count\", ascending=False\n",
        ").show(\n",
        "    100, truncate=False\n",
        ")"
      ],
      "metadata": {
        "colab": {
          "base_uri": "https://localhost:8080/"
        },
        "id": "-83y2Ak0Y3m1",
        "outputId": "c80de0e0-45a5-4a4e-e77b-fe6f50bff2e0"
      },
      "execution_count": 11,
      "outputs": [
        {
          "output_type": "stream",
          "name": "stdout",
          "text": [
            "+------------+-----+\n",
            "|ground_truth|count|\n",
            "+------------+-----+\n",
            "|O           |71670|\n",
            "|I-PARTY     |12097|\n",
            "|B-PARTY     |5804 |\n",
            "|I-DOC       |3203 |\n",
            "|B-DOC       |2007 |\n",
            "|B-DATE      |1796 |\n",
            "|B-LAW       |782  |\n",
            "|B-ROLE      |316  |\n",
            "|B-LOC       |259  |\n",
            "|B-ORDINAL   |151  |\n",
            "|B-PERCENT   |136  |\n",
            "|B-PERSON    |92   |\n",
            "|I-EFFDATE   |33   |\n",
            "|B-EFFDATE   |18   |\n",
            "+------------+-----+\n",
            "\n"
          ]
        }
      ]
    },
    {
      "cell_type": "code",
      "source": [
        "sample_data.count()"
      ],
      "metadata": {
        "colab": {
          "base_uri": "https://localhost:8080/"
        },
        "id": "TiI2P2KRCOUO",
        "outputId": "30e5f88f-a1f2-4103-e8ee-fccf3c4c0ea3"
      },
      "execution_count": 12,
      "outputs": [
        {
          "output_type": "execute_result",
          "data": {
            "text/plain": [
              "5022"
            ]
          },
          "metadata": {},
          "execution_count": 12
        }
      ]
    },
    {
      "cell_type": "markdown",
      "source": [
        "The CoNLL data already have the columns `document`, `sentence` and `token` that are needed to create the NER model, the only one that is missing is the Embeddings. So let's use the same embedding pretrained model as before to train this new one, but you could use any Embedding model instead (check [NLP Models Hub](https://nlp.johnsnowlabs.com/models?task=Embeddings) for a list of available embedding models)."
      ],
      "metadata": {
        "id": "sr5NuIfoJz6z"
      }
    },
    {
      "cell_type": "code",
      "source": [
        "bert_embeddings = (\n",
        "    nlp.BertEmbeddings.pretrained(\"bert_embeddings_sec_bert_base\", \"en\")\n",
        "    .setInputCols(\"sentence\", \"token\")\n",
        "    .setOutputCol(\"embeddings\")\n",
        "    .setMaxSentenceLength(512)\n",
        ")"
      ],
      "metadata": {
        "colab": {
          "base_uri": "https://localhost:8080/"
        },
        "id": "UjUzulA4JpvR",
        "outputId": "81076948-8554-40f3-a421-12bca0c71c38"
      },
      "execution_count": 13,
      "outputs": [
        {
          "output_type": "stream",
          "name": "stdout",
          "text": [
            "bert_embeddings_sec_bert_base download started this may take some time.\n",
            "Approximate size to download 390.4 MB\n",
            "[OK!]\n"
          ]
        }
      ]
    },
    {
      "cell_type": "markdown",
      "source": [
        "Split the data into train and test sets (we limit to 1000 observations to reduce training time for educational purposes)"
      ],
      "metadata": {
        "id": "YUNd3OpOLuJB"
      }
    },
    {
      "cell_type": "code",
      "source": [
        "train_data, test_data = sample_data.limit(1000).randomSplit([0.8, 0.2], seed=42)"
      ],
      "metadata": {
        "id": "8FOT9laXLt_c"
      },
      "execution_count": 14,
      "outputs": []
    },
    {
      "cell_type": "markdown",
      "source": [
        "We transform the test data and store it into a parquet file so we can use it during training for testing."
      ],
      "metadata": {
        "id": "ZnRJAgYUNIRm"
      }
    },
    {
      "cell_type": "code",
      "source": [
        "bert_embeddings.transform(test_data).write.mode(\"overwrite\").parquet(\n",
        "    \"test_data_embeddings.parquet\"\n",
        ")"
      ],
      "metadata": {
        "id": "O0aOYktdNH-e"
      },
      "execution_count": 15,
      "outputs": []
    },
    {
      "cell_type": "markdown",
      "source": [
        "Declare the train annotator using the `NerApproach`. In this example, we will train for only 2 epochs to illustrate how to use the annotator without spending too much time waiting the model to finish training, but we recommend to use 5-50 epochs depending on your application to obtain a proper model."
      ],
      "metadata": {
        "id": "b1k6kd7SMpBs"
      }
    },
    {
      "cell_type": "code",
      "source": [
        "nerTagger = (\n",
        "    legal.NerApproach()\n",
        "    .setInputCols([\"sentence\", \"token\", \"embeddings\"])\n",
        "    .setLabelColumn(\"label\")\n",
        "    .setOutputCol(\"ner\")\n",
        "    .setMaxEpochs(2)\n",
        "    .setLr(0.002)\n",
        "    .setBatchSize(4)\n",
        "    .setRandomSeed(42)\n",
        "    .setVerbose(1)\n",
        "    .setValidationSplit(0.0)\n",
        "    .setEvaluationLogExtended(True)\n",
        "    .setEnableOutputLogs(True)\n",
        "    .setIncludeConfidence(True)\n",
        "    .setOutputLogsPath(\"ner_logs\")\n",
        "    .setTestDataset(\"test_data_embeddings.parquet\")\n",
        ")"
      ],
      "metadata": {
        "id": "oMhp5cXuLt9N"
      },
      "execution_count": 16,
      "outputs": []
    },
    {
      "cell_type": "code",
      "source": [
        "ner_pipeline = nlp.Pipeline(stages=[bert_embeddings, nerTagger])"
      ],
      "metadata": {
        "id": "Mm0onFB8OA2f"
      },
      "execution_count": 17,
      "outputs": []
    },
    {
      "cell_type": "code",
      "source": [
        "%%time\n",
        "\n",
        "ner_model = ner_pipeline.fit(train_data)"
      ],
      "metadata": {
        "colab": {
          "base_uri": "https://localhost:8080/"
        },
        "id": "G59yuxavLt7Q",
        "outputId": "02307cd6-5021-4eb1-cd9a-ab18105121c2"
      },
      "execution_count": 18,
      "outputs": [
        {
          "output_type": "stream",
          "name": "stdout",
          "text": [
            "CPU times: user 2.45 s, sys: 257 ms, total: 2.71 s\n",
            "Wall time: 6min 16s\n"
          ]
        }
      ]
    },
    {
      "cell_type": "code",
      "source": [
        "import os\n",
        "\n",
        "ner_logs = [\"ner_logs/\" + x for x in os.listdir(\"ner_logs\") if x.endswith(\".log\")]\n",
        "\n",
        "log_file = ner_logs[0]\n",
        "log_file"
      ],
      "metadata": {
        "colab": {
          "base_uri": "https://localhost:8080/",
          "height": 36
        },
        "id": "DetfGdoFmM-O",
        "outputId": "3aedb824-773c-4586-ec6a-f0b18d0cc179"
      },
      "execution_count": 19,
      "outputs": [
        {
          "output_type": "execute_result",
          "data": {
            "text/plain": [
              "'ner_logs/LegalNerApproach_419e761b507d.log'"
            ],
            "application/vnd.google.colaboratory.intrinsic+json": {
              "type": "string"
            }
          },
          "metadata": {},
          "execution_count": 19
        }
      ]
    },
    {
      "cell_type": "code",
      "source": [
        "!cat $log_file"
      ],
      "metadata": {
        "colab": {
          "base_uri": "https://localhost:8080/"
        },
        "id": "ZhxZ1MeMLt5B",
        "outputId": "f0d3844f-33cf-4d1b-c69e-4662a09ba821"
      },
      "execution_count": 20,
      "outputs": [
        {
          "output_type": "stream",
          "name": "stdout",
          "text": [
            "Name of the selected graph: medical-ner-dl/blstm_38_768_128_200.pb\n",
            "Training started - total epochs: 2 - lr: 0.002 - batch size: 4 - labels: 14 - chars: 89 - training examples: 838\n",
            "\n",
            "\n",
            "Epoch 1/2 started, lr: 0.002, dataset size: 838\n",
            "\n",
            "\n",
            "Epoch 1/2 - 44.74s - loss: 3137.8328 - avg training loss: 14.801098 - batches: 212\n",
            "Quality on test dataset: \n",
            "time to finish evaluation: 2.45s\n",
            "Total test loss: 472.6434\tAvg test loss: 11.2534\n",
            "label\t tp\t fp\t fn\t prec\t rec\t f1\n",
            "B-PERSON\t 0\t 0\t 16\t 0.0\t 0.0\t 0.0\n",
            "B-LAW\t 19\t 87\t 4\t 0.17924528\t 0.82608694\t 0.29457363\n",
            "I-PARTY\t 293\t 393\t 94\t 0.4271137\t 0.75710595\t 0.5461324\n",
            "B-LOC\t 0\t 0\t 8\t 0.0\t 0.0\t 0.0\n",
            "B-DATE\t 48\t 6\t 39\t 0.8888889\t 0.55172414\t 0.68085104\n",
            "B-DOC\t 31\t 6\t 44\t 0.8378378\t 0.41333333\t 0.55357146\n",
            "I-DOC\t 50\t 26\t 70\t 0.65789473\t 0.41666666\t 0.5102041\n",
            "B-ORDINAL\t 0\t 0\t 5\t 0.0\t 0.0\t 0.0\n",
            "B-PARTY\t 109\t 67\t 122\t 0.6193182\t 0.47186148\t 0.5356266\n",
            "tp: 550 fp: 585 fn: 402 labels: 9\n",
            "Macro-average\t prec: 0.40114427, rec: 0.38186428, f1: 0.3912669\n",
            "Micro-average\t prec: 0.4845815, rec: 0.5777311, f1: 0.52707237\n",
            "\n",
            "\n",
            "Epoch 2/2 started, lr: 0.0019900498, dataset size: 838\n",
            "\n",
            "\n",
            "Epoch 2/2 - 41.57s - loss: 1850.6542 - avg training loss: 8.729501 - batches: 212\n",
            "Quality on test dataset: \n",
            "time to finish evaluation: 1.43s\n",
            "Total test loss: 388.5137\tAvg test loss: 9.2503\n",
            "label\t tp\t fp\t fn\t prec\t rec\t f1\n",
            "B-PERSON\t 0\t 0\t 16\t 0.0\t 0.0\t 0.0\n",
            "B-LAW\t 7\t 0\t 16\t 1.0\t 0.3043478\t 0.46666667\n",
            "I-PARTY\t 330\t 242\t 57\t 0.5769231\t 0.85271317\t 0.68821687\n",
            "B-LOC\t 0\t 0\t 8\t 0.0\t 0.0\t 0.0\n",
            "B-DATE\t 52\t 8\t 35\t 0.8666667\t 0.59770113\t 0.70748293\n",
            "B-DOC\t 35\t 6\t 40\t 0.85365856\t 0.46666667\t 0.6034483\n",
            "I-DOC\t 56\t 17\t 64\t 0.7671233\t 0.46666667\t 0.5803109\n",
            "B-ORDINAL\t 1\t 0\t 4\t 1.0\t 0.2\t 0.3333333\n",
            "B-PARTY\t 133\t 68\t 98\t 0.66169155\t 0.57575756\t 0.6157407\n",
            "tp: 614 fp: 341 fn: 338 labels: 9\n",
            "Macro-average\t prec: 0.6362293, rec: 0.38487256, f1: 0.47961366\n",
            "Micro-average\t prec: 0.64293194, rec: 0.64495796, f1: 0.6439433\n"
          ]
        }
      ]
    },
    {
      "cell_type": "markdown",
      "source": [
        "Testing the model"
      ],
      "metadata": {
        "id": "ZZEsbSK8ZM8C"
      }
    },
    {
      "cell_type": "code",
      "source": [
        "import pandas as pd\n",
        "from sklearn.metrics import classification_report\n",
        "\n",
        "predictions = ner_model.transform(test_data)\n",
        "\n",
        "\n",
        "preds_df = (\n",
        "    predictions.select(\n",
        "        F.explode(\n",
        "            F.arrays_zip(\n",
        "                predictions.token.result,\n",
        "                predictions.label.result,\n",
        "                predictions.ner.result,\n",
        "            )\n",
        "        ).alias(\"cols\")\n",
        "    )\n",
        "    .select(\n",
        "        F.expr(\"cols['0']\").alias(\"token\"),\n",
        "        F.expr(\"cols['1']\").alias(\"ground_truth\"),\n",
        "        F.expr(\"cols['2']\").alias(\"prediction\"),\n",
        "    )\n",
        "    .toPandas()\n",
        ")"
      ],
      "metadata": {
        "id": "OPIombL1Lt2w"
      },
      "execution_count": 21,
      "outputs": []
    },
    {
      "cell_type": "code",
      "source": [
        "print(classification_report(preds_df['ground_truth'], preds_df['prediction'], digits=4))"
      ],
      "metadata": {
        "colab": {
          "base_uri": "https://localhost:8080/"
        },
        "id": "zApjVRPFLt0o",
        "outputId": "51196677-caeb-47b9-fa77-bb025bb86e15"
      },
      "execution_count": 22,
      "outputs": [
        {
          "output_type": "stream",
          "name": "stdout",
          "text": [
            "              precision    recall  f1-score   support\n",
            "\n",
            "      B-DATE     0.8667    0.5977    0.7075        87\n",
            "       B-DOC     0.8537    0.4667    0.6034        75\n",
            "       B-LAW     1.0000    0.3043    0.4667        23\n",
            "       B-LOC     0.0000    0.0000    0.0000         8\n",
            "   B-ORDINAL     1.0000    0.2000    0.3333         5\n",
            "     B-PARTY     0.6617    0.5758    0.6157       231\n",
            "    B-PERSON     0.0000    0.0000    0.0000        16\n",
            "       I-DOC     0.7671    0.4667    0.5803       120\n",
            "     I-PARTY     0.5769    0.8527    0.6882       387\n",
            "           O     0.8853    0.8841    0.8847      2148\n",
            "\n",
            "    accuracy                         0.8106      3100\n",
            "   macro avg     0.6611    0.4348    0.4880      3100\n",
            "weighted avg     0.8185    0.8106    0.8057      3100\n",
            "\n"
          ]
        },
        {
          "output_type": "stream",
          "name": "stderr",
          "text": [
            "/usr/local/lib/python3.8/dist-packages/sklearn/metrics/_classification.py:1318: UndefinedMetricWarning: Precision and F-score are ill-defined and being set to 0.0 in labels with no predicted samples. Use `zero_division` parameter to control this behavior.\n",
            "  _warn_prf(average, modifier, msg_start, len(result))\n",
            "/usr/local/lib/python3.8/dist-packages/sklearn/metrics/_classification.py:1318: UndefinedMetricWarning: Precision and F-score are ill-defined and being set to 0.0 in labels with no predicted samples. Use `zero_division` parameter to control this behavior.\n",
            "  _warn_prf(average, modifier, msg_start, len(result))\n",
            "/usr/local/lib/python3.8/dist-packages/sklearn/metrics/_classification.py:1318: UndefinedMetricWarning: Precision and F-score are ill-defined and being set to 0.0 in labels with no predicted samples. Use `zero_division` parameter to control this behavior.\n",
            "  _warn_prf(average, modifier, msg_start, len(result))\n"
          ]
        }
      ]
    },
    {
      "cell_type": "markdown",
      "source": [
        "More robust evaluation using the conll eval utility package:"
      ],
      "metadata": {
        "id": "kFqNarztZcjO"
      }
    },
    {
      "cell_type": "code",
      "source": [
        "!wget  -q https://raw.githubusercontent.com/JohnSnowLabs/spark-nlp-workshop/master/tutorials/Certification_Trainings/Public/utils/conll_eval.py"
      ],
      "metadata": {
        "id": "gCm4t35fZSlt"
      },
      "execution_count": 23,
      "outputs": []
    },
    {
      "cell_type": "code",
      "source": [
        "import conll_eval\n",
        "\n",
        "metrics = conll_eval.evaluate(preds_df['ground_truth'].values, preds_df['prediction'].values)"
      ],
      "metadata": {
        "colab": {
          "base_uri": "https://localhost:8080/"
        },
        "id": "s5-9GjpZZhin",
        "outputId": "7779b3f9-e2c7-47d2-9490-d0653fa3e11a"
      },
      "execution_count": 24,
      "outputs": [
        {
          "output_type": "stream",
          "name": "stdout",
          "text": [
            "processed 3100 tokens with 445 phrases; found: 339 phrases; correct: 212.\n",
            "accuracy:  64.50%; (non-O)\n",
            "accuracy:  81.06%; precision:  62.54%; recall:  47.64%; FB1:  54.08\n",
            "             DATE: precision:  86.67%; recall:  59.77%; FB1:  70.75  60\n",
            "              DOC: precision:  65.31%; recall:  42.67%; FB1:  51.61  49\n",
            "              LAW: precision: 100.00%; recall:  30.43%; FB1:  46.67  7\n",
            "              LOC: precision:   0.00%; recall:   0.00%; FB1:   0.00  0\n",
            "          ORDINAL: precision: 100.00%; recall:  20.00%; FB1:  33.33  1\n",
            "            PARTY: precision:  54.05%; recall:  51.95%; FB1:  52.98  222\n",
            "           PERSON: precision:   0.00%; recall:   0.00%; FB1:   0.00  0\n"
          ]
        }
      ]
    },
    {
      "cell_type": "code",
      "source": [
        "# micro, macro, avg\n",
        "metrics[0]"
      ],
      "metadata": {
        "colab": {
          "base_uri": "https://localhost:8080/"
        },
        "id": "ibV2u7lCZn4f",
        "outputId": "2d1ab560-5cd6-477e-e40c-72360a7980d6"
      },
      "execution_count": 25,
      "outputs": [
        {
          "output_type": "execute_result",
          "data": {
            "text/plain": [
              "(62.53687315634219, 47.640449438202246, 54.08163265306123)"
            ]
          },
          "metadata": {},
          "execution_count": 25
        }
      ]
    },
    {
      "cell_type": "code",
      "source": [
        "pd.DataFrame(metrics[1], columns=['entity', 'precision', 'recall', 'f1', 'support'])"
      ],
      "metadata": {
        "colab": {
          "base_uri": "https://localhost:8080/",
          "height": 269
        },
        "id": "LEIMroHvZoVE",
        "outputId": "505e148f-aa24-4f6a-c9cc-7e1105d1e3bc"
      },
      "execution_count": 26,
      "outputs": [
        {
          "output_type": "execute_result",
          "data": {
            "text/plain": [
              "    entity   precision     recall         f1  support\n",
              "0     DATE   86.666667  59.770115  70.748299       60\n",
              "1      DOC   65.306122  42.666667  51.612903       49\n",
              "2      LAW  100.000000  30.434783  46.666667        7\n",
              "3      LOC    0.000000   0.000000   0.000000        0\n",
              "4  ORDINAL  100.000000  20.000000  33.333333        1\n",
              "5    PARTY   54.054054  51.948052  52.980132      222\n",
              "6   PERSON    0.000000   0.000000   0.000000        0"
            ],
            "text/html": [
              "\n",
              "  <div id=\"df-da7b6347-3b1b-496d-81dc-67de6d644bcd\">\n",
              "    <div class=\"colab-df-container\">\n",
              "      <div>\n",
              "<style scoped>\n",
              "    .dataframe tbody tr th:only-of-type {\n",
              "        vertical-align: middle;\n",
              "    }\n",
              "\n",
              "    .dataframe tbody tr th {\n",
              "        vertical-align: top;\n",
              "    }\n",
              "\n",
              "    .dataframe thead th {\n",
              "        text-align: right;\n",
              "    }\n",
              "</style>\n",
              "<table border=\"1\" class=\"dataframe\">\n",
              "  <thead>\n",
              "    <tr style=\"text-align: right;\">\n",
              "      <th></th>\n",
              "      <th>entity</th>\n",
              "      <th>precision</th>\n",
              "      <th>recall</th>\n",
              "      <th>f1</th>\n",
              "      <th>support</th>\n",
              "    </tr>\n",
              "  </thead>\n",
              "  <tbody>\n",
              "    <tr>\n",
              "      <th>0</th>\n",
              "      <td>DATE</td>\n",
              "      <td>86.666667</td>\n",
              "      <td>59.770115</td>\n",
              "      <td>70.748299</td>\n",
              "      <td>60</td>\n",
              "    </tr>\n",
              "    <tr>\n",
              "      <th>1</th>\n",
              "      <td>DOC</td>\n",
              "      <td>65.306122</td>\n",
              "      <td>42.666667</td>\n",
              "      <td>51.612903</td>\n",
              "      <td>49</td>\n",
              "    </tr>\n",
              "    <tr>\n",
              "      <th>2</th>\n",
              "      <td>LAW</td>\n",
              "      <td>100.000000</td>\n",
              "      <td>30.434783</td>\n",
              "      <td>46.666667</td>\n",
              "      <td>7</td>\n",
              "    </tr>\n",
              "    <tr>\n",
              "      <th>3</th>\n",
              "      <td>LOC</td>\n",
              "      <td>0.000000</td>\n",
              "      <td>0.000000</td>\n",
              "      <td>0.000000</td>\n",
              "      <td>0</td>\n",
              "    </tr>\n",
              "    <tr>\n",
              "      <th>4</th>\n",
              "      <td>ORDINAL</td>\n",
              "      <td>100.000000</td>\n",
              "      <td>20.000000</td>\n",
              "      <td>33.333333</td>\n",
              "      <td>1</td>\n",
              "    </tr>\n",
              "    <tr>\n",
              "      <th>5</th>\n",
              "      <td>PARTY</td>\n",
              "      <td>54.054054</td>\n",
              "      <td>51.948052</td>\n",
              "      <td>52.980132</td>\n",
              "      <td>222</td>\n",
              "    </tr>\n",
              "    <tr>\n",
              "      <th>6</th>\n",
              "      <td>PERSON</td>\n",
              "      <td>0.000000</td>\n",
              "      <td>0.000000</td>\n",
              "      <td>0.000000</td>\n",
              "      <td>0</td>\n",
              "    </tr>\n",
              "  </tbody>\n",
              "</table>\n",
              "</div>\n",
              "      <button class=\"colab-df-convert\" onclick=\"convertToInteractive('df-da7b6347-3b1b-496d-81dc-67de6d644bcd')\"\n",
              "              title=\"Convert this dataframe to an interactive table.\"\n",
              "              style=\"display:none;\">\n",
              "        \n",
              "  <svg xmlns=\"http://www.w3.org/2000/svg\" height=\"24px\"viewBox=\"0 0 24 24\"\n",
              "       width=\"24px\">\n",
              "    <path d=\"M0 0h24v24H0V0z\" fill=\"none\"/>\n",
              "    <path d=\"M18.56 5.44l.94 2.06.94-2.06 2.06-.94-2.06-.94-.94-2.06-.94 2.06-2.06.94zm-11 1L8.5 8.5l.94-2.06 2.06-.94-2.06-.94L8.5 2.5l-.94 2.06-2.06.94zm10 10l.94 2.06.94-2.06 2.06-.94-2.06-.94-.94-2.06-.94 2.06-2.06.94z\"/><path d=\"M17.41 7.96l-1.37-1.37c-.4-.4-.92-.59-1.43-.59-.52 0-1.04.2-1.43.59L10.3 9.45l-7.72 7.72c-.78.78-.78 2.05 0 2.83L4 21.41c.39.39.9.59 1.41.59.51 0 1.02-.2 1.41-.59l7.78-7.78 2.81-2.81c.8-.78.8-2.07 0-2.86zM5.41 20L4 18.59l7.72-7.72 1.47 1.35L5.41 20z\"/>\n",
              "  </svg>\n",
              "      </button>\n",
              "      \n",
              "  <style>\n",
              "    .colab-df-container {\n",
              "      display:flex;\n",
              "      flex-wrap:wrap;\n",
              "      gap: 12px;\n",
              "    }\n",
              "\n",
              "    .colab-df-convert {\n",
              "      background-color: #E8F0FE;\n",
              "      border: none;\n",
              "      border-radius: 50%;\n",
              "      cursor: pointer;\n",
              "      display: none;\n",
              "      fill: #1967D2;\n",
              "      height: 32px;\n",
              "      padding: 0 0 0 0;\n",
              "      width: 32px;\n",
              "    }\n",
              "\n",
              "    .colab-df-convert:hover {\n",
              "      background-color: #E2EBFA;\n",
              "      box-shadow: 0px 1px 2px rgba(60, 64, 67, 0.3), 0px 1px 3px 1px rgba(60, 64, 67, 0.15);\n",
              "      fill: #174EA6;\n",
              "    }\n",
              "\n",
              "    [theme=dark] .colab-df-convert {\n",
              "      background-color: #3B4455;\n",
              "      fill: #D2E3FC;\n",
              "    }\n",
              "\n",
              "    [theme=dark] .colab-df-convert:hover {\n",
              "      background-color: #434B5C;\n",
              "      box-shadow: 0px 1px 3px 1px rgba(0, 0, 0, 0.15);\n",
              "      filter: drop-shadow(0px 1px 2px rgba(0, 0, 0, 0.3));\n",
              "      fill: #FFFFFF;\n",
              "    }\n",
              "  </style>\n",
              "\n",
              "      <script>\n",
              "        const buttonEl =\n",
              "          document.querySelector('#df-da7b6347-3b1b-496d-81dc-67de6d644bcd button.colab-df-convert');\n",
              "        buttonEl.style.display =\n",
              "          google.colab.kernel.accessAllowed ? 'block' : 'none';\n",
              "\n",
              "        async function convertToInteractive(key) {\n",
              "          const element = document.querySelector('#df-da7b6347-3b1b-496d-81dc-67de6d644bcd');\n",
              "          const dataTable =\n",
              "            await google.colab.kernel.invokeFunction('convertToInteractive',\n",
              "                                                     [key], {});\n",
              "          if (!dataTable) return;\n",
              "\n",
              "          const docLinkHtml = 'Like what you see? Visit the ' +\n",
              "            '<a target=\"_blank\" href=https://colab.research.google.com/notebooks/data_table.ipynb>data table notebook</a>'\n",
              "            + ' to learn more about interactive tables.';\n",
              "          element.innerHTML = '';\n",
              "          dataTable['output_type'] = 'display_data';\n",
              "          await google.colab.output.renderOutput(dataTable, element);\n",
              "          const docLink = document.createElement('div');\n",
              "          docLink.innerHTML = docLinkHtml;\n",
              "          element.appendChild(docLink);\n",
              "        }\n",
              "      </script>\n",
              "    </div>\n",
              "  </div>\n",
              "  "
            ]
          },
          "metadata": {},
          "execution_count": 26
        }
      ]
    },
    {
      "cell_type": "markdown",
      "source": [
        "Getting information from the logs with the log parser utility package:"
      ],
      "metadata": {
        "id": "QIOLDF39Zrs0"
      }
    },
    {
      "cell_type": "code",
      "source": [
        "!wget -q https://raw.githubusercontent.com/JohnSnowLabs/spark-nlp-workshop/master/tutorials/Certification_Trainings/Public/utils/ner_log_parser.py"
      ],
      "metadata": {
        "id": "Hz4G6XOLZvgH"
      },
      "execution_count": 27,
      "outputs": []
    },
    {
      "cell_type": "code",
      "source": [
        "import ner_log_parser\n",
        "\n",
        "%matplotlib inline\n",
        "\n",
        "ner_log_parser.get_charts(log_file)"
      ],
      "metadata": {
        "colab": {
          "base_uri": "https://localhost:8080/",
          "height": 1000
        },
        "id": "O8hkQursZwAe",
        "outputId": "a4ef2252-fd82-438f-d695-994da97e5720"
      },
      "execution_count": 28,
      "outputs": [
        {
          "output_type": "display_data",
          "data": {
            "text/plain": [
              "<Figure size 1440x1440 with 6 Axes>"
            ],
            "image/png": "[encoded data removed]"
          },
          "metadata": {
            "needs_background": "light"
          }
        },
        {
          "output_type": "display_data",
          "data": {
            "text/plain": [
              "<Figure size 1440x1440 with 6 Axes>"
            ],
            "image/png": "[encoded data removed]"
          },
          "metadata": {
            "needs_background": "light"
          }
        }
      ]
    },
    {
      "cell_type": "code",
      "source": [
        "ner_log_parser.loss_plot(log_file)"
      ],
      "metadata": {
        "colab": {
          "base_uri": "https://localhost:8080/",
          "height": 513
        },
        "id": "2nxPpz2EZ5vo",
        "outputId": "7b4ed5df-cab3-4637-d887-356e60f33c52"
      },
      "execution_count": 29,
      "outputs": [
        {
          "output_type": "display_data",
          "data": {
            "text/plain": [
              "<Figure size 576x576 with 1 Axes>"
            ],
            "image/png": "[encoded data removed]"
          },
          "metadata": {
            "needs_background": "light"
          }
        }
      ]
    },
    {
      "cell_type": "markdown",
      "source": [
        "Saving the model for future use by loading from disk with\n",
        "\n",
        "```python\n",
        "loaded_ner_model = (\n",
        "    finance.NerModel.load(\"MY_SAVED_MODEL_PATH\")\n",
        "    .setInputCols([\"sentence\", \"token\", \"embeddings\"])\n",
        "    .setOutputCol(\"ner\")\n",
        ")\n",
        "```"
      ],
      "metadata": {
        "id": "TRxnZthOaGlI"
      }
    },
    {
      "cell_type": "code",
      "source": [
        "ner_model.stages"
      ],
      "metadata": {
        "colab": {
          "base_uri": "https://localhost:8080/"
        },
        "id": "2bUVxr9-aCTp",
        "outputId": "2be1467b-68b8-4f7a-9fc7-7ccb2f4093d0"
      },
      "execution_count": 30,
      "outputs": [
        {
          "output_type": "execute_result",
          "data": {
            "text/plain": [
              "[BERT_EMBEDDINGS_29ce72cd673e, LegalNerModel_2a416d03920d]"
            ]
          },
          "metadata": {},
          "execution_count": 30
        }
      ]
    },
    {
      "cell_type": "code",
      "source": [
        "# Saving stage for NER model\n",
        "ner_model.stages[1].write().overwrite().save('my_NER_model')"
      ],
      "metadata": {
        "id": "9ye6ajRJaFtI"
      },
      "execution_count": 31,
      "outputs": []
    },
    {
      "cell_type": "markdown",
      "source": [
        "## Training a custom ClassifierDL"
      ],
      "metadata": {
        "id": "iW4VJKaCFNtv"
      }
    },
    {
      "cell_type": "markdown",
      "source": [
        "> -----------------------------------------------------\n",
        ">**Please restart the runtime (if you are in Colab) to release memory that will be needed in training.**\n",
        ">\n",
        "> -----------------------------------------------------"
      ],
      "metadata": {
        "id": "fg5QEx54mK71"
      }
    },
    {
      "cell_type": "code",
      "source": [
        "import os\n",
        "from johnsnowlabs import nlp, legal\n",
        "import pyspark.sql.functions as F\n",
        "from pyspark.sql.functions import col\n",
        "import pandas as pd\n",
        "from sklearn.model_selection import train_test_split\n",
        "from sklearn.metrics import classification_report\n",
        "\n",
        "spark = nlp.start()"
      ],
      "metadata": {
        "colab": {
          "base_uri": "https://localhost:8080/"
        },
        "id": "nMO6jDTUmTlm",
        "outputId": "65e2640c-d32c-4f01-92b6-8b40d025e7e7"
      },
      "execution_count": 1,
      "outputs": [
        {
          "output_type": "stream",
          "name": "stdout",
          "text": [
            "📋 Loading license number 0 from /root/.johnsnowlabs/licenses/license_number_0_for_Spark-Healthcare_Spark-OCR.json\n",
            "👌 Launched \u001b[92mcpu optimized\u001b[39m session with with: 🚀Spark-NLP==4.2.4, 💊Spark-Healthcare==4.2.4, running on ⚡ PySpark==3.1.2\n"
          ]
        }
      ]
    },
    {
      "cell_type": "markdown",
      "source": [
        "To train a multiclass classifier, we need to use the `ClassifierDLApproach` annotator. Let's get some training data and see how to create the pipeline for training."
      ],
      "metadata": {
        "id": "ul28pYoLHBw7"
      }
    },
    {
      "cell_type": "code",
      "source": [
        "! wget -q https://raw.githubusercontent.com/JohnSnowLabs/spark-nlp-workshop/master/tutorials/Certification_Trainings_JSL/Legal/data/finance_clf_data.csv"
      ],
      "metadata": {
        "id": "OG4J2nLhFRva"
      },
      "execution_count": 36,
      "outputs": []
    },
    {
      "cell_type": "markdown",
      "source": [
        "We will filter the top 3 classes in the dataset:\n",
        "\n",
        "- risk_factors\n",
        "- financial_statements\n",
        "- business"
      ],
      "metadata": {
        "id": "l6ZTZjYTt2dS"
      }
    },
    {
      "cell_type": "code",
      "source": [
        "classes = [\n",
        "    \"risk_factors\",\n",
        "    \"financial_statements\",\n",
        "    \"business\"\n",
        "]\n",
        "\n",
        "df = pd.read_csv('finance_clf_data.csv')\n",
        "df = df.loc[df.label.isin(classes)].sample(1000)\n",
        "print(df.shape)\n",
        "df.head()"
      ],
      "metadata": {
        "colab": {
          "base_uri": "https://localhost:8080/",
          "height": 224
        },
        "id": "hOur5D0NFbjV",
        "outputId": "89e0132a-0e49-40fe-b5c0-4dfe98d71634"
      },
      "execution_count": 2,
      "outputs": [
        {
          "output_type": "stream",
          "name": "stdout",
          "text": [
            "(1000, 3)\n"
          ]
        },
        {
          "output_type": "execute_result",
          "data": {
            "text/plain": [
              "                                                   text                 label  \\\n",
              "1129  Sales and Marketing\\n \\nWe sell our product of...              business   \n",
              "4508   \\n \\nEncryption\\n Dropbox file data at rest i...              business   \n",
              "5112  The Company has recorded the securities at fai...  financial_statements   \n",
              "5084   \\n\\n \\n \\n2020\\n \\n \\n2019\\n \\n\\n \\n \\n \\n \\n...  financial_statements   \n",
              "1837  In addition we expect that we will need less o...          risk_factors   \n",
              "\n",
              "       len  \n",
              "1129   706  \n",
              "4508   370  \n",
              "5112   379  \n",
              "5084   353  \n",
              "1837  1155  "
            ],
            "text/html": [
              "\n",
              "  <div id=\"df-a92c0939-0a99-4da8-87b1-74c53027443f\">\n",
              "    <div class=\"colab-df-container\">\n",
              "      <div>\n",
              "<style scoped>\n",
              "    .dataframe tbody tr th:only-of-type {\n",
              "        vertical-align: middle;\n",
              "    }\n",
              "\n",
              "    .dataframe tbody tr th {\n",
              "        vertical-align: top;\n",
              "    }\n",
              "\n",
              "    .dataframe thead th {\n",
              "        text-align: right;\n",
              "    }\n",
              "</style>\n",
              "<table border=\"1\" class=\"dataframe\">\n",
              "  <thead>\n",
              "    <tr style=\"text-align: right;\">\n",
              "      <th></th>\n",
              "      <th>text</th>\n",
              "      <th>label</th>\n",
              "      <th>len</th>\n",
              "    </tr>\n",
              "  </thead>\n",
              "  <tbody>\n",
              "    <tr>\n",
              "      <th>1129</th>\n",
              "      <td>Sales and Marketing\\n \\nWe sell our product of...</td>\n",
              "      <td>business</td>\n",
              "      <td>706</td>\n",
              "    </tr>\n",
              "    <tr>\n",
              "      <th>4508</th>\n",
              "      <td>\\n \\nEncryption\\n Dropbox file data at rest i...</td>\n",
              "      <td>business</td>\n",
              "      <td>370</td>\n",
              "    </tr>\n",
              "    <tr>\n",
              "      <th>5112</th>\n",
              "      <td>The Company has recorded the securities at fai...</td>\n",
              "      <td>financial_statements</td>\n",
              "      <td>379</td>\n",
              "    </tr>\n",
              "    <tr>\n",
              "      <th>5084</th>\n",
              "      <td>\\n\\n \\n \\n2020\\n \\n \\n2019\\n \\n\\n \\n \\n \\n \\n...</td>\n",
              "      <td>financial_statements</td>\n",
              "      <td>353</td>\n",
              "    </tr>\n",
              "    <tr>\n",
              "      <th>1837</th>\n",
              "      <td>In addition we expect that we will need less o...</td>\n",
              "      <td>risk_factors</td>\n",
              "      <td>1155</td>\n",
              "    </tr>\n",
              "  </tbody>\n",
              "</table>\n",
              "</div>\n",
              "      <button class=\"colab-df-convert\" onclick=\"convertToInteractive('df-a92c0939-0a99-4da8-87b1-74c53027443f')\"\n",
              "              title=\"Convert this dataframe to an interactive table.\"\n",
              "              style=\"display:none;\">\n",
              "        \n",
              "  <svg xmlns=\"http://www.w3.org/2000/svg\" height=\"24px\"viewBox=\"0 0 24 24\"\n",
              "       width=\"24px\">\n",
              "    <path d=\"M0 0h24v24H0V0z\" fill=\"none\"/>\n",
              "    <path d=\"M18.56 5.44l.94 2.06.94-2.06 2.06-.94-2.06-.94-.94-2.06-.94 2.06-2.06.94zm-11 1L8.5 8.5l.94-2.06 2.06-.94-2.06-.94L8.5 2.5l-.94 2.06-2.06.94zm10 10l.94 2.06.94-2.06 2.06-.94-2.06-.94-.94-2.06-.94 2.06-2.06.94z\"/><path d=\"M17.41 7.96l-1.37-1.37c-.4-.4-.92-.59-1.43-.59-.52 0-1.04.2-1.43.59L10.3 9.45l-7.72 7.72c-.78.78-.78 2.05 0 2.83L4 21.41c.39.39.9.59 1.41.59.51 0 1.02-.2 1.41-.59l7.78-7.78 2.81-2.81c.8-.78.8-2.07 0-2.86zM5.41 20L4 18.59l7.72-7.72 1.47 1.35L5.41 20z\"/>\n",
              "  </svg>\n",
              "      </button>\n",
              "      \n",
              "  <style>\n",
              "    .colab-df-container {\n",
              "      display:flex;\n",
              "      flex-wrap:wrap;\n",
              "      gap: 12px;\n",
              "    }\n",
              "\n",
              "    .colab-df-convert {\n",
              "      background-color: #E8F0FE;\n",
              "      border: none;\n",
              "      border-radius: 50%;\n",
              "      cursor: pointer;\n",
              "      display: none;\n",
              "      fill: #1967D2;\n",
              "      height: 32px;\n",
              "      padding: 0 0 0 0;\n",
              "      width: 32px;\n",
              "    }\n",
              "\n",
              "    .colab-df-convert:hover {\n",
              "      background-color: #E2EBFA;\n",
              "      box-shadow: 0px 1px 2px rgba(60, 64, 67, 0.3), 0px 1px 3px 1px rgba(60, 64, 67, 0.15);\n",
              "      fill: #174EA6;\n",
              "    }\n",
              "\n",
              "    [theme=dark] .colab-df-convert {\n",
              "      background-color: #3B4455;\n",
              "      fill: #D2E3FC;\n",
              "    }\n",
              "\n",
              "    [theme=dark] .colab-df-convert:hover {\n",
              "      background-color: #434B5C;\n",
              "      box-shadow: 0px 1px 3px 1px rgba(0, 0, 0, 0.15);\n",
              "      filter: drop-shadow(0px 1px 2px rgba(0, 0, 0, 0.3));\n",
              "      fill: #FFFFFF;\n",
              "    }\n",
              "  </style>\n",
              "\n",
              "      <script>\n",
              "        const buttonEl =\n",
              "          document.querySelector('#df-a92c0939-0a99-4da8-87b1-74c53027443f button.colab-df-convert');\n",
              "        buttonEl.style.display =\n",
              "          google.colab.kernel.accessAllowed ? 'block' : 'none';\n",
              "\n",
              "        async function convertToInteractive(key) {\n",
              "          const element = document.querySelector('#df-a92c0939-0a99-4da8-87b1-74c53027443f');\n",
              "          const dataTable =\n",
              "            await google.colab.kernel.invokeFunction('convertToInteractive',\n",
              "                                                     [key], {});\n",
              "          if (!dataTable) return;\n",
              "\n",
              "          const docLinkHtml = 'Like what you see? Visit the ' +\n",
              "            '<a target=\"_blank\" href=https://colab.research.google.com/notebooks/data_table.ipynb>data table notebook</a>'\n",
              "            + ' to learn more about interactive tables.';\n",
              "          element.innerHTML = '';\n",
              "          dataTable['output_type'] = 'display_data';\n",
              "          await google.colab.output.renderOutput(dataTable, element);\n",
              "          const docLink = document.createElement('div');\n",
              "          docLink.innerHTML = docLinkHtml;\n",
              "          element.appendChild(docLink);\n",
              "        }\n",
              "      </script>\n",
              "    </div>\n",
              "  </div>\n",
              "  "
            ]
          },
          "metadata": {},
          "execution_count": 2
        }
      ]
    },
    {
      "cell_type": "code",
      "source": [
        "df['label'].value_counts()"
      ],
      "metadata": {
        "colab": {
          "base_uri": "https://localhost:8080/"
        },
        "id": "bTwNZoX-F4vO",
        "outputId": "3a35abdc-6f9c-4538-ac64-13656b17773d"
      },
      "execution_count": 3,
      "outputs": [
        {
          "output_type": "execute_result",
          "data": {
            "text/plain": [
              "financial_statements    396\n",
              "risk_factors            382\n",
              "business                222\n",
              "Name: label, dtype: int64"
            ]
          },
          "metadata": {},
          "execution_count": 3
        }
      ]
    },
    {
      "cell_type": "markdown",
      "source": [
        "We split in train and test sets, stratifying by the label column to guarantee all labels in both samples."
      ],
      "metadata": {
        "id": "Kkt5vlRNHNaT"
      }
    },
    {
      "cell_type": "code",
      "source": [
        "train_df, test_df = train_test_split(df, train_size=0.8, stratify=df.label)\n",
        "\n",
        "train = spark.createDataFrame(train_df)\n",
        "test = spark.createDataFrame(test_df)"
      ],
      "metadata": {
        "id": "DzCZCoPGF5LQ"
      },
      "execution_count": 4,
      "outputs": []
    },
    {
      "cell_type": "code",
      "source": [
        "train.groupBy(\"label\") \\\n",
        "    .count() \\\n",
        "    .orderBy(col(\"count\").desc()) \\\n",
        "    .show()"
      ],
      "metadata": {
        "colab": {
          "base_uri": "https://localhost:8080/"
        },
        "id": "71TaH5xHGMyL",
        "outputId": "054d66f0-1f5b-4aa2-80e2-fde128a61520"
      },
      "execution_count": 5,
      "outputs": [
        {
          "output_type": "stream",
          "name": "stdout",
          "text": [
            "+--------------------+-----+\n",
            "|               label|count|\n",
            "+--------------------+-----+\n",
            "|financial_statements|  317|\n",
            "|        risk_factors|  306|\n",
            "|            business|  177|\n",
            "+--------------------+-----+\n",
            "\n"
          ]
        }
      ]
    },
    {
      "cell_type": "code",
      "source": [
        "test.groupBy(\"label\") \\\n",
        "    .count() \\\n",
        "    .orderBy(col(\"count\").desc()) \\\n",
        "    .show()"
      ],
      "metadata": {
        "colab": {
          "base_uri": "https://localhost:8080/"
        },
        "id": "-syIwcaMGQdf",
        "outputId": "ae9ee7f4-195b-4ee2-d222-9008aac5f1bf"
      },
      "execution_count": 6,
      "outputs": [
        {
          "output_type": "stream",
          "name": "stdout",
          "text": [
            "+--------------------+-----+\n",
            "|               label|count|\n",
            "+--------------------+-----+\n",
            "|financial_statements|   79|\n",
            "|        risk_factors|   76|\n",
            "|            business|   45|\n",
            "+--------------------+-----+\n",
            "\n"
          ]
        }
      ]
    },
    {
      "cell_type": "markdown",
      "source": [
        "We will use the `UniversalSentenceEncoder` embeddings, but you could also use other architectures if you need (e.g., `RoBERTa`)."
      ],
      "metadata": {
        "id": "aP3_HMp1HVhh"
      }
    },
    {
      "cell_type": "code",
      "source": [
        "document_assembler = (\n",
        "    nlp.DocumentAssembler().setInputCol(\"text\").setOutputCol(\"document\")\n",
        ")\n",
        "\n",
        "embeddings = (\n",
        "    nlp.UniversalSentenceEncoder.pretrained()\n",
        "    .setInputCols(\"document\")\n",
        "    .setOutputCol(\"sentence_embeddings\")\n",
        ")\n",
        "\n",
        "classifierdl = (\n",
        "    legal.ClassifierDLApproach()\n",
        "    .setInputCols([\"sentence_embeddings\"])\n",
        "    .setOutputCol(\"class\")\n",
        "    .setLabelColumn(\"label\")\n",
        "    .setMaxEpochs(20)\n",
        "    .setEnableOutputLogs(True)\n",
        "    .setOutputLogsPath(\"cls_logs\")\n",
        "    .setBatchSize(8)\n",
        ")\n",
        "\n",
        "clf_pipeline = nlp.Pipeline(stages=[document_assembler, embeddings, classifierdl])"
      ],
      "metadata": {
        "colab": {
          "base_uri": "https://localhost:8080/"
        },
        "id": "EVzWxX7aGRwq",
        "outputId": "b4bbf048-7d84-4cf2-8fe4-36729c5d0524"
      },
      "execution_count": 7,
      "outputs": [
        {
          "output_type": "stream",
          "name": "stdout",
          "text": [
            "tfhub_use download started this may take some time.\n",
            "Approximate size to download 923.7 MB\n",
            "[OK!]\n"
          ]
        }
      ]
    },
    {
      "cell_type": "code",
      "source": [
        "%%time\n",
        "\n",
        "clf_pipelineModel = clf_pipeline.fit(train)"
      ],
      "metadata": {
        "colab": {
          "base_uri": "https://localhost:8080/"
        },
        "id": "T-xbGe75GU32",
        "outputId": "84d2688a-e41c-4ead-f4c3-9da917f6a961"
      },
      "execution_count": 8,
      "outputs": [
        {
          "output_type": "stream",
          "name": "stdout",
          "text": [
            "CPU times: user 283 ms, sys: 27.7 ms, total: 311 ms\n",
            "Wall time: 37 s\n"
          ]
        }
      ]
    },
    {
      "cell_type": "code",
      "source": [
        "log_file_name = os.listdir(\"cls_logs\")[0]\n",
        "\n",
        "with open(\"cls_logs/\"+log_file_name, \"r\") as log_file :\n",
        "    print(log_file.read())"
      ],
      "metadata": {
        "colab": {
          "base_uri": "https://localhost:8080/"
        },
        "id": "-PdrNdo7GYqV",
        "outputId": "21e95830-981d-4e94-937a-2939a89906fe"
      },
      "execution_count": 12,
      "outputs": [
        {
          "output_type": "stream",
          "name": "stdout",
          "text": [
            "Training started - epochs: 20 - learning_rate: 0.005 - batch_size: 8 - training_examples: 800 - classes: 3\n",
            "Epoch 0/20 - 1.33s - loss: 80.58355 - acc: 0.73375 - batches: 100\n",
            "Epoch 1/20 - 0.94s - loss: 69.26563 - acc: 0.855 - batches: 100\n",
            "Epoch 2/20 - 0.92s - loss: 66.08948 - acc: 0.88 - batches: 100\n",
            "Epoch 3/20 - 0.91s - loss: 63.99117 - acc: 0.90375 - batches: 100\n",
            "Epoch 4/20 - 0.89s - loss: 62.232586 - acc: 0.91 - batches: 100\n",
            "Epoch 5/20 - 1.14s - loss: 61.651657 - acc: 0.91125 - batches: 100\n",
            "Epoch 6/20 - 0.93s - loss: 61.13254 - acc: 0.9125 - batches: 100\n",
            "Epoch 7/20 - 0.89s - loss: 60.89958 - acc: 0.915 - batches: 100\n",
            "Epoch 8/20 - 0.86s - loss: 60.802555 - acc: 0.9175 - batches: 100\n",
            "Epoch 9/20 - 0.87s - loss: 60.69759 - acc: 0.9175 - batches: 100\n",
            "Epoch 10/20 - 0.85s - loss: 60.597687 - acc: 0.9175 - batches: 100\n",
            "Epoch 11/20 - 0.88s - loss: 60.52039 - acc: 0.92 - batches: 100\n",
            "Epoch 12/20 - 1.18s - loss: 60.473053 - acc: 0.92125 - batches: 100\n",
            "Epoch 13/20 - 1.13s - loss: 60.4456 - acc: 0.9225 - batches: 100\n",
            "Epoch 14/20 - 0.86s - loss: 60.43527 - acc: 0.9225 - batches: 100\n",
            "Epoch 15/20 - 0.86s - loss: 60.44551 - acc: 0.9225 - batches: 100\n",
            "Epoch 16/20 - 0.85s - loss: 60.430103 - acc: 0.92625 - batches: 100\n",
            "Epoch 17/20 - 0.87s - loss: 60.40707 - acc: 0.92625 - batches: 100\n",
            "Epoch 18/20 - 0.89s - loss: 60.385414 - acc: 0.92625 - batches: 100\n",
            "Epoch 19/20 - 0.87s - loss: 60.36696 - acc: 0.92625 - batches: 100\n",
            "\n"
          ]
        }
      ]
    },
    {
      "cell_type": "code",
      "source": [
        "preds = clf_pipelineModel.transform(test)\n",
        "preds_df = preds.select('label', 'text', \"class.result\").toPandas()\n",
        "\n",
        "# The result is an array since in Spark NLP you can have multiple sentences.\n",
        "# Let's explode the array and get the item(s) inside of result column out\n",
        "preds_df['result'] = preds_df['result'].apply(lambda x : x[0])\n",
        "\n",
        "preds_df.head()"
      ],
      "metadata": {
        "colab": {
          "base_uri": "https://localhost:8080/",
          "height": 206
        },
        "id": "C8qX0RAWGaeT",
        "outputId": "3e6a73f4-1312-42a2-b182-230142b1c0cf"
      },
      "execution_count": 13,
      "outputs": [
        {
          "output_type": "execute_result",
          "data": {
            "text/plain": [
              "                  label                                               text  \\\n",
              "0          risk_factors  If we fail to comply with these licenses we ma...   \n",
              "1  financial_statements  Variable consideration\\nThe Company s arrangem...   \n",
              "2              business   \\n \\nWe are an authorized distributor for Ado...   \n",
              "3  financial_statements  the Company s technology and product offerings...   \n",
              "4  financial_statements   \\n9 298\\n \\nPrepaid expenses\\n \\n17 854\\n \\n1...   \n",
              "\n",
              "                 result  \n",
              "0          risk_factors  \n",
              "1  financial_statements  \n",
              "2          risk_factors  \n",
              "3  financial_statements  \n",
              "4  financial_statements  "
            ],
            "text/html": [
              "\n",
              "  <div id=\"df-3ab0162d-6d8b-4bbd-b019-f9f0addd416f\">\n",
              "    <div class=\"colab-df-container\">\n",
              "      <div>\n",
              "<style scoped>\n",
              "    .dataframe tbody tr th:only-of-type {\n",
              "        vertical-align: middle;\n",
              "    }\n",
              "\n",
              "    .dataframe tbody tr th {\n",
              "        vertical-align: top;\n",
              "    }\n",
              "\n",
              "    .dataframe thead th {\n",
              "        text-align: right;\n",
              "    }\n",
              "</style>\n",
              "<table border=\"1\" class=\"dataframe\">\n",
              "  <thead>\n",
              "    <tr style=\"text-align: right;\">\n",
              "      <th></th>\n",
              "      <th>label</th>\n",
              "      <th>text</th>\n",
              "      <th>result</th>\n",
              "    </tr>\n",
              "  </thead>\n",
              "  <tbody>\n",
              "    <tr>\n",
              "      <th>0</th>\n",
              "      <td>risk_factors</td>\n",
              "      <td>If we fail to comply with these licenses we ma...</td>\n",
              "      <td>risk_factors</td>\n",
              "    </tr>\n",
              "    <tr>\n",
              "      <th>1</th>\n",
              "      <td>financial_statements</td>\n",
              "      <td>Variable consideration\\nThe Company s arrangem...</td>\n",
              "      <td>financial_statements</td>\n",
              "    </tr>\n",
              "    <tr>\n",
              "      <th>2</th>\n",
              "      <td>business</td>\n",
              "      <td>\\n \\nWe are an authorized distributor for Ado...</td>\n",
              "      <td>risk_factors</td>\n",
              "    </tr>\n",
              "    <tr>\n",
              "      <th>3</th>\n",
              "      <td>financial_statements</td>\n",
              "      <td>the Company s technology and product offerings...</td>\n",
              "      <td>financial_statements</td>\n",
              "    </tr>\n",
              "    <tr>\n",
              "      <th>4</th>\n",
              "      <td>financial_statements</td>\n",
              "      <td>\\n9 298\\n \\nPrepaid expenses\\n \\n17 854\\n \\n1...</td>\n",
              "      <td>financial_statements</td>\n",
              "    </tr>\n",
              "  </tbody>\n",
              "</table>\n",
              "</div>\n",
              "      <button class=\"colab-df-convert\" onclick=\"convertToInteractive('df-3ab0162d-6d8b-4bbd-b019-f9f0addd416f')\"\n",
              "              title=\"Convert this dataframe to an interactive table.\"\n",
              "              style=\"display:none;\">\n",
              "        \n",
              "  <svg xmlns=\"http://www.w3.org/2000/svg\" height=\"24px\"viewBox=\"0 0 24 24\"\n",
              "       width=\"24px\">\n",
              "    <path d=\"M0 0h24v24H0V0z\" fill=\"none\"/>\n",
              "    <path d=\"M18.56 5.44l.94 2.06.94-2.06 2.06-.94-2.06-.94-.94-2.06-.94 2.06-2.06.94zm-11 1L8.5 8.5l.94-2.06 2.06-.94-2.06-.94L8.5 2.5l-.94 2.06-2.06.94zm10 10l.94 2.06.94-2.06 2.06-.94-2.06-.94-.94-2.06-.94 2.06-2.06.94z\"/><path d=\"M17.41 7.96l-1.37-1.37c-.4-.4-.92-.59-1.43-.59-.52 0-1.04.2-1.43.59L10.3 9.45l-7.72 7.72c-.78.78-.78 2.05 0 2.83L4 21.41c.39.39.9.59 1.41.59.51 0 1.02-.2 1.41-.59l7.78-7.78 2.81-2.81c.8-.78.8-2.07 0-2.86zM5.41 20L4 18.59l7.72-7.72 1.47 1.35L5.41 20z\"/>\n",
              "  </svg>\n",
              "      </button>\n",
              "      \n",
              "  <style>\n",
              "    .colab-df-container {\n",
              "      display:flex;\n",
              "      flex-wrap:wrap;\n",
              "      gap: 12px;\n",
              "    }\n",
              "\n",
              "    .colab-df-convert {\n",
              "      background-color: #E8F0FE;\n",
              "      border: none;\n",
              "      border-radius: 50%;\n",
              "      cursor: pointer;\n",
              "      display: none;\n",
              "      fill: #1967D2;\n",
              "      height: 32px;\n",
              "      padding: 0 0 0 0;\n",
              "      width: 32px;\n",
              "    }\n",
              "\n",
              "    .colab-df-convert:hover {\n",
              "      background-color: #E2EBFA;\n",
              "      box-shadow: 0px 1px 2px rgba(60, 64, 67, 0.3), 0px 1px 3px 1px rgba(60, 64, 67, 0.15);\n",
              "      fill: #174EA6;\n",
              "    }\n",
              "\n",
              "    [theme=dark] .colab-df-convert {\n",
              "      background-color: #3B4455;\n",
              "      fill: #D2E3FC;\n",
              "    }\n",
              "\n",
              "    [theme=dark] .colab-df-convert:hover {\n",
              "      background-color: #434B5C;\n",
              "      box-shadow: 0px 1px 3px 1px rgba(0, 0, 0, 0.15);\n",
              "      filter: drop-shadow(0px 1px 2px rgba(0, 0, 0, 0.3));\n",
              "      fill: #FFFFFF;\n",
              "    }\n",
              "  </style>\n",
              "\n",
              "      <script>\n",
              "        const buttonEl =\n",
              "          document.querySelector('#df-3ab0162d-6d8b-4bbd-b019-f9f0addd416f button.colab-df-convert');\n",
              "        buttonEl.style.display =\n",
              "          google.colab.kernel.accessAllowed ? 'block' : 'none';\n",
              "\n",
              "        async function convertToInteractive(key) {\n",
              "          const element = document.querySelector('#df-3ab0162d-6d8b-4bbd-b019-f9f0addd416f');\n",
              "          const dataTable =\n",
              "            await google.colab.kernel.invokeFunction('convertToInteractive',\n",
              "                                                     [key], {});\n",
              "          if (!dataTable) return;\n",
              "\n",
              "          const docLinkHtml = 'Like what you see? Visit the ' +\n",
              "            '<a target=\"_blank\" href=https://colab.research.google.com/notebooks/data_table.ipynb>data table notebook</a>'\n",
              "            + ' to learn more about interactive tables.';\n",
              "          element.innerHTML = '';\n",
              "          dataTable['output_type'] = 'display_data';\n",
              "          await google.colab.output.renderOutput(dataTable, element);\n",
              "          const docLink = document.createElement('div');\n",
              "          docLink.innerHTML = docLinkHtml;\n",
              "          element.appendChild(docLink);\n",
              "        }\n",
              "      </script>\n",
              "    </div>\n",
              "  </div>\n",
              "  "
            ]
          },
          "metadata": {},
          "execution_count": 13
        }
      ]
    },
    {
      "cell_type": "code",
      "source": [
        "print (classification_report(preds_df['label'], preds_df['result']))"
      ],
      "metadata": {
        "colab": {
          "base_uri": "https://localhost:8080/"
        },
        "id": "BoS_FMvBGfs9",
        "outputId": "8880530a-bf34-44f3-927b-21360fafb051"
      },
      "execution_count": 14,
      "outputs": [
        {
          "output_type": "stream",
          "name": "stdout",
          "text": [
            "                      precision    recall  f1-score   support\n",
            "\n",
            "            business       0.94      0.67      0.78        45\n",
            "financial_statements       0.88      0.90      0.89        79\n",
            "        risk_factors       0.78      0.89      0.83        76\n",
            "\n",
            "            accuracy                           0.84       200\n",
            "           macro avg       0.87      0.82      0.83       200\n",
            "        weighted avg       0.85      0.84      0.84       200\n",
            "\n"
          ]
        }
      ]
    },
    {
      "cell_type": "markdown",
      "source": [
        "### Saving and Loading the model"
      ],
      "metadata": {
        "id": "J65DEUgjGiHZ"
      }
    },
    {
      "cell_type": "code",
      "source": [
        "clf_pipelineModel.stages"
      ],
      "metadata": {
        "colab": {
          "base_uri": "https://localhost:8080/"
        },
        "id": "-pqGNpNFGjyd",
        "outputId": "1fc11921-c884-4ba5-92a7-c690b7056a4e"
      },
      "execution_count": 15,
      "outputs": [
        {
          "output_type": "execute_result",
          "data": {
            "text/plain": [
              "[DocumentAssembler_66b6b4e56164,\n",
              " UNIVERSAL_SENTENCE_ENCODER_4de71669b7ec,\n",
              " LegalClassifierDLModel_c5549c5fb7e1]"
            ]
          },
          "metadata": {},
          "execution_count": 15
        }
      ]
    },
    {
      "cell_type": "code",
      "source": [
        "clf_pipelineModel.stages[-1].write().overwrite().save('Clf_Use')"
      ],
      "metadata": {
        "id": "CjQHH44RGlmL"
      },
      "execution_count": 16,
      "outputs": []
    },
    {
      "cell_type": "code",
      "source": [
        "# Load back  saved Classifier Model\n",
        "ClfModel = legal.ClassifierDLModel.load('Clf_Use')"
      ],
      "metadata": {
        "id": "LG7cAZAFGmSv"
      },
      "execution_count": 17,
      "outputs": []
    },
    {
      "cell_type": "code",
      "source": [
        "ld_pipeline = nlp.Pipeline(stages=[document_assembler, embeddings,ClfModel])\n",
        "ld_pipeline_model = ld_pipeline.fit(spark.createDataFrame([['']]).toDF(\"text\"))"
      ],
      "metadata": {
        "id": "P15we_6iGn8P"
      },
      "execution_count": 18,
      "outputs": []
    },
    {
      "cell_type": "code",
      "source": [
        "# Apply Model Transform to testData\n",
        "ld_preds = ld_pipeline_model.transform(test)\n",
        "ld_preds_df = ld_preds.select('text','label',\"class.result\").toPandas()\n",
        "ld_preds_df.head()"
      ],
      "metadata": {
        "colab": {
          "base_uri": "https://localhost:8080/",
          "height": 206
        },
        "id": "hybbJuRiGpFP",
        "outputId": "f3f49fb4-e207-4743-cccd-37b3a7d3df8d"
      },
      "execution_count": 19,
      "outputs": [
        {
          "output_type": "execute_result",
          "data": {
            "text/plain": [
              "                                                text                 label  \\\n",
              "0  If we fail to comply with these licenses we ma...          risk_factors   \n",
              "1  Variable consideration\\nThe Company s arrangem...  financial_statements   \n",
              "2   \\n \\nWe are an authorized distributor for Ado...              business   \n",
              "3  the Company s technology and product offerings...  financial_statements   \n",
              "4   \\n9 298\\n \\nPrepaid expenses\\n \\n17 854\\n \\n1...  financial_statements   \n",
              "\n",
              "                   result  \n",
              "0          [risk_factors]  \n",
              "1  [financial_statements]  \n",
              "2          [risk_factors]  \n",
              "3  [financial_statements]  \n",
              "4  [financial_statements]  "
            ],
            "text/html": [
              "\n",
              "  <div id=\"df-1512f50e-0f67-47b4-a88e-5c63aaaafba1\">\n",
              "    <div class=\"colab-df-container\">\n",
              "      <div>\n",
              "<style scoped>\n",
              "    .dataframe tbody tr th:only-of-type {\n",
              "        vertical-align: middle;\n",
              "    }\n",
              "\n",
              "    .dataframe tbody tr th {\n",
              "        vertical-align: top;\n",
              "    }\n",
              "\n",
              "    .dataframe thead th {\n",
              "        text-align: right;\n",
              "    }\n",
              "</style>\n",
              "<table border=\"1\" class=\"dataframe\">\n",
              "  <thead>\n",
              "    <tr style=\"text-align: right;\">\n",
              "      <th></th>\n",
              "      <th>text</th>\n",
              "      <th>label</th>\n",
              "      <th>result</th>\n",
              "    </tr>\n",
              "  </thead>\n",
              "  <tbody>\n",
              "    <tr>\n",
              "      <th>0</th>\n",
              "      <td>If we fail to comply with these licenses we ma...</td>\n",
              "      <td>risk_factors</td>\n",
              "      <td>[risk_factors]</td>\n",
              "    </tr>\n",
              "    <tr>\n",
              "      <th>1</th>\n",
              "      <td>Variable consideration\\nThe Company s arrangem...</td>\n",
              "      <td>financial_statements</td>\n",
              "      <td>[financial_statements]</td>\n",
              "    </tr>\n",
              "    <tr>\n",
              "      <th>2</th>\n",
              "      <td>\\n \\nWe are an authorized distributor for Ado...</td>\n",
              "      <td>business</td>\n",
              "      <td>[risk_factors]</td>\n",
              "    </tr>\n",
              "    <tr>\n",
              "      <th>3</th>\n",
              "      <td>the Company s technology and product offerings...</td>\n",
              "      <td>financial_statements</td>\n",
              "      <td>[financial_statements]</td>\n",
              "    </tr>\n",
              "    <tr>\n",
              "      <th>4</th>\n",
              "      <td>\\n9 298\\n \\nPrepaid expenses\\n \\n17 854\\n \\n1...</td>\n",
              "      <td>financial_statements</td>\n",
              "      <td>[financial_statements]</td>\n",
              "    </tr>\n",
              "  </tbody>\n",
              "</table>\n",
              "</div>\n",
              "      <button class=\"colab-df-convert\" onclick=\"convertToInteractive('df-1512f50e-0f67-47b4-a88e-5c63aaaafba1')\"\n",
              "              title=\"Convert this dataframe to an interactive table.\"\n",
              "              style=\"display:none;\">\n",
              "        \n",
              "  <svg xmlns=\"http://www.w3.org/2000/svg\" height=\"24px\"viewBox=\"0 0 24 24\"\n",
              "       width=\"24px\">\n",
              "    <path d=\"M0 0h24v24H0V0z\" fill=\"none\"/>\n",
              "    <path d=\"M18.56 5.44l.94 2.06.94-2.06 2.06-.94-2.06-.94-.94-2.06-.94 2.06-2.06.94zm-11 1L8.5 8.5l.94-2.06 2.06-.94-2.06-.94L8.5 2.5l-.94 2.06-2.06.94zm10 10l.94 2.06.94-2.06 2.06-.94-2.06-.94-.94-2.06-.94 2.06-2.06.94z\"/><path d=\"M17.41 7.96l-1.37-1.37c-.4-.4-.92-.59-1.43-.59-.52 0-1.04.2-1.43.59L10.3 9.45l-7.72 7.72c-.78.78-.78 2.05 0 2.83L4 21.41c.39.39.9.59 1.41.59.51 0 1.02-.2 1.41-.59l7.78-7.78 2.81-2.81c.8-.78.8-2.07 0-2.86zM5.41 20L4 18.59l7.72-7.72 1.47 1.35L5.41 20z\"/>\n",
              "  </svg>\n",
              "      </button>\n",
              "      \n",
              "  <style>\n",
              "    .colab-df-container {\n",
              "      display:flex;\n",
              "      flex-wrap:wrap;\n",
              "      gap: 12px;\n",
              "    }\n",
              "\n",
              "    .colab-df-convert {\n",
              "      background-color: #E8F0FE;\n",
              "      border: none;\n",
              "      border-radius: 50%;\n",
              "      cursor: pointer;\n",
              "      display: none;\n",
              "      fill: #1967D2;\n",
              "      height: 32px;\n",
              "      padding: 0 0 0 0;\n",
              "      width: 32px;\n",
              "    }\n",
              "\n",
              "    .colab-df-convert:hover {\n",
              "      background-color: #E2EBFA;\n",
              "      box-shadow: 0px 1px 2px rgba(60, 64, 67, 0.3), 0px 1px 3px 1px rgba(60, 64, 67, 0.15);\n",
              "      fill: #174EA6;\n",
              "    }\n",
              "\n",
              "    [theme=dark] .colab-df-convert {\n",
              "      background-color: #3B4455;\n",
              "      fill: #D2E3FC;\n",
              "    }\n",
              "\n",
              "    [theme=dark] .colab-df-convert:hover {\n",
              "      background-color: #434B5C;\n",
              "      box-shadow: 0px 1px 3px 1px rgba(0, 0, 0, 0.15);\n",
              "      filter: drop-shadow(0px 1px 2px rgba(0, 0, 0, 0.3));\n",
              "      fill: #FFFFFF;\n",
              "    }\n",
              "  </style>\n",
              "\n",
              "      <script>\n",
              "        const buttonEl =\n",
              "          document.querySelector('#df-1512f50e-0f67-47b4-a88e-5c63aaaafba1 button.colab-df-convert');\n",
              "        buttonEl.style.display =\n",
              "          google.colab.kernel.accessAllowed ? 'block' : 'none';\n",
              "\n",
              "        async function convertToInteractive(key) {\n",
              "          const element = document.querySelector('#df-1512f50e-0f67-47b4-a88e-5c63aaaafba1');\n",
              "          const dataTable =\n",
              "            await google.colab.kernel.invokeFunction('convertToInteractive',\n",
              "                                                     [key], {});\n",
              "          if (!dataTable) return;\n",
              "\n",
              "          const docLinkHtml = 'Like what you see? Visit the ' +\n",
              "            '<a target=\"_blank\" href=https://colab.research.google.com/notebooks/data_table.ipynb>data table notebook</a>'\n",
              "            + ' to learn more about interactive tables.';\n",
              "          element.innerHTML = '';\n",
              "          dataTable['output_type'] = 'display_data';\n",
              "          await google.colab.output.renderOutput(dataTable, element);\n",
              "          const docLink = document.createElement('div');\n",
              "          docLink.innerHTML = docLinkHtml;\n",
              "          element.appendChild(docLink);\n",
              "        }\n",
              "      </script>\n",
              "    </div>\n",
              "  </div>\n",
              "  "
            ]
          },
          "metadata": {},
          "execution_count": 19
        }
      ]
    },
    {
      "cell_type": "markdown",
      "source": [
        "## Training a custom `MultiClassifierDL`"
      ],
      "metadata": {
        "id": "UA4ok3wJKgRT"
      }
    },
    {
      "cell_type": "markdown",
      "source": [
        "> -----------------------------------------------------\n",
        ">**Please restart the runtime (if you are in Colab) to release memory that will be needed in training.**\n",
        ">\n",
        "> -----------------------------------------------------"
      ],
      "metadata": {
        "id": "mFB1Anmr34Q0"
      }
    },
    {
      "cell_type": "code",
      "source": [
        "import os\n",
        "from sklearn.model_selection import train_test_split\n",
        "from sklearn.preprocessing import MultiLabelBinarizer\n",
        "from sklearn.metrics import classification_report\n",
        "from sklearn.metrics import f1_score\n",
        "from sklearn.metrics import roc_auc_score\n",
        "from pyspark.sql.functions import col\n",
        "import pandas as pd\n",
        "from johnsnowlabs import nlp, legal"
      ],
      "metadata": {
        "id": "aHl4Pf-tKysy"
      },
      "execution_count": 1,
      "outputs": []
    },
    {
      "cell_type": "code",
      "source": [
        "spark = nlp.start()\n",
        "\n",
        "spark"
      ],
      "metadata": {
        "colab": {
          "base_uri": "https://localhost:8080/",
          "height": 295
        },
        "id": "WJW6ANZ44Nti",
        "outputId": "92317b16-fb66-4b16-dc0e-a8436573ea1b"
      },
      "execution_count": 3,
      "outputs": [
        {
          "output_type": "stream",
          "name": "stdout",
          "text": [
            "📋 Loading license number 0 from /root/.johnsnowlabs/licenses/license_number_0_for_Spark-Healthcare_Spark-OCR.json\n",
            "👌 Launched \u001b[92mcpu optimized\u001b[39m session with with: 🚀Spark-NLP==4.2.4, 💊Spark-Healthcare==4.2.4, running on ⚡ PySpark==3.1.2\n"
          ]
        },
        {
          "output_type": "execute_result",
          "data": {
            "text/plain": [
              "<pyspark.sql.session.SparkSession at 0x7fa25fed4be0>"
            ],
            "text/html": [
              "\n",
              "            <div>\n",
              "                <p><b>SparkSession - in-memory</b></p>\n",
              "                \n",
              "        <div>\n",
              "            <p><b>SparkContext</b></p>\n",
              "\n",
              "            <p><a href=\"http://cc2d399668dd:4040\">Spark UI</a></p>\n",
              "\n",
              "            <dl>\n",
              "              <dt>Version</dt>\n",
              "                <dd><code>v3.1.2</code></dd>\n",
              "              <dt>Master</dt>\n",
              "                <dd><code>local[*]</code></dd>\n",
              "              <dt>AppName</dt>\n",
              "                <dd><code>John-Snow-Labs-Spark-Session 🚀 with Jars for: 🚀Spark-NLP==4.2.4, 💊Spark-Healthcare==4.2.4, running on ⚡ PySpark==3.1.2</code></dd>\n",
              "            </dl>\n",
              "        </div>\n",
              "        \n",
              "            </div>\n",
              "        "
            ]
          },
          "metadata": {},
          "execution_count": 3
        }
      ]
    },
    {
      "cell_type": "code",
      "source": [
        "! wget -q https://raw.githubusercontent.com/JohnSnowLabs/spark-nlp-workshop/master/tutorials/Certification_Trainings_JSL/Legal/data/finance_data.csv"
      ],
      "metadata": {
        "id": "oygv0D5YKmJK"
      },
      "execution_count": 1,
      "outputs": []
    },
    {
      "cell_type": "code",
      "source": [
        "df = pd.read_csv('./finance_data.csv')\n",
        "df['label'] = df['label'].apply(eval)\n",
        "df = df.sample(500)\n",
        "print(df.shape)\n",
        "\n",
        "data = spark.createDataFrame(df)\n",
        "\n",
        "train, test = data.randomSplit([0.8, 0.2], seed = 100)"
      ],
      "metadata": {
        "colab": {
          "base_uri": "https://localhost:8080/"
        },
        "id": "biBcx_jfKslL",
        "outputId": "4cdf7b27-e72a-4291-c989-e0055da1b28d"
      },
      "execution_count": 4,
      "outputs": [
        {
          "output_type": "stream",
          "name": "stdout",
          "text": [
            "(500, 2)\n"
          ]
        }
      ]
    },
    {
      "cell_type": "code",
      "source": [
        "test.groupBy(\"label\") \\\n",
        "    .count() \\\n",
        "    .orderBy(col(\"count\").desc()) \\\n",
        "    .show()"
      ],
      "metadata": {
        "colab": {
          "base_uri": "https://localhost:8080/"
        },
        "id": "yp6duus0LAGD",
        "outputId": "d7131905-650d-43af-bed7-0cba3c60b5a2"
      },
      "execution_count": 5,
      "outputs": [
        {
          "output_type": "stream",
          "name": "stdout",
          "text": [
            "+--------------------+-----+\n",
            "|               label|count|\n",
            "+--------------------+-----+\n",
            "|    [governing laws]|   16|\n",
            "| [entire agreements]|   16|\n",
            "|           [notices]|   10|\n",
            "|        [amendments]|   10|\n",
            "|      [counterparts]|   10|\n",
            "|[assigns, success...|    7|\n",
            "|          [survival]|    7|\n",
            "|      [severability]|    4|\n",
            "|[representations,...|    4|\n",
            "|          [expenses]|    4|\n",
            "|        [successors]|    3|\n",
            "|           [waivers]|    3|\n",
            "|      [terminations]|    3|\n",
            "|[waivers, amendme...|    3|\n",
            "|       [assignments]|    2|\n",
            "|[amendments, term...|    1|\n",
            "+--------------------+-----+\n",
            "\n"
          ]
        }
      ]
    },
    {
      "cell_type": "markdown",
      "source": [
        "We will average a pretrained `RoBERTa` word embedding to train, but other models can also be used (including `USE`)."
      ],
      "metadata": {
        "id": "Ph48EKbwLKzh"
      }
    },
    {
      "cell_type": "code",
      "source": [
        "document_assembler = (\n",
        "    nlp.DocumentAssembler().setInputCol(\"provision\").setOutputCol(\"document\")\n",
        ")\n",
        "\n",
        "tokenizer = nlp.Tokenizer().setInputCols([\"document\"]).setOutputCol(\"token\")\n",
        "\n",
        "embeddings = (\n",
        "    nlp.RoBertaEmbeddings.pretrained(\"roberta_embeddings_legal_roberta_base\", \"en\")\n",
        "    .setInputCols([\"document\", \"token\"])\n",
        "    .setOutputCol(\"embeddings\")\n",
        "    .setMaxSentenceLength(512)\n",
        ")\n",
        "\n",
        "embeddingsSentence = (\n",
        "    nlp.SentenceEmbeddings()\n",
        "    .setInputCols([\"document\", \"embeddings\"])\n",
        "    .setOutputCol(\"sentence_embeddings\")\n",
        "    .setPoolingStrategy(\"AVERAGE\")\n",
        ")\n",
        "\n",
        "classsifierdl = (\n",
        "    nlp.MultiClassifierDLApproach()\n",
        "    .setInputCols([\"sentence_embeddings\"])\n",
        "    .setOutputCol(\"class\")\n",
        "    .setLabelColumn(\"label\")\n",
        "    .setMaxEpochs(2)\n",
        "    .setEnableOutputLogs(True)\n",
        "    .setOutputLogsPath(\"multilabel_logs\")\n",
        "    .setBatchSize(8)\n",
        ")\n",
        "\n",
        "clf_pipeline = nlp.Pipeline(\n",
        "    stages=[\n",
        "        document_assembler,\n",
        "        tokenizer,\n",
        "        embeddings,\n",
        "        embeddingsSentence,\n",
        "        classsifierdl,\n",
        "    ]\n",
        ")"
      ],
      "metadata": {
        "colab": {
          "base_uri": "https://localhost:8080/"
        },
        "id": "SaWF_ZC8LLI7",
        "outputId": "ecabe26c-5472-4b61-bc70-bc8d2b5cac09"
      },
      "execution_count": 12,
      "outputs": [
        {
          "output_type": "stream",
          "name": "stdout",
          "text": [
            "roberta_embeddings_legal_roberta_base download started this may take some time.\n",
            "Approximate size to download 447.2 MB\n",
            "[OK!]\n"
          ]
        }
      ]
    },
    {
      "cell_type": "code",
      "source": [
        "%%time\n",
        "clf_pipelineModel = clf_pipeline.fit(train)"
      ],
      "metadata": {
        "colab": {
          "base_uri": "https://localhost:8080/"
        },
        "id": "83i7ByfpLYPb",
        "outputId": "3c6669d3-271b-41aa-86d0-cb8a52001b8a"
      },
      "execution_count": 13,
      "outputs": [
        {
          "output_type": "stream",
          "name": "stdout",
          "text": [
            "CPU times: user 12.2 s, sys: 1.39 s, total: 13.6 s\n",
            "Wall time: 32min 12s\n"
          ]
        }
      ]
    },
    {
      "cell_type": "code",
      "source": [
        "preds = clf_pipelineModel.transform(test)\n",
        "preds_df = preds.select('provision','label',\"class.result\").toPandas()\n",
        "preds_df.head()"
      ],
      "metadata": {
        "colab": {
          "base_uri": "https://localhost:8080/",
          "height": 206
        },
        "id": "X_WvoUOPLhjp",
        "outputId": "0ee29d81-7436-47e2-93d5-f765c9b2be80"
      },
      "execution_count": 14,
      "outputs": [
        {
          "output_type": "execute_result",
          "data": {
            "text/plain": [
              "                                           provision             label  \\\n",
              "0  (a)  THIS LETTER AGREEMENT AND ANY CLAIMS, CON...  [governing laws]   \n",
              "1  All notices and other communications hereunder...         [notices]   \n",
              "2  All notices, requests, consents and other comm...         [notices]   \n",
              "3  An amendment which provides for a significant ...         [notices]   \n",
              "4  Any notice required to be given by the Employe...         [notices]   \n",
              "\n",
              "             result  \n",
              "0  [governing laws]  \n",
              "1         [notices]  \n",
              "2         [notices]  \n",
              "3                []  \n",
              "4         [notices]  "
            ],
            "text/html": [
              "\n",
              "  <div id=\"df-8a93e671-5746-416b-a8a6-a8285812af2b\">\n",
              "    <div class=\"colab-df-container\">\n",
              "      <div>\n",
              "<style scoped>\n",
              "    .dataframe tbody tr th:only-of-type {\n",
              "        vertical-align: middle;\n",
              "    }\n",
              "\n",
              "    .dataframe tbody tr th {\n",
              "        vertical-align: top;\n",
              "    }\n",
              "\n",
              "    .dataframe thead th {\n",
              "        text-align: right;\n",
              "    }\n",
              "</style>\n",
              "<table border=\"1\" class=\"dataframe\">\n",
              "  <thead>\n",
              "    <tr style=\"text-align: right;\">\n",
              "      <th></th>\n",
              "      <th>provision</th>\n",
              "      <th>label</th>\n",
              "      <th>result</th>\n",
              "    </tr>\n",
              "  </thead>\n",
              "  <tbody>\n",
              "    <tr>\n",
              "      <th>0</th>\n",
              "      <td>(a)  THIS LETTER AGREEMENT AND ANY CLAIMS, CON...</td>\n",
              "      <td>[governing laws]</td>\n",
              "      <td>[governing laws]</td>\n",
              "    </tr>\n",
              "    <tr>\n",
              "      <th>1</th>\n",
              "      <td>All notices and other communications hereunder...</td>\n",
              "      <td>[notices]</td>\n",
              "      <td>[notices]</td>\n",
              "    </tr>\n",
              "    <tr>\n",
              "      <th>2</th>\n",
              "      <td>All notices, requests, consents and other comm...</td>\n",
              "      <td>[notices]</td>\n",
              "      <td>[notices]</td>\n",
              "    </tr>\n",
              "    <tr>\n",
              "      <th>3</th>\n",
              "      <td>An amendment which provides for a significant ...</td>\n",
              "      <td>[notices]</td>\n",
              "      <td>[]</td>\n",
              "    </tr>\n",
              "    <tr>\n",
              "      <th>4</th>\n",
              "      <td>Any notice required to be given by the Employe...</td>\n",
              "      <td>[notices]</td>\n",
              "      <td>[notices]</td>\n",
              "    </tr>\n",
              "  </tbody>\n",
              "</table>\n",
              "</div>\n",
              "      <button class=\"colab-df-convert\" onclick=\"convertToInteractive('df-8a93e671-5746-416b-a8a6-a8285812af2b')\"\n",
              "              title=\"Convert this dataframe to an interactive table.\"\n",
              "              style=\"display:none;\">\n",
              "        \n",
              "  <svg xmlns=\"http://www.w3.org/2000/svg\" height=\"24px\"viewBox=\"0 0 24 24\"\n",
              "       width=\"24px\">\n",
              "    <path d=\"M0 0h24v24H0V0z\" fill=\"none\"/>\n",
              "    <path d=\"M18.56 5.44l.94 2.06.94-2.06 2.06-.94-2.06-.94-.94-2.06-.94 2.06-2.06.94zm-11 1L8.5 8.5l.94-2.06 2.06-.94-2.06-.94L8.5 2.5l-.94 2.06-2.06.94zm10 10l.94 2.06.94-2.06 2.06-.94-2.06-.94-.94-2.06-.94 2.06-2.06.94z\"/><path d=\"M17.41 7.96l-1.37-1.37c-.4-.4-.92-.59-1.43-.59-.52 0-1.04.2-1.43.59L10.3 9.45l-7.72 7.72c-.78.78-.78 2.05 0 2.83L4 21.41c.39.39.9.59 1.41.59.51 0 1.02-.2 1.41-.59l7.78-7.78 2.81-2.81c.8-.78.8-2.07 0-2.86zM5.41 20L4 18.59l7.72-7.72 1.47 1.35L5.41 20z\"/>\n",
              "  </svg>\n",
              "      </button>\n",
              "      \n",
              "  <style>\n",
              "    .colab-df-container {\n",
              "      display:flex;\n",
              "      flex-wrap:wrap;\n",
              "      gap: 12px;\n",
              "    }\n",
              "\n",
              "    .colab-df-convert {\n",
              "      background-color: #E8F0FE;\n",
              "      border: none;\n",
              "      border-radius: 50%;\n",
              "      cursor: pointer;\n",
              "      display: none;\n",
              "      fill: #1967D2;\n",
              "      height: 32px;\n",
              "      padding: 0 0 0 0;\n",
              "      width: 32px;\n",
              "    }\n",
              "\n",
              "    .colab-df-convert:hover {\n",
              "      background-color: #E2EBFA;\n",
              "      box-shadow: 0px 1px 2px rgba(60, 64, 67, 0.3), 0px 1px 3px 1px rgba(60, 64, 67, 0.15);\n",
              "      fill: #174EA6;\n",
              "    }\n",
              "\n",
              "    [theme=dark] .colab-df-convert {\n",
              "      background-color: #3B4455;\n",
              "      fill: #D2E3FC;\n",
              "    }\n",
              "\n",
              "    [theme=dark] .colab-df-convert:hover {\n",
              "      background-color: #434B5C;\n",
              "      box-shadow: 0px 1px 3px 1px rgba(0, 0, 0, 0.15);\n",
              "      filter: drop-shadow(0px 1px 2px rgba(0, 0, 0, 0.3));\n",
              "      fill: #FFFFFF;\n",
              "    }\n",
              "  </style>\n",
              "\n",
              "      <script>\n",
              "        const buttonEl =\n",
              "          document.querySelector('#df-8a93e671-5746-416b-a8a6-a8285812af2b button.colab-df-convert');\n",
              "        buttonEl.style.display =\n",
              "          google.colab.kernel.accessAllowed ? 'block' : 'none';\n",
              "\n",
              "        async function convertToInteractive(key) {\n",
              "          const element = document.querySelector('#df-8a93e671-5746-416b-a8a6-a8285812af2b');\n",
              "          const dataTable =\n",
              "            await google.colab.kernel.invokeFunction('convertToInteractive',\n",
              "                                                     [key], {});\n",
              "          if (!dataTable) return;\n",
              "\n",
              "          const docLinkHtml = 'Like what you see? Visit the ' +\n",
              "            '<a target=\"_blank\" href=https://colab.research.google.com/notebooks/data_table.ipynb>data table notebook</a>'\n",
              "            + ' to learn more about interactive tables.';\n",
              "          element.innerHTML = '';\n",
              "          dataTable['output_type'] = 'display_data';\n",
              "          await google.colab.output.renderOutput(dataTable, element);\n",
              "          const docLink = document.createElement('div');\n",
              "          docLink.innerHTML = docLinkHtml;\n",
              "          element.appendChild(docLink);\n",
              "        }\n",
              "      </script>\n",
              "    </div>\n",
              "  </div>\n",
              "  "
            ]
          },
          "metadata": {},
          "execution_count": 14
        }
      ]
    },
    {
      "cell_type": "code",
      "source": [
        "log_file_name = os.listdir(\"multilabel_logs\")[0]\n",
        "\n",
        "with open(\"multilabel_logs/\"+log_file_name, \"r\") as log_file :\n",
        "    print(log_file.read())"
      ],
      "metadata": {
        "colab": {
          "base_uri": "https://localhost:8080/"
        },
        "id": "g_6IcirLLmKt",
        "outputId": "32e1094b-bb71-4f05-c25e-21dba66ed5d4"
      },
      "execution_count": 15,
      "outputs": [
        {
          "output_type": "stream",
          "name": "stdout",
          "text": [
            "Training started - epochs: 2 - learning_rate: 0.001 - batch_size: 8 - training_examples: 397 - classes: 15\n",
            "Epoch 0/2 - 44.54s - loss: 0.2976667 - acc: 0.92840123 - batches: 50\n",
            "Epoch 1/2 - 33.40s - loss: 0.18604234 - acc: 0.9584353 - batches: 50\n",
            "\n"
          ]
        }
      ]
    },
    {
      "cell_type": "code",
      "source": [
        "mlb = MultiLabelBinarizer()\n",
        "\n",
        "y_true = mlb.fit_transform(preds_df['label'])\n",
        "y_pred = mlb.transform(preds_df['result'])\n",
        "\n",
        "print(\"Classification report: \\n\", (classification_report(y_true, y_pred)))\n",
        "print(\"F1 micro averaging:\",(f1_score(y_true, y_pred, average='micro')))\n",
        "print(\"ROC: \",(roc_auc_score(y_true, y_pred, average=\"micro\")))\n"
      ],
      "metadata": {
        "colab": {
          "base_uri": "https://localhost:8080/"
        },
        "id": "NsUtssB-LoDF",
        "outputId": "4b356208-2012-4923-83aa-ad87bf35eb24"
      },
      "execution_count": 17,
      "outputs": [
        {
          "output_type": "stream",
          "name": "stdout",
          "text": [
            "Classification report: \n",
            "               precision    recall  f1-score   support\n",
            "\n",
            "           0       1.00      0.21      0.35        14\n",
            "           1       0.00      0.00      0.00         2\n",
            "           2       0.00      0.00      0.00         7\n",
            "           3       1.00      0.90      0.95        10\n",
            "           4       1.00      0.81      0.90        16\n",
            "           5       0.00      0.00      0.00         4\n",
            "           6       1.00      0.88      0.93        16\n",
            "           7       1.00      0.60      0.75        10\n",
            "           8       0.00      0.00      0.00         4\n",
            "           9       0.00      0.00      0.00         4\n",
            "          10       1.00      0.40      0.57        10\n",
            "          11       0.00      0.00      0.00         7\n",
            "          12       0.00      0.00      0.00         4\n",
            "          13       0.00      0.00      0.00         6\n",
            "          14       0.00      0.00      0.00         4\n",
            "\n",
            "   micro avg       1.00      0.42      0.59       118\n",
            "   macro avg       0.40      0.25      0.30       118\n",
            "weighted avg       0.64      0.42      0.48       118\n",
            " samples avg       0.48      0.46      0.47       118\n",
            "\n",
            "F1 micro averaging: 0.5868263473053892\n",
            "ROC:  0.7076271186440678\n"
          ]
        }
      ]
    },
    {
      "cell_type": "markdown",
      "source": [
        "### Saving and Loading the model"
      ],
      "metadata": {
        "id": "kibqFaBILwIF"
      }
    },
    {
      "cell_type": "code",
      "source": [
        "clf_pipelineModel.stages"
      ],
      "metadata": {
        "colab": {
          "base_uri": "https://localhost:8080/"
        },
        "id": "Jddum8sKLxqw",
        "outputId": "48573984-e27e-4088-b559-a4506e8a61e2"
      },
      "execution_count": 18,
      "outputs": [
        {
          "output_type": "execute_result",
          "data": {
            "text/plain": [
              "[DocumentAssembler_83ff90c579f1,\n",
              " REGEX_TOKENIZER_9f8f816dfb94,\n",
              " ROBERTA_EMBEDDINGS_b915dff90901,\n",
              " SentenceEmbeddings_06847c8a1ce0,\n",
              " MultiClassifierDLModel_097ed6701015]"
            ]
          },
          "metadata": {},
          "execution_count": 18
        }
      ]
    },
    {
      "cell_type": "markdown",
      "source": [
        "Save to disk"
      ],
      "metadata": {
        "id": "I3u9_PWnL1Vf"
      }
    },
    {
      "cell_type": "code",
      "source": [
        "clf_pipelineModel.stages[-1].write().overwrite().save('MultilabelClfRoBerta')"
      ],
      "metadata": {
        "id": "lMLR2SsGLzZV"
      },
      "execution_count": 19,
      "outputs": []
    },
    {
      "cell_type": "markdown",
      "source": [
        "Load from disk"
      ],
      "metadata": {
        "id": "0MdDArs0L3Ad"
      }
    },
    {
      "cell_type": "code",
      "source": [
        "# Load back  saved Multilabel Classifier Model\n",
        "MultilabelClfModel = nlp.MultiClassifierDLModel.load('MultilabelClfRoBerta')"
      ],
      "metadata": {
        "id": "UjDPxs0AL02t"
      },
      "execution_count": 20,
      "outputs": []
    },
    {
      "cell_type": "markdown",
      "source": [
        "Create pipeline with the loaded model"
      ],
      "metadata": {
        "id": "EVCkMxTtL5Kx"
      }
    },
    {
      "cell_type": "code",
      "source": [
        "ld_pipeline = nlp.Pipeline(\n",
        "    stages=[\n",
        "        document_assembler,\n",
        "        tokenizer,\n",
        "        embeddings,\n",
        "        embeddingsSentence,\n",
        "        MultilabelClfModel,\n",
        "    ]\n",
        ")\n",
        "ld_pipeline_model = ld_pipeline.fit(spark.createDataFrame([[\"\"]]).toDF(\"provision\"))"
      ],
      "metadata": {
        "id": "c3oE5oCHL69F"
      },
      "execution_count": 21,
      "outputs": []
    },
    {
      "cell_type": "markdown",
      "source": [
        "Make predictions with the new model"
      ],
      "metadata": {
        "id": "sCBMySb5L-FF"
      }
    },
    {
      "cell_type": "code",
      "source": [
        "# Apply Model Transform to testData\n",
        "ld_preds = ld_pipeline_model.transform(test)\n",
        "ld_preds_df = ld_preds.select('provision','label',\"class.result\").toPandas()\n",
        "ld_preds_df.head(10)"
      ],
      "metadata": {
        "colab": {
          "base_uri": "https://localhost:8080/",
          "height": 363
        },
        "id": "YS6MEcefL8xT",
        "outputId": "1cda849c-492b-43cd-b67a-3fc49f6b2423"
      },
      "execution_count": 22,
      "outputs": [
        {
          "output_type": "execute_result",
          "data": {
            "text/plain": [
              "                                           provision             label  \\\n",
              "0  (a)  THIS LETTER AGREEMENT AND ANY CLAIMS, CON...  [governing laws]   \n",
              "1  All notices and other communications hereunder...         [notices]   \n",
              "2  All notices, requests, consents and other comm...         [notices]   \n",
              "3  An amendment which provides for a significant ...         [notices]   \n",
              "4  Any notice required to be given by the Employe...         [notices]   \n",
              "5  Any provision in this Agreement or in the Deed...        [survival]   \n",
              "6  As an additional consideration for the extensi...  [governing laws]   \n",
              "7  At the Closing, the Company shall reimburse Bu...        [expenses]   \n",
              "8  Borrower shall promptly, and in any event with...         [notices]   \n",
              "9  Borrower, and any endorsers and guarantors her...         [waivers]   \n",
              "\n",
              "             result  \n",
              "0  [governing laws]  \n",
              "1         [notices]  \n",
              "2         [notices]  \n",
              "3                []  \n",
              "4         [notices]  \n",
              "5                []  \n",
              "6                []  \n",
              "7                []  \n",
              "8                []  \n",
              "9                []  "
            ],
            "text/html": [
              "\n",
              "  <div id=\"df-4fb6c478-f98e-493f-b36e-6245f5f57d2b\">\n",
              "    <div class=\"colab-df-container\">\n",
              "      <div>\n",
              "<style scoped>\n",
              "    .dataframe tbody tr th:only-of-type {\n",
              "        vertical-align: middle;\n",
              "    }\n",
              "\n",
              "    .dataframe tbody tr th {\n",
              "        vertical-align: top;\n",
              "    }\n",
              "\n",
              "    .dataframe thead th {\n",
              "        text-align: right;\n",
              "    }\n",
              "</style>\n",
              "<table border=\"1\" class=\"dataframe\">\n",
              "  <thead>\n",
              "    <tr style=\"text-align: right;\">\n",
              "      <th></th>\n",
              "      <th>provision</th>\n",
              "      <th>label</th>\n",
              "      <th>result</th>\n",
              "    </tr>\n",
              "  </thead>\n",
              "  <tbody>\n",
              "    <tr>\n",
              "      <th>0</th>\n",
              "      <td>(a)  THIS LETTER AGREEMENT AND ANY CLAIMS, CON...</td>\n",
              "      <td>[governing laws]</td>\n",
              "      <td>[governing laws]</td>\n",
              "    </tr>\n",
              "    <tr>\n",
              "      <th>1</th>\n",
              "      <td>All notices and other communications hereunder...</td>\n",
              "      <td>[notices]</td>\n",
              "      <td>[notices]</td>\n",
              "    </tr>\n",
              "    <tr>\n",
              "      <th>2</th>\n",
              "      <td>All notices, requests, consents and other comm...</td>\n",
              "      <td>[notices]</td>\n",
              "      <td>[notices]</td>\n",
              "    </tr>\n",
              "    <tr>\n",
              "      <th>3</th>\n",
              "      <td>An amendment which provides for a significant ...</td>\n",
              "      <td>[notices]</td>\n",
              "      <td>[]</td>\n",
              "    </tr>\n",
              "    <tr>\n",
              "      <th>4</th>\n",
              "      <td>Any notice required to be given by the Employe...</td>\n",
              "      <td>[notices]</td>\n",
              "      <td>[notices]</td>\n",
              "    </tr>\n",
              "    <tr>\n",
              "      <th>5</th>\n",
              "      <td>Any provision in this Agreement or in the Deed...</td>\n",
              "      <td>[survival]</td>\n",
              "      <td>[]</td>\n",
              "    </tr>\n",
              "    <tr>\n",
              "      <th>6</th>\n",
              "      <td>As an additional consideration for the extensi...</td>\n",
              "      <td>[governing laws]</td>\n",
              "      <td>[]</td>\n",
              "    </tr>\n",
              "    <tr>\n",
              "      <th>7</th>\n",
              "      <td>At the Closing, the Company shall reimburse Bu...</td>\n",
              "      <td>[expenses]</td>\n",
              "      <td>[]</td>\n",
              "    </tr>\n",
              "    <tr>\n",
              "      <th>8</th>\n",
              "      <td>Borrower shall promptly, and in any event with...</td>\n",
              "      <td>[notices]</td>\n",
              "      <td>[]</td>\n",
              "    </tr>\n",
              "    <tr>\n",
              "      <th>9</th>\n",
              "      <td>Borrower, and any endorsers and guarantors her...</td>\n",
              "      <td>[waivers]</td>\n",
              "      <td>[]</td>\n",
              "    </tr>\n",
              "  </tbody>\n",
              "</table>\n",
              "</div>\n",
              "      <button class=\"colab-df-convert\" onclick=\"convertToInteractive('df-4fb6c478-f98e-493f-b36e-6245f5f57d2b')\"\n",
              "              title=\"Convert this dataframe to an interactive table.\"\n",
              "              style=\"display:none;\">\n",
              "        \n",
              "  <svg xmlns=\"http://www.w3.org/2000/svg\" height=\"24px\"viewBox=\"0 0 24 24\"\n",
              "       width=\"24px\">\n",
              "    <path d=\"M0 0h24v24H0V0z\" fill=\"none\"/>\n",
              "    <path d=\"M18.56 5.44l.94 2.06.94-2.06 2.06-.94-2.06-.94-.94-2.06-.94 2.06-2.06.94zm-11 1L8.5 8.5l.94-2.06 2.06-.94-2.06-.94L8.5 2.5l-.94 2.06-2.06.94zm10 10l.94 2.06.94-2.06 2.06-.94-2.06-.94-.94-2.06-.94 2.06-2.06.94z\"/><path d=\"M17.41 7.96l-1.37-1.37c-.4-.4-.92-.59-1.43-.59-.52 0-1.04.2-1.43.59L10.3 9.45l-7.72 7.72c-.78.78-.78 2.05 0 2.83L4 21.41c.39.39.9.59 1.41.59.51 0 1.02-.2 1.41-.59l7.78-7.78 2.81-2.81c.8-.78.8-2.07 0-2.86zM5.41 20L4 18.59l7.72-7.72 1.47 1.35L5.41 20z\"/>\n",
              "  </svg>\n",
              "      </button>\n",
              "      \n",
              "  <style>\n",
              "    .colab-df-container {\n",
              "      display:flex;\n",
              "      flex-wrap:wrap;\n",
              "      gap: 12px;\n",
              "    }\n",
              "\n",
              "    .colab-df-convert {\n",
              "      background-color: #E8F0FE;\n",
              "      border: none;\n",
              "      border-radius: 50%;\n",
              "      cursor: pointer;\n",
              "      display: none;\n",
              "      fill: #1967D2;\n",
              "      height: 32px;\n",
              "      padding: 0 0 0 0;\n",
              "      width: 32px;\n",
              "    }\n",
              "\n",
              "    .colab-df-convert:hover {\n",
              "      background-color: #E2EBFA;\n",
              "      box-shadow: 0px 1px 2px rgba(60, 64, 67, 0.3), 0px 1px 3px 1px rgba(60, 64, 67, 0.15);\n",
              "      fill: #174EA6;\n",
              "    }\n",
              "\n",
              "    [theme=dark] .colab-df-convert {\n",
              "      background-color: #3B4455;\n",
              "      fill: #D2E3FC;\n",
              "    }\n",
              "\n",
              "    [theme=dark] .colab-df-convert:hover {\n",
              "      background-color: #434B5C;\n",
              "      box-shadow: 0px 1px 3px 1px rgba(0, 0, 0, 0.15);\n",
              "      filter: drop-shadow(0px 1px 2px rgba(0, 0, 0, 0.3));\n",
              "      fill: #FFFFFF;\n",
              "    }\n",
              "  </style>\n",
              "\n",
              "      <script>\n",
              "        const buttonEl =\n",
              "          document.querySelector('#df-4fb6c478-f98e-493f-b36e-6245f5f57d2b button.colab-df-convert');\n",
              "        buttonEl.style.display =\n",
              "          google.colab.kernel.accessAllowed ? 'block' : 'none';\n",
              "\n",
              "        async function convertToInteractive(key) {\n",
              "          const element = document.querySelector('#df-4fb6c478-f98e-493f-b36e-6245f5f57d2b');\n",
              "          const dataTable =\n",
              "            await google.colab.kernel.invokeFunction('convertToInteractive',\n",
              "                                                     [key], {});\n",
              "          if (!dataTable) return;\n",
              "\n",
              "          const docLinkHtml = 'Like what you see? Visit the ' +\n",
              "            '<a target=\"_blank\" href=https://colab.research.google.com/notebooks/data_table.ipynb>data table notebook</a>'\n",
              "            + ' to learn more about interactive tables.';\n",
              "          element.innerHTML = '';\n",
              "          dataTable['output_type'] = 'display_data';\n",
              "          await google.colab.output.renderOutput(dataTable, element);\n",
              "          const docLink = document.createElement('div');\n",
              "          docLink.innerHTML = docLinkHtml;\n",
              "          element.appendChild(docLink);\n",
              "        }\n",
              "      </script>\n",
              "    </div>\n",
              "  </div>\n",
              "  "
            ]
          },
          "metadata": {},
          "execution_count": 22
        }
      ]
    },
    {
      "cell_type": "code",
      "source": [],
      "metadata": {
        "id": "mn2JTTusQVjO"
      },
      "execution_count": null,
      "outputs": []
    }
  ],
  "metadata": {
    "kernelspec": {
      "display_name": "Python 3",
      "language": "python",
      "name": "python3"
    },
    "language_info": {
      "codemirror_mode": {
        "name": "ipython",
        "version": 3
      },
      "file_extension": ".py",
      "mimetype": "text/x-python",
      "name": "python",
      "nbconvert_exporter": "python",
      "pygments_lexer": "ipython3",
      "version": "3.8.0 (tags/v3.8.0:fa919fd, Oct 14 2019, 19:37:50) [MSC v.1916 64 bit (AMD64)]"
    },
    "orig_nbformat": 4,
    "vscode": {
      "interpreter": {
        "hash": "939480ed579cbcc9bd95c0bb2f0a271d068ec362d36f1415ed941c7dadb52340"
      }
    },
    "colab": {
      "provenance": [],
      "collapsed_sections": [
        "mNS9C_-2YJNi"
      ],
      "toc_visible": true
    }
  },
  "nbformat": 4,
  "nbformat_minor": 0
}