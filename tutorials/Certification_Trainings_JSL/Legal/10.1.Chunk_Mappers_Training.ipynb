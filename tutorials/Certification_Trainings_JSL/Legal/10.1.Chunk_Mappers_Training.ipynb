{
 "cells": [
  {
   "cell_type": "markdown",
   "id": "db5f4f9a-7776-42b3-8758-85624d4c15ea",
   "metadata": {
    "id": "db5f4f9a-7776-42b3-8758-85624d4c15ea"
   },
   "source": [
    "![JohnSnowLabs](https://nlp.johnsnowlabs.com/assets/images/logo.png)"
   ]
  },
  {
   "cell_type": "markdown",
   "id": "21e9eafb",
   "metadata": {
    "id": "21e9eafb"
   },
   "source": [
    "[![Open In Colab](https://colab.research.google.com/assets/colab-badge.svg)](https://colab.research.google.com/github/JohnSnowLabs/spark-nlp-workshop/blob/master/tutorials/Certification_Trainings_JSL/Finance/8.1.Chunk_Mappers_Training.ipynb)"
   ]
  },
  {
   "cell_type": "markdown",
   "metadata": {
    "id": "xNGo3Luuh_WT"
   },
   "source": [
    "# Installation"
   ],
   "id": "xNGo3Luuh_WT"
  },
  {
   "cell_type": "code",
   "execution_count": null,
   "metadata": {
    "id": "ELqzaf32MT6E"
   },
   "outputs": [],
   "source": [
    "# Install the johnsnowlabs library to access Spark-OCR and Spark-NLP for Healthcare, Finance, and Legal.\n",
    "! pip install -q johnsnowlabs "
   ],
   "id": "ELqzaf32MT6E"
  },
  {
   "cell_type": "code",
   "source": [
    "from johnsnowlabs import nlp, legal, viz\n",
    "nlp.install(force_browser=True)"
   ],
   "metadata": {
    "id": "jjj6dqPhI6T6"
   },
   "execution_count": null,
   "outputs": [],
   "id": "jjj6dqPhI6T6"
  },
  {
   "cell_type": "markdown",
   "metadata": {
    "id": "Yagc89CuM-9k"
   },
   "source": [
    "# Start Spark Session"
   ],
   "id": "Yagc89CuM-9k"
  },
  {
   "cell_type": "code",
   "execution_count": null,
   "metadata": {
    "id": "ie3s_l5hqtdi",
    "colab": {
     "base_uri": "https://localhost:8080/"
    },
    "executionInfo": {
     "status": "ok",
     "timestamp": 1673091694698,
     "user_tz": -180,
     "elapsed": 11480,
     "user": {
      "displayName": "Bünyamin Polat",
      "userId": "03982086590103784785"
     }
    },
    "outputId": "4e44b8c5-40a2-4a6f-a1df-bd7aa3a0aa23"
   },
   "outputs": [
    {
     "output_type": "stream",
     "name": "stdout",
     "text": [
      "👌 Launched \u001B[92mcpu optimized\u001B[39m session with with: 🚀Spark-NLP==4.2.4, 💊Spark-Healthcare==4.2.4, running on ⚡ PySpark==3.1.2\n"
     ]
    }
   ],
   "source": [
    "spark = nlp.start()"
   ],
   "id": "ie3s_l5hqtdi"
  },
  {
   "cell_type": "markdown",
   "id": "cfbbcfc0-e0b7-4c25-8bd7-c64d90f836d1",
   "metadata": {
    "id": "cfbbcfc0-e0b7-4c25-8bd7-c64d90f836d1"
   },
   "source": [
    "# Legal Data Augmentation with Chunk Mappers"
   ]
  },
  {
   "cell_type": "markdown",
   "id": "d2cd4221-fbca-4ca1-86a9-65e6264c4ad1",
   "metadata": {
    "id": "d2cd4221-fbca-4ca1-86a9-65e6264c4ad1"
   },
   "source": [
    "# About Data Augmentation"
   ]
  },
  {
   "cell_type": "markdown",
   "id": "bf9835fd-9def-44e4-b022-e8db0f045fec",
   "metadata": {
    "id": "bf9835fd-9def-44e4-b022-e8db0f045fec"
   },
   "source": [
    "__Data Augmentation__ is the process of increase an extracted datapoint with external sources. \n",
    "\n",
    "For example, let's suppose I work with a document which mentions the company _Amazon_. We could be talking about stock prices, or some legal litigations, or just a commercial agreement with a provider, among others.\n",
    "\n",
    "In the document, we can extract a company name using NER as an Organization, but that's all the information available about the company in that document.\n",
    "\n",
    "Well, with __Data Augmentation__, we can use external sources, as _SEC Edgar, Crunchbase, Nasdaq_ or even _Wikipedia_, to enrich the company with much more information, allowing us to take better decisions.\n",
    "\n",
    "Let's see how to do it."
   ]
  },
  {
   "cell_type": "markdown",
   "source": [
    "# Train Your Own ChunkMapper Model"
   ],
   "metadata": {
    "id": "UP1E0vZOpZ3h"
   },
   "id": "UP1E0vZOpZ3h"
  },
  {
   "cell_type": "markdown",
   "metadata": {
    "id": "34f517bb-adde-4daa-b12d-921b37dd6d38"
   },
   "source": [
    "Here, we will train a ChunkMapper model with 1000 sample "
   ],
   "id": "34f517bb-adde-4daa-b12d-921b37dd6d38"
  },
  {
   "cell_type": "code",
   "source": [
    "! wget -q https://raw.githubusercontent.com/JohnSnowLabs/spark-nlp-workshop/master/tutorials/Certification_Trainings_JSL/Finance/data/sample_openedgar.json"
   ],
   "metadata": {
    "id": "56mbt5eO397E",
    "executionInfo": {
     "status": "ok",
     "timestamp": 1673122577134,
     "user_tz": -180,
     "elapsed": 362,
     "user": {
      "displayName": "Bünyamin Polat",
      "userId": "03982086590103784785"
     }
    }
   },
   "id": "56mbt5eO397E",
   "execution_count": 1,
   "outputs": []
  },
  {
   "cell_type": "code",
   "execution_count": 2,
   "metadata": {
    "id": "8be8c43c-ebf2-4d1e-b98b-31c0fe68cabc",
    "executionInfo": {
     "status": "ok",
     "timestamp": 1673122580102,
     "user_tz": -180,
     "elapsed": 4,
     "user": {
      "displayName": "Bünyamin Polat",
      "userId": "03982086590103784785"
     }
    }
   },
   "outputs": [],
   "source": [
    "import json\n",
    "with open('sample_openedgar.json', 'r') as f:\n",
    "    company_json = json.load(f)"
   ],
   "id": "8be8c43c-ebf2-4d1e-b98b-31c0fe68cabc"
  },
  {
   "cell_type": "code",
   "execution_count": 3,
   "metadata": {
    "id": "be07f846-109f-4834-89ff-483bd00c5ab5",
    "executionInfo": {
     "status": "ok",
     "timestamp": 1673122582638,
     "user_tz": -180,
     "elapsed": 491,
     "user": {
      "displayName": "Bünyamin Polat",
      "userId": "03982086590103784785"
     }
    },
    "colab": {
     "base_uri": "https://localhost:8080/"
    },
    "outputId": "0f61b5df-d325-40c7-8db9-a50f8e09de03"
   },
   "outputs": [
    {
     "output_type": "execute_result",
     "data": {
      "text/plain": [
       "{'key': 'AWA Group LP',\n",
       " 'relations': [{'key': 'name', 'values': ['AWA Group LP']},\n",
       "  {'key': 'sic', 'values': ['INVESTMENT ADVICE [6282]']},\n",
       "  {'key': 'sic_code', 'values': [6282, 0]},\n",
       "  {'key': 'irs_number', 'values': [371785232, 0]},\n",
       "  {'key': 'fiscal_year_end', 'values': [630, 1231, 0]},\n",
       "  {'key': 'state_location', 'values': ['NC']},\n",
       "  {'key': 'state_incorporation', 'values': ['DE']},\n",
       "  {'key': 'business_street', 'values': ['116 SOUTH FRANKLIN STREET']},\n",
       "  {'key': 'business_city', 'values': ['ROCKY MOUNT']},\n",
       "  {'key': 'business_state', 'values': ['NC']},\n",
       "  {'key': 'business_zip', 'values': ['27804']},\n",
       "  {'key': 'business_phone', 'values': ['952-446-6678']},\n",
       "  {'key': 'former_name', 'values': ['']},\n",
       "  {'key': 'former_name_date', 'values': ['']},\n",
       "  {'key': 'date',\n",
       "   'values': ['2017-01-23',\n",
       "    '2017-03-16',\n",
       "    '2016-01-22',\n",
       "    '2016-01-19',\n",
       "    '2015-06-30',\n",
       "    '2016-04-14',\n",
       "    '2016-07-27',\n",
       "    '2016-10-28',\n",
       "    '2015-06-26',\n",
       "    '2015-09-02',\n",
       "    '2015-09-29',\n",
       "    '2015-12-31']},\n",
       "  {'key': 'company_id', 'values': [1645148]}]}"
      ]
     },
     "metadata": {},
     "execution_count": 3
    }
   ],
   "source": [
    "company_json['mappings'][8]"
   ],
   "id": "be07f846-109f-4834-89ff-483bd00c5ab5"
  },
  {
   "cell_type": "markdown",
   "source": [
    "### Check a sample company"
   ],
   "metadata": {
    "id": "jiN1I0L_vqPK"
   },
   "id": "jiN1I0L_vqPK"
  },
  {
   "cell_type": "code",
   "execution_count": null,
   "metadata": {
    "id": "80cd73e4-288c-44fc-8ff3-fdded39ba25a",
    "executionInfo": {
     "status": "ok",
     "timestamp": 1673091706245,
     "user_tz": -180,
     "elapsed": 2,
     "user": {
      "displayName": "Bünyamin Polat",
      "userId": "03982086590103784785"
     }
    },
    "colab": {
     "base_uri": "https://localhost:8080/"
    },
    "outputId": "687ee261-c200-4190-fe44-d221cc3ac1f9"
   },
   "outputs": [
    {
     "output_type": "stream",
     "name": "stdout",
     "text": [
      "{'key': 'Rayton Solar Inc.', 'relations': [{'key': 'name', 'values': ['Rayton Solar Inc.']}, {'key': 'sic', 'values': ['SEMICONDUCTORS & RELATED DEVICES [3674]']}, {'key': 'sic_code', 'values': [3674]}, {'key': 'irs_number', 'values': [0]}, {'key': 'fiscal_year_end', 'values': [1231]}, {'key': 'state_location', 'values': ['CA']}, {'key': 'state_incorporation', 'values': ['DE']}, {'key': 'business_street', 'values': ['920 COLORADO AVE.']}, {'key': 'business_city', 'values': ['SANTA MONICA']}, {'key': 'business_state', 'values': ['CA']}, {'key': 'business_zip', 'values': ['90401']}, {'key': 'business_phone', 'values': ['(661) 259-4786']}, {'key': 'former_name', 'values': ['']}, {'key': 'former_name_date', 'values': ['']}, {'key': 'date', 'values': ['2017-01-10', '2017-01-20', '2017-01-06', '2017-05-15', '2017-09-28', '2016-11-29', '2016-12-20', '2016-12-22', '2022-09-21', '2019-06-27', '2018-03-22', '2018-04-30', '2018-12-10', '2021-09-22', '2020-06-08', '2020-09-28']}, {'key': 'company_id', 'values': [1654124]}]}\n"
     ]
    }
   ],
   "source": [
    "for x in company_json['mappings']:\n",
    "    if 'Rayton Solar Inc.' in x['key']:\n",
    "        print(x)"
   ],
   "id": "80cd73e4-288c-44fc-8ff3-fdded39ba25a"
  },
  {
   "cell_type": "markdown",
   "source": [
    "### Check all keys"
   ],
   "metadata": {
    "id": "loOpl4LqvvPi"
   },
   "id": "loOpl4LqvvPi"
  },
  {
   "cell_type": "code",
   "execution_count": null,
   "metadata": {
    "id": "e9fe7709-868d-453f-a162-7fa737f50989"
   },
   "outputs": [],
   "source": [
    "all_rels = [x['key'] for x in company_json['mappings'][0]['relations']]"
   ],
   "id": "e9fe7709-868d-453f-a162-7fa737f50989"
  },
  {
   "cell_type": "code",
   "execution_count": null,
   "metadata": {
    "id": "c47604d3-9028-41a1-a0be-a669d105beb3",
    "executionInfo": {
     "status": "ok",
     "timestamp": 1673091712685,
     "user_tz": -180,
     "elapsed": 2,
     "user": {
      "displayName": "Bünyamin Polat",
      "userId": "03982086590103784785"
     }
    },
    "colab": {
     "base_uri": "https://localhost:8080/"
    },
    "outputId": "a51dafe6-83d8-4a1f-8043-19acefba3a92"
   },
   "outputs": [
    {
     "output_type": "execute_result",
     "data": {
      "text/plain": [
       "['name',\n",
       " 'sic',\n",
       " 'sic_code',\n",
       " 'irs_number',\n",
       " 'fiscal_year_end',\n",
       " 'state_location',\n",
       " 'state_incorporation',\n",
       " 'business_street',\n",
       " 'business_city',\n",
       " 'business_state',\n",
       " 'business_zip',\n",
       " 'business_phone',\n",
       " 'former_name',\n",
       " 'former_name_date',\n",
       " 'date',\n",
       " 'company_id']"
      ]
     },
     "metadata": {},
     "execution_count": 12
    }
   ],
   "source": [
    "all_rels"
   ],
   "id": "c47604d3-9028-41a1-a0be-a669d105beb3"
  },
  {
   "cell_type": "markdown",
   "source": [
    "### Create ChunkMapperApproach"
   ],
   "metadata": {
    "id": "7opshMS1vx1H"
   },
   "id": "7opshMS1vx1H"
  },
  {
   "cell_type": "code",
   "execution_count": null,
   "metadata": {
    "tags": [],
    "id": "b5d078b5-bd12-4d4a-ade7-3200a278e061"
   },
   "outputs": [],
   "source": [
    "chunkerMapper = legal.ChunkMapperApproach()\\\n",
    "      .setInputCols([\"ner_chunk\"])\\\n",
    "      .setOutputCol(\"mappings\")\\\n",
    "      .setDictionary(\"sample_openedgar.json\")\\\n",
    "      .setRels(all_rels)"
   ],
   "id": "b5d078b5-bd12-4d4a-ade7-3200a278e061"
  },
  {
   "cell_type": "code",
   "execution_count": null,
   "metadata": {
    "id": "940ca6b5-a603-4060-a112-d1f407834d4f"
   },
   "outputs": [],
   "source": [
    "empty_dataset = spark.createDataFrame([[\"\"]]).toDF(\"text\")"
   ],
   "id": "940ca6b5-a603-4060-a112-d1f407834d4f"
  },
  {
   "cell_type": "code",
   "execution_count": null,
   "metadata": {
    "id": "6bd7485a-6f3c-442a-8d74-a07ae0385d56"
   },
   "outputs": [],
   "source": [
    "fit_CM = chunkerMapper.fit(empty_dataset)"
   ],
   "id": "6bd7485a-6f3c-442a-8d74-a07ae0385d56"
  },
  {
   "cell_type": "code",
   "execution_count": null,
   "metadata": {
    "id": "d3336018-e50c-4cb9-a07f-755bae236d80"
   },
   "outputs": [],
   "source": [
    "# Save model\n",
    "fit_CM.write().overwrite().save('openedgar_2000_2022_company_mapper')"
   ],
   "id": "d3336018-e50c-4cb9-a07f-755bae236d80"
  },
  {
   "cell_type": "markdown",
   "source": [
    "### Let's test our ChunkMapper model"
   ],
   "metadata": {
    "id": "Cg0oUxTbv3oE"
   },
   "id": "Cg0oUxTbv3oE"
  },
  {
   "cell_type": "code",
   "source": [
    "text = [\"\"\" AWA Group LP intends to pay dividends on the Common Units on a quarterly basis at an annual rate of 8.00% of the Offering Price. \"\"\"]"
   ],
   "metadata": {
    "id": "DlxWvIcTsqTd"
   },
   "execution_count": null,
   "outputs": [],
   "id": "DlxWvIcTsqTd"
  },
  {
   "cell_type": "markdown",
   "source": [
    "We get compnay name from sample text"
   ],
   "metadata": {
    "id": "R1caDZbF14eq"
   },
   "id": "R1caDZbF14eq"
  },
  {
   "cell_type": "code",
   "source": [
    "documentAssembler = nlp.DocumentAssembler()\\\n",
    "        .setInputCol(\"text\")\\\n",
    "        .setOutputCol(\"document\")\n",
    "        \n",
    "sentenceDetector = nlp.SentenceDetectorDLModel.pretrained(\"sentence_detector_dl\",\"xx\")\\\n",
    "        .setInputCols([\"document\"])\\\n",
    "        .setOutputCol(\"sentence\")\n",
    "\n",
    "tokenizer = nlp.Tokenizer()\\\n",
    "        .setInputCols([\"sentence\"])\\\n",
    "        .setOutputCol(\"token\")\n",
    "\n",
    "embeddings = nlp.BertEmbeddings.pretrained(\"bert_embeddings_sec_bert_base\",\"en\") \\\n",
    "        .setInputCols([\"sentence\", \"token\"]) \\\n",
    "        .setOutputCol(\"embeddings\")\n",
    "\n",
    "ner_model = legal.NerModel.pretrained(\"legner_org_per_role_date\", \"en\", \"legal/models\")\\\n",
    "        .setInputCols([\"sentence\", \"token\", \"embeddings\"])\\\n",
    "        .setOutputCol(\"ner\")\n",
    "\n",
    "ner_converter = nlp.NerConverter()\\\n",
    "        .setInputCols([\"sentence\",\"token\",\"ner\"])\\\n",
    "        .setOutputCol(\"ner_chunk\")\\\n",
    "        .setWhiteList([\"ORG\"]) # Return only ORG entities\n",
    "\n",
    "nlpPipeline = nlp.Pipeline(stages=[\n",
    "        documentAssembler,\n",
    "        sentenceDetector,\n",
    "        tokenizer,\n",
    "        embeddings,\n",
    "        ner_model,\n",
    "        ner_converter])\n",
    "\n",
    "empty_data = spark.createDataFrame([[\"\"]]).toDF(\"text\")\n",
    "\n",
    "model = nlpPipeline.fit(empty_data)\n",
    "\n",
    "light_model = nlp.LightPipeline(model)"
   ],
   "metadata": {
    "id": "K0_gi-xF0B56"
   },
   "id": "K0_gi-xF0B56",
   "execution_count": null,
   "outputs": []
  },
  {
   "cell_type": "code",
   "source": [
    "# We get company name from sample text\n",
    "\n",
    "ner_result = light_model.fullAnnotate(text)\n",
    "\n",
    "ner_result"
   ],
   "metadata": {
    "id": "_E5Szc8ast4n",
    "executionInfo": {
     "status": "ok",
     "timestamp": 1673091812025,
     "user_tz": -180,
     "elapsed": 4733,
     "user": {
      "displayName": "Bünyamin Polat",
      "userId": "03982086590103784785"
     }
    },
    "colab": {
     "base_uri": "https://localhost:8080/"
    },
    "outputId": "7035aa79-bb8f-4843-e158-99f878814382"
   },
   "execution_count": null,
   "outputs": [
    {
     "output_type": "execute_result",
     "data": {
      "text/plain": [
       "[{'document': [Annotation(document, 0, 129,  AWA Group LP intends to pay dividends on the Common Units on a quarterly basis at an annual rate of 8.00% of the Offering Price. , {})],\n",
       "  'ner_chunk': [Annotation(chunk, 1, 12, AWA Group LP, {'entity': 'ORG', 'sentence': '0', 'chunk': '0', 'confidence': '0.9788'})],\n",
       "  'token': [Annotation(token, 1, 3, AWA, {'sentence': '0'}),\n",
       "   Annotation(token, 5, 9, Group, {'sentence': '0'}),\n",
       "   Annotation(token, 11, 12, LP, {'sentence': '0'}),\n",
       "   Annotation(token, 14, 20, intends, {'sentence': '0'}),\n",
       "   Annotation(token, 22, 23, to, {'sentence': '0'}),\n",
       "   Annotation(token, 25, 27, pay, {'sentence': '0'}),\n",
       "   Annotation(token, 29, 37, dividends, {'sentence': '0'}),\n",
       "   Annotation(token, 39, 40, on, {'sentence': '0'}),\n",
       "   Annotation(token, 42, 44, the, {'sentence': '0'}),\n",
       "   Annotation(token, 46, 51, Common, {'sentence': '0'}),\n",
       "   Annotation(token, 53, 57, Units, {'sentence': '0'}),\n",
       "   Annotation(token, 59, 60, on, {'sentence': '0'}),\n",
       "   Annotation(token, 62, 62, a, {'sentence': '0'}),\n",
       "   Annotation(token, 64, 72, quarterly, {'sentence': '0'}),\n",
       "   Annotation(token, 74, 78, basis, {'sentence': '0'}),\n",
       "   Annotation(token, 80, 81, at, {'sentence': '0'}),\n",
       "   Annotation(token, 83, 84, an, {'sentence': '0'}),\n",
       "   Annotation(token, 86, 91, annual, {'sentence': '0'}),\n",
       "   Annotation(token, 93, 96, rate, {'sentence': '0'}),\n",
       "   Annotation(token, 98, 99, of, {'sentence': '0'}),\n",
       "   Annotation(token, 101, 105, 8.00%, {'sentence': '0'}),\n",
       "   Annotation(token, 107, 108, of, {'sentence': '0'}),\n",
       "   Annotation(token, 110, 112, the, {'sentence': '0'}),\n",
       "   Annotation(token, 114, 121, Offering, {'sentence': '0'}),\n",
       "   Annotation(token, 123, 127, Price, {'sentence': '0'}),\n",
       "   Annotation(token, 128, 128, ., {'sentence': '0'})],\n",
       "  'ner': [Annotation(named_entity, 1, 3, B-ORG, {'word': 'AWA', 'confidence': '1.0', 'sentence': '0'}),\n",
       "   Annotation(named_entity, 5, 9, I-ORG, {'word': 'Group', 'confidence': '0.9371', 'sentence': '0'}),\n",
       "   Annotation(named_entity, 11, 12, I-ORG, {'word': 'LP', 'confidence': '0.9993', 'sentence': '0'}),\n",
       "   Annotation(named_entity, 14, 20, O, {'word': 'intends', 'confidence': '0.9983', 'sentence': '0'}),\n",
       "   Annotation(named_entity, 22, 23, O, {'word': 'to', 'confidence': '1.0', 'sentence': '0'}),\n",
       "   Annotation(named_entity, 25, 27, O, {'word': 'pay', 'confidence': '0.9992', 'sentence': '0'}),\n",
       "   Annotation(named_entity, 29, 37, O, {'word': 'dividends', 'confidence': '0.9991', 'sentence': '0'}),\n",
       "   Annotation(named_entity, 39, 40, O, {'word': 'on', 'confidence': '0.999', 'sentence': '0'}),\n",
       "   Annotation(named_entity, 42, 44, O, {'word': 'the', 'confidence': '0.9993', 'sentence': '0'}),\n",
       "   Annotation(named_entity, 46, 51, O, {'word': 'Common', 'confidence': '0.9864', 'sentence': '0'}),\n",
       "   Annotation(named_entity, 53, 57, O, {'word': 'Units', 'confidence': '0.961', 'sentence': '0'}),\n",
       "   Annotation(named_entity, 59, 60, O, {'word': 'on', 'confidence': '1.0', 'sentence': '0'}),\n",
       "   Annotation(named_entity, 62, 62, O, {'word': 'a', 'confidence': '1.0', 'sentence': '0'}),\n",
       "   Annotation(named_entity, 64, 72, O, {'word': 'quarterly', 'confidence': '1.0', 'sentence': '0'}),\n",
       "   Annotation(named_entity, 74, 78, O, {'word': 'basis', 'confidence': '1.0', 'sentence': '0'}),\n",
       "   Annotation(named_entity, 80, 81, O, {'word': 'at', 'confidence': '1.0', 'sentence': '0'}),\n",
       "   Annotation(named_entity, 83, 84, O, {'word': 'an', 'confidence': '1.0', 'sentence': '0'}),\n",
       "   Annotation(named_entity, 86, 91, O, {'word': 'annual', 'confidence': '1.0', 'sentence': '0'}),\n",
       "   Annotation(named_entity, 93, 96, O, {'word': 'rate', 'confidence': '0.9995', 'sentence': '0'}),\n",
       "   Annotation(named_entity, 98, 99, O, {'word': 'of', 'confidence': '0.9988', 'sentence': '0'}),\n",
       "   Annotation(named_entity, 101, 105, O, {'word': '8.00%', 'confidence': '0.998', 'sentence': '0'}),\n",
       "   Annotation(named_entity, 107, 108, O, {'word': 'of', 'confidence': '0.9996', 'sentence': '0'}),\n",
       "   Annotation(named_entity, 110, 112, O, {'word': 'the', 'confidence': '0.9999', 'sentence': '0'}),\n",
       "   Annotation(named_entity, 114, 121, O, {'word': 'Offering', 'confidence': '0.9987', 'sentence': '0'}),\n",
       "   Annotation(named_entity, 123, 127, O, {'word': 'Price', 'confidence': '0.9873', 'sentence': '0'}),\n",
       "   Annotation(named_entity, 128, 128, O, {'word': '.', 'confidence': '0.9999', 'sentence': '0'})],\n",
       "  'embeddings': [Annotation(word_embeddings, 1, 3, AWA, {'isOOV': 'false', 'pieceId': '101', 'isWordStart': 'true', 'token': 'AWA', 'sentence': '0'}),\n",
       "   Annotation(word_embeddings, 5, 9, Group, {'isOOV': 'false', 'pieceId': '101', 'isWordStart': 'true', 'token': 'Group', 'sentence': '0'}),\n",
       "   Annotation(word_embeddings, 11, 12, LP, {'isOOV': 'false', 'pieceId': '101', 'isWordStart': 'true', 'token': 'LP', 'sentence': '0'}),\n",
       "   Annotation(word_embeddings, 14, 20, intends, {'isOOV': 'false', 'pieceId': '4255', 'isWordStart': 'true', 'token': 'intends', 'sentence': '0'}),\n",
       "   Annotation(word_embeddings, 22, 23, to, {'isOOV': 'false', 'pieceId': '631', 'isWordStart': 'true', 'token': 'to', 'sentence': '0'}),\n",
       "   Annotation(word_embeddings, 25, 27, pay, {'isOOV': 'false', 'pieceId': '936', 'isWordStart': 'true', 'token': 'pay', 'sentence': '0'}),\n",
       "   Annotation(word_embeddings, 29, 37, dividends, {'isOOV': 'false', 'pieceId': '1919', 'isWordStart': 'true', 'token': 'dividends', 'sentence': '0'}),\n",
       "   Annotation(word_embeddings, 39, 40, on, {'isOOV': 'false', 'pieceId': '666', 'isWordStart': 'true', 'token': 'on', 'sentence': '0'}),\n",
       "   Annotation(word_embeddings, 42, 44, the, {'isOOV': 'false', 'pieceId': '612', 'isWordStart': 'true', 'token': 'the', 'sentence': '0'}),\n",
       "   Annotation(word_embeddings, 46, 51, Common, {'isOOV': 'false', 'pieceId': '101', 'isWordStart': 'true', 'token': 'Common', 'sentence': '0'}),\n",
       "   Annotation(word_embeddings, 53, 57, Units, {'isOOV': 'false', 'pieceId': '101', 'isWordStart': 'true', 'token': 'Units', 'sentence': '0'}),\n",
       "   Annotation(word_embeddings, 59, 60, on, {'isOOV': 'false', 'pieceId': '666', 'isWordStart': 'true', 'token': 'on', 'sentence': '0'}),\n",
       "   Annotation(word_embeddings, 62, 62, a, {'isOOV': 'false', 'pieceId': '143', 'isWordStart': 'true', 'token': 'a', 'sentence': '0'}),\n",
       "   Annotation(word_embeddings, 64, 72, quarterly, {'isOOV': 'false', 'pieceId': '2181', 'isWordStart': 'true', 'token': 'quarterly', 'sentence': '0'}),\n",
       "   Annotation(word_embeddings, 74, 78, basis, {'isOOV': 'false', 'pieceId': '1277', 'isWordStart': 'true', 'token': 'basis', 'sentence': '0'}),\n",
       "   Annotation(word_embeddings, 80, 81, at, {'isOOV': 'false', 'pieceId': '746', 'isWordStart': 'true', 'token': 'at', 'sentence': '0'}),\n",
       "   Annotation(word_embeddings, 83, 84, an, {'isOOV': 'false', 'pieceId': '620', 'isWordStart': 'true', 'token': 'an', 'sentence': '0'}),\n",
       "   Annotation(word_embeddings, 86, 91, annual, {'isOOV': 'false', 'pieceId': '1207', 'isWordStart': 'true', 'token': 'annual', 'sentence': '0'}),\n",
       "   Annotation(word_embeddings, 93, 96, rate, {'isOOV': 'false', 'pieceId': '1072', 'isWordStart': 'true', 'token': 'rate', 'sentence': '0'}),\n",
       "   Annotation(word_embeddings, 98, 99, of, {'isOOV': 'false', 'pieceId': '619', 'isWordStart': 'true', 'token': 'of', 'sentence': '0'}),\n",
       "   Annotation(word_embeddings, 101, 105, 8.00%, {'isOOV': 'false', 'pieceId': '128', 'isWordStart': 'true', 'token': '8.00%', 'sentence': '0'}),\n",
       "   Annotation(word_embeddings, 107, 108, of, {'isOOV': 'false', 'pieceId': '619', 'isWordStart': 'true', 'token': 'of', 'sentence': '0'}),\n",
       "   Annotation(word_embeddings, 110, 112, the, {'isOOV': 'false', 'pieceId': '612', 'isWordStart': 'true', 'token': 'the', 'sentence': '0'}),\n",
       "   Annotation(word_embeddings, 114, 121, Offering, {'isOOV': 'false', 'pieceId': '101', 'isWordStart': 'true', 'token': 'Offering', 'sentence': '0'}),\n",
       "   Annotation(word_embeddings, 123, 127, Price, {'isOOV': 'false', 'pieceId': '101', 'isWordStart': 'true', 'token': 'Price', 'sentence': '0'}),\n",
       "   Annotation(word_embeddings, 128, 128, ., {'isOOV': 'false', 'pieceId': '118', 'isWordStart': 'true', 'token': '.', 'sentence': '0'})],\n",
       "  'sentence': [Annotation(document, 1, 128, AWA Group LP intends to pay dividends on the Common Units on a quarterly basis at an annual rate of 8.00% of the Offering Price., {'sentence': '0'})]}]"
      ]
     },
     "metadata": {},
     "execution_count": 19
    }
   ],
   "id": "_E5Szc8ast4n"
  },
  {
   "cell_type": "code",
   "source": [
    "ORG = ner_result[0][\"ner_chunk\"][0].result\n",
    "\n",
    "ORG"
   ],
   "metadata": {
    "id": "uGcQcPIntV5e",
    "executionInfo": {
     "status": "ok",
     "timestamp": 1673091812026,
     "user_tz": -180,
     "elapsed": 13,
     "user": {
      "displayName": "Bünyamin Polat",
      "userId": "03982086590103784785"
     }
    },
    "colab": {
     "base_uri": "https://localhost:8080/",
     "height": 35
    },
    "outputId": "3c54dd90-46c5-4aa5-9625-c98bf8862c2c"
   },
   "execution_count": null,
   "outputs": [
    {
     "output_type": "execute_result",
     "data": {
      "text/plain": [
       "'AWA Group LP'"
      ],
      "application/vnd.google.colaboratory.intrinsic+json": {
       "type": "string"
      }
     },
     "metadata": {},
     "execution_count": 20
    }
   ],
   "id": "uGcQcPIntV5e"
  },
  {
   "cell_type": "code",
   "source": [
    "embeddings = nlp.UniversalSentenceEncoder.pretrained(\"tfhub_use\", \"en\") \\\n",
    "      .setInputCols(\"document\") \\\n",
    "      .setOutputCol(\"sentence_embeddings\")\n",
    "    \n",
    "resolver = legal.SentenceEntityResolverModel.pretrained(\"legel_edgar_company_name\", \"en\", \"legal/models\")\\\n",
    "      .setInputCols([\"sentence_embeddings\"]) \\\n",
    "      .setOutputCol(\"resolution\")\\\n",
    "      .setDistanceFunction(\"EUCLIDEAN\")\n",
    "\n",
    "pipelineModel = nlp.PipelineModel(\n",
    "      stages = [\n",
    "          documentAssembler,\n",
    "          embeddings,\n",
    "          resolver])\n",
    "\n",
    "lp_res = nlp.LightPipeline(pipelineModel)"
   ],
   "metadata": {
    "colab": {
     "base_uri": "https://localhost:8080/"
    },
    "id": "plvb6cMVCe0O",
    "executionInfo": {
     "status": "ok",
     "timestamp": 1673092011711,
     "user_tz": -180,
     "elapsed": 193807,
     "user": {
      "displayName": "Bünyamin Polat",
      "userId": "03982086590103784785"
     }
    },
    "outputId": "ba03350d-53bb-458f-f6a8-1276c3f81100"
   },
   "id": "plvb6cMVCe0O",
   "execution_count": null,
   "outputs": [
    {
     "output_type": "stream",
     "name": "stdout",
     "text": [
      "tfhub_use download started this may take some time.\n",
      "Approximate size to download 923.7 MB\n",
      "[OK!]\n",
      "finel_edgar_company_name download started this may take some time.\n",
      "[OK!]\n"
     ]
    }
   ]
  },
  {
   "cell_type": "code",
   "source": [
    "# We normalize company name\n",
    "\n",
    "el_res = lp_res.annotate(ORG)\n",
    "\n",
    "el_res"
   ],
   "metadata": {
    "id": "vFFo5P9Nttss",
    "executionInfo": {
     "status": "ok",
     "timestamp": 1673092012856,
     "user_tz": -180,
     "elapsed": 1166,
     "user": {
      "displayName": "Bünyamin Polat",
      "userId": "03982086590103784785"
     }
    },
    "colab": {
     "base_uri": "https://localhost:8080/"
    },
    "outputId": "4c59d25a-cdb9-4ba9-9eff-afd4c0807681"
   },
   "execution_count": null,
   "outputs": [
    {
     "output_type": "execute_result",
     "data": {
      "text/plain": [
       "{'document': ['AWA Group LP'],\n",
       " 'sentence_embeddings': ['AWA Group LP'],\n",
       " 'resolution': ['AWA Group LP']}"
      ]
     },
     "metadata": {},
     "execution_count": 22
    }
   ],
   "id": "vFFo5P9Nttss"
  },
  {
   "cell_type": "code",
   "source": [
    "NORM_ORG = el_res[\"resolution\"][0]\n",
    "\n",
    "NORM_ORG"
   ],
   "metadata": {
    "id": "EbCbbGZ9ttvP",
    "executionInfo": {
     "status": "ok",
     "timestamp": 1673092012857,
     "user_tz": -180,
     "elapsed": 13,
     "user": {
      "displayName": "Bünyamin Polat",
      "userId": "03982086590103784785"
     }
    },
    "colab": {
     "base_uri": "https://localhost:8080/",
     "height": 35
    },
    "outputId": "ee5a87e0-0f9d-414b-926f-2b2d5b1bcb76"
   },
   "execution_count": null,
   "outputs": [
    {
     "output_type": "execute_result",
     "data": {
      "text/plain": [
       "'AWA Group LP'"
      ],
      "application/vnd.google.colaboratory.intrinsic+json": {
       "type": "string"
      }
     },
     "metadata": {},
     "execution_count": 23
    }
   ],
   "id": "EbCbbGZ9ttvP"
  },
  {
   "cell_type": "markdown",
   "source": [
    "### Let's load our ChunkMapper model"
   ],
   "metadata": {
    "id": "z-2Q7nnywUaH"
   },
   "id": "z-2Q7nnywUaH"
  },
  {
   "cell_type": "code",
   "source": [
    "documentAssembler = nlp.DocumentAssembler()\\\n",
    "    .setInputCol(\"text\")\\\n",
    "    .setOutputCol(\"document\")\n",
    "\n",
    "chunkAssembler = nlp.Doc2Chunk() \\\n",
    "    .setInputCols(\"document\") \\\n",
    "    .setOutputCol(\"chunk\") \\\n",
    "    .setIsArray(False)\n",
    "\n",
    "CM = legal.ChunkMapperModel().load(\"openedgar_2000_2022_company_mapper\")\\\n",
    "    .setInputCols([\"chunk\"])\\\n",
    "    .setOutputCol(\"mappings\")\n",
    "\n",
    "cm_pipeline = nlp.Pipeline(stages=[documentAssembler, \n",
    "                                   chunkAssembler, \n",
    "                                   CM])\n",
    "\n",
    "fit_cm_pipeline = cm_pipeline.fit(empty_data)"
   ],
   "metadata": {
    "id": "Vx3_V33_ttyC"
   },
   "execution_count": null,
   "outputs": [],
   "id": "Vx3_V33_ttyC"
  },
  {
   "cell_type": "code",
   "source": [
    "# LightPipelines don't support Doc2Chunk, so we will use here usual transform\n",
    "\n",
    "df = spark.createDataFrame([[NORM_ORG]]).toDF(\"text\")\n",
    "\n",
    "df.show()"
   ],
   "metadata": {
    "id": "w5I4muUkvJG7",
    "executionInfo": {
     "status": "ok",
     "timestamp": 1673092029034,
     "user_tz": -180,
     "elapsed": 2700,
     "user": {
      "displayName": "Bünyamin Polat",
      "userId": "03982086590103784785"
     }
    },
    "colab": {
     "base_uri": "https://localhost:8080/"
    },
    "outputId": "2944e65a-54a7-4988-ab0f-5ad4577cb456"
   },
   "execution_count": null,
   "outputs": [
    {
     "output_type": "stream",
     "name": "stdout",
     "text": [
      "+------------+\n",
      "|        text|\n",
      "+------------+\n",
      "|AWA Group LP|\n",
      "+------------+\n",
      "\n"
     ]
    }
   ],
   "id": "w5I4muUkvJG7"
  },
  {
   "cell_type": "code",
   "source": [
    "res = fit_cm_pipeline.transform(df)\n",
    "\n",
    "res.show()"
   ],
   "metadata": {
    "id": "zS0Q-zamvOsT",
    "executionInfo": {
     "status": "ok",
     "timestamp": 1673092031041,
     "user_tz": -180,
     "elapsed": 2021,
     "user": {
      "displayName": "Bünyamin Polat",
      "userId": "03982086590103784785"
     }
    },
    "colab": {
     "base_uri": "https://localhost:8080/"
    },
    "outputId": "b6b9b4e5-78e6-45b8-cc51-9075828613e4"
   },
   "execution_count": null,
   "outputs": [
    {
     "output_type": "stream",
     "name": "stdout",
     "text": [
      "+------------+--------------------+--------------------+--------------------+\n",
      "|        text|            document|               chunk|            mappings|\n",
      "+------------+--------------------+--------------------+--------------------+\n",
      "|AWA Group LP|[{document, 0, 11...|[{chunk, 0, 11, A...|[{labeled_depende...|\n",
      "+------------+--------------------+--------------------+--------------------+\n",
      "\n"
     ]
    }
   ],
   "id": "zS0Q-zamvOsT"
  },
  {
   "cell_type": "code",
   "execution_count": null,
   "metadata": {
    "tags": [],
    "id": "e7b2c22c-49f6-4277-8636-62b876b0bf08",
    "executionInfo": {
     "status": "ok",
     "timestamp": 1673092031862,
     "user_tz": -180,
     "elapsed": 414,
     "user": {
      "displayName": "Bünyamin Polat",
      "userId": "03982086590103784785"
     }
    },
    "colab": {
     "base_uri": "https://localhost:8080/"
    },
    "outputId": "7e4fa3ed-c9dd-4c15-b7af-3704e7dcdbdc"
   },
   "outputs": [
    {
     "output_type": "stream",
     "name": "stdout",
     "text": [
      "+----------------------------------------------------------------------------------------------------------------------------------------------------------------+\n",
      "|result                                                                                                                                                          |\n",
      "+----------------------------------------------------------------------------------------------------------------------------------------------------------------+\n",
      "|[AWA Group LP, INVESTMENT ADVICE [6282], 6282, 371785232, 630, NC, DE, 116 SOUTH FRANKLIN STREET, ROCKY MOUNT, NC, 27804, 952-446-6678, , , 2017-01-23, 1645148]|\n",
      "+----------------------------------------------------------------------------------------------------------------------------------------------------------------+\n",
      "\n"
     ]
    }
   ],
   "source": [
    "res.select(\"mappings.result\").show(truncate=False)"
   ],
   "id": "e7b2c22c-49f6-4277-8636-62b876b0bf08"
  },
  {
   "cell_type": "code",
   "source": [
    "r = res.select(\"mappings\").collect()\n",
    "r"
   ],
   "metadata": {
    "id": "fqeUMOeDuVUx",
    "executionInfo": {
     "status": "ok",
     "timestamp": 1673092034720,
     "user_tz": -180,
     "elapsed": 434,
     "user": {
      "displayName": "Bünyamin Polat",
      "userId": "03982086590103784785"
     }
    },
    "colab": {
     "base_uri": "https://localhost:8080/"
    },
    "outputId": "1282a352-62d5-4975-cb1e-f0039df2b4d4"
   },
   "execution_count": null,
   "outputs": [
    {
     "output_type": "execute_result",
     "data": {
      "text/plain": [
       "[Row(mappings=[Row(annotatorType='labeled_dependency', begin=0, end=11, result='AWA Group LP', metadata={'sentence': '0', 'ops': '0.0', 'distance': '-2.220446049250313E-16', 'all_relations': '', 'chunk': '0', '__trained__': 'AWA Group LP', '__distance_function__': 'cosine', '__relation_name__': 'name', 'entity': 'AWA Group LP', 'relation': 'name'}, embeddings=[]), Row(annotatorType='labeled_dependency', begin=0, end=11, result='INVESTMENT ADVICE [6282]', metadata={'sentence': '0', 'ops': '0.0', 'distance': '-2.220446049250313E-16', 'all_relations': '', 'chunk': '0', '__trained__': 'AWA Group LP', '__distance_function__': 'cosine', '__relation_name__': 'sic', 'entity': 'AWA Group LP', 'relation': 'sic'}, embeddings=[]), Row(annotatorType='labeled_dependency', begin=0, end=11, result='6282', metadata={'sentence': '0', 'ops': '0.0', 'distance': '-2.220446049250313E-16', 'all_relations': '0', 'chunk': '0', '__trained__': 'AWA Group LP', '__distance_function__': 'cosine', '__relation_name__': 'sic_code', 'entity': 'AWA Group LP', 'relation': 'sic_code'}, embeddings=[]), Row(annotatorType='labeled_dependency', begin=0, end=11, result='371785232', metadata={'sentence': '0', 'ops': '0.0', 'distance': '-2.220446049250313E-16', 'all_relations': '0', 'chunk': '0', '__trained__': 'AWA Group LP', '__distance_function__': 'cosine', '__relation_name__': 'irs_number', 'entity': 'AWA Group LP', 'relation': 'irs_number'}, embeddings=[]), Row(annotatorType='labeled_dependency', begin=0, end=11, result='630', metadata={'sentence': '0', 'ops': '0.0', 'distance': '-2.220446049250313E-16', 'all_relations': '1231:::0', 'chunk': '0', '__trained__': 'AWA Group LP', '__distance_function__': 'cosine', '__relation_name__': 'fiscal_year_end', 'entity': 'AWA Group LP', 'relation': 'fiscal_year_end'}, embeddings=[]), Row(annotatorType='labeled_dependency', begin=0, end=11, result='NC', metadata={'sentence': '0', 'ops': '0.0', 'distance': '-2.220446049250313E-16', 'all_relations': '', 'chunk': '0', '__trained__': 'AWA Group LP', '__distance_function__': 'cosine', '__relation_name__': 'state_location', 'entity': 'AWA Group LP', 'relation': 'state_location'}, embeddings=[]), Row(annotatorType='labeled_dependency', begin=0, end=11, result='DE', metadata={'sentence': '0', 'ops': '0.0', 'distance': '-2.220446049250313E-16', 'all_relations': '', 'chunk': '0', '__trained__': 'AWA Group LP', '__distance_function__': 'cosine', '__relation_name__': 'state_incorporation', 'entity': 'AWA Group LP', 'relation': 'state_incorporation'}, embeddings=[]), Row(annotatorType='labeled_dependency', begin=0, end=11, result='116 SOUTH FRANKLIN STREET', metadata={'sentence': '0', 'ops': '0.0', 'distance': '-2.220446049250313E-16', 'all_relations': '', 'chunk': '0', '__trained__': 'AWA Group LP', '__distance_function__': 'cosine', '__relation_name__': 'business_street', 'entity': 'AWA Group LP', 'relation': 'business_street'}, embeddings=[]), Row(annotatorType='labeled_dependency', begin=0, end=11, result='ROCKY MOUNT', metadata={'sentence': '0', 'ops': '0.0', 'distance': '-2.220446049250313E-16', 'all_relations': '', 'chunk': '0', '__trained__': 'AWA Group LP', '__distance_function__': 'cosine', '__relation_name__': 'business_city', 'entity': 'AWA Group LP', 'relation': 'business_city'}, embeddings=[]), Row(annotatorType='labeled_dependency', begin=0, end=11, result='NC', metadata={'sentence': '0', 'ops': '0.0', 'distance': '-2.220446049250313E-16', 'all_relations': '', 'chunk': '0', '__trained__': 'AWA Group LP', '__distance_function__': 'cosine', '__relation_name__': 'business_state', 'entity': 'AWA Group LP', 'relation': 'business_state'}, embeddings=[]), Row(annotatorType='labeled_dependency', begin=0, end=11, result='27804', metadata={'sentence': '0', 'ops': '0.0', 'distance': '-2.220446049250313E-16', 'all_relations': '', 'chunk': '0', '__trained__': 'AWA Group LP', '__distance_function__': 'cosine', '__relation_name__': 'business_zip', 'entity': 'AWA Group LP', 'relation': 'business_zip'}, embeddings=[]), Row(annotatorType='labeled_dependency', begin=0, end=11, result='952-446-6678', metadata={'sentence': '0', 'ops': '0.0', 'distance': '-2.220446049250313E-16', 'all_relations': '', 'chunk': '0', '__trained__': 'AWA Group LP', '__distance_function__': 'cosine', '__relation_name__': 'business_phone', 'entity': 'AWA Group LP', 'relation': 'business_phone'}, embeddings=[]), Row(annotatorType='labeled_dependency', begin=0, end=11, result='', metadata={'sentence': '0', 'ops': '0.0', 'distance': '-2.220446049250313E-16', 'all_relations': '', 'chunk': '0', '__trained__': 'AWA Group LP', '__distance_function__': 'cosine', '__relation_name__': 'former_name', 'entity': 'AWA Group LP', 'relation': 'former_name'}, embeddings=[]), Row(annotatorType='labeled_dependency', begin=0, end=11, result='', metadata={'sentence': '0', 'ops': '0.0', 'distance': '-2.220446049250313E-16', 'all_relations': '', 'chunk': '0', '__trained__': 'AWA Group LP', '__distance_function__': 'cosine', '__relation_name__': 'former_name_date', 'entity': 'AWA Group LP', 'relation': 'former_name_date'}, embeddings=[]), Row(annotatorType='labeled_dependency', begin=0, end=11, result='2017-01-23', metadata={'sentence': '0', 'ops': '0.0', 'distance': '-2.220446049250313E-16', 'all_relations': '2017-03-16:::2016-01-22:::2016-01-19:::2015-06-30:::2016-04-14:::2016-07-27:::2016-10-28:::2015-06-26:::2015-09-02:::2015-09-29:::2015-12-31', 'chunk': '0', '__trained__': 'AWA Group LP', '__distance_function__': 'cosine', '__relation_name__': 'date', 'entity': 'AWA Group LP', 'relation': 'date'}, embeddings=[]), Row(annotatorType='labeled_dependency', begin=0, end=11, result='1645148', metadata={'sentence': '0', 'ops': '0.0', 'distance': '-2.220446049250313E-16', 'all_relations': '', 'chunk': '0', '__trained__': 'AWA Group LP', '__distance_function__': 'cosine', '__relation_name__': 'company_id', 'entity': 'AWA Group LP', 'relation': 'company_id'}, embeddings=[])])]"
      ]
     },
     "metadata": {},
     "execution_count": 28
    }
   ],
   "id": "fqeUMOeDuVUx"
  },
  {
   "cell_type": "code",
   "execution_count": null,
   "metadata": {
    "id": "3ed118db-d108-4637-8d1f-67c7e5106458"
   },
   "outputs": [],
   "source": [
    "json_dict = dict()\n",
    "for n in r[0]['mappings']:\n",
    "    json_dict[n.metadata['relation']] = str(n.result)"
   ],
   "id": "3ed118db-d108-4637-8d1f-67c7e5106458"
  },
  {
   "cell_type": "code",
   "execution_count": null,
   "metadata": {
    "id": "0bee659b-9446-4255-9c67-2a685de56c56",
    "executionInfo": {
     "status": "ok",
     "timestamp": 1673092039139,
     "user_tz": -180,
     "elapsed": 7,
     "user": {
      "displayName": "Bünyamin Polat",
      "userId": "03982086590103784785"
     }
    },
    "colab": {
     "base_uri": "https://localhost:8080/"
    },
    "outputId": "e2a37178-ccc4-4762-c35d-19142340f8a6"
   },
   "outputs": [
    {
     "output_type": "stream",
     "name": "stdout",
     "text": [
      "{\n",
      "    \"business_city\": \"ROCKY MOUNT\",\n",
      "    \"business_phone\": \"952-446-6678\",\n",
      "    \"business_state\": \"NC\",\n",
      "    \"business_street\": \"116 SOUTH FRANKLIN STREET\",\n",
      "    \"business_zip\": \"27804\",\n",
      "    \"company_id\": \"1645148\",\n",
      "    \"date\": \"2017-01-23\",\n",
      "    \"fiscal_year_end\": \"630\",\n",
      "    \"former_name\": \"\",\n",
      "    \"former_name_date\": \"\",\n",
      "    \"irs_number\": \"371785232\",\n",
      "    \"name\": \"AWA Group LP\",\n",
      "    \"sic\": \"INVESTMENT ADVICE [6282]\",\n",
      "    \"sic_code\": \"6282\",\n",
      "    \"state_incorporation\": \"DE\",\n",
      "    \"state_location\": \"NC\"\n",
      "}\n"
     ]
    }
   ],
   "source": [
    "import json\n",
    "print(json.dumps(json_dict, indent=4, sort_keys=True))"
   ],
   "id": "0bee659b-9446-4255-9c67-2a685de56c56"
  }
 ],
 "metadata": {
  "colab": {
   "provenance": []
  },
  "kernelspec": {
   "display_name": "Python 3.9.5 64-bit",
   "language": "python",
   "name": "python3"
  },
  "language_info": {
   "codemirror_mode": {
    "name": "ipython",
    "version": 3
   },
   "file_extension": ".py",
   "mimetype": "text/x-python",
   "name": "python",
   "nbconvert_exporter": "python",
   "pygments_lexer": "ipython3",
   "version": "3.9.5"
  },
  "vscode": {
   "interpreter": {
    "hash": "ca1c4b8877e01dec1d65bc94ac0771fb7b4e7d433b24c0ced0afdc05f796f65d"
   }
  },
  "gpuClass": "standard"
 },
 "nbformat": 4,
 "nbformat_minor": 5
}
