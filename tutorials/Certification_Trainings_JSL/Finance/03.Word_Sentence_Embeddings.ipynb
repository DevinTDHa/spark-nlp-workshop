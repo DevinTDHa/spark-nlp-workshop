{
 "cells": [
  {
   "cell_type": "markdown",
   "id": "e9KViDTWeMEE",
   "metadata": {
    "id": "e9KViDTWeMEE"
   },
   "source": [
    "![JohnSnowLabs](https://nlp.johnsnowlabs.com/assets/images/logo.png)"
   ]
  },
  {
   "attachments": {},
   "cell_type": "markdown",
   "id": "kcSuGqjTeOAy",
   "metadata": {
    "id": "kcSuGqjTeOAy"
   },
   "source": [
    "[![Open In Colab](https://colab.research.google.com/assets/colab-badge.svg)](https://colab.research.google.com/github/JohnSnowLabs/spark-nlp-workshop/blob/master/tutorials/Certification_Trainings_JSL/Finance/03.Word_Sentence_Embeddings.ipynb)"
   ]
  },
  {
   "cell_type": "markdown",
   "id": "e35e5153",
   "metadata": {
    "id": "e35e5153"
   },
   "source": [
    "# Financial Word and Sentence Embeddings"
   ]
  },
  {
   "cell_type": "markdown",
   "id": "69a14890-bc41-4765-9557-89a969c04d8f",
   "metadata": {
    "id": "69a14890-bc41-4765-9557-89a969c04d8f"
   },
   "source": [
    "# Finance Word and Sentence Embeddings visualization using PCA (Principal Component Analysis)"
   ]
  },
  {
   "cell_type": "markdown",
   "id": "5f982ae9-0570-4f90-bd30-c9d55d219e5b",
   "metadata": {
    "id": "5f982ae9-0570-4f90-bd30-c9d55d219e5b"
   },
   "source": [
    "Modern NLP models work with a numerical representation of texts and their menaning. For token classification problems (inferring a class for a token, for example Name Entity Recognition) Word Embeddings are required. For sentences, paragraph, document classification - we use Sentence Embeddings.\n",
    "\n",
    "In this notebook, we got token embeddings using Spark NLP Finance Word Embeddings(**bert_embeddings_sec_bert_base**) and using these token embeddings we got sentence embeddings by sparknlp annotator SentenceEmbeddings to get those numerical representations of the semantics of the texts. The result is a 768 embeddings matrix, impossible to process by the human eye.\n",
    "\n",
    "There are many techniques we can use to visualize those embeddings. We are using one of them - Principal Component Analysis, a dimensionality reduction process, carried out by Spark MLLib. Both embeddings have 768 dimensions, so we will reduced this dimensions from **768** to **3** (X, Y, Z) and will use a color for the word / sentence legend."
   ]
  },
  {
   "cell_type": "markdown",
   "id": "d07e14ba-b319-4d4a-b38d-5ed93debc5e6",
   "metadata": {
    "id": "d07e14ba-b319-4d4a-b38d-5ed93debc5e6"
   },
   "source": [
    "# Installation"
   ]
  },
  {
   "cell_type": "code",
   "execution_count": null,
   "metadata": {
    "collapsed": false
   },
   "outputs": [],
   "source": [
    "! pip install johnsnowlabs"
   ]
  },
  {
   "cell_type": "code",
   "execution_count": null,
   "id": "dmcB5zVBHZO8",
   "metadata": {
    "id": "dmcB5zVBHZO8"
   },
   "outputs": [],
   "source": [
    "from johnsnowlabs import nlp\n",
    "# After uploading your license run this to install all licensed Python Wheels and pre-download Jars the Spark Session JVM\n",
    "# Make sure to restart your notebook afterwards for changes to take effect\n",
    "nlp.install(force_browser=True)"
   ]
  },
  {
   "cell_type": "markdown",
   "id": "30e98304-98ef-4de6-9a54-58c255ea0458",
   "metadata": {
    "id": "30e98304-98ef-4de6-9a54-58c255ea0458"
   },
   "source": [
    "## Start Spark Session"
   ]
  },
  {
   "cell_type": "code",
   "execution_count": null,
   "id": "lQ8-BI-_5QjG",
   "metadata": {
    "id": "lQ8-BI-_5QjG"
   },
   "outputs": [],
   "source": [
    "from johnsnowlabs import nlp\n",
    "# Automatically load license data and start a session with all jars user has access to\n",
    "spark = nlp.start()"
   ]
  },
  {
   "cell_type": "markdown",
   "id": "4b7c011d-eac8-4eda-b272-027bab6a8895",
   "metadata": {
    "id": "4b7c011d-eac8-4eda-b272-027bab6a8895"
   },
   "source": [
    "# Get sample text"
   ]
  },
  {
   "cell_type": "code",
   "execution_count": null,
   "id": "XvEU36EbfUZH",
   "metadata": {
    "id": "XvEU36EbfUZH"
   },
   "outputs": [],
   "source": [
    "! pip install -q plotly\n",
    "\n",
    "# Downloading sample datasets.\n",
    "! wget -q https://raw.githubusercontent.com/JohnSnowLabs/spark-nlp-workshop/master/tutorials/Certification_Trainings_JSL/Finance/data/finance_pca_samples.csv"
   ]
  },
  {
   "cell_type": "code",
   "execution_count": null,
   "id": "5f411a9b-9744-4f77-bdb9-58702260b5b0",
   "metadata": {
    "id": "5f411a9b-9744-4f77-bdb9-58702260b5b0"
   },
   "outputs": [],
   "source": [
    "import pandas as pd\n",
    "\n",
    "df = pd.read_csv(\"finance_pca_samples.csv\")"
   ]
  },
  {
   "cell_type": "code",
   "execution_count": null,
   "id": "3977898f-24e8-43d6-a338-80f3bf8ad2a1",
   "metadata": {
    "colab": {
     "base_uri": "https://localhost:8080/"
    },
    "executionInfo": {
     "elapsed": 3521,
     "status": "ok",
     "timestamp": 1669751490655,
     "user": {
      "displayName": "Vildan Sarıkaya",
      "userId": "07789644790967768983"
     },
     "user_tz": 300
    },
    "id": "3977898f-24e8-43d6-a338-80f3bf8ad2a1",
    "outputId": "75a20aea-55cb-4dea-deae-634f67e9f411",
    "tags": []
   },
   "outputs": [
    {
     "name": "stdout",
     "output_type": "stream",
     "text": [
      "+--------------------+----------------+\n",
      "|                text|           label|\n",
      "+--------------------+----------------+\n",
      "|I called Huntingt...|        Accounts|\n",
      "|I opened an citi ...|        Accounts|\n",
      "|I have been a lon...|    Credit Cards|\n",
      "|My credit limit w...|    Credit Cards|\n",
      "|I am filing this ...|Credit Reporting|\n",
      "|The Credit Bureau...|Credit Reporting|\n",
      "|I noticed an arti...| Debt Collection|\n",
      "|A bank account wa...| Debt Collection|\n",
      "|I was contacted v...|           Loans|\n",
      "|My husband recent...|           Loans|\n",
      "|I wire transfered...| Money Transfers|\n",
      "|PayPal holds fund...| Money Transfers|\n",
      "|We have requested...|        Mortgage|\n",
      "|I filled out a co...|        Mortgage|\n",
      "+--------------------+----------------+\n",
      "\n"
     ]
    }
   ],
   "source": [
    "# Create spark dataframe\n",
    "sdf = spark.createDataFrame(df)\n",
    "sdf.show()"
   ]
  },
  {
   "cell_type": "markdown",
   "id": "5de27fdb-3fc1-4d58-8505-4f02238635b8",
   "metadata": {
    "id": "5de27fdb-3fc1-4d58-8505-4f02238635b8"
   },
   "source": [
    "# Pipeline with Spark NLP and Spark MLLIB"
   ]
  },
  {
   "cell_type": "code",
   "execution_count": null,
   "id": "YwQjfHcM_a4q",
   "metadata": {
    "id": "YwQjfHcM_a4q"
   },
   "outputs": [],
   "source": [
    "# We defined a generic pipeline for word and sentence embeddings\n",
    "\n",
    "def generic_pipeline():\n",
    "  document_assembler = nlp.DocumentAssembler()\\\n",
    "      .setInputCol(\"text\")\\\n",
    "      .setOutputCol(\"document\")\n",
    "\n",
    "  tokenizer = nlp.Tokenizer()\\\n",
    "      .setInputCols(\"document\")\\\n",
    "      .setOutputCol(\"token\")\n",
    "\n",
    "  word_embeddings = nlp.BertEmbeddings.pretrained(\"bert_embeddings_sec_bert_base\",\"en\")\\\n",
    "      .setInputCols([\"document\", \"token\"])\\\n",
    "      .setOutputCol(\"word_embeddings\")\n",
    "\n",
    "  pipeline = nlp.Pipeline(stages = [\n",
    "      document_assembler,\n",
    "      tokenizer,\n",
    "      word_embeddings\n",
    "  ])\n",
    "\n",
    "  return pipeline\n",
    "\n"
   ]
  },
  {
   "cell_type": "markdown",
   "id": "d751fd45-9810-4b43-b893-0d373e8d4870",
   "metadata": {
    "id": "d751fd45-9810-4b43-b893-0d373e8d4870"
   },
   "source": [
    "## Sentence Embeddings"
   ]
  },
  {
   "cell_type": "code",
   "execution_count": null,
   "id": "b990cfd8-576f-4057-a548-0434d39897bd",
   "metadata": {
    "id": "b990cfd8-576f-4057-a548-0434d39897bd",
    "tags": []
   },
   "outputs": [],
   "source": [
    "embeddings_sentence = nlp.SentenceEmbeddings()\\\n",
    "    .setInputCols([\"document\", \"word_embeddings\"])\\\n",
    "    .setOutputCol(\"sentence_embeddings\")\\\n",
    "    .setPoolingStrategy(\"AVERAGE\")\n",
    "# We used sparknlp SentenceEmbeddings anootator to get each sentence embeddings from token embeddings"
   ]
  },
  {
   "cell_type": "markdown",
   "id": "fde3b08f-6187-43fd-8d7b-3fe6da054c18",
   "metadata": {
    "id": "fde3b08f-6187-43fd-8d7b-3fe6da054c18"
   },
   "source": [
    "# Custom transform to retrieve the numerical embeddings from Spark NLP and pass it to Spark MLLib"
   ]
  },
  {
   "cell_type": "code",
   "execution_count": null,
   "id": "Qe4s0BQxkMPU",
   "metadata": {
    "id": "Qe4s0BQxkMPU"
   },
   "outputs": [],
   "source": [
    "from pyspark.sql import DataFrame\n",
    "import pyspark.sql.functions as F\n",
    "import pyspark.sql.types as T\n",
    "import pyspark.sql as SQL\n",
    "from pyspark import keyword_only"
   ]
  },
  {
   "cell_type": "code",
   "execution_count": null,
   "id": "30cfff3f-487b-4808-8b32-f54fc443777b",
   "metadata": {
    "id": "30cfff3f-487b-4808-8b32-f54fc443777b"
   },
   "outputs": [],
   "source": [
    "# This class extracts the embeddings from the Spark NLP Annotation object\n",
    "# from pyspark import ml as ML\n",
    "class EmbeddingsUDF(\n",
    "    nlp.Transformer, nlp.ML.param.shared.HasInputCol, nlp.ML.param.shared.HasOutputCol,\n",
    "    nlp.ML.util.DefaultParamsReadable, nlp.ML.util.DefaultParamsWritable\n",
    "):\n",
    "    @keyword_only\n",
    "    def __init__(self):\n",
    "        super(EmbeddingsUDF, self).__init__()\n",
    "\n",
    "        def _sum(r):\n",
    "            result = 0.0\n",
    "            for e in r:\n",
    "                result += e\n",
    "            return result\n",
    "\n",
    "        self.udfs = {\n",
    "            'convertToVectorUDF': F.udf(lambda vs: nlp.ML.linalg.Vectors.dense(vs), nlp.ML.linalg.VectorUDT()),\n",
    "            'sumUDF': F.udf(lambda r: _sum(r), T.FloatType())\n",
    "        }\n",
    "\n",
    "    def _transform(self, dataset):\n",
    "\n",
    "        results = dataset.select(\n",
    "            \"*\", F.explode(\"sentence_embeddings.embeddings\").alias(\"embeddings\")\n",
    "        )\n",
    "        results = results.withColumn(\n",
    "            \"features\",\n",
    "            self.udfs['convertToVectorUDF'](F.col(\"embeddings\"))\n",
    "        )\n",
    "        results = results.withColumn(\n",
    "            \"emb_sum\",\n",
    "            self.udfs['sumUDF'](F.col(\"embeddings\"))\n",
    "        )\n",
    "        # Remove those with embeddings all zeroes (so we can calculate cosine distance)\n",
    "        results = results.where(F.col(\"emb_sum\")!=0.0)\n",
    "\n",
    "        return results"
   ]
  },
  {
   "cell_type": "code",
   "execution_count": null,
   "id": "5f82e139-1cc3-423d-9d53-c0ccfec835c2",
   "metadata": {
    "id": "5f82e139-1cc3-423d-9d53-c0ccfec835c2"
   },
   "outputs": [],
   "source": [
    "embeddings_for_pca = EmbeddingsUDF()"
   ]
  },
  {
   "cell_type": "code",
   "execution_count": null,
   "id": "5213dfcf-61bc-4db2-a8c7-797a318a13f4",
   "metadata": {
    "id": "5213dfcf-61bc-4db2-a8c7-797a318a13f4"
   },
   "outputs": [],
   "source": [
    "DIMENSIONS  = 3"
   ]
  },
  {
   "cell_type": "code",
   "execution_count": null,
   "id": "285ba04a-dbe2-4f53-9aa0-fc66ba783e14",
   "metadata": {
    "id": "285ba04a-dbe2-4f53-9aa0-fc66ba783e14"
   },
   "outputs": [],
   "source": [
    "pca = nlp.ML.feature.PCA(k=DIMENSIONS, inputCol=\"features\", outputCol=\"pca_features\")"
   ]
  },
  {
   "cell_type": "markdown",
   "id": "82f95669-0f8e-491b-b6d8-33f590aa06cf",
   "metadata": {
    "id": "82f95669-0f8e-491b-b6d8-33f590aa06cf"
   },
   "source": [
    "### Full Spark NLP + Spark MLLib pipeline"
   ]
  },
  {
   "cell_type": "code",
   "execution_count": null,
   "id": "c279de78-563f-474c-8d3e-3c72243bb04b",
   "metadata": {
    "colab": {
     "base_uri": "https://localhost:8080/"
    },
    "executionInfo": {
     "elapsed": 35261,
     "status": "ok",
     "timestamp": 1669751762762,
     "user": {
      "displayName": "Vildan Sarıkaya",
      "userId": "07789644790967768983"
     },
     "user_tz": 300
    },
    "id": "c279de78-563f-474c-8d3e-3c72243bb04b",
    "outputId": "fdd519f0-44bd-4dca-a3e2-2fb00072d889"
   },
   "outputs": [
    {
     "name": "stdout",
     "output_type": "stream",
     "text": [
      "bert_embeddings_sec_bert_base download started this may take some time.\n",
      "Approximate size to download 390.4 MB\n",
      "[OK!]\n"
     ]
    }
   ],
   "source": [
    "# We did all process in one pipeline\n",
    "pipeline = nlp.Pipeline().setStages([generic_pipeline(), embeddings_sentence, embeddings_for_pca, pca])"
   ]
  },
  {
   "cell_type": "code",
   "execution_count": null,
   "id": "0d46c615-d2b6-408a-99c3-bac0f824dcf4",
   "metadata": {
    "id": "0d46c615-d2b6-408a-99c3-bac0f824dcf4"
   },
   "outputs": [],
   "source": [
    "model = pipeline.fit(sdf)"
   ]
  },
  {
   "cell_type": "code",
   "execution_count": null,
   "id": "4d52ebe0-4257-4354-817f-5b8f2a363b8e",
   "metadata": {
    "id": "4d52ebe0-4257-4354-817f-5b8f2a363b8e"
   },
   "outputs": [],
   "source": [
    "result = model.transform(sdf)"
   ]
  },
  {
   "cell_type": "code",
   "execution_count": null,
   "id": "7b852cad-e1e7-48bc-94b0-9da7188a9727",
   "metadata": {
    "colab": {
     "base_uri": "https://localhost:8080/"
    },
    "executionInfo": {
     "elapsed": 7752,
     "status": "ok",
     "timestamp": 1669751799781,
     "user": {
      "displayName": "Vildan Sarıkaya",
      "userId": "07789644790967768983"
     },
     "user_tz": 300
    },
    "id": "7b852cad-e1e7-48bc-94b0-9da7188a9727",
    "outputId": "fb4b57af-9ed4-4d57-c5f7-ccf5bf5d6887"
   },
   "outputs": [
    {
     "name": "stdout",
     "output_type": "stream",
     "text": [
      "+--------------------------------------------------------------+----------------+\n",
      "|pca_features                                                  |label           |\n",
      "+--------------------------------------------------------------+----------------+\n",
      "|[3.3957665030600284,-1.0603627660799941,-1.5687926035355244]  |Accounts        |\n",
      "|[2.366087925696237,0.8591939157072355,-0.8066160065217097]    |Accounts        |\n",
      "|[0.6867755242066029,1.4823952348657883,0.0065934759066085995] |Credit Cards    |\n",
      "|[-0.2883394962686837,1.003154546125272,-0.7963772156325487]   |Credit Cards    |\n",
      "|[-0.5037780043184445,-1.377157773296865,0.44497422838484163]  |Credit Reporting|\n",
      "|[1.0397592316146262,-1.7194163703349983,1.853939799564133]    |Credit Reporting|\n",
      "|[2.773172508045943,1.1680247576296172,1.394945023145094]      |Debt Collection |\n",
      "|[-0.4595069206464371,0.8339685731704524,0.5051715356279501]   |Debt Collection |\n",
      "|[0.27031089266955727,1.1069413851438967,-0.4247536194057023]  |Loans           |\n",
      "|[0.8662548164505034,1.1435248866274268,0.8703560851126882]    |Loans           |\n",
      "|[-0.7580933383123744,0.6312439265742037,0.6829091404935779]   |Money Transfers |\n",
      "|[0.38557974337505413,-1.4420991939271133,-0.19825257830556703]|Money Transfers |\n",
      "|[2.456906603474994,0.3302571821195314,1.2981748141039449]     |Mortgage        |\n",
      "|[2.355330470466184,0.8329483309862319,1.3904090804401439]     |Mortgage        |\n",
      "+--------------------------------------------------------------+----------------+\n",
      "\n"
     ]
    }
   ],
   "source": [
    "result.select('pca_features', 'label').show(truncate=False)"
   ]
  },
  {
   "cell_type": "code",
   "execution_count": null,
   "id": "adbf7811-b04c-4f63-88e4-10e51341ce0f",
   "metadata": {
    "colab": {
     "base_uri": "https://localhost:8080/",
     "height": 488
    },
    "executionInfo": {
     "elapsed": 3760,
     "status": "ok",
     "timestamp": 1669751803509,
     "user": {
      "displayName": "Vildan Sarıkaya",
      "userId": "07789644790967768983"
     },
     "user_tz": 300
    },
    "id": "adbf7811-b04c-4f63-88e4-10e51341ce0f",
    "outputId": "27af2c00-aa5b-437d-f865-784dfdc982b1"
   },
   "outputs": [
    {
     "data": {
      "text/html": [
       "\n",
       "  <div id=\"df-40669381-230c-4a01-992a-2c3d52d808f9\">\n",
       "    <div class=\"colab-df-container\">\n",
       "      <div>\n",
       "<style scoped>\n",
       "    .dataframe tbody tr th:only-of-type {\n",
       "        vertical-align: middle;\n",
       "    }\n",
       "\n",
       "    .dataframe tbody tr th {\n",
       "        vertical-align: top;\n",
       "    }\n",
       "\n",
       "    .dataframe thead th {\n",
       "        text-align: right;\n",
       "    }\n",
       "</style>\n",
       "<table border=\"1\" class=\"dataframe\">\n",
       "  <thead>\n",
       "    <tr style=\"text-align: right;\">\n",
       "      <th></th>\n",
       "      <th>pca_features</th>\n",
       "      <th>label</th>\n",
       "    </tr>\n",
       "  </thead>\n",
       "  <tbody>\n",
       "    <tr>\n",
       "      <th>0</th>\n",
       "      <td>[3.3957665030600284, -1.0603627660799941, -1.5...</td>\n",
       "      <td>Accounts</td>\n",
       "    </tr>\n",
       "    <tr>\n",
       "      <th>1</th>\n",
       "      <td>[2.366087925696237, 0.8591939157072355, -0.806...</td>\n",
       "      <td>Accounts</td>\n",
       "    </tr>\n",
       "    <tr>\n",
       "      <th>2</th>\n",
       "      <td>[0.6867755242066029, 1.4823952348657883, 0.006...</td>\n",
       "      <td>Credit Cards</td>\n",
       "    </tr>\n",
       "    <tr>\n",
       "      <th>3</th>\n",
       "      <td>[-0.2883394962686837, 1.003154546125272, -0.79...</td>\n",
       "      <td>Credit Cards</td>\n",
       "    </tr>\n",
       "    <tr>\n",
       "      <th>4</th>\n",
       "      <td>[-0.5037780043184445, -1.377157773296865, 0.44...</td>\n",
       "      <td>Credit Reporting</td>\n",
       "    </tr>\n",
       "    <tr>\n",
       "      <th>5</th>\n",
       "      <td>[1.0397592316146262, -1.7194163703349983, 1.85...</td>\n",
       "      <td>Credit Reporting</td>\n",
       "    </tr>\n",
       "    <tr>\n",
       "      <th>6</th>\n",
       "      <td>[2.773172508045943, 1.1680247576296172, 1.3949...</td>\n",
       "      <td>Debt Collection</td>\n",
       "    </tr>\n",
       "    <tr>\n",
       "      <th>7</th>\n",
       "      <td>[-0.4595069206464371, 0.8339685731704524, 0.50...</td>\n",
       "      <td>Debt Collection</td>\n",
       "    </tr>\n",
       "    <tr>\n",
       "      <th>8</th>\n",
       "      <td>[0.27031089266955727, 1.1069413851438967, -0.4...</td>\n",
       "      <td>Loans</td>\n",
       "    </tr>\n",
       "    <tr>\n",
       "      <th>9</th>\n",
       "      <td>[0.8662548164505034, 1.1435248866274268, 0.870...</td>\n",
       "      <td>Loans</td>\n",
       "    </tr>\n",
       "    <tr>\n",
       "      <th>10</th>\n",
       "      <td>[-0.7580933383123744, 0.6312439265742037, 0.68...</td>\n",
       "      <td>Money Transfers</td>\n",
       "    </tr>\n",
       "    <tr>\n",
       "      <th>11</th>\n",
       "      <td>[0.38557974337505413, -1.4420991939271133, -0....</td>\n",
       "      <td>Money Transfers</td>\n",
       "    </tr>\n",
       "    <tr>\n",
       "      <th>12</th>\n",
       "      <td>[2.456906603474994, 0.3302571821195314, 1.2981...</td>\n",
       "      <td>Mortgage</td>\n",
       "    </tr>\n",
       "    <tr>\n",
       "      <th>13</th>\n",
       "      <td>[2.355330470466184, 0.8329483309862319, 1.3904...</td>\n",
       "      <td>Mortgage</td>\n",
       "    </tr>\n",
       "  </tbody>\n",
       "</table>\n",
       "</div>\n",
       "      <button class=\"colab-df-convert\" onclick=\"convertToInteractive('df-40669381-230c-4a01-992a-2c3d52d808f9')\"\n",
       "              title=\"Convert this dataframe to an interactive table.\"\n",
       "              style=\"display:none;\">\n",
       "        \n",
       "  <svg xmlns=\"http://www.w3.org/2000/svg\" height=\"24px\"viewBox=\"0 0 24 24\"\n",
       "       width=\"24px\">\n",
       "    <path d=\"M0 0h24v24H0V0z\" fill=\"none\"/>\n",
       "    <path d=\"M18.56 5.44l.94 2.06.94-2.06 2.06-.94-2.06-.94-.94-2.06-.94 2.06-2.06.94zm-11 1L8.5 8.5l.94-2.06 2.06-.94-2.06-.94L8.5 2.5l-.94 2.06-2.06.94zm10 10l.94 2.06.94-2.06 2.06-.94-2.06-.94-.94-2.06-.94 2.06-2.06.94z\"/><path d=\"M17.41 7.96l-1.37-1.37c-.4-.4-.92-.59-1.43-.59-.52 0-1.04.2-1.43.59L10.3 9.45l-7.72 7.72c-.78.78-.78 2.05 0 2.83L4 21.41c.39.39.9.59 1.41.59.51 0 1.02-.2 1.41-.59l7.78-7.78 2.81-2.81c.8-.78.8-2.07 0-2.86zM5.41 20L4 18.59l7.72-7.72 1.47 1.35L5.41 20z\"/>\n",
       "  </svg>\n",
       "      </button>\n",
       "      \n",
       "  <style>\n",
       "    .colab-df-container {\n",
       "      display:flex;\n",
       "      flex-wrap:wrap;\n",
       "      gap: 12px;\n",
       "    }\n",
       "\n",
       "    .colab-df-convert {\n",
       "      background-color: #E8F0FE;\n",
       "      border: none;\n",
       "      border-radius: 50%;\n",
       "      cursor: pointer;\n",
       "      display: none;\n",
       "      fill: #1967D2;\n",
       "      height: 32px;\n",
       "      padding: 0 0 0 0;\n",
       "      width: 32px;\n",
       "    }\n",
       "\n",
       "    .colab-df-convert:hover {\n",
       "      background-color: #E2EBFA;\n",
       "      box-shadow: 0px 1px 2px rgba(60, 64, 67, 0.3), 0px 1px 3px 1px rgba(60, 64, 67, 0.15);\n",
       "      fill: #174EA6;\n",
       "    }\n",
       "\n",
       "    [theme=dark] .colab-df-convert {\n",
       "      background-color: #3B4455;\n",
       "      fill: #D2E3FC;\n",
       "    }\n",
       "\n",
       "    [theme=dark] .colab-df-convert:hover {\n",
       "      background-color: #434B5C;\n",
       "      box-shadow: 0px 1px 3px 1px rgba(0, 0, 0, 0.15);\n",
       "      filter: drop-shadow(0px 1px 2px rgba(0, 0, 0, 0.3));\n",
       "      fill: #FFFFFF;\n",
       "    }\n",
       "  </style>\n",
       "\n",
       "      <script>\n",
       "        const buttonEl =\n",
       "          document.querySelector('#df-40669381-230c-4a01-992a-2c3d52d808f9 button.colab-df-convert');\n",
       "        buttonEl.style.display =\n",
       "          google.colab.kernel.accessAllowed ? 'block' : 'none';\n",
       "\n",
       "        async function convertToInteractive(key) {\n",
       "          const element = document.querySelector('#df-40669381-230c-4a01-992a-2c3d52d808f9');\n",
       "          const dataTable =\n",
       "            await google.colab.kernel.invokeFunction('convertToInteractive',\n",
       "                                                     [key], {});\n",
       "          if (!dataTable) return;\n",
       "\n",
       "          const docLinkHtml = 'Like what you see? Visit the ' +\n",
       "            '<a target=\"_blank\" href=https://colab.research.google.com/notebooks/data_table.ipynb>data table notebook</a>'\n",
       "            + ' to learn more about interactive tables.';\n",
       "          element.innerHTML = '';\n",
       "          dataTable['output_type'] = 'display_data';\n",
       "          await google.colab.output.renderOutput(dataTable, element);\n",
       "          const docLink = document.createElement('div');\n",
       "          docLink.innerHTML = docLinkHtml;\n",
       "          element.appendChild(docLink);\n",
       "        }\n",
       "      </script>\n",
       "    </div>\n",
       "  </div>\n",
       "  "
      ],
      "text/plain": [
       "                                         pca_features             label\n",
       "0   [3.3957665030600284, -1.0603627660799941, -1.5...          Accounts\n",
       "1   [2.366087925696237, 0.8591939157072355, -0.806...          Accounts\n",
       "2   [0.6867755242066029, 1.4823952348657883, 0.006...      Credit Cards\n",
       "3   [-0.2883394962686837, 1.003154546125272, -0.79...      Credit Cards\n",
       "4   [-0.5037780043184445, -1.377157773296865, 0.44...  Credit Reporting\n",
       "5   [1.0397592316146262, -1.7194163703349983, 1.85...  Credit Reporting\n",
       "6   [2.773172508045943, 1.1680247576296172, 1.3949...   Debt Collection\n",
       "7   [-0.4595069206464371, 0.8339685731704524, 0.50...   Debt Collection\n",
       "8   [0.27031089266955727, 1.1069413851438967, -0.4...             Loans\n",
       "9   [0.8662548164505034, 1.1435248866274268, 0.870...             Loans\n",
       "10  [-0.7580933383123744, 0.6312439265742037, 0.68...   Money Transfers\n",
       "11  [0.38557974337505413, -1.4420991939271133, -0....   Money Transfers\n",
       "12  [2.456906603474994, 0.3302571821195314, 1.2981...          Mortgage\n",
       "13  [2.355330470466184, 0.8329483309862319, 1.3904...          Mortgage"
      ]
     },
     "execution_count": 20,
     "metadata": {},
     "output_type": "execute_result"
    }
   ],
   "source": [
    "df = result.select('pca_features', 'label').toPandas()\n",
    "\n",
    "df\n",
    "# As you see, dimension values are inside a list"
   ]
  },
  {
   "cell_type": "code",
   "execution_count": null,
   "id": "5c3707de-8ff4-49b7-89c2-85e9616bc337",
   "metadata": {
    "colab": {
     "base_uri": "https://localhost:8080/",
     "height": 488
    },
    "executionInfo": {
     "elapsed": 15,
     "status": "ok",
     "timestamp": 1669751803511,
     "user": {
      "displayName": "Vildan Sarıkaya",
      "userId": "07789644790967768983"
     },
     "user_tz": 300
    },
    "id": "5c3707de-8ff4-49b7-89c2-85e9616bc337",
    "outputId": "2f48b2b3-4b26-4672-acbb-16a891086c77"
   },
   "outputs": [
    {
     "data": {
      "text/html": [
       "\n",
       "  <div id=\"df-517375d6-d5dd-4eb4-acfe-78604397e582\">\n",
       "    <div class=\"colab-df-container\">\n",
       "      <div>\n",
       "<style scoped>\n",
       "    .dataframe tbody tr th:only-of-type {\n",
       "        vertical-align: middle;\n",
       "    }\n",
       "\n",
       "    .dataframe tbody tr th {\n",
       "        vertical-align: top;\n",
       "    }\n",
       "\n",
       "    .dataframe thead th {\n",
       "        text-align: right;\n",
       "    }\n",
       "</style>\n",
       "<table border=\"1\" class=\"dataframe\">\n",
       "  <thead>\n",
       "    <tr style=\"text-align: right;\">\n",
       "      <th></th>\n",
       "      <th>x</th>\n",
       "      <th>y</th>\n",
       "      <th>z</th>\n",
       "      <th>label</th>\n",
       "    </tr>\n",
       "  </thead>\n",
       "  <tbody>\n",
       "    <tr>\n",
       "      <th>0</th>\n",
       "      <td>3.395767</td>\n",
       "      <td>-1.060363</td>\n",
       "      <td>-1.568793</td>\n",
       "      <td>Accounts</td>\n",
       "    </tr>\n",
       "    <tr>\n",
       "      <th>1</th>\n",
       "      <td>2.366088</td>\n",
       "      <td>0.859194</td>\n",
       "      <td>-0.806616</td>\n",
       "      <td>Accounts</td>\n",
       "    </tr>\n",
       "    <tr>\n",
       "      <th>2</th>\n",
       "      <td>0.686776</td>\n",
       "      <td>1.482395</td>\n",
       "      <td>0.006593</td>\n",
       "      <td>Credit Cards</td>\n",
       "    </tr>\n",
       "    <tr>\n",
       "      <th>3</th>\n",
       "      <td>-0.288339</td>\n",
       "      <td>1.003155</td>\n",
       "      <td>-0.796377</td>\n",
       "      <td>Credit Cards</td>\n",
       "    </tr>\n",
       "    <tr>\n",
       "      <th>4</th>\n",
       "      <td>-0.503778</td>\n",
       "      <td>-1.377158</td>\n",
       "      <td>0.444974</td>\n",
       "      <td>Credit Reporting</td>\n",
       "    </tr>\n",
       "    <tr>\n",
       "      <th>5</th>\n",
       "      <td>1.039759</td>\n",
       "      <td>-1.719416</td>\n",
       "      <td>1.853940</td>\n",
       "      <td>Credit Reporting</td>\n",
       "    </tr>\n",
       "    <tr>\n",
       "      <th>6</th>\n",
       "      <td>2.773173</td>\n",
       "      <td>1.168025</td>\n",
       "      <td>1.394945</td>\n",
       "      <td>Debt Collection</td>\n",
       "    </tr>\n",
       "    <tr>\n",
       "      <th>7</th>\n",
       "      <td>-0.459507</td>\n",
       "      <td>0.833969</td>\n",
       "      <td>0.505172</td>\n",
       "      <td>Debt Collection</td>\n",
       "    </tr>\n",
       "    <tr>\n",
       "      <th>8</th>\n",
       "      <td>0.270311</td>\n",
       "      <td>1.106941</td>\n",
       "      <td>-0.424754</td>\n",
       "      <td>Loans</td>\n",
       "    </tr>\n",
       "    <tr>\n",
       "      <th>9</th>\n",
       "      <td>0.866255</td>\n",
       "      <td>1.143525</td>\n",
       "      <td>0.870356</td>\n",
       "      <td>Loans</td>\n",
       "    </tr>\n",
       "    <tr>\n",
       "      <th>10</th>\n",
       "      <td>-0.758093</td>\n",
       "      <td>0.631244</td>\n",
       "      <td>0.682909</td>\n",
       "      <td>Money Transfers</td>\n",
       "    </tr>\n",
       "    <tr>\n",
       "      <th>11</th>\n",
       "      <td>0.385580</td>\n",
       "      <td>-1.442099</td>\n",
       "      <td>-0.198253</td>\n",
       "      <td>Money Transfers</td>\n",
       "    </tr>\n",
       "    <tr>\n",
       "      <th>12</th>\n",
       "      <td>2.456907</td>\n",
       "      <td>0.330257</td>\n",
       "      <td>1.298175</td>\n",
       "      <td>Mortgage</td>\n",
       "    </tr>\n",
       "    <tr>\n",
       "      <th>13</th>\n",
       "      <td>2.355330</td>\n",
       "      <td>0.832948</td>\n",
       "      <td>1.390409</td>\n",
       "      <td>Mortgage</td>\n",
       "    </tr>\n",
       "  </tbody>\n",
       "</table>\n",
       "</div>\n",
       "      <button class=\"colab-df-convert\" onclick=\"convertToInteractive('df-517375d6-d5dd-4eb4-acfe-78604397e582')\"\n",
       "              title=\"Convert this dataframe to an interactive table.\"\n",
       "              style=\"display:none;\">\n",
       "        \n",
       "  <svg xmlns=\"http://www.w3.org/2000/svg\" height=\"24px\"viewBox=\"0 0 24 24\"\n",
       "       width=\"24px\">\n",
       "    <path d=\"M0 0h24v24H0V0z\" fill=\"none\"/>\n",
       "    <path d=\"M18.56 5.44l.94 2.06.94-2.06 2.06-.94-2.06-.94-.94-2.06-.94 2.06-2.06.94zm-11 1L8.5 8.5l.94-2.06 2.06-.94-2.06-.94L8.5 2.5l-.94 2.06-2.06.94zm10 10l.94 2.06.94-2.06 2.06-.94-2.06-.94-.94-2.06-.94 2.06-2.06.94z\"/><path d=\"M17.41 7.96l-1.37-1.37c-.4-.4-.92-.59-1.43-.59-.52 0-1.04.2-1.43.59L10.3 9.45l-7.72 7.72c-.78.78-.78 2.05 0 2.83L4 21.41c.39.39.9.59 1.41.59.51 0 1.02-.2 1.41-.59l7.78-7.78 2.81-2.81c.8-.78.8-2.07 0-2.86zM5.41 20L4 18.59l7.72-7.72 1.47 1.35L5.41 20z\"/>\n",
       "  </svg>\n",
       "      </button>\n",
       "      \n",
       "  <style>\n",
       "    .colab-df-container {\n",
       "      display:flex;\n",
       "      flex-wrap:wrap;\n",
       "      gap: 12px;\n",
       "    }\n",
       "\n",
       "    .colab-df-convert {\n",
       "      background-color: #E8F0FE;\n",
       "      border: none;\n",
       "      border-radius: 50%;\n",
       "      cursor: pointer;\n",
       "      display: none;\n",
       "      fill: #1967D2;\n",
       "      height: 32px;\n",
       "      padding: 0 0 0 0;\n",
       "      width: 32px;\n",
       "    }\n",
       "\n",
       "    .colab-df-convert:hover {\n",
       "      background-color: #E2EBFA;\n",
       "      box-shadow: 0px 1px 2px rgba(60, 64, 67, 0.3), 0px 1px 3px 1px rgba(60, 64, 67, 0.15);\n",
       "      fill: #174EA6;\n",
       "    }\n",
       "\n",
       "    [theme=dark] .colab-df-convert {\n",
       "      background-color: #3B4455;\n",
       "      fill: #D2E3FC;\n",
       "    }\n",
       "\n",
       "    [theme=dark] .colab-df-convert:hover {\n",
       "      background-color: #434B5C;\n",
       "      box-shadow: 0px 1px 3px 1px rgba(0, 0, 0, 0.15);\n",
       "      filter: drop-shadow(0px 1px 2px rgba(0, 0, 0, 0.3));\n",
       "      fill: #FFFFFF;\n",
       "    }\n",
       "  </style>\n",
       "\n",
       "      <script>\n",
       "        const buttonEl =\n",
       "          document.querySelector('#df-517375d6-d5dd-4eb4-acfe-78604397e582 button.colab-df-convert');\n",
       "        buttonEl.style.display =\n",
       "          google.colab.kernel.accessAllowed ? 'block' : 'none';\n",
       "\n",
       "        async function convertToInteractive(key) {\n",
       "          const element = document.querySelector('#df-517375d6-d5dd-4eb4-acfe-78604397e582');\n",
       "          const dataTable =\n",
       "            await google.colab.kernel.invokeFunction('convertToInteractive',\n",
       "                                                     [key], {});\n",
       "          if (!dataTable) return;\n",
       "\n",
       "          const docLinkHtml = 'Like what you see? Visit the ' +\n",
       "            '<a target=\"_blank\" href=https://colab.research.google.com/notebooks/data_table.ipynb>data table notebook</a>'\n",
       "            + ' to learn more about interactive tables.';\n",
       "          element.innerHTML = '';\n",
       "          dataTable['output_type'] = 'display_data';\n",
       "          await google.colab.output.renderOutput(dataTable, element);\n",
       "          const docLink = document.createElement('div');\n",
       "          docLink.innerHTML = docLinkHtml;\n",
       "          element.appendChild(docLink);\n",
       "        }\n",
       "      </script>\n",
       "    </div>\n",
       "  </div>\n",
       "  "
      ],
      "text/plain": [
       "           x         y         z             label\n",
       "0   3.395767 -1.060363 -1.568793          Accounts\n",
       "1   2.366088  0.859194 -0.806616          Accounts\n",
       "2   0.686776  1.482395  0.006593      Credit Cards\n",
       "3  -0.288339  1.003155 -0.796377      Credit Cards\n",
       "4  -0.503778 -1.377158  0.444974  Credit Reporting\n",
       "5   1.039759 -1.719416  1.853940  Credit Reporting\n",
       "6   2.773173  1.168025  1.394945   Debt Collection\n",
       "7  -0.459507  0.833969  0.505172   Debt Collection\n",
       "8   0.270311  1.106941 -0.424754             Loans\n",
       "9   0.866255  1.143525  0.870356             Loans\n",
       "10 -0.758093  0.631244  0.682909   Money Transfers\n",
       "11  0.385580 -1.442099 -0.198253   Money Transfers\n",
       "12  2.456907  0.330257  1.298175          Mortgage\n",
       "13  2.355330  0.832948  1.390409          Mortgage"
      ]
     },
     "execution_count": 21,
     "metadata": {},
     "output_type": "execute_result"
    }
   ],
   "source": [
    "# We extract the dimension values out off the list\n",
    "\n",
    "df[\"x\"] = df[\"pca_features\"].apply(lambda x: x[0])\n",
    "\n",
    "df[\"y\"] = df[\"pca_features\"].apply(lambda x: x[1])\n",
    "\n",
    "df[\"z\"] = df[\"pca_features\"].apply(lambda x: x[2])\n",
    "\n",
    "df = df[[\"x\", \"y\", \"z\", \"label\"]]\n",
    "\n",
    "df"
   ]
  },
  {
   "cell_type": "code",
   "execution_count": null,
   "id": "7281d091-9356-41a7-83e7-6b5ee541a09c",
   "metadata": {
    "colab": {
     "base_uri": "https://localhost:8080/",
     "height": 617
    },
    "executionInfo": {
     "elapsed": 1956,
     "status": "ok",
     "timestamp": 1669751805455,
     "user": {
      "displayName": "Vildan Sarıkaya",
      "userId": "07789644790967768983"
     },
     "user_tz": 300
    },
    "id": "7281d091-9356-41a7-83e7-6b5ee541a09c",
    "outputId": "4216bece-9eca-4815-9843-d6e716db7e35",
    "tags": []
   },
   "outputs": [
    {
     "data": {
      "text/html": [
       "<html>\n",
       "<head><meta charset=\"utf-8\" /></head>\n",
       "<body>\n",
       "    <div>            <script src=\"https://cdnjs.cloudflare.com/ajax/libs/mathjax/2.7.5/MathJax.js?config=TeX-AMS-MML_SVG\"></script><script type=\"text/javascript\">if (window.MathJax) {MathJax.Hub.Config({SVG: {font: \"STIX-Web\"}});}</script>                <script type=\"text/javascript\">window.PlotlyConfig = {MathJaxConfig: 'local'};</script>\n",
       "        <script src=\"https://cdn.plot.ly/plotly-2.8.3.min.js\"></script>                <div id=\"974e20f5-cd90-42cc-8049-c4d09e379c12\" class=\"plotly-graph-div\" style=\"height:600px; width:800px;\"></div>            <script type=\"text/javascript\">                                    window.PLOTLYENV=window.PLOTLYENV || {};                                    if (document.getElementById(\"974e20f5-cd90-42cc-8049-c4d09e379c12\")) {                    Plotly.newPlot(                        \"974e20f5-cd90-42cc-8049-c4d09e379c12\",                        [{\"hovertemplate\":\"label=Accounts<br>x=%{x}<br>y=%{y}<br>z=%{z}<extra></extra>\",\"legendgroup\":\"Accounts\",\"marker\":{\"color\":\"#636efa\",\"symbol\":\"circle\"},\"mode\":\"markers\",\"name\":\"Accounts\",\"scene\":\"scene\",\"showlegend\":true,\"x\":[3.3957665030600284,2.366087925696237],\"y\":[-1.0603627660799941,0.8591939157072355],\"z\":[-1.5687926035355244,-0.8066160065217097],\"type\":\"scatter3d\"},{\"hovertemplate\":\"label=Credit Cards<br>x=%{x}<br>y=%{y}<br>z=%{z}<extra></extra>\",\"legendgroup\":\"Credit Cards\",\"marker\":{\"color\":\"#EF553B\",\"symbol\":\"circle\"},\"mode\":\"markers\",\"name\":\"Credit Cards\",\"scene\":\"scene\",\"showlegend\":true,\"x\":[0.6867755242066029,-0.2883394962686837],\"y\":[1.4823952348657883,1.003154546125272],\"z\":[0.0065934759066085995,-0.7963772156325487],\"type\":\"scatter3d\"},{\"hovertemplate\":\"label=Credit Reporting<br>x=%{x}<br>y=%{y}<br>z=%{z}<extra></extra>\",\"legendgroup\":\"Credit Reporting\",\"marker\":{\"color\":\"#00cc96\",\"symbol\":\"circle\"},\"mode\":\"markers\",\"name\":\"Credit Reporting\",\"scene\":\"scene\",\"showlegend\":true,\"x\":[-0.5037780043184445,1.0397592316146262],\"y\":[-1.377157773296865,-1.7194163703349983],\"z\":[0.44497422838484163,1.853939799564133],\"type\":\"scatter3d\"},{\"hovertemplate\":\"label=Debt Collection<br>x=%{x}<br>y=%{y}<br>z=%{z}<extra></extra>\",\"legendgroup\":\"Debt Collection\",\"marker\":{\"color\":\"#ab63fa\",\"symbol\":\"circle\"},\"mode\":\"markers\",\"name\":\"Debt Collection\",\"scene\":\"scene\",\"showlegend\":true,\"x\":[2.773172508045943,-0.4595069206464371],\"y\":[1.1680247576296172,0.8339685731704524],\"z\":[1.394945023145094,0.5051715356279501],\"type\":\"scatter3d\"},{\"hovertemplate\":\"label=Loans<br>x=%{x}<br>y=%{y}<br>z=%{z}<extra></extra>\",\"legendgroup\":\"Loans\",\"marker\":{\"color\":\"#FFA15A\",\"symbol\":\"circle\"},\"mode\":\"markers\",\"name\":\"Loans\",\"scene\":\"scene\",\"showlegend\":true,\"x\":[0.27031089266955727,0.8662548164505034],\"y\":[1.1069413851438967,1.1435248866274268],\"z\":[-0.4247536194057023,0.8703560851126882],\"type\":\"scatter3d\"},{\"hovertemplate\":\"label=Money Transfers<br>x=%{x}<br>y=%{y}<br>z=%{z}<extra></extra>\",\"legendgroup\":\"Money Transfers\",\"marker\":{\"color\":\"#19d3f3\",\"symbol\":\"circle\"},\"mode\":\"markers\",\"name\":\"Money Transfers\",\"scene\":\"scene\",\"showlegend\":true,\"x\":[-0.7580933383123744,0.38557974337505413],\"y\":[0.6312439265742037,-1.4420991939271133],\"z\":[0.6829091404935779,-0.19825257830556703],\"type\":\"scatter3d\"},{\"hovertemplate\":\"label=Mortgage<br>x=%{x}<br>y=%{y}<br>z=%{z}<extra></extra>\",\"legendgroup\":\"Mortgage\",\"marker\":{\"color\":\"#FF6692\",\"symbol\":\"circle\"},\"mode\":\"markers\",\"name\":\"Mortgage\",\"scene\":\"scene\",\"showlegend\":true,\"x\":[2.456906603474994,2.355330470466184],\"y\":[0.3302571821195314,0.8329483309862319],\"z\":[1.2981748141039449,1.3904090804401439],\"type\":\"scatter3d\"}],                        {\"template\":{\"data\":{\"bar\":[{\"error_x\":{\"color\":\"#2a3f5f\"},\"error_y\":{\"color\":\"#2a3f5f\"},\"marker\":{\"line\":{\"color\":\"#E5ECF6\",\"width\":0.5},\"pattern\":{\"fillmode\":\"overlay\",\"size\":10,\"solidity\":0.2}},\"type\":\"bar\"}],\"barpolar\":[{\"marker\":{\"line\":{\"color\":\"#E5ECF6\",\"width\":0.5},\"pattern\":{\"fillmode\":\"overlay\",\"size\":10,\"solidity\":0.2}},\"type\":\"barpolar\"}],\"carpet\":[{\"aaxis\":{\"endlinecolor\":\"#2a3f5f\",\"gridcolor\":\"white\",\"linecolor\":\"white\",\"minorgridcolor\":\"white\",\"startlinecolor\":\"#2a3f5f\"},\"baxis\":{\"endlinecolor\":\"#2a3f5f\",\"gridcolor\":\"white\",\"linecolor\":\"white\",\"minorgridcolor\":\"white\",\"startlinecolor\":\"#2a3f5f\"},\"type\":\"carpet\"}],\"choropleth\":[{\"colorbar\":{\"outlinewidth\":0,\"ticks\":\"\"},\"type\":\"choropleth\"}],\"contour\":[{\"colorbar\":{\"outlinewidth\":0,\"ticks\":\"\"},\"colorscale\":[[0.0,\"#0d0887\"],[0.1111111111111111,\"#46039f\"],[0.2222222222222222,\"#7201a8\"],[0.3333333333333333,\"#9c179e\"],[0.4444444444444444,\"#bd3786\"],[0.5555555555555556,\"#d8576b\"],[0.6666666666666666,\"#ed7953\"],[0.7777777777777778,\"#fb9f3a\"],[0.8888888888888888,\"#fdca26\"],[1.0,\"#f0f921\"]],\"type\":\"contour\"}],\"contourcarpet\":[{\"colorbar\":{\"outlinewidth\":0,\"ticks\":\"\"},\"type\":\"contourcarpet\"}],\"heatmap\":[{\"colorbar\":{\"outlinewidth\":0,\"ticks\":\"\"},\"colorscale\":[[0.0,\"#0d0887\"],[0.1111111111111111,\"#46039f\"],[0.2222222222222222,\"#7201a8\"],[0.3333333333333333,\"#9c179e\"],[0.4444444444444444,\"#bd3786\"],[0.5555555555555556,\"#d8576b\"],[0.6666666666666666,\"#ed7953\"],[0.7777777777777778,\"#fb9f3a\"],[0.8888888888888888,\"#fdca26\"],[1.0,\"#f0f921\"]],\"type\":\"heatmap\"}],\"heatmapgl\":[{\"colorbar\":{\"outlinewidth\":0,\"ticks\":\"\"},\"colorscale\":[[0.0,\"#0d0887\"],[0.1111111111111111,\"#46039f\"],[0.2222222222222222,\"#7201a8\"],[0.3333333333333333,\"#9c179e\"],[0.4444444444444444,\"#bd3786\"],[0.5555555555555556,\"#d8576b\"],[0.6666666666666666,\"#ed7953\"],[0.7777777777777778,\"#fb9f3a\"],[0.8888888888888888,\"#fdca26\"],[1.0,\"#f0f921\"]],\"type\":\"heatmapgl\"}],\"histogram\":[{\"marker\":{\"pattern\":{\"fillmode\":\"overlay\",\"size\":10,\"solidity\":0.2}},\"type\":\"histogram\"}],\"histogram2d\":[{\"colorbar\":{\"outlinewidth\":0,\"ticks\":\"\"},\"colorscale\":[[0.0,\"#0d0887\"],[0.1111111111111111,\"#46039f\"],[0.2222222222222222,\"#7201a8\"],[0.3333333333333333,\"#9c179e\"],[0.4444444444444444,\"#bd3786\"],[0.5555555555555556,\"#d8576b\"],[0.6666666666666666,\"#ed7953\"],[0.7777777777777778,\"#fb9f3a\"],[0.8888888888888888,\"#fdca26\"],[1.0,\"#f0f921\"]],\"type\":\"histogram2d\"}],\"histogram2dcontour\":[{\"colorbar\":{\"outlinewidth\":0,\"ticks\":\"\"},\"colorscale\":[[0.0,\"#0d0887\"],[0.1111111111111111,\"#46039f\"],[0.2222222222222222,\"#7201a8\"],[0.3333333333333333,\"#9c179e\"],[0.4444444444444444,\"#bd3786\"],[0.5555555555555556,\"#d8576b\"],[0.6666666666666666,\"#ed7953\"],[0.7777777777777778,\"#fb9f3a\"],[0.8888888888888888,\"#fdca26\"],[1.0,\"#f0f921\"]],\"type\":\"histogram2dcontour\"}],\"mesh3d\":[{\"colorbar\":{\"outlinewidth\":0,\"ticks\":\"\"},\"type\":\"mesh3d\"}],\"parcoords\":[{\"line\":{\"colorbar\":{\"outlinewidth\":0,\"ticks\":\"\"}},\"type\":\"parcoords\"}],\"pie\":[{\"automargin\":true,\"type\":\"pie\"}],\"scatter\":[{\"marker\":{\"colorbar\":{\"outlinewidth\":0,\"ticks\":\"\"}},\"type\":\"scatter\"}],\"scatter3d\":[{\"line\":{\"colorbar\":{\"outlinewidth\":0,\"ticks\":\"\"}},\"marker\":{\"colorbar\":{\"outlinewidth\":0,\"ticks\":\"\"}},\"type\":\"scatter3d\"}],\"scattercarpet\":[{\"marker\":{\"colorbar\":{\"outlinewidth\":0,\"ticks\":\"\"}},\"type\":\"scattercarpet\"}],\"scattergeo\":[{\"marker\":{\"colorbar\":{\"outlinewidth\":0,\"ticks\":\"\"}},\"type\":\"scattergeo\"}],\"scattergl\":[{\"marker\":{\"colorbar\":{\"outlinewidth\":0,\"ticks\":\"\"}},\"type\":\"scattergl\"}],\"scattermapbox\":[{\"marker\":{\"colorbar\":{\"outlinewidth\":0,\"ticks\":\"\"}},\"type\":\"scattermapbox\"}],\"scatterpolar\":[{\"marker\":{\"colorbar\":{\"outlinewidth\":0,\"ticks\":\"\"}},\"type\":\"scatterpolar\"}],\"scatterpolargl\":[{\"marker\":{\"colorbar\":{\"outlinewidth\":0,\"ticks\":\"\"}},\"type\":\"scatterpolargl\"}],\"scatterternary\":[{\"marker\":{\"colorbar\":{\"outlinewidth\":0,\"ticks\":\"\"}},\"type\":\"scatterternary\"}],\"surface\":[{\"colorbar\":{\"outlinewidth\":0,\"ticks\":\"\"},\"colorscale\":[[0.0,\"#0d0887\"],[0.1111111111111111,\"#46039f\"],[0.2222222222222222,\"#7201a8\"],[0.3333333333333333,\"#9c179e\"],[0.4444444444444444,\"#bd3786\"],[0.5555555555555556,\"#d8576b\"],[0.6666666666666666,\"#ed7953\"],[0.7777777777777778,\"#fb9f3a\"],[0.8888888888888888,\"#fdca26\"],[1.0,\"#f0f921\"]],\"type\":\"surface\"}],\"table\":[{\"cells\":{\"fill\":{\"color\":\"#EBF0F8\"},\"line\":{\"color\":\"white\"}},\"header\":{\"fill\":{\"color\":\"#C8D4E3\"},\"line\":{\"color\":\"white\"}},\"type\":\"table\"}]},\"layout\":{\"annotationdefaults\":{\"arrowcolor\":\"#2a3f5f\",\"arrowhead\":0,\"arrowwidth\":1},\"autotypenumbers\":\"strict\",\"coloraxis\":{\"colorbar\":{\"outlinewidth\":0,\"ticks\":\"\"}},\"colorscale\":{\"diverging\":[[0,\"#8e0152\"],[0.1,\"#c51b7d\"],[0.2,\"#de77ae\"],[0.3,\"#f1b6da\"],[0.4,\"#fde0ef\"],[0.5,\"#f7f7f7\"],[0.6,\"#e6f5d0\"],[0.7,\"#b8e186\"],[0.8,\"#7fbc41\"],[0.9,\"#4d9221\"],[1,\"#276419\"]],\"sequential\":[[0.0,\"#0d0887\"],[0.1111111111111111,\"#46039f\"],[0.2222222222222222,\"#7201a8\"],[0.3333333333333333,\"#9c179e\"],[0.4444444444444444,\"#bd3786\"],[0.5555555555555556,\"#d8576b\"],[0.6666666666666666,\"#ed7953\"],[0.7777777777777778,\"#fb9f3a\"],[0.8888888888888888,\"#fdca26\"],[1.0,\"#f0f921\"]],\"sequentialminus\":[[0.0,\"#0d0887\"],[0.1111111111111111,\"#46039f\"],[0.2222222222222222,\"#7201a8\"],[0.3333333333333333,\"#9c179e\"],[0.4444444444444444,\"#bd3786\"],[0.5555555555555556,\"#d8576b\"],[0.6666666666666666,\"#ed7953\"],[0.7777777777777778,\"#fb9f3a\"],[0.8888888888888888,\"#fdca26\"],[1.0,\"#f0f921\"]]},\"colorway\":[\"#636efa\",\"#EF553B\",\"#00cc96\",\"#ab63fa\",\"#FFA15A\",\"#19d3f3\",\"#FF6692\",\"#B6E880\",\"#FF97FF\",\"#FECB52\"],\"font\":{\"color\":\"#2a3f5f\"},\"geo\":{\"bgcolor\":\"white\",\"lakecolor\":\"white\",\"landcolor\":\"#E5ECF6\",\"showlakes\":true,\"showland\":true,\"subunitcolor\":\"white\"},\"hoverlabel\":{\"align\":\"left\"},\"hovermode\":\"closest\",\"mapbox\":{\"style\":\"light\"},\"paper_bgcolor\":\"white\",\"plot_bgcolor\":\"#E5ECF6\",\"polar\":{\"angularaxis\":{\"gridcolor\":\"white\",\"linecolor\":\"white\",\"ticks\":\"\"},\"bgcolor\":\"#E5ECF6\",\"radialaxis\":{\"gridcolor\":\"white\",\"linecolor\":\"white\",\"ticks\":\"\"}},\"scene\":{\"xaxis\":{\"backgroundcolor\":\"#E5ECF6\",\"gridcolor\":\"white\",\"gridwidth\":2,\"linecolor\":\"white\",\"showbackground\":true,\"ticks\":\"\",\"zerolinecolor\":\"white\"},\"yaxis\":{\"backgroundcolor\":\"#E5ECF6\",\"gridcolor\":\"white\",\"gridwidth\":2,\"linecolor\":\"white\",\"showbackground\":true,\"ticks\":\"\",\"zerolinecolor\":\"white\"},\"zaxis\":{\"backgroundcolor\":\"#E5ECF6\",\"gridcolor\":\"white\",\"gridwidth\":2,\"linecolor\":\"white\",\"showbackground\":true,\"ticks\":\"\",\"zerolinecolor\":\"white\"}},\"shapedefaults\":{\"line\":{\"color\":\"#2a3f5f\"}},\"ternary\":{\"aaxis\":{\"gridcolor\":\"white\",\"linecolor\":\"white\",\"ticks\":\"\"},\"baxis\":{\"gridcolor\":\"white\",\"linecolor\":\"white\",\"ticks\":\"\"},\"bgcolor\":\"#E5ECF6\",\"caxis\":{\"gridcolor\":\"white\",\"linecolor\":\"white\",\"ticks\":\"\"}},\"title\":{\"x\":0.05},\"xaxis\":{\"automargin\":true,\"gridcolor\":\"white\",\"linecolor\":\"white\",\"ticks\":\"\",\"title\":{\"standoff\":15},\"zerolinecolor\":\"white\",\"zerolinewidth\":2},\"yaxis\":{\"automargin\":true,\"gridcolor\":\"white\",\"linecolor\":\"white\",\"ticks\":\"\",\"title\":{\"standoff\":15},\"zerolinecolor\":\"white\",\"zerolinewidth\":2}}},\"scene\":{\"domain\":{\"x\":[0.0,1.0],\"y\":[0.0,1.0]},\"xaxis\":{\"title\":{\"text\":\"x\"}},\"yaxis\":{\"title\":{\"text\":\"y\"}},\"zaxis\":{\"title\":{\"text\":\"z\"}}},\"legend\":{\"title\":{\"text\":\"label\"},\"tracegroupgap\":0},\"margin\":{\"t\":60},\"height\":600,\"width\":800},                        {\"responsive\": true}                    ).then(function(){\n",
       "                            \n",
       "var gd = document.getElementById('974e20f5-cd90-42cc-8049-c4d09e379c12');\n",
       "var x = new MutationObserver(function (mutations, observer) {{\n",
       "        var display = window.getComputedStyle(gd).display;\n",
       "        if (!display || display === 'none') {{\n",
       "            console.log([gd, 'removed!']);\n",
       "            Plotly.purge(gd);\n",
       "            observer.disconnect();\n",
       "        }}\n",
       "}});\n",
       "\n",
       "// Listen for the removal of the full notebook cells\n",
       "var notebookContainer = gd.closest('#notebook-container');\n",
       "if (notebookContainer) {{\n",
       "    x.observe(notebookContainer, {childList: true});\n",
       "}}\n",
       "\n",
       "// Listen for the clearing of the current output cell\n",
       "var outputEl = gd.closest('.output');\n",
       "if (outputEl) {{\n",
       "    x.observe(outputEl, {childList: true});\n",
       "}}\n",
       "\n",
       "                        })                };                            </script>        </div>\n",
       "</body>\n",
       "</html>"
      ]
     },
     "metadata": {},
     "output_type": "display_data"
    }
   ],
   "source": [
    "import plotly.express as px\n",
    "\n",
    "fig = px.scatter_3d(df, x = 'x', y = 'y', z = 'z', color = 'label', width=800, height=600)\n",
    "\n",
    "fig.show()"
   ]
  },
  {
   "cell_type": "markdown",
   "id": "602bc911-284b-4e0e-8882-99ac444fbb51",
   "metadata": {
    "id": "602bc911-284b-4e0e-8882-99ac444fbb51"
   },
   "source": [
    "### Word Embeddings"
   ]
  },
  {
   "cell_type": "markdown",
   "id": "11bfbc63-cb97-4189-8d6c-6629bbc898e8",
   "metadata": {
    "id": "11bfbc63-cb97-4189-8d6c-6629bbc898e8"
   },
   "source": [
    "We can also visualize the semantics of words, instead of full texts, by using Word Embeddings. We will add a Tokenizer and a WordEmbeddings model to get those embeddings, and them apply PCA as before. Firstly we splitted the pipeline in two to get all token embeddings"
   ]
  },
  {
   "cell_type": "code",
   "execution_count": null,
   "id": "28f0cced-e804-4415-aa57-6ae05587adf2",
   "metadata": {
    "colab": {
     "base_uri": "https://localhost:8080/"
    },
    "executionInfo": {
     "elapsed": 3222,
     "status": "ok",
     "timestamp": 1669751808670,
     "user": {
      "displayName": "Vildan Sarıkaya",
      "userId": "07789644790967768983"
     },
     "user_tz": 300
    },
    "id": "28f0cced-e804-4415-aa57-6ae05587adf2",
    "outputId": "bfcbc109-fd94-4945-d1a3-6a698f850d04"
   },
   "outputs": [
    {
     "name": "stdout",
     "output_type": "stream",
     "text": [
      "bert_embeddings_sec_bert_base download started this may take some time.\n",
      "Approximate size to download 390.4 MB\n",
      "[OK!]\n"
     ]
    }
   ],
   "source": [
    "model = generic_pipeline().fit(sdf)"
   ]
  },
  {
   "cell_type": "code",
   "execution_count": null,
   "id": "31090faa-0bbe-4e94-8384-e38a338e1989",
   "metadata": {
    "id": "31090faa-0bbe-4e94-8384-e38a338e1989"
   },
   "outputs": [],
   "source": [
    "result = model.transform(sdf)"
   ]
  },
  {
   "cell_type": "code",
   "execution_count": null,
   "id": "1815b79d-81c5-45ec-ac80-418e31f9df8e",
   "metadata": {
    "colab": {
     "base_uri": "https://localhost:8080/"
    },
    "executionInfo": {
     "elapsed": 911,
     "status": "ok",
     "timestamp": 1669751811606,
     "user": {
      "displayName": "Vildan Sarıkaya",
      "userId": "07789644790967768983"
     },
     "user_tz": 300
    },
    "id": "1815b79d-81c5-45ec-ac80-418e31f9df8e",
    "outputId": "3d26af58-a5b0-4bf1-d708-83b23c58333a",
    "tags": []
   },
   "outputs": [
    {
     "name": "stdout",
     "output_type": "stream",
     "text": [
      "+----------+--------+--------------------------------------------------------------------------------+\n",
      "|     token|   label|                                                                      embeddings|\n",
      "+----------+--------+--------------------------------------------------------------------------------+\n",
      "|         I|Accounts|[-0.29679197, 0.80952483, 0.026026454, 0.08434165, 0.74346274, -0.02694714, -...|\n",
      "|    called|Accounts|[0.28905857, -0.2922978, -0.42990327, -0.3833459, 0.026178878, -0.1272839, -0...|\n",
      "|Huntington|Accounts|[0.20684443, -0.010130229, -0.25902456, -0.3755847, 0.4579211, 0.3114918, -0....|\n",
      "|      Bank|Accounts|[-0.034711868, 0.460474, -0.6221116, -0.011170343, 0.29385087, 0.31341177, -0...|\n",
      "|        to|Accounts|[-0.4045788, -0.37686452, -0.08015355, -0.5890965, -0.33856547, -0.39321235, ...|\n",
      "|     close|Accounts|[0.35089272, 0.9568468, 0.8632823, -0.43343982, 0.11386755, -0.48837718, -0.8...|\n",
      "|        my|Accounts|[-0.3659193, 0.26555997, -0.32495028, -0.5081898, -0.3962391, -0.6334717, -0....|\n",
      "|   account|Accounts|[0.0046389326, 0.5340125, 0.77568007, 0.23316658, -0.43037683, -0.29379034, -...|\n",
      "|         ,|Accounts|[0.17874289, -0.026907533, 0.19498378, -0.79296124, -0.26044443, -0.39643198,...|\n",
      "|       and|Accounts|[0.50113475, 0.66375524, 0.15587771, -0.7952299, -0.8198417, -0.24028565, -0....|\n",
      "|      they|Accounts|[-0.21890034, 0.17352931, -0.38977084, -0.42199898, -0.6608999, -0.6682687, -...|\n",
      "|   refused|Accounts|[-0.71534365, 0.40928888, -0.5824087, 0.276895, -0.7440803, -0.016842268, -0....|\n",
      "|        to|Accounts|[-0.062417414, -0.30230492, 0.17689267, -0.36983958, 0.2230859, -0.20912752, ...|\n",
      "|     close|Accounts|[0.49901542, 0.93363464, 0.890504, -0.20053542, 0.47381908, -0.24397695, -0.7...|\n",
      "|        my|Accounts|[-0.11864854, 0.068643935, -0.47048882, -0.33866614, -0.14482133, -0.59992254...|\n",
      "|   account|Accounts|[-0.04506181, 0.5524486, 0.94584256, 0.3263076, -0.26439223, -0.14597316, -0....|\n",
      "|      over|Accounts|[0.1923038, -0.47188887, 0.33582646, 0.008950293, 0.34794235, 0.10784003, -0....|\n",
      "|       the|Accounts|[-0.44176164, -0.17911676, -0.96231806, 0.097166166, 0.19224155, 0.15848857, ...|\n",
      "|     phone|Accounts|[-0.44973862, -0.91146696, -0.06911209, -0.1809493, 0.10837414, -0.82297707, ...|\n",
      "|         .|Accounts|[0.050267152, 0.32013267, 0.22356148, -0.6540272, 0.48769483, -0.8169051, -0....|\n",
      "+----------+--------+--------------------------------------------------------------------------------+\n",
      "only showing top 20 rows\n",
      "\n"
     ]
    }
   ],
   "source": [
    "result_df = result.select(\"label\", F.explode(F.arrays_zip(result.token.result, result.word_embeddings.embeddings)).alias(\"cols\"))\\\n",
    "      .select(F.expr(\"cols['0']\").alias(\"token\"),\n",
    "              \"label\",\n",
    "              F.expr(\"cols['1']\").alias(\"embeddings\"))\n",
    "\n",
    "result_df.show(truncate = 80)\n"
   ]
  },
  {
   "cell_type": "code",
   "execution_count": null,
   "id": "6186b5d6-fa75-42db-b5f6-febbe0f6c957",
   "metadata": {
    "id": "6186b5d6-fa75-42db-b5f6-febbe0f6c957"
   },
   "outputs": [],
   "source": [
    "# Here we defined inheritance class from that defined previously EmbeddingsUDF class\n",
    "class WordEmbeddingsUDF(EmbeddingsUDF):    \n",
    "    def _transform(self, dataset):\n",
    "        \n",
    "        results = dataset.select('token', 'label', 'embeddings') # We changed this line because our embedding cloumn is already exploded\n",
    "\n",
    "        results = results.withColumn(\n",
    "            \"features\",\n",
    "            self.udfs['convertToVectorUDF'](F.col(\"embeddings\"))\n",
    "        )\n",
    "        results = results.withColumn(\n",
    "            \"emb_sum\",\n",
    "            self.udfs['sumUDF'](F.col(\"embeddings\"))\n",
    "        )\n",
    "        # Remove those with embeddings all zeroes (so we can calculate cosine distance)\n",
    "        results = results.where(F.col(\"emb_sum\")!=0.0)\n",
    "\n",
    "        return results"
   ]
  },
  {
   "cell_type": "code",
   "execution_count": null,
   "id": "e416012e-ba80-4ca8-98de-aa675660ecb1",
   "metadata": {
    "id": "e416012e-ba80-4ca8-98de-aa675660ecb1"
   },
   "outputs": [],
   "source": [
    "embeddings_for_pca = WordEmbeddingsUDF()"
   ]
  },
  {
   "cell_type": "code",
   "execution_count": null,
   "id": "0cca3d1f-0261-42de-96f8-f68f7fe6210a",
   "metadata": {
    "id": "0cca3d1f-0261-42de-96f8-f68f7fe6210a"
   },
   "outputs": [],
   "source": [
    "DIMENSIONS  = 3"
   ]
  },
  {
   "cell_type": "code",
   "execution_count": null,
   "id": "2f9e30a2-cc23-463f-87d1-4846c7a321e7",
   "metadata": {
    "id": "2f9e30a2-cc23-463f-87d1-4846c7a321e7"
   },
   "outputs": [],
   "source": [
    "pca = nlp.ML.feature.PCA(k=DIMENSIONS, inputCol=\"features\", outputCol=\"pca_features\")"
   ]
  },
  {
   "cell_type": "markdown",
   "id": "4ec00af2-8e16-4473-8b43-4f7cff630a3d",
   "metadata": {
    "id": "4ec00af2-8e16-4473-8b43-4f7cff630a3d"
   },
   "source": [
    "### Full Spark NLP + Spark MLLib pipeline"
   ]
  },
  {
   "cell_type": "code",
   "execution_count": null,
   "id": "69b8590b-2bf4-45b9-924d-d7438b87f08a",
   "metadata": {
    "id": "69b8590b-2bf4-45b9-924d-d7438b87f08a"
   },
   "outputs": [],
   "source": [
    "# We run the second part of the pipeline. Here 768 dimensions is reduced to 3 dimensions\n",
    "\n",
    "pipeline = nlp.Pipeline().setStages([embeddings_for_pca, pca])\n"
   ]
  },
  {
   "cell_type": "code",
   "execution_count": null,
   "id": "8207c543-9fb0-4187-a359-61abad891934",
   "metadata": {
    "id": "8207c543-9fb0-4187-a359-61abad891934",
    "tags": []
   },
   "outputs": [],
   "source": [
    "model = pipeline.fit(result_df)"
   ]
  },
  {
   "cell_type": "code",
   "execution_count": null,
   "id": "cf674445-20d2-4ee9-8409-6a3782794aae",
   "metadata": {
    "id": "cf674445-20d2-4ee9-8409-6a3782794aae"
   },
   "outputs": [],
   "source": [
    "result = model.transform(result_df)"
   ]
  },
  {
   "cell_type": "code",
   "execution_count": null,
   "id": "9093ca0e-e46e-40e8-8958-c47702fc4a43",
   "metadata": {
    "colab": {
     "base_uri": "https://localhost:8080/"
    },
    "executionInfo": {
     "elapsed": 687,
     "status": "ok",
     "timestamp": 1669751853672,
     "user": {
      "displayName": "Vildan Sarıkaya",
      "userId": "07789644790967768983"
     },
     "user_tz": 300
    },
    "id": "9093ca0e-e46e-40e8-8958-c47702fc4a43",
    "outputId": "0e258480-657f-4e98-891f-f587bc94a77d",
    "tags": []
   },
   "outputs": [
    {
     "name": "stdout",
     "output_type": "stream",
     "text": [
      "+----------+--------+------------------------------------------------------------+\n",
      "|     token|   label|                                                pca_features|\n",
      "+----------+--------+------------------------------------------------------------+\n",
      "|         I|Accounts| [9.850465344870052,0.021824808185501882,1.7128896103774143]|\n",
      "|    called|Accounts|  [0.570322176603955,0.34666339931904744,-2.867727585221513]|\n",
      "|Huntington|Accounts|  [8.635449026171822,0.8802331103753364,-0.8417092198995013]|\n",
      "|      Bank|Accounts| [9.391060490437583,0.45066844759817076,-1.2157440093192746]|\n",
      "|        to|Accounts| [-2.0937840432194608,-1.1261841265579897,4.473376590663865]|\n",
      "|     close|Accounts|[-2.8977641355061534,-0.1632987392886964,2.6316546803841194]|\n",
      "|        my|Accounts|   [3.542238995590729,-2.721487066875858,2.8478990364127372]|\n",
      "|   account|Accounts|[-1.2533282844778366,0.006484996411761118,1.902319625843971]|\n",
      "|         ,|Accounts| [-1.3713437013933452,0.1604400774408302,2.2361486511639295]|\n",
      "|       and|Accounts|   [0.2574777390980811,-0.3988170419879288,4.89858075073976]|\n",
      "|      they|Accounts|  [2.6491803151915305,-2.096551304954326,3.0047726776595387]|\n",
      "|   refused|Accounts| [-1.4478408767157296,-3.120719611084996,1.6237170006432229]|\n",
      "|        to|Accounts|  [-3.476136230547272,-0.9551178909687005,5.927978116405696]|\n",
      "|     close|Accounts|  [-3.220329867146988,-0.09379934075792112,2.50221782072332]|\n",
      "|        my|Accounts|    [3.07739663500615,-2.732342053695843,3.4639010259691605]|\n",
      "|   account|Accounts| [-1.759096665729952,0.049204695613448195,2.085573672727924]|\n",
      "|      over|Accounts| [-0.7852924323178465,-1.083719816036957,2.7752468248694764]|\n",
      "|       the|Accounts| [-1.9152527529864898,-0.5845530829404336,5.449710410030343]|\n",
      "|     phone|Accounts| [-3.796045034854095,-2.5272396784024043,1.5636332968097846]|\n",
      "|         .|Accounts|[-0.042122235776270375,-0.5960671509379041,0.487081898005...|\n",
      "+----------+--------+------------------------------------------------------------+\n",
      "only showing top 20 rows\n",
      "\n"
     ]
    }
   ],
   "source": [
    "result.select(\"token\", \"label\", \"pca_features\").show(truncate = 60)"
   ]
  },
  {
   "cell_type": "code",
   "execution_count": null,
   "id": "2299c9bc-8e8e-4c49-ad29-133df31da543",
   "metadata": {
    "colab": {
     "base_uri": "https://localhost:8080/",
     "height": 424
    },
    "executionInfo": {
     "elapsed": 2129,
     "status": "ok",
     "timestamp": 1669751855798,
     "user": {
      "displayName": "Vildan Sarıkaya",
      "userId": "07789644790967768983"
     },
     "user_tz": 300
    },
    "id": "2299c9bc-8e8e-4c49-ad29-133df31da543",
    "outputId": "4ba19616-dd00-4faa-eaeb-00ac5c44925d"
   },
   "outputs": [
    {
     "data": {
      "text/html": [
       "\n",
       "  <div id=\"df-222b0e5c-fd0f-45cd-af7d-8df42f62cd23\">\n",
       "    <div class=\"colab-df-container\">\n",
       "      <div>\n",
       "<style scoped>\n",
       "    .dataframe tbody tr th:only-of-type {\n",
       "        vertical-align: middle;\n",
       "    }\n",
       "\n",
       "    .dataframe tbody tr th {\n",
       "        vertical-align: top;\n",
       "    }\n",
       "\n",
       "    .dataframe thead th {\n",
       "        text-align: right;\n",
       "    }\n",
       "</style>\n",
       "<table border=\"1\" class=\"dataframe\">\n",
       "  <thead>\n",
       "    <tr style=\"text-align: right;\">\n",
       "      <th></th>\n",
       "      <th>token</th>\n",
       "      <th>label</th>\n",
       "      <th>pca_features</th>\n",
       "    </tr>\n",
       "  </thead>\n",
       "  <tbody>\n",
       "    <tr>\n",
       "      <th>0</th>\n",
       "      <td>I</td>\n",
       "      <td>Accounts</td>\n",
       "      <td>[9.850465344870052, 0.021824808185501882, 1.71...</td>\n",
       "    </tr>\n",
       "    <tr>\n",
       "      <th>1</th>\n",
       "      <td>called</td>\n",
       "      <td>Accounts</td>\n",
       "      <td>[0.570322176603955, 0.34666339931904744, -2.86...</td>\n",
       "    </tr>\n",
       "    <tr>\n",
       "      <th>2</th>\n",
       "      <td>Huntington</td>\n",
       "      <td>Accounts</td>\n",
       "      <td>[8.635449026171822, 0.8802331103753364, -0.841...</td>\n",
       "    </tr>\n",
       "    <tr>\n",
       "      <th>3</th>\n",
       "      <td>Bank</td>\n",
       "      <td>Accounts</td>\n",
       "      <td>[9.391060490437583, 0.45066844759817076, -1.21...</td>\n",
       "    </tr>\n",
       "    <tr>\n",
       "      <th>4</th>\n",
       "      <td>to</td>\n",
       "      <td>Accounts</td>\n",
       "      <td>[-2.0937840432194608, -1.1261841265579897, 4.4...</td>\n",
       "    </tr>\n",
       "    <tr>\n",
       "      <th>...</th>\n",
       "      <td>...</td>\n",
       "      <td>...</td>\n",
       "      <td>...</td>\n",
       "    </tr>\n",
       "    <tr>\n",
       "      <th>1364</th>\n",
       "      <td>the</td>\n",
       "      <td>Mortgage</td>\n",
       "      <td>[0.207832347767541, 1.2121747437322217, 2.3456...</td>\n",
       "    </tr>\n",
       "    <tr>\n",
       "      <th>1365</th>\n",
       "      <td>company</td>\n",
       "      <td>Mortgage</td>\n",
       "      <td>[0.9758761373328054, 1.1525684955599096, 1.548...</td>\n",
       "    </tr>\n",
       "    <tr>\n",
       "      <th>1366</th>\n",
       "      <td>never</td>\n",
       "      <td>Mortgage</td>\n",
       "      <td>[-0.00945112197336879, -1.3605053701459031, -0...</td>\n",
       "    </tr>\n",
       "    <tr>\n",
       "      <th>1367</th>\n",
       "      <td>responds</td>\n",
       "      <td>Mortgage</td>\n",
       "      <td>[-1.3105386067531275, -0.39519708414050136, -1...</td>\n",
       "    </tr>\n",
       "    <tr>\n",
       "      <th>1368</th>\n",
       "      <td>.</td>\n",
       "      <td>Mortgage</td>\n",
       "      <td>[1.732372662348658, -14.254697705140892, -4.51...</td>\n",
       "    </tr>\n",
       "  </tbody>\n",
       "</table>\n",
       "<p>1369 rows × 3 columns</p>\n",
       "</div>\n",
       "      <button class=\"colab-df-convert\" onclick=\"convertToInteractive('df-222b0e5c-fd0f-45cd-af7d-8df42f62cd23')\"\n",
       "              title=\"Convert this dataframe to an interactive table.\"\n",
       "              style=\"display:none;\">\n",
       "        \n",
       "  <svg xmlns=\"http://www.w3.org/2000/svg\" height=\"24px\"viewBox=\"0 0 24 24\"\n",
       "       width=\"24px\">\n",
       "    <path d=\"M0 0h24v24H0V0z\" fill=\"none\"/>\n",
       "    <path d=\"M18.56 5.44l.94 2.06.94-2.06 2.06-.94-2.06-.94-.94-2.06-.94 2.06-2.06.94zm-11 1L8.5 8.5l.94-2.06 2.06-.94-2.06-.94L8.5 2.5l-.94 2.06-2.06.94zm10 10l.94 2.06.94-2.06 2.06-.94-2.06-.94-.94-2.06-.94 2.06-2.06.94z\"/><path d=\"M17.41 7.96l-1.37-1.37c-.4-.4-.92-.59-1.43-.59-.52 0-1.04.2-1.43.59L10.3 9.45l-7.72 7.72c-.78.78-.78 2.05 0 2.83L4 21.41c.39.39.9.59 1.41.59.51 0 1.02-.2 1.41-.59l7.78-7.78 2.81-2.81c.8-.78.8-2.07 0-2.86zM5.41 20L4 18.59l7.72-7.72 1.47 1.35L5.41 20z\"/>\n",
       "  </svg>\n",
       "      </button>\n",
       "      \n",
       "  <style>\n",
       "    .colab-df-container {\n",
       "      display:flex;\n",
       "      flex-wrap:wrap;\n",
       "      gap: 12px;\n",
       "    }\n",
       "\n",
       "    .colab-df-convert {\n",
       "      background-color: #E8F0FE;\n",
       "      border: none;\n",
       "      border-radius: 50%;\n",
       "      cursor: pointer;\n",
       "      display: none;\n",
       "      fill: #1967D2;\n",
       "      height: 32px;\n",
       "      padding: 0 0 0 0;\n",
       "      width: 32px;\n",
       "    }\n",
       "\n",
       "    .colab-df-convert:hover {\n",
       "      background-color: #E2EBFA;\n",
       "      box-shadow: 0px 1px 2px rgba(60, 64, 67, 0.3), 0px 1px 3px 1px rgba(60, 64, 67, 0.15);\n",
       "      fill: #174EA6;\n",
       "    }\n",
       "\n",
       "    [theme=dark] .colab-df-convert {\n",
       "      background-color: #3B4455;\n",
       "      fill: #D2E3FC;\n",
       "    }\n",
       "\n",
       "    [theme=dark] .colab-df-convert:hover {\n",
       "      background-color: #434B5C;\n",
       "      box-shadow: 0px 1px 3px 1px rgba(0, 0, 0, 0.15);\n",
       "      filter: drop-shadow(0px 1px 2px rgba(0, 0, 0, 0.3));\n",
       "      fill: #FFFFFF;\n",
       "    }\n",
       "  </style>\n",
       "\n",
       "      <script>\n",
       "        const buttonEl =\n",
       "          document.querySelector('#df-222b0e5c-fd0f-45cd-af7d-8df42f62cd23 button.colab-df-convert');\n",
       "        buttonEl.style.display =\n",
       "          google.colab.kernel.accessAllowed ? 'block' : 'none';\n",
       "\n",
       "        async function convertToInteractive(key) {\n",
       "          const element = document.querySelector('#df-222b0e5c-fd0f-45cd-af7d-8df42f62cd23');\n",
       "          const dataTable =\n",
       "            await google.colab.kernel.invokeFunction('convertToInteractive',\n",
       "                                                     [key], {});\n",
       "          if (!dataTable) return;\n",
       "\n",
       "          const docLinkHtml = 'Like what you see? Visit the ' +\n",
       "            '<a target=\"_blank\" href=https://colab.research.google.com/notebooks/data_table.ipynb>data table notebook</a>'\n",
       "            + ' to learn more about interactive tables.';\n",
       "          element.innerHTML = '';\n",
       "          dataTable['output_type'] = 'display_data';\n",
       "          await google.colab.output.renderOutput(dataTable, element);\n",
       "          const docLink = document.createElement('div');\n",
       "          docLink.innerHTML = docLinkHtml;\n",
       "          element.appendChild(docLink);\n",
       "        }\n",
       "      </script>\n",
       "    </div>\n",
       "  </div>\n",
       "  "
      ],
      "text/plain": [
       "           token     label                                       pca_features\n",
       "0              I  Accounts  [9.850465344870052, 0.021824808185501882, 1.71...\n",
       "1         called  Accounts  [0.570322176603955, 0.34666339931904744, -2.86...\n",
       "2     Huntington  Accounts  [8.635449026171822, 0.8802331103753364, -0.841...\n",
       "3           Bank  Accounts  [9.391060490437583, 0.45066844759817076, -1.21...\n",
       "4             to  Accounts  [-2.0937840432194608, -1.1261841265579897, 4.4...\n",
       "...          ...       ...                                                ...\n",
       "1364         the  Mortgage  [0.207832347767541, 1.2121747437322217, 2.3456...\n",
       "1365     company  Mortgage  [0.9758761373328054, 1.1525684955599096, 1.548...\n",
       "1366       never  Mortgage  [-0.00945112197336879, -1.3605053701459031, -0...\n",
       "1367    responds  Mortgage  [-1.3105386067531275, -0.39519708414050136, -1...\n",
       "1368           .  Mortgage  [1.732372662348658, -14.254697705140892, -4.51...\n",
       "\n",
       "[1369 rows x 3 columns]"
      ]
     },
     "execution_count": 34,
     "metadata": {},
     "output_type": "execute_result"
    }
   ],
   "source": [
    "df = result.select('token', 'label', 'pca_features').toPandas()\n",
    "\n",
    "df"
   ]
  },
  {
   "cell_type": "code",
   "execution_count": null,
   "id": "20443a2f-9e6e-4cd2-885e-b42720bcb840",
   "metadata": {
    "colab": {
     "base_uri": "https://localhost:8080/",
     "height": 424
    },
    "executionInfo": {
     "elapsed": 25,
     "status": "ok",
     "timestamp": 1669751855799,
     "user": {
      "displayName": "Vildan Sarıkaya",
      "userId": "07789644790967768983"
     },
     "user_tz": 300
    },
    "id": "20443a2f-9e6e-4cd2-885e-b42720bcb840",
    "outputId": "99b7effd-5920-4977-d80c-4f4848931dde"
   },
   "outputs": [
    {
     "data": {
      "text/html": [
       "\n",
       "  <div id=\"df-ac1fdf21-5654-48c5-9d2a-f28645bca60f\">\n",
       "    <div class=\"colab-df-container\">\n",
       "      <div>\n",
       "<style scoped>\n",
       "    .dataframe tbody tr th:only-of-type {\n",
       "        vertical-align: middle;\n",
       "    }\n",
       "\n",
       "    .dataframe tbody tr th {\n",
       "        vertical-align: top;\n",
       "    }\n",
       "\n",
       "    .dataframe thead th {\n",
       "        text-align: right;\n",
       "    }\n",
       "</style>\n",
       "<table border=\"1\" class=\"dataframe\">\n",
       "  <thead>\n",
       "    <tr style=\"text-align: right;\">\n",
       "      <th></th>\n",
       "      <th>token</th>\n",
       "      <th>label</th>\n",
       "      <th>x</th>\n",
       "      <th>y</th>\n",
       "      <th>z</th>\n",
       "    </tr>\n",
       "  </thead>\n",
       "  <tbody>\n",
       "    <tr>\n",
       "      <th>0</th>\n",
       "      <td>I</td>\n",
       "      <td>Accounts</td>\n",
       "      <td>9.850465</td>\n",
       "      <td>0.021825</td>\n",
       "      <td>1.712890</td>\n",
       "    </tr>\n",
       "    <tr>\n",
       "      <th>1</th>\n",
       "      <td>called</td>\n",
       "      <td>Accounts</td>\n",
       "      <td>0.570322</td>\n",
       "      <td>0.346663</td>\n",
       "      <td>-2.867728</td>\n",
       "    </tr>\n",
       "    <tr>\n",
       "      <th>2</th>\n",
       "      <td>Huntington</td>\n",
       "      <td>Accounts</td>\n",
       "      <td>8.635449</td>\n",
       "      <td>0.880233</td>\n",
       "      <td>-0.841709</td>\n",
       "    </tr>\n",
       "    <tr>\n",
       "      <th>3</th>\n",
       "      <td>Bank</td>\n",
       "      <td>Accounts</td>\n",
       "      <td>9.391060</td>\n",
       "      <td>0.450668</td>\n",
       "      <td>-1.215744</td>\n",
       "    </tr>\n",
       "    <tr>\n",
       "      <th>4</th>\n",
       "      <td>to</td>\n",
       "      <td>Accounts</td>\n",
       "      <td>-2.093784</td>\n",
       "      <td>-1.126184</td>\n",
       "      <td>4.473377</td>\n",
       "    </tr>\n",
       "    <tr>\n",
       "      <th>...</th>\n",
       "      <td>...</td>\n",
       "      <td>...</td>\n",
       "      <td>...</td>\n",
       "      <td>...</td>\n",
       "      <td>...</td>\n",
       "    </tr>\n",
       "    <tr>\n",
       "      <th>1364</th>\n",
       "      <td>the</td>\n",
       "      <td>Mortgage</td>\n",
       "      <td>0.207832</td>\n",
       "      <td>1.212175</td>\n",
       "      <td>2.345684</td>\n",
       "    </tr>\n",
       "    <tr>\n",
       "      <th>1365</th>\n",
       "      <td>company</td>\n",
       "      <td>Mortgage</td>\n",
       "      <td>0.975876</td>\n",
       "      <td>1.152568</td>\n",
       "      <td>1.548877</td>\n",
       "    </tr>\n",
       "    <tr>\n",
       "      <th>1366</th>\n",
       "      <td>never</td>\n",
       "      <td>Mortgage</td>\n",
       "      <td>-0.009451</td>\n",
       "      <td>-1.360505</td>\n",
       "      <td>-0.080953</td>\n",
       "    </tr>\n",
       "    <tr>\n",
       "      <th>1367</th>\n",
       "      <td>responds</td>\n",
       "      <td>Mortgage</td>\n",
       "      <td>-1.310539</td>\n",
       "      <td>-0.395197</td>\n",
       "      <td>-1.634089</td>\n",
       "    </tr>\n",
       "    <tr>\n",
       "      <th>1368</th>\n",
       "      <td>.</td>\n",
       "      <td>Mortgage</td>\n",
       "      <td>1.732373</td>\n",
       "      <td>-14.254698</td>\n",
       "      <td>-4.517175</td>\n",
       "    </tr>\n",
       "  </tbody>\n",
       "</table>\n",
       "<p>1369 rows × 5 columns</p>\n",
       "</div>\n",
       "      <button class=\"colab-df-convert\" onclick=\"convertToInteractive('df-ac1fdf21-5654-48c5-9d2a-f28645bca60f')\"\n",
       "              title=\"Convert this dataframe to an interactive table.\"\n",
       "              style=\"display:none;\">\n",
       "        \n",
       "  <svg xmlns=\"http://www.w3.org/2000/svg\" height=\"24px\"viewBox=\"0 0 24 24\"\n",
       "       width=\"24px\">\n",
       "    <path d=\"M0 0h24v24H0V0z\" fill=\"none\"/>\n",
       "    <path d=\"M18.56 5.44l.94 2.06.94-2.06 2.06-.94-2.06-.94-.94-2.06-.94 2.06-2.06.94zm-11 1L8.5 8.5l.94-2.06 2.06-.94-2.06-.94L8.5 2.5l-.94 2.06-2.06.94zm10 10l.94 2.06.94-2.06 2.06-.94-2.06-.94-.94-2.06-.94 2.06-2.06.94z\"/><path d=\"M17.41 7.96l-1.37-1.37c-.4-.4-.92-.59-1.43-.59-.52 0-1.04.2-1.43.59L10.3 9.45l-7.72 7.72c-.78.78-.78 2.05 0 2.83L4 21.41c.39.39.9.59 1.41.59.51 0 1.02-.2 1.41-.59l7.78-7.78 2.81-2.81c.8-.78.8-2.07 0-2.86zM5.41 20L4 18.59l7.72-7.72 1.47 1.35L5.41 20z\"/>\n",
       "  </svg>\n",
       "      </button>\n",
       "      \n",
       "  <style>\n",
       "    .colab-df-container {\n",
       "      display:flex;\n",
       "      flex-wrap:wrap;\n",
       "      gap: 12px;\n",
       "    }\n",
       "\n",
       "    .colab-df-convert {\n",
       "      background-color: #E8F0FE;\n",
       "      border: none;\n",
       "      border-radius: 50%;\n",
       "      cursor: pointer;\n",
       "      display: none;\n",
       "      fill: #1967D2;\n",
       "      height: 32px;\n",
       "      padding: 0 0 0 0;\n",
       "      width: 32px;\n",
       "    }\n",
       "\n",
       "    .colab-df-convert:hover {\n",
       "      background-color: #E2EBFA;\n",
       "      box-shadow: 0px 1px 2px rgba(60, 64, 67, 0.3), 0px 1px 3px 1px rgba(60, 64, 67, 0.15);\n",
       "      fill: #174EA6;\n",
       "    }\n",
       "\n",
       "    [theme=dark] .colab-df-convert {\n",
       "      background-color: #3B4455;\n",
       "      fill: #D2E3FC;\n",
       "    }\n",
       "\n",
       "    [theme=dark] .colab-df-convert:hover {\n",
       "      background-color: #434B5C;\n",
       "      box-shadow: 0px 1px 3px 1px rgba(0, 0, 0, 0.15);\n",
       "      filter: drop-shadow(0px 1px 2px rgba(0, 0, 0, 0.3));\n",
       "      fill: #FFFFFF;\n",
       "    }\n",
       "  </style>\n",
       "\n",
       "      <script>\n",
       "        const buttonEl =\n",
       "          document.querySelector('#df-ac1fdf21-5654-48c5-9d2a-f28645bca60f button.colab-df-convert');\n",
       "        buttonEl.style.display =\n",
       "          google.colab.kernel.accessAllowed ? 'block' : 'none';\n",
       "\n",
       "        async function convertToInteractive(key) {\n",
       "          const element = document.querySelector('#df-ac1fdf21-5654-48c5-9d2a-f28645bca60f');\n",
       "          const dataTable =\n",
       "            await google.colab.kernel.invokeFunction('convertToInteractive',\n",
       "                                                     [key], {});\n",
       "          if (!dataTable) return;\n",
       "\n",
       "          const docLinkHtml = 'Like what you see? Visit the ' +\n",
       "            '<a target=\"_blank\" href=https://colab.research.google.com/notebooks/data_table.ipynb>data table notebook</a>'\n",
       "            + ' to learn more about interactive tables.';\n",
       "          element.innerHTML = '';\n",
       "          dataTable['output_type'] = 'display_data';\n",
       "          await google.colab.output.renderOutput(dataTable, element);\n",
       "          const docLink = document.createElement('div');\n",
       "          docLink.innerHTML = docLinkHtml;\n",
       "          element.appendChild(docLink);\n",
       "        }\n",
       "      </script>\n",
       "    </div>\n",
       "  </div>\n",
       "  "
      ],
      "text/plain": [
       "           token     label         x          y         z\n",
       "0              I  Accounts  9.850465   0.021825  1.712890\n",
       "1         called  Accounts  0.570322   0.346663 -2.867728\n",
       "2     Huntington  Accounts  8.635449   0.880233 -0.841709\n",
       "3           Bank  Accounts  9.391060   0.450668 -1.215744\n",
       "4             to  Accounts -2.093784  -1.126184  4.473377\n",
       "...          ...       ...       ...        ...       ...\n",
       "1364         the  Mortgage  0.207832   1.212175  2.345684\n",
       "1365     company  Mortgage  0.975876   1.152568  1.548877\n",
       "1366       never  Mortgage -0.009451  -1.360505 -0.080953\n",
       "1367    responds  Mortgage -1.310539  -0.395197 -1.634089\n",
       "1368           .  Mortgage  1.732373 -14.254698 -4.517175\n",
       "\n",
       "[1369 rows x 5 columns]"
      ]
     },
     "execution_count": 35,
     "metadata": {},
     "output_type": "execute_result"
    }
   ],
   "source": [
    "df[\"x\"] = df[\"pca_features\"].apply(lambda x: x[0])\n",
    "\n",
    "df[\"y\"] = df[\"pca_features\"].apply(lambda x: x[1])\n",
    "\n",
    "df[\"z\"] = df[\"pca_features\"].apply(lambda x: x[2])\n",
    "\n",
    "df = df[[\"token\", \"label\", \"x\", \"y\", \"z\"]]\n",
    "\n",
    "df"
   ]
  },
  {
   "cell_type": "code",
   "execution_count": null,
   "id": "e96d9799-e838-4cdc-903e-dbd5cdc37aa9",
   "metadata": {
    "colab": {
     "base_uri": "https://localhost:8080/",
     "height": 817
    },
    "executionInfo": {
     "elapsed": 135,
     "status": "ok",
     "timestamp": 1669751856040,
     "user": {
      "displayName": "Vildan Sarıkaya",
      "userId": "07789644790967768983"
     },
     "user_tz": 300
    },
    "id": "e96d9799-e838-4cdc-903e-dbd5cdc37aa9",
    "outputId": "1655449a-dbad-4c3f-850b-443b37080c45",
    "tags": []
   },
   "outputs": [
    {
     "data": {
      "text/html": [
       "<html>\n",
       "<head><meta charset=\"utf-8\" /></head>\n",
       "<body>\n",
       "    <div>            <script src=\"https://cdnjs.cloudflare.com/ajax/libs/mathjax/2.7.5/MathJax.js?config=TeX-AMS-MML_SVG\"></script><script type=\"text/javascript\">if (window.MathJax) {MathJax.Hub.Config({SVG: {font: \"STIX-Web\"}});}</script>                <script type=\"text/javascript\">window.PlotlyConfig = {MathJaxConfig: 'local'};</script>\n",
       "        <script src=\"https://cdn.plot.ly/plotly-2.8.3.min.js\"></script>                <div id=\"2e889118-bbe6-4a6f-be7d-b4ca31321703\" class=\"plotly-graph-div\" style=\"height:800px; width:1000px;\"></div>            <script type=\"text/javascript\">                                    window.PLOTLYENV=window.PLOTLYENV || {};                                    if (document.getElementById(\"2e889118-bbe6-4a6f-be7d-b4ca31321703\")) {                    Plotly.newPlot(                        \"2e889118-bbe6-4a6f-be7d-b4ca31321703\",                        [{\"customdata\":[[\"I\",\"Accounts\"],[\"called\",\"Accounts\"],[\"Huntington\",\"Accounts\"],[\"Bank\",\"Accounts\"],[\"to\",\"Accounts\"],[\"close\",\"Accounts\"],[\"my\",\"Accounts\"],[\"account\",\"Accounts\"],[\",\",\"Accounts\"],[\"and\",\"Accounts\"],[\"they\",\"Accounts\"],[\"refused\",\"Accounts\"],[\"to\",\"Accounts\"],[\"close\",\"Accounts\"],[\"my\",\"Accounts\"],[\"account\",\"Accounts\"],[\"over\",\"Accounts\"],[\"the\",\"Accounts\"],[\"phone\",\"Accounts\"],[\".\",\"Accounts\"],[\"They\",\"Accounts\"],[\"told\",\"Accounts\"],[\"me\",\"Accounts\"],[\"I\",\"Accounts\"],[\"HAD\",\"Accounts\"],[\"to\",\"Accounts\"],[\"go\",\"Accounts\"],[\"into\",\"Accounts\"],[\"a\",\"Accounts\"],[\"branch\",\"Accounts\"],[\"to\",\"Accounts\"],[\"close\",\"Accounts\"],[\"it\",\"Accounts\"],[\".\",\"Accounts\"],[\"I\",\"Accounts\"],[\"do\",\"Accounts\"],[\"not\",\"Accounts\"],[\"want\",\"Accounts\"],[\"the\",\"Accounts\"],[\"account\",\"Accounts\"],[\"anymore\",\"Accounts\"],[\",\",\"Accounts\"],[\"and\",\"Accounts\"],[\"it\",\"Accounts\"],[\"has\",\"Accounts\"],[\"a\",\"Accounts\"],[\"monthly\",\"Accounts\"],[\"fee\",\"Accounts\"],[\".\",\"Accounts\"],[\"I\",\"Accounts\"],[\"can\",\"Accounts\"],[\"not\",\"Accounts\"],[\"make\",\"Accounts\"],[\"it\",\"Accounts\"],[\"to\",\"Accounts\"],[\"a\",\"Accounts\"],[\"branch\",\"Accounts\"],[\"during\",\"Accounts\"],[\"business\",\"Accounts\"],[\"hours\",\"Accounts\"],[\",\",\"Accounts\"],[\"which\",\"Accounts\"],[\"I\",\"Accounts\"],[\"told\",\"Accounts\"],[\"the\",\"Accounts\"],[\"lady\",\"Accounts\"],[\"on\",\"Accounts\"],[\"the\",\"Accounts\"],[\"phone\",\"Accounts\"],[\",\",\"Accounts\"],[\"but\",\"Accounts\"],[\"she\",\"Accounts\"],[\"refused\",\"Accounts\"],[\"to\",\"Accounts\"],[\"make\",\"Accounts\"],[\"an\",\"Accounts\"],[\"exception\",\"Accounts\"],[\".\",\"Accounts\"],[\"I\",\"Accounts\"],[\"asked\",\"Accounts\"],[\"several\",\"Accounts\"],[\"more\",\"Accounts\"],[\"times\",\"Accounts\"],[\"to\",\"Accounts\"],[\"no\",\"Accounts\"],[\"avail\",\"Accounts\"],[\".\",\"Accounts\"],[\"It\",\"Accounts\"],[\"seems\",\"Accounts\"],[\"very\",\"Accounts\"],[\"unethical\",\"Accounts\"],[\"to\",\"Accounts\"],[\"me\",\"Accounts\"],[\"that\",\"Accounts\"],[\"they\",\"Accounts\"],[\"are\",\"Accounts\"],[\"making\",\"Accounts\"],[\"it\",\"Accounts\"],[\"so\",\"Accounts\"],[\"difficult\",\"Accounts\"],[\"to\",\"Accounts\"],[\"close\",\"Accounts\"],[\"my\",\"Accounts\"],[\"account\",\"Accounts\"],[\"with\",\"Accounts\"],[\"them\",\"Accounts\"],[\".\",\"Accounts\"],[\"I\",\"Accounts\"],[\"don't\",\"Accounts\"],[\"even\",\"Accounts\"],[\"know\",\"Accounts\"],[\"how\",\"Accounts\"],[\"I\",\"Accounts\"],[\"will\",\"Accounts\"],[\"do\",\"Accounts\"],[\"it\",\"Accounts\"],[\".\",\"Accounts\"],[\"I\",\"Accounts\"],[\"opened\",\"Accounts\"],[\"an\",\"Accounts\"],[\"citi\",\"Accounts\"],[\"account\",\"Accounts\"],[\"since\",\"Accounts\"],[\"day\",\"Accounts\"],[\"1\",\"Accounts\"],[\"i\",\"Accounts\"],[\"started\",\"Accounts\"],[\"having\",\"Accounts\"],[\"problems\",\"Accounts\"],[\".\",\"Accounts\"],[\"I\",\"Accounts\"],[\"wired\",\"Accounts\"],[\"transfered\",\"Accounts\"],[\"all\",\"Accounts\"],[\"my\",\"Accounts\"],[\"money\",\"Accounts\"],[\"to\",\"Accounts\"],[\"my\",\"Accounts\"],[\"other\",\"Accounts\"],[\"account\",\"Accounts\"],[\"and\",\"Accounts\"],[\"closed\",\"Accounts\"],[\"my\",\"Accounts\"],[\"account\",\"Accounts\"],[\".\",\"Accounts\"],[\"I\",\"Accounts\"],[\"asked\",\"Accounts\"],[\"the\",\"Accounts\"],[\"representative\",\"Accounts\"],[\"if\",\"Accounts\"],[\"my\",\"Accounts\"],[\"wire\",\"Accounts\"],[\"transfer\",\"Accounts\"],[\"will\",\"Accounts\"],[\"be\",\"Accounts\"],[\"affected\",\"Accounts\"],[\"from\",\"Accounts\"],[\"closure\",\"Accounts\"],[\"they\",\"Accounts\"],[\"said\",\"Accounts\"],[\"no\",\"Accounts\"],[\"so\",\"Accounts\"],[\"i\",\"Accounts\"],[\"went\",\"Accounts\"],[\"thru\",\"Accounts\"],[\"closing\",\"Accounts\"],[\".\",\"Accounts\"],[\"Out\",\"Accounts\"],[\"of\",\"Accounts\"],[\"2\",\"Accounts\"],[\"wire\",\"Accounts\"],[\"transfer\",\"Accounts\"],[\"one\",\"Accounts\"],[\"didnt\",\"Accounts\"],[\"go\",\"Accounts\"],[\"thru\",\"Accounts\"],[\".\",\"Accounts\"],[\"I\",\"Accounts\"],[\"called\",\"Accounts\"],[\"at\",\"Accounts\"],[\"least\",\"Accounts\"],[\"6\",\"Accounts\"],[\"times\",\"Accounts\"],[\"and\",\"Accounts\"],[\"customer\",\"Accounts\"],[\"service\",\"Accounts\"],[\"either\",\"Accounts\"],[\"putting\",\"Accounts\"],[\"me\",\"Accounts\"],[\"on\",\"Accounts\"],[\"hold\",\"Accounts\"],[\"or\",\"Accounts\"],[\"giving\",\"Accounts\"],[\"me\",\"Accounts\"],[\"another\",\"Accounts\"],[\"number\",\"Accounts\"],[\"to\",\"Accounts\"],[\"call\",\"Accounts\"],[\".\",\"Accounts\"],[\"My\",\"Accounts\"],[\"13\",\"Accounts\"],[\"k\",\"Accounts\"],[\"is\",\"Accounts\"],[\"lost\",\"Accounts\"],[\"and\",\"Accounts\"],[\"now\",\"Accounts\"],[\"my\",\"Accounts\"],[\"account\",\"Accounts\"],[\"is\",\"Accounts\"],[\"closed\",\"Accounts\"],[\".\",\"Accounts\"],[\"Ill\",\"Accounts\"],[\"call\",\"Accounts\"],[\"again\",\"Accounts\"],[\"in\",\"Accounts\"],[\"the\",\"Accounts\"],[\"morning\",\"Accounts\"],[\"but\",\"Accounts\"],[\"i\",\"Accounts\"],[\"know\",\"Accounts\"],[\"nothing\",\"Accounts\"],[\"will\",\"Accounts\"],[\"be\",\"Accounts\"],[\"resolved\",\"Accounts\"],[\".\",\"Accounts\"],[\"I\",\"Accounts\"],[\"regret\",\"Accounts\"],[\"to\",\"Accounts\"],[\"even\",\"Accounts\"],[\"come\",\"Accounts\"],[\"close\",\"Accounts\"],[\"to\",\"Accounts\"],[\"citi\",\"Accounts\"],[\"bank\",\"Accounts\"],[\".\",\"Accounts\"],[\"I\",\"Accounts\"],[\"want\",\"Accounts\"],[\"my\",\"Accounts\"],[\"money\",\"Accounts\"]],\"hovertemplate\":\"label=%{customdata[1]}<br>x=%{x}<br>y=%{y}<br>z=%{z}<br>token=%{customdata[0]}<extra></extra>\",\"legendgroup\":\"Accounts\",\"marker\":{\"color\":\"#636efa\",\"symbol\":\"circle\"},\"mode\":\"markers\",\"name\":\"Accounts\",\"scene\":\"scene\",\"showlegend\":true,\"x\":[9.850465344870052,0.570322176603955,8.635449026171822,9.391060490437583,-2.0937840432194608,-2.8977641355061534,3.542238995590729,-1.2533282844778366,-1.3713437013933452,0.2574777390980811,2.6491803151915305,-1.4478408767157296,-3.476136230547272,-3.220329867146988,3.07739663500615,-1.759096665729952,-0.7852924323178465,-1.9152527529864898,-3.796045034854095,-0.042122235776270375,13.554965719057918,-0.8371673383491378,0.2318340637218862,10.371238608968913,8.416990262923893,-2.677956589394348,-2.622206126291164,-1.8482922403199602,-1.647248081634226,-1.784336724149952,-3.3511643403280447,-3.519486069558392,-2.2866378919548462,-0.711002964910056,13.113686094651529,-1.3924339175105012,-1.6348936178836504,-3.5238175474695903,-1.3496190236943715,-1.8263188857952826,-1.9074667121858275,-1.6840662910478583,-0.4299631347677913,-0.9460147060470537,-3.137419877633955,-2.998853511062861,-3.461182532827869,-2.4756042989274265,-0.17421688996157822,14.322776474461307,-2.5376517730135473,-2.194131685520545,-2.805321730996719,-2.7832651899607095,-4.017728789430705,-1.952930645522668,-1.7243624161718958,-2.3104991962523824,-1.3800187391605823,-2.537113190531519,-1.866570716813214,-0.17033522077530397,13.572016807593563,-1.4720227708020228,0.5175845439004316,-0.3417867978244594,-3.4646281400384713,-2.048326543432061,-3.462506055908356,-1.8505605575957063,-0.13811534219278718,0.7621285859462237,-1.4514883938225103,-3.6154373940311677,-2.546666798173662,-2.332403721689605,-3.4161536334578675,0.4089068324213064,13.981263182301083,-2.2462637908547,-2.515302902407149,-1.79153411569692,1.3053735468722696,-3.089144107745685,-2.6483309367901855,-1.9833905849001567,0.33908001411558225,14.499290864487719,2.536862021775345,-3.090020292841555,0.30232806785833183,-2.9019917083880546,0.5535676198497783,0.7779308202001554,2.06073506757757,-1.9980525092401844,-2.799369926553042,-1.0182666172745112,-2.2824149172968693,-3.535632785597885,-3.2351568218668976,-3.1808433531459186,3.440893939094778,-1.3564323999603043,-1.6332523270408437,0.3157616744524296,0.5347802662489299,13.482123978789733,1.216518421697979,-0.7857875589062616,-2.4242722792378126,-2.8608682299513553,9.108003927019626,-2.691577393526157,-3.807619241884125,-2.6130092890132457,0.568399261556667,11.616903355247912,-4.3034829276595605,-1.6986371918448298,-0.88152584442316,-2.2971368860556276,-1.701535874665016,-0.28925239653362367,0.38529193883942936,2.4746627648815367,-4.60676770840247,-3.377857576694813,-1.6560559236679055,-0.09580208166831329,12.819570439989207,2.0609116735953905,-1.1337032845583956,-1.0861093985917376,2.4884708077870217,-2.6683923120557385,-4.052972432952575,3.1448576201814893,-1.1413362686800559,-1.962090014068179,0.37516240196055517,-3.147341727295248,3.1726993391543075,-2.3251275135950475,-0.38443067335453346,12.740730927481609,-3.4318495028360725,-1.5586795251191652,-2.389443231578993,-1.3474709779037761,1.2377282299211732,-1.8330074700458363,-1.3535531969581203,-2.280001997565966,-2.6429634468651506,-2.627567238828715,-0.8661886121442692,-1.2436406110462355,1.494988218610461,-1.4034317631736926,-1.3318754360523901,-1.4489402956150879,1.032201659940657,-4.874627232431541,-2.899662484191385,-1.959030545031366,-0.4085821185273056,10.892825142719524,-1.6422442569213773,-1.1139281904809526,-1.6796412628248694,-1.0708409613840102,0.5472331999618052,-3.9468729342064393,-3.894614869926254,-2.8459498105072405,-0.1686998806270841,12.506344700555294,-2.856712490961078,-0.834349201257238,-1.0989006037192335,-0.42685504617116293,-1.1663857867486214,-2.019863321273927,-0.6426227092294324,-2.016132535242967,-2.11706911043086,-2.677842498556294,-1.9015842363525406,-3.395112467015271,-2.8229763977430973,-2.306083815034023,-2.798588233244814,-1.671164958451637,-3.7104689286414225,-3.141077403729541,-3.0512551926318454,-3.037434770458313,-0.7116047367086632,11.363385375583663,-1.1061442007254523,-1.346757222396418,-1.8100924912180967,-2.2078447316939593,-1.193512339083655,-0.9863262595931329,3.0104883256070223,-2.2516345536487563,-1.8895832704590438,-2.3703845234670253,-0.8267510891913871,11.732033740886683,-3.080922292966238,-3.447684945624001,-3.038541672298793,-1.847203881576819,-1.716227007796834,-1.9288462643739408,2.064982065732084,-2.4978477913290287,-1.439036255291125,-3.142540708730233,-3.0367307549798306,-2.8290907248843613,-0.45903724112512667,12.379081328276875,-2.7487333195126484,-3.034254565844585,-1.1355942735535165,-2.2508484951655676,-3.1597617575866934,-4.421996558847632,-2.6320136247570867,-2.219690116958263,-0.5689113544294958,11.871970507018798,-2.739377510675717,1.293183706912727,-2.435036710641653],\"y\":[0.021824808185501882,0.34666339931904744,0.8802331103753364,0.45066844759817076,-1.1261841265579897,-0.1632987392886964,-2.721487066875858,0.006484996411761118,0.1604400774408302,-0.3988170419879288,-2.096551304954326,-3.120719611084996,-0.9551178909687005,-0.09379934075792112,-2.732342053695843,0.049204695613448195,-1.083719816036957,-0.5845530829404336,-2.5272396784024043,-0.5960671509379041,-1.1180180355713851,-3.0456877538311233,-4.583416828204052,-0.583334939297093,-0.858245512709728,-1.7613640666075217,-2.3052662999993125,-0.89404158248042,0.06460080846333834,0.4040020123986588,-0.4981507664992787,-0.15311661464957257,-1.0585858721769223,-0.5610476895559044,-1.4886860120514656,-2.8509021902785645,-2.0412011425426684,-0.6153001974722322,-0.29914207354447236,1.1251910927165287,0.6317852324952192,0.5571317932964845,-0.6216484166722449,-1.6677481267341685,-1.5742937900899996,-1.409210989242246,0.43791469747568895,1.5648494057573932,-0.5496807285845756,-0.7873589977248031,-2.423888792066982,-1.9535481954911964,-0.7278675953635663,-1.5159902814544788,-0.9367589702606384,0.18961857911838792,0.8120448144672431,0.6098184270951488,1.0313188343967203,0.044968573644642906,0.07625068211620979,0.8345697295576581,-1.2703365743124515,-2.733700566412642,-0.3004825032413664,2.2628612738565606,-1.3156203127037704,-0.8023327992252001,-2.326373778322592,0.21380336336534328,-3.0000280826594428,-2.5206825538235775,-3.177571660886383,-1.8094931579692564,-0.9602341974507793,-0.10098906528848237,0.40842737971234777,-13.872370540407537,-0.9486206024961326,-0.8790350764661559,-0.21483016004730346,-0.0496091614803069,-0.36747969483150644,-1.1950415760301079,0.8975200676331873,2.3280295476411776,-11.554631223985423,-0.34444446147838875,-3.3423456596350047,-3.2748257347683007,-2.663093645510331,-2.7805212053875907,-4.724057264866372,-1.9477967580257793,-2.6342707660880635,-2.760549573270883,-1.6128616291827769,-2.5709031370680755,-0.29161078308725524,-1.8697537114886624,-1.5804023389447226,-0.06442024484803589,-2.824894250672208,0.40879243206703914,0.3945245409079469,-1.407979335562536,-15.588014757861338,-0.22666998605804958,-0.07505536808171781,-2.0449536466053075,-3.289002253261555,-3.704754003745309,-0.7468750378066285,-1.99839540274872,-3.741665659404038,-2.921045052745305,-15.794047225325661,-0.04850956479976562,0.6314942069151146,1.8058249168248217,1.2302521110439462,1.6785690331498042,1.073127603916804,1.2692802108214003,0.25818028547652916,-2.270945377357456,-1.7304855782926578,0.44668421893733073,1.3455331459678612,-0.04080140537642067,0.3783867320802506,1.674616813994533,1.3744903419682688,0.9180221411418051,-2.6228423144175617,0.06622794227588723,0.2736314712561886,-2.1457636769272983,1.969836768657893,1.862287789090308,0.3139853016816761,0.4783151773523434,-2.5121962151088213,0.8105056329522762,-13.77884973489802,-0.30745399930429423,-0.7136467621494591,0.948135159757546,2.318282891611296,-0.11066111001754096,-1.375479364096123,2.3530241771784426,3.550214605357718,-0.19599020327148886,0.15503698183227732,1.1658636694214892,-0.16389329949564074,1.2290554668723408,-1.8362153960724161,-3.1389059686969962,-0.7887586186494677,-1.6165315792443729,-3.141773409375297,-2.6757074565390373,-1.3432000568964675,1.7502929501613216,0.21679422333206494,0.9938104614048427,1.380746957137006,1.204384596797254,2.141949649774185,2.832756080749417,-0.06387281253432897,-1.9216547035258746,-2.8050585123153917,-1.5684777390133875,-0.5939744281233774,-0.06519947069677554,0.4717206188493621,0.4881815448936879,0.13392838833504178,0.21788144370019255,0.9524514151570505,1.4139707814544173,1.1518178438909505,1.243071599130414,0.5119942323760135,-0.5298840836136184,-2.8588702794886673,-1.3608405064609939,1.5229787219777615,0.5180506846777091,-0.5402092291905455,-3.9761246552809544,-0.5639321949773167,0.3063676906815896,-0.8926447212216263,-0.24664648364298622,-0.11497515235568911,0.4707319144613594,1.2922898252913368,1.1192064042638508,-0.7085357011965843,0.5899825316371532,-0.15855825061822382,-0.9387390530125753,-2.6105987143491025,0.6872404388347864,-0.8574443614429488,0.28522142798930045,-0.274579525902238,-0.514750477692232,-0.2821732070194605,-0.11615653548029903,0.23005630441690927,0.22012314244323564,0.06931469307059618,-2.8691842198107373,-4.092538815354546,-4.501660616952318,-2.841083912670026,-1.8977940044131232,-1.198457986932086,1.009771136943055,-13.182262948918801,0.030807700453848147,-0.15549180073725402,-1.0675639965086432,-0.11070665863100815,-1.4200084158316575,-0.8529423538252505,-0.5750166109865539,0.7748617690824975,2.132918032789339,0.0950200940343158,-0.086058764539899,0.5185402539383289,-2.739342551269979,-1.0911698520576556],\"z\":[1.7128896103774143,-2.867727585221513,-0.8417092198995013,-1.2157440093192746,4.473376590663865,2.6316546803841194,2.8478990364127372,1.902319625843971,2.2361486511639295,4.89858075073976,3.0047726776595387,1.6237170006432229,5.927978116405696,2.50221782072332,3.4639010259691605,2.085573672727924,2.7752468248694764,5.449710410030343,1.5636332968097846,0.487081898005564,3.17203568972889,0.5903863480700233,-0.854103245865318,-0.2491271312734911,-0.24481022669659305,4.825308420267992,3.315548345281806,3.669638362817761,5.659569432740356,0.9617576869268061,5.736236899410036,2.364452574557211,3.1838998893375683,0.7333695931469629,4.3179094897454915,3.638067829401552,4.030907541336002,-1.5953299315501006,3.249179905381225,1.6456519524308024,0.06309326773702609,1.5160182178465271,4.329139646368867,3.577370176435639,3.7487512830638763,5.084786865850643,0.48591542208750055,-0.3508221703415648,0.27994358371326716,3.6474013823765246,3.0553436361909805,4.552950163637569,3.086643004112373,2.9705496891480796,4.055125787530604,5.092683505530763,0.907413209589485,3.689897067136285,2.1781905194123756,1.995100185993849,2.542035757712713,0.5500007212698262,2.0203607404031736,0.34626190418673436,3.190952210179405,-2.0874497505717793,3.729453341167726,5.066563604034172,1.9856263522657072,1.975349889663682,5.001098062361883,1.6739770467744932,2.435308693297897,6.704220387553035,4.221934800262289,4.484202813438323,-0.527399490873804,-2.0497835041643553,3.5401627804688953,-1.3662311665903546,2.0511297885927298,1.034639735694192,-2.0825885587932826,3.4514671848020066,-1.6014507978961812,-2.343279009842594,-1.5711804883082343,3.1843113589224976,-0.5064265976447133,4.146511706394168,-0.3063483496470678,4.533927287771589,0.7570425090150973,4.358561894787322,3.8606105590089252,4.489250846708284,1.7884412718088063,4.547536395111615,-0.3379989985896738,3.04801014890198,5.473797037554773,2.001038841397794,3.0284410171838183,1.7938129680957133,1.8214327601074765,1.6040922230378973,-2.5599489073925,2.8602819891566464,-1.3112660719660332,0.5207049336230897,1.027155995168069,2.9689110057010657,0.07202452418931,4.130431175533699,2.983026656133881,2.6308029434804254,-2.621623250541214,2.8396383074172733,1.7567626321974434,2.721038492855134,-1.6777397194681887,0.370681645412779,-0.6647535488716941,-2.101257560003376,2.233651365722903,2.0407077399956566,-0.5775619747817107,0.2713603838772964,-2.4419070234573304,-1.6062498610709197,2.9200248001412272,-2.3691799341274318,-2.9512060607998434,1.4147147434137912,1.9709144118558408,-1.2729407332892055,5.225559827637324,3.221075586624838,-0.9396398430950984,-0.7556952603944601,3.927517774109448,0.9998408272872205,3.274538575792825,1.5038962475519684,-4.139388929809923,2.9118813182268086,0.3930974946129079,2.540150717579463,-2.7239381893700583,2.4740802943037745,2.914600176233245,-0.6617461474438892,0.09016775337105247,2.518948357445859,3.583454756477724,-1.9206694347555588,0.12767385987808233,-2.6533659149378126,0.13019157807680848,-1.6820465379317404,0.21591577410308316,-1.9527848510127934,2.2658709011389764,0.7129163059720148,-0.19714935741321685,-1.0233155100572537,-1.0980783386162913,-0.2216047258974722,-1.0354543931434605,-0.7232595232068614,-0.5098193971831225,0.5706083936772834,0.3107478026274254,1.0921791769368963,2.733706904383529,1.7718917903318603,-0.011968808485662338,2.434439463821997,-2.2600744515047904,2.7672970403070747,-0.39407396741236606,-0.040350412210962056,-2.5303101793634255,-0.5474190692560935,-1.3761343779663413,-2.454023983837723,0.03341336936174458,-0.44025380871490627,-0.7250790189391627,5.0082802723003255,-0.8079501901511048,2.3773271570822048,0.5926544893603054,0.17087697747767752,1.6873728115475843,-1.8178244862977315,3.24557846374879,-0.2591426332693011,-1.0099587488071113,2.287371837021826,-2.107916450333787,-3.1636429483523094,2.919338187137983,-1.732091615785922,3.5511487068229184,-1.7130938988008038,3.113091305820967,1.2972807116559453,4.443658363012456,0.44051515275721725,-0.585311065130855,3.5632028282973085,-0.04299275969262489,-0.1743737779960111,4.321133165716297,4.071459694895642,-1.6458350497773582,2.765880204019214,2.8217834256566343,0.7651469357657353,-0.14367169517702238,3.7238955247904757,4.647295733620311,-1.0428320927393737,-3.976681028027244,2.9739727138944034,-2.2224114348779413,2.5171492149604253,0.8356487314340665,1.5889428847701692,1.044322273125518,3.8081839470225374,-0.12538765068274277,-2.329282627200167,-0.9042610604345068,2.9345296407739907,-3.604542543484577,1.727151791556672,-2.711571718627199],\"type\":\"scatter3d\"},{\"customdata\":[[\"I\",\"Credit Cards\"],[\"have\",\"Credit Cards\"],[\"been\",\"Credit Cards\"],[\"a\",\"Credit Cards\"],[\"long\",\"Credit Cards\"],[\"time\",\"Credit Cards\"],[\"card\",\"Credit Cards\"],[\"customer\",\"Credit Cards\"],[\"with\",\"Credit Cards\"],[\"American\",\"Credit Cards\"],[\"Express\",\"Credit Cards\"],[\".\",\"Credit Cards\"],[\"Never\",\"Credit Cards\"],[\"missed\",\"Credit Cards\"],[\"a\",\"Credit Cards\"],[\"payment\",\"Credit Cards\"],[\"or\",\"Credit Cards\"],[\"had\",\"Credit Cards\"],[\"any\",\"Credit Cards\"],[\"problems\",\"Credit Cards\"],[\".\",\"Credit Cards\"],[\"I\",\"Credit Cards\"],[\"received\",\"Credit Cards\"],[\"a\",\"Credit Cards\"],[\"new\",\"Credit Cards\"],[\"offer\",\"Credit Cards\"],[\"to\",\"Credit Cards\"],[\"spend\",\"Credit Cards\"],[\"over\",\"Credit Cards\"],[\"{$4000.00}\",\"Credit Cards\"],[\"and\",\"Credit Cards\"],[\"receive\",\"Credit Cards\"],[\"bonus\",\"Credit Cards\"],[\"points\",\"Credit Cards\"],[\",\",\"Credit Cards\"],[\"flight\",\"Credit Cards\"],[\"credits\",\"Credit Cards\"],[\",\",\"Credit Cards\"],[\"hotels\",\"Credit Cards\"],[\"credits\",\"Credit Cards\"],[\",\",\"Credit Cards\"],[\"etc.Upon\",\"Credit Cards\"],[\"using\",\"Credit Cards\"],[\"the\",\"Credit Cards\"],[\"card\",\"Credit Cards\"],[\"to\",\"Credit Cards\"],[\"buy\",\"Credit Cards\"],[\"something\",\"Credit Cards\"],[\"that\",\"Credit Cards\"],[\"cost\",\"Credit Cards\"],[\"over\",\"Credit Cards\"],[\"{$4000.00}\",\"Credit Cards\"],[\"my\",\"Credit Cards\"],[\"account\",\"Credit Cards\"],[\"was\",\"Credit Cards\"],[\"suspended\",\"Credit Cards\"],[\"and\",\"Credit Cards\"],[\"now\",\"Credit Cards\"],[\"American\",\"Credit Cards\"],[\"Express\",\"Credit Cards\"],[\"is\",\"Credit Cards\"],[\"asking\",\"Credit Cards\"],[\"for\",\"Credit Cards\"],[\"personal\",\"Credit Cards\"],[\"income\",\"Credit Cards\"],[\"information\",\"Credit Cards\"],[\".\",\"Credit Cards\"],[\"After\",\"Credit Cards\"],[\"going\",\"Credit Cards\"],[\"back\",\"Credit Cards\"],[\"and\",\"Credit Cards\"],[\"forth\",\"Credit Cards\"],[\"asking\",\"Credit Cards\"],[\"them\",\"Credit Cards\"],[\"to\",\"Credit Cards\"],[\"grant\",\"Credit Cards\"],[\"me\",\"Credit Cards\"],[\"my\",\"Credit Cards\"],[\"credit\",\"Credit Cards\"],[\"as\",\"Credit Cards\"],[\"was\",\"Credit Cards\"],[\"outlined\",\"Credit Cards\"],[\"in\",\"Credit Cards\"],[\"the\",\"Credit Cards\"],[\"agreement\",\"Credit Cards\"],[\".\",\"Credit Cards\"],[\"They\",\"Credit Cards\"],[\"have\",\"Credit Cards\"],[\"refused\",\"Credit Cards\"],[\"to\",\"Credit Cards\"],[\"do\",\"Credit Cards\"],[\"so\",\"Credit Cards\"],[\".\",\"Credit Cards\"],[\"My\",\"Credit Cards\"],[\"credit\",\"Credit Cards\"],[\"limit\",\"Credit Cards\"],[\"with\",\"Credit Cards\"],[\"Synchrony\",\"Credit Cards\"],[\"Bank\",\"Credit Cards\"],[\"was\",\"Credit Cards\"],[\"{$3000.00}\",\"Credit Cards\"],[\",\",\"Credit Cards\"],[\"I\",\"Credit Cards\"],[\"made\",\"Credit Cards\"],[\"a\",\"Credit Cards\"],[\"payment\",\"Credit Cards\"],[\"of\",\"Credit Cards\"],[\"{$1000.00}\",\"Credit Cards\"],[\"and\",\"Credit Cards\"],[\"the\",\"Credit Cards\"],[\"credit\",\"Credit Cards\"],[\"card\",\"Credit Cards\"],[\"company\",\"Credit Cards\"],[\"lowered\",\"Credit Cards\"],[\"my\",\"Credit Cards\"],[\"credit\",\"Credit Cards\"],[\"limit\",\"Credit Cards\"],[\"to\",\"Credit Cards\"],[\"{$500.00}\",\"Credit Cards\"],[\"stating\",\"Credit Cards\"],[\"it\",\"Credit Cards\"],[\"was\",\"Credit Cards\"],[\"due\",\"Credit Cards\"],[\"to\",\"Credit Cards\"],[\"my\",\"Credit Cards\"],[\"credit\",\"Credit Cards\"],[\"score\",\"Credit Cards\"],[\",\",\"Credit Cards\"],[\"serious\",\"Credit Cards\"],[\"delinquency\",\"Credit Cards\"],[\",\",\"Credit Cards\"],[\"proportion\",\"Credit Cards\"],[\"of\",\"Credit Cards\"],[\"balances\",\"Credit Cards\"],[\",\",\"Credit Cards\"],[\"revolving\",\"Credit Cards\"],[\"accounts\",\"Credit Cards\"],[\"to\",\"Credit Cards\"],[\"high\",\"Credit Cards\"],[\",\",\"Credit Cards\"],[\"number\",\"Credit Cards\"],[\"of\",\"Credit Cards\"],[\"delinquency\",\"Credit Cards\"],[\",\",\"Credit Cards\"],[\"and\",\"Credit Cards\"],[\"length\",\"Credit Cards\"],[\"of\",\"Credit Cards\"],[\"time\",\"Credit Cards\"],[\"accounts\",\"Credit Cards\"],[\"have\",\"Credit Cards\"],[\"been\",\"Credit Cards\"],[\"established\",\"Credit Cards\"],[\".\",\"Credit Cards\"],[\"Which\",\"Credit Cards\"],[\"is\",\"Credit Cards\"],[\"not\",\"Credit Cards\"],[\"true\",\"Credit Cards\"],[\",\",\"Credit Cards\"],[\"I\",\"Credit Cards\"],[\"have\",\"Credit Cards\"],[\"been\",\"Credit Cards\"],[\"paying\",\"Credit Cards\"],[\"my\",\"Credit Cards\"],[\"creditors\",\"Credit Cards\"],[\"on\",\"Credit Cards\"],[\"time\",\"Credit Cards\"],[\"for\",\"Credit Cards\"],[\"well\",\"Credit Cards\"],[\"over\",\"Credit Cards\"],[\"two\",\"Credit Cards\"],[\"years\",\"Credit Cards\"],[\",\",\"Credit Cards\"],[\"I\",\"Credit Cards\"],[\"have\",\"Credit Cards\"],[\"paid\",\"Credit Cards\"],[\"off\",\"Credit Cards\"],[\"have\",\"Credit Cards\"],[\"the\",\"Credit Cards\"],[\"balances\",\"Credit Cards\"],[\"on\",\"Credit Cards\"],[\"my\",\"Credit Cards\"],[\"accounts\",\"Credit Cards\"],[\".\",\"Credit Cards\"],[\"Yes\",\"Credit Cards\"],[\"my\",\"Credit Cards\"],[\"credit\",\"Credit Cards\"],[\"score\",\"Credit Cards\"],[\"is\",\"Credit Cards\"],[\"low\",\"Credit Cards\"],[\",\",\"Credit Cards\"],[\"but\",\"Credit Cards\"],[\"I\",\"Credit Cards\"],[\"am\",\"Credit Cards\"],[\"working\",\"Credit Cards\"],[\"on\",\"Credit Cards\"],[\"my\",\"Credit Cards\"],[\"credit\",\"Credit Cards\"],[\".\",\"Credit Cards\"]],\"hovertemplate\":\"label=%{customdata[1]}<br>x=%{x}<br>y=%{y}<br>z=%{z}<br>token=%{customdata[0]}<extra></extra>\",\"legendgroup\":\"Credit Cards\",\"marker\":{\"color\":\"#EF553B\",\"symbol\":\"circle\"},\"mode\":\"markers\",\"name\":\"Credit Cards\",\"scene\":\"scene\",\"showlegend\":true,\"x\":[12.28174291827084,1.6689722515834273,-2.1871228763209665,-2.46028179674726,-2.535515767377664,-3.325982793787642,-1.7513473239302417,-1.3253524515455462,-0.5255118102929373,8.576854435993436,7.424389851355991,1.505431146257767,12.263589845340636,-3.245623154112409,-2.6658088006036986,-2.7288154340636224,-0.8053997559052204,-3.305214312435192,-1.3206416885605161,-1.3228701959645202,0.6245070806613017,13.202259996511462,-1.4940329805312693,-2.0323903900251525,-0.904168381017396,-2.612622893168994,-2.6101993080428385,-3.137556492506331,-0.4519936773605652,-0.8980344015963341,-0.7530132635683668,-1.247622652209716,-2.061892623745945,-3.1658831236915446,-2.6701398237911955,-2.5925629751288466,-3.155402431499025,-2.259434393076004,-1.9319388238117086,-2.9891939831323207,-1.625949743707286,-0.353793898107317,-2.054879566292582,-0.830773664267423,-1.6910751650185907,-2.9858449753611707,-3.9621620675568865,-1.8938976827145448,-0.9807871600114209,-3.002017682396394,-0.32217956610732446,2.5485231222859537,5.209198286126569,-0.8321552728341083,-2.219606424754311,-1.1572358862656125,1.5115413101219122,0.7337487111793317,10.23483152213454,11.33508662966027,-0.5179897101858143,-0.9182299902407652,-2.241526567911127,-1.0600265065841838,-3.26586405500187,-3.2741970252224895,0.6977669337322783,12.628660016662142,-2.5563449144454036,-2.6547424693945727,-1.315742902524031,0.39394455965684705,-1.4783312804788922,-0.7036634396668521,-3.0630839715446783,-2.791732754295792,-0.5273470971160844,2.123481032986027,-2.5135116914912654,-1.7337310997074147,-2.681880289859765,-0.5068105169252591,-2.3025160039326344,-1.2333283976701401,-1.7181881688509215,0.05915586160848953,13.204101442107337,1.5129712810843223,-1.077287451527947,-3.293005536071026,-3.5708263183818945,-2.432236178812371,0.06471074086653407,7.945691431807398,-0.9878685112423892,-2.1531356158675776,0.18295758196346845,9.593879705088334,7.267165111372978,-2.1052379997825135,-0.859575997019104,-0.7768310631102696,11.873360007792414,-2.0187441601120955,-2.317302199607045,-2.275882880003723,-1.5261457109251126,0.45835214741640823,0.2735838890684827,-0.5919285029509158,-1.034186663639514,-2.111225250950944,-2.207525407072838,-2.629783255626115,3.561165493420763,-0.9933936474572623,-2.1566752604824044,-3.6754073490074166,2.565535920653643,0.7361222821699343,-0.1606425948102918,-3.4359489569425046,-2.537690744135621,-3.1039089854760475,3.6042676604033956,-1.1976622619873445,-3.383366420320522,-2.259615946944005,-0.6498948378511438,-2.3207754932798346,-2.0787658518318954,-1.2725956441522621,-2.1041845476868053,-0.9481710641942529,-1.8491214450799083,-0.0333675627092762,-0.41984415477302794,-2.4360343960423227,0.08828143175748439,-1.8454177550060953,-3.0968845150266207,-2.596746728653653,-2.212415451560716,-1.4608390776101825,-1.518886183472329,-2.8060586465486685,-2.9508708461522417,-2.6159147434883896,0.38289496369375275,-1.4785391662482197,-2.5155461267095247,-1.7565910434911427,1.053825251968044,12.079681125572316,-0.6328523651847221,-1.1516834868952786,-1.0145270668746638,-0.8922802277687817,13.43052218120155,1.7008442796734222,-1.9219308362356702,-1.8594225039207053,3.7952952199883074,-0.07967714627608384,-1.6908440004166254,-2.075967527621067,-2.6620475237154224,-1.5090888130658626,-0.9399320691694832,-4.698875559642896,-1.8639416025802915,-0.5557115075204778,13.864572565541746,-0.37047343208303307,-2.0093893961786957,-1.788108175875963,-0.6407306289116822,-1.9075170770666872,-1.5301391718635309,-3.25907308954573,3.7461194683182244,-0.30197476244012045,-0.788365594162555,12.864733733609276,4.469822989943994,-0.976409962783725,-3.398888704557858,-1.905489869934108,-1.903204450464562,-1.4021708002900397,-0.21482433860913433,13.178050667329547,-0.023127858805416724,-2.2242068563771227,-2.9310492530152352,3.459064127821042,-1.4007399766082427,1.1209800965221168],\"y\":[0.282491824537752,-0.5018004514280857,-0.48562032501704433,0.42830316898397647,1.0494630832997154,2.514712322897114,2.5612311956083995,2.687771054839463,2.146277753754687,2.318723933607624,3.093927019316772,1.2129265423880788,1.3496576277879937,0.8220392917847493,1.3205535928933356,1.7826548035579663,1.8311607158012977,-0.5281926475417209,1.7764817850262544,1.3607305825096845,0.7548763943141232,0.7582105460984595,0.8758723799857154,0.3502552205463895,1.821945126257284,1.212624469036437,-0.27825602717164866,1.2114632153846756,0.8360779633418893,2.2544221529901285,1.5200582190809098,1.7186183161930564,3.3424260485386488,2.1979748901153884,1.6359098622491082,3.5342791106454605,1.840437044858859,1.5493396283571768,3.8145944128082516,1.862508453831126,0.9553529707613003,1.356629253022301,-0.022683095912291496,1.4453726190609668,1.5089258690807954,0.5311729421704002,-0.43480625445030574,-0.031034215075114162,0.46381917528760747,0.12524092513308469,-0.16248416863386733,0.8827861824367356,-1.6766771556713194,2.026297120137359,0.24626632208631483,1.9788170609428763,1.3873345439092495,0.5715208649962542,1.2346207596140792,1.7387191109915252,-0.06346777201170126,-1.1193977161983053,-0.007398770476146618,2.4075467049230905,3.53948405744844,2.93975290833782,0.6445842464053041,0.8611903008946398,-0.07946234742173257,-0.23767205164518168,1.286354117415589,1.3678481966843776,-1.1996482772906343,-0.44472318392803717,-0.15576650755507815,2.4387048597208083,-1.3800585984245688,-0.6355031111623094,2.60015454586229,0.9155886785978269,0.4509231942431946,1.4058737941153587,0.2975384455509703,1.2112265508735616,1.6637743896521702,-12.810699230569263,0.5939699538060124,-0.09074148407535422,-1.4253179168865047,-0.9276746903405254,-2.1854241765777496,-1.0137561833826576,-13.026547178527315,1.9247972401040274,2.5340605492993378,3.352549677382987,3.146530688312675,2.4924599033465507,3.003814369955985,1.2266410324169834,3.383046570108973,1.6962550041727524,1.7233990395825918,1.3263091003784573,1.8266781707691477,2.2100917709329706,3.010182817915221,3.923297526581892,1.2926066251577983,1.4763546049719196,2.2525376311474683,2.219987321139626,2.721247976247918,2.199678796291909,-1.2779515895914637,2.913188892416269,2.3805300790051587,0.6037023454417894,2.424106123757535,1.4292348000010793,0.38027829295144167,-0.17598098430095416,1.3721854936355975,1.0373121053969416,-0.6211066700133354,2.4036599277427446,2.3096115998830955,1.7454869461116482,3.4081652748039253,3.2445651556473423,1.8677130994915048,4.239980687576326,3.1025715034948522,3.940359738754007,2.0940312402459464,3.516366263195266,2.6161830955954604,2.634541379017687,3.398712407767474,1.7477174504429396,1.8283672913649074,1.6968036422655912,3.2313079431742353,1.570919636375695,1.7377052210818187,2.1079955750343764,1.546100949583811,2.041443249135288,2.422364551228163,1.3013196184309819,0.35597247926382747,3.6884333009396815,-11.293587811191706,1.5167322234164733,-0.49569632048784246,-0.8851597798400542,0.4667689365185894,1.1372131080510286,0.6508753872286327,-0.07305252611754226,-0.9457757132407927,1.2379880933539558,-1.2110474549716557,2.7309719151186496,-0.28197309313093816,2.743933850993469,0.7522125412372161,0.5148638981030702,-0.38530350382922735,-1.4606049966843324,-0.5356843822676242,0.9188191523422949,0.4988493824947299,0.36127444449270135,0.22888783800141804,1.4147382080078053,2.2763406765779775,1.915949344940948,2.737869611146942,0.8439164062386887,-1.2916781077188872,1.1144929683528522,1.276110264613562,1.0561019690087106,-1.4560532329850937,1.7362414944848485,1.0620003887432907,-0.5617983708494874,0.21400480303260988,1.0692547735644584,-1.2299201433311828,0.8209362155127887,0.9134424501263584,1.5231927984913871,0.6532211026519492,-1.7175507340119576,2.6703113725440284,-11.592032100509142],\"z\":[1.6211016451351237,1.6909994372733472,3.691237633537589,3.4649025233624426,-0.5632560104822055,-0.9058667145648502,-2.0834655580790944,-0.37750588561781434,-1.7783267232601558,-2.459605368917877,-3.3872771983833716,-1.1245119719212102,1.7959190864543777,-0.9118680506106385,2.4698754545479265,-0.6606784511178243,0.54720663149767,1.728709802604302,-1.0117737560528295,-1.8686140862810365,-1.12237790310164,2.2453678963604133,0.7196482582855791,3.8223031908655223,-1.2223646516565478,-1.2656655416217835,3.5759526517517486,-1.8016939504021856,-1.832070636826002,-3.445678946181882,3.5746482010160534,0.9004406388757512,-0.8701083398816523,-1.0636373329645212,2.010364873185792,-1.7858578633556477,0.4165401028434983,1.797980986865543,-2.514772897468296,-0.27146196129814887,1.4703807338995842,-0.5091676567893003,-0.7283262471020965,2.549902292250126,0.18477214760712388,4.310093822259178,0.3026970416060883,0.448397860686154,2.662849356780364,-1.786214664707151,-2.008467731625661,-3.5677255651499866,0.37561005451622365,-2.6947889613707083,2.2816230457407594,-2.519081070854817,0.7545360471645968,-2.991616541670519,-0.6210469982807866,-1.2759618397550674,2.0037186480172178,-1.65034105351385,2.551634755434697,-1.2958317996805515,-1.3482141611167608,-0.42341139112367454,-0.4770559964100061,2.725433591489743,-0.7253618122133788,-0.6313285096512905,1.9355845429294007,-1.0702885512921536,0.7984126010029037,0.8843405681731096,4.559035399340593,-0.3501234721846931,-2.4073825693935733,0.6805581804485072,-0.9678484415031643,2.1440410961214273,2.3559801271385408,0.7411445151053687,3.44353851083896,2.11963952283669,0.3535821523788914,-4.868220876448074,1.8599113581023532,1.9020808346071627,0.4151193664022945,5.113522606327673,2.9964001996928555,3.0471665505995427,-4.953008598704066,1.1008664754380373,0.7883667601572277,-0.42370729677759084,-2.7370042853099195,-1.68984405744573,-2.3451480691693036,1.474442867189529,-2.811505222924821,0.1558823691300221,-0.04070680807427399,2.0775655454017823,2.528849979372662,-0.9116539087908033,1.3080987156783943,-3.4110384938007496,2.5565468182949114,3.0360518284935534,0.5686586720761537,-1.0328668229064026,1.0111861385983407,-0.8751155968670251,2.0763254668101605,0.7859239145315244,1.4332253027824837,3.24029047282534,-3.1472168448785736,-2.5782178523468486,1.6139304228523779,3.2479160768109225,1.0671616127133212,2.742429160114737,0.8032536915419479,0.2735427911651246,-0.31978221112286126,2.1844598211057256,-1.9954662932276774,-0.7704131240134742,2.701275375351317,-2.4839978035202774,1.2165210353192777,-1.3112851652393573,-0.09499380004798633,-2.0775460794136835,-1.5155475531645803,-0.9195280215906764,-1.9779455626517886,2.51975230149848,0.10197618762733614,3.810569515208989,-1.3192811843973367,1.1479338638926178,3.3615157186068156,0.7696754539374139,3.3451230076369076,1.8544149610121203,-0.14485507547180473,2.7794491305477065,4.323169480071546,-1.537139756475046,-4.143450022247119,1.0031811358396183,2.800919177155967,2.713737705461042,-1.9001650059488087,0.541991097978481,0.7907380176223437,1.7692215136702458,4.5542735312362135,1.0863409494750786,1.7592521187653596,-2.8764654928468127,4.57653913887824,0.08746077955870599,2.532572509864234,-0.4658811723227694,1.6646786710647083,2.8366056075057235,3.751338865818883,0.487755944727484,1.7393215390675698,0.893662530541186,2.0450922730746353,-0.4649308029618093,-1.9350187888377919,1.4616347321690524,-0.3290849391368223,2.22390954449073,1.8464034535748455,0.40150407185586734,-0.9803291139591829,2.7168880727839912,2.7009361134285927,1.127483615818662,1.7959020698660617,4.370872372854926,1.6225221494242632,1.0983381088176938,3.072636099351148,1.8623349186805755,-1.6265573782138831,-2.4031045743324504,1.917580419357704,1.7815430741080174,-1.9407540762228688,-4.2151540705527],\"type\":\"scatter3d\"},{\"customdata\":[[\"I\",\"Credit Reporting\"],[\"am\",\"Credit Reporting\"],[\"filing\",\"Credit Reporting\"],[\"this\",\"Credit Reporting\"],[\"complaint\",\"Credit Reporting\"],[\"because\",\"Credit Reporting\"],[\"Equifax\",\"Credit Reporting\"],[\"has\",\"Credit Reporting\"],[\"ignored\",\"Credit Reporting\"],[\"my\",\"Credit Reporting\"],[\"request\",\"Credit Reporting\"],[\"to\",\"Credit Reporting\"],[\"provide\",\"Credit Reporting\"],[\"me\",\"Credit Reporting\"],[\"with\",\"Credit Reporting\"],[\"the\",\"Credit Reporting\"],[\"documents\",\"Credit Reporting\"],[\"that\",\"Credit Reporting\"],[\"their\",\"Credit Reporting\"],[\"company\",\"Credit Reporting\"],[\"has\",\"Credit Reporting\"],[\"on\",\"Credit Reporting\"],[\"file\",\"Credit Reporting\"],[\"that\",\"Credit Reporting\"],[\"was\",\"Credit Reporting\"],[\"used\",\"Credit Reporting\"],[\"to\",\"Credit Reporting\"],[\"verify\",\"Credit Reporting\"],[\"the\",\"Credit Reporting\"],[\"accounts\",\"Credit Reporting\"],[\"I\",\"Credit Reporting\"],[\"disputed\",\"Credit Reporting\"],[\".\",\"Credit Reporting\"],[\"Being\",\"Credit Reporting\"],[\"that\",\"Credit Reporting\"],[\"they\",\"Credit Reporting\"],[\"have\",\"Credit Reporting\"],[\"gone\",\"Credit Reporting\"],[\"past\",\"Credit Reporting\"],[\"the\",\"Credit Reporting\"],[\"30\",\"Credit Reporting\"],[\"day\",\"Credit Reporting\"],[\"mark\",\"Credit Reporting\"],[\"and\",\"Credit Reporting\"],[\"can\",\"Credit Reporting\"],[\"not\",\"Credit Reporting\"],[\"verify\",\"Credit Reporting\"],[\"these\",\"Credit Reporting\"],[\"accounts\",\"Credit Reporting\"],[\",\",\"Credit Reporting\"],[\"under\",\"Credit Reporting\"],[\"Section\",\"Credit Reporting\"],[\"611\",\"Credit Reporting\"],[\"(\",\"Credit Reporting\"],[\"5\",\"Credit Reporting\"],[\")\",\"Credit Reporting\"],[\"(\",\"Credit Reporting\"],[\"A\",\"Credit Reporting\"],[\")\",\"Credit Reporting\"],[\"of\",\"Credit Reporting\"],[\"the\",\"Credit Reporting\"],[\"FCRA-they\",\"Credit Reporting\"],[\"are\",\"Credit Reporting\"],[\"required\",\"Credit Reporting\"],[\"to\",\"Credit Reporting\"],[\"\\\"\",\"Credit Reporting\"],[\"promptly\",\"Credit Reporting\"],[\"delete\",\"Credit Reporting\"],[\"all\",\"Credit Reporting\"],[\"information\",\"Credit Reporting\"],[\"which\",\"Credit Reporting\"],[\"can\",\"Credit Reporting\"],[\"not\",\"Credit Reporting\"],[\"be\",\"Credit Reporting\"],[\"verified\",\"Credit Reporting\"],[\"''\",\"Credit Reporting\"],[\"that\",\"Credit Reporting\"],[\"I\",\"Credit Reporting\"],[\"have\",\"Credit Reporting\"],[\"disputed\",\"Credit Reporting\"],[\".\",\"Credit Reporting\"],[\"Please\",\"Credit Reporting\"],[\"resolve\",\"Credit Reporting\"],[\"this\",\"Credit Reporting\"],[\"manner\",\"Credit Reporting\"],[\"as\",\"Credit Reporting\"],[\"soon\",\"Credit Reporting\"],[\"as\",\"Credit Reporting\"],[\"possible\",\"Credit Reporting\"],[\".\",\"Credit Reporting\"],[\"Thank\",\"Credit Reporting\"],[\"You\",\"Credit Reporting\"],[\"The\",\"Credit Reporting\"],[\"Credit\",\"Credit Reporting\"],[\"Bureaus\",\"Credit Reporting\"],[\"were\",\"Credit Reporting\"],[\"reporting\",\"Credit Reporting\"],[\"a\",\"Credit Reporting\"],[\"bankruptcy\",\"Credit Reporting\"],[\",\",\"Credit Reporting\"],[\"but\",\"Credit Reporting\"],[\"the\",\"Credit Reporting\"],[\"courts\",\"Credit Reporting\"],[\"do\",\"Credit Reporting\"],[\"not\",\"Credit Reporting\"],[\"verify\",\"Credit Reporting\"],[\"a\",\"Credit Reporting\"],[\"bankruptcy\",\"Credit Reporting\"],[\",\",\"Credit Reporting\"],[\"the\",\"Credit Reporting\"],[\"courts\",\"Credit Reporting\"],[\"told\",\"Credit Reporting\"],[\"me\",\"Credit Reporting\"],[\"they\",\"Credit Reporting\"],[\"do\",\"Credit Reporting\"],[\"not\",\"Credit Reporting\"],[\"verify\",\"Credit Reporting\"],[\"that\",\"Credit Reporting\"],[\"information\",\"Credit Reporting\"],[\".\",\"Credit Reporting\"],[\"Therefore\",\"Credit Reporting\"],[\",\",\"Credit Reporting\"],[\"that\",\"Credit Reporting\"],[\"information\",\"Credit Reporting\"],[\"was\",\"Credit Reporting\"],[\"pulled\",\"Credit Reporting\"],[\"out\",\"Credit Reporting\"],[\"from\",\"Credit Reporting\"],[\"a\",\"Credit Reporting\"],[\"third-party\",\"Credit Reporting\"],[\"reporting\",\"Credit Reporting\"],[\"agency\",\"Credit Reporting\"],[\",\",\"Credit Reporting\"],[\"therefore\",\"Credit Reporting\"],[\"I\",\"Credit Reporting\"],[\"demanded\",\"Credit Reporting\"],[\"it\",\"Credit Reporting\"],[\"must\",\"Credit Reporting\"],[\"be\",\"Credit Reporting\"],[\"all\",\"Credit Reporting\"],[\"deleted\",\"Credit Reporting\"],[\"because\",\"Credit Reporting\"],[\"the\",\"Credit Reporting\"],[\"court\",\"Credit Reporting\"],[\"say\",\"Credit Reporting\"],[\"they\",\"Credit Reporting\"],[\"do\",\"Credit Reporting\"],[\"not\",\"Credit Reporting\"],[\"verify\",\"Credit Reporting\"],[\".\",\"Credit Reporting\"],[\"And\",\"Credit Reporting\"],[\"I\",\"Credit Reporting\"],[\"would\",\"Credit Reporting\"],[\"appreciate\",\"Credit Reporting\"],[\"once\",\"Credit Reporting\"],[\"its\",\"Credit Reporting\"],[\"deleted\",\"Credit Reporting\"],[\"I\",\"Credit Reporting\"],[\"want\",\"Credit Reporting\"],[\"proof\",\"Credit Reporting\"],[\"that\",\"Credit Reporting\"],[\"'\",\"Credit Reporting\"],[\"s\",\"Credit Reporting\"],[\"it\",\"Credit Reporting\"],[\"'\",\"Credit Reporting\"],[\"s\",\"Credit Reporting\"],[\"been\",\"Credit Reporting\"],[\"deleted\",\"Credit Reporting\"],[\".\",\"Credit Reporting\"],[\"Thank\",\"Credit Reporting\"],[\"you\",\"Credit Reporting\"],[\"and\",\"Credit Reporting\"],[\"god\",\"Credit Reporting\"],[\"bless\",\"Credit Reporting\"],[\".\",\"Credit Reporting\"]],\"hovertemplate\":\"label=%{customdata[1]}<br>x=%{x}<br>y=%{y}<br>z=%{z}<br>token=%{customdata[0]}<extra></extra>\",\"legendgroup\":\"Credit Reporting\",\"marker\":{\"color\":\"#00cc96\",\"symbol\":\"circle\"},\"mode\":\"markers\",\"name\":\"Credit Reporting\",\"scene\":\"scene\",\"showlegend\":true,\"x\":[10.073222257828219,1.0473830569728075,-3.0466210858375997,-1.6693154973448119,-1.3652000414910594,0.4072730137663204,7.892547663128125,-0.6746520587232577,-1.9376759562680064,2.4701965899635105,-2.0782599967205475,-2.2025341971962322,-1.5613209124679808,-0.2794561730565153,-1.4887458928146977,-2.0638881776583204,-1.093744215992142,-0.4402571905094878,1.6126446735294095,-1.5439038679892985,-2.2594290967889505,-2.0887680893161376,-3.3402471919091115,-0.4856286163959368,-3.143191069679787,-2.3558618562988474,-3.32028181345958,-3.034773368980518,-1.759264385049536,-0.551291025192937,7.763380198876529,-1.8069140408648752,0.9006615195243364,11.543726682418754,0.5558796020635473,2.1159451275604044,-1.7689422924123617,-3.1775768707783687,-0.9713635719944509,-1.5500864568220916,-0.7550943435302104,-2.6102887256535463,-1.4841760375082749,-0.1288063603691527,-3.3963090711627024,-2.555484713835831,-2.5839764409757593,-1.9551942006227296,-0.49758948232748973,0.1823856576585464,0.4548661555679668,7.745831099623228,-0.5808645494083541,-0.6409267500338639,-1.2757625463333653,-0.6425005563955993,-0.5075090121539103,8.866729331056854,-0.6912490248939929,-0.10311583474360124,0.6761463205666818,1.230532096570402,0.36197441405338243,-1.5333365631619387,-1.8152401438692978,0.8138053502055351,-0.7951877569169357,-1.1230564059436048,-0.8655691308889403,-2.0982571518561097,-0.48588238850089815,-2.956870872083457,-1.8710621557138984,-2.159186889780846,-3.2248056956032993,0.5687935263546113,0.5487208575232124,7.750629540164042,-0.6881153974194204,-0.8348528162881623,0.25556295036224674,11.122747930337297,-1.4966085119752377,-2.2542241227357893,-1.2825514334121386,-2.3911085305536255,-2.401257753330129,-1.7549250408455572,-4.768597676603102,0.8690576329429465,11.24707729319472,8.740708530946558,8.512096279102344,8.54984621600309,7.729376256104124,-1.956801994652333,-2.6683700794102596,-1.736490994281662,-1.5504001402493646,-1.6165696760279498,-1.4763179456262296,-1.480185324602152,-0.8243866800148499,-2.030409772905897,-2.5897725556125346,-2.368912685600828,-1.6533025130931736,-1.910740546548829,-1.0134161014810326,-1.296860224359735,-0.824219008849392,-1.4013891259887272,-0.013792757097113719,-1.2852678776269721,-2.8041572079669486,-2.8517401345027635,-2.5779895192443822,-1.043468316710207,-2.6582851200843187,1.3834984136985908,11.569374880465949,0.4679511170591224,0.20492221290357987,-1.9468008341053358,-2.3955502573281224,-2.6906403969416313,-0.8103721127921918,-1.2194190364960151,-1.337919624209141,-0.2834012259285928,-2.1707894240104295,-1.6018755434747631,-0.46195689214083324,-1.0290092031938902,10.045904040136211,0.2458735927994304,-0.9748751776247115,-1.5450158661800513,-1.7796497180906883,-2.2187266724390544,-0.845971381507917,-0.49016790109362773,-1.7395132240881392,-1.9022575884598554,-1.1900493834321044,-1.534746605319707,-2.6673185439912905,-2.6482680562098557,-1.7017389819258502,1.4009595907768932,10.607604869053175,10.367364328667152,0.6012591385167217,-0.6861880246983023,-2.2269170795376274,-0.48648097767592846,-0.733785446093827,5.198237424231589,-1.777610811454617,-2.1618914586000013,-0.43989171725389864,1.4009777026224675,-0.8825826450311042,-0.8279527060186848,1.58718176029046,-1.4507077277880749,-3.1423075225389088,-1.1893126962771041,-0.09932271916911475,10.460886987490019,0.9965928094707706,-1.3438241166300873,-0.41345138424189315,-1.8004538208177847,-0.2421214055758274],\"y\":[1.1812317647646282,1.7801116037039788,1.476011709558511,0.07326215842942162,2.2819042525156954,1.227142925863254,1.249553668454226,0.7151477496903841,0.8347839386297177,-0.1587956666247876,2.0338025216839464,0.2201714850870932,1.1340969266754304,-1.2428976399685936,1.1278534390736035,2.338965389498446,2.606409615186579,0.8821708766009314,1.5607393476057485,2.8165137110203635,-0.9458213655901867,-0.9786669758258756,1.4297030507001116,0.6182964276135368,0.92647089606074,-0.43096380209804613,0.13077701318590343,1.3698535371254117,1.9911384415911662,1.4541782290342355,1.5770520358421574,2.5278767466033254,1.2722839749133157,0.43758701938589706,0.713641034431102,0.021770820010973364,0.032643855873205826,0.07072668883017948,1.1503409325885783,2.1717418642639745,1.665266714389477,1.6371426254336632,3.492220702648363,1.3866174543525274,-0.7503265945120683,-0.2800164856476879,1.3023053773592894,1.0575860749254242,1.231561347157596,1.194700850549471,2.4070669057159266,2.916125852984935,3.898722938165002,1.5924627132682856,1.4370011730964636,1.1072993322080988,1.9382888019639297,2.087813208654729,1.7974931179233427,1.5898018347422018,2.254142547046259,3.548741597355308,0.3800527846435487,0.9238385635522737,0.44439224932544985,2.0659508642984075,2.392836078824649,3.030717919422682,1.9651751403403002,2.1576855994763657,2.241497602868424,-1.3848718627508585,-0.5510512631745167,-0.25950345204440495,0.6171955191332043,1.5507447497700957,1.0261513380278067,1.1112312100438488,-0.022597279858928912,1.312446528052694,0.9535134230043454,0.4918654813014544,2.505966523876526,0.6959453683771597,2.9560520763248084,-0.01371077079807454,-1.8669157577480393,-1.003709282078744,-0.7787784809393388,-12.701375283011316,1.2486858431282803,1.7529855494912012,1.5377429339036375,1.955757720921944,2.1713405835811077,0.6921216694660662,2.6977890967168907,1.8040617311853588,1.3486841050261649,1.3835414978630163,-1.440466610302492,0.8887841060012902,-0.010343423983934551,-1.3759632335674643,-0.6339589870392481,1.4036156659127268,1.6412641906561165,1.3482356958388468,-0.21357442244009747,0.4761611898183721,-0.230188068639641,-0.9869698910066116,-2.1722818827418964,-1.3387162906050203,-1.8549255002914171,-1.0708368516560738,0.5580923660975481,1.1621212258951987,1.6774625665705838,-13.641268133893265,0.5683942479396354,1.4605537401930964,1.9872522669173949,2.271853916848842,0.19603298010657347,-0.7971638413631081,-1.5756180978506977,0.01338665219897183,0.9156620384375631,2.150035865994938,3.1899288132358894,2.150040965832777,0.5252729092280423,0.5167908419657373,1.6500646722504582,2.0380620722017175,0.6974607779845144,-0.3324914804363054,0.057330001141026356,1.2085093069865267,1.8124889574001732,-0.3761476770560598,0.5676032974464409,0.3880726070756477,-0.3314238493966897,-1.5711557392514988,-2.2771775381835497,-1.2583460450172907,0.49587614183096596,-13.68928050823578,1.3369617619567293,1.774433455860068,1.0852251667198343,1.15868518679727,1.1159382169634813,1.4844402185670884,2.0737319133800427,2.7889890539507864,1.4223078142783552,1.2722700525172475,0.6901227967810094,1.384322253261072,-0.4056443330660552,0.9149943363374168,-0.0007197897379940784,-0.41638047859690913,0.20188396079969678,1.6359532712393683,0.6289736579238033,0.9530937070768657,0.7795602546900066,0.3677214923384398,2.238443060458512,1.1076618084120202,0.0385368517894438],\"z\":[1.6705486121926219,-1.3690781730095174,0.042963925884808254,3.2037141909026574,-1.9337104410343253,1.9101483315377437,-0.6511221390676579,2.322231461025599,-0.962665795223326,-0.7688608859439633,-0.0669295001044176,4.70962764281687,4.123398334708087,-1.5892409429763388,2.0030862418646316,3.4289747735336635,0.4482185893678694,3.414979062126419,-0.2800765171835637,-1.4347664621210887,4.463458699680767,3.6662986374147994,1.8585982288233467,3.0415466598462495,2.704624558507369,2.042175877248262,4.359722126396916,1.0017870875132808,2.1661749316222827,-0.9070891824656535,-1.5013907327437106,-1.7890331245015925,-0.8923878036842873,1.7530767268502496,2.7435850539862843,2.0722254572620873,3.3990234634202956,-1.5053423891957476,1.088367622652129,2.672518425770299,1.0441353983118413,1.69985086453423,-2.382460235275336,4.378903585673,2.611622105592108,3.4363523654109533,1.2940240892307877,2.748835996404512,0.876727913979047,0.5990118399370828,-1.7729029066745337,-1.8967573670816027,-2.445242502026209,1.0698853125169043,0.51239599179691,2.6843989311480403,2.2546079135589716,-0.5074702513292174,2.6042817559962548,0.015282772354919281,1.0420699625621008,-3.0001623169484026,2.0413187512940763,2.6342130883809842,4.1444988281096435,-0.5448536447174231,0.18485007890866814,-1.9355042425746323,2.7065927071167186,1.7233807426520245,3.077105576783822,3.5729905925219043,4.134236529309149,4.886078083534054,0.30971012644918333,-1.7538282644512702,1.2583955826343343,-0.33331067103413425,2.1362983351835223,-0.022199961176885254,0.149842932787197,3.232726659136466,-1.0346040008655273,2.0583947272689946,-2.3453245977534385,4.803783887517302,1.0286568208854745,4.890832581980936,2.7575595346888124,-1.7961901708573886,1.470055658832774,-0.9886947271465023,1.0319911402964888,-0.44090152998203846,-1.6327548015103386,0.7335074203592815,-1.3217808579026245,3.020931166101698,-0.07322035565613969,1.7935144100239908,4.233977942127321,3.470865816691623,0.8414137533125103,3.854809532159639,3.8772710867686375,-0.1162820623988232,3.248337594169686,-0.8660049832836614,1.339762151916653,3.3364634910039066,0.8985540412498273,-2.721873198203138,0.4328868360800383,4.108339655815351,4.7173086547615,4.12773159600409,1.3377931343998974,3.6617382633928126,1.9541524047921868,-1.5806861519622393,2.1341981074912635,0.6570404604631676,1.344057280958353,0.7642574092008426,3.4886238329121935,-1.6343614365869146,1.8183840292514788,3.9648373484565775,4.336643634029746,0.5518174236774757,-1.2002626565984,-0.9468008237241755,1.9541832581371839,1.210102723663987,-0.07037277390923512,-2.373217771377044,1.5166654340966363,2.8499533237606203,3.854638247585577,-0.6552930150408514,0.11508131154805643,2.8857373786013745,3.803418032980062,1.4785088726122453,-2.5866255558899143,2.8969326101325175,4.5721878494401995,3.6416374213737814,0.6676625290470506,-1.553556723740674,2.5333701281369305,-0.014981006205949648,-1.514031721712876,-2.5520124637851227,-1.328275763726735,0.2645864667254416,-0.8569169084518288,-1.850475778149832,-2.6431273761704803,-1.826501301918897,1.5464296078129491,-1.6769235891299876,-0.2628749696599379,-0.6876508779588683,2.1983859804899666,1.477151345183047,2.223901578792119,0.9219728575289692,0.12133666635284472,2.3050826967402243,-2.852885822336956,0.9864569164361164,-2.7327527528046613,-3.4258324092458845,-0.5246277195203953],\"type\":\"scatter3d\"},{\"customdata\":[[\"I\",\"Debt Collection\"],[\"noticed\",\"Debt Collection\"],[\"an\",\"Debt Collection\"],[\"article\",\"Debt Collection\"],[\"today\",\"Debt Collection\"],[\"about\",\"Debt Collection\"],[\"Bank\",\"Debt Collection\"],[\"of\",\"Debt Collection\"],[\"Omaha\",\"Debt Collection\"],[\",\",\"Debt Collection\"],[\"and\",\"Debt Collection\"],[\"their\",\"Debt Collection\"],[\"illegal\",\"Debt Collection\"],[\"credit\",\"Debt Collection\"],[\"card\",\"Debt Collection\"],[\"practices\",\"Debt Collection\"],[\".\",\"Debt Collection\"],[\"I\",\"Debt Collection\"],[\"am\",\"Debt Collection\"],[\"so\",\"Debt Collection\"],[\"glad\",\"Debt Collection\"],[\"you\",\"Debt Collection\"],[\"nailed\",\"Debt Collection\"],[\"these\",\"Debt Collection\"],[\"guys\",\"Debt Collection\"],[\".\",\"Debt Collection\"],[\"They\",\"Debt Collection\"],[\"basically\",\"Debt Collection\"],[\"ruined\",\"Debt Collection\"],[\"my\",\"Debt Collection\"],[\"life\",\"Debt Collection\"],[\"when\",\"Debt Collection\"],[\"they\",\"Debt Collection\"],[\"added\",\"Debt Collection\"],[\"me\",\"Debt Collection\"],[\"to\",\"Debt Collection\"],[\"my\",\"Debt Collection\"],[\"wife\",\"Debt Collection\"],[\"'\",\"Debt Collection\"],[\"s\",\"Debt Collection\"],[\"credit\",\"Debt Collection\"],[\"card\",\"Debt Collection\"],[\"account\",\"Debt Collection\"],[\".\",\"Debt Collection\"],[\"When\",\"Debt Collection\"],[\"the\",\"Debt Collection\"],[\"strain\",\"Debt Collection\"],[\"of\",\"Debt Collection\"],[\"the\",\"Debt Collection\"],[\"fees\",\"Debt Collection\"],[\"and\",\"Debt Collection\"],[\"charges\",\"Debt Collection\"],[\"broke\",\"Debt Collection\"],[\"her\",\"Debt Collection\"],[\",\",\"Debt Collection\"],[\"it\",\"Debt Collection\"],[\"took\",\"Debt Collection\"],[\"me\",\"Debt Collection\"],[\"down\",\"Debt Collection\"],[\"as\",\"Debt Collection\"],[\"well\",\"Debt Collection\"],[\",\",\"Debt Collection\"],[\"causing\",\"Debt Collection\"],[\"us\",\"Debt Collection\"],[\"both\",\"Debt Collection\"],[\"to\",\"Debt Collection\"],[\"lose\",\"Debt Collection\"],[\"our\",\"Debt Collection\"],[\"house\",\"Debt Collection\"],[\",\",\"Debt Collection\"],[\"bankruptcy\",\"Debt Collection\"],[\",\",\"Debt Collection\"],[\"and\",\"Debt Collection\"],[\"nearly\",\"Debt Collection\"],[\"our\",\"Debt Collection\"],[\"marriage\",\"Debt Collection\"],[\".\",\"Debt Collection\"],[\"This\",\"Debt Collection\"],[\"was\",\"Debt Collection\"],[\"about\",\"Debt Collection\"],[\"7\",\"Debt Collection\"],[\"years\",\"Debt Collection\"],[\"ago\",\"Debt Collection\"],[\"or\",\"Debt Collection\"],[\"so\",\"Debt Collection\"],[\".\",\"Debt Collection\"],[\"Any\",\"Debt Collection\"],[\"discomfort\",\"Debt Collection\"],[\"you\",\"Debt Collection\"],[\"cause\",\"Debt Collection\"],[\"them\",\"Debt Collection\"],[\",\",\"Debt Collection\"],[\"know\",\"Debt Collection\"],[\"they\",\"Debt Collection\"],[\"deserve\",\"Debt Collection\"],[\"all\",\"Debt Collection\"],[\"of\",\"Debt Collection\"],[\"it\",\"Debt Collection\"],[\",\",\"Debt Collection\"],[\"and\",\"Debt Collection\"],[\"probably\",\"Debt Collection\"],[\"a\",\"Debt Collection\"],[\"lot\",\"Debt Collection\"],[\"more\",\"Debt Collection\"],[\".\",\"Debt Collection\"],[\"A\",\"Debt Collection\"],[\"bank\",\"Debt Collection\"],[\"account\",\"Debt Collection\"],[\"was\",\"Debt Collection\"],[\"acquired\",\"Debt Collection\"],[\"in\",\"Debt Collection\"],[\"my\",\"Debt Collection\"],[\"name\",\"Debt Collection\"],[\"as\",\"Debt Collection\"],[\"I\",\"Debt Collection\"],[\"was\",\"Debt Collection\"],[\"a\",\"Debt Collection\"],[\"victim\",\"Debt Collection\"],[\"of\",\"Debt Collection\"],[\"identity\",\"Debt Collection\"],[\"theft\",\"Debt Collection\"],[\"from\",\"Debt Collection\"],[\"Navy\",\"Debt Collection\"],[\"Federal\",\"Debt Collection\"],[\"bank\",\"Debt Collection\"],[\".\",\"Debt Collection\"],[\"I\",\"Debt Collection\"],[\"sent\",\"Debt Collection\"],[\"the\",\"Debt Collection\"],[\"proper\",\"Debt Collection\"],[\"information\",\"Debt Collection\"],[\"to\",\"Debt Collection\"],[\"the\",\"Debt Collection\"],[\"credit\",\"Debt Collection\"],[\"reporting\",\"Debt Collection\"],[\"and\",\"Debt Collection\"],[\"Bank\",\"Debt Collection\"],[\"for\",\"Debt Collection\"],[\"investigation\",\"Debt Collection\"],[\".\",\"Debt Collection\"],[\"The\",\"Debt Collection\"],[\"account\",\"Debt Collection\"],[\"was\",\"Debt Collection\"],[\"taken\",\"Debt Collection\"],[\"off\",\"Debt Collection\"],[\"the\",\"Debt Collection\"],[\"report\",\"Debt Collection\"],[\"and\",\"Debt Collection\"],[\"then\",\"Debt Collection\"],[\"has\",\"Debt Collection\"],[\"reappeared\",\"Debt Collection\"],[\"on\",\"Debt Collection\"],[\"my\",\"Debt Collection\"],[\"consumer\",\"Debt Collection\"],[\"credit\",\"Debt Collection\"],[\"report\",\"Debt Collection\"],[\"hurting\",\"Debt Collection\"],[\"me\",\"Debt Collection\"],[\"further\",\"Debt Collection\"],[\"in\",\"Debt Collection\"],[\"these\",\"Debt Collection\"],[\"uncertain\",\"Debt Collection\"],[\"times\",\"Debt Collection\"],[\".\",\"Debt Collection\"],[\"this\",\"Debt Collection\"],[\"negative\",\"Debt Collection\"],[\"report\",\"Debt Collection\"],[\"is\",\"Debt Collection\"],[\"stopping\",\"Debt Collection\"],[\"me\",\"Debt Collection\"],[\"from\",\"Debt Collection\"],[\"having\",\"Debt Collection\"],[\"a\",\"Debt Collection\"],[\"actual\",\"Debt Collection\"],[\"relationship\",\"Debt Collection\"],[\"with\",\"Debt Collection\"],[\"this\",\"Debt Collection\"],[\"bank\",\"Debt Collection\"],[\"if\",\"Debt Collection\"],[\"i\",\"Debt Collection\"],[\"choose\",\"Debt Collection\"],[\"and\",\"Debt Collection\"],[\"stagnating\",\"Debt Collection\"],[\"my\",\"Debt Collection\"],[\"report\",\"Debt Collection\"],[\".\",\"Debt Collection\"]],\"hovertemplate\":\"label=%{customdata[1]}<br>x=%{x}<br>y=%{y}<br>z=%{z}<br>token=%{customdata[0]}<extra></extra>\",\"legendgroup\":\"Debt Collection\",\"marker\":{\"color\":\"#ab63fa\",\"symbol\":\"circle\"},\"mode\":\"markers\",\"name\":\"Debt Collection\",\"scene\":\"scene\",\"showlegend\":true,\"x\":[11.25776666736706,-1.3949401076439283,-2.775184570100987,-0.34304114143124864,-2.311797549827866,-2.107882683385134,4.50195385128696,-1.7877177127789672,0.7633756776800291,-1.3503629048919048,-1.1659937379008893,-0.1746822857486848,-1.8795839789636193,-1.86142012353495,-2.5440811813557995,-2.315914962199086,0.18708975343141943,12.419076006830261,-0.707560980557546,-1.9994636455383124,-1.8641562049276883,0.33239279191683785,-1.6075548859156594,-2.3464133833421887,-1.373418216171175,-0.18982260024911493,13.388618421581214,0.22194863567765347,-1.5080500554946867,1.6610778119949863,-1.111444164026967,-1.359565887047668,0.04554411478017472,-3.762569154770458,-1.752953740701777,-3.6904725406481527,2.435231289014914,-0.850736514235999,0.6845794686203267,-1.5624480990380953,-1.806651081070886,-2.4621313333472097,-2.5074761644434274,-0.05273583295990582,11.412742486936635,-1.9398104595444174,-2.88192724505768,-2.7026202549276204,-2.160669637465625,-1.5056757326826673,-1.9206698362936825,-1.6452935002342892,-1.9431103674662003,-1.0628509886507542,-1.4771762925176644,-0.6104979466180748,-3.5190483387003817,-1.049523723688003,-4.708122802960364,-2.768155235678868,-2.68647077101023,-2.284533285135671,-1.6161666967031914,-0.7618885469629155,-1.898072265006775,-3.0033254849183857,-2.63371213133498,-0.6573659715737352,-2.2823109201056666,-2.6087877261483614,-1.6213693935215643,-1.5311735388037826,-1.740242728547387,-2.090789488614067,-0.5883092393948651,-1.8257651462405655,-0.0462093801355946,12.640610108377572,-2.4905097873009914,-1.0452420860737826,-0.42786849713249664,-1.6068624918899714,-0.39874685160624906,-1.7847481844027862,-0.29352407303005323,-0.2994454459904046,11.620580608219313,-1.2466166586562992,-0.08332989819406784,-2.0303812307524436,-1.434329344451615,-1.3206295353882673,-0.8742037484984558,-1.736111847058596,-1.6650964568544246,-0.9602885133066107,-1.4520271663420505,-1.4865805865223811,-1.9780033903789132,-1.7102704897291274,-1.0385860440607637,-2.484653076176535,-2.7754180905317436,-2.673787452471931,-0.037925114249273896,10.853216203120423,-0.3792482019586217,-1.4415250506869899,-2.1963702208486207,-0.485906486901799,-1.2645407787806433,4.717605767957971,-2.3915895440749426,-1.3241079336397459,9.663878068673828,-2.4963050769630155,-3.08401096302306,-3.3310065580328043,-2.644608023824007,-1.4703792252787116,-2.5808425517341034,-0.36661941019169536,9.647047483702083,7.267154598553983,-1.767182808029786,-0.7214068341719531,12.29443446250893,-1.0761362491731448,-1.6305852637495808,-1.8056529443227372,-2.5600031685474827,-3.373668703280286,0.5532465330560539,-1.5524173447292242,-2.144614736012591,-1.278158108607725,8.1397325948256,-1.1692248429734826,-0.43162707818406065,-0.6362889395285398,12.107598364613406,-0.19676246245067094,-1.6736467527210461,-3.2639113703541787,-2.015744664884775,-0.7020063693095564,-1.6378198642644959,-0.4995944892545582,-0.16490728628983511,-0.39736564196094515,-2.844574421024502,-2.7647927719492578,6.058049885236445,0.4742971483759566,-1.7164308037406608,-1.7850664515526793,-2.9547720490090614,0.22970390643448105,-2.988948070871628,-2.874546306143129,-2.428480258594796,-1.921431591905093,-1.5106006736066007,0.5448559143200232,-1.8160525866562318,-1.962237781369702,-2.3182191241146577,-2.010325493428974,-2.8746858009062386,0.862680811519078,-0.8348548341050934,-3.316023011789197,-2.665942405165641,-1.6808696646845567,-2.459770660528512,-2.4715991329346783,1.1351480101009543,-1.6233484503107753,-1.0250402550132234,0.9652977715665852,-3.2196983935601824,-2.01637633093619,-1.4902268101064817,3.429819559556082,-1.6076359384579475,0.547927426842974],\"y\":[-0.25649564989374024,0.35158757370427124,0.11281707069406242,0.5690386101025897,0.31460329976831186,-0.7303605583940502,2.0535766346975817,1.3736115985546473,1.8719432682623744,1.7065075620491383,0.6858699613834275,1.7830039698272075,2.0827021426677743,2.6277464241194255,1.9618624654106185,2.4869394423450553,-0.28815528039167154,-0.42766654305809987,-0.5688777173958182,-1.2387513402102697,0.2424974713074988,-3.547468950809454,0.9276107993663831,0.12350908640162295,-0.6511161446124315,-0.6726386369111479,0.12555521293434135,-0.1656394495091012,-0.7721897416940238,-3.1420692026650388,0.9030415079942995,0.26024330061079765,-1.7864695941823205,1.3727785222409499,-3.3334127670985465,0.5094661808025666,-2.158292804123732,1.0934220226770444,0.29166193398746787,1.5213917902694247,2.09049902373206,1.875672838170621,2.3768758404865786,-15.099033445856476,0.5013993606882665,0.7314729730142211,2.318197079348921,1.280872215704881,1.3397224630701972,2.8114018309911883,1.7055825764983528,1.977621060723966,0.10190342127096876,-2.458458127469041,-0.6512052677514094,-1.2429792252937788,-2.4336213309270778,-5.5910093101603975,-2.30814394829134,-1.0098149236520444,-2.4330068776364975,0.3650427414124713,0.14334867108744892,-0.347211140591265,-0.3542374740113889,-1.1488838542454787,0.6689782094094822,0.7413663639593921,2.0872519154238525,0.6260496351486089,1.2549165984391024,0.27264537033708486,0.6106833660809499,-0.030503549592824815,-0.2654477574986845,1.8013338160509307,-15.145052462592863,0.26035451647483604,0.060805726824575426,-3.4952283784836817,-1.015953165533772,-2.0671322965116063,0.5868513997880562,-0.07872737659109937,-0.8264816734490775,-0.8921694641438762,0.5079277038442128,0.2834709751897868,-3.521082967892564,0.5880396963183928,-2.2323403609484744,-0.7646573888330759,-2.199702167219585,-3.068763133171509,-0.1844760631123445,-1.075711759768602,-1.043147125298314,-1.876364941048906,-0.13607347786651725,-0.7325180715623942,-1.546205316415202,-1.6460216424969232,-2.210504829523121,-1.5483610180098166,-15.179667101414498,1.8255197411556787,2.3627474037247085,2.533110400681876,0.7167154552543012,2.662568967980622,2.3213069256965553,-1.534056770787205,2.0267331931813777,1.0721179052041392,1.5965674599692223,1.1006919853088022,1.4104356871855124,2.206120620907391,1.9667398677429693,3.81821670275681,2.4918167805476004,1.52829166463037,2.403531255760145,3.599209118782896,3.3170695423924172,1.2211655700179156,1.1128025818784961,1.1578690319710365,2.0649699333569145,3.418026059300204,3.2414826085242936,0.7574119302235555,2.249475961264338,2.684630726041911,3.9762961767725997,2.92010138568557,3.4010249336335616,2.033162416538498,3.147269474515604,0.23864689593274074,1.7838708312524103,3.094347726889294,0.9560817200327433,0.9838403381317682,1.5957019592608679,1.9488310520708718,3.255995702309996,2.073853157561397,1.139080954761397,0.5732138154480427,0.7550598628347016,0.2461281933535738,-0.8798978063431198,2.6154376445655814,3.142199972270854,2.362648931976028,0.797330043536245,-2.821647848477331,1.7370188687203794,1.8804394643547189,1.552491749649923,2.494843054123891,1.6647605351634343,-12.965189711297496,0.5933446694014106,2.515389080693351,2.446753873709586,0.056715035981107456,1.911621141378653,-2.7832804410896914,-0.34588840387868014,0.2861951956518718,0.7951568395864783,2.8858248252319685,2.478319401645475,1.7025812498838682,1.1050554327083222,2.8615222858392912,0.9496156220395131,-1.7259966962103852,1.4054046503039592,1.6782025227052668,2.576598803775744,-0.5999771969124947,3.1618120092897004,-12.955270400637964],\"z\":[1.7695081311795793,-0.8381579843023742,2.6456773238025884,-1.916939863680193,-3.1267241680952353,-1.1179659565334945,-2.863854794442732,-0.374397466135779,-3.0901290754422663,-0.9105875837950734,2.328881202112331,-0.8525041664057252,-2.046450403892783,-0.26254318513081065,0.7545294350938593,-1.4388781836290783,0.06481627166869301,2.4312393478150875,-0.7393430539636692,0.08103321282578917,-2.774273605535224,0.715749828313376,-3.082136270554443,1.0883158617067679,-3.792811939136822,-0.030052029918050525,2.976002917204739,-2.382978197599012,-1.4902797199238873,2.173419407702605,-1.4871923343515803,2.1566248563970922,2.447862328639692,-0.6232258368560678,-1.0177942810557872,3.395990616953695,2.1832139124653356,-3.4153041368244477,1.727007329292288,2.1406716494436777,0.46234534613660233,1.2948811335080253,0.1757556011178492,-4.52303690557076,2.342574270879727,2.65217792880286,-3.2186893815643463,1.4975695295276363,1.4395691583708343,-2.042201897420773,2.2246652885290055,-0.892711531957388,-1.1053626681991566,-0.9413900444450135,1.0476921629473377,1.9448378362607903,1.6000115805330182,0.06834234179018334,2.4513051357954425,3.578266023875755,1.6225462267384094,1.7396144639769486,2.2979311819342496,0.021140694912181228,0.04594846663375812,3.628419195997936,0.46571881221311434,0.8671942711466042,-3.6253588976825,0.9017284061343922,-3.0009892346034306,-0.04791857156477972,2.4623530769197695,-2.3190640182820887,1.3020199192242354,-3.4857420392221816,-4.546332812078486,1.5259644567260986,0.33965282957946014,-0.6695465500868307,1.75420176333893,3.522134816628297,-1.6253444405676236,-0.9551253208764309,-2.3416564831247473,-1.3844597676463586,2.0867772545321692,-2.7866860022618076,0.03601653657091179,-1.8777362482854552,1.3339393878382675,2.2841387301430727,-0.5368791664244851,3.283975471159811,-1.7876033913408997,0.25226877072726983,2.6578671175131,0.742477044179823,0.6647451321039454,3.0789476948036674,-2.4149258726025025,1.5481445767816524,-3.2026861047536377,-0.664631856008691,-4.5815547417346,1.4823520639278776,0.9035397854696385,0.7210052441051483,3.5807240829658897,-0.5510370085578865,3.3240506994712042,2.887256938918296,-1.5035865811750255,0.8533264768041362,-1.547141767997277,3.4663357633780922,4.606033312542072,-3.159197441795746,3.0341065752956715,-1.728254431125365,-2.0800309679684417,0.14256999679007912,-1.180270080687,-1.7298217727178198,-0.7881458147750826,-1.1498524820611202,2.048214046921781,1.1024337910394524,2.7146804335803894,-2.8587821121567636,0.5608225695017771,3.9647969085372368,2.341116602171482,-0.6642448950793828,-2.5754874514528474,-1.1589308860819745,-2.4259935478456724,1.2483981705424323,-1.469734098085155,-0.27443072181812544,1.4383657867658712,-0.6751166535662304,2.899898448432693,0.03371382344459953,-0.5461426409441984,2.7484436756617106,-1.004302010104047,3.3707695301434404,-0.34964074218719554,1.5760799111890653,-0.9070848811824499,2.515279410106455,2.558476317301805,-1.3545291438421745,-0.8572204958801418,0.30054563735466017,-3.1428066748481083,0.04955434325044081,-1.9364558906197946,2.2149924222344803,0.7627901988239437,-2.656952996562691,-2.0457594450787866,-3.4564909639781964,2.813027390152745,-2.204003422289123,-0.6225951531414513,2.556114294207927,-1.982445690022536,0.06204514315053031,3.839098048464361,2.6841318604142326,4.125941687086862,-2.387849276918895,-0.46441396826521036,2.5621976095616392,1.267288798935176,-1.7442943005471039,1.8621471887525194,1.2130709402673558,-2.1132221183750266,1.7704859591099915,-2.489293908870353,1.7593656640506383,-1.8296150614313897,-3.47913135514894],\"type\":\"scatter3d\"},{\"customdata\":[[\"I\",\"Loans\"],[\"was\",\"Loans\"],[\"contacted\",\"Loans\"],[\"via\",\"Loans\"],[\"postal\",\"Loans\"],[\"mail\",\"Loans\"],[\"to\",\"Loans\"],[\"apply\",\"Loans\"],[\"for\",\"Loans\"],[\"an\",\"Loans\"],[\"installment\",\"Loans\"],[\"loan\",\"Loans\"],[\".\",\"Loans\"],[\"I\",\"Loans\"],[\"was\",\"Loans\"],[\"approved\",\"Loans\"],[\"for\",\"Loans\"],[\"a\",\"Loans\"],[\"loan\",\"Loans\"],[\"of\",\"Loans\"],[\"{$500.00}\",\"Loans\"],[\".\",\"Loans\"],[\"I\",\"Loans\"],[\"was\",\"Loans\"],[\"told\",\"Loans\"],[\"at\",\"Loans\"],[\"first\",\"Loans\"],[\"that\",\"Loans\"],[\"only\",\"Loans\"],[\"8\",\"Loans\"],[\"installment\",\"Loans\"],[\"payments\",\"Loans\"],[\"of\",\"Loans\"],[\"{$130.00}\",\"Loans\"],[\"would\",\"Loans\"],[\"be\",\"Loans\"],[\"withdrawn\",\"Loans\"],[\"from\",\"Loans\"],[\"my\",\"Loans\"],[\"bank\",\"Loans\"],[\".\",\"Loans\"],[\"I've\",\"Loans\"],[\"already\",\"Loans\"],[\"paid\",\"Loans\"],[\"7\",\"Loans\"],[\"payments\",\"Loans\"],[\"but\",\"Loans\"],[\"according\",\"Loans\"],[\"to\",\"Loans\"],[\"them\",\"Loans\"],[\"I\",\"Loans\"],[\"still\",\"Loans\"],[\"owe\",\"Loans\"],[\"over\",\"Loans\"],[\"{$400.00}\",\"Loans\"],[\"and\",\"Loans\"],[\"when\",\"Loans\"],[\"I\",\"Loans\"],[\"went\",\"Loans\"],[\"to\",\"Loans\"],[\"see\",\"Loans\"],[\"the\",\"Loans\"],[\"payment\",\"Loans\"],[\"history\",\"Loans\"],[\"only\",\"Loans\"],[\"tiny\",\"Loans\"],[\"payments\",\"Loans\"],[\"are\",\"Loans\"],[\"going\",\"Loans\"],[\"toward\",\"Loans\"],[\"the\",\"Loans\"],[\"principal\",\"Loans\"],[\"and\",\"Loans\"],[\"larger\",\"Loans\"],[\"payments\",\"Loans\"],[\"towards\",\"Loans\"],[\"finance\",\"Loans\"],[\"fees\",\"Loans\"],[\"(\",\"Loans\"],[\"It\",\"Loans\"],[\"looks\",\"Loans\"],[\"ridiculous\",\"Loans\"],[\")\",\"Loans\"],[\"i\",\"Loans\"],[\"took\",\"Loans\"],[\"a\",\"Loans\"],[\"screenshot\",\"Loans\"],[\"to\",\"Loans\"],[\"provide\",\"Loans\"],[\"you\",\"Loans\"],[\"for\",\"Loans\"],[\"evidence\",\"Loans\"],[\"My\",\"Loans\"],[\"husband\",\"Loans\"],[\"recently\",\"Loans\"],[\"became\",\"Loans\"],[\"very\",\"Loans\"],[\"ill\",\"Loans\"],[\"and\",\"Loans\"],[\"was\",\"Loans\"],[\"hospitalized\",\"Loans\"],[\"until\",\"Loans\"],[\"death\",\"Loans\"],[\".\",\"Loans\"],[\"During\",\"Loans\"],[\"this\",\"Loans\"],[\"time\",\"Loans\"],[\",\",\"Loans\"],[\"our\",\"Loans\"],[\"family\",\"Loans\"],[\"members\",\"Loans\"],[\"took\",\"Loans\"],[\"over\",\"Loans\"],[\"control\",\"Loans\"],[\"of\",\"Loans\"],[\"our\",\"Loans\"],[\"finances\",\"Loans\"],[\"and\",\"Loans\"],[\"misappropriated\",\"Loans\"],[\"our\",\"Loans\"],[\"funds\",\"Loans\"],[\"in\",\"Loans\"],[\"our\",\"Loans\"],[\"bank\",\"Loans\"],[\"accounts\",\"Loans\"],[\".\",\"Loans\"],[\"I\",\"Loans\"],[\"was\",\"Loans\"],[\"unaware\",\"Loans\"],[\"of\",\"Loans\"],[\"this\",\"Loans\"],[\"until\",\"Loans\"],[\"today\",\"Loans\"],[\",\",\"Loans\"],[\"when\",\"Loans\"],[\"looking\",\"Loans\"],[\"at\",\"Loans\"],[\"my\",\"Loans\"],[\"credit\",\"Loans\"],[\"report\",\"Loans\"],[\"to\",\"Loans\"],[\"see\",\"Loans\"],[\"what\",\"Loans\"],[\"was\",\"Loans\"],[\"not\",\"Loans\"],[\"paid\",\"Loans\"],[\".\",\"Loans\"],[\"I\",\"Loans\"],[\"have\",\"Loans\"],[\"filed\",\"Loans\"],[\"fraud\",\"Loans\"],[\"charges\",\"Loans\"],[\"and\",\"Loans\"],[\"filed\",\"Loans\"],[\"a\",\"Loans\"],[\"report\",\"Loans\"],[\"for\",\"Loans\"],[\"elderly\",\"Loans\"],[\"abuse\",\"Loans\"],[\".\",\"Loans\"],[\"No\",\"Loans\"],[\"one\",\"Loans\"],[\"will\",\"Loans\"],[\"help\",\"Loans\"],[\"me\",\"Loans\"],[\".\",\"Loans\"],[\"My\",\"Loans\"],[\"husband\",\"Loans\"],[\"is\",\"Loans\"],[\"dead\",\"Loans\"],[\"and\",\"Loans\"],[\"I\",\"Loans\"],[\"am\",\"Loans\"],[\"trying\",\"Loans\"],[\"to\",\"Loans\"],[\"pick\",\"Loans\"],[\"up\",\"Loans\"],[\"the\",\"Loans\"],[\"pieces\",\"Loans\"],[\".\",\"Loans\"]],\"hovertemplate\":\"label=%{customdata[1]}<br>x=%{x}<br>y=%{y}<br>z=%{z}<br>token=%{customdata[0]}<extra></extra>\",\"legendgroup\":\"Loans\",\"marker\":{\"color\":\"#FFA15A\",\"symbol\":\"circle\"},\"mode\":\"markers\",\"name\":\"Loans\",\"scene\":\"scene\",\"showlegend\":true,\"x\":[12.727912509601765,-2.4568511939497664,-1.722946416485542,-3.0002568812340518,-0.5368363288137356,-1.0889499421043347,-2.551322453519506,-2.2031553061648332,-1.9417506593808298,-1.740042877506988,-0.16377421659316616,-1.801103224439012,-0.4158706070197231,13.743285695467469,-2.903309877548308,-1.8438498091399977,-2.13121533531922,-1.7739279609458933,-1.8153340793259762,-1.4979809243347795,1.837922966577161,-0.4985330129816544,14.06050178980187,-2.488704725459184,-1.0881987465570673,-0.5097159909602346,0.2997803619455114,-1.0278110060749912,-2.112195092678333,-1.7924732126291973,-0.648477509322217,-1.1352446256013133,-1.386850177353853,2.374284926895981,-2.3437587272649547,-2.2516128404768483,-2.5437490954499733,-1.0331117914321595,2.656999783976682,-1.562073684378106,0.681395111677734,13.075609763945044,0.006668489604229521,-2.9825227310404663,-1.3470249862834751,-1.0669346002554783,-1.8196446494983514,0.36382395309845206,-3.375195569591585,-0.7035501678869178,11.844291020530607,-2.4883365098638515,-0.5414371955161282,-0.8970635762609097,2.1745858137772647,-0.0027783609649507093,0.8705699834642002,11.266035118749082,-3.797906140408003,-3.7234639534495937,-3.028818301769982,-2.3398808930091906,-2.437138770635774,-1.35218280768984,-1.793334364954923,-3.454702870305515,-1.5240618645445705,-2.488681864159813,-3.6903809494138753,-1.7593425271638856,-2.1268538073001544,-1.9195731057066232,-1.70770140071391,-1.693251523381672,-1.6272227721665034,-2.961658180305775,-0.25662703334293874,-1.3878314296827294,1.2521209022481847,10.80452500917695,-0.9810118450873799,-1.8773793651699962,-0.08488200552988683,6.591575954190279,-3.450812510455749,-2.5536059516709617,-2.3079554982157418,-2.9943786962373746,-1.887034599357087,-0.4743705496022101,-1.2625301873557468,0.5940631589598176,11.21229833979674,0.08429841342471944,-0.6428601723807522,-1.0111894586608159,-3.9053188883171797,-1.8427932888251823,-0.26016279361801914,-1.8289105356463125,-1.9790333928144819,-2.9347540835847528,-2.6125788773484664,-0.20417069188258594,6.738565932691347,-1.9476043769702152,-2.892183390355109,-1.4980364381345475,0.7125567462324857,-1.04503360377376,-2.3368802623668974,-2.6767225030272566,-0.7852197318680785,-1.2172356802987563,-2.192851658515304,-0.5680032881981402,0.6549361250602003,-1.0067397394210724,-1.448031454835285,-1.1488312979294235,-0.8883099529384922,-3.7746725099329574,-0.6847513831979892,-1.3847405432791504,-1.2022062992701403,-0.20679078833511874,12.179303310709185,-3.0353930740966155,-0.15602966823623107,-2.288932268450798,-2.2184090251383837,-2.5894578525350136,-1.8340330767365745,-0.864653704336368,0.35378819870649025,-3.185201723288433,-2.1597011508862702,1.5807335961072246,-2.13938021196516,-1.77505966499533,-2.3703954456420466,-2.7830476151093575,-1.4882644483603131,-3.572725016643804,-3.195954505804093,-2.973899048660459,-0.5021958794341196,11.821107123160926,0.19238705711863618,-2.7743199871072584,-2.0698669450796547,-1.8704236352131114,-0.6632890230575454,-2.924852784884981,-2.6465305563325963,-2.7574891996303665,-1.922754705685625,-1.3955181796646006,-1.5401016534770051,-0.6463871494917408,10.74420249898927,-1.9008247213317762,-3.3314857066911125,-5.842370613207446,-2.0344349539428643,-0.5264767887157381,12.284557111687452,-0.40518235984577256,-2.0564312826490836,-2.24597547253337,-0.6484955083071064,10.614513302113533,-1.7091879074849445,-4.160315770353158,-3.5641811517073316,-2.718127323704301,-3.07129818450912,-2.156611832655105,-2.213336437030852,-0.20546402741229608],\"y\":[1.3602884072208499,0.5750907675527991,1.0553198904725463,0.7144772128318606,2.9591059201461447,1.453983282982077,0.3317017133193221,0.8359117707204864,0.6843066907010493,1.4181525703998237,2.9899662397941738,2.2370640619504507,0.3695573440957195,1.1186957210553834,0.5880671491980408,1.384901946235884,1.1602287522972043,2.02593701684627,3.0301083863966762,3.0072864611015664,3.3941410110859325,0.6452853980841883,0.9027051996138186,-0.4844122227391907,-2.08982055324324,0.651130930699097,0.9609139043656778,-0.05962077535158751,1.074830059665717,2.5169039770672095,3.2633468430324726,1.3689777601424296,2.1588906978421694,3.385014335491912,-0.2779860457881514,0.8841185277018216,2.598993857418359,0.8289212109144031,1.1133602832735283,2.4870465872557475,-12.354832776214586,0.8148779289050537,0.5861536048084982,0.016173006328973106,2.973626706916268,0.6857484039700543,-1.1594471147606042,0.37919024659628736,-0.03432522026075826,-0.10129434238054,0.5732147625166661,0.23786340247197435,1.6435729576127325,1.3366195810734873,2.2508351864298564,1.1877143715060923,1.9804200333598108,1.5170022567625026,-0.9525944389937662,-0.9168245596550667,-0.26986268940075436,1.3257805349134184,1.4738390716537983,2.6491416244646673,0.7430887660818439,0.7765698153152365,-0.06063187968631298,-0.3287885918488516,1.3212777284534758,0.916799866419376,2.2196341227793988,3.2103643416426637,1.685827219954526,2.278221866016205,0.05377637701003494,0.7719747674247176,2.9352464183494966,2.5241407520095693,1.722928053866406,1.808408341093145,1.9738628684519113,0.6329257114928242,1.0787967398832963,0.5927382158026581,-0.2502319563318576,0.8231742870142926,1.7733774833238602,0.15102301790284692,1.4242367496587467,-0.24823874135835128,0.7960561963388991,-0.005240651125458197,1.4718040191904718,1.8173078437545749,1.4099698884388738,1.2120948995907892,-0.142202519356631,0.32523414258194355,1.6187399169436032,0.5810723758473464,1.3988618998041684,1.114922750100474,0.22021783525959743,-14.606715772229526,0.6585180499382868,-0.7554480108266669,1.5571296978911044,1.0763459575452927,0.6256936976257113,1.5902175780531387,1.1041843828128024,0.3951374043095275,0.6897423542535871,2.131894632790431,2.341848437468399,0.9863031297175138,2.4191259710507627,2.126536479085182,3.0924337741524592,1.519665747312535,2.6039234700797342,2.1730147599146012,0.9155237580425887,2.5497465738805043,1.4578152919496632,-14.626932012522476,1.2663628202589778,0.5985102181599412,0.13841892569086817,0.6824640519744868,0.32489410053762696,0.37005690091221977,-0.06805153697638797,0.9099074306113094,0.599280738476813,-1.0161820310915677,0.44659442585545533,0.29155364782966264,2.848689326746435,2.76154628243126,0.03842577518258298,-0.16628675482029812,-0.17475366885657154,0.12337483084407902,0.14084894475138332,1.237674915444338,0.6842315251647189,-0.07795258248762044,0.7368805185365854,1.7327000896987241,2.9666826896369156,2.817381499105048,0.8993435144867108,1.3113809242337717,1.9991873127113158,2.3152691093842503,1.529641822486921,2.776825227497953,3.1287320176218434,0.824870194766622,1.0362822492529136,0.19497462278391142,-1.398576464169549,-2.4940854801654226,-2.180004688544973,-0.6694161504563755,1.1210094349579076,0.7734687527430193,-0.5952478410945582,0.679609480586208,0.8862491148584425,1.3550697648712442,0.6239289419263545,-1.475602815488768,-0.7417113111634109,-1.0616039513953417,-0.6349040733398461,0.9432379407193823,2.404312259812215,-14.606163165137932],\"z\":[1.2549384837571724,3.6450121201382593,-1.682507283000909,1.4831415182793857,-1.4918559573909895,-0.4112565222732209,5.416816045348137,2.377724627898597,3.9421940672643188,4.490798002856942,0.7860037244197836,0.716840648815326,-0.7469149540131492,1.6433132226129585,3.6547694100772725,0.39002804736154173,3.042740819939682,3.452639920468364,-1.700691343511994,-0.10794745735244486,-2.8820477701548284,-0.9083759114114193,1.3878447765055253,4.5569633028861425,-2.666402850961609,0.0669921017571876,-2.4698464522694774,3.480043446408353,2.51719560636691,0.0221231200787117,-0.16047175119827908,2.364663454823866,1.583063192580642,-2.1019505880458547,4.250473181263565,3.3498594916932842,-2.6789431368331975,3.4676507745361005,-1.2430495007927982,-2.7525108115127366,-4.009464580574996,2.2564794079628565,-0.042065651250849975,2.992761210951131,-0.6906551361276315,0.98852527025473,2.1202908834329177,-1.7303070996964407,2.9547869880731676,1.2466070967768945,1.7349618397619733,1.446426768832904,-2.9861140615023753,-2.0956110411276243,-2.25726452165331,2.1275250092680458,-0.13013441169386,-1.053708151562027,-0.6942301372306685,4.540586575145065,0.21854518210120466,2.905847367481625,1.5485129951701102,-1.9572084718793048,1.2925362016413526,-1.0567242788320963,2.6379242445658457,3.7396086912271063,-0.42225992871811685,2.8178997714709664,2.6344674842319944,-0.23168976791948828,3.3877365605678076,0.9268412601188363,2.3567989527425603,2.2759970902112276,-0.04169863318419963,1.4601203704021708,1.214617606252809,-0.6465067627404715,-2.5203777841679837,-2.2316696903829616,1.8852127870212378,-0.1414022124922735,-2.126945060621446,2.6362219101301365,-2.7397390298272954,3.136535332085871,1.0532137061163709,-2.8883864746834007,-1.6935383835211397,-2.97010590479587,1.092034081409223,-0.9366912404217933,-0.5645329257579048,1.605268589720453,-0.46799221243671335,-0.8333613399716161,3.8224108087900293,3.1459728205154187,-1.222583894294075,0.1214715480212238,0.4641921924481606,-5.6601078701270335,-0.9891076544822146,2.336567014323212,0.3088859351441124,2.487484174614795,1.2592839462315493,-0.8376621523433789,0.7520970724333311,-0.4050725439252203,0.8922707132413296,0.20453389062007601,2.327180033403411,1.9256286548246215,-2.1896616629694976,3.8711769188600873,-2.083364936891945,1.6610471894337382,-0.15620674290567038,3.358941978158598,2.5129820195493444,-0.049734903754611315,0.30011675164149704,-5.670371731865637,-0.2328616570124713,1.2160763072814722,-0.8337345084165863,2.917411649425593,1.754046026833952,-1.1262591586560449,-2.033753147560837,0.8015999896393038,0.9703686711620706,-0.15138435402256312,0.9147264285955854,-0.9430584474686045,-2.9363927064616444,-1.8471051803182494,1.4852289254433564,0.09293303008526047,0.7903533503019192,3.1695133702283558,1.3217945996236304,-2.0212301850069183,-1.4686549323104179,1.6434050011289958,-0.30449325891899187,1.8100187150551805,-2.3950217974429764,-1.3948784793342754,4.075171937969524,1.164520434123761,2.752515501143593,-2.151108449233285,1.1161468508489025,-2.4873418164454715,-3.3622544729226407,-1.3664889487765846,2.1967159828592955,-1.612564796600638,2.1287776944366623,1.7153552143905917,-1.084460690787389,-1.2509101782318781,1.9336900250201368,0.02142480675702064,3.3780772509458052,-2.2603273003357005,2.324583857653409,0.6142697366780921,-1.9990435807354152,0.28576344869544046,3.6925838432319162,0.21472933069215516,2.9195562605913237,1.8973496909537182,-3.454708503102802,-5.673652530965098],\"type\":\"scatter3d\"},{\"customdata\":[[\"I\",\"Money Transfers\"],[\"wire\",\"Money Transfers\"],[\"transfered\",\"Money Transfers\"],[\"{$66000.00}\",\"Money Transfers\"],[\"to\",\"Money Transfers\"],[\"a\",\"Money Transfers\"],[\"marketing\",\"Money Transfers\"],[\"company\",\"Money Transfers\"],[\"as\",\"Money Transfers\"],[\"an\",\"Money Transfers\"],[\"investment\",\"Money Transfers\"],[\"for\",\"Money Transfers\"],[\"commissions\",\"Money Transfers\"],[\"on\",\"Money Transfers\"],[\"small\",\"Money Transfers\"],[\"business\",\"Money Transfers\"],[\"loans\",\"Money Transfers\"],[\"that\",\"Money Transfers\"],[\"close\",\"Money Transfers\"],[\".\",\"Money Transfers\"],[\"This\",\"Money Transfers\"],[\"company\",\"Money Transfers\"],[\"described\",\"Money Transfers\"],[\"themselves\",\"Money Transfers\"],[\"as\",\"Money Transfers\"],[\"a\",\"Money Transfers\"],[\"Network\",\"Money Transfers\"],[\"Marketing\",\"Money Transfers\"],[\"Company\",\"Money Transfers\"],[\".\",\"Money Transfers\"],[\"But\",\"Money Transfers\"],[\"never\",\"Money Transfers\"],[\"delivered\",\"Money Transfers\"],[\"any\",\"Money Transfers\"],[\"service\",\"Money Transfers\"],[\"or\",\"Money Transfers\"],[\"products\",\"Money Transfers\"],[\"promised\",\"Money Transfers\"],[\".\",\"Money Transfers\"],[\"In\",\"Money Transfers\"],[\"addition\",\"Money Transfers\"],[\",\",\"Money Transfers\"],[\"all\",\"Money Transfers\"],[\"the\",\"Money Transfers\"],[\"contacts\",\"Money Transfers\"],[\"and\",\"Money Transfers\"],[\"phone\",\"Money Transfers\"],[\"numbers\",\"Money Transfers\"],[\"have\",\"Money Transfers\"],[\"been\",\"Money Transfers\"],[\"disconnected\",\"Money Transfers\"],[\".\",\"Money Transfers\"],[\"I\",\"Money Transfers\"],[\"do\",\"Money Transfers\"],[\"have\",\"Money Transfers\"],[\"the\",\"Money Transfers\"],[\"banking\",\"Money Transfers\"],[\"routing\",\"Money Transfers\"],[\"info\",\"Money Transfers\"],[\"and\",\"Money Transfers\"],[\"am\",\"Money Transfers\"],[\"requesting\",\"Money Transfers\"],[\"the\",\"Money Transfers\"],[\"person/\",\"Money Transfers\"],[\"people\",\"Money Transfers\"],[\"connected\",\"Money Transfers\"],[\"to\",\"Money Transfers\"],[\"this\",\"Money Transfers\"],[\"account\",\"Money Transfers\"],[\"be\",\"Money Transfers\"],[\"tracked\",\"Money Transfers\"],[\"and\",\"Money Transfers\"],[\"stopped\",\"Money Transfers\"],[\".\",\"Money Transfers\"],[\"I\",\"Money Transfers\"],[\"would\",\"Money Transfers\"],[\"like\",\"Money Transfers\"],[\"to\",\"Money Transfers\"],[\"receive\",\"Money Transfers\"],[\"restitution\",\"Money Transfers\"],[\"and\",\"Money Transfers\"],[\"damages\",\"Money Transfers\"],[\".\",\"Money Transfers\"],[\"PayPal\",\"Money Transfers\"],[\"holds\",\"Money Transfers\"],[\"funds\",\"Money Transfers\"],[\"for\",\"Money Transfers\"],[\"items\",\"Money Transfers\"],[\"sold\",\"Money Transfers\"],[\"using\",\"Money Transfers\"],[\"their\",\"Money Transfers\"],[\"services\",\"Money Transfers\"],[\".\",\"Money Transfers\"],[\"PayPal\",\"Money Transfers\"],[\"is\",\"Money Transfers\"],[\"not\",\"Money Transfers\"],[\"the\",\"Money Transfers\"],[\"seller\",\"Money Transfers\"],[\",\",\"Money Transfers\"],[\"but\",\"Money Transfers\"],[\"they\",\"Money Transfers\"],[\"receive\",\"Money Transfers\"],[\"the\",\"Money Transfers\"],[\"benefit\",\"Money Transfers\"],[\"of\",\"Money Transfers\"],[\"the\",\"Money Transfers\"],[\"funds\",\"Money Transfers\"],[\"in\",\"Money Transfers\"],[\"their\",\"Money Transfers\"],[\"possession\",\"Money Transfers\"],[\"for\",\"Money Transfers\"],[\"items\",\"Money Transfers\"],[\"sold\",\"Money Transfers\"],[\"long\",\"Money Transfers\"],[\"after\",\"Money Transfers\"],[\"the\",\"Money Transfers\"],[\"items\",\"Money Transfers\"],[\"are\",\"Money Transfers\"],[\"delivered\",\"Money Transfers\"],[\"to\",\"Money Transfers\"],[\"the\",\"Money Transfers\"],[\"buyer\",\"Money Transfers\"],[\"when\",\"Money Transfers\"],[\"they\",\"Money Transfers\"],[\"should\",\"Money Transfers\"],[\"be\",\"Money Transfers\"],[\"in\",\"Money Transfers\"],[\"the\",\"Money Transfers\"],[\"hands\",\"Money Transfers\"],[\"of\",\"Money Transfers\"],[\"the\",\"Money Transfers\"],[\"seller\",\"Money Transfers\"],[\".\",\"Money Transfers\"],[\"They\",\"Money Transfers\"],[\"refuse\",\"Money Transfers\"],[\"to\",\"Money Transfers\"],[\"relinquish\",\"Money Transfers\"],[\"the\",\"Money Transfers\"],[\"funds\",\"Money Transfers\"],[\"claiming\",\"Money Transfers\"],[\"you\",\"Money Transfers\"],[\"need\",\"Money Transfers\"],[\"to\",\"Money Transfers\"],[\"prove\",\"Money Transfers\"],[\"that\",\"Money Transfers\"],[\"you\",\"Money Transfers\"],[\"are\",\"Money Transfers\"],[\"a\",\"Money Transfers\"],[\"good\",\"Money Transfers\"],[\"seller\",\"Money Transfers\"],[\"to\",\"Money Transfers\"],[\"be\",\"Money Transfers\"],[\"removed\",\"Money Transfers\"],[\"from\",\"Money Transfers\"],[\"the\",\"Money Transfers\"],[\"program\",\"Money Transfers\"],[\"which\",\"Money Transfers\"],[\"assumes\",\"Money Transfers\"],[\"guilt\",\"Money Transfers\"],[\"or\",\"Money Transfers\"],[\"criminal\",\"Money Transfers\"],[\"intent\",\"Money Transfers\"],[\".\",\"Money Transfers\"],[\"I\",\"Money Transfers\"],[\"was\",\"Money Transfers\"],[\"told\",\"Money Transfers\"],[\"I\",\"Money Transfers\"],[\"would\",\"Money Transfers\"],[\"be\",\"Money Transfers\"],[\"removed\",\"Money Transfers\"],[\"from\",\"Money Transfers\"],[\"the\",\"Money Transfers\"],[\"program\",\"Money Transfers\"],[\"after\",\"Money Transfers\"],[\"a\",\"Money Transfers\"],[\"phone\",\"Money Transfers\"],[\"call\",\"Money Transfers\"],[\",\",\"Money Transfers\"],[\"but\",\"Money Transfers\"],[\"now\",\"Money Transfers\"],[\"they\",\"Money Transfers\"],[\"refuse\",\"Money Transfers\"],[\"and\",\"Money Transfers\"],[\"can\",\"Money Transfers\"],[\"not\",\"Money Transfers\"],[\"find\",\"Money Transfers\"],[\"record\",\"Money Transfers\"],[\"of\",\"Money Transfers\"],[\"such\",\"Money Transfers\"],[\"a\",\"Money Transfers\"],[\"promise\",\"Money Transfers\"],[\".\",\"Money Transfers\"]],\"hovertemplate\":\"label=%{customdata[1]}<br>x=%{x}<br>y=%{y}<br>z=%{z}<br>token=%{customdata[0]}<extra></extra>\",\"legendgroup\":\"Money Transfers\",\"marker\":{\"color\":\"#19d3f3\",\"symbol\":\"circle\"},\"mode\":\"markers\",\"name\":\"Money Transfers\",\"scene\":\"scene\",\"showlegend\":true,\"x\":[9.576585155799602,-0.5027280695899444,-1.0788807680044255,-1.3081448729292,-3.4137206140311633,-1.327884922590964,-1.44627760372789,-1.9542197218716832,-1.801572667691947,-1.9082250340014735,-0.7131130036290434,-1.7769680214816812,-1.4860269613818093,-3.2501801528204615,-2.2311518931138927,-1.4082122600836862,-1.3352590051167545,-1.1274978103592899,-3.0508613973872944,0.08238628047793739,11.677528304945595,-0.3468414523136349,-0.5996124609098579,0.3285986253149141,-0.6950708342533892,1.2997966165835142,8.263837456885986,7.835308393354983,6.5953764262454,0.5152956438869386,11.121734917946227,-0.61084167205208,-1.7912499047445591,-1.4405025378359866,-1.7242041221371547,-1.9868795105836303,-0.8027977229753919,-1.7412210091189566,-0.06574576151444197,11.77136004101356,-0.7447186300779504,-1.5269020016813655,-0.5426289048730362,-1.5294164201625153,-0.13436498171268632,-1.9218632492967804,-3.396605146113647,-2.039694080509144,-0.9969701369964162,-2.058888091151247,-1.9279208635503629,0.4553186231526986,12.557214002622379,-0.20363523312025736,-2.362918700837514,-1.5667861344961884,-1.4777666929384734,-1.442823028007099,-1.5504326996984845,0.20979326836321743,0.7142227272958759,-0.9398397214812494,-1.6582694256340473,-0.5727102996452736,-0.9677724680705567,-1.1494471090044789,-3.2961086691767982,-1.9111750580840796,-1.4815938578254113,-0.9756714983097273,-3.061850421551745,-1.84616332555204,-3.491953687050379,-0.3770674903058838,12.822844409537291,0.9004427397232594,-2.483072697303156,-2.3007157302163073,-1.02881746639968,-2.776415106432023,-1.8412029058076411,-0.9826794466334149,0.564555979703101,11.388841289063146,-2.1726766804123563,-0.8408738594858473,-1.9466585464475175,-0.8806792278064318,-3.353021549457308,-1.5207559731368763,1.0845037342459285,-1.4323549236815267,-0.6080242398373628,11.659343979489208,-1.8605426625401058,-1.7204632573150658,-2.1566468869377426,-2.109959786729972,-1.9185375848833628,-1.881021358735378,1.2839825248900925,-0.8870160622834153,-1.8772434897307948,-2.7412489853019637,-2.396272082870572,-2.1683216413625175,-0.5010291016408718,-3.1254268258502993,-0.04105293586501781,-1.4648713645576874,-2.0390875326609224,-0.8861107881848462,-3.4339154821952134,-1.35218779624161,-2.0729919527848026,-2.0004257099443343,-0.8588761115434725,-1.5049523404410001,-1.32010246325323,-3.5473405504106656,-1.8666992424136801,-2.5248055563088485,-1.0825629077541,-1.3106605199140975,-1.647615382625025,-2.7947488171359574,-2.7988973413813456,-2.349093149524173,-4.320766476246398,-2.752944105623284,-1.7717367737957137,-1.5911063108155923,-0.16587858673293532,11.223992449175118,-0.10926832891665998,-2.707721061518453,-1.622951230709222,-1.817884905595865,-0.9460359356152078,-0.6435014174925229,2.3760625970255402,-1.5253710865874035,-3.015071777215651,-1.4213307214358526,-1.3272122908490318,2.24950010976921,-2.0167378314401505,-2.440123223446471,-1.6303494867349884,-2.792716145450808,-2.5632201575861866,-1.6985821899473086,-3.5514581438346204,-0.4360534203283819,-1.3768421462293463,-1.6737607761815414,-2.4839294118894135,-1.8549626838664721,-2.9466128162927436,-2.6218527003908285,-2.13877893785414,-3.752752838409102,-0.3618102495647953,14.003813978424974,-2.276137567369342,-0.27714350882830313,8.296997098743674,-0.554710846033502,-1.746311738358335,-3.350591777376794,-0.1619749696431808,-1.2132635345375788,-1.4994284765145236,-3.0956302026327567,-2.7318377040681523,-3.7754504144276164,-3.956357095620346,-2.053675461904523,-1.2818370663233118,-0.8126596929381041,-0.30713630601875236,-1.5676725157044382,-0.18288699127332542,-2.154471278695633,-2.347049481404373,-2.695881163080982,-1.3945927281246577,-2.0943815503646164,-2.1884528937737073,-2.767650548927855,-2.666862930513175,-0.14463735124300578],\"y\":[2.2805723243856026,2.7131018449421687,2.7152397083303725,3.7207556124925585,1.2642815452745402,1.90853120011706,3.002363091201639,2.3934953956413714,2.1820365020435775,2.4927740068716835,3.5696320420577927,2.8620112656563865,3.5113575315542405,1.6199288786361359,1.4065728252266563,2.564016449709792,3.1418306721102303,1.8680207058009837,2.8308028700246486,1.7537202463684987,2.1182126926859834,2.8638474228154616,2.6672506880040867,1.537346384335227,1.533111817148029,2.863200428927006,3.3694790002533295,3.392009815532879,4.0624114328742555,2.019625863834804,2.2162956146972914,1.6067131366227798,2.2225270196505944,1.813552481185959,2.470455166142839,1.8651498497807213,2.2184406705358923,2.2677645007071945,1.0169590923616987,1.2907867455231508,2.359117989612552,1.305268053202506,1.2996266855585918,2.0553955565465842,3.023295761556178,2.2106660106986893,-0.1736651345691125,1.311530746153796,0.46017427069807487,0.3040593324853033,2.3326434391172377,-11.152271334684897,1.065562869332194,0.69959142224256,0.8279588499876261,2.0522556912502803,3.801874046203573,3.433067009213479,3.17988742788354,2.0716682062025757,2.710456703508657,1.8602545457153854,2.4000143758265065,3.547157085707828,2.269448279785338,1.4412800968846793,1.1178009786078689,1.2872100682839513,2.931705418945493,0.8133021015791724,2.990410368303779,1.2948921803863263,2.9794377680729034,1.4731609402142811,1.8677928199620841,0.05654740627956222,-2.839136588714017,0.28782369944195524,1.4307367117186134,2.941790465571454,1.8708984893341436,3.1024219221975717,-12.051220268062155,1.1955658283063704,2.7439136336597745,1.164058672669235,1.9625333532953095,0.8844365198274513,0.1685127378509335,1.4743131867217698,1.1850280795692676,3.165215255256872,0.7622998325190825,1.3735751748178409,1.0385197002019966,-0.6810096540557572,0.895923951540575,1.079877298238716,1.443227467081143,-2.1096460886374864,-1.1130821296661353,0.4687807591107572,0.46375254006674954,2.674596468315539,1.5111700753666613,1.562751127969866,0.7953946338562693,1.0925112054546702,0.19023878121957363,2.535234071298033,1.2031619836172425,0.6288390891925094,0.08115896920502466,2.6567702803118323,1.8458221291833161,1.5310847249954533,0.7389359050719688,0.39971295118764255,1.0275055472369048,0.39797421086128526,1.6846546095746018,1.4255264009982618,1.8888094181981405,-0.2592034265214973,0.8719483727610142,0.4168358223347833,0.37662684060626334,0.2729063522459609,0.2874340320471993,0.9563804000533199,1.4027552259838036,-0.17577108866234403,-13.801216526071114,0.4237439972833901,0.06666467413623346,-0.20740386094215169,3.0764899099542404,1.521131147987887,1.5794230916749918,1.9614679103846038,-2.8471485859910435,-2.1843086150058926,-0.4275759991947047,0.054156069809174597,-0.04081484172078286,-2.3739090786439063,0.1705441839061219,0.4245321799139336,0.8005239155245737,1.4966616821892804,-0.4024841966208192,-0.01834737154258806,0.9216755943254944,-0.10813249460105127,1.799453120768954,2.748637110838705,2.2140621012171007,2.7934663331662093,2.4988400099046855,1.4318604821254381,2.5110456362552087,3.1602565124423685,0.31380946647186353,0.476726396477075,0.8388349469828447,-1.3807560916682329,2.025984933915183,0.3247323268372303,0.32663747881053107,0.7752568033102452,-0.35843530124755735,1.718154095146609,2.347898685805778,1.7546621726565947,0.7083783046542267,0.3817443217913472,0.6168278439022237,1.1678968512224395,-1.2360146074596632,0.8296677225164285,-1.1665153929296062,0.7473660529833169,1.373938140179304,-1.231054818264701,-0.4033687560035711,1.2681694948126174,1.7420279155782867,1.5590944040616201,1.542176731885936,1.460752498982943,2.4437833759178744,-14.088386956160498],\"z\":[1.2870994514306484,-2.889294241737228,-3.0151357655856805,-2.27987629763468,3.9900640929190647,3.7382578694717545,-0.8900055884890402,3.3051813338394505,3.1997142480807663,3.233228247213843,-0.43504016740359414,1.6863732564531626,-1.8619270562620627,2.5460163656009147,0.8843394560730302,0.37848947796081706,-1.4910489229754509,1.1047811921192163,-2.2000444804888835,-1.9570563043665121,1.182759571615254,-0.29025357947589114,-0.9154497876552837,-1.8933673739552936,1.7786109108631907,-0.5844375890436859,-1.8856459889844663,-1.621445772837239,-2.756339830877394,-2.217071410152761,0.841896840791345,-0.845679547529163,-0.2030951358440807,2.298728591853825,0.03017568054701495,2.5412639204756697,0.09538918065047526,-1.9531101787928349,-0.5067462340177836,1.6488177483687727,0.03293928998063021,2.1223979719455603,2.2531753809571518,1.8194496994931304,-2.117848993250442,2.7995869529887645,1.255945499796966,1.019233366124109,2.250615435207232,3.2932084493511784,-2.061493906111917,-3.209687393496139,1.6179316125659455,-1.0779541117222078,1.5652244190745477,1.5622866808496225,-3.0000163824265655,-2.544063212099037,-3.062049620737416,1.9044076643069046,-2.4409317313292154,-1.0261031286420936,2.5231502518638638,-1.4450606263433505,-1.6022762882497859,0.17356391268926225,3.4070104961615755,1.8545906996860861,-1.044731145770508,3.491844771950303,-1.2450253040076307,3.917974919797163,-2.268548482151963,-1.191554307522311,0.932015173533564,0.026162194844626,-2.1157275577288543,3.7198796358785806,1.8025970467574788,-1.8665572783412776,2.6923031214609874,-1.7773321360846883,-3.5223879290687523,1.4985748899564708,-1.321149845602443,2.245853723432037,3.406415434644165,2.8311198635367782,2.5754105100625297,-0.09415497248519772,1.5978587791386356,-1.7193022945338523,0.2589393869569468,0.9606294108842544,1.6149017944876103,3.6208095853153677,3.881430820037154,0.36934038855733936,2.014461199249652,3.7427354457964643,2.633275323791086,3.319191959596104,4.491966283066849,-1.62365053561221,3.497067395868349,3.2271990379590454,1.8111259815693492,5.351103911155763,3.491224908614604,-3.305181549009921,2.828067922123434,2.6647517277166815,2.4801013609588334,-1.990500831462894,2.172897007137161,2.9311582258247566,2.2783944104953338,4.359915891156633,2.701235946964457,5.2299180842918185,4.050509421538068,-0.4158004773330319,2.138686959944623,2.933629194057223,-0.044813265211378205,3.684487040156128,5.356533675530406,4.591673362056785,-3.013168916977337,3.1761808031942023,4.462480374984719,1.9562729581994178,-0.09254923034575673,2.553064075361768,0.8210125973681712,4.858512360685331,-2.4746596250028605,2.3897051324007133,1.3311890391043812,-2.5115395135559453,1.7345224774365129,2.931722064215641,4.805178769210944,1.8068958992807007,4.846130219543537,1.9439022334222216,3.500178165566106,4.500544392298041,-1.3840864858803972,-1.007879747708473,5.176924744994091,4.6323866658138995,2.221064446567396,4.570583215927577,2.895379763261752,-0.9139741090183646,1.803009420760397,-1.4367050617853834,-1.8365864667449388,1.004568527185106,-1.531219053981178,-2.0741158695714415,0.30827892435207643,1.8555187512624127,0.3388483641893812,-2.671412395898589,-1.9877295064526532,2.55097510824305,3.931513723842662,2.5898354751471446,4.88433548619608,3.2410257066225836,0.9886916877848874,2.0021406665217545,3.7633016674901394,-1.2650904390183246,-0.21870276403628833,1.727889965122797,3.2890703568351514,-1.7021384221152862,2.5814434923101155,-0.9977277356037728,3.0660320748660137,2.5078314298577,3.404856063625639,-1.9252675648968816,-2.1830866194082814,2.1301482987593956,3.659446162115299,2.85298231756251,-2.542017198195728,-0.15629534342204032],\"type\":\"scatter3d\"},{\"customdata\":[[\"We\",\"Mortgage\"],[\"have\",\"Mortgage\"],[\"requested\",\"Mortgage\"],[\"Covid\",\"Mortgage\"],[\"19\",\"Mortgage\"],[\"help\",\"Mortgage\"],[\"and\",\"Mortgage\"],[\"got\",\"Mortgage\"],[\"approval\",\"Mortgage\"],[\"from\",\"Mortgage\"],[\"Carrington\",\"Mortgage\"],[\"mortgage\",\"Mortgage\"],[\".\",\"Mortgage\"],[\"Just\",\"Mortgage\"],[\"to\",\"Mortgage\"],[\"find\",\"Mortgage\"],[\"out\",\"Mortgage\"],[\"that\",\"Mortgage\"],[\"the\",\"Mortgage\"],[\"company\",\"Mortgage\"],[\"is\",\"Mortgage\"],[\"doing\",\"Mortgage\"],[\"nothing\",\"Mortgage\"],[\"for\",\"Mortgage\"],[\"us\",\"Mortgage\"],[\".\",\"Mortgage\"],[\"They\",\"Mortgage\"],[\"have\",\"Mortgage\"],[\"posted\",\"Mortgage\"],[\"bad\",\"Mortgage\"],[\"credit\",\"Mortgage\"],[\"for\",\"Mortgage\"],[\"us\",\"Mortgage\"],[\"also\",\"Mortgage\"],[\".\",\"Mortgage\"],[\"This\",\"Mortgage\"],[\"is\",\"Mortgage\"],[\"wrong\",\"Mortgage\"],[\"!!!\",\"Mortgage\"],[\"Carrington\",\"Mortgage\"],[\"does\",\"Mortgage\"],[\"not\",\"Mortgage\"],[\"follow\",\"Mortgage\"],[\"financial\",\"Mortgage\"],[\"legal\",\"Mortgage\"],[\"practices\",\"Mortgage\"],[\".\",\"Mortgage\"],[\"We\",\"Mortgage\"],[\"have\",\"Mortgage\"],[\"called\",\"Mortgage\"],[\"in\",\"Mortgage\"],[\"many\",\"Mortgage\"],[\"times\",\"Mortgage\"],[\"for\",\"Mortgage\"],[\"help\",\"Mortgage\"],[\".\",\"Mortgage\"],[\"Carrington\",\"Mortgage\"],[\"always\",\"Mortgage\"],[\"says\",\"Mortgage\"],[\"they\",\"Mortgage\"],[\"will\",\"Mortgage\"],[\"help\",\"Mortgage\"],[\"with\",\"Mortgage\"],[\"given\",\"Mortgage\"],[\"current\",\"Mortgage\"],[\"pandemic\",\"Mortgage\"],[\"and\",\"Mortgage\"],[\"has\",\"Mortgage\"],[\"damaged\",\"Mortgage\"],[\"our\",\"Mortgage\"],[\"credit\",\"Mortgage\"],[\".\",\"Mortgage\"],[\"Congress\",\"Mortgage\"],[\"is\",\"Mortgage\"],[\"funding\",\"Mortgage\"],[\"them\",\"Mortgage\"],[\"and\",\"Mortgage\"],[\"they\",\"Mortgage\"],[\"are\",\"Mortgage\"],[\"not\",\"Mortgage\"],[\"helping\",\"Mortgage\"],[\"people\",\"Mortgage\"],[\".\",\"Mortgage\"],[\"We\",\"Mortgage\"],[\"have\",\"Mortgage\"],[\"sent\",\"Mortgage\"],[\"in\",\"Mortgage\"],[\"all\",\"Mortgage\"],[\"requested\",\"Mortgage\"],[\"information\",\"Mortgage\"],[\"multiple\",\"Mortgage\"],[\"times\",\"Mortgage\"],[\"with\",\"Mortgage\"],[\"no\",\"Mortgage\"],[\"help\",\"Mortgage\"],[\"!!!\",\"Mortgage\"],[\"Carrington\",\"Mortgage\"],[\"seems\",\"Mortgage\"],[\"to\",\"Mortgage\"],[\"misplace\",\"Mortgage\"],[\"a\",\"Mortgage\"],[\"lot\",\"Mortgage\"],[\"of\",\"Mortgage\"],[\"documents\",\"Mortgage\"],[\"just\",\"Mortgage\"],[\"to\",\"Mortgage\"],[\"request\",\"Mortgage\"],[\"them\",\"Mortgage\"],[\"again\",\"Mortgage\"],[\".\",\"Mortgage\"],[\"I\",\"Mortgage\"],[\"filled\",\"Mortgage\"],[\"out\",\"Mortgage\"],[\"a\",\"Mortgage\"],[\"contact\",\"Mortgage\"],[\"form\",\"Mortgage\"],[\"two\",\"Mortgage\"],[\"times\",\"Mortgage\"],[\"and\",\"Mortgage\"],[\"never\",\"Mortgage\"],[\"received\",\"Mortgage\"],[\"a\",\"Mortgage\"],[\"response\",\"Mortgage\"],[\"from\",\"Mortgage\"],[\"my\",\"Mortgage\"],[\"loan\",\"Mortgage\"],[\"company\",\"Mortgage\"],[\".\",\"Mortgage\"],[\"I\",\"Mortgage\"],[\"would\",\"Mortgage\"],[\"like\",\"Mortgage\"],[\"to\",\"Mortgage\"],[\"find\",\"Mortgage\"],[\"out\",\"Mortgage\"],[\"when\",\"Mortgage\"],[\"my\",\"Mortgage\"],[\"Yearly\",\"Mortgage\"],[\"Escrow\",\"Mortgage\"],[\"Analysis\",\"Mortgage\"],[\"is\",\"Mortgage\"],[\".\",\"Mortgage\"],[\"I\",\"Mortgage\"],[\"just\",\"Mortgage\"],[\"had\",\"Mortgage\"],[\"to\",\"Mortgage\"],[\"pay\",\"Mortgage\"],[\"two\",\"Mortgage\"],[\"supplemental\",\"Mortgage\"],[\"tax\",\"Mortgage\"],[\"payments\",\"Mortgage\"],[\"for\",\"Mortgage\"],[\"around\",\"Mortgage\"],[\"2300\",\"Mortgage\"],[\"each\",\"Mortgage\"],[\".\",\"Mortgage\"],[\"I\",\"Mortgage\"],[\"would\",\"Mortgage\"],[\"like\",\"Mortgage\"],[\"to\",\"Mortgage\"],[\"know\",\"Mortgage\"],[\"when\",\"Mortgage\"],[\"I\",\"Mortgage\"],[\"would\",\"Mortgage\"],[\"be\",\"Mortgage\"],[\"receiving\",\"Mortgage\"],[\"my\",\"Mortgage\"],[\"escrow\",\"Mortgage\"],[\"over\",\"Mortgage\"],[\"payment\",\"Mortgage\"],[\".\",\"Mortgage\"],[\"The\",\"Mortgage\"],[\"company\",\"Mortgage\"],[\"is\",\"Mortgage\"],[\"called\",\"Mortgage\"],[\"Loancare\",\"Mortgage\"],[\".\",\"Mortgage\"],[\"I\",\"Mortgage\"],[\"'\",\"Mortgage\"],[\"ve\",\"Mortgage\"],[\"read\",\"Mortgage\"],[\"hundreds\",\"Mortgage\"],[\"of\",\"Mortgage\"],[\"reviews\",\"Mortgage\"],[\"about\",\"Mortgage\"],[\"Loancare\",\"Mortgage\"],[\"and\",\"Mortgage\"],[\"they\",\"Mortgage\"],[\"are\",\"Mortgage\"],[\"all\",\"Mortgage\"],[\"horrible\",\"Mortgage\"],[\",\",\"Mortgage\"],[\"they\",\"Mortgage\"],[\"all\",\"Mortgage\"],[\"say\",\"Mortgage\"],[\"the\",\"Mortgage\"],[\"company\",\"Mortgage\"],[\"never\",\"Mortgage\"],[\"responds\",\"Mortgage\"],[\".\",\"Mortgage\"]],\"hovertemplate\":\"label=%{customdata[1]}<br>x=%{x}<br>y=%{y}<br>z=%{z}<br>token=%{customdata[0]}<extra></extra>\",\"legendgroup\":\"Mortgage\",\"marker\":{\"color\":\"#FF6692\",\"symbol\":\"circle\"},\"mode\":\"markers\",\"name\":\"Mortgage\",\"scene\":\"scene\",\"showlegend\":true,\"x\":[12.99215190375873,0.3331400047490014,-2.4454410871272376,6.528777915256032,-2.3378960557727524,-4.184059329549946,-1.5964153660422897,-1.9243687896572192,-2.7917749690099676,-1.5388066549523587,7.442532929114768,-0.43954320963283555,0.20800833930302007,13.151235601510624,-1.0909296361358678,-1.5643946906167505,-0.3892285356515904,-0.9498371509815046,-0.8592531690757238,-1.209301775240847,-2.7110885710444843,-4.029847647089623,-1.9147576106813977,-2.3379846202164516,-1.0266269296360273,-0.5167129442252801,15.234442579946771,-0.6647004344020007,-3.891153399616342,-1.7116204704100622,-2.6834585128244246,-2.5451295205679645,-0.6397469349976783,-1.927691185251997,0.11753727357401117,14.62788320938475,-1.9531232319996499,-2.544180564587152,0.3241839559909659,14.929598358007112,-1.7565914410850691,-1.649987931161676,-4.806907852816622,-1.9421122499790848,-2.7111089219575533,-2.4947921751335556,0.01961738711462301,15.330531305119464,-1.0111623001484715,-2.9163891693050306,-2.9204023819841827,-3.4872723448974017,-0.8981266121711518,-2.0048386043856756,-4.3360269965169,-0.03859939026448744,15.228182248991695,0.5561210068211248,-0.8954409114293019,1.758946926490417,-3.287170939927287,-5.802269612333412,-1.7963205957280777,-1.0100949747175356,-2.8733169361310766,-2.2272665559705387,-0.3693073600114623,-2.0258851483526916,-2.5498225835570323,-1.0290081701489668,-1.9166497940469935,-0.473293619636338,15.006312514198651,-2.5896316944868185,-3.1782300211620353,-1.3261965444675545,-1.041628868216023,2.1798822897327157,-2.2786298153510054,-2.0189915953378206,-5.275658188018267,-1.8233678332565315,-0.40545068864148587,15.173108290698694,-0.8049441468437579,-2.8050431795271984,-2.606353100160557,-0.17517746839708753,-2.7929161478238407,-1.7483050533160531,-2.030557125677809,-0.8085622312499773,-2.024623044511404,-0.9713376492525949,-5.481270756753178,1.539402641761786,14.8475509085281,0.6742404336517238,-3.0441225601317043,-3.5204876677797565,-3.183971966366779,-3.129264045826345,-3.0452005002980584,-0.5527898725515157,-1.2178543186031379,-3.066888448736281,-3.2729963987320634,-2.5606124732225393,-3.1814762979246627,-0.07173398685666824,11.822914083626365,-1.1297801122759126,-0.31277135710165255,-2.028839712319975,-1.7611788152298926,-0.4021607860411472,-5.177040427696918,-1.6013345743459717,0.0134343823084965,0.5154282551283047,-1.8519846709336059,-2.7966732213089873,-1.9899807565657732,-1.813712377945282,4.5939207865959935,0.25248699634275507,-1.6139292894401696,-0.38932319989845676,13.491396360892285,-0.06621307549773932,-3.0046868285213226,-2.9580550535282493,-1.785348612436968,0.07616409232951314,-0.10575900258794313,2.859667634849467,5.560964481100337,5.907034744856952,7.538285496883822,-2.0921283613544124,-0.38379490146555756,12.833018178679492,-0.24996698450971122,-3.157965264474628,-2.556973237372881,-2.3181040515300437,-2.9621204699720614,-0.9894344640348264,-2.38847578010682,-0.9085996845030316,-1.9077391711051672,-1.1590129102329862,-0.7362987704420323,-1.3880237931196264,-0.44346935830292583,14.504601700307296,0.08129893027142375,-2.1445295262732773,-3.2832651620022877,-2.2160363212772864,-0.2695819047318479,12.066851921046265,-1.3998503110471536,-3.3638671907639344,-1.6942026797770564,2.869349912568022,0.6092033832247729,-0.41204295041042255,-1.4079680883922325,1.275952946933103,12.01086507833332,1.3987127881745114,-1.1967580365941237,-1.3909266859362517,10.856476292053225,-0.003225541779408229,12.432907521229314,0.7235404823835707,-1.1760365195237281,-2.3649818860869862,-1.778905027146446,-2.670394517426914,-1.2109481679530056,-1.6167904246344702,11.087278458787399,-0.29557945091340154,0.8727805926567178,-1.6637202671049904,-1.1540087254327873,-1.1677444463615843,-0.5195146283301161,1.3349105940285768,-0.9285734222811919,-0.19663202398568466,0.207832347767541,0.9758761373328054,-0.00945112197336879,-1.3105386067531275,1.732372662348658],\"y\":[-0.7806166952015543,-1.5843326969647802,-0.028668379964104637,2.1918062835059295,2.4066357089911037,-0.13090704692770852,0.5172168004857035,2.2014155095491725,1.2952450174400858,0.12720723726258235,2.395954465380257,2.364667879976499,-0.5352383289936684,-0.33493772402202493,-1.8312963280142371,-1.7946345204111889,-2.642779132725558,-0.9470891703820847,0.9705962750140955,0.8351818551828678,-2.4372316081457237,-3.2371968550645867,-3.530151011650409,-2.205254343316516,-1.2037962266678943,-1.5328732119055293,-1.3946610941446442,-1.401915024627516,1.1269841014853101,1.0511842417949107,2.5763352563179587,0.1488546241938847,-0.4369380822816728,1.3616981192219864,-1.1611805092217982,-0.2472050730057459,-2.5482537218059496,-3.0007359678216488,-4.686963861979279,-0.07920895808435424,-2.4434191387073456,-1.4720051803508827,0.2708664296912997,2.453087259016158,2.31063893520939,1.5130789825620123,-1.0879317146999279,-1.3476973093271083,-1.6328488645666905,-1.0037257256359082,0.039150162760708145,-1.3819525247416864,-0.22554867633609374,-0.2192868670456623,-1.3103224099501378,-2.0259162698544353,-0.2848844573533959,-1.3755615210720549,-3.3694478818498554,-2.2488881230305657,-0.8058931801738045,-1.7313756340588575,1.5041641917853472,1.8486560878053924,1.8540589047376137,2.980033860248308,0.6691281329303317,-0.7790759436425919,0.8948891762746365,0.5793477777245577,2.1173161238348714,-0.7278674640660717,-0.08897639147322703,-2.2670783422719025,0.13687446678023818,-0.8414863595637883,-1.159965905341736,-1.886855809971563,-2.535277646345221,-2.206775095255409,-1.299053398865487,-0.6009559430820263,-0.9929903230837293,-0.9815668163949832,-1.7187801549991577,-0.3287330968546009,0.8135799453403776,1.1362545101245938,0.7667989841801381,2.3175292499759967,1.398797743493846,-0.24014536812464285,-0.84104695222116,-0.5285791038542249,-2.2524755455724184,-4.038006181624698,0.13512268106012804,-2.4990604665189515,-1.7466348995130412,-0.7498846529018612,-0.041465429892806265,-0.48601258657951807,0.8474524171888168,1.6141467673638905,-1.3907692305654318,-1.5527389792480015,0.5322181666818352,-1.1857817776156896,-0.8598423401331569,-14.345452466891878,0.7546955379843394,1.1312262237743416,-0.46448014906326035,1.826883357099097,1.7857179282238835,2.659855103275211,-0.2681744442695639,0.3452736706096354,1.3025640611215086,-0.694739028243932,-0.01914339819766047,1.3281544710118018,1.1959589049686286,0.2646884821269026,-0.8282298170987125,2.5904015604634854,2.77723940004355,-0.20917413737222298,0.602379429704594,-2.859547325563132,-5.482622541742107,-2.3795007748150225,-1.36944616556057,-1.6162778527130959,1.1996024034299573,-0.554490234373179,2.5451129068723484,2.283513712793409,2.0778365215514394,-0.05912879147637821,0.05546720372341024,0.024252036259922706,-1.4461863734830356,-2.6010536336155594,-0.32544336766128545,0.8128801941726226,1.0962873585406039,3.624202171910213,3.012156176594947,1.8703590290295007,1.9236625959827938,0.15741323655209732,1.8134864046205434,1.8852708489666306,0.050084139854053376,0.5009694927417355,-3.040242895854522,-5.773269277175539,-2.800131752297334,-2.7513843306952293,-0.11713727701082585,1.1087599113777573,-2.314074010449451,-1.6689401523301577,1.4615531591391477,-0.6967796427059327,2.584557320348187,2.4904160044900077,2.416587520431776,-11.998639439019842,0.8815823637168516,1.3478995132672829,-1.3016793338193353,-0.5964335947497688,1.7072711775862937,-0.5002748534230873,0.5724144749767103,0.8966898751159204,-0.8364361443706274,-1.1705572539861113,0.18569360503789373,0.8689868509830375,1.3289078302077417,-1.0950865115961579,1.453239840886837,0.5070498057663404,-1.6433699098833094,-0.8179465362199123,-0.667600824356141,-0.23229568977104417,-0.8858666345150817,-2.1397152481459316,-1.2115600499043981,-1.7637974687282205,1.2121747437322217,1.1525684955599096,-1.3605053701459031,-0.39519708414050136,-14.254697705140892],\"z\":[2.725702924234699,3.156721897216512,0.8299499208154791,-1.4330413248727731,-1.978227243659171,-1.0589101332282926,3.103354880103242,-2.759523792415636,-1.8906891131238175,1.1317938513211354,-1.915597403145451,-3.4171865121650513,-1.217821068033014,2.2889546165348302,4.2577670269698435,-0.514776322887347,-0.6206023045316386,4.677809829816673,2.965761346427028,1.6848190904542493,4.577764965369688,1.026696993708307,-2.3021361764156514,2.842757070509301,2.0420126927496436,-0.5489721569372454,3.5166432661313167,3.26420893933414,-2.4132194279938837,-2.478916311978538,-1.5340312255567459,1.9056698642540193,1.0208373026446906,-2.0136699492923604,-0.5876650319480516,0.959284904411349,3.5191814667508394,-3.9144080093948714,-1.2844131367830818,1.823008349888516,3.4997730556931943,3.401831429861162,0.04489634904907983,-0.8765106586445617,-1.5999622558667181,-1.0921123695205168,-1.1851623005946241,3.004945876065879,1.4314581505432955,-2.349930246329311,1.9788061905359624,0.18656288601032914,-0.47673885043551273,1.5686974778903466,-0.7820866240854116,-1.1597357490807159,2.387499096500157,-0.5488828119377821,0.10060395411623209,3.127178155470243,0.8450076169611258,-0.8989580292601709,-0.24356451355612194,-2.424132033651642,-1.852390525227522,-3.0965521845089965,1.17622296346803,-1.1855571755120318,-3.062014419120255,0.3671212387032618,-2.4066796436603446,-1.1449089993334503,1.9878803329591164,2.076755822503943,-2.555764577716848,-0.9291891743896624,3.043833366874008,1.5518139173787207,4.291311752451541,2.6410676494239267,-1.8172318516131307,-2.085727216210981,-2.0026804580426987,3.0944589904597573,2.420811963616487,-2.520293562707098,-1.0332792127441581,0.20786064710586294,-0.7454957107130913,-0.4581998062488387,0.5175130050001069,0.015605714646890954,2.5314354768134852,0.7550848437233828,-1.0417926565527584,-3.62269487946082,1.7656090399914564,-1.7294764861223852,4.524407559534173,-2.0594992199477606,2.7008798755954895,-2.6180219557802635,3.153763124471559,-1.6712042895556336,-1.671239069250996,4.787288322746988,0.06791954338816018,2.9392374935976995,0.01135139342427149,-5.343718021485605,2.000626582267068,-1.2892068780647825,1.256398243999703,2.6664212222427475,-2.449302630536168,-1.8916669652617863,2.2101012887371962,-0.3218344724320765,2.4427176596815645,-1.2965409236059464,1.9849164799482522,2.8860173172770347,-1.2492424670993354,1.7532299610852884,-0.3744519739718724,-2.2433125509292564,0.17400617427635978,-1.0746602678730641,1.7263580733341792,3.1369532426364635,-0.552732882792181,5.203723969955203,-0.9720693352302028,0.10466735984476358,-0.3347935784973607,-0.8192910394138375,-2.763755983734531,-2.245958391094687,-1.0156170511776685,-0.19504302379712263,-2.1550920417170802,1.612643425213141,-2.2637574724881655,1.1549616105549567,4.1757118452594835,1.8874715820731403,1.7498829356458023,-1.3552548806183704,-0.8915868358827852,1.2620966863836878,0.7034198419112402,-2.998473699966959,-2.433444405826124,-0.18623648721800157,-1.1453439448770875,1.9384086623884726,2.7141291130887923,-0.7490712611354144,5.148789702950267,-0.4289080977907408,3.1136053015091556,0.5118389161396494,4.42343279637571,4.063144168521509,-0.04588111517216958,-0.6058052515854171,-2.914661691241378,-2.6434277378137847,-0.3882669879125157,-3.8584455463567924,1.0921144143288148,0.478454535746732,2.969054529574721,-0.8929013862938185,-1.035910886891188,0.6932416143428759,0.9653997099668166,-0.8998835912581065,-2.7126747603917654,-0.9002689399637533,-1.1147399630114387,2.920204292662031,-2.152008718153621,-0.7531474655613831,0.43774428991061737,2.6017024192386486,2.4552624223817974,3.011101849753096,0.053414784682539435,-1.6010119645687455,0.8497969308199085,3.148930742757307,1.4827397584135353,-1.273610211325333,2.3456835643600384,1.548876573992674,-0.08095340806717406,-1.6340894515913256,-4.517175411031374],\"type\":\"scatter3d\"}],                        {\"template\":{\"data\":{\"bar\":[{\"error_x\":{\"color\":\"#2a3f5f\"},\"error_y\":{\"color\":\"#2a3f5f\"},\"marker\":{\"line\":{\"color\":\"#E5ECF6\",\"width\":0.5},\"pattern\":{\"fillmode\":\"overlay\",\"size\":10,\"solidity\":0.2}},\"type\":\"bar\"}],\"barpolar\":[{\"marker\":{\"line\":{\"color\":\"#E5ECF6\",\"width\":0.5},\"pattern\":{\"fillmode\":\"overlay\",\"size\":10,\"solidity\":0.2}},\"type\":\"barpolar\"}],\"carpet\":[{\"aaxis\":{\"endlinecolor\":\"#2a3f5f\",\"gridcolor\":\"white\",\"linecolor\":\"white\",\"minorgridcolor\":\"white\",\"startlinecolor\":\"#2a3f5f\"},\"baxis\":{\"endlinecolor\":\"#2a3f5f\",\"gridcolor\":\"white\",\"linecolor\":\"white\",\"minorgridcolor\":\"white\",\"startlinecolor\":\"#2a3f5f\"},\"type\":\"carpet\"}],\"choropleth\":[{\"colorbar\":{\"outlinewidth\":0,\"ticks\":\"\"},\"type\":\"choropleth\"}],\"contour\":[{\"colorbar\":{\"outlinewidth\":0,\"ticks\":\"\"},\"colorscale\":[[0.0,\"#0d0887\"],[0.1111111111111111,\"#46039f\"],[0.2222222222222222,\"#7201a8\"],[0.3333333333333333,\"#9c179e\"],[0.4444444444444444,\"#bd3786\"],[0.5555555555555556,\"#d8576b\"],[0.6666666666666666,\"#ed7953\"],[0.7777777777777778,\"#fb9f3a\"],[0.8888888888888888,\"#fdca26\"],[1.0,\"#f0f921\"]],\"type\":\"contour\"}],\"contourcarpet\":[{\"colorbar\":{\"outlinewidth\":0,\"ticks\":\"\"},\"type\":\"contourcarpet\"}],\"heatmap\":[{\"colorbar\":{\"outlinewidth\":0,\"ticks\":\"\"},\"colorscale\":[[0.0,\"#0d0887\"],[0.1111111111111111,\"#46039f\"],[0.2222222222222222,\"#7201a8\"],[0.3333333333333333,\"#9c179e\"],[0.4444444444444444,\"#bd3786\"],[0.5555555555555556,\"#d8576b\"],[0.6666666666666666,\"#ed7953\"],[0.7777777777777778,\"#fb9f3a\"],[0.8888888888888888,\"#fdca26\"],[1.0,\"#f0f921\"]],\"type\":\"heatmap\"}],\"heatmapgl\":[{\"colorbar\":{\"outlinewidth\":0,\"ticks\":\"\"},\"colorscale\":[[0.0,\"#0d0887\"],[0.1111111111111111,\"#46039f\"],[0.2222222222222222,\"#7201a8\"],[0.3333333333333333,\"#9c179e\"],[0.4444444444444444,\"#bd3786\"],[0.5555555555555556,\"#d8576b\"],[0.6666666666666666,\"#ed7953\"],[0.7777777777777778,\"#fb9f3a\"],[0.8888888888888888,\"#fdca26\"],[1.0,\"#f0f921\"]],\"type\":\"heatmapgl\"}],\"histogram\":[{\"marker\":{\"pattern\":{\"fillmode\":\"overlay\",\"size\":10,\"solidity\":0.2}},\"type\":\"histogram\"}],\"histogram2d\":[{\"colorbar\":{\"outlinewidth\":0,\"ticks\":\"\"},\"colorscale\":[[0.0,\"#0d0887\"],[0.1111111111111111,\"#46039f\"],[0.2222222222222222,\"#7201a8\"],[0.3333333333333333,\"#9c179e\"],[0.4444444444444444,\"#bd3786\"],[0.5555555555555556,\"#d8576b\"],[0.6666666666666666,\"#ed7953\"],[0.7777777777777778,\"#fb9f3a\"],[0.8888888888888888,\"#fdca26\"],[1.0,\"#f0f921\"]],\"type\":\"histogram2d\"}],\"histogram2dcontour\":[{\"colorbar\":{\"outlinewidth\":0,\"ticks\":\"\"},\"colorscale\":[[0.0,\"#0d0887\"],[0.1111111111111111,\"#46039f\"],[0.2222222222222222,\"#7201a8\"],[0.3333333333333333,\"#9c179e\"],[0.4444444444444444,\"#bd3786\"],[0.5555555555555556,\"#d8576b\"],[0.6666666666666666,\"#ed7953\"],[0.7777777777777778,\"#fb9f3a\"],[0.8888888888888888,\"#fdca26\"],[1.0,\"#f0f921\"]],\"type\":\"histogram2dcontour\"}],\"mesh3d\":[{\"colorbar\":{\"outlinewidth\":0,\"ticks\":\"\"},\"type\":\"mesh3d\"}],\"parcoords\":[{\"line\":{\"colorbar\":{\"outlinewidth\":0,\"ticks\":\"\"}},\"type\":\"parcoords\"}],\"pie\":[{\"automargin\":true,\"type\":\"pie\"}],\"scatter\":[{\"marker\":{\"colorbar\":{\"outlinewidth\":0,\"ticks\":\"\"}},\"type\":\"scatter\"}],\"scatter3d\":[{\"line\":{\"colorbar\":{\"outlinewidth\":0,\"ticks\":\"\"}},\"marker\":{\"colorbar\":{\"outlinewidth\":0,\"ticks\":\"\"}},\"type\":\"scatter3d\"}],\"scattercarpet\":[{\"marker\":{\"colorbar\":{\"outlinewidth\":0,\"ticks\":\"\"}},\"type\":\"scattercarpet\"}],\"scattergeo\":[{\"marker\":{\"colorbar\":{\"outlinewidth\":0,\"ticks\":\"\"}},\"type\":\"scattergeo\"}],\"scattergl\":[{\"marker\":{\"colorbar\":{\"outlinewidth\":0,\"ticks\":\"\"}},\"type\":\"scattergl\"}],\"scattermapbox\":[{\"marker\":{\"colorbar\":{\"outlinewidth\":0,\"ticks\":\"\"}},\"type\":\"scattermapbox\"}],\"scatterpolar\":[{\"marker\":{\"colorbar\":{\"outlinewidth\":0,\"ticks\":\"\"}},\"type\":\"scatterpolar\"}],\"scatterpolargl\":[{\"marker\":{\"colorbar\":{\"outlinewidth\":0,\"ticks\":\"\"}},\"type\":\"scatterpolargl\"}],\"scatterternary\":[{\"marker\":{\"colorbar\":{\"outlinewidth\":0,\"ticks\":\"\"}},\"type\":\"scatterternary\"}],\"surface\":[{\"colorbar\":{\"outlinewidth\":0,\"ticks\":\"\"},\"colorscale\":[[0.0,\"#0d0887\"],[0.1111111111111111,\"#46039f\"],[0.2222222222222222,\"#7201a8\"],[0.3333333333333333,\"#9c179e\"],[0.4444444444444444,\"#bd3786\"],[0.5555555555555556,\"#d8576b\"],[0.6666666666666666,\"#ed7953\"],[0.7777777777777778,\"#fb9f3a\"],[0.8888888888888888,\"#fdca26\"],[1.0,\"#f0f921\"]],\"type\":\"surface\"}],\"table\":[{\"cells\":{\"fill\":{\"color\":\"#EBF0F8\"},\"line\":{\"color\":\"white\"}},\"header\":{\"fill\":{\"color\":\"#C8D4E3\"},\"line\":{\"color\":\"white\"}},\"type\":\"table\"}]},\"layout\":{\"annotationdefaults\":{\"arrowcolor\":\"#2a3f5f\",\"arrowhead\":0,\"arrowwidth\":1},\"autotypenumbers\":\"strict\",\"coloraxis\":{\"colorbar\":{\"outlinewidth\":0,\"ticks\":\"\"}},\"colorscale\":{\"diverging\":[[0,\"#8e0152\"],[0.1,\"#c51b7d\"],[0.2,\"#de77ae\"],[0.3,\"#f1b6da\"],[0.4,\"#fde0ef\"],[0.5,\"#f7f7f7\"],[0.6,\"#e6f5d0\"],[0.7,\"#b8e186\"],[0.8,\"#7fbc41\"],[0.9,\"#4d9221\"],[1,\"#276419\"]],\"sequential\":[[0.0,\"#0d0887\"],[0.1111111111111111,\"#46039f\"],[0.2222222222222222,\"#7201a8\"],[0.3333333333333333,\"#9c179e\"],[0.4444444444444444,\"#bd3786\"],[0.5555555555555556,\"#d8576b\"],[0.6666666666666666,\"#ed7953\"],[0.7777777777777778,\"#fb9f3a\"],[0.8888888888888888,\"#fdca26\"],[1.0,\"#f0f921\"]],\"sequentialminus\":[[0.0,\"#0d0887\"],[0.1111111111111111,\"#46039f\"],[0.2222222222222222,\"#7201a8\"],[0.3333333333333333,\"#9c179e\"],[0.4444444444444444,\"#bd3786\"],[0.5555555555555556,\"#d8576b\"],[0.6666666666666666,\"#ed7953\"],[0.7777777777777778,\"#fb9f3a\"],[0.8888888888888888,\"#fdca26\"],[1.0,\"#f0f921\"]]},\"colorway\":[\"#636efa\",\"#EF553B\",\"#00cc96\",\"#ab63fa\",\"#FFA15A\",\"#19d3f3\",\"#FF6692\",\"#B6E880\",\"#FF97FF\",\"#FECB52\"],\"font\":{\"color\":\"#2a3f5f\"},\"geo\":{\"bgcolor\":\"white\",\"lakecolor\":\"white\",\"landcolor\":\"#E5ECF6\",\"showlakes\":true,\"showland\":true,\"subunitcolor\":\"white\"},\"hoverlabel\":{\"align\":\"left\"},\"hovermode\":\"closest\",\"mapbox\":{\"style\":\"light\"},\"paper_bgcolor\":\"white\",\"plot_bgcolor\":\"#E5ECF6\",\"polar\":{\"angularaxis\":{\"gridcolor\":\"white\",\"linecolor\":\"white\",\"ticks\":\"\"},\"bgcolor\":\"#E5ECF6\",\"radialaxis\":{\"gridcolor\":\"white\",\"linecolor\":\"white\",\"ticks\":\"\"}},\"scene\":{\"xaxis\":{\"backgroundcolor\":\"#E5ECF6\",\"gridcolor\":\"white\",\"gridwidth\":2,\"linecolor\":\"white\",\"showbackground\":true,\"ticks\":\"\",\"zerolinecolor\":\"white\"},\"yaxis\":{\"backgroundcolor\":\"#E5ECF6\",\"gridcolor\":\"white\",\"gridwidth\":2,\"linecolor\":\"white\",\"showbackground\":true,\"ticks\":\"\",\"zerolinecolor\":\"white\"},\"zaxis\":{\"backgroundcolor\":\"#E5ECF6\",\"gridcolor\":\"white\",\"gridwidth\":2,\"linecolor\":\"white\",\"showbackground\":true,\"ticks\":\"\",\"zerolinecolor\":\"white\"}},\"shapedefaults\":{\"line\":{\"color\":\"#2a3f5f\"}},\"ternary\":{\"aaxis\":{\"gridcolor\":\"white\",\"linecolor\":\"white\",\"ticks\":\"\"},\"baxis\":{\"gridcolor\":\"white\",\"linecolor\":\"white\",\"ticks\":\"\"},\"bgcolor\":\"#E5ECF6\",\"caxis\":{\"gridcolor\":\"white\",\"linecolor\":\"white\",\"ticks\":\"\"}},\"title\":{\"x\":0.05},\"xaxis\":{\"automargin\":true,\"gridcolor\":\"white\",\"linecolor\":\"white\",\"ticks\":\"\",\"title\":{\"standoff\":15},\"zerolinecolor\":\"white\",\"zerolinewidth\":2},\"yaxis\":{\"automargin\":true,\"gridcolor\":\"white\",\"linecolor\":\"white\",\"ticks\":\"\",\"title\":{\"standoff\":15},\"zerolinecolor\":\"white\",\"zerolinewidth\":2}}},\"scene\":{\"domain\":{\"x\":[0.0,1.0],\"y\":[0.0,1.0]},\"xaxis\":{\"title\":{\"text\":\"x\"}},\"yaxis\":{\"title\":{\"text\":\"y\"}},\"zaxis\":{\"title\":{\"text\":\"z\"}}},\"legend\":{\"title\":{\"text\":\"label\"},\"tracegroupgap\":0},\"margin\":{\"t\":60},\"height\":800,\"width\":1000},                        {\"responsive\": true}                    ).then(function(){\n",
       "                            \n",
       "var gd = document.getElementById('2e889118-bbe6-4a6f-be7d-b4ca31321703');\n",
       "var x = new MutationObserver(function (mutations, observer) {{\n",
       "        var display = window.getComputedStyle(gd).display;\n",
       "        if (!display || display === 'none') {{\n",
       "            console.log([gd, 'removed!']);\n",
       "            Plotly.purge(gd);\n",
       "            observer.disconnect();\n",
       "        }}\n",
       "}});\n",
       "\n",
       "// Listen for the removal of the full notebook cells\n",
       "var notebookContainer = gd.closest('#notebook-container');\n",
       "if (notebookContainer) {{\n",
       "    x.observe(notebookContainer, {childList: true});\n",
       "}}\n",
       "\n",
       "// Listen for the clearing of the current output cell\n",
       "var outputEl = gd.closest('.output');\n",
       "if (outputEl) {{\n",
       "    x.observe(outputEl, {childList: true});\n",
       "}}\n",
       "\n",
       "                        })                };                            </script>        </div>\n",
       "</body>\n",
       "</html>"
      ]
     },
     "metadata": {},
     "output_type": "display_data"
    }
   ],
   "source": [
    "import plotly.express as px\n",
    "\n",
    "fig = px.scatter_3d(df, x = 'x', y = 'y', z = 'z', color = \"label\", width=1000, height = 800, hover_data = [\"token\", \"label\"])\n",
    "\n",
    "fig.show()"
   ]
  }
 ],
 "metadata": {
  "accelerator": "TPU",
  "colab": {
   "machine_shape": "hm",
   "provenance": []
  },
  "gpuClass": "standard",
  "kernelspec": {
   "display_name": "Python 3",
   "language": "python",
   "name": "python3"
  },
  "language_info": {
   "codemirror_mode": {
    "name": "ipython",
    "version": 3
   },
   "file_extension": ".py",
   "mimetype": "text/x-python",
   "name": "python",
   "nbconvert_exporter": "python",
   "pygments_lexer": "ipython3",
   "version": "3.9.6 (default, Oct 18 2022, 12:41:40) \n[Clang 14.0.0 (clang-1400.0.29.202)]"
  },
  "vscode": {
   "interpreter": {
    "hash": "31f2aee4e71d21fbe5cf8b01ff0e069b9275f58929596ceb00d14d90e3e16cd6"
   }
  }
 },
 "nbformat": 4,
 "nbformat_minor": 5
}
