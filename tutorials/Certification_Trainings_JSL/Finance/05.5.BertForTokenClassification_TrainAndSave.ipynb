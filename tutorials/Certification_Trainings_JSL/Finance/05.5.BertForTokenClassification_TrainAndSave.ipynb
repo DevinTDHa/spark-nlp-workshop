{
  "cells": [
    {
      "cell_type": "markdown",
      "metadata": {
        "collapsed": false,
        "id": "RDayMKT-fgKA"
      },
      "source": [
        "![JohnSnowLabs](https://nlp.johnsnowlabs.com/assets/images/logo.png)"
      ]
    },
    {
      "cell_type": "markdown",
      "metadata": {
        "id": "3PaR_Jxcek01"
      },
      "source": [
        "# Finance BertForTokenClassification\n",
        "Using Hugging Face and importing it to Finance NLP for scalability.\n",
        "\n",
        "This is a transformer-based approach, which usually returns much bigger models (10x) compared to NerModel, but it can improve the performance over NerModel. We don't carry out evaluation in this notebook, only training with full data and export into Spark NLP. To check evaluation, please check previous notebook."
      ]
    },
    {
      "cell_type": "markdown",
      "metadata": {
        "id": "-lPn3DiN72gO"
      },
      "source": [
        "# Installation"
      ]
    },
    {
      "cell_type": "code",
      "execution_count": 1,
      "metadata": {
        "colab": {
          "base_uri": "https://localhost:8080/"
        },
        "id": "zoMfNqgRtLOg",
        "outputId": "c46d34c4-8c81-48d0-ef6c-d3547055a822"
      },
      "outputs": [
        {
          "name": "stdout",
          "output_type": "stream",
          "text": [
            "\u001b[?25l     \u001b[90m━━━━━━━━━━━━━━━━━━━━━━━━━━━━━━━━━━━━━━━━\u001b[0m \u001b[32m0.0/43.6 KB\u001b[0m \u001b[31m?\u001b[0m eta \u001b[36m-:--:--\u001b[0m\r\u001b[2K     \u001b[90m━━━━━━━━━━━━━━━━━━━━━━━━━━━━━━━━━━━━━━━━\u001b[0m \u001b[32m43.6/43.6 KB\u001b[0m \u001b[31m2.1 MB/s\u001b[0m eta \u001b[36m0:00:00\u001b[0m\n",
            "\u001b[?25h  Preparing metadata (setup.py) ... \u001b[?25l\u001b[?25hdone\n",
            "  Building wheel for seqeval (setup.py) ... \u001b[?25l\u001b[?25hdone\n"
          ]
        }
      ],
      "source": [
        "!pip -q install seqeval"
      ]
    },
    {
      "cell_type": "code",
      "execution_count": 2,
      "metadata": {
        "colab": {
          "base_uri": "https://localhost:8080/"
        },
        "id": "rwIqbitFoHtq",
        "outputId": "fda89b54-1070-412b-d5c7-47beffa98328"
      },
      "outputs": [
        {
          "name": "stdout",
          "output_type": "stream",
          "text": [
            "Looking in indexes: https://pypi.org/simple, https://us-python.pkg.dev/colab-wheels/public/simple/\n",
            "Collecting transformers==4.8.1\n",
            "  Downloading transformers-4.8.1-py3-none-any.whl (2.5 MB)\n",
            "\u001b[2K     \u001b[90m━━━━━━━━━━━━━━━━━━━━━━━━━━━━━━━━━━━━━━━━\u001b[0m \u001b[32m2.5/2.5 MB\u001b[0m \u001b[31m30.3 MB/s\u001b[0m eta \u001b[36m0:00:00\u001b[0m\n",
            "\u001b[?25hCollecting sacremoses\n",
            "  Downloading sacremoses-0.0.53.tar.gz (880 kB)\n",
            "\u001b[2K     \u001b[90m━━━━━━━━━━━━━━━━━━━━━━━━━━━━━━━━━━━━━━\u001b[0m \u001b[32m880.6/880.6 KB\u001b[0m \u001b[31m54.0 MB/s\u001b[0m eta \u001b[36m0:00:00\u001b[0m\n",
            "\u001b[?25h  Preparing metadata (setup.py) ... \u001b[?25l\u001b[?25hdone\n",
            "Collecting huggingface-hub==0.0.12\n",
            "  Downloading huggingface_hub-0.0.12-py3-none-any.whl (37 kB)\n",
            "Requirement already satisfied: packaging in /usr/local/lib/python3.8/dist-packages (from transformers==4.8.1) (21.3)\n",
            "Requirement already satisfied: tqdm>=4.27 in /usr/local/lib/python3.8/dist-packages (from transformers==4.8.1) (4.64.1)\n",
            "Requirement already satisfied: pyyaml in /usr/local/lib/python3.8/dist-packages (from transformers==4.8.1) (6.0)\n",
            "Requirement already satisfied: regex!=2019.12.17 in /usr/local/lib/python3.8/dist-packages (from transformers==4.8.1) (2022.6.2)\n",
            "Requirement already satisfied: filelock in /usr/local/lib/python3.8/dist-packages (from transformers==4.8.1) (3.9.0)\n",
            "Requirement already satisfied: numpy>=1.17 in /usr/local/lib/python3.8/dist-packages (from transformers==4.8.1) (1.21.6)\n",
            "Collecting tokenizers<0.11,>=0.10.1\n",
            "  Downloading tokenizers-0.10.3-cp38-cp38-manylinux_2_5_x86_64.manylinux1_x86_64.manylinux_2_12_x86_64.manylinux2010_x86_64.whl (3.3 MB)\n",
            "\u001b[2K     \u001b[90m━━━━━━━━━━━━━━━━━━━━━━━━━━━━━━━━━━━━━━━━\u001b[0m \u001b[32m3.3/3.3 MB\u001b[0m \u001b[31m79.5 MB/s\u001b[0m eta \u001b[36m0:00:00\u001b[0m\n",
            "\u001b[?25hRequirement already satisfied: requests in /usr/local/lib/python3.8/dist-packages (from transformers==4.8.1) (2.25.1)\n",
            "Requirement already satisfied: typing-extensions in /usr/local/lib/python3.8/dist-packages (from huggingface-hub==0.0.12->transformers==4.8.1) (4.4.0)\n",
            "Requirement already satisfied: pyparsing!=3.0.5,>=2.0.2 in /usr/local/lib/python3.8/dist-packages (from packaging->transformers==4.8.1) (3.0.9)\n",
            "Requirement already satisfied: chardet<5,>=3.0.2 in /usr/local/lib/python3.8/dist-packages (from requests->transformers==4.8.1) (4.0.0)\n",
            "Requirement already satisfied: urllib3<1.27,>=1.21.1 in /usr/local/lib/python3.8/dist-packages (from requests->transformers==4.8.1) (1.24.3)\n",
            "Requirement already satisfied: idna<3,>=2.5 in /usr/local/lib/python3.8/dist-packages (from requests->transformers==4.8.1) (2.10)\n",
            "Requirement already satisfied: certifi>=2017.4.17 in /usr/local/lib/python3.8/dist-packages (from requests->transformers==4.8.1) (2022.12.7)\n",
            "Requirement already satisfied: six in /usr/local/lib/python3.8/dist-packages (from sacremoses->transformers==4.8.1) (1.15.0)\n",
            "Requirement already satisfied: click in /usr/local/lib/python3.8/dist-packages (from sacremoses->transformers==4.8.1) (7.1.2)\n",
            "Requirement already satisfied: joblib in /usr/local/lib/python3.8/dist-packages (from sacremoses->transformers==4.8.1) (1.2.0)\n",
            "Building wheels for collected packages: sacremoses\n",
            "  Building wheel for sacremoses (setup.py) ... \u001b[?25l\u001b[?25hdone\n",
            "  Created wheel for sacremoses: filename=sacremoses-0.0.53-py3-none-any.whl size=895260 sha256=163c7eef248fdd611e3b6366c17b84af811e408ca963374085696272825e02ce\n",
            "  Stored in directory: /root/.cache/pip/wheels/82/ab/9b/c15899bf659ba74f623ac776e861cf2eb8608c1825ddec66a4\n",
            "Successfully built sacremoses\n",
            "Installing collected packages: tokenizers, sacremoses, huggingface-hub, transformers\n",
            "Successfully installed huggingface-hub-0.0.12 sacremoses-0.0.53 tokenizers-0.10.3 transformers-4.8.1\n",
            "Looking in indexes: https://pypi.org/simple, https://us-python.pkg.dev/colab-wheels/public/simple/\n",
            "Collecting pyspark==3.1.2\n",
            "  Downloading pyspark-3.1.2.tar.gz (212.4 MB)\n",
            "\u001b[2K     \u001b[90m━━━━━━━━━━━━━━━━━━━━━━━━━━━━━━━━━━━━━━━\u001b[0m \u001b[32m212.4/212.4 MB\u001b[0m \u001b[31m6.9 MB/s\u001b[0m eta \u001b[36m0:00:00\u001b[0m\n",
            "\u001b[?25h  Preparing metadata (setup.py) ... \u001b[?25l\u001b[?25hdone\n",
            "Collecting py4j==0.10.9\n",
            "  Downloading py4j-0.10.9-py2.py3-none-any.whl (198 kB)\n",
            "\u001b[2K     \u001b[90m━━━━━━━━━━━━━━━━━━━━━━━━━━━━━━━━━━━━━━\u001b[0m \u001b[32m198.6/198.6 KB\u001b[0m \u001b[31m21.4 MB/s\u001b[0m eta \u001b[36m0:00:00\u001b[0m\n",
            "\u001b[?25hBuilding wheels for collected packages: pyspark\n",
            "  Building wheel for pyspark (setup.py) ... \u001b[?25l\u001b[?25hdone\n",
            "  Created wheel for pyspark: filename=pyspark-3.1.2-py2.py3-none-any.whl size=212880769 sha256=099beb5d681569793dc4f631161f8b44ed5020f6b87b3813ab98345b50e2b8e3\n",
            "  Stored in directory: /root/.cache/pip/wheels/df/88/9e/58ef1f74892fef590330ca0830b5b6d995ba29b44f977b3926\n",
            "Successfully built pyspark\n",
            "Installing collected packages: py4j, pyspark\n",
            "Successfully installed py4j-0.10.9 pyspark-3.1.2\n"
          ]
        }
      ],
      "source": [
        "! pip install transformers==4.8.1\n",
        "! pip install pyspark==3.1.2"
      ]
    },
    {
      "cell_type": "markdown",
      "metadata": {
        "id": "bp6w0FyRfIgX"
      },
      "source": [
        "# Setting name of the project"
      ]
    },
    {
      "cell_type": "code",
      "execution_count": 3,
      "metadata": {
        "id": "85VnDQRj5QuX"
      },
      "outputs": [],
      "source": [
        "import os\n",
        "os.environ['PROJECT_NAME'] = 'financial_operations'\n",
        "PROJECT_NAME = os.getenv('PROJECT_NAME')"
      ]
    },
    {
      "cell_type": "code",
      "execution_count": 4,
      "metadata": {
        "colab": {
          "base_uri": "https://localhost:8080/",
          "height": 35
        },
        "id": "iCdSFJbE5tcw",
        "outputId": "14681e38-7cca-4501-cc72-4143a8e1ebc0"
      },
      "outputs": [
        {
          "data": {
            "application/vnd.google.colaboratory.intrinsic+json": {
              "type": "string"
            },
            "text/plain": [
              "'financial_operations'"
            ]
          },
          "execution_count": 4,
          "metadata": {},
          "output_type": "execute_result"
        }
      ],
      "source": [
        "PROJECT_NAME"
      ]
    },
    {
      "cell_type": "markdown",
      "metadata": {
        "id": "kEvXZO_TuhkH"
      },
      "source": [
        "# Imports"
      ]
    },
    {
      "cell_type": "code",
      "execution_count": 5,
      "metadata": {
        "id": "F9Yxer2wuizZ"
      },
      "outputs": [],
      "source": [
        "import torch\n",
        "from torch.utils.data import TensorDataset, DataLoader, RandomSampler, SequentialSampler\n",
        "from transformers import BertTokenizer, BertConfig\n",
        "\n",
        "from keras_preprocessing.sequence import pad_sequences\n",
        "from sklearn.model_selection import train_test_split\n",
        "from google.colab import files\n",
        "\n",
        "import pandas as pd\n",
        "import numpy as np\n",
        "from tqdm import tqdm, trange\n",
        "\n",
        "import transformers\n",
        "from transformers import BertForTokenClassification, TFBertForTokenClassification, AdamW\n",
        "from transformers import get_linear_schedule_with_warmup\n",
        "\n",
        "from sklearn.metrics import classification_report"
      ]
    },
    {
      "cell_type": "markdown",
      "metadata": {
        "id": "6ZVF2kvevCGZ"
      },
      "source": [
        "## Setting up Torch"
      ]
    },
    {
      "cell_type": "code",
      "execution_count": 6,
      "metadata": {
        "colab": {
          "base_uri": "https://localhost:8080/",
          "height": 35
        },
        "id": "48k2DViAvEMe",
        "outputId": "9a5c3420-b25a-477f-9158-cc63a100249b"
      },
      "outputs": [
        {
          "data": {
            "application/vnd.google.colaboratory.intrinsic+json": {
              "type": "string"
            },
            "text/plain": [
              "'1.13.0+cu116'"
            ]
          },
          "execution_count": 6,
          "metadata": {},
          "output_type": "execute_result"
        }
      ],
      "source": [
        "torch.__version__"
      ]
    },
    {
      "cell_type": "code",
      "execution_count": 7,
      "metadata": {
        "colab": {
          "base_uri": "https://localhost:8080/",
          "height": 35
        },
        "id": "F3rwT34cw0Mv",
        "outputId": "7789c6dd-ce23-4ec2-813b-e69e2ac87cf2"
      },
      "outputs": [
        {
          "data": {
            "application/vnd.google.colaboratory.intrinsic+json": {
              "type": "string"
            },
            "text/plain": [
              "'Tesla T4'"
            ]
          },
          "execution_count": 7,
          "metadata": {},
          "output_type": "execute_result"
        }
      ],
      "source": [
        "device = torch.device(\"cuda\" if torch.cuda.is_available() else \"cpu\")\n",
        "n_gpu = torch.cuda.device_count()\n",
        "\n",
        "torch.cuda.get_device_name(0)"
      ]
    },
    {
      "cell_type": "markdown",
      "metadata": {
        "id": "rXgdr64B79_d"
      },
      "source": [
        "# Check that files are available"
      ]
    },
    {
      "cell_type": "code",
      "execution_count": 14,
      "metadata": {
        "id": "J9yHnZeNepgm"
      },
      "outputs": [],
      "source": [
        "! wget -q https://github.com/JohnSnowLabs/spark-nlp-workshop/blob/master/tutorials/Certification_Trainings_JSL/Legal/data/conll_noO.conll"
      ]
    },
    {
      "cell_type": "code",
      "execution_count": 8,
      "metadata": {
        "colab": {
          "base_uri": "https://localhost:8080/"
        },
        "id": "Fe7x0snlYCxY",
        "outputId": "6ac4f6cd-e743-4958-b6f0-2e6aea56d251"
      },
      "outputs": [
        {
          "name": "stdout",
          "output_type": "stream",
          "text": [
            "head: cannot open 'conll_noO.conll' for reading: No such file or directory\n"
          ]
        }
      ],
      "source": [
        "!head -n 20 conll_noO.conll"
      ]
    },
    {
      "cell_type": "markdown",
      "metadata": {
        "id": "c8H1P-jwe8CF"
      },
      "source": [
        "# Creating folders for logs and checkpoints"
      ]
    },
    {
      "cell_type": "code",
      "execution_count": 9,
      "metadata": {
        "id": "_Tbd2bI9hkUn"
      },
      "outputs": [],
      "source": [
        "!mkdir {PROJECT_NAME}"
      ]
    },
    {
      "cell_type": "code",
      "execution_count": 10,
      "metadata": {
        "id": "oUc4B7NThUK3"
      },
      "outputs": [],
      "source": [
        "!mkdir {PROJECT_NAME}/logs"
      ]
    },
    {
      "cell_type": "markdown",
      "metadata": {
        "id": "PTUf3GUWuslz"
      },
      "source": [
        "# Starting a Spark Session for SparkNLP"
      ]
    },
    {
      "cell_type": "code",
      "execution_count": 11,
      "metadata": {
        "colab": {
          "base_uri": "https://localhost:8080/",
          "height": 73
        },
        "id": "PuCfCrbK6eWq",
        "outputId": "e630db73-b5a2-4cf1-a851-461e22cc3abe"
      },
      "outputs": [
        {
          "data": {
            "text/html": [
              "\n",
              "     <input type=\"file\" id=\"files-2b6ae6f1-de1e-46b3-ac60-17a1593c52fc\" name=\"files[]\" multiple disabled\n",
              "        style=\"border:none\" />\n",
              "     <output id=\"result-2b6ae6f1-de1e-46b3-ac60-17a1593c52fc\">\n",
              "      Upload widget is only available when the cell has been executed in the\n",
              "      current browser session. Please rerun this cell to enable.\n",
              "      </output>\n",
              "      <script>// Copyright 2017 Google LLC\n",
              "//\n",
              "// Licensed under the Apache License, Version 2.0 (the \"License\");\n",
              "// you may not use this file except in compliance with the License.\n",
              "// You may obtain a copy of the License at\n",
              "//\n",
              "//      http://www.apache.org/licenses/LICENSE-2.0\n",
              "//\n",
              "// Unless required by applicable law or agreed to in writing, software\n",
              "// distributed under the License is distributed on an \"AS IS\" BASIS,\n",
              "// WITHOUT WARRANTIES OR CONDITIONS OF ANY KIND, either express or implied.\n",
              "// See the License for the specific language governing permissions and\n",
              "// limitations under the License.\n",
              "\n",
              "/**\n",
              " * @fileoverview Helpers for google.colab Python module.\n",
              " */\n",
              "(function(scope) {\n",
              "function span(text, styleAttributes = {}) {\n",
              "  const element = document.createElement('span');\n",
              "  element.textContent = text;\n",
              "  for (const key of Object.keys(styleAttributes)) {\n",
              "    element.style[key] = styleAttributes[key];\n",
              "  }\n",
              "  return element;\n",
              "}\n",
              "\n",
              "// Max number of bytes which will be uploaded at a time.\n",
              "const MAX_PAYLOAD_SIZE = 100 * 1024;\n",
              "\n",
              "function _uploadFiles(inputId, outputId) {\n",
              "  const steps = uploadFilesStep(inputId, outputId);\n",
              "  const outputElement = document.getElementById(outputId);\n",
              "  // Cache steps on the outputElement to make it available for the next call\n",
              "  // to uploadFilesContinue from Python.\n",
              "  outputElement.steps = steps;\n",
              "\n",
              "  return _uploadFilesContinue(outputId);\n",
              "}\n",
              "\n",
              "// This is roughly an async generator (not supported in the browser yet),\n",
              "// where there are multiple asynchronous steps and the Python side is going\n",
              "// to poll for completion of each step.\n",
              "// This uses a Promise to block the python side on completion of each step,\n",
              "// then passes the result of the previous step as the input to the next step.\n",
              "function _uploadFilesContinue(outputId) {\n",
              "  const outputElement = document.getElementById(outputId);\n",
              "  const steps = outputElement.steps;\n",
              "\n",
              "  const next = steps.next(outputElement.lastPromiseValue);\n",
              "  return Promise.resolve(next.value.promise).then((value) => {\n",
              "    // Cache the last promise value to make it available to the next\n",
              "    // step of the generator.\n",
              "    outputElement.lastPromiseValue = value;\n",
              "    return next.value.response;\n",
              "  });\n",
              "}\n",
              "\n",
              "/**\n",
              " * Generator function which is called between each async step of the upload\n",
              " * process.\n",
              " * @param {string} inputId Element ID of the input file picker element.\n",
              " * @param {string} outputId Element ID of the output display.\n",
              " * @return {!Iterable<!Object>} Iterable of next steps.\n",
              " */\n",
              "function* uploadFilesStep(inputId, outputId) {\n",
              "  const inputElement = document.getElementById(inputId);\n",
              "  inputElement.disabled = false;\n",
              "\n",
              "  const outputElement = document.getElementById(outputId);\n",
              "  outputElement.innerHTML = '';\n",
              "\n",
              "  const pickedPromise = new Promise((resolve) => {\n",
              "    inputElement.addEventListener('change', (e) => {\n",
              "      resolve(e.target.files);\n",
              "    });\n",
              "  });\n",
              "\n",
              "  const cancel = document.createElement('button');\n",
              "  inputElement.parentElement.appendChild(cancel);\n",
              "  cancel.textContent = 'Cancel upload';\n",
              "  const cancelPromise = new Promise((resolve) => {\n",
              "    cancel.onclick = () => {\n",
              "      resolve(null);\n",
              "    };\n",
              "  });\n",
              "\n",
              "  // Wait for the user to pick the files.\n",
              "  const files = yield {\n",
              "    promise: Promise.race([pickedPromise, cancelPromise]),\n",
              "    response: {\n",
              "      action: 'starting',\n",
              "    }\n",
              "  };\n",
              "\n",
              "  cancel.remove();\n",
              "\n",
              "  // Disable the input element since further picks are not allowed.\n",
              "  inputElement.disabled = true;\n",
              "\n",
              "  if (!files) {\n",
              "    return {\n",
              "      response: {\n",
              "        action: 'complete',\n",
              "      }\n",
              "    };\n",
              "  }\n",
              "\n",
              "  for (const file of files) {\n",
              "    const li = document.createElement('li');\n",
              "    li.append(span(file.name, {fontWeight: 'bold'}));\n",
              "    li.append(span(\n",
              "        `(${file.type || 'n/a'}) - ${file.size} bytes, ` +\n",
              "        `last modified: ${\n",
              "            file.lastModifiedDate ? file.lastModifiedDate.toLocaleDateString() :\n",
              "                                    'n/a'} - `));\n",
              "    const percent = span('0% done');\n",
              "    li.appendChild(percent);\n",
              "\n",
              "    outputElement.appendChild(li);\n",
              "\n",
              "    const fileDataPromise = new Promise((resolve) => {\n",
              "      const reader = new FileReader();\n",
              "      reader.onload = (e) => {\n",
              "        resolve(e.target.result);\n",
              "      };\n",
              "      reader.readAsArrayBuffer(file);\n",
              "    });\n",
              "    // Wait for the data to be ready.\n",
              "    let fileData = yield {\n",
              "      promise: fileDataPromise,\n",
              "      response: {\n",
              "        action: 'continue',\n",
              "      }\n",
              "    };\n",
              "\n",
              "    // Use a chunked sending to avoid message size limits. See b/62115660.\n",
              "    let position = 0;\n",
              "    do {\n",
              "      const length = Math.min(fileData.byteLength - position, MAX_PAYLOAD_SIZE);\n",
              "      const chunk = new Uint8Array(fileData, position, length);\n",
              "      position += length;\n",
              "\n",
              "      const base64 = btoa(String.fromCharCode.apply(null, chunk));\n",
              "      yield {\n",
              "        response: {\n",
              "          action: 'append',\n",
              "          file: file.name,\n",
              "          data: base64,\n",
              "        },\n",
              "      };\n",
              "\n",
              "      let percentDone = fileData.byteLength === 0 ?\n",
              "          100 :\n",
              "          Math.round((position / fileData.byteLength) * 100);\n",
              "      percent.textContent = `${percentDone}% done`;\n",
              "\n",
              "    } while (position < fileData.byteLength);\n",
              "  }\n",
              "\n",
              "  // All done.\n",
              "  yield {\n",
              "    response: {\n",
              "      action: 'complete',\n",
              "    }\n",
              "  };\n",
              "}\n",
              "\n",
              "scope.google = scope.google || {};\n",
              "scope.google.colab = scope.google.colab || {};\n",
              "scope.google.colab._files = {\n",
              "  _uploadFiles,\n",
              "  _uploadFilesContinue,\n",
              "};\n",
              "})(self);\n",
              "</script> "
            ],
            "text/plain": [
              "<IPython.core.display.HTML object>"
            ]
          },
          "metadata": {},
          "output_type": "display_data"
        },
        {
          "name": "stdout",
          "output_type": "stream",
          "text": [
            "Saving spark_nlp_for_healthcare_spark_ocr_7187.json to spark_nlp_for_healthcare_spark_ocr_7187.json\n"
          ]
        }
      ],
      "source": [
        "import json\n",
        "import os\n",
        "\n",
        "from google.colab import files\n",
        "\n",
        "license_keys = files.upload()\n",
        "\n",
        "with open(list(license_keys.keys())[0]) as f:\n",
        "    license_keys = json.load(f)\n",
        "\n",
        "# Defining license key-value pairs as local variables\n",
        "locals().update(license_keys)\n",
        "\n",
        "# Adding license key-value pairs to environment variables\n",
        "os.environ.update(license_keys)"
      ]
    },
    {
      "cell_type": "code",
      "execution_count": 12,
      "metadata": {
        "colab": {
          "base_uri": "https://localhost:8080/"
        },
        "id": "frvjijxroKy9",
        "outputId": "5cdfb4b1-7d2d-44f8-b212-29c156d433d3"
      },
      "outputs": [
        {
          "name": "stdout",
          "output_type": "stream",
          "text": [
            "\u001b[2K     \u001b[90m━━━━━━━━━━━━━━━━━━━━━━━━━━━━━━━━━━━━━━━\u001b[0m \u001b[32m448.4/448.4 KB\u001b[0m \u001b[31m9.7 MB/s\u001b[0m eta \u001b[36m0:00:00\u001b[0m\n",
            "\u001b[2K     \u001b[90m━━━━━━━━━━━━━━━━━━━━━━━━━━━━━━━━━━━━━━━\u001b[0m \u001b[32m358.9/358.9 KB\u001b[0m \u001b[31m4.4 MB/s\u001b[0m eta \u001b[36m0:00:00\u001b[0m\n",
            "\u001b[2K     \u001b[90m━━━━━━━━━━━━━━━━━━━━━━━━━━━━━━━━━━━━━━━━\u001b[0m \u001b[32m95.6/95.6 KB\u001b[0m \u001b[31m4.2 MB/s\u001b[0m eta \u001b[36m0:00:00\u001b[0m\n",
            "\u001b[2K     \u001b[90m━━━━━━━━━━━━━━━━━━━━━━━━━━━━━━━━━━━━━━━━\u001b[0m \u001b[32m66.9/66.9 KB\u001b[0m \u001b[31m9.1 MB/s\u001b[0m eta \u001b[36m0:00:00\u001b[0m\n",
            "\u001b[2K     \u001b[90m━━━━━━━━━━━━━━━━━━━━━━━━━━━━━━━━━━━━━━━━\u001b[0m \u001b[32m1.6/1.6 MB\u001b[0m \u001b[31m32.4 MB/s\u001b[0m eta \u001b[36m0:00:00\u001b[0m\n",
            "\u001b[?25h"
          ]
        }
      ],
      "source": [
        "# Installing pyspark and spark-nlp\n",
        "! pip install --upgrade -q pyspark==3.1.2 spark-nlp==$PUBLIC_VERSION\n",
        "\n",
        "# Installing Spark NLP Healthcare\n",
        "! pip install --upgrade -q spark-nlp-jsl==$JSL_VERSION  --extra-index-url https://pypi.johnsnowlabs.com/$SECRET\n",
        "\n",
        "# Installing Spark NLP Display Library for visualization\n",
        "! pip install -q spark-nlp-display"
      ]
    },
    {
      "cell_type": "code",
      "execution_count": 13,
      "metadata": {
        "colab": {
          "base_uri": "https://localhost:8080/",
          "height": 254
        },
        "id": "IJ4Dg2ZesrEi",
        "outputId": "56b13359-e42b-4d04-b4af-d55f35b1a82f"
      },
      "outputs": [
        {
          "name": "stdout",
          "output_type": "stream",
          "text": [
            "Spark NLP Version : 4.2.4\n",
            "Spark NLP_JSL Version : 4.2.4\n"
          ]
        },
        {
          "data": {
            "text/html": [
              "\n",
              "            <div>\n",
              "                <p><b>SparkSession - in-memory</b></p>\n",
              "                \n",
              "        <div>\n",
              "            <p><b>SparkContext</b></p>\n",
              "\n",
              "            <p><a href=\"http://15548848b145:4040\">Spark UI</a></p>\n",
              "\n",
              "            <dl>\n",
              "              <dt>Version</dt>\n",
              "                <dd><code>v3.1.2</code></dd>\n",
              "              <dt>Master</dt>\n",
              "                <dd><code>local[*]</code></dd>\n",
              "              <dt>AppName</dt>\n",
              "                <dd><code>Spark NLP Licensed</code></dd>\n",
              "            </dl>\n",
              "        </div>\n",
              "        \n",
              "            </div>\n",
              "        "
            ],
            "text/plain": [
              "<pyspark.sql.session.SparkSession at 0x7f0dfcb59070>"
            ]
          },
          "execution_count": 13,
          "metadata": {},
          "output_type": "execute_result"
        }
      ],
      "source": [
        "import json\n",
        "import os\n",
        "\n",
        "import sparknlp\n",
        "import sparknlp_jsl\n",
        "\n",
        "from sparknlp.base import *\n",
        "from sparknlp.annotator import *\n",
        "from sparknlp_jsl.annotator import *\n",
        "\n",
        "from pyspark.sql import SparkSession\n",
        "from pyspark.sql import functions as F\n",
        "from pyspark.ml import Pipeline,PipelineModel\n",
        "\n",
        "import warnings\n",
        "warnings.filterwarnings('ignore')\n",
        "\n",
        "params = {\"spark.driver.memory\":\"16G\", \n",
        "          \"spark.kryoserializer.buffer.max\":\"2000M\", \n",
        "          \"spark.driver.maxResultSize\":\"2000M\"} \n",
        "\n",
        "print(\"Spark NLP Version :\", sparknlp.version())\n",
        "print(\"Spark NLP_JSL Version :\", sparknlp_jsl.version())\n",
        "\n",
        "spark = sparknlp_jsl.start(license_keys['SECRET'],params=params)\n",
        "\n",
        "spark"
      ]
    },
    {
      "cell_type": "markdown",
      "metadata": {
        "id": "vrwN2hCR8HH6"
      },
      "source": [
        "# Convert JSL conlls in dataframe format"
      ]
    },
    {
      "cell_type": "code",
      "execution_count": 15,
      "metadata": {
        "id": "lBBV98gqo90p"
      },
      "outputs": [],
      "source": [
        "from sparknlp.training import CoNLL\n",
        "\n",
        "def get_conll_df(pth):\n",
        "  data = CoNLL().readDataset(spark, pth)\n",
        "  data = data.withColumn(\"sentence_idx\", F.monotonically_increasing_id())\n",
        "\n",
        "  df = data.select('sentence_idx', F.explode(F.arrays_zip('token.result','label.result','pos.result')).alias(\"cols\")) \\\n",
        "  .select('sentence_idx',\n",
        "          F.expr(\"cols['0']\").alias(\"word\"),\n",
        "          F.expr(\"cols['1']\").alias(\"tag\"),\n",
        "          F.expr(\"cols['2']\").alias(\"pos\")).toPandas()\n",
        "  return df\n",
        "\n",
        "train_data_df = get_conll_df('./conll_noO.conll')"
      ]
    },
    {
      "cell_type": "code",
      "execution_count": 16,
      "metadata": {
        "colab": {
          "base_uri": "https://localhost:8080/"
        },
        "id": "pg3k2mCMqsaY",
        "outputId": "7fca3a28-fd97-4559-8b2f-617568930ae8"
      },
      "outputs": [
        {
          "data": {
            "text/plain": [
              "type=\"application/javascript\"                                     39\n",
              "viewBox=\"0                                                        39\n",
              "d-block                                                           26\n",
              "                                                                  22\n",
              "flex-shrink-0                                                     13\n",
              "                                                                  ..\n",
              "rel=\"author\"                                                       1\n",
              "color-fg-muted\">/</span>                                           1\n",
              "flex-self-stretch\">                                                1\n",
              "href=\"/JohnSnowLabs/spark-nlp-workshop\">spark-nlp-workshop</a>     1\n",
              "aria-live=\"polite\"                                                 1\n",
              "Name: tag, Length: 246, dtype: int64"
            ]
          },
          "execution_count": 16,
          "metadata": {},
          "output_type": "execute_result"
        }
      ],
      "source": [
        "train_data_df['tag'].value_counts()"
      ]
    },
    {
      "cell_type": "markdown",
      "metadata": {
        "id": "lu_Kwnh28jMZ"
      },
      "source": [
        "# First, train / fine-tune a model on the dataset"
      ]
    },
    {
      "cell_type": "markdown",
      "metadata": {
        "id": "Rmgghg5ZvQNE"
      },
      "source": [
        "## Iterating function to feed the model with sentences\n",
        "Converting conll sentence annotations to tuples (word, pos, tag)"
      ]
    },
    {
      "cell_type": "code",
      "execution_count": 17,
      "metadata": {
        "id": "JM2VMINvlpbM"
      },
      "outputs": [],
      "source": [
        "## convert conll file to sentences\n",
        "\n",
        "class SentenceGetter(object):\n",
        "    \n",
        "    def __init__(self, dataset):\n",
        "        self.n_sent = 1\n",
        "        self.dataset = dataset\n",
        "        self.empty = False\n",
        "        agg_func = lambda s: [(w,p, t) for w,p, t in zip(s[\"word\"].values.tolist(),\n",
        "                                                       s['pos'].values.tolist(),\n",
        "                                                        s[\"tag\"].values.tolist())]\n",
        "        self.grouped = self.dataset.groupby(\"sentence_idx\").apply(agg_func)\n",
        "        self.sentences = [s for s in self.grouped]\n",
        "    \n",
        "    def get_next(self):\n",
        "        try:\n",
        "            s = self.grouped[\"Sentence: {}\".format(self.n_sent)]\n",
        "            self.n_sent += 1\n",
        "            return s\n",
        "        except:\n",
        "            return None\n",
        "\n",
        "train_getter = SentenceGetter(train_data_df)"
      ]
    },
    {
      "cell_type": "markdown",
      "metadata": {
        "id": "sIirptrGvzx5"
      },
      "source": [
        "## Getting sentences and labels\n",
        "- Sentences: concatenation of first element of tuple (word)\n",
        "- Labels: concatenation of second element of tuple (label)"
      ]
    },
    {
      "cell_type": "code",
      "execution_count": 18,
      "metadata": {
        "colab": {
          "base_uri": "https://localhost:8080/"
        },
        "id": "1NqDzKVaqnfC",
        "outputId": "ab4adb58-c452-4745-f883-e3cf1136b68e"
      },
      "outputs": [
        {
          "name": "stdout",
          "output_type": "stream",
          "text": [
            "Example of train sentence:\n",
            "['<script', '<script', '<script', '<script', '<script', '<script', '<script', '<script', '<script', '<script', '<script', '<script', '<script', '<script', '<script', '<script', '<script', '<script', '<script', '<script', '<script', '<script', '<script', '<script', '<script', '<script', '<script', '<script', '<script', '<script', '<script', '<script', '<script', '<script', '<script', '<script', '<script', '<script']\n",
            "Example of train sentence:\n",
            "['type=\"application/javascript\"', 'type=\"application/javascript\"', 'type=\"application/javascript\"', 'type=\"application/javascript\"', 'type=\"application/javascript\"', 'type=\"application/javascript\"', 'type=\"application/javascript\"', 'type=\"application/javascript\"', 'type=\"application/javascript\"', 'type=\"application/javascript\"', 'type=\"application/javascript\"', 'type=\"application/javascript\"', 'type=\"application/javascript\"', 'type=\"application/javascript\"', 'type=\"application/javascript\"', 'type=\"application/javascript\"', 'type=\"application/javascript\"', 'type=\"application/javascript\"', 'type=\"application/javascript\"', 'type=\"application/javascript\"', 'type=\"application/javascript\"', 'type=\"application/javascript\"', 'type=\"application/javascript\"', 'type=\"application/javascript\"', 'type=\"application/javascript\"', 'type=\"application/javascript\"', 'type=\"application/javascript\"', 'type=\"application/javascript\"', 'type=\"application/javascript\"', 'type=\"application/javascript\"', 'type=\"application/javascript\"', 'type=\"application/javascript\"', 'type=\"application/javascript\"', 'type=\"application/javascript\"', 'type=\"application/javascript\"', 'type=\"application/javascript\"', 'type=\"application/javascript\"', 'type=\"application/javascript\"']\n"
          ]
        }
      ],
      "source": [
        "# Sentences \n",
        "train_sentences = [[word[0] for word in sentence] for sentence in train_getter.sentences]\n",
        "print(\"Example of train sentence:\")\n",
        "print (train_sentences[5])\n",
        "\n",
        "# Labels\n",
        "train_labels = [[s[2] for s in sentence] for sentence in train_getter.sentences]\n",
        "print(\"Example of train sentence:\")\n",
        "print(train_labels[5])"
      ]
    },
    {
      "cell_type": "markdown",
      "metadata": {
        "id": "_348YlM6wIVF"
      },
      "source": [
        "## Converting tags to numeric values with a dict"
      ]
    },
    {
      "cell_type": "code",
      "execution_count": 19,
      "metadata": {
        "id": "0TQ27sykwKV9"
      },
      "outputs": [],
      "source": [
        "tag_values = list(set(train_data_df[\"tag\"].values))\n",
        "tag_values.append(\"PAD\")\n",
        "tag2idx = {t: i for i, t in enumerate(tag_values)}"
      ]
    },
    {
      "cell_type": "code",
      "execution_count": 20,
      "metadata": {
        "colab": {
          "base_uri": "https://localhost:8080/"
        },
        "id": "7sRlF42ltmxP",
        "outputId": "46cf706c-b433-43de-d09d-2d5943a24451"
      },
      "outputs": [
        {
          "name": "stdout",
          "output_type": "stream",
          "text": [
            "['', '3.073L9.573.677A.25.25', 'data-turbo-transient=\"true\"', 'title=\"GitHub\">', 'btn-octicon', 'crossOrigin=\"use-credentials\">', 'class=\"\">', 'data-view-component=\"true\"', 'vulnerabilities', 'position-relative']\n",
            "{'': 0, '3.073L9.573.677A.25.25': 1, 'data-turbo-transient=\"true\"': 2, 'title=\"GitHub\">': 3, 'btn-octicon': 4, 'crossOrigin=\"use-credentials\">': 5, 'class=\"\">': 6, 'data-view-component=\"true\"': 7, 'vulnerabilities': 8, 'position-relative': 9, 'dark\"': 10, 'data-filter-placeholder=\"Filter': 11, 'env-production': 12, 'tooltipped': 13, 'rounded-2': 14, 'sign': 15, 'mb-2': 16, '4.22a.75.75': 17, 'flex-justify-end': 18, 'does': 19, 'data-light-theme=\"light\"': 20, 'flex-auto': 21, 'overflow-hidden': 22, 'd-flex\">': 23, 'role=\"img\"': 24, 'my-1\">By': 25, 'd-flex': 26, '2.5a.75.75': 27, 'data-hotkey=\"t\"': 28, 'data-hpc>': 29, 'href=\"https://github.com/pricing\"': 30, 'tooltipped-nw': 31, 'data-turbo-track=\"reload\">': 32, 'px-lg-0': 33, '1A1.75': 34, 'all': 35, 'border-0': 36, 'container-xl': 37, 'data-tab-item=\"i1issues-tab\"': 38, '1.75': 39, 'my-1\"></div></span>': 40, 'developers': 41, 'href=\"/JohnSnowLabs/spark-nlp-workshop\">spark-nlp-workshop</a>': 42, 'py-4': 43, 'hide-xl': 44, 'flash-warn': 45, 'data-tab-item=\"i6security-tab\"': 46, 'data-hydro-click-hmac=\"8b04d14cb260ea481882d62122584d47371ff9520c5b5507f3f8c984908640b3\"': 47, '\"': 48, 'href=\"/JohnSnowLabs/spark-nlp-workshop/delete/master/tutorials/Certification_Trainings_JSL/Legal/data/conll_noO.conll\">Delete': 49, 'tags\">': 50, '3a2': 51, 'class=\"SelectMenu-list\"': 52, 'navigation</h3>': 53, 'type=\"button\"': 54, '1.5': 55, 'href=\"/login?return_to=%2FJohnSnowLabs%2Fspark-nlp-workshop\"': 56, 'href=\"https://github.blog\"': 57, 'px-lg-4\">': 58, 'line</span>': 59, 'signed': 60, 'flex-items-baseline\"': 61, 'details-overlay-dark': 62, 'data-tab-item=\"i0code-tab\"': 63, 'code': 64, 'my-1\">Repositories</li>': 65, 'f5': 66, 'role=\"tab\"': 67, 'data-modal-dialog-overlay>': 68, '1.75a.25.25': 69, 'flex-self-stretch\">': 70, '/><meta': 71, 'path\"': 72, 'v-align-middle\">↵</span>': 73, 'Progress': 74, 'href=\"https://support.github.com?tags=dotcom-footer\"': 75, 'my-1\"></div>': 76, 'd-none': 77, 'jump': 78, 'already': 79, '0': 80, 'data-turbo-transient=\"\">': 81, 'jump-to-field': 82, 'details-overlay-dark\"': 83, 'height-fit': 84, '3.25a.75.75': 85, 'class=\"footer-octicon': 86, '\">': 87, 'data-tab-item=\"i3discussions-tab\"': 88, 'selected': 89, 'data-turbo-transient>': 90, '1.754a.25.25': 91, '6.22a.75.75': 92, 'runnable': 93, 'data-tab-item=\"i4actions-tab\"': 94, 'flex-wrap': 95, '3.22a.75.75': 96, 'rel=\"stylesheet\"': 97, 'px-3': 98, 'list-style-none\">': 99, '7a4.499': 100, '6.75C0': 101, '[],': 102, 'border-bottom': 103, 'text-right\">': 104, 'aria-hidden=\"true\">T</span>': 105, 'data-turbo-replace=\"\"': 106, 'my-1\">Explore</li>': 107, '}}/tutorials/Certification_Trainings_JSL/Legal/data/conll_noO.conll\"': 108, 'position-absolute\"': 109, 'type=\"image/svg+xml\"': 110, 'ReadME': 111, 'aria-modal=\"true\"': 112, 'my-1\">For</li>': 113, 'aria-hidden=\"true\">L</span>': 114, 'flex-column': 115, '0A1.75': 116, 'class=\"details-overlay': 117, 'loader-error\">Cannot': 118, 'py-md-0': 119, 'flash': 120, '1.75C0': 121, 'rel=\"author\"': 122, 'data-tab-item=\"i7insights-tab\"': 123, 'data-analytics-event=\"{&quot;category&quot;:&quot;Footer&quot;,&quot;action&quot;:&quot;go': 124, 'js-details-dialog-spinner\"></div>': 125, 'color-fg-muted\">/</span>': 126, 'css-truncate-overflow': 127, 'but': 128, 'd-block': 129, 'data-tab-item=\"i5projects-tab\"': 130, 'id=\"raw-url\"': 131, '}}\"': 132, 'p-0': 133, 'clicked': 134, 'show</div>': 135, 'js-flash-close\"': 136, 'data-hotkey=\"y\"': 137, 'col-lg-8\">': 138, 'dialog\"></summary>': 139, 'review</div>': 140, 'd-lg-none': 141, 'class=\"UnderlineNav-actions': 142, 'mr-3': 143, 'right-0': 144, 'col-5': 145, 'to': 146, 'js-branches-tags-tabs\"': 147, 'v-align-middle': 148, 'that': 149, 'viewBox=\"0': 150, '2.5A2.5': 151, 'class=\"p-0': 152, 'href=\"https://docs.github.com/en/github/site-policy/github-privacy-statement\"': 153, '0C3.58': 154, 'data-target=\"input-demux.control\"': 155, 'color:': 156, 'avatar-user': 157, 'pb-6\">': 158, 'href=\"https://docs.github.com\"': 159, 'href=\"/opensearch.xml\"': 160, 'flex-items-center\"': 161, '12a9.5': 162, 'class=\"js-path-segment': 163, 'crossorigin>': 164, '2.75a.25.25': 165, 'btn': 166, '7.002': 167, 'packages': 168, 'class=\"SelectMenu-list': 169, 'mt-3': 170, 'Sponsors</div>': 171, 'itemprop=\"author\">': 172, '8a6.5': 173, 'd-lg-inline-block\">': 174, 'flex-items-center': 175, '3.75C3.5': 176, 'pb-0': 177, 'requests</span>': 178, 'flex-order-2\"': 179, 'href=\"https://docs.github.com/en/github/site-policy/github-terms-of-service\"': 180, 'work': 181, 'details-overlay': 182, '3.396a.25.25': 183, 'Overlay-header--divided\">': 184, 'px-lg-4': 185, 'class=\"dropdown-menu': 186, 'ml-1': 187, '3.72a.75.75': 188, 'class=\"js-data-jump-to-suggestions-path-csrf\"': 189, 'data-toggle-for=\"branch-select-menu\"><svg': 190, 'col-1\">&nbsp;</div>': 191, 'with': 192, 'Popover-message--large': 193, 'no-underline': 194, 'data-tab-item=\"i2pull-requests-tab\"': 195, 'class=\"js-flash-alert\">': 196, 'height=\"16\"': 197, 'pb-3\"': 198, 'href=\"https://services.github.com\"': 199, 'width-fit': 200, 'role=\"tab\">Tags</button>': 201, 'px-0': 202, '·': 203, '1.75a.75.75': 204, 'class=\"btn\">': 205, 'page-responsive': 206, 'js-details-container': 207, 'data-turbo-action=\"advance\"': 208, 'file</span>': 209, 'Inc.': 210, 'rounded': 211, 'permalink\"': 212, 'git': 213, 'data-filter-placeholder=\"Find': 214, '1h4.146a.25.25': 215, 'data-hydro-click=\"{&quot;event_type&quot;:&quot;authentication.click&quot;,&quot;payload&quot;:{&quot;location_in_page&quot;:&quot;notification': 216, 'class=\"js-site-favicon\"': 217, 'my-1\">Case': 218, 'input-sm': 219, 'height=\"20\"': 220, 'js-ajax-error-dismiss\"': 221, 'data-pjax-transient=\"true\"/><meta': 222, 'dropdown-item\"': 223, 'style=\"width:': 224, 'pr-2': 225, 'data-turbo-replace=\"true\"': 226, 'r=\"7\"': 227, 'data-ga-click=\"Footer,': 228, 'flex-items-center\">': 229, 'type=\"application/javascript\"': 230, 'flex-shrink-0': 231, 'index': 232, '.25a.75.75': 233, '/>': 234, '2': 235, '</textarea></xmp>': 236, 'aria-live=\"polite\"': 237, 'href=\"https://www.githubstatus.com/\"': 238, 'aria-label=\"in': 239, 'data-hydro-click=\"{&quot;event_type&quot;:&quot;authentication.click&quot;,&quot;payload&quot;:{&quot;location_in_page&quot;:&quot;star': 240, 'color=\"#000000\">': 241, 'aria-expanded=\"false\"': 242, 'mr-0': 243, 'class=\"pt-3': 244, 'name=\"type\"': 245, 'PAD': 246}\n"
          ]
        }
      ],
      "source": [
        "print(tag_values[:10])\n",
        "print(tag2idx)"
      ]
    },
    {
      "cell_type": "markdown",
      "metadata": {
        "id": "pQpgb6uNwTon"
      },
      "source": [
        "## Model metadata"
      ]
    },
    {
      "cell_type": "markdown",
      "metadata": {
        "id": "llhtW7cwwXdp"
      },
      "source": [
        "### Bulding on top of biobert"
      ]
    },
    {
      "cell_type": "code",
      "execution_count": 21,
      "metadata": {
        "id": "xRrXpP6eQvF1"
      },
      "outputs": [],
      "source": [
        "MODEL_TO_TRAIN = 'yiyanghkust/finbert-pretrain'"
      ]
    },
    {
      "cell_type": "markdown",
      "metadata": {
        "id": "EPQ1iXCkwdaZ"
      },
      "source": [
        "### Hyperparam settings"
      ]
    },
    {
      "cell_type": "code",
      "execution_count": 22,
      "metadata": {
        "id": "WY1vbXSdqyCJ"
      },
      "outputs": [],
      "source": [
        "# Defining some key variables that will be used later on in the training\n",
        "MAX_LEN = 256\n",
        "TRAIN_BATCH_SIZE = 32\n",
        "VALID_BATCH_SIZE = 32\n",
        "EPOCHS = 10\n",
        "LEARNING_RATE = 2e-05"
      ]
    },
    {
      "cell_type": "markdown",
      "metadata": {
        "id": "nHkpIa-RuXH9"
      },
      "source": [
        "## Instantiating the proper tokenizer"
      ]
    },
    {
      "cell_type": "markdown",
      "metadata": {
        "id": "hHoIcg-8eFhn"
      },
      "source": [
        "IMPORTANT! Pay attention to the `do_lower_case` param, and set it to True if you have a lowercased language model. That means you will always need to do `lower()` on your inference texts!\n",
        "\n",
        "If the language model is not lowercase only, then leave it to False."
      ]
    },
    {
      "cell_type": "code",
      "execution_count": 23,
      "metadata": {
        "colab": {
          "base_uri": "https://localhost:8080/",
          "height": 49,
          "referenced_widgets": [
            "790b70912c2f47c4b6b94f1ca07fdbef",
            "0c7ad78ca2ee45e9a3e2ffd2b7f7300a",
            "f4e50fd005f444c4a0fe692f95f36902",
            "ad08d0f4848345c8bdc6fc14dfc33fcc",
            "077b85c0c0464d069ad80fcdea7eaea3",
            "74b7e5ca225749fd815e2439322d89b4",
            "9d6e18021ba1407a91b59bacaed7a899",
            "126f8cba5bb74467a318dc92270d363f",
            "4a1a855c416a481e9966287408e9bb2c",
            "04720090e35f42c496bcbf9c39aab5eb",
            "27367e6b0365420f8273fd7d3b2bdb36"
          ]
        },
        "id": "GCNyWqxbuZ0U",
        "outputId": "1bc137a3-5aaa-41c1-cf74-f6c555aa4705"
      },
      "outputs": [
        {
          "data": {
            "application/vnd.jupyter.widget-view+json": {
              "model_id": "790b70912c2f47c4b6b94f1ca07fdbef",
              "version_major": 2,
              "version_minor": 0
            },
            "text/plain": [
              "Downloading:   0%|          | 0.00/226k [00:00<?, ?B/s]"
            ]
          },
          "metadata": {},
          "output_type": "display_data"
        }
      ],
      "source": [
        "tokenizer = BertTokenizer.from_pretrained(MODEL_TO_TRAIN, do_lower_case=False)"
      ]
    },
    {
      "cell_type": "markdown",
      "metadata": {
        "id": "oZ9qgZthxDpf"
      },
      "source": [
        "### Tokenize and extend the labels in case a word is split"
      ]
    },
    {
      "cell_type": "code",
      "execution_count": 24,
      "metadata": {
        "id": "vgplIBl7xIeU"
      },
      "outputs": [],
      "source": [
        "def tokenize_and_preserve_labels(sentence, text_labels):\n",
        "    tokenized_sentence = []\n",
        "    labels = []\n",
        "\n",
        "    for word, label in zip(sentence, text_labels):\n",
        "\n",
        "        # Tokenize the word and count # of subwords the word is broken into\n",
        "        tokenized_word = tokenizer.tokenize(word)\n",
        "        n_subwords = len(tokenized_word)\n",
        "\n",
        "        # Add the tokenized word to the final tokenized word list\n",
        "        tokenized_sentence.extend(tokenized_word)\n",
        "\n",
        "        # Add the same label to the new list of labels `n_subwords` times\n",
        "        labels.extend([label] * n_subwords)\n",
        "\n",
        "    return tokenized_sentence, labels"
      ]
    },
    {
      "cell_type": "markdown",
      "metadata": {
        "id": "wv2q3gLOxMLo"
      },
      "source": [
        "## Tokenize and get tokens and labels"
      ]
    },
    {
      "cell_type": "code",
      "execution_count": 25,
      "metadata": {
        "id": "It320LLkFve9"
      },
      "outputs": [],
      "source": [
        "train_tokenized_texts_and_labels = [\n",
        "    tokenize_and_preserve_labels(sent, labs)\n",
        "    for sent, labs in zip(train_sentences, train_labels)\n",
        "]\n",
        "\n",
        "train_tokenized_texts_tokens = [token_label_pair[0] for token_label_pair in train_tokenized_texts_and_labels]\n",
        "\n",
        "train_tokenized_texts_labels = [token_label_pair[1] for token_label_pair in train_tokenized_texts_and_labels]"
      ]
    },
    {
      "cell_type": "code",
      "execution_count": 26,
      "metadata": {
        "colab": {
          "base_uri": "https://localhost:8080/"
        },
        "id": "IZil3Wfrxm9y",
        "outputId": "9f237c6c-745c-411a-b52e-b9613b891a0b"
      },
      "outputs": [
        {
          "name": "stdout",
          "output_type": "stream",
          "text": [
            "['<', 'script', '<', 'script', '<', 'script', '<', 'script', '<', 'script', '<', 'script', '<', 'script', '<', 'script', '<', 'script', '<', 'script', '<', 'script', '<', 'script', '<', 'script', '<', 'script', '<', 'script', '<', 'script', '<', 'script', '<', 'script', '<', 'script', '<', 'script', '<', 'script', '<', 'script', '<', 'script', '<', 'script', '<', 'script', '<', 'script', '<', 'script', '<', 'script', '<', 'script', '<', 'script', '<', 'script', '<', 'script', '<', 'script', '<', 'script', '<', 'script', '<', 'script', '<', 'script', '<', 'script']\n",
            "['type=\"application/javascript\"', 'type=\"application/javascript\"', 'type=\"application/javascript\"', 'type=\"application/javascript\"', 'type=\"application/javascript\"', 'type=\"application/javascript\"', 'type=\"application/javascript\"', 'type=\"application/javascript\"', 'type=\"application/javascript\"', 'type=\"application/javascript\"', 'type=\"application/javascript\"', 'type=\"application/javascript\"', 'type=\"application/javascript\"', 'type=\"application/javascript\"', 'type=\"application/javascript\"', 'type=\"application/javascript\"', 'type=\"application/javascript\"', 'type=\"application/javascript\"', 'type=\"application/javascript\"', 'type=\"application/javascript\"', 'type=\"application/javascript\"', 'type=\"application/javascript\"', 'type=\"application/javascript\"', 'type=\"application/javascript\"', 'type=\"application/javascript\"', 'type=\"application/javascript\"', 'type=\"application/javascript\"', 'type=\"application/javascript\"', 'type=\"application/javascript\"', 'type=\"application/javascript\"', 'type=\"application/javascript\"', 'type=\"application/javascript\"', 'type=\"application/javascript\"', 'type=\"application/javascript\"', 'type=\"application/javascript\"', 'type=\"application/javascript\"', 'type=\"application/javascript\"', 'type=\"application/javascript\"', 'type=\"application/javascript\"', 'type=\"application/javascript\"', 'type=\"application/javascript\"', 'type=\"application/javascript\"', 'type=\"application/javascript\"', 'type=\"application/javascript\"', 'type=\"application/javascript\"', 'type=\"application/javascript\"', 'type=\"application/javascript\"', 'type=\"application/javascript\"', 'type=\"application/javascript\"', 'type=\"application/javascript\"', 'type=\"application/javascript\"', 'type=\"application/javascript\"', 'type=\"application/javascript\"', 'type=\"application/javascript\"', 'type=\"application/javascript\"', 'type=\"application/javascript\"', 'type=\"application/javascript\"', 'type=\"application/javascript\"', 'type=\"application/javascript\"', 'type=\"application/javascript\"', 'type=\"application/javascript\"', 'type=\"application/javascript\"', 'type=\"application/javascript\"', 'type=\"application/javascript\"', 'type=\"application/javascript\"', 'type=\"application/javascript\"', 'type=\"application/javascript\"', 'type=\"application/javascript\"', 'type=\"application/javascript\"', 'type=\"application/javascript\"', 'type=\"application/javascript\"', 'type=\"application/javascript\"', 'type=\"application/javascript\"', 'type=\"application/javascript\"', 'type=\"application/javascript\"', 'type=\"application/javascript\"']\n"
          ]
        }
      ],
      "source": [
        "print(train_tokenized_texts_tokens[5])\n",
        "print(train_tokenized_texts_labels[5])"
      ]
    },
    {
      "cell_type": "markdown",
      "metadata": {
        "id": "ZDKbLrQnxQCV"
      },
      "source": [
        "## Converting tokens to id && padding sentences to have fixed length"
      ]
    },
    {
      "cell_type": "code",
      "execution_count": 27,
      "metadata": {
        "id": "6m89dg_yx5gN"
      },
      "outputs": [],
      "source": [
        "train_input_ids = pad_sequences([tokenizer.convert_tokens_to_ids(txt) for txt in train_tokenized_texts_tokens],\n",
        "                          maxlen=MAX_LEN, dtype=\"long\", value=0.0,\n",
        "                          truncating=\"post\", padding=\"post\")\n",
        "\n",
        "train_tags = pad_sequences([[tag2idx.get(l) for l in lab] for lab in train_tokenized_texts_labels],\n",
        "                     maxlen=MAX_LEN, value=tag2idx[\"PAD\"], padding=\"post\",\n",
        "                     dtype=\"long\", truncating=\"post\")"
      ]
    },
    {
      "cell_type": "code",
      "execution_count": 28,
      "metadata": {
        "colab": {
          "base_uri": "https://localhost:8080/"
        },
        "id": "A-bX2-QMx6GJ",
        "outputId": "1d88e6b4-d68d-42ab-de11-bc1728d454b3"
      },
      "outputs": [
        {
          "name": "stdout",
          "output_type": "stream",
          "text": [
            "[30838 11356 30838 11356 30838 11356 30838 11356 30838 11356 30838 11356\n",
            " 30838 11356 30838 11356 30838 11356 30838 11356 30838 11356 30838 11356\n",
            " 30838 11356 30838 11356 30838 11356 30838 11356 30838 11356 30838 11356\n",
            " 30838 11356 30838 11356 30838 11356 30838 11356 30838 11356 30838 11356\n",
            " 30838 11356 30838 11356 30838 11356 30838 11356 30838 11356 30838 11356\n",
            " 30838 11356 30838 11356 30838 11356 30838 11356 30838 11356 30838 11356\n",
            " 30838 11356 30838 11356     0     0     0     0     0     0     0     0\n",
            "     0     0     0     0     0     0     0     0     0     0     0     0\n",
            "     0     0     0     0     0     0     0     0     0     0     0     0\n",
            "     0     0     0     0     0     0     0     0     0     0     0     0\n",
            "     0     0     0     0     0     0     0     0     0     0     0     0\n",
            "     0     0     0     0     0     0     0     0     0     0     0     0\n",
            "     0     0     0     0     0     0     0     0     0     0     0     0\n",
            "     0     0     0     0     0     0     0     0     0     0     0     0\n",
            "     0     0     0     0     0     0     0     0     0     0     0     0\n",
            "     0     0     0     0     0     0     0     0     0     0     0     0\n",
            "     0     0     0     0     0     0     0     0     0     0     0     0\n",
            "     0     0     0     0     0     0     0     0     0     0     0     0\n",
            "     0     0     0     0     0     0     0     0     0     0     0     0\n",
            "     0     0     0     0     0     0     0     0     0     0     0     0\n",
            "     0     0     0     0     0     0     0     0     0     0     0     0\n",
            "     0     0     0     0]\n",
            "[230 230 230 230 230 230 230 230 230 230 230 230 230 230 230 230 230 230\n",
            " 230 230 230 230 230 230 230 230 230 230 230 230 230 230 230 230 230 230\n",
            " 230 230 230 230 230 230 230 230 230 230 230 230 230 230 230 230 230 230\n",
            " 230 230 230 230 230 230 230 230 230 230 230 230 230 230 230 230 230 230\n",
            " 230 230 230 230 246 246 246 246 246 246 246 246 246 246 246 246 246 246\n",
            " 246 246 246 246 246 246 246 246 246 246 246 246 246 246 246 246 246 246\n",
            " 246 246 246 246 246 246 246 246 246 246 246 246 246 246 246 246 246 246\n",
            " 246 246 246 246 246 246 246 246 246 246 246 246 246 246 246 246 246 246\n",
            " 246 246 246 246 246 246 246 246 246 246 246 246 246 246 246 246 246 246\n",
            " 246 246 246 246 246 246 246 246 246 246 246 246 246 246 246 246 246 246\n",
            " 246 246 246 246 246 246 246 246 246 246 246 246 246 246 246 246 246 246\n",
            " 246 246 246 246 246 246 246 246 246 246 246 246 246 246 246 246 246 246\n",
            " 246 246 246 246 246 246 246 246 246 246 246 246 246 246 246 246 246 246\n",
            " 246 246 246 246 246 246 246 246 246 246 246 246 246 246 246 246 246 246\n",
            " 246 246 246 246]\n"
          ]
        }
      ],
      "source": [
        "print(train_input_ids[5])\n",
        "print(train_tags[5])"
      ]
    },
    {
      "cell_type": "markdown",
      "metadata": {
        "id": "R2lX8dW0x44u"
      },
      "source": [
        "## Now that sentences are padded, I need to prevent attention from seeing pads (id=0)"
      ]
    },
    {
      "cell_type": "code",
      "execution_count": 29,
      "metadata": {
        "id": "npO2QNUqyVM3"
      },
      "outputs": [],
      "source": [
        "train_attention_masks = [[float(i != 0.0) for i in ii] for ii in train_input_ids]"
      ]
    },
    {
      "cell_type": "code",
      "execution_count": 30,
      "metadata": {
        "colab": {
          "base_uri": "https://localhost:8080/"
        },
        "id": "Z4utRy9BycD9",
        "outputId": "6c7bc58c-ab62-4cc6-913d-bf6bb3bf2399"
      },
      "outputs": [
        {
          "name": "stdout",
          "output_type": "stream",
          "text": [
            "[1.0, 1.0, 1.0, 1.0, 1.0, 1.0, 1.0, 1.0, 1.0, 1.0, 1.0, 1.0, 1.0, 1.0, 1.0, 1.0, 1.0, 1.0, 1.0, 1.0, 1.0, 1.0, 1.0, 1.0, 1.0, 1.0, 1.0, 1.0, 1.0, 1.0, 1.0, 1.0, 1.0, 1.0, 1.0, 1.0, 1.0, 1.0, 1.0, 1.0, 1.0, 1.0, 1.0, 1.0, 1.0, 1.0, 1.0, 1.0, 1.0, 1.0, 1.0, 1.0, 1.0, 1.0, 1.0, 1.0, 1.0, 1.0, 1.0, 1.0, 1.0, 1.0, 1.0, 1.0, 1.0, 1.0, 1.0, 1.0, 1.0, 1.0, 1.0, 1.0, 1.0, 1.0, 1.0, 1.0, 0.0, 0.0, 0.0, 0.0, 0.0, 0.0, 0.0, 0.0, 0.0, 0.0, 0.0, 0.0, 0.0, 0.0, 0.0, 0.0, 0.0, 0.0, 0.0, 0.0, 0.0, 0.0, 0.0, 0.0, 0.0, 0.0, 0.0, 0.0, 0.0, 0.0, 0.0, 0.0, 0.0, 0.0, 0.0, 0.0, 0.0, 0.0, 0.0, 0.0, 0.0, 0.0, 0.0, 0.0, 0.0, 0.0, 0.0, 0.0, 0.0, 0.0, 0.0, 0.0, 0.0, 0.0, 0.0, 0.0, 0.0, 0.0, 0.0, 0.0, 0.0, 0.0, 0.0, 0.0, 0.0, 0.0, 0.0, 0.0, 0.0, 0.0, 0.0, 0.0, 0.0, 0.0, 0.0, 0.0, 0.0, 0.0, 0.0, 0.0, 0.0, 0.0, 0.0, 0.0, 0.0, 0.0, 0.0, 0.0, 0.0, 0.0, 0.0, 0.0, 0.0, 0.0, 0.0, 0.0, 0.0, 0.0, 0.0, 0.0, 0.0, 0.0, 0.0, 0.0, 0.0, 0.0, 0.0, 0.0, 0.0, 0.0, 0.0, 0.0, 0.0, 0.0, 0.0, 0.0, 0.0, 0.0, 0.0, 0.0, 0.0, 0.0, 0.0, 0.0, 0.0, 0.0, 0.0, 0.0, 0.0, 0.0, 0.0, 0.0, 0.0, 0.0, 0.0, 0.0, 0.0, 0.0, 0.0, 0.0, 0.0, 0.0, 0.0, 0.0, 0.0, 0.0, 0.0, 0.0, 0.0, 0.0, 0.0, 0.0, 0.0, 0.0, 0.0, 0.0, 0.0, 0.0, 0.0, 0.0, 0.0, 0.0, 0.0, 0.0, 0.0, 0.0, 0.0, 0.0, 0.0, 0.0, 0.0, 0.0, 0.0, 0.0, 0.0, 0.0, 0.0, 0.0, 0.0, 0.0]\n"
          ]
        }
      ],
      "source": [
        "print(train_attention_masks[5])"
      ]
    },
    {
      "cell_type": "markdown",
      "metadata": {
        "id": "mfjyEjT_z4p9"
      },
      "source": [
        "### Double checking that pairing input-mask is in place"
      ]
    },
    {
      "cell_type": "code",
      "execution_count": 31,
      "metadata": {
        "colab": {
          "base_uri": "https://localhost:8080/"
        },
        "id": "HdVBi7wXzo-Y",
        "outputId": "191606b8-5c3c-4ddd-ef97-0c443017873b"
      },
      "outputs": [
        {
          "name": "stdout",
          "output_type": "stream",
          "text": [
            "Token id: 30838\\Token mask: 1.0\n",
            "Token id: 11356\\Token mask: 1.0\n",
            "Token id: 30838\\Token mask: 1.0\n",
            "Token id: 11356\\Token mask: 1.0\n",
            "Token id: 30838\\Token mask: 1.0\n",
            "Token id: 11356\\Token mask: 1.0\n",
            "Token id: 30838\\Token mask: 1.0\n",
            "Token id: 11356\\Token mask: 1.0\n",
            "Token id: 30838\\Token mask: 1.0\n",
            "Token id: 11356\\Token mask: 1.0\n",
            "Token id: 30838\\Token mask: 1.0\n",
            "Token id: 11356\\Token mask: 1.0\n",
            "Token id: 30838\\Token mask: 1.0\n",
            "Token id: 11356\\Token mask: 1.0\n",
            "Token id: 30838\\Token mask: 1.0\n",
            "Token id: 11356\\Token mask: 1.0\n",
            "Token id: 30838\\Token mask: 1.0\n",
            "Token id: 11356\\Token mask: 1.0\n",
            "Token id: 30838\\Token mask: 1.0\n",
            "Token id: 11356\\Token mask: 1.0\n",
            "Token id: 30838\\Token mask: 1.0\n",
            "Token id: 11356\\Token mask: 1.0\n",
            "Token id: 30838\\Token mask: 1.0\n",
            "Token id: 11356\\Token mask: 1.0\n",
            "Token id: 30838\\Token mask: 1.0\n",
            "Token id: 11356\\Token mask: 1.0\n",
            "Token id: 30838\\Token mask: 1.0\n",
            "Token id: 11356\\Token mask: 1.0\n",
            "Token id: 30838\\Token mask: 1.0\n",
            "Token id: 11356\\Token mask: 1.0\n",
            "Token id: 30838\\Token mask: 1.0\n",
            "Token id: 11356\\Token mask: 1.0\n",
            "Token id: 30838\\Token mask: 1.0\n",
            "Token id: 11356\\Token mask: 1.0\n",
            "Token id: 30838\\Token mask: 1.0\n",
            "Token id: 11356\\Token mask: 1.0\n",
            "Token id: 30838\\Token mask: 1.0\n",
            "Token id: 11356\\Token mask: 1.0\n",
            "Token id: 30838\\Token mask: 1.0\n",
            "Token id: 11356\\Token mask: 1.0\n",
            "Token id: 30838\\Token mask: 1.0\n",
            "Token id: 11356\\Token mask: 1.0\n",
            "Token id: 30838\\Token mask: 1.0\n",
            "Token id: 11356\\Token mask: 1.0\n",
            "Token id: 30838\\Token mask: 1.0\n",
            "Token id: 11356\\Token mask: 1.0\n",
            "Token id: 30838\\Token mask: 1.0\n",
            "Token id: 11356\\Token mask: 1.0\n",
            "Token id: 30838\\Token mask: 1.0\n",
            "Token id: 11356\\Token mask: 1.0\n",
            "Token id: 30838\\Token mask: 1.0\n",
            "Token id: 11356\\Token mask: 1.0\n",
            "Token id: 30838\\Token mask: 1.0\n",
            "Token id: 11356\\Token mask: 1.0\n",
            "Token id: 30838\\Token mask: 1.0\n",
            "Token id: 11356\\Token mask: 1.0\n",
            "Token id: 30838\\Token mask: 1.0\n",
            "Token id: 11356\\Token mask: 1.0\n",
            "Token id: 30838\\Token mask: 1.0\n",
            "Token id: 11356\\Token mask: 1.0\n",
            "Token id: 30838\\Token mask: 1.0\n",
            "Token id: 11356\\Token mask: 1.0\n",
            "Token id: 30838\\Token mask: 1.0\n",
            "Token id: 11356\\Token mask: 1.0\n",
            "Token id: 30838\\Token mask: 1.0\n",
            "Token id: 11356\\Token mask: 1.0\n",
            "Token id: 30838\\Token mask: 1.0\n",
            "Token id: 11356\\Token mask: 1.0\n",
            "Token id: 30838\\Token mask: 1.0\n",
            "Token id: 11356\\Token mask: 1.0\n",
            "Token id: 30838\\Token mask: 1.0\n",
            "Token id: 11356\\Token mask: 1.0\n",
            "Token id: 30838\\Token mask: 1.0\n",
            "Token id: 11356\\Token mask: 1.0\n",
            "Token id: 30838\\Token mask: 1.0\n",
            "Token id: 11356\\Token mask: 1.0\n",
            "Token id: 0\\Token mask: 0.0\n",
            "Token id: 0\\Token mask: 0.0\n",
            "Token id: 0\\Token mask: 0.0\n",
            "Token id: 0\\Token mask: 0.0\n",
            "Token id: 0\\Token mask: 0.0\n",
            "Token id: 0\\Token mask: 0.0\n",
            "Token id: 0\\Token mask: 0.0\n",
            "Token id: 0\\Token mask: 0.0\n",
            "Token id: 0\\Token mask: 0.0\n",
            "Token id: 0\\Token mask: 0.0\n",
            "Token id: 0\\Token mask: 0.0\n",
            "Token id: 0\\Token mask: 0.0\n",
            "Token id: 0\\Token mask: 0.0\n",
            "Token id: 0\\Token mask: 0.0\n",
            "Token id: 0\\Token mask: 0.0\n",
            "Token id: 0\\Token mask: 0.0\n",
            "Token id: 0\\Token mask: 0.0\n",
            "Token id: 0\\Token mask: 0.0\n",
            "Token id: 0\\Token mask: 0.0\n",
            "Token id: 0\\Token mask: 0.0\n",
            "Token id: 0\\Token mask: 0.0\n",
            "Token id: 0\\Token mask: 0.0\n",
            "Token id: 0\\Token mask: 0.0\n",
            "Token id: 0\\Token mask: 0.0\n",
            "Token id: 0\\Token mask: 0.0\n",
            "Token id: 0\\Token mask: 0.0\n",
            "Token id: 0\\Token mask: 0.0\n",
            "Token id: 0\\Token mask: 0.0\n",
            "Token id: 0\\Token mask: 0.0\n",
            "Token id: 0\\Token mask: 0.0\n",
            "Token id: 0\\Token mask: 0.0\n",
            "Token id: 0\\Token mask: 0.0\n",
            "Token id: 0\\Token mask: 0.0\n",
            "Token id: 0\\Token mask: 0.0\n",
            "Token id: 0\\Token mask: 0.0\n",
            "Token id: 0\\Token mask: 0.0\n",
            "Token id: 0\\Token mask: 0.0\n",
            "Token id: 0\\Token mask: 0.0\n",
            "Token id: 0\\Token mask: 0.0\n",
            "Token id: 0\\Token mask: 0.0\n",
            "Token id: 0\\Token mask: 0.0\n",
            "Token id: 0\\Token mask: 0.0\n",
            "Token id: 0\\Token mask: 0.0\n",
            "Token id: 0\\Token mask: 0.0\n",
            "Token id: 0\\Token mask: 0.0\n",
            "Token id: 0\\Token mask: 0.0\n",
            "Token id: 0\\Token mask: 0.0\n",
            "Token id: 0\\Token mask: 0.0\n",
            "Token id: 0\\Token mask: 0.0\n",
            "Token id: 0\\Token mask: 0.0\n",
            "Token id: 0\\Token mask: 0.0\n",
            "Token id: 0\\Token mask: 0.0\n",
            "Token id: 0\\Token mask: 0.0\n",
            "Token id: 0\\Token mask: 0.0\n",
            "Token id: 0\\Token mask: 0.0\n",
            "Token id: 0\\Token mask: 0.0\n",
            "Token id: 0\\Token mask: 0.0\n",
            "Token id: 0\\Token mask: 0.0\n",
            "Token id: 0\\Token mask: 0.0\n",
            "Token id: 0\\Token mask: 0.0\n",
            "Token id: 0\\Token mask: 0.0\n",
            "Token id: 0\\Token mask: 0.0\n",
            "Token id: 0\\Token mask: 0.0\n",
            "Token id: 0\\Token mask: 0.0\n",
            "Token id: 0\\Token mask: 0.0\n",
            "Token id: 0\\Token mask: 0.0\n",
            "Token id: 0\\Token mask: 0.0\n",
            "Token id: 0\\Token mask: 0.0\n",
            "Token id: 0\\Token mask: 0.0\n",
            "Token id: 0\\Token mask: 0.0\n",
            "Token id: 0\\Token mask: 0.0\n",
            "Token id: 0\\Token mask: 0.0\n",
            "Token id: 0\\Token mask: 0.0\n",
            "Token id: 0\\Token mask: 0.0\n",
            "Token id: 0\\Token mask: 0.0\n",
            "Token id: 0\\Token mask: 0.0\n",
            "Token id: 0\\Token mask: 0.0\n",
            "Token id: 0\\Token mask: 0.0\n",
            "Token id: 0\\Token mask: 0.0\n",
            "Token id: 0\\Token mask: 0.0\n",
            "Token id: 0\\Token mask: 0.0\n",
            "Token id: 0\\Token mask: 0.0\n",
            "Token id: 0\\Token mask: 0.0\n",
            "Token id: 0\\Token mask: 0.0\n",
            "Token id: 0\\Token mask: 0.0\n",
            "Token id: 0\\Token mask: 0.0\n",
            "Token id: 0\\Token mask: 0.0\n",
            "Token id: 0\\Token mask: 0.0\n",
            "Token id: 0\\Token mask: 0.0\n",
            "Token id: 0\\Token mask: 0.0\n",
            "Token id: 0\\Token mask: 0.0\n",
            "Token id: 0\\Token mask: 0.0\n",
            "Token id: 0\\Token mask: 0.0\n",
            "Token id: 0\\Token mask: 0.0\n",
            "Token id: 0\\Token mask: 0.0\n",
            "Token id: 0\\Token mask: 0.0\n",
            "Token id: 0\\Token mask: 0.0\n",
            "Token id: 0\\Token mask: 0.0\n",
            "Token id: 0\\Token mask: 0.0\n",
            "Token id: 0\\Token mask: 0.0\n",
            "Token id: 0\\Token mask: 0.0\n",
            "Token id: 0\\Token mask: 0.0\n",
            "Token id: 0\\Token mask: 0.0\n",
            "Token id: 0\\Token mask: 0.0\n",
            "Token id: 0\\Token mask: 0.0\n",
            "Token id: 0\\Token mask: 0.0\n",
            "Token id: 0\\Token mask: 0.0\n",
            "Token id: 0\\Token mask: 0.0\n",
            "Token id: 0\\Token mask: 0.0\n",
            "Token id: 0\\Token mask: 0.0\n",
            "Token id: 0\\Token mask: 0.0\n",
            "Token id: 0\\Token mask: 0.0\n",
            "Token id: 0\\Token mask: 0.0\n",
            "Token id: 0\\Token mask: 0.0\n",
            "Token id: 0\\Token mask: 0.0\n",
            "Token id: 0\\Token mask: 0.0\n",
            "Token id: 0\\Token mask: 0.0\n",
            "Token id: 0\\Token mask: 0.0\n",
            "Token id: 0\\Token mask: 0.0\n",
            "Token id: 0\\Token mask: 0.0\n",
            "Token id: 0\\Token mask: 0.0\n",
            "Token id: 0\\Token mask: 0.0\n",
            "Token id: 0\\Token mask: 0.0\n",
            "Token id: 0\\Token mask: 0.0\n",
            "Token id: 0\\Token mask: 0.0\n",
            "Token id: 0\\Token mask: 0.0\n",
            "Token id: 0\\Token mask: 0.0\n",
            "Token id: 0\\Token mask: 0.0\n",
            "Token id: 0\\Token mask: 0.0\n",
            "Token id: 0\\Token mask: 0.0\n",
            "Token id: 0\\Token mask: 0.0\n",
            "Token id: 0\\Token mask: 0.0\n",
            "Token id: 0\\Token mask: 0.0\n",
            "Token id: 0\\Token mask: 0.0\n",
            "Token id: 0\\Token mask: 0.0\n",
            "Token id: 0\\Token mask: 0.0\n",
            "Token id: 0\\Token mask: 0.0\n",
            "Token id: 0\\Token mask: 0.0\n",
            "Token id: 0\\Token mask: 0.0\n",
            "Token id: 0\\Token mask: 0.0\n",
            "Token id: 0\\Token mask: 0.0\n",
            "Token id: 0\\Token mask: 0.0\n",
            "Token id: 0\\Token mask: 0.0\n",
            "Token id: 0\\Token mask: 0.0\n",
            "Token id: 0\\Token mask: 0.0\n",
            "Token id: 0\\Token mask: 0.0\n",
            "Token id: 0\\Token mask: 0.0\n",
            "Token id: 0\\Token mask: 0.0\n",
            "Token id: 0\\Token mask: 0.0\n",
            "Token id: 0\\Token mask: 0.0\n",
            "Token id: 0\\Token mask: 0.0\n",
            "Token id: 0\\Token mask: 0.0\n",
            "Token id: 0\\Token mask: 0.0\n",
            "Token id: 0\\Token mask: 0.0\n",
            "Token id: 0\\Token mask: 0.0\n",
            "Token id: 0\\Token mask: 0.0\n",
            "Token id: 0\\Token mask: 0.0\n",
            "Token id: 0\\Token mask: 0.0\n",
            "Token id: 0\\Token mask: 0.0\n",
            "Token id: 0\\Token mask: 0.0\n",
            "Token id: 0\\Token mask: 0.0\n",
            "Token id: 0\\Token mask: 0.0\n",
            "Token id: 0\\Token mask: 0.0\n",
            "Token id: 0\\Token mask: 0.0\n",
            "Token id: 0\\Token mask: 0.0\n",
            "Token id: 0\\Token mask: 0.0\n",
            "Token id: 0\\Token mask: 0.0\n",
            "Token id: 0\\Token mask: 0.0\n",
            "Token id: 0\\Token mask: 0.0\n",
            "Token id: 0\\Token mask: 0.0\n",
            "Token id: 0\\Token mask: 0.0\n",
            "Token id: 0\\Token mask: 0.0\n",
            "Token id: 0\\Token mask: 0.0\n",
            "Token id: 0\\Token mask: 0.0\n",
            "Token id: 0\\Token mask: 0.0\n",
            "Token id: 0\\Token mask: 0.0\n",
            "Token id: 0\\Token mask: 0.0\n",
            "Token id: 0\\Token mask: 0.0\n",
            "Token id: 0\\Token mask: 0.0\n",
            "Token id: 0\\Token mask: 0.0\n"
          ]
        }
      ],
      "source": [
        "for i,m in zip(train_input_ids[5], train_attention_masks[5]):\n",
        "  print(f\"Token id: {i}\\Token mask: {m}\")"
      ]
    },
    {
      "cell_type": "markdown",
      "metadata": {
        "id": "fDJYhS1BzTcl"
      },
      "source": [
        "## Arrays to tensors transformation"
      ]
    },
    {
      "cell_type": "code",
      "execution_count": 32,
      "metadata": {
        "id": "Y6rVCtHUxRXB"
      },
      "outputs": [],
      "source": [
        "tr_inputs = torch.tensor(train_input_ids)\n",
        "tr_tags = torch.tensor(train_tags)\n",
        "tr_masks = torch.tensor(train_attention_masks)"
      ]
    },
    {
      "cell_type": "code",
      "execution_count": 33,
      "metadata": {
        "colab": {
          "base_uri": "https://localhost:8080/"
        },
        "id": "-jrBOkO-dfFR",
        "outputId": "f53ff4b7-0828-445b-a2ec-9b37e5ef9ba3"
      },
      "outputs": [
        {
          "name": "stdout",
          "output_type": "stream",
          "text": [
            "tensor([30838, 11356, 30838, 11356, 30838, 11356, 30838, 11356, 30838, 11356,\n",
            "        30838, 11356, 30838, 11356, 30838, 11356, 30838, 11356, 30838, 11356,\n",
            "        30838, 11356, 30838, 11356, 30838, 11356, 30838, 11356, 30838, 11356,\n",
            "        30838, 11356, 30838, 11356, 30838, 11356, 30838, 11356, 30838, 11356,\n",
            "        30838, 11356, 30838, 11356, 30838, 11356, 30838, 11356, 30838, 11356,\n",
            "        30838, 11356, 30838, 11356, 30838, 11356, 30838, 11356, 30838, 11356,\n",
            "        30838, 11356, 30838, 11356, 30838, 11356, 30838, 11356, 30838, 11356,\n",
            "        30838, 11356, 30838, 11356, 30838, 11356,     0,     0,     0,     0,\n",
            "            0,     0,     0,     0,     0,     0,     0,     0,     0,     0,\n",
            "            0,     0,     0,     0,     0,     0,     0,     0,     0,     0,\n",
            "            0,     0,     0,     0,     0,     0,     0,     0,     0,     0,\n",
            "            0,     0,     0,     0,     0,     0,     0,     0,     0,     0,\n",
            "            0,     0,     0,     0,     0,     0,     0,     0,     0,     0,\n",
            "            0,     0,     0,     0,     0,     0,     0,     0,     0,     0,\n",
            "            0,     0,     0,     0,     0,     0,     0,     0,     0,     0,\n",
            "            0,     0,     0,     0,     0,     0,     0,     0,     0,     0,\n",
            "            0,     0,     0,     0,     0,     0,     0,     0,     0,     0,\n",
            "            0,     0,     0,     0,     0,     0,     0,     0,     0,     0,\n",
            "            0,     0,     0,     0,     0,     0,     0,     0,     0,     0,\n",
            "            0,     0,     0,     0,     0,     0,     0,     0,     0,     0,\n",
            "            0,     0,     0,     0,     0,     0,     0,     0,     0,     0,\n",
            "            0,     0,     0,     0,     0,     0,     0,     0,     0,     0,\n",
            "            0,     0,     0,     0,     0,     0,     0,     0,     0,     0,\n",
            "            0,     0,     0,     0,     0,     0,     0,     0,     0,     0,\n",
            "            0,     0,     0,     0,     0,     0,     0,     0,     0,     0,\n",
            "            0,     0,     0,     0,     0,     0])\n",
            "tensor([230, 230, 230, 230, 230, 230, 230, 230, 230, 230, 230, 230, 230, 230,\n",
            "        230, 230, 230, 230, 230, 230, 230, 230, 230, 230, 230, 230, 230, 230,\n",
            "        230, 230, 230, 230, 230, 230, 230, 230, 230, 230, 230, 230, 230, 230,\n",
            "        230, 230, 230, 230, 230, 230, 230, 230, 230, 230, 230, 230, 230, 230,\n",
            "        230, 230, 230, 230, 230, 230, 230, 230, 230, 230, 230, 230, 230, 230,\n",
            "        230, 230, 230, 230, 230, 230, 246, 246, 246, 246, 246, 246, 246, 246,\n",
            "        246, 246, 246, 246, 246, 246, 246, 246, 246, 246, 246, 246, 246, 246,\n",
            "        246, 246, 246, 246, 246, 246, 246, 246, 246, 246, 246, 246, 246, 246,\n",
            "        246, 246, 246, 246, 246, 246, 246, 246, 246, 246, 246, 246, 246, 246,\n",
            "        246, 246, 246, 246, 246, 246, 246, 246, 246, 246, 246, 246, 246, 246,\n",
            "        246, 246, 246, 246, 246, 246, 246, 246, 246, 246, 246, 246, 246, 246,\n",
            "        246, 246, 246, 246, 246, 246, 246, 246, 246, 246, 246, 246, 246, 246,\n",
            "        246, 246, 246, 246, 246, 246, 246, 246, 246, 246, 246, 246, 246, 246,\n",
            "        246, 246, 246, 246, 246, 246, 246, 246, 246, 246, 246, 246, 246, 246,\n",
            "        246, 246, 246, 246, 246, 246, 246, 246, 246, 246, 246, 246, 246, 246,\n",
            "        246, 246, 246, 246, 246, 246, 246, 246, 246, 246, 246, 246, 246, 246,\n",
            "        246, 246, 246, 246, 246, 246, 246, 246, 246, 246, 246, 246, 246, 246,\n",
            "        246, 246, 246, 246, 246, 246, 246, 246, 246, 246, 246, 246, 246, 246,\n",
            "        246, 246, 246, 246])\n",
            "tensor([1., 1., 1., 1., 1., 1., 1., 1., 1., 1., 1., 1., 1., 1., 1., 1., 1., 1.,\n",
            "        1., 1., 1., 1., 1., 1., 1., 1., 1., 1., 1., 1., 1., 1., 1., 1., 1., 1.,\n",
            "        1., 1., 1., 1., 1., 1., 1., 1., 1., 1., 1., 1., 1., 1., 1., 1., 1., 1.,\n",
            "        1., 1., 1., 1., 1., 1., 1., 1., 1., 1., 1., 1., 1., 1., 1., 1., 1., 1.,\n",
            "        1., 1., 1., 1., 0., 0., 0., 0., 0., 0., 0., 0., 0., 0., 0., 0., 0., 0.,\n",
            "        0., 0., 0., 0., 0., 0., 0., 0., 0., 0., 0., 0., 0., 0., 0., 0., 0., 0.,\n",
            "        0., 0., 0., 0., 0., 0., 0., 0., 0., 0., 0., 0., 0., 0., 0., 0., 0., 0.,\n",
            "        0., 0., 0., 0., 0., 0., 0., 0., 0., 0., 0., 0., 0., 0., 0., 0., 0., 0.,\n",
            "        0., 0., 0., 0., 0., 0., 0., 0., 0., 0., 0., 0., 0., 0., 0., 0., 0., 0.,\n",
            "        0., 0., 0., 0., 0., 0., 0., 0., 0., 0., 0., 0., 0., 0., 0., 0., 0., 0.,\n",
            "        0., 0., 0., 0., 0., 0., 0., 0., 0., 0., 0., 0., 0., 0., 0., 0., 0., 0.,\n",
            "        0., 0., 0., 0., 0., 0., 0., 0., 0., 0., 0., 0., 0., 0., 0., 0., 0., 0.,\n",
            "        0., 0., 0., 0., 0., 0., 0., 0., 0., 0., 0., 0., 0., 0., 0., 0., 0., 0.,\n",
            "        0., 0., 0., 0., 0., 0., 0., 0., 0., 0., 0., 0., 0., 0., 0., 0., 0., 0.,\n",
            "        0., 0., 0., 0.])\n"
          ]
        }
      ],
      "source": [
        "print(tr_inputs[5])\n",
        "print(tr_tags[5])\n",
        "print(tr_masks[5])"
      ]
    },
    {
      "cell_type": "markdown",
      "metadata": {
        "id": "GVWFGl4VeGi0"
      },
      "source": [
        "### Checking sizes match"
      ]
    },
    {
      "cell_type": "markdown",
      "metadata": {
        "id": "57W4P6CWeZ-s"
      },
      "source": [
        "#### Training"
      ]
    },
    {
      "cell_type": "code",
      "execution_count": 34,
      "metadata": {
        "colab": {
          "base_uri": "https://localhost:8080/"
        },
        "id": "TrJVCikMeSvl",
        "outputId": "b5033ca2-ffe4-43e1-d027-bfb0d0f70302"
      },
      "outputs": [
        {
          "data": {
            "text/plain": [
              "76"
            ]
          },
          "execution_count": 34,
          "metadata": {},
          "output_type": "execute_result"
        }
      ],
      "source": [
        "len([x for x in tr_inputs[5] if x != 0]) # How many NO_PADs we have?"
      ]
    },
    {
      "cell_type": "code",
      "execution_count": 35,
      "metadata": {
        "colab": {
          "base_uri": "https://localhost:8080/"
        },
        "id": "Dbu7RaJEeUas",
        "outputId": "b34affa2-8438-4eb4-d5bc-cb99aaf9ecce"
      },
      "outputs": [
        {
          "data": {
            "text/plain": [
              "256"
            ]
          },
          "execution_count": 35,
          "metadata": {},
          "output_type": "execute_result"
        }
      ],
      "source": [
        "len([x for x in tr_tags[5] if x != 7])"
      ]
    },
    {
      "cell_type": "code",
      "execution_count": 36,
      "metadata": {
        "colab": {
          "base_uri": "https://localhost:8080/"
        },
        "id": "ea9OBwxdeXXN",
        "outputId": "e72faa67-df79-439f-81db-fef94b482f41"
      },
      "outputs": [
        {
          "data": {
            "text/plain": [
              "76"
            ]
          },
          "execution_count": 36,
          "metadata": {},
          "output_type": "execute_result"
        }
      ],
      "source": [
        "len([x for x in tr_masks[5] if x != 0])"
      ]
    },
    {
      "cell_type": "markdown",
      "metadata": {
        "id": "3j86Os-Y0UpL"
      },
      "source": [
        "## Creating the DataLoaders to feed the batches during training"
      ]
    },
    {
      "cell_type": "code",
      "execution_count": 37,
      "metadata": {
        "id": "EncfL9XT0YJv"
      },
      "outputs": [],
      "source": [
        "train_data = TensorDataset(tr_inputs, tr_masks, tr_tags)\n",
        "train_sampler = RandomSampler(train_data)\n",
        "train_dataloader = DataLoader(train_data, sampler=train_sampler, batch_size=TRAIN_BATCH_SIZE)"
      ]
    },
    {
      "cell_type": "markdown",
      "metadata": {
        "id": "2Vpu3C-x0kZn"
      },
      "source": [
        "# Loading the transformer model"
      ]
    },
    {
      "cell_type": "code",
      "execution_count": 38,
      "metadata": {
        "colab": {
          "base_uri": "https://localhost:8080/",
          "height": 35
        },
        "id": "b66ISUfG0yx_",
        "outputId": "c0d86206-63d8-489e-c6f5-364051f7c66e"
      },
      "outputs": [
        {
          "data": {
            "application/vnd.google.colaboratory.intrinsic+json": {
              "type": "string"
            },
            "text/plain": [
              "'4.8.1'"
            ]
          },
          "execution_count": 38,
          "metadata": {},
          "output_type": "execute_result"
        }
      ],
      "source": [
        "transformers.__version__"
      ]
    },
    {
      "cell_type": "code",
      "execution_count": 39,
      "metadata": {
        "colab": {
          "base_uri": "https://localhost:8080/",
          "height": 1000,
          "referenced_widgets": [
            "c20a515d7e3a44d79d2462fd7bf28331",
            "8ec5a93fe22b4f0a843d935fd6227aea",
            "e94f9818475c401d8629ca1c75a6b12c",
            "5b1fad9bb9e04160b1f9e836b360a276",
            "a3bffaaeb8b54d75946e59a54d224748",
            "ef5e0fc692064fce9ab3403e68ca7200",
            "352dcb310af5460096bd9372da6a67b8",
            "c064844836674ec0b27a55e766ef4302",
            "234d31b4246d4258b952cf5bb75a21dc",
            "971b6356b0f34ff19fb8b594637f5896",
            "aea27886f8ac415e81681c4155b67098",
            "977c88a51188434fb4d7bcf068045597",
            "e43b195c6c0a453cb36f9f56ec1aa53e",
            "12f41495256e4fbe853a7cb42491fa1f",
            "9e35ce0b74c64ace93315c19292e33fe",
            "f2d6d934f2684e7bbf951b51eee9d290",
            "248afd1326fe48f7966295d53693a2b5",
            "e5aa2bb6d24a4c5080a79f63fe8e1d32",
            "4b48ec3b57e949608efd0d281d6f8f0a",
            "adcec8cce73c49ecb04277ded25df394",
            "65f71b0a04be4f9a99ae75b5f24183b8",
            "83b9c522e81645afbdc249dafc1ee141"
          ]
        },
        "id": "ba70EsrqGD_u",
        "outputId": "dc142d80-bd2d-449b-c067-947941155ad6"
      },
      "outputs": [
        {
          "data": {
            "application/vnd.jupyter.widget-view+json": {
              "model_id": "c20a515d7e3a44d79d2462fd7bf28331",
              "version_major": 2,
              "version_minor": 0
            },
            "text/plain": [
              "Downloading:   0%|          | 0.00/359 [00:00<?, ?B/s]"
            ]
          },
          "metadata": {},
          "output_type": "display_data"
        },
        {
          "data": {
            "application/vnd.jupyter.widget-view+json": {
              "model_id": "977c88a51188434fb4d7bcf068045597",
              "version_major": 2,
              "version_minor": 0
            },
            "text/plain": [
              "Downloading:   0%|          | 0.00/442M [00:00<?, ?B/s]"
            ]
          },
          "metadata": {},
          "output_type": "display_data"
        },
        {
          "name": "stderr",
          "output_type": "stream",
          "text": [
            "Some weights of the model checkpoint at yiyanghkust/finbert-pretrain were not used when initializing BertForTokenClassification: ['cls.predictions.transform.dense.bias', 'cls.predictions.bias', 'cls.predictions.transform.dense.weight', 'cls.predictions.decoder.weight', 'cls.predictions.transform.LayerNorm.weight', 'cls.seq_relationship.weight', 'cls.predictions.transform.LayerNorm.bias', 'cls.seq_relationship.bias']\n",
            "- This IS expected if you are initializing BertForTokenClassification from the checkpoint of a model trained on another task or with another architecture (e.g. initializing a BertForSequenceClassification model from a BertForPreTraining model).\n",
            "- This IS NOT expected if you are initializing BertForTokenClassification from the checkpoint of a model that you expect to be exactly identical (initializing a BertForSequenceClassification model from a BertForSequenceClassification model).\n",
            "Some weights of BertForTokenClassification were not initialized from the model checkpoint at yiyanghkust/finbert-pretrain and are newly initialized: ['classifier.weight', 'classifier.bias']\n",
            "You should probably TRAIN this model on a down-stream task to be able to use it for predictions and inference.\n"
          ]
        },
        {
          "data": {
            "text/plain": [
              "BertForTokenClassification(\n",
              "  (bert): BertModel(\n",
              "    (embeddings): BertEmbeddings(\n",
              "      (word_embeddings): Embedding(30873, 768, padding_idx=0)\n",
              "      (position_embeddings): Embedding(512, 768)\n",
              "      (token_type_embeddings): Embedding(2, 768)\n",
              "      (LayerNorm): LayerNorm((768,), eps=1e-12, elementwise_affine=True)\n",
              "      (dropout): Dropout(p=0.1, inplace=False)\n",
              "    )\n",
              "    (encoder): BertEncoder(\n",
              "      (layer): ModuleList(\n",
              "        (0): BertLayer(\n",
              "          (attention): BertAttention(\n",
              "            (self): BertSelfAttention(\n",
              "              (query): Linear(in_features=768, out_features=768, bias=True)\n",
              "              (key): Linear(in_features=768, out_features=768, bias=True)\n",
              "              (value): Linear(in_features=768, out_features=768, bias=True)\n",
              "              (dropout): Dropout(p=0.1, inplace=False)\n",
              "            )\n",
              "            (output): BertSelfOutput(\n",
              "              (dense): Linear(in_features=768, out_features=768, bias=True)\n",
              "              (LayerNorm): LayerNorm((768,), eps=1e-12, elementwise_affine=True)\n",
              "              (dropout): Dropout(p=0.1, inplace=False)\n",
              "            )\n",
              "          )\n",
              "          (intermediate): BertIntermediate(\n",
              "            (dense): Linear(in_features=768, out_features=3072, bias=True)\n",
              "          )\n",
              "          (output): BertOutput(\n",
              "            (dense): Linear(in_features=3072, out_features=768, bias=True)\n",
              "            (LayerNorm): LayerNorm((768,), eps=1e-12, elementwise_affine=True)\n",
              "            (dropout): Dropout(p=0.1, inplace=False)\n",
              "          )\n",
              "        )\n",
              "        (1): BertLayer(\n",
              "          (attention): BertAttention(\n",
              "            (self): BertSelfAttention(\n",
              "              (query): Linear(in_features=768, out_features=768, bias=True)\n",
              "              (key): Linear(in_features=768, out_features=768, bias=True)\n",
              "              (value): Linear(in_features=768, out_features=768, bias=True)\n",
              "              (dropout): Dropout(p=0.1, inplace=False)\n",
              "            )\n",
              "            (output): BertSelfOutput(\n",
              "              (dense): Linear(in_features=768, out_features=768, bias=True)\n",
              "              (LayerNorm): LayerNorm((768,), eps=1e-12, elementwise_affine=True)\n",
              "              (dropout): Dropout(p=0.1, inplace=False)\n",
              "            )\n",
              "          )\n",
              "          (intermediate): BertIntermediate(\n",
              "            (dense): Linear(in_features=768, out_features=3072, bias=True)\n",
              "          )\n",
              "          (output): BertOutput(\n",
              "            (dense): Linear(in_features=3072, out_features=768, bias=True)\n",
              "            (LayerNorm): LayerNorm((768,), eps=1e-12, elementwise_affine=True)\n",
              "            (dropout): Dropout(p=0.1, inplace=False)\n",
              "          )\n",
              "        )\n",
              "        (2): BertLayer(\n",
              "          (attention): BertAttention(\n",
              "            (self): BertSelfAttention(\n",
              "              (query): Linear(in_features=768, out_features=768, bias=True)\n",
              "              (key): Linear(in_features=768, out_features=768, bias=True)\n",
              "              (value): Linear(in_features=768, out_features=768, bias=True)\n",
              "              (dropout): Dropout(p=0.1, inplace=False)\n",
              "            )\n",
              "            (output): BertSelfOutput(\n",
              "              (dense): Linear(in_features=768, out_features=768, bias=True)\n",
              "              (LayerNorm): LayerNorm((768,), eps=1e-12, elementwise_affine=True)\n",
              "              (dropout): Dropout(p=0.1, inplace=False)\n",
              "            )\n",
              "          )\n",
              "          (intermediate): BertIntermediate(\n",
              "            (dense): Linear(in_features=768, out_features=3072, bias=True)\n",
              "          )\n",
              "          (output): BertOutput(\n",
              "            (dense): Linear(in_features=3072, out_features=768, bias=True)\n",
              "            (LayerNorm): LayerNorm((768,), eps=1e-12, elementwise_affine=True)\n",
              "            (dropout): Dropout(p=0.1, inplace=False)\n",
              "          )\n",
              "        )\n",
              "        (3): BertLayer(\n",
              "          (attention): BertAttention(\n",
              "            (self): BertSelfAttention(\n",
              "              (query): Linear(in_features=768, out_features=768, bias=True)\n",
              "              (key): Linear(in_features=768, out_features=768, bias=True)\n",
              "              (value): Linear(in_features=768, out_features=768, bias=True)\n",
              "              (dropout): Dropout(p=0.1, inplace=False)\n",
              "            )\n",
              "            (output): BertSelfOutput(\n",
              "              (dense): Linear(in_features=768, out_features=768, bias=True)\n",
              "              (LayerNorm): LayerNorm((768,), eps=1e-12, elementwise_affine=True)\n",
              "              (dropout): Dropout(p=0.1, inplace=False)\n",
              "            )\n",
              "          )\n",
              "          (intermediate): BertIntermediate(\n",
              "            (dense): Linear(in_features=768, out_features=3072, bias=True)\n",
              "          )\n",
              "          (output): BertOutput(\n",
              "            (dense): Linear(in_features=3072, out_features=768, bias=True)\n",
              "            (LayerNorm): LayerNorm((768,), eps=1e-12, elementwise_affine=True)\n",
              "            (dropout): Dropout(p=0.1, inplace=False)\n",
              "          )\n",
              "        )\n",
              "        (4): BertLayer(\n",
              "          (attention): BertAttention(\n",
              "            (self): BertSelfAttention(\n",
              "              (query): Linear(in_features=768, out_features=768, bias=True)\n",
              "              (key): Linear(in_features=768, out_features=768, bias=True)\n",
              "              (value): Linear(in_features=768, out_features=768, bias=True)\n",
              "              (dropout): Dropout(p=0.1, inplace=False)\n",
              "            )\n",
              "            (output): BertSelfOutput(\n",
              "              (dense): Linear(in_features=768, out_features=768, bias=True)\n",
              "              (LayerNorm): LayerNorm((768,), eps=1e-12, elementwise_affine=True)\n",
              "              (dropout): Dropout(p=0.1, inplace=False)\n",
              "            )\n",
              "          )\n",
              "          (intermediate): BertIntermediate(\n",
              "            (dense): Linear(in_features=768, out_features=3072, bias=True)\n",
              "          )\n",
              "          (output): BertOutput(\n",
              "            (dense): Linear(in_features=3072, out_features=768, bias=True)\n",
              "            (LayerNorm): LayerNorm((768,), eps=1e-12, elementwise_affine=True)\n",
              "            (dropout): Dropout(p=0.1, inplace=False)\n",
              "          )\n",
              "        )\n",
              "        (5): BertLayer(\n",
              "          (attention): BertAttention(\n",
              "            (self): BertSelfAttention(\n",
              "              (query): Linear(in_features=768, out_features=768, bias=True)\n",
              "              (key): Linear(in_features=768, out_features=768, bias=True)\n",
              "              (value): Linear(in_features=768, out_features=768, bias=True)\n",
              "              (dropout): Dropout(p=0.1, inplace=False)\n",
              "            )\n",
              "            (output): BertSelfOutput(\n",
              "              (dense): Linear(in_features=768, out_features=768, bias=True)\n",
              "              (LayerNorm): LayerNorm((768,), eps=1e-12, elementwise_affine=True)\n",
              "              (dropout): Dropout(p=0.1, inplace=False)\n",
              "            )\n",
              "          )\n",
              "          (intermediate): BertIntermediate(\n",
              "            (dense): Linear(in_features=768, out_features=3072, bias=True)\n",
              "          )\n",
              "          (output): BertOutput(\n",
              "            (dense): Linear(in_features=3072, out_features=768, bias=True)\n",
              "            (LayerNorm): LayerNorm((768,), eps=1e-12, elementwise_affine=True)\n",
              "            (dropout): Dropout(p=0.1, inplace=False)\n",
              "          )\n",
              "        )\n",
              "        (6): BertLayer(\n",
              "          (attention): BertAttention(\n",
              "            (self): BertSelfAttention(\n",
              "              (query): Linear(in_features=768, out_features=768, bias=True)\n",
              "              (key): Linear(in_features=768, out_features=768, bias=True)\n",
              "              (value): Linear(in_features=768, out_features=768, bias=True)\n",
              "              (dropout): Dropout(p=0.1, inplace=False)\n",
              "            )\n",
              "            (output): BertSelfOutput(\n",
              "              (dense): Linear(in_features=768, out_features=768, bias=True)\n",
              "              (LayerNorm): LayerNorm((768,), eps=1e-12, elementwise_affine=True)\n",
              "              (dropout): Dropout(p=0.1, inplace=False)\n",
              "            )\n",
              "          )\n",
              "          (intermediate): BertIntermediate(\n",
              "            (dense): Linear(in_features=768, out_features=3072, bias=True)\n",
              "          )\n",
              "          (output): BertOutput(\n",
              "            (dense): Linear(in_features=3072, out_features=768, bias=True)\n",
              "            (LayerNorm): LayerNorm((768,), eps=1e-12, elementwise_affine=True)\n",
              "            (dropout): Dropout(p=0.1, inplace=False)\n",
              "          )\n",
              "        )\n",
              "        (7): BertLayer(\n",
              "          (attention): BertAttention(\n",
              "            (self): BertSelfAttention(\n",
              "              (query): Linear(in_features=768, out_features=768, bias=True)\n",
              "              (key): Linear(in_features=768, out_features=768, bias=True)\n",
              "              (value): Linear(in_features=768, out_features=768, bias=True)\n",
              "              (dropout): Dropout(p=0.1, inplace=False)\n",
              "            )\n",
              "            (output): BertSelfOutput(\n",
              "              (dense): Linear(in_features=768, out_features=768, bias=True)\n",
              "              (LayerNorm): LayerNorm((768,), eps=1e-12, elementwise_affine=True)\n",
              "              (dropout): Dropout(p=0.1, inplace=False)\n",
              "            )\n",
              "          )\n",
              "          (intermediate): BertIntermediate(\n",
              "            (dense): Linear(in_features=768, out_features=3072, bias=True)\n",
              "          )\n",
              "          (output): BertOutput(\n",
              "            (dense): Linear(in_features=3072, out_features=768, bias=True)\n",
              "            (LayerNorm): LayerNorm((768,), eps=1e-12, elementwise_affine=True)\n",
              "            (dropout): Dropout(p=0.1, inplace=False)\n",
              "          )\n",
              "        )\n",
              "        (8): BertLayer(\n",
              "          (attention): BertAttention(\n",
              "            (self): BertSelfAttention(\n",
              "              (query): Linear(in_features=768, out_features=768, bias=True)\n",
              "              (key): Linear(in_features=768, out_features=768, bias=True)\n",
              "              (value): Linear(in_features=768, out_features=768, bias=True)\n",
              "              (dropout): Dropout(p=0.1, inplace=False)\n",
              "            )\n",
              "            (output): BertSelfOutput(\n",
              "              (dense): Linear(in_features=768, out_features=768, bias=True)\n",
              "              (LayerNorm): LayerNorm((768,), eps=1e-12, elementwise_affine=True)\n",
              "              (dropout): Dropout(p=0.1, inplace=False)\n",
              "            )\n",
              "          )\n",
              "          (intermediate): BertIntermediate(\n",
              "            (dense): Linear(in_features=768, out_features=3072, bias=True)\n",
              "          )\n",
              "          (output): BertOutput(\n",
              "            (dense): Linear(in_features=3072, out_features=768, bias=True)\n",
              "            (LayerNorm): LayerNorm((768,), eps=1e-12, elementwise_affine=True)\n",
              "            (dropout): Dropout(p=0.1, inplace=False)\n",
              "          )\n",
              "        )\n",
              "        (9): BertLayer(\n",
              "          (attention): BertAttention(\n",
              "            (self): BertSelfAttention(\n",
              "              (query): Linear(in_features=768, out_features=768, bias=True)\n",
              "              (key): Linear(in_features=768, out_features=768, bias=True)\n",
              "              (value): Linear(in_features=768, out_features=768, bias=True)\n",
              "              (dropout): Dropout(p=0.1, inplace=False)\n",
              "            )\n",
              "            (output): BertSelfOutput(\n",
              "              (dense): Linear(in_features=768, out_features=768, bias=True)\n",
              "              (LayerNorm): LayerNorm((768,), eps=1e-12, elementwise_affine=True)\n",
              "              (dropout): Dropout(p=0.1, inplace=False)\n",
              "            )\n",
              "          )\n",
              "          (intermediate): BertIntermediate(\n",
              "            (dense): Linear(in_features=768, out_features=3072, bias=True)\n",
              "          )\n",
              "          (output): BertOutput(\n",
              "            (dense): Linear(in_features=3072, out_features=768, bias=True)\n",
              "            (LayerNorm): LayerNorm((768,), eps=1e-12, elementwise_affine=True)\n",
              "            (dropout): Dropout(p=0.1, inplace=False)\n",
              "          )\n",
              "        )\n",
              "        (10): BertLayer(\n",
              "          (attention): BertAttention(\n",
              "            (self): BertSelfAttention(\n",
              "              (query): Linear(in_features=768, out_features=768, bias=True)\n",
              "              (key): Linear(in_features=768, out_features=768, bias=True)\n",
              "              (value): Linear(in_features=768, out_features=768, bias=True)\n",
              "              (dropout): Dropout(p=0.1, inplace=False)\n",
              "            )\n",
              "            (output): BertSelfOutput(\n",
              "              (dense): Linear(in_features=768, out_features=768, bias=True)\n",
              "              (LayerNorm): LayerNorm((768,), eps=1e-12, elementwise_affine=True)\n",
              "              (dropout): Dropout(p=0.1, inplace=False)\n",
              "            )\n",
              "          )\n",
              "          (intermediate): BertIntermediate(\n",
              "            (dense): Linear(in_features=768, out_features=3072, bias=True)\n",
              "          )\n",
              "          (output): BertOutput(\n",
              "            (dense): Linear(in_features=3072, out_features=768, bias=True)\n",
              "            (LayerNorm): LayerNorm((768,), eps=1e-12, elementwise_affine=True)\n",
              "            (dropout): Dropout(p=0.1, inplace=False)\n",
              "          )\n",
              "        )\n",
              "        (11): BertLayer(\n",
              "          (attention): BertAttention(\n",
              "            (self): BertSelfAttention(\n",
              "              (query): Linear(in_features=768, out_features=768, bias=True)\n",
              "              (key): Linear(in_features=768, out_features=768, bias=True)\n",
              "              (value): Linear(in_features=768, out_features=768, bias=True)\n",
              "              (dropout): Dropout(p=0.1, inplace=False)\n",
              "            )\n",
              "            (output): BertSelfOutput(\n",
              "              (dense): Linear(in_features=768, out_features=768, bias=True)\n",
              "              (LayerNorm): LayerNorm((768,), eps=1e-12, elementwise_affine=True)\n",
              "              (dropout): Dropout(p=0.1, inplace=False)\n",
              "            )\n",
              "          )\n",
              "          (intermediate): BertIntermediate(\n",
              "            (dense): Linear(in_features=768, out_features=3072, bias=True)\n",
              "          )\n",
              "          (output): BertOutput(\n",
              "            (dense): Linear(in_features=3072, out_features=768, bias=True)\n",
              "            (LayerNorm): LayerNorm((768,), eps=1e-12, elementwise_affine=True)\n",
              "            (dropout): Dropout(p=0.1, inplace=False)\n",
              "          )\n",
              "        )\n",
              "      )\n",
              "    )\n",
              "  )\n",
              "  (dropout): Dropout(p=0.1, inplace=False)\n",
              "  (classifier): Linear(in_features=768, out_features=247, bias=True)\n",
              ")"
            ]
          },
          "execution_count": 39,
          "metadata": {},
          "output_type": "execute_result"
        }
      ],
      "source": [
        "model = transformers.BertForTokenClassification.from_pretrained(\n",
        "    MODEL_TO_TRAIN,\n",
        "    num_labels=len(tag2idx),\n",
        "    output_attentions = False,\n",
        "    output_hidden_states = False\n",
        ")\n",
        "model.to(device)"
      ]
    },
    {
      "cell_type": "markdown",
      "metadata": {
        "id": "rPsQIx1T1C1P"
      },
      "source": [
        "## Setting up the optimizer.\n",
        "We want to optimize weight values, so we add a decay.\n",
        "We can get all the weights from `model_named_parameters()`\n",
        "But we need to remove `bias`, `gamma` and `beta` which are Layer Normalization parameters we don't want to touch.\n",
        "\n",
        "Activate `FULL_TINETUNING` to modify weights in all the layers."
      ]
    },
    {
      "cell_type": "code",
      "execution_count": 40,
      "metadata": {
        "id": "i60zq9ZAGWBk"
      },
      "outputs": [],
      "source": [
        "FULL_FINETUNING = True\n",
        "if FULL_FINETUNING:\n",
        "    param_optimizer = list(model.named_parameters())\n",
        "    no_decay = ['bias', 'gamma', 'beta']\n",
        "    optimizer_grouped_parameters = [\n",
        "        {'params': [p for n, p in param_optimizer if not any(nd in n for nd in no_decay)],\n",
        "         'weight_decay_rate': 0.01},\n",
        "        {'params': [p for n, p in param_optimizer if any(nd in n for nd in no_decay)],\n",
        "         'weight_decay_rate': 0.0}\n",
        "    ]\n",
        "else:\n",
        "    param_optimizer = list(model.classifier.named_parameters())\n",
        "    optimizer_grouped_parameters = [{\"params\": [p for n, p in param_optimizer]}]\n",
        "\n",
        "optimizer = AdamW(\n",
        "    optimizer_grouped_parameters,\n",
        "    lr=3e-5,\n",
        "    eps=1e-8\n",
        ")\n"
      ]
    },
    {
      "cell_type": "markdown",
      "metadata": {
        "id": "o107IXiT7e6F"
      },
      "source": [
        "## Setting up the scheduler\n",
        "It will manage Optimizer and Learning Rate changes. We use warmup"
      ]
    },
    {
      "cell_type": "code",
      "execution_count": 41,
      "metadata": {
        "id": "j_XaydBy7iac"
      },
      "outputs": [],
      "source": [
        "epochs = EPOCHS\n",
        "max_grad_norm = 1.0\n",
        "\n",
        "# Total number of training steps is number of batches * number of epochs.\n",
        "total_steps = len(train_dataloader) * epochs\n",
        "\n",
        "# Create the learning rate scheduler.\n",
        "scheduler = get_linear_schedule_with_warmup(\n",
        "    optimizer,\n",
        "    num_warmup_steps=0,\n",
        "    num_training_steps=total_steps\n",
        ")\n"
      ]
    },
    {
      "cell_type": "markdown",
      "metadata": {
        "id": "iYMOIBG0Jkx1"
      },
      "source": [
        "Now, let's train"
      ]
    },
    {
      "cell_type": "code",
      "execution_count": 42,
      "metadata": {
        "colab": {
          "base_uri": "https://localhost:8080/"
        },
        "id": "XC7Fro7bGWI5",
        "outputId": "64c90c5b-73d6-435f-91c3-feeef315fcd0"
      },
      "outputs": [
        {
          "name": "stderr",
          "output_type": "stream",
          "text": [
            "Epoch:  10%|█         | 1/10 [00:18<02:49, 18.86s/it]"
          ]
        },
        {
          "name": "stdout",
          "output_type": "stream",
          "text": [
            "Average train loss: 5.278835713863373\n",
            "\n"
          ]
        },
        {
          "name": "stderr",
          "output_type": "stream",
          "text": [
            "\rEpoch:  20%|██        | 2/10 [00:28<01:47, 13.42s/it]"
          ]
        },
        {
          "name": "stdout",
          "output_type": "stream",
          "text": [
            "Skipping saving...\n",
            "Average train loss: 4.50340610742569\n",
            "\n"
          ]
        },
        {
          "name": "stderr",
          "output_type": "stream",
          "text": [
            "\rEpoch:  30%|███       | 3/10 [00:38<01:22, 11.72s/it]"
          ]
        },
        {
          "name": "stdout",
          "output_type": "stream",
          "text": [
            "Skipping saving...\n",
            "Average train loss: 4.00476148724556\n",
            "\n"
          ]
        },
        {
          "name": "stderr",
          "output_type": "stream",
          "text": [
            "\rEpoch:  40%|████      | 4/10 [00:48<01:06, 11.02s/it]"
          ]
        },
        {
          "name": "stdout",
          "output_type": "stream",
          "text": [
            "Skipping saving...\n",
            "Average train loss: 3.6690904796123505\n",
            "\n"
          ]
        },
        {
          "name": "stderr",
          "output_type": "stream",
          "text": [
            "\rEpoch:  50%|█████     | 5/10 [00:58<00:53, 10.67s/it]"
          ]
        },
        {
          "name": "stdout",
          "output_type": "stream",
          "text": [
            "Skipping saving...\n",
            "Average train loss: 3.520973891019821\n",
            "\n"
          ]
        },
        {
          "name": "stderr",
          "output_type": "stream",
          "text": [
            "\rEpoch:  60%|██████    | 6/10 [01:14<00:50, 12.73s/it]"
          ]
        },
        {
          "name": "stdout",
          "output_type": "stream",
          "text": [
            "Average train loss: 3.310168117284775\n",
            "\n"
          ]
        },
        {
          "name": "stderr",
          "output_type": "stream",
          "text": [
            "\rEpoch:  70%|███████   | 7/10 [01:25<00:36, 12.01s/it]"
          ]
        },
        {
          "name": "stdout",
          "output_type": "stream",
          "text": [
            "Skipping saving...\n",
            "Average train loss: 3.160410374403\n",
            "\n"
          ]
        },
        {
          "name": "stderr",
          "output_type": "stream",
          "text": [
            "\rEpoch:  80%|████████  | 8/10 [01:36<00:23, 11.62s/it]"
          ]
        },
        {
          "name": "stdout",
          "output_type": "stream",
          "text": [
            "Skipping saving...\n",
            "Average train loss: 3.076319247484207\n",
            "\n"
          ]
        },
        {
          "name": "stderr",
          "output_type": "stream",
          "text": [
            "\rEpoch:  90%|█████████ | 9/10 [01:47<00:11, 11.40s/it]"
          ]
        },
        {
          "name": "stdout",
          "output_type": "stream",
          "text": [
            "Skipping saving...\n",
            "Average train loss: 2.984026178717613\n",
            "\n"
          ]
        },
        {
          "name": "stderr",
          "output_type": "stream",
          "text": [
            "Epoch: 100%|██████████| 10/10 [01:57<00:00, 11.78s/it]"
          ]
        },
        {
          "name": "stdout",
          "output_type": "stream",
          "text": [
            "Skipping saving...\n",
            "Average train loss: 2.8937235176563263\n",
            "\n"
          ]
        },
        {
          "name": "stderr",
          "output_type": "stream",
          "text": [
            "\n"
          ]
        }
      ],
      "source": [
        "\n",
        "## Store the average loss after each epoch so we can plot them.\n",
        "loss_values, validation_loss_values = [], []\n",
        "\n",
        "for EPOCH in trange(epochs, desc=\"Epoch\"):\n",
        "    # Put the model into training mode.\n",
        "    model.train()\n",
        "    # Reset the total loss for this epoch.\n",
        "    total_loss = 0\n",
        "\n",
        "    # Training loop\n",
        "    for step, batch in enumerate(train_dataloader):\n",
        "        # add batch to gpu\n",
        "        batch = tuple(t.to(device) for t in batch)\n",
        "        b_input_ids, b_input_mask, b_labels = batch\n",
        "        # Always clear any previously calculated gradients before performing a backward pass.\n",
        "        model.zero_grad()\n",
        "        # forward pass\n",
        "        # This will return the loss (rather than the model output)\n",
        "        # because we have provided the `labels`.\n",
        "        outputs = model(b_input_ids, token_type_ids=None,\n",
        "                        attention_mask=b_input_mask, labels=b_labels)\n",
        "        # get the loss\n",
        "        loss = outputs[0]\n",
        "        # Perform a backward pass to calculate the gradients.\n",
        "        loss.backward()\n",
        "        # track train loss\n",
        "        total_loss += loss.item()\n",
        "        # Clip the norm of the gradient\n",
        "        # This is to help prevent the \"exploding gradients\" problem.\n",
        "        torch.nn.utils.clip_grad_norm_(parameters=model.parameters(), max_norm=max_grad_norm)\n",
        "        # update parameters\n",
        "        optimizer.step()\n",
        "        # Update the learning rate.\n",
        "        scheduler.step()\n",
        "\n",
        "    # Calculate the average loss over the training data.\n",
        "    avg_train_loss = total_loss / len(train_dataloader)\n",
        "    tr_loss = f\"Average train loss: {str(avg_train_loss)}\\n\"\n",
        "\n",
        "    if EPOCH % 5 == 0:\n",
        "      # Saving partial models (this creates the folder too)    \n",
        "      tokenizer.save_pretrained(f'{PROJECT_NAME}/{str(EPOCH)}/tokenizer/')\n",
        "      model.save_pretrained(save_directory=f'{PROJECT_NAME}/{str(EPOCH)}/',\n",
        "                            save_config=True, state_dict=model.state_dict)\n",
        "      # Saving checkpoint in case it crashes, to restore work\n",
        "      torch.save({\n",
        "          'epoch': EPOCH,\n",
        "          'model_state_dict': model.state_dict(),\n",
        "          'optimizer_state_dict': optimizer.state_dict(),\n",
        "          'loss': avg_train_loss,\n",
        "          }, f'{PROJECT_NAME}/{str(EPOCH)}/checkpoint.pth')\n",
        "    else:\n",
        "      print(\"Skipping saving...\")\n",
        "\n",
        "    # Store the loss value for plotting the learning curve.\n",
        "    loss_values.append(avg_train_loss)\n",
        "    \n",
        "    if EPOCH % 5 == 0:\n",
        "      # Saving losses log\n",
        "      with open(f'{PROJECT_NAME}/logs/epoch_' + str(EPOCH) + '_loss.log', 'a') as f:\n",
        "        f.write(tr_loss)\n",
        "\n",
        "    # Printing also to stdout\n",
        "    print(tr_loss)\n"
      ]
    },
    {
      "cell_type": "markdown",
      "metadata": {
        "id": "czwipZWe-Esi"
      },
      "source": [
        "## Now load the model as TF and save properly"
      ]
    },
    {
      "cell_type": "code",
      "execution_count": 43,
      "metadata": {
        "id": "HFNcOvu2MjWx"
      },
      "outputs": [],
      "source": [
        "last_successfull_epoch = len(loss_values) - 1\n",
        "if last_successfull_epoch < 0:\n",
        "  last_successfull_epoch = None "
      ]
    },
    {
      "cell_type": "code",
      "execution_count": 44,
      "metadata": {
        "colab": {
          "base_uri": "https://localhost:8080/"
        },
        "id": "w1rQ4Dat-AVJ",
        "outputId": "b0456d6d-44bd-4bad-a846-cebc03fc22e4"
      },
      "outputs": [
        {
          "name": "stdout",
          "output_type": "stream",
          "text": [
            "Last successfull epoch: 9\n"
          ]
        }
      ],
      "source": [
        "if last_successfull_epoch is None:\n",
        "  print(\"No epochs finished successfully.\")\n",
        "else:\n",
        "  print(f\"Last successfull epoch: {str(last_successfull_epoch)}\")"
      ]
    },
    {
      "cell_type": "code",
      "execution_count": 45,
      "metadata": {
        "id": "87TWLuiY-Gr7"
      },
      "outputs": [],
      "source": [
        "# first save the model as pytorch model (we'll cast later)\n",
        "MODEL_NAME_PYTORCH = 'model_epoch_'+str(last_successfull_epoch)+'_pytorch'\n",
        "MODEL_NAME_TF = 'model_epoch_'+str(last_successfull_epoch)+'_tf'"
      ]
    },
    {
      "cell_type": "code",
      "execution_count": 46,
      "metadata": {
        "colab": {
          "base_uri": "https://localhost:8080/"
        },
        "id": "YNgWBr2HAc27",
        "outputId": "0e6b561c-0d63-46e9-a075-a08a8b04d607"
      },
      "outputs": [
        {
          "name": "stdout",
          "output_type": "stream",
          "text": [
            "model_epoch_9_pytorch\n",
            "model_epoch_9_tf\n"
          ]
        }
      ],
      "source": [
        "print(MODEL_NAME_PYTORCH)\n",
        "print(MODEL_NAME_TF)"
      ]
    },
    {
      "cell_type": "code",
      "execution_count": 47,
      "metadata": {
        "id": "-w-7q_Gm_aMQ"
      },
      "outputs": [],
      "source": [
        "# now load the model as TF and save properly\n",
        "from transformers import TFBertForTokenClassification\n",
        "\n",
        "tokenizer.save_pretrained(f'./{PROJECT_NAME}/{MODEL_NAME_PYTORCH}_tokenizer/')\n",
        "model.save_pretrained(f'./{PROJECT_NAME}/{MODEL_NAME_PYTORCH}', saved_model=True, save_format='tf')"
      ]
    },
    {
      "cell_type": "markdown",
      "metadata": {
        "collapsed": false,
        "id": "8Y-k7w4WfgKv"
      },
      "source": [
        "**IMPORTANT** If it's a domain-specific model, we need to use an interface to load and save it, that will change the input_signature so that it can only be loaded with sparknlp_jsl.xx.XXBertForTokenClassification"
      ]
    },
    {
      "cell_type": "code",
      "execution_count": 48,
      "metadata": {
        "id": "HY4S985IfgKv"
      },
      "outputs": [],
      "source": [
        "from transformers import TFBertForTokenClassification\n",
        "import tensorflow as tf\n",
        "\n",
        "# Creation of a subclass in order to define a new serving signature\n",
        "class DomainSpecificModel(TFBertForTokenClassification):\n",
        "    # Decorate the serving method with the new input_signature\n",
        "    # an input_signature represents the name, the data type and the shape of an expected input\n",
        "    @tf.function(input_signature=[{\n",
        "        \"input_ids\": tf.TensorSpec((None, None), tf.int32, name=\"medical_input_ids\"),\n",
        "        \"attention_mask\": tf.TensorSpec((None, None), tf.int32, name=\"attention_mask\"),\n",
        "        \"token_type_ids\": tf.TensorSpec((None, None), tf.int32, name=\"token_type_ids\"),\n",
        "\n",
        "    }])\n",
        "    def serving(self, inputs):\n",
        "        # call the model to process the inputs\n",
        "        output = self.call(inputs)\n",
        "\n",
        "        # return the formated output\n",
        "        return self.serving_output(output)"
      ]
    },
    {
      "cell_type": "code",
      "execution_count": 49,
      "metadata": {
        "colab": {
          "base_uri": "https://localhost:8080/"
        },
        "id": "-L76A2yrfgKv",
        "outputId": "8ba97b08-6eae-448b-b72e-37a5eeab33bf"
      },
      "outputs": [
        {
          "name": "stderr",
          "output_type": "stream",
          "text": [
            "Some weights of the PyTorch model were not used when initializing the TF 2.0 model DomainSpecificModel: ['bert.embeddings.position_ids']\n",
            "- This IS expected if you are initializing DomainSpecificModel from a PyTorch model trained on another task or with another architecture (e.g. initializing a TFBertForSequenceClassification model from a BertForPreTraining model).\n",
            "- This IS NOT expected if you are initializing DomainSpecificModel from a PyTorch model that you expect to be exactly identical (e.g. initializing a TFBertForSequenceClassification model from a BertForSequenceClassification model).\n",
            "All the weights of DomainSpecificModel were initialized from the PyTorch model.\n",
            "If your task is similar to the task the model of the checkpoint was trained on, you can already use DomainSpecificModel for predictions without further training.\n",
            "WARNING:tensorflow:The parameters `output_attentions`, `output_hidden_states` and `use_cache` cannot be updated when calling a model.They have to be set to True/False in the config object (i.e.: `config=XConfig.from_pretrained('name', output_attentions=True)`).\n",
            "WARNING:tensorflow:AutoGraph could not transform <bound method Socket.send of <zmq.Socket(zmq.PUSH) at 0x7f0ee7e91ee0>> and will run it as-is.\n",
            "Please report this to the TensorFlow team. When filing the bug, set the verbosity to 10 (on Linux, `export AUTOGRAPH_VERBOSITY=10`) and attach the full output.\n",
            "Cause: module, class, method, function, traceback, frame, or code object was expected, got cython_function_or_method\n",
            "To silence this warning, decorate the function with @tf.autograph.experimental.do_not_convert\n"
          ]
        },
        {
          "name": "stdout",
          "output_type": "stream",
          "text": [
            "WARNING: AutoGraph could not transform <bound method Socket.send of <zmq.Socket(zmq.PUSH) at 0x7f0ee7e91ee0>> and will run it as-is.\n",
            "Please report this to the TensorFlow team. When filing the bug, set the verbosity to 10 (on Linux, `export AUTOGRAPH_VERBOSITY=10`) and attach the full output.\n",
            "Cause: module, class, method, function, traceback, frame, or code object was expected, got cython_function_or_method\n",
            "To silence this warning, decorate the function with @tf.autograph.experimental.do_not_convert\n"
          ]
        },
        {
          "name": "stderr",
          "output_type": "stream",
          "text": [
            "WARNING:tensorflow:The parameter `return_dict` cannot be set in graph mode and will always be set to `True`.\n",
            "WARNING:tensorflow:The parameters `output_attentions`, `output_hidden_states` and `use_cache` cannot be updated when calling a model.They have to be set to True/False in the config object (i.e.: `config=XConfig.from_pretrained('name', output_attentions=True)`).\n",
            "WARNING:tensorflow:The parameter `return_dict` cannot be set in graph mode and will always be set to `True`.\n",
            "WARNING:tensorflow:The parameters `output_attentions`, `output_hidden_states` and `use_cache` cannot be updated when calling a model.They have to be set to True/False in the config object (i.e.: `config=XConfig.from_pretrained('name', output_attentions=True)`).\n",
            "WARNING:tensorflow:The parameter `return_dict` cannot be set in graph mode and will always be set to `True`.\n",
            "WARNING:tensorflow:The parameters `output_attentions`, `output_hidden_states` and `use_cache` cannot be updated when calling a model.They have to be set to True/False in the config object (i.e.: `config=XConfig.from_pretrained('name', output_attentions=True)`).\n",
            "WARNING:tensorflow:The parameter `return_dict` cannot be set in graph mode and will always be set to `True`.\n",
            "WARNING:tensorflow:The parameters `output_attentions`, `output_hidden_states` and `use_cache` cannot be updated when calling a model.They have to be set to True/False in the config object (i.e.: `config=XConfig.from_pretrained('name', output_attentions=True)`).\n",
            "WARNING:tensorflow:The parameter `return_dict` cannot be set in graph mode and will always be set to `True`.\n",
            "WARNING:tensorflow:The parameters `output_attentions`, `output_hidden_states` and `use_cache` cannot be updated when calling a model.They have to be set to True/False in the config object (i.e.: `config=XConfig.from_pretrained('name', output_attentions=True)`).\n",
            "WARNING:tensorflow:The parameter `return_dict` cannot be set in graph mode and will always be set to `True`.\n",
            "WARNING:tensorflow:The parameters `output_attentions`, `output_hidden_states` and `use_cache` cannot be updated when calling a model.They have to be set to True/False in the config object (i.e.: `config=XConfig.from_pretrained('name', output_attentions=True)`).\n",
            "WARNING:tensorflow:The parameter `return_dict` cannot be set in graph mode and will always be set to `True`.\n",
            "WARNING:tensorflow:The parameters `output_attentions`, `output_hidden_states` and `use_cache` cannot be updated when calling a model.They have to be set to True/False in the config object (i.e.: `config=XConfig.from_pretrained('name', output_attentions=True)`).\n",
            "WARNING:tensorflow:The parameter `return_dict` cannot be set in graph mode and will always be set to `True`.\n",
            "WARNING:absl:Found untraced functions such as embeddings_layer_call_fn, embeddings_layer_call_and_return_conditional_losses, encoder_layer_call_fn, encoder_layer_call_and_return_conditional_losses, add_layer_call_fn while saving (showing 5 of 418). These functions will not be directly callable after loading.\n"
          ]
        }
      ],
      "source": [
        "loaded_model = DomainSpecificModel.from_pretrained(f'./{PROJECT_NAME}/{MODEL_NAME_PYTORCH}', from_pt=True)\n",
        "loaded_model.save_pretrained(f'./{PROJECT_NAME}/{MODEL_NAME_TF}', saved_model=True)"
      ]
    },
    {
      "cell_type": "markdown",
      "metadata": {
        "id": "xWE0rH_8KFEE"
      },
      "source": [
        "### Save label mapping"
      ]
    },
    {
      "cell_type": "code",
      "execution_count": 50,
      "metadata": {
        "colab": {
          "base_uri": "https://localhost:8080/"
        },
        "id": "IuJfZcF_OSaR",
        "outputId": "7a61b81a-bac4-4a4d-e0fc-941adcb3ad79"
      },
      "outputs": [
        {
          "name": "stdout",
          "output_type": "stream",
          "text": [
            "['', '3.073L9.573.677A.25.25', 'data-turbo-transient=\"true\"', 'title=\"GitHub\">', 'btn-octicon', 'crossOrigin=\"use-credentials\">', 'class=\"\">', 'data-view-component=\"true\"', 'vulnerabilities', 'position-relative', 'dark\"', 'data-filter-placeholder=\"Filter', 'env-production', 'tooltipped', 'rounded-2', 'sign', 'mb-2', '4.22a.75.75', 'flex-justify-end', 'does', 'data-light-theme=\"light\"', 'flex-auto', 'overflow-hidden', 'd-flex\">', 'role=\"img\"', 'my-1\">By', 'd-flex', '2.5a.75.75', 'data-hotkey=\"t\"', 'data-hpc>', 'href=\"https://github.com/pricing\"', 'tooltipped-nw', 'data-turbo-track=\"reload\">', 'px-lg-0', '1A1.75', 'all', 'border-0', 'container-xl', 'data-tab-item=\"i1issues-tab\"', '1.75', 'my-1\"></div></span>', 'developers', 'href=\"/JohnSnowLabs/spark-nlp-workshop\">spark-nlp-workshop</a>', 'py-4', 'hide-xl', 'flash-warn', 'data-tab-item=\"i6security-tab\"', 'data-hydro-click-hmac=\"8b04d14cb260ea481882d62122584d47371ff9520c5b5507f3f8c984908640b3\"', '\"', 'href=\"/JohnSnowLabs/spark-nlp-workshop/delete/master/tutorials/Certification_Trainings_JSL/Legal/data/conll_noO.conll\">Delete', 'tags\">', '3a2', 'class=\"SelectMenu-list\"', 'navigation</h3>', 'type=\"button\"', '1.5', 'href=\"/login?return_to=%2FJohnSnowLabs%2Fspark-nlp-workshop\"', 'href=\"https://github.blog\"', 'px-lg-4\">', 'line</span>', 'signed', 'flex-items-baseline\"', 'details-overlay-dark', 'data-tab-item=\"i0code-tab\"', 'code', 'my-1\">Repositories</li>', 'f5', 'role=\"tab\"', 'data-modal-dialog-overlay>', '1.75a.25.25', 'flex-self-stretch\">', '/><meta', 'path\"', 'v-align-middle\">↵</span>', 'Progress', 'href=\"https://support.github.com?tags=dotcom-footer\"', 'my-1\"></div>', 'd-none', 'jump', 'already', '0', 'data-turbo-transient=\"\">', 'jump-to-field', 'details-overlay-dark\"', 'height-fit', '3.25a.75.75', 'class=\"footer-octicon', '\">', 'data-tab-item=\"i3discussions-tab\"', 'selected', 'data-turbo-transient>', '1.754a.25.25', '6.22a.75.75', 'runnable', 'data-tab-item=\"i4actions-tab\"', 'flex-wrap', '3.22a.75.75', 'rel=\"stylesheet\"', 'px-3', 'list-style-none\">', '7a4.499', '6.75C0', '[],', 'border-bottom', 'text-right\">', 'aria-hidden=\"true\">T</span>', 'data-turbo-replace=\"\"', 'my-1\">Explore</li>', '}}/tutorials/Certification_Trainings_JSL/Legal/data/conll_noO.conll\"', 'position-absolute\"', 'type=\"image/svg+xml\"', 'ReadME', 'aria-modal=\"true\"', 'my-1\">For</li>', 'aria-hidden=\"true\">L</span>', 'flex-column', '0A1.75', 'class=\"details-overlay', 'loader-error\">Cannot', 'py-md-0', 'flash', '1.75C0', 'rel=\"author\"', 'data-tab-item=\"i7insights-tab\"', 'data-analytics-event=\"{&quot;category&quot;:&quot;Footer&quot;,&quot;action&quot;:&quot;go', 'js-details-dialog-spinner\"></div>', 'color-fg-muted\">/</span>', 'css-truncate-overflow', 'but', 'd-block', 'data-tab-item=\"i5projects-tab\"', 'id=\"raw-url\"', '}}\"', 'p-0', 'clicked', 'show</div>', 'js-flash-close\"', 'data-hotkey=\"y\"', 'col-lg-8\">', 'dialog\"></summary>', 'review</div>', 'd-lg-none', 'class=\"UnderlineNav-actions', 'mr-3', 'right-0', 'col-5', 'to', 'js-branches-tags-tabs\"', 'v-align-middle', 'that', 'viewBox=\"0', '2.5A2.5', 'class=\"p-0', 'href=\"https://docs.github.com/en/github/site-policy/github-privacy-statement\"', '0C3.58', 'data-target=\"input-demux.control\"', 'color:', 'avatar-user', 'pb-6\">', 'href=\"https://docs.github.com\"', 'href=\"/opensearch.xml\"', 'flex-items-center\"', '12a9.5', 'class=\"js-path-segment', 'crossorigin>', '2.75a.25.25', 'btn', '7.002', 'packages', 'class=\"SelectMenu-list', 'mt-3', 'Sponsors</div>', 'itemprop=\"author\">', '8a6.5', 'd-lg-inline-block\">', 'flex-items-center', '3.75C3.5', 'pb-0', 'requests</span>', 'flex-order-2\"', 'href=\"https://docs.github.com/en/github/site-policy/github-terms-of-service\"', 'work', 'details-overlay', '3.396a.25.25', 'Overlay-header--divided\">', 'px-lg-4', 'class=\"dropdown-menu', 'ml-1', '3.72a.75.75', 'class=\"js-data-jump-to-suggestions-path-csrf\"', 'data-toggle-for=\"branch-select-menu\"><svg', 'col-1\">&nbsp;</div>', 'with', 'Popover-message--large', 'no-underline', 'data-tab-item=\"i2pull-requests-tab\"', 'class=\"js-flash-alert\">', 'height=\"16\"', 'pb-3\"', 'href=\"https://services.github.com\"', 'width-fit', 'role=\"tab\">Tags</button>', 'px-0', '·', '1.75a.75.75', 'class=\"btn\">', 'page-responsive', 'js-details-container', 'data-turbo-action=\"advance\"', 'file</span>', 'Inc.', 'rounded', 'permalink\"', 'git', 'data-filter-placeholder=\"Find', '1h4.146a.25.25', 'data-hydro-click=\"{&quot;event_type&quot;:&quot;authentication.click&quot;,&quot;payload&quot;:{&quot;location_in_page&quot;:&quot;notification', 'class=\"js-site-favicon\"', 'my-1\">Case', 'input-sm', 'height=\"20\"', 'js-ajax-error-dismiss\"', 'data-pjax-transient=\"true\"/><meta', 'dropdown-item\"', 'style=\"width:', 'pr-2', 'data-turbo-replace=\"true\"', 'r=\"7\"', 'data-ga-click=\"Footer,', 'flex-items-center\">', 'type=\"application/javascript\"', 'flex-shrink-0', 'index', '.25a.75.75', '/>', '2', '</textarea></xmp>', 'aria-live=\"polite\"', 'href=\"https://www.githubstatus.com/\"', 'aria-label=\"in', 'data-hydro-click=\"{&quot;event_type&quot;:&quot;authentication.click&quot;,&quot;payload&quot;:{&quot;location_in_page&quot;:&quot;star', 'color=\"#000000\">', 'aria-expanded=\"false\"', 'mr-0', 'class=\"pt-3', 'name=\"type\"', 'PAD']\n"
          ]
        }
      ],
      "source": [
        "labels = sorted(tag2idx, key=tag2idx.get)\n",
        "\n",
        "print (labels)\n",
        "\n",
        "with open(f'./{PROJECT_NAME}/{MODEL_NAME_TF}/saved_model/1/assets/labels.txt', 'w') as f:\n",
        "    f.write('\\n'.join(labels))"
      ]
    },
    {
      "cell_type": "markdown",
      "metadata": {
        "id": "cP_erIY_KIbS"
      },
      "source": [
        "### Copy files in tf model's assets"
      ]
    },
    {
      "cell_type": "code",
      "execution_count": 51,
      "metadata": {
        "id": "eITuMKj8MxNS"
      },
      "outputs": [],
      "source": [
        "vocab_pth = f\"./{PROJECT_NAME}/{MODEL_NAME_PYTORCH}_tokenizer/vocab.txt\"\n",
        "saved_model_pth = f'./{PROJECT_NAME}/{MODEL_NAME_TF}/saved_model/1/assets/'\n",
        "\n",
        "! cp $vocab_pth $saved_model_pth"
      ]
    },
    {
      "cell_type": "markdown",
      "metadata": {
        "id": "Mg2tkES9KQPW"
      },
      "source": [
        "# Now load the saved model in Spark NLP and save it properly"
      ]
    },
    {
      "cell_type": "code",
      "execution_count": 52,
      "metadata": {
        "id": "ajwSmwj1QtIo"
      },
      "outputs": [],
      "source": [
        "domain = 'FINANCE' # or 'FINANCE' or 'OPENSOURCE'\n",
        "\n",
        "if domain == 'OPENSOURCE':\n",
        "  classifier_class = BertForTokenClassification\n",
        "elif domain == 'LEGAL':\n",
        "  classifier_class = sparknlp_jsl.legal.LegalBertForTokenClassification\n",
        "  classifier_classpath = \"com.johnsnowlabs.legal.token_classification.ner.LegalBertForTokenClassification\"\n",
        "elif domain == 'FINANCE':\n",
        "  classifier_class = sparknlp_jsl.finance.FinanceBertForTokenClassification\n",
        "  classifier_classpath = \"com.johnsnowlabs.finance.token_classification.ner.FinanceBertForTokenClassification\""
      ]
    },
    {
      "cell_type": "code",
      "execution_count": 53,
      "metadata": {
        "colab": {
          "base_uri": "https://localhost:8080/"
        },
        "id": "JwWTOxyjdCGc",
        "outputId": "b3c4d956-95c1-4ef0-de64-b82086dd8e5c"
      },
      "outputs": [
        {
          "data": {
            "text/plain": [
              "sparknlp_jsl.finance.token_classification.ner.finance_bert_for_token_classifier.FinanceBertForTokenClassification"
            ]
          },
          "execution_count": 53,
          "metadata": {},
          "output_type": "execute_result"
        }
      ],
      "source": [
        "classifier_class"
      ]
    },
    {
      "cell_type": "code",
      "execution_count": 54,
      "metadata": {
        "colab": {
          "base_uri": "https://localhost:8080/",
          "height": 35
        },
        "id": "EhYAoarme2pT",
        "outputId": "1778d61d-4e40-4dd4-e231-a0739a9678e7"
      },
      "outputs": [
        {
          "data": {
            "application/vnd.google.colaboratory.intrinsic+json": {
              "type": "string"
            },
            "text/plain": [
              "'com.johnsnowlabs.finance.token_classification.ner.FinanceBertForTokenClassification'"
            ]
          },
          "execution_count": 54,
          "metadata": {},
          "output_type": "execute_result"
        }
      ],
      "source": [
        "classifier_classpath"
      ]
    },
    {
      "cell_type": "code",
      "execution_count": 55,
      "metadata": {
        "id": "OqrmF3dkGWNY"
      },
      "outputs": [],
      "source": [
        "from sparknlp.annotator import *\n",
        "from sparknlp_jsl.annotator import *\n",
        "\n",
        "# For Finance\n",
        "tokenClassifier = classifier_class.loadSavedModel(\n",
        "     f'./{PROJECT_NAME}/{MODEL_NAME_TF}/saved_model/1',\n",
        "     spark\n",
        " )\\\n",
        " .setInputCols([\"sentence\",'token'])\\\n",
        "  .setOutputCol(\"ner\")\\\n",
        "  .setCaseSensitive(True)\\\n",
        "  .setMaxSentenceLength(256)"
      ]
    },
    {
      "cell_type": "code",
      "execution_count": 56,
      "metadata": {
        "id": "AT8Fo_lQGWP7"
      },
      "outputs": [],
      "source": [
        "tokenClassifier.write().overwrite().save(f\"./{PROJECT_NAME}/{MODEL_NAME_TF}_spark_nlp\")"
      ]
    },
    {
      "cell_type": "code",
      "execution_count": 57,
      "metadata": {
        "id": "uL_5pv6rd8pV"
      },
      "outputs": [],
      "source": [
        "import json\n",
        "with open(f\"./{PROJECT_NAME}/{MODEL_NAME_TF}_spark_nlp/metadata/part-00000\", 'r') as fr:\n",
        "  metadata = json.load(fr)\n",
        "metadata['class'] = classifier_classpath\n",
        "with open(f\"./{PROJECT_NAME}/{MODEL_NAME_TF}_spark_nlp/metadata/part-00000\", 'w') as fw:\n",
        "  metadata = json.dump(metadata, fw)"
      ]
    },
    {
      "cell_type": "code",
      "execution_count": 58,
      "metadata": {
        "id": "tA8sNacgiBgj"
      },
      "outputs": [],
      "source": [
        "!rm ./{PROJECT_NAME}/{MODEL_NAME_TF}_spark_nlp/metadata/.*.crc"
      ]
    },
    {
      "cell_type": "code",
      "execution_count": 59,
      "metadata": {
        "colab": {
          "base_uri": "https://localhost:8080/"
        },
        "id": "Jn8AJPDxiJhc",
        "outputId": "53bbc277-a1f3-4eb6-b644-692ccef4294e"
      },
      "outputs": [
        {
          "name": "stdout",
          "output_type": "stream",
          "text": [
            "total 12K\n",
            "drwxr-xr-x 2 root root 4.0K Jan 11 16:19 .\n",
            "drwxr-xr-x 4 root root 4.0K Jan 11 16:19 ..\n",
            "-rw-r--r-- 1 root root  479 Jan 11 16:19 part-00000\n",
            "-rw-r--r-- 1 root root    0 Jan 11 16:18 _SUCCESS\n"
          ]
        }
      ],
      "source": [
        "!ls -lah ./{PROJECT_NAME}/{MODEL_NAME_TF}_spark_nlp/metadata/"
      ]
    },
    {
      "cell_type": "markdown",
      "metadata": {
        "id": "54WOuCvoKaN7"
      },
      "source": [
        "# Test the imported model in Spark NLP"
      ]
    },
    {
      "cell_type": "code",
      "execution_count": 60,
      "metadata": {
        "id": "Qh87bK58tw5y"
      },
      "outputs": [],
      "source": [
        "from sparknlp.base import *\n",
        "from sparknlp.annotator import *\n",
        "from pyspark.ml import Pipeline\n",
        "\n",
        "documentAssembler = DocumentAssembler()\\\n",
        "  .setInputCol(\"text\")\\\n",
        "  .setOutputCol(\"document\")\n",
        "\n",
        "sparktokenizer = Tokenizer()\\\n",
        "  .setInputCols(\"document\")\\\n",
        "  .setOutputCol(\"token\")\n",
        "\n",
        "from sparknlp_jsl.annotator import *\n",
        "\n",
        "tokenClassifier = classifier_class.load(f\"./{PROJECT_NAME}/{MODEL_NAME_TF}_spark_nlp\")\\\n",
        "  .setInputCols(\"token\", \"document\")\\\n",
        "  .setOutputCol(\"label\")\\\n",
        "  .setCaseSensitive(True)\n"
      ]
    },
    {
      "cell_type": "code",
      "execution_count": 61,
      "metadata": {
        "id": "UGOV6Oik3jGc"
      },
      "outputs": [],
      "source": [
        "pipeline =  Pipeline(stages=[\n",
        "  documentAssembler,\n",
        "  sparktokenizer,\n",
        "  tokenClassifier\n",
        "    ]\n",
        ")"
      ]
    },
    {
      "cell_type": "code",
      "execution_count": 62,
      "metadata": {
        "id": "PPG-J1D6CuUj"
      },
      "outputs": [],
      "source": [
        "p_model = pipeline.fit(spark.createDataFrame(pd.DataFrame({'text': ['']})))"
      ]
    },
    {
      "cell_type": "code",
      "execution_count": 63,
      "metadata": {
        "colab": {
          "base_uri": "https://localhost:8080/"
        },
        "id": "D_nGP7YVQIxv",
        "outputId": "067486e5-9621-4883-d869-d6dec3ac8f88"
      },
      "outputs": [
        {
          "name": "stdout",
          "output_type": "stream",
          "text": [
            "+--------------------+--------------------+--------------------+--------------------+\n",
            "|                text|            document|               token|               label|\n",
            "+--------------------+--------------------+--------------------+--------------------+\n",
            "|fox grants to lic...|[{document, 0, 17...|[{token, 0, 2, fo...|[{named_entity, 0...|\n",
            "+--------------------+--------------------+--------------------+--------------------+\n",
            "\n"
          ]
        }
      ],
      "source": [
        "text = \"\"\"Fox grants to Licensee a limited, exclusive (except as otherwise may be provided in this Agreement), \n",
        "non-transferable (except as permitted in Paragraph 17(d)) right and license\"\"\".lower()\n",
        "res = p_model.transform(spark.createDataFrame([[text]]).toDF(\"text\"))\n",
        "\n",
        "res.show()"
      ]
    },
    {
      "cell_type": "code",
      "execution_count": 64,
      "metadata": {
        "colab": {
          "base_uri": "https://localhost:8080/"
        },
        "id": "mhqNplVEEjs_",
        "outputId": "0f6169a7-81c4-4e39-c63d-1fff99f1ea81"
      },
      "outputs": [
        {
          "name": "stdout",
          "output_type": "stream",
          "text": [
            "+----------------+----------------------------------------------------------------------------------------------------+\n",
            "|           token|                                                                                           ner_label|\n",
            "+----------------+----------------------------------------------------------------------------------------------------+\n",
            "|             fox|                                                                                             d-block|\n",
            "|          grants|                                                                                             d-block|\n",
            "|              to|                                                                                          flash-warn|\n",
            "|        licensee|                                                                                          col-lg-8\">|\n",
            "|               a|                                                                                             d-block|\n",
            "|         limited|                                                                                             d-block|\n",
            "|               ,|                                                                                             d-block|\n",
            "|       exclusive|                                                                                                code|\n",
            "|               (|                                                                                             d-block|\n",
            "|          except|                                                                                             d-block|\n",
            "|              as|                                                                                             d-block|\n",
            "|       otherwise|                                                                                             d-block|\n",
            "|             may|                                                                                             d-block|\n",
            "|              be|href=\"/JohnSnowLabs/spark-nlp-workshop/delete/master/tutorials/Certification_Trainings_JSL/Legal/...|\n",
            "|        provided|                                                                                             d-block|\n",
            "|              in|                                                                                                    |\n",
            "|            this|                                                                                          viewBox=\"0|\n",
            "|       agreement|                                                                                             d-block|\n",
            "|              ),|                                                                                             d-block|\n",
            "|non-transferable|                                                                                         1.75a.25.25|\n",
            "+----------------+----------------------------------------------------------------------------------------------------+\n",
            "only showing top 20 rows\n",
            "\n"
          ]
        }
      ],
      "source": [
        "from pyspark.sql import functions as F\n",
        "\n",
        "res.select(F.explode(F.arrays_zip('token.result', 'label.result')).alias(\"cols\")) \\\n",
        "               .select(F.expr(\"cols['0']\").alias(\"token\"),\n",
        "                       F.expr(\"cols['1']\").alias(\"ner_label\"))\\\n",
        "               .show(20, truncate=100)"
      ]
    },
    {
      "cell_type": "code",
      "execution_count": 65,
      "metadata": {
        "id": "fsttvgU5Akgf"
      },
      "outputs": [],
      "source": [
        "os.environ['SPARKNLP_TF_MODEL'] = MODEL_NAME_TF + \"_spark_nlp\""
      ]
    },
    {
      "cell_type": "code",
      "execution_count": 66,
      "metadata": {
        "colab": {
          "base_uri": "https://localhost:8080/"
        },
        "id": "n4_1fh_tFhls",
        "outputId": "75c229b4-9059-4470-93f4-92172d13e2d0"
      },
      "outputs": [
        {
          "name": "stdout",
          "output_type": "stream",
          "text": [
            "  adding: model_epoch_9_tf_spark_nlp/ (stored 0%)\n",
            "  adding: model_epoch_9_tf_spark_nlp/bert_classification_tensorflow (deflated 8%)\n",
            "  adding: model_epoch_9_tf_spark_nlp/metadata/ (stored 0%)\n",
            "  adding: model_epoch_9_tf_spark_nlp/metadata/_SUCCESS (stored 0%)\n",
            "  adding: model_epoch_9_tf_spark_nlp/metadata/part-00000 (deflated 39%)\n",
            "  adding: model_epoch_9_tf_spark_nlp/fields/ (stored 0%)\n",
            "  adding: model_epoch_9_tf_spark_nlp/fields/vocabulary/ (stored 0%)\n",
            "  adding: model_epoch_9_tf_spark_nlp/fields/vocabulary/.part-00000.crc (stored 0%)\n",
            "  adding: model_epoch_9_tf_spark_nlp/fields/vocabulary/.part-00001.crc (stored 0%)\n",
            "  adding: model_epoch_9_tf_spark_nlp/fields/vocabulary/_SUCCESS (stored 0%)\n",
            "  adding: model_epoch_9_tf_spark_nlp/fields/vocabulary/part-00000 (deflated 78%)\n",
            "  adding: model_epoch_9_tf_spark_nlp/fields/vocabulary/._SUCCESS.crc (stored 0%)\n",
            "  adding: model_epoch_9_tf_spark_nlp/fields/vocabulary/part-00001 (deflated 78%)\n",
            "  adding: model_epoch_9_tf_spark_nlp/fields/labels/ (stored 0%)\n",
            "  adding: model_epoch_9_tf_spark_nlp/fields/labels/.part-00000.crc (stored 0%)\n",
            "  adding: model_epoch_9_tf_spark_nlp/fields/labels/.part-00001.crc (stored 0%)\n",
            "  adding: model_epoch_9_tf_spark_nlp/fields/labels/_SUCCESS (stored 0%)\n",
            "  adding: model_epoch_9_tf_spark_nlp/fields/labels/part-00000 (deflated 68%)\n",
            "  adding: model_epoch_9_tf_spark_nlp/fields/labels/._SUCCESS.crc (stored 0%)\n",
            "  adding: model_epoch_9_tf_spark_nlp/fields/labels/part-00001 (deflated 69%)\n",
            "  adding: model_epoch_9_tf_spark_nlp/fields/signatures/ (stored 0%)\n",
            "  adding: model_epoch_9_tf_spark_nlp/fields/signatures/.part-00000.crc (stored 0%)\n",
            "  adding: model_epoch_9_tf_spark_nlp/fields/signatures/.part-00001.crc (stored 0%)\n",
            "  adding: model_epoch_9_tf_spark_nlp/fields/signatures/_SUCCESS (stored 0%)\n",
            "  adding: model_epoch_9_tf_spark_nlp/fields/signatures/part-00000 (deflated 32%)\n",
            "  adding: model_epoch_9_tf_spark_nlp/fields/signatures/._SUCCESS.crc (stored 0%)\n",
            "  adding: model_epoch_9_tf_spark_nlp/fields/signatures/part-00001 (deflated 29%)\n",
            "  adding: model_epoch_9_tf_spark_nlp/.bert_classification_tensorflow.crc (deflated 0%)\n"
          ]
        }
      ],
      "source": [
        "!cd $PROJECT_NAME && zip -r $PROJECT_NAME.zip $SPARKNLP_TF_MODEL"
      ]
    },
    {
      "cell_type": "markdown",
      "metadata": {
        "id": "88WTHot2z2cR"
      },
      "source": [
        "# MOUNT DRIVE AND SAVE YOUR MODEL TO IT"
      ]
    },
    {
      "cell_type": "code",
      "execution_count": 67,
      "metadata": {
        "colab": {
          "base_uri": "https://localhost:8080/"
        },
        "id": "Dzn-fkwftWnP",
        "outputId": "cdf18c02-fea6-4025-dad1-f176bcf16bd2"
      },
      "outputs": [
        {
          "name": "stdout",
          "output_type": "stream",
          "text": [
            "Mounted at /content/gdrive\n"
          ]
        }
      ],
      "source": [
        "from google.colab import drive\n",
        "drive.mount('/content/gdrive')"
      ]
    },
    {
      "cell_type": "code",
      "execution_count": 68,
      "metadata": {
        "id": "f66fQFr6tlKK"
      },
      "outputs": [],
      "source": [
        "!cp financial_operations/financial_operations.zip /content/gdrive/MyDrive/"
      ]
    }
  ],
  "metadata": {
    "accelerator": "GPU",
    "colab": {
      "provenance": []
    },
    "gpuClass": "standard",
    "kernelspec": {
      "display_name": "Python 3",
      "name": "python3"
    },
    "language_info": {
      "name": "python"
    },
    "widgets": {
      "application/vnd.jupyter.widget-state+json": {
        "04720090e35f42c496bcbf9c39aab5eb": {
          "model_module": "@jupyter-widgets/base",
          "model_module_version": "1.2.0",
          "model_name": "LayoutModel",
          "state": {
            "_model_module": "@jupyter-widgets/base",
            "_model_module_version": "1.2.0",
            "_model_name": "LayoutModel",
            "_view_count": null,
            "_view_module": "@jupyter-widgets/base",
            "_view_module_version": "1.2.0",
            "_view_name": "LayoutView",
            "align_content": null,
            "align_items": null,
            "align_self": null,
            "border": null,
            "bottom": null,
            "display": null,
            "flex": null,
            "flex_flow": null,
            "grid_area": null,
            "grid_auto_columns": null,
            "grid_auto_flow": null,
            "grid_auto_rows": null,
            "grid_column": null,
            "grid_gap": null,
            "grid_row": null,
            "grid_template_areas": null,
            "grid_template_columns": null,
            "grid_template_rows": null,
            "height": null,
            "justify_content": null,
            "justify_items": null,
            "left": null,
            "margin": null,
            "max_height": null,
            "max_width": null,
            "min_height": null,
            "min_width": null,
            "object_fit": null,
            "object_position": null,
            "order": null,
            "overflow": null,
            "overflow_x": null,
            "overflow_y": null,
            "padding": null,
            "right": null,
            "top": null,
            "visibility": null,
            "width": null
          }
        },
        "077b85c0c0464d069ad80fcdea7eaea3": {
          "model_module": "@jupyter-widgets/base",
          "model_module_version": "1.2.0",
          "model_name": "LayoutModel",
          "state": {
            "_model_module": "@jupyter-widgets/base",
            "_model_module_version": "1.2.0",
            "_model_name": "LayoutModel",
            "_view_count": null,
            "_view_module": "@jupyter-widgets/base",
            "_view_module_version": "1.2.0",
            "_view_name": "LayoutView",
            "align_content": null,
            "align_items": null,
            "align_self": null,
            "border": null,
            "bottom": null,
            "display": null,
            "flex": null,
            "flex_flow": null,
            "grid_area": null,
            "grid_auto_columns": null,
            "grid_auto_flow": null,
            "grid_auto_rows": null,
            "grid_column": null,
            "grid_gap": null,
            "grid_row": null,
            "grid_template_areas": null,
            "grid_template_columns": null,
            "grid_template_rows": null,
            "height": null,
            "justify_content": null,
            "justify_items": null,
            "left": null,
            "margin": null,
            "max_height": null,
            "max_width": null,
            "min_height": null,
            "min_width": null,
            "object_fit": null,
            "object_position": null,
            "order": null,
            "overflow": null,
            "overflow_x": null,
            "overflow_y": null,
            "padding": null,
            "right": null,
            "top": null,
            "visibility": null,
            "width": null
          }
        },
        "0c7ad78ca2ee45e9a3e2ffd2b7f7300a": {
          "model_module": "@jupyter-widgets/controls",
          "model_module_version": "1.5.0",
          "model_name": "HTMLModel",
          "state": {
            "_dom_classes": [],
            "_model_module": "@jupyter-widgets/controls",
            "_model_module_version": "1.5.0",
            "_model_name": "HTMLModel",
            "_view_count": null,
            "_view_module": "@jupyter-widgets/controls",
            "_view_module_version": "1.5.0",
            "_view_name": "HTMLView",
            "description": "",
            "description_tooltip": null,
            "layout": "IPY_MODEL_74b7e5ca225749fd815e2439322d89b4",
            "placeholder": "​",
            "style": "IPY_MODEL_9d6e18021ba1407a91b59bacaed7a899",
            "value": "Downloading: 100%"
          }
        },
        "126f8cba5bb74467a318dc92270d363f": {
          "model_module": "@jupyter-widgets/base",
          "model_module_version": "1.2.0",
          "model_name": "LayoutModel",
          "state": {
            "_model_module": "@jupyter-widgets/base",
            "_model_module_version": "1.2.0",
            "_model_name": "LayoutModel",
            "_view_count": null,
            "_view_module": "@jupyter-widgets/base",
            "_view_module_version": "1.2.0",
            "_view_name": "LayoutView",
            "align_content": null,
            "align_items": null,
            "align_self": null,
            "border": null,
            "bottom": null,
            "display": null,
            "flex": null,
            "flex_flow": null,
            "grid_area": null,
            "grid_auto_columns": null,
            "grid_auto_flow": null,
            "grid_auto_rows": null,
            "grid_column": null,
            "grid_gap": null,
            "grid_row": null,
            "grid_template_areas": null,
            "grid_template_columns": null,
            "grid_template_rows": null,
            "height": null,
            "justify_content": null,
            "justify_items": null,
            "left": null,
            "margin": null,
            "max_height": null,
            "max_width": null,
            "min_height": null,
            "min_width": null,
            "object_fit": null,
            "object_position": null,
            "order": null,
            "overflow": null,
            "overflow_x": null,
            "overflow_y": null,
            "padding": null,
            "right": null,
            "top": null,
            "visibility": null,
            "width": null
          }
        },
        "12f41495256e4fbe853a7cb42491fa1f": {
          "model_module": "@jupyter-widgets/controls",
          "model_module_version": "1.5.0",
          "model_name": "FloatProgressModel",
          "state": {
            "_dom_classes": [],
            "_model_module": "@jupyter-widgets/controls",
            "_model_module_version": "1.5.0",
            "_model_name": "FloatProgressModel",
            "_view_count": null,
            "_view_module": "@jupyter-widgets/controls",
            "_view_module_version": "1.5.0",
            "_view_name": "ProgressView",
            "bar_style": "success",
            "description": "",
            "description_tooltip": null,
            "layout": "IPY_MODEL_4b48ec3b57e949608efd0d281d6f8f0a",
            "max": 441551705,
            "min": 0,
            "orientation": "horizontal",
            "style": "IPY_MODEL_adcec8cce73c49ecb04277ded25df394",
            "value": 441551705
          }
        },
        "234d31b4246d4258b952cf5bb75a21dc": {
          "model_module": "@jupyter-widgets/controls",
          "model_module_version": "1.5.0",
          "model_name": "ProgressStyleModel",
          "state": {
            "_model_module": "@jupyter-widgets/controls",
            "_model_module_version": "1.5.0",
            "_model_name": "ProgressStyleModel",
            "_view_count": null,
            "_view_module": "@jupyter-widgets/base",
            "_view_module_version": "1.2.0",
            "_view_name": "StyleView",
            "bar_color": null,
            "description_width": ""
          }
        },
        "248afd1326fe48f7966295d53693a2b5": {
          "model_module": "@jupyter-widgets/base",
          "model_module_version": "1.2.0",
          "model_name": "LayoutModel",
          "state": {
            "_model_module": "@jupyter-widgets/base",
            "_model_module_version": "1.2.0",
            "_model_name": "LayoutModel",
            "_view_count": null,
            "_view_module": "@jupyter-widgets/base",
            "_view_module_version": "1.2.0",
            "_view_name": "LayoutView",
            "align_content": null,
            "align_items": null,
            "align_self": null,
            "border": null,
            "bottom": null,
            "display": null,
            "flex": null,
            "flex_flow": null,
            "grid_area": null,
            "grid_auto_columns": null,
            "grid_auto_flow": null,
            "grid_auto_rows": null,
            "grid_column": null,
            "grid_gap": null,
            "grid_row": null,
            "grid_template_areas": null,
            "grid_template_columns": null,
            "grid_template_rows": null,
            "height": null,
            "justify_content": null,
            "justify_items": null,
            "left": null,
            "margin": null,
            "max_height": null,
            "max_width": null,
            "min_height": null,
            "min_width": null,
            "object_fit": null,
            "object_position": null,
            "order": null,
            "overflow": null,
            "overflow_x": null,
            "overflow_y": null,
            "padding": null,
            "right": null,
            "top": null,
            "visibility": null,
            "width": null
          }
        },
        "27367e6b0365420f8273fd7d3b2bdb36": {
          "model_module": "@jupyter-widgets/controls",
          "model_module_version": "1.5.0",
          "model_name": "DescriptionStyleModel",
          "state": {
            "_model_module": "@jupyter-widgets/controls",
            "_model_module_version": "1.5.0",
            "_model_name": "DescriptionStyleModel",
            "_view_count": null,
            "_view_module": "@jupyter-widgets/base",
            "_view_module_version": "1.2.0",
            "_view_name": "StyleView",
            "description_width": ""
          }
        },
        "352dcb310af5460096bd9372da6a67b8": {
          "model_module": "@jupyter-widgets/controls",
          "model_module_version": "1.5.0",
          "model_name": "DescriptionStyleModel",
          "state": {
            "_model_module": "@jupyter-widgets/controls",
            "_model_module_version": "1.5.0",
            "_model_name": "DescriptionStyleModel",
            "_view_count": null,
            "_view_module": "@jupyter-widgets/base",
            "_view_module_version": "1.2.0",
            "_view_name": "StyleView",
            "description_width": ""
          }
        },
        "4a1a855c416a481e9966287408e9bb2c": {
          "model_module": "@jupyter-widgets/controls",
          "model_module_version": "1.5.0",
          "model_name": "ProgressStyleModel",
          "state": {
            "_model_module": "@jupyter-widgets/controls",
            "_model_module_version": "1.5.0",
            "_model_name": "ProgressStyleModel",
            "_view_count": null,
            "_view_module": "@jupyter-widgets/base",
            "_view_module_version": "1.2.0",
            "_view_name": "StyleView",
            "bar_color": null,
            "description_width": ""
          }
        },
        "4b48ec3b57e949608efd0d281d6f8f0a": {
          "model_module": "@jupyter-widgets/base",
          "model_module_version": "1.2.0",
          "model_name": "LayoutModel",
          "state": {
            "_model_module": "@jupyter-widgets/base",
            "_model_module_version": "1.2.0",
            "_model_name": "LayoutModel",
            "_view_count": null,
            "_view_module": "@jupyter-widgets/base",
            "_view_module_version": "1.2.0",
            "_view_name": "LayoutView",
            "align_content": null,
            "align_items": null,
            "align_self": null,
            "border": null,
            "bottom": null,
            "display": null,
            "flex": null,
            "flex_flow": null,
            "grid_area": null,
            "grid_auto_columns": null,
            "grid_auto_flow": null,
            "grid_auto_rows": null,
            "grid_column": null,
            "grid_gap": null,
            "grid_row": null,
            "grid_template_areas": null,
            "grid_template_columns": null,
            "grid_template_rows": null,
            "height": null,
            "justify_content": null,
            "justify_items": null,
            "left": null,
            "margin": null,
            "max_height": null,
            "max_width": null,
            "min_height": null,
            "min_width": null,
            "object_fit": null,
            "object_position": null,
            "order": null,
            "overflow": null,
            "overflow_x": null,
            "overflow_y": null,
            "padding": null,
            "right": null,
            "top": null,
            "visibility": null,
            "width": null
          }
        },
        "5b1fad9bb9e04160b1f9e836b360a276": {
          "model_module": "@jupyter-widgets/controls",
          "model_module_version": "1.5.0",
          "model_name": "HTMLModel",
          "state": {
            "_dom_classes": [],
            "_model_module": "@jupyter-widgets/controls",
            "_model_module_version": "1.5.0",
            "_model_name": "HTMLModel",
            "_view_count": null,
            "_view_module": "@jupyter-widgets/controls",
            "_view_module_version": "1.5.0",
            "_view_name": "HTMLView",
            "description": "",
            "description_tooltip": null,
            "layout": "IPY_MODEL_971b6356b0f34ff19fb8b594637f5896",
            "placeholder": "​",
            "style": "IPY_MODEL_aea27886f8ac415e81681c4155b67098",
            "value": " 359/359 [00:00&lt;00:00, 5.83kB/s]"
          }
        },
        "65f71b0a04be4f9a99ae75b5f24183b8": {
          "model_module": "@jupyter-widgets/base",
          "model_module_version": "1.2.0",
          "model_name": "LayoutModel",
          "state": {
            "_model_module": "@jupyter-widgets/base",
            "_model_module_version": "1.2.0",
            "_model_name": "LayoutModel",
            "_view_count": null,
            "_view_module": "@jupyter-widgets/base",
            "_view_module_version": "1.2.0",
            "_view_name": "LayoutView",
            "align_content": null,
            "align_items": null,
            "align_self": null,
            "border": null,
            "bottom": null,
            "display": null,
            "flex": null,
            "flex_flow": null,
            "grid_area": null,
            "grid_auto_columns": null,
            "grid_auto_flow": null,
            "grid_auto_rows": null,
            "grid_column": null,
            "grid_gap": null,
            "grid_row": null,
            "grid_template_areas": null,
            "grid_template_columns": null,
            "grid_template_rows": null,
            "height": null,
            "justify_content": null,
            "justify_items": null,
            "left": null,
            "margin": null,
            "max_height": null,
            "max_width": null,
            "min_height": null,
            "min_width": null,
            "object_fit": null,
            "object_position": null,
            "order": null,
            "overflow": null,
            "overflow_x": null,
            "overflow_y": null,
            "padding": null,
            "right": null,
            "top": null,
            "visibility": null,
            "width": null
          }
        },
        "74b7e5ca225749fd815e2439322d89b4": {
          "model_module": "@jupyter-widgets/base",
          "model_module_version": "1.2.0",
          "model_name": "LayoutModel",
          "state": {
            "_model_module": "@jupyter-widgets/base",
            "_model_module_version": "1.2.0",
            "_model_name": "LayoutModel",
            "_view_count": null,
            "_view_module": "@jupyter-widgets/base",
            "_view_module_version": "1.2.0",
            "_view_name": "LayoutView",
            "align_content": null,
            "align_items": null,
            "align_self": null,
            "border": null,
            "bottom": null,
            "display": null,
            "flex": null,
            "flex_flow": null,
            "grid_area": null,
            "grid_auto_columns": null,
            "grid_auto_flow": null,
            "grid_auto_rows": null,
            "grid_column": null,
            "grid_gap": null,
            "grid_row": null,
            "grid_template_areas": null,
            "grid_template_columns": null,
            "grid_template_rows": null,
            "height": null,
            "justify_content": null,
            "justify_items": null,
            "left": null,
            "margin": null,
            "max_height": null,
            "max_width": null,
            "min_height": null,
            "min_width": null,
            "object_fit": null,
            "object_position": null,
            "order": null,
            "overflow": null,
            "overflow_x": null,
            "overflow_y": null,
            "padding": null,
            "right": null,
            "top": null,
            "visibility": null,
            "width": null
          }
        },
        "790b70912c2f47c4b6b94f1ca07fdbef": {
          "model_module": "@jupyter-widgets/controls",
          "model_module_version": "1.5.0",
          "model_name": "HBoxModel",
          "state": {
            "_dom_classes": [],
            "_model_module": "@jupyter-widgets/controls",
            "_model_module_version": "1.5.0",
            "_model_name": "HBoxModel",
            "_view_count": null,
            "_view_module": "@jupyter-widgets/controls",
            "_view_module_version": "1.5.0",
            "_view_name": "HBoxView",
            "box_style": "",
            "children": [
              "IPY_MODEL_0c7ad78ca2ee45e9a3e2ffd2b7f7300a",
              "IPY_MODEL_f4e50fd005f444c4a0fe692f95f36902",
              "IPY_MODEL_ad08d0f4848345c8bdc6fc14dfc33fcc"
            ],
            "layout": "IPY_MODEL_077b85c0c0464d069ad80fcdea7eaea3"
          }
        },
        "83b9c522e81645afbdc249dafc1ee141": {
          "model_module": "@jupyter-widgets/controls",
          "model_module_version": "1.5.0",
          "model_name": "DescriptionStyleModel",
          "state": {
            "_model_module": "@jupyter-widgets/controls",
            "_model_module_version": "1.5.0",
            "_model_name": "DescriptionStyleModel",
            "_view_count": null,
            "_view_module": "@jupyter-widgets/base",
            "_view_module_version": "1.2.0",
            "_view_name": "StyleView",
            "description_width": ""
          }
        },
        "8ec5a93fe22b4f0a843d935fd6227aea": {
          "model_module": "@jupyter-widgets/controls",
          "model_module_version": "1.5.0",
          "model_name": "HTMLModel",
          "state": {
            "_dom_classes": [],
            "_model_module": "@jupyter-widgets/controls",
            "_model_module_version": "1.5.0",
            "_model_name": "HTMLModel",
            "_view_count": null,
            "_view_module": "@jupyter-widgets/controls",
            "_view_module_version": "1.5.0",
            "_view_name": "HTMLView",
            "description": "",
            "description_tooltip": null,
            "layout": "IPY_MODEL_ef5e0fc692064fce9ab3403e68ca7200",
            "placeholder": "​",
            "style": "IPY_MODEL_352dcb310af5460096bd9372da6a67b8",
            "value": "Downloading: 100%"
          }
        },
        "971b6356b0f34ff19fb8b594637f5896": {
          "model_module": "@jupyter-widgets/base",
          "model_module_version": "1.2.0",
          "model_name": "LayoutModel",
          "state": {
            "_model_module": "@jupyter-widgets/base",
            "_model_module_version": "1.2.0",
            "_model_name": "LayoutModel",
            "_view_count": null,
            "_view_module": "@jupyter-widgets/base",
            "_view_module_version": "1.2.0",
            "_view_name": "LayoutView",
            "align_content": null,
            "align_items": null,
            "align_self": null,
            "border": null,
            "bottom": null,
            "display": null,
            "flex": null,
            "flex_flow": null,
            "grid_area": null,
            "grid_auto_columns": null,
            "grid_auto_flow": null,
            "grid_auto_rows": null,
            "grid_column": null,
            "grid_gap": null,
            "grid_row": null,
            "grid_template_areas": null,
            "grid_template_columns": null,
            "grid_template_rows": null,
            "height": null,
            "justify_content": null,
            "justify_items": null,
            "left": null,
            "margin": null,
            "max_height": null,
            "max_width": null,
            "min_height": null,
            "min_width": null,
            "object_fit": null,
            "object_position": null,
            "order": null,
            "overflow": null,
            "overflow_x": null,
            "overflow_y": null,
            "padding": null,
            "right": null,
            "top": null,
            "visibility": null,
            "width": null
          }
        },
        "977c88a51188434fb4d7bcf068045597": {
          "model_module": "@jupyter-widgets/controls",
          "model_module_version": "1.5.0",
          "model_name": "HBoxModel",
          "state": {
            "_dom_classes": [],
            "_model_module": "@jupyter-widgets/controls",
            "_model_module_version": "1.5.0",
            "_model_name": "HBoxModel",
            "_view_count": null,
            "_view_module": "@jupyter-widgets/controls",
            "_view_module_version": "1.5.0",
            "_view_name": "HBoxView",
            "box_style": "",
            "children": [
              "IPY_MODEL_e43b195c6c0a453cb36f9f56ec1aa53e",
              "IPY_MODEL_12f41495256e4fbe853a7cb42491fa1f",
              "IPY_MODEL_9e35ce0b74c64ace93315c19292e33fe"
            ],
            "layout": "IPY_MODEL_f2d6d934f2684e7bbf951b51eee9d290"
          }
        },
        "9d6e18021ba1407a91b59bacaed7a899": {
          "model_module": "@jupyter-widgets/controls",
          "model_module_version": "1.5.0",
          "model_name": "DescriptionStyleModel",
          "state": {
            "_model_module": "@jupyter-widgets/controls",
            "_model_module_version": "1.5.0",
            "_model_name": "DescriptionStyleModel",
            "_view_count": null,
            "_view_module": "@jupyter-widgets/base",
            "_view_module_version": "1.2.0",
            "_view_name": "StyleView",
            "description_width": ""
          }
        },
        "9e35ce0b74c64ace93315c19292e33fe": {
          "model_module": "@jupyter-widgets/controls",
          "model_module_version": "1.5.0",
          "model_name": "HTMLModel",
          "state": {
            "_dom_classes": [],
            "_model_module": "@jupyter-widgets/controls",
            "_model_module_version": "1.5.0",
            "_model_name": "HTMLModel",
            "_view_count": null,
            "_view_module": "@jupyter-widgets/controls",
            "_view_module_version": "1.5.0",
            "_view_name": "HTMLView",
            "description": "",
            "description_tooltip": null,
            "layout": "IPY_MODEL_65f71b0a04be4f9a99ae75b5f24183b8",
            "placeholder": "​",
            "style": "IPY_MODEL_83b9c522e81645afbdc249dafc1ee141",
            "value": " 442M/442M [00:10&lt;00:00, 74.1MB/s]"
          }
        },
        "a3bffaaeb8b54d75946e59a54d224748": {
          "model_module": "@jupyter-widgets/base",
          "model_module_version": "1.2.0",
          "model_name": "LayoutModel",
          "state": {
            "_model_module": "@jupyter-widgets/base",
            "_model_module_version": "1.2.0",
            "_model_name": "LayoutModel",
            "_view_count": null,
            "_view_module": "@jupyter-widgets/base",
            "_view_module_version": "1.2.0",
            "_view_name": "LayoutView",
            "align_content": null,
            "align_items": null,
            "align_self": null,
            "border": null,
            "bottom": null,
            "display": null,
            "flex": null,
            "flex_flow": null,
            "grid_area": null,
            "grid_auto_columns": null,
            "grid_auto_flow": null,
            "grid_auto_rows": null,
            "grid_column": null,
            "grid_gap": null,
            "grid_row": null,
            "grid_template_areas": null,
            "grid_template_columns": null,
            "grid_template_rows": null,
            "height": null,
            "justify_content": null,
            "justify_items": null,
            "left": null,
            "margin": null,
            "max_height": null,
            "max_width": null,
            "min_height": null,
            "min_width": null,
            "object_fit": null,
            "object_position": null,
            "order": null,
            "overflow": null,
            "overflow_x": null,
            "overflow_y": null,
            "padding": null,
            "right": null,
            "top": null,
            "visibility": null,
            "width": null
          }
        },
        "ad08d0f4848345c8bdc6fc14dfc33fcc": {
          "model_module": "@jupyter-widgets/controls",
          "model_module_version": "1.5.0",
          "model_name": "HTMLModel",
          "state": {
            "_dom_classes": [],
            "_model_module": "@jupyter-widgets/controls",
            "_model_module_version": "1.5.0",
            "_model_name": "HTMLModel",
            "_view_count": null,
            "_view_module": "@jupyter-widgets/controls",
            "_view_module_version": "1.5.0",
            "_view_name": "HTMLView",
            "description": "",
            "description_tooltip": null,
            "layout": "IPY_MODEL_04720090e35f42c496bcbf9c39aab5eb",
            "placeholder": "​",
            "style": "IPY_MODEL_27367e6b0365420f8273fd7d3b2bdb36",
            "value": " 226k/226k [00:00&lt;00:00, 1.34MB/s]"
          }
        },
        "adcec8cce73c49ecb04277ded25df394": {
          "model_module": "@jupyter-widgets/controls",
          "model_module_version": "1.5.0",
          "model_name": "ProgressStyleModel",
          "state": {
            "_model_module": "@jupyter-widgets/controls",
            "_model_module_version": "1.5.0",
            "_model_name": "ProgressStyleModel",
            "_view_count": null,
            "_view_module": "@jupyter-widgets/base",
            "_view_module_version": "1.2.0",
            "_view_name": "StyleView",
            "bar_color": null,
            "description_width": ""
          }
        },
        "aea27886f8ac415e81681c4155b67098": {
          "model_module": "@jupyter-widgets/controls",
          "model_module_version": "1.5.0",
          "model_name": "DescriptionStyleModel",
          "state": {
            "_model_module": "@jupyter-widgets/controls",
            "_model_module_version": "1.5.0",
            "_model_name": "DescriptionStyleModel",
            "_view_count": null,
            "_view_module": "@jupyter-widgets/base",
            "_view_module_version": "1.2.0",
            "_view_name": "StyleView",
            "description_width": ""
          }
        },
        "c064844836674ec0b27a55e766ef4302": {
          "model_module": "@jupyter-widgets/base",
          "model_module_version": "1.2.0",
          "model_name": "LayoutModel",
          "state": {
            "_model_module": "@jupyter-widgets/base",
            "_model_module_version": "1.2.0",
            "_model_name": "LayoutModel",
            "_view_count": null,
            "_view_module": "@jupyter-widgets/base",
            "_view_module_version": "1.2.0",
            "_view_name": "LayoutView",
            "align_content": null,
            "align_items": null,
            "align_self": null,
            "border": null,
            "bottom": null,
            "display": null,
            "flex": null,
            "flex_flow": null,
            "grid_area": null,
            "grid_auto_columns": null,
            "grid_auto_flow": null,
            "grid_auto_rows": null,
            "grid_column": null,
            "grid_gap": null,
            "grid_row": null,
            "grid_template_areas": null,
            "grid_template_columns": null,
            "grid_template_rows": null,
            "height": null,
            "justify_content": null,
            "justify_items": null,
            "left": null,
            "margin": null,
            "max_height": null,
            "max_width": null,
            "min_height": null,
            "min_width": null,
            "object_fit": null,
            "object_position": null,
            "order": null,
            "overflow": null,
            "overflow_x": null,
            "overflow_y": null,
            "padding": null,
            "right": null,
            "top": null,
            "visibility": null,
            "width": null
          }
        },
        "c20a515d7e3a44d79d2462fd7bf28331": {
          "model_module": "@jupyter-widgets/controls",
          "model_module_version": "1.5.0",
          "model_name": "HBoxModel",
          "state": {
            "_dom_classes": [],
            "_model_module": "@jupyter-widgets/controls",
            "_model_module_version": "1.5.0",
            "_model_name": "HBoxModel",
            "_view_count": null,
            "_view_module": "@jupyter-widgets/controls",
            "_view_module_version": "1.5.0",
            "_view_name": "HBoxView",
            "box_style": "",
            "children": [
              "IPY_MODEL_8ec5a93fe22b4f0a843d935fd6227aea",
              "IPY_MODEL_e94f9818475c401d8629ca1c75a6b12c",
              "IPY_MODEL_5b1fad9bb9e04160b1f9e836b360a276"
            ],
            "layout": "IPY_MODEL_a3bffaaeb8b54d75946e59a54d224748"
          }
        },
        "e43b195c6c0a453cb36f9f56ec1aa53e": {
          "model_module": "@jupyter-widgets/controls",
          "model_module_version": "1.5.0",
          "model_name": "HTMLModel",
          "state": {
            "_dom_classes": [],
            "_model_module": "@jupyter-widgets/controls",
            "_model_module_version": "1.5.0",
            "_model_name": "HTMLModel",
            "_view_count": null,
            "_view_module": "@jupyter-widgets/controls",
            "_view_module_version": "1.5.0",
            "_view_name": "HTMLView",
            "description": "",
            "description_tooltip": null,
            "layout": "IPY_MODEL_248afd1326fe48f7966295d53693a2b5",
            "placeholder": "​",
            "style": "IPY_MODEL_e5aa2bb6d24a4c5080a79f63fe8e1d32",
            "value": "Downloading: 100%"
          }
        },
        "e5aa2bb6d24a4c5080a79f63fe8e1d32": {
          "model_module": "@jupyter-widgets/controls",
          "model_module_version": "1.5.0",
          "model_name": "DescriptionStyleModel",
          "state": {
            "_model_module": "@jupyter-widgets/controls",
            "_model_module_version": "1.5.0",
            "_model_name": "DescriptionStyleModel",
            "_view_count": null,
            "_view_module": "@jupyter-widgets/base",
            "_view_module_version": "1.2.0",
            "_view_name": "StyleView",
            "description_width": ""
          }
        },
        "e94f9818475c401d8629ca1c75a6b12c": {
          "model_module": "@jupyter-widgets/controls",
          "model_module_version": "1.5.0",
          "model_name": "FloatProgressModel",
          "state": {
            "_dom_classes": [],
            "_model_module": "@jupyter-widgets/controls",
            "_model_module_version": "1.5.0",
            "_model_name": "FloatProgressModel",
            "_view_count": null,
            "_view_module": "@jupyter-widgets/controls",
            "_view_module_version": "1.5.0",
            "_view_name": "ProgressView",
            "bar_style": "success",
            "description": "",
            "description_tooltip": null,
            "layout": "IPY_MODEL_c064844836674ec0b27a55e766ef4302",
            "max": 359,
            "min": 0,
            "orientation": "horizontal",
            "style": "IPY_MODEL_234d31b4246d4258b952cf5bb75a21dc",
            "value": 359
          }
        },
        "ef5e0fc692064fce9ab3403e68ca7200": {
          "model_module": "@jupyter-widgets/base",
          "model_module_version": "1.2.0",
          "model_name": "LayoutModel",
          "state": {
            "_model_module": "@jupyter-widgets/base",
            "_model_module_version": "1.2.0",
            "_model_name": "LayoutModel",
            "_view_count": null,
            "_view_module": "@jupyter-widgets/base",
            "_view_module_version": "1.2.0",
            "_view_name": "LayoutView",
            "align_content": null,
            "align_items": null,
            "align_self": null,
            "border": null,
            "bottom": null,
            "display": null,
            "flex": null,
            "flex_flow": null,
            "grid_area": null,
            "grid_auto_columns": null,
            "grid_auto_flow": null,
            "grid_auto_rows": null,
            "grid_column": null,
            "grid_gap": null,
            "grid_row": null,
            "grid_template_areas": null,
            "grid_template_columns": null,
            "grid_template_rows": null,
            "height": null,
            "justify_content": null,
            "justify_items": null,
            "left": null,
            "margin": null,
            "max_height": null,
            "max_width": null,
            "min_height": null,
            "min_width": null,
            "object_fit": null,
            "object_position": null,
            "order": null,
            "overflow": null,
            "overflow_x": null,
            "overflow_y": null,
            "padding": null,
            "right": null,
            "top": null,
            "visibility": null,
            "width": null
          }
        },
        "f2d6d934f2684e7bbf951b51eee9d290": {
          "model_module": "@jupyter-widgets/base",
          "model_module_version": "1.2.0",
          "model_name": "LayoutModel",
          "state": {
            "_model_module": "@jupyter-widgets/base",
            "_model_module_version": "1.2.0",
            "_model_name": "LayoutModel",
            "_view_count": null,
            "_view_module": "@jupyter-widgets/base",
            "_view_module_version": "1.2.0",
            "_view_name": "LayoutView",
            "align_content": null,
            "align_items": null,
            "align_self": null,
            "border": null,
            "bottom": null,
            "display": null,
            "flex": null,
            "flex_flow": null,
            "grid_area": null,
            "grid_auto_columns": null,
            "grid_auto_flow": null,
            "grid_auto_rows": null,
            "grid_column": null,
            "grid_gap": null,
            "grid_row": null,
            "grid_template_areas": null,
            "grid_template_columns": null,
            "grid_template_rows": null,
            "height": null,
            "justify_content": null,
            "justify_items": null,
            "left": null,
            "margin": null,
            "max_height": null,
            "max_width": null,
            "min_height": null,
            "min_width": null,
            "object_fit": null,
            "object_position": null,
            "order": null,
            "overflow": null,
            "overflow_x": null,
            "overflow_y": null,
            "padding": null,
            "right": null,
            "top": null,
            "visibility": null,
            "width": null
          }
        },
        "f4e50fd005f444c4a0fe692f95f36902": {
          "model_module": "@jupyter-widgets/controls",
          "model_module_version": "1.5.0",
          "model_name": "FloatProgressModel",
          "state": {
            "_dom_classes": [],
            "_model_module": "@jupyter-widgets/controls",
            "_model_module_version": "1.5.0",
            "_model_name": "FloatProgressModel",
            "_view_count": null,
            "_view_module": "@jupyter-widgets/controls",
            "_view_module_version": "1.5.0",
            "_view_name": "ProgressView",
            "bar_style": "success",
            "description": "",
            "description_tooltip": null,
            "layout": "IPY_MODEL_126f8cba5bb74467a318dc92270d363f",
            "max": 226122,
            "min": 0,
            "orientation": "horizontal",
            "style": "IPY_MODEL_4a1a855c416a481e9966287408e9bb2c",
            "value": 226122
          }
        }
      }
    }
  },
  "nbformat": 4,
  "nbformat_minor": 0
}
