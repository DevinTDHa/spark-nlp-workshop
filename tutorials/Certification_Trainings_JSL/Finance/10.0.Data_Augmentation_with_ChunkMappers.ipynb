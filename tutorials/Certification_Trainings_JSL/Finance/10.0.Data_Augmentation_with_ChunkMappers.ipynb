{
 "cells": [
  {
   "cell_type": "markdown",
   "id": "db5f4f9a-7776-42b3-8758-85624d4c15ea",
   "metadata": {
    "id": "db5f4f9a-7776-42b3-8758-85624d4c15ea"
   },
   "source": [
    "![JohnSnowLabs](https://nlp.johnsnowlabs.com/assets/images/logo.png)"
   ]
  },
  {
   "cell_type": "markdown",
   "id": "21e9eafb",
   "metadata": {
    "id": "21e9eafb"
   },
   "source": [
    "[![Open In Colab](https://colab.research.google.com/assets/colab-badge.svg)](https://colab.research.google.com/github/JohnSnowLabs/spark-nlp-workshop/blob/master/tutorials/Certification_Trainings_JSL/Finance/8.Data_Augmentation_with_ChunkMappers.ipynb)"
   ]
  },
  {
   "cell_type": "markdown",
   "metadata": {
    "id": "xNGo3Luuh_WT"
   },
   "source": [
    "# Installation"
   ],
   "id": "xNGo3Luuh_WT"
  },
  {
   "cell_type": "code",
   "execution_count": null,
   "metadata": {
    "id": "ELqzaf32MT6E"
   },
   "outputs": [],
   "source": [
    "# Install the johnsnowlabs library to access Spark-OCR and Spark-NLP for Healthcare, Finance, and Legal.\n",
    "! pip install -q johnsnowlabs "
   ],
   "id": "ELqzaf32MT6E"
  },
  {
   "cell_type": "code",
   "source": [
    "from johnsnowlabs import nlp, finance, viz\n",
    "nlp.install(force_browser=True)"
   ],
   "metadata": {
    "id": "jjj6dqPhI6T6"
   },
   "execution_count": null,
   "outputs": [],
   "id": "jjj6dqPhI6T6"
  },
  {
   "cell_type": "markdown",
   "metadata": {
    "id": "Yagc89CuM-9k"
   },
   "source": [
    "# Start Spark Session"
   ],
   "id": "Yagc89CuM-9k"
  },
  {
   "cell_type": "code",
   "execution_count": 4,
   "metadata": {
    "id": "ie3s_l5hqtdi",
    "colab": {
     "base_uri": "https://localhost:8080/"
    },
    "executionInfo": {
     "status": "ok",
     "timestamp": 1673114725658,
     "user_tz": -180,
     "elapsed": 7794,
     "user": {
      "displayName": "Bünyamin Polat",
      "userId": "03982086590103784785"
     }
    },
    "outputId": "37f4adfe-b10a-498c-fa49-f3051d24959e"
   },
   "outputs": [
    {
     "output_type": "stream",
     "name": "stdout",
     "text": [
      "👌 Launched \u001B[92mcpu optimized\u001B[39m session with with: 🚀Spark-NLP==4.2.4, 💊Spark-Healthcare==4.2.4, running on ⚡ PySpark==3.1.2\n"
     ]
    }
   ],
   "source": [
    "spark = nlp.start()"
   ],
   "id": "ie3s_l5hqtdi"
  },
  {
   "cell_type": "markdown",
   "id": "cfbbcfc0-e0b7-4c25-8bd7-c64d90f836d1",
   "metadata": {
    "id": "cfbbcfc0-e0b7-4c25-8bd7-c64d90f836d1"
   },
   "source": [
    "# Financial Data Augmentation with Chunk Mappers"
   ]
  },
  {
   "cell_type": "markdown",
   "id": "d2cd4221-fbca-4ca1-86a9-65e6264c4ad1",
   "metadata": {
    "id": "d2cd4221-fbca-4ca1-86a9-65e6264c4ad1"
   },
   "source": [
    "# About Data Augmentation"
   ]
  },
  {
   "cell_type": "markdown",
   "id": "bf9835fd-9def-44e4-b022-e8db0f045fec",
   "metadata": {
    "id": "bf9835fd-9def-44e4-b022-e8db0f045fec"
   },
   "source": [
    "__Data Augmentation__ is the process of increase an extracted datapoint with external sources. \n",
    "\n",
    "For example, let's suppose I work with a document which mentions the company _Amazon_. We could be talking about stock prices, or some legal litigations, or just a commercial agreement with a provider, among others.\n",
    "\n",
    "In the document, we can extract a company name using NER as an Organization, but that's all the information available about the company in that document.\n",
    "\n",
    "Well, with __Data Augmentation__, we can use external sources, as _SEC Edgar, Crunchbase, Nasdaq_ or even _Wikipedia_, to enrich the company with much more information, allowing us to take better decisions.\n",
    "\n",
    "Let's see how to do it."
   ]
  },
  {
   "cell_type": "markdown",
   "source": [
    "## Sample Texts from Cadence Design System\n",
    "\n",
    "Examples taken from publicly available information about Cadence in SEC's Edgar database [here](https://www.sec.gov/Archives/edgar/data/813672/000081367222000012/cdns-20220101.htm) and [Wikipedia](https://en.wikipedia.org/wiki/Cadence_Design_Systems)"
   ],
   "metadata": {
    "id": "ZTo7fsIKgod-"
   },
   "id": "ZTo7fsIKgod-"
  },
  {
   "cell_type": "code",
   "source": [
    "!wget https://raw.githubusercontent.com/JohnSnowLabs/spark-nlp-workshop/master/tutorials/Certification_Trainings_JSL/Finance/data/cdns-20220101.html.txt"
   ],
   "metadata": {
    "id": "Br_90qxMgn0m"
   },
   "execution_count": null,
   "outputs": [],
   "id": "Br_90qxMgn0m"
  },
  {
   "cell_type": "code",
   "source": [
    "with open('cdns-20220101.html.txt', 'r') as f:\n",
    "  cadence_sec10k = f.read()\n",
    "print(cadence_sec10k[:300])"
   ],
   "metadata": {
    "colab": {
     "base_uri": "https://localhost:8080/"
    },
    "id": "RfPlg8I2gn6A",
    "executionInfo": {
     "status": "ok",
     "timestamp": 1673114726377,
     "user_tz": -180,
     "elapsed": 11,
     "user": {
      "displayName": "Bünyamin Polat",
      "userId": "03982086590103784785"
     }
    },
    "outputId": "0c481756-7402-4cd8-dfe1-cae06d7f401a"
   },
   "execution_count": 6,
   "outputs": [
    {
     "output_type": "stream",
     "name": "stdout",
     "text": [
      "Table of Contents\n",
      "UNITED STATES SECURITIES AND EXCHANGE COMMISSION\n",
      "Washington, D.C. 20549\n",
      "_____________________________________ \n",
      "FORM 10-K \n",
      "_____________________________________  \n",
      "(Mark One)\n",
      "☒\n",
      "ANNUAL REPORT PURSUANT TO SECTION 13 OR 15(d) OF THE SECURITIES EXCHANGE ACT OF 1934\n",
      "For the fiscal year en\n"
     ]
    }
   ],
   "id": "RfPlg8I2gn6A"
  },
  {
   "cell_type": "code",
   "source": [
    "pages = [x for x in cadence_sec10k.split(\"Table of Contents\") if x.strip() != '']\n",
    "print(pages[0])"
   ],
   "metadata": {
    "colab": {
     "base_uri": "https://localhost:8080/"
    },
    "id": "SaX_618cgn-d",
    "executionInfo": {
     "status": "ok",
     "timestamp": 1673114726377,
     "user_tz": -180,
     "elapsed": 9,
     "user": {
      "displayName": "Bünyamin Polat",
      "userId": "03982086590103784785"
     }
    },
    "outputId": "70fde732-2895-4d05-c098-979da0b9d3b3"
   },
   "execution_count": 7,
   "outputs": [
    {
     "output_type": "stream",
     "name": "stdout",
     "text": [
      "\n",
      "UNITED STATES SECURITIES AND EXCHANGE COMMISSION\n",
      "Washington, D.C. 20549\n",
      "_____________________________________ \n",
      "FORM 10-K \n",
      "_____________________________________  \n",
      "(Mark One)\n",
      "☒\n",
      "ANNUAL REPORT PURSUANT TO SECTION 13 OR 15(d) OF THE SECURITIES EXCHANGE ACT OF 1934\n",
      "For the fiscal year ended January 1, 2022 \n",
      "OR\n",
      "☐\n",
      "TRANSITION REPORT PURSUANT TO SECTION 13 OR 15(d) OF THE SECURITIES EXCHANGE ACT OF 1934\n",
      "For the transition period from _________ to_________.\n",
      "\n",
      "Commission file number 000-15867 \n",
      "_____________________________________\n",
      " \n",
      "CADENCE DESIGN SYSTEMS, INC. \n",
      "(Exact name of registrant as specified in its charter)\n",
      "____________________________________ \n",
      "Delaware\n",
      " \n",
      "00-0000000\n",
      "(State or Other Jurisdiction ofIncorporation or Organization)\n",
      " \n",
      "(I.R.S. EmployerIdentification No.)\n",
      "2655 Seely Avenue, Building 5,\n",
      "San Jose,\n",
      "California\n",
      " \n",
      "95134\n",
      "(Address of Principal Executive Offices)\n",
      " \n",
      "(Zip Code)\n",
      "(408)\n",
      "-943-1234 \n",
      "(Registrant’s Telephone Number, including Area Code) \n",
      "Securities registered pursuant to Section 12(b) of the Act:\n",
      "Title of Each Class\n",
      "Trading Symbol(s)\n",
      "Names of Each Exchange on which Registered\n",
      "Common Stock, $0.01 par value per share\n",
      "CDNS\n",
      "Nasdaq Global Select Market\n",
      "Securities registered pursuant to Section 12(g) of the Act:\n",
      "None\n",
      "Indicate by check mark if the registrant is a well-known seasoned issuer, as defined in Rule 405 of the Securities Act.  \n",
      " Yes  \n",
      "☒\n",
      "    No  \n",
      "☐\n",
      "Indicate by check mark if the registrant is not required to file reports pursuant to Section 13 or Section 15(d) of the Act.  \n",
      " Yes \n",
      "☐    \n",
      "No  \n",
      "☒\n",
      "Indicate by check mark whether the registrant (1) has filed all reports required to be filed by Section 13 or 15(d) of the Securities Exchange Act of 1934 during the preceding 12 months (or for such shorter period that the registrant was required to file such reports), and (2) has been subject to such filing requirements for the past 90 days.  \n",
      " Yes  \n",
      "☒\n",
      "    No  \n",
      "☐\n",
      "Indicate by check mark whether the registrant has submitted electronically every Interactive Data File required to be submitted pursuant to Rule 405 of Regulation S-T (§ 232.405 of this chapter) during the preceding 12 months (or for such shorter period that the registrant was required to submit such files). \n",
      " Yes  \n",
      "☒\n",
      "    No  \n",
      "☐\n",
      "Indicate by check mark whether the registrant is a large accelerated filer, an accelerated filer, a non-accelerated filer, a smaller reporting company, or an emerging growth company. See the definitions of “large accelerated filer,” “accelerated filer,” “smaller reporting company,” and “emerging growth company” in Rule 12b-2 of the Exchange Act.\n",
      "Large Accelerated Filer\n",
      "☒\n",
      "Accelerated Filer\n",
      "☐\n",
      "Non-accelerated Filer\n",
      "☐\n",
      "Smaller Reporting Company\n",
      "☐\n",
      "Emerging Growth Company\n",
      "☐\n",
      "If an emerging growth company, indicate by check mark if the registrant has elected not to use the extended transition period for complying with any new or revised financial accounting standards provided pursuant to Section 13(a) of the Exchange Act.  \n",
      "☐\n",
      "Indicate by check mark whether the registrant has filed a report on and attestation to its management’s assessment of the effectiveness of its internal control over financial reporting under Section 404(b) of the Sarbanes-Oxley Act (15 U.S.C. 7262(b)) by the registered public accounting firm that prepared or issued its audit report. \n",
      "☒\n",
      "Indicate by check mark whether the registrant is a shell company (as defined in Rule 12b-2 of the Act). \n",
      " Yes \n",
      "☐ \n",
      "No  \n",
      "☒\n",
      "The aggregate market value of the voting and non-voting common equity held by non-affiliates computed by reference to the price at which the common equity was last sold as of the last business day of the registrant’s most recently completed second fiscal quarter ended July 3, 2021 was approximately $38,179,000,000.\n",
      "On February 5, 2022, approximately 277,336,000 shares of the Registrant’s Common Stock, $0.01 par value, were outstanding.\n",
      "DOCUMENTS INCORPORATED BY REFERENCE\n",
      "Portions of the definitive proxy statement for Cadence Design Systems, Inc.’s 2022 Annual Meeting of Stockholders are incorporated by reference into Part III hereof.\n",
      "\n",
      "\n",
      "\n"
     ]
    }
   ],
   "id": "SaX_618cgn-d"
  },
  {
   "cell_type": "markdown",
   "source": [
    "## Step 1: Using Text Classification to find Relevant Parts of the Document: 10K Summary\n",
    "In this case, we know page 0 is always the page with summary information about the company. However, let's suppose we don't know it. We can use Page Classification.\n",
    "\n",
    "To check the SEC 10K Summary page, we have a specific model called `\"finclf_form_10k_summary_item\"`"
   ],
   "metadata": {
    "id": "nLLpahwrg7uz"
   },
   "id": "nLLpahwrg7uz"
  },
  {
   "cell_type": "code",
   "source": [
    "# Text Classifier\n",
    "# This pipeline allows you to use different classification models to understand if an input text is of a specific class or is something else.\n",
    "  \n",
    "document_assembler = nlp.DocumentAssembler() \\\n",
    "    .setInputCol(\"text\") \\\n",
    "    .setOutputCol(\"document\")\n",
    "\n",
    "use_embeddings = nlp.UniversalSentenceEncoder.pretrained()\\\n",
    "    .setInputCols(\"document\") \\\n",
    "    .setOutputCol(\"sentence_embeddings\")\n",
    "\n",
    "classifier = finance.ClassifierDLModel.pretrained(\"finclf_form_10k_summary_item\", \"en\", \"finance/models\")\\\n",
    "    .setInputCols([\"sentence_embeddings\"])\\\n",
    "    .setOutputCol(\"category\")\n",
    "\n",
    "nlpPipeline = nlp.Pipeline(stages=[\n",
    "    document_assembler, \n",
    "    use_embeddings,\n",
    "    classifier])\n",
    "\n",
    "empty_data = spark.createDataFrame([[\"\"]]).toDF(\"text\")\n",
    "\n",
    "model = nlpPipeline.fit(empty_data)"
   ],
   "metadata": {
    "id": "0lJbpKJWgGg0",
    "executionInfo": {
     "status": "ok",
     "timestamp": 1673114853333,
     "user_tz": -180,
     "elapsed": 126963,
     "user": {
      "displayName": "Bünyamin Polat",
      "userId": "03982086590103784785"
     }
    },
    "colab": {
     "base_uri": "https://localhost:8080/"
    },
    "outputId": "74aee475-095e-4807-8c96-6539867620bf"
   },
   "id": "0lJbpKJWgGg0",
   "execution_count": 8,
   "outputs": [
    {
     "output_type": "stream",
     "name": "stdout",
     "text": [
      "tfhub_use download started this may take some time.\n",
      "Approximate size to download 923.7 MB\n",
      "[OK!]\n",
      "finclf_form_10k_summary_item download started this may take some time.\n",
      "[OK!]\n"
     ]
    }
   ]
  },
  {
   "cell_type": "code",
   "source": [
    "df = spark.createDataFrame([[pages[0]]]).toDF(\"text\")\n",
    "\n",
    "result = model.transform(df).cache()\n"
   ],
   "metadata": {
    "id": "vCmCEiMNgoBC",
    "executionInfo": {
     "status": "ok",
     "timestamp": 1673114855372,
     "user_tz": -180,
     "elapsed": 2057,
     "user": {
      "displayName": "Bünyamin Polat",
      "userId": "03982086590103784785"
     }
    }
   },
   "execution_count": 9,
   "outputs": [],
   "id": "vCmCEiMNgoBC"
  },
  {
   "cell_type": "code",
   "source": [
    "result.select('category.result').show()"
   ],
   "metadata": {
    "colab": {
     "base_uri": "https://localhost:8080/"
    },
    "id": "qp6M15QegoDi",
    "executionInfo": {
     "status": "ok",
     "timestamp": 1673114859413,
     "user_tz": -180,
     "elapsed": 4045,
     "user": {
      "displayName": "Bünyamin Polat",
      "userId": "03982086590103784785"
     }
    },
    "outputId": "9d3b1c97-a9b4-4acf-d91f-efadc11e0248"
   },
   "execution_count": 10,
   "outputs": [
    {
     "output_type": "stream",
     "name": "stdout",
     "text": [
      "+------------------+\n",
      "|            result|\n",
      "+------------------+\n",
      "|[form_10k_summary]|\n",
      "+------------------+\n",
      "\n"
     ]
    }
   ],
   "id": "qp6M15QegoDi"
  },
  {
   "cell_type": "markdown",
   "source": [
    "##  Step 2: Named Entity Recognition on 10K Summary\n",
    "Main component to carry out information extraction and extract entities from texts. \n",
    "\n",
    "This time we will use a model trained to extract many entities from 10K summaries."
   ],
   "metadata": {
    "id": "Ar1gryg4jpIc"
   },
   "id": "Ar1gryg4jpIc"
  },
  {
   "cell_type": "code",
   "execution_count": 11,
   "id": "cb765952-24c2-48b6-8d86-5413b13bd9fa",
   "metadata": {
    "colab": {
     "base_uri": "https://localhost:8080/"
    },
    "executionInfo": {
     "elapsed": 57626,
     "status": "ok",
     "timestamp": 1673114917014,
     "user": {
      "displayName": "Bünyamin Polat",
      "userId": "03982086590103784785"
     },
     "user_tz": -180
    },
    "id": "cb765952-24c2-48b6-8d86-5413b13bd9fa",
    "outputId": "7fe90237-a643-40f3-931e-ad76e54d2024"
   },
   "outputs": [
    {
     "output_type": "stream",
     "name": "stdout",
     "text": [
      "bert_embeddings_sec_bert_base download started this may take some time.\n",
      "Approximate size to download 390.4 MB\n",
      "[OK!]\n",
      "finner_sec_10k_summary download started this may take some time.\n",
      "[OK!]\n"
     ]
    }
   ],
   "source": [
    "sentenceDetector = nlp.SentenceDetector()\\\n",
    "    .setInputCols([\"document\"])\\\n",
    "    .setOutputCol(\"sentence\")\n",
    "\n",
    "tokenizer = nlp.Tokenizer()\\\n",
    "    .setInputCols([\"sentence\"])\\\n",
    "    .setOutputCol(\"token\")\n",
    "\n",
    "embeddings = nlp.BertEmbeddings.pretrained(\"bert_embeddings_sec_bert_base\",\"en\") \\\n",
    "    .setInputCols([\"sentence\", \"token\"]) \\\n",
    "    .setOutputCol(\"embeddings\")\n",
    "\n",
    "ner_model = finance.NerModel.pretrained(\"finner_sec_10k_summary\", \"en\", \"finance/models\")\\\n",
    "    .setInputCols([\"sentence\", \"token\", \"embeddings\"])\\\n",
    "    .setOutputCol(\"ner\")\n",
    "\n",
    "ner_converter = nlp.NerConverter()\\\n",
    "    .setInputCols([\"sentence\",\"token\",\"ner\"])\\\n",
    "    .setOutputCol(\"ner_chunk\")\n",
    "\n",
    "nlpPipeline = nlp.Pipeline(stages=[\n",
    "    document_assembler,\n",
    "    sentenceDetector,\n",
    "    tokenizer,\n",
    "    embeddings,\n",
    "    ner_model,\n",
    "    ner_converter,\n",
    "])\n",
    "\n",
    "empty_data = spark.createDataFrame([[\"\"]]).toDF(\"text\")\n",
    "\n",
    "model = nlpPipeline.fit(empty_data)\n",
    "\n",
    "light_model = nlp.LightPipeline(model)"
   ]
  },
  {
   "cell_type": "markdown",
   "id": "37eae9a4-52e1-400e-a1dd-effc6ed1da35",
   "metadata": {
    "id": "37eae9a4-52e1-400e-a1dd-effc6ed1da35"
   },
   "source": [
    "## We use LightPipeline to get the result"
   ]
  },
  {
   "cell_type": "code",
   "source": [
    "import pandas as pd\n",
    "\n",
    "ner_result = light_model.fullAnnotate(pages[0])\n",
    "\n",
    "chunks = []\n",
    "entities = []\n",
    "begin = []\n",
    "end = []\n",
    "\n",
    "for n in ner_result[0]['ner_chunk']:\n",
    "        \n",
    "    begin.append(n.begin)\n",
    "    end.append(n.end)\n",
    "    chunks.append(n.result)\n",
    "    entities.append(n.metadata['entity']) \n",
    "    \n",
    "df = pd.DataFrame({'chunks':chunks, 'begin': begin, 'end':end, 'entities':entities})\n",
    "\n",
    "df.head(20)"
   ],
   "metadata": {
    "colab": {
     "base_uri": "https://localhost:8080/",
     "height": 488
    },
    "id": "QgkAyFqMjwOs",
    "executionInfo": {
     "status": "ok",
     "timestamp": 1673114924745,
     "user_tz": -180,
     "elapsed": 7749,
     "user": {
      "displayName": "Bünyamin Polat",
      "userId": "03982086590103784785"
     }
    },
    "outputId": "0fba3f5c-881d-4acd-875f-98f99b319756"
   },
   "execution_count": 12,
   "outputs": [
    {
     "output_type": "execute_result",
     "data": {
      "text/plain": [
       "                                               chunks  begin   end  \\\n",
       "0                                     January 1, 2022    287   301   \n",
       "1                                           000-15867    476   484   \n",
       "2                         CADENCE DESIGN SYSTEMS, INC    527   553   \n",
       "3                                            Delaware    650   657   \n",
       "4                                          00-0000000    661   670   \n",
       "5   2655 Seely Avenue, Building 5,\\nSan Jose,\\nCal...    772   822   \n",
       "6                                    (408)\\n-943-1234    886   900   \n",
       "7                                        Common Stock   1098  1109   \n",
       "8                                               $0.01   1112  1116   \n",
       "9                                                CDNS   1138  1141   \n",
       "10                        Nasdaq Global Select Market   1143  1169   \n",
       "11                                       Common Stock   3799  3810   \n",
       "12                                              $0.01   3813  3817   \n",
       "13                        Cadence Design Systems, Inc   3931  3957   \n",
       "\n",
       "             entities  \n",
       "0         FISCAL_YEAR  \n",
       "1                 CFN  \n",
       "2                 ORG  \n",
       "3               STATE  \n",
       "4                 IRS  \n",
       "5             ADDRESS  \n",
       "6               PHONE  \n",
       "7         TITLE_CLASS  \n",
       "8   TITLE_CLASS_VALUE  \n",
       "9              TICKER  \n",
       "10     STOCK_EXCHANGE  \n",
       "11        TITLE_CLASS  \n",
       "12  TITLE_CLASS_VALUE  \n",
       "13                ORG  "
      ],
      "text/html": [
       "\n",
       "  <div id=\"df-f8d6bf1c-75c2-4935-8b56-947b59b60e54\">\n",
       "    <div class=\"colab-df-container\">\n",
       "      <div>\n",
       "<style scoped>\n",
       "    .dataframe tbody tr th:only-of-type {\n",
       "        vertical-align: middle;\n",
       "    }\n",
       "\n",
       "    .dataframe tbody tr th {\n",
       "        vertical-align: top;\n",
       "    }\n",
       "\n",
       "    .dataframe thead th {\n",
       "        text-align: right;\n",
       "    }\n",
       "</style>\n",
       "<table border=\"1\" class=\"dataframe\">\n",
       "  <thead>\n",
       "    <tr style=\"text-align: right;\">\n",
       "      <th></th>\n",
       "      <th>chunks</th>\n",
       "      <th>begin</th>\n",
       "      <th>end</th>\n",
       "      <th>entities</th>\n",
       "    </tr>\n",
       "  </thead>\n",
       "  <tbody>\n",
       "    <tr>\n",
       "      <th>0</th>\n",
       "      <td>January 1, 2022</td>\n",
       "      <td>287</td>\n",
       "      <td>301</td>\n",
       "      <td>FISCAL_YEAR</td>\n",
       "    </tr>\n",
       "    <tr>\n",
       "      <th>1</th>\n",
       "      <td>000-15867</td>\n",
       "      <td>476</td>\n",
       "      <td>484</td>\n",
       "      <td>CFN</td>\n",
       "    </tr>\n",
       "    <tr>\n",
       "      <th>2</th>\n",
       "      <td>CADENCE DESIGN SYSTEMS, INC</td>\n",
       "      <td>527</td>\n",
       "      <td>553</td>\n",
       "      <td>ORG</td>\n",
       "    </tr>\n",
       "    <tr>\n",
       "      <th>3</th>\n",
       "      <td>Delaware</td>\n",
       "      <td>650</td>\n",
       "      <td>657</td>\n",
       "      <td>STATE</td>\n",
       "    </tr>\n",
       "    <tr>\n",
       "      <th>4</th>\n",
       "      <td>00-0000000</td>\n",
       "      <td>661</td>\n",
       "      <td>670</td>\n",
       "      <td>IRS</td>\n",
       "    </tr>\n",
       "    <tr>\n",
       "      <th>5</th>\n",
       "      <td>2655 Seely Avenue, Building 5,\\nSan Jose,\\nCal...</td>\n",
       "      <td>772</td>\n",
       "      <td>822</td>\n",
       "      <td>ADDRESS</td>\n",
       "    </tr>\n",
       "    <tr>\n",
       "      <th>6</th>\n",
       "      <td>(408)\\n-943-1234</td>\n",
       "      <td>886</td>\n",
       "      <td>900</td>\n",
       "      <td>PHONE</td>\n",
       "    </tr>\n",
       "    <tr>\n",
       "      <th>7</th>\n",
       "      <td>Common Stock</td>\n",
       "      <td>1098</td>\n",
       "      <td>1109</td>\n",
       "      <td>TITLE_CLASS</td>\n",
       "    </tr>\n",
       "    <tr>\n",
       "      <th>8</th>\n",
       "      <td>$0.01</td>\n",
       "      <td>1112</td>\n",
       "      <td>1116</td>\n",
       "      <td>TITLE_CLASS_VALUE</td>\n",
       "    </tr>\n",
       "    <tr>\n",
       "      <th>9</th>\n",
       "      <td>CDNS</td>\n",
       "      <td>1138</td>\n",
       "      <td>1141</td>\n",
       "      <td>TICKER</td>\n",
       "    </tr>\n",
       "    <tr>\n",
       "      <th>10</th>\n",
       "      <td>Nasdaq Global Select Market</td>\n",
       "      <td>1143</td>\n",
       "      <td>1169</td>\n",
       "      <td>STOCK_EXCHANGE</td>\n",
       "    </tr>\n",
       "    <tr>\n",
       "      <th>11</th>\n",
       "      <td>Common Stock</td>\n",
       "      <td>3799</td>\n",
       "      <td>3810</td>\n",
       "      <td>TITLE_CLASS</td>\n",
       "    </tr>\n",
       "    <tr>\n",
       "      <th>12</th>\n",
       "      <td>$0.01</td>\n",
       "      <td>3813</td>\n",
       "      <td>3817</td>\n",
       "      <td>TITLE_CLASS_VALUE</td>\n",
       "    </tr>\n",
       "    <tr>\n",
       "      <th>13</th>\n",
       "      <td>Cadence Design Systems, Inc</td>\n",
       "      <td>3931</td>\n",
       "      <td>3957</td>\n",
       "      <td>ORG</td>\n",
       "    </tr>\n",
       "  </tbody>\n",
       "</table>\n",
       "</div>\n",
       "      <button class=\"colab-df-convert\" onclick=\"convertToInteractive('df-f8d6bf1c-75c2-4935-8b56-947b59b60e54')\"\n",
       "              title=\"Convert this dataframe to an interactive table.\"\n",
       "              style=\"display:none;\">\n",
       "        \n",
       "  <svg xmlns=\"http://www.w3.org/2000/svg\" height=\"24px\"viewBox=\"0 0 24 24\"\n",
       "       width=\"24px\">\n",
       "    <path d=\"M0 0h24v24H0V0z\" fill=\"none\"/>\n",
       "    <path d=\"M18.56 5.44l.94 2.06.94-2.06 2.06-.94-2.06-.94-.94-2.06-.94 2.06-2.06.94zm-11 1L8.5 8.5l.94-2.06 2.06-.94-2.06-.94L8.5 2.5l-.94 2.06-2.06.94zm10 10l.94 2.06.94-2.06 2.06-.94-2.06-.94-.94-2.06-.94 2.06-2.06.94z\"/><path d=\"M17.41 7.96l-1.37-1.37c-.4-.4-.92-.59-1.43-.59-.52 0-1.04.2-1.43.59L10.3 9.45l-7.72 7.72c-.78.78-.78 2.05 0 2.83L4 21.41c.39.39.9.59 1.41.59.51 0 1.02-.2 1.41-.59l7.78-7.78 2.81-2.81c.8-.78.8-2.07 0-2.86zM5.41 20L4 18.59l7.72-7.72 1.47 1.35L5.41 20z\"/>\n",
       "  </svg>\n",
       "      </button>\n",
       "      \n",
       "  <style>\n",
       "    .colab-df-container {\n",
       "      display:flex;\n",
       "      flex-wrap:wrap;\n",
       "      gap: 12px;\n",
       "    }\n",
       "\n",
       "    .colab-df-convert {\n",
       "      background-color: #E8F0FE;\n",
       "      border: none;\n",
       "      border-radius: 50%;\n",
       "      cursor: pointer;\n",
       "      display: none;\n",
       "      fill: #1967D2;\n",
       "      height: 32px;\n",
       "      padding: 0 0 0 0;\n",
       "      width: 32px;\n",
       "    }\n",
       "\n",
       "    .colab-df-convert:hover {\n",
       "      background-color: #E2EBFA;\n",
       "      box-shadow: 0px 1px 2px rgba(60, 64, 67, 0.3), 0px 1px 3px 1px rgba(60, 64, 67, 0.15);\n",
       "      fill: #174EA6;\n",
       "    }\n",
       "\n",
       "    [theme=dark] .colab-df-convert {\n",
       "      background-color: #3B4455;\n",
       "      fill: #D2E3FC;\n",
       "    }\n",
       "\n",
       "    [theme=dark] .colab-df-convert:hover {\n",
       "      background-color: #434B5C;\n",
       "      box-shadow: 0px 1px 3px 1px rgba(0, 0, 0, 0.15);\n",
       "      filter: drop-shadow(0px 1px 2px rgba(0, 0, 0, 0.3));\n",
       "      fill: #FFFFFF;\n",
       "    }\n",
       "  </style>\n",
       "\n",
       "      <script>\n",
       "        const buttonEl =\n",
       "          document.querySelector('#df-f8d6bf1c-75c2-4935-8b56-947b59b60e54 button.colab-df-convert');\n",
       "        buttonEl.style.display =\n",
       "          google.colab.kernel.accessAllowed ? 'block' : 'none';\n",
       "\n",
       "        async function convertToInteractive(key) {\n",
       "          const element = document.querySelector('#df-f8d6bf1c-75c2-4935-8b56-947b59b60e54');\n",
       "          const dataTable =\n",
       "            await google.colab.kernel.invokeFunction('convertToInteractive',\n",
       "                                                     [key], {});\n",
       "          if (!dataTable) return;\n",
       "\n",
       "          const docLinkHtml = 'Like what you see? Visit the ' +\n",
       "            '<a target=\"_blank\" href=https://colab.research.google.com/notebooks/data_table.ipynb>data table notebook</a>'\n",
       "            + ' to learn more about interactive tables.';\n",
       "          element.innerHTML = '';\n",
       "          dataTable['output_type'] = 'display_data';\n",
       "          await google.colab.output.renderOutput(dataTable, element);\n",
       "          const docLink = document.createElement('div');\n",
       "          docLink.innerHTML = docLinkHtml;\n",
       "          element.appendChild(docLink);\n",
       "        }\n",
       "      </script>\n",
       "    </div>\n",
       "  </div>\n",
       "  "
      ]
     },
     "metadata": {},
     "execution_count": 12
    }
   ],
   "id": "QgkAyFqMjwOs"
  },
  {
   "cell_type": "markdown",
   "id": "9fe41161-c8fd-467e-9fff-5d4fe1cb5160",
   "metadata": {
    "id": "9fe41161-c8fd-467e-9fff-5d4fe1cb5160"
   },
   "source": [
    "Alright! CADENCE DESIGN SYSTEMS, INC has been detected as an organization. \n",
    "\n",
    "Now, let's augment `CADENCE DESIGN SYSTEMS, INC` with more information about the company, given that there are no more details in the SEC10K form I can use.\n",
    "\n",
    "But before __augmenting__, there is a very important step we need to carry out: `Company Name Normalization`"
   ]
  },
  {
   "cell_type": "markdown",
   "id": "eb3e2808-3550-46d9-835b-f747cac4123c",
   "metadata": {
    "id": "eb3e2808-3550-46d9-835b-f747cac4123c"
   },
   "source": [
    "## Step 3: Company Names Normalization"
   ]
  },
  {
   "cell_type": "markdown",
   "id": "4e55a84c-2806-4a0e-b30f-90a43dc497ca",
   "metadata": {
    "id": "4e55a84c-2806-4a0e-b30f-90a43dc497ca"
   },
   "source": [
    "Let's suppose we want to manually get information about CADENCE DESIGN SYSTEMS, INC.\n",
    "\n",
    "Since it's a public US company, we can go to [SEC Edgar's database](https://www.sec.gov/edgar/searchedgar/companysearch) and look for it.\n",
    "\n",
    "\n",
    "Unfortunately, `CADENCE DESIGN SYSTEMS, INC` is not the official name of the company, which means no entry for `CADENCE DESIGN SYSTEMS, INC` is available. That's were __Company Names Normalization__ comes in handy.\n",
    "\n",
    "**Company Name Normalization** is the process of obtaining the name of the company used by data providers, usually the \"official\" name of the company.\n",
    "\n",
    "Sometimes, some data providers may have different versions of the name with different punctuation. For example, for Meta:\n",
    "- Meta Platforms, Inc.\n",
    "- Meta Platforms Inc.\n",
    "- Meta Platforms, Inc\n",
    "- etc\n",
    "\n",
    "So, it's mandatory we do `Company Normalization` taking into account the database / datasource provider we want to extract data from. The data providers we have are:\n",
    "- SEC Edgar\n",
    "- Crunchbase until 2015\n",
    "- Wikidata (in progress)\n",
    "\n",
    "Let's normalize `CADENCE DESIGN SYSTEMS, INC` to the official name in _SEC Edgar_."
   ]
  },
  {
   "cell_type": "code",
   "execution_count": 13,
   "id": "2564fd32-99ec-451c-ae34-2792cf3036ef",
   "metadata": {
    "colab": {
     "base_uri": "https://localhost:8080/"
    },
    "executionInfo": {
     "elapsed": 70222,
     "status": "ok",
     "timestamp": 1673114994958,
     "user": {
      "displayName": "Bünyamin Polat",
      "userId": "03982086590103784785"
     },
     "user_tz": -180
    },
    "id": "2564fd32-99ec-451c-ae34-2792cf3036ef",
    "outputId": "b902b83c-5b33-4044-9edb-0843c8008f09"
   },
   "outputs": [
    {
     "output_type": "stream",
     "name": "stdout",
     "text": [
      "finel_edgar_company_name download started this may take some time.\n",
      "[OK!]\n"
     ]
    }
   ],
   "source": [
    "resolver = finance.SentenceEntityResolverModel.pretrained(\"finel_edgar_company_name\", \"en\", \"finance/models\")\\\n",
    "      .setInputCols([\"sentence_embeddings\"]) \\\n",
    "      .setOutputCol(\"resolution\")\\\n",
    "      .setDistanceFunction(\"EUCLIDEAN\")\n",
    "\n",
    "pipelineModel = nlp.PipelineModel(\n",
    "      stages = [\n",
    "          document_assembler,\n",
    "          use_embeddings,\n",
    "          resolver])\n",
    "\n",
    "lp_res = nlp.LightPipeline(pipelineModel)"
   ]
  },
  {
   "cell_type": "code",
   "execution_count": 14,
   "id": "36a6d5f7-6477-4219-acf7-53a95d1ebea3",
   "metadata": {
    "colab": {
     "base_uri": "https://localhost:8080/"
    },
    "executionInfo": {
     "elapsed": 26,
     "status": "ok",
     "timestamp": 1673114994958,
     "user": {
      "displayName": "Bünyamin Polat",
      "userId": "03982086590103784785"
     },
     "user_tz": -180
    },
    "id": "36a6d5f7-6477-4219-acf7-53a95d1ebea3",
    "outputId": "fb85ac18-936c-4d27-dd01-a6a4362cb2ec"
   },
   "outputs": [
    {
     "output_type": "execute_result",
     "data": {
      "text/plain": [
       "['CADENCE DESIGN SYSTEMS, INC', 'Cadence Design Systems, Inc']"
      ]
     },
     "metadata": {},
     "execution_count": 14
    }
   ],
   "source": [
    "ORG = list(df[df[\"entities\"] == \"ORG\"][\"chunks\"])\n",
    "\n",
    "ORG"
   ]
  },
  {
   "cell_type": "code",
   "execution_count": 15,
   "id": "c319f7b8-fe7e-4408-9960-15e7675a36c1",
   "metadata": {
    "colab": {
     "base_uri": "https://localhost:8080/"
    },
    "executionInfo": {
     "elapsed": 1604,
     "status": "ok",
     "timestamp": 1673114996541,
     "user": {
      "displayName": "Bünyamin Polat",
      "userId": "03982086590103784785"
     },
     "user_tz": -180
    },
    "id": "c319f7b8-fe7e-4408-9960-15e7675a36c1",
    "outputId": "1d3e99ed-ad32-4486-960b-10c52fe891e5"
   },
   "outputs": [
    {
     "output_type": "execute_result",
     "data": {
      "text/plain": [
       "[{'document': ['CADENCE DESIGN SYSTEMS, INC'],\n",
       "  'sentence_embeddings': ['CADENCE DESIGN SYSTEMS, INC'],\n",
       "  'resolution': ['CADENCE DESIGN SYSTEMS INC']},\n",
       " {'document': ['Cadence Design Systems, Inc'],\n",
       "  'sentence_embeddings': ['Cadence Design Systems, Inc'],\n",
       "  'resolution': ['CADENCE DESIGN SYSTEMS INC']}]"
      ]
     },
     "metadata": {},
     "execution_count": 15
    }
   ],
   "source": [
    "el_res = lp_res.annotate(ORG)\n",
    "el_res"
   ]
  },
  {
   "cell_type": "code",
   "source": [
    "NORM_ORG = el_res[0]['resolution'][0]\n",
    "\n",
    "NORM_ORG"
   ],
   "metadata": {
    "colab": {
     "base_uri": "https://localhost:8080/",
     "height": 35
    },
    "id": "pGkTVurny_XB",
    "executionInfo": {
     "status": "ok",
     "timestamp": 1673114996541,
     "user_tz": -180,
     "elapsed": 14,
     "user": {
      "displayName": "Bünyamin Polat",
      "userId": "03982086590103784785"
     }
    },
    "outputId": "3d7f4b3a-201b-4caa-a34a-26e4533102d2"
   },
   "id": "pGkTVurny_XB",
   "execution_count": 16,
   "outputs": [
    {
     "output_type": "execute_result",
     "data": {
      "text/plain": [
       "'CADENCE DESIGN SYSTEMS INC'"
      ],
      "application/vnd.google.colaboratory.intrinsic+json": {
       "type": "string"
      }
     },
     "metadata": {},
     "execution_count": 16
    }
   ]
  },
  {
   "cell_type": "markdown",
   "id": "109efb72-bfae-413b-b1cb-ef1c57b9b66d",
   "metadata": {
    "id": "109efb72-bfae-413b-b1cb-ef1c57b9b66d"
   },
   "source": [
    "Here is our normalized name for Amazon: `CADENCE DESIGN SYSTEMS INC`.\n",
    "\n",
    "Now, let's see which information is available in Edgar database for `CADENCE DESIGN SYSTEMS INC`\n",
    "\n",
    "Once we have the normalized name of the company, we can use `John Snow Labs Chunk Mappers`. These are pretrained data sources, which are updated frequently and can be queried inside Spark NLP without sending any API call to any server.\n",
    "\n",
    "In this case, we will use Edgar Database (`finmapper_edgar_companyname`)\n",
    "\n",
    "\n"
   ]
  },
  {
   "cell_type": "markdown",
   "id": "85e51e16-56a2-4dad-a27c-1047a36ecea3",
   "metadata": {
    "id": "85e51e16-56a2-4dad-a27c-1047a36ecea3"
   },
   "source": [
    "## Step 4: Data Augmentation with Chunk Mappers"
   ]
  },
  {
   "cell_type": "markdown",
   "id": "39dff3ed-08f0-4961-ba54-bbffb2606a81",
   "metadata": {
    "id": "39dff3ed-08f0-4961-ba54-bbffb2606a81"
   },
   "source": [
    "\n",
    "Once we have the normalized name of the company, we can use `John Snow Labs Chunk Mappers`. These are pretrained data sources, which are updated frequently and can be queried inside Spark NLP without sending any API call to any server.\n",
    "\n",
    "In this case, we will use Edgar Database (`finmapper_edgar_companyname`)\n",
    "\n",
    "The component which carries out __Data Augmentation__ is called `ChunkMapper`.\n",
    "\n",
    "It's name comes from the way it works: it uses a _Ner Chunk_ to map it to an external data source.\n",
    "\n",
    "As a result, you will get a JSON with a dictionary of additional fields and their values. \n",
    "\n",
    "Let's take a look at how it works."
   ]
  },
  {
   "cell_type": "code",
   "execution_count": 17,
   "id": "b246357e-0ab7-489b-9dc0-6d74d3eb97ef",
   "metadata": {
    "colab": {
     "base_uri": "https://localhost:8080/"
    },
    "executionInfo": {
     "elapsed": 58019,
     "status": "ok",
     "timestamp": 1673115054548,
     "user": {
      "displayName": "Bünyamin Polat",
      "userId": "03982086590103784785"
     },
     "user_tz": -180
    },
    "id": "b246357e-0ab7-489b-9dc0-6d74d3eb97ef",
    "outputId": "045d507b-c775-411e-f57a-084a7b6bc8ac"
   },
   "outputs": [
    {
     "output_type": "stream",
     "name": "stdout",
     "text": [
      "finmapper_edgar_companyname download started this may take some time.\n",
      "[OK!]\n"
     ]
    }
   ],
   "source": [
    "chunk_assembler = nlp.Doc2Chunk()\\\n",
    "    .setInputCols(\"document\") \\\n",
    "    .setOutputCol(\"chunk\") \\\n",
    "    .setIsArray(False)\n",
    "\n",
    "CM = finance.ChunkMapperModel().pretrained(\"finmapper_edgar_companyname\", \"en\", \"finance/models\")\\\n",
    "    .setInputCols([\"chunk\"])\\\n",
    "    .setOutputCol(\"mappings\")\n",
    "\n",
    "cm_pipeline = nlp.Pipeline(stages=[document_assembler, chunk_assembler, CM])\n",
    "\n",
    "fit_cm_pipeline = cm_pipeline.fit(empty_data)"
   ]
  },
  {
   "cell_type": "code",
   "execution_count": 18,
   "id": "340f193f-dabd-4e41-96e0-0afe0a22ed8b",
   "metadata": {
    "colab": {
     "base_uri": "https://localhost:8080/"
    },
    "executionInfo": {
     "elapsed": 25,
     "status": "ok",
     "timestamp": 1673115054548,
     "user": {
      "displayName": "Bünyamin Polat",
      "userId": "03982086590103784785"
     },
     "user_tz": -180
    },
    "id": "340f193f-dabd-4e41-96e0-0afe0a22ed8b",
    "outputId": "8262fbdf-5f74-43e5-d189-e224861d963c"
   },
   "outputs": [
    {
     "output_type": "stream",
     "name": "stdout",
     "text": [
      "+--------------------------+\n",
      "|text                      |\n",
      "+--------------------------+\n",
      "|CADENCE DESIGN SYSTEMS INC|\n",
      "+--------------------------+\n",
      "\n"
     ]
    }
   ],
   "source": [
    "# LightPipelines don't support Doc2Chunk, so we will use here usual transform\n",
    "df = spark.createDataFrame([[NORM_ORG]]).toDF(\"text\")\n",
    "\n",
    "df.show(truncate = False)"
   ]
  },
  {
   "cell_type": "code",
   "execution_count": 19,
   "id": "1b6729d6-32a9-4cea-b88f-0b6b7bf04d83",
   "metadata": {
    "colab": {
     "base_uri": "https://localhost:8080/"
    },
    "executionInfo": {
     "elapsed": 583,
     "status": "ok",
     "timestamp": 1673115055111,
     "user": {
      "displayName": "Bünyamin Polat",
      "userId": "03982086590103784785"
     },
     "user_tz": -180
    },
    "id": "1b6729d6-32a9-4cea-b88f-0b6b7bf04d83",
    "outputId": "beff5abd-9221-4301-faf9-08d1ea2b5748"
   },
   "outputs": [
    {
     "output_type": "stream",
     "name": "stdout",
     "text": [
      "+--------------------+--------------------+--------------------+--------------------+\n",
      "|                text|            document|               chunk|            mappings|\n",
      "+--------------------+--------------------+--------------------+--------------------+\n",
      "|CADENCE DESIGN SY...|[{document, 0, 25...|[{chunk, 0, 25, C...|[{labeled_depende...|\n",
      "+--------------------+--------------------+--------------------+--------------------+\n",
      "\n"
     ]
    }
   ],
   "source": [
    "res = fit_cm_pipeline.transform(df)\n",
    "res.show()"
   ]
  },
  {
   "cell_type": "code",
   "execution_count": 20,
   "id": "c2d4a37d-b0a1-413a-9e36-5489396a042d",
   "metadata": {
    "colab": {
     "base_uri": "https://localhost:8080/"
    },
    "executionInfo": {
     "elapsed": 448,
     "status": "ok",
     "timestamp": 1673115055553,
     "user": {
      "displayName": "Bünyamin Polat",
      "userId": "03982086590103784785"
     },
     "user_tz": -180
    },
    "id": "c2d4a37d-b0a1-413a-9e36-5489396a042d",
    "outputId": "a47296d1-880f-48f6-a0c7-5d863ed64f50"
   },
   "outputs": [
    {
     "output_type": "execute_result",
     "data": {
      "text/plain": [
       "[Row(text='CADENCE DESIGN SYSTEMS INC', document=[Row(annotatorType='document', begin=0, end=25, result='CADENCE DESIGN SYSTEMS INC', metadata={'sentence': '0'}, embeddings=[])], chunk=[Row(annotatorType='chunk', begin=0, end=25, result='CADENCE DESIGN SYSTEMS INC', metadata={'sentence': '0', 'chunk': '0'}, embeddings=[])], mappings=[Row(annotatorType='labeled_dependency', begin=0, end=25, result='CADENCE DESIGN SYSTEMS INC', metadata={'sentence': '0', 'ops': '0.0', 'distance': '0.0', 'all_relations': '', 'chunk': '0', '__trained__': 'CADENCE DESIGN SYSTEMS INC', '__distance_function__': 'levenshtein', '__relation_name__': 'name', 'entity': 'CADENCE DESIGN SYSTEMS INC', 'relation': 'name'}, embeddings=[]), Row(annotatorType='labeled_dependency', begin=0, end=25, result='SERVICES-PREPACKAGED SOFTWARE [7372]', metadata={'sentence': '0', 'ops': '0.0', 'distance': '0.0', 'all_relations': '', 'chunk': '0', '__trained__': 'CADENCE DESIGN SYSTEMS INC', '__distance_function__': 'levenshtein', '__relation_name__': 'sic', 'entity': 'CADENCE DESIGN SYSTEMS INC', 'relation': 'sic'}, embeddings=[]), Row(annotatorType='labeled_dependency', begin=0, end=25, result='7372', metadata={'sentence': '0', 'ops': '0.0', 'distance': '0.0', 'all_relations': '0', 'chunk': '0', '__trained__': 'CADENCE DESIGN SYSTEMS INC', '__distance_function__': 'levenshtein', '__relation_name__': 'sic_code', 'entity': 'CADENCE DESIGN SYSTEMS INC', 'relation': 'sic_code'}, embeddings=[]), Row(annotatorType='labeled_dependency', begin=0, end=25, result='770148231', metadata={'sentence': '0', 'ops': '0.0', 'distance': '0.0', 'all_relations': '0', 'chunk': '0', '__trained__': 'CADENCE DESIGN SYSTEMS INC', '__distance_function__': 'levenshtein', '__relation_name__': 'irs_number', 'entity': 'CADENCE DESIGN SYSTEMS INC', 'relation': 'irs_number'}, embeddings=[]), Row(annotatorType='labeled_dependency', begin=0, end=25, result='1228', metadata={'sentence': '0', 'ops': '0.0', 'distance': '0.0', 'all_relations': '101:::1229:::0:::102', 'chunk': '0', '__trained__': 'CADENCE DESIGN SYSTEMS INC', '__distance_function__': 'levenshtein', '__relation_name__': 'fiscal_year_end', 'entity': 'CADENCE DESIGN SYSTEMS INC', 'relation': 'fiscal_year_end'}, embeddings=[]), Row(annotatorType='labeled_dependency', begin=0, end=25, result='CA', metadata={'sentence': '0', 'ops': '0.0', 'distance': '0.0', 'all_relations': '', 'chunk': '0', '__trained__': 'CADENCE DESIGN SYSTEMS INC', '__distance_function__': 'levenshtein', '__relation_name__': 'state_location', 'entity': 'CADENCE DESIGN SYSTEMS INC', 'relation': 'state_location'}, embeddings=[]), Row(annotatorType='labeled_dependency', begin=0, end=25, result='DE', metadata={'sentence': '0', 'ops': '0.0', 'distance': '0.0', 'all_relations': '', 'chunk': '0', '__trained__': 'CADENCE DESIGN SYSTEMS INC', '__distance_function__': 'levenshtein', '__relation_name__': 'state_incorporation', 'entity': 'CADENCE DESIGN SYSTEMS INC', 'relation': 'state_incorporation'}, embeddings=[]), Row(annotatorType='labeled_dependency', begin=0, end=25, result='2655 SEELY AVENUE BLDG 5', metadata={'sentence': '0', 'ops': '0.0', 'distance': '0.0', 'all_relations': '2655 SEELY ROAD BLDG 5', 'chunk': '0', '__trained__': 'CADENCE DESIGN SYSTEMS INC', '__distance_function__': 'levenshtein', '__relation_name__': 'business_street', 'entity': 'CADENCE DESIGN SYSTEMS INC', 'relation': 'business_street'}, embeddings=[]), Row(annotatorType='labeled_dependency', begin=0, end=25, result='SAN JOSE', metadata={'sentence': '0', 'ops': '0.0', 'distance': '0.0', 'all_relations': '', 'chunk': '0', '__trained__': 'CADENCE DESIGN SYSTEMS INC', '__distance_function__': 'levenshtein', '__relation_name__': 'business_city', 'entity': 'CADENCE DESIGN SYSTEMS INC', 'relation': 'business_city'}, embeddings=[]), Row(annotatorType='labeled_dependency', begin=0, end=25, result='CA', metadata={'sentence': '0', 'ops': '0.0', 'distance': '0.0', 'all_relations': '', 'chunk': '0', '__trained__': 'CADENCE DESIGN SYSTEMS INC', '__distance_function__': 'levenshtein', '__relation_name__': 'business_state', 'entity': 'CADENCE DESIGN SYSTEMS INC', 'relation': 'business_state'}, embeddings=[]), Row(annotatorType='labeled_dependency', begin=0, end=25, result='95134', metadata={'sentence': '0', 'ops': '0.0', 'distance': '0.0', 'all_relations': '', 'chunk': '0', '__trained__': 'CADENCE DESIGN SYSTEMS INC', '__distance_function__': 'levenshtein', '__relation_name__': 'business_zip', 'entity': 'CADENCE DESIGN SYSTEMS INC', 'relation': 'business_zip'}, embeddings=[]), Row(annotatorType='labeled_dependency', begin=0, end=25, result='4089431234', metadata={'sentence': '0', 'ops': '0.0', 'distance': '0.0', 'all_relations': '', 'chunk': '0', '__trained__': 'CADENCE DESIGN SYSTEMS INC', '__distance_function__': 'levenshtein', '__relation_name__': 'business_phone', 'entity': 'CADENCE DESIGN SYSTEMS INC', 'relation': 'business_phone'}, embeddings=[]), Row(annotatorType='labeled_dependency', begin=0, end=25, result='ECAD INC /DE/', metadata={'sentence': '0', 'ops': '0.0', 'distance': '0.0', 'all_relations': '', 'chunk': '0', '__trained__': 'CADENCE DESIGN SYSTEMS INC', '__distance_function__': 'levenshtein', '__relation_name__': 'former_name', 'entity': 'CADENCE DESIGN SYSTEMS INC', 'relation': 'former_name'}, embeddings=[]), Row(annotatorType='labeled_dependency', begin=0, end=25, result='19880609', metadata={'sentence': '0', 'ops': '0.0', 'distance': '0.0', 'all_relations': '', 'chunk': '0', '__trained__': 'CADENCE DESIGN SYSTEMS INC', '__distance_function__': 'levenshtein', '__relation_name__': 'former_name_date', 'entity': 'CADENCE DESIGN SYSTEMS INC', 'relation': 'former_name_date'}, embeddings=[]), Row(annotatorType='labeled_dependency', begin=0, end=25, result='2017-02-10', metadata={'sentence': '0', 'ops': '0.0', 'distance': '0.0', 'all_relations': '2017-07-24:::2016-04-25:::2016-07-25:::2016-10-24:::2022-04-25:::2018-10-22:::2015-02-10:::2015-07-13:::2015-09-22:::2015-11-23:::2015-10-27:::2015-12-03:::2014-01-08:::2014-02-06:::2014-02-07:::2014-02-11:::2014-02-13:::2014-02-18:::2014-01-29:::2014-02-19:::2014-02-10:::2014-02-24:::2014-02-14:::2014-02-20:::2014-03-19:::2014-03-07:::2014-03-05:::2014-02-27:::2014-04-01:::2013-10-24:::2012-07-26:::2011-07-29:::2021-10-25:::2020-04-20:::2020-07-20:::2020-10-19:::2008-12-11:::2006-08-07:::2006-10-27:::2002-03-12', 'chunk': '0', '__trained__': 'CADENCE DESIGN SYSTEMS INC', '__distance_function__': 'levenshtein', '__relation_name__': 'date', 'entity': 'CADENCE DESIGN SYSTEMS INC', 'relation': 'date'}, embeddings=[]), Row(annotatorType='labeled_dependency', begin=0, end=25, result='813672', metadata={'sentence': '0', 'ops': '0.0', 'distance': '0.0', 'all_relations': '', 'chunk': '0', '__trained__': 'CADENCE DESIGN SYSTEMS INC', '__distance_function__': 'levenshtein', '__relation_name__': 'company_id', 'entity': 'CADENCE DESIGN SYSTEMS INC', 'relation': 'company_id'}, embeddings=[])])]"
      ]
     },
     "metadata": {},
     "execution_count": 20
    }
   ],
   "source": [
    "r = res.collect()\n",
    "r"
   ]
  },
  {
   "cell_type": "code",
   "execution_count": 21,
   "id": "bd37fe7a-6823-4ab3-a41e-e1e711fdbbb8",
   "metadata": {
    "id": "bd37fe7a-6823-4ab3-a41e-e1e711fdbbb8",
    "executionInfo": {
     "status": "ok",
     "timestamp": 1673115055553,
     "user_tz": -180,
     "elapsed": 12,
     "user": {
      "displayName": "Bünyamin Polat",
      "userId": "03982086590103784785"
     }
    }
   },
   "outputs": [],
   "source": [
    "json_dict = dict()\n",
    "for n in r[0]['mappings']:\n",
    "    json_dict[n.metadata['relation']] = str(n.result)"
   ]
  },
  {
   "cell_type": "code",
   "execution_count": 22,
   "id": "35e22829-8c0d-4853-a896-cc9502a567b1",
   "metadata": {
    "colab": {
     "base_uri": "https://localhost:8080/"
    },
    "executionInfo": {
     "elapsed": 12,
     "status": "ok",
     "timestamp": 1673115055553,
     "user": {
      "displayName": "Bünyamin Polat",
      "userId": "03982086590103784785"
     },
     "user_tz": -180
    },
    "id": "35e22829-8c0d-4853-a896-cc9502a567b1",
    "outputId": "8bea24b0-96fb-4e2a-d2b4-c9f481ffa41f"
   },
   "outputs": [
    {
     "output_type": "stream",
     "name": "stdout",
     "text": [
      "{\n",
      "    \"business_city\": \"SAN JOSE\",\n",
      "    \"business_phone\": \"4089431234\",\n",
      "    \"business_state\": \"CA\",\n",
      "    \"business_street\": \"2655 SEELY AVENUE BLDG 5\",\n",
      "    \"business_zip\": \"95134\",\n",
      "    \"company_id\": \"813672\",\n",
      "    \"date\": \"2017-02-10\",\n",
      "    \"fiscal_year_end\": \"1228\",\n",
      "    \"former_name\": \"ECAD INC /DE/\",\n",
      "    \"former_name_date\": \"19880609\",\n",
      "    \"irs_number\": \"770148231\",\n",
      "    \"name\": \"CADENCE DESIGN SYSTEMS INC\",\n",
      "    \"sic\": \"SERVICES-PREPACKAGED SOFTWARE [7372]\",\n",
      "    \"sic_code\": \"7372\",\n",
      "    \"state_incorporation\": \"DE\",\n",
      "    \"state_location\": \"CA\"\n",
      "}\n"
     ]
    }
   ],
   "source": [
    "import json\n",
    "print(json.dumps(json_dict, indent=4, sort_keys=True))"
   ]
  },
  {
   "cell_type": "markdown",
   "source": [
    "Yes, here it is. We get additional information about `CADENCE DESIGN SYSTEMS INC` using only company name."
   ],
   "metadata": {
    "id": "Bes80soeF9aB"
   },
   "id": "Bes80soeF9aB"
  }
 ],
 "metadata": {
  "colab": {
   "machine_shape": "hm",
   "provenance": []
  },
  "kernelspec": {
   "display_name": "Python 3.9.5 64-bit",
   "language": "python",
   "name": "python3"
  },
  "language_info": {
   "codemirror_mode": {
    "name": "ipython",
    "version": 3
   },
   "file_extension": ".py",
   "mimetype": "text/x-python",
   "name": "python",
   "nbconvert_exporter": "python",
   "pygments_lexer": "ipython3",
   "version": "3.9.5"
  },
  "vscode": {
   "interpreter": {
    "hash": "ca1c4b8877e01dec1d65bc94ac0771fb7b4e7d433b24c0ced0afdc05f796f65d"
   }
  },
  "gpuClass": "standard"
 },
 "nbformat": 4,
 "nbformat_minor": 5
}
