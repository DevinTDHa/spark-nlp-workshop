{
  "nbformat": 4,
  "nbformat_minor": 0,
  "metadata": {
    "colab": {
      "provenance": []
    },
    "kernelspec": {
      "name": "python3",
      "display_name": "Python 3"
    },
    "language_info": {
      "name": "python"
    }
  },
  "cells": [
    {
      "cell_type": "markdown",
      "metadata": {
        "id": "LWoEwxGWo1iI"
      },
      "source": [
        "![JohnSnowLabs](https://nlp.johnsnowlabs.com/assets/images/logo.png)"
      ]
    },
    {
      "cell_type": "markdown",
      "metadata": {
        "id": "k5NVFZYOIs_A"
      },
      "source": [
        "[![Open In Colab](https://colab.research.google.com/assets/colab-badge.svg)](https://colab.research.google.com/github/JohnSnowLabs/spark-nlp-workshop/blob/master/tutorials/Certification_Trainings_JSL/Legal/80.0.Use_case_Capital_Calls.ipynb)"
      ]
    },
    {
      "cell_type": "markdown",
      "metadata": {
        "id": "7vpPa8JDRKJ6"
      },
      "source": [
        "# Use Case: Extracting Contact and Financial entities from Capital Calls"
      ]
    },
    {
      "cell_type": "markdown",
      "metadata": {
        "collapsed": false,
        "id": "gk3kZHmNj51v"
      },
      "source": [
        "# Installation"
      ]
    },
    {
      "cell_type": "code",
      "execution_count": 1,
      "metadata": {
        "pycharm": {
          "is_executing": true
        },
        "id": "_914itZsj51v",
        "colab": {
          "base_uri": "https://localhost:8080/"
        },
        "outputId": "49a17e8f-3458-487f-d03e-11389cb8c15a"
      },
      "outputs": [
        {
          "output_type": "stream",
          "name": "stdout",
          "text": [
            "\u001b[2K     \u001b[90m━━━━━━━━━━━━━━━━━━━━━━━━━━━━━━━━━━━━━━━━\u001b[0m \u001b[32m74.7/74.7 KB\u001b[0m \u001b[31m2.2 MB/s\u001b[0m eta \u001b[36m0:00:00\u001b[0m\n",
            "\u001b[2K     \u001b[90m━━━━━━━━━━━━━━━━━━━━━━━━━━━━━━━━━━━━━━━━\u001b[0m \u001b[32m95.4/95.4 KB\u001b[0m \u001b[31m4.2 MB/s\u001b[0m eta \u001b[36m0:00:00\u001b[0m\n",
            "\u001b[2K     \u001b[90m━━━━━━━━━━━━━━━━━━━━━━━━━━━━━━━━━━━━━━\u001b[0m \u001b[32m453.8/453.8 KB\u001b[0m \u001b[31m14.9 MB/s\u001b[0m eta \u001b[36m0:00:00\u001b[0m\n",
            "\u001b[2K     \u001b[90m━━━━━━━━━━━━━━━━━━━━━━━━━━━━━━━━━━━━━━\u001b[0m \u001b[32m570.6/570.6 KB\u001b[0m \u001b[31m27.3 MB/s\u001b[0m eta \u001b[36m0:00:00\u001b[0m\n",
            "\u001b[2K     \u001b[90m━━━━━━━━━━━━━━━━━━━━━━━━━━━━━━━━━━━━━━━━\u001b[0m \u001b[32m66.9/66.9 KB\u001b[0m \u001b[31m2.7 MB/s\u001b[0m eta \u001b[36m0:00:00\u001b[0m\n",
            "\u001b[2K     \u001b[90m━━━━━━━━━━━━━━━━━━━━━━━━━━━━━━━━━━━━━━━━\u001b[0m \u001b[32m82.3/82.3 KB\u001b[0m \u001b[31m5.0 MB/s\u001b[0m eta \u001b[36m0:00:00\u001b[0m\n",
            "\u001b[?25h  Preparing metadata (setup.py) ... \u001b[?25l\u001b[?25hdone\n",
            "\u001b[2K     \u001b[90m━━━━━━━━━━━━━━━━━━━━━━━━━━━━━━━━━━━━━━━━\u001b[0m \u001b[32m1.6/1.6 MB\u001b[0m \u001b[31m24.1 MB/s\u001b[0m eta \u001b[36m0:00:00\u001b[0m\n",
            "\u001b[?25h  Building wheel for databricks-cli (setup.py) ... \u001b[?25l\u001b[?25hdone\n"
          ]
        }
      ],
      "source": [
        "! pip install -q johnsnowlabs"
      ]
    },
    {
      "cell_type": "markdown",
      "source": [
        "## Automatic Installation\n",
        "Using my.johnsnowlabs.com SSO"
      ],
      "metadata": {
        "id": "YPsbAnNoPt0Z"
      }
    },
    {
      "cell_type": "code",
      "execution_count": 1,
      "metadata": {
        "pycharm": {
          "is_executing": true
        },
        "id": "fY0lcShkj51w"
      },
      "outputs": [],
      "source": [
        "from johnsnowlabs import nlp, finance\n",
        "\n",
        "# nlp.install(force_browser=True)"
      ]
    },
    {
      "cell_type": "markdown",
      "source": [
        "## Manual downloading\n",
        "If you are not registered in my.johnsnowlabs.com, you received a license via e-email or you are using Safari, you may need to do a manual update of the license.\n",
        "\n",
        "- Go to my.johnsnowlabs.com\n",
        "- Download your license\n",
        "- Upload it using the following command"
      ],
      "metadata": {
        "id": "hsJvn_WWM2GL"
      }
    },
    {
      "cell_type": "code",
      "source": [
        "from google.colab import files\n",
        "print('Please Upload your John Snow Labs License using the button below')\n",
        "license_keys = files.upload()"
      ],
      "metadata": {
        "id": "i57QV3-_P2sQ",
        "colab": {
          "base_uri": "https://localhost:8080/",
          "height": 56
        },
        "outputId": "10fa5858-65c8-44a8-97a9-4db8878b1041"
      },
      "execution_count": 2,
      "outputs": [
        {
          "output_type": "stream",
          "name": "stdout",
          "text": [
            "Please Upload your John Snow Labs License using the button below\n"
          ]
        },
        {
          "output_type": "display_data",
          "data": {
            "text/plain": [
              "<IPython.core.display.HTML object>"
            ],
            "text/html": [
              "\n",
              "     <input type=\"file\" id=\"files-bb6d4d12-edf6-40be-8dc1-93a09f41bc24\" name=\"files[]\" multiple disabled\n",
              "        style=\"border:none\" />\n",
              "     <output id=\"result-bb6d4d12-edf6-40be-8dc1-93a09f41bc24\">\n",
              "      Upload widget is only available when the cell has been executed in the\n",
              "      current browser session. Please rerun this cell to enable.\n",
              "      </output>\n",
              "      <script>// Copyright 2017 Google LLC\n",
              "//\n",
              "// Licensed under the Apache License, Version 2.0 (the \"License\");\n",
              "// you may not use this file except in compliance with the License.\n",
              "// You may obtain a copy of the License at\n",
              "//\n",
              "//      http://www.apache.org/licenses/LICENSE-2.0\n",
              "//\n",
              "// Unless required by applicable law or agreed to in writing, software\n",
              "// distributed under the License is distributed on an \"AS IS\" BASIS,\n",
              "// WITHOUT WARRANTIES OR CONDITIONS OF ANY KIND, either express or implied.\n",
              "// See the License for the specific language governing permissions and\n",
              "// limitations under the License.\n",
              "\n",
              "/**\n",
              " * @fileoverview Helpers for google.colab Python module.\n",
              " */\n",
              "(function(scope) {\n",
              "function span(text, styleAttributes = {}) {\n",
              "  const element = document.createElement('span');\n",
              "  element.textContent = text;\n",
              "  for (const key of Object.keys(styleAttributes)) {\n",
              "    element.style[key] = styleAttributes[key];\n",
              "  }\n",
              "  return element;\n",
              "}\n",
              "\n",
              "// Max number of bytes which will be uploaded at a time.\n",
              "const MAX_PAYLOAD_SIZE = 100 * 1024;\n",
              "\n",
              "function _uploadFiles(inputId, outputId) {\n",
              "  const steps = uploadFilesStep(inputId, outputId);\n",
              "  const outputElement = document.getElementById(outputId);\n",
              "  // Cache steps on the outputElement to make it available for the next call\n",
              "  // to uploadFilesContinue from Python.\n",
              "  outputElement.steps = steps;\n",
              "\n",
              "  return _uploadFilesContinue(outputId);\n",
              "}\n",
              "\n",
              "// This is roughly an async generator (not supported in the browser yet),\n",
              "// where there are multiple asynchronous steps and the Python side is going\n",
              "// to poll for completion of each step.\n",
              "// This uses a Promise to block the python side on completion of each step,\n",
              "// then passes the result of the previous step as the input to the next step.\n",
              "function _uploadFilesContinue(outputId) {\n",
              "  const outputElement = document.getElementById(outputId);\n",
              "  const steps = outputElement.steps;\n",
              "\n",
              "  const next = steps.next(outputElement.lastPromiseValue);\n",
              "  return Promise.resolve(next.value.promise).then((value) => {\n",
              "    // Cache the last promise value to make it available to the next\n",
              "    // step of the generator.\n",
              "    outputElement.lastPromiseValue = value;\n",
              "    return next.value.response;\n",
              "  });\n",
              "}\n",
              "\n",
              "/**\n",
              " * Generator function which is called between each async step of the upload\n",
              " * process.\n",
              " * @param {string} inputId Element ID of the input file picker element.\n",
              " * @param {string} outputId Element ID of the output display.\n",
              " * @return {!Iterable<!Object>} Iterable of next steps.\n",
              " */\n",
              "function* uploadFilesStep(inputId, outputId) {\n",
              "  const inputElement = document.getElementById(inputId);\n",
              "  inputElement.disabled = false;\n",
              "\n",
              "  const outputElement = document.getElementById(outputId);\n",
              "  outputElement.innerHTML = '';\n",
              "\n",
              "  const pickedPromise = new Promise((resolve) => {\n",
              "    inputElement.addEventListener('change', (e) => {\n",
              "      resolve(e.target.files);\n",
              "    });\n",
              "  });\n",
              "\n",
              "  const cancel = document.createElement('button');\n",
              "  inputElement.parentElement.appendChild(cancel);\n",
              "  cancel.textContent = 'Cancel upload';\n",
              "  const cancelPromise = new Promise((resolve) => {\n",
              "    cancel.onclick = () => {\n",
              "      resolve(null);\n",
              "    };\n",
              "  });\n",
              "\n",
              "  // Wait for the user to pick the files.\n",
              "  const files = yield {\n",
              "    promise: Promise.race([pickedPromise, cancelPromise]),\n",
              "    response: {\n",
              "      action: 'starting',\n",
              "    }\n",
              "  };\n",
              "\n",
              "  cancel.remove();\n",
              "\n",
              "  // Disable the input element since further picks are not allowed.\n",
              "  inputElement.disabled = true;\n",
              "\n",
              "  if (!files) {\n",
              "    return {\n",
              "      response: {\n",
              "        action: 'complete',\n",
              "      }\n",
              "    };\n",
              "  }\n",
              "\n",
              "  for (const file of files) {\n",
              "    const li = document.createElement('li');\n",
              "    li.append(span(file.name, {fontWeight: 'bold'}));\n",
              "    li.append(span(\n",
              "        `(${file.type || 'n/a'}) - ${file.size} bytes, ` +\n",
              "        `last modified: ${\n",
              "            file.lastModifiedDate ? file.lastModifiedDate.toLocaleDateString() :\n",
              "                                    'n/a'} - `));\n",
              "    const percent = span('0% done');\n",
              "    li.appendChild(percent);\n",
              "\n",
              "    outputElement.appendChild(li);\n",
              "\n",
              "    const fileDataPromise = new Promise((resolve) => {\n",
              "      const reader = new FileReader();\n",
              "      reader.onload = (e) => {\n",
              "        resolve(e.target.result);\n",
              "      };\n",
              "      reader.readAsArrayBuffer(file);\n",
              "    });\n",
              "    // Wait for the data to be ready.\n",
              "    let fileData = yield {\n",
              "      promise: fileDataPromise,\n",
              "      response: {\n",
              "        action: 'continue',\n",
              "      }\n",
              "    };\n",
              "\n",
              "    // Use a chunked sending to avoid message size limits. See b/62115660.\n",
              "    let position = 0;\n",
              "    do {\n",
              "      const length = Math.min(fileData.byteLength - position, MAX_PAYLOAD_SIZE);\n",
              "      const chunk = new Uint8Array(fileData, position, length);\n",
              "      position += length;\n",
              "\n",
              "      const base64 = btoa(String.fromCharCode.apply(null, chunk));\n",
              "      yield {\n",
              "        response: {\n",
              "          action: 'append',\n",
              "          file: file.name,\n",
              "          data: base64,\n",
              "        },\n",
              "      };\n",
              "\n",
              "      let percentDone = fileData.byteLength === 0 ?\n",
              "          100 :\n",
              "          Math.round((position / fileData.byteLength) * 100);\n",
              "      percent.textContent = `${percentDone}% done`;\n",
              "\n",
              "    } while (position < fileData.byteLength);\n",
              "  }\n",
              "\n",
              "  // All done.\n",
              "  yield {\n",
              "    response: {\n",
              "      action: 'complete',\n",
              "    }\n",
              "  };\n",
              "}\n",
              "\n",
              "scope.google = scope.google || {};\n",
              "scope.google.colab = scope.google.colab || {};\n",
              "scope.google.colab._files = {\n",
              "  _uploadFiles,\n",
              "  _uploadFilesContinue,\n",
              "};\n",
              "})(self);\n",
              "</script> "
            ]
          },
          "metadata": {}
        }
      ]
    },
    {
      "cell_type": "markdown",
      "source": [
        "- Install it"
      ],
      "metadata": {
        "id": "xGgNdFzZP_hQ"
      }
    },
    {
      "cell_type": "code",
      "source": [
        "nlp.install()"
      ],
      "metadata": {
        "id": "OfmmPqknP4rR",
        "colab": {
          "base_uri": "https://localhost:8080/"
        },
        "outputId": "53661ffc-b36c-4bc0-a31a-8266cb64e0b6"
      },
      "execution_count": 4,
      "outputs": [
        {
          "output_type": "stream",
          "name": "stdout",
          "text": [
            "👌 Detected license file /content/4.2.8.json\n",
            "📋 Stored John Snow Labs License in /root/.johnsnowlabs/licenses/license_number_0_for_Spark-Healthcare_Spark-OCR.json\n",
            "👷 Setting up  John Snow Labs home in /root/.johnsnowlabs, this might take a few minutes.\n",
            "Downloading 🐍+🚀 Python Library spark_nlp-4.2.8-py2.py3-none-any.whl\n",
            "Downloading 🐍+💊 Python Library spark_nlp_jsl-4.2.8-py3-none-any.whl\n",
            "Downloading 🫘+🚀 Java Library spark-nlp-assembly-4.2.8.jar\n",
            "Downloading 🫘+💊 Java Library spark-nlp-jsl-4.2.8.jar\n",
            "🙆 JSL Home setup in /root/.johnsnowlabs\n",
            "Installing pyspark to /usr/bin/python3\n",
            "👌 Detected license file /content/4.2.8.json\n",
            "Installing /root/.johnsnowlabs/py_installs/spark_nlp_jsl-4.2.8-py3-none-any.whl to /usr/bin/python3\n",
            "Installed 2 products:\n",
            "🐍+⚡ PySpark==3.1.2 installed! ✅ The big data Engine \n",
            "💊 Spark-Healthcare==4.2.8 installed! ✅ Heal the planet with NLP! \n"
          ]
        }
      ]
    },
    {
      "cell_type": "markdown",
      "source": [
        "# Starting"
      ],
      "metadata": {
        "id": "DCl5ErZkNNLk"
      }
    },
    {
      "cell_type": "code",
      "execution_count": 3,
      "metadata": {
        "id": "wRXTnNl3j51w",
        "colab": {
          "base_uri": "https://localhost:8080/"
        },
        "outputId": "5e0ef9ef-c9f6-4189-8cb2-e021ba6e1755"
      },
      "outputs": [
        {
          "output_type": "stream",
          "name": "stdout",
          "text": [
            "👌 Detected license file /content/4.2.8.json\n",
            "👌 Launched \u001b[92mcpu optimized\u001b[39m session with with: 🚀Spark-NLP==4.2.8, 💊Spark-Healthcare==4.2.8, running on ⚡ PySpark==3.1.2\n"
          ]
        }
      ],
      "source": [
        "spark = nlp.start()"
      ]
    },
    {
      "cell_type": "markdown",
      "source": [
        "# Pipeline"
      ],
      "metadata": {
        "id": "imcOWPcoK-Pj"
      }
    },
    {
      "cell_type": "code",
      "source": [
        "documentAssembler = nlp.DocumentAssembler() \\\n",
        "    .setInputCol(\"text\") \\\n",
        "    .setOutputCol(\"document\")\n",
        "\n",
        "sentence = nlp.SentenceDetector() \\\n",
        "    .setInputCols([\"document\"]) \\\n",
        "    .setOutputCol(\"sentence\") \n",
        "\n",
        "tokenizer = nlp.Tokenizer() \\\n",
        "    .setInputCols(\"sentence\") \\\n",
        "    .setOutputCol(\"token\")\n",
        "\n",
        "embeddings = nlp.BertEmbeddings.pretrained(\"bert_embeddings_sec_bert_base\",\"en\") \\\n",
        "    .setInputCols([\"sentence\", \"token\"]) \\\n",
        "    .setOutputCol(\"embeddings\")\\\n",
        "    .setMaxSentenceLength(512)\n",
        "\n",
        "ner = finance.NerModel.pretrained('finner_capital_calls', 'en', 'finance/models')\\\n",
        "    .setInputCols([\"sentence\", \"token\", \"embeddings\"]) \\\n",
        "    .setOutputCol(\"ner\")\n",
        "\n",
        "converter = finance.NerConverterInternal()\\\n",
        "    .setInputCols([\"sentence\", \"token\", \"ner\"]) \\\n",
        "    .setOutputCol(\"ner_chunk\")\\\n",
        "\n",
        "pipeline = nlp.Pipeline(stages=[documentAssembler,\n",
        "                            sentence,\n",
        "                            tokenizer,\n",
        "                            embeddings,\n",
        "                            ner,\n",
        "                            converter\n",
        "                            ])\n",
        "\n",
        "df = spark.createDataFrame([[\"\"]]).toDF(\"text\")\n",
        "\n",
        "model = pipeline.fit(df)"
      ],
      "metadata": {
        "colab": {
          "base_uri": "https://localhost:8080/"
        },
        "id": "1gRy8P_MK8zd",
        "outputId": "e5aa8112-d7d7-41eb-8aef-ff688539f6de"
      },
      "execution_count": 5,
      "outputs": [
        {
          "output_type": "stream",
          "name": "stdout",
          "text": [
            "bert_embeddings_sec_bert_base download started this may take some time.\n",
            "Approximate size to download 390.4 MB\n",
            "[OK!]\n",
            "finner_capital_calls download started this may take some time.\n",
            "[OK!]\n"
          ]
        }
      ]
    },
    {
      "cell_type": "markdown",
      "source": [
        "# Some text examples"
      ],
      "metadata": {
        "id": "-Gwu7oaQLrNj"
      }
    },
    {
      "cell_type": "markdown",
      "source": [
        "## Example 1: A short, semistructuerd Capital Call Notice"
      ],
      "metadata": {
        "id": "t3gJvKrsMvVb"
      }
    },
    {
      "cell_type": "code",
      "source": [
        "from pyspark.sql import functions as F"
      ],
      "metadata": {
        "id": "mb0a-vAAMIy_"
      },
      "execution_count": null,
      "outputs": []
    },
    {
      "cell_type": "code",
      "source": [
        "text1 = \"\"\"Capital Call Notice:\n",
        "Fund: LMNOP Fund, GP\n",
        "Amount Called: $15,000,000\n",
        "Account Name: Dynamic Designs LLC\n",
        "Bank Name: Wells Fargo Bank\n",
        "Account Number: 15122142155\n",
        "Routing Number: 992531023\n",
        "Due Date: May 15th, 2022\n",
        "\n",
        "Please be advised that this capital call is mandatory and it is important to meet the due date in order to avoid any penalties or default under the terms of the partnership agreement. If you need assistance or have any questions, please contact our office at 555-555-5555 or email us at admin@lmnopfund.com.\n",
        "\n",
        "Thank you for your prompt attention to this matter.\"\"\"\n",
        "\n",
        "result1 = model.transform(spark.createDataFrame([[text1]]).toDF(\"text\"))\n",
        "\n",
        "result1.select(F.explode(F.arrays_zip(result1.ner_chunk.result, result1.ner_chunk.metadata)).alias(\"cols\")) \\\n",
        "      .select(F.expr(\"cols['0']\").alias(\"chunk\"),\n",
        "              F.expr(\"cols['1']['entity']\").alias(\"ner_label\"),\n",
        "              F.expr(\"cols['1']['confidence']\").alias(\"confidence\")).show(truncate=False)\n",
        "                "
      ],
      "metadata": {
        "colab": {
          "base_uri": "https://localhost:8080/"
        },
        "id": "vDLVahHPKQVT",
        "outputId": "4ef1ded7-e1eb-406b-f1e8-c6bc94d48e98"
      },
      "execution_count": 10,
      "outputs": [
        {
          "output_type": "stream",
          "name": "stdout",
          "text": [
            "+-------------------+--------------+----------+\n",
            "|chunk              |ner_label     |confidence|\n",
            "+-------------------+--------------+----------+\n",
            "|LMNOP Fund         |FUND          |0.89905   |\n",
            "|$15,000,000        |AMOUNT        |0.9819    |\n",
            "|Dynamic Designs LLC|ACCOUNT_NAME  |0.9999333 |\n",
            "|Wells Fargo Bank   |BANK_NAME     |1.0       |\n",
            "|15122142155        |ACCOUNT_NUMBER|0.999     |\n",
            "|992531023          |ABA           |0.7875    |\n",
            "|May 15th, 2022     |DUE_DATE      |1.0       |\n",
            "|555-555-5555       |PHONE         |1.0       |\n",
            "|admin@lmnopfund.com|EMAIL         |0.9997    |\n",
            "+-------------------+--------------+----------+\n",
            "\n"
          ]
        }
      ]
    },
    {
      "cell_type": "markdown",
      "source": [
        "## Example 2: A short, unstructured Capital Call Notice with some additional information"
      ],
      "metadata": {
        "id": "kO6k-3qvMzzy"
      }
    },
    {
      "cell_type": "code",
      "source": [
        "text2 = \"\"\"Greetings Sophia Martinez,\n",
        "\n",
        "This is an urgent reminder regarding your investment in Innovative Investments LLC. A capital call for $30000.00 has been issued and is due on Jan 1 2023.\n",
        "\n",
        "We highly recommend electronic transfer to the following account:\n",
        "\n",
        "Account Name Innovative Investments LLC.\n",
        "Account Number 1234567-6XX\n",
        "ABA 42100191\n",
        "Ally Financial\n",
        "\n",
        "Please act swiftly to ensure the full funding of your investment. If you have any questions or need assistance, our team is available at thomasann@example.com.\n",
        "\n",
        "Thank you for your cooperation and support.\n",
        "\n",
        "Best regards,\n",
        "Michael D. Davis\"\"\"\n",
        "\n",
        "result2 = model.transform(spark.createDataFrame([[text2]]).toDF(\"text\"))\n",
        "\n",
        "result2.select(F.explode(F.arrays_zip(result2.ner_chunk.result, result2.ner_chunk.metadata)).alias(\"cols\")) \\\n",
        "      .select(F.expr(\"cols['0']\").alias(\"chunk\"),\n",
        "              F.expr(\"cols['1']['entity']\").alias(\"ner_label\"),\n",
        "              F.expr(\"cols['1']['confidence']\").alias(\"confidence\")).show(truncate=False)"
      ],
      "metadata": {
        "colab": {
          "base_uri": "https://localhost:8080/"
        },
        "id": "rI7Gyx1fNCrg",
        "outputId": "d87f031a-c71f-4c5d-ea8c-c4935b87e145"
      },
      "execution_count": 13,
      "outputs": [
        {
          "output_type": "stream",
          "name": "stdout",
          "text": [
            "+---------------------------+--------------+----------+\n",
            "|chunk                      |ner_label     |confidence|\n",
            "+---------------------------+--------------+----------+\n",
            "|Sophia Martinez            |OTHER_PERSON  |1.0       |\n",
            "|Innovative Investments LLC |ORG           |0.99986666|\n",
            "|$30000.00                  |AMOUNT        |1.0       |\n",
            "|Jan 1 2023                 |DUE_DATE      |1.0       |\n",
            "|Innovative Investments LLC.|ACCOUNT_NAME  |0.99942505|\n",
            "|1234567-6XX                |ACCOUNT_NUMBER|1.0       |\n",
            "|42100191                   |ABA           |1.0       |\n",
            "|Ally Financial             |BANK_NAME     |0.99915004|\n",
            "|thomasann@example.com      |EMAIL         |1.0       |\n",
            "|Michael D. Davis           |OTHER_PERSON  |0.980025  |\n",
            "+---------------------------+--------------+----------+\n",
            "\n"
          ]
        }
      ]
    },
    {
      "cell_type": "markdown",
      "source": [
        "# Example 3: A long Capital Call Notice with much additional information"
      ],
      "metadata": {
        "id": "z-vJOcC-NbIE"
      }
    },
    {
      "cell_type": "code",
      "source": [
        "text3 = \"\"\"The Next Big Thing Inc is calling 800000 USD from Great Oaks Venture Capital (the Fund) as a net contribution for an investment, management\n",
        "fees and expenses, offset by a cash distribution. Please refer to the attached schedule for a breakdown\n",
        "of the components of the amount, and to the narrative below for a description of the components\n",
        "referred to in this notice.\n",
        "Your portion of the call is 800000 USD. After this notice, you will have contributed 5% of your\n",
        "commitment of 4000000 EUR, and your unfunded commitment will be USD 80000,000. You have received\n",
        "USD 50000,000 in distributions, of which USD 30000 is considered Recallable Capital per Section 3.3 of the\n",
        "LPA. Please refer to the Schedule for further details.\n",
        "Please wire your funds to:\n",
        "Date Due 2026.01.01\n",
        "Amount Due USD 800000\n",
        "Bank Name Citigroup\n",
        "Bank Contact Charlotte Davis\n",
        "Bank Address 00025 Cynthia Row Suite 132\n",
        "ABA # 44000024\n",
        "Credit to Next Big Thing Inc\n",
        "Account # 1234567-2XX\n",
        "Next Big Thing Inc (The Company) is calling USD 800000 from Great Oaks Venture Capital for an investment. The Next Big Thing Inc. is a manufacturer of widgets located in Akron, Ohio and will use the capital to expand into the Canadian market. The deal is expected\n",
        "to close on 02.02.2023, and is expected to consist of a total financing of USD 4000000,000, with $ 800000\n",
        "coming from the Citigroup in the form of a senior secured note and the remaining 500000 USD\n",
        "coming from investment partner Great Oaks Venture Capital. Both Next Big Thing Inc and Great Oaks Venture Capital will receive\n",
        "participating preferred stock with a 1x liquidation preference and a cumulative 1% dividend.\n",
        "\n",
        "If you have any questions or concerns, please contact Michael D. Davis at (213)555-0303 or via email michaeldavis@example.com.\n",
        "Best Regards,\n",
        "Andew Smith\"\"\"\n",
        "\n",
        "\n",
        "result3 = model.transform(spark.createDataFrame([[text3]]).toDF(\"text\"))\n",
        "\n",
        "result3.select(F.explode(F.arrays_zip(result3.ner_chunk.result, result3.ner_chunk.metadata)).alias(\"cols\")) \\\n",
        "      .select(F.expr(\"cols['0']\").alias(\"chunk\"),\n",
        "              F.expr(\"cols['1']['entity']\").alias(\"ner_label\"),\n",
        "              F.expr(\"cols['1']['confidence']\").alias(\"confidence\")).show(truncate=False)"
      ],
      "metadata": {
        "colab": {
          "base_uri": "https://localhost:8080/"
        },
        "id": "OKavmuvUNEay",
        "outputId": "f5de3c81-e0b3-4262-aa7a-6a859ee8eb00"
      },
      "execution_count": 28,
      "outputs": [
        {
          "output_type": "stream",
          "name": "stdout",
          "text": [
            "+---------------------------+----------------+----------+\n",
            "|chunk                      |ner_label       |confidence|\n",
            "+---------------------------+----------------+----------+\n",
            "|The Next Big Thing Inc     |ORG             |0.9851    |\n",
            "|800000 USD                 |AMOUNT          |0.99934995|\n",
            "|Great Oaks Venture Capital |FUND            |0.99969995|\n",
            "|800000 USD                 |AMOUNT          |1.0       |\n",
            "|5%                         |OTHER_PERCENTAGE|1.0       |\n",
            "|4000000 EUR                |OTHER_AMOUNT    |1.0       |\n",
            "|USD 80000,000              |OTHER_AMOUNT    |1.0       |\n",
            "|USD 50000,000              |OTHER_AMOUNT    |1.0       |\n",
            "|USD 30000                  |OTHER_AMOUNT    |1.0       |\n",
            "|2026.01.01                 |DUE_DATE        |1.0       |\n",
            "|USD 800000                 |AMOUNT          |0.99975   |\n",
            "|Citigroup                  |BANK_NAME       |0.9997    |\n",
            "|Charlotte Davis            |BANK_CONTACT    |0.9997    |\n",
            "|00025 Cynthia Row Suite 132|BANK_ADDRESS    |0.99990004|\n",
            "|44000024                   |ABA             |1.0       |\n",
            "|Next Big Thing Inc         |ACCOUNT_NAME    |0.999925  |\n",
            "|1234567-2XX                |ACCOUNT_NUMBER  |1.0       |\n",
            "|Next Big Thing Inc         |FUND            |0.98022497|\n",
            "|USD 800000                 |AMOUNT          |0.9999    |\n",
            "|Great Oaks Venture Capital |FUND            |0.908175  |\n",
            "+---------------------------+----------------+----------+\n",
            "only showing top 20 rows\n",
            "\n"
          ]
        }
      ]
    },
    {
      "cell_type": "markdown",
      "source": [
        "# Let's visualize the results with Spark NLP Viz library\n",
        "To do that, we need Light Pipelines"
      ],
      "metadata": {
        "id": "HTXtrMgLSIBd"
      }
    },
    {
      "cell_type": "code",
      "source": [
        "lp = nlp.LightPipeline(model)"
      ],
      "metadata": {
        "id": "rFNdy8ldPVEb"
      },
      "execution_count": 29,
      "outputs": []
    },
    {
      "cell_type": "code",
      "source": [
        "res = lp.fullAnnotate(text3)"
      ],
      "metadata": {
        "id": "jeof-6ENSRvy"
      },
      "execution_count": 30,
      "outputs": []
    },
    {
      "cell_type": "code",
      "source": [
        "from johnsnowlabs import viz\n",
        "nerviz = viz.NerVisualizer()\n",
        "\n",
        "nerviz.display(res[0], label_col='ner_chunk')"
      ],
      "metadata": {
        "colab": {
          "base_uri": "https://localhost:8080/",
          "height": 1000
        },
        "id": "T_Q7g8N8SV3w",
        "outputId": "981cc11b-5d7e-4243-9ebd-8c026b0fdf8b"
      },
      "execution_count": 31,
      "outputs": [
        {
          "output_type": "display_data",
          "data": {
            "text/plain": [
              "<IPython.core.display.HTML object>"
            ],
            "text/html": [
              "\n",
              "<style>\n",
              "    @import url('https://fonts.googleapis.com/css2?family=Montserrat:wght@300;400;500;600;700&display=swap');\n",
              "    @import url('https://fonts.googleapis.com/css2?family=Vistol Regular:wght@300;400;500;600;700&display=swap');\n",
              "    \n",
              "    .spark-nlp-display-scroll-entities {\n",
              "        border: 1px solid #E7EDF0;\n",
              "        border-radius: 3px;\n",
              "        text-align: justify;\n",
              "        \n",
              "    }\n",
              "    .spark-nlp-display-scroll-entities span {  \n",
              "        font-size: 14px;\n",
              "        line-height: 24px;\n",
              "        color: #536B76;\n",
              "        font-family: 'Montserrat', sans-serif !important;\n",
              "    }\n",
              "    \n",
              "    .spark-nlp-display-entity-wrapper{\n",
              "    \n",
              "        display: inline-grid;\n",
              "        text-align: center;\n",
              "        border-radius: 4px;\n",
              "        margin: 0 2px 5px 2px;\n",
              "        padding: 1px\n",
              "    }\n",
              "    .spark-nlp-display-entity-name{\n",
              "        font-size: 14px;\n",
              "        line-height: 24px;\n",
              "        font-family: 'Montserrat', sans-serif !important;\n",
              "        \n",
              "        background: #f1f2f3;\n",
              "        border-width: medium;\n",
              "        text-align: center;\n",
              "        \n",
              "        font-weight: 400;\n",
              "        \n",
              "        border-radius: 5px;\n",
              "        padding: 2px 5px;\n",
              "        display: block;\n",
              "        margin: 3px 2px;\n",
              "    \n",
              "    }\n",
              "    .spark-nlp-display-entity-type{\n",
              "        font-size: 14px;\n",
              "        line-height: 24px;\n",
              "        color: #ffffff;\n",
              "        font-family: 'Montserrat', sans-serif !important;\n",
              "        \n",
              "        text-transform: uppercase;\n",
              "        \n",
              "        font-weight: 500;\n",
              "\n",
              "        display: block;\n",
              "        padding: 3px 5px;\n",
              "    }\n",
              "    \n",
              "    .spark-nlp-display-entity-resolution{\n",
              "        font-size: 14px;\n",
              "        line-height: 24px;\n",
              "        color: #ffffff;\n",
              "        font-family: 'Vistol Regular', sans-serif !important;\n",
              "        \n",
              "        text-transform: uppercase;\n",
              "        \n",
              "        font-weight: 500;\n",
              "\n",
              "        display: block;\n",
              "        padding: 3px 5px;\n",
              "    }\n",
              "    \n",
              "    .spark-nlp-display-others{\n",
              "        font-size: 14px;\n",
              "        line-height: 24px;\n",
              "        font-family: 'Montserrat', sans-serif !important;\n",
              "        \n",
              "        font-weight: 400;\n",
              "    }\n",
              "\n",
              "</style>\n",
              " <span class=\"spark-nlp-display-entity-wrapper\" style=\"background-color: #327BB2\"><span class=\"spark-nlp-display-entity-name\">The Next Big Thing Inc </span><span class=\"spark-nlp-display-entity-type\">ORG</span></span><span class=\"spark-nlp-display-others\" style=\"background-color: white\"> is calling </span><span class=\"spark-nlp-display-entity-wrapper\" style=\"background-color: #587198\"><span class=\"spark-nlp-display-entity-name\">800000 USD </span><span class=\"spark-nlp-display-entity-type\">AMOUNT</span></span><span class=\"spark-nlp-display-others\" style=\"background-color: white\"> from </span><span class=\"spark-nlp-display-entity-wrapper\" style=\"background-color: #8A3981\"><span class=\"spark-nlp-display-entity-name\">Great Oaks Venture Capital </span><span class=\"spark-nlp-display-entity-type\">FUND</span></span><span class=\"spark-nlp-display-others\" style=\"background-color: white\"> (the Fund) as a net contribution for an investment, management<br>fees and expenses, offset by a cash distribution. Please refer to the attached schedule for a breakdown<br>of the components of the amount, and to the narrative below for a description of the components<br>referred to in this notice.<br>Your portion of the call is </span><span class=\"spark-nlp-display-entity-wrapper\" style=\"background-color: #587198\"><span class=\"spark-nlp-display-entity-name\">800000 USD </span><span class=\"spark-nlp-display-entity-type\">AMOUNT</span></span><span class=\"spark-nlp-display-others\" style=\"background-color: white\">. After this notice, you will have contributed </span><span class=\"spark-nlp-display-entity-wrapper\" style=\"background-color: #B0BF98\"><span class=\"spark-nlp-display-entity-name\">5% </span><span class=\"spark-nlp-display-entity-type\">OTHER_PERCENTAGE</span></span><span class=\"spark-nlp-display-others\" style=\"background-color: white\"> of your<br>commitment of </span><span class=\"spark-nlp-display-entity-wrapper\" style=\"background-color: #C2A961\"><span class=\"spark-nlp-display-entity-name\">4000000 EUR </span><span class=\"spark-nlp-display-entity-type\">OTHER_AMOUNT</span></span><span class=\"spark-nlp-display-others\" style=\"background-color: white\">, and your unfunded commitment will be </span><span class=\"spark-nlp-display-entity-wrapper\" style=\"background-color: #C2A961\"><span class=\"spark-nlp-display-entity-name\">USD 80000,000 </span><span class=\"spark-nlp-display-entity-type\">OTHER_AMOUNT</span></span><span class=\"spark-nlp-display-others\" style=\"background-color: white\">. You have received<br></span><span class=\"spark-nlp-display-entity-wrapper\" style=\"background-color: #C2A961\"><span class=\"spark-nlp-display-entity-name\">USD 50000,000 </span><span class=\"spark-nlp-display-entity-type\">OTHER_AMOUNT</span></span><span class=\"spark-nlp-display-others\" style=\"background-color: white\"> in distributions, of which </span><span class=\"spark-nlp-display-entity-wrapper\" style=\"background-color: #C2A961\"><span class=\"spark-nlp-display-entity-name\">USD 30000 </span><span class=\"spark-nlp-display-entity-type\">OTHER_AMOUNT</span></span><span class=\"spark-nlp-display-others\" style=\"background-color: white\"> is considered Recallable Capital per Section 3.3 of the<br>LPA. Please refer to the Schedule for further details.<br>Please wire your funds to:<br>Date Due </span><span class=\"spark-nlp-display-entity-wrapper\" style=\"background-color: #4913A0\"><span class=\"spark-nlp-display-entity-name\">2026.01.01 </span><span class=\"spark-nlp-display-entity-type\">DUE_DATE</span></span><span class=\"spark-nlp-display-others\" style=\"background-color: white\"><br>Amount Due </span><span class=\"spark-nlp-display-entity-wrapper\" style=\"background-color: #587198\"><span class=\"spark-nlp-display-entity-name\">USD 800000 </span><span class=\"spark-nlp-display-entity-type\">AMOUNT</span></span><span class=\"spark-nlp-display-others\" style=\"background-color: white\"><br>Bank Name </span><span class=\"spark-nlp-display-entity-wrapper\" style=\"background-color: #75BC49\"><span class=\"spark-nlp-display-entity-name\">Citigroup </span><span class=\"spark-nlp-display-entity-type\">BANK_NAME</span></span><span class=\"spark-nlp-display-others\" style=\"background-color: white\"><br>Bank Contact </span><span class=\"spark-nlp-display-entity-wrapper\" style=\"background-color: #315B3E\"><span class=\"spark-nlp-display-entity-name\">Charlotte Davis </span><span class=\"spark-nlp-display-entity-type\">BANK_CONTACT</span></span><span class=\"spark-nlp-display-others\" style=\"background-color: white\"><br>Bank Address </span><span class=\"spark-nlp-display-entity-wrapper\" style=\"background-color: #74B887\"><span class=\"spark-nlp-display-entity-name\">00025 Cynthia Row Suite 132 </span><span class=\"spark-nlp-display-entity-type\">BANK_ADDRESS</span></span><span class=\"spark-nlp-display-others\" style=\"background-color: white\"><br>ABA # </span><span class=\"spark-nlp-display-entity-wrapper\" style=\"background-color: #81109B\"><span class=\"spark-nlp-display-entity-name\">44000024 </span><span class=\"spark-nlp-display-entity-type\">ABA</span></span><span class=\"spark-nlp-display-others\" style=\"background-color: white\"><br>Credit to </span><span class=\"spark-nlp-display-entity-wrapper\" style=\"background-color: #BFC321\"><span class=\"spark-nlp-display-entity-name\">Next Big Thing Inc </span><span class=\"spark-nlp-display-entity-type\">ACCOUNT_NAME</span></span><span class=\"spark-nlp-display-others\" style=\"background-color: white\"><br>Account # </span><span class=\"spark-nlp-display-entity-wrapper\" style=\"background-color: #147B48\"><span class=\"spark-nlp-display-entity-name\">1234567-2XX </span><span class=\"spark-nlp-display-entity-type\">ACCOUNT_NUMBER</span></span><span class=\"spark-nlp-display-others\" style=\"background-color: white\"><br></span><span class=\"spark-nlp-display-entity-wrapper\" style=\"background-color: #8A3981\"><span class=\"spark-nlp-display-entity-name\">Next Big Thing Inc </span><span class=\"spark-nlp-display-entity-type\">FUND</span></span><span class=\"spark-nlp-display-others\" style=\"background-color: white\"> (The Company) is calling </span><span class=\"spark-nlp-display-entity-wrapper\" style=\"background-color: #587198\"><span class=\"spark-nlp-display-entity-name\">USD 800000 </span><span class=\"spark-nlp-display-entity-type\">AMOUNT</span></span><span class=\"spark-nlp-display-others\" style=\"background-color: white\"> from </span><span class=\"spark-nlp-display-entity-wrapper\" style=\"background-color: #8A3981\"><span class=\"spark-nlp-display-entity-name\">Great Oaks Venture Capital </span><span class=\"spark-nlp-display-entity-type\">FUND</span></span><span class=\"spark-nlp-display-others\" style=\"background-color: white\"> for an investment. </span><span class=\"spark-nlp-display-entity-wrapper\" style=\"background-color: #327BB2\"><span class=\"spark-nlp-display-entity-name\">The Next Big Thing Inc </span><span class=\"spark-nlp-display-entity-type\">ORG</span></span><span class=\"spark-nlp-display-others\" style=\"background-color: white\">. is a manufacturer of widgets located in Akron, Ohio and will use the capital to expand into the Canadian market. The deal is expected<br>to close on </span><span class=\"spark-nlp-display-entity-wrapper\" style=\"background-color: #4913A0\"><span class=\"spark-nlp-display-entity-name\">02.02.2023 </span><span class=\"spark-nlp-display-entity-type\">DUE_DATE</span></span><span class=\"spark-nlp-display-others\" style=\"background-color: white\">, and is expected to consist of a total financing of </span><span class=\"spark-nlp-display-entity-wrapper\" style=\"background-color: #C2A961\"><span class=\"spark-nlp-display-entity-name\">USD 4000000,000 </span><span class=\"spark-nlp-display-entity-type\">OTHER_AMOUNT</span></span><span class=\"spark-nlp-display-others\" style=\"background-color: white\">, with </span><span class=\"spark-nlp-display-entity-wrapper\" style=\"background-color: #C2A961\"><span class=\"spark-nlp-display-entity-name\">$ 800000 </span><span class=\"spark-nlp-display-entity-type\">OTHER_AMOUNT</span></span><span class=\"spark-nlp-display-others\" style=\"background-color: white\"><br>coming from the </span><span class=\"spark-nlp-display-entity-wrapper\" style=\"background-color: #75BC49\"><span class=\"spark-nlp-display-entity-name\">Citigroup </span><span class=\"spark-nlp-display-entity-type\">BANK_NAME</span></span><span class=\"spark-nlp-display-others\" style=\"background-color: white\"> in the form of a senior secured note and the remaining </span><span class=\"spark-nlp-display-entity-wrapper\" style=\"background-color: #C2A961\"><span class=\"spark-nlp-display-entity-name\">500000 USD </span><span class=\"spark-nlp-display-entity-type\">OTHER_AMOUNT</span></span><span class=\"spark-nlp-display-others\" style=\"background-color: white\"><br>coming from investment partner </span><span class=\"spark-nlp-display-entity-wrapper\" style=\"background-color: #8A3981\"><span class=\"spark-nlp-display-entity-name\">Great Oaks Venture Capital </span><span class=\"spark-nlp-display-entity-type\">FUND</span></span><span class=\"spark-nlp-display-others\" style=\"background-color: white\">. </span><span class=\"spark-nlp-display-entity-wrapper\" style=\"background-color: #5959AC\"><span class=\"spark-nlp-display-entity-name\">Both Next Big Thing Inc </span><span class=\"spark-nlp-display-entity-type\">OTHER_ORG</span></span><span class=\"spark-nlp-display-others\" style=\"background-color: white\"> and </span><span class=\"spark-nlp-display-entity-wrapper\" style=\"background-color: #5959AC\"><span class=\"spark-nlp-display-entity-name\">Great Oaks Venture Capital </span><span class=\"spark-nlp-display-entity-type\">OTHER_ORG</span></span><span class=\"spark-nlp-display-others\" style=\"background-color: white\"> will receive<br>participating preferred stock with a 1x liquidation preference and a cumulative </span><span class=\"spark-nlp-display-entity-wrapper\" style=\"background-color: #B0BF98\"><span class=\"spark-nlp-display-entity-name\">1% </span><span class=\"spark-nlp-display-entity-type\">OTHER_PERCENTAGE</span></span><span class=\"spark-nlp-display-others\" style=\"background-color: white\"> dividend.<br><br>If you have any questions or concerns, please contact </span><span class=\"spark-nlp-display-entity-wrapper\" style=\"background-color: #9F1D89\"><span class=\"spark-nlp-display-entity-name\">Michael D. Davis </span><span class=\"spark-nlp-display-entity-type\">PERSON</span></span><span class=\"spark-nlp-display-others\" style=\"background-color: white\"> at </span><span class=\"spark-nlp-display-entity-wrapper\" style=\"background-color: #6D4BA1\"><span class=\"spark-nlp-display-entity-name\">(213)555-0303 </span><span class=\"spark-nlp-display-entity-type\">PHONE</span></span><span class=\"spark-nlp-display-others\" style=\"background-color: white\"> or via email </span><span class=\"spark-nlp-display-entity-wrapper\" style=\"background-color: #2F12B3\"><span class=\"spark-nlp-display-entity-name\">michaeldavis@example.com </span><span class=\"spark-nlp-display-entity-type\">EMAIL</span></span><span class=\"spark-nlp-display-others\" style=\"background-color: white\">.<br>Best Regards,<br>Andew </span><span class=\"spark-nlp-display-entity-wrapper\" style=\"background-color: #77AF9B\"><span class=\"spark-nlp-display-entity-name\">Smith </span><span class=\"spark-nlp-display-entity-type\">OTHER_PERSON</span></span></div>"
            ]
          },
          "metadata": {}
        }
      ]
    },
    {
      "cell_type": "markdown",
      "source": [
        "# You can even create a graph to store the results in a Graph Database!"
      ],
      "metadata": {
        "id": "lzjr_qgqSi6T"
      }
    },
    {
      "cell_type": "code",
      "source": [
        "import networkx as nx\n",
        "G = nx.Graph()\n",
        "\n",
        "G.clear()\n",
        "G.nodes()"
      ],
      "metadata": {
        "colab": {
          "base_uri": "https://localhost:8080/"
        },
        "id": "reYJQxwXUb1h",
        "outputId": "995a458f-8c76-4f82-c84d-2f93e6fb76cf"
      },
      "execution_count": 49,
      "outputs": [
        {
          "output_type": "execute_result",
          "data": {
            "text/plain": [
              "NodeView(())"
            ]
          },
          "metadata": {},
          "execution_count": 49
        }
      ]
    },
    {
      "cell_type": "markdown",
      "source": [
        "## Using Plotly to show the graph"
      ],
      "metadata": {
        "id": "kEzPJ8itTBdY"
      }
    },
    {
      "cell_type": "code",
      "source": [
        "import plotly.graph_objects as go\n",
        "import random\n",
        "\n",
        "def get_nodes_from_graph(graph, pos, node_color):\n",
        "  \"\"\"Extracts the nodes from a networkX dataframe in Plotly Scatterplot format\"\"\"\n",
        "  node_x = []\n",
        "  node_y = []\n",
        "  texts = []\n",
        "  hovers = []\n",
        "  for node in graph.nodes():\n",
        "    entity = graph.nodes[node]['attr_dict']['entity']\n",
        "    x, y = pos[node]\n",
        "    node_x.append(x)\n",
        "    node_y.append(y)\n",
        "    texts.append(node)\n",
        "    hovers.append(entity)\n",
        "\n",
        "  node_trace = go.Scatter(\n",
        "    x=node_x, y=node_y, text=texts, hovertext=hovers,\n",
        "    mode='markers+text',\n",
        "    hoverinfo='text',\n",
        "    marker=dict(\n",
        "        color=node_color,\n",
        "        size=40,\n",
        "        line_width=2))\n",
        "  \n",
        "  return node_trace\n",
        "\n",
        "\n",
        "def get_edges_from_graph(graph, pos, edge_color):\n",
        "  \"\"\"Extracts the edges from a networkX dataframe in Plotly Scatterplot format\"\"\"\n",
        "  edge_x = []\n",
        "  edge_y = []\n",
        "  hovers = []\n",
        "  xtext = []\n",
        "  ytext = []\n",
        "  for edge in graph.edges():\n",
        "    relation = graph.edges[edge]['attr_dict']['relation']\n",
        "    x0, y0 = pos[edge[0]]\n",
        "    x1, y1 = pos[edge[1]]\n",
        "    edge_x.append(x0)\n",
        "    edge_x.append(x1)\n",
        "    edge_x.append(None)\n",
        "    edge_y.append(y0)\n",
        "    edge_y.append(y1)\n",
        "    edge_y.append(None)\n",
        "    hovers.append(relation)\n",
        "    xtext.append((x0+x1)/2)\n",
        "    ytext.append((y0+y1)/2)\n",
        "\n",
        "  edge_trace = go.Scatter(\n",
        "    x=edge_x, y=edge_y,\n",
        "    line=dict(width=2, color=edge_color),\n",
        "    mode='lines')\n",
        "  \n",
        "  labels_trace = go.Scatter(x=xtext,y= ytext, mode='text',\n",
        "                              textfont = {'color': edge_color},\n",
        "                              marker_size=0.5,\n",
        "                              text=hovers,\n",
        "                              textposition='top center',\n",
        "                              hovertemplate='weight: %{text}')\n",
        "  return edge_trace, labels_trace\n",
        "\n",
        "\n",
        "def show_graph_in_plotly(graph, node_color='white', edge_color='grey'):\n",
        "  \"\"\"Shows Plotly graph in Databricks\"\"\"\n",
        "  pos = nx.spring_layout(graph)\n",
        "  node_trace = get_nodes_from_graph(graph, pos, node_color)\n",
        "  edge_trace, labels_trace = get_edges_from_graph(graph, pos, edge_color)\n",
        "  fig = go.Figure(data=[edge_trace, node_trace, labels_trace],\n",
        "               layout=go.Layout(\n",
        "                  title='Visualization',\n",
        "                  titlefont_size=16,                   \n",
        "                  showlegend=False,\n",
        "                  width=1600,\n",
        "                  height=1000,\n",
        "                  xaxis=dict(showgrid=False, zeroline=False, showticklabels=False),\n",
        "                  yaxis=dict(showgrid=False, zeroline=False, showticklabels=False))\n",
        "                  )\n",
        "  fig.update_traces(marker=dict(size=12,\n",
        "                              line=dict(width=2,\n",
        "                                        color='DarkSlateGrey')),\n",
        "                  selector=dict(mode='markers')) \n",
        "  fig.show()"
      ],
      "metadata": {
        "id": "svRmRo6eS0tI"
      },
      "execution_count": 50,
      "outputs": []
    },
    {
      "cell_type": "markdown",
      "source": [
        "## Getting the center of our graph: the company requesting the call"
      ],
      "metadata": {
        "id": "QYrzEnFpTFZp"
      }
    },
    {
      "cell_type": "code",
      "source": [
        "center = list(set([x.result for x in res[0]['ner_chunk'] if x.metadata['entity']=='ORG']))[0]\n",
        "center"
      ],
      "metadata": {
        "colab": {
          "base_uri": "https://localhost:8080/",
          "height": 35
        },
        "id": "mmrMjHXOTGzS",
        "outputId": "7eb19df2-3fb1-4649-e646-09ae9a259a36"
      },
      "execution_count": 51,
      "outputs": [
        {
          "output_type": "execute_result",
          "data": {
            "text/plain": [
              "'The Next Big Thing Inc'"
            ],
            "application/vnd.google.colaboratory.intrinsic+json": {
              "type": "string"
            }
          },
          "metadata": {},
          "execution_count": 51
        }
      ]
    },
    {
      "cell_type": "code",
      "source": [
        "G.add_node(center,  attr_dict={'entity': 'ORG'})"
      ],
      "metadata": {
        "id": "q16pDDClUUYI"
      },
      "execution_count": 52,
      "outputs": []
    },
    {
      "cell_type": "markdown",
      "source": [
        "# Creating an \"OTHER\" node for additional information, not capital-call related"
      ],
      "metadata": {
        "id": "ITkSuMVFVkTX"
      }
    },
    {
      "cell_type": "code",
      "source": [
        "OTHER = \"OTHER\""
      ],
      "metadata": {
        "id": "CGG7Q74HV6lX"
      },
      "execution_count": 53,
      "outputs": []
    },
    {
      "cell_type": "code",
      "source": [
        "G.add_node(OTHER,  attr_dict={'entity': 'OTHER'})"
      ],
      "metadata": {
        "id": "AZkccJxbVpxv"
      },
      "execution_count": 54,
      "outputs": []
    },
    {
      "cell_type": "code",
      "source": [
        "G.add_edge(center, OTHER, attr_dict={'relation': \"has_additional_info\"})  "
      ],
      "metadata": {
        "id": "-a4gMXdyVskA"
      },
      "execution_count": 55,
      "outputs": []
    },
    {
      "cell_type": "markdown",
      "source": [
        "## Getting the rest of the entities and relations"
      ],
      "metadata": {
        "id": "gws757hYUwth"
      }
    },
    {
      "cell_type": "code",
      "source": [
        "for x in res[0]['ner_chunk']:\n",
        "  ent_type = x.metadata['entity']\n",
        "  ent_text = x.result\n",
        "  ent_conf = x.metadata['confidence']\n",
        "  \n",
        "  G.add_node(ent_text,  attr_dict={'entity': ent_type, 'confidence': ent_conf})\n",
        "  relation = f'has_{ent_type}'\n",
        "    \n",
        "  if ent_type.startswith('OTHER'):\n",
        "    G.add_edge(OTHER, ent_text, attr_dict={'relation': relation.lower()})\n",
        "  else:\n",
        "    G.add_edge(center, ent_text, attr_dict={'relation': relation.lower()})"
      ],
      "metadata": {
        "id": "X8oNPH1SUyjX"
      },
      "execution_count": 56,
      "outputs": []
    },
    {
      "cell_type": "code",
      "source": [
        "\n",
        "show_graph_in_plotly(G)"
      ],
      "metadata": {
        "colab": {
          "base_uri": "https://localhost:8080/",
          "height": 1000
        },
        "id": "57pzOvuYWDBn",
        "outputId": "6c69fecd-d707-443c-d34d-eb6e1fac73f8"
      },
      "execution_count": 57,
      "outputs": [
        {
          "output_type": "display_data",
          "data": {
            "text/html": [
              "<html>\n",
              "<head><meta charset=\"utf-8\" /></head>\n",
              "<body>\n",
              "    <div>            <script src=\"https://cdnjs.cloudflare.com/ajax/libs/mathjax/2.7.5/MathJax.js?config=TeX-AMS-MML_SVG\"></script><script type=\"text/javascript\">if (window.MathJax) {MathJax.Hub.Config({SVG: {font: \"STIX-Web\"}});}</script>                <script type=\"text/javascript\">window.PlotlyConfig = {MathJaxConfig: 'local'};</script>\n",
              "        <script src=\"https://cdn.plot.ly/plotly-2.8.3.min.js\"></script>                <div id=\"7980131f-b184-4147-8090-932fa69e8cc4\" class=\"plotly-graph-div\" style=\"height:1000px; width:1600px;\"></div>            <script type=\"text/javascript\">                                    window.PLOTLYENV=window.PLOTLYENV || {};                                    if (document.getElementById(\"7980131f-b184-4147-8090-932fa69e8cc4\")) {                    Plotly.newPlot(                        \"7980131f-b184-4147-8090-932fa69e8cc4\",                        [{\"line\":{\"color\":\"grey\",\"width\":2},\"mode\":\"lines\",\"x\":[0.42318139419610357,-0.4886711046687924,null,0.42318139419610357,0.42318139419610357,null,0.42318139419610357,0.6970490747414381,null,0.42318139419610357,-0.04261983358554917,null,0.42318139419610357,0.33766449527111464,null,0.42318139419610357,0.5293988437534993,null,0.42318139419610357,0.9162409350456407,null,0.42318139419610357,0.6037786979598656,null,0.42318139419610357,0.11104890154616512,null,0.42318139419610357,0.8068050390277199,null,0.42318139419610357,0.7167621142935747,null,0.42318139419610357,0.3951474206950176,null,0.42318139419610357,0.9215830213092892,null,0.42318139419610357,0.6800722296109971,null,0.42318139419610357,0.8770299990228168,null,0.42318139419610357,0.29743956087392587,null,-0.4886711046687924,-0.898623685179915,null,-0.4886711046687924,-0.2679844366220874,null,-0.4886711046687924,-0.44898051532662026,null,-0.4886711046687924,-0.7123495371408918,null,-0.4886711046687924,-0.5611667320819115,null,-0.4886711046687924,-1.0,null,-0.4886711046687924,-0.7975798577073154,null,-0.4886711046687924,-0.7675142532893902,null,-0.4886711046687924,-0.9759587823002497,null,-0.4886711046687924,-0.04261983358554917,null,-0.4886711046687924,-0.5151102817522702,null,-0.4886711046687924,-0.8366427076921761,null],\"y\":[-0.20397816302845975,0.23413954701281717,null,-0.20397816302845975,-0.20397816302845975,null,-0.20397816302845975,-0.05583285901548821,null,-0.20397816302845975,0.020137741949695722,null,-0.20397816302845975,-0.7149661671512549,null,-0.20397816302845975,-0.6470404109131789,null,-0.20397816302845975,-0.2702578826256099,null,-0.20397816302845975,0.22361471746861172,null,-0.20397816302845975,-0.4609780394658712,null,-0.20397816302845975,0.13070343565380013,null,-0.20397816302845975,-0.6269539274684062,null,-0.20397816302845975,0.14276708720344464,null,-0.20397816302845975,-0.07368071549922653,null,-0.20397816302845975,-0.3920088544786085,null,-0.20397816302845975,-0.4732628203966881,null,-0.20397816302845975,-0.5263040075087536,null,0.23413954701281717,0.004527638507748078,null,0.23413954701281717,0.6239597300804186,null,0.23413954701281717,0.5203619413795432,null,0.23413954701281717,0.6703248855680577,null,0.23413954701281717,-0.11068223376165569,null,0.23413954701281717,0.1835619590015566,null,0.23413954701281717,0.26330321820828734,null,0.23413954701281717,-0.1404396675479568,null,0.23413954701281717,0.41288329569176824,null,0.23413954701281717,0.020137741949695722,null,0.23413954701281717,0.7240097073770779,null,0.23413954701281717,0.5420908437583314,null],\"type\":\"scatter\"},{\"hoverinfo\":\"text\",\"hovertext\":[\"ORG\",\"OTHER\",\"AMOUNT\",\"OTHER_ORG\",\"OTHER_PERCENTAGE\",\"OTHER_AMOUNT\",\"OTHER_AMOUNT\",\"OTHER_AMOUNT\",\"OTHER_AMOUNT\",\"DUE_DATE\",\"AMOUNT\",\"BANK_NAME\",\"BANK_CONTACT\",\"BANK_ADDRESS\",\"ABA\",\"FUND\",\"ACCOUNT_NUMBER\",\"DUE_DATE\",\"OTHER_AMOUNT\",\"OTHER_AMOUNT\",\"OTHER_AMOUNT\",\"OTHER_ORG\",\"OTHER_PERCENTAGE\",\"PERSON\",\"PHONE\",\"EMAIL\",\"OTHER_PERSON\"],\"marker\":{\"color\":\"white\",\"line\":{\"width\":2},\"size\":40},\"mode\":\"markers+text\",\"text\":[\"The Next Big Thing Inc\",\"OTHER\",\"800000 USD\",\"Great Oaks Venture Capital\",\"5%\",\"4000000 EUR\",\"USD 80000,000\",\"USD 50000,000\",\"USD 30000\",\"2026.01.01\",\"USD 800000\",\"Citigroup\",\"Charlotte Davis\",\"00025 Cynthia Row Suite 132\",\"44000024\",\"Next Big Thing Inc\",\"1234567-2XX\",\"02.02.2023\",\"USD 4000000,000\",\"$ 800000\",\"500000 USD\",\"Both Next Big Thing Inc\",\"1%\",\"Michael D. Davis\",\"(213)555-0303\",\"michaeldavis@example.com\",\"Smith\"],\"x\":[0.42318139419610357,-0.4886711046687924,0.6970490747414381,-0.04261983358554917,-0.898623685179915,-0.2679844366220874,-0.44898051532662026,-0.7123495371408918,-0.5611667320819115,0.33766449527111464,0.5293988437534993,0.9162409350456407,0.6037786979598656,0.11104890154616512,0.8068050390277199,0.7167621142935747,0.3951474206950176,0.9215830213092892,-1.0,-0.7975798577073154,-0.7675142532893902,-0.9759587823002497,-0.5151102817522702,0.6800722296109971,0.8770299990228168,0.29743956087392587,-0.8366427076921761],\"y\":[-0.20397816302845975,0.23413954701281717,-0.05583285901548821,0.020137741949695722,0.004527638507748078,0.6239597300804186,0.5203619413795432,0.6703248855680577,-0.11068223376165569,-0.7149661671512549,-0.6470404109131789,-0.2702578826256099,0.22361471746861172,-0.4609780394658712,0.13070343565380013,-0.6269539274684062,0.14276708720344464,-0.07368071549922653,0.1835619590015566,0.26330321820828734,-0.1404396675479568,0.41288329569176824,0.7240097073770779,-0.3920088544786085,-0.4732628203966881,-0.5263040075087536,0.5420908437583314],\"type\":\"scatter\"},{\"hovertemplate\":\"weight: %{text}\",\"marker\":{\"size\":0.5},\"mode\":\"text\",\"text\":[\"has_additional_info\",\"has_org\",\"has_amount\",\"has_fund\",\"has_due_date\",\"has_amount\",\"has_bank_name\",\"has_bank_contact\",\"has_bank_address\",\"has_aba\",\"has_fund\",\"has_account_number\",\"has_due_date\",\"has_person\",\"has_phone\",\"has_email\",\"has_other_percentage\",\"has_other_amount\",\"has_other_amount\",\"has_other_amount\",\"has_other_amount\",\"has_other_amount\",\"has_other_amount\",\"has_other_amount\",\"has_other_org\",\"has_other_org\",\"has_other_percentage\",\"has_other_person\"],\"textfont\":{\"color\":\"grey\"},\"textposition\":\"top center\",\"x\":[-0.032744855236344406,0.42318139419610357,0.5601152344687708,0.1902807803052772,0.3804229447336091,0.47629011897480145,0.6697111646208722,0.5134800460779846,0.26711514787113433,0.6149932166119118,0.5699717542448391,0.4091644074455606,0.6723822077526964,0.5516268119035503,0.6501056966094602,0.3603104775350147,-0.6936473949243537,-0.3783277706454399,-0.4688258099977063,-0.6005103209048421,-0.524918918375352,-0.7443355523343962,-0.6431254811880539,-0.6280926789790913,-0.7323149434845211,-0.2656454691271708,-0.5018906932105314,-0.6626569061804842],\"y\":[0.015080691992178707,-0.20397816302845975,-0.12990551102197398,-0.09192021053938201,-0.45947216508985733,-0.4255092869708193,-0.2371180228270348,0.009818277220075985,-0.3324781012471655,-0.03663736368732981,-0.41546604524843295,-0.030605537912507558,-0.13882943926384314,-0.29799350875353414,-0.3386204917125739,-0.36514108526860667,0.11933359276028262,0.4290496385466179,0.37725074419618015,0.4522322162904374,0.06172865662558074,0.2088507530071869,0.24872138261055227,0.04684993973243018,0.3235114213522927,0.12713864448125645,0.47907462719494753,0.38811519538557426],\"type\":\"scatter\"}],                        {\"height\":1000,\"showlegend\":false,\"title\":{\"font\":{\"size\":16},\"text\":\"Visualization\"},\"width\":1600,\"xaxis\":{\"showgrid\":false,\"showticklabels\":false,\"zeroline\":false},\"yaxis\":{\"showgrid\":false,\"showticklabels\":false,\"zeroline\":false},\"template\":{\"data\":{\"bar\":[{\"error_x\":{\"color\":\"#2a3f5f\"},\"error_y\":{\"color\":\"#2a3f5f\"},\"marker\":{\"line\":{\"color\":\"#E5ECF6\",\"width\":0.5},\"pattern\":{\"fillmode\":\"overlay\",\"size\":10,\"solidity\":0.2}},\"type\":\"bar\"}],\"barpolar\":[{\"marker\":{\"line\":{\"color\":\"#E5ECF6\",\"width\":0.5},\"pattern\":{\"fillmode\":\"overlay\",\"size\":10,\"solidity\":0.2}},\"type\":\"barpolar\"}],\"carpet\":[{\"aaxis\":{\"endlinecolor\":\"#2a3f5f\",\"gridcolor\":\"white\",\"linecolor\":\"white\",\"minorgridcolor\":\"white\",\"startlinecolor\":\"#2a3f5f\"},\"baxis\":{\"endlinecolor\":\"#2a3f5f\",\"gridcolor\":\"white\",\"linecolor\":\"white\",\"minorgridcolor\":\"white\",\"startlinecolor\":\"#2a3f5f\"},\"type\":\"carpet\"}],\"choropleth\":[{\"colorbar\":{\"outlinewidth\":0,\"ticks\":\"\"},\"type\":\"choropleth\"}],\"contour\":[{\"colorbar\":{\"outlinewidth\":0,\"ticks\":\"\"},\"colorscale\":[[0.0,\"#0d0887\"],[0.1111111111111111,\"#46039f\"],[0.2222222222222222,\"#7201a8\"],[0.3333333333333333,\"#9c179e\"],[0.4444444444444444,\"#bd3786\"],[0.5555555555555556,\"#d8576b\"],[0.6666666666666666,\"#ed7953\"],[0.7777777777777778,\"#fb9f3a\"],[0.8888888888888888,\"#fdca26\"],[1.0,\"#f0f921\"]],\"type\":\"contour\"}],\"contourcarpet\":[{\"colorbar\":{\"outlinewidth\":0,\"ticks\":\"\"},\"type\":\"contourcarpet\"}],\"heatmap\":[{\"colorbar\":{\"outlinewidth\":0,\"ticks\":\"\"},\"colorscale\":[[0.0,\"#0d0887\"],[0.1111111111111111,\"#46039f\"],[0.2222222222222222,\"#7201a8\"],[0.3333333333333333,\"#9c179e\"],[0.4444444444444444,\"#bd3786\"],[0.5555555555555556,\"#d8576b\"],[0.6666666666666666,\"#ed7953\"],[0.7777777777777778,\"#fb9f3a\"],[0.8888888888888888,\"#fdca26\"],[1.0,\"#f0f921\"]],\"type\":\"heatmap\"}],\"heatmapgl\":[{\"colorbar\":{\"outlinewidth\":0,\"ticks\":\"\"},\"colorscale\":[[0.0,\"#0d0887\"],[0.1111111111111111,\"#46039f\"],[0.2222222222222222,\"#7201a8\"],[0.3333333333333333,\"#9c179e\"],[0.4444444444444444,\"#bd3786\"],[0.5555555555555556,\"#d8576b\"],[0.6666666666666666,\"#ed7953\"],[0.7777777777777778,\"#fb9f3a\"],[0.8888888888888888,\"#fdca26\"],[1.0,\"#f0f921\"]],\"type\":\"heatmapgl\"}],\"histogram\":[{\"marker\":{\"pattern\":{\"fillmode\":\"overlay\",\"size\":10,\"solidity\":0.2}},\"type\":\"histogram\"}],\"histogram2d\":[{\"colorbar\":{\"outlinewidth\":0,\"ticks\":\"\"},\"colorscale\":[[0.0,\"#0d0887\"],[0.1111111111111111,\"#46039f\"],[0.2222222222222222,\"#7201a8\"],[0.3333333333333333,\"#9c179e\"],[0.4444444444444444,\"#bd3786\"],[0.5555555555555556,\"#d8576b\"],[0.6666666666666666,\"#ed7953\"],[0.7777777777777778,\"#fb9f3a\"],[0.8888888888888888,\"#fdca26\"],[1.0,\"#f0f921\"]],\"type\":\"histogram2d\"}],\"histogram2dcontour\":[{\"colorbar\":{\"outlinewidth\":0,\"ticks\":\"\"},\"colorscale\":[[0.0,\"#0d0887\"],[0.1111111111111111,\"#46039f\"],[0.2222222222222222,\"#7201a8\"],[0.3333333333333333,\"#9c179e\"],[0.4444444444444444,\"#bd3786\"],[0.5555555555555556,\"#d8576b\"],[0.6666666666666666,\"#ed7953\"],[0.7777777777777778,\"#fb9f3a\"],[0.8888888888888888,\"#fdca26\"],[1.0,\"#f0f921\"]],\"type\":\"histogram2dcontour\"}],\"mesh3d\":[{\"colorbar\":{\"outlinewidth\":0,\"ticks\":\"\"},\"type\":\"mesh3d\"}],\"parcoords\":[{\"line\":{\"colorbar\":{\"outlinewidth\":0,\"ticks\":\"\"}},\"type\":\"parcoords\"}],\"pie\":[{\"automargin\":true,\"type\":\"pie\"}],\"scatter\":[{\"marker\":{\"colorbar\":{\"outlinewidth\":0,\"ticks\":\"\"}},\"type\":\"scatter\"}],\"scatter3d\":[{\"line\":{\"colorbar\":{\"outlinewidth\":0,\"ticks\":\"\"}},\"marker\":{\"colorbar\":{\"outlinewidth\":0,\"ticks\":\"\"}},\"type\":\"scatter3d\"}],\"scattercarpet\":[{\"marker\":{\"colorbar\":{\"outlinewidth\":0,\"ticks\":\"\"}},\"type\":\"scattercarpet\"}],\"scattergeo\":[{\"marker\":{\"colorbar\":{\"outlinewidth\":0,\"ticks\":\"\"}},\"type\":\"scattergeo\"}],\"scattergl\":[{\"marker\":{\"colorbar\":{\"outlinewidth\":0,\"ticks\":\"\"}},\"type\":\"scattergl\"}],\"scattermapbox\":[{\"marker\":{\"colorbar\":{\"outlinewidth\":0,\"ticks\":\"\"}},\"type\":\"scattermapbox\"}],\"scatterpolar\":[{\"marker\":{\"colorbar\":{\"outlinewidth\":0,\"ticks\":\"\"}},\"type\":\"scatterpolar\"}],\"scatterpolargl\":[{\"marker\":{\"colorbar\":{\"outlinewidth\":0,\"ticks\":\"\"}},\"type\":\"scatterpolargl\"}],\"scatterternary\":[{\"marker\":{\"colorbar\":{\"outlinewidth\":0,\"ticks\":\"\"}},\"type\":\"scatterternary\"}],\"surface\":[{\"colorbar\":{\"outlinewidth\":0,\"ticks\":\"\"},\"colorscale\":[[0.0,\"#0d0887\"],[0.1111111111111111,\"#46039f\"],[0.2222222222222222,\"#7201a8\"],[0.3333333333333333,\"#9c179e\"],[0.4444444444444444,\"#bd3786\"],[0.5555555555555556,\"#d8576b\"],[0.6666666666666666,\"#ed7953\"],[0.7777777777777778,\"#fb9f3a\"],[0.8888888888888888,\"#fdca26\"],[1.0,\"#f0f921\"]],\"type\":\"surface\"}],\"table\":[{\"cells\":{\"fill\":{\"color\":\"#EBF0F8\"},\"line\":{\"color\":\"white\"}},\"header\":{\"fill\":{\"color\":\"#C8D4E3\"},\"line\":{\"color\":\"white\"}},\"type\":\"table\"}]},\"layout\":{\"annotationdefaults\":{\"arrowcolor\":\"#2a3f5f\",\"arrowhead\":0,\"arrowwidth\":1},\"autotypenumbers\":\"strict\",\"coloraxis\":{\"colorbar\":{\"outlinewidth\":0,\"ticks\":\"\"}},\"colorscale\":{\"diverging\":[[0,\"#8e0152\"],[0.1,\"#c51b7d\"],[0.2,\"#de77ae\"],[0.3,\"#f1b6da\"],[0.4,\"#fde0ef\"],[0.5,\"#f7f7f7\"],[0.6,\"#e6f5d0\"],[0.7,\"#b8e186\"],[0.8,\"#7fbc41\"],[0.9,\"#4d9221\"],[1,\"#276419\"]],\"sequential\":[[0.0,\"#0d0887\"],[0.1111111111111111,\"#46039f\"],[0.2222222222222222,\"#7201a8\"],[0.3333333333333333,\"#9c179e\"],[0.4444444444444444,\"#bd3786\"],[0.5555555555555556,\"#d8576b\"],[0.6666666666666666,\"#ed7953\"],[0.7777777777777778,\"#fb9f3a\"],[0.8888888888888888,\"#fdca26\"],[1.0,\"#f0f921\"]],\"sequentialminus\":[[0.0,\"#0d0887\"],[0.1111111111111111,\"#46039f\"],[0.2222222222222222,\"#7201a8\"],[0.3333333333333333,\"#9c179e\"],[0.4444444444444444,\"#bd3786\"],[0.5555555555555556,\"#d8576b\"],[0.6666666666666666,\"#ed7953\"],[0.7777777777777778,\"#fb9f3a\"],[0.8888888888888888,\"#fdca26\"],[1.0,\"#f0f921\"]]},\"colorway\":[\"#636efa\",\"#EF553B\",\"#00cc96\",\"#ab63fa\",\"#FFA15A\",\"#19d3f3\",\"#FF6692\",\"#B6E880\",\"#FF97FF\",\"#FECB52\"],\"font\":{\"color\":\"#2a3f5f\"},\"geo\":{\"bgcolor\":\"white\",\"lakecolor\":\"white\",\"landcolor\":\"#E5ECF6\",\"showlakes\":true,\"showland\":true,\"subunitcolor\":\"white\"},\"hoverlabel\":{\"align\":\"left\"},\"hovermode\":\"closest\",\"mapbox\":{\"style\":\"light\"},\"paper_bgcolor\":\"white\",\"plot_bgcolor\":\"#E5ECF6\",\"polar\":{\"angularaxis\":{\"gridcolor\":\"white\",\"linecolor\":\"white\",\"ticks\":\"\"},\"bgcolor\":\"#E5ECF6\",\"radialaxis\":{\"gridcolor\":\"white\",\"linecolor\":\"white\",\"ticks\":\"\"}},\"scene\":{\"xaxis\":{\"backgroundcolor\":\"#E5ECF6\",\"gridcolor\":\"white\",\"gridwidth\":2,\"linecolor\":\"white\",\"showbackground\":true,\"ticks\":\"\",\"zerolinecolor\":\"white\"},\"yaxis\":{\"backgroundcolor\":\"#E5ECF6\",\"gridcolor\":\"white\",\"gridwidth\":2,\"linecolor\":\"white\",\"showbackground\":true,\"ticks\":\"\",\"zerolinecolor\":\"white\"},\"zaxis\":{\"backgroundcolor\":\"#E5ECF6\",\"gridcolor\":\"white\",\"gridwidth\":2,\"linecolor\":\"white\",\"showbackground\":true,\"ticks\":\"\",\"zerolinecolor\":\"white\"}},\"shapedefaults\":{\"line\":{\"color\":\"#2a3f5f\"}},\"ternary\":{\"aaxis\":{\"gridcolor\":\"white\",\"linecolor\":\"white\",\"ticks\":\"\"},\"baxis\":{\"gridcolor\":\"white\",\"linecolor\":\"white\",\"ticks\":\"\"},\"bgcolor\":\"#E5ECF6\",\"caxis\":{\"gridcolor\":\"white\",\"linecolor\":\"white\",\"ticks\":\"\"}},\"title\":{\"x\":0.05},\"xaxis\":{\"automargin\":true,\"gridcolor\":\"white\",\"linecolor\":\"white\",\"ticks\":\"\",\"title\":{\"standoff\":15},\"zerolinecolor\":\"white\",\"zerolinewidth\":2},\"yaxis\":{\"automargin\":true,\"gridcolor\":\"white\",\"linecolor\":\"white\",\"ticks\":\"\",\"title\":{\"standoff\":15},\"zerolinecolor\":\"white\",\"zerolinewidth\":2}}}},                        {\"responsive\": true}                    ).then(function(){\n",
              "                            \n",
              "var gd = document.getElementById('7980131f-b184-4147-8090-932fa69e8cc4');\n",
              "var x = new MutationObserver(function (mutations, observer) {{\n",
              "        var display = window.getComputedStyle(gd).display;\n",
              "        if (!display || display === 'none') {{\n",
              "            console.log([gd, 'removed!']);\n",
              "            Plotly.purge(gd);\n",
              "            observer.disconnect();\n",
              "        }}\n",
              "}});\n",
              "\n",
              "// Listen for the removal of the full notebook cells\n",
              "var notebookContainer = gd.closest('#notebook-container');\n",
              "if (notebookContainer) {{\n",
              "    x.observe(notebookContainer, {childList: true});\n",
              "}}\n",
              "\n",
              "// Listen for the clearing of the current output cell\n",
              "var outputEl = gd.closest('.output');\n",
              "if (outputEl) {{\n",
              "    x.observe(outputEl, {childList: true});\n",
              "}}\n",
              "\n",
              "                        })                };                            </script>        </div>\n",
              "</body>\n",
              "</html>"
            ]
          },
          "metadata": {}
        }
      ]
    }
  ]
}
