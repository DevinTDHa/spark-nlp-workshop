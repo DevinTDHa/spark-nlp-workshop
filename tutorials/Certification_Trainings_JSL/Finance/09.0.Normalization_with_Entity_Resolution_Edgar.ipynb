{
 "cells": [
  {
   "cell_type": "markdown",
   "id": "04afee44-529b-4c72-b7a7-f72f5cefa5ce",
   "metadata": {
    "id": "04afee44-529b-4c72-b7a7-f72f5cefa5ce"
   },
   "source": [
    "![JohnSnowLabs](https://nlp.johnsnowlabs.com/assets/images/logo.png)"
   ]
  },
  {
   "cell_type": "markdown",
   "id": "25aee2df",
   "metadata": {
    "id": "25aee2df"
   },
   "source": [
    "[![Open In Colab](https://colab.research.google.com/assets/colab-badge.svg)](https://colab.research.google.com/github/JohnSnowLabs/spark-nlp-workshop/blob/master/tutorials/Certification_Trainings_JSL/Finance/9.0.Normalization_with_Entity_Resolution_Edgar.ipynb)"
   ]
  },
  {
   "cell_type": "markdown",
   "id": "c960bb95",
   "metadata": {
    "id": "c960bb95"
   },
   "source": [
    "# Financial Entity Resolution"
   ]
  },
  {
   "cell_type": "markdown",
   "metadata": {
    "id": "zXItFAZwMzvB"
   },
   "source": [
    "# Installation"
   ],
   "id": "zXItFAZwMzvB"
  },
  {
   "cell_type": "code",
   "execution_count": null,
   "metadata": {
    "id": "Do9veE4wqtdh"
   },
   "outputs": [],
   "source": [
    "# Install the johnsnowlabs library to access Spark-OCR and Spark-NLP for Healthcare, Finance, and Legal.\n",
    "! pip install -q johnsnowlabs "
   ],
   "id": "Do9veE4wqtdh"
  },
  {
   "cell_type": "code",
   "source": [
    "from johnsnowlabs import nlp, finance, legal, viz\n",
    "nlp.install(force_browser=True)"
   ],
   "metadata": {
    "id": "ln4lga5hJP9G"
   },
   "id": "ln4lga5hJP9G",
   "execution_count": null,
   "outputs": []
  },
  {
   "cell_type": "markdown",
   "metadata": {
    "id": "Yagc89CuM-9k"
   },
   "source": [
    "# Start Spark Session"
   ],
   "id": "Yagc89CuM-9k"
  },
  {
   "cell_type": "code",
   "execution_count": null,
   "metadata": {
    "colab": {
     "base_uri": "https://localhost:8080/"
    },
    "executionInfo": {
     "status": "ok",
     "timestamp": 1673027176652,
     "user_tz": -180,
     "elapsed": 17629,
     "user": {
      "displayName": "Bünyamin Polat",
      "userId": "03982086590103784785"
     }
    },
    "outputId": "ef2af7f8-cb92-4f05-8e93-a530853b5ccd",
    "id": "ie3s_l5hqtdi"
   },
   "outputs": [
    {
     "output_type": "stream",
     "name": "stdout",
     "text": [
      "👌 Launched \u001B[92mcpu optimized\u001B[39m session with with: 🚀Spark-NLP==4.2.4, 💊Spark-Healthcare==4.2.4, running on ⚡ PySpark==3.1.2\n"
     ]
    }
   ],
   "source": [
    "spark = nlp.start()"
   ],
   "id": "ie3s_l5hqtdi"
  },
  {
   "cell_type": "markdown",
   "id": "56490c04-7bf9-47d4-8e09-8a87a4848d38",
   "metadata": {
    "id": "56490c04-7bf9-47d4-8e09-8a87a4848d38"
   },
   "source": [
    "# Sentence Entity Resolver Models\n",
    "\n",
    "Entity resolution is an important task in natural language processing and information extraction, as it allows for more accurate analysis and understanding of financial texts. For example, in a news article discussing the performance of a company's stock, accurately identifying and disambiguating the company's name is crucial for accurately tracking the stock's performance.\n",
    "\n",
    "An NLP use case in financial or legal applications is identifying financial entities' presence in a given text. One of those entities could be `Company Name`. We can carry out NER to extract different chunks of information, but in real financial and legal use cases, the company name is usually not useful as it is mentioned in the text. Sometimes we need the _official_ name of the company (instead of `Amazon`, `Amazon.com INC`, as registered in Edgar, Crunchbase and Nasdaq). We have pre-trained sentence entity resolver models for these purposes shown below with the examples."
   ]
  },
  {
   "cell_type": "markdown",
   "source": [
    "## Pretrained Entity Resolution Models for Finance\n",
    "\n",
    "Here are the list of pretrained Entity Resolution models:\n",
    "\n",
    "\n",
    "|index|model|\n",
    "|-----:|:-----|\n",
    "| 1| [Company Name Normalization Using Nasdaq](https://nlp.johnsnowlabs.com/2022/10/22/finel_nasdaq_data_company_name_en.html)  |\n",
    "| 2| [Company Name Normalization Using Edgar Database](https://nlp.johnsnowlabs.com/2022/08/30/finel_edgar_company_name_en.html)  |\n",
    "| 3| [Company Names Normalization Using Crunchbase](https://nlp.johnsnowlabs.com/2022/09/28/finre_work_experience_en.html)  | \n",
    "| 4| [Company Name to Ticker Using Nasdaq](https://nlp.johnsnowlabs.com/2022/10/22/finel_nasdaq_data_ticker_en.html)  | \n",
    "| 5| [Company Name to IRS Number Using Edgar Database](https://nlp.johnsnowlabs.com/2022/08/30/finel_edgar_irs_en.html)  |\n",
    "| 6| [Resolve Tickers to Company Names Using Nasdaq](https://nlp.johnsnowlabs.com/2022/09/09/finel_tickers2names_en.html)  |\n",
    "| 7| [Resolve Company Names to Tickers Using Nasdaq](https://nlp.johnsnowlabs.com/2022/09/08/finel_names2tickers_en.html)  | "
   ],
   "metadata": {
    "id": "a0xdKvjgHt8X"
   },
   "id": "a0xdKvjgHt8X"
  },
  {
   "cell_type": "markdown",
   "source": [
    "## Common Componennts\n",
    "This pipeline will:\n",
    "1.   Split Text into Sentences\n",
    "2.   Split Sentences into Words\n",
    "3.   Use Financial Text Embeddings, trained on SEC documents, to obtain numerical semantic representation of words\n",
    "\n",
    "**These components are common for all the pipelines we will use.**"
   ],
   "metadata": {
    "id": "XVuxdiKgi_qd"
   },
   "id": "XVuxdiKgi_qd"
  },
  {
   "cell_type": "code",
   "source": [
    "def get_generic_base_pipeline():\n",
    "  \"\"\"Common components used in all NER pipelines\"\"\"\n",
    "  document_assembler = nlp.DocumentAssembler()\\\n",
    "      .setInputCol(\"text\")\\\n",
    "      .setOutputCol(\"document\")\n",
    "\n",
    "  sentence_detector = nlp.SentenceDetector()\\\n",
    "      .setInputCols([\"document\"])\\\n",
    "      .setOutputCol(\"sentence\")\n",
    "  \n",
    "  tokenizer = nlp.Tokenizer()\\\n",
    "      .setInputCols([\"sentence\"])\\\n",
    "      .setOutputCol(\"token\")\n",
    "\n",
    "  embeddings = nlp.BertEmbeddings.pretrained(\"bert_embeddings_sec_bert_base\",\"en\") \\\n",
    "      .setInputCols([\"sentence\", \"token\"])\\\n",
    "      .setOutputCol(\"embeddings\")\n",
    "\n",
    "  base_pipeline = nlp.Pipeline(stages=[\n",
    "      document_assembler,\n",
    "      sentence_detector,\n",
    "      tokenizer,\n",
    "      embeddings\n",
    "  ])\n",
    "\n",
    "  return base_pipeline\n",
    "    \n",
    "generic_base_pipeline = get_generic_base_pipeline()"
   ],
   "metadata": {
    "colab": {
     "base_uri": "https://localhost:8080/"
    },
    "id": "W4VQJrV8lywb",
    "executionInfo": {
     "status": "ok",
     "timestamp": 1673027232805,
     "user_tz": -180,
     "elapsed": 56165,
     "user": {
      "displayName": "Bünyamin Polat",
      "userId": "03982086590103784785"
     }
    },
    "outputId": "d4a4039b-a4a2-4dce-c4ff-5e1e2fc7e897"
   },
   "execution_count": null,
   "outputs": [
    {
     "output_type": "stream",
     "name": "stdout",
     "text": [
      "bert_embeddings_sec_bert_base download started this may take some time.\n",
      "Approximate size to download 390.4 MB\n",
      "[OK!]\n"
     ]
    }
   ],
   "id": "W4VQJrV8lywb"
  },
  {
   "cell_type": "markdown",
   "id": "f900954c-e89b-4cb7-be24-6ea499db710a",
   "metadata": {
    "id": "f900954c-e89b-4cb7-be24-6ea499db710a"
   },
   "source": [
    "Other than providing the code in the \"result\" field it provides more metadata about the matching process:\n",
    "\n",
    "- target_text -> Text to resolve\n",
    "- resolved_text -> Best match text\n",
    "- confidence -> Relative confidence for the top match (distance to probability)\n",
    "- confidence_ratio -> Relative confidence for the top match. TopMatchConfidence / SecondMatchConfidence\n",
    "- alternative_codes -> List of other plausible codes (in the KNN neighborhood)\n",
    "- all_k_resolutions -> All codes descriptions\n",
    "- all_k_results -> All resolved codes for metrics calculation purposes\n",
    "- sentence -> SentenceId\n",
    "\n",
    "We will use following Generic Function For Getting the Codes and Relation Pairs"
   ]
  },
  {
   "cell_type": "code",
   "execution_count": null,
   "id": "7bb59495-6397-4aed-99fa-691678a6ff6e",
   "metadata": {
    "id": "7bb59495-6397-4aed-99fa-691678a6ff6e"
   },
   "outputs": [],
   "source": [
    "import pandas as pd\n",
    "pd.set_option('display.max_colwidth', 0)\n",
    "\n",
    "def get_codes (lp, text, vocab='company_name', hcc=False):\n",
    "\n",
    "    \"\"\"Returns LightPipeline resolution results\"\"\"\n",
    "    \n",
    "    full_light_result = lp.fullAnnotate(text)\n",
    "\n",
    "    chunks = []\n",
    "    codes = []\n",
    "    begin = []\n",
    "    end = []\n",
    "    resolutions=[]\n",
    "    all_distances =[]\n",
    "    all_codes=[]\n",
    "    all_cosines = []\n",
    "    all_k_aux_labels=[]\n",
    "\n",
    "    for i in range(len(full_light_result)):\n",
    "\n",
    "      for chunk, code in zip(full_light_result[i]['ner_chunk'], full_light_result[i][vocab]):   \n",
    "          begin.append(chunk.begin)\n",
    "          end.append(chunk.end)\n",
    "          chunks.append(chunk.result)\n",
    "          codes.append(code.result) \n",
    "          all_codes.append(code.metadata['all_k_results'].split(':::'))\n",
    "          resolutions.append(code.metadata['all_k_resolutions'].split(':::'))\n",
    "          all_distances.append(code.metadata['all_k_distances'].split(':::'))\n",
    "          all_cosines.append(code.metadata['all_k_cosine_distances'].split(':::'))\n",
    "          if hcc:\n",
    "              try:\n",
    "                  all_k_aux_labels.append(code.metadata['all_k_aux_labels'].split(':::'))\n",
    "              except:\n",
    "                  all_k_aux_labels.append([])\n",
    "          else:\n",
    "              all_k_aux_labels.append([])\n",
    "\n",
    "    df = pd.DataFrame({'chunks':chunks, 'begin': begin, 'end':end, 'code':codes, 'all_codes':all_codes, \n",
    "                       'resolutions':resolutions, 'all_k_aux_labels':all_k_aux_labels,'all_distances':all_cosines})\n",
    "    \n",
    "    return df"
   ]
  },
  {
   "cell_type": "markdown",
   "source": [
    "## Sample Texts from Cadence Design System\n",
    "Examples taken from publicly available information about Cadence in SEC's Edgar database [here](https://www.sec.gov/Archives/edgar/data/813672/000081367222000012/cdns-20220101.htm) and [Wikipedia](https://en.wikipedia.org/wiki/Cadence_Design_Systems)"
   ],
   "metadata": {
    "id": "ZTo7fsIKgod-"
   },
   "id": "ZTo7fsIKgod-"
  },
  {
   "cell_type": "code",
   "source": [
    "!wget https://raw.githubusercontent.com/JohnSnowLabs/spark-nlp-workshop/master/tutorials/Certification_Trainings_JSL/Finance/data/cdns-20220101.html.txt"
   ],
   "metadata": {
    "id": "Br_90qxMgn0m"
   },
   "id": "Br_90qxMgn0m",
   "execution_count": null,
   "outputs": []
  },
  {
   "cell_type": "code",
   "source": [
    "with open('cdns-20220101.html.txt', 'r') as f:\n",
    "  cadence_sec10k = f.read()\n",
    "print(cadence_sec10k[:500])"
   ],
   "metadata": {
    "colab": {
     "base_uri": "https://localhost:8080/"
    },
    "id": "RfPlg8I2gn6A",
    "executionInfo": {
     "status": "ok",
     "timestamp": 1673027233368,
     "user_tz": -180,
     "elapsed": 11,
     "user": {
      "displayName": "Bünyamin Polat",
      "userId": "03982086590103784785"
     }
    },
    "outputId": "face22ae-417c-41ab-e6e1-d8f7bbe91d1c"
   },
   "id": "RfPlg8I2gn6A",
   "execution_count": null,
   "outputs": [
    {
     "output_type": "stream",
     "name": "stdout",
     "text": [
      "Table of Contents\n",
      "UNITED STATES SECURITIES AND EXCHANGE COMMISSION\n",
      "Washington, D.C. 20549\n",
      "_____________________________________ \n",
      "FORM 10-K \n",
      "_____________________________________  \n",
      "(Mark One)\n",
      "☒\n",
      "ANNUAL REPORT PURSUANT TO SECTION 13 OR 15(d) OF THE SECURITIES EXCHANGE ACT OF 1934\n",
      "For the fiscal year ended January 1, 2022 \n",
      "OR\n",
      "☐\n",
      "TRANSITION REPORT PURSUANT TO SECTION 13 OR 15(d) OF THE SECURITIES EXCHANGE ACT OF 1934\n",
      "For the transition period from _________ to_________.\n",
      "\n",
      "Commission file number 000-158\n"
     ]
    }
   ]
  },
  {
   "cell_type": "code",
   "source": [
    "pages = [x for x in cadence_sec10k.split(\"Table of Contents\") if x.strip() != '']\n",
    "print(pages[0])"
   ],
   "metadata": {
    "colab": {
     "base_uri": "https://localhost:8080/"
    },
    "id": "SaX_618cgn-d",
    "executionInfo": {
     "status": "ok",
     "timestamp": 1673027233368,
     "user_tz": -180,
     "elapsed": 7,
     "user": {
      "displayName": "Bünyamin Polat",
      "userId": "03982086590103784785"
     }
    },
    "outputId": "e14782e5-a065-4bf0-be56-f7f965e91a9a"
   },
   "id": "SaX_618cgn-d",
   "execution_count": null,
   "outputs": [
    {
     "output_type": "stream",
     "name": "stdout",
     "text": [
      "\n",
      "UNITED STATES SECURITIES AND EXCHANGE COMMISSION\n",
      "Washington, D.C. 20549\n",
      "_____________________________________ \n",
      "FORM 10-K \n",
      "_____________________________________  \n",
      "(Mark One)\n",
      "☒\n",
      "ANNUAL REPORT PURSUANT TO SECTION 13 OR 15(d) OF THE SECURITIES EXCHANGE ACT OF 1934\n",
      "For the fiscal year ended January 1, 2022 \n",
      "OR\n",
      "☐\n",
      "TRANSITION REPORT PURSUANT TO SECTION 13 OR 15(d) OF THE SECURITIES EXCHANGE ACT OF 1934\n",
      "For the transition period from _________ to_________.\n",
      "\n",
      "Commission file number 000-15867 \n",
      "_____________________________________\n",
      " \n",
      "CADENCE DESIGN SYSTEMS, INC. \n",
      "(Exact name of registrant as specified in its charter)\n",
      "____________________________________ \n",
      "Delaware\n",
      " \n",
      "00-0000000\n",
      "(State or Other Jurisdiction ofIncorporation or Organization)\n",
      " \n",
      "(I.R.S. EmployerIdentification No.)\n",
      "2655 Seely Avenue, Building 5,\n",
      "San Jose,\n",
      "California\n",
      " \n",
      "95134\n",
      "(Address of Principal Executive Offices)\n",
      " \n",
      "(Zip Code)\n",
      "(408)\n",
      "-943-1234 \n",
      "(Registrant’s Telephone Number, including Area Code) \n",
      "Securities registered pursuant to Section 12(b) of the Act:\n",
      "Title of Each Class\n",
      "Trading Symbol(s)\n",
      "Names of Each Exchange on which Registered\n",
      "Common Stock, $0.01 par value per share\n",
      "CDNS\n",
      "Nasdaq Global Select Market\n",
      "Securities registered pursuant to Section 12(g) of the Act:\n",
      "None\n",
      "Indicate by check mark if the registrant is a well-known seasoned issuer, as defined in Rule 405 of the Securities Act.  \n",
      " Yes  \n",
      "☒\n",
      "    No  \n",
      "☐\n",
      "Indicate by check mark if the registrant is not required to file reports pursuant to Section 13 or Section 15(d) of the Act.  \n",
      " Yes \n",
      "☐    \n",
      "No  \n",
      "☒\n",
      "Indicate by check mark whether the registrant (1) has filed all reports required to be filed by Section 13 or 15(d) of the Securities Exchange Act of 1934 during the preceding 12 months (or for such shorter period that the registrant was required to file such reports), and (2) has been subject to such filing requirements for the past 90 days.  \n",
      " Yes  \n",
      "☒\n",
      "    No  \n",
      "☐\n",
      "Indicate by check mark whether the registrant has submitted electronically every Interactive Data File required to be submitted pursuant to Rule 405 of Regulation S-T (§ 232.405 of this chapter) during the preceding 12 months (or for such shorter period that the registrant was required to submit such files). \n",
      " Yes  \n",
      "☒\n",
      "    No  \n",
      "☐\n",
      "Indicate by check mark whether the registrant is a large accelerated filer, an accelerated filer, a non-accelerated filer, a smaller reporting company, or an emerging growth company. See the definitions of “large accelerated filer,” “accelerated filer,” “smaller reporting company,” and “emerging growth company” in Rule 12b-2 of the Exchange Act.\n",
      "Large Accelerated Filer\n",
      "☒\n",
      "Accelerated Filer\n",
      "☐\n",
      "Non-accelerated Filer\n",
      "☐\n",
      "Smaller Reporting Company\n",
      "☐\n",
      "Emerging Growth Company\n",
      "☐\n",
      "If an emerging growth company, indicate by check mark if the registrant has elected not to use the extended transition period for complying with any new or revised financial accounting standards provided pursuant to Section 13(a) of the Exchange Act.  \n",
      "☐\n",
      "Indicate by check mark whether the registrant has filed a report on and attestation to its management’s assessment of the effectiveness of its internal control over financial reporting under Section 404(b) of the Sarbanes-Oxley Act (15 U.S.C. 7262(b)) by the registered public accounting firm that prepared or issued its audit report. \n",
      "☒\n",
      "Indicate by check mark whether the registrant is a shell company (as defined in Rule 12b-2 of the Act). \n",
      " Yes \n",
      "☐ \n",
      "No  \n",
      "☒\n",
      "The aggregate market value of the voting and non-voting common equity held by non-affiliates computed by reference to the price at which the common equity was last sold as of the last business day of the registrant’s most recently completed second fiscal quarter ended July 3, 2021 was approximately $38,179,000,000.\n",
      "On February 5, 2022, approximately 277,336,000 shares of the Registrant’s Common Stock, $0.01 par value, were outstanding.\n",
      "DOCUMENTS INCORPORATED BY REFERENCE\n",
      "Portions of the definitive proxy statement for Cadence Design Systems, Inc.’s 2022 Annual Meeting of Stockholders are incorporated by reference into Part III hereof.\n",
      "\n",
      "\n",
      "\n"
     ]
    }
   ]
  },
  {
   "cell_type": "markdown",
   "source": [
    "## Using Text Classification to find Relevant Parts of the Document: 10K Summary\n",
    "In this case, we know page 0 is always the page with summary information about the company. However, let's suppose we don't know it. We can use Page Classification.\n",
    "\n",
    "To check the SEC 10K Summary page, we have a specific model called `\"finclf_form_10k_summary_item\"`"
   ],
   "metadata": {
    "id": "nLLpahwrg7uz"
   },
   "id": "nLLpahwrg7uz"
  },
  {
   "cell_type": "code",
   "source": [
    "document_assembler = nlp.DocumentAssembler()\\\n",
    "    .setInputCol(\"text\")\\\n",
    "    .setOutputCol(\"document\")\n",
    "\n",
    "embeddings = nlp.UniversalSentenceEncoder.pretrained()\\\n",
    "    .setInputCols(\"document\")\\\n",
    "    .setOutputCol(\"sentence_embeddings\")\n",
    "    \n",
    "classifier = finance.ClassifierDLModel.pretrained(\"finclf_form_10k_summary_item\", \"en\", \"finance/models\")\\\n",
    "    .setInputCols([\"sentence_embeddings\"])\\\n",
    "    .setOutputCol(\"category\")\n",
    "\n",
    "clf_pipeline = nlp.Pipeline(stages=[\n",
    "    document_assembler, \n",
    "    embeddings,\n",
    "    classifier])\n",
    "\n",
    "df = spark.createDataFrame([[pages[0]]]).toDF(\"text\")\n",
    "\n",
    "model = clf_pipeline.fit(df)\n",
    "\n",
    "result = model.transform(df)"
   ],
   "metadata": {
    "colab": {
     "base_uri": "https://localhost:8080/"
    },
    "id": "sKG1on_lJTx7",
    "executionInfo": {
     "status": "ok",
     "timestamp": 1673027663161,
     "user_tz": -180,
     "elapsed": 100433,
     "user": {
      "displayName": "Bünyamin Polat",
      "userId": "03982086590103784785"
     }
    },
    "outputId": "95c76f9d-b26a-4635-b654-d368d8eee574"
   },
   "id": "sKG1on_lJTx7",
   "execution_count": null,
   "outputs": [
    {
     "output_type": "stream",
     "name": "stdout",
     "text": [
      "tfhub_use download started this may take some time.\n",
      "Approximate size to download 923.7 MB\n",
      "[OK!]\n",
      "finclf_form_10k_summary_item download started this may take some time.\n",
      "[OK!]\n"
     ]
    }
   ]
  },
  {
   "cell_type": "code",
   "source": [
    "result.select('category.result').show()"
   ],
   "metadata": {
    "id": "qp6M15QegoDi",
    "executionInfo": {
     "status": "ok",
     "timestamp": 1673027730226,
     "user_tz": -180,
     "elapsed": 6424,
     "user": {
      "displayName": "Bünyamin Polat",
      "userId": "03982086590103784785"
     }
    },
    "colab": {
     "base_uri": "https://localhost:8080/"
    },
    "outputId": "5aef0606-99de-46d1-b359-a94fc415bb60"
   },
   "id": "qp6M15QegoDi",
   "execution_count": null,
   "outputs": [
    {
     "output_type": "stream",
     "name": "stdout",
     "text": [
      "+------------------+\n",
      "|            result|\n",
      "+------------------+\n",
      "|[form_10k_summary]|\n",
      "+------------------+\n",
      "\n"
     ]
    }
   ]
  },
  {
   "cell_type": "markdown",
   "source": [
    "## NER: Named Entity Recognition on 10K Summary\n",
    "Main component to carry out information extraction and extract entities from texts. \n",
    "\n",
    "This time we will use a model trained to extract many entities from 10K summaries."
   ],
   "metadata": {
    "id": "Ar1gryg4jpIc"
   },
   "id": "Ar1gryg4jpIc"
  },
  {
   "cell_type": "code",
   "source": [
    "ner_model_sec10k = finance.NerModel.pretrained(\"finner_sec_10k_summary\", \"en\", \"finance/models\")\\\n",
    "    .setInputCols([\"sentence\", \"token\", \"embeddings\"])\\\n",
    "    .setOutputCol(\"ner_summary\")\n",
    "\n",
    "ner_converter_sec10k = nlp.NerConverter()\\\n",
    "    .setInputCols([\"sentence\",\"token\",\"ner_summary\"])\\\n",
    "    .setOutputCol(\"ner_chunk_sec10k\")\n",
    "\n",
    "summary_pipeline = nlp.Pipeline(stages=[\n",
    "    generic_base_pipeline,\n",
    "    ner_model_sec10k,\n",
    "    ner_converter_sec10k\n",
    "])\n",
    "\n",
    "empty_data = spark.createDataFrame([[\"\"]]).toDF(\"text\")\n",
    "\n",
    "summary_model = summary_pipeline.fit(empty_data)\n"
   ],
   "metadata": {
    "colab": {
     "base_uri": "https://localhost:8080/"
    },
    "id": "0KM7oklUgoFm",
    "executionInfo": {
     "status": "ok",
     "timestamp": 1673027738686,
     "user_tz": -180,
     "elapsed": 8465,
     "user": {
      "displayName": "Bünyamin Polat",
      "userId": "03982086590103784785"
     }
    },
    "outputId": "46e8e913-b740-4c33-dcdb-0897fd0da5a0"
   },
   "id": "0KM7oklUgoFm",
   "execution_count": null,
   "outputs": [
    {
     "output_type": "stream",
     "name": "stdout",
     "text": [
      "finner_sec_10k_summary download started this may take some time.\n",
      "[OK!]\n"
     ]
    }
   ]
  },
  {
   "cell_type": "code",
   "source": [
    "summary_sample_text = pages[0]\n",
    "\n",
    "light_summary_model = nlp.LightPipeline(summary_model)\n",
    "\n",
    "summary_results = light_summary_model.fullAnnotate(summary_sample_text)\n",
    "\n",
    "chunks = []\n",
    "entities = []\n",
    "begin = []\n",
    "end = []\n",
    "\n",
    "for n in summary_results[0]['ner_chunk_sec10k']:\n",
    "        \n",
    "    begin.append(n.begin)\n",
    "    end.append(n.end)\n",
    "    chunks.append(n.result)\n",
    "    entities.append(n.metadata['entity']) \n",
    "    \n",
    "df = pd.DataFrame({'chunks':chunks, 'begin': begin, 'end':end, 'entities':entities})\n",
    "\n",
    "df.head(20)"
   ],
   "metadata": {
    "id": "QgkAyFqMjwOs",
    "executionInfo": {
     "status": "ok",
     "timestamp": 1673027752860,
     "user_tz": -180,
     "elapsed": 14200,
     "user": {
      "displayName": "Bünyamin Polat",
      "userId": "03982086590103784785"
     }
    },
    "colab": {
     "base_uri": "https://localhost:8080/",
     "height": 488
    },
    "outputId": "579349b6-b93c-4d88-9e30-9cac40a8afe3"
   },
   "id": "QgkAyFqMjwOs",
   "execution_count": null,
   "outputs": [
    {
     "output_type": "execute_result",
     "data": {
      "text/plain": [
       "                                                   chunks  begin   end  \\\n",
       "0   January 1, 2022                                        287    301    \n",
       "1   000-15867                                              476    484    \n",
       "2   CADENCE DESIGN SYSTEMS, INC                            527    553    \n",
       "3   Delaware                                               650    657    \n",
       "4   00-0000000                                             661    670    \n",
       "5   2655 Seely Avenue, Building 5,\\nSan Jose,\\nCalifornia  772    822    \n",
       "6   (408)\\n-943-1234                                       886    900    \n",
       "7   Common Stock                                           1098   1109   \n",
       "8   $0.01                                                  1112   1116   \n",
       "9   CDNS                                                   1138   1141   \n",
       "10  Nasdaq Global Select Market                            1143   1169   \n",
       "11  Common Stock                                           3799   3810   \n",
       "12  $0.01                                                  3813   3817   \n",
       "13  Cadence Design Systems, Inc                            3931   3957   \n",
       "\n",
       "             entities  \n",
       "0   FISCAL_YEAR        \n",
       "1   CFN                \n",
       "2   ORG                \n",
       "3   STATE              \n",
       "4   IRS                \n",
       "5   ADDRESS            \n",
       "6   PHONE              \n",
       "7   TITLE_CLASS        \n",
       "8   TITLE_CLASS_VALUE  \n",
       "9   TICKER             \n",
       "10  STOCK_EXCHANGE     \n",
       "11  TITLE_CLASS        \n",
       "12  TITLE_CLASS_VALUE  \n",
       "13  ORG                "
      ],
      "text/html": [
       "\n",
       "  <div id=\"df-d5f021b5-2ae1-49a4-83c8-bf7dce12887f\">\n",
       "    <div class=\"colab-df-container\">\n",
       "      <div>\n",
       "<style scoped>\n",
       "    .dataframe tbody tr th:only-of-type {\n",
       "        vertical-align: middle;\n",
       "    }\n",
       "\n",
       "    .dataframe tbody tr th {\n",
       "        vertical-align: top;\n",
       "    }\n",
       "\n",
       "    .dataframe thead th {\n",
       "        text-align: right;\n",
       "    }\n",
       "</style>\n",
       "<table border=\"1\" class=\"dataframe\">\n",
       "  <thead>\n",
       "    <tr style=\"text-align: right;\">\n",
       "      <th></th>\n",
       "      <th>chunks</th>\n",
       "      <th>begin</th>\n",
       "      <th>end</th>\n",
       "      <th>entities</th>\n",
       "    </tr>\n",
       "  </thead>\n",
       "  <tbody>\n",
       "    <tr>\n",
       "      <th>0</th>\n",
       "      <td>January 1, 2022</td>\n",
       "      <td>287</td>\n",
       "      <td>301</td>\n",
       "      <td>FISCAL_YEAR</td>\n",
       "    </tr>\n",
       "    <tr>\n",
       "      <th>1</th>\n",
       "      <td>000-15867</td>\n",
       "      <td>476</td>\n",
       "      <td>484</td>\n",
       "      <td>CFN</td>\n",
       "    </tr>\n",
       "    <tr>\n",
       "      <th>2</th>\n",
       "      <td>CADENCE DESIGN SYSTEMS, INC</td>\n",
       "      <td>527</td>\n",
       "      <td>553</td>\n",
       "      <td>ORG</td>\n",
       "    </tr>\n",
       "    <tr>\n",
       "      <th>3</th>\n",
       "      <td>Delaware</td>\n",
       "      <td>650</td>\n",
       "      <td>657</td>\n",
       "      <td>STATE</td>\n",
       "    </tr>\n",
       "    <tr>\n",
       "      <th>4</th>\n",
       "      <td>00-0000000</td>\n",
       "      <td>661</td>\n",
       "      <td>670</td>\n",
       "      <td>IRS</td>\n",
       "    </tr>\n",
       "    <tr>\n",
       "      <th>5</th>\n",
       "      <td>2655 Seely Avenue, Building 5,\\nSan Jose,\\nCalifornia</td>\n",
       "      <td>772</td>\n",
       "      <td>822</td>\n",
       "      <td>ADDRESS</td>\n",
       "    </tr>\n",
       "    <tr>\n",
       "      <th>6</th>\n",
       "      <td>(408)\\n-943-1234</td>\n",
       "      <td>886</td>\n",
       "      <td>900</td>\n",
       "      <td>PHONE</td>\n",
       "    </tr>\n",
       "    <tr>\n",
       "      <th>7</th>\n",
       "      <td>Common Stock</td>\n",
       "      <td>1098</td>\n",
       "      <td>1109</td>\n",
       "      <td>TITLE_CLASS</td>\n",
       "    </tr>\n",
       "    <tr>\n",
       "      <th>8</th>\n",
       "      <td>$0.01</td>\n",
       "      <td>1112</td>\n",
       "      <td>1116</td>\n",
       "      <td>TITLE_CLASS_VALUE</td>\n",
       "    </tr>\n",
       "    <tr>\n",
       "      <th>9</th>\n",
       "      <td>CDNS</td>\n",
       "      <td>1138</td>\n",
       "      <td>1141</td>\n",
       "      <td>TICKER</td>\n",
       "    </tr>\n",
       "    <tr>\n",
       "      <th>10</th>\n",
       "      <td>Nasdaq Global Select Market</td>\n",
       "      <td>1143</td>\n",
       "      <td>1169</td>\n",
       "      <td>STOCK_EXCHANGE</td>\n",
       "    </tr>\n",
       "    <tr>\n",
       "      <th>11</th>\n",
       "      <td>Common Stock</td>\n",
       "      <td>3799</td>\n",
       "      <td>3810</td>\n",
       "      <td>TITLE_CLASS</td>\n",
       "    </tr>\n",
       "    <tr>\n",
       "      <th>12</th>\n",
       "      <td>$0.01</td>\n",
       "      <td>3813</td>\n",
       "      <td>3817</td>\n",
       "      <td>TITLE_CLASS_VALUE</td>\n",
       "    </tr>\n",
       "    <tr>\n",
       "      <th>13</th>\n",
       "      <td>Cadence Design Systems, Inc</td>\n",
       "      <td>3931</td>\n",
       "      <td>3957</td>\n",
       "      <td>ORG</td>\n",
       "    </tr>\n",
       "  </tbody>\n",
       "</table>\n",
       "</div>\n",
       "      <button class=\"colab-df-convert\" onclick=\"convertToInteractive('df-d5f021b5-2ae1-49a4-83c8-bf7dce12887f')\"\n",
       "              title=\"Convert this dataframe to an interactive table.\"\n",
       "              style=\"display:none;\">\n",
       "        \n",
       "  <svg xmlns=\"http://www.w3.org/2000/svg\" height=\"24px\"viewBox=\"0 0 24 24\"\n",
       "       width=\"24px\">\n",
       "    <path d=\"M0 0h24v24H0V0z\" fill=\"none\"/>\n",
       "    <path d=\"M18.56 5.44l.94 2.06.94-2.06 2.06-.94-2.06-.94-.94-2.06-.94 2.06-2.06.94zm-11 1L8.5 8.5l.94-2.06 2.06-.94-2.06-.94L8.5 2.5l-.94 2.06-2.06.94zm10 10l.94 2.06.94-2.06 2.06-.94-2.06-.94-.94-2.06-.94 2.06-2.06.94z\"/><path d=\"M17.41 7.96l-1.37-1.37c-.4-.4-.92-.59-1.43-.59-.52 0-1.04.2-1.43.59L10.3 9.45l-7.72 7.72c-.78.78-.78 2.05 0 2.83L4 21.41c.39.39.9.59 1.41.59.51 0 1.02-.2 1.41-.59l7.78-7.78 2.81-2.81c.8-.78.8-2.07 0-2.86zM5.41 20L4 18.59l7.72-7.72 1.47 1.35L5.41 20z\"/>\n",
       "  </svg>\n",
       "      </button>\n",
       "      \n",
       "  <style>\n",
       "    .colab-df-container {\n",
       "      display:flex;\n",
       "      flex-wrap:wrap;\n",
       "      gap: 12px;\n",
       "    }\n",
       "\n",
       "    .colab-df-convert {\n",
       "      background-color: #E8F0FE;\n",
       "      border: none;\n",
       "      border-radius: 50%;\n",
       "      cursor: pointer;\n",
       "      display: none;\n",
       "      fill: #1967D2;\n",
       "      height: 32px;\n",
       "      padding: 0 0 0 0;\n",
       "      width: 32px;\n",
       "    }\n",
       "\n",
       "    .colab-df-convert:hover {\n",
       "      background-color: #E2EBFA;\n",
       "      box-shadow: 0px 1px 2px rgba(60, 64, 67, 0.3), 0px 1px 3px 1px rgba(60, 64, 67, 0.15);\n",
       "      fill: #174EA6;\n",
       "    }\n",
       "\n",
       "    [theme=dark] .colab-df-convert {\n",
       "      background-color: #3B4455;\n",
       "      fill: #D2E3FC;\n",
       "    }\n",
       "\n",
       "    [theme=dark] .colab-df-convert:hover {\n",
       "      background-color: #434B5C;\n",
       "      box-shadow: 0px 1px 3px 1px rgba(0, 0, 0, 0.15);\n",
       "      filter: drop-shadow(0px 1px 2px rgba(0, 0, 0, 0.3));\n",
       "      fill: #FFFFFF;\n",
       "    }\n",
       "  </style>\n",
       "\n",
       "      <script>\n",
       "        const buttonEl =\n",
       "          document.querySelector('#df-d5f021b5-2ae1-49a4-83c8-bf7dce12887f button.colab-df-convert');\n",
       "        buttonEl.style.display =\n",
       "          google.colab.kernel.accessAllowed ? 'block' : 'none';\n",
       "\n",
       "        async function convertToInteractive(key) {\n",
       "          const element = document.querySelector('#df-d5f021b5-2ae1-49a4-83c8-bf7dce12887f');\n",
       "          const dataTable =\n",
       "            await google.colab.kernel.invokeFunction('convertToInteractive',\n",
       "                                                     [key], {});\n",
       "          if (!dataTable) return;\n",
       "\n",
       "          const docLinkHtml = 'Like what you see? Visit the ' +\n",
       "            '<a target=\"_blank\" href=https://colab.research.google.com/notebooks/data_table.ipynb>data table notebook</a>'\n",
       "            + ' to learn more about interactive tables.';\n",
       "          element.innerHTML = '';\n",
       "          dataTable['output_type'] = 'display_data';\n",
       "          await google.colab.output.renderOutput(dataTable, element);\n",
       "          const docLink = document.createElement('div');\n",
       "          docLink.innerHTML = docLinkHtml;\n",
       "          element.appendChild(docLink);\n",
       "        }\n",
       "      </script>\n",
       "    </div>\n",
       "  </div>\n",
       "  "
      ]
     },
     "metadata": {},
     "execution_count": 13
    }
   ]
  },
  {
   "cell_type": "code",
   "source": [
    "ORG = list(df[df[\"entities\"] == \"ORG\"][\"chunks\"])\n",
    "ORG"
   ],
   "metadata": {
    "id": "5e7yuU6yjwRg",
    "executionInfo": {
     "status": "ok",
     "timestamp": 1673027752860,
     "user_tz": -180,
     "elapsed": 22,
     "user": {
      "displayName": "Bünyamin Polat",
      "userId": "03982086590103784785"
     }
    },
    "colab": {
     "base_uri": "https://localhost:8080/"
    },
    "outputId": "5b5f1de4-e08d-4bde-82fb-b1cd8f1046ee"
   },
   "id": "5e7yuU6yjwRg",
   "execution_count": null,
   "outputs": [
    {
     "output_type": "execute_result",
     "data": {
      "text/plain": [
       "['CADENCE DESIGN SYSTEMS, INC', 'Cadence Design Systems, Inc']"
      ]
     },
     "metadata": {},
     "execution_count": 14
    }
   ]
  },
  {
   "cell_type": "markdown",
   "id": "5510c033-89f9-4388-82de-cd4b2eecba2f",
   "metadata": {
    "id": "5510c033-89f9-4388-82de-cd4b2eecba2f",
    "tags": []
   },
   "source": [
    "## Company Name Normalization using Edgar\n",
    "\n",
    "**Normalizing the company name to query John Snow Labs datasources for more information about Cadence.**\n",
    "\n",
    "Sometimes, companies in texts use a non-official, abbreviated name. For example, we can find `Cadence`, `Cadence Inc`, `Cadence, Inc`, or many other variations, where the official name of the company os `CADENCE DESIGN SYSTEMS INC`, as per registered in SEC Edgar.\n",
    "\n",
    "[Edgar's Public Database](https://www.sec.gov/edgar/searchedgar/companysearch)\n",
    "- EDGAR, the Electronic Data Gathering, Analysis, and Retrieval system, is the primary system for companies and others submitting documents under the Securities Act of 1933, the Securities Exchange Act of 1934, the Trust Indenture Act of 1939, and the Investment Company Act of 1940. \n",
    "\n",
    "- Access to EDGAR’s public database is free—allowing you to research, for example, a public company’s financial information and operations by reviewing the filings the company makes with the SEC.(U.S. Securities and Exchange Commission)\n",
    "\n",
    "Normalizing a company name is super important for data quality purposes. It will help us:\n",
    "- Standardize the data, improving the quality;\n",
    "- Carry out additional verifications;\n",
    "- Join different databases or extract for external sources;\n"
   ]
  },
  {
   "cell_type": "code",
   "source": [
    "document_assembler = nlp.DocumentAssembler()\\\n",
    "    .setInputCol(\"text\")\\\n",
    "    .setOutputCol(\"ner_chunk\")\n",
    "\n",
    "embeddings = nlp.UniversalSentenceEncoder.pretrained()\\\n",
    "    .setInputCols(\"ner_chunk\")\\\n",
    "    .setOutputCol(\"sentence_embeddings\")\n",
    "\n",
    "resolver = finance.SentenceEntityResolverModel.pretrained(\"finel_edgar_company_name\", \"en\", \"finance/models\")\\\n",
    "    .setInputCols([\"sentence_embeddings\"]) \\\n",
    "    .setOutputCol(\"normalization\")\\\n",
    "    .setDistanceFunction(\"EUCLIDEAN\")\n",
    "\n",
    "pipeline = nlp.Pipeline(stages = [\n",
    "          document_assembler,\n",
    "          embeddings,\n",
    "          resolver])\n",
    "\n",
    "empty_data = spark.createDataFrame([[\"\"]]).toDF(\"text\")\n",
    "\n",
    "model = pipeline.fit(empty_data)\n",
    "\n",
    "lp = nlp.LightPipeline(model)\n"
   ],
   "metadata": {
    "id": "QJFrrynejwUW",
    "executionInfo": {
     "status": "ok",
     "timestamp": 1673027832718,
     "user_tz": -180,
     "elapsed": 79474,
     "user": {
      "displayName": "Bünyamin Polat",
      "userId": "03982086590103784785"
     }
    },
    "colab": {
     "base_uri": "https://localhost:8080/"
    },
    "outputId": "42135d7e-d8dc-4039-907b-c5d73562824d"
   },
   "id": "QJFrrynejwUW",
   "execution_count": null,
   "outputs": [
    {
     "output_type": "stream",
     "name": "stdout",
     "text": [
      "tfhub_use download started this may take some time.\n",
      "Approximate size to download 923.7 MB\n",
      "[OK!]\n",
      "finel_edgar_company_name download started this may take some time.\n",
      "[OK!]\n"
     ]
    }
   ]
  },
  {
   "cell_type": "code",
   "source": [
    "normalized_org = lp.fullAnnotate(ORG)\n",
    "\n",
    "normalized_org"
   ],
   "metadata": {
    "id": "2CIQVZzPm9Qo",
    "executionInfo": {
     "status": "ok",
     "timestamp": 1673027932415,
     "user_tz": -180,
     "elapsed": 2396,
     "user": {
      "displayName": "Bünyamin Polat",
      "userId": "03982086590103784785"
     }
    },
    "colab": {
     "base_uri": "https://localhost:8080/"
    },
    "outputId": "1332ecb0-b09c-4d5d-9472-3e750f783233"
   },
   "id": "2CIQVZzPm9Qo",
   "execution_count": null,
   "outputs": [
    {
     "output_type": "execute_result",
     "data": {
      "text/plain": [
       "[{'ner_chunk': [Annotation(document, 0, 26, CADENCE DESIGN SYSTEMS, INC, {})],\n",
       "  'sentence_embeddings': [Annotation(sentence_embeddings, 0, 26, CADENCE DESIGN SYSTEMS, INC, {'sentence': '0', 'token': 'CADENCE DESIGN SYSTEMS, INC', 'pieceId': '-1', 'isWordStart': 'true'})],\n",
       "  'normalization': [Annotation(entity, 0, 26, CADENCE DESIGN SYSTEMS INC, {'all_k_results': 'CADENCE DESIGN SYSTEMS INC:::DESIGN WITHIN REACH INC:::AVICI SYSTEMS INC:::HLM DESIGN INC:::NanoWatt Design, Inc.:::DELTEK SYSTEMS INC:::EPILOG IMAGING SYSTEMS INC.', 'all_k_distances': '0.0000:::0.6361:::0.6418:::0.6574:::0.6664:::0.6743:::0.6766', 'confidence': '0.2436', 'all_k_cosine_distances': '0.0000:::0.2023:::0.2060:::0.2161:::0.2220:::0.2273:::0.2289', 'all_k_resolutions': 'CADENCE DESIGN SYSTEMS INC:::DESIGN WITHIN REACH INC:::AVICI SYSTEMS INC:::HLM DESIGN INC:::NanoWatt Design, Inc.:::DELTEK SYSTEMS INC:::EPILOG IMAGING SYSTEMS INC.', 'target_text': 'CADENCE DESIGN SYSTEMS, INC', 'all_k_aux_labels': '770148231:::943314374:::20493372:::562018819:::0:::541252625:::272957582', 'token': 'CADENCE DESIGN SYSTEMS, INC', 'resolved_text': 'CADENCE DESIGN SYSTEMS INC', 'all_k_confidences': '0.2436:::0.1289:::0.1282:::0.1262:::0.1251:::0.1241:::0.1238', 'distance': '0.0000', 'sentence': '0'})]},\n",
       " {'ner_chunk': [Annotation(document, 0, 26, Cadence Design Systems, Inc, {})],\n",
       "  'sentence_embeddings': [Annotation(sentence_embeddings, 0, 26, Cadence Design Systems, Inc, {'sentence': '0', 'token': 'Cadence Design Systems, Inc', 'pieceId': '-1', 'isWordStart': 'true'})],\n",
       "  'normalization': [Annotation(entity, 0, 26, CADENCE DESIGN SYSTEMS INC, {'all_k_results': 'CADENCE DESIGN SYSTEMS INC:::DESIGN WITHIN REACH INC:::AVICI SYSTEMS INC:::HLM DESIGN INC:::NanoWatt Design, Inc.:::DELTEK SYSTEMS INC:::EPILOG IMAGING SYSTEMS INC.', 'all_k_distances': '0.0000:::0.6361:::0.6418:::0.6574:::0.6664:::0.6743:::0.6766', 'confidence': '0.2436', 'all_k_cosine_distances': '0.0000:::0.2023:::0.2060:::0.2161:::0.2220:::0.2273:::0.2289', 'all_k_resolutions': 'CADENCE DESIGN SYSTEMS INC:::DESIGN WITHIN REACH INC:::AVICI SYSTEMS INC:::HLM DESIGN INC:::NanoWatt Design, Inc.:::DELTEK SYSTEMS INC:::EPILOG IMAGING SYSTEMS INC.', 'target_text': 'Cadence Design Systems, Inc', 'all_k_aux_labels': '770148231:::943314374:::20493372:::562018819:::0:::541252625:::272957582', 'token': 'Cadence Design Systems, Inc', 'resolved_text': 'CADENCE DESIGN SYSTEMS INC', 'all_k_confidences': '0.2436:::0.1289:::0.1282:::0.1262:::0.1251:::0.1241:::0.1238', 'distance': '0.0000', 'sentence': '0'})]}]"
      ]
     },
     "metadata": {},
     "execution_count": 16
    }
   ]
  },
  {
   "cell_type": "code",
   "source": [
    "# 'CADENCE DESIGN SYSTEMS, INC'\n",
    "NORM_ORG = normalized_org[0]['normalization'][0].result\n",
    "\n",
    "NORM_ORG"
   ],
   "metadata": {
    "id": "ITRtxnkxnD87",
    "executionInfo": {
     "status": "ok",
     "timestamp": 1673027937497,
     "user_tz": -180,
     "elapsed": 251,
     "user": {
      "displayName": "Bünyamin Polat",
      "userId": "03982086590103784785"
     }
    },
    "colab": {
     "base_uri": "https://localhost:8080/",
     "height": 35
    },
    "outputId": "c5e8985e-c87d-4f9c-d281-f9d4bdce9cf5"
   },
   "id": "ITRtxnkxnD87",
   "execution_count": null,
   "outputs": [
    {
     "output_type": "execute_result",
     "data": {
      "text/plain": [
       "'CADENCE DESIGN SYSTEMS INC'"
      ],
      "application/vnd.google.colaboratory.intrinsic+json": {
       "type": "string"
      }
     },
     "metadata": {},
     "execution_count": 17
    }
   ]
  },
  {
   "cell_type": "code",
   "source": [
    "# 'Cadence Design Systems, Inc'\n",
    "NORM_ORG = normalized_org[1]['normalization'][0].result\n",
    "\n",
    "NORM_ORG"
   ],
   "metadata": {
    "id": "CEFHz5ZDCarO",
    "executionInfo": {
     "status": "ok",
     "timestamp": 1673027938646,
     "user_tz": -180,
     "elapsed": 4,
     "user": {
      "displayName": "Bünyamin Polat",
      "userId": "03982086590103784785"
     }
    },
    "colab": {
     "base_uri": "https://localhost:8080/",
     "height": 35
    },
    "outputId": "3ae15e3f-c2ef-43d2-9a54-1e3f265e4d8d"
   },
   "id": "CEFHz5ZDCarO",
   "execution_count": null,
   "outputs": [
    {
     "output_type": "execute_result",
     "data": {
      "text/plain": [
       "'CADENCE DESIGN SYSTEMS INC'"
      ],
      "application/vnd.google.colaboratory.intrinsic+json": {
       "type": "string"
      }
     },
     "metadata": {},
     "execution_count": 18
    }
   ]
  },
  {
   "cell_type": "code",
   "source": [
    "get_codes(lp, ORG, vocab = \"normalization\")"
   ],
   "metadata": {
    "id": "9CEcCvgGnEMM",
    "executionInfo": {
     "status": "ok",
     "timestamp": 1673027941226,
     "user_tz": -180,
     "elapsed": 1614,
     "user": {
      "displayName": "Bünyamin Polat",
      "userId": "03982086590103784785"
     }
    },
    "colab": {
     "base_uri": "https://localhost:8080/",
     "height": 295
    },
    "outputId": "1f437063-6bf2-4a44-9d72-a0774be086ca"
   },
   "id": "9CEcCvgGnEMM",
   "execution_count": null,
   "outputs": [
    {
     "output_type": "execute_result",
     "data": {
      "text/plain": [
       "                        chunks  begin  end                        code  \\\n",
       "0  CADENCE DESIGN SYSTEMS, INC  0      26   CADENCE DESIGN SYSTEMS INC   \n",
       "1  Cadence Design Systems, Inc  0      26   CADENCE DESIGN SYSTEMS INC   \n",
       "\n",
       "                                                                                                                                                          all_codes  \\\n",
       "0  [CADENCE DESIGN SYSTEMS INC, DESIGN WITHIN REACH INC, AVICI SYSTEMS INC, HLM DESIGN INC, NanoWatt Design, Inc., DELTEK SYSTEMS INC, EPILOG IMAGING SYSTEMS INC.]   \n",
       "1  [CADENCE DESIGN SYSTEMS INC, DESIGN WITHIN REACH INC, AVICI SYSTEMS INC, HLM DESIGN INC, NanoWatt Design, Inc., DELTEK SYSTEMS INC, EPILOG IMAGING SYSTEMS INC.]   \n",
       "\n",
       "                                                                                                                                                        resolutions  \\\n",
       "0  [CADENCE DESIGN SYSTEMS INC, DESIGN WITHIN REACH INC, AVICI SYSTEMS INC, HLM DESIGN INC, NanoWatt Design, Inc., DELTEK SYSTEMS INC, EPILOG IMAGING SYSTEMS INC.]   \n",
       "1  [CADENCE DESIGN SYSTEMS INC, DESIGN WITHIN REACH INC, AVICI SYSTEMS INC, HLM DESIGN INC, NanoWatt Design, Inc., DELTEK SYSTEMS INC, EPILOG IMAGING SYSTEMS INC.]   \n",
       "\n",
       "  all_k_aux_labels                                             all_distances  \n",
       "0  []               [0.0000, 0.2023, 0.2060, 0.2161, 0.2220, 0.2273, 0.2289]  \n",
       "1  []               [0.0000, 0.2023, 0.2060, 0.2161, 0.2220, 0.2273, 0.2289]  "
      ],
      "text/html": [
       "\n",
       "  <div id=\"df-0cca2eb9-246d-454a-ac11-ef6bc123246d\">\n",
       "    <div class=\"colab-df-container\">\n",
       "      <div>\n",
       "<style scoped>\n",
       "    .dataframe tbody tr th:only-of-type {\n",
       "        vertical-align: middle;\n",
       "    }\n",
       "\n",
       "    .dataframe tbody tr th {\n",
       "        vertical-align: top;\n",
       "    }\n",
       "\n",
       "    .dataframe thead th {\n",
       "        text-align: right;\n",
       "    }\n",
       "</style>\n",
       "<table border=\"1\" class=\"dataframe\">\n",
       "  <thead>\n",
       "    <tr style=\"text-align: right;\">\n",
       "      <th></th>\n",
       "      <th>chunks</th>\n",
       "      <th>begin</th>\n",
       "      <th>end</th>\n",
       "      <th>code</th>\n",
       "      <th>all_codes</th>\n",
       "      <th>resolutions</th>\n",
       "      <th>all_k_aux_labels</th>\n",
       "      <th>all_distances</th>\n",
       "    </tr>\n",
       "  </thead>\n",
       "  <tbody>\n",
       "    <tr>\n",
       "      <th>0</th>\n",
       "      <td>CADENCE DESIGN SYSTEMS, INC</td>\n",
       "      <td>0</td>\n",
       "      <td>26</td>\n",
       "      <td>CADENCE DESIGN SYSTEMS INC</td>\n",
       "      <td>[CADENCE DESIGN SYSTEMS INC, DESIGN WITHIN REACH INC, AVICI SYSTEMS INC, HLM DESIGN INC, NanoWatt Design, Inc., DELTEK SYSTEMS INC, EPILOG IMAGING SYSTEMS INC.]</td>\n",
       "      <td>[CADENCE DESIGN SYSTEMS INC, DESIGN WITHIN REACH INC, AVICI SYSTEMS INC, HLM DESIGN INC, NanoWatt Design, Inc., DELTEK SYSTEMS INC, EPILOG IMAGING SYSTEMS INC.]</td>\n",
       "      <td>[]</td>\n",
       "      <td>[0.0000, 0.2023, 0.2060, 0.2161, 0.2220, 0.2273, 0.2289]</td>\n",
       "    </tr>\n",
       "    <tr>\n",
       "      <th>1</th>\n",
       "      <td>Cadence Design Systems, Inc</td>\n",
       "      <td>0</td>\n",
       "      <td>26</td>\n",
       "      <td>CADENCE DESIGN SYSTEMS INC</td>\n",
       "      <td>[CADENCE DESIGN SYSTEMS INC, DESIGN WITHIN REACH INC, AVICI SYSTEMS INC, HLM DESIGN INC, NanoWatt Design, Inc., DELTEK SYSTEMS INC, EPILOG IMAGING SYSTEMS INC.]</td>\n",
       "      <td>[CADENCE DESIGN SYSTEMS INC, DESIGN WITHIN REACH INC, AVICI SYSTEMS INC, HLM DESIGN INC, NanoWatt Design, Inc., DELTEK SYSTEMS INC, EPILOG IMAGING SYSTEMS INC.]</td>\n",
       "      <td>[]</td>\n",
       "      <td>[0.0000, 0.2023, 0.2060, 0.2161, 0.2220, 0.2273, 0.2289]</td>\n",
       "    </tr>\n",
       "  </tbody>\n",
       "</table>\n",
       "</div>\n",
       "      <button class=\"colab-df-convert\" onclick=\"convertToInteractive('df-0cca2eb9-246d-454a-ac11-ef6bc123246d')\"\n",
       "              title=\"Convert this dataframe to an interactive table.\"\n",
       "              style=\"display:none;\">\n",
       "        \n",
       "  <svg xmlns=\"http://www.w3.org/2000/svg\" height=\"24px\"viewBox=\"0 0 24 24\"\n",
       "       width=\"24px\">\n",
       "    <path d=\"M0 0h24v24H0V0z\" fill=\"none\"/>\n",
       "    <path d=\"M18.56 5.44l.94 2.06.94-2.06 2.06-.94-2.06-.94-.94-2.06-.94 2.06-2.06.94zm-11 1L8.5 8.5l.94-2.06 2.06-.94-2.06-.94L8.5 2.5l-.94 2.06-2.06.94zm10 10l.94 2.06.94-2.06 2.06-.94-2.06-.94-.94-2.06-.94 2.06-2.06.94z\"/><path d=\"M17.41 7.96l-1.37-1.37c-.4-.4-.92-.59-1.43-.59-.52 0-1.04.2-1.43.59L10.3 9.45l-7.72 7.72c-.78.78-.78 2.05 0 2.83L4 21.41c.39.39.9.59 1.41.59.51 0 1.02-.2 1.41-.59l7.78-7.78 2.81-2.81c.8-.78.8-2.07 0-2.86zM5.41 20L4 18.59l7.72-7.72 1.47 1.35L5.41 20z\"/>\n",
       "  </svg>\n",
       "      </button>\n",
       "      \n",
       "  <style>\n",
       "    .colab-df-container {\n",
       "      display:flex;\n",
       "      flex-wrap:wrap;\n",
       "      gap: 12px;\n",
       "    }\n",
       "\n",
       "    .colab-df-convert {\n",
       "      background-color: #E8F0FE;\n",
       "      border: none;\n",
       "      border-radius: 50%;\n",
       "      cursor: pointer;\n",
       "      display: none;\n",
       "      fill: #1967D2;\n",
       "      height: 32px;\n",
       "      padding: 0 0 0 0;\n",
       "      width: 32px;\n",
       "    }\n",
       "\n",
       "    .colab-df-convert:hover {\n",
       "      background-color: #E2EBFA;\n",
       "      box-shadow: 0px 1px 2px rgba(60, 64, 67, 0.3), 0px 1px 3px 1px rgba(60, 64, 67, 0.15);\n",
       "      fill: #174EA6;\n",
       "    }\n",
       "\n",
       "    [theme=dark] .colab-df-convert {\n",
       "      background-color: #3B4455;\n",
       "      fill: #D2E3FC;\n",
       "    }\n",
       "\n",
       "    [theme=dark] .colab-df-convert:hover {\n",
       "      background-color: #434B5C;\n",
       "      box-shadow: 0px 1px 3px 1px rgba(0, 0, 0, 0.15);\n",
       "      filter: drop-shadow(0px 1px 2px rgba(0, 0, 0, 0.3));\n",
       "      fill: #FFFFFF;\n",
       "    }\n",
       "  </style>\n",
       "\n",
       "      <script>\n",
       "        const buttonEl =\n",
       "          document.querySelector('#df-0cca2eb9-246d-454a-ac11-ef6bc123246d button.colab-df-convert');\n",
       "        buttonEl.style.display =\n",
       "          google.colab.kernel.accessAllowed ? 'block' : 'none';\n",
       "\n",
       "        async function convertToInteractive(key) {\n",
       "          const element = document.querySelector('#df-0cca2eb9-246d-454a-ac11-ef6bc123246d');\n",
       "          const dataTable =\n",
       "            await google.colab.kernel.invokeFunction('convertToInteractive',\n",
       "                                                     [key], {});\n",
       "          if (!dataTable) return;\n",
       "\n",
       "          const docLinkHtml = 'Like what you see? Visit the ' +\n",
       "            '<a target=\"_blank\" href=https://colab.research.google.com/notebooks/data_table.ipynb>data table notebook</a>'\n",
       "            + ' to learn more about interactive tables.';\n",
       "          element.innerHTML = '';\n",
       "          dataTable['output_type'] = 'display_data';\n",
       "          await google.colab.output.renderOutput(dataTable, element);\n",
       "          const docLink = document.createElement('div');\n",
       "          docLink.innerHTML = docLinkHtml;\n",
       "          element.appendChild(docLink);\n",
       "        }\n",
       "      </script>\n",
       "    </div>\n",
       "  </div>\n",
       "  "
      ]
     },
     "metadata": {},
     "execution_count": 19
    }
   ]
  },
  {
   "cell_type": "markdown",
   "source": [
    "### Normalized Name\n",
    "In Edgar, the company official is different! We need to take it before being able to augment with external information in EDGAR.\n",
    "\n",
    "- Incorrect: `CADENCE DESIGN SYSTEMS, INC` , `Cadence Design Systems, Inc`\n",
    "- Correct (Official): `CADENCE DESIGN SYSTEMS INC`"
   ],
   "metadata": {
    "id": "CWI_c-WtC4TW"
   },
   "id": "CWI_c-WtC4TW"
  },
  {
   "cell_type": "markdown",
   "source": [
    "**You will find more solutions in `7.1.Entitiy_Resolution` notebook. You will find:**\n",
    " - Company IRS number\n",
    " - Ticker symbol using company name\n",
    " - Company name using ticker symbol\n"
   ],
   "metadata": {
    "id": "8RWg4CElwK4-"
   },
   "id": "8RWg4CElwK4-"
  }
 ],
 "metadata": {
  "colab": {
   "provenance": [],
   "toc_visible": true
  },
  "kernelspec": {
   "display_name": "Python 3.9.5 64-bit",
   "language": "python",
   "name": "python3"
  },
  "language_info": {
   "codemirror_mode": {
    "name": "ipython",
    "version": 3
   },
   "file_extension": ".py",
   "mimetype": "text/x-python",
   "name": "python",
   "nbconvert_exporter": "python",
   "pygments_lexer": "ipython3",
   "version": "3.9.5"
  },
  "vscode": {
   "interpreter": {
    "hash": "ca1c4b8877e01dec1d65bc94ac0771fb7b4e7d433b24c0ced0afdc05f796f65d"
   }
  },
  "gpuClass": "standard"
 },
 "nbformat": 4,
 "nbformat_minor": 5
}
