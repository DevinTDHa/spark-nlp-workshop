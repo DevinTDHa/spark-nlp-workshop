{
  "nbformat": 4,
  "nbformat_minor": 0,
  "metadata": {
    "colab": {
      "collapsed_sections": [],
      "provenance": [],
      "machine_shape": "hm"
    },
    "accelerator": "TPU",
    "language_info": {
      "name": "python"
    },
    "kernelspec": {
      "name": "python3",
      "display_name": "Python 3"
    }
  },
  "cells": [
    {
      "cell_type": "markdown",
      "source": [
        "# Train Finance Assertion\n"
      ],
      "metadata": {
        "id": "KLqW6FOnEvov"
      }
    },
    {
      "cell_type": "markdown",
      "source": [
        "\n",
        "![JohnSnowLabs](https://nlp.johnsnowlabs.com/assets/images/logo.png)\n",
        "\n",
        "\n",
        "\n"
      ],
      "metadata": {
        "id": "wxZDXLDCXkk_"
      }
    },
    {
      "cell_type": "markdown",
      "source": [
        "[![Open In Colab](https://colab.research.google.com/assets/colab-badge.svg)](https://colab.research.google.com/github/JohnSnowLabs/spark-nlp-workshop/blob/master/tutorials/Certification_Trainings/Legal/15.Training_Finance_Assertion.ipynb)"
      ],
      "metadata": {
        "id": "pZ6sKi8ZX1z4"
      }
    },
    {
      "cell_type": "markdown",
      "source": [
        "#Colab Setup"
      ],
      "metadata": {
        "id": "PcsTZJmZu7CQ"
      }
    },
    {
      "cell_type": "code",
      "source": [
        "# Install the johnsnowlabs library to access Spark-OCR and Spark-NLP for Healthcare, Finance, and Legal.\n",
        "! pip install johnsnowlabs"
      ],
      "outputs": [],
      "metadata": {
        "id": "4914b00f-abd2-4449-9a4f-737f317317be"
      },
      "execution_count": 40
    },
    {
      "cell_type": "code",
      "source": [
        "from google.colab import files\n",
        "print('Please upload your John Snow Labs License using the button below')\n",
        "license_keys = files.upload()"
      ],
      "outputs": [],
      "metadata": {
        "id": "fe96e8d6-c2a3-4464-b78e-90e83f743823"
      },
      "execution_count": 43
    },
    {
      "cell_type": "code",
      "source": [
        "from johnsnowlabs import * \n",
        "# After uploading your license run this to install all licensed Python Wheels and pre-download Jars the Spark Session JVM\n",
        "# Make sure to restart your notebook afterwards for changes to take effect\n",
        "jsl.install()"
      ],
      "outputs": [
        {
          "output_type": "stream",
          "name": "stdout",
          "text": [
            "\u001b[91m🚨 Your Spark-OCR is outdated, installed==4.0.0rc1 but latest version==4.1.0\n",
            "You can run \u001b[92m jsl.install() \u001b[39mto update Spark-OCR\n",
            "👌 Detected license file /content/spark_nlp_for_healthcare_spark_ocr_5278 (1).json\n",
            "🚨 Outdated Medical Secrets in license file. Version=4.2.0 but should be Version=0.1.14\n",
            "👌 Detected license file /content/spark_nlp_for_healthcare_spark_ocr_5278 (1).json\n",
            "👌 JSL-Home is up to date! \n",
            "👌 Detected license file /content/spark_nlp_for_healthcare_spark_ocr_5278 (1).json\n",
            "Installing /root/.johnsnowlabs/py_installs/internal_with_finleg-4.0.0rc1-py3-none-any.whl to /usr/bin/python3\n",
            "Running: /usr/bin/python3 -m pip install /root/.johnsnowlabs/py_installs/internal_with_finleg-4.0.0rc1-py3-none-any.whl\n",
            "👌 Detected license file /content/spark_nlp_for_healthcare_spark_ocr_5278 (1).json\n",
            "Installing /root/.johnsnowlabs/py_installs/spark_nlp-4.2.0-py2.py3-none-any.whl to /usr/bin/python3\n",
            "Running: /usr/bin/python3 -m pip install /root/.johnsnowlabs/py_installs/spark_nlp-4.2.0-py2.py3-none-any.whl\n",
            "Installed 2 products:\n",
            "💊 Spark-Healthcare==False installed! ✅ Heal the planet with NLP! \n",
            "🚀 Spark-NLP==4.2.0 installed! ✅ State of the art NLP at scale \n",
            "🔁\u001b[91m If you are on Google Colab, please restart your Notebook for changes to take effect \u001b[39m🔁\n"
          ]
        }
      ],
      "metadata": {
        "colab": {
          "base_uri": "https://localhost:8080/"
        },
        "id": "JOzbTlCRNvVd",
        "outputId": "0f0c2ce6-53ed-4982-cae9-6d98ee648b4d"
      },
      "execution_count": 3
    },
    {
      "cell_type": "code",
      "source": [
        "# Automatically load license data and start a session with all jars user has access to\n",
        "spark = jsl.start()"
      ],
      "outputs": [
        {
          "output_type": "stream",
          "name": "stdout",
          "text": [
            "DEBUG START!\n",
            "👌 Detected license file /content/spark_nlp_for_healthcare_spark_ocr_5278 (1).json\n",
            "👌 Launched \u001b[92mcpu-Optimized JVM\u001b[39m SparkSession with Jars for: 🚀Spark-NLP==4.2.0, 💊Spark-Healthcare==4.0.0rc1, 🕶Spark-OCR==4.1.0, running on ⚡ PySpark==3.1.2\n"
          ]
        }
      ],
      "metadata": {
        "colab": {
          "base_uri": "https://localhost:8080/"
        },
        "id": "TZIjuI3zN1Oi",
        "outputId": "cde62fd6-6a4f-4e51-e7be-de4c94c9c183"
      },
      "execution_count": 4
    },
    {
      "cell_type": "code",
      "source": [
        "spark"
      ],
      "outputs": [
        {
          "output_type": "execute_result",
          "data": {
            "text/plain": [
              "<pyspark.sql.session.SparkSession at 0x7f742424c290>"
            ],
            "text/html": [
              "\n",
              "            <div>\n",
              "                <p><b>SparkSession - in-memory</b></p>\n",
              "                \n",
              "        <div>\n",
              "            <p><b>SparkContext</b></p>\n",
              "\n",
              "            <p><a href=\"http://e1cf6b65fefe:4040\">Spark UI</a></p>\n",
              "\n",
              "            <dl>\n",
              "              <dt>Version</dt>\n",
              "                <dd><code>v3.1.2</code></dd>\n",
              "              <dt>Master</dt>\n",
              "                <dd><code>local[*]</code></dd>\n",
              "              <dt>AppName</dt>\n",
              "                <dd><code>John-Snow-Labs-Spark-Session 🚀 with Jars for: 🚀Spark-NLP==4.2.0, 💊Spark-Healthcare==4.0.0rc1, 🕶Spark-OCR==4.1.0, running on ⚡ PySpark==3.1.2</code></dd>\n",
              "            </dl>\n",
              "        </div>\n",
              "        \n",
              "            </div>\n",
              "        "
            ]
          },
          "metadata": {},
          "execution_count": 6
        }
      ],
      "metadata": {
        "id": "GlmdmVsK0npI",
        "colab": {
          "base_uri": "https://localhost:8080/",
          "height": 219
        },
        "outputId": "4dafbb26-9d81-4100-a61c-cb774a3bb2f0"
      },
      "execution_count": 6
    },
    {
      "cell_type": "code",
      "source": [],
      "outputs": [],
      "metadata": {
        "id": "hBfYC-0p0uAE"
      },
      "execution_count": 6
    },
    {
      "cell_type": "markdown",
      "source": [
        "#Data Prep "
      ],
      "metadata": {
        "id": "JYBQyxEd0uR0"
      }
    },
    {
      "cell_type": "code",
      "source": [
        "! wget -q https://raw.githubusercontent.com/JohnSnowLabs/spark-nlp-workshop/master/tutorials/Certification_Trainings/Finance/data/assertion_fin.csv"
      ],
      "outputs": [],
      "metadata": {
        "id": "AVBmGFcQ03La"
      },
      "execution_count": 7
    },
    {
      "cell_type": "code",
      "source": [
        "import pandas as pd\n",
        "\n",
        "training_df = pd.read_csv('/content/assertion_fin.csv')"
      ],
      "outputs": [],
      "metadata": {
        "id": "8iJF_HCw1Lgh"
      },
      "execution_count": 8
    },
    {
      "cell_type": "code",
      "source": [
        "training_data = spark.createDataFrame(training_df)\n",
        "training_data.show()"
      ],
      "outputs": [
        {
          "output_type": "stream",
          "name": "stdout",
          "text": [
            "+-------+--------------------+---------+-------+--------------------+------+---------------+\n",
            "|task_id|            sentence|tkn_start|tkn_end|               chunk|entity|assertion_label|\n",
            "+-------+--------------------+---------+-------+--------------------+------+---------------+\n",
            "|      1|The Swedish East ...|        1|      4|Swedish East Indi...|   ORG|           PAST|\n",
            "|      1|The Swedish East ...|        6|      8|Svenska Ostindisk...| ALIAS|           PAST|\n",
            "|      1|The Swedish East ...|       10|     10|                SOIC| ALIAS|           PAST|\n",
            "|      1|The Swedish East ...|       14|     14|          Gothenburg|   LOC|           PAST|\n",
            "|      1|The Swedish East ...|       15|     15|              Sweden|   LOC|           PAST|\n",
            "|      1|The Swedish East ...|       17|     17|                1731|  DATE|           PAST|\n",
            "|      1|The Swedish East ...|       25|     25|               China|   LOC|           PAST|\n",
            "|      1|The Swedish East ...|       28|     29|            Far East|   LOC|           PAST|\n",
            "|      1|The venture was i...|        9|     12|Dutch East India ...|   ORG|           PAST|\n",
            "|      1|The venture was i...|       15|     18|British East Indi...|   ORG|           PAST|\n",
            "|      1|This made Gothenb...|        2|      2|          Gothenburg|   LOC|           PAST|\n",
            "|      1|Trade with China ...|        2|      2|               China|   LOC|           PAST|\n",
            "|      1|Trade with China ...|       11|     11|              Sweden|   LOC|           PAST|\n",
            "|      1|The Chinese cultu...|       34|     34|              Sweden|   LOC|           PAST|\n",
            "|      1|The company folde...|        4|      4|                1813|  DATE|           PAST|\n",
            "|      1|nevertheless, it ...|       11|     11|          Gothenburg|   LOC|           PAST|\n",
            "|      1|Background Sweden...|       16|     17|          East India|   LOC|           PAST|\n",
            "|      1|The royal privile...|        5|      8|Swedish East Indi...|   ORG|           PAST|\n",
            "|      1|The royal privile...|        9|      9|                SOIC| ALIAS|           PAST|\n",
            "|      1|The royal privile...|       27|     28|          East India|   LOC|           PAST|\n",
            "+-------+--------------------+---------+-------+--------------------+------+---------------+\n",
            "only showing top 20 rows\n",
            "\n"
          ]
        }
      ],
      "metadata": {
        "colab": {
          "base_uri": "https://localhost:8080/"
        },
        "id": "JREBeTzb8ov-",
        "outputId": "57dc8ff5-0c8f-4710-a68a-cd869ec9c4b3"
      },
      "execution_count": 9
    },
    {
      "cell_type": "code",
      "source": [
        "training_data.printSchema()"
      ],
      "outputs": [
        {
          "output_type": "stream",
          "name": "stdout",
          "text": [
            "root\n",
            " |-- task_id: long (nullable = true)\n",
            " |-- sentence: string (nullable = true)\n",
            " |-- tkn_start: long (nullable = true)\n",
            " |-- tkn_end: long (nullable = true)\n",
            " |-- chunk: string (nullable = true)\n",
            " |-- entity: string (nullable = true)\n",
            " |-- assertion_label: string (nullable = true)\n",
            "\n"
          ]
        }
      ],
      "metadata": {
        "colab": {
          "base_uri": "https://localhost:8080/"
        },
        "id": "ET8GD3y3-17e",
        "outputId": "6e611d6a-f2d9-421a-c850-8e8bc8b16b07"
      },
      "execution_count": 10
    },
    {
      "cell_type": "code",
      "source": [
        "%time training_data.count()"
      ],
      "outputs": [
        {
          "output_type": "stream",
          "name": "stdout",
          "text": [
            "CPU times: user 13.3 ms, sys: 1.27 ms, total: 14.5 ms\n",
            "Wall time: 798 ms\n"
          ]
        },
        {
          "output_type": "execute_result",
          "data": {
            "text/plain": [
              "8050"
            ]
          },
          "metadata": {},
          "execution_count": 11
        }
      ],
      "metadata": {
        "colab": {
          "base_uri": "https://localhost:8080/"
        },
        "id": "R6xa4jp8Szs0",
        "outputId": "91b737ae-ef4e-4090-b603-793fb8fdc81d"
      },
      "execution_count": 11
    },
    {
      "cell_type": "code",
      "source": [
        "(train_data, test_data) = training_data.randomSplit([0.9, 0.1], seed = 100)\n",
        "print(\"Training Dataset Count: \" + str(training_data.count()))\n",
        "print(\"Test Dataset Count: \" + str(test_data.count()))"
      ],
      "outputs": [
        {
          "output_type": "stream",
          "name": "stdout",
          "text": [
            "Training Dataset Count: 8050\n",
            "Test Dataset Count: 848\n"
          ]
        }
      ],
      "metadata": {
        "colab": {
          "base_uri": "https://localhost:8080/"
        },
        "id": "fxcHD_Q_-_lD",
        "outputId": "b8c5c979-b181-43eb-e03b-49e079895084"
      },
      "execution_count": 12
    },
    {
      "cell_type": "code",
      "source": [
        "train_data.show()"
      ],
      "outputs": [
        {
          "output_type": "stream",
          "name": "stdout",
          "text": [
            "+-------+--------------------+---------+-------+--------------------+------+---------------+\n",
            "|task_id|            sentence|tkn_start|tkn_end|               chunk|entity|assertion_label|\n",
            "+-------+--------------------+---------+-------+--------------------+------+---------------+\n",
            "|      1|2.5 tonnes) and t...|       11|     11|          Gothenburg|   LOC|           PAST|\n",
            "|      1|2.5 tonnes) and t...|       34|     34|              Sweden|   LOC|           PAST|\n",
            "|      1|= Early attempts ...|        9|     11|  Swedish East India|   ORG|           PAST|\n",
            "|      1|= Early attempts ...|       20|     21|    Willem Usselincx|   PER|           PAST|\n",
            "|      1|= Sweden after th...|        1|      1|              Sweden|   LOC|           PAST|\n",
            "|      1|= The Royal chart...|        9|     12|Henrik König & Co...|   ORG|           PAST|\n",
            "|      1|= The Royal chart...|       39|     42|   Cape of Good Hope|   LOC|           PAST|\n",
            "|      1|= The Royal chart...|       46|     46|               Japan|   LOC|           PAST|\n",
            "|      1|= The Royal chart...|       70|     70|          Gothenburg|   LOC|           PAST|\n",
            "|      1|= The Royal chart...|       79|     79|          Gothenburg|   LOC|           PAST|\n",
            "|      1|= The first octro...|        8|      8|           directors|  ROLE|           PAST|\n",
            "|      1|= The first octro...|       11|     11|                SOIC|   ORG|           PAST|\n",
            "|      1|= The first octro...|       13|     14|        Henrik König|   PER|           PAST|\n",
            "|      1|= The first octro...|       18|     19|       Frans Bedoire|   PER|           PAST|\n",
            "|      1|= The first octro...|       23|     23|           Stockholm|   LOC|           PAST|\n",
            "|      1|A failed attempt ...|       10|     10|             Austria|   LOC|           PAST|\n",
            "|      1|A failed attempt ...|       12|     13|      Ostend Company|   ORG|           PAST|\n",
            "|      1|A partner desirin...|       40|     40|                Asia|   LOC|           PAST|\n",
            "|      1|A partner desirin...|       51|     51|              Sweden|   LOC|           PAST|\n",
            "|      1|All of the initia...|        6|      6|                SOIC|   ORG|           PAST|\n",
            "+-------+--------------------+---------+-------+--------------------+------+---------------+\n",
            "only showing top 20 rows\n",
            "\n"
          ]
        }
      ],
      "metadata": {
        "colab": {
          "base_uri": "https://localhost:8080/"
        },
        "id": "DFN_BuHU84HF",
        "outputId": "9168daec-ed16-4910-a8f0-9fe75c276c3b"
      },
      "execution_count": 13
    },
    {
      "cell_type": "code",
      "source": [],
      "outputs": [],
      "metadata": {
        "id": "HaIXrA3M_ZS-"
      },
      "execution_count": 13
    },
    {
      "cell_type": "markdown",
      "source": [
        "#Using Bert Embeddings"
      ],
      "metadata": {
        "id": "2WZDqlZA_kmb"
      }
    },
    {
      "cell_type": "code",
      "source": [
        "bert_embeddings = nlp.BertEmbeddings.pretrained(\"bert_embeddings_sec_bert_base\", \"en\") \\\n",
        "  .setInputCols(\"document\", \"token\") \\\n",
        "  .setOutputCol(\"embeddings\")\\\n",
        "  .setMaxSentenceLength(512)"
      ],
      "outputs": [
        {
          "output_type": "stream",
          "name": "stdout",
          "text": [
            "bert_embeddings_sec_bert_base download started this may take some time.\n",
            "Approximate size to download 390.4 MB\n",
            "[OK!]\n"
          ]
        }
      ],
      "metadata": {
        "colab": {
          "base_uri": "https://localhost:8080/"
        },
        "id": "7qfJh8ap_nI2",
        "outputId": "334d9ddc-15cf-494a-a1fc-20897c3f7c9f"
      },
      "execution_count": 14
    },
    {
      "cell_type": "code",
      "source": [
        "document = nlp.DocumentAssembler()\\\n",
        "    .setInputCol(\"sentence\")\\\n",
        "    .setOutputCol(\"document\")\n",
        "\n",
        "chunk = nlp.Doc2Chunk()\\\n",
        "    .setInputCols(\"document\")\\\n",
        "    .setOutputCol(\"doc_chunk\")\\\n",
        "    .setChunkCol(\"chunk\")\\\n",
        "    .setStartCol(\"tkn_start\")\\\n",
        "    .setStartColByTokenIndex(True)\\\n",
        "    .setFailOnMissing(False)\\\n",
        "    .setLowerCase(False)\n",
        "\n",
        "token = nlp.Tokenizer()\\\n",
        "    .setInputCols(['document'])\\\n",
        "    .setOutputCol('token')\n"
      ],
      "outputs": [],
      "metadata": {
        "id": "Fe0957BT_rcy"
      },
      "execution_count": 15
    },
    {
      "cell_type": "markdown",
      "source": [
        "We save the test data in parquet format to use in `AssertionDLApproach()`. "
      ],
      "metadata": {
        "id": "LFTO0PlI9-3e"
      }
    },
    {
      "cell_type": "code",
      "source": [
        "assertion_pipeline = Pipeline(\n",
        "    stages = [\n",
        "    document,\n",
        "    chunk,\n",
        "    token,\n",
        "    bert_embeddings])\n",
        "\n",
        "assertion_test_data = assertion_pipeline.fit(test_data).transform(test_data)"
      ],
      "outputs": [],
      "metadata": {
        "id": "M9u4c65G9VaC"
      },
      "execution_count": 16
    },
    {
      "cell_type": "code",
      "source": [
        "assertion_test_data.columns"
      ],
      "outputs": [
        {
          "output_type": "execute_result",
          "data": {
            "text/plain": [
              "['task_id',\n",
              " 'sentence',\n",
              " 'tkn_start',\n",
              " 'tkn_end',\n",
              " 'chunk',\n",
              " 'entity',\n",
              " 'assertion_label',\n",
              " 'document',\n",
              " 'doc_chunk',\n",
              " 'token',\n",
              " 'embeddings']"
            ]
          },
          "metadata": {},
          "execution_count": 17
        }
      ],
      "metadata": {
        "colab": {
          "base_uri": "https://localhost:8080/"
        },
        "id": "r-UREmtI9Vd3",
        "outputId": "d3a6f2b5-67d1-4446-edc4-b7667a049691"
      },
      "execution_count": 17
    },
    {
      "cell_type": "code",
      "source": [
        "assertion_test_data.write.mode('overwrite').parquet('test_data.parquet')"
      ],
      "outputs": [],
      "metadata": {
        "id": "kBaiXx78BTLT"
      },
      "execution_count": 18
    },
    {
      "cell_type": "code",
      "source": [
        "assertion_train_data = assertion_pipeline.fit(training_data).transform(training_data)\n",
        "assertion_train_data.write.mode('overwrite').parquet('train_data.parquet')"
      ],
      "outputs": [],
      "metadata": {
        "id": "tFhN6evk9ViI"
      },
      "execution_count": 19
    },
    {
      "cell_type": "code",
      "source": [
        "assertion_train_data.columns"
      ],
      "outputs": [
        {
          "output_type": "execute_result",
          "data": {
            "text/plain": [
              "['task_id',\n",
              " 'sentence',\n",
              " 'tkn_start',\n",
              " 'tkn_end',\n",
              " 'chunk',\n",
              " 'entity',\n",
              " 'assertion_label',\n",
              " 'document',\n",
              " 'doc_chunk',\n",
              " 'token',\n",
              " 'embeddings']"
            ]
          },
          "metadata": {},
          "execution_count": 20
        }
      ],
      "metadata": {
        "colab": {
          "base_uri": "https://localhost:8080/"
        },
        "id": "BtxnrvcA9VlN",
        "outputId": "1a8b0ddb-88eb-4cd0-da4a-5bc533b18a9e"
      },
      "execution_count": 20
    },
    {
      "cell_type": "code",
      "source": [],
      "outputs": [],
      "metadata": {
        "id": "g-faGWWU91d-"
      },
      "execution_count": 20
    },
    {
      "cell_type": "markdown",
      "source": [
        "##Graph setup"
      ],
      "metadata": {
        "id": "uTishXbut1MS"
      }
    },
    {
      "cell_type": "code",
      "source": [
        "!pip install -q tensorflow==2.7.0\n",
        "!pip install -q tensorflow-addons"
      ],
      "outputs": [
        {
          "output_type": "stream",
          "name": "stdout",
          "text": [
            "\u001b[K     |████████████████████████████████| 665.5 MB 18 kB/s \n",
            "\u001b[K     |████████████████████████████████| 1.3 MB 5.1 MB/s \n",
            "\u001b[K     |████████████████████████████████| 463 kB 78.4 MB/s \n",
            "\u001b[K     |████████████████████████████████| 1.1 MB 5.1 MB/s \n",
            "\u001b[?25h"
          ]
        }
      ],
      "metadata": {
        "colab": {
          "base_uri": "https://localhost:8080/"
        },
        "id": "1hTawAHemzGn",
        "outputId": "a229d2eb-0aef-426c-f1d1-f06be9b4d473"
      },
      "execution_count": 21
    },
    {
      "cell_type": "markdown",
      "source": [
        "We will use TFGraphBuilder annotator which can be used to create graphs in the model training pipeline. \n",
        "\n",
        "TFGraphBuilder inspects the data and creates the proper graph if a suitable version of TensorFlow (<= 2.7 ) is available. The graph is stored in the defined folder and loaded by the approach."
      ],
      "metadata": {
        "id": "0ShZT8BBo4FY"
      }
    },
    {
      "cell_type": "code",
      "source": [
        "graph_folder= \"./tf_graphs\""
      ],
      "outputs": [],
      "metadata": {
        "id": "XhU0L1OXdaLN"
      },
      "execution_count": 22
    },
    {
      "cell_type": "code",
      "source": [
        "assertion_graph_builder =  finance.TFGraphBuilder()\\\n",
        "    .setModelName(\"assertion_dl\")\\\n",
        "    .setInputCols([\"sentence\", \"token\", \"embeddings\"]) \\\n",
        "    .setLabelColumn(\"assertion_label\")\\\n",
        "    .setGraphFolder(graph_folder)\\\n",
        "    .setGraphFile(\"assertion_graph.pb\")\\\n",
        "    .setMaxSequenceLength(1200)\\\n",
        "    .setHiddenUnitsNumber(25)"
      ],
      "outputs": [],
      "metadata": {
        "id": "miNgoTjio0mL"
      },
      "execution_count": 23
    },
    {
      "cell_type": "markdown",
      "source": [
        "**Setting the Scope Window (Target Area) Dynamically in Assertion Status Detection Models**\n",
        "\n",
        "\n",
        "This parameter allows you to train the Assertion Status Models to focus on specific context windows when resolving the status of a NER chunk. The window is in format `[X,Y]` being `X` the number of tokens to consider on the left of the chunk, and `Y` the max number of tokens to consider on the right. Let’s take a look at what different windows mean:\n",
        "\n",
        "\n",
        "*   By default, the window is `[-1,-1]` which means that the Assertion Status will look at all of the tokens in the sentence/document (up to a maximum of tokens set in `setMaxSentLen()` ).\n",
        "*   `[0,0]` means “don’t pay attention to any token except the ner_chunk”, what basically is not considering any context for the Assertion resolution.\n",
        "*   `[9,15]` is what empirically seems to be the best baseline, meaning that we look up to 9 tokens on the left and 15 on the right of the ner chunk to understand the context and resolve the status.\n",
        "\n",
        "\n",
        "Check this [Scope Window Tuning Assertion Status Detection notebook](https://github.com/JohnSnowLabs/spark-nlp-workshop/blob/master/tutorials/Certification_Trainings/Healthcare/2.1.Scope_window_tuning_assertion_status_detection.ipynb)  that illustrates the effect of the different windows and how to properly fine-tune your AssertionDLModels to get the best of them.\n",
        "\n",
        "In our case, the best Scope Window is around [10,10]"
      ],
      "metadata": {
        "id": "6D0Ng7nMUjJa"
      }
    },
    {
      "cell_type": "code",
      "source": [
        "scope_window = [50, 50]\n",
        "\n",
        "assertionStatus = finance.AssertionDLApproach()\\\n",
        "    .setLabelCol(\"assertion_label\")\\\n",
        "    .setInputCols(\"document\", \"doc_chunk\", \"embeddings\")\\\n",
        "    .setOutputCol(\"assertion\")\\\n",
        "    .setBatchSize(128)\\\n",
        "    .setLearningRate(0.001)\\\n",
        "    .setEpochs(2)\\\n",
        "    .setStartCol(\"tkn_start\")\\\n",
        "    .setEndCol(\"tkn_end\")\\\n",
        "    .setMaxSentLen(1200)\\\n",
        "    .setEnableOutputLogs(True)\\\n",
        "    .setOutputLogsPath('training_logs/')\\\n",
        "    .setGraphFolder(graph_folder)\\\n",
        "    .setGraphFile(f\"{graph_folder}/assertion_graph.pb\")\\\n",
        "    .setTestDataset(path=\"test_data.parquet\", read_as='SPARK', options={'format': 'parquet'})\\\n",
        "    .setScopeWindow(scope_window)\n",
        "    #.setValidationSplit(0.2)\\    \n",
        "    #.setDropout(0.1)\\    "
      ],
      "outputs": [],
      "metadata": {
        "id": "BQxGbYks91go"
      },
      "execution_count": 24
    },
    {
      "cell_type": "code",
      "source": [
        "clinical_assertion_pipeline = Pipeline(\n",
        "    stages = [\n",
        "    #document,\n",
        "    #chunk,\n",
        "    #token,\n",
        "    #embeddings,\n",
        "    assertion_graph_builder,\n",
        "    assertionStatus])"
      ],
      "outputs": [],
      "metadata": {
        "id": "T2MZLeCYATrS"
      },
      "execution_count": 25
    },
    {
      "cell_type": "code",
      "source": [
        "training_data.printSchema()"
      ],
      "outputs": [
        {
          "output_type": "stream",
          "name": "stdout",
          "text": [
            "root\n",
            " |-- task_id: long (nullable = true)\n",
            " |-- sentence: string (nullable = true)\n",
            " |-- tkn_start: long (nullable = true)\n",
            " |-- tkn_end: long (nullable = true)\n",
            " |-- chunk: string (nullable = true)\n",
            " |-- entity: string (nullable = true)\n",
            " |-- assertion_label: string (nullable = true)\n",
            "\n"
          ]
        }
      ],
      "metadata": {
        "colab": {
          "base_uri": "https://localhost:8080/"
        },
        "id": "yIvnuaQP91j8",
        "outputId": "79f7598e-1b39-42de-eca1-2945ea10b9e8"
      },
      "execution_count": 26
    },
    {
      "cell_type": "code",
      "source": [
        "assertion_train_data = spark.read.parquet('train_data.parquet')"
      ],
      "outputs": [],
      "metadata": {
        "id": "ueJz0aiJ_7l4"
      },
      "execution_count": 27
    },
    {
      "cell_type": "code",
      "source": [
        "%%time\n",
        "assertion_model = clinical_assertion_pipeline.fit(assertion_train_data)"
      ],
      "outputs": [
        {
          "output_type": "stream",
          "name": "stdout",
          "text": [
            "TF Graph Builder configuration:\n",
            "Model name: assertion_dl\n",
            "Graph folder: ./tf_graphs\n",
            "Graph file name: assertion_graph.pb\n",
            "Build params: {'n_classes': 4, 'feat_size': 768, 'max_seq_len': 1200, 'n_hidden': 25}\n"
          ]
        },
        {
          "output_type": "stream",
          "name": "stderr",
          "text": [
            "WARNING:tensorflow:From /usr/local/lib/python3.7/dist-packages/tensorflow/python/compat/v2_compat.py:111: disable_resource_variables (from tensorflow.python.ops.variable_scope) is deprecated and will be removed in a future version.\n",
            "Instructions for updating:\n",
            "non-resource variables are not supported in the long term\n"
          ]
        },
        {
          "output_type": "stream",
          "name": "stdout",
          "text": [
            "Device mapping: no known devices.\n"
          ]
        },
        {
          "output_type": "stream",
          "name": "stderr",
          "text": [
            "WARNING:tensorflow:From /usr/local/lib/python3.7/dist-packages/sparknlp_jsl/_tf_graph_builders/tf2contrib/rnn.py:239: bidirectional_dynamic_rnn (from tensorflow.python.ops.rnn) is deprecated and will be removed in a future version.\n",
            "Instructions for updating:\n",
            "Please use `keras.layers.Bidirectional(keras.layers.RNN(cell))`, which is equivalent to this API\n",
            "WARNING:tensorflow:From /usr/local/lib/python3.7/dist-packages/tensorflow/python/ops/rnn.py:450: dynamic_rnn (from tensorflow.python.ops.rnn) is deprecated and will be removed in a future version.\n",
            "Instructions for updating:\n",
            "Please use `keras.layers.RNN(cell)`, which is equivalent to this API\n",
            "WARNING:tensorflow:From /usr/local/lib/python3.7/dist-packages/tensorflow/python/keras/layers/legacy_rnn/rnn_cell_impl.py:766: calling Zeros.__init__ (from tensorflow.python.ops.init_ops) with dtype is deprecated and will be removed in a future version.\n",
            "Instructions for updating:\n",
            "Call initializer instance with the dtype argument instead of passing it to the constructor\n"
          ]
        },
        {
          "output_type": "stream",
          "name": "stdout",
          "text": [
            "Device mapping: no known devices.\n",
            "assertion_dl graph exported to ./tf_graphs/assertion_graph.pb\n",
            "CPU times: user 32.1 s, sys: 2.83 s, total: 34.9 s\n",
            "Wall time: 25min 7s\n"
          ]
        }
      ],
      "metadata": {
        "colab": {
          "base_uri": "https://localhost:8080/"
        },
        "id": "j1NCZ89T_7ol",
        "outputId": "ba16f9d7-59a1-425f-f408-91798ae7da28"
      },
      "execution_count": 28
    },
    {
      "cell_type": "code",
      "source": [],
      "outputs": [],
      "metadata": {
        "id": "cZf7ooHx_7ro"
      },
      "execution_count": 28
    },
    {
      "cell_type": "markdown",
      "source": [
        "Checking the results saved in the log file"
      ],
      "metadata": {
        "id": "30SmcTiSpnWa"
      }
    },
    {
      "cell_type": "code",
      "source": [
        "import os\n",
        "\n",
        "log_files = os.listdir(\"/content/training_logs\")\n",
        "log_files"
      ],
      "outputs": [
        {
          "output_type": "execute_result",
          "data": {
            "text/plain": [
              "['AssertionDLApproach_d4d63cd5f46f.log']"
            ]
          },
          "metadata": {},
          "execution_count": 29
        }
      ],
      "metadata": {
        "colab": {
          "base_uri": "https://localhost:8080/"
        },
        "id": "kOiu1vuspKut",
        "outputId": "bd263606-10c3-4c3a-ad4f-499912a336a4"
      },
      "execution_count": 29
    },
    {
      "cell_type": "code",
      "source": [
        "with open(\"/content/training_logs/\"+log_files[0]) as log_file:\n",
        "    print(log_file.read())"
      ],
      "outputs": [
        {
          "output_type": "stream",
          "name": "stdout",
          "text": [
            "Name of the selected graph: ./tf_graphs/assertion_graph.pb\n",
            "Training started, trainExamples: 8050\n",
            "\n",
            "\n",
            "Epoch: 0 started, learning rate: 0.001, dataset size: 8050\n",
            "Done, 654.076256498 total training loss: 52.332344, avg training loss: 0.83067214, batches: 63\n",
            "Quality on test dataset: \n",
            "time to finish evaluation: 60.89s\n",
            "Total test loss: 2.3790\tAvg test loss: 0.3399\n",
            "label\t tp\t fp\t fn\t prec\t rec\t f1\n",
            "PRESENT\t 186\t 22\t 45\t 0.8942308\t 0.8051948\t 0.8473804\n",
            "POSSIBLE\t 167\t 21\t 25\t 0.88829786\t 0.8697917\t 0.8789474\n",
            "FUTURE\t 106\t 13\t 17\t 0.8907563\t 0.86178863\t 0.87603307\n",
            "PAST\t 285\t 48\t 17\t 0.8558559\t 0.9437086\t 0.89763784\n",
            "tp: 744 fp: 104 fn: 104 labels: 4\n",
            "Macro-average\t prec: 0.88228524, rec: 0.87012094, f1: 0.8761609\n",
            "Micro-average\t prec: 0.8773585, rec: 0.8773585, f1: 0.8773585\n",
            "\n",
            "\n",
            "Epoch: 1 started, learning rate: 9.5E-4, dataset size: 8050\n",
            "Done, 703.401722604 total training loss: 21.033928, avg training loss: 0.33387187, batches: 63\n",
            "Quality on test dataset: \n",
            "time to finish evaluation: 65.40s\n",
            "Total test loss: 1.5846\tAvg test loss: 0.2264\n",
            "label\t tp\t fp\t fn\t prec\t rec\t f1\n",
            "PRESENT\t 204\t 14\t 27\t 0.9357798\t 0.8831169\t 0.9086859\n",
            "POSSIBLE\t 181\t 14\t 11\t 0.92820513\t 0.9427083\t 0.9354005\n",
            "FUTURE\t 111\t 10\t 12\t 0.91735536\t 0.902439\t 0.909836\n",
            "PAST\t 286\t 28\t 16\t 0.91082805\t 0.9470199\t 0.9285714\n",
            "tp: 782 fp: 66 fn: 66 labels: 4\n",
            "Macro-average\t prec: 0.9230421, rec: 0.91882104, f1: 0.9209267\n",
            "Micro-average\t prec: 0.9221698, rec: 0.9221698, f1: 0.9221698\n",
            "\n",
            "\n",
            "\n"
          ]
        }
      ],
      "metadata": {
        "colab": {
          "base_uri": "https://localhost:8080/"
        },
        "id": "CcQV0-fIrJHz",
        "outputId": "67066ebf-ce47-44ee-e4dd-95e3679ad4f6"
      },
      "execution_count": 30
    },
    {
      "cell_type": "code",
      "source": [
        "assertion_test_data = spark.read.parquet('test_data.parquet')"
      ],
      "outputs": [],
      "metadata": {
        "id": "bgcG00nT91nn"
      },
      "execution_count": 31
    },
    {
      "cell_type": "code",
      "source": [
        "preds = assertion_model.transform(assertion_test_data).select('assertion_label','assertion.result')\n",
        "\n",
        "preds.show()"
      ],
      "outputs": [
        {
          "output_type": "stream",
          "name": "stdout",
          "text": [
            "+---------------+------+\n",
            "|assertion_label|result|\n",
            "+---------------+------+\n",
            "|           PAST|[PAST]|\n",
            "|           PAST|[PAST]|\n",
            "|           PAST|[PAST]|\n",
            "|        PRESENT|[PAST]|\n",
            "|           PAST|[PAST]|\n",
            "|           PAST|[PAST]|\n",
            "|           PAST|[PAST]|\n",
            "|           PAST|[PAST]|\n",
            "|           PAST|[PAST]|\n",
            "|           PAST|[PAST]|\n",
            "|           PAST|[PAST]|\n",
            "|           PAST|[PAST]|\n",
            "|           PAST|[PAST]|\n",
            "|           PAST|[PAST]|\n",
            "|           PAST|[PAST]|\n",
            "|           PAST|[PAST]|\n",
            "|           PAST|[PAST]|\n",
            "|           PAST|[PAST]|\n",
            "|           PAST|[PAST]|\n",
            "|           PAST|[PAST]|\n",
            "+---------------+------+\n",
            "only showing top 20 rows\n",
            "\n"
          ]
        }
      ],
      "metadata": {
        "colab": {
          "base_uri": "https://localhost:8080/"
        },
        "id": "-k2WrFkRyQyP",
        "outputId": "196171e4-acec-403c-dd25-41c653268957"
      },
      "execution_count": 32
    },
    {
      "cell_type": "code",
      "source": [
        "preds_df = preds.toPandas()"
      ],
      "outputs": [],
      "metadata": {
        "id": "4yI73lwG2xk5"
      },
      "execution_count": 33
    },
    {
      "cell_type": "code",
      "source": [
        "preds_df[\"result\"] = preds_df[\"result\"].apply(lambda x: x[0] if len(x) else pd.NA)\n",
        "preds_df.dropna(inplace=True)\n",
        "\n",
        "preds_df"
      ],
      "outputs": [
        {
          "output_type": "execute_result",
          "data": {
            "text/plain": [
              "    assertion_label   result\n",
              "0              PAST     PAST\n",
              "1              PAST     PAST\n",
              "2              PAST     PAST\n",
              "3           PRESENT     PAST\n",
              "4              PAST     PAST\n",
              "..              ...      ...\n",
              "843         PRESENT  PRESENT\n",
              "844         PRESENT  PRESENT\n",
              "845         PRESENT  PRESENT\n",
              "846         PRESENT  PRESENT\n",
              "847         PRESENT  PRESENT\n",
              "\n",
              "[847 rows x 2 columns]"
            ],
            "text/html": [
              "\n",
              "  <div id=\"df-3264d934-81e5-48f5-b637-cfcd44b830d6\">\n",
              "    <div class=\"colab-df-container\">\n",
              "      <div>\n",
              "<style scoped>\n",
              "    .dataframe tbody tr th:only-of-type {\n",
              "        vertical-align: middle;\n",
              "    }\n",
              "\n",
              "    .dataframe tbody tr th {\n",
              "        vertical-align: top;\n",
              "    }\n",
              "\n",
              "    .dataframe thead th {\n",
              "        text-align: right;\n",
              "    }\n",
              "</style>\n",
              "<table border=\"1\" class=\"dataframe\">\n",
              "  <thead>\n",
              "    <tr style=\"text-align: right;\">\n",
              "      <th></th>\n",
              "      <th>assertion_label</th>\n",
              "      <th>result</th>\n",
              "    </tr>\n",
              "  </thead>\n",
              "  <tbody>\n",
              "    <tr>\n",
              "      <th>0</th>\n",
              "      <td>PAST</td>\n",
              "      <td>PAST</td>\n",
              "    </tr>\n",
              "    <tr>\n",
              "      <th>1</th>\n",
              "      <td>PAST</td>\n",
              "      <td>PAST</td>\n",
              "    </tr>\n",
              "    <tr>\n",
              "      <th>2</th>\n",
              "      <td>PAST</td>\n",
              "      <td>PAST</td>\n",
              "    </tr>\n",
              "    <tr>\n",
              "      <th>3</th>\n",
              "      <td>PRESENT</td>\n",
              "      <td>PAST</td>\n",
              "    </tr>\n",
              "    <tr>\n",
              "      <th>4</th>\n",
              "      <td>PAST</td>\n",
              "      <td>PAST</td>\n",
              "    </tr>\n",
              "    <tr>\n",
              "      <th>...</th>\n",
              "      <td>...</td>\n",
              "      <td>...</td>\n",
              "    </tr>\n",
              "    <tr>\n",
              "      <th>843</th>\n",
              "      <td>PRESENT</td>\n",
              "      <td>PRESENT</td>\n",
              "    </tr>\n",
              "    <tr>\n",
              "      <th>844</th>\n",
              "      <td>PRESENT</td>\n",
              "      <td>PRESENT</td>\n",
              "    </tr>\n",
              "    <tr>\n",
              "      <th>845</th>\n",
              "      <td>PRESENT</td>\n",
              "      <td>PRESENT</td>\n",
              "    </tr>\n",
              "    <tr>\n",
              "      <th>846</th>\n",
              "      <td>PRESENT</td>\n",
              "      <td>PRESENT</td>\n",
              "    </tr>\n",
              "    <tr>\n",
              "      <th>847</th>\n",
              "      <td>PRESENT</td>\n",
              "      <td>PRESENT</td>\n",
              "    </tr>\n",
              "  </tbody>\n",
              "</table>\n",
              "<p>847 rows × 2 columns</p>\n",
              "</div>\n",
              "      <button class=\"colab-df-convert\" onclick=\"convertToInteractive('df-3264d934-81e5-48f5-b637-cfcd44b830d6')\"\n",
              "              title=\"Convert this dataframe to an interactive table.\"\n",
              "              style=\"display:none;\">\n",
              "        \n",
              "  <svg xmlns=\"http://www.w3.org/2000/svg\" height=\"24px\"viewBox=\"0 0 24 24\"\n",
              "       width=\"24px\">\n",
              "    <path d=\"M0 0h24v24H0V0z\" fill=\"none\"/>\n",
              "    <path d=\"M18.56 5.44l.94 2.06.94-2.06 2.06-.94-2.06-.94-.94-2.06-.94 2.06-2.06.94zm-11 1L8.5 8.5l.94-2.06 2.06-.94-2.06-.94L8.5 2.5l-.94 2.06-2.06.94zm10 10l.94 2.06.94-2.06 2.06-.94-2.06-.94-.94-2.06-.94 2.06-2.06.94z\"/><path d=\"M17.41 7.96l-1.37-1.37c-.4-.4-.92-.59-1.43-.59-.52 0-1.04.2-1.43.59L10.3 9.45l-7.72 7.72c-.78.78-.78 2.05 0 2.83L4 21.41c.39.39.9.59 1.41.59.51 0 1.02-.2 1.41-.59l7.78-7.78 2.81-2.81c.8-.78.8-2.07 0-2.86zM5.41 20L4 18.59l7.72-7.72 1.47 1.35L5.41 20z\"/>\n",
              "  </svg>\n",
              "      </button>\n",
              "      \n",
              "  <style>\n",
              "    .colab-df-container {\n",
              "      display:flex;\n",
              "      flex-wrap:wrap;\n",
              "      gap: 12px;\n",
              "    }\n",
              "\n",
              "    .colab-df-convert {\n",
              "      background-color: #E8F0FE;\n",
              "      border: none;\n",
              "      border-radius: 50%;\n",
              "      cursor: pointer;\n",
              "      display: none;\n",
              "      fill: #1967D2;\n",
              "      height: 32px;\n",
              "      padding: 0 0 0 0;\n",
              "      width: 32px;\n",
              "    }\n",
              "\n",
              "    .colab-df-convert:hover {\n",
              "      background-color: #E2EBFA;\n",
              "      box-shadow: 0px 1px 2px rgba(60, 64, 67, 0.3), 0px 1px 3px 1px rgba(60, 64, 67, 0.15);\n",
              "      fill: #174EA6;\n",
              "    }\n",
              "\n",
              "    [theme=dark] .colab-df-convert {\n",
              "      background-color: #3B4455;\n",
              "      fill: #D2E3FC;\n",
              "    }\n",
              "\n",
              "    [theme=dark] .colab-df-convert:hover {\n",
              "      background-color: #434B5C;\n",
              "      box-shadow: 0px 1px 3px 1px rgba(0, 0, 0, 0.15);\n",
              "      filter: drop-shadow(0px 1px 2px rgba(0, 0, 0, 0.3));\n",
              "      fill: #FFFFFF;\n",
              "    }\n",
              "  </style>\n",
              "\n",
              "      <script>\n",
              "        const buttonEl =\n",
              "          document.querySelector('#df-3264d934-81e5-48f5-b637-cfcd44b830d6 button.colab-df-convert');\n",
              "        buttonEl.style.display =\n",
              "          google.colab.kernel.accessAllowed ? 'block' : 'none';\n",
              "\n",
              "        async function convertToInteractive(key) {\n",
              "          const element = document.querySelector('#df-3264d934-81e5-48f5-b637-cfcd44b830d6');\n",
              "          const dataTable =\n",
              "            await google.colab.kernel.invokeFunction('convertToInteractive',\n",
              "                                                     [key], {});\n",
              "          if (!dataTable) return;\n",
              "\n",
              "          const docLinkHtml = 'Like what you see? Visit the ' +\n",
              "            '<a target=\"_blank\" href=https://colab.research.google.com/notebooks/data_table.ipynb>data table notebook</a>'\n",
              "            + ' to learn more about interactive tables.';\n",
              "          element.innerHTML = '';\n",
              "          dataTable['output_type'] = 'display_data';\n",
              "          await google.colab.output.renderOutput(dataTable, element);\n",
              "          const docLink = document.createElement('div');\n",
              "          docLink.innerHTML = docLinkHtml;\n",
              "          element.appendChild(docLink);\n",
              "        }\n",
              "      </script>\n",
              "    </div>\n",
              "  </div>\n",
              "  "
            ]
          },
          "metadata": {},
          "execution_count": 34
        }
      ],
      "metadata": {
        "colab": {
          "base_uri": "https://localhost:8080/",
          "height": 424
        },
        "id": "yRXZFGlQ3Z2U",
        "outputId": "dc40c737-d13e-4334-a35f-9ed6a15818ba"
      },
      "execution_count": 34
    },
    {
      "cell_type": "code",
      "source": [
        "# We are going to use sklearn to evalute the results on test dataset\n",
        "from sklearn.metrics import classification_report\n",
        "\n",
        "print (classification_report( preds_df['assertion_label'], preds_df['result']))"
      ],
      "outputs": [
        {
          "output_type": "stream",
          "name": "stdout",
          "text": [
            "              precision    recall  f1-score   support\n",
            "\n",
            "      FUTURE       0.92      0.90      0.91       123\n",
            "        PAST       0.91      0.94      0.93       301\n",
            "    POSSIBLE       0.93      0.94      0.94       192\n",
            "     PRESENT       0.93      0.88      0.91       231\n",
            "\n",
            "    accuracy                           0.92       847\n",
            "   macro avg       0.92      0.92      0.92       847\n",
            "weighted avg       0.92      0.92      0.92       847\n",
            "\n"
          ]
        }
      ],
      "metadata": {
        "colab": {
          "base_uri": "https://localhost:8080/"
        },
        "id": "1hb1kyGAE0Gn",
        "outputId": "d9827789-87be-4cc4-ae26-210016579da2"
      },
      "execution_count": 35
    },
    {
      "cell_type": "markdown",
      "source": [
        "###Saving the trained model"
      ],
      "metadata": {
        "id": "WuJ5YZ9sXU13"
      }
    },
    {
      "cell_type": "code",
      "source": [
        "assertion_model.stages"
      ],
      "outputs": [
        {
          "output_type": "execute_result",
          "data": {
            "text/plain": [
              "[TFGraphBuilderModel_1156e243cb5d, FINANCE-ASSERTION_DL_bc10b40a958e]"
            ]
          },
          "metadata": {},
          "execution_count": 36
        }
      ],
      "metadata": {
        "colab": {
          "base_uri": "https://localhost:8080/"
        },
        "id": "KBcoOwvwXV8p",
        "outputId": "b01e856f-a162-49bd-ab34-ea0f6b730255"
      },
      "execution_count": 36
    },
    {
      "cell_type": "code",
      "source": [
        "# Save a Spark NLP model\n",
        "assertion_model.stages[-1].write().overwrite().save('Assertion')\n",
        "\n",
        "# cd into saved dir and zip\n",
        "! cd /content/Assertion ; zip -r /content/Assertion.zip *"
      ],
      "outputs": [
        {
          "output_type": "stream",
          "name": "stdout",
          "text": [
            "  adding: fields/ (stored 0%)\n",
            "  adding: fields/datasetParams/ (stored 0%)\n",
            "  adding: fields/datasetParams/.part-00038.crc (stored 0%)\n",
            "  adding: fields/datasetParams/part-00028 (deflated 27%)\n",
            "  adding: fields/datasetParams/.part-00032.crc (stored 0%)\n",
            "  adding: fields/datasetParams/part-00002 (deflated 27%)\n",
            "  adding: fields/datasetParams/_SUCCESS (stored 0%)\n",
            "  adding: fields/datasetParams/.part-00036.crc (stored 0%)\n",
            "  adding: fields/datasetParams/part-00018 (deflated 26%)\n",
            "  adding: fields/datasetParams/.part-00015.crc (stored 0%)\n",
            "  adding: fields/datasetParams/part-00026 (deflated 27%)\n",
            "  adding: fields/datasetParams/part-00011 (deflated 27%)\n",
            "  adding: fields/datasetParams/.part-00029.crc (stored 0%)\n",
            "  adding: fields/datasetParams/._SUCCESS.crc (stored 0%)\n",
            "  adding: fields/datasetParams/part-00039 (deflated 95%)\n",
            "  adding: fields/datasetParams/part-00036 (deflated 27%)\n",
            "  adding: fields/datasetParams/.part-00030.crc (stored 0%)\n",
            "  adding: fields/datasetParams/part-00007 (deflated 27%)\n",
            "  adding: fields/datasetParams/part-00038 (deflated 27%)\n",
            "  adding: fields/datasetParams/part-00033 (deflated 27%)\n",
            "  adding: fields/datasetParams/part-00029 (deflated 27%)\n",
            "  adding: fields/datasetParams/.part-00001.crc (stored 0%)\n",
            "  adding: fields/datasetParams/part-00009 (deflated 27%)\n",
            "  adding: fields/datasetParams/part-00000 (deflated 26%)\n",
            "  adding: fields/datasetParams/part-00022 (deflated 27%)\n",
            "  adding: fields/datasetParams/.part-00024.crc (stored 0%)\n",
            "  adding: fields/datasetParams/part-00005 (deflated 26%)\n",
            "  adding: fields/datasetParams/.part-00020.crc (stored 0%)\n",
            "  adding: fields/datasetParams/.part-00006.crc (stored 0%)\n",
            "  adding: fields/datasetParams/.part-00008.crc (stored 0%)\n",
            "  adding: fields/datasetParams/.part-00023.crc (stored 0%)\n",
            "  adding: fields/datasetParams/.part-00033.crc (stored 0%)\n",
            "  adding: fields/datasetParams/part-00001 (deflated 27%)\n",
            "  adding: fields/datasetParams/part-00019 (deflated 26%)\n",
            "  adding: fields/datasetParams/.part-00037.crc (stored 0%)\n",
            "  adding: fields/datasetParams/part-00031 (deflated 27%)\n",
            "  adding: fields/datasetParams/.part-00017.crc (stored 0%)\n",
            "  adding: fields/datasetParams/part-00017 (deflated 27%)\n",
            "  adding: fields/datasetParams/.part-00003.crc (stored 0%)\n",
            "  adding: fields/datasetParams/part-00037 (deflated 27%)\n",
            "  adding: fields/datasetParams/part-00008 (deflated 27%)\n",
            "  adding: fields/datasetParams/part-00010 (deflated 27%)\n",
            "  adding: fields/datasetParams/.part-00019.crc (stored 0%)\n",
            "  adding: fields/datasetParams/part-00004 (deflated 27%)\n",
            "  adding: fields/datasetParams/.part-00005.crc (stored 0%)\n",
            "  adding: fields/datasetParams/.part-00039.crc (deflated 45%)\n",
            "  adding: fields/datasetParams/part-00021 (deflated 26%)\n",
            "  adding: fields/datasetParams/.part-00013.crc (stored 0%)\n",
            "  adding: fields/datasetParams/part-00032 (deflated 27%)\n",
            "  adding: fields/datasetParams/part-00027 (deflated 27%)\n",
            "  adding: fields/datasetParams/.part-00018.crc (stored 0%)\n",
            "  adding: fields/datasetParams/.part-00002.crc (stored 0%)\n",
            "  adding: fields/datasetParams/part-00024 (deflated 27%)\n",
            "  adding: fields/datasetParams/.part-00021.crc (stored 0%)\n",
            "  adding: fields/datasetParams/part-00016 (deflated 27%)\n",
            "  adding: fields/datasetParams/part-00030 (deflated 27%)\n",
            "  adding: fields/datasetParams/part-00014 (deflated 27%)\n",
            "  adding: fields/datasetParams/.part-00034.crc (stored 0%)\n",
            "  adding: fields/datasetParams/.part-00027.crc (stored 0%)\n",
            "  adding: fields/datasetParams/.part-00012.crc (stored 0%)\n",
            "  adding: fields/datasetParams/.part-00031.crc (stored 0%)\n",
            "  adding: fields/datasetParams/part-00023 (deflated 27%)\n",
            "  adding: fields/datasetParams/part-00020 (deflated 27%)\n",
            "  adding: fields/datasetParams/.part-00014.crc (stored 0%)\n",
            "  adding: fields/datasetParams/.part-00028.crc (stored 0%)\n",
            "  adding: fields/datasetParams/part-00006 (deflated 27%)\n",
            "  adding: fields/datasetParams/.part-00016.crc (stored 0%)\n",
            "  adding: fields/datasetParams/part-00025 (deflated 26%)\n",
            "  adding: fields/datasetParams/.part-00022.crc (stored 0%)\n",
            "  adding: fields/datasetParams/part-00034 (deflated 27%)\n",
            "  adding: fields/datasetParams/.part-00004.crc (stored 0%)\n",
            "  adding: fields/datasetParams/.part-00010.crc (stored 0%)\n",
            "  adding: fields/datasetParams/.part-00000.crc (stored 0%)\n",
            "  adding: fields/datasetParams/.part-00011.crc (stored 0%)\n",
            "  adding: fields/datasetParams/part-00012 (deflated 27%)\n",
            "  adding: fields/datasetParams/part-00003 (deflated 27%)\n",
            "  adding: fields/datasetParams/part-00035 (deflated 26%)\n",
            "  adding: fields/datasetParams/.part-00009.crc (stored 0%)\n",
            "  adding: fields/datasetParams/part-00015 (deflated 27%)\n",
            "  adding: fields/datasetParams/.part-00026.crc (stored 0%)\n",
            "  adding: fields/datasetParams/.part-00007.crc (stored 0%)\n",
            "  adding: fields/datasetParams/.part-00025.crc (stored 0%)\n",
            "  adding: fields/datasetParams/part-00013 (deflated 26%)\n",
            "  adding: fields/datasetParams/.part-00035.crc (stored 0%)\n",
            "  adding: metadata/ (stored 0%)\n",
            "  adding: metadata/_SUCCESS (stored 0%)\n",
            "  adding: metadata/._SUCCESS.crc (stored 0%)\n",
            "  adding: metadata/part-00000 (deflated 39%)\n",
            "  adding: metadata/.part-00000.crc (stored 0%)\n",
            "  adding: tensorflow (deflated 40%)\n"
          ]
        }
      ],
      "metadata": {
        "colab": {
          "base_uri": "https://localhost:8080/"
        },
        "id": "ioMW1jSrA-wg",
        "outputId": "ad724ab9-d348-49de-f7cb-be0ef1c2d175"
      },
      "execution_count": 37
    },
    {
      "cell_type": "code",
      "source": [],
      "outputs": [],
      "metadata": {
        "id": "gdvS1768P71J"
      },
      "execution_count": 37
    }
  ]
}