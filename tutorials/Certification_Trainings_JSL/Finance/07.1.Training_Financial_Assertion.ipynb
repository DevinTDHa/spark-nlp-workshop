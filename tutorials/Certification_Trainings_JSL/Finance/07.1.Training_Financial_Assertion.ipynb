{
  "cells": [
    {
      "cell_type": "markdown",
      "metadata": {
        "id": "wxZDXLDCXkk_"
      },
      "source": [
        "\n",
        "![JohnSnowLabs](https://nlp.johnsnowlabs.com/assets/images/logo.png)\n",
        "\n",
        "\n",
        "\n"
      ]
    },
    {
      "cell_type": "markdown",
      "metadata": {
        "id": "pZ6sKi8ZX1z4"
      },
      "source": [
        "[![Open In Colab](https://colab.research.google.com/assets/colab-badge.svg)](https://colab.research.google.com/github/JohnSnowLabs/spark-nlp-workshop/blob/master/tutorials/Certification_Trainings_JSL/Finance/07.1.Training_Financial_Assertion.ipynb)"
      ]
    },
    {
      "cell_type": "markdown",
      "metadata": {
        "id": "KLqW6FOnEvov"
      },
      "source": [
        "# Training Finance Assertion\n"
      ]
    },
    {
      "cell_type": "markdown",
      "metadata": {
        "id": "zXItFAZwMzvB"
      },
      "source": [
        "# Installation"
      ]
    },
    {
      "cell_type": "code",
      "execution_count": null,
      "metadata": {
        "id": "ELqzaf32MT6E"
      },
      "outputs": [],
      "source": [
        "# Install the johnsnowlabs library to access Spark-OCR and Spark-NLP for Healthcare, Finance, and Legal.\n",
        "! pip install -q johnsnowlabs "
      ]
    },
    {
      "cell_type": "markdown",
      "source": [
        "## Automatic Installation\n",
        "Using my.johnsnowlabs.com SSO"
      ],
      "metadata": {
        "id": "Jx1h9jVGQ0JQ"
      }
    },
    {
      "cell_type": "code",
      "execution_count": 2,
      "metadata": {
        "id": "jjj6dqPhI6T6"
      },
      "outputs": [],
      "source": [
        "from johnsnowlabs import nlp, finance, viz\n",
        "# nlp.install(force_browser=True)"
      ]
    },
    {
      "cell_type": "markdown",
      "source": [
        "## Manual downloading\n",
        "If you are not registered in my.johnsnowlabs.com, you received a license via e-email or you are using Safari, you may need to do a manual update of the license.\n",
        "\n",
        "- Go to my.johnsnowlabs.com\n",
        "- Download your license\n",
        "- Upload it using the following command"
      ],
      "metadata": {
        "id": "GEM-18ECQ6-8"
      }
    },
    {
      "cell_type": "code",
      "source": [
        "from google.colab import files\n",
        "print('Please Upload your John Snow Labs License using the button below')\n",
        "license_keys = files.upload()"
      ],
      "metadata": {
        "id": "YVSfGvnhQ7ns"
      },
      "execution_count": null,
      "outputs": []
    },
    {
      "cell_type": "markdown",
      "source": [
        "- Install it"
      ],
      "metadata": {
        "id": "d3q4G7FKQ-EJ"
      }
    },
    {
      "cell_type": "code",
      "source": [
        "nlp.install()"
      ],
      "metadata": {
        "id": "SeSwghR6Q_Pb"
      },
      "execution_count": null,
      "outputs": []
    },
    {
      "cell_type": "markdown",
      "metadata": {
        "id": "Yagc89CuM-9k"
      },
      "source": [
        "# Start Spark Session"
      ]
    },
    {
      "cell_type": "code",
      "execution_count": 5,
      "metadata": {
        "colab": {
          "base_uri": "https://localhost:8080/"
        },
        "id": "lQ8-BI-_5QjG",
        "outputId": "c9869b7f-fff3-422b-927b-9e2dba49a356"
      },
      "outputs": [
        {
          "output_type": "stream",
          "name": "stdout",
          "text": [
            "👌 Detected license file /content/spark_nlp_for_healthcare_spark_ocr_6538.json\n",
            "👌 Launched \u001b[92mcpu optimized\u001b[39m session with with: 🚀Spark-NLP==4.2.4, 💊Spark-Healthcare==4.2.4, running on ⚡ PySpark==3.1.2\n"
          ]
        }
      ],
      "source": [
        "spark = nlp.start()"
      ]
    },
    {
      "cell_type": "code",
      "execution_count": 6,
      "metadata": {
        "colab": {
          "base_uri": "https://localhost:8080/",
          "height": 219
        },
        "id": "GlmdmVsK0npI",
        "outputId": "e9bd9738-3fd0-4126-e916-f2345f266f0e"
      },
      "outputs": [
        {
          "output_type": "execute_result",
          "data": {
            "text/plain": [
              "<pyspark.sql.session.SparkSession at 0x7efe4c914520>"
            ],
            "text/html": [
              "\n",
              "            <div>\n",
              "                <p><b>SparkSession - in-memory</b></p>\n",
              "                \n",
              "        <div>\n",
              "            <p><b>SparkContext</b></p>\n",
              "\n",
              "            <p><a href=\"http://4559cd90a750:4040\">Spark UI</a></p>\n",
              "\n",
              "            <dl>\n",
              "              <dt>Version</dt>\n",
              "                <dd><code>v3.1.2</code></dd>\n",
              "              <dt>Master</dt>\n",
              "                <dd><code>local[*]</code></dd>\n",
              "              <dt>AppName</dt>\n",
              "                <dd><code>John-Snow-Labs-Spark-Session 🚀 with Jars for: 🚀Spark-NLP==4.2.4, 💊Spark-Healthcare==4.2.4, running on ⚡ PySpark==3.1.2</code></dd>\n",
              "            </dl>\n",
              "        </div>\n",
              "        \n",
              "            </div>\n",
              "        "
            ]
          },
          "metadata": {},
          "execution_count": 6
        }
      ],
      "source": [
        "spark"
      ]
    },
    {
      "cell_type": "markdown",
      "metadata": {
        "id": "JYBQyxEd0uR0"
      },
      "source": [
        "#Data Prep "
      ]
    },
    {
      "cell_type": "code",
      "execution_count": 7,
      "metadata": {
        "id": "AVBmGFcQ03La"
      },
      "outputs": [],
      "source": [
        "! wget -q https://raw.githubusercontent.com/JohnSnowLabs/spark-nlp-workshop/master/tutorials/Certification_Trainings_JSL/Finance/data/assertion_df.csv"
      ]
    },
    {
      "cell_type": "code",
      "execution_count": 8,
      "metadata": {
        "id": "8iJF_HCw1Lgh"
      },
      "outputs": [],
      "source": [
        "import pandas as pd\n",
        "\n",
        "training_df = pd.read_csv('./assertion_df.csv')"
      ]
    },
    {
      "cell_type": "code",
      "execution_count": 9,
      "metadata": {
        "colab": {
          "base_uri": "https://localhost:8080/"
        },
        "id": "JREBeTzb8ov-",
        "outputId": "20e17fc2-c967-4b73-addc-3f0906a67eff"
      },
      "outputs": [
        {
          "output_type": "stream",
          "name": "stdout",
          "text": [
            "+--------------------+--------------------+--------+-----+---+\n",
            "|                text|              target|   label|start|end|\n",
            "+--------------------+--------------------+--------+-----+---+\n",
            "|CEC ENTERTAINMENT...|CEC ENTERTAINMENT...|negative|    0|  2|\n",
            "|CEC ENTERTAINMENT...|       GEO GROUP INC|positive|    6|  8|\n",
            "|BRAVE ASSET MANAG...|Mondelez Internat...|positive|    6| 10|\n",
            "|BRAVE ASSET MANAG...|BRAVE ASSET MANAG...|positive|    0|  3|\n",
            "|Compound Natural ...|Compound Natural ...|negative|    0|  4|\n",
            "|Compound Natural ...|AMERICAN ELECTRIC...|positive|    9| 13|\n",
            "|Marijuana Co of A...|PVM International...|positive|   10| 14|\n",
            "|Marijuana Co of A...|Marijuana Co of A...|positive|    0|  6|\n",
            "|NORTEK INC is not...|          NORTEK INC|negative|    0|  1|\n",
            "|NORTEK INC is not...|EN2GO INTERNATION...|positive|    6|  8|\n",
            "|QUALCOMM INC/DE i...| CANNAPOWDER , INC .|positive|    8| 11|\n",
            "|QUALCOMM INC/DE i...|     QUALCOMM INC/DE|positive|    0|  1|\n",
            "|TransDigm Group I...| TransDigm Group INC|negative|    0|  2|\n",
            "|TransDigm Group I...|         ABIOMED INC|positive|    9| 10|\n",
            "|Fundrise Income e...|MIDDLETON & CO IN...|positive|    9| 12|\n",
            "|Fundrise Income e...|Fundrise Income e...|negative|    0|  5|\n",
            "|Nexeo Solutions ,...|Nexeo Solutions ,...|negative|    0|  4|\n",
            "|Nexeo Solutions ,...|ARCA biopharma , ...|positive|    8| 12|\n",
            "|Angie's List , In...|        RC-1 , Inc .|positive|   11| 14|\n",
            "|Angie's List , In...|Angie's List , Inc .|negative|    0|  4|\n",
            "+--------------------+--------------------+--------+-----+---+\n",
            "only showing top 20 rows\n",
            "\n"
          ]
        }
      ],
      "source": [
        "training_data = spark.createDataFrame(training_df)\n",
        "training_data.show()"
      ]
    },
    {
      "cell_type": "code",
      "execution_count": 10,
      "metadata": {
        "colab": {
          "base_uri": "https://localhost:8080/"
        },
        "id": "ET8GD3y3-17e",
        "outputId": "4bfd7c3f-ad25-4cb7-f943-67edba3f891e"
      },
      "outputs": [
        {
          "output_type": "stream",
          "name": "stdout",
          "text": [
            "root\n",
            " |-- text: string (nullable = true)\n",
            " |-- target: string (nullable = true)\n",
            " |-- label: string (nullable = true)\n",
            " |-- start: long (nullable = true)\n",
            " |-- end: long (nullable = true)\n",
            "\n"
          ]
        }
      ],
      "source": [
        "training_data.printSchema()"
      ]
    },
    {
      "cell_type": "code",
      "execution_count": 11,
      "metadata": {
        "colab": {
          "base_uri": "https://localhost:8080/"
        },
        "id": "R6xa4jp8Szs0",
        "outputId": "3919d930-af86-4f9f-8210-7722e8f93470"
      },
      "outputs": [
        {
          "output_type": "stream",
          "name": "stdout",
          "text": [
            "CPU times: user 9.62 ms, sys: 2.94 ms, total: 12.6 ms\n",
            "Wall time: 711 ms\n"
          ]
        },
        {
          "output_type": "execute_result",
          "data": {
            "text/plain": [
              "98"
            ]
          },
          "metadata": {},
          "execution_count": 11
        }
      ],
      "source": [
        "%time training_data.count()"
      ]
    },
    {
      "cell_type": "code",
      "execution_count": 12,
      "metadata": {
        "colab": {
          "base_uri": "https://localhost:8080/"
        },
        "id": "fxcHD_Q_-_lD",
        "outputId": "20ad8f60-050b-441d-85ec-1fbeaf18c1f4"
      },
      "outputs": [
        {
          "output_type": "stream",
          "name": "stdout",
          "text": [
            "Training Dataset Count: 71\n",
            "Test Dataset Count: 27\n"
          ]
        }
      ],
      "source": [
        "(train_data, test_data) = training_data.randomSplit([0.7, 0.3], seed = 100)\n",
        "print(\"Training Dataset Count: \" + str(train_data.count()))\n",
        "print(\"Test Dataset Count: \" + str(test_data.count()))"
      ]
    },
    {
      "cell_type": "code",
      "execution_count": 13,
      "metadata": {
        "colab": {
          "base_uri": "https://localhost:8080/"
        },
        "id": "DFN_BuHU84HF",
        "outputId": "3c907301-0416-4364-90cd-c2468f085a1f"
      },
      "outputs": [
        {
          "output_type": "stream",
          "name": "stdout",
          "text": [
            "+--------------------+--------------------+--------+-----+---+\n",
            "|                text|              target|   label|start|end|\n",
            "+--------------------+--------------------+--------+-----+---+\n",
            "|CEC ENTERTAINMENT...|CEC ENTERTAINMENT...|negative|    0|  2|\n",
            "|CEC ENTERTAINMENT...|       GEO GROUP INC|positive|    6|  8|\n",
            "|BRAVE ASSET MANAG...|BRAVE ASSET MANAG...|positive|    0|  3|\n",
            "|BRAVE ASSET MANAG...|Mondelez Internat...|positive|    6| 10|\n",
            "|Compound Natural ...|AMERICAN ELECTRIC...|positive|    9| 13|\n",
            "|NORTEK INC is not...|EN2GO INTERNATION...|positive|    6|  8|\n",
            "|NORTEK INC is not...|          NORTEK INC|negative|    0|  1|\n",
            "|QUALCOMM INC/DE i...| CANNAPOWDER , INC .|positive|    8| 11|\n",
            "|QUALCOMM INC/DE i...|     QUALCOMM INC/DE|positive|    0|  1|\n",
            "|TransDigm Group I...|         ABIOMED INC|positive|    9| 10|\n",
            "|TransDigm Group I...| TransDigm Group INC|negative|    0|  2|\n",
            "|Nexeo Solutions ,...|ARCA biopharma , ...|positive|    8| 12|\n",
            "|Nexeo Solutions ,...|Nexeo Solutions ,...|negative|    0|  4|\n",
            "|SHOE CARNIVAL INC...|     Alliqua , Inc .|positive|    6|  9|\n",
            "|SHOE CARNIVAL INC...|   SHOE CARNIVAL INC|negative|    0|  2|\n",
            "|WACCAMAW BANKSHAR...|HOWLAND CAPITAL M...|positive|    5|  8|\n",
            "|WACCAMAW BANKSHAR...|WACCAMAW BANKSHAR...|positive|    0|  2|\n",
            "|ALEXANDRIA REAL E...|ALEXANDRIA REAL E...|negative|    0|  4|\n",
            "|ATMI INC is eligi...|            ATMI INC|positive|    0|  1|\n",
            "|Artificial Intell...|Artificial Intell...|negative|    0|  5|\n",
            "+--------------------+--------------------+--------+-----+---+\n",
            "only showing top 20 rows\n",
            "\n"
          ]
        }
      ],
      "source": [
        "train_data.show()"
      ]
    },
    {
      "cell_type": "code",
      "execution_count": 14,
      "metadata": {
        "colab": {
          "base_uri": "https://localhost:8080/"
        },
        "id": "qBt7gVbm7DBc",
        "outputId": "1632cbcf-a121-4151-e72d-7a2baa99dc28"
      },
      "outputs": [
        {
          "output_type": "stream",
          "name": "stdout",
          "text": [
            "+--------------------+--------------------+--------+-----+---+\n",
            "|                text|              target|   label|start|end|\n",
            "+--------------------+--------------------+--------+-----+---+\n",
            "|Compound Natural ...|Compound Natural ...|negative|    0|  4|\n",
            "|Marijuana Co of A...|Marijuana Co of A...|positive|    0|  6|\n",
            "|Marijuana Co of A...|PVM International...|positive|   10| 14|\n",
            "|Fundrise Income e...|Fundrise Income e...|negative|    0|  5|\n",
            "|Fundrise Income e...|MIDDLETON & CO IN...|positive|    9| 12|\n",
            "|Angie's List , In...|Angie's List , Inc .|negative|    0|  4|\n",
            "|Angie's List , In...|        RC-1 , Inc .|positive|   11| 14|\n",
            "|ALEXANDRIA REAL E...|            CDEX INC|positive|    9| 10|\n",
            "|ATMI INC is eligi...|NEAH POWER SYSTEM...|positive|    5| 10|\n",
            "|Artificial Intell...| APA OPTICS INC /MN/|positive|   10| 13|\n",
            "|Mountain Capital ...|            COSI INC|positive|   11| 12|\n",
            "|Mountain Capital ...|Mountain Capital ...|negative|    0|  5|\n",
            "|QUAINT OAK BANCOR...|QUAINT OAK BANCOR...|positive|    0|  3|\n",
            "|MGP INGREDIENTS I...|    LAND O LAKES INC|positive|    6|  9|\n",
            "|3AM TECHNOLOGIES ...|3AM TECHNOLOGIES INC|negative|    0|  2|\n",
            "|SURMODICS INC is ...|       SURMODICS INC|positive|    0|  1|\n",
            "|TGC INDUSTRIES IN...|OMNIVISION TECHNO...|positive|    5|  7|\n",
            "|ACURA PHARMACEUTI...|Fig Publishing , ...|positive|    7| 11|\n",
            "|Fundrise Income e...|RBC LIFE SCIENCES...|positive|    9| 14|\n",
            "|AMERICAN CENTURY ...| Charmed Homes Inc .|positive|    9| 12|\n",
            "+--------------------+--------------------+--------+-----+---+\n",
            "only showing top 20 rows\n",
            "\n"
          ]
        }
      ],
      "source": [
        "test_data.show()"
      ]
    },
    {
      "cell_type": "markdown",
      "metadata": {
        "id": "2WZDqlZA_kmb"
      },
      "source": [
        "#Using Bert Embeddings"
      ]
    },
    {
      "cell_type": "code",
      "execution_count": 15,
      "metadata": {
        "colab": {
          "base_uri": "https://localhost:8080/"
        },
        "id": "7qfJh8ap_nI2",
        "outputId": "d5ab0142-4b15-40ee-d863-abad64faa2c6"
      },
      "outputs": [
        {
          "output_type": "stream",
          "name": "stdout",
          "text": [
            "bert_embeddings_sec_bert_base download started this may take some time.\n",
            "Approximate size to download 390.4 MB\n",
            "[OK!]\n"
          ]
        }
      ],
      "source": [
        "bert_embeddings = nlp.BertEmbeddings.pretrained(\"bert_embeddings_sec_bert_base\", \"en\") \\\n",
        "  .setInputCols(\"document\", \"token\") \\\n",
        "  .setOutputCol(\"embeddings\")\\\n",
        "  .setMaxSentenceLength(512)"
      ]
    },
    {
      "cell_type": "code",
      "execution_count": 16,
      "metadata": {
        "id": "Fe0957BT_rcy"
      },
      "outputs": [],
      "source": [
        "document = nlp.DocumentAssembler()\\\n",
        "    .setInputCol(\"text\")\\\n",
        "    .setOutputCol(\"document\")\n",
        "\n",
        "chunk = nlp.Doc2Chunk()\\\n",
        "    .setInputCols(\"document\")\\\n",
        "    .setOutputCol(\"doc_chunk\")\\\n",
        "    .setChunkCol(\"target\")\\\n",
        "    .setStartCol(\"start\")\\\n",
        "    .setStartColByTokenIndex(True)\\\n",
        "    .setFailOnMissing(False)\\\n",
        "    .setLowerCase(False)\n",
        "\n",
        "token = nlp.Tokenizer()\\\n",
        "    .setInputCols(['document'])\\\n",
        "    .setOutputCol('token')\n"
      ]
    },
    {
      "cell_type": "markdown",
      "metadata": {
        "id": "LFTO0PlI9-3e"
      },
      "source": [
        "We save the test data in parquet format to use in `AssertionDLApproach()`. "
      ]
    },
    {
      "cell_type": "code",
      "execution_count": 17,
      "metadata": {
        "id": "M9u4c65G9VaC"
      },
      "outputs": [],
      "source": [
        "assertion_pipeline = nlp.Pipeline(\n",
        "    stages = [\n",
        "    document,\n",
        "    chunk,\n",
        "    token,\n",
        "    bert_embeddings])\n",
        "\n",
        "assertion_test_data = assertion_pipeline.fit(test_data).transform(test_data)"
      ]
    },
    {
      "cell_type": "code",
      "execution_count": 18,
      "metadata": {
        "colab": {
          "base_uri": "https://localhost:8080/"
        },
        "id": "r-UREmtI9Vd3",
        "outputId": "fbba0a1c-456c-4c1d-bf40-e7a86992d42a"
      },
      "outputs": [
        {
          "output_type": "execute_result",
          "data": {
            "text/plain": [
              "['text',\n",
              " 'target',\n",
              " 'label',\n",
              " 'start',\n",
              " 'end',\n",
              " 'document',\n",
              " 'doc_chunk',\n",
              " 'token',\n",
              " 'embeddings']"
            ]
          },
          "metadata": {},
          "execution_count": 18
        }
      ],
      "source": [
        "assertion_test_data.columns"
      ]
    },
    {
      "cell_type": "code",
      "execution_count": 19,
      "metadata": {
        "id": "kBaiXx78BTLT"
      },
      "outputs": [],
      "source": [
        "assertion_test_data.write.mode('overwrite').parquet('test_data.parquet')"
      ]
    },
    {
      "cell_type": "code",
      "execution_count": 20,
      "metadata": {
        "id": "tFhN6evk9ViI"
      },
      "outputs": [],
      "source": [
        "assertion_train_data = assertion_pipeline.fit(training_data).transform(training_data)\n",
        "assertion_train_data.write.mode('overwrite').parquet('train_data.parquet')"
      ]
    },
    {
      "cell_type": "code",
      "execution_count": 21,
      "metadata": {
        "colab": {
          "base_uri": "https://localhost:8080/"
        },
        "id": "BtxnrvcA9VlN",
        "outputId": "0f7c18af-5a12-4354-ed84-05d50eb37058"
      },
      "outputs": [
        {
          "output_type": "execute_result",
          "data": {
            "text/plain": [
              "['text',\n",
              " 'target',\n",
              " 'label',\n",
              " 'start',\n",
              " 'end',\n",
              " 'document',\n",
              " 'doc_chunk',\n",
              " 'token',\n",
              " 'embeddings']"
            ]
          },
          "metadata": {},
          "execution_count": 21
        }
      ],
      "source": [
        "assertion_train_data.columns"
      ]
    },
    {
      "cell_type": "markdown",
      "metadata": {
        "id": "uTishXbut1MS"
      },
      "source": [
        "##Graph setup"
      ]
    },
    {
      "cell_type": "code",
      "execution_count": 22,
      "metadata": {
        "colab": {
          "base_uri": "https://localhost:8080/"
        },
        "id": "1hTawAHemzGn",
        "outputId": "0a7c23f7-6e01-42d5-dc56-da67c64c117a"
      },
      "outputs": [
        {
          "output_type": "stream",
          "name": "stdout",
          "text": [
            "\u001b[2K     \u001b[90m━━━━━━━━━━━━━━━━━━━━━━━━━━━━━━━━━━━━━━━\u001b[0m \u001b[32m489.6/489.6 MB\u001b[0m \u001b[31m3.7 MB/s\u001b[0m eta \u001b[36m0:00:00\u001b[0m\n",
            "\u001b[2K     \u001b[90m━━━━━━━━━━━━━━━━━━━━━━━━━━━━━━━━━━━━━━\u001b[0m \u001b[32m463.1/463.1 KB\u001b[0m \u001b[31m45.1 MB/s\u001b[0m eta \u001b[36m0:00:00\u001b[0m\n",
            "\u001b[2K     \u001b[90m━━━━━━━━━━━━━━━━━━━━━━━━━━━━━━━━━━━━━━━━\u001b[0m \u001b[32m1.3/1.3 MB\u001b[0m \u001b[31m77.2 MB/s\u001b[0m eta \u001b[36m0:00:00\u001b[0m\n",
            "\u001b[2K     \u001b[90m━━━━━━━━━━━━━━━━━━━━━━━━━━━━━━━━━━━━━━━━\u001b[0m \u001b[32m1.1/1.1 MB\u001b[0m \u001b[31m16.7 MB/s\u001b[0m eta \u001b[36m0:00:00\u001b[0m\n",
            "\u001b[?25h"
          ]
        }
      ],
      "source": [
        "! pip install -q tensorflow==2.7.0\n",
        "! pip install -q tensorflow-addons"
      ]
    },
    {
      "cell_type": "markdown",
      "metadata": {
        "id": "0ShZT8BBo4FY"
      },
      "source": [
        "We will use TFGraphBuilder annotator which can be used to create graphs in the model training pipeline. \n",
        "\n",
        "TFGraphBuilder inspects the data and creates the proper graph if a suitable version of TensorFlow (<= 2.7 ) is available. The graph is stored in the defined folder and loaded by the approach."
      ]
    },
    {
      "cell_type": "code",
      "execution_count": 23,
      "metadata": {
        "id": "XhU0L1OXdaLN"
      },
      "outputs": [],
      "source": [
        "graph_folder= \"./tf_graphs\""
      ]
    },
    {
      "cell_type": "code",
      "execution_count": 24,
      "metadata": {
        "id": "miNgoTjio0mL"
      },
      "outputs": [],
      "source": [
        "assertion_graph_builder =  finance.TFGraphBuilder()\\\n",
        "    .setModelName(\"assertion_dl\")\\\n",
        "    .setInputCols([\"sentence\", \"token\", \"embeddings\"]) \\\n",
        "    .setLabelColumn(\"label\")\\\n",
        "    .setGraphFolder(graph_folder)\\\n",
        "    .setGraphFile(\"assertion_graph.pb\")\\\n",
        "    .setMaxSequenceLength(1200)\\\n",
        "    .setHiddenUnitsNumber(25)"
      ]
    },
    {
      "cell_type": "markdown",
      "metadata": {
        "id": "6D0Ng7nMUjJa"
      },
      "source": [
        "**Setting the Scope Window (Target Area) Dynamically in Assertion Status Detection Models**\n",
        "\n",
        "\n",
        "This parameter allows you to train the Assertion Status Models to focus on specific context windows when resolving the status of a NER chunk. The window is in format `[X,Y]` being `X` the number of tokens to consider on the left of the chunk, and `Y` the max number of tokens to consider on the right. Let’s take a look at what different windows mean:\n",
        "\n",
        "\n",
        "*   By default, the window is `[-1,-1]` which means that the Assertion Status will look at all of the tokens in the sentence/document (up to a maximum of tokens set in `setMaxSentLen()` ).\n",
        "*   `[0,0]` means “don’t pay attention to any token except the ner_chunk”, what basically is not considering any context for the Assertion resolution.\n",
        "*   `[9,15]` is what empirically seems to be the best baseline, meaning that we look up to 9 tokens on the left and 15 on the right of the ner chunk to understand the context and resolve the status.\n",
        "\n",
        "\n",
        "Check this [Scope Window Tuning Assertion Status Detection notebook](https://github.com/JohnSnowLabs/spark-nlp-workshop/blob/master/tutorials/Certification_Trainings/Healthcare/2.1.Scope_window_tuning_assertion_status_detection.ipynb)  that illustrates the effect of the different windows and how to properly fine-tune your AssertionDLModels to get the best of them.\n",
        "\n",
        "In our case, the best Scope Window is around [10,10]"
      ]
    },
    {
      "cell_type": "code",
      "execution_count": 25,
      "metadata": {
        "id": "BQxGbYks91go"
      },
      "outputs": [],
      "source": [
        "scope_window = [50, 50]\n",
        "\n",
        "assertionStatus = finance.AssertionDLApproach()\\\n",
        "    .setLabelCol(\"label\")\\\n",
        "    .setInputCols(\"document\", \"doc_chunk\", \"embeddings\")\\\n",
        "    .setOutputCol(\"assertion\")\\\n",
        "    .setBatchSize(128)\\\n",
        "    .setLearningRate(0.001)\\\n",
        "    .setEpochs(2)\\\n",
        "    .setStartCol(\"start\")\\\n",
        "    .setEndCol(\"end\")\\\n",
        "    .setMaxSentLen(1200)\\\n",
        "    .setEnableOutputLogs(True)\\\n",
        "    .setOutputLogsPath('training_logs/')\\\n",
        "    .setGraphFolder(graph_folder)\\\n",
        "    .setGraphFile(f\"{graph_folder}/assertion_graph.pb\")\\\n",
        "    .setTestDataset(path=\"test_data.parquet\", read_as='SPARK', options={'format': 'parquet'})\\\n",
        "    .setScopeWindow(scope_window)\n",
        "    #.setValidationSplit(0.2)\\    \n",
        "    #.setDropout(0.1)\\    "
      ]
    },
    {
      "cell_type": "code",
      "execution_count": 26,
      "metadata": {
        "id": "T2MZLeCYATrS"
      },
      "outputs": [],
      "source": [
        "clinical_assertion_pipeline = nlp.Pipeline(\n",
        "    stages = [\n",
        "    #document,\n",
        "    #chunk,\n",
        "    #token,\n",
        "    #embeddings,\n",
        "    assertion_graph_builder,\n",
        "    assertionStatus])"
      ]
    },
    {
      "cell_type": "code",
      "execution_count": 27,
      "metadata": {
        "colab": {
          "base_uri": "https://localhost:8080/"
        },
        "id": "yIvnuaQP91j8",
        "outputId": "5cf66aee-06c9-473d-9b89-99369bf71500"
      },
      "outputs": [
        {
          "output_type": "stream",
          "name": "stdout",
          "text": [
            "root\n",
            " |-- text: string (nullable = true)\n",
            " |-- target: string (nullable = true)\n",
            " |-- label: string (nullable = true)\n",
            " |-- start: long (nullable = true)\n",
            " |-- end: long (nullable = true)\n",
            "\n"
          ]
        }
      ],
      "source": [
        "training_data.printSchema()"
      ]
    },
    {
      "cell_type": "code",
      "execution_count": 28,
      "metadata": {
        "id": "ueJz0aiJ_7l4"
      },
      "outputs": [],
      "source": [
        "assertion_train_data = spark.read.parquet('train_data.parquet')"
      ]
    },
    {
      "cell_type": "code",
      "execution_count": 29,
      "metadata": {
        "colab": {
          "base_uri": "https://localhost:8080/"
        },
        "id": "sXpFjULc8sjA",
        "outputId": "84672eac-1292-4000-8035-bbe93c6620e7"
      },
      "outputs": [
        {
          "output_type": "stream",
          "name": "stdout",
          "text": [
            "+--------+-----+\n",
            "|   label|count|\n",
            "+--------+-----+\n",
            "|positive|   71|\n",
            "|negative|   27|\n",
            "+--------+-----+\n",
            "\n"
          ]
        }
      ],
      "source": [
        "assertion_train_data.groupBy('label').count().show()"
      ]
    },
    {
      "cell_type": "code",
      "execution_count": 30,
      "metadata": {
        "colab": {
          "base_uri": "https://localhost:8080/"
        },
        "id": "j1NCZ89T_7ol",
        "outputId": "74f73d55-959a-4bef-ad9e-71e3a43ee4dd"
      },
      "outputs": [
        {
          "output_type": "stream",
          "name": "stdout",
          "text": [
            "TF Graph Builder configuration:\n",
            "Model name: assertion_dl\n",
            "Graph folder: ./tf_graphs\n",
            "Graph file name: assertion_graph.pb\n",
            "Build params: {'n_classes': 2, 'feat_size': 768, 'max_seq_len': 1200, 'n_hidden': 25}\n"
          ]
        },
        {
          "output_type": "stream",
          "name": "stderr",
          "text": [
            "WARNING:tensorflow:From /usr/local/lib/python3.8/dist-packages/tensorflow/python/compat/v2_compat.py:111: disable_resource_variables (from tensorflow.python.ops.variable_scope) is deprecated and will be removed in a future version.\n",
            "Instructions for updating:\n",
            "non-resource variables are not supported in the long term\n"
          ]
        },
        {
          "output_type": "stream",
          "name": "stdout",
          "text": [
            "Device mapping: no known devices.\n"
          ]
        },
        {
          "output_type": "stream",
          "name": "stderr",
          "text": [
            "WARNING:tensorflow:From /usr/local/lib/python3.8/dist-packages/sparknlp_jsl/_tf_graph_builders/tf2contrib/rnn.py:229: bidirectional_dynamic_rnn (from tensorflow.python.ops.rnn) is deprecated and will be removed in a future version.\n",
            "Instructions for updating:\n",
            "Please use `keras.layers.Bidirectional(keras.layers.RNN(cell))`, which is equivalent to this API\n",
            "WARNING:tensorflow:From /usr/local/lib/python3.8/dist-packages/tensorflow/python/ops/rnn.py:441: dynamic_rnn (from tensorflow.python.ops.rnn) is deprecated and will be removed in a future version.\n",
            "Instructions for updating:\n",
            "Please use `keras.layers.RNN(cell)`, which is equivalent to this API\n",
            "WARNING:tensorflow:From /usr/local/lib/python3.8/dist-packages/tensorflow/python/keras/layers/legacy_rnn/rnn_cell_impl.py:766: calling Zeros.__init__ (from tensorflow.python.ops.init_ops) with dtype is deprecated and will be removed in a future version.\n",
            "Instructions for updating:\n",
            "Call initializer instance with the dtype argument instead of passing it to the constructor\n"
          ]
        },
        {
          "output_type": "stream",
          "name": "stdout",
          "text": [
            "Device mapping: no known devices.\n",
            "assertion_dl graph exported to ./tf_graphs/assertion_graph.pb\n",
            "CPU times: user 7.89 s, sys: 4.41 s, total: 12.3 s\n",
            "Wall time: 31.4 s\n"
          ]
        }
      ],
      "source": [
        "%%time\n",
        "assertion_model = clinical_assertion_pipeline.fit(assertion_train_data)"
      ]
    },
    {
      "cell_type": "markdown",
      "metadata": {
        "id": "30SmcTiSpnWa"
      },
      "source": [
        "Checking the results saved in the log file"
      ]
    },
    {
      "cell_type": "code",
      "execution_count": 31,
      "metadata": {
        "colab": {
          "base_uri": "https://localhost:8080/"
        },
        "id": "kOiu1vuspKut",
        "outputId": "4a9cc705-6e57-4009-c3c0-aa0723b12c7b"
      },
      "outputs": [
        {
          "output_type": "execute_result",
          "data": {
            "text/plain": [
              "['AssertionDLApproach_446dc685ec20.log']"
            ]
          },
          "metadata": {},
          "execution_count": 31
        }
      ],
      "source": [
        "import os\n",
        "\n",
        "log_files = os.listdir(\"./training_logs\")\n",
        "log_files"
      ]
    },
    {
      "cell_type": "code",
      "execution_count": 32,
      "metadata": {
        "colab": {
          "base_uri": "https://localhost:8080/"
        },
        "id": "CcQV0-fIrJHz",
        "outputId": "454d8c8f-2f51-47ee-9f9b-a5e611c0f76e"
      },
      "outputs": [
        {
          "output_type": "stream",
          "name": "stdout",
          "text": [
            "Name of the selected graph: ./tf_graphs/assertion_graph.pb\n",
            "Training started, trainExamples: 98\n",
            "\n",
            "\n",
            "Epoch: 0 started, learning rate: 0.001, dataset size: 98\n",
            "Done, 9.453201544 total training loss: 0.60737157, avg training loss: 0.60737157, batches: 1\n",
            "Quality on test dataset: \n",
            "time to finish evaluation: 2.36s\n",
            "Total test loss: 0.6385\tAvg test loss: 0.6385\n",
            "label\t tp\t fp\t fn\t prec\t rec\t f1\n",
            "positive\t 18\t 9\t 0\t 0.6666667\t 1.0\t 0.8\n",
            "negative\t 0\t 0\t 9\t 0.0\t 0.0\t 0.0\n",
            "tp: 18 fp: 9 fn: 9 labels: 2\n",
            "Macro-average\t prec: 0.33333334, rec: 0.5, f1: 0.4\n",
            "Micro-average\t prec: 0.6666667, rec: 0.6666667, f1: 0.6666667\n",
            "\n",
            "\n",
            "Epoch: 1 started, learning rate: 9.5E-4, dataset size: 98\n",
            "Done, 7.89849719 total training loss: 0.5855972, avg training loss: 0.5855972, batches: 1\n",
            "Quality on test dataset: \n",
            "time to finish evaluation: 2.13s\n",
            "Total test loss: 0.6431\tAvg test loss: 0.6431\n",
            "label\t tp\t fp\t fn\t prec\t rec\t f1\n",
            "positive\t 18\t 9\t 0\t 0.6666667\t 1.0\t 0.8\n",
            "negative\t 0\t 0\t 9\t 0.0\t 0.0\t 0.0\n",
            "tp: 18 fp: 9 fn: 9 labels: 2\n",
            "Macro-average\t prec: 0.33333334, rec: 0.5, f1: 0.4\n",
            "Micro-average\t prec: 0.6666667, rec: 0.6666667, f1: 0.6666667\n",
            "\n",
            "\n",
            "\n"
          ]
        }
      ],
      "source": [
        "with open(\"./training_logs/\"+log_files[0]) as log_file:\n",
        "    print(log_file.read())"
      ]
    },
    {
      "cell_type": "code",
      "execution_count": 33,
      "metadata": {
        "id": "bgcG00nT91nn"
      },
      "outputs": [],
      "source": [
        "assertion_test_data = spark.read.parquet('test_data.parquet')"
      ]
    },
    {
      "cell_type": "code",
      "execution_count": 34,
      "metadata": {
        "colab": {
          "base_uri": "https://localhost:8080/"
        },
        "id": "-k2WrFkRyQyP",
        "outputId": "1e0faa54-0849-4cb5-f105-56456575820c"
      },
      "outputs": [
        {
          "output_type": "stream",
          "name": "stdout",
          "text": [
            "+--------+----------+\n",
            "|   label|    result|\n",
            "+--------+----------+\n",
            "|negative|[positive]|\n",
            "|positive|[positive]|\n",
            "|positive|[positive]|\n",
            "|negative|[positive]|\n",
            "|positive|[positive]|\n",
            "|negative|[positive]|\n",
            "|positive|[positive]|\n",
            "|positive|[positive]|\n",
            "|positive|[positive]|\n",
            "|positive|[positive]|\n",
            "|negative|[positive]|\n",
            "|negative|[positive]|\n",
            "|positive|[positive]|\n",
            "|positive|[positive]|\n",
            "|negative|[positive]|\n",
            "|positive|[positive]|\n",
            "|negative|[positive]|\n",
            "|positive|[positive]|\n",
            "|positive|[positive]|\n",
            "|negative|[positive]|\n",
            "+--------+----------+\n",
            "only showing top 20 rows\n",
            "\n"
          ]
        }
      ],
      "source": [
        "preds = assertion_model.transform(assertion_test_data).select('label','assertion.result')\n",
        "\n",
        "preds.show()"
      ]
    },
    {
      "cell_type": "code",
      "execution_count": 35,
      "metadata": {
        "id": "4yI73lwG2xk5"
      },
      "outputs": [],
      "source": [
        "preds_df = preds.toPandas()"
      ]
    },
    {
      "cell_type": "code",
      "execution_count": 36,
      "metadata": {
        "colab": {
          "base_uri": "https://localhost:8080/",
          "height": 896
        },
        "id": "yRXZFGlQ3Z2U",
        "outputId": "af17b9b6-9a0f-4eb5-8015-3d966d000a92"
      },
      "outputs": [
        {
          "output_type": "execute_result",
          "data": {
            "text/plain": [
              "       label    result\n",
              "0   negative  positive\n",
              "1   positive  positive\n",
              "2   positive  positive\n",
              "3   negative  positive\n",
              "4   positive  positive\n",
              "5   negative  positive\n",
              "6   positive  positive\n",
              "7   positive  positive\n",
              "8   positive  positive\n",
              "9   positive  positive\n",
              "10  negative  positive\n",
              "11  negative  positive\n",
              "12  positive  positive\n",
              "13  positive  positive\n",
              "14  negative  positive\n",
              "15  positive  positive\n",
              "16  negative  positive\n",
              "17  positive  positive\n",
              "18  positive  positive\n",
              "19  negative  positive\n",
              "20  positive  positive\n",
              "21  positive  positive\n",
              "22  positive  positive\n",
              "23  negative  positive\n",
              "24  positive  positive\n",
              "25  positive  positive\n",
              "26  positive  positive"
            ],
            "text/html": [
              "\n",
              "  <div id=\"df-695036e8-9607-497f-b2ac-f1e220e9bdd7\">\n",
              "    <div class=\"colab-df-container\">\n",
              "      <div>\n",
              "<style scoped>\n",
              "    .dataframe tbody tr th:only-of-type {\n",
              "        vertical-align: middle;\n",
              "    }\n",
              "\n",
              "    .dataframe tbody tr th {\n",
              "        vertical-align: top;\n",
              "    }\n",
              "\n",
              "    .dataframe thead th {\n",
              "        text-align: right;\n",
              "    }\n",
              "</style>\n",
              "<table border=\"1\" class=\"dataframe\">\n",
              "  <thead>\n",
              "    <tr style=\"text-align: right;\">\n",
              "      <th></th>\n",
              "      <th>label</th>\n",
              "      <th>result</th>\n",
              "    </tr>\n",
              "  </thead>\n",
              "  <tbody>\n",
              "    <tr>\n",
              "      <th>0</th>\n",
              "      <td>negative</td>\n",
              "      <td>positive</td>\n",
              "    </tr>\n",
              "    <tr>\n",
              "      <th>1</th>\n",
              "      <td>positive</td>\n",
              "      <td>positive</td>\n",
              "    </tr>\n",
              "    <tr>\n",
              "      <th>2</th>\n",
              "      <td>positive</td>\n",
              "      <td>positive</td>\n",
              "    </tr>\n",
              "    <tr>\n",
              "      <th>3</th>\n",
              "      <td>negative</td>\n",
              "      <td>positive</td>\n",
              "    </tr>\n",
              "    <tr>\n",
              "      <th>4</th>\n",
              "      <td>positive</td>\n",
              "      <td>positive</td>\n",
              "    </tr>\n",
              "    <tr>\n",
              "      <th>5</th>\n",
              "      <td>negative</td>\n",
              "      <td>positive</td>\n",
              "    </tr>\n",
              "    <tr>\n",
              "      <th>6</th>\n",
              "      <td>positive</td>\n",
              "      <td>positive</td>\n",
              "    </tr>\n",
              "    <tr>\n",
              "      <th>7</th>\n",
              "      <td>positive</td>\n",
              "      <td>positive</td>\n",
              "    </tr>\n",
              "    <tr>\n",
              "      <th>8</th>\n",
              "      <td>positive</td>\n",
              "      <td>positive</td>\n",
              "    </tr>\n",
              "    <tr>\n",
              "      <th>9</th>\n",
              "      <td>positive</td>\n",
              "      <td>positive</td>\n",
              "    </tr>\n",
              "    <tr>\n",
              "      <th>10</th>\n",
              "      <td>negative</td>\n",
              "      <td>positive</td>\n",
              "    </tr>\n",
              "    <tr>\n",
              "      <th>11</th>\n",
              "      <td>negative</td>\n",
              "      <td>positive</td>\n",
              "    </tr>\n",
              "    <tr>\n",
              "      <th>12</th>\n",
              "      <td>positive</td>\n",
              "      <td>positive</td>\n",
              "    </tr>\n",
              "    <tr>\n",
              "      <th>13</th>\n",
              "      <td>positive</td>\n",
              "      <td>positive</td>\n",
              "    </tr>\n",
              "    <tr>\n",
              "      <th>14</th>\n",
              "      <td>negative</td>\n",
              "      <td>positive</td>\n",
              "    </tr>\n",
              "    <tr>\n",
              "      <th>15</th>\n",
              "      <td>positive</td>\n",
              "      <td>positive</td>\n",
              "    </tr>\n",
              "    <tr>\n",
              "      <th>16</th>\n",
              "      <td>negative</td>\n",
              "      <td>positive</td>\n",
              "    </tr>\n",
              "    <tr>\n",
              "      <th>17</th>\n",
              "      <td>positive</td>\n",
              "      <td>positive</td>\n",
              "    </tr>\n",
              "    <tr>\n",
              "      <th>18</th>\n",
              "      <td>positive</td>\n",
              "      <td>positive</td>\n",
              "    </tr>\n",
              "    <tr>\n",
              "      <th>19</th>\n",
              "      <td>negative</td>\n",
              "      <td>positive</td>\n",
              "    </tr>\n",
              "    <tr>\n",
              "      <th>20</th>\n",
              "      <td>positive</td>\n",
              "      <td>positive</td>\n",
              "    </tr>\n",
              "    <tr>\n",
              "      <th>21</th>\n",
              "      <td>positive</td>\n",
              "      <td>positive</td>\n",
              "    </tr>\n",
              "    <tr>\n",
              "      <th>22</th>\n",
              "      <td>positive</td>\n",
              "      <td>positive</td>\n",
              "    </tr>\n",
              "    <tr>\n",
              "      <th>23</th>\n",
              "      <td>negative</td>\n",
              "      <td>positive</td>\n",
              "    </tr>\n",
              "    <tr>\n",
              "      <th>24</th>\n",
              "      <td>positive</td>\n",
              "      <td>positive</td>\n",
              "    </tr>\n",
              "    <tr>\n",
              "      <th>25</th>\n",
              "      <td>positive</td>\n",
              "      <td>positive</td>\n",
              "    </tr>\n",
              "    <tr>\n",
              "      <th>26</th>\n",
              "      <td>positive</td>\n",
              "      <td>positive</td>\n",
              "    </tr>\n",
              "  </tbody>\n",
              "</table>\n",
              "</div>\n",
              "      <button class=\"colab-df-convert\" onclick=\"convertToInteractive('df-695036e8-9607-497f-b2ac-f1e220e9bdd7')\"\n",
              "              title=\"Convert this dataframe to an interactive table.\"\n",
              "              style=\"display:none;\">\n",
              "        \n",
              "  <svg xmlns=\"http://www.w3.org/2000/svg\" height=\"24px\"viewBox=\"0 0 24 24\"\n",
              "       width=\"24px\">\n",
              "    <path d=\"M0 0h24v24H0V0z\" fill=\"none\"/>\n",
              "    <path d=\"M18.56 5.44l.94 2.06.94-2.06 2.06-.94-2.06-.94-.94-2.06-.94 2.06-2.06.94zm-11 1L8.5 8.5l.94-2.06 2.06-.94-2.06-.94L8.5 2.5l-.94 2.06-2.06.94zm10 10l.94 2.06.94-2.06 2.06-.94-2.06-.94-.94-2.06-.94 2.06-2.06.94z\"/><path d=\"M17.41 7.96l-1.37-1.37c-.4-.4-.92-.59-1.43-.59-.52 0-1.04.2-1.43.59L10.3 9.45l-7.72 7.72c-.78.78-.78 2.05 0 2.83L4 21.41c.39.39.9.59 1.41.59.51 0 1.02-.2 1.41-.59l7.78-7.78 2.81-2.81c.8-.78.8-2.07 0-2.86zM5.41 20L4 18.59l7.72-7.72 1.47 1.35L5.41 20z\"/>\n",
              "  </svg>\n",
              "      </button>\n",
              "      \n",
              "  <style>\n",
              "    .colab-df-container {\n",
              "      display:flex;\n",
              "      flex-wrap:wrap;\n",
              "      gap: 12px;\n",
              "    }\n",
              "\n",
              "    .colab-df-convert {\n",
              "      background-color: #E8F0FE;\n",
              "      border: none;\n",
              "      border-radius: 50%;\n",
              "      cursor: pointer;\n",
              "      display: none;\n",
              "      fill: #1967D2;\n",
              "      height: 32px;\n",
              "      padding: 0 0 0 0;\n",
              "      width: 32px;\n",
              "    }\n",
              "\n",
              "    .colab-df-convert:hover {\n",
              "      background-color: #E2EBFA;\n",
              "      box-shadow: 0px 1px 2px rgba(60, 64, 67, 0.3), 0px 1px 3px 1px rgba(60, 64, 67, 0.15);\n",
              "      fill: #174EA6;\n",
              "    }\n",
              "\n",
              "    [theme=dark] .colab-df-convert {\n",
              "      background-color: #3B4455;\n",
              "      fill: #D2E3FC;\n",
              "    }\n",
              "\n",
              "    [theme=dark] .colab-df-convert:hover {\n",
              "      background-color: #434B5C;\n",
              "      box-shadow: 0px 1px 3px 1px rgba(0, 0, 0, 0.15);\n",
              "      filter: drop-shadow(0px 1px 2px rgba(0, 0, 0, 0.3));\n",
              "      fill: #FFFFFF;\n",
              "    }\n",
              "  </style>\n",
              "\n",
              "      <script>\n",
              "        const buttonEl =\n",
              "          document.querySelector('#df-695036e8-9607-497f-b2ac-f1e220e9bdd7 button.colab-df-convert');\n",
              "        buttonEl.style.display =\n",
              "          google.colab.kernel.accessAllowed ? 'block' : 'none';\n",
              "\n",
              "        async function convertToInteractive(key) {\n",
              "          const element = document.querySelector('#df-695036e8-9607-497f-b2ac-f1e220e9bdd7');\n",
              "          const dataTable =\n",
              "            await google.colab.kernel.invokeFunction('convertToInteractive',\n",
              "                                                     [key], {});\n",
              "          if (!dataTable) return;\n",
              "\n",
              "          const docLinkHtml = 'Like what you see? Visit the ' +\n",
              "            '<a target=\"_blank\" href=https://colab.research.google.com/notebooks/data_table.ipynb>data table notebook</a>'\n",
              "            + ' to learn more about interactive tables.';\n",
              "          element.innerHTML = '';\n",
              "          dataTable['output_type'] = 'display_data';\n",
              "          await google.colab.output.renderOutput(dataTable, element);\n",
              "          const docLink = document.createElement('div');\n",
              "          docLink.innerHTML = docLinkHtml;\n",
              "          element.appendChild(docLink);\n",
              "        }\n",
              "      </script>\n",
              "    </div>\n",
              "  </div>\n",
              "  "
            ]
          },
          "metadata": {},
          "execution_count": 36
        }
      ],
      "source": [
        "preds_df[\"result\"] = preds_df[\"result\"].apply(lambda x: x[0] if len(x) else pd.NA)\n",
        "preds_df.dropna(inplace=True)\n",
        "\n",
        "preds_df"
      ]
    },
    {
      "cell_type": "code",
      "execution_count": 37,
      "metadata": {
        "colab": {
          "base_uri": "https://localhost:8080/"
        },
        "id": "1hb1kyGAE0Gn",
        "outputId": "61d43f46-fa10-46a1-cba3-aabd30625536"
      },
      "outputs": [
        {
          "output_type": "stream",
          "name": "stdout",
          "text": [
            "              precision    recall  f1-score   support\n",
            "\n",
            "    negative       0.00      0.00      0.00         9\n",
            "    positive       0.67      1.00      0.80        18\n",
            "\n",
            "    accuracy                           0.67        27\n",
            "   macro avg       0.33      0.50      0.40        27\n",
            "weighted avg       0.44      0.67      0.53        27\n",
            "\n"
          ]
        }
      ],
      "source": [
        "# We are going to use sklearn to evalute the results on test dataset\n",
        "from sklearn.metrics import classification_report\n",
        "\n",
        "print (classification_report( preds_df['label'], preds_df['result']))"
      ]
    },
    {
      "cell_type": "markdown",
      "metadata": {
        "id": "WuJ5YZ9sXU13"
      },
      "source": [
        "###Saving the trained model"
      ]
    },
    {
      "cell_type": "code",
      "execution_count": 38,
      "metadata": {
        "colab": {
          "base_uri": "https://localhost:8080/"
        },
        "id": "KBcoOwvwXV8p",
        "outputId": "0bcd422c-1f55-4b59-877e-e8f54e130fa9"
      },
      "outputs": [
        {
          "output_type": "execute_result",
          "data": {
            "text/plain": [
              "[TFGraphBuilderModel_6503a26064f0, FINANCE-ASSERTION_DL_a2eb108d02f3]"
            ]
          },
          "metadata": {},
          "execution_count": 38
        }
      ],
      "source": [
        "assertion_model.stages"
      ]
    },
    {
      "cell_type": "code",
      "execution_count": null,
      "metadata": {
        "id": "ioMW1jSrA-wg"
      },
      "outputs": [],
      "source": [
        "# Save a Spark NLP model\n",
        "assertion_model.stages[-1].write().overwrite().save('Assertion')\n",
        "\n",
        "# cd into saved dir and zip\n",
        "! cd /content/Assertion ; zip -r /content/Assertion.zip *"
      ]
    }
  ],
  "metadata": {
    "accelerator": "TPU",
    "colab": {
      "machine_shape": "hm",
      "provenance": []
    },
    "kernelspec": {
      "display_name": "Python 3",
      "name": "python3"
    },
    "language_info": {
      "name": "python"
    }
  },
  "nbformat": 4,
  "nbformat_minor": 0
}