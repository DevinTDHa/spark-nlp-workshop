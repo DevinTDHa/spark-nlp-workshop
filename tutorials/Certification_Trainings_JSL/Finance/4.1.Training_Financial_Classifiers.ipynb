{
  "cells": [
    {
      "cell_type": "markdown",
      "id": "wxZDXLDCXkk_",
      "metadata": {
        "id": "wxZDXLDCXkk_"
      },
      "source": [
        "\n",
        "![JohnSnowLabs](https://nlp.johnsnowlabs.com/assets/images/logo.png)\n",
        "\n",
        "\n",
        "\n"
      ]
    },
    {
      "attachments": {},
      "cell_type": "markdown",
      "id": "pZ6sKi8ZX1z4",
      "metadata": {
        "id": "pZ6sKi8ZX1z4"
      },
      "source": [
        "[![Open In Colab](https://colab.research.google.com/assets/colab-badge.svg)](https://colab.research.google.com/github/JohnSnowLabs/spark-nlp-workshop/blob/master/tutorials/Certification_Trainings_JSL/Finance/4.1.Training_Financial_Classifiers.ipynb)"
      ]
    },
    {
      "cell_type": "markdown",
      "id": "KLqW6FOnEvov",
      "metadata": {
        "id": "KLqW6FOnEvov"
      },
      "source": [
        "# Train Domain-specific Multiclass and Multilabel classifiers"
      ]
    },
    {
      "cell_type": "markdown",
      "id": "77d2eefc",
      "metadata": {
        "id": "77d2eefc"
      },
      "source": [
        "In this notebook, you will learn how to use Spark NLP and Finance NLP to train custom multiclass and multilabel classification models."
      ]
    },
    {
      "attachments": {},
      "cell_type": "markdown",
      "id": "PcsTZJmZu7CQ",
      "metadata": {
        "id": "PcsTZJmZu7CQ"
      },
      "source": [
        "## Colab Setup"
      ]
    },
    {
      "cell_type": "markdown",
      "id": "7060d88f",
      "metadata": {
        "id": "7060d88f"
      },
      "source": [
        "First, you need to setup the environment to be able to use the licensed package. If you are not running in Google Colab, please check the documentation [here](https://nlp.johnsnowlabs.com/docs/en/licensed_install)."
      ]
    },
    {
      "cell_type": "code",
      "execution_count": 1,
      "id": "4914b00f-abd2-4449-9a4f-737f317317be",
      "metadata": {
        "colab": {
          "base_uri": "https://localhost:8080/"
        },
        "id": "4914b00f-abd2-4449-9a4f-737f317317be",
        "outputId": "1a131438-11bd-46fa-c160-9b825e36c416"
      },
      "outputs": [
        {
          "name": "stdout",
          "output_type": "stream",
          "text": [
            "\u001b[2K     \u001b[90m━━━━━━━━━━━━━━━━━━━━━━━━━━━━━━━━━━━━━━━━\u001b[0m \u001b[32m74.2/74.2 KB\u001b[0m \u001b[31m3.1 MB/s\u001b[0m eta \u001b[36m0:00:00\u001b[0m\n",
            "\u001b[2K     \u001b[90m━━━━━━━━━━━━━━━━━━━━━━━━━━━━━━━━━━━━━━━\u001b[0m \u001b[32m212.4/212.4 MB\u001b[0m \u001b[31m4.5 MB/s\u001b[0m eta \u001b[36m0:00:00\u001b[0m\n",
            "\u001b[?25h  Preparing metadata (setup.py) ... \u001b[?25l\u001b[?25hdone\n",
            "\u001b[2K     \u001b[90m━━━━━━━━━━━━━━━━━━━━━━━━━━━━━━━━━━━━━━\u001b[0m \u001b[32m570.6/570.6 KB\u001b[0m \u001b[31m34.7 MB/s\u001b[0m eta \u001b[36m0:00:00\u001b[0m\n",
            "\u001b[2K     \u001b[90m━━━━━━━━━━━━━━━━━━━━━━━━━━━━━━━━━━━━━━\u001b[0m \u001b[32m448.4/448.4 KB\u001b[0m \u001b[31m31.0 MB/s\u001b[0m eta \u001b[36m0:00:00\u001b[0m\n",
            "\u001b[2K     \u001b[90m━━━━━━━━━━━━━━━━━━━━━━━━━━━━━━━━━━━━━━━━\u001b[0m \u001b[32m95.4/95.4 KB\u001b[0m \u001b[31m10.1 MB/s\u001b[0m eta \u001b[36m0:00:00\u001b[0m\n",
            "\u001b[2K     \u001b[90m━━━━━━━━━━━━━━━━━━━━━━━━━━━━━━━━━━━━━━\u001b[0m \u001b[32m198.6/198.6 KB\u001b[0m \u001b[31m20.2 MB/s\u001b[0m eta \u001b[36m0:00:00\u001b[0m\n",
            "\u001b[2K     \u001b[90m━━━━━━━━━━━━━━━━━━━━━━━━━━━━━━━━━━━━━━━━\u001b[0m \u001b[32m66.9/66.9 KB\u001b[0m \u001b[31m6.4 MB/s\u001b[0m eta \u001b[36m0:00:00\u001b[0m\n",
            "\u001b[2K     \u001b[90m━━━━━━━━━━━━━━━━━━━━━━━━━━━━━━━━━━━━━━━━\u001b[0m \u001b[32m82.3/82.3 KB\u001b[0m \u001b[31m9.1 MB/s\u001b[0m eta \u001b[36m0:00:00\u001b[0m\n",
            "\u001b[?25h  Preparing metadata (setup.py) ... \u001b[?25l\u001b[?25hdone\n",
            "\u001b[2K     \u001b[90m━━━━━━━━━━━━━━━━━━━━━━━━━━━━━━━━━━━━━━━━\u001b[0m \u001b[32m1.6/1.6 MB\u001b[0m \u001b[31m56.5 MB/s\u001b[0m eta \u001b[36m0:00:00\u001b[0m\n",
            "\u001b[?25h  Building wheel for pyspark (setup.py) ... \u001b[?25l\u001b[?25hdone\n",
            "  Building wheel for databricks-cli (setup.py) ... \u001b[?25l\u001b[?25hdone\n"
          ]
        }
      ],
      "source": [
        "# Install the johnsnowlabs library to access Spark-OCR and Spark-NLP for Healthcare, Finance, and Legal.\n",
        "! pip install -q johnsnowlabs "
      ]
    },
    {
      "cell_type": "code",
      "execution_count": 2,
      "id": "fe96e8d6-c2a3-4464-b78e-90e83f743823",
      "metadata": {
        "colab": {
          "base_uri": "https://localhost:8080/",
          "height": 275
        },
        "id": "fe96e8d6-c2a3-4464-b78e-90e83f743823",
        "outputId": "ec6c8e47-d579-4a44-9de8-e4fb350aefcb"
      },
      "outputs": [
        {
          "data": {
            "application/javascript": "\n        var a = document.createElement(\"a\");\n        a.id=\"auth-btn\"\n        a.setAttribute(\"target\", \"_blank\");\n        a.href=\"https://my.johnsnowlabs.com/oauth/authorize/?client_id=sI4MKSmLHOX2Pg7XhM3McJS2oyKG5PHcp0BlANEW&response_type=code&code_challenge_method=S256&code_challenge=wsRdxuHDX-oP5K3JX7xpaHbpB-7lPbQR3ZOe0DX-m3g&redirect_uri=https%3A%2F%2Fke2fuz66s1-496ff2e9c6d22116-8000-colab.googleusercontent.com%2Flogin\";\n        a.style=\"padding:15px 20px;background-color:#0298d9;border-radius:7px;color:white;text-decoration:none;\"\n        a.innerText=\"Click here to Authorize on My.Johnsnowlabs.com\"\n        document.body.appendChild(a);\n        document.body.style = \"text-align:center;padding-top:15px;\"\n        a.click()\n      ",
            "text/plain": [
              "<IPython.core.display.Javascript object>"
            ]
          },
          "metadata": {},
          "output_type": "display_data"
        },
        {
          "name": "stderr",
          "output_type": "stream",
          "text": [
            "127.0.0.1 - - [09/Jan/2023 11:58:11] \"GET /login?code=gROpfMFB2Vutcg3Og0gsx1FUAskfDr HTTP/1.1\" 200 -\n"
          ]
        },
        {
          "data": {
            "application/javascript": "document.body.removeChild(a);",
            "text/plain": [
              "<IPython.core.display.Javascript object>"
            ]
          },
          "metadata": {},
          "output_type": "display_data"
        },
        {
          "name": "stdout",
          "output_type": "stream",
          "text": [
            "Downloading license...\n",
            "Licenses extracted successfully\n",
            "📋 Stored John Snow Labs License in /root/.johnsnowlabs/licenses/license_number_0_for_Spark-Healthcare_Spark-OCR.json\n",
            "👷 Setting up  John Snow Labs home in /root/.johnsnowlabs, this might take a few minutes.\n",
            "Downloading 🐍+🚀 Python Library spark_nlp-4.2.4-py2.py3-none-any.whl\n",
            "Downloading 🐍+💊 Python Library spark_nlp_jsl-4.2.4-py3-none-any.whl\n",
            "Downloading 🫘+🚀 Java Library spark-nlp-assembly-4.2.4.jar\n",
            "Downloading 🫘+💊 Java Library spark-nlp-jsl-4.2.4.jar\n",
            "🙆 JSL Home setup in /root/.johnsnowlabs\n",
            "Installing /root/.johnsnowlabs/py_installs/spark_nlp_jsl-4.2.4-py3-none-any.whl to /usr/bin/python3\n",
            "Running: /usr/bin/python3 -m pip install /root/.johnsnowlabs/py_installs/spark_nlp_jsl-4.2.4-py3-none-any.whl\n",
            "Installed 1 products:\n",
            "💊 Spark-Healthcare==4.2.4 installed! ✅ Heal the planet with NLP! \n"
          ]
        }
      ],
      "source": [
        "from johnsnowlabs import nlp\n",
        "# Log in to your John Snow Labs account to login and get your license keys\n",
        "nlp.install(force_browser=True)"
      ]
    },
    {
      "cell_type": "markdown",
      "id": "200cff03",
      "metadata": {
        "id": "200cff03"
      },
      "source": [
        "## Introduction"
      ]
    },
    {
      "cell_type": "markdown",
      "id": "76787ebe",
      "metadata": {
        "id": "76787ebe"
      },
      "source": [
        "Although John Snow Labs provides mnay pretrained models that cover different applications in the financial domain, there are still problems that are specific to companies or practitioners. For such cases, it is possible to train a new custom model using Finance NLP annotators:\n",
        "\n",
        "- `ClassifierDLApproach`: Trains a multilabel model (predicts one class out of a predefined set of classes)\n",
        "- `MultiClassifierDLApproach`: Trains a mutilabel model (predicts one or more classes for each document)"
      ]
    },
    {
      "cell_type": "markdown",
      "id": "MulDEC2j4ly3",
      "metadata": {
        "id": "MulDEC2j4ly3"
      },
      "source": [
        "## Training Multilabel models with `MultiClassifierDLApproach`"
      ]
    },
    {
      "cell_type": "markdown",
      "id": "fb29d70a",
      "metadata": {
        "id": "fb29d70a"
      },
      "source": [
        "The input to are Sentence Embeddings such as the state-of-the-art [UniversalSentenceEncoder](https://nlp.johnsnowlabs.com/docs/en/transformers#universalsentenceencoder), [BertSentenceEmbeddings](https://nlp.johnsnowlabs.com/docs/en/transformers#bertsentenceembeddings) or [SentenceEmbeddings](https://nlp.johnsnowlabs.com/docs/en/annotators#sentenceembeddings).\n",
        "\n",
        "To train a custom model, you need labeled data with at least the columns\n",
        "\n",
        "```\n",
        "| TEXT | LABELS (list) |\n",
        "```"
      ]
    },
    {
      "cell_type": "code",
      "execution_count": 3,
      "id": "fdd20cec",
      "metadata": {
        "colab": {
          "base_uri": "https://localhost:8080/"
        },
        "id": "fdd20cec",
        "outputId": "db4724cf-d15e-47af-8439-c8ab0f600696"
      },
      "outputs": [
        {
          "name": "stdout",
          "output_type": "stream",
          "text": [
            "👌 Launched \u001b[92mcpu optimized\u001b[39m session with with: 🚀Spark-NLP==4.2.4, 💊Spark-Healthcare==4.2.4, running on ⚡ PySpark==3.1.2\n"
          ]
        }
      ],
      "source": [
        "from johnsnowlabs import nlp, finance\n",
        "# Automatically load license data and start a session with all jars user has access to\n",
        "spark = nlp.start()"
      ]
    },
    {
      "cell_type": "markdown",
      "id": "BhKlxMBWH9-Z",
      "metadata": {
        "id": "BhKlxMBWH9-Z"
      },
      "source": [
        "### Loading the data"
      ]
    },
    {
      "cell_type": "code",
      "execution_count": 4,
      "id": "chcpskuvMK8Y",
      "metadata": {
        "id": "chcpskuvMK8Y"
      },
      "outputs": [],
      "source": [
        "! wget -q https://raw.githubusercontent.com/JohnSnowLabs/spark-nlp-workshop/master/tutorials/Certification_Trainings_JSL/Finance/data/finance_data.csv"
      ]
    },
    {
      "cell_type": "code",
      "execution_count": 5,
      "id": "gaRulasEKZK3",
      "metadata": {
        "colab": {
          "base_uri": "https://localhost:8080/"
        },
        "id": "gaRulasEKZK3",
        "outputId": "5549c20a-60e0-4f6e-c1a2-51750e29c90d"
      },
      "outputs": [
        {
          "data": {
            "text/plain": [
              "(27527, 2)"
            ]
          },
          "execution_count": 5,
          "metadata": {},
          "output_type": "execute_result"
        }
      ],
      "source": [
        "import pandas as pd\n",
        "df = pd.read_csv('./finance_data.csv')\n",
        "df['label'] = df['label'].apply(eval)\n",
        "print(f\"Shape of the full dataset: {df.shape}\")"
      ]
    },
    {
      "cell_type": "markdown",
      "id": "e8UsfeLIUh0h",
      "metadata": {
        "id": "e8UsfeLIUh0h"
      },
      "source": [
        "> We will use a sample from this dataset to avoid making the training process faster (to illustrate how to perform them). Use the full dataset if you want to experiment with it and achieve more realistic results. \n",
        ">\n",
        "> The sample has size of 500 observations only, please keep in mind that this will impact the accuracy and generalization capabilities of the model. Since the dataset is smaller now, we use 90% of it to train the model and the other 10% for testing."
      ]
    },
    {
      "cell_type": "code",
      "execution_count": 6,
      "id": "bUFO8usqKt2Z",
      "metadata": {
        "id": "bUFO8usqKt2Z"
      },
      "outputs": [],
      "source": [
        "data = spark.createDataFrame(df)\n",
        "\n",
        "# If you have a single dataset, then split it or else you can load the test dataset the same way that you load the train data.\n",
        "train, test = data.limit(500).randomSplit([0.9, 0.1], seed=42)"
      ]
    },
    {
      "cell_type": "code",
      "execution_count": 7,
      "id": "bowhz89ZbN1C",
      "metadata": {
        "colab": {
          "base_uri": "https://localhost:8080/"
        },
        "id": "bowhz89ZbN1C",
        "outputId": "0f6593f3-8922-4161-a2fc-4235b23c6b5c"
      },
      "outputs": [
        {
          "name": "stdout",
          "output_type": "stream",
          "text": [
            "+--------------------------------------------------+-----------------------------------+\n",
            "|                                         provision|                              label|\n",
            "+--------------------------------------------------+-----------------------------------+\n",
            "|(a) Seller, the Agent, each Managing Agent, eac...|                      [assignments]|\n",
            "|(a)  The provisions of this Agreement shall be ...|              [assigns, successors]|\n",
            "|(a) THIS AGREEMENT AND ANY CLAIM, CONTROVERSY, ...|[governing laws, entire agreements]|\n",
            "|(a) This Agreement may be executed by one or mo...|                     [counterparts]|\n",
            "|All Bank Expenses (including reasonable attorne...|                         [expenses]|\n",
            "|All agreements, representations and warranties ...|                         [survival]|\n",
            "|All communications hereunder will be in writing...|                          [notices]|\n",
            "|All covenants, agreements, representations and ...|                         [survival]|\n",
            "|All covenants, agreements, representations and ...|                         [survival]|\n",
            "|All demands, notices and communications hereund...|                          [notices]|\n",
            "|All headings and subdivisions of this Agreement...|                     [severability]|\n",
            "|All indemnities set forth herein including, wit...|                         [survival]|\n",
            "|All issues and questions concerning the constru...|                   [governing laws]|\n",
            "|All notices and communications that are require...|                          [notices]|\n",
            "|All notices and other communications given or m...|                          [notices]|\n",
            "|All notices and other communications given or m...|                          [notices]|\n",
            "|All notices and other communications hereunder ...|                          [notices]|\n",
            "|All notices and other communications hereunder ...|                          [notices]|\n",
            "|All notices and other communications hereunder ...|                          [notices]|\n",
            "|All notices and other communications provided f...|                          [notices]|\n",
            "+--------------------------------------------------+-----------------------------------+\n",
            "only showing top 20 rows\n",
            "\n"
          ]
        }
      ],
      "source": [
        "train.show(truncate=50)"
      ]
    },
    {
      "cell_type": "code",
      "execution_count": 8,
      "id": "RZ0xy9hpebLe",
      "metadata": {
        "colab": {
          "base_uri": "https://localhost:8080/"
        },
        "id": "RZ0xy9hpebLe",
        "outputId": "60024a7c-3795-4a77-fda1-5b2379759d6c"
      },
      "outputs": [
        {
          "name": "stdout",
          "output_type": "stream",
          "text": [
            "+--------------------+-----+\n",
            "|               label|count|\n",
            "+--------------------+-----+\n",
            "|      [counterparts]|    6|\n",
            "|        [amendments]|    5|\n",
            "| [entire agreements]|    5|\n",
            "|      [severability]|    3|\n",
            "|          [survival]|    3|\n",
            "|[assigns, success...|    3|\n",
            "|           [waivers]|    2|\n",
            "|      [terminations]|    2|\n",
            "|[representations,...|    2|\n",
            "|           [notices]|    1|\n",
            "|        [warranties]|    1|\n",
            "|       [assignments]|    1|\n",
            "|    [governing laws]|    1|\n",
            "|[governing laws, ...|    1|\n",
            "|          [expenses]|    1|\n",
            "|        [successors]|    1|\n",
            "|[amendments, enti...|    1|\n",
            "+--------------------+-----+\n",
            "\n"
          ]
        }
      ],
      "source": [
        "from pyspark.sql.functions import col\n",
        "\n",
        "test.groupBy(\"label\").count().orderBy(col(\"count\").desc()).show()"
      ]
    },
    {
      "cell_type": "markdown",
      "id": "78sjKvMKcHdn",
      "metadata": {
        "id": "78sjKvMKcHdn"
      },
      "source": [
        "### Train With Universal Encoder"
      ]
    },
    {
      "cell_type": "markdown",
      "id": "682d6c49",
      "metadata": {
        "id": "682d6c49"
      },
      "source": [
        "Universal Encoder is a state-of-the-art architecture to create vector representations of text. We already have a pretrained model that can be used instead of training both embeddings and the classifier (but it could also be done). \n",
        "\n",
        "The pretrained model was trained and optimized for greater-than-word length text, such as sentences, phrases or short paragraphs. It is trained on a variety of data sources and a variety of tasks with the aim of dynamically accommodating a wide variety of natural language understanding tasks. The input is variable length English text and the output is a 512 dimensional vector."
      ]
    },
    {
      "cell_type": "code",
      "execution_count": 9,
      "id": "oFl9orR5LrUu",
      "metadata": {
        "colab": {
          "base_uri": "https://localhost:8080/"
        },
        "id": "oFl9orR5LrUu",
        "outputId": "fb667c32-6cef-462f-8f3a-6fac102770b7"
      },
      "outputs": [
        {
          "name": "stdout",
          "output_type": "stream",
          "text": [
            "tfhub_use download started this may take some time.\n",
            "Approximate size to download 923.7 MB\n",
            "[OK!]\n"
          ]
        }
      ],
      "source": [
        "document_assembler = (\n",
        "    nlp.DocumentAssembler()\n",
        "    .setInputCol(\"provision\")\n",
        "    .setOutputCol(\"document\")\n",
        "    .setCleanupMode(\"shrink\")\n",
        ")\n",
        "\n",
        "embeddings = (\n",
        "    nlp.UniversalSentenceEncoder.pretrained()\n",
        "    .setInputCols(\"document\")\n",
        "    .setOutputCol(\"sentence_embeddings\")\n",
        ")\n",
        "\n",
        "classifierdl = (\n",
        "    nlp.MultiClassifierDLApproach()\n",
        "    .setInputCols([\"sentence_embeddings\"])\n",
        "    .setOutputCol(\"class\")\n",
        "    .setLabelColumn(\"label\")\n",
        "    .setMaxEpochs(30)\n",
        "    .setEnableOutputLogs(True)\n",
        "    .setOutputLogsPath(\"multilabel_use\")\n",
        "    .setLr(0.001)\n",
        "    .setBatchSize(4)\n",
        ")\n",
        "\n",
        "clf_pipeline = nlp.Pipeline(stages=[document_assembler, embeddings, classifierdl])"
      ]
    },
    {
      "cell_type": "code",
      "execution_count": 10,
      "id": "8kcgVr07MUss",
      "metadata": {
        "colab": {
          "base_uri": "https://localhost:8080/"
        },
        "id": "8kcgVr07MUss",
        "outputId": "a827eaef-ed2e-4528-f245-03ca57a32930"
      },
      "outputs": [
        {
          "name": "stdout",
          "output_type": "stream",
          "text": [
            "CPU times: user 440 ms, sys: 60.4 ms, total: 501 ms\n",
            "Wall time: 1min 19s\n"
          ]
        }
      ],
      "source": [
        "%%time\n",
        "clf_pipelineModel = clf_pipeline.fit(train)"
      ]
    },
    {
      "cell_type": "code",
      "execution_count": 11,
      "id": "p88hMraHOac9",
      "metadata": {
        "colab": {
          "base_uri": "https://localhost:8080/"
        },
        "id": "p88hMraHOac9",
        "outputId": "a4d73fee-5d3f-404e-bfbd-1b7a6f5292b9"
      },
      "outputs": [
        {
          "name": "stdout",
          "output_type": "stream",
          "text": [
            "Training started - epochs: 30 - learning_rate: 0.001 - batch_size: 4 - training_examples: 461 - classes: 15\n",
            "Epoch 0/30 - 4.11s - loss: 0.30427498 - acc: 0.925797 - batches: 116\n",
            "Epoch 1/30 - 1.44s - loss: 0.20737702 - acc: 0.94260854 - batches: 116\n",
            "Epoch 2/30 - 1.41s - loss: 0.15418288 - acc: 0.9563765 - batches: 116\n",
            "Epoch 3/30 - 1.42s - loss: 0.12557246 - acc: 0.9627533 - batches: 116\n",
            "Epoch 4/30 - 1.39s - loss: 0.1082967 - acc: 0.9679704 - batches: 116\n",
            "Epoch 5/30 - 1.41s - loss: 0.09582114 - acc: 0.97304296 - batches: 116\n",
            "Epoch 6/30 - 1.44s - loss: 0.08615956 - acc: 0.97782564 - batches: 116\n",
            "Epoch 7/30 - 1.40s - loss: 0.07847145 - acc: 0.9794198 - batches: 116\n",
            "Epoch 8/30 - 1.40s - loss: 0.07229716 - acc: 0.98217356 - batches: 116\n",
            "Epoch 9/30 - 1.38s - loss: 0.06728321 - acc: 0.98449224 - batches: 116\n",
            "Epoch 10/30 - 1.38s - loss: 0.06313381 - acc: 0.9860863 - batches: 116\n",
            "Epoch 11/30 - 1.39s - loss: 0.059632715 - acc: 0.9878254 - batches: 116\n",
            "Epoch 12/30 - 1.39s - loss: 0.056623098 - acc: 0.98898476 - batches: 116\n",
            "Epoch 13/30 - 1.39s - loss: 0.05399523 - acc: 0.9892747 - batches: 116\n",
            "Epoch 14/30 - 1.47s - loss: 0.05166279 - acc: 0.98927474 - batches: 116\n",
            "Epoch 15/30 - 1.51s - loss: 0.049568973 - acc: 0.9899993 - batches: 116\n",
            "Epoch 16/30 - 1.40s - loss: 0.04767035 - acc: 0.9910139 - batches: 116\n",
            "Epoch 17/30 - 1.39s - loss: 0.045936704 - acc: 0.99173856 - batches: 116\n",
            "Epoch 18/30 - 1.37s - loss: 0.044342965 - acc: 0.99289787 - batches: 116\n",
            "Epoch 19/30 - 1.39s - loss: 0.042869773 - acc: 0.99347764 - batches: 116\n",
            "Epoch 20/30 - 1.38s - loss: 0.041501816 - acc: 0.99376744 - batches: 116\n",
            "Epoch 21/30 - 1.38s - loss: 0.040226407 - acc: 0.994637 - batches: 116\n",
            "Epoch 22/30 - 1.37s - loss: 0.03903228 - acc: 0.9955067 - batches: 116\n",
            "Epoch 23/30 - 1.38s - loss: 0.03791101 - acc: 0.99579656 - batches: 116\n",
            "Epoch 24/30 - 1.35s - loss: 0.036855273 - acc: 0.9963763 - batches: 116\n",
            "Epoch 25/30 - 1.34s - loss: 0.035859533 - acc: 0.99666613 - batches: 116\n",
            "Epoch 26/30 - 1.33s - loss: 0.03491593 - acc: 0.99681103 - batches: 116\n",
            "Epoch 27/30 - 1.36s - loss: 0.03402166 - acc: 0.99724585 - batches: 116\n",
            "Epoch 28/30 - 1.37s - loss: 0.033171542 - acc: 0.9975357 - batches: 116\n",
            "Epoch 29/30 - 1.32s - loss: 0.03236334 - acc: 0.99768066 - batches: 116\n",
            "\n"
          ]
        }
      ],
      "source": [
        "import os\n",
        "log_file_name = os.listdir(\"multilabel_use\")[0]\n",
        "\n",
        "with open(\"multilabel_use/\"+log_file_name, \"r\") as log_file :\n",
        "    print(log_file.read())"
      ]
    },
    {
      "cell_type": "markdown",
      "id": "13458e93",
      "metadata": {
        "id": "13458e93"
      },
      "source": [
        "#### Test the trained model"
      ]
    },
    {
      "cell_type": "code",
      "execution_count": 12,
      "id": "cwf0OM2Oy6Hd",
      "metadata": {
        "id": "cwf0OM2Oy6Hd"
      },
      "outputs": [],
      "source": [
        "preds = clf_pipelineModel.transform(test)"
      ]
    },
    {
      "cell_type": "code",
      "execution_count": 13,
      "id": "jUKamU-50kZi",
      "metadata": {
        "colab": {
          "base_uri": "https://localhost:8080/",
          "height": 206
        },
        "id": "jUKamU-50kZi",
        "outputId": "062987cc-1af0-4e52-e677-0c27669c2087"
      },
      "outputs": [
        {
          "data": {
            "text/html": [
              "\n",
              "  <div id=\"df-6676a19b-3a4b-4ce0-bfbf-3519d3384962\">\n",
              "    <div class=\"colab-df-container\">\n",
              "      <div>\n",
              "<style scoped>\n",
              "    .dataframe tbody tr th:only-of-type {\n",
              "        vertical-align: middle;\n",
              "    }\n",
              "\n",
              "    .dataframe tbody tr th {\n",
              "        vertical-align: top;\n",
              "    }\n",
              "\n",
              "    .dataframe thead th {\n",
              "        text-align: right;\n",
              "    }\n",
              "</style>\n",
              "<table border=\"1\" class=\"dataframe\">\n",
              "  <thead>\n",
              "    <tr style=\"text-align: right;\">\n",
              "      <th></th>\n",
              "      <th>label</th>\n",
              "      <th>provision</th>\n",
              "      <th>result</th>\n",
              "    </tr>\n",
              "  </thead>\n",
              "  <tbody>\n",
              "    <tr>\n",
              "      <th>0</th>\n",
              "      <td>[survival]</td>\n",
              "      <td>All agreements, statements, representations an...</td>\n",
              "      <td>[representations, warranties]</td>\n",
              "    </tr>\n",
              "    <tr>\n",
              "      <th>1</th>\n",
              "      <td>[survival]</td>\n",
              "      <td>All covenants of the Company contained in this...</td>\n",
              "      <td>[representations, warranties, terminations]</td>\n",
              "    </tr>\n",
              "    <tr>\n",
              "      <th>2</th>\n",
              "      <td>[survival]</td>\n",
              "      <td>All representations, warranties, covenants and...</td>\n",
              "      <td>[survival]</td>\n",
              "    </tr>\n",
              "    <tr>\n",
              "      <th>3</th>\n",
              "      <td>[notices]</td>\n",
              "      <td>Any notice required or permitted by this Agree...</td>\n",
              "      <td>[notices]</td>\n",
              "    </tr>\n",
              "    <tr>\n",
              "      <th>4</th>\n",
              "      <td>[waivers]</td>\n",
              "      <td>Each Canadian Loan Party acknowledges receipt ...</td>\n",
              "      <td>[]</td>\n",
              "    </tr>\n",
              "  </tbody>\n",
              "</table>\n",
              "</div>\n",
              "      <button class=\"colab-df-convert\" onclick=\"convertToInteractive('df-6676a19b-3a4b-4ce0-bfbf-3519d3384962')\"\n",
              "              title=\"Convert this dataframe to an interactive table.\"\n",
              "              style=\"display:none;\">\n",
              "        \n",
              "  <svg xmlns=\"http://www.w3.org/2000/svg\" height=\"24px\"viewBox=\"0 0 24 24\"\n",
              "       width=\"24px\">\n",
              "    <path d=\"M0 0h24v24H0V0z\" fill=\"none\"/>\n",
              "    <path d=\"M18.56 5.44l.94 2.06.94-2.06 2.06-.94-2.06-.94-.94-2.06-.94 2.06-2.06.94zm-11 1L8.5 8.5l.94-2.06 2.06-.94-2.06-.94L8.5 2.5l-.94 2.06-2.06.94zm10 10l.94 2.06.94-2.06 2.06-.94-2.06-.94-.94-2.06-.94 2.06-2.06.94z\"/><path d=\"M17.41 7.96l-1.37-1.37c-.4-.4-.92-.59-1.43-.59-.52 0-1.04.2-1.43.59L10.3 9.45l-7.72 7.72c-.78.78-.78 2.05 0 2.83L4 21.41c.39.39.9.59 1.41.59.51 0 1.02-.2 1.41-.59l7.78-7.78 2.81-2.81c.8-.78.8-2.07 0-2.86zM5.41 20L4 18.59l7.72-7.72 1.47 1.35L5.41 20z\"/>\n",
              "  </svg>\n",
              "      </button>\n",
              "      \n",
              "  <style>\n",
              "    .colab-df-container {\n",
              "      display:flex;\n",
              "      flex-wrap:wrap;\n",
              "      gap: 12px;\n",
              "    }\n",
              "\n",
              "    .colab-df-convert {\n",
              "      background-color: #E8F0FE;\n",
              "      border: none;\n",
              "      border-radius: 50%;\n",
              "      cursor: pointer;\n",
              "      display: none;\n",
              "      fill: #1967D2;\n",
              "      height: 32px;\n",
              "      padding: 0 0 0 0;\n",
              "      width: 32px;\n",
              "    }\n",
              "\n",
              "    .colab-df-convert:hover {\n",
              "      background-color: #E2EBFA;\n",
              "      box-shadow: 0px 1px 2px rgba(60, 64, 67, 0.3), 0px 1px 3px 1px rgba(60, 64, 67, 0.15);\n",
              "      fill: #174EA6;\n",
              "    }\n",
              "\n",
              "    [theme=dark] .colab-df-convert {\n",
              "      background-color: #3B4455;\n",
              "      fill: #D2E3FC;\n",
              "    }\n",
              "\n",
              "    [theme=dark] .colab-df-convert:hover {\n",
              "      background-color: #434B5C;\n",
              "      box-shadow: 0px 1px 3px 1px rgba(0, 0, 0, 0.15);\n",
              "      filter: drop-shadow(0px 1px 2px rgba(0, 0, 0, 0.3));\n",
              "      fill: #FFFFFF;\n",
              "    }\n",
              "  </style>\n",
              "\n",
              "      <script>\n",
              "        const buttonEl =\n",
              "          document.querySelector('#df-6676a19b-3a4b-4ce0-bfbf-3519d3384962 button.colab-df-convert');\n",
              "        buttonEl.style.display =\n",
              "          google.colab.kernel.accessAllowed ? 'block' : 'none';\n",
              "\n",
              "        async function convertToInteractive(key) {\n",
              "          const element = document.querySelector('#df-6676a19b-3a4b-4ce0-bfbf-3519d3384962');\n",
              "          const dataTable =\n",
              "            await google.colab.kernel.invokeFunction('convertToInteractive',\n",
              "                                                     [key], {});\n",
              "          if (!dataTable) return;\n",
              "\n",
              "          const docLinkHtml = 'Like what you see? Visit the ' +\n",
              "            '<a target=\"_blank\" href=https://colab.research.google.com/notebooks/data_table.ipynb>data table notebook</a>'\n",
              "            + ' to learn more about interactive tables.';\n",
              "          element.innerHTML = '';\n",
              "          dataTable['output_type'] = 'display_data';\n",
              "          await google.colab.output.renderOutput(dataTable, element);\n",
              "          const docLink = document.createElement('div');\n",
              "          docLink.innerHTML = docLinkHtml;\n",
              "          element.appendChild(docLink);\n",
              "        }\n",
              "      </script>\n",
              "    </div>\n",
              "  </div>\n",
              "  "
            ],
            "text/plain": [
              "        label                                          provision  \\\n",
              "0  [survival]  All agreements, statements, representations an...   \n",
              "1  [survival]  All covenants of the Company contained in this...   \n",
              "2  [survival]  All representations, warranties, covenants and...   \n",
              "3   [notices]  Any notice required or permitted by this Agree...   \n",
              "4   [waivers]  Each Canadian Loan Party acknowledges receipt ...   \n",
              "\n",
              "                                        result  \n",
              "0                [representations, warranties]  \n",
              "1  [representations, warranties, terminations]  \n",
              "2                                   [survival]  \n",
              "3                                    [notices]  \n",
              "4                                           []  "
            ]
          },
          "execution_count": 13,
          "metadata": {},
          "output_type": "execute_result"
        }
      ],
      "source": [
        "preds_df = preds.select(\"label\", \"provision\", \"class.result\").toPandas()\n",
        "preds_df.head()"
      ]
    },
    {
      "cell_type": "markdown",
      "id": "d994c459",
      "metadata": {
        "id": "d994c459"
      },
      "source": [
        "To compare predictions with ground truth values, we will use the `MultiLabelBinarizer` class from the scikit-learn package. It is able to transform the predicted list of classes into a multilabel format that it can process, which is needed to use the classification report or other metrics from the same package.  "
      ]
    },
    {
      "cell_type": "code",
      "execution_count": 15,
      "id": "uWVj5TsSbmRE",
      "metadata": {
        "colab": {
          "base_uri": "https://localhost:8080/"
        },
        "id": "uWVj5TsSbmRE",
        "outputId": "f342c290-91f8-4b13-e508-105b7759cabd"
      },
      "outputs": [
        {
          "name": "stdout",
          "output_type": "stream",
          "text": [
            "Classification report: \n",
            "               precision    recall  f1-score   support\n",
            "\n",
            "           0       0.60      0.50      0.55         6\n",
            "           1       0.00      0.00      0.00         1\n",
            "           2       0.75      1.00      0.86         3\n",
            "           3       0.83      0.83      0.83         6\n",
            "           4       1.00      0.86      0.92         7\n",
            "           5       1.00      1.00      1.00         1\n",
            "           6       1.00      1.00      1.00         2\n",
            "           7       1.00      1.00      1.00         1\n",
            "           8       0.40      1.00      0.57         2\n",
            "           9       1.00      1.00      1.00         3\n",
            "          10       0.80      1.00      0.89         4\n",
            "          11       0.50      0.33      0.40         3\n",
            "          12       0.00      0.00      0.00         2\n",
            "          13       0.00      0.00      0.00         2\n",
            "          14       0.40      0.67      0.50         3\n",
            "\n",
            "   micro avg       0.70      0.72      0.71        46\n",
            "   macro avg       0.62      0.68      0.63        46\n",
            "weighted avg       0.69      0.72      0.69        46\n",
            " samples avg       0.64      0.67      0.65        46\n",
            "\n",
            "F1 micro averaging: 0.7096774193548387\n",
            "ROC:  0.8457086391869001\n"
          ]
        }
      ],
      "source": [
        "from sklearn.preprocessing import MultiLabelBinarizer\n",
        "from sklearn.metrics import classification_report\n",
        "from sklearn.metrics import f1_score\n",
        "from sklearn.metrics import roc_auc_score\n",
        "\n",
        "mlb = MultiLabelBinarizer()\n",
        "\n",
        "y_true = mlb.fit_transform(preds_df['label'])\n",
        "y_pred = mlb.transform(preds_df['result'])\n",
        "\n",
        "\n",
        "print(\"Classification report: \\n\", (classification_report(y_true, y_pred)))\n",
        "print(\"F1 micro averaging:\",(f1_score(y_true, y_pred, average='micro')))\n",
        "print(\"ROC: \",(roc_auc_score(y_true, y_pred, average=\"micro\")))\n"
      ]
    },
    {
      "cell_type": "markdown",
      "id": "jWhU1pMUay0I",
      "metadata": {
        "id": "jWhU1pMUay0I"
      },
      "source": [
        "### Train with Bert Embeddings"
      ]
    },
    {
      "cell_type": "markdown",
      "id": "bHVFY_i4H5Gh",
      "metadata": {
        "id": "bHVFY_i4H5Gh"
      },
      "source": [
        "We do not have have any specific Financial Sentence Embeddings, but we can use Financial Bert Embeddings and then average them. "
      ]
    },
    {
      "cell_type": "code",
      "execution_count": 16,
      "id": "8PG4NNyQdBnG",
      "metadata": {
        "colab": {
          "base_uri": "https://localhost:8080/"
        },
        "id": "8PG4NNyQdBnG",
        "outputId": "3b5daafb-9555-4eaa-fc49-0f8e2d91d161"
      },
      "outputs": [
        {
          "name": "stdout",
          "output_type": "stream",
          "text": [
            "bert_embeddings_sec_bert_base download started this may take some time.\n",
            "Approximate size to download 390.4 MB\n",
            "[OK!]\n"
          ]
        }
      ],
      "source": [
        "embeddings = (\n",
        "    nlp.BertEmbeddings.pretrained(\"bert_embeddings_sec_bert_base\", \"en\")\n",
        "    .setInputCols([\"document\", \"token\"])\n",
        "    .setOutputCol(\"embeddings\")\n",
        ")"
      ]
    },
    {
      "cell_type": "code",
      "execution_count": 17,
      "id": "zdiCyuc3dBnJ",
      "metadata": {
        "id": "zdiCyuc3dBnJ"
      },
      "outputs": [],
      "source": [
        "document_assembler = (\n",
        "    nlp.DocumentAssembler().setInputCol(\"provision\").setOutputCol(\"document\")\n",
        ")\n",
        "\n",
        "tokenizer = nlp.Tokenizer().setInputCols([\"document\"]).setOutputCol(\"token\")\n",
        "\n",
        "embeddingsSentence = (\n",
        "    nlp.SentenceEmbeddings()\n",
        "    .setInputCols([\"document\", \"embeddings\"])\n",
        "    .setOutputCol(\"sentence_embeddings\")\n",
        "    .setPoolingStrategy(\"AVERAGE\")\n",
        ")\n",
        "\n",
        "classifierdl = (\n",
        "    nlp.MultiClassifierDLApproach()\n",
        "    .setInputCols([\"sentence_embeddings\"])\n",
        "    .setOutputCol(\"class\")\n",
        "    .setLabelColumn(\"label\")\n",
        "    .setMaxEpochs(8)\n",
        "    .setEnableOutputLogs(True)\n",
        "    .setOutputLogsPath(\"multilabel_bert\")\n",
        "    .setLr(0.001)\n",
        "    .setBatchSize(4)\n",
        ")\n",
        "\n",
        "clf_pipeline = nlp.Pipeline(\n",
        "    stages=[document_assembler, tokenizer, embeddings, embeddingsSentence, classifierdl]\n",
        ")"
      ]
    },
    {
      "cell_type": "code",
      "execution_count": 18,
      "id": "7fxOmkTNdBnK",
      "metadata": {
        "colab": {
          "base_uri": "https://localhost:8080/"
        },
        "id": "7fxOmkTNdBnK",
        "outputId": "de5f3c91-89ac-4a9b-d5ef-242e8ec74a2c"
      },
      "outputs": [
        {
          "name": "stdout",
          "output_type": "stream",
          "text": [
            "CPU times: user 1.8 s, sys: 246 ms, total: 2.04 s\n",
            "Wall time: 4min 52s\n"
          ]
        }
      ],
      "source": [
        "%%time\n",
        "clf_pipelineModel = clf_pipeline.fit(train)"
      ]
    },
    {
      "cell_type": "markdown",
      "id": "9dc66ec8",
      "metadata": {
        "id": "9dc66ec8"
      },
      "source": [
        "#### Testing the trained model"
      ]
    },
    {
      "cell_type": "code",
      "execution_count": 19,
      "id": "Y-YfOWrudBnM",
      "metadata": {
        "id": "Y-YfOWrudBnM"
      },
      "outputs": [],
      "source": [
        "preds = clf_pipelineModel.transform(test)"
      ]
    },
    {
      "cell_type": "code",
      "execution_count": 20,
      "id": "9VfIUz3IdBnN",
      "metadata": {
        "colab": {
          "base_uri": "https://localhost:8080/",
          "height": 206
        },
        "id": "9VfIUz3IdBnN",
        "outputId": "38f95534-60f6-4f2e-b22d-87dae9ab593f"
      },
      "outputs": [
        {
          "data": {
            "text/html": [
              "\n",
              "  <div id=\"df-fae21b8f-915f-401b-b359-8b38d3d29c1c\">\n",
              "    <div class=\"colab-df-container\">\n",
              "      <div>\n",
              "<style scoped>\n",
              "    .dataframe tbody tr th:only-of-type {\n",
              "        vertical-align: middle;\n",
              "    }\n",
              "\n",
              "    .dataframe tbody tr th {\n",
              "        vertical-align: top;\n",
              "    }\n",
              "\n",
              "    .dataframe thead th {\n",
              "        text-align: right;\n",
              "    }\n",
              "</style>\n",
              "<table border=\"1\" class=\"dataframe\">\n",
              "  <thead>\n",
              "    <tr style=\"text-align: right;\">\n",
              "      <th></th>\n",
              "      <th>provision</th>\n",
              "      <th>label</th>\n",
              "      <th>result</th>\n",
              "    </tr>\n",
              "  </thead>\n",
              "  <tbody>\n",
              "    <tr>\n",
              "      <th>0</th>\n",
              "      <td>All agreements, statements, representations an...</td>\n",
              "      <td>[survival]</td>\n",
              "      <td>[representations, warranties]</td>\n",
              "    </tr>\n",
              "    <tr>\n",
              "      <th>1</th>\n",
              "      <td>All covenants of the Company contained in this...</td>\n",
              "      <td>[survival]</td>\n",
              "      <td>[survival]</td>\n",
              "    </tr>\n",
              "    <tr>\n",
              "      <th>2</th>\n",
              "      <td>All representations, warranties, covenants and...</td>\n",
              "      <td>[survival]</td>\n",
              "      <td>[warranties]</td>\n",
              "    </tr>\n",
              "    <tr>\n",
              "      <th>3</th>\n",
              "      <td>Any notice required or permitted by this Agree...</td>\n",
              "      <td>[notices]</td>\n",
              "      <td>[notices]</td>\n",
              "    </tr>\n",
              "    <tr>\n",
              "      <th>4</th>\n",
              "      <td>Each Canadian Loan Party acknowledges receipt ...</td>\n",
              "      <td>[waivers]</td>\n",
              "      <td>[]</td>\n",
              "    </tr>\n",
              "  </tbody>\n",
              "</table>\n",
              "</div>\n",
              "      <button class=\"colab-df-convert\" onclick=\"convertToInteractive('df-fae21b8f-915f-401b-b359-8b38d3d29c1c')\"\n",
              "              title=\"Convert this dataframe to an interactive table.\"\n",
              "              style=\"display:none;\">\n",
              "        \n",
              "  <svg xmlns=\"http://www.w3.org/2000/svg\" height=\"24px\"viewBox=\"0 0 24 24\"\n",
              "       width=\"24px\">\n",
              "    <path d=\"M0 0h24v24H0V0z\" fill=\"none\"/>\n",
              "    <path d=\"M18.56 5.44l.94 2.06.94-2.06 2.06-.94-2.06-.94-.94-2.06-.94 2.06-2.06.94zm-11 1L8.5 8.5l.94-2.06 2.06-.94-2.06-.94L8.5 2.5l-.94 2.06-2.06.94zm10 10l.94 2.06.94-2.06 2.06-.94-2.06-.94-.94-2.06-.94 2.06-2.06.94z\"/><path d=\"M17.41 7.96l-1.37-1.37c-.4-.4-.92-.59-1.43-.59-.52 0-1.04.2-1.43.59L10.3 9.45l-7.72 7.72c-.78.78-.78 2.05 0 2.83L4 21.41c.39.39.9.59 1.41.59.51 0 1.02-.2 1.41-.59l7.78-7.78 2.81-2.81c.8-.78.8-2.07 0-2.86zM5.41 20L4 18.59l7.72-7.72 1.47 1.35L5.41 20z\"/>\n",
              "  </svg>\n",
              "      </button>\n",
              "      \n",
              "  <style>\n",
              "    .colab-df-container {\n",
              "      display:flex;\n",
              "      flex-wrap:wrap;\n",
              "      gap: 12px;\n",
              "    }\n",
              "\n",
              "    .colab-df-convert {\n",
              "      background-color: #E8F0FE;\n",
              "      border: none;\n",
              "      border-radius: 50%;\n",
              "      cursor: pointer;\n",
              "      display: none;\n",
              "      fill: #1967D2;\n",
              "      height: 32px;\n",
              "      padding: 0 0 0 0;\n",
              "      width: 32px;\n",
              "    }\n",
              "\n",
              "    .colab-df-convert:hover {\n",
              "      background-color: #E2EBFA;\n",
              "      box-shadow: 0px 1px 2px rgba(60, 64, 67, 0.3), 0px 1px 3px 1px rgba(60, 64, 67, 0.15);\n",
              "      fill: #174EA6;\n",
              "    }\n",
              "\n",
              "    [theme=dark] .colab-df-convert {\n",
              "      background-color: #3B4455;\n",
              "      fill: #D2E3FC;\n",
              "    }\n",
              "\n",
              "    [theme=dark] .colab-df-convert:hover {\n",
              "      background-color: #434B5C;\n",
              "      box-shadow: 0px 1px 3px 1px rgba(0, 0, 0, 0.15);\n",
              "      filter: drop-shadow(0px 1px 2px rgba(0, 0, 0, 0.3));\n",
              "      fill: #FFFFFF;\n",
              "    }\n",
              "  </style>\n",
              "\n",
              "      <script>\n",
              "        const buttonEl =\n",
              "          document.querySelector('#df-fae21b8f-915f-401b-b359-8b38d3d29c1c button.colab-df-convert');\n",
              "        buttonEl.style.display =\n",
              "          google.colab.kernel.accessAllowed ? 'block' : 'none';\n",
              "\n",
              "        async function convertToInteractive(key) {\n",
              "          const element = document.querySelector('#df-fae21b8f-915f-401b-b359-8b38d3d29c1c');\n",
              "          const dataTable =\n",
              "            await google.colab.kernel.invokeFunction('convertToInteractive',\n",
              "                                                     [key], {});\n",
              "          if (!dataTable) return;\n",
              "\n",
              "          const docLinkHtml = 'Like what you see? Visit the ' +\n",
              "            '<a target=\"_blank\" href=https://colab.research.google.com/notebooks/data_table.ipynb>data table notebook</a>'\n",
              "            + ' to learn more about interactive tables.';\n",
              "          element.innerHTML = '';\n",
              "          dataTable['output_type'] = 'display_data';\n",
              "          await google.colab.output.renderOutput(dataTable, element);\n",
              "          const docLink = document.createElement('div');\n",
              "          docLink.innerHTML = docLinkHtml;\n",
              "          element.appendChild(docLink);\n",
              "        }\n",
              "      </script>\n",
              "    </div>\n",
              "  </div>\n",
              "  "
            ],
            "text/plain": [
              "                                           provision       label  \\\n",
              "0  All agreements, statements, representations an...  [survival]   \n",
              "1  All covenants of the Company contained in this...  [survival]   \n",
              "2  All representations, warranties, covenants and...  [survival]   \n",
              "3  Any notice required or permitted by this Agree...   [notices]   \n",
              "4  Each Canadian Loan Party acknowledges receipt ...   [waivers]   \n",
              "\n",
              "                          result  \n",
              "0  [representations, warranties]  \n",
              "1                     [survival]  \n",
              "2                   [warranties]  \n",
              "3                      [notices]  \n",
              "4                             []  "
            ]
          },
          "execution_count": 20,
          "metadata": {},
          "output_type": "execute_result"
        }
      ],
      "source": [
        "preds_df = preds.select(\"provision\", \"label\", \"class.result\").toPandas()\n",
        "preds_df.head()"
      ]
    },
    {
      "cell_type": "code",
      "execution_count": 21,
      "id": "No_VwzrNjE7f",
      "metadata": {
        "colab": {
          "base_uri": "https://localhost:8080/"
        },
        "id": "No_VwzrNjE7f",
        "outputId": "5732a9b6-0f9d-4c29-b251-89c4bfd30af5"
      },
      "outputs": [
        {
          "name": "stdout",
          "output_type": "stream",
          "text": [
            "Training started - epochs: 8 - learning_rate: 0.001 - batch_size: 4 - training_examples: 461 - classes: 15\n",
            "Epoch 0/8 - 4.16s - loss: 0.21118948 - acc: 0.94202876 - batches: 116\n",
            "Epoch 1/8 - 1.48s - loss: 0.08812641 - acc: 0.9775358 - batches: 116\n",
            "Epoch 2/8 - 1.42s - loss: 0.056855213 - acc: 0.9868111 - batches: 116\n",
            "Epoch 3/8 - 1.46s - loss: 0.042333648 - acc: 0.9924633 - batches: 116\n",
            "Epoch 4/8 - 1.45s - loss: 0.033270992 - acc: 0.9960865 - batches: 116\n",
            "Epoch 5/8 - 1.44s - loss: 0.027073074 - acc: 1.0002896 - batches: 116\n",
            "Epoch 6/8 - 1.43s - loss: 0.022839691 - acc: 1.0023185 - batches: 116\n",
            "Epoch 7/8 - 1.42s - loss: 0.019849315 - acc: 1.0027533 - batches: 116\n",
            "\n"
          ]
        }
      ],
      "source": [
        "import os\n",
        "log_file_name = os.listdir(\"multilabel_bert\")[0]\n",
        "\n",
        "with open(\"multilabel_bert/\"+log_file_name, \"r\") as log_file :\n",
        "    print(log_file.read())"
      ]
    },
    {
      "cell_type": "code",
      "execution_count": 23,
      "id": "GJKWrIpOYLW_",
      "metadata": {
        "colab": {
          "base_uri": "https://localhost:8080/"
        },
        "id": "GJKWrIpOYLW_",
        "outputId": "50dac88a-b939-41e7-bcd1-846be58fa8f6"
      },
      "outputs": [
        {
          "name": "stdout",
          "output_type": "stream",
          "text": [
            "Classification report: \n",
            "               precision    recall  f1-score   support\n",
            "\n",
            "           0       1.00      1.00      1.00         6\n",
            "           1       0.00      0.00      0.00         1\n",
            "           2       0.75      1.00      0.86         3\n",
            "           3       1.00      0.83      0.91         6\n",
            "           4       1.00      0.86      0.92         7\n",
            "           5       1.00      1.00      1.00         1\n",
            "           6       1.00      1.00      1.00         2\n",
            "           7       1.00      1.00      1.00         1\n",
            "           8       0.40      1.00      0.57         2\n",
            "           9       0.75      1.00      0.86         3\n",
            "          10       0.80      1.00      0.89         4\n",
            "          11       1.00      0.33      0.50         3\n",
            "          12       1.00      0.50      0.67         2\n",
            "          13       0.50      0.50      0.50         2\n",
            "          14       0.50      1.00      0.67         3\n",
            "\n",
            "   micro avg       0.80      0.85      0.82        46\n",
            "   macro avg       0.78      0.80      0.76        46\n",
            "weighted avg       0.85      0.85      0.82        46\n",
            " samples avg       0.78      0.82      0.79        46\n",
            "\n",
            "F1 micro averaging: 0.8210526315789473\n",
            "ROC:  0.9146366056303945\n"
          ]
        }
      ],
      "source": [
        "from sklearn.preprocessing import MultiLabelBinarizer\n",
        "from sklearn.metrics import classification_report\n",
        "from sklearn.metrics import f1_score\n",
        "from sklearn.metrics import roc_auc_score\n",
        "\n",
        "mlb = MultiLabelBinarizer()\n",
        "\n",
        "y_true = mlb.fit_transform(preds_df['label'])\n",
        "y_pred = mlb.transform(preds_df['result'])\n",
        "\n",
        "\n",
        "print(\"Classification report: \\n\", (classification_report(y_true, y_pred)))\n",
        "print(\"F1 micro averaging:\",(f1_score(y_true, y_pred, average='micro')))\n",
        "print(\"ROC: \",(roc_auc_score(y_true, y_pred, average=\"micro\")))\n"
      ]
    },
    {
      "cell_type": "markdown",
      "id": "Zsap0xaejFCX",
      "metadata": {
        "id": "Zsap0xaejFCX"
      },
      "source": [
        "### Saving & loading back the trained model"
      ]
    },
    {
      "cell_type": "code",
      "execution_count": 24,
      "id": "BQoJ_DHSjFCX",
      "metadata": {
        "colab": {
          "base_uri": "https://localhost:8080/"
        },
        "id": "BQoJ_DHSjFCX",
        "outputId": "25ba943e-cc06-4261-b14e-ac76786e46cd"
      },
      "outputs": [
        {
          "data": {
            "text/plain": [
              "[DocumentAssembler_b8a980d99733,\n",
              " REGEX_TOKENIZER_b37ee9fd64c2,\n",
              " BERT_EMBEDDINGS_29ce72cd673e,\n",
              " SentenceEmbeddings_0e27ddfbf438,\n",
              " MultiClassifierDLModel_9df08ed59a41]"
            ]
          },
          "execution_count": 24,
          "metadata": {},
          "output_type": "execute_result"
        }
      ],
      "source": [
        "clf_pipelineModel.stages"
      ]
    },
    {
      "cell_type": "code",
      "execution_count": 25,
      "id": "3hKjHocZjFCY",
      "metadata": {
        "id": "3hKjHocZjFCY"
      },
      "outputs": [],
      "source": [
        "clf_pipelineModel.stages[-1].write().overwrite().save('MultilabelClfBert')"
      ]
    },
    {
      "cell_type": "code",
      "execution_count": 26,
      "id": "cXtTavvVjFCY",
      "metadata": {
        "id": "cXtTavvVjFCY"
      },
      "outputs": [],
      "source": [
        "# Load back  saved Multilabel Classifier Model\n",
        "MultilabelClfModel = nlp.MultiClassifierDLModel.load('MultilabelClfBert')"
      ]
    },
    {
      "cell_type": "code",
      "execution_count": 27,
      "id": "sxWzLYSgjFCY",
      "metadata": {
        "id": "sxWzLYSgjFCY"
      },
      "outputs": [],
      "source": [
        "ld_pipeline = nlp.Pipeline(\n",
        "    stages=[\n",
        "        document_assembler,\n",
        "        tokenizer,\n",
        "        embeddings,\n",
        "        embeddingsSentence,\n",
        "        MultilabelClfModel,\n",
        "    ]\n",
        ")\n",
        "ld_pipeline_model = ld_pipeline.fit(spark.createDataFrame([[\"\"]]).toDF(\"provision\"))"
      ]
    },
    {
      "cell_type": "code",
      "execution_count": 28,
      "id": "FKe7kDccjFCY",
      "metadata": {
        "id": "FKe7kDccjFCY"
      },
      "outputs": [],
      "source": [
        "# Apply Model Transform to testData\n",
        "ld_preds = ld_pipeline_model.transform(test)"
      ]
    },
    {
      "cell_type": "code",
      "execution_count": 29,
      "id": "pnZwf9MejFCY",
      "metadata": {
        "id": "pnZwf9MejFCY"
      },
      "outputs": [],
      "source": [
        "ld_preds_df = ld_preds.select(\"provision\", \"label\", \"class.result\").toPandas()"
      ]
    },
    {
      "cell_type": "code",
      "execution_count": 30,
      "id": "rWarQRPBjFCZ",
      "metadata": {
        "colab": {
          "base_uri": "https://localhost:8080/",
          "height": 363
        },
        "id": "rWarQRPBjFCZ",
        "outputId": "8edb7089-cb8c-44ba-f44a-7437816fb91c"
      },
      "outputs": [
        {
          "data": {
            "text/html": [
              "\n",
              "  <div id=\"df-7e94a3c2-cc2f-4b62-aae2-35106f74e7b1\">\n",
              "    <div class=\"colab-df-container\">\n",
              "      <div>\n",
              "<style scoped>\n",
              "    .dataframe tbody tr th:only-of-type {\n",
              "        vertical-align: middle;\n",
              "    }\n",
              "\n",
              "    .dataframe tbody tr th {\n",
              "        vertical-align: top;\n",
              "    }\n",
              "\n",
              "    .dataframe thead th {\n",
              "        text-align: right;\n",
              "    }\n",
              "</style>\n",
              "<table border=\"1\" class=\"dataframe\">\n",
              "  <thead>\n",
              "    <tr style=\"text-align: right;\">\n",
              "      <th></th>\n",
              "      <th>provision</th>\n",
              "      <th>label</th>\n",
              "      <th>result</th>\n",
              "    </tr>\n",
              "  </thead>\n",
              "  <tbody>\n",
              "    <tr>\n",
              "      <th>0</th>\n",
              "      <td>All agreements, statements, representations an...</td>\n",
              "      <td>[survival]</td>\n",
              "      <td>[representations, warranties]</td>\n",
              "    </tr>\n",
              "    <tr>\n",
              "      <th>1</th>\n",
              "      <td>All covenants of the Company contained in this...</td>\n",
              "      <td>[survival]</td>\n",
              "      <td>[survival]</td>\n",
              "    </tr>\n",
              "    <tr>\n",
              "      <th>2</th>\n",
              "      <td>All representations, warranties, covenants and...</td>\n",
              "      <td>[survival]</td>\n",
              "      <td>[warranties]</td>\n",
              "    </tr>\n",
              "    <tr>\n",
              "      <th>3</th>\n",
              "      <td>Any notice required or permitted by this Agree...</td>\n",
              "      <td>[notices]</td>\n",
              "      <td>[notices]</td>\n",
              "    </tr>\n",
              "    <tr>\n",
              "      <th>4</th>\n",
              "      <td>Each Canadian Loan Party acknowledges receipt ...</td>\n",
              "      <td>[waivers]</td>\n",
              "      <td>[]</td>\n",
              "    </tr>\n",
              "    <tr>\n",
              "      <th>5</th>\n",
              "      <td>Except as otherwise provided herein or in any ...</td>\n",
              "      <td>[waivers]</td>\n",
              "      <td>[waivers]</td>\n",
              "    </tr>\n",
              "    <tr>\n",
              "      <th>6</th>\n",
              "      <td>Franchisee acknowledges that the Foodservice D...</td>\n",
              "      <td>[amendments]</td>\n",
              "      <td>[amendments]</td>\n",
              "    </tr>\n",
              "    <tr>\n",
              "      <th>7</th>\n",
              "      <td>Guarantor represents and warrants to Lender th...</td>\n",
              "      <td>[warranties]</td>\n",
              "      <td>[representations, warranties]</td>\n",
              "    </tr>\n",
              "    <tr>\n",
              "      <th>8</th>\n",
              "      <td>If any provision of this Plan or any Award is,...</td>\n",
              "      <td>[severability]</td>\n",
              "      <td>[severability]</td>\n",
              "    </tr>\n",
              "    <tr>\n",
              "      <th>9</th>\n",
              "      <td>No amendment, modification, termination or can...</td>\n",
              "      <td>[amendments]</td>\n",
              "      <td>[amendments]</td>\n",
              "    </tr>\n",
              "  </tbody>\n",
              "</table>\n",
              "</div>\n",
              "      <button class=\"colab-df-convert\" onclick=\"convertToInteractive('df-7e94a3c2-cc2f-4b62-aae2-35106f74e7b1')\"\n",
              "              title=\"Convert this dataframe to an interactive table.\"\n",
              "              style=\"display:none;\">\n",
              "        \n",
              "  <svg xmlns=\"http://www.w3.org/2000/svg\" height=\"24px\"viewBox=\"0 0 24 24\"\n",
              "       width=\"24px\">\n",
              "    <path d=\"M0 0h24v24H0V0z\" fill=\"none\"/>\n",
              "    <path d=\"M18.56 5.44l.94 2.06.94-2.06 2.06-.94-2.06-.94-.94-2.06-.94 2.06-2.06.94zm-11 1L8.5 8.5l.94-2.06 2.06-.94-2.06-.94L8.5 2.5l-.94 2.06-2.06.94zm10 10l.94 2.06.94-2.06 2.06-.94-2.06-.94-.94-2.06-.94 2.06-2.06.94z\"/><path d=\"M17.41 7.96l-1.37-1.37c-.4-.4-.92-.59-1.43-.59-.52 0-1.04.2-1.43.59L10.3 9.45l-7.72 7.72c-.78.78-.78 2.05 0 2.83L4 21.41c.39.39.9.59 1.41.59.51 0 1.02-.2 1.41-.59l7.78-7.78 2.81-2.81c.8-.78.8-2.07 0-2.86zM5.41 20L4 18.59l7.72-7.72 1.47 1.35L5.41 20z\"/>\n",
              "  </svg>\n",
              "      </button>\n",
              "      \n",
              "  <style>\n",
              "    .colab-df-container {\n",
              "      display:flex;\n",
              "      flex-wrap:wrap;\n",
              "      gap: 12px;\n",
              "    }\n",
              "\n",
              "    .colab-df-convert {\n",
              "      background-color: #E8F0FE;\n",
              "      border: none;\n",
              "      border-radius: 50%;\n",
              "      cursor: pointer;\n",
              "      display: none;\n",
              "      fill: #1967D2;\n",
              "      height: 32px;\n",
              "      padding: 0 0 0 0;\n",
              "      width: 32px;\n",
              "    }\n",
              "\n",
              "    .colab-df-convert:hover {\n",
              "      background-color: #E2EBFA;\n",
              "      box-shadow: 0px 1px 2px rgba(60, 64, 67, 0.3), 0px 1px 3px 1px rgba(60, 64, 67, 0.15);\n",
              "      fill: #174EA6;\n",
              "    }\n",
              "\n",
              "    [theme=dark] .colab-df-convert {\n",
              "      background-color: #3B4455;\n",
              "      fill: #D2E3FC;\n",
              "    }\n",
              "\n",
              "    [theme=dark] .colab-df-convert:hover {\n",
              "      background-color: #434B5C;\n",
              "      box-shadow: 0px 1px 3px 1px rgba(0, 0, 0, 0.15);\n",
              "      filter: drop-shadow(0px 1px 2px rgba(0, 0, 0, 0.3));\n",
              "      fill: #FFFFFF;\n",
              "    }\n",
              "  </style>\n",
              "\n",
              "      <script>\n",
              "        const buttonEl =\n",
              "          document.querySelector('#df-7e94a3c2-cc2f-4b62-aae2-35106f74e7b1 button.colab-df-convert');\n",
              "        buttonEl.style.display =\n",
              "          google.colab.kernel.accessAllowed ? 'block' : 'none';\n",
              "\n",
              "        async function convertToInteractive(key) {\n",
              "          const element = document.querySelector('#df-7e94a3c2-cc2f-4b62-aae2-35106f74e7b1');\n",
              "          const dataTable =\n",
              "            await google.colab.kernel.invokeFunction('convertToInteractive',\n",
              "                                                     [key], {});\n",
              "          if (!dataTable) return;\n",
              "\n",
              "          const docLinkHtml = 'Like what you see? Visit the ' +\n",
              "            '<a target=\"_blank\" href=https://colab.research.google.com/notebooks/data_table.ipynb>data table notebook</a>'\n",
              "            + ' to learn more about interactive tables.';\n",
              "          element.innerHTML = '';\n",
              "          dataTable['output_type'] = 'display_data';\n",
              "          await google.colab.output.renderOutput(dataTable, element);\n",
              "          const docLink = document.createElement('div');\n",
              "          docLink.innerHTML = docLinkHtml;\n",
              "          element.appendChild(docLink);\n",
              "        }\n",
              "      </script>\n",
              "    </div>\n",
              "  </div>\n",
              "  "
            ],
            "text/plain": [
              "                                           provision           label  \\\n",
              "0  All agreements, statements, representations an...      [survival]   \n",
              "1  All covenants of the Company contained in this...      [survival]   \n",
              "2  All representations, warranties, covenants and...      [survival]   \n",
              "3  Any notice required or permitted by this Agree...       [notices]   \n",
              "4  Each Canadian Loan Party acknowledges receipt ...       [waivers]   \n",
              "5  Except as otherwise provided herein or in any ...       [waivers]   \n",
              "6  Franchisee acknowledges that the Foodservice D...    [amendments]   \n",
              "7  Guarantor represents and warrants to Lender th...    [warranties]   \n",
              "8  If any provision of this Plan or any Award is,...  [severability]   \n",
              "9  No amendment, modification, termination or can...    [amendments]   \n",
              "\n",
              "                          result  \n",
              "0  [representations, warranties]  \n",
              "1                     [survival]  \n",
              "2                   [warranties]  \n",
              "3                      [notices]  \n",
              "4                             []  \n",
              "5                      [waivers]  \n",
              "6                   [amendments]  \n",
              "7  [representations, warranties]  \n",
              "8                 [severability]  \n",
              "9                   [amendments]  "
            ]
          },
          "execution_count": 30,
          "metadata": {},
          "output_type": "execute_result"
        }
      ],
      "source": [
        "ld_preds_df.head(10)"
      ]
    },
    {
      "cell_type": "markdown",
      "id": "OxcsSYj_wA0p",
      "metadata": {
        "id": "OxcsSYj_wA0p"
      },
      "source": [
        "# Multiclass classifier training\n"
      ]
    },
    {
      "attachments": {},
      "cell_type": "markdown",
      "id": "2l1mTOtNVz6A",
      "metadata": {
        "id": "2l1mTOtNVz6A"
      },
      "source": [
        "The `ClassifierDLApproach` annotator trains a multiclass model, where the predictions is one category out of a predifined set of categories that are present in the training data."
      ]
    },
    {
      "cell_type": "markdown",
      "id": "5qFM3Zueb50G",
      "metadata": {
        "id": "5qFM3Zueb50G"
      },
      "source": [
        "## Loading the data"
      ]
    },
    {
      "cell_type": "code",
      "execution_count": 31,
      "id": "UKwHNFrCMWMZ",
      "metadata": {
        "id": "UKwHNFrCMWMZ"
      },
      "outputs": [],
      "source": [
        "! wget -q https://raw.githubusercontent.com/JohnSnowLabs/spark-nlp-workshop/master/tutorials/Certification_Trainings_JSL/Finance/data/finance_clf_data.csv"
      ]
    },
    {
      "cell_type": "code",
      "execution_count": 32,
      "id": "FtXdRXNEb50G",
      "metadata": {
        "colab": {
          "base_uri": "https://localhost:8080/"
        },
        "id": "FtXdRXNEb50G",
        "outputId": "f7153412-cbb7-4652-a639-44841803f11d"
      },
      "outputs": [
        {
          "name": "stdout",
          "output_type": "stream",
          "text": [
            "Shape of the full dataset: (6128, 3)\n"
          ]
        }
      ],
      "source": [
        "import pandas as pd\n",
        "df = pd.read_csv('finance_clf_data.csv')\n",
        "print(f\"Shape of the full dataset: {df.shape}\")"
      ]
    },
    {
      "cell_type": "code",
      "execution_count": 33,
      "id": "SWqOIj_pfEU5",
      "metadata": {
        "colab": {
          "base_uri": "https://localhost:8080/",
          "height": 206
        },
        "id": "SWqOIj_pfEU5",
        "outputId": "3d2b0064-17be-4842-b809-dd8b9aef0aac"
      },
      "outputs": [
        {
          "data": {
            "text/html": [
              "\n",
              "  <div id=\"df-79bc7083-67ca-4d39-8a63-8f1d5c35d9fb\">\n",
              "    <div class=\"colab-df-container\">\n",
              "      <div>\n",
              "<style scoped>\n",
              "    .dataframe tbody tr th:only-of-type {\n",
              "        vertical-align: middle;\n",
              "    }\n",
              "\n",
              "    .dataframe tbody tr th {\n",
              "        vertical-align: top;\n",
              "    }\n",
              "\n",
              "    .dataframe thead th {\n",
              "        text-align: right;\n",
              "    }\n",
              "</style>\n",
              "<table border=\"1\" class=\"dataframe\">\n",
              "  <thead>\n",
              "    <tr style=\"text-align: right;\">\n",
              "      <th></th>\n",
              "      <th>text</th>\n",
              "      <th>label</th>\n",
              "      <th>len</th>\n",
              "    </tr>\n",
              "  </thead>\n",
              "  <tbody>\n",
              "    <tr>\n",
              "      <th>0</th>\n",
              "      <td>Presently we do not believe any U S or State r...</td>\n",
              "      <td>business</td>\n",
              "      <td>402</td>\n",
              "    </tr>\n",
              "    <tr>\n",
              "      <th>1</th>\n",
              "      <td>\\nnetwork outages or performance degradation ...</td>\n",
              "      <td>risk_factors</td>\n",
              "      <td>496</td>\n",
              "    </tr>\n",
              "    <tr>\n",
              "      <th>2</th>\n",
              "      <td>Available Information\\nOur reports filed with ...</td>\n",
              "      <td>business</td>\n",
              "      <td>356</td>\n",
              "    </tr>\n",
              "    <tr>\n",
              "      <th>3</th>\n",
              "      <td>\\n 42 530\\n \\n \\n \\n \\n \\n 42 530\\nTotal liab...</td>\n",
              "      <td>financial_statements</td>\n",
              "      <td>359</td>\n",
              "    </tr>\n",
              "    <tr>\n",
              "      <th>4</th>\n",
              "      <td>8\\nTable of Contents\\ndevelopment employee eng...</td>\n",
              "      <td>business</td>\n",
              "      <td>582</td>\n",
              "    </tr>\n",
              "  </tbody>\n",
              "</table>\n",
              "</div>\n",
              "      <button class=\"colab-df-convert\" onclick=\"convertToInteractive('df-79bc7083-67ca-4d39-8a63-8f1d5c35d9fb')\"\n",
              "              title=\"Convert this dataframe to an interactive table.\"\n",
              "              style=\"display:none;\">\n",
              "        \n",
              "  <svg xmlns=\"http://www.w3.org/2000/svg\" height=\"24px\"viewBox=\"0 0 24 24\"\n",
              "       width=\"24px\">\n",
              "    <path d=\"M0 0h24v24H0V0z\" fill=\"none\"/>\n",
              "    <path d=\"M18.56 5.44l.94 2.06.94-2.06 2.06-.94-2.06-.94-.94-2.06-.94 2.06-2.06.94zm-11 1L8.5 8.5l.94-2.06 2.06-.94-2.06-.94L8.5 2.5l-.94 2.06-2.06.94zm10 10l.94 2.06.94-2.06 2.06-.94-2.06-.94-.94-2.06-.94 2.06-2.06.94z\"/><path d=\"M17.41 7.96l-1.37-1.37c-.4-.4-.92-.59-1.43-.59-.52 0-1.04.2-1.43.59L10.3 9.45l-7.72 7.72c-.78.78-.78 2.05 0 2.83L4 21.41c.39.39.9.59 1.41.59.51 0 1.02-.2 1.41-.59l7.78-7.78 2.81-2.81c.8-.78.8-2.07 0-2.86zM5.41 20L4 18.59l7.72-7.72 1.47 1.35L5.41 20z\"/>\n",
              "  </svg>\n",
              "      </button>\n",
              "      \n",
              "  <style>\n",
              "    .colab-df-container {\n",
              "      display:flex;\n",
              "      flex-wrap:wrap;\n",
              "      gap: 12px;\n",
              "    }\n",
              "\n",
              "    .colab-df-convert {\n",
              "      background-color: #E8F0FE;\n",
              "      border: none;\n",
              "      border-radius: 50%;\n",
              "      cursor: pointer;\n",
              "      display: none;\n",
              "      fill: #1967D2;\n",
              "      height: 32px;\n",
              "      padding: 0 0 0 0;\n",
              "      width: 32px;\n",
              "    }\n",
              "\n",
              "    .colab-df-convert:hover {\n",
              "      background-color: #E2EBFA;\n",
              "      box-shadow: 0px 1px 2px rgba(60, 64, 67, 0.3), 0px 1px 3px 1px rgba(60, 64, 67, 0.15);\n",
              "      fill: #174EA6;\n",
              "    }\n",
              "\n",
              "    [theme=dark] .colab-df-convert {\n",
              "      background-color: #3B4455;\n",
              "      fill: #D2E3FC;\n",
              "    }\n",
              "\n",
              "    [theme=dark] .colab-df-convert:hover {\n",
              "      background-color: #434B5C;\n",
              "      box-shadow: 0px 1px 3px 1px rgba(0, 0, 0, 0.15);\n",
              "      filter: drop-shadow(0px 1px 2px rgba(0, 0, 0, 0.3));\n",
              "      fill: #FFFFFF;\n",
              "    }\n",
              "  </style>\n",
              "\n",
              "      <script>\n",
              "        const buttonEl =\n",
              "          document.querySelector('#df-79bc7083-67ca-4d39-8a63-8f1d5c35d9fb button.colab-df-convert');\n",
              "        buttonEl.style.display =\n",
              "          google.colab.kernel.accessAllowed ? 'block' : 'none';\n",
              "\n",
              "        async function convertToInteractive(key) {\n",
              "          const element = document.querySelector('#df-79bc7083-67ca-4d39-8a63-8f1d5c35d9fb');\n",
              "          const dataTable =\n",
              "            await google.colab.kernel.invokeFunction('convertToInteractive',\n",
              "                                                     [key], {});\n",
              "          if (!dataTable) return;\n",
              "\n",
              "          const docLinkHtml = 'Like what you see? Visit the ' +\n",
              "            '<a target=\"_blank\" href=https://colab.research.google.com/notebooks/data_table.ipynb>data table notebook</a>'\n",
              "            + ' to learn more about interactive tables.';\n",
              "          element.innerHTML = '';\n",
              "          dataTable['output_type'] = 'display_data';\n",
              "          await google.colab.output.renderOutput(dataTable, element);\n",
              "          const docLink = document.createElement('div');\n",
              "          docLink.innerHTML = docLinkHtml;\n",
              "          element.appendChild(docLink);\n",
              "        }\n",
              "      </script>\n",
              "    </div>\n",
              "  </div>\n",
              "  "
            ],
            "text/plain": [
              "                                                text                 label  \\\n",
              "0  Presently we do not believe any U S or State r...              business   \n",
              "1   \\nnetwork outages or performance degradation ...          risk_factors   \n",
              "2  Available Information\\nOur reports filed with ...              business   \n",
              "3   \\n 42 530\\n \\n \\n \\n \\n \\n 42 530\\nTotal liab...  financial_statements   \n",
              "4  8\\nTable of Contents\\ndevelopment employee eng...              business   \n",
              "\n",
              "   len  \n",
              "0  402  \n",
              "1  496  \n",
              "2  356  \n",
              "3  359  \n",
              "4  582  "
            ]
          },
          "execution_count": 33,
          "metadata": {},
          "output_type": "execute_result"
        }
      ],
      "source": [
        "df.head()"
      ]
    },
    {
      "cell_type": "code",
      "execution_count": 34,
      "id": "Ntfw_obpuf4A",
      "metadata": {
        "colab": {
          "base_uri": "https://localhost:8080/"
        },
        "id": "Ntfw_obpuf4A",
        "outputId": "e7b6e43a-efab-4066-d0fc-6022e9b57086"
      },
      "outputs": [
        {
          "data": {
            "text/plain": [
              "risk_factors               1926\n",
              "financial_statements       1888\n",
              "business                    970\n",
              "financial_conditions        346\n",
              "form_10k_summary            240\n",
              "executives_compensation     155\n",
              "controls_procedures         138\n",
              "equity                      111\n",
              "market_risk                 100\n",
              "executives                   73\n",
              "legal_proceedings            51\n",
              "properties                   48\n",
              "security_ownership           46\n",
              "exhibits                     36\n",
              "Name: label, dtype: int64"
            ]
          },
          "execution_count": 34,
          "metadata": {},
          "output_type": "execute_result"
        }
      ],
      "source": [
        "df['label'].value_counts()"
      ]
    },
    {
      "cell_type": "markdown",
      "id": "nOp9tQs_WL6k",
      "metadata": {
        "id": "nOp9tQs_WL6k"
      },
      "source": [
        "Since the deep learning models can take some time to train, we will limit our dataset to a smaller number of observations in order to illustrate how to use Spark NLP and Finance NLP annotators and pipelines to train the model, but without having to wait too much.\n",
        "\n",
        "Please note that the quality and the quantity of training data is very relevant to the obtained trianed model, and the results we obtain here are for illustration purposes only. To obtain a more realistic model, pelase consider using the full dataset or addin extra observations from different sources. "
      ]
    },
    {
      "cell_type": "code",
      "execution_count": 35,
      "id": "738bb4f4",
      "metadata": {
        "id": "738bb4f4"
      },
      "outputs": [],
      "source": [
        "from sklearn.model_selection import train_test_split\n",
        "\n",
        "# The top 3 categories (number of observations) \n",
        "filter_classes = [\n",
        "    \"risk_factors\",\n",
        "    \"financial_statements\",\n",
        "    \"business\"\n",
        "]\n",
        "\n",
        "# We make a random sample with 1000 observations\n",
        "df = df.loc[df.label.isin(filter_classes)].sample(1000)\n",
        "\n",
        "# Stratify split for train and test datasets\n",
        "train_data, test_data = train_test_split(\n",
        "    df, train_size=0.9, stratify=df.label, random_state=42\n",
        ")\n",
        "\n",
        "# Send to spark\n",
        "train = spark.createDataFrame(train_data) \n",
        "test = spark.createDataFrame(test_data)"
      ]
    },
    {
      "cell_type": "code",
      "execution_count": 36,
      "id": "WEcXKSQTb50H",
      "metadata": {
        "colab": {
          "base_uri": "https://localhost:8080/"
        },
        "id": "WEcXKSQTb50H",
        "outputId": "3f571139-ef1f-4e98-f680-35953e03ff94"
      },
      "outputs": [
        {
          "name": "stdout",
          "output_type": "stream",
          "text": [
            "+--------------------+-----+\n",
            "|               label|count|\n",
            "+--------------------+-----+\n",
            "|        risk_factors|  362|\n",
            "|financial_statements|  358|\n",
            "|            business|  180|\n",
            "+--------------------+-----+\n",
            "\n"
          ]
        }
      ],
      "source": [
        "from pyspark.sql.functions import col\n",
        "\n",
        "train.groupBy(\"label\").count().orderBy(col(\"count\").desc()).show()"
      ]
    },
    {
      "cell_type": "code",
      "execution_count": 37,
      "id": "lDV9dGbRb50H",
      "metadata": {
        "colab": {
          "base_uri": "https://localhost:8080/"
        },
        "id": "lDV9dGbRb50H",
        "outputId": "3fe8c583-da0e-48e9-d453-97eced73cdd2"
      },
      "outputs": [
        {
          "name": "stdout",
          "output_type": "stream",
          "text": [
            "+--------------------+-----+\n",
            "|               label|count|\n",
            "+--------------------+-----+\n",
            "|        risk_factors|   40|\n",
            "|financial_statements|   40|\n",
            "|            business|   20|\n",
            "+--------------------+-----+\n",
            "\n"
          ]
        }
      ],
      "source": [
        "from pyspark.sql.functions import col\n",
        "\n",
        "test.groupBy(\"label\").count().orderBy(col(\"count\").desc()).show()"
      ]
    },
    {
      "cell_type": "markdown",
      "id": "hrFio0xccT7J",
      "metadata": {
        "id": "hrFio0xccT7J"
      },
      "source": [
        "### Train with Universal Encoder"
      ]
    },
    {
      "cell_type": "code",
      "execution_count": 38,
      "id": "o0muwDJ5cT7K",
      "metadata": {
        "colab": {
          "base_uri": "https://localhost:8080/"
        },
        "id": "o0muwDJ5cT7K",
        "outputId": "987528e1-54c0-472c-b0ff-210ab750d748"
      },
      "outputs": [
        {
          "name": "stdout",
          "output_type": "stream",
          "text": [
            "tfhub_use download started this may take some time.\n",
            "Approximate size to download 923.7 MB\n",
            "[OK!]\n"
          ]
        }
      ],
      "source": [
        "document_assembler = (\n",
        "    nlp.DocumentAssembler().setInputCol(\"text\").setOutputCol(\"document\")\n",
        ")\n",
        "\n",
        "embeddings = (\n",
        "    nlp.UniversalSentenceEncoder.pretrained()\n",
        "    .setInputCols(\"document\")\n",
        "    .setOutputCol(\"sentence_embeddings\")\n",
        ")\n",
        "\n",
        "classifierdl = (\n",
        "    finance.ClassifierDLApproach()\n",
        "    .setInputCols([\"sentence_embeddings\"])\n",
        "    .setOutputCol(\"class\")\n",
        "    .setLabelColumn(\"label\")\n",
        "    .setMaxEpochs(30)\n",
        "    .setEnableOutputLogs(True)\n",
        "    .setOutputLogsPath(\"multiclass_use\")\n",
        "    .setLr(0.001)\n",
        "    .setBatchSize(4)\n",
        "    .setDropout(0.15)\n",
        ")\n",
        "\n",
        "clf_pipeline = nlp.Pipeline(stages=[document_assembler, embeddings, classifierdl])"
      ]
    },
    {
      "cell_type": "code",
      "execution_count": 39,
      "id": "9Vb2VqzucT7M",
      "metadata": {
        "colab": {
          "base_uri": "https://localhost:8080/"
        },
        "id": "9Vb2VqzucT7M",
        "outputId": "72f2df94-6348-4ab0-a851-590d68bbf850"
      },
      "outputs": [
        {
          "name": "stdout",
          "output_type": "stream",
          "text": [
            "CPU times: user 333 ms, sys: 46 ms, total: 379 ms\n",
            "Wall time: 50.7 s\n"
          ]
        }
      ],
      "source": [
        "%%time\n",
        "clf_pipelineModel = clf_pipeline.fit(train)"
      ]
    },
    {
      "cell_type": "code",
      "execution_count": 40,
      "id": "NdAu3IE1cT7N",
      "metadata": {
        "colab": {
          "base_uri": "https://localhost:8080/"
        },
        "id": "NdAu3IE1cT7N",
        "outputId": "34ddb252-2715-41ca-da68-7435dbf343a5"
      },
      "outputs": [
        {
          "name": "stdout",
          "output_type": "stream",
          "text": [
            "Training started - epochs: 30 - learning_rate: 0.001 - batch_size: 4 - training_examples: 900 - classes: 3\n",
            "Epoch 0/30 - 1.64s - loss: 187.45738 - acc: 0.69 - batches: 225\n",
            "Epoch 1/30 - 1.39s - loss: 154.93361 - acc: 0.8611111 - batches: 225\n",
            "Epoch 2/30 - 1.37s - loss: 148.88728 - acc: 0.8844444 - batches: 225\n",
            "Epoch 3/30 - 1.36s - loss: 146.69815 - acc: 0.8933333 - batches: 225\n",
            "Epoch 4/30 - 1.43s - loss: 145.29247 - acc: 0.9011111 - batches: 225\n",
            "Epoch 5/30 - 1.38s - loss: 144.27583 - acc: 0.9088889 - batches: 225\n",
            "Epoch 6/30 - 1.35s - loss: 143.54022 - acc: 0.9111111 - batches: 225\n",
            "Epoch 7/30 - 1.35s - loss: 143.01407 - acc: 0.91555554 - batches: 225\n",
            "Epoch 8/30 - 1.33s - loss: 142.59346 - acc: 0.9177778 - batches: 225\n",
            "Epoch 9/30 - 1.38s - loss: 142.21786 - acc: 0.91888887 - batches: 225\n",
            "Epoch 10/30 - 1.37s - loss: 141.87605 - acc: 0.92 - batches: 225\n",
            "Epoch 11/30 - 1.35s - loss: 141.57596 - acc: 0.9222222 - batches: 225\n",
            "Epoch 12/30 - 1.35s - loss: 141.33492 - acc: 0.92444444 - batches: 225\n",
            "Epoch 13/30 - 1.31s - loss: 141.13608 - acc: 0.9255555 - batches: 225\n",
            "Epoch 14/30 - 1.34s - loss: 140.99413 - acc: 0.92777777 - batches: 225\n",
            "Epoch 15/30 - 1.32s - loss: 140.88777 - acc: 0.93 - batches: 225\n",
            "Epoch 16/30 - 1.34s - loss: 140.78514 - acc: 0.93222225 - batches: 225\n",
            "Epoch 17/30 - 1.34s - loss: 140.6715 - acc: 0.9344444 - batches: 225\n",
            "Epoch 18/30 - 1.31s - loss: 140.55074 - acc: 0.9344444 - batches: 225\n",
            "Epoch 19/30 - 1.32s - loss: 140.43811 - acc: 0.9355556 - batches: 225\n",
            "Epoch 20/30 - 1.38s - loss: 140.32944 - acc: 0.9355556 - batches: 225\n",
            "Epoch 21/30 - 1.39s - loss: 140.22194 - acc: 0.9355556 - batches: 225\n",
            "Epoch 22/30 - 1.40s - loss: 140.11093 - acc: 0.9355556 - batches: 225\n",
            "Epoch 23/30 - 1.38s - loss: 140.00041 - acc: 0.9355556 - batches: 225\n",
            "Epoch 24/30 - 1.37s - loss: 139.8814 - acc: 0.93666667 - batches: 225\n",
            "Epoch 25/30 - 1.36s - loss: 139.75342 - acc: 0.93777776 - batches: 225\n",
            "Epoch 26/30 - 1.35s - loss: 139.61717 - acc: 0.93777776 - batches: 225\n",
            "Epoch 27/30 - 1.33s - loss: 139.46776 - acc: 0.93777776 - batches: 225\n",
            "Epoch 28/30 - 1.38s - loss: 139.31425 - acc: 0.9388889 - batches: 225\n",
            "Epoch 29/30 - 1.38s - loss: 139.15443 - acc: 0.9388889 - batches: 225\n",
            "\n"
          ]
        }
      ],
      "source": [
        "import os\n",
        "log_file_name = os.listdir(\"multiclass_use\")[0]\n",
        "\n",
        "with open(\"multiclass_use/\"+log_file_name, \"r\") as log_file :\n",
        "    print(log_file.read())"
      ]
    },
    {
      "cell_type": "code",
      "execution_count": 41,
      "id": "jwlOFwwacT7O",
      "metadata": {
        "id": "jwlOFwwacT7O"
      },
      "outputs": [],
      "source": [
        "preds = clf_pipelineModel.transform(test)"
      ]
    },
    {
      "cell_type": "code",
      "execution_count": 42,
      "id": "ft1vm_0fcT7O",
      "metadata": {
        "colab": {
          "base_uri": "https://localhost:8080/",
          "height": 206
        },
        "id": "ft1vm_0fcT7O",
        "outputId": "46cdb475-4104-4a64-db56-5b881e30957f"
      },
      "outputs": [
        {
          "data": {
            "text/html": [
              "\n",
              "  <div id=\"df-4bcc681b-16b2-4807-b24d-34e233bb79f5\">\n",
              "    <div class=\"colab-df-container\">\n",
              "      <div>\n",
              "<style scoped>\n",
              "    .dataframe tbody tr th:only-of-type {\n",
              "        vertical-align: middle;\n",
              "    }\n",
              "\n",
              "    .dataframe tbody tr th {\n",
              "        vertical-align: top;\n",
              "    }\n",
              "\n",
              "    .dataframe thead th {\n",
              "        text-align: right;\n",
              "    }\n",
              "</style>\n",
              "<table border=\"1\" class=\"dataframe\">\n",
              "  <thead>\n",
              "    <tr style=\"text-align: right;\">\n",
              "      <th></th>\n",
              "      <th>label</th>\n",
              "      <th>text</th>\n",
              "      <th>result</th>\n",
              "    </tr>\n",
              "  </thead>\n",
              "  <tbody>\n",
              "    <tr>\n",
              "      <th>0</th>\n",
              "      <td>financial_statements</td>\n",
              "      <td>\\n\\nASSETS\\n \\n \\n \\n \\n \\n \\n \\n \\n\\nCurrent...</td>\n",
              "      <td>[financial_statements]</td>\n",
              "    </tr>\n",
              "    <tr>\n",
              "      <th>1</th>\n",
              "      <td>financial_statements</td>\n",
              "      <td>\\n108\\nTable of Contents\\nEnvestnet Inc \\nNot...</td>\n",
              "      <td>[financial_statements]</td>\n",
              "    </tr>\n",
              "    <tr>\n",
              "      <th>2</th>\n",
              "      <td>business</td>\n",
              "      <td>Qumu s implementations can range in size from ...</td>\n",
              "      <td>[business]</td>\n",
              "    </tr>\n",
              "    <tr>\n",
              "      <th>3</th>\n",
              "      <td>business</td>\n",
              "      <td>Growing Existing Markets\\nSherpa s goals for g...</td>\n",
              "      <td>[business]</td>\n",
              "    </tr>\n",
              "    <tr>\n",
              "      <th>4</th>\n",
              "      <td>risk_factors</td>\n",
              "      <td>Any of these events or other currently unfores...</td>\n",
              "      <td>[risk_factors]</td>\n",
              "    </tr>\n",
              "  </tbody>\n",
              "</table>\n",
              "</div>\n",
              "      <button class=\"colab-df-convert\" onclick=\"convertToInteractive('df-4bcc681b-16b2-4807-b24d-34e233bb79f5')\"\n",
              "              title=\"Convert this dataframe to an interactive table.\"\n",
              "              style=\"display:none;\">\n",
              "        \n",
              "  <svg xmlns=\"http://www.w3.org/2000/svg\" height=\"24px\"viewBox=\"0 0 24 24\"\n",
              "       width=\"24px\">\n",
              "    <path d=\"M0 0h24v24H0V0z\" fill=\"none\"/>\n",
              "    <path d=\"M18.56 5.44l.94 2.06.94-2.06 2.06-.94-2.06-.94-.94-2.06-.94 2.06-2.06.94zm-11 1L8.5 8.5l.94-2.06 2.06-.94-2.06-.94L8.5 2.5l-.94 2.06-2.06.94zm10 10l.94 2.06.94-2.06 2.06-.94-2.06-.94-.94-2.06-.94 2.06-2.06.94z\"/><path d=\"M17.41 7.96l-1.37-1.37c-.4-.4-.92-.59-1.43-.59-.52 0-1.04.2-1.43.59L10.3 9.45l-7.72 7.72c-.78.78-.78 2.05 0 2.83L4 21.41c.39.39.9.59 1.41.59.51 0 1.02-.2 1.41-.59l7.78-7.78 2.81-2.81c.8-.78.8-2.07 0-2.86zM5.41 20L4 18.59l7.72-7.72 1.47 1.35L5.41 20z\"/>\n",
              "  </svg>\n",
              "      </button>\n",
              "      \n",
              "  <style>\n",
              "    .colab-df-container {\n",
              "      display:flex;\n",
              "      flex-wrap:wrap;\n",
              "      gap: 12px;\n",
              "    }\n",
              "\n",
              "    .colab-df-convert {\n",
              "      background-color: #E8F0FE;\n",
              "      border: none;\n",
              "      border-radius: 50%;\n",
              "      cursor: pointer;\n",
              "      display: none;\n",
              "      fill: #1967D2;\n",
              "      height: 32px;\n",
              "      padding: 0 0 0 0;\n",
              "      width: 32px;\n",
              "    }\n",
              "\n",
              "    .colab-df-convert:hover {\n",
              "      background-color: #E2EBFA;\n",
              "      box-shadow: 0px 1px 2px rgba(60, 64, 67, 0.3), 0px 1px 3px 1px rgba(60, 64, 67, 0.15);\n",
              "      fill: #174EA6;\n",
              "    }\n",
              "\n",
              "    [theme=dark] .colab-df-convert {\n",
              "      background-color: #3B4455;\n",
              "      fill: #D2E3FC;\n",
              "    }\n",
              "\n",
              "    [theme=dark] .colab-df-convert:hover {\n",
              "      background-color: #434B5C;\n",
              "      box-shadow: 0px 1px 3px 1px rgba(0, 0, 0, 0.15);\n",
              "      filter: drop-shadow(0px 1px 2px rgba(0, 0, 0, 0.3));\n",
              "      fill: #FFFFFF;\n",
              "    }\n",
              "  </style>\n",
              "\n",
              "      <script>\n",
              "        const buttonEl =\n",
              "          document.querySelector('#df-4bcc681b-16b2-4807-b24d-34e233bb79f5 button.colab-df-convert');\n",
              "        buttonEl.style.display =\n",
              "          google.colab.kernel.accessAllowed ? 'block' : 'none';\n",
              "\n",
              "        async function convertToInteractive(key) {\n",
              "          const element = document.querySelector('#df-4bcc681b-16b2-4807-b24d-34e233bb79f5');\n",
              "          const dataTable =\n",
              "            await google.colab.kernel.invokeFunction('convertToInteractive',\n",
              "                                                     [key], {});\n",
              "          if (!dataTable) return;\n",
              "\n",
              "          const docLinkHtml = 'Like what you see? Visit the ' +\n",
              "            '<a target=\"_blank\" href=https://colab.research.google.com/notebooks/data_table.ipynb>data table notebook</a>'\n",
              "            + ' to learn more about interactive tables.';\n",
              "          element.innerHTML = '';\n",
              "          dataTable['output_type'] = 'display_data';\n",
              "          await google.colab.output.renderOutput(dataTable, element);\n",
              "          const docLink = document.createElement('div');\n",
              "          docLink.innerHTML = docLinkHtml;\n",
              "          element.appendChild(docLink);\n",
              "        }\n",
              "      </script>\n",
              "    </div>\n",
              "  </div>\n",
              "  "
            ],
            "text/plain": [
              "                  label                                               text  \\\n",
              "0  financial_statements   \\n\\nASSETS\\n \\n \\n \\n \\n \\n \\n \\n \\n\\nCurrent...   \n",
              "1  financial_statements   \\n108\\nTable of Contents\\nEnvestnet Inc \\nNot...   \n",
              "2              business  Qumu s implementations can range in size from ...   \n",
              "3              business  Growing Existing Markets\\nSherpa s goals for g...   \n",
              "4          risk_factors  Any of these events or other currently unfores...   \n",
              "\n",
              "                   result  \n",
              "0  [financial_statements]  \n",
              "1  [financial_statements]  \n",
              "2              [business]  \n",
              "3              [business]  \n",
              "4          [risk_factors]  "
            ]
          },
          "execution_count": 42,
          "metadata": {},
          "output_type": "execute_result"
        }
      ],
      "source": [
        "preds_df = preds.select(\"label\", \"text\", \"class.result\").toPandas()\n",
        "preds_df.head()"
      ]
    },
    {
      "cell_type": "code",
      "execution_count": 43,
      "id": "Oo0X1tyacT7P",
      "metadata": {
        "id": "Oo0X1tyacT7P"
      },
      "outputs": [],
      "source": [
        "# The result is an array since in Spark NLP you can have multiple sentences.\n",
        "# Let's explode the array and get the item(s) inside of result column out\n",
        "preds_df['result'] = preds_df['result'].apply(lambda x : x[0])"
      ]
    },
    {
      "cell_type": "code",
      "execution_count": 44,
      "id": "VOvxSG6Afz5d",
      "metadata": {
        "colab": {
          "base_uri": "https://localhost:8080/"
        },
        "id": "VOvxSG6Afz5d",
        "outputId": "c46649b6-7cd1-4da9-c9f0-970debf5142f"
      },
      "outputs": [
        {
          "name": "stdout",
          "output_type": "stream",
          "text": [
            "                      precision    recall  f1-score   support\n",
            "\n",
            "            business       1.00      0.75      0.86        20\n",
            "financial_statements       0.95      0.93      0.94        40\n",
            "        risk_factors       0.83      0.95      0.88        40\n",
            "\n",
            "            accuracy                           0.90       100\n",
            "           macro avg       0.92      0.88      0.89       100\n",
            "        weighted avg       0.91      0.90      0.90       100\n",
            "\n"
          ]
        }
      ],
      "source": [
        "# We are going to use sklearn to evalute the results on test dataset\n",
        "from sklearn.metrics import classification_report\n",
        "\n",
        "print (classification_report(preds_df['label'], preds_df['result']))"
      ]
    },
    {
      "cell_type": "markdown",
      "id": "IHzIfMSuUgiD",
      "metadata": {
        "id": "IHzIfMSuUgiD"
      },
      "source": [
        "### Saving & loading back the trained model"
      ]
    },
    {
      "cell_type": "code",
      "execution_count": 45,
      "id": "r5Tec2WwUhP1",
      "metadata": {
        "colab": {
          "base_uri": "https://localhost:8080/"
        },
        "id": "r5Tec2WwUhP1",
        "outputId": "a0c885d0-93d1-4513-99ca-45f3aac5d60f"
      },
      "outputs": [
        {
          "data": {
            "text/plain": [
              "[DocumentAssembler_8ac2e16e3c46,\n",
              " UNIVERSAL_SENTENCE_ENCODER_4de71669b7ec,\n",
              " FinanceClassifierDLModel_1ac6b46a0592]"
            ]
          },
          "execution_count": 45,
          "metadata": {},
          "output_type": "execute_result"
        }
      ],
      "source": [
        "clf_pipelineModel.stages"
      ]
    },
    {
      "cell_type": "code",
      "execution_count": 46,
      "id": "4hjFsxVsUps_",
      "metadata": {
        "id": "4hjFsxVsUps_"
      },
      "outputs": [],
      "source": [
        "clf_pipelineModel.stages[-1].write().overwrite().save('Clf_Use')"
      ]
    },
    {
      "cell_type": "code",
      "execution_count": 47,
      "id": "UUdl5FoBbE5X",
      "metadata": {
        "id": "UUdl5FoBbE5X"
      },
      "outputs": [],
      "source": [
        "# Load back  saved Classifier Model\n",
        "ClfModel = finance.ClassifierDLModel.load('Clf_Use')"
      ]
    },
    {
      "cell_type": "code",
      "execution_count": 48,
      "id": "295Ip9xZcjU-",
      "metadata": {
        "id": "295Ip9xZcjU-"
      },
      "outputs": [],
      "source": [
        "ld_pipeline = nlp.Pipeline(stages=[document_assembler, embeddings, ClfModel])\n",
        "ld_pipeline_model = ld_pipeline.fit(spark.createDataFrame([[\"\"]]).toDF(\"text\"))"
      ]
    },
    {
      "cell_type": "code",
      "execution_count": 49,
      "id": "Gdm6mxvadFyj",
      "metadata": {
        "id": "Gdm6mxvadFyj"
      },
      "outputs": [],
      "source": [
        "# Apply Model Transform to testData\n",
        "ld_preds = ld_pipeline_model.transform(test)"
      ]
    },
    {
      "cell_type": "code",
      "execution_count": 50,
      "id": "aQYCSHcIdJbi",
      "metadata": {
        "id": "aQYCSHcIdJbi"
      },
      "outputs": [],
      "source": [
        "ld_preds_df = ld_preds.select(\"text\", \"label\", \"class.result\").toPandas()"
      ]
    },
    {
      "cell_type": "code",
      "execution_count": 51,
      "id": "VZnsGh6YdVUf",
      "metadata": {
        "colab": {
          "base_uri": "https://localhost:8080/",
          "height": 206
        },
        "id": "VZnsGh6YdVUf",
        "outputId": "73e41372-2286-480d-dd2a-40a8c90b800c"
      },
      "outputs": [
        {
          "data": {
            "text/html": [
              "\n",
              "  <div id=\"df-90702b08-626d-4815-bd0c-cf8fc378807c\">\n",
              "    <div class=\"colab-df-container\">\n",
              "      <div>\n",
              "<style scoped>\n",
              "    .dataframe tbody tr th:only-of-type {\n",
              "        vertical-align: middle;\n",
              "    }\n",
              "\n",
              "    .dataframe tbody tr th {\n",
              "        vertical-align: top;\n",
              "    }\n",
              "\n",
              "    .dataframe thead th {\n",
              "        text-align: right;\n",
              "    }\n",
              "</style>\n",
              "<table border=\"1\" class=\"dataframe\">\n",
              "  <thead>\n",
              "    <tr style=\"text-align: right;\">\n",
              "      <th></th>\n",
              "      <th>text</th>\n",
              "      <th>label</th>\n",
              "      <th>result</th>\n",
              "    </tr>\n",
              "  </thead>\n",
              "  <tbody>\n",
              "    <tr>\n",
              "      <th>0</th>\n",
              "      <td>\\n\\nASSETS\\n \\n \\n \\n \\n \\n \\n \\n \\n\\nCurrent...</td>\n",
              "      <td>financial_statements</td>\n",
              "      <td>[financial_statements]</td>\n",
              "    </tr>\n",
              "    <tr>\n",
              "      <th>1</th>\n",
              "      <td>\\n108\\nTable of Contents\\nEnvestnet Inc \\nNot...</td>\n",
              "      <td>financial_statements</td>\n",
              "      <td>[financial_statements]</td>\n",
              "    </tr>\n",
              "    <tr>\n",
              "      <th>2</th>\n",
              "      <td>Qumu s implementations can range in size from ...</td>\n",
              "      <td>business</td>\n",
              "      <td>[business]</td>\n",
              "    </tr>\n",
              "    <tr>\n",
              "      <th>3</th>\n",
              "      <td>Growing Existing Markets\\nSherpa s goals for g...</td>\n",
              "      <td>business</td>\n",
              "      <td>[business]</td>\n",
              "    </tr>\n",
              "    <tr>\n",
              "      <th>4</th>\n",
              "      <td>Any of these events or other currently unfores...</td>\n",
              "      <td>risk_factors</td>\n",
              "      <td>[risk_factors]</td>\n",
              "    </tr>\n",
              "  </tbody>\n",
              "</table>\n",
              "</div>\n",
              "      <button class=\"colab-df-convert\" onclick=\"convertToInteractive('df-90702b08-626d-4815-bd0c-cf8fc378807c')\"\n",
              "              title=\"Convert this dataframe to an interactive table.\"\n",
              "              style=\"display:none;\">\n",
              "        \n",
              "  <svg xmlns=\"http://www.w3.org/2000/svg\" height=\"24px\"viewBox=\"0 0 24 24\"\n",
              "       width=\"24px\">\n",
              "    <path d=\"M0 0h24v24H0V0z\" fill=\"none\"/>\n",
              "    <path d=\"M18.56 5.44l.94 2.06.94-2.06 2.06-.94-2.06-.94-.94-2.06-.94 2.06-2.06.94zm-11 1L8.5 8.5l.94-2.06 2.06-.94-2.06-.94L8.5 2.5l-.94 2.06-2.06.94zm10 10l.94 2.06.94-2.06 2.06-.94-2.06-.94-.94-2.06-.94 2.06-2.06.94z\"/><path d=\"M17.41 7.96l-1.37-1.37c-.4-.4-.92-.59-1.43-.59-.52 0-1.04.2-1.43.59L10.3 9.45l-7.72 7.72c-.78.78-.78 2.05 0 2.83L4 21.41c.39.39.9.59 1.41.59.51 0 1.02-.2 1.41-.59l7.78-7.78 2.81-2.81c.8-.78.8-2.07 0-2.86zM5.41 20L4 18.59l7.72-7.72 1.47 1.35L5.41 20z\"/>\n",
              "  </svg>\n",
              "      </button>\n",
              "      \n",
              "  <style>\n",
              "    .colab-df-container {\n",
              "      display:flex;\n",
              "      flex-wrap:wrap;\n",
              "      gap: 12px;\n",
              "    }\n",
              "\n",
              "    .colab-df-convert {\n",
              "      background-color: #E8F0FE;\n",
              "      border: none;\n",
              "      border-radius: 50%;\n",
              "      cursor: pointer;\n",
              "      display: none;\n",
              "      fill: #1967D2;\n",
              "      height: 32px;\n",
              "      padding: 0 0 0 0;\n",
              "      width: 32px;\n",
              "    }\n",
              "\n",
              "    .colab-df-convert:hover {\n",
              "      background-color: #E2EBFA;\n",
              "      box-shadow: 0px 1px 2px rgba(60, 64, 67, 0.3), 0px 1px 3px 1px rgba(60, 64, 67, 0.15);\n",
              "      fill: #174EA6;\n",
              "    }\n",
              "\n",
              "    [theme=dark] .colab-df-convert {\n",
              "      background-color: #3B4455;\n",
              "      fill: #D2E3FC;\n",
              "    }\n",
              "\n",
              "    [theme=dark] .colab-df-convert:hover {\n",
              "      background-color: #434B5C;\n",
              "      box-shadow: 0px 1px 3px 1px rgba(0, 0, 0, 0.15);\n",
              "      filter: drop-shadow(0px 1px 2px rgba(0, 0, 0, 0.3));\n",
              "      fill: #FFFFFF;\n",
              "    }\n",
              "  </style>\n",
              "\n",
              "      <script>\n",
              "        const buttonEl =\n",
              "          document.querySelector('#df-90702b08-626d-4815-bd0c-cf8fc378807c button.colab-df-convert');\n",
              "        buttonEl.style.display =\n",
              "          google.colab.kernel.accessAllowed ? 'block' : 'none';\n",
              "\n",
              "        async function convertToInteractive(key) {\n",
              "          const element = document.querySelector('#df-90702b08-626d-4815-bd0c-cf8fc378807c');\n",
              "          const dataTable =\n",
              "            await google.colab.kernel.invokeFunction('convertToInteractive',\n",
              "                                                     [key], {});\n",
              "          if (!dataTable) return;\n",
              "\n",
              "          const docLinkHtml = 'Like what you see? Visit the ' +\n",
              "            '<a target=\"_blank\" href=https://colab.research.google.com/notebooks/data_table.ipynb>data table notebook</a>'\n",
              "            + ' to learn more about interactive tables.';\n",
              "          element.innerHTML = '';\n",
              "          dataTable['output_type'] = 'display_data';\n",
              "          await google.colab.output.renderOutput(dataTable, element);\n",
              "          const docLink = document.createElement('div');\n",
              "          docLink.innerHTML = docLinkHtml;\n",
              "          element.appendChild(docLink);\n",
              "        }\n",
              "      </script>\n",
              "    </div>\n",
              "  </div>\n",
              "  "
            ],
            "text/plain": [
              "                                                text                 label  \\\n",
              "0   \\n\\nASSETS\\n \\n \\n \\n \\n \\n \\n \\n \\n\\nCurrent...  financial_statements   \n",
              "1   \\n108\\nTable of Contents\\nEnvestnet Inc \\nNot...  financial_statements   \n",
              "2  Qumu s implementations can range in size from ...              business   \n",
              "3  Growing Existing Markets\\nSherpa s goals for g...              business   \n",
              "4  Any of these events or other currently unfores...          risk_factors   \n",
              "\n",
              "                   result  \n",
              "0  [financial_statements]  \n",
              "1  [financial_statements]  \n",
              "2              [business]  \n",
              "3              [business]  \n",
              "4          [risk_factors]  "
            ]
          },
          "execution_count": 51,
          "metadata": {},
          "output_type": "execute_result"
        }
      ],
      "source": [
        "ld_preds_df.head()"
      ]
    },
    {
      "cell_type": "markdown",
      "id": "7kKWRZNu0lCL",
      "metadata": {
        "id": "7kKWRZNu0lCL"
      },
      "source": [
        "### Train with Bert Embeddings"
      ]
    },
    {
      "cell_type": "markdown",
      "id": "rHw4ikwLISTb",
      "metadata": {
        "id": "rHw4ikwLISTb"
      },
      "source": [
        "We do not have Financial Sentence Embeddings yet, But we can use the Financial Word Embeddings and then average them. Since this model takes a long time to train, we will train for only one epoch."
      ]
    },
    {
      "cell_type": "code",
      "execution_count": 52,
      "id": "oaiL-Txz0lCM",
      "metadata": {
        "colab": {
          "base_uri": "https://localhost:8080/"
        },
        "id": "oaiL-Txz0lCM",
        "outputId": "8bcaa933-e94e-43df-93a9-7eb43eaeca9d"
      },
      "outputs": [
        {
          "name": "stdout",
          "output_type": "stream",
          "text": [
            "bert_embeddings_sec_bert_base download started this may take some time.\n",
            "Approximate size to download 390.4 MB\n",
            "[OK!]\n"
          ]
        }
      ],
      "source": [
        "embeddings = (\n",
        "    nlp.BertEmbeddings.pretrained(\"bert_embeddings_sec_bert_base\", \"en\")\n",
        "    .setInputCols([\"document\", \"token\"])\n",
        "    .setOutputCol(\"embeddings\")\n",
        ")"
      ]
    },
    {
      "cell_type": "code",
      "execution_count": 53,
      "id": "l3jxCehJ0lCO",
      "metadata": {
        "id": "l3jxCehJ0lCO"
      },
      "outputs": [],
      "source": [
        "document_assembler = (\n",
        "    nlp.DocumentAssembler().setInputCol(\"text\").setOutputCol(\"document\")\n",
        ")\n",
        "\n",
        "tokenizer = nlp.Tokenizer().setInputCols([\"document\"]).setOutputCol(\"token\")\n",
        "\n",
        "embeddingsSentence = (\n",
        "    nlp.SentenceEmbeddings()\n",
        "    .setInputCols([\"document\", \"embeddings\"])\n",
        "    .setOutputCol(\"sentence_embeddings\")\n",
        "    .setPoolingStrategy(\"AVERAGE\")\n",
        ")\n",
        "\n",
        "classifierdl = (\n",
        "    finance.ClassifierDLApproach()\n",
        "    .setInputCols([\"sentence_embeddings\"])\n",
        "    .setOutputCol(\"class\")\n",
        "    .setLabelColumn(\"label\")\n",
        "    .setMaxEpochs(1)\n",
        "    .setLr(0.001)\n",
        "    .setEnableOutputLogs(True)\n",
        "    .setOutputLogsPath(\"multiclass_bert\")\n",
        "    .setBatchSize(4)\n",
        "    .setDropout(0.15)\n",
        ")\n",
        "\n",
        "clf_pipeline = nlp.Pipeline(\n",
        "    stages=[document_assembler, tokenizer, embeddings, embeddingsSentence, classifierdl]\n",
        ")"
      ]
    },
    {
      "cell_type": "code",
      "execution_count": 54,
      "id": "W6qwSLYv0lCP",
      "metadata": {
        "colab": {
          "base_uri": "https://localhost:8080/"
        },
        "id": "W6qwSLYv0lCP",
        "outputId": "863792f0-7a25-4a4e-bbf3-021c1254c1d7"
      },
      "outputs": [
        {
          "name": "stdout",
          "output_type": "stream",
          "text": [
            "CPU times: user 2.48 s, sys: 282 ms, total: 2.77 s\n",
            "Wall time: 6min 38s\n"
          ]
        }
      ],
      "source": [
        "%%time\n",
        "clf_pipelineModel = clf_pipeline.fit(train)"
      ]
    },
    {
      "cell_type": "code",
      "execution_count": 55,
      "id": "IEK22MWg0lCQ",
      "metadata": {
        "id": "IEK22MWg0lCQ"
      },
      "outputs": [],
      "source": [
        "preds = clf_pipelineModel.transform(test)"
      ]
    },
    {
      "cell_type": "code",
      "execution_count": 56,
      "id": "0QMopvFG0lCQ",
      "metadata": {
        "id": "0QMopvFG0lCQ"
      },
      "outputs": [],
      "source": [
        "preds_df = preds.select(\"label\", \"text\", \"class.result\").toPandas()"
      ]
    },
    {
      "cell_type": "code",
      "execution_count": 57,
      "id": "ADdEhII40lCR",
      "metadata": {
        "colab": {
          "base_uri": "https://localhost:8080/",
          "height": 206
        },
        "id": "ADdEhII40lCR",
        "outputId": "612ddc1a-5799-4b1a-ded6-ea5b50892f23"
      },
      "outputs": [
        {
          "data": {
            "text/html": [
              "\n",
              "  <div id=\"df-27c5a52a-f811-4444-8c89-4718bfb6a523\">\n",
              "    <div class=\"colab-df-container\">\n",
              "      <div>\n",
              "<style scoped>\n",
              "    .dataframe tbody tr th:only-of-type {\n",
              "        vertical-align: middle;\n",
              "    }\n",
              "\n",
              "    .dataframe tbody tr th {\n",
              "        vertical-align: top;\n",
              "    }\n",
              "\n",
              "    .dataframe thead th {\n",
              "        text-align: right;\n",
              "    }\n",
              "</style>\n",
              "<table border=\"1\" class=\"dataframe\">\n",
              "  <thead>\n",
              "    <tr style=\"text-align: right;\">\n",
              "      <th></th>\n",
              "      <th>label</th>\n",
              "      <th>text</th>\n",
              "      <th>result</th>\n",
              "    </tr>\n",
              "  </thead>\n",
              "  <tbody>\n",
              "    <tr>\n",
              "      <th>0</th>\n",
              "      <td>financial_statements</td>\n",
              "      <td>\\n\\nASSETS\\n \\n \\n \\n \\n \\n \\n \\n \\n\\nCurrent...</td>\n",
              "      <td>[financial_statements]</td>\n",
              "    </tr>\n",
              "    <tr>\n",
              "      <th>1</th>\n",
              "      <td>financial_statements</td>\n",
              "      <td>\\n108\\nTable of Contents\\nEnvestnet Inc \\nNot...</td>\n",
              "      <td>[financial_statements]</td>\n",
              "    </tr>\n",
              "    <tr>\n",
              "      <th>2</th>\n",
              "      <td>business</td>\n",
              "      <td>Qumu s implementations can range in size from ...</td>\n",
              "      <td>[business]</td>\n",
              "    </tr>\n",
              "    <tr>\n",
              "      <th>3</th>\n",
              "      <td>business</td>\n",
              "      <td>Growing Existing Markets\\nSherpa s goals for g...</td>\n",
              "      <td>[business]</td>\n",
              "    </tr>\n",
              "    <tr>\n",
              "      <th>4</th>\n",
              "      <td>risk_factors</td>\n",
              "      <td>Any of these events or other currently unfores...</td>\n",
              "      <td>[risk_factors]</td>\n",
              "    </tr>\n",
              "  </tbody>\n",
              "</table>\n",
              "</div>\n",
              "      <button class=\"colab-df-convert\" onclick=\"convertToInteractive('df-27c5a52a-f811-4444-8c89-4718bfb6a523')\"\n",
              "              title=\"Convert this dataframe to an interactive table.\"\n",
              "              style=\"display:none;\">\n",
              "        \n",
              "  <svg xmlns=\"http://www.w3.org/2000/svg\" height=\"24px\"viewBox=\"0 0 24 24\"\n",
              "       width=\"24px\">\n",
              "    <path d=\"M0 0h24v24H0V0z\" fill=\"none\"/>\n",
              "    <path d=\"M18.56 5.44l.94 2.06.94-2.06 2.06-.94-2.06-.94-.94-2.06-.94 2.06-2.06.94zm-11 1L8.5 8.5l.94-2.06 2.06-.94-2.06-.94L8.5 2.5l-.94 2.06-2.06.94zm10 10l.94 2.06.94-2.06 2.06-.94-2.06-.94-.94-2.06-.94 2.06-2.06.94z\"/><path d=\"M17.41 7.96l-1.37-1.37c-.4-.4-.92-.59-1.43-.59-.52 0-1.04.2-1.43.59L10.3 9.45l-7.72 7.72c-.78.78-.78 2.05 0 2.83L4 21.41c.39.39.9.59 1.41.59.51 0 1.02-.2 1.41-.59l7.78-7.78 2.81-2.81c.8-.78.8-2.07 0-2.86zM5.41 20L4 18.59l7.72-7.72 1.47 1.35L5.41 20z\"/>\n",
              "  </svg>\n",
              "      </button>\n",
              "      \n",
              "  <style>\n",
              "    .colab-df-container {\n",
              "      display:flex;\n",
              "      flex-wrap:wrap;\n",
              "      gap: 12px;\n",
              "    }\n",
              "\n",
              "    .colab-df-convert {\n",
              "      background-color: #E8F0FE;\n",
              "      border: none;\n",
              "      border-radius: 50%;\n",
              "      cursor: pointer;\n",
              "      display: none;\n",
              "      fill: #1967D2;\n",
              "      height: 32px;\n",
              "      padding: 0 0 0 0;\n",
              "      width: 32px;\n",
              "    }\n",
              "\n",
              "    .colab-df-convert:hover {\n",
              "      background-color: #E2EBFA;\n",
              "      box-shadow: 0px 1px 2px rgba(60, 64, 67, 0.3), 0px 1px 3px 1px rgba(60, 64, 67, 0.15);\n",
              "      fill: #174EA6;\n",
              "    }\n",
              "\n",
              "    [theme=dark] .colab-df-convert {\n",
              "      background-color: #3B4455;\n",
              "      fill: #D2E3FC;\n",
              "    }\n",
              "\n",
              "    [theme=dark] .colab-df-convert:hover {\n",
              "      background-color: #434B5C;\n",
              "      box-shadow: 0px 1px 3px 1px rgba(0, 0, 0, 0.15);\n",
              "      filter: drop-shadow(0px 1px 2px rgba(0, 0, 0, 0.3));\n",
              "      fill: #FFFFFF;\n",
              "    }\n",
              "  </style>\n",
              "\n",
              "      <script>\n",
              "        const buttonEl =\n",
              "          document.querySelector('#df-27c5a52a-f811-4444-8c89-4718bfb6a523 button.colab-df-convert');\n",
              "        buttonEl.style.display =\n",
              "          google.colab.kernel.accessAllowed ? 'block' : 'none';\n",
              "\n",
              "        async function convertToInteractive(key) {\n",
              "          const element = document.querySelector('#df-27c5a52a-f811-4444-8c89-4718bfb6a523');\n",
              "          const dataTable =\n",
              "            await google.colab.kernel.invokeFunction('convertToInteractive',\n",
              "                                                     [key], {});\n",
              "          if (!dataTable) return;\n",
              "\n",
              "          const docLinkHtml = 'Like what you see? Visit the ' +\n",
              "            '<a target=\"_blank\" href=https://colab.research.google.com/notebooks/data_table.ipynb>data table notebook</a>'\n",
              "            + ' to learn more about interactive tables.';\n",
              "          element.innerHTML = '';\n",
              "          dataTable['output_type'] = 'display_data';\n",
              "          await google.colab.output.renderOutput(dataTable, element);\n",
              "          const docLink = document.createElement('div');\n",
              "          docLink.innerHTML = docLinkHtml;\n",
              "          element.appendChild(docLink);\n",
              "        }\n",
              "      </script>\n",
              "    </div>\n",
              "  </div>\n",
              "  "
            ],
            "text/plain": [
              "                  label                                               text  \\\n",
              "0  financial_statements   \\n\\nASSETS\\n \\n \\n \\n \\n \\n \\n \\n \\n\\nCurrent...   \n",
              "1  financial_statements   \\n108\\nTable of Contents\\nEnvestnet Inc \\nNot...   \n",
              "2              business  Qumu s implementations can range in size from ...   \n",
              "3              business  Growing Existing Markets\\nSherpa s goals for g...   \n",
              "4          risk_factors  Any of these events or other currently unfores...   \n",
              "\n",
              "                   result  \n",
              "0  [financial_statements]  \n",
              "1  [financial_statements]  \n",
              "2              [business]  \n",
              "3              [business]  \n",
              "4          [risk_factors]  "
            ]
          },
          "execution_count": 57,
          "metadata": {},
          "output_type": "execute_result"
        }
      ],
      "source": [
        "preds_df.head()"
      ]
    },
    {
      "cell_type": "code",
      "execution_count": 58,
      "id": "eVFKUw5cZeXB",
      "metadata": {
        "colab": {
          "base_uri": "https://localhost:8080/"
        },
        "id": "eVFKUw5cZeXB",
        "outputId": "c509290e-fb1d-4a22-a2c9-0d4dccc4f336"
      },
      "outputs": [
        {
          "name": "stdout",
          "output_type": "stream",
          "text": [
            "Training started - epochs: 1 - learning_rate: 0.001 - batch_size: 4 - training_examples: 900 - classes: 3\n",
            "Epoch 0/1 - 1.87s - loss: 169.53094 - acc: 0.81 - batches: 225\n",
            "\n"
          ]
        }
      ],
      "source": [
        "log_files = os.listdir(\"multiclass_bert\")\n",
        "\n",
        "with open(\"multiclass_bert/\"+log_files[0], \"r\") as log_file :\n",
        "    print(log_file.read())"
      ]
    },
    {
      "cell_type": "code",
      "execution_count": 59,
      "id": "wvc6vZjH0lCS",
      "metadata": {
        "colab": {
          "base_uri": "https://localhost:8080/"
        },
        "id": "wvc6vZjH0lCS",
        "outputId": "b06ec1ba-7665-4fb2-f88a-5f086d33a153"
      },
      "outputs": [
        {
          "name": "stdout",
          "output_type": "stream",
          "text": [
            "                      precision    recall  f1-score   support\n",
            "\n",
            "            business       1.00      0.80      0.89        20\n",
            "financial_statements       0.94      0.82      0.88        40\n",
            "        risk_factors       0.80      0.97      0.88        40\n",
            "\n",
            "            accuracy                           0.88       100\n",
            "           macro avg       0.91      0.87      0.88       100\n",
            "        weighted avg       0.90      0.88      0.88       100\n",
            "\n"
          ]
        }
      ],
      "source": [
        "# Let's explode the array and get the item(s) inside of result column out\n",
        "preds_df['result'] = preds_df['result'].apply(lambda x : x[0])\n",
        "\n",
        "from sklearn.metrics import classification_report\n",
        "\n",
        "print (classification_report(preds_df['label'], preds_df['result']))\n"
      ]
    },
    {
      "cell_type": "markdown",
      "id": "rMHZmT9_deAQ",
      "metadata": {
        "id": "rMHZmT9_deAQ"
      },
      "source": [
        "# Save model and Zip it for Modelshub Upload/Downloads"
      ]
    },
    {
      "cell_type": "code",
      "execution_count": 60,
      "id": "QZ79YbdodfFc",
      "metadata": {
        "colab": {
          "base_uri": "https://localhost:8080/"
        },
        "id": "QZ79YbdodfFc",
        "outputId": "76f52158-55f9-4c66-bebb-ebbbf3f8c116"
      },
      "outputs": [
        {
          "name": "stdout",
          "output_type": "stream",
          "text": [
            "  adding: classifierdl_tensorflow (deflated 57%)\n",
            "  adding: fields/ (stored 0%)\n",
            "  adding: fields/datasetParams/ (stored 0%)\n",
            "  adding: fields/datasetParams/.part-00002.crc (stored 0%)\n",
            "  adding: fields/datasetParams/part-00003 (deflated 30%)\n",
            "  adding: fields/datasetParams/.part-00000.crc (stored 0%)\n",
            "  adding: fields/datasetParams/_SUCCESS (stored 0%)\n",
            "  adding: fields/datasetParams/.part-00003.crc (stored 0%)\n",
            "  adding: fields/datasetParams/part-00002 (deflated 27%)\n",
            "  adding: fields/datasetParams/._SUCCESS.crc (stored 0%)\n",
            "  adding: fields/datasetParams/part-00001 (deflated 27%)\n",
            "  adding: fields/datasetParams/.part-00001.crc (stored 0%)\n",
            "  adding: fields/datasetParams/part-00000 (deflated 27%)\n",
            "  adding: metadata/ (stored 0%)\n",
            "  adding: metadata/.part-00000.crc (stored 0%)\n",
            "  adding: metadata/_SUCCESS (stored 0%)\n",
            "  adding: metadata/._SUCCESS.crc (stored 0%)\n",
            "  adding: metadata/part-00000 (deflated 40%)\n"
          ]
        }
      ],
      "source": [
        "# Save a Spark NLP model\n",
        "clf_pipelineModel.stages[-1].write().overwrite().save('ClfBert')\n",
        "\n",
        "# cd into saved dir and zip\n",
        "! cd ClfBert ; zip -r ClfBert.zip *"
      ]
    }
  ],
  "metadata": {
    "colab": {
      "machine_shape": "hm",
      "provenance": []
    },
    "gpuClass": "premium",
    "kernelspec": {
      "display_name": "Python 3",
      "language": "python",
      "name": "python3"
    },
    "language_info": {
      "codemirror_mode": {
        "name": "ipython",
        "version": 3
      },
      "file_extension": ".py",
      "mimetype": "text/x-python",
      "name": "python",
      "nbconvert_exporter": "python",
      "pygments_lexer": "ipython3",
      "version": "3.10.9 (tags/v3.10.9:1dd9be6, Dec  6 2022, 20:01:21) [MSC v.1934 64 bit (AMD64)]"
    },
    "vscode": {
      "interpreter": {
        "hash": "eaaf1efa59a88a5a39769af8d2cb09ad2646375b6f26a94367c2f840c23a5e60"
      }
    }
  },
  "nbformat": 4,
  "nbformat_minor": 5
}
