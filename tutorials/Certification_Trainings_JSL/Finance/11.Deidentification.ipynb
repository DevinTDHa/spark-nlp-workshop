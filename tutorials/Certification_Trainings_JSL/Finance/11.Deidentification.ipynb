{
 "cells": [
  {
   "cell_type": "markdown",
   "id": "1a17817b-ca1b-425a-ba6b-ae879faa0e9d",
   "metadata": {
    "id": "1a17817b-ca1b-425a-ba6b-ae879faa0e9d"
   },
   "source": [
    "![JohnSnowLabs](https://nlp.johnsnowlabs.com/assets/images/logo.png)"
   ]
  },
  {
   "cell_type": "markdown",
   "id": "21e9eafb",
   "metadata": {
    "id": "21e9eafb"
   },
   "source": [
    "[![Open In Colab](https://colab.research.google.com/assets/colab-badge.svg)](https://colab.research.google.com/github/JohnSnowLabs/spark-nlp-workshop/blob/master/tutorials/Certification_Trainings_JSL/Finance/11.Deidentification.ipynb)"
   ]
  },
  {
   "cell_type": "markdown",
   "id": "fb2ac5e3-fe7c-4431-bb24-3c48649be54b",
   "metadata": {
    "id": "fb2ac5e3-fe7c-4431-bb24-3c48649be54b"
   },
   "source": [
    "# Financial Deidentification"
   ]
  },
  {
   "cell_type": "markdown",
   "id": "8053010f-fd6f-4224-ba3b-3d009befe3bd",
   "metadata": {
    "id": "8053010f-fd6f-4224-ba3b-3d009befe3bd"
   },
   "source": [
    "## Colab Setup"
   ]
  },
  {
   "cell_type": "code",
   "execution_count": 1,
   "id": "ELqzaf32MT6E",
   "metadata": {
    "id": "ELqzaf32MT6E",
    "colab": {
     "base_uri": "https://localhost:8080/"
    },
    "outputId": "f93ca2a5-85a3-45b7-c9e4-0a0c7c1a33dc"
   },
   "outputs": [
    {
     "output_type": "stream",
     "name": "stdout",
     "text": [
      "Looking in indexes: https://pypi.org/simple, https://us-python.pkg.dev/colab-wheels/public/simple/\n",
      "Collecting johnsnowlabs\n",
      "  Downloading johnsnowlabs-4.2.5-py3-none-any.whl (74 kB)\n",
      "\u001B[2K     \u001B[90m━━━━━━━━━━━━━━━━━━━━━━━━━━━━━━━━━━━━━━━━\u001B[0m \u001B[32m74.2/74.2 KB\u001B[0m \u001B[31m3.2 MB/s\u001B[0m eta \u001B[36m0:00:00\u001B[0m\n",
      "\u001B[?25hRequirement already satisfied: pydantic in /usr/local/lib/python3.8/dist-packages (from johnsnowlabs) (1.10.2)\n",
      "Collecting nlu==4.0.1rc4\n",
      "  Downloading nlu-4.0.1rc4-py3-none-any.whl (570 kB)\n",
      "\u001B[2K     \u001B[90m━━━━━━━━━━━━━━━━━━━━━━━━━━━━━━━━━━━━━━\u001B[0m \u001B[32m570.6/570.6 KB\u001B[0m \u001B[31m14.8 MB/s\u001B[0m eta \u001B[36m0:00:00\u001B[0m\n",
      "\u001B[?25hCollecting databricks-api\n",
      "  Downloading databricks_api-0.8.0-py3-none-any.whl (7.2 kB)\n",
      "Collecting pyspark==3.1.2\n",
      "  Downloading pyspark-3.1.2.tar.gz (212.4 MB)\n",
      "\u001B[2K     \u001B[90m━━━━━━━━━━━━━━━━━━━━━━━━━━━━━━━━━━━━━━━\u001B[0m \u001B[32m212.4/212.4 MB\u001B[0m \u001B[31m5.1 MB/s\u001B[0m eta \u001B[36m0:00:00\u001B[0m\n",
      "\u001B[?25h  Preparing metadata (setup.py) ... \u001B[?25l\u001B[?25hdone\n",
      "Requirement already satisfied: requests in /usr/local/lib/python3.8/dist-packages (from johnsnowlabs) (2.25.1)\n",
      "Collecting spark-nlp-display==4.1\n",
      "  Downloading spark_nlp_display-4.1-py3-none-any.whl (95 kB)\n",
      "\u001B[2K     \u001B[90m━━━━━━━━━━━━━━━━━━━━━━━━━━━━━━━━━━━━━━━━\u001B[0m \u001B[32m95.4/95.4 KB\u001B[0m \u001B[31m10.3 MB/s\u001B[0m eta \u001B[36m0:00:00\u001B[0m\n",
      "\u001B[?25hCollecting spark-nlp==4.2.4\n",
      "  Downloading spark_nlp-4.2.4-py2.py3-none-any.whl (448 kB)\n",
      "\u001B[2K     \u001B[90m━━━━━━━━━━━━━━━━━━━━━━━━━━━━━━━━━━━━━━\u001B[0m \u001B[32m448.4/448.4 KB\u001B[0m \u001B[31m26.8 MB/s\u001B[0m eta \u001B[36m0:00:00\u001B[0m\n",
      "\u001B[?25hCollecting dataclasses\n",
      "  Downloading dataclasses-0.6-py3-none-any.whl (14 kB)\n",
      "Collecting colorama\n",
      "  Downloading colorama-0.4.6-py2.py3-none-any.whl (25 kB)\n",
      "Requirement already satisfied: numpy in /usr/local/lib/python3.8/dist-packages (from johnsnowlabs) (1.21.6)\n",
      "Requirement already satisfied: pyarrow>=0.16.0 in /usr/local/lib/python3.8/dist-packages (from nlu==4.0.1rc4->johnsnowlabs) (9.0.0)\n",
      "Requirement already satisfied: pandas>=1.3.5 in /usr/local/lib/python3.8/dist-packages (from nlu==4.0.1rc4->johnsnowlabs) (1.3.5)\n",
      "Collecting py4j==0.10.9\n",
      "  Downloading py4j-0.10.9-py2.py3-none-any.whl (198 kB)\n",
      "\u001B[2K     \u001B[90m━━━━━━━━━━━━━━━━━━━━━━━━━━━━━━━━━━━━━━\u001B[0m \u001B[32m198.6/198.6 KB\u001B[0m \u001B[31m18.2 MB/s\u001B[0m eta \u001B[36m0:00:00\u001B[0m\n",
      "\u001B[?25hRequirement already satisfied: ipython in /usr/local/lib/python3.8/dist-packages (from spark-nlp-display==4.1->johnsnowlabs) (7.9.0)\n",
      "Collecting svgwrite==1.4\n",
      "  Downloading svgwrite-1.4-py3-none-any.whl (66 kB)\n",
      "\u001B[2K     \u001B[90m━━━━━━━━━━━━━━━━━━━━━━━━━━━━━━━━━━━━━━━━\u001B[0m \u001B[32m66.9/66.9 KB\u001B[0m \u001B[31m6.8 MB/s\u001B[0m eta \u001B[36m0:00:00\u001B[0m\n",
      "\u001B[?25hCollecting databricks-cli\n",
      "  Downloading databricks-cli-0.17.4.tar.gz (82 kB)\n",
      "\u001B[2K     \u001B[90m━━━━━━━━━━━━━━━━━━━━━━━━━━━━━━━━━━━━━━━━\u001B[0m \u001B[32m82.3/82.3 KB\u001B[0m \u001B[31m8.6 MB/s\u001B[0m eta \u001B[36m0:00:00\u001B[0m\n",
      "\u001B[?25h  Preparing metadata (setup.py) ... \u001B[?25l\u001B[?25hdone\n",
      "Requirement already satisfied: typing-extensions>=4.1.0 in /usr/local/lib/python3.8/dist-packages (from pydantic->johnsnowlabs) (4.4.0)\n",
      "Requirement already satisfied: urllib3<1.27,>=1.21.1 in /usr/local/lib/python3.8/dist-packages (from requests->johnsnowlabs) (1.24.3)\n",
      "Requirement already satisfied: idna<3,>=2.5 in /usr/local/lib/python3.8/dist-packages (from requests->johnsnowlabs) (2.10)\n",
      "Requirement already satisfied: certifi>=2017.4.17 in /usr/local/lib/python3.8/dist-packages (from requests->johnsnowlabs) (2022.12.7)\n",
      "Requirement already satisfied: chardet<5,>=3.0.2 in /usr/local/lib/python3.8/dist-packages (from requests->johnsnowlabs) (4.0.0)\n",
      "Requirement already satisfied: python-dateutil>=2.7.3 in /usr/local/lib/python3.8/dist-packages (from pandas>=1.3.5->nlu==4.0.1rc4->johnsnowlabs) (2.8.2)\n",
      "Requirement already satisfied: pytz>=2017.3 in /usr/local/lib/python3.8/dist-packages (from pandas>=1.3.5->nlu==4.0.1rc4->johnsnowlabs) (2022.7)\n",
      "Requirement already satisfied: click>=7.0 in /usr/local/lib/python3.8/dist-packages (from databricks-cli->databricks-api->johnsnowlabs) (7.1.2)\n",
      "Collecting pyjwt>=1.7.0\n",
      "  Downloading PyJWT-2.6.0-py3-none-any.whl (20 kB)\n",
      "Requirement already satisfied: oauthlib>=3.1.0 in /usr/local/lib/python3.8/dist-packages (from databricks-cli->databricks-api->johnsnowlabs) (3.2.2)\n",
      "Requirement already satisfied: tabulate>=0.7.7 in /usr/local/lib/python3.8/dist-packages (from databricks-cli->databricks-api->johnsnowlabs) (0.8.10)\n",
      "Requirement already satisfied: six>=1.10.0 in /usr/local/lib/python3.8/dist-packages (from databricks-cli->databricks-api->johnsnowlabs) (1.15.0)\n",
      "Requirement already satisfied: pexpect in /usr/local/lib/python3.8/dist-packages (from ipython->spark-nlp-display==4.1->johnsnowlabs) (4.8.0)\n",
      "Requirement already satisfied: decorator in /usr/local/lib/python3.8/dist-packages (from ipython->spark-nlp-display==4.1->johnsnowlabs) (4.4.2)\n",
      "Requirement already satisfied: setuptools>=18.5 in /usr/local/lib/python3.8/dist-packages (from ipython->spark-nlp-display==4.1->johnsnowlabs) (57.4.0)\n",
      "Requirement already satisfied: pygments in /usr/local/lib/python3.8/dist-packages (from ipython->spark-nlp-display==4.1->johnsnowlabs) (2.6.1)\n",
      "Collecting jedi>=0.10\n",
      "  Downloading jedi-0.18.2-py2.py3-none-any.whl (1.6 MB)\n",
      "\u001B[2K     \u001B[90m━━━━━━━━━━━━━━━━━━━━━━━━━━━━━━━━━━━━━━━━\u001B[0m \u001B[32m1.6/1.6 MB\u001B[0m \u001B[31m50.3 MB/s\u001B[0m eta \u001B[36m0:00:00\u001B[0m\n",
      "\u001B[?25hRequirement already satisfied: prompt-toolkit<2.1.0,>=2.0.0 in /usr/local/lib/python3.8/dist-packages (from ipython->spark-nlp-display==4.1->johnsnowlabs) (2.0.10)\n",
      "Requirement already satisfied: backcall in /usr/local/lib/python3.8/dist-packages (from ipython->spark-nlp-display==4.1->johnsnowlabs) (0.2.0)\n",
      "Requirement already satisfied: pickleshare in /usr/local/lib/python3.8/dist-packages (from ipython->spark-nlp-display==4.1->johnsnowlabs) (0.7.5)\n",
      "Requirement already satisfied: traitlets>=4.2 in /usr/local/lib/python3.8/dist-packages (from ipython->spark-nlp-display==4.1->johnsnowlabs) (5.7.1)\n",
      "Requirement already satisfied: parso<0.9.0,>=0.8.0 in /usr/local/lib/python3.8/dist-packages (from jedi>=0.10->ipython->spark-nlp-display==4.1->johnsnowlabs) (0.8.3)\n",
      "Requirement already satisfied: wcwidth in /usr/local/lib/python3.8/dist-packages (from prompt-toolkit<2.1.0,>=2.0.0->ipython->spark-nlp-display==4.1->johnsnowlabs) (0.2.5)\n",
      "Requirement already satisfied: ptyprocess>=0.5 in /usr/local/lib/python3.8/dist-packages (from pexpect->ipython->spark-nlp-display==4.1->johnsnowlabs) (0.7.0)\n",
      "Building wheels for collected packages: pyspark, databricks-cli\n",
      "  Building wheel for pyspark (setup.py) ... \u001B[?25l\u001B[?25hdone\n",
      "  Created wheel for pyspark: filename=pyspark-3.1.2-py2.py3-none-any.whl size=212880769 sha256=79be79dadcf7e9f609f2cb3d9f6a69de286025fd482937e95e7e1eeb5488199d\n",
      "  Stored in directory: /root/.cache/pip/wheels/df/88/9e/58ef1f74892fef590330ca0830b5b6d995ba29b44f977b3926\n",
      "  Building wheel for databricks-cli (setup.py) ... \u001B[?25l\u001B[?25hdone\n",
      "  Created wheel for databricks-cli: filename=databricks_cli-0.17.4-py3-none-any.whl size=142894 sha256=a9b2587f24ef6964687a7a2da0ba2fadfa1c09826de159452edbfc667a64051c\n",
      "  Stored in directory: /root/.cache/pip/wheels/48/7c/6e/4bf2c1748c7ecf994ca951591de81674ed6bf633e1e337d873\n",
      "Successfully built pyspark databricks-cli\n",
      "Installing collected packages: spark-nlp, py4j, dataclasses, svgwrite, pyspark, pyjwt, jedi, colorama, databricks-cli, spark-nlp-display, nlu, databricks-api, johnsnowlabs\n",
      "Successfully installed colorama-0.4.6 databricks-api-0.8.0 databricks-cli-0.17.4 dataclasses-0.6 jedi-0.18.2 johnsnowlabs-4.2.5 nlu-4.0.1rc4 py4j-0.10.9 pyjwt-2.6.0 pyspark-3.1.2 spark-nlp-4.2.4 spark-nlp-display-4.1 svgwrite-1.4\n"
     ]
    }
   ],
   "source": [
    "# Install the johnsnowlabs library to access Spark-OCR and Spark-NLP for Healthcare, Finance, and Legal.\n",
    "! pip install johnsnowlabs "
   ]
  },
  {
   "cell_type": "code",
   "source": [
    "from johnsnowlabs import nlp, finance\n",
    "\n",
    "nlp.install(force_browser=True)"
   ],
   "metadata": {
    "id": "RO2dIA414yL_",
    "colab": {
     "base_uri": "https://localhost:8080/",
     "height": 268
    },
    "outputId": "6294976c-2c5f-4638-d01e-80ab322c7649"
   },
   "execution_count": 2,
   "outputs": [
    {
     "output_type": "display_data",
     "data": {
      "text/plain": [
       "<IPython.core.display.Javascript object>"
      ],
      "application/javascript": [
       "\n",
       "        var a = document.createElement(\"a\");\n",
       "        a.id=\"auth-btn\"\n",
       "        a.setAttribute(\"target\", \"_blank\");\n",
       "        a.href=\"https://my.johnsnowlabs.com/oauth/authorize/?client_id=sI4MKSmLHOX2Pg7XhM3McJS2oyKG5PHcp0BlANEW&response_type=code&code_challenge_method=S256&code_challenge=WMFBnybhDiMickFFWbi5VjTmX1xiBajNc316i6eAglc&redirect_uri=https%3A%2F%2Fn486876qs7p-496ff2e9c6d22116-8000-colab.googleusercontent.com%2Flogin\";\n",
       "        a.style=\"padding:15px 20px;background-color:#0298d9;border-radius:7px;color:white;text-decoration:none;\"\n",
       "        a.innerText=\"Click here to Authorize on My.Johnsnowlabs.com\"\n",
       "        document.body.appendChild(a);\n",
       "        document.body.style = \"text-align:center;padding-top:15px;\"\n",
       "        a.click()\n",
       "      "
      ]
     },
     "metadata": {}
    },
    {
     "output_type": "stream",
     "name": "stderr",
     "text": [
      "127.0.0.1 - - [06/Jan/2023 18:24:21] \"GET /login?code=ISB6bYwH5EIzMOS8dQS0czPSq2cntn HTTP/1.1\" 200 -\n"
     ]
    },
    {
     "output_type": "display_data",
     "data": {
      "text/plain": [
       "<IPython.core.display.Javascript object>"
      ],
      "application/javascript": [
       "document.body.removeChild(a);"
      ]
     },
     "metadata": {}
    },
    {
     "output_type": "stream",
     "name": "stdout",
     "text": [
      "Downloading license...\n",
      "Licenses extracted successfully\n",
      "📋 Stored John Snow Labs License in /root/.johnsnowlabs/licenses/license_number_0_for_Spark-Healthcare_Spark-OCR.json\n",
      "👷 Setting up  John Snow Labs home in /root/.johnsnowlabs, this might take a few minutes.\n",
      "Downloading 🐍+🚀 Python Library spark_nlp-4.2.4-py2.py3-none-any.whl\n",
      "Downloading 🐍+💊 Python Library spark_nlp_jsl-4.2.4-py3-none-any.whl\n",
      "Downloading 🫘+🚀 Java Library spark-nlp-assembly-4.2.4.jar\n",
      "Downloading 🫘+💊 Java Library spark-nlp-jsl-4.2.4.jar\n",
      "🙆 JSL Home setup in /root/.johnsnowlabs\n",
      "Installing /root/.johnsnowlabs/py_installs/spark_nlp_jsl-4.2.4-py3-none-any.whl to /usr/bin/python3\n",
      "Running: /usr/bin/python3 -m pip install /root/.johnsnowlabs/py_installs/spark_nlp_jsl-4.2.4-py3-none-any.whl\n",
      "Installed 1 products:\n",
      "💊 Spark-Healthcare==4.2.4 installed! ✅ Heal the planet with NLP! \n"
     ]
    }
   ],
   "id": "RO2dIA414yL_"
  },
  {
   "cell_type": "code",
   "source": [
    "spark = nlp.start()"
   ],
   "metadata": {
    "id": "dmcB5zVBHZO8",
    "colab": {
     "base_uri": "https://localhost:8080/"
    },
    "outputId": "e100abbc-e3c9-446d-85bf-542e63970d2d"
   },
   "execution_count": 3,
   "outputs": [
    {
     "output_type": "stream",
     "name": "stdout",
     "text": [
      "👌 Launched \u001B[92mcpu optimized\u001B[39m session with with: 🚀Spark-NLP==4.2.4, 💊Spark-Healthcare==4.2.4, running on ⚡ PySpark==3.1.2\n"
     ]
    }
   ],
   "id": "dmcB5zVBHZO8"
  },
  {
   "cell_type": "markdown",
   "id": "3c5c1990-1e00-4141-8825-5e9e75d402ad",
   "metadata": {
    "id": "3c5c1990-1e00-4141-8825-5e9e75d402ad"
   },
   "source": [
    "# Deidentification Model"
   ]
  },
  {
   "cell_type": "markdown",
   "id": "124c01da-b9a9-4327-a46b-f09d1d89d893",
   "metadata": {
    "id": "124c01da-b9a9-4327-a46b-f09d1d89d893"
   },
   "source": [
    "Some financial information can be considered sensitive. (e.g.,document, organization, address, signer)"
   ]
  },
  {
   "cell_type": "code",
   "execution_count": 4,
   "id": "fc92df9a-8ede-4db3-80b9-be1e713f45d6",
   "metadata": {
    "colab": {
     "base_uri": "https://localhost:8080/"
    },
    "id": "fc92df9a-8ede-4db3-80b9-be1e713f45d6",
    "outputId": "4783b58f-05f9-4a89-eefb-4d9ca46b8139"
   },
   "outputs": [
    {
     "output_type": "stream",
     "name": "stdout",
     "text": [
      "sentence_detector_dl download started this may take some time.\n",
      "Approximate size to download 514.9 KB\n",
      "[OK!]\n",
      "roberta_embeddings_legal_roberta_base download started this may take some time.\n",
      "Approximate size to download 447.2 MB\n",
      "[OK!]\n",
      "finner_deid download started this may take some time.\n",
      "[OK!]\n"
     ]
    }
   ],
   "source": [
    "documentAssembler = nlp.DocumentAssembler()\\\n",
    "    .setInputCol(\"text\")\\\n",
    "    .setOutputCol(\"document\")\n",
    "\n",
    "sentenceDetector =  nlp.SentenceDetectorDLModel.pretrained(\"sentence_detector_dl\",\"xx\")\\\n",
    "    .setInputCols([\"document\"])\\\n",
    "    .setOutputCol(\"sentence\")\n",
    "    #.setCustomBounds([\"\\n\\n\"])\n",
    "\n",
    "tokenizer =  nlp.Tokenizer()\\\n",
    "    .setInputCols([\"sentence\"])\\\n",
    "    .setOutputCol(\"token\")\n",
    "\n",
    "embeddings =  nlp.RoBertaEmbeddings.pretrained(\"roberta_embeddings_legal_roberta_base\",\"en\") \\\n",
    "    .setInputCols([\"sentence\", \"token\"]) \\\n",
    "    .setOutputCol(\"embeddings\")\n",
    "\n",
    "fin_ner = finance.NerModel.pretrained(\"finner_deid\", \"en\", \"finance/models\")\\\n",
    "    .setInputCols([\"sentence\", \"token\", \"embeddings\"]) \\\n",
    "    .setOutputCol(\"ner\") \n",
    "    #.setLabelCasing(\"upper\")\n",
    "\n",
    "ner_converter = finance.NerConverterInternal() \\\n",
    "    .setInputCols([\"sentence\", \"token\", \"ner\"])\\\n",
    "    .setOutputCol(\"ner_chunk\")\\\n",
    "    .setReplaceLabels({\"ORG\": \"PARTY\"}) # Replace \"ORG\" entity as \"PARTY\"\n",
    "\n",
    "nlpPipeline = nlp.Pipeline(stages=[\n",
    "      documentAssembler, \n",
    "      sentenceDetector,\n",
    "      tokenizer,\n",
    "      embeddings,\n",
    "      fin_ner,\n",
    "      ner_converter])\n",
    "\n",
    "empty_data = spark.createDataFrame([[\"\"]]).toDF(\"text\")\n",
    "\n",
    "model = nlpPipeline.fit(empty_data)"
   ]
  },
  {
   "cell_type": "markdown",
   "id": "3ddb9087-f3d2-4b14-89ad-507e3910e889",
   "metadata": {
    "id": "3ddb9087-f3d2-4b14-89ad-507e3910e889",
    "tags": []
   },
   "source": [
    "### Pretrained NER models extracts:\n",
    "- PROFESSION\n",
    "- URL\n",
    "- LOCATION-OTHER\n",
    "- CITY\n",
    "- DATE\n",
    "- ZIP\n",
    "- PERSON\n",
    "- STATE\n",
    "- COUNTRY\n",
    "- STREET\n",
    "- ORG\n",
    "- PHONE\n",
    "- EMAIL\n",
    "- FAX\n",
    "- AGE"
   ]
  },
  {
   "cell_type": "code",
   "execution_count": 5,
   "id": "f594290b-6ea9-47a2-9515-76faed5ab63c",
   "metadata": {
    "colab": {
     "base_uri": "https://localhost:8080/"
    },
    "id": "f594290b-6ea9-47a2-9515-76faed5ab63c",
    "outputId": "25a85ec5-6424-41ee-a532-7a0caaa703e7"
   },
   "outputs": [
    {
     "output_type": "execute_result",
     "data": {
      "text/plain": [
       "['O',\n",
       " 'I-PROFESSION',\n",
       " 'B-PROFESSION',\n",
       " 'B-URL',\n",
       " 'I-LOCATION-OTHER',\n",
       " 'I-URL',\n",
       " 'B-CITY',\n",
       " 'B-DATE',\n",
       " 'I-ZIP',\n",
       " 'I-PERSON',\n",
       " 'B-LOCATION-OTHER',\n",
       " 'B-STATE',\n",
       " 'I-STATE',\n",
       " 'B-PERSON',\n",
       " 'I-CITY',\n",
       " 'I-DATE',\n",
       " 'B-COUNTRY',\n",
       " 'B-ZIP',\n",
       " 'I-STREET',\n",
       " 'B-ORG',\n",
       " 'I-ORG',\n",
       " 'B-PHONE',\n",
       " 'I-PHONE',\n",
       " 'B-EMAIL',\n",
       " 'B-STREET',\n",
       " 'B-FAX',\n",
       " 'B-AGE',\n",
       " 'I-FAX',\n",
       " 'I-AGE',\n",
       " 'I-COUNTRY']"
      ]
     },
     "metadata": {},
     "execution_count": 5
    }
   ],
   "source": [
    "fin_ner.getClasses()"
   ]
  },
  {
   "cell_type": "code",
   "execution_count": 6,
   "id": "5f5fbf4b-ad6c-4042-8fff-4b6082aeed5c",
   "metadata": {
    "id": "5f5fbf4b-ad6c-4042-8fff-4b6082aeed5c"
   },
   "outputs": [],
   "source": [
    "text = \"\"\"\n",
    "(State or other jurisdictionof incorporation or organization)\n",
    "(I.R.S. EmployerIdentification No.)\n",
    "55 Almaden Boulevard, 6th Floor\n",
    "San Jose, California 95113\n",
    "(Address of principal executive offices and Zip Code)\n",
    "799-9666\n",
    "(Registrant’s telephone number, including area code) \"\"\""
   ]
  },
  {
   "cell_type": "code",
   "execution_count": 7,
   "id": "7cd9d648-81ec-46fa-aa02-20506f0ba7dd",
   "metadata": {
    "id": "7cd9d648-81ec-46fa-aa02-20506f0ba7dd"
   },
   "outputs": [],
   "source": [
    "result = model.transform(spark.createDataFrame([[text]]).toDF(\"text\"))"
   ]
  },
  {
   "cell_type": "code",
   "execution_count": 8,
   "id": "3fa9c519-347f-4f63-8f32-b240526ab42e",
   "metadata": {
    "id": "3fa9c519-347f-4f63-8f32-b240526ab42e"
   },
   "outputs": [],
   "source": [
    "from pyspark.sql import functions as F\n",
    "\n",
    "result_df = result.select(F.explode(F.arrays_zip(result.token.result, \n",
    "                                                 result.ner.result)).alias(\"cols\")) \\\n",
    "                  .select(F.expr(\"cols['0']\").alias(\"token\"),\n",
    "                          F.expr(\"cols['1']\").alias(\"ner_label\"))"
   ]
  },
  {
   "cell_type": "code",
   "execution_count": 9,
   "id": "3df21455-9650-4d3d-8b11-8380a0883121",
   "metadata": {
    "colab": {
     "base_uri": "https://localhost:8080/"
    },
    "id": "3df21455-9650-4d3d-8b11-8380a0883121",
    "outputId": "00dc441c-7a67-42b0-ec9b-31677e58a9c7"
   },
   "outputs": [
    {
     "output_type": "stream",
     "name": "stdout",
     "text": [
      "+---------+-----+\n",
      "|ner_label|count|\n",
      "+---------+-----+\n",
      "|O        |38   |\n",
      "|I-STREET |2    |\n",
      "|B-STATE  |1    |\n",
      "|I-CITY   |1    |\n",
      "|B-CITY   |1    |\n",
      "|B-PHONE  |1    |\n",
      "|I-ZIP    |1    |\n",
      "|B-STREET |1    |\n",
      "+---------+-----+\n",
      "\n"
     ]
    }
   ],
   "source": [
    "result_df.select(\"token\", \"ner_label\").groupBy('ner_label').count().orderBy('count', ascending=False).show(truncate=False)"
   ]
  },
  {
   "cell_type": "markdown",
   "id": "ba982823-16d8-477d-9a47-d41d9087523d",
   "metadata": {
    "id": "ba982823-16d8-477d-9a47-d41d9087523d"
   },
   "source": [
    "### Check extracted sensitive entities"
   ]
  },
  {
   "cell_type": "code",
   "execution_count": 10,
   "id": "8e766d87-e1f2-49e3-afe2-f7d0d7703e6f",
   "metadata": {
    "colab": {
     "base_uri": "https://localhost:8080/"
    },
    "id": "8e766d87-e1f2-49e3-afe2-f7d0d7703e6f",
    "outputId": "b3f7b630-03a9-4609-cfcf-836644838409"
   },
   "outputs": [
    {
     "output_type": "stream",
     "name": "stdout",
     "text": [
      "+--------------------+---------+\n",
      "|chunk               |ner_label|\n",
      "+--------------------+---------+\n",
      "|55 Almaden Boulevard|STREET   |\n",
      "|San Jose            |CITY     |\n",
      "|California          |STATE    |\n",
      "|95113               |ZIP      |\n",
      "|799-9666            |PHONE    |\n",
      "+--------------------+---------+\n",
      "\n"
     ]
    }
   ],
   "source": [
    "result.select(F.explode(F.arrays_zip(result.ner_chunk.result, \n",
    "                                     result.ner_chunk.metadata)).alias(\"cols\")) \\\n",
    "      .select(F.expr(\"cols['0']\").alias(\"chunk\"),\n",
    "              F.expr(\"cols['1']['entity']\").alias(\"ner_label\")).show(truncate=False)"
   ]
  },
  {
   "cell_type": "markdown",
   "id": "7cccf04f-6630-4f8c-96af-f5b7e35c119d",
   "metadata": {
    "id": "7cccf04f-6630-4f8c-96af-f5b7e35c119d"
   },
   "source": [
    "## Masking and Obfuscation"
   ]
  },
  {
   "cell_type": "markdown",
   "id": "a4648bf0-9c6e-49b3-9080-7bb3551e1675",
   "metadata": {
    "id": "a4648bf0-9c6e-49b3-9080-7bb3551e1675"
   },
   "source": [
    "### Replace these enitites with Tags"
   ]
  },
  {
   "cell_type": "code",
   "execution_count": 11,
   "id": "fa7ac54e-46d5-4a9b-a74b-3859a283ac65",
   "metadata": {
    "id": "fa7ac54e-46d5-4a9b-a74b-3859a283ac65"
   },
   "outputs": [],
   "source": [
    "ner_converter = finance.NerConverterInternal()\\\n",
    "      .setInputCols([\"sentence\", \"token\", \"ner\"])\\\n",
    "      .setOutputCol(\"ner_chunk\") \n",
    "\n",
    "deidentification = finance.DeIdentification() \\\n",
    "      .setInputCols([\"sentence\", \"token\", \"ner_chunk\"]) \\\n",
    "      .setOutputCol(\"deidentified\") \\\n",
    "      .setMode(\"mask\")\\\n",
    "      .setReturnEntityMappings(True) #  return a new column to save the mappings between the mask/obfuscated entities and original entities.\n",
    "      #.setMappingsColumn(\"MappingCol\") # change the name of the column, 'aux' is default\n",
    "\n",
    "deidPipeline = nlp.Pipeline(stages=[\n",
    "      documentAssembler, \n",
    "      sentenceDetector,\n",
    "      tokenizer,\n",
    "      embeddings,\n",
    "      fin_ner,\n",
    "      ner_converter,\n",
    "      deidentification])\n",
    "\n",
    "empty_data = spark.createDataFrame([[\"\"]]).toDF(\"text\")\n",
    "\n",
    "model_deid = deidPipeline.fit(empty_data)"
   ]
  },
  {
   "cell_type": "code",
   "execution_count": 12,
   "id": "bf417b51-c6d0-44b3-ac80-43da90300247",
   "metadata": {
    "id": "bf417b51-c6d0-44b3-ac80-43da90300247"
   },
   "outputs": [],
   "source": [
    "result = model_deid.transform(spark.createDataFrame([[text]]).toDF(\"text\"))"
   ]
  },
  {
   "cell_type": "code",
   "execution_count": 13,
   "id": "3bf8f80c-4277-4302-8993-a0f88311b66f",
   "metadata": {
    "colab": {
     "base_uri": "https://localhost:8080/"
    },
    "id": "3bf8f80c-4277-4302-8993-a0f88311b66f",
    "outputId": "5491cc48-0735-4472-83a4-b20a11e966cc"
   },
   "outputs": [
    {
     "output_type": "stream",
     "name": "stdout",
     "text": [
      "+--------------------+--------------------+--------------------+--------------------+--------------------+--------------------+--------------------+--------------------+--------------------+\n",
      "|                text|            document|            sentence|               token|          embeddings|                 ner|           ner_chunk|        deidentified|                 aux|\n",
      "+--------------------+--------------------+--------------------+--------------------+--------------------+--------------------+--------------------+--------------------+--------------------+\n",
      "|\n",
      "(State or other ...|[{document, 0, 27...|[{document, 1, 97...|[{token, 1, 1, (,...|[{word_embeddings...|[{named_entity, 1...|[{chunk, 99, 118,...|[{document, 0, 96...|[{chunk, 97, 104,...|\n",
      "+--------------------+--------------------+--------------------+--------------------+--------------------+--------------------+--------------------+--------------------+--------------------+\n",
      "\n"
     ]
    }
   ],
   "source": [
    "result.show()"
   ]
  },
  {
   "cell_type": "code",
   "execution_count": 14,
   "id": "a8892001-1392-4bc2-ab92-81d565c9d996",
   "metadata": {
    "colab": {
     "base_uri": "https://localhost:8080/",
     "height": 206
    },
    "id": "a8892001-1392-4bc2-ab92-81d565c9d996",
    "outputId": "d6d4b62e-1b09-4b05-ea20-ce4cfb2871a9"
   },
   "outputs": [
    {
     "output_type": "execute_result",
     "data": {
      "text/plain": [
       "                                            sentence  \\\n",
       "0  (State or other jurisdictionof incorporation o...   \n",
       "1                    55 Almaden Boulevard, 6th Floor   \n",
       "2                         San Jose, California 95113   \n",
       "3  (Address of principal executive offices and Zi...   \n",
       "4  (Registrant’s telephone number, including area...   \n",
       "\n",
       "                                        deidentified  \n",
       "0  (State or other jurisdictionof incorporation o...  \n",
       "1                                <STREET>, 6th Floor  \n",
       "2                              <CITY>, <STATE> <ZIP>  \n",
       "3  (Address of principal executive offices and Zi...  \n",
       "4  (Registrant’s telephone number, including area...  "
      ],
      "text/html": [
       "\n",
       "  <div id=\"df-fddcb72f-22f9-49dd-a25c-ee511678f831\">\n",
       "    <div class=\"colab-df-container\">\n",
       "      <div>\n",
       "<style scoped>\n",
       "    .dataframe tbody tr th:only-of-type {\n",
       "        vertical-align: middle;\n",
       "    }\n",
       "\n",
       "    .dataframe tbody tr th {\n",
       "        vertical-align: top;\n",
       "    }\n",
       "\n",
       "    .dataframe thead th {\n",
       "        text-align: right;\n",
       "    }\n",
       "</style>\n",
       "<table border=\"1\" class=\"dataframe\">\n",
       "  <thead>\n",
       "    <tr style=\"text-align: right;\">\n",
       "      <th></th>\n",
       "      <th>sentence</th>\n",
       "      <th>deidentified</th>\n",
       "    </tr>\n",
       "  </thead>\n",
       "  <tbody>\n",
       "    <tr>\n",
       "      <th>0</th>\n",
       "      <td>(State or other jurisdictionof incorporation o...</td>\n",
       "      <td>(State or other jurisdictionof incorporation o...</td>\n",
       "    </tr>\n",
       "    <tr>\n",
       "      <th>1</th>\n",
       "      <td>55 Almaden Boulevard, 6th Floor</td>\n",
       "      <td>&lt;STREET&gt;, 6th Floor</td>\n",
       "    </tr>\n",
       "    <tr>\n",
       "      <th>2</th>\n",
       "      <td>San Jose, California 95113</td>\n",
       "      <td>&lt;CITY&gt;, &lt;STATE&gt; &lt;ZIP&gt;</td>\n",
       "    </tr>\n",
       "    <tr>\n",
       "      <th>3</th>\n",
       "      <td>(Address of principal executive offices and Zi...</td>\n",
       "      <td>(Address of principal executive offices and Zi...</td>\n",
       "    </tr>\n",
       "    <tr>\n",
       "      <th>4</th>\n",
       "      <td>(Registrant’s telephone number, including area...</td>\n",
       "      <td>(Registrant’s telephone number, including area...</td>\n",
       "    </tr>\n",
       "  </tbody>\n",
       "</table>\n",
       "</div>\n",
       "      <button class=\"colab-df-convert\" onclick=\"convertToInteractive('df-fddcb72f-22f9-49dd-a25c-ee511678f831')\"\n",
       "              title=\"Convert this dataframe to an interactive table.\"\n",
       "              style=\"display:none;\">\n",
       "        \n",
       "  <svg xmlns=\"http://www.w3.org/2000/svg\" height=\"24px\"viewBox=\"0 0 24 24\"\n",
       "       width=\"24px\">\n",
       "    <path d=\"M0 0h24v24H0V0z\" fill=\"none\"/>\n",
       "    <path d=\"M18.56 5.44l.94 2.06.94-2.06 2.06-.94-2.06-.94-.94-2.06-.94 2.06-2.06.94zm-11 1L8.5 8.5l.94-2.06 2.06-.94-2.06-.94L8.5 2.5l-.94 2.06-2.06.94zm10 10l.94 2.06.94-2.06 2.06-.94-2.06-.94-.94-2.06-.94 2.06-2.06.94z\"/><path d=\"M17.41 7.96l-1.37-1.37c-.4-.4-.92-.59-1.43-.59-.52 0-1.04.2-1.43.59L10.3 9.45l-7.72 7.72c-.78.78-.78 2.05 0 2.83L4 21.41c.39.39.9.59 1.41.59.51 0 1.02-.2 1.41-.59l7.78-7.78 2.81-2.81c.8-.78.8-2.07 0-2.86zM5.41 20L4 18.59l7.72-7.72 1.47 1.35L5.41 20z\"/>\n",
       "  </svg>\n",
       "      </button>\n",
       "      \n",
       "  <style>\n",
       "    .colab-df-container {\n",
       "      display:flex;\n",
       "      flex-wrap:wrap;\n",
       "      gap: 12px;\n",
       "    }\n",
       "\n",
       "    .colab-df-convert {\n",
       "      background-color: #E8F0FE;\n",
       "      border: none;\n",
       "      border-radius: 50%;\n",
       "      cursor: pointer;\n",
       "      display: none;\n",
       "      fill: #1967D2;\n",
       "      height: 32px;\n",
       "      padding: 0 0 0 0;\n",
       "      width: 32px;\n",
       "    }\n",
       "\n",
       "    .colab-df-convert:hover {\n",
       "      background-color: #E2EBFA;\n",
       "      box-shadow: 0px 1px 2px rgba(60, 64, 67, 0.3), 0px 1px 3px 1px rgba(60, 64, 67, 0.15);\n",
       "      fill: #174EA6;\n",
       "    }\n",
       "\n",
       "    [theme=dark] .colab-df-convert {\n",
       "      background-color: #3B4455;\n",
       "      fill: #D2E3FC;\n",
       "    }\n",
       "\n",
       "    [theme=dark] .colab-df-convert:hover {\n",
       "      background-color: #434B5C;\n",
       "      box-shadow: 0px 1px 3px 1px rgba(0, 0, 0, 0.15);\n",
       "      filter: drop-shadow(0px 1px 2px rgba(0, 0, 0, 0.3));\n",
       "      fill: #FFFFFF;\n",
       "    }\n",
       "  </style>\n",
       "\n",
       "      <script>\n",
       "        const buttonEl =\n",
       "          document.querySelector('#df-fddcb72f-22f9-49dd-a25c-ee511678f831 button.colab-df-convert');\n",
       "        buttonEl.style.display =\n",
       "          google.colab.kernel.accessAllowed ? 'block' : 'none';\n",
       "\n",
       "        async function convertToInteractive(key) {\n",
       "          const element = document.querySelector('#df-fddcb72f-22f9-49dd-a25c-ee511678f831');\n",
       "          const dataTable =\n",
       "            await google.colab.kernel.invokeFunction('convertToInteractive',\n",
       "                                                     [key], {});\n",
       "          if (!dataTable) return;\n",
       "\n",
       "          const docLinkHtml = 'Like what you see? Visit the ' +\n",
       "            '<a target=\"_blank\" href=https://colab.research.google.com/notebooks/data_table.ipynb>data table notebook</a>'\n",
       "            + ' to learn more about interactive tables.';\n",
       "          element.innerHTML = '';\n",
       "          dataTable['output_type'] = 'display_data';\n",
       "          await google.colab.output.renderOutput(dataTable, element);\n",
       "          const docLink = document.createElement('div');\n",
       "          docLink.innerHTML = docLinkHtml;\n",
       "          element.appendChild(docLink);\n",
       "        }\n",
       "      </script>\n",
       "    </div>\n",
       "  </div>\n",
       "  "
      ]
     },
     "metadata": {},
     "execution_count": 14
    }
   ],
   "source": [
    "result.select(F.explode(F.arrays_zip(result.sentence.result, result.deidentified.result)).alias(\"cols\")) \\\n",
    "      .select(F.expr(\"cols['0']\").alias(\"sentence\"), F.expr(\"cols['1']\").alias(\"deidentified\")).toPandas()"
   ]
  },
  {
   "cell_type": "markdown",
   "id": "fc7f7662-6fb7-4ad6-b7a8-aa9587dafc85",
   "metadata": {
    "id": "fc7f7662-6fb7-4ad6-b7a8-aa9587dafc85"
   },
   "source": [
    "We have three modes to mask the entities in the Deidentification annotator. You can select the modes using the `.setMaskingPolicy()` parameter. The methods are the followings:\n",
    "\n",
    "**“entity_labels”**: Mask with the entity type of that chunk. (default) <br/>\n",
    "**“same_length_chars”**: Mask the deid entities with same length of asterix ( * ) with brackets ( [ , ] ) on both end. <br/>\n",
    "**“fixed_length_chars”**: Mask the deid entities with a fixed length of asterix ( * ). The length is setting up using the `setFixedMaskLength()` method. <br/>\n",
    "\n",
    "Let's try each of these and compare the results:"
   ]
  },
  {
   "cell_type": "code",
   "execution_count": 15,
   "id": "2294859f-933e-4675-a573-bc67c7dc7ce5",
   "metadata": {
    "id": "2294859f-933e-4675-a573-bc67c7dc7ce5"
   },
   "outputs": [],
   "source": [
    "#deid model with \"entity_labels\"\n",
    "deid_entity_labels= finance.DeIdentification()\\\n",
    "    .setInputCols([\"sentence\", \"token\", \"ner_chunk\"])\\\n",
    "    .setOutputCol(\"deid_entity_label\")\\\n",
    "    .setMode(\"mask\")\\\n",
    "    .setReturnEntityMappings(True)\\\n",
    "    .setMaskingPolicy(\"entity_labels\")\n",
    "\n",
    "#deid model with \"same_length_chars\"\n",
    "deid_same_length=  finance.DeIdentification()\\\n",
    "    .setInputCols([\"sentence\", \"token\", \"ner_chunk\"])\\\n",
    "    .setOutputCol(\"deid_same_length\")\\\n",
    "    .setMode(\"mask\")\\\n",
    "    .setReturnEntityMappings(True)\\\n",
    "    .setMaskingPolicy(\"same_length_chars\")\n",
    "\n",
    "#deid model with \"fixed_length_chars\"\n",
    "deid_fixed_length=  finance.DeIdentification()\\\n",
    "    .setInputCols([\"sentence\", \"token\", \"ner_chunk\"])\\\n",
    "    .setOutputCol(\"deid_fixed_length\")\\\n",
    "    .setMode(\"mask\")\\\n",
    "    .setReturnEntityMappings(True)\\\n",
    "    .setMaskingPolicy(\"fixed_length_chars\")\\\n",
    "    .setFixedMaskLength(4)\n",
    "\n",
    "\n",
    "deidPipeline = nlp.Pipeline(stages=[\n",
    "      documentAssembler, \n",
    "      sentenceDetector,\n",
    "      tokenizer,\n",
    "      embeddings,\n",
    "      fin_ner,\n",
    "      ner_converter,\n",
    "      deid_entity_labels,\n",
    "      deid_same_length,\n",
    "      deid_fixed_length])\n",
    "\n",
    "\n",
    "empty_data = spark.createDataFrame([[\"\"]]).toDF(\"text\")\n",
    "model_deid = deidPipeline.fit(empty_data)"
   ]
  },
  {
   "cell_type": "code",
   "execution_count": 16,
   "id": "a5d82d09-b920-45e3-8856-cbb3a43697af",
   "metadata": {
    "id": "a5d82d09-b920-45e3-8856-cbb3a43697af"
   },
   "outputs": [],
   "source": [
    "policy_result = model_deid.transform(spark.createDataFrame([[text]]).toDF(\"text\"))"
   ]
  },
  {
   "cell_type": "code",
   "execution_count": 17,
   "id": "d94fccb3-8874-428e-8cf3-2ed1bf443002",
   "metadata": {
    "colab": {
     "base_uri": "https://localhost:8080/"
    },
    "id": "d94fccb3-8874-428e-8cf3-2ed1bf443002",
    "outputId": "f2f02ef3-e5cb-41fb-acc7-5f47a38c1a34"
   },
   "outputs": [
    {
     "output_type": "stream",
     "name": "stdout",
     "text": [
      "+--------------------+--------------------+--------------------+--------------------+--------------------+--------------------+--------------------+--------------------+--------------------+--------------------+--------------------+\n",
      "|                text|            document|            sentence|               token|          embeddings|                 ner|           ner_chunk|   deid_entity_label|                 aux|    deid_same_length|   deid_fixed_length|\n",
      "+--------------------+--------------------+--------------------+--------------------+--------------------+--------------------+--------------------+--------------------+--------------------+--------------------+--------------------+\n",
      "|\n",
      "(State or other ...|[{document, 0, 27...|[{document, 1, 97...|[{token, 1, 1, (,...|[{word_embeddings...|[{named_entity, 1...|[{chunk, 99, 118,...|[{document, 0, 96...|[{chunk, 97, 100,...|[{document, 0, 96...|[{document, 0, 96...|\n",
      "+--------------------+--------------------+--------------------+--------------------+--------------------+--------------------+--------------------+--------------------+--------------------+--------------------+--------------------+\n",
      "\n"
     ]
    }
   ],
   "source": [
    "policy_result.show()"
   ]
  },
  {
   "cell_type": "code",
   "execution_count": 18,
   "id": "f759241e-63a1-47ef-a562-a0a0272ed0e0",
   "metadata": {
    "colab": {
     "base_uri": "https://localhost:8080/",
     "height": 206
    },
    "id": "f759241e-63a1-47ef-a562-a0a0272ed0e0",
    "outputId": "c3e80eb7-88bb-49c6-d559-9d283a3d89f9"
   },
   "outputs": [
    {
     "output_type": "execute_result",
     "data": {
      "text/plain": [
       "                                            sentence  \\\n",
       "0  (State or other jurisdictionof incorporation o...   \n",
       "1                    55 Almaden Boulevard, 6th Floor   \n",
       "2                         San Jose, California 95113   \n",
       "3  (Address of principal executive offices and Zi...   \n",
       "4  (Registrant’s telephone number, including area...   \n",
       "\n",
       "                                   deid_entity_label  \\\n",
       "0  (State or other jurisdictionof incorporation o...   \n",
       "1                                <STREET>, 6th Floor   \n",
       "2                              <CITY>, <STATE> <ZIP>   \n",
       "3  (Address of principal executive offices and Zi...   \n",
       "4  (Registrant’s telephone number, including area...   \n",
       "\n",
       "                                    deid_same_length  \\\n",
       "0  (State or other jurisdictionof incorporation o...   \n",
       "1                    [******************], 6th Floor   \n",
       "2                         [******], [********] [***]   \n",
       "3  (Address of principal executive offices and Zi...   \n",
       "4  (Registrant’s telephone number, including area...   \n",
       "\n",
       "                                   deid_fixed_length  \n",
       "0  (State or other jurisdictionof incorporation o...  \n",
       "1                                    ****, 6th Floor  \n",
       "2                                    ****, **** ****  \n",
       "3  (Address of principal executive offices and Zi...  \n",
       "4  (Registrant’s telephone number, including area...  "
      ],
      "text/html": [
       "\n",
       "  <div id=\"df-bf8c3648-b897-4a2f-bc56-ca8908e9d185\">\n",
       "    <div class=\"colab-df-container\">\n",
       "      <div>\n",
       "<style scoped>\n",
       "    .dataframe tbody tr th:only-of-type {\n",
       "        vertical-align: middle;\n",
       "    }\n",
       "\n",
       "    .dataframe tbody tr th {\n",
       "        vertical-align: top;\n",
       "    }\n",
       "\n",
       "    .dataframe thead th {\n",
       "        text-align: right;\n",
       "    }\n",
       "</style>\n",
       "<table border=\"1\" class=\"dataframe\">\n",
       "  <thead>\n",
       "    <tr style=\"text-align: right;\">\n",
       "      <th></th>\n",
       "      <th>sentence</th>\n",
       "      <th>deid_entity_label</th>\n",
       "      <th>deid_same_length</th>\n",
       "      <th>deid_fixed_length</th>\n",
       "    </tr>\n",
       "  </thead>\n",
       "  <tbody>\n",
       "    <tr>\n",
       "      <th>0</th>\n",
       "      <td>(State or other jurisdictionof incorporation o...</td>\n",
       "      <td>(State or other jurisdictionof incorporation o...</td>\n",
       "      <td>(State or other jurisdictionof incorporation o...</td>\n",
       "      <td>(State or other jurisdictionof incorporation o...</td>\n",
       "    </tr>\n",
       "    <tr>\n",
       "      <th>1</th>\n",
       "      <td>55 Almaden Boulevard, 6th Floor</td>\n",
       "      <td>&lt;STREET&gt;, 6th Floor</td>\n",
       "      <td>[******************], 6th Floor</td>\n",
       "      <td>****, 6th Floor</td>\n",
       "    </tr>\n",
       "    <tr>\n",
       "      <th>2</th>\n",
       "      <td>San Jose, California 95113</td>\n",
       "      <td>&lt;CITY&gt;, &lt;STATE&gt; &lt;ZIP&gt;</td>\n",
       "      <td>[******], [********] [***]</td>\n",
       "      <td>****, **** ****</td>\n",
       "    </tr>\n",
       "    <tr>\n",
       "      <th>3</th>\n",
       "      <td>(Address of principal executive offices and Zi...</td>\n",
       "      <td>(Address of principal executive offices and Zi...</td>\n",
       "      <td>(Address of principal executive offices and Zi...</td>\n",
       "      <td>(Address of principal executive offices and Zi...</td>\n",
       "    </tr>\n",
       "    <tr>\n",
       "      <th>4</th>\n",
       "      <td>(Registrant’s telephone number, including area...</td>\n",
       "      <td>(Registrant’s telephone number, including area...</td>\n",
       "      <td>(Registrant’s telephone number, including area...</td>\n",
       "      <td>(Registrant’s telephone number, including area...</td>\n",
       "    </tr>\n",
       "  </tbody>\n",
       "</table>\n",
       "</div>\n",
       "      <button class=\"colab-df-convert\" onclick=\"convertToInteractive('df-bf8c3648-b897-4a2f-bc56-ca8908e9d185')\"\n",
       "              title=\"Convert this dataframe to an interactive table.\"\n",
       "              style=\"display:none;\">\n",
       "        \n",
       "  <svg xmlns=\"http://www.w3.org/2000/svg\" height=\"24px\"viewBox=\"0 0 24 24\"\n",
       "       width=\"24px\">\n",
       "    <path d=\"M0 0h24v24H0V0z\" fill=\"none\"/>\n",
       "    <path d=\"M18.56 5.44l.94 2.06.94-2.06 2.06-.94-2.06-.94-.94-2.06-.94 2.06-2.06.94zm-11 1L8.5 8.5l.94-2.06 2.06-.94-2.06-.94L8.5 2.5l-.94 2.06-2.06.94zm10 10l.94 2.06.94-2.06 2.06-.94-2.06-.94-.94-2.06-.94 2.06-2.06.94z\"/><path d=\"M17.41 7.96l-1.37-1.37c-.4-.4-.92-.59-1.43-.59-.52 0-1.04.2-1.43.59L10.3 9.45l-7.72 7.72c-.78.78-.78 2.05 0 2.83L4 21.41c.39.39.9.59 1.41.59.51 0 1.02-.2 1.41-.59l7.78-7.78 2.81-2.81c.8-.78.8-2.07 0-2.86zM5.41 20L4 18.59l7.72-7.72 1.47 1.35L5.41 20z\"/>\n",
       "  </svg>\n",
       "      </button>\n",
       "      \n",
       "  <style>\n",
       "    .colab-df-container {\n",
       "      display:flex;\n",
       "      flex-wrap:wrap;\n",
       "      gap: 12px;\n",
       "    }\n",
       "\n",
       "    .colab-df-convert {\n",
       "      background-color: #E8F0FE;\n",
       "      border: none;\n",
       "      border-radius: 50%;\n",
       "      cursor: pointer;\n",
       "      display: none;\n",
       "      fill: #1967D2;\n",
       "      height: 32px;\n",
       "      padding: 0 0 0 0;\n",
       "      width: 32px;\n",
       "    }\n",
       "\n",
       "    .colab-df-convert:hover {\n",
       "      background-color: #E2EBFA;\n",
       "      box-shadow: 0px 1px 2px rgba(60, 64, 67, 0.3), 0px 1px 3px 1px rgba(60, 64, 67, 0.15);\n",
       "      fill: #174EA6;\n",
       "    }\n",
       "\n",
       "    [theme=dark] .colab-df-convert {\n",
       "      background-color: #3B4455;\n",
       "      fill: #D2E3FC;\n",
       "    }\n",
       "\n",
       "    [theme=dark] .colab-df-convert:hover {\n",
       "      background-color: #434B5C;\n",
       "      box-shadow: 0px 1px 3px 1px rgba(0, 0, 0, 0.15);\n",
       "      filter: drop-shadow(0px 1px 2px rgba(0, 0, 0, 0.3));\n",
       "      fill: #FFFFFF;\n",
       "    }\n",
       "  </style>\n",
       "\n",
       "      <script>\n",
       "        const buttonEl =\n",
       "          document.querySelector('#df-bf8c3648-b897-4a2f-bc56-ca8908e9d185 button.colab-df-convert');\n",
       "        buttonEl.style.display =\n",
       "          google.colab.kernel.accessAllowed ? 'block' : 'none';\n",
       "\n",
       "        async function convertToInteractive(key) {\n",
       "          const element = document.querySelector('#df-bf8c3648-b897-4a2f-bc56-ca8908e9d185');\n",
       "          const dataTable =\n",
       "            await google.colab.kernel.invokeFunction('convertToInteractive',\n",
       "                                                     [key], {});\n",
       "          if (!dataTable) return;\n",
       "\n",
       "          const docLinkHtml = 'Like what you see? Visit the ' +\n",
       "            '<a target=\"_blank\" href=https://colab.research.google.com/notebooks/data_table.ipynb>data table notebook</a>'\n",
       "            + ' to learn more about interactive tables.';\n",
       "          element.innerHTML = '';\n",
       "          dataTable['output_type'] = 'display_data';\n",
       "          await google.colab.output.renderOutput(dataTable, element);\n",
       "          const docLink = document.createElement('div');\n",
       "          docLink.innerHTML = docLinkHtml;\n",
       "          element.appendChild(docLink);\n",
       "        }\n",
       "      </script>\n",
       "    </div>\n",
       "  </div>\n",
       "  "
      ]
     },
     "metadata": {},
     "execution_count": 18
    }
   ],
   "source": [
    "policy_result.select(F.explode(F.arrays_zip(policy_result.sentence.result, \n",
    "                                            policy_result.deid_entity_label.result, \n",
    "                                            policy_result.deid_same_length.result, \n",
    "                                            policy_result.deid_fixed_length.result)).alias(\"cols\")) \\\n",
    "             .select(F.expr(\"cols['0']\").alias(\"sentence\"),\n",
    "                     F.expr(\"cols['1']\").alias(\"deid_entity_label\"),\n",
    "                     F.expr(\"cols['2']\").alias(\"deid_same_length\"),\n",
    "                     F.expr(\"cols['3']\").alias(\"deid_fixed_length\")).toPandas()"
   ]
  },
  {
   "cell_type": "markdown",
   "id": "24ad89cd-3022-46df-b4a1-6f6d90d0445a",
   "metadata": {
    "id": "24ad89cd-3022-46df-b4a1-6f6d90d0445a"
   },
   "source": [
    "### Mapping Column"
   ]
  },
  {
   "cell_type": "code",
   "execution_count": 19,
   "id": "941bfa77-2a19-4d47-ace2-0d5c6eb66514",
   "metadata": {
    "colab": {
     "base_uri": "https://localhost:8080/"
    },
    "id": "941bfa77-2a19-4d47-ace2-0d5c6eb66514",
    "outputId": "4bcb618e-e106-4f3e-9a07-37535bf9cbb2"
   },
   "outputs": [
    {
     "output_type": "stream",
     "name": "stdout",
     "text": [
      "+--------------------------------------------------------------------------------------------------------------------------------------------------------------------------------------------------------------------------------------------------------------------------------------------------------------------------------------------------------------------------------------------------------------------------------------------------------------------------------------------------------------------------------------------------------------------------------------------------------------------------------------------------------------------------------------------------------------------------------------------------------------------------------------------------------------------------------------------------------------------------------------------------------------------------------------------------------------------------------------------------------------------------------------------------------------------+\n",
      "|aux                                                                                                                                                                                                                                                                                                                                                                                                                                                                                                                                                                                                                                                                                                                                                                                                                                                                                                                                                                                                                                                                 |\n",
      "+--------------------------------------------------------------------------------------------------------------------------------------------------------------------------------------------------------------------------------------------------------------------------------------------------------------------------------------------------------------------------------------------------------------------------------------------------------------------------------------------------------------------------------------------------------------------------------------------------------------------------------------------------------------------------------------------------------------------------------------------------------------------------------------------------------------------------------------------------------------------------------------------------------------------------------------------------------------------------------------------------------------------------------------------------------------------+\n",
      "|[{chunk, 97, 104, <STREET>, {originalChunk -> 55 Almaden Boulevard, chunk -> 0, beginOriginalChunk -> 99, confidence -> 0.9998333, ner_source -> ner_chunk, entity -> STREET, endOriginalChunk -> 118, sentence -> 1}, []}, {chunk, 116, 121, <CITY>, {originalChunk -> San Jose, chunk -> 1, beginOriginalChunk -> 131, confidence -> 0.9882, ner_source -> ner_chunk, entity -> CITY, endOriginalChunk -> 138, sentence -> 2}, []}, {chunk, 124, 130, <STATE>, {originalChunk -> California, chunk -> 2, beginOriginalChunk -> 141, confidence -> 0.9983, ner_source -> ner_chunk, entity -> STATE, endOriginalChunk -> 150, sentence -> 2}, []}, {chunk, 132, 136, <ZIP>, {originalChunk -> 95113, chunk -> 3, beginOriginalChunk -> 152, confidence -> 0.9752, ner_source -> ner_chunk, entity -> ZIP, endOriginalChunk -> 156, sentence -> 2}, []}, {chunk, 191, 197, <PHONE>, {originalChunk -> 799-9666, chunk -> 4, beginOriginalChunk -> 212, confidence -> 0.7792, ner_source -> ner_chunk, entity -> PHONE, endOriginalChunk -> 219, sentence -> 3}, []}]|\n",
      "+--------------------------------------------------------------------------------------------------------------------------------------------------------------------------------------------------------------------------------------------------------------------------------------------------------------------------------------------------------------------------------------------------------------------------------------------------------------------------------------------------------------------------------------------------------------------------------------------------------------------------------------------------------------------------------------------------------------------------------------------------------------------------------------------------------------------------------------------------------------------------------------------------------------------------------------------------------------------------------------------------------------------------------------------------------------------+\n",
      "\n"
     ]
    }
   ],
   "source": [
    "result.select(\"aux\").show(truncate=False)"
   ]
  },
  {
   "cell_type": "code",
   "execution_count": 20,
   "id": "ea4502c9-ae7b-4bf0-97ec-0ed7a6ba2f32",
   "metadata": {
    "colab": {
     "base_uri": "https://localhost:8080/"
    },
    "id": "ea4502c9-ae7b-4bf0-97ec-0ed7a6ba2f32",
    "outputId": "bad3c04b-d1b6-43af-bee1-5e9c2de09625"
   },
   "outputs": [
    {
     "output_type": "stream",
     "name": "stdout",
     "text": [
      "+--------------------+----------+--------+--------+----------+--------+\n",
      "|chunk               |beginChunk|endChunk|label   |beginLabel|endLabel|\n",
      "+--------------------+----------+--------+--------+----------+--------+\n",
      "|55 Almaden Boulevard|99        |118     |<STREET>|97        |104     |\n",
      "|San Jose            |131       |138     |<CITY>  |116       |121     |\n",
      "|California          |141       |150     |<STATE> |124       |130     |\n",
      "|95113               |152       |156     |<ZIP>   |132       |136     |\n",
      "|799-9666            |212       |219     |<PHONE> |191       |197     |\n",
      "+--------------------+----------+--------+--------+----------+--------+\n",
      "\n"
     ]
    }
   ],
   "source": [
    "result.select(F.explode(F.arrays_zip(result.aux.metadata, \n",
    "                                     result.aux.result, \n",
    "                                     result.aux.begin, \n",
    "                                     result.aux.end)).alias(\"cols\")) \\\n",
    "      .select(F.expr(\"cols['0']['originalChunk']\").alias(\"chunk\"),\n",
    "              F.expr(\"cols['0']['beginOriginalChunk']\").alias(\"beginChunk\"),\n",
    "              F.expr(\"cols['0']['endOriginalChunk']\").alias(\"endChunk\"),\n",
    "              F.expr(\"cols['1']\").alias(\"label\"),\n",
    "              F.expr(\"cols['2']\").alias(\"beginLabel\"),\n",
    "              F.expr(\"cols['3']\").alias(\"endLabel\")).show(truncate=False)"
   ]
  },
  {
   "cell_type": "markdown",
   "id": "f9673cfe-a13e-4099-bb22-30084ec4cf3b",
   "metadata": {
    "id": "f9673cfe-a13e-4099-bb22-30084ec4cf3b"
   },
   "source": [
    "## Reidentification\n",
    "\n",
    "We can use `ReIdentification` annotator to go back to the original sentence."
   ]
  },
  {
   "cell_type": "code",
   "execution_count": 21,
   "id": "0a1ce1bf-2c4f-4bf9-b0d9-84f8fefcfb30",
   "metadata": {
    "id": "0a1ce1bf-2c4f-4bf9-b0d9-84f8fefcfb30"
   },
   "outputs": [],
   "source": [
    "reIdentification =  finance.ReIdentification()\\\n",
    "    .setInputCols([\"aux\",\"deidentified\"])\\\n",
    "    .setOutputCol(\"original\")"
   ]
  },
  {
   "cell_type": "code",
   "execution_count": 22,
   "id": "5e0467f8-87dd-424b-b4c0-25fae1cb1b19",
   "metadata": {
    "id": "5e0467f8-87dd-424b-b4c0-25fae1cb1b19"
   },
   "outputs": [],
   "source": [
    "reid_result = reIdentification.transform(result)"
   ]
  },
  {
   "cell_type": "code",
   "execution_count": 23,
   "id": "80a4f86b-bb67-4fc2-8686-146770a50f33",
   "metadata": {
    "colab": {
     "base_uri": "https://localhost:8080/"
    },
    "id": "80a4f86b-bb67-4fc2-8686-146770a50f33",
    "outputId": "fe03d7d0-7b0d-487b-a7b1-b09b0dafba74"
   },
   "outputs": [
    {
     "output_type": "stream",
     "name": "stdout",
     "text": [
      "+--------------------+--------------------+--------------------+--------------------+--------------------+--------------------+--------------------+--------------------+--------------------+--------------------+\n",
      "|                text|            document|            sentence|               token|          embeddings|                 ner|           ner_chunk|        deidentified|                 aux|            original|\n",
      "+--------------------+--------------------+--------------------+--------------------+--------------------+--------------------+--------------------+--------------------+--------------------+--------------------+\n",
      "|\n",
      "(State or other ...|[{document, 0, 27...|[{document, 1, 97...|[{token, 1, 1, (,...|[{word_embeddings...|[{named_entity, 1...|[{chunk, 99, 118,...|[{document, 0, 96...|[{chunk, 97, 104,...|[{document, 1, 97...|\n",
      "+--------------------+--------------------+--------------------+--------------------+--------------------+--------------------+--------------------+--------------------+--------------------+--------------------+\n",
      "\n"
     ]
    }
   ],
   "source": [
    "reid_result.show()"
   ]
  },
  {
   "cell_type": "code",
   "execution_count": 24,
   "id": "b3a8e7d3-9cfd-4ad0-a129-e350a9669c9f",
   "metadata": {
    "colab": {
     "base_uri": "https://localhost:8080/"
    },
    "id": "b3a8e7d3-9cfd-4ad0-a129-e350a9669c9f",
    "outputId": "c93ba3dc-dc61-4f43-ea45-d5ce4615f819"
   },
   "outputs": [
    {
     "output_type": "stream",
     "name": "stdout",
     "text": [
      "\n",
      "(State or other jurisdictionof incorporation or organization)\n",
      "(I.R.S. EmployerIdentification No.)\n",
      "55 Almaden Boulevard, 6th Floor\n",
      "San Jose, California 95113\n",
      "(Address of principal executive offices and Zip Code)\n",
      "799-9666\n",
      "(Registrant’s telephone number, including area code) \n",
      "+--------------------------------------------------------------------------------------------------------------------------------------------------------------------------------------------------------------------------------------------------------------------------------------+\n",
      "|result                                                                                                                                                                                                                                                                                |\n",
      "+--------------------------------------------------------------------------------------------------------------------------------------------------------------------------------------------------------------------------------------------------------------------------------------+\n",
      "|[(State or other jurisdictionof incorporation or organization)\n",
      "(I.R.S. EmployerIdentification No.), 55 Almaden Boulevard, 6th Floor, San Jose, California 95113, (Address of principal executive offices and Zip Code)\n",
      "799-9666, (Registrant’s telephone number, including area code)]|\n",
      "+--------------------------------------------------------------------------------------------------------------------------------------------------------------------------------------------------------------------------------------------------------------------------------------+\n",
      "\n"
     ]
    }
   ],
   "source": [
    "print(text)\n",
    "\n",
    "reid_result.select('original.result').show(truncate=False)"
   ]
  },
  {
   "cell_type": "markdown",
   "id": "27d5c012-0eef-48a5-9d3d-915e942f5639",
   "metadata": {
    "id": "27d5c012-0eef-48a5-9d3d-915e942f5639"
   },
   "source": [
    "## Using multiple NER in the same pipeline"
   ]
  },
  {
   "cell_type": "code",
   "execution_count": 25,
   "id": "4b11381f-af80-49e7-9d30-418a753fa08f",
   "metadata": {
    "colab": {
     "base_uri": "https://localhost:8080/"
    },
    "id": "4b11381f-af80-49e7-9d30-418a753fa08f",
    "outputId": "94120cca-b3c2-4bce-e973-984022e255d7"
   },
   "outputs": [
    {
     "output_type": "stream",
     "name": "stdout",
     "text": [
      "roberta_embeddings_legal_roberta_base download started this may take some time.\n",
      "Approximate size to download 447.2 MB\n",
      "[OK!]\n",
      "bert_embeddings_sec_bert_base download started this may take some time.\n",
      "Approximate size to download 390.4 MB\n",
      "[OK!]\n",
      "finner_deid download started this may take some time.\n",
      "[OK!]\n",
      "finner_org_per_role_date download started this may take some time.\n",
      "[OK!]\n"
     ]
    }
   ],
   "source": [
    "documentAssembler = nlp.DocumentAssembler()\\\n",
    "    .setInputCol(\"text\")\\\n",
    "    .setOutputCol(\"document\")\n",
    "\n",
    "sentenceDetector = nlp.SentenceDetector()\\\n",
    "    .setInputCols([\"document\"])\\\n",
    "    .setOutputCol(\"sentence\")\n",
    "\n",
    "tokenizer = nlp.Tokenizer()\\\n",
    "    .setInputCols([\"sentence\"])\\\n",
    "    .setOutputCol(\"token\")\n",
    "\n",
    "embeddings = nlp.RoBertaEmbeddings.pretrained(\"roberta_embeddings_legal_roberta_base\",\"en\") \\\n",
    "    .setInputCols([\"sentence\", \"token\"]) \\\n",
    "    .setOutputCol(\"embeddings\")\n",
    "\n",
    "bert_embeddings = nlp.BertEmbeddings.pretrained(\"bert_embeddings_sec_bert_base\",\"en\") \\\n",
    "    .setInputCols([\"sentence\", \"token\"]) \\\n",
    "    .setOutputCol(\"bert_embeddings\")\n",
    "\n",
    "fin_ner = finance.NerModel.pretrained('finner_deid', \"en\", \"finance/models\")\\\n",
    "    .setInputCols([\"sentence\", \"token\", \"embeddings\"]) \\\n",
    "    .setOutputCol(\"ner\") \n",
    "    #.setLabelCasing(\"upper\")\n",
    "\n",
    "ner_converter =  finance.NerConverterInternal() \\\n",
    "    .setInputCols([\"sentence\", \"token\", \"ner\"])\\\n",
    "    .setOutputCol(\"ner_chunk\")\\\n",
    "    .setReplaceLabels({\"ORG\": \"PARTY\"}) # Replace \"ORG\" entity as \"PARTY\"\n",
    "\n",
    "ner_finner = finance.NerModel.pretrained(\"finner_org_per_role_date\", \"en\", \"finance/models\")\\\n",
    "    .setInputCols([\"sentence\", \"token\", \"bert_embeddings\"]) \\\n",
    "    .setOutputCol(\"ner_finner\") \n",
    "    #.setLabelCasing(\"upper\")\n",
    "\n",
    "ner_converter_finner = finance.NerConverterInternal() \\\n",
    "    .setInputCols([\"sentence\", \"token\", \"ner_finner\"]) \\\n",
    "    .setOutputCol(\"ner_finner_chunk\") \\\n",
    "    .setWhiteList(['ROLE']) # Just use \"ROLE\" entity from this NER\n",
    "\n",
    "chunk_merge =  finance.ChunkMergeApproach()\\\n",
    "    .setInputCols(\"ner_finner_chunk\", \"ner_chunk\")\\\n",
    "    .setOutputCol(\"deid_merged_chunk\")\n",
    "\n",
    "deidentification =  finance.DeIdentification() \\\n",
    "    .setInputCols([\"sentence\", \"token\", \"deid_merged_chunk\"]) \\\n",
    "    .setOutputCol(\"deidentified\") \\\n",
    "    .setMode(\"mask\")\\\n",
    "    .setIgnoreRegex(True)\n",
    "\n",
    "\n",
    "nlpPipeline = nlp.Pipeline(stages=[\n",
    "      documentAssembler, \n",
    "      sentenceDetector,\n",
    "      tokenizer,\n",
    "      embeddings,\n",
    "      bert_embeddings,\n",
    "      fin_ner,\n",
    "      ner_converter,\n",
    "      ner_finner,\n",
    "      ner_converter_finner,\n",
    "      chunk_merge,\n",
    "      deidentification])\n",
    "\n",
    "empty_data = spark.createDataFrame([[\"\"]]).toDF(\"text\")\n",
    "\n",
    "model = nlpPipeline.fit(empty_data)"
   ]
  },
  {
   "cell_type": "code",
   "execution_count": 26,
   "id": "8f4ef972-ad0c-4297-896a-94b639027810",
   "metadata": {
    "id": "8f4ef972-ad0c-4297-896a-94b639027810"
   },
   "outputs": [],
   "source": [
    "text = \"\"\" Jeffrey Preston Bezos is an American entrepreneur, founder and CEO of Amazon  \"\"\" "
   ]
  },
  {
   "cell_type": "code",
   "execution_count": 27,
   "id": "63fe74f9-768c-47c1-87e0-86d7a2a556bf",
   "metadata": {
    "colab": {
     "base_uri": "https://localhost:8080/"
    },
    "id": "63fe74f9-768c-47c1-87e0-86d7a2a556bf",
    "outputId": "4277a454-a375-4ed3-9569-aae1fb1d92b5"
   },
   "outputs": [
    {
     "output_type": "stream",
     "name": "stdout",
     "text": [
      "+---------------------+---------+\n",
      "|chunk                |ner_label|\n",
      "+---------------------+---------+\n",
      "|Jeffrey Preston Bezos|PERSON   |\n",
      "|Amazon               |PARTY    |\n",
      "+---------------------+---------+\n",
      "\n"
     ]
    }
   ],
   "source": [
    "result = model.transform(spark.createDataFrame([[text]]).toDF(\"text\"))\n",
    "\n",
    "# fin_ner\n",
    "result.select(F.explode(F.arrays_zip(result.ner_chunk.result, \n",
    "                                     result.ner_chunk.metadata)).alias(\"cols\")) \\\n",
    "      .select(F.expr(\"cols['0']\").alias(\"chunk\"),\n",
    "              F.expr(\"cols['1']['entity']\").alias(\"ner_label\")).show(truncate=False)"
   ]
  },
  {
   "cell_type": "code",
   "execution_count": 28,
   "id": "3256773b-3371-4af4-a4e3-34e2c818640c",
   "metadata": {
    "colab": {
     "base_uri": "https://localhost:8080/"
    },
    "id": "3256773b-3371-4af4-a4e3-34e2c818640c",
    "outputId": "952e6ce7-a9ca-41e1-c6f1-226df799a7c5"
   },
   "outputs": [
    {
     "output_type": "stream",
     "name": "stdout",
     "text": [
      "+-------+---------+\n",
      "|chunk  |ner_label|\n",
      "+-------+---------+\n",
      "|founder|ROLE     |\n",
      "|CEO    |ROLE     |\n",
      "+-------+---------+\n",
      "\n"
     ]
    }
   ],
   "source": [
    "result = model.transform(spark.createDataFrame([[text]]).toDF(\"text\"))\n",
    "\n",
    "# ner_finner\n",
    "result.select(F.explode(F.arrays_zip(result.ner_finner_chunk.result, \n",
    "                                     result.ner_finner_chunk.metadata)).alias(\"cols\")) \\\n",
    "      .select(F.expr(\"cols['0']\").alias(\"chunk\"),\n",
    "              F.expr(\"cols['1']['entity']\").alias(\"ner_label\")).show(truncate=False)"
   ]
  },
  {
   "cell_type": "code",
   "execution_count": 29,
   "id": "4a899327-42d8-48c1-ab4a-5f692b10be22",
   "metadata": {
    "colab": {
     "base_uri": "https://localhost:8080/"
    },
    "id": "4a899327-42d8-48c1-ab4a-5f692b10be22",
    "outputId": "fb19b9e1-290d-4369-9b18-88c60ea41f7d"
   },
   "outputs": [
    {
     "output_type": "stream",
     "name": "stdout",
     "text": [
      "+---------------------+---------+\n",
      "|chunk                |ner_label|\n",
      "+---------------------+---------+\n",
      "|Jeffrey Preston Bezos|PERSON   |\n",
      "|founder              |ROLE     |\n",
      "|CEO                  |ROLE     |\n",
      "|Amazon               |PARTY    |\n",
      "+---------------------+---------+\n",
      "\n"
     ]
    }
   ],
   "source": [
    "result = model.transform(spark.createDataFrame([[text]]).toDF(\"text\"))\n",
    "\n",
    "# merged_chunk\n",
    "result.select(F.explode(F.arrays_zip(result.deid_merged_chunk.result, \n",
    "                                     result.deid_merged_chunk.metadata)).alias(\"cols\")) \\\n",
    "      .select(F.expr(\"cols['0']\").alias(\"chunk\"),\n",
    "              F.expr(\"cols['1']['entity']\").alias(\"ner_label\")).show(truncate=False)"
   ]
  },
  {
   "cell_type": "code",
   "execution_count": 30,
   "id": "c6c21ec8-5e6a-4bb4-b0bd-d7aa14fb6fbe",
   "metadata": {
    "colab": {
     "base_uri": "https://localhost:8080/",
     "height": 81
    },
    "id": "c6c21ec8-5e6a-4bb4-b0bd-d7aa14fb6fbe",
    "outputId": "1c9912d2-de2b-45da-a3a4-8b97400242e8"
   },
   "outputs": [
    {
     "output_type": "execute_result",
     "data": {
      "text/plain": [
       "                                            sentence  \\\n",
       "0  Jeffrey Preston Bezos is an American entrepren...   \n",
       "\n",
       "                                        deidentified  \n",
       "0  <PERSON> is an American entrepreneur, <ROLE> a...  "
      ],
      "text/html": [
       "\n",
       "  <div id=\"df-942e774f-01c8-4560-aae6-227dce760777\">\n",
       "    <div class=\"colab-df-container\">\n",
       "      <div>\n",
       "<style scoped>\n",
       "    .dataframe tbody tr th:only-of-type {\n",
       "        vertical-align: middle;\n",
       "    }\n",
       "\n",
       "    .dataframe tbody tr th {\n",
       "        vertical-align: top;\n",
       "    }\n",
       "\n",
       "    .dataframe thead th {\n",
       "        text-align: right;\n",
       "    }\n",
       "</style>\n",
       "<table border=\"1\" class=\"dataframe\">\n",
       "  <thead>\n",
       "    <tr style=\"text-align: right;\">\n",
       "      <th></th>\n",
       "      <th>sentence</th>\n",
       "      <th>deidentified</th>\n",
       "    </tr>\n",
       "  </thead>\n",
       "  <tbody>\n",
       "    <tr>\n",
       "      <th>0</th>\n",
       "      <td>Jeffrey Preston Bezos is an American entrepren...</td>\n",
       "      <td>&lt;PERSON&gt; is an American entrepreneur, &lt;ROLE&gt; a...</td>\n",
       "    </tr>\n",
       "  </tbody>\n",
       "</table>\n",
       "</div>\n",
       "      <button class=\"colab-df-convert\" onclick=\"convertToInteractive('df-942e774f-01c8-4560-aae6-227dce760777')\"\n",
       "              title=\"Convert this dataframe to an interactive table.\"\n",
       "              style=\"display:none;\">\n",
       "        \n",
       "  <svg xmlns=\"http://www.w3.org/2000/svg\" height=\"24px\"viewBox=\"0 0 24 24\"\n",
       "       width=\"24px\">\n",
       "    <path d=\"M0 0h24v24H0V0z\" fill=\"none\"/>\n",
       "    <path d=\"M18.56 5.44l.94 2.06.94-2.06 2.06-.94-2.06-.94-.94-2.06-.94 2.06-2.06.94zm-11 1L8.5 8.5l.94-2.06 2.06-.94-2.06-.94L8.5 2.5l-.94 2.06-2.06.94zm10 10l.94 2.06.94-2.06 2.06-.94-2.06-.94-.94-2.06-.94 2.06-2.06.94z\"/><path d=\"M17.41 7.96l-1.37-1.37c-.4-.4-.92-.59-1.43-.59-.52 0-1.04.2-1.43.59L10.3 9.45l-7.72 7.72c-.78.78-.78 2.05 0 2.83L4 21.41c.39.39.9.59 1.41.59.51 0 1.02-.2 1.41-.59l7.78-7.78 2.81-2.81c.8-.78.8-2.07 0-2.86zM5.41 20L4 18.59l7.72-7.72 1.47 1.35L5.41 20z\"/>\n",
       "  </svg>\n",
       "      </button>\n",
       "      \n",
       "  <style>\n",
       "    .colab-df-container {\n",
       "      display:flex;\n",
       "      flex-wrap:wrap;\n",
       "      gap: 12px;\n",
       "    }\n",
       "\n",
       "    .colab-df-convert {\n",
       "      background-color: #E8F0FE;\n",
       "      border: none;\n",
       "      border-radius: 50%;\n",
       "      cursor: pointer;\n",
       "      display: none;\n",
       "      fill: #1967D2;\n",
       "      height: 32px;\n",
       "      padding: 0 0 0 0;\n",
       "      width: 32px;\n",
       "    }\n",
       "\n",
       "    .colab-df-convert:hover {\n",
       "      background-color: #E2EBFA;\n",
       "      box-shadow: 0px 1px 2px rgba(60, 64, 67, 0.3), 0px 1px 3px 1px rgba(60, 64, 67, 0.15);\n",
       "      fill: #174EA6;\n",
       "    }\n",
       "\n",
       "    [theme=dark] .colab-df-convert {\n",
       "      background-color: #3B4455;\n",
       "      fill: #D2E3FC;\n",
       "    }\n",
       "\n",
       "    [theme=dark] .colab-df-convert:hover {\n",
       "      background-color: #434B5C;\n",
       "      box-shadow: 0px 1px 3px 1px rgba(0, 0, 0, 0.15);\n",
       "      filter: drop-shadow(0px 1px 2px rgba(0, 0, 0, 0.3));\n",
       "      fill: #FFFFFF;\n",
       "    }\n",
       "  </style>\n",
       "\n",
       "      <script>\n",
       "        const buttonEl =\n",
       "          document.querySelector('#df-942e774f-01c8-4560-aae6-227dce760777 button.colab-df-convert');\n",
       "        buttonEl.style.display =\n",
       "          google.colab.kernel.accessAllowed ? 'block' : 'none';\n",
       "\n",
       "        async function convertToInteractive(key) {\n",
       "          const element = document.querySelector('#df-942e774f-01c8-4560-aae6-227dce760777');\n",
       "          const dataTable =\n",
       "            await google.colab.kernel.invokeFunction('convertToInteractive',\n",
       "                                                     [key], {});\n",
       "          if (!dataTable) return;\n",
       "\n",
       "          const docLinkHtml = 'Like what you see? Visit the ' +\n",
       "            '<a target=\"_blank\" href=https://colab.research.google.com/notebooks/data_table.ipynb>data table notebook</a>'\n",
       "            + ' to learn more about interactive tables.';\n",
       "          element.innerHTML = '';\n",
       "          dataTable['output_type'] = 'display_data';\n",
       "          await google.colab.output.renderOutput(dataTable, element);\n",
       "          const docLink = document.createElement('div');\n",
       "          docLink.innerHTML = docLinkHtml;\n",
       "          element.appendChild(docLink);\n",
       "        }\n",
       "      </script>\n",
       "    </div>\n",
       "  </div>\n",
       "  "
      ]
     },
     "metadata": {},
     "execution_count": 30
    }
   ],
   "source": [
    "result.select(F.explode(F.arrays_zip(result.sentence.result, \n",
    "                                     result.deidentified.result)).alias(\"cols\")) \\\n",
    "      .select(F.expr(\"cols['0']\").alias(\"sentence\"),\n",
    "              F.expr(\"cols['1']\").alias(\"deidentified\")).toPandas()"
   ]
  },
  {
   "cell_type": "markdown",
   "id": "0de79296-97f8-4daa-940c-1fd8d176c8c3",
   "metadata": {
    "id": "0de79296-97f8-4daa-940c-1fd8d176c8c3"
   },
   "source": [
    "## Obfuscation mode"
   ]
  },
  {
   "cell_type": "markdown",
   "id": "52e7c83b-780b-4d3e-be7f-604cd310babd",
   "metadata": {
    "id": "52e7c83b-780b-4d3e-be7f-604cd310babd"
   },
   "source": [
    "In the obfuscation mode **DeIdentificationModel** will replace sensitive entities with random values of the same type. \n"
   ]
  },
  {
   "cell_type": "code",
   "execution_count": 31,
   "id": "31b20c5a-bc56-43e1-9101-6503c23ab49b",
   "metadata": {
    "id": "31b20c5a-bc56-43e1-9101-6503c23ab49b"
   },
   "outputs": [],
   "source": [
    "# This is the obfuscation dict for the new entities\n",
    "obs_lines = \"\"\"5417543010#PHONE\n",
    "(123)123-1234#PHONE\n",
    "+18087339090#PHONE\n",
    "(555) 555-1234#PHONE\n",
    "541-700-3010#PHONE\n",
    "HenryWatson@world.com#EMAIL\n",
    "yousef@jacob.com#EMAIL\n",
    "eric.shannon@geegle.com#EMAIL\n",
    "mgt@jsl.com#EMAIL\n",
    "gokhan@company.com#EMAIL\n",
    "richard@company.it#EMAIL\n",
    "TURER INC#PARTY\n",
    "Clarus llc.#PARTY\n",
    "SESA CO.#PARTY\n",
    "John Snow Labs Inc#PARTY\n",
    "MGT Trust Company, LLC.#PARTY\n",
    "26-06-1990#EFFDATE\n",
    "03/08/2025#EFFDATE\n",
    "01/01/2045#EFFDATE\n",
    "11/7/2016#EFFDATE\n",
    "12-12-2022#EFFDATE\n",
    "CEO#ROLE\n",
    "CTO#ROLE\n",
    "Director#ROLE\n",
    "James Turner#PERSON\n",
    "JUAN RAMIREZ#PERSON\n",
    "Benjamin Curie#PERSON\"\"\"\n",
    "\n",
    "with open ('obfuscate.txt', 'w') as f:\n",
    "    f.write(obs_lines)"
   ]
  },
  {
   "cell_type": "code",
   "execution_count": 32,
   "id": "210db7c7-e1a3-46ac-941f-160abc068ada",
   "metadata": {
    "id": "210db7c7-e1a3-46ac-941f-160abc068ada"
   },
   "outputs": [],
   "source": [
    "ner_converter_finner = finance.NerConverterInternal() \\\n",
    "    .setInputCols([\"sentence\", \"token\", \"ner_finner\"]) \\\n",
    "    .setOutputCol(\"ner_finner_chunk\") \\\n",
    "    .setWhiteList(['ROLE'])\\\n",
    "\n",
    "chunk_merge =  finance.ChunkMergeApproach()\\\n",
    "    .setInputCols(\"ner_finner_chunk\", \"ner_chunk\")\\\n",
    "    .setOutputCol(\"deid_merged_chunk\")\n",
    "\n",
    "obfuscation =  finance.DeIdentification()\\\n",
    "    .setInputCols([\"sentence\", \"token\", \"deid_merged_chunk\"]) \\\n",
    "    .setOutputCol(\"deidentified\") \\\n",
    "    .setMode(\"obfuscate\")\\\n",
    "    .setObfuscateDate(True)\\\n",
    "    .setObfuscateRefFile('obfuscate.txt')\\\n",
    "    .setObfuscateRefSource(\"both\") #default: \"faker\"\n",
    "\n",
    "\n",
    "nlpPipeline = nlp.Pipeline(stages=[\n",
    "      documentAssembler, \n",
    "      sentenceDetector,\n",
    "      tokenizer,\n",
    "      embeddings,\n",
    "      bert_embeddings,\n",
    "      fin_ner,\n",
    "      ner_converter,\n",
    "      ner_finner,\n",
    "      ner_converter_finner,\n",
    "      chunk_merge,\n",
    "      obfuscation])\n",
    "\n",
    "obfuscation_model = nlpPipeline.fit(empty_data)"
   ]
  },
  {
   "cell_type": "code",
   "execution_count": 33,
   "id": "0264dd21-5927-46b3-82f3-575d7a0b7a16",
   "metadata": {
    "colab": {
     "base_uri": "https://localhost:8080/",
     "height": 81
    },
    "id": "0264dd21-5927-46b3-82f3-575d7a0b7a16",
    "outputId": "269d8473-58fa-4efc-dc66-6568aeaa9334"
   },
   "outputs": [
    {
     "output_type": "execute_result",
     "data": {
      "text/plain": [
       "                                            sentence  \\\n",
       "0  Jeffrey Preston Bezos is an American entrepren...   \n",
       "\n",
       "                                        deidentified  \n",
       "0  JUAN RAMIREZ is an American entrepreneur, CTO ...  "
      ],
      "text/html": [
       "\n",
       "  <div id=\"df-0dd8e437-571b-41e0-a576-f46741b80350\">\n",
       "    <div class=\"colab-df-container\">\n",
       "      <div>\n",
       "<style scoped>\n",
       "    .dataframe tbody tr th:only-of-type {\n",
       "        vertical-align: middle;\n",
       "    }\n",
       "\n",
       "    .dataframe tbody tr th {\n",
       "        vertical-align: top;\n",
       "    }\n",
       "\n",
       "    .dataframe thead th {\n",
       "        text-align: right;\n",
       "    }\n",
       "</style>\n",
       "<table border=\"1\" class=\"dataframe\">\n",
       "  <thead>\n",
       "    <tr style=\"text-align: right;\">\n",
       "      <th></th>\n",
       "      <th>sentence</th>\n",
       "      <th>deidentified</th>\n",
       "    </tr>\n",
       "  </thead>\n",
       "  <tbody>\n",
       "    <tr>\n",
       "      <th>0</th>\n",
       "      <td>Jeffrey Preston Bezos is an American entrepren...</td>\n",
       "      <td>JUAN RAMIREZ is an American entrepreneur, CTO ...</td>\n",
       "    </tr>\n",
       "  </tbody>\n",
       "</table>\n",
       "</div>\n",
       "      <button class=\"colab-df-convert\" onclick=\"convertToInteractive('df-0dd8e437-571b-41e0-a576-f46741b80350')\"\n",
       "              title=\"Convert this dataframe to an interactive table.\"\n",
       "              style=\"display:none;\">\n",
       "        \n",
       "  <svg xmlns=\"http://www.w3.org/2000/svg\" height=\"24px\"viewBox=\"0 0 24 24\"\n",
       "       width=\"24px\">\n",
       "    <path d=\"M0 0h24v24H0V0z\" fill=\"none\"/>\n",
       "    <path d=\"M18.56 5.44l.94 2.06.94-2.06 2.06-.94-2.06-.94-.94-2.06-.94 2.06-2.06.94zm-11 1L8.5 8.5l.94-2.06 2.06-.94-2.06-.94L8.5 2.5l-.94 2.06-2.06.94zm10 10l.94 2.06.94-2.06 2.06-.94-2.06-.94-.94-2.06-.94 2.06-2.06.94z\"/><path d=\"M17.41 7.96l-1.37-1.37c-.4-.4-.92-.59-1.43-.59-.52 0-1.04.2-1.43.59L10.3 9.45l-7.72 7.72c-.78.78-.78 2.05 0 2.83L4 21.41c.39.39.9.59 1.41.59.51 0 1.02-.2 1.41-.59l7.78-7.78 2.81-2.81c.8-.78.8-2.07 0-2.86zM5.41 20L4 18.59l7.72-7.72 1.47 1.35L5.41 20z\"/>\n",
       "  </svg>\n",
       "      </button>\n",
       "      \n",
       "  <style>\n",
       "    .colab-df-container {\n",
       "      display:flex;\n",
       "      flex-wrap:wrap;\n",
       "      gap: 12px;\n",
       "    }\n",
       "\n",
       "    .colab-df-convert {\n",
       "      background-color: #E8F0FE;\n",
       "      border: none;\n",
       "      border-radius: 50%;\n",
       "      cursor: pointer;\n",
       "      display: none;\n",
       "      fill: #1967D2;\n",
       "      height: 32px;\n",
       "      padding: 0 0 0 0;\n",
       "      width: 32px;\n",
       "    }\n",
       "\n",
       "    .colab-df-convert:hover {\n",
       "      background-color: #E2EBFA;\n",
       "      box-shadow: 0px 1px 2px rgba(60, 64, 67, 0.3), 0px 1px 3px 1px rgba(60, 64, 67, 0.15);\n",
       "      fill: #174EA6;\n",
       "    }\n",
       "\n",
       "    [theme=dark] .colab-df-convert {\n",
       "      background-color: #3B4455;\n",
       "      fill: #D2E3FC;\n",
       "    }\n",
       "\n",
       "    [theme=dark] .colab-df-convert:hover {\n",
       "      background-color: #434B5C;\n",
       "      box-shadow: 0px 1px 3px 1px rgba(0, 0, 0, 0.15);\n",
       "      filter: drop-shadow(0px 1px 2px rgba(0, 0, 0, 0.3));\n",
       "      fill: #FFFFFF;\n",
       "    }\n",
       "  </style>\n",
       "\n",
       "      <script>\n",
       "        const buttonEl =\n",
       "          document.querySelector('#df-0dd8e437-571b-41e0-a576-f46741b80350 button.colab-df-convert');\n",
       "        buttonEl.style.display =\n",
       "          google.colab.kernel.accessAllowed ? 'block' : 'none';\n",
       "\n",
       "        async function convertToInteractive(key) {\n",
       "          const element = document.querySelector('#df-0dd8e437-571b-41e0-a576-f46741b80350');\n",
       "          const dataTable =\n",
       "            await google.colab.kernel.invokeFunction('convertToInteractive',\n",
       "                                                     [key], {});\n",
       "          if (!dataTable) return;\n",
       "\n",
       "          const docLinkHtml = 'Like what you see? Visit the ' +\n",
       "            '<a target=\"_blank\" href=https://colab.research.google.com/notebooks/data_table.ipynb>data table notebook</a>'\n",
       "            + ' to learn more about interactive tables.';\n",
       "          element.innerHTML = '';\n",
       "          dataTable['output_type'] = 'display_data';\n",
       "          await google.colab.output.renderOutput(dataTable, element);\n",
       "          const docLink = document.createElement('div');\n",
       "          docLink.innerHTML = docLinkHtml;\n",
       "          element.appendChild(docLink);\n",
       "        }\n",
       "      </script>\n",
       "    </div>\n",
       "  </div>\n",
       "  "
      ]
     },
     "metadata": {},
     "execution_count": 33
    }
   ],
   "source": [
    "result = obfuscation_model.transform(spark.createDataFrame([[text]]).toDF(\"text\"))\n",
    "\n",
    "result.select(F.explode(F.arrays_zip(result.sentence.result, result.deidentified.result)).alias(\"cols\")) \\\n",
    "      .select(F.expr(\"cols['0']\").alias(\"sentence\"), F.expr(\"cols['1']\").alias(\"deidentified\")).toPandas()"
   ]
  },
  {
   "cell_type": "code",
   "source": [],
   "metadata": {
    "id": "7_Z086Sa-n5X"
   },
   "id": "7_Z086Sa-n5X",
   "execution_count": 33,
   "outputs": []
  },
  {
   "cell_type": "markdown",
   "source": [
    "## Faker Mode"
   ],
   "metadata": {
    "id": "xRM1ZmODZSSd"
   },
   "id": "xRM1ZmODZSSd"
  },
  {
   "cell_type": "markdown",
   "metadata": {
    "id": "sE0P0vXWuJAS"
   },
   "source": [
    "The faker module allows the user to use a set of fake entities that are in the memory of spark-nlp-internal. You can set up this module using the following property: `setObfuscateRefSource('faker')`.\n",
    "\n",
    "If we select the `setObfuscateRefSource('both')` then we choose randomly the entities using the faker and the fakes entities from the obfuscateRefFile.\n",
    "\n",
    "\n",
    "The entities that are allowed right now are the followings:\n",
    "\n",
    "* Location\n",
    "* Location-other\n",
    "* Hospital\n",
    "* City\n",
    "* State\n",
    "* Zip\n",
    "* Country\n",
    "* Contact\n",
    "* Username\n",
    "* Phone\n",
    "* Fax\n",
    "* Url\n",
    "* Email\n",
    "* Profession\n",
    "* Name\n",
    "* Doctor\n",
    "* Patient\n",
    "* Id\n",
    "* Idnum\n",
    "* Bioid\n",
    "* Age\n",
    "* Organization\n",
    "* Healthplan\n",
    "* Medicalrecord\n",
    "* Ssn\n",
    "* Passport\n",
    "* DLN\n",
    "* NPI\n",
    "* C_card\n",
    "* IBAN\n",
    "* DEA\n",
    "* Device\n",
    "\n",
    "\n"
   ],
   "id": "sE0P0vXWuJAS"
  },
  {
   "cell_type": "code",
   "source": [
    "ner_converter_finner = finance.NerConverterInternal() \\\n",
    "    .setInputCols([\"sentence\", \"token\", \"ner_finner\"]) \\\n",
    "    .setOutputCol(\"ner_finner_chunk\") \\\n",
    "    .setWhiteList(['ROLE'])\\\n",
    "\n",
    "chunk_merge =  finance.ChunkMergeApproach()\\\n",
    "    .setInputCols(\"ner_finner_chunk\", \"ner_chunk\")\\\n",
    "    .setOutputCol(\"deid_merged_chunk\")\n",
    "\n",
    "obfuscation =  finance.DeIdentification()\\\n",
    "    .setInputCols([\"sentence\", \"token\", \"deid_merged_chunk\"]) \\\n",
    "    .setOutputCol(\"deidentified\") \\\n",
    "    .setMode(\"obfuscate\")\\\n",
    "    .setObfuscateDate(True)\\\n",
    "    .setObfuscateRefSource(\"faker\") \\\n",
    "\n",
    "\n",
    "nlpPipeline = nlp.Pipeline(stages=[\n",
    "      documentAssembler, \n",
    "      sentenceDetector,\n",
    "      tokenizer,\n",
    "      embeddings,\n",
    "      bert_embeddings,\n",
    "      fin_ner,\n",
    "      ner_converter,\n",
    "      ner_finner,\n",
    "      ner_converter_finner,\n",
    "      chunk_merge,\n",
    "      obfuscation])\n",
    "\n",
    "obfuscation_model = nlpPipeline.fit(empty_data)"
   ],
   "metadata": {
    "id": "hmEo_cr6E781"
   },
   "id": "hmEo_cr6E781",
   "execution_count": 34,
   "outputs": []
  },
  {
   "cell_type": "code",
   "execution_count": 34,
   "metadata": {
    "id": "w5P97F6jVkNB"
   },
   "outputs": [],
   "source": [],
   "id": "w5P97F6jVkNB"
  },
  {
   "cell_type": "code",
   "execution_count": 35,
   "metadata": {
    "colab": {
     "base_uri": "https://localhost:8080/",
     "height": 81
    },
    "id": "lf6OBIjvjWFd",
    "outputId": "807eb666-fd59-4b36-f273-7bb948642305"
   },
   "outputs": [
    {
     "output_type": "execute_result",
     "data": {
      "text/plain": [
       "                                            sentence  \\\n",
       "0  \"By  Mitesh Patel By:  Judson Hannigan Name: M...   \n",
       "\n",
       "                                        deidentified  \n",
       "0  \"By  <PERSON> By:  <PERSON> Name: <PERSON> Nam...  "
      ],
      "text/html": [
       "\n",
       "  <div id=\"df-53bcf3fc-0f52-4bcc-8b7d-5b978f177021\">\n",
       "    <div class=\"colab-df-container\">\n",
       "      <div>\n",
       "<style scoped>\n",
       "    .dataframe tbody tr th:only-of-type {\n",
       "        vertical-align: middle;\n",
       "    }\n",
       "\n",
       "    .dataframe tbody tr th {\n",
       "        vertical-align: top;\n",
       "    }\n",
       "\n",
       "    .dataframe thead th {\n",
       "        text-align: right;\n",
       "    }\n",
       "</style>\n",
       "<table border=\"1\" class=\"dataframe\">\n",
       "  <thead>\n",
       "    <tr style=\"text-align: right;\">\n",
       "      <th></th>\n",
       "      <th>sentence</th>\n",
       "      <th>deidentified</th>\n",
       "    </tr>\n",
       "  </thead>\n",
       "  <tbody>\n",
       "    <tr>\n",
       "      <th>0</th>\n",
       "      <td>\"By  Mitesh Patel By:  Judson Hannigan Name: M...</td>\n",
       "      <td>\"By  &lt;PERSON&gt; By:  &lt;PERSON&gt; Name: &lt;PERSON&gt; Nam...</td>\n",
       "    </tr>\n",
       "  </tbody>\n",
       "</table>\n",
       "</div>\n",
       "      <button class=\"colab-df-convert\" onclick=\"convertToInteractive('df-53bcf3fc-0f52-4bcc-8b7d-5b978f177021')\"\n",
       "              title=\"Convert this dataframe to an interactive table.\"\n",
       "              style=\"display:none;\">\n",
       "        \n",
       "  <svg xmlns=\"http://www.w3.org/2000/svg\" height=\"24px\"viewBox=\"0 0 24 24\"\n",
       "       width=\"24px\">\n",
       "    <path d=\"M0 0h24v24H0V0z\" fill=\"none\"/>\n",
       "    <path d=\"M18.56 5.44l.94 2.06.94-2.06 2.06-.94-2.06-.94-.94-2.06-.94 2.06-2.06.94zm-11 1L8.5 8.5l.94-2.06 2.06-.94-2.06-.94L8.5 2.5l-.94 2.06-2.06.94zm10 10l.94 2.06.94-2.06 2.06-.94-2.06-.94-.94-2.06-.94 2.06-2.06.94z\"/><path d=\"M17.41 7.96l-1.37-1.37c-.4-.4-.92-.59-1.43-.59-.52 0-1.04.2-1.43.59L10.3 9.45l-7.72 7.72c-.78.78-.78 2.05 0 2.83L4 21.41c.39.39.9.59 1.41.59.51 0 1.02-.2 1.41-.59l7.78-7.78 2.81-2.81c.8-.78.8-2.07 0-2.86zM5.41 20L4 18.59l7.72-7.72 1.47 1.35L5.41 20z\"/>\n",
       "  </svg>\n",
       "      </button>\n",
       "      \n",
       "  <style>\n",
       "    .colab-df-container {\n",
       "      display:flex;\n",
       "      flex-wrap:wrap;\n",
       "      gap: 12px;\n",
       "    }\n",
       "\n",
       "    .colab-df-convert {\n",
       "      background-color: #E8F0FE;\n",
       "      border: none;\n",
       "      border-radius: 50%;\n",
       "      cursor: pointer;\n",
       "      display: none;\n",
       "      fill: #1967D2;\n",
       "      height: 32px;\n",
       "      padding: 0 0 0 0;\n",
       "      width: 32px;\n",
       "    }\n",
       "\n",
       "    .colab-df-convert:hover {\n",
       "      background-color: #E2EBFA;\n",
       "      box-shadow: 0px 1px 2px rgba(60, 64, 67, 0.3), 0px 1px 3px 1px rgba(60, 64, 67, 0.15);\n",
       "      fill: #174EA6;\n",
       "    }\n",
       "\n",
       "    [theme=dark] .colab-df-convert {\n",
       "      background-color: #3B4455;\n",
       "      fill: #D2E3FC;\n",
       "    }\n",
       "\n",
       "    [theme=dark] .colab-df-convert:hover {\n",
       "      background-color: #434B5C;\n",
       "      box-shadow: 0px 1px 3px 1px rgba(0, 0, 0, 0.15);\n",
       "      filter: drop-shadow(0px 1px 2px rgba(0, 0, 0, 0.3));\n",
       "      fill: #FFFFFF;\n",
       "    }\n",
       "  </style>\n",
       "\n",
       "      <script>\n",
       "        const buttonEl =\n",
       "          document.querySelector('#df-53bcf3fc-0f52-4bcc-8b7d-5b978f177021 button.colab-df-convert');\n",
       "        buttonEl.style.display =\n",
       "          google.colab.kernel.accessAllowed ? 'block' : 'none';\n",
       "\n",
       "        async function convertToInteractive(key) {\n",
       "          const element = document.querySelector('#df-53bcf3fc-0f52-4bcc-8b7d-5b978f177021');\n",
       "          const dataTable =\n",
       "            await google.colab.kernel.invokeFunction('convertToInteractive',\n",
       "                                                     [key], {});\n",
       "          if (!dataTable) return;\n",
       "\n",
       "          const docLinkHtml = 'Like what you see? Visit the ' +\n",
       "            '<a target=\"_blank\" href=https://colab.research.google.com/notebooks/data_table.ipynb>data table notebook</a>'\n",
       "            + ' to learn more about interactive tables.';\n",
       "          element.innerHTML = '';\n",
       "          dataTable['output_type'] = 'display_data';\n",
       "          await google.colab.output.renderOutput(dataTable, element);\n",
       "          const docLink = document.createElement('div');\n",
       "          docLink.innerHTML = docLinkHtml;\n",
       "          element.appendChild(docLink);\n",
       "        }\n",
       "      </script>\n",
       "    </div>\n",
       "  </div>\n",
       "  "
      ]
     },
     "metadata": {},
     "execution_count": 35
    }
   ],
   "source": [
    "text = \"\"\"\"By  Mitesh Patel By:  Judson Hannigan Name: Mitesh Patel Name: Judson Hannigan Title: VP, Marketing Title: CEO .\"\"\"\n",
    "\n",
    "result = obfuscation_model.transform(spark.createDataFrame([[text]]).toDF(\"text\"))\n",
    "\n",
    "result.select(F.explode(F.arrays_zip(result.sentence.result,\n",
    "                                     result.deidentified.result)).alias(\"cols\")) \\\n",
    "      .select(F.expr(\"cols['0']\").alias(\"sentence\"), F.expr(\"cols['1']\").alias(\"deidentified\")).toPandas()"
   ],
   "id": "lf6OBIjvjWFd"
  },
  {
   "cell_type": "markdown",
   "source": [],
   "metadata": {
    "id": "Dv1bbFQjZV8f"
   },
   "id": "Dv1bbFQjZV8f"
  },
  {
   "cell_type": "markdown",
   "id": "3ebd5940-8389-4acb-b505-6dab2eebbbb3",
   "metadata": {
    "id": "3ebd5940-8389-4acb-b505-6dab2eebbbb3"
   },
   "source": [
    "## Use full pipeline in the Light model"
   ]
  },
  {
   "cell_type": "code",
   "execution_count": 36,
   "id": "79bba6fc-b913-4e23-b6e1-315616756073",
   "metadata": {
    "colab": {
     "base_uri": "https://localhost:8080/"
    },
    "id": "79bba6fc-b913-4e23-b6e1-315616756073",
    "outputId": "5caaca7a-12c1-4a04-f9df-662faba56a6b"
   },
   "outputs": [
    {
     "output_type": "execute_result",
     "data": {
      "text/plain": [
       "['\"By  <PERSON> By:  <PERSON> Name: <PERSON> Name: <PERSON> Title: <ROLE> Title: <ROLE> .']"
      ]
     },
     "metadata": {},
     "execution_count": 36
    }
   ],
   "source": [
    "light_model = nlp.LightPipeline(model)\n",
    "annotated_text = light_model.annotate(text)\n",
    "annotated_text['deidentified']"
   ]
  },
  {
   "cell_type": "code",
   "execution_count": 37,
   "id": "9f0c3c9f-b7b6-4e68-ae5d-9c8833bf06d4",
   "metadata": {
    "colab": {
     "base_uri": "https://localhost:8080/"
    },
    "id": "9f0c3c9f-b7b6-4e68-ae5d-9c8833bf06d4",
    "outputId": "51a4035b-2598-446e-dfc6-7292a4c615b0"
   },
   "outputs": [
    {
     "output_type": "execute_result",
     "data": {
      "text/plain": [
       "['\"By  <PERSON> By:  <PERSON> Name: <PERSON> Name: <PERSON> Title: <ROLE> Title: <ROLE> .']"
      ]
     },
     "metadata": {},
     "execution_count": 37
    }
   ],
   "source": [
    "obf_light_model = nlp.LightPipeline(obfuscation_model)\n",
    "annotated_text = obf_light_model.annotate(text)\n",
    "annotated_text['deidentified']"
   ]
  },
  {
   "cell_type": "code",
   "source": [],
   "metadata": {
    "id": "wwldbKIj_JDT"
   },
   "id": "wwldbKIj_JDT",
   "execution_count": 37,
   "outputs": []
  },
  {
   "cell_type": "markdown",
   "source": [
    "## Shifting Days\n",
    "\n",
    "We use the `medical.DocumentHashCoder()` annotator to determine shifting days. This annotator gets the hash of the specified column and creates a new document column containing day shift information. And then, the `medical.DeIdentification()` annotator deidentifies this new doc. We should set the seed parameter to hash consistently.  "
   ],
   "metadata": {
    "id": "zm9B278ZZlyr"
   },
   "id": "zm9B278ZZlyr"
  },
  {
   "cell_type": "code",
   "source": [
    "import pandas as pd\n",
    "\n",
    "data = pd.DataFrame(\n",
    "    {'DocumentID' : ['A001', 'A001', 'A002', 'A002'],\n",
    "     'text' : ['Chris Brown was arrested on 10/02/2022', \n",
    "               'Mark White has bought a stock on 02/28/2020', \n",
    "               'John has bought a house on 03/15/2022',\n",
    "               'John Moore was discharged on 12/31/2022'\n",
    "              ]\n",
    "    }\n",
    ")\n",
    "\n",
    "my_input_df = spark.createDataFrame(data)\n",
    "\n",
    "my_input_df.show(truncate = False)"
   ],
   "metadata": {
    "id": "_17tC0tqZr_l",
    "colab": {
     "base_uri": "https://localhost:8080/"
    },
    "outputId": "3ed5cf28-aee3-49bc-ce68-af65514cf3ef"
   },
   "execution_count": 38,
   "outputs": [
    {
     "output_type": "stream",
     "name": "stdout",
     "text": [
      "+----------+-------------------------------------------+\n",
      "|DocumentID|text                                       |\n",
      "+----------+-------------------------------------------+\n",
      "|A001      |Chris Brown was arrested on 10/02/2022     |\n",
      "|A001      |Mark White has bought a stock on 02/28/2020|\n",
      "|A002      |John has bought a house on 03/15/2022      |\n",
      "|A002      |John Moore was discharged on 12/31/2022    |\n",
      "+----------+-------------------------------------------+\n",
      "\n"
     ]
    }
   ],
   "id": "_17tC0tqZr_l"
  },
  {
   "cell_type": "code",
   "source": [],
   "metadata": {
    "id": "NVZItaN2c0IB"
   },
   "execution_count": 38,
   "outputs": [],
   "id": "NVZItaN2c0IB"
  },
  {
   "cell_type": "markdown",
   "source": [
    "### Shifting days according to the ID column\n",
    "\n",
    "We use the `finance.DocumentHashCoder()` annotator to determine shifting days. This annotator gets the hash of the specified column and creates a new document column containing day shift information. And then, the `finance.DeIdentification()` annotator deidentifies this new doc. We should set the seed parameter to hash consistently.  "
   ],
   "metadata": {
    "id": "Rsp2fUfMwlC0"
   },
   "id": "Rsp2fUfMwlC0"
  },
  {
   "cell_type": "code",
   "source": [
    "documentAssembler = nlp.DocumentAssembler()\\\n",
    "    .setInputCol(\"text\")\\\n",
    "    .setOutputCol(\"document\")\n",
    "\n",
    "documentHasher = finance.DocumentHashCoder()\\\n",
    "    .setInputCols(\"document\")\\\n",
    "    .setOutputCol(\"document2\")\\\n",
    "    .setPatientIdColumn(\"DocumentID\")\\\n",
    "    .setRangeDays(100)\\\n",
    "    .setNewDateShift(\"shift_days\")\\\n",
    "    .setSeed(100)\n",
    "\n",
    "\n",
    "# sentenceDetector = nlp.SentenceDetectorDLModel.pretrained(\"sentence_detector_dl\",\"xx\")\\\n",
    "#     .setInputCols([\"document2\"])\\\n",
    "#     .setOutputCol(\"sentence\")\n",
    "#     #.setCustomBounds([\"\\n\\n\"])\n",
    "\n",
    "tokenizer = nlp.Tokenizer()\\\n",
    "    .setInputCols([\"document2\"])\\\n",
    "    .setOutputCol(\"token\")\n",
    "\n",
    "embeddings = nlp.RoBertaEmbeddings.pretrained(\"roberta_embeddings_legal_roberta_base\",\"en\") \\\n",
    "    .setInputCols([\"document2\", \"token\"]) \\\n",
    "    .setOutputCol(\"embeddings\")\n",
    "\n",
    "fin_ner = finance.NerModel.pretrained('finner_deid', \"en\", \"finance/models\")\\\n",
    "    .setInputCols([\"document2\", \"token\", \"embeddings\"]) \\\n",
    "    .setOutputCol(\"ner\") \n",
    "    #.setLabelCasing(\"upper\")\n",
    "\n",
    "ner_converter = finance.NerConverterInternal() \\\n",
    "    .setInputCols([\"document2\", \"token\", \"ner\"])\\\n",
    "    .setOutputCol(\"ner_chunk\") # \"ALIAS\" are secondary names of companies, so let's extract them also as PARTY\n",
    "\n",
    "\n",
    "deid = finance.DeIdentification()\\\n",
    "    .setInputCols([\"document2\", \"token\", \"ner_chunk\"]) \\\n",
    "    .setOutputCol(\"deidentified\") \\\n",
    "    .setMode(\"obfuscate\") \\\n",
    "    .setObfuscateDate(True) \\\n",
    "    .setDateTag(\"DATE\") \\\n",
    "    .setLanguage(\"en\") \\\n",
    "    .setObfuscateRefSource('faker') \\\n",
    "    .setUseShifDays(True)\\\n",
    "    .setRegion('us')\n",
    "\n",
    "pipeline = nlp.Pipeline(stages=[\n",
    "      documentAssembler, \n",
    "      documentHasher,\n",
    "      tokenizer,\n",
    "      embeddings,\n",
    "      fin_ner,\n",
    "      ner_converter,\n",
    "      deid])\n",
    "\n",
    "empty_data = spark.createDataFrame([[\"\", \"\"]]).toDF(\"text\", \"DocumentID\")\n",
    "\n",
    "pipeline_model = pipeline.fit(empty_data)"
   ],
   "metadata": {
    "colab": {
     "base_uri": "https://localhost:8080/"
    },
    "id": "IH83aro3wg9w",
    "outputId": "a9fd88a5-44b2-4056-87e1-e93e426c555e"
   },
   "execution_count": 39,
   "outputs": [
    {
     "output_type": "stream",
     "name": "stdout",
     "text": [
      "roberta_embeddings_legal_roberta_base download started this may take some time.\n",
      "Approximate size to download 447.2 MB\n",
      "[OK!]\n",
      "finner_deid download started this may take some time.\n",
      "[OK!]\n"
     ]
    }
   ],
   "id": "IH83aro3wg9w"
  },
  {
   "cell_type": "code",
   "source": [
    "output = pipeline_model.transform(my_input_df)\n",
    "\n",
    "output.select('DocumentID','text', 'deidentified.result').show(truncate = False)"
   ],
   "metadata": {
    "colab": {
     "base_uri": "https://localhost:8080/"
    },
    "id": "KPz7-XcBwhBT",
    "outputId": "95ba0ec8-2cf0-4a36-c496-7669c59b9e66"
   },
   "execution_count": 40,
   "outputs": [
    {
     "output_type": "stream",
     "name": "stdout",
     "text": [
      "+----------+-------------------------------------------+-------------------------------------------+\n",
      "|DocumentID|text                                       |result                                     |\n",
      "+----------+-------------------------------------------+-------------------------------------------+\n",
      "|A001      |Chris Brown was arrested on 10/02/2022     |[<PERSON> was arrested on 09/27/2022]      |\n",
      "|A001      |Mark White has bought a stock on 02/28/2020|[<PERSON> has bought a stock on 02/23/2020]|\n",
      "|A002      |John has bought a house on 03/15/2022      |[<PERSON> has bought a house on 04/13/2022]|\n",
      "|A002      |John Moore was discharged on 12/31/2022    |[<PERSON> was discharged on 01/29/2023]    |\n",
      "+----------+-------------------------------------------+-------------------------------------------+\n",
      "\n"
     ]
    }
   ],
   "id": "KPz7-XcBwhBT"
  },
  {
   "cell_type": "markdown",
   "source": [
    "### Shifting days according to specified values\n",
    "\n",
    "Instead of shifting days according to ID column, we can specify shifting values with another column.\n",
    "\n",
    "```python\n",
    "documentHasher = finance.DocumentHashCoder()\\\n",
    "    .setInputCols(\"document\")\\\n",
    "    .setOutputCol(\"document2\")\\\n",
    "    .setDateShiftColumn(\"dateshift\")\\\n",
    "```\n"
   ],
   "metadata": {
    "id": "zpJiuktQwrkt"
   },
   "id": "zpJiuktQwrkt"
  },
  {
   "cell_type": "code",
   "source": [
    "data = pd.DataFrame(\n",
    "    {'DocumentID' : ['A001', 'A001', 'A002', 'A002'],\n",
    "     'text' : ['Chris Brown was arrested on 10/02/2019', \n",
    "               'Mark White has bought a stock on 02/28/2020', \n",
    "               'John has bought a house on 03/15/2022',\n",
    "               'John Moore was discharged on 12/31/2022'\n",
    "                            ],\n",
    "     'dateshift' : ['5', '5', '10', '10']\n",
    "    }\n",
    ")\n",
    "\n",
    "\n",
    "my_input_df = spark.createDataFrame(data)\n",
    "\n",
    "my_input_df.show(truncate = False)"
   ],
   "metadata": {
    "colab": {
     "base_uri": "https://localhost:8080/"
    },
    "id": "zexpaYvcwrtG",
    "outputId": "c872ff32-d4a6-42a4-8461-bda4c520f48c"
   },
   "execution_count": 41,
   "outputs": [
    {
     "output_type": "stream",
     "name": "stdout",
     "text": [
      "+----------+-------------------------------------------+---------+\n",
      "|DocumentID|text                                       |dateshift|\n",
      "+----------+-------------------------------------------+---------+\n",
      "|A001      |Chris Brown was arrested on 10/02/2019     |5        |\n",
      "|A001      |Mark White has bought a stock on 02/28/2020|5        |\n",
      "|A002      |John has bought a house on 03/15/2022      |10       |\n",
      "|A002      |John Moore was discharged on 12/31/2022    |10       |\n",
      "+----------+-------------------------------------------+---------+\n",
      "\n"
     ]
    }
   ],
   "id": "zexpaYvcwrtG"
  },
  {
   "cell_type": "code",
   "source": [
    "documentAssembler = nlp.DocumentAssembler()\\\n",
    "    .setInputCol(\"text\")\\\n",
    "    .setOutputCol(\"document\")\n",
    "\n",
    "documentHasher = finance.DocumentHashCoder()\\\n",
    "    .setInputCols(\"document\")\\\n",
    "    .setOutputCol(\"document2\")\\\n",
    "    .setDateShiftColumn(\"dateshift\")\\\n",
    "\n",
    "\n",
    "# sentenceDetector = nlp.SentenceDetectorDLModel.pretrained(\"sentence_detector_dl\",\"xx\")\\\n",
    "#     .setInputCols([\"document2\"])\\\n",
    "#     .setOutputCol(\"sentence\")\n",
    "#     #.setCustomBounds([\"\\n\\n\"])\n",
    "\n",
    "tokenizer = nlp.Tokenizer()\\\n",
    "    .setInputCols([\"document2\"])\\\n",
    "    .setOutputCol(\"token\")\n",
    "\n",
    "embeddings = nlp.RoBertaEmbeddings.pretrained(\"roberta_embeddings_legal_roberta_base\",\"en\") \\\n",
    "    .setInputCols([\"document2\", \"token\"]) \\\n",
    "    .setOutputCol(\"embeddings\")\n",
    "\n",
    "\n",
    "fin_ner = finance.NerModel.pretrained('finner_deid', \"en\", \"finance/models\")\\\n",
    "    .setInputCols([\"document2\", \"token\", \"embeddings\"]) \\\n",
    "    .setOutputCol(\"ner\") \n",
    "    #.setLabelCasing(\"upper\")\n",
    "\n",
    "ner_converter = finance.NerConverterInternal() \\\n",
    "    .setInputCols([\"document2\", \"token\", \"ner\"])\\\n",
    "    .setOutputCol(\"ner_chunk\") # \"ALIAS\" are secondary names of companies, so let's extract them also as PARTY\n",
    "\n",
    "\n",
    "deid = finance.DeIdentification()\\\n",
    "    .setInputCols([\"document2\", \"token\", \"ner_chunk\"]) \\\n",
    "    .setOutputCol(\"deidentified\") \\\n",
    "    .setMode(\"obfuscate\") \\\n",
    "    .setObfuscateDate(True) \\\n",
    "    .setDateTag(\"DATE\") \\\n",
    "    .setLanguage(\"en\") \\\n",
    "    .setObfuscateRefSource('faker') \\\n",
    "    .setUseShifDays(True)\\\n",
    "    .setRegion('us')\n",
    "\n",
    "pipeline = nlp.Pipeline(stages=[\n",
    "      documentAssembler, \n",
    "      documentHasher,\n",
    "      tokenizer,\n",
    "      embeddings,\n",
    "      fin_ner,\n",
    "      ner_converter,\n",
    "      deid])\n",
    "\n",
    "empty_data = spark.createDataFrame([[\"\", \"\", \"\"]]).toDF(\"text\", \"DocumentID\", \"dateshift\")\n",
    "\n",
    "pipeline_model = pipeline.fit(empty_data)"
   ],
   "metadata": {
    "colab": {
     "base_uri": "https://localhost:8080/"
    },
    "id": "dgB4NqBi0Z-t",
    "outputId": "3405455b-bfa8-4d49-e94a-275b9f97278a"
   },
   "execution_count": 42,
   "outputs": [
    {
     "output_type": "stream",
     "name": "stdout",
     "text": [
      "roberta_embeddings_legal_roberta_base download started this may take some time.\n",
      "Approximate size to download 447.2 MB\n",
      "[OK!]\n",
      "finner_deid download started this may take some time.\n",
      "[OK!]\n"
     ]
    }
   ],
   "id": "dgB4NqBi0Z-t"
  },
  {
   "cell_type": "code",
   "source": [
    "output = pipeline_model.transform(my_input_df)\n",
    "\n",
    "output.select('text', 'dateshift', 'deidentified.result').show(truncate = False)"
   ],
   "metadata": {
    "colab": {
     "base_uri": "https://localhost:8080/"
    },
    "id": "tVV_Tb5a1IY3",
    "outputId": "a97212a8-3e9c-406a-a6b4-98a8375ceb01"
   },
   "execution_count": 43,
   "outputs": [
    {
     "output_type": "stream",
     "name": "stdout",
     "text": [
      "+-------------------------------------------+---------+-------------------------------------------+\n",
      "|text                                       |dateshift|result                                     |\n",
      "+-------------------------------------------+---------+-------------------------------------------+\n",
      "|Chris Brown was arrested on 10/02/2019     |5        |[<PERSON> was arrested on 10/07/2019]      |\n",
      "|Mark White has bought a stock on 02/28/2020|5        |[<PERSON> has bought a stock on 03/04/2020]|\n",
      "|John has bought a house on 03/15/2022      |10       |[<PERSON> has bought a house on 03/25/2022]|\n",
      "|John Moore was discharged on 12/31/2022    |10       |[<PERSON> was discharged on 01/10/2023]    |\n",
      "+-------------------------------------------+---------+-------------------------------------------+\n",
      "\n"
     ]
    }
   ],
   "id": "tVV_Tb5a1IY3"
  },
  {
   "cell_type": "markdown",
   "source": [
    "### Masking Unnormalized Date Formats\n",
    "\n",
    "`setUnnormalizedDateMode()` parameter is used to mask the DATE entities that can not be normalized. In the example below, please check `03Apr2022` which couldn't be normalized and it is masked in the output."
   ],
   "metadata": {
    "id": "_olmWxXfV5AO"
   },
   "id": "_olmWxXfV5AO"
  },
  {
   "cell_type": "code",
   "source": [
    "data = pd.DataFrame(\n",
    "    {'DocumentID' : ['A001', 'A001', 'A002', 'A002'],\n",
    "     'text' : ['Chris Brown was arrested on 10/02/2022', \n",
    "               'Mark White has bought a stock on 02/28/2020', \n",
    "               'John has bought a house on 03Apr2022',\n",
    "               'John Moore has bought a property on 12/31/2022'\n",
    "                            ],\n",
    "     'dateshift' : ['5', '5', '10', '10']\n",
    "    }\n",
    ")\n",
    "\n",
    "my_input_df = spark.createDataFrame(data)\n",
    "\n",
    "\n",
    "documentAssembler = nlp.DocumentAssembler()\\\n",
    "    .setInputCol(\"text\")\\\n",
    "    .setOutputCol(\"document\")\n",
    "\n",
    "documentHasher = finance.DocumentHashCoder()\\\n",
    "    .setInputCols(\"document\")\\\n",
    "    .setOutputCol(\"document2\")\\\n",
    "    .setDateShiftColumn(\"dateshift\")\\\n",
    "\n",
    "\n",
    "# sentenceDetector = nlp.SentenceDetectorDLModel.pretrained(\"sentence_detector_dl\",\"xx\")\\\n",
    "#     .setInputCols([\"document2\"])\\\n",
    "#     .setOutputCol(\"sentence\")\n",
    "#     #.setCustomBounds([\"\\n\\n\"])\n",
    "\n",
    "tokenizer = nlp.Tokenizer()\\\n",
    "    .setInputCols([\"document2\"])\\\n",
    "    .setOutputCol(\"token\")\n",
    "\n",
    "embeddings = nlp.RoBertaEmbeddings.pretrained(\"roberta_embeddings_legal_roberta_base\",\"en\") \\\n",
    "    .setInputCols([\"document2\", \"token\"]) \\\n",
    "    .setOutputCol(\"embeddings\")\n",
    "\n",
    "fin_ner = finance.NerModel.pretrained('finner_deid', \"en\", \"finance/models\")\\\n",
    "    .setInputCols([\"document2\", \"token\", \"embeddings\"]) \\\n",
    "    .setOutputCol(\"ner\") \n",
    "    #.setLabelCasing(\"upper\")\n",
    "\n",
    "ner_converter = finance.NerConverterInternal() \\\n",
    "    .setInputCols([\"document2\", \"token\", \"ner\"])\\\n",
    "    .setOutputCol(\"ner_chunk\") # \"ALIAS\" are secondary names of companies, so let's extract them also as PARTY\n",
    "\n",
    "\n",
    "deid = finance.DeIdentification()\\\n",
    "    .setInputCols([\"document2\", \"token\", \"ner_chunk\"]) \\\n",
    "    .setOutputCol(\"deidentified\") \\\n",
    "    .setMode(\"obfuscate\") \\\n",
    "    .setObfuscateDate(True) \\\n",
    "    .setDateTag(\"DATE\") \\\n",
    "    .setLanguage(\"en\") \\\n",
    "    .setObfuscateRefSource('faker') \\\n",
    "    .setUseShifDays(True)\\\n",
    "    .setRegion('us')\\\n",
    "    .setUnnormalizedDateMode(\"mask\")\n",
    "\n",
    "pipeline = nlp.Pipeline(stages=[\n",
    "      documentAssembler, \n",
    "      documentHasher,\n",
    "      sentenceDetector,\n",
    "      tokenizer,\n",
    "      embeddings,\n",
    "      fin_ner,\n",
    "      ner_converter,\n",
    "      deid])\n",
    "\n",
    "\n",
    "output = pipeline.fit(my_input_df).transform(my_input_df)\n",
    "\n",
    "output.select('text', 'dateshift', 'deidentified.result').show(truncate = False)"
   ],
   "metadata": {
    "colab": {
     "base_uri": "https://localhost:8080/"
    },
    "id": "ecMNdkr_V0Xq",
    "outputId": "b08937c8-6936-4876-d3ec-7ee754684a50"
   },
   "execution_count": 64,
   "outputs": [
    {
     "output_type": "stream",
     "name": "stdout",
     "text": [
      "roberta_embeddings_legal_roberta_base download started this may take some time.\n",
      "Approximate size to download 447.2 MB\n",
      "[OK!]\n",
      "finner_deid download started this may take some time.\n",
      "[OK!]\n",
      "+----------------------------------------------+---------+----------------------------------------------+\n",
      "|text                                          |dateshift|result                                        |\n",
      "+----------------------------------------------+---------+----------------------------------------------+\n",
      "|Chris Brown was arrested on 10/02/2022        |5        |[<PERSON> was arrested on 10/07/2022]         |\n",
      "|Mark White has bought a stock on 02/28/2020   |5        |[<PERSON> has bought a stock on 03/04/2020]   |\n",
      "|John has bought a house on 03Apr2022          |10       |[<PERSON> has bought a house on <DATE>]       |\n",
      "|John Moore has bought a property on 12/31/2022|10       |[<PERSON> has bought a property on 01/10/2023]|\n",
      "+----------------------------------------------+---------+----------------------------------------------+\n",
      "\n"
     ]
    }
   ],
   "id": "ecMNdkr_V0Xq"
  },
  {
   "cell_type": "code",
   "source": [],
   "metadata": {
    "id": "tV1QWUyh0Zhi"
   },
   "execution_count": 44,
   "outputs": [],
   "id": "tV1QWUyh0Zhi"
  },
  {
   "cell_type": "markdown",
   "metadata": {
    "id": "zwM9GsKnXPOg"
   },
   "source": [
    "# Structured Deidentification"
   ],
   "id": "zwM9GsKnXPOg"
  },
  {
   "cell_type": "code",
   "execution_count": 46,
   "metadata": {
    "colab": {
     "base_uri": "https://localhost:8080/"
    },
    "id": "JLY-pfeYXQAY",
    "outputId": "c1a1ce2f-55a7-450c-84a0-47ce6c0f120d"
   },
   "outputs": [
    {
     "output_type": "stream",
     "name": "stdout",
     "text": [
      "+---------------+----------+---+----------------------------------------------------+-------+--------------+---+---+\n",
      "|NAME           |DOB       |AGE|ADDRESS                                             |ZIPCODE|TEL           |SBP|DBP|\n",
      "+---------------+----------+---+----------------------------------------------------+-------+--------------+---+---+\n",
      "|Cecilia Chapman|04/02/1935|83 |711-2880 Nulla St. Mankato Mississippi              |69200  |(257) 563-7401|101|42 |\n",
      "|Iris Watson    |03/10/2009|9  |P.O. Box 283 8562 Fusce Rd. Frederick Nebraska      |20620  |(372) 587-2335|159|122|\n",
      "|Bryar Pitts    |11/01/1921|98 |5543 Aliquet St. Fort Dodge GA                      |20783  |(717) 450-4729|149|52 |\n",
      "|Theodore Lowe  |13/02/2002|16 |Ap #867-859 Sit Rd. Azusa New York                  |39531  |(793) 151-6230|134|115|\n",
      "|Calista Wise   |20/08/1942|76 |7292 Dictum Av. San Antonio MI                      |47096  |(492) 709-6392|139|78 |\n",
      "|Kyla Olsen     |12/05/1973|45 |Ap #651-8679 Sodales Av. Tamuning PA                |10855  |(654) 393-5734|120|112|\n",
      "|Forrest Ray    |11/01/1991|27 |191-103 Integer Rd. Corona New Mexico               |8219   |(404) 960-3807|143|126|\n",
      "|Hiroko Potter  |18/11/1937|81 |P.O. Box 887 2508 Dolor. Av. Muskegon KY            |12482  |(314) 244-6306|147|75 |\n",
      "|Celeste Slater |12/05/1980|38 |606-3727 Ullamcorper. Street Roseville NH           |11523  |(786) 713-8616|147|123|\n",
      "|Nyssa Vazquez  |24/09/1956|62 |511-5762 At Rd. Chelsea MI                          |67708  |(947) 278-5929|129|50 |\n",
      "|Lawrence Moreno|26/12/1906|112|935-9940 Tortor. Street Santa Rosa MN               |98804  |(684) 579-1879|133|102|\n",
      "|Ina Moran      |26/10/1983|35 |P.O. Box 929 4189 Nunc Road Lebanon KY              |69409  |(389) 737-2852|101|67 |\n",
      "|Aaron Hawkins  |26/09/2009|9  |5587 Nunc. Avenue Erie Rhode Island                 |24975  |(660) 663-4518|87 |81 |\n",
      "|Hedy Greene    |03/10/1920|98 |Ap #696-3279 Viverra. Avenue Latrobe DE             |38100  |(608) 265-2215|128|123|\n",
      "|Melvin Porter  |14/08/1911|107|P.O. Box 132 1599 Curabitur Rd. Bandera South Dakota|45149  |(959) 119-8364|83 |43 |\n",
      "|Keefe Sellers  |16/05/1937|81 |347-7666 Iaculis St. Woodruff SC                    |49854  |(468) 353-2641|148|109|\n",
      "|Joan Romero    |08/12/2004|14 |666-4366 Lacinia Avenue Idaho Falls Ohio            |19253  |(248) 675-4007|75 |53 |\n",
      "|Davis Patrick  |09/01/1956|63 |P.O. Box 147 2546 Sociosqu Rd. Bethlehem Utah       |2913   |(939) 353-1107|142|62 |\n",
      "|Leilani Boyer  |18/10/1934|84 |557-6308 Lacinia Road San Bernardino ND             |9289   |(570) 873-7090|137|48 |\n",
      "|Colby Bernard  |02/10/1905|113|Ap #285-7193 Ullamcorper Avenue Amesbury HI         |93373  |(302) 259-2375|84 |41 |\n",
      "+---------------+----------+---+----------------------------------------------------+-------+--------------+---+---+\n",
      "only showing top 20 rows\n",
      "\n"
     ]
    }
   ],
   "source": [
    "!wget -q https://raw.githubusercontent.com/JohnSnowLabs/spark-nlp-workshop/master/tutorials/Certification_Trainings_JSL/Finance/data/hipaa-table-001.txt\n",
    "\n",
    "df = spark.read.format(\"csv\") \\\n",
    "    .option(\"sep\", \"\\t\") \\\n",
    "    .option(\"inferSchema\", \"true\") \\\n",
    "    .option(\"header\", \"true\") \\\n",
    "    .load(\"hipaa-table-001.txt\")\n",
    "\n",
    "df.show(truncate=False)"
   ],
   "id": "JLY-pfeYXQAY"
  },
  {
   "cell_type": "code",
   "execution_count": 47,
   "metadata": {
    "colab": {
     "base_uri": "https://localhost:8080/"
    },
    "id": "PQ84IQTGcFAd",
    "outputId": "2953c268-d99d-4d7a-b628-6ddece724843"
   },
   "outputs": [
    {
     "output_type": "stream",
     "name": "stdout",
     "text": [
      "+------------------+----------+----+----------------------------------------------------+-------+--------------+---+---+\n",
      "|NAME              |DOB       |AGE |ADDRESS                                             |ZIPCODE|TEL           |SBP|DBP|\n",
      "+------------------+----------+----+----------------------------------------------------+-------+--------------+---+---+\n",
      "|[Ellen Ivy]       |04/02/1935|[60]|711-2880 Nulla St. Mankato Mississippi              |69200  |(257) 563-7401|101|42 |\n",
      "|[Barbie Griffes]  |03/10/2009|[11]|P.O. Box 283 8562 Fusce Rd. Frederick Nebraska      |20620  |(372) 587-2335|159|122|\n",
      "|[Redmond Kiel]    |11/01/1921|[60]|5543 Aliquet St. Fort Dodge GA                      |20783  |(717) 450-4729|149|52 |\n",
      "|[Arbutus Sites]   |13/02/2002|[16]|Ap #867-859 Sit Rd. Azusa New York                  |39531  |(793) 151-6230|134|115|\n",
      "|[Evans Rouleau]   |20/08/1942|[60]|7292 Dictum Av. San Antonio MI                      |47096  |(492) 709-6392|139|78 |\n",
      "|[Laura Bleak]     |12/05/1973|[50]|Ap #651-8679 Sodales Av. Tamuning PA                |10855  |(654) 393-5734|120|112|\n",
      "|[Corrinne Primus] |11/01/1991|[34]|191-103 Integer Rd. Corona New Mexico               |8219   |(404) 960-3807|143|126|\n",
      "|[Janifer Garrison]|18/11/1937|[60]|P.O. Box 887 2508 Dolor. Av. Muskegon KY            |12482  |(314) 244-6306|147|75 |\n",
      "|[Darren Courts]   |12/05/1980|[33]|606-3727 Ullamcorper. Street Roseville NH           |11523  |(786) 713-8616|147|123|\n",
      "|[Sandre Parody]   |24/09/1956|[60]|511-5762 At Rd. Chelsea MI                          |67708  |(947) 278-5929|129|50 |\n",
      "|[Vinita Raman]    |26/12/1906|[60]|935-9940 Tortor. Street Santa Rosa MN               |98804  |(684) 579-1879|133|102|\n",
      "|[Bentley Plank]   |26/10/1983|[35]|P.O. Box 929 4189 Nunc Road Lebanon KY              |69409  |(389) 737-2852|101|67 |\n",
      "|[Jen Hatch]       |26/09/2009|[11]|5587 Nunc. Avenue Erie Rhode Island                 |24975  |(660) 663-4518|87 |81 |\n",
      "|[Andris Oman]     |03/10/1920|[60]|Ap #696-3279 Viverra. Avenue Latrobe DE             |38100  |(608) 265-2215|128|123|\n",
      "|[Reesa Carrow]    |14/08/1911|[60]|P.O. Box 132 1599 Curabitur Rd. Bandera South Dakota|45149  |(959) 119-8364|83 |43 |\n",
      "|[Merryl Fantasia] |16/05/1937|[60]|347-7666 Iaculis St. Woodruff SC                    |49854  |(468) 353-2641|148|109|\n",
      "|[Marvin Beckmann] |08/12/2004|[13]|666-4366 Lacinia Avenue Idaho Falls Ohio            |19253  |(248) 675-4007|75 |53 |\n",
      "|[Adam Albany]     |09/01/1956|[60]|P.O. Box 147 2546 Sociosqu Rd. Bethlehem Utah       |2913   |(939) 353-1107|142|62 |\n",
      "|[Orvis Saltness]  |18/10/1934|[60]|557-6308 Lacinia Road San Bernardino ND             |9289   |(570) 873-7090|137|48 |\n",
      "|[Ellyn Amas]      |02/10/1905|[60]|Ap #285-7193 Ullamcorper Avenue Amesbury HI         |93373  |(302) 259-2375|84 |41 |\n",
      "+------------------+----------+----+----------------------------------------------------+-------+--------------+---+---+\n",
      "only showing top 20 rows\n",
      "\n"
     ]
    }
   ],
   "source": [
    "obfuscator = finance.StructuredDeidentification(spark,{\"NAME\":\"PATIENT\",\"AGE\":\"AGE\"}, obfuscateRefSource = \"faker\")\n",
    "obfuscator_df = obfuscator.obfuscateColumns(df)\n",
    "obfuscator_df.show(truncate=False)"
   ],
   "id": "PQ84IQTGcFAd"
  },
  {
   "cell_type": "code",
   "execution_count": 48,
   "metadata": {
    "id": "-GmMv8T-I0CX"
   },
   "outputs": [],
   "source": [
    "obfuscator_unique_ref_test = '''Will Perry#CLIENT\n",
    "John Smith#CLIENT\n",
    "Marvin MARSHALL#CLIENT\n",
    "Hubert GROGAN#CLIENT\n",
    "ALTHEA COLBURN#CLIENT\n",
    "Kalil AMIN#CLIENT\n",
    "Inci FOUNTAIN#CLIENT\n",
    "Jackson WILLE#CLIENT\n",
    "Jack SANTOS#CLIENT\n",
    "Mahmood ALBURN#CLIENT\n",
    "Marnie MELINGTON#CLIENT\n",
    "Aysha GHAZI#CLIENT\n",
    "Maryland CODER#CLIENT\n",
    "Darene GEORGIOUS#CLIENT\n",
    "Shelly WELLBECK#CLIENT\n",
    "Min Kun JAE#CLIENT\n",
    "Thomson THOMAS#CLIENT\n",
    "Christian SUDDINBURG#CLIENT\n",
    "Aberdeen#CITY\n",
    "Louisburg St#STREET\n",
    "France#LOC\n",
    "5552312#PHONE\n",
    "Calle del Libertador#ADDRESS\n",
    "111#ID\n",
    "20#AGE\n",
    "30#AGE\n",
    "40#AGE\n",
    "50#AGE\n",
    "60#AGE\n",
    "'''\n",
    "\n",
    "with open('obfuscator_unique_ref_test.txt', 'w') as f:\n",
    "  f.write(obfuscator_unique_ref_test)"
   ],
   "id": "-GmMv8T-I0CX"
  },
  {
   "cell_type": "code",
   "execution_count": 49,
   "metadata": {
    "colab": {
     "base_uri": "https://localhost:8080/"
    },
    "id": "PTwdR034I70n",
    "outputId": "e5c7e2f9-55a1-4962-bad5-7350716f79a1"
   },
   "outputs": [
    {
     "output_type": "stream",
     "name": "stdout",
     "text": [
      "+------------------+----+\n",
      "|NAME              |AGE |\n",
      "+------------------+----+\n",
      "|[Inci FOUNTAIN]   |[60]|\n",
      "|[Jack SANTOS]     |[30]|\n",
      "|[Darene GEORGIOUS]|[30]|\n",
      "|[Shelly WELLBECK] |[40]|\n",
      "|[Hubert GROGAN]   |[40]|\n",
      "|[Kalil AMIN]      |[40]|\n",
      "|[ALTHEA COLBURN]  |[60]|\n",
      "|[Thomson THOMAS]  |[60]|\n",
      "|[Jack SANTOS]     |[60]|\n",
      "|[Will Perry]      |[20]|\n",
      "|[Jackson WILLE]   |[60]|\n",
      "|[Shelly WELLBECK] |[40]|\n",
      "|[Kalil AMIN]      |[30]|\n",
      "|[Marnie MELINGTON]|[30]|\n",
      "|[Min Kun JAE]     |[30]|\n",
      "|[Marvin MARSHALL] |[60]|\n",
      "|[Marvin MARSHALL] |[50]|\n",
      "|[Min Kun JAE]     |[30]|\n",
      "|[Maryland CODER]  |[20]|\n",
      "|[Marnie MELINGTON]|[20]|\n",
      "+------------------+----+\n",
      "only showing top 20 rows\n",
      "\n"
     ]
    }
   ],
   "source": [
    "# obfuscateRefSource = \"file\"\n",
    "\n",
    "obfuscator = finance.StructuredDeidentification(spark,{\"NAME\":\"CLIENT\",\"AGE\":\"AGE\"}, \n",
    "                                        obfuscateRefFile = \"/content/obfuscator_unique_ref_test.txt\",\n",
    "                                        obfuscateRefSource = \"file\",\n",
    "                                        columnsSeed={\"NAME\": 23, \"AGE\": 23})\n",
    "obfuscator_df = obfuscator.obfuscateColumns(df)\n",
    "obfuscator_df.select(\"NAME\",\"AGE\").show(truncate=False)"
   ],
   "id": "PTwdR034I70n"
  },
  {
   "cell_type": "markdown",
   "metadata": {
    "id": "w8tW5fFafQmL"
   },
   "source": [
    "We can **shift n days** in the structured deidentification through \"days\" parameter when the column is a Date."
   ],
   "id": "w8tW5fFafQmL"
  },
  {
   "cell_type": "code",
   "execution_count": 50,
   "metadata": {
    "colab": {
     "base_uri": "https://localhost:8080/"
    },
    "id": "iBzoNufMfYCn",
    "outputId": "da20f6a8-3ae9-422c-c002-88b9c94ee5a0"
   },
   "outputs": [
    {
     "output_type": "stream",
     "name": "stdout",
     "text": [
      "+-------------+----------+-----------------------+---+----------------+\n",
      "|NAME         |DOB       |ADDRESS                |SBP|TEL             |\n",
      "+-------------+----------+-----------------------+---+----------------+\n",
      "|Juan García  |13/02/1977|711 Nulla St.          |140|673 431234      |\n",
      "|Will Smith   |23/02/1977|1 Green Avenue.        |140|+23 (673) 431234|\n",
      "|Pedro Ximénez|11/04/1900|Calle del Libertador, 7|100|912 345623      |\n",
      "+-------------+----------+-----------------------+---+----------------+\n",
      "\n"
     ]
    }
   ],
   "source": [
    "df = spark.createDataFrame([\n",
    "            [\"Juan García\", \"13/02/1977\", \"711 Nulla St.\", \"140\", \"673 431234\"],\n",
    "            [\"Will Smith\", \"23/02/1977\", \"1 Green Avenue.\", \"140\", \"+23 (673) 431234\"],\n",
    "            [\"Pedro Ximénez\", \"11/04/1900\", \"Calle del Libertador, 7\", \"100\", \"912 345623\"]\n",
    "        ]).toDF(\"NAME\", \"DOB\", \"ADDRESS\", \"SBP\", \"TEL\")\n",
    "df.show(truncate=False)"
   ],
   "id": "iBzoNufMfYCn"
  },
  {
   "cell_type": "code",
   "execution_count": 51,
   "metadata": {
    "id": "Fez0Rqq_fX3C"
   },
   "outputs": [],
   "source": [
    "obfuscator = finance.StructuredDeidentification(spark=spark, \n",
    "                                        columns={\"NAME\": \"ID\", \"DOB\": \"DATE\"},\n",
    "                                        columnsSeed={\"NAME\": 23, \"DOB\": 23},\n",
    "                                        obfuscateRefSource=\"faker\",\n",
    "                                        days=5\n",
    "                                         )"
   ],
   "id": "Fez0Rqq_fX3C"
  },
  {
   "cell_type": "code",
   "execution_count": 52,
   "metadata": {
    "colab": {
     "base_uri": "https://localhost:8080/"
    },
    "id": "HgNuMKhngFq2",
    "outputId": "b1a2caea-6e44-4789-eaaf-e219bb4d8e61"
   },
   "outputs": [
    {
     "output_type": "stream",
     "name": "stdout",
     "text": [
      "+----------+------------+-----------------------+---+----------------+\n",
      "|NAME      |DOB         |ADDRESS                |SBP|TEL             |\n",
      "+----------+------------+-----------------------+---+----------------+\n",
      "|[N2649912]|[18/02/1977]|711 Nulla St.          |140|673 431234      |\n",
      "|[W466004] |[28/02/1977]|1 Green Avenue.        |140|+23 (673) 431234|\n",
      "|[M403810] |[16/04/1900]|Calle del Libertador, 7|100|912 345623      |\n",
      "+----------+------------+-----------------------+---+----------------+\n",
      "\n"
     ]
    }
   ],
   "source": [
    "result = obfuscator.obfuscateColumns(df)\n",
    "result.show(truncate=False)"
   ],
   "id": "HgNuMKhngFq2"
  },
  {
   "cell_type": "markdown",
   "id": "cc5ac615-13af-4149-bf78-96e2d27d9c5f",
   "metadata": {
    "id": "cc5ac615-13af-4149-bf78-96e2d27d9c5f"
   },
   "source": [
    "# Save the Pipeline and Use it from Your Local"
   ]
  },
  {
   "cell_type": "code",
   "execution_count": 53,
   "id": "f54386d7-486c-44e9-9557-954c45d9d493",
   "metadata": {
    "id": "f54386d7-486c-44e9-9557-954c45d9d493"
   },
   "outputs": [],
   "source": [
    "model.write().overwrite().save('pipeline_deid')"
   ]
  },
  {
   "cell_type": "code",
   "execution_count": 54,
   "id": "2a6de84f-d5da-405a-afe6-7d3840dd454d",
   "metadata": {
    "id": "2a6de84f-d5da-405a-afe6-7d3840dd454d"
   },
   "outputs": [],
   "source": [
    "# from sparknlp.pretrained import PretrainedPipeline\n",
    "\n",
    "deid_pipeline = nlp.PretrainedPipeline.from_disk(\"pipeline_deid\")"
   ]
  },
  {
   "cell_type": "code",
   "execution_count": 55,
   "id": "cbd89eeb-f5f5-4639-9ccf-29c2491f4d37",
   "metadata": {
    "id": "cbd89eeb-f5f5-4639-9ccf-29c2491f4d37"
   },
   "outputs": [],
   "source": [
    "data = spark.createDataFrame([[text]]).toDF(\"text\")"
   ]
  },
  {
   "cell_type": "code",
   "execution_count": 56,
   "id": "e78dea29-7a4c-4724-8e2f-93e635c2602e",
   "metadata": {
    "colab": {
     "base_uri": "https://localhost:8080/"
    },
    "id": "e78dea29-7a4c-4724-8e2f-93e635c2602e",
    "outputId": "19a4343e-00a1-4154-9e7f-d1aeb011bedc"
   },
   "outputs": [
    {
     "output_type": "execute_result",
     "data": {
      "text/plain": [
       "[DocumentAssembler_35d6791817ab,\n",
       " SentenceDetector_8692ca893a91,\n",
       " REGEX_TOKENIZER_605adbbbca11,\n",
       " ROBERTA_EMBEDDINGS_b915dff90901,\n",
       " BERT_EMBEDDINGS_29ce72cd673e,\n",
       " MedicalNerModel_7b3b98b32784,\n",
       " NER_CONVERTER_0adc5b0bbbf8,\n",
       " MedicalNerModel_7711a4bfd1fa,\n",
       " NER_CONVERTER_9987eadf5752,\n",
       " MERGE_bb5293dfd612,\n",
       " DE-IDENTIFICATION_3faecd304765]"
      ]
     },
     "metadata": {},
     "execution_count": 56
    }
   ],
   "source": [
    "deid_pipeline.model.stages"
   ]
  },
  {
   "cell_type": "code",
   "execution_count": 57,
   "id": "de7e48e9-4433-40c8-8e88-a5d5a0265bb9",
   "metadata": {
    "colab": {
     "base_uri": "https://localhost:8080/"
    },
    "id": "de7e48e9-4433-40c8-8e88-a5d5a0265bb9",
    "outputId": "13298f2f-7df8-46cd-8bd4-3cbc57113e3e"
   },
   "outputs": [
    {
     "output_type": "stream",
     "name": "stdout",
     "text": [
      "+--------------------+--------------------+--------------------+--------------------+--------------------+--------------------+--------------------+--------------------+--------------------+--------------------+--------------------+--------------------+\n",
      "|                text|            document|            sentence|               token|          embeddings|     bert_embeddings|                 ner|           ner_chunk|          ner_finner|    ner_finner_chunk|   deid_merged_chunk|        deidentified|\n",
      "+--------------------+--------------------+--------------------+--------------------+--------------------+--------------------+--------------------+--------------------+--------------------+--------------------+--------------------+--------------------+\n",
      "|\"By  Mitesh Patel...|[{document, 0, 11...|[{document, 0, 11...|[{token, 0, 0, \",...|[{word_embeddings...|[{word_embeddings...|[{named_entity, 0...|[{chunk, 5, 16, M...|[{named_entity, 0...|[{chunk, 87, 99, ...|[{chunk, 5, 16, M...|[{document, 0, 86...|\n",
      "+--------------------+--------------------+--------------------+--------------------+--------------------+--------------------+--------------------+--------------------+--------------------+--------------------+--------------------+--------------------+\n",
      "\n"
     ]
    }
   ],
   "source": [
    "deid_pipeline.model.transform(data).show()"
   ]
  },
  {
   "cell_type": "markdown",
   "id": "615a3cf3-ae62-40cf-b9b2-a68c8053c908",
   "metadata": {
    "id": "615a3cf3-ae62-40cf-b9b2-a68c8053c908"
   },
   "source": [
    "# Pretrained Deidentification Pipeline\n",
    "\n",
    "We have this pipeline can be used to deidentify financial information from texts.The financial information will be masked and obfuscated in the resulting text. The pipeline can mask and obfuscate `DOC`, `EFFDATE`, `PARTY`, `ALIAS`, `SIGNING_PERSON`, `SIGNING_TITLE`, `COUNTRY`, `CITY`, `STATE`, `STREET`, `ZIP`, `EMAIL`, `FAX`, `LOCATION-OTHER`, `DATE`,`PHONE` entities."
   ]
  },
  {
   "cell_type": "code",
   "execution_count": 58,
   "id": "994c32d7-44e7-4637-9f64-454af9168dab",
   "metadata": {
    "colab": {
     "base_uri": "https://localhost:8080/"
    },
    "id": "994c32d7-44e7-4637-9f64-454af9168dab",
    "outputId": "61a82715-e19a-44d1-9a7c-16b19abf9ca8"
   },
   "outputs": [
    {
     "output_type": "stream",
     "name": "stdout",
     "text": [
      "finpipe_deid download started this may take some time.\n",
      "Approx size to download 900.4 MB\n",
      "[OK!]\n"
     ]
    }
   ],
   "source": [
    "# from sparknlp.pretrained import PretrainedPipeline\n",
    "\n",
    "deid_pipeline = nlp.PretrainedPipeline(\"finpipe_deid\", \"en\", \"finance/models\")\n"
   ]
  },
  {
   "cell_type": "code",
   "execution_count": 59,
   "id": "a09f14d8-54d9-4ed9-a7c4-6074f421020a",
   "metadata": {
    "colab": {
     "base_uri": "https://localhost:8080/"
    },
    "id": "a09f14d8-54d9-4ed9-a7c4-6074f421020a",
    "outputId": "12fb0c30-85c7-4166-8f7e-03c0d8254133"
   },
   "outputs": [
    {
     "output_type": "execute_result",
     "data": {
      "text/plain": [
       "[DocumentAssembler_57ba7ce8bff9,\n",
       " SentenceDetectorDLModel_8aaebf7e098e,\n",
       " REGEX_TOKENIZER_2f265bb3f6b5,\n",
       " ROBERTA_EMBEDDINGS_b915dff90901,\n",
       " BERT_EMBEDDINGS_29ce72cd673e,\n",
       " FinanceNerModel_f714c7246b46,\n",
       " NerConverter_5a5bb98a24c7,\n",
       " FinanceNerModel_2b2f0f671f99,\n",
       " NerConverter_8b80797c7f67,\n",
       " FinanceNerModel_7b3b98b32784,\n",
       " NER_CONVERTER_fb28b23bc35d,\n",
       " FinanceNerModel_419e708135cb,\n",
       " NER_CONVERTER_af60235365b4,\n",
       " CONTEXTUAL-PARSER_85a13a5ff4bd,\n",
       " CONTEXTUAL-PARSER_bf8f02fb6658,\n",
       " REGEX_MATCHER_6199c32417bc,\n",
       " REGEX_MATCHER_2d694c8416b8,\n",
       " MERGE_5b96d578aa9b,\n",
       " DE-IDENTIFICATION_3d3dd57f734a,\n",
       " DE-IDENTIFICATION_471d94c72cd0,\n",
       " DE-IDENTIFICATION_29cac8c6cf56,\n",
       " DE-IDENTIFICATION_407b57c7d657,\n",
       " Finisher_ed29d709e530]"
      ]
     },
     "metadata": {},
     "execution_count": 59
    }
   ],
   "source": [
    "deid_pipeline.model.stages"
   ]
  },
  {
   "cell_type": "code",
   "execution_count": 60,
   "id": "00a6b038-7178-4fe3-b7f6-664bad53ff92",
   "metadata": {
    "id": "00a6b038-7178-4fe3-b7f6-664bad53ff92"
   },
   "outputs": [],
   "source": [
    "text= \"\"\" REPORT PURSUANT TO SECTION 13 OR 15(d) OF THE SECURITIES EXCHANGE ACT OF\n",
    "Commvault Systems, Inc.  \n",
    "(Exact name of registrant as specified in its charter) \n",
    "Signed By : Sherly Johnson\n",
    "(Address of principal executive offices, including zip code) \n",
    "(732) 870-4000\n",
    "(telephone number, including area code) \n",
    "Name of each exchange on which registered\n",
    "CVLT\n",
    "The NASDAQ Stock Market\n",
    "\"\"\""
   ]
  },
  {
   "cell_type": "code",
   "execution_count": 61,
   "id": "bd76c039-f1bb-4839-a2c5-9b5715629700",
   "metadata": {
    "id": "bd76c039-f1bb-4839-a2c5-9b5715629700"
   },
   "outputs": [],
   "source": [
    "deid_res= deid_pipeline.annotate(text)"
   ]
  },
  {
   "cell_type": "code",
   "execution_count": 62,
   "id": "84add88b-9686-4fcc-83fa-6f64465f4aff",
   "metadata": {
    "colab": {
     "base_uri": "https://localhost:8080/"
    },
    "id": "84add88b-9686-4fcc-83fa-6f64465f4aff",
    "outputId": "e90bee2e-e79e-4f46-e84a-d42cee9cff34"
   },
   "outputs": [
    {
     "output_type": "execute_result",
     "data": {
      "text/plain": [
       "dict_keys(['obfuscated', 'deidentified', 'masked_fixed_length_chars', 'deid_merged_chunk', 'sentence', 'masked_with_chars'])"
      ]
     },
     "metadata": {},
     "execution_count": 62
    }
   ],
   "source": [
    "deid_res.keys()"
   ]
  },
  {
   "cell_type": "code",
   "execution_count": 63,
   "id": "9551bf51-c2e4-4d7c-968e-1c75bd43f888",
   "metadata": {
    "colab": {
     "base_uri": "https://localhost:8080/",
     "height": 365
    },
    "id": "9551bf51-c2e4-4d7c-968e-1c75bd43f888",
    "outputId": "d5522348-3ef9-4c56-d3ca-5f527bbac8c6"
   },
   "outputs": [
    {
     "output_type": "execute_result",
     "data": {
      "text/plain": [
       "                                                                                              Sentence  \\\n",
       "0                             REPORT PURSUANT TO SECTION 13 OR 15(d) OF THE SECURITIES EXCHANGE ACT OF   \n",
       "1                    Commvault Systems, Inc.  \\n(Exact name of registrant as specified in its charter)   \n",
       "2                                                                           Signed By : Sherly Johnson   \n",
       "3  (Address of principal executive offices, including zip code) \\n(732) 870-4000\\n(telephone number...   \n",
       "4                                                            Name of each exchange on which registered   \n",
       "5                                                                                                 CVLT   \n",
       "6                                                                              The NASDAQ Stock Market   \n",
       "\n",
       "                                                                                                Masked  \\\n",
       "0                             REPORT PURSUANT TO SECTION 13 OR 15(d) OF THE SECURITIES EXCHANGE ACT OF   \n",
       "1                                    <PARTY>  \\n(Exact name of registrant as specified in its charter)   \n",
       "2                                                                           <PARTY> : <SIGNING_PERSON>   \n",
       "3  (Address of principal executive offices, including zip code) \\n<PHONE>\\n(telephone number, inclu...   \n",
       "4                                                            Name of each exchange on which registered   \n",
       "5                                                                                              <PARTY>   \n",
       "6                                                                                          The <PARTY>   \n",
       "\n",
       "                                                                                     Masked with Chars  \\\n",
       "0                             REPORT PURSUANT TO SECTION 13 OR 15(d) OF THE SECURITIES EXCHANGE ACT OF   \n",
       "1                    [*********************]  \\n(Exact name of registrant as specified in its charter)   \n",
       "2                                                                           [*******] : [************]   \n",
       "3  (Address of principal executive offices, including zip code) \\n[************]\\n(telephone number...   \n",
       "4                                                            Name of each exchange on which registered   \n",
       "5                                                                                                 [**]   \n",
       "6                                                                              The [*****************]   \n",
       "\n",
       "                                                                               Masked with Fixed Chars  \\\n",
       "0                             REPORT PURSUANT TO SECTION 13 OR 15(d) OF THE SECURITIES EXCHANGE ACT OF   \n",
       "1                                       ****  \\n(Exact name of registrant as specified in its charter)   \n",
       "2                                                                                          **** : ****   \n",
       "3  (Address of principal executive offices, including zip code) \\n****\\n(telephone number, includin...   \n",
       "4                                                            Name of each exchange on which registered   \n",
       "5                                                                                                 ****   \n",
       "6                                                                                             The ****   \n",
       "\n",
       "                                                                                            Obfuscated  \n",
       "0                             REPORT PURSUANT TO SECTION 13 OR 15(d) OF THE SECURITIES EXCHANGE ACT OF  \n",
       "1                         John Snow Labs Inc  \\n(Exact name of registrant as specified in its charter)  \n",
       "2                                                                             TURER INC : Dorothy Keen  \n",
       "3  (Address of principal executive offices, including zip code) \\n031460 3797\\n(telephone number, i...  \n",
       "4                                                            Name of each exchange on which registered  \n",
       "5                                                                                            TURER INC  \n",
       "6                                                                                        The TURER INC  "
      ],
      "text/html": [
       "\n",
       "  <div id=\"df-ce701e82-4ffe-4786-a213-69496b3bc14f\">\n",
       "    <div class=\"colab-df-container\">\n",
       "      <div>\n",
       "<style scoped>\n",
       "    .dataframe tbody tr th:only-of-type {\n",
       "        vertical-align: middle;\n",
       "    }\n",
       "\n",
       "    .dataframe tbody tr th {\n",
       "        vertical-align: top;\n",
       "    }\n",
       "\n",
       "    .dataframe thead th {\n",
       "        text-align: right;\n",
       "    }\n",
       "</style>\n",
       "<table border=\"1\" class=\"dataframe\">\n",
       "  <thead>\n",
       "    <tr style=\"text-align: right;\">\n",
       "      <th></th>\n",
       "      <th>Sentence</th>\n",
       "      <th>Masked</th>\n",
       "      <th>Masked with Chars</th>\n",
       "      <th>Masked with Fixed Chars</th>\n",
       "      <th>Obfuscated</th>\n",
       "    </tr>\n",
       "  </thead>\n",
       "  <tbody>\n",
       "    <tr>\n",
       "      <th>0</th>\n",
       "      <td>REPORT PURSUANT TO SECTION 13 OR 15(d) OF THE SECURITIES EXCHANGE ACT OF</td>\n",
       "      <td>REPORT PURSUANT TO SECTION 13 OR 15(d) OF THE SECURITIES EXCHANGE ACT OF</td>\n",
       "      <td>REPORT PURSUANT TO SECTION 13 OR 15(d) OF THE SECURITIES EXCHANGE ACT OF</td>\n",
       "      <td>REPORT PURSUANT TO SECTION 13 OR 15(d) OF THE SECURITIES EXCHANGE ACT OF</td>\n",
       "      <td>REPORT PURSUANT TO SECTION 13 OR 15(d) OF THE SECURITIES EXCHANGE ACT OF</td>\n",
       "    </tr>\n",
       "    <tr>\n",
       "      <th>1</th>\n",
       "      <td>Commvault Systems, Inc.  \\n(Exact name of registrant as specified in its charter)</td>\n",
       "      <td>&lt;PARTY&gt;  \\n(Exact name of registrant as specified in its charter)</td>\n",
       "      <td>[*********************]  \\n(Exact name of registrant as specified in its charter)</td>\n",
       "      <td>****  \\n(Exact name of registrant as specified in its charter)</td>\n",
       "      <td>John Snow Labs Inc  \\n(Exact name of registrant as specified in its charter)</td>\n",
       "    </tr>\n",
       "    <tr>\n",
       "      <th>2</th>\n",
       "      <td>Signed By : Sherly Johnson</td>\n",
       "      <td>&lt;PARTY&gt; : &lt;SIGNING_PERSON&gt;</td>\n",
       "      <td>[*******] : [************]</td>\n",
       "      <td>**** : ****</td>\n",
       "      <td>TURER INC : Dorothy Keen</td>\n",
       "    </tr>\n",
       "    <tr>\n",
       "      <th>3</th>\n",
       "      <td>(Address of principal executive offices, including zip code) \\n(732) 870-4000\\n(telephone number...</td>\n",
       "      <td>(Address of principal executive offices, including zip code) \\n&lt;PHONE&gt;\\n(telephone number, inclu...</td>\n",
       "      <td>(Address of principal executive offices, including zip code) \\n[************]\\n(telephone number...</td>\n",
       "      <td>(Address of principal executive offices, including zip code) \\n****\\n(telephone number, includin...</td>\n",
       "      <td>(Address of principal executive offices, including zip code) \\n031460 3797\\n(telephone number, i...</td>\n",
       "    </tr>\n",
       "    <tr>\n",
       "      <th>4</th>\n",
       "      <td>Name of each exchange on which registered</td>\n",
       "      <td>Name of each exchange on which registered</td>\n",
       "      <td>Name of each exchange on which registered</td>\n",
       "      <td>Name of each exchange on which registered</td>\n",
       "      <td>Name of each exchange on which registered</td>\n",
       "    </tr>\n",
       "    <tr>\n",
       "      <th>5</th>\n",
       "      <td>CVLT</td>\n",
       "      <td>&lt;PARTY&gt;</td>\n",
       "      <td>[**]</td>\n",
       "      <td>****</td>\n",
       "      <td>TURER INC</td>\n",
       "    </tr>\n",
       "    <tr>\n",
       "      <th>6</th>\n",
       "      <td>The NASDAQ Stock Market</td>\n",
       "      <td>The &lt;PARTY&gt;</td>\n",
       "      <td>The [*****************]</td>\n",
       "      <td>The ****</td>\n",
       "      <td>The TURER INC</td>\n",
       "    </tr>\n",
       "  </tbody>\n",
       "</table>\n",
       "</div>\n",
       "      <button class=\"colab-df-convert\" onclick=\"convertToInteractive('df-ce701e82-4ffe-4786-a213-69496b3bc14f')\"\n",
       "              title=\"Convert this dataframe to an interactive table.\"\n",
       "              style=\"display:none;\">\n",
       "        \n",
       "  <svg xmlns=\"http://www.w3.org/2000/svg\" height=\"24px\"viewBox=\"0 0 24 24\"\n",
       "       width=\"24px\">\n",
       "    <path d=\"M0 0h24v24H0V0z\" fill=\"none\"/>\n",
       "    <path d=\"M18.56 5.44l.94 2.06.94-2.06 2.06-.94-2.06-.94-.94-2.06-.94 2.06-2.06.94zm-11 1L8.5 8.5l.94-2.06 2.06-.94-2.06-.94L8.5 2.5l-.94 2.06-2.06.94zm10 10l.94 2.06.94-2.06 2.06-.94-2.06-.94-.94-2.06-.94 2.06-2.06.94z\"/><path d=\"M17.41 7.96l-1.37-1.37c-.4-.4-.92-.59-1.43-.59-.52 0-1.04.2-1.43.59L10.3 9.45l-7.72 7.72c-.78.78-.78 2.05 0 2.83L4 21.41c.39.39.9.59 1.41.59.51 0 1.02-.2 1.41-.59l7.78-7.78 2.81-2.81c.8-.78.8-2.07 0-2.86zM5.41 20L4 18.59l7.72-7.72 1.47 1.35L5.41 20z\"/>\n",
       "  </svg>\n",
       "      </button>\n",
       "      \n",
       "  <style>\n",
       "    .colab-df-container {\n",
       "      display:flex;\n",
       "      flex-wrap:wrap;\n",
       "      gap: 12px;\n",
       "    }\n",
       "\n",
       "    .colab-df-convert {\n",
       "      background-color: #E8F0FE;\n",
       "      border: none;\n",
       "      border-radius: 50%;\n",
       "      cursor: pointer;\n",
       "      display: none;\n",
       "      fill: #1967D2;\n",
       "      height: 32px;\n",
       "      padding: 0 0 0 0;\n",
       "      width: 32px;\n",
       "    }\n",
       "\n",
       "    .colab-df-convert:hover {\n",
       "      background-color: #E2EBFA;\n",
       "      box-shadow: 0px 1px 2px rgba(60, 64, 67, 0.3), 0px 1px 3px 1px rgba(60, 64, 67, 0.15);\n",
       "      fill: #174EA6;\n",
       "    }\n",
       "\n",
       "    [theme=dark] .colab-df-convert {\n",
       "      background-color: #3B4455;\n",
       "      fill: #D2E3FC;\n",
       "    }\n",
       "\n",
       "    [theme=dark] .colab-df-convert:hover {\n",
       "      background-color: #434B5C;\n",
       "      box-shadow: 0px 1px 3px 1px rgba(0, 0, 0, 0.15);\n",
       "      filter: drop-shadow(0px 1px 2px rgba(0, 0, 0, 0.3));\n",
       "      fill: #FFFFFF;\n",
       "    }\n",
       "  </style>\n",
       "\n",
       "      <script>\n",
       "        const buttonEl =\n",
       "          document.querySelector('#df-ce701e82-4ffe-4786-a213-69496b3bc14f button.colab-df-convert');\n",
       "        buttonEl.style.display =\n",
       "          google.colab.kernel.accessAllowed ? 'block' : 'none';\n",
       "\n",
       "        async function convertToInteractive(key) {\n",
       "          const element = document.querySelector('#df-ce701e82-4ffe-4786-a213-69496b3bc14f');\n",
       "          const dataTable =\n",
       "            await google.colab.kernel.invokeFunction('convertToInteractive',\n",
       "                                                     [key], {});\n",
       "          if (!dataTable) return;\n",
       "\n",
       "          const docLinkHtml = 'Like what you see? Visit the ' +\n",
       "            '<a target=\"_blank\" href=https://colab.research.google.com/notebooks/data_table.ipynb>data table notebook</a>'\n",
       "            + ' to learn more about interactive tables.';\n",
       "          element.innerHTML = '';\n",
       "          dataTable['output_type'] = 'display_data';\n",
       "          await google.colab.output.renderOutput(dataTable, element);\n",
       "          const docLink = document.createElement('div');\n",
       "          docLink.innerHTML = docLinkHtml;\n",
       "          element.appendChild(docLink);\n",
       "        }\n",
       "      </script>\n",
       "    </div>\n",
       "  </div>\n",
       "  "
      ]
     },
     "metadata": {},
     "execution_count": 63
    }
   ],
   "source": [
    "import pandas as pd\n",
    "\n",
    "pd.set_option(\"display.max_colwidth\", 100)\n",
    "\n",
    "df= pd.DataFrame(list(zip(deid_res[\"sentence\"], \n",
    "                          deid_res[\"deidentified\"],\n",
    "                          deid_res[\"masked_with_chars\"],\n",
    "                          deid_res[\"masked_fixed_length_chars\"], \n",
    "                          deid_res[\"obfuscated\"])),\n",
    "                 columns= [\"Sentence\", \"Masked\", \"Masked with Chars\", \"Masked with Fixed Chars\", \"Obfuscated\"])\n",
    "\n",
    "df"
   ]
  },
  {
   "cell_type": "code",
   "source": [],
   "metadata": {
    "id": "H4FsbEuoCKg6"
   },
   "id": "H4FsbEuoCKg6",
   "execution_count": 63,
   "outputs": []
  }
 ],
 "metadata": {
  "accelerator": "TPU",
  "colab": {
   "machine_shape": "hm",
   "provenance": []
  },
  "gpuClass": "standard",
  "kernelspec": {
   "display_name": "Python 3.9.5 64-bit",
   "language": "python",
   "name": "python3"
  },
  "language_info": {
   "codemirror_mode": {
    "name": "ipython",
    "version": 3
   },
   "file_extension": ".py",
   "mimetype": "text/x-python",
   "name": "python",
   "nbconvert_exporter": "python",
   "pygments_lexer": "ipython3",
   "version": "3.9.5"
  },
  "vscode": {
   "interpreter": {
    "hash": "ca1c4b8877e01dec1d65bc94ac0771fb7b4e7d433b24c0ced0afdc05f796f65d"
   }
  }
 },
 "nbformat": 4,
 "nbformat_minor": 5
}
